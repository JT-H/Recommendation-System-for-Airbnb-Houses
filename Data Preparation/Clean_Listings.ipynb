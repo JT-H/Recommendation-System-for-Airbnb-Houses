{
  "nbformat": 4,
  "nbformat_minor": 0,
  "metadata": {
    "colab": {
      "name": "Clean Listings.ipynb",
      "provenance": []
    },
    "kernelspec": {
      "display_name": "Python 3",
      "language": "python",
      "name": "python3"
    },
    "language_info": {
      "codemirror_mode": {
        "name": "ipython",
        "version": 3
      },
      "file_extension": ".py",
      "mimetype": "text/x-python",
      "name": "python",
      "nbconvert_exporter": "python",
      "pygments_lexer": "ipython3",
      "version": "3.8.2"
    }
  },
  "cells": [
    {
      "cell_type": "code",
      "metadata": {
        "id": "RHsuB-_qqfjM"
      },
      "source": [
        "import pandas as pd\n",
        "from pandas import Series,DataFrame\n",
        "import numpy as np"
      ],
      "execution_count": null,
      "outputs": []
    },
    {
      "cell_type": "code",
      "metadata": {
        "id": "8lwnhy2rqfjN"
      },
      "source": [
        "url_front = 'http://data.insideairbnb.com/singapore/sg/singapore/'\n",
        "url_end = '/data/listings.csv.gz'"
      ],
      "execution_count": null,
      "outputs": []
    },
    {
      "cell_type": "markdown",
      "metadata": {
        "id": "0Z7MADKjqfjP"
      },
      "source": [
        "# Clean Listings"
      ]
    },
    {
      "cell_type": "code",
      "metadata": {
        "id": "TNRskD9XqfjQ"
      },
      "source": [
        "dates = ['2019-03-18', '2019-04-20', '2019-05-23', '2019-06-25', '2019-07-21', '2019-08-28', '2019-09-25', '2019-10-25', '2019-11-26', '2019-12-28',\n",
        "         '2020-01-26', '2020-02-27', '2020-03-21', '2020-04-26', '2020-05-27', '2020-06-22', '2020-10-26', '2020-11-27', '2020-12-29','2021-01-27']"
      ],
      "execution_count": null,
      "outputs": []
    },
    {
      "cell_type": "code",
      "metadata": {
        "id": "f9bSOg54qfjR"
      },
      "source": [
        "listings = []"
      ],
      "execution_count": null,
      "outputs": []
    },
    {
      "cell_type": "code",
      "metadata": {
        "colab": {
          "base_uri": "https://localhost:8080/"
        },
        "id": "aZy-qfZFqfjS",
        "outputId": "a8a3d420-a96e-4ed3-8eee-77275d57ba11"
      },
      "source": [
        "for date in dates:\n",
        "    # print(date)\n",
        "    listing = pd.read_csv(url_front+date+url_end)\n",
        "    listings.append(listing)"
      ],
      "execution_count": null,
      "outputs": [
        {
          "output_type": "stream",
          "text": [
            "/Library/Frameworks/Python.framework/Versions/3.8/lib/python3.8/site-packages/IPython/core/interactiveshell.py:3145: DtypeWarning: Columns (42,43,61,62,94,95) have mixed types. Specify dtype option on import or set low_memory=False.\n",
            "  has_raised = await self.run_ast_nodes(code_ast.body, cell_name,\n"
          ],
          "name": "stderr"
        }
      ]
    },
    {
      "cell_type": "code",
      "metadata": {
        "id": "gdgrSYwNZJC8"
      },
      "source": [
        "short = listings[0].columns.values\n",
        "long = listings[-1].columns.values\n",
        "keep = [x for x in long if x in short]"
      ],
      "execution_count": null,
      "outputs": []
    },
    {
      "cell_type": "code",
      "metadata": {
        "id": "ftWIE2ONZJC8",
        "outputId": "0d1678a3-9103-4815-86a3-1ad14881090a"
      },
      "source": [
        "keep"
      ],
      "execution_count": null,
      "outputs": [
        {
          "output_type": "execute_result",
          "data": {
            "text/plain": [
              "['id',\n",
              " 'listing_url',\n",
              " 'scrape_id',\n",
              " 'last_scraped',\n",
              " 'name',\n",
              " 'description',\n",
              " 'neighborhood_overview',\n",
              " 'picture_url',\n",
              " 'host_id',\n",
              " 'host_url',\n",
              " 'host_name',\n",
              " 'host_since',\n",
              " 'host_location',\n",
              " 'host_about',\n",
              " 'host_response_time',\n",
              " 'host_response_rate',\n",
              " 'host_acceptance_rate',\n",
              " 'host_is_superhost',\n",
              " 'host_thumbnail_url',\n",
              " 'host_picture_url',\n",
              " 'host_neighbourhood',\n",
              " 'host_listings_count',\n",
              " 'host_total_listings_count',\n",
              " 'host_verifications',\n",
              " 'host_has_profile_pic',\n",
              " 'host_identity_verified',\n",
              " 'neighbourhood',\n",
              " 'neighbourhood_cleansed',\n",
              " 'neighbourhood_group_cleansed',\n",
              " 'latitude',\n",
              " 'longitude',\n",
              " 'property_type',\n",
              " 'room_type',\n",
              " 'accommodates',\n",
              " 'bathrooms',\n",
              " 'bedrooms',\n",
              " 'beds',\n",
              " 'amenities',\n",
              " 'price',\n",
              " 'minimum_nights',\n",
              " 'maximum_nights',\n",
              " 'minimum_minimum_nights',\n",
              " 'maximum_minimum_nights',\n",
              " 'minimum_maximum_nights',\n",
              " 'maximum_maximum_nights',\n",
              " 'minimum_nights_avg_ntm',\n",
              " 'maximum_nights_avg_ntm',\n",
              " 'calendar_updated',\n",
              " 'has_availability',\n",
              " 'availability_30',\n",
              " 'availability_60',\n",
              " 'availability_90',\n",
              " 'availability_365',\n",
              " 'calendar_last_scraped',\n",
              " 'number_of_reviews',\n",
              " 'number_of_reviews_ltm',\n",
              " 'first_review',\n",
              " 'last_review',\n",
              " 'review_scores_rating',\n",
              " 'review_scores_accuracy',\n",
              " 'review_scores_cleanliness',\n",
              " 'review_scores_checkin',\n",
              " 'review_scores_communication',\n",
              " 'review_scores_location',\n",
              " 'review_scores_value',\n",
              " 'license',\n",
              " 'instant_bookable',\n",
              " 'calculated_host_listings_count',\n",
              " 'calculated_host_listings_count_entire_homes',\n",
              " 'calculated_host_listings_count_private_rooms',\n",
              " 'calculated_host_listings_count_shared_rooms',\n",
              " 'reviews_per_month']"
            ]
          },
          "metadata": {
            "tags": []
          },
          "execution_count": 11
        }
      ]
    },
    {
      "cell_type": "code",
      "metadata": {
        "id": "nRZw3BF5qfjS"
      },
      "source": [
        "listings_full = listings[0][keep]\n",
        "for i in range(1, 19):\n",
        "    listings_full = pd.concat([listings_full, listings[i][keep]])"
      ],
      "execution_count": null,
      "outputs": []
    },
    {
      "cell_type": "code",
      "metadata": {
        "id": "ctiSs0GGZJC9"
      },
      "source": [
        "delete_col = ['listing_url',\n",
        " 'scrape_id',\n",
        " 'last_scraped',\n",
        " 'picture_url',\n",
        " 'host_url',\n",
        " 'host_name',\n",
        " 'host_location',\n",
        " 'host_acceptance_rate',\n",
        " 'host_thumbnail_url',\n",
        " 'host_picture_url',\n",
        " 'host_listings_count',\n",
        " 'host_total_listings_count',\n",
        " 'neighbourhood',\n",
        " 'has_availability',\n",
        " 'calendar_last_scraped',\n",
        " 'first_review',\n",
        " 'last_review',\n",
        " 'license',\n",
        " 'calculated_host_listings_count_entire_homes',\n",
        " 'calculated_host_listings_count_private_rooms',\n",
        " 'calculated_host_listings_count_shared_rooms']"
      ],
      "execution_count": null,
      "outputs": []
    },
    {
      "cell_type": "code",
      "metadata": {
        "id": "yLpMJ7N9ZJC9"
      },
      "source": [
        "listings_cleaned = listings_full.drop(columns = delete_col)"
      ],
      "execution_count": null,
      "outputs": []
    },
    {
      "cell_type": "code",
      "metadata": {
        "id": "PcFZ3D0zqfjS"
      },
      "source": [
        "listings_cleaned = listings_cleaned.drop_duplicates()\n",
        "listings_cleaned = listings_cleaned.reset_index().drop(columns = ['index'])"
      ],
      "execution_count": null,
      "outputs": []
    },
    {
      "cell_type": "code",
      "metadata": {
        "colab": {
          "base_uri": "https://localhost:8080/"
        },
        "id": "EcReNbN7sr2n",
        "outputId": "77552de4-a2d7-4901-a973-f829f56e5ba6"
      },
      "source": [
        "listings_cleaned.shape"
      ],
      "execution_count": null,
      "outputs": [
        {
          "output_type": "execute_result",
          "data": {
            "text/plain": [
              "(138263, 51)"
            ]
          },
          "metadata": {
            "tags": []
          },
          "execution_count": 18
        }
      ]
    },
    {
      "cell_type": "code",
      "metadata": {
        "id": "C56NlWXXqfjU"
      },
      "source": [
        "listings_cleaned.to_csv('../Datasets/listings_cleaned.csv', index = False)"
      ],
      "execution_count": null,
      "outputs": []
    }
  ]
}