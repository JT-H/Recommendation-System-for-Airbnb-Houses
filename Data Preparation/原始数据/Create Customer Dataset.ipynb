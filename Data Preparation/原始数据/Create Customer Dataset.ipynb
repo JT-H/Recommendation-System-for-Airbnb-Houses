{
 "cells": [
  {
   "cell_type": "code",
   "execution_count": 1,
   "metadata": {
    "id": "jF4bRUQ7ZyQv"
   },
   "outputs": [],
   "source": [
    "import pandas as pd\n",
    "from pandas import Series,DataFrame\n",
    "import numpy as np"
   ]
  },
  {
   "cell_type": "code",
   "execution_count": 2,
   "metadata": {
    "id": "7dxdQRL_ZyQ8"
   },
   "outputs": [],
   "source": [
    "url_front = 'http://data.insideairbnb.com/singapore/sg/singapore/'\n",
    "url_end_listings = '/data/listings.csv.gz'\n",
    "url_end_reviews = '/data/reviews.csv.gz'"
   ]
  },
  {
   "cell_type": "markdown",
   "metadata": {
    "id": "GtQVlNRFZyQ8"
   },
   "source": [
    "# Combine Data"
   ]
  },
  {
   "cell_type": "code",
   "execution_count": 3,
   "metadata": {
    "id": "FCkUXcJOZyQ8"
   },
   "outputs": [],
   "source": [
    "dates = ['2019-03-18', '2019-04-20', '2019-05-23', '2019-06-25', '2019-07-21', '2019-08-28', '2019-09-25', '2019-10-25', '2019-11-26', '2019-12-28',\n",
    "         '2020-01-26', '2020-02-27', '2020-03-21', '2020-04-26', '2020-05-27', '2020-06-22', '2020-10-26', '2020-11-27', '2020-12-29','2021-01-27']"
   ]
  },
  {
   "cell_type": "code",
   "execution_count": 4,
   "metadata": {
    "id": "iQqfzLIEZyQ9"
   },
   "outputs": [],
   "source": [
    "# Keep common features across all months (from Oct, 2020 onwards some more features were added)\n",
    "listings_2019_03 = pd.read_csv(url_front+'2019-03-18'+url_end_listings)\n",
    "listings_2020_10 = pd.read_csv(url_front+'2020-10-26'+url_end_listings)"
   ]
  },
  {
   "cell_type": "code",
   "execution_count": 5,
   "metadata": {
    "id": "u8oHeSrdZyQ9"
   },
   "outputs": [],
   "source": [
    "long_features = listings_2019_03.columns.values\n",
    "short_features = listings_2020_10.columns.values\n",
    "keep = [x for x in long_features if x in short_features]"
   ]
  },
  {
   "cell_type": "code",
   "execution_count": 6,
   "metadata": {
    "colab": {
     "base_uri": "https://localhost:8080/"
    },
    "id": "0HImHP6tZyQ9",
    "outputId": "a180bcd6-cb32-4388-fef1-ae11c4a608fc",
    "scrolled": true
   },
   "outputs": [
    {
     "data": {
      "text/plain": [
       "['id',\n",
       " 'listing_url',\n",
       " 'scrape_id',\n",
       " 'last_scraped',\n",
       " 'name',\n",
       " 'description',\n",
       " 'neighborhood_overview',\n",
       " 'picture_url',\n",
       " 'host_id',\n",
       " 'host_url',\n",
       " 'host_name',\n",
       " 'host_since',\n",
       " 'host_location',\n",
       " 'host_about',\n",
       " 'host_response_time',\n",
       " 'host_response_rate',\n",
       " 'host_acceptance_rate',\n",
       " 'host_is_superhost',\n",
       " 'host_thumbnail_url',\n",
       " 'host_picture_url',\n",
       " 'host_neighbourhood',\n",
       " 'host_listings_count',\n",
       " 'host_total_listings_count',\n",
       " 'host_verifications',\n",
       " 'host_has_profile_pic',\n",
       " 'host_identity_verified',\n",
       " 'neighbourhood',\n",
       " 'neighbourhood_cleansed',\n",
       " 'neighbourhood_group_cleansed',\n",
       " 'latitude',\n",
       " 'longitude',\n",
       " 'property_type',\n",
       " 'room_type',\n",
       " 'accommodates',\n",
       " 'bathrooms',\n",
       " 'bedrooms',\n",
       " 'beds',\n",
       " 'amenities',\n",
       " 'price',\n",
       " 'minimum_nights',\n",
       " 'maximum_nights',\n",
       " 'minimum_minimum_nights',\n",
       " 'maximum_minimum_nights',\n",
       " 'minimum_maximum_nights',\n",
       " 'maximum_maximum_nights',\n",
       " 'minimum_nights_avg_ntm',\n",
       " 'maximum_nights_avg_ntm',\n",
       " 'calendar_updated',\n",
       " 'has_availability',\n",
       " 'availability_30',\n",
       " 'availability_60',\n",
       " 'availability_90',\n",
       " 'availability_365',\n",
       " 'calendar_last_scraped',\n",
       " 'number_of_reviews',\n",
       " 'number_of_reviews_ltm',\n",
       " 'first_review',\n",
       " 'last_review',\n",
       " 'review_scores_rating',\n",
       " 'review_scores_accuracy',\n",
       " 'review_scores_cleanliness',\n",
       " 'review_scores_checkin',\n",
       " 'review_scores_communication',\n",
       " 'review_scores_location',\n",
       " 'review_scores_value',\n",
       " 'license',\n",
       " 'instant_bookable',\n",
       " 'calculated_host_listings_count',\n",
       " 'calculated_host_listings_count_entire_homes',\n",
       " 'calculated_host_listings_count_private_rooms',\n",
       " 'calculated_host_listings_count_shared_rooms',\n",
       " 'reviews_per_month']"
      ]
     },
     "execution_count": 6,
     "metadata": {},
     "output_type": "execute_result"
    }
   ],
   "source": [
    "keep"
   ]
  },
  {
   "cell_type": "code",
   "execution_count": 7,
   "metadata": {
    "id": "4nD0AHWEZyQ-"
   },
   "outputs": [],
   "source": [
    "delete_col = ['listing_url',\n",
    " 'scrape_id',\n",
    " 'last_scraped',\n",
    " 'picture_url',\n",
    " 'host_url',\n",
    " 'host_name',\n",
    " 'host_location',\n",
    " 'host_acceptance_rate',\n",
    " 'host_thumbnail_url',\n",
    " 'host_picture_url',\n",
    " 'host_listings_count',\n",
    " 'host_total_listings_count',\n",
    " 'neighbourhood',\n",
    " 'has_availability',\n",
    " 'calendar_last_scraped',\n",
    " 'first_review',\n",
    " 'last_review',\n",
    " 'license',\n",
    " 'calculated_host_listings_count_entire_homes',\n",
    " 'calculated_host_listings_count_private_rooms',\n",
    " 'calculated_host_listings_count_shared_rooms']"
   ]
  },
  {
   "cell_type": "code",
   "execution_count": 8,
   "metadata": {
    "id": "QzaColN5ZyQ_"
   },
   "outputs": [],
   "source": [
    "def read_dataset(date):\n",
    "    reviews = pd.read_csv(url_front+date+url_end_reviews).drop(columns = ['id'])\n",
    "    listings = pd.read_csv(url_front+date+url_end_listings)[keep].drop(columns = delete_col) \n",
    "\n",
    "    return reviews, listings"
   ]
  },
  {
   "cell_type": "code",
   "execution_count": 9,
   "metadata": {
    "id": "dHL2ZpabZyQ_"
   },
   "outputs": [],
   "source": [
    "def anti_join(x, y, date, on):\n",
    "    # Find comments for new listings.\n",
    "    merged = pd.merge(left=x, right=y, how='left', indicator=True, on=on)\n",
    "    left_only = merged.loc[merged._merge == 'left_only', :].drop(columns='_merge')\n",
    "    ans_1 = left_only.drop(\n",
    "        columns = ['date_y', 'reviewer_id_y', 'reviewer_name_y','comments_y']).rename(\n",
    "        columns = lambda x: x.replace('_x', ''))\n",
    "    \n",
    "    # Find new comments for existing listings.\n",
    "    left_right = merged.loc[(merged._merge == 'both') & (merged.date_x >= date), :].drop(columns='_merge')\n",
    "    ans_2 = left_right.drop(\n",
    "        columns = ['date_y', 'reviewer_id_y', 'reviewer_name_y','comments_y']).rename(\n",
    "        columns = lambda x: x.replace('_x', ''))\n",
    "    \n",
    "    ans = pd.concat([ans_1,ans_2]).drop_duplicates()\n",
    "    return ans"
   ]
  },
  {
   "cell_type": "code",
   "execution_count": 10,
   "metadata": {
    "id": "r7IrAAcMZyQ_"
   },
   "outputs": [],
   "source": [
    "reviews, listings = read_dataset(dates[0])\n",
    "data = pd.merge(reviews, listings, left_on = 'listing_id', right_on = 'id', how = 'left').drop(columns = 'id')   "
   ]
  },
  {
   "cell_type": "code",
   "execution_count": 11,
   "metadata": {
    "colab": {
     "base_uri": "https://localhost:8080/"
    },
    "id": "JWQ3vkcvZyQ_",
    "outputId": "667b5b5a-7e22-4da5-c477-dfa7a96f0628",
    "scrolled": true
   },
   "outputs": [
    {
     "name": "stdout",
     "output_type": "stream",
     "text": [
      "finish 1\n"
     ]
    },
    {
     "name": "stderr",
     "output_type": "stream",
     "text": [
      "/Library/Frameworks/Python.framework/Versions/3.8/lib/python3.8/site-packages/IPython/core/interactiveshell.py:3337: DtypeWarning: Columns (42,43,61,62,94,95) have mixed types.Specify dtype option on import or set low_memory=False.\n",
      "  if (await self.run_code(code, result,  async_=asy)):\n"
     ]
    },
    {
     "name": "stdout",
     "output_type": "stream",
     "text": [
      "finish 2\n",
      "finish 3\n",
      "finish 4\n",
      "finish 5\n",
      "finish 6\n",
      "finish 7\n",
      "finish 8\n",
      "finish 9\n",
      "finish 10\n",
      "finish 11\n",
      "finish 12\n",
      "finish 13\n",
      "finish 14\n",
      "finish 15\n",
      "finish 16\n",
      "finish 17\n",
      "finish 18\n"
     ]
    }
   ],
   "source": [
    "for i in range (1, 20):\n",
    "    date = dates[i]\n",
    "    this_review, this_listings = read_dataset(date)\n",
    "    new_review = anti_join(this_review, reviews, dates[i-1], 'listing_id')\n",
    "    new_review = new_review.drop_duplicates()\n",
    "    new_data = pd.merge(new_review, this_listings, left_on = 'listing_id', right_on = 'id', how = 'left').drop(columns = 'id') \n",
    "    \n",
    "    # concat the data \n",
    "    reviews = pd.concat([reviews, new_review]).drop_duplicates()\n",
    "    data = pd.concat([data, new_data]).drop_duplicates()\n",
    "    \n",
    "    print('finish', i)"
   ]
  },
  {
   "cell_type": "code",
   "execution_count": 16,
   "metadata": {
    "colab": {
     "base_uri": "https://localhost:8080/"
    },
    "id": "kPEZr-2sZyRA",
    "outputId": "50034986-f3ef-419f-bc1d-c1208567236f"
   },
   "outputs": [
    {
     "data": {
      "text/plain": [
       "False    155521\n",
       "True        176\n",
       "Name: comments, dtype: int64"
      ]
     },
     "execution_count": 16,
     "metadata": {},
     "output_type": "execute_result"
    }
   ],
   "source": [
    "data.comments.isna().value_counts()"
   ]
  },
  {
   "cell_type": "code",
   "execution_count": 19,
   "metadata": {
    "colab": {
     "base_uri": "https://localhost:8080/",
     "height": 564
    },
    "id": "I9nqb0w8ZyRA",
    "outputId": "6b9143f1-5c86-4f42-b115-3fb49495dcce",
    "scrolled": true
   },
   "outputs": [
    {
     "data": {
      "text/html": [
       "<div>\n",
       "<style scoped>\n",
       "    .dataframe tbody tr th:only-of-type {\n",
       "        vertical-align: middle;\n",
       "    }\n",
       "\n",
       "    .dataframe tbody tr th {\n",
       "        vertical-align: top;\n",
       "    }\n",
       "\n",
       "    .dataframe thead th {\n",
       "        text-align: right;\n",
       "    }\n",
       "</style>\n",
       "<table border=\"1\" class=\"dataframe\">\n",
       "  <thead>\n",
       "    <tr style=\"text-align: right;\">\n",
       "      <th></th>\n",
       "      <th>reviewer_id</th>\n",
       "      <th>listing_id</th>\n",
       "      <th>date</th>\n",
       "      <th>reviewer_name</th>\n",
       "      <th>comments</th>\n",
       "      <th>name</th>\n",
       "      <th>description</th>\n",
       "      <th>neighborhood_overview</th>\n",
       "      <th>host_id</th>\n",
       "      <th>host_since</th>\n",
       "      <th>...</th>\n",
       "      <th>review_scores_rating</th>\n",
       "      <th>review_scores_accuracy</th>\n",
       "      <th>review_scores_cleanliness</th>\n",
       "      <th>review_scores_checkin</th>\n",
       "      <th>review_scores_communication</th>\n",
       "      <th>review_scores_location</th>\n",
       "      <th>review_scores_value</th>\n",
       "      <th>instant_bookable</th>\n",
       "      <th>calculated_host_listings_count</th>\n",
       "      <th>reviews_per_month</th>\n",
       "    </tr>\n",
       "  </thead>\n",
       "  <tbody>\n",
       "    <tr>\n",
       "      <th>0</th>\n",
       "      <td>8557223</td>\n",
       "      <td>49091</td>\n",
       "      <td>2013-10-21</td>\n",
       "      <td>Jared</td>\n",
       "      <td>Fran was absolutely gracious and welcoming. Ma...</td>\n",
       "      <td>COZICOMFORT LONG TERM STAY ROOM 2</td>\n",
       "      <td>This is Room No. 2.(available after Jan 15 201...</td>\n",
       "      <td>NaN</td>\n",
       "      <td>266763</td>\n",
       "      <td>2010-10-20</td>\n",
       "      <td>...</td>\n",
       "      <td>94.0</td>\n",
       "      <td>10.0</td>\n",
       "      <td>10.0</td>\n",
       "      <td>10.0</td>\n",
       "      <td>10.0</td>\n",
       "      <td>8.0</td>\n",
       "      <td>8.0</td>\n",
       "      <td>f</td>\n",
       "      <td>2</td>\n",
       "      <td>0.02</td>\n",
       "    </tr>\n",
       "    <tr>\n",
       "      <th>1</th>\n",
       "      <td>1356099</td>\n",
       "      <td>50646</td>\n",
       "      <td>2014-04-18</td>\n",
       "      <td>James</td>\n",
       "      <td>A comfortable room in a smart condo developmen...</td>\n",
       "      <td>Pleasant Room along Bukit Timah</td>\n",
       "      <td>Fully furnished bedroom with a nice view on th...</td>\n",
       "      <td>The serenity &amp; quiet surrounding makes it an i...</td>\n",
       "      <td>227796</td>\n",
       "      <td>2010-09-08</td>\n",
       "      <td>...</td>\n",
       "      <td>91.0</td>\n",
       "      <td>9.0</td>\n",
       "      <td>10.0</td>\n",
       "      <td>10.0</td>\n",
       "      <td>10.0</td>\n",
       "      <td>9.0</td>\n",
       "      <td>9.0</td>\n",
       "      <td>f</td>\n",
       "      <td>1</td>\n",
       "      <td>0.30</td>\n",
       "    </tr>\n",
       "    <tr>\n",
       "      <th>2</th>\n",
       "      <td>15222393</td>\n",
       "      <td>50646</td>\n",
       "      <td>2014-06-05</td>\n",
       "      <td>Welli</td>\n",
       "      <td>Stayed over at Sujatha's house for 3 good nigh...</td>\n",
       "      <td>Pleasant Room along Bukit Timah</td>\n",
       "      <td>Fully furnished bedroom with a nice view on th...</td>\n",
       "      <td>The serenity &amp; quiet surrounding makes it an i...</td>\n",
       "      <td>227796</td>\n",
       "      <td>2010-09-08</td>\n",
       "      <td>...</td>\n",
       "      <td>91.0</td>\n",
       "      <td>9.0</td>\n",
       "      <td>10.0</td>\n",
       "      <td>10.0</td>\n",
       "      <td>10.0</td>\n",
       "      <td>9.0</td>\n",
       "      <td>9.0</td>\n",
       "      <td>f</td>\n",
       "      <td>1</td>\n",
       "      <td>0.30</td>\n",
       "    </tr>\n",
       "    <tr>\n",
       "      <th>3</th>\n",
       "      <td>5543172</td>\n",
       "      <td>50646</td>\n",
       "      <td>2014-07-02</td>\n",
       "      <td>Cyril</td>\n",
       "      <td>It's been a lovely stay at Sujatha's. The room...</td>\n",
       "      <td>Pleasant Room along Bukit Timah</td>\n",
       "      <td>Fully furnished bedroom with a nice view on th...</td>\n",
       "      <td>The serenity &amp; quiet surrounding makes it an i...</td>\n",
       "      <td>227796</td>\n",
       "      <td>2010-09-08</td>\n",
       "      <td>...</td>\n",
       "      <td>91.0</td>\n",
       "      <td>9.0</td>\n",
       "      <td>10.0</td>\n",
       "      <td>10.0</td>\n",
       "      <td>10.0</td>\n",
       "      <td>9.0</td>\n",
       "      <td>9.0</td>\n",
       "      <td>f</td>\n",
       "      <td>1</td>\n",
       "      <td>0.30</td>\n",
       "    </tr>\n",
       "    <tr>\n",
       "      <th>4</th>\n",
       "      <td>817532</td>\n",
       "      <td>50646</td>\n",
       "      <td>2014-07-08</td>\n",
       "      <td>Jake</td>\n",
       "      <td>We had a great experience. A nice place, an am...</td>\n",
       "      <td>Pleasant Room along Bukit Timah</td>\n",
       "      <td>Fully furnished bedroom with a nice view on th...</td>\n",
       "      <td>The serenity &amp; quiet surrounding makes it an i...</td>\n",
       "      <td>227796</td>\n",
       "      <td>2010-09-08</td>\n",
       "      <td>...</td>\n",
       "      <td>91.0</td>\n",
       "      <td>9.0</td>\n",
       "      <td>10.0</td>\n",
       "      <td>10.0</td>\n",
       "      <td>10.0</td>\n",
       "      <td>9.0</td>\n",
       "      <td>9.0</td>\n",
       "      <td>f</td>\n",
       "      <td>1</td>\n",
       "      <td>0.30</td>\n",
       "    </tr>\n",
       "  </tbody>\n",
       "</table>\n",
       "<p>5 rows × 55 columns</p>\n",
       "</div>"
      ],
      "text/plain": [
       "   reviewer_id  listing_id        date reviewer_name  \\\n",
       "0      8557223       49091  2013-10-21         Jared   \n",
       "1      1356099       50646  2014-04-18         James   \n",
       "2     15222393       50646  2014-06-05         Welli   \n",
       "3      5543172       50646  2014-07-02         Cyril   \n",
       "4       817532       50646  2014-07-08          Jake   \n",
       "\n",
       "                                            comments  \\\n",
       "0  Fran was absolutely gracious and welcoming. Ma...   \n",
       "1  A comfortable room in a smart condo developmen...   \n",
       "2  Stayed over at Sujatha's house for 3 good nigh...   \n",
       "3  It's been a lovely stay at Sujatha's. The room...   \n",
       "4  We had a great experience. A nice place, an am...   \n",
       "\n",
       "                                name  \\\n",
       "0  COZICOMFORT LONG TERM STAY ROOM 2   \n",
       "1    Pleasant Room along Bukit Timah   \n",
       "2    Pleasant Room along Bukit Timah   \n",
       "3    Pleasant Room along Bukit Timah   \n",
       "4    Pleasant Room along Bukit Timah   \n",
       "\n",
       "                                         description  \\\n",
       "0  This is Room No. 2.(available after Jan 15 201...   \n",
       "1  Fully furnished bedroom with a nice view on th...   \n",
       "2  Fully furnished bedroom with a nice view on th...   \n",
       "3  Fully furnished bedroom with a nice view on th...   \n",
       "4  Fully furnished bedroom with a nice view on th...   \n",
       "\n",
       "                               neighborhood_overview  host_id  host_since  \\\n",
       "0                                                NaN   266763  2010-10-20   \n",
       "1  The serenity & quiet surrounding makes it an i...   227796  2010-09-08   \n",
       "2  The serenity & quiet surrounding makes it an i...   227796  2010-09-08   \n",
       "3  The serenity & quiet surrounding makes it an i...   227796  2010-09-08   \n",
       "4  The serenity & quiet surrounding makes it an i...   227796  2010-09-08   \n",
       "\n",
       "   ... review_scores_rating review_scores_accuracy review_scores_cleanliness  \\\n",
       "0  ...                 94.0                   10.0                      10.0   \n",
       "1  ...                 91.0                    9.0                      10.0   \n",
       "2  ...                 91.0                    9.0                      10.0   \n",
       "3  ...                 91.0                    9.0                      10.0   \n",
       "4  ...                 91.0                    9.0                      10.0   \n",
       "\n",
       "  review_scores_checkin review_scores_communication review_scores_location  \\\n",
       "0                  10.0                        10.0                    8.0   \n",
       "1                  10.0                        10.0                    9.0   \n",
       "2                  10.0                        10.0                    9.0   \n",
       "3                  10.0                        10.0                    9.0   \n",
       "4                  10.0                        10.0                    9.0   \n",
       "\n",
       "  review_scores_value instant_bookable calculated_host_listings_count  \\\n",
       "0                 8.0                f                              2   \n",
       "1                 9.0                f                              1   \n",
       "2                 9.0                f                              1   \n",
       "3                 9.0                f                              1   \n",
       "4                 9.0                f                              1   \n",
       "\n",
       "  reviews_per_month  \n",
       "0              0.02  \n",
       "1              0.30  \n",
       "2              0.30  \n",
       "3              0.30  \n",
       "4              0.30  \n",
       "\n",
       "[5 rows x 55 columns]"
      ]
     },
     "execution_count": 19,
     "metadata": {},
     "output_type": "execute_result"
    }
   ],
   "source": [
    "reviewer_id = data.pop('reviewer_id')\n",
    "data.insert(0, 'reviewer_id', reviewer_id)\n",
    "data.head()"
   ]
  },
  {
   "cell_type": "code",
   "execution_count": 18,
   "metadata": {},
   "outputs": [],
   "source": [
    "data.to_csv('../../Datasets/cleaned_reviews.csv')"
   ]
  }
 ],
 "metadata": {
  "accelerator": "GPU",
  "colab": {
   "name": "Create Customer Dataset.ipynb",
   "provenance": [],
   "toc_visible": true
  },
  "kernelspec": {
   "display_name": "Python 3.8.3 64-bit",
   "language": "python",
   "name": "python38364bit0fdf2f9f8d9d45569cfda80e335dcfb9"
  },
  "language_info": {
   "codemirror_mode": {
    "name": "ipython",
    "version": 3
   },
   "file_extension": ".py",
   "mimetype": "text/x-python",
   "name": "python",
   "nbconvert_exporter": "python",
   "pygments_lexer": "ipython3",
   "version": "3.8.3"
  }
 },
 "nbformat": 4,
 "nbformat_minor": 1
}
