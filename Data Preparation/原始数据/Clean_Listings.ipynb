{
 "cells": [
  {
   "cell_type": "code",
   "execution_count": 1,
   "metadata": {
    "id": "RHsuB-_qqfjM"
   },
   "outputs": [],
   "source": [
    "import pandas as pd\n",
    "from pandas import Series,DataFrame\n",
    "import numpy as np"
   ]
  },
  {
   "cell_type": "code",
   "execution_count": 2,
   "metadata": {
    "id": "8lwnhy2rqfjN"
   },
   "outputs": [],
   "source": [
    "url_front = 'http://data.insideairbnb.com/singapore/sg/singapore/'\n",
    "url_end = '/data/listings.csv.gz'"
   ]
  },
  {
   "cell_type": "markdown",
   "metadata": {
    "id": "0Z7MADKjqfjP"
   },
   "source": [
    "# Clean Listings"
   ]
  },
  {
   "cell_type": "code",
   "execution_count": 3,
   "metadata": {
    "id": "TNRskD9XqfjQ"
   },
   "outputs": [],
   "source": [
    "dates = ['2019-03-18', '2019-04-20', '2019-05-23', '2019-06-25', '2019-07-21', '2019-08-28', '2019-09-25', '2019-10-25', '2019-11-26', '2019-12-28',\n",
    "         '2020-01-26', '2020-02-27', '2020-03-21', '2020-04-26', '2020-05-27', '2020-06-22', '2020-10-26', '2020-11-27', '2020-12-29','2021-01-27']"
   ]
  },
  {
   "cell_type": "code",
   "execution_count": 4,
   "metadata": {
    "id": "f9bSOg54qfjR"
   },
   "outputs": [],
   "source": [
    "listings = []"
   ]
  },
  {
   "cell_type": "code",
   "execution_count": 5,
   "metadata": {
    "colab": {
     "base_uri": "https://localhost:8080/"
    },
    "id": "aZy-qfZFqfjS",
    "outputId": "3976b211-12b5-4058-a492-c1eb70060f1f"
   },
   "outputs": [
    {
     "name": "stderr",
     "output_type": "stream",
     "text": [
      "/Library/Frameworks/Python.framework/Versions/3.8/lib/python3.8/site-packages/IPython/core/interactiveshell.py:3145: DtypeWarning: Columns (42,43,61,62,94,95) have mixed types.Specify dtype option on import or set low_memory=False.\n",
      "  has_raised = await self.run_ast_nodes(code_ast.body, cell_name,\n"
     ]
    }
   ],
   "source": [
    "for date in dates:\n",
    "    # print(date)\n",
    "    listing = pd.read_csv(url_front+date+url_end)\n",
    "    listings.append(listing)"
   ]
  },
  {
   "cell_type": "code",
   "execution_count": 6,
   "metadata": {
    "id": "gdgrSYwNZJC8"
   },
   "outputs": [],
   "source": [
    "# 2020-10 onwards some features were lost.\n",
    "long_features = listings[0].columns.values\n",
    "short_features = listings[-1].columns.values\n",
    "keep_features = [x for x in long_features if x in short_features]"
   ]
  },
  {
   "cell_type": "code",
   "execution_count": 7,
   "metadata": {
    "colab": {
     "base_uri": "https://localhost:8080/"
    },
    "id": "ftWIE2ONZJC8",
    "outputId": "d0b65665-0752-41e6-accf-5eb08d736ddd"
   },
   "outputs": [
    {
     "data": {
      "text/plain": [
       "['id',\n",
       " 'listing_url',\n",
       " 'scrape_id',\n",
       " 'last_scraped',\n",
       " 'name',\n",
       " 'description',\n",
       " 'neighborhood_overview',\n",
       " 'picture_url',\n",
       " 'host_id',\n",
       " 'host_url',\n",
       " 'host_name',\n",
       " 'host_since',\n",
       " 'host_location',\n",
       " 'host_about',\n",
       " 'host_response_time',\n",
       " 'host_response_rate',\n",
       " 'host_acceptance_rate',\n",
       " 'host_is_superhost',\n",
       " 'host_thumbnail_url',\n",
       " 'host_picture_url',\n",
       " 'host_neighbourhood',\n",
       " 'host_listings_count',\n",
       " 'host_total_listings_count',\n",
       " 'host_verifications',\n",
       " 'host_has_profile_pic',\n",
       " 'host_identity_verified',\n",
       " 'neighbourhood',\n",
       " 'neighbourhood_cleansed',\n",
       " 'neighbourhood_group_cleansed',\n",
       " 'latitude',\n",
       " 'longitude',\n",
       " 'property_type',\n",
       " 'room_type',\n",
       " 'accommodates',\n",
       " 'bathrooms',\n",
       " 'bedrooms',\n",
       " 'beds',\n",
       " 'amenities',\n",
       " 'price',\n",
       " 'minimum_nights',\n",
       " 'maximum_nights',\n",
       " 'minimum_minimum_nights',\n",
       " 'maximum_minimum_nights',\n",
       " 'minimum_maximum_nights',\n",
       " 'maximum_maximum_nights',\n",
       " 'minimum_nights_avg_ntm',\n",
       " 'maximum_nights_avg_ntm',\n",
       " 'calendar_updated',\n",
       " 'has_availability',\n",
       " 'availability_30',\n",
       " 'availability_60',\n",
       " 'availability_90',\n",
       " 'availability_365',\n",
       " 'calendar_last_scraped',\n",
       " 'number_of_reviews',\n",
       " 'number_of_reviews_ltm',\n",
       " 'first_review',\n",
       " 'last_review',\n",
       " 'review_scores_rating',\n",
       " 'review_scores_accuracy',\n",
       " 'review_scores_cleanliness',\n",
       " 'review_scores_checkin',\n",
       " 'review_scores_communication',\n",
       " 'review_scores_location',\n",
       " 'review_scores_value',\n",
       " 'license',\n",
       " 'instant_bookable',\n",
       " 'calculated_host_listings_count',\n",
       " 'calculated_host_listings_count_entire_homes',\n",
       " 'calculated_host_listings_count_private_rooms',\n",
       " 'calculated_host_listings_count_shared_rooms',\n",
       " 'reviews_per_month']"
      ]
     },
     "execution_count": 7,
     "metadata": {},
     "output_type": "execute_result"
    }
   ],
   "source": [
    "keep_features"
   ]
  },
  {
   "cell_type": "code",
   "execution_count": 8,
   "metadata": {
    "id": "nRZw3BF5qfjS"
   },
   "outputs": [],
   "source": [
    "listings_full = listings[0][keep_features]\n",
    "for i in range(1, len(dates) - 1):\n",
    "    listings_full = pd.concat([listings_full, listings[i][keep_features]])"
   ]
  },
  {
   "cell_type": "code",
   "execution_count": 9,
   "metadata": {
    "id": "ctiSs0GGZJC9"
   },
   "outputs": [],
   "source": [
    "delete_col = ['listing_url',\n",
    " 'scrape_id',\n",
    " 'last_scraped',\n",
    " 'picture_url',\n",
    " 'host_url',\n",
    " 'host_name',\n",
    " 'host_location',\n",
    " 'host_acceptance_rate',\n",
    " 'host_thumbnail_url',\n",
    " 'host_picture_url',\n",
    " 'host_listings_count',\n",
    " 'host_total_listings_count',\n",
    " 'neighbourhood',\n",
    " 'has_availability',\n",
    " 'calendar_last_scraped',\n",
    " 'first_review',\n",
    " 'last_review',\n",
    " 'license',\n",
    " 'calculated_host_listings_count_entire_homes',\n",
    " 'calculated_host_listings_count_private_rooms',\n",
    " 'calculated_host_listings_count_shared_rooms']"
   ]
  },
  {
   "cell_type": "code",
   "execution_count": 10,
   "metadata": {
    "id": "yLpMJ7N9ZJC9"
   },
   "outputs": [],
   "source": [
    "listings_cleaned = listings_full.drop(columns = delete_col)"
   ]
  },
  {
   "cell_type": "code",
   "execution_count": 11,
   "metadata": {
    "id": "PcFZ3D0zqfjS"
   },
   "outputs": [],
   "source": [
    "listings_cleaned = listings_cleaned.drop_duplicates()\n",
    "listings_cleaned = listings_cleaned.reset_index().drop(columns = ['index'])"
   ]
  },
  {
   "cell_type": "code",
   "execution_count": 12,
   "metadata": {
    "colab": {
     "base_uri": "https://localhost:8080/"
    },
    "id": "EcReNbN7sr2n",
    "outputId": "b30cf394-c981-4ca5-c587-fd61fe979d6d"
   },
   "outputs": [
    {
     "data": {
      "text/plain": [
       "(138263, 51)"
      ]
     },
     "execution_count": 12,
     "metadata": {},
     "output_type": "execute_result"
    }
   ],
   "source": [
    "listings_cleaned.shape"
   ]
  },
  {
   "cell_type": "markdown",
   "metadata": {},
   "source": [
    "# Find Nearby Sites and Stations"
   ]
  },
  {
   "cell_type": "code",
   "execution_count": 13,
   "metadata": {
    "id": "QQnlwa3uSPQg"
   },
   "outputs": [],
   "source": [
    "# Extract the location data.\n",
    "df_lat_lon = listings_cleaned[['latitude','longitude']].reset_index(drop=True)"
   ]
  },
  {
   "cell_type": "code",
   "execution_count": 15,
   "metadata": {
    "id": "rU59eVFWUbaR"
   },
   "outputs": [
    {
     "data": {
      "text/html": [
       "<div>\n",
       "<style scoped>\n",
       "    .dataframe tbody tr th:only-of-type {\n",
       "        vertical-align: middle;\n",
       "    }\n",
       "\n",
       "    .dataframe tbody tr th {\n",
       "        vertical-align: top;\n",
       "    }\n",
       "\n",
       "    .dataframe thead th {\n",
       "        text-align: right;\n",
       "    }\n",
       "</style>\n",
       "<table border=\"1\" class=\"dataframe\">\n",
       "  <thead>\n",
       "    <tr style=\"text-align: right;\">\n",
       "      <th></th>\n",
       "      <th>Title</th>\n",
       "      <th>kfi5wf</th>\n",
       "      <th>jdzyld</th>\n",
       "      <th>nfofm</th>\n",
       "    </tr>\n",
       "  </thead>\n",
       "  <tbody>\n",
       "    <tr>\n",
       "      <th>0</th>\n",
       "      <td>Marina Bay Sands Singapore</td>\n",
       "      <td>4.5</td>\n",
       "      <td>(7,026)</td>\n",
       "      <td>High-end hotel with bay views &amp; dining</td>\n",
       "    </tr>\n",
       "    <tr>\n",
       "      <th>1</th>\n",
       "      <td>Gardens by the Bay</td>\n",
       "      <td>4.7</td>\n",
       "      <td>(107,063)</td>\n",
       "      <td>Modern public gardens on reclaimed land</td>\n",
       "    </tr>\n",
       "    <tr>\n",
       "      <th>2</th>\n",
       "      <td>Sentosa</td>\n",
       "      <td>4.6</td>\n",
       "      <td>(3,415)</td>\n",
       "      <td>Palawan Beach &amp; Tiger Sky Tower</td>\n",
       "    </tr>\n",
       "    <tr>\n",
       "      <th>3</th>\n",
       "      <td>Merlion</td>\n",
       "      <td>4.6</td>\n",
       "      <td>(25,932)</td>\n",
       "      <td>Half-lion, half-fish statue &amp; fountain</td>\n",
       "    </tr>\n",
       "    <tr>\n",
       "      <th>4</th>\n",
       "      <td>Universal Studios Singapore</td>\n",
       "      <td>4.6</td>\n",
       "      <td>(77,742)</td>\n",
       "      <td>Movie- &amp; TV-themed amusement park</td>\n",
       "    </tr>\n",
       "  </tbody>\n",
       "</table>\n",
       "</div>"
      ],
      "text/plain": [
       "                         Title  kfi5wf      jdzyld  \\\n",
       "0   Marina Bay Sands Singapore     4.5     (7,026)   \n",
       "1           Gardens by the Bay     4.7   (107,063)   \n",
       "2                      Sentosa     4.6     (3,415)   \n",
       "3                      Merlion     4.6    (25,932)   \n",
       "4  Universal Studios Singapore     4.6    (77,742)   \n",
       "\n",
       "                                     nfofm  \n",
       "0   High-end hotel with bay views & dining  \n",
       "1  Modern public gardens on reclaimed land  \n",
       "2          Palawan Beach & Tiger Sky Tower  \n",
       "3   Half-lion, half-fish statue & fountain  \n",
       "4        Movie- & TV-themed amusement park  "
      ]
     },
     "execution_count": 15,
     "metadata": {},
     "output_type": "execute_result"
    }
   ],
   "source": [
    "# Read in the locations of popular sites\n",
    "df_site = pd.read_csv('../../Datasets/popular_sites.csv').drop(['Image'],axis=1)\n",
    "df_site.head()"
   ]
  },
  {
   "cell_type": "code",
   "execution_count": 16,
   "metadata": {},
   "outputs": [
    {
     "data": {
      "text/html": [
       "<div>\n",
       "<style scoped>\n",
       "    .dataframe tbody tr th:only-of-type {\n",
       "        vertical-align: middle;\n",
       "    }\n",
       "\n",
       "    .dataframe tbody tr th {\n",
       "        vertical-align: top;\n",
       "    }\n",
       "\n",
       "    .dataframe thead th {\n",
       "        text-align: right;\n",
       "    }\n",
       "</style>\n",
       "<table border=\"1\" class=\"dataframe\">\n",
       "  <thead>\n",
       "    <tr style=\"text-align: right;\">\n",
       "      <th></th>\n",
       "      <th>OBJECTID</th>\n",
       "      <th>STN_NAME</th>\n",
       "      <th>STN_NO</th>\n",
       "      <th>X</th>\n",
       "      <th>Y</th>\n",
       "      <th>Latitude</th>\n",
       "      <th>Longitude</th>\n",
       "      <th>COLOR</th>\n",
       "    </tr>\n",
       "  </thead>\n",
       "  <tbody>\n",
       "    <tr>\n",
       "      <th>0</th>\n",
       "      <td>12</td>\n",
       "      <td>ADMIRALTY MRT STATION</td>\n",
       "      <td>NS10</td>\n",
       "      <td>24402.1063</td>\n",
       "      <td>46918.1131</td>\n",
       "      <td>1.440585</td>\n",
       "      <td>103.800998</td>\n",
       "      <td>RED</td>\n",
       "    </tr>\n",
       "    <tr>\n",
       "      <th>1</th>\n",
       "      <td>16</td>\n",
       "      <td>ALJUNIED MRT STATION</td>\n",
       "      <td>EW9</td>\n",
       "      <td>33518.6049</td>\n",
       "      <td>33190.0020</td>\n",
       "      <td>1.316433</td>\n",
       "      <td>103.882893</td>\n",
       "      <td>GREEN</td>\n",
       "    </tr>\n",
       "    <tr>\n",
       "      <th>2</th>\n",
       "      <td>33</td>\n",
       "      <td>ANG MO KIO MRT STATION</td>\n",
       "      <td>NS16</td>\n",
       "      <td>29807.2655</td>\n",
       "      <td>39105.7720</td>\n",
       "      <td>1.369933</td>\n",
       "      <td>103.849553</td>\n",
       "      <td>RED</td>\n",
       "    </tr>\n",
       "    <tr>\n",
       "      <th>3</th>\n",
       "      <td>81</td>\n",
       "      <td>BAKAU LRT STATION</td>\n",
       "      <td>SE3</td>\n",
       "      <td>36026.0821</td>\n",
       "      <td>41113.8766</td>\n",
       "      <td>1.388093</td>\n",
       "      <td>103.905418</td>\n",
       "      <td>OTHERS</td>\n",
       "    </tr>\n",
       "    <tr>\n",
       "      <th>4</th>\n",
       "      <td>80</td>\n",
       "      <td>BANGKIT LRT STATION</td>\n",
       "      <td>BP9</td>\n",
       "      <td>21248.2460</td>\n",
       "      <td>40220.9693</td>\n",
       "      <td>1.380018</td>\n",
       "      <td>103.772667</td>\n",
       "      <td>OTHERS</td>\n",
       "    </tr>\n",
       "  </tbody>\n",
       "</table>\n",
       "</div>"
      ],
      "text/plain": [
       "   OBJECTID                STN_NAME STN_NO           X           Y  Latitude  \\\n",
       "0        12   ADMIRALTY MRT STATION   NS10  24402.1063  46918.1131  1.440585   \n",
       "1        16    ALJUNIED MRT STATION    EW9  33518.6049  33190.0020  1.316433   \n",
       "2        33  ANG MO KIO MRT STATION   NS16  29807.2655  39105.7720  1.369933   \n",
       "3        81       BAKAU LRT STATION    SE3  36026.0821  41113.8766  1.388093   \n",
       "4        80     BANGKIT LRT STATION    BP9  21248.2460  40220.9693  1.380018   \n",
       "\n",
       "    Longitude   COLOR  \n",
       "0  103.800998     RED  \n",
       "1  103.882893   GREEN  \n",
       "2  103.849553     RED  \n",
       "3  103.905418  OTHERS  \n",
       "4  103.772667  OTHERS  "
      ]
     },
     "execution_count": 16,
     "metadata": {},
     "output_type": "execute_result"
    }
   ],
   "source": [
    "# Read in the locations of nearby MRT Stations\n",
    "df_mrt = pd.read_csv('../../Datasets/sg_mrt.csv')\n",
    "df_mrt.head()"
   ]
  },
  {
   "cell_type": "code",
   "execution_count": 17,
   "metadata": {
    "scrolled": true
   },
   "outputs": [],
   "source": [
    "# Rename some attributes for easier recognization.\n",
    "df_site.rename(columns={'Title':'site_name','nfofm':'intro','kfi5wf':'rating','jdzyld':'num_ratings'},inplace=True)\n",
    "df_mrt.rename(columns={'STN_NAME':'station_name','STN_NO':'station_no','Latitude':'latitude','Longitude':'longitude','COLOR':'color'},inplace=True)"
   ]
  },
  {
   "cell_type": "code",
   "execution_count": 18,
   "metadata": {
    "scrolled": true
   },
   "outputs": [
    {
     "data": {
      "text/html": [
       "<div>\n",
       "<style scoped>\n",
       "    .dataframe tbody tr th:only-of-type {\n",
       "        vertical-align: middle;\n",
       "    }\n",
       "\n",
       "    .dataframe tbody tr th {\n",
       "        vertical-align: top;\n",
       "    }\n",
       "\n",
       "    .dataframe thead th {\n",
       "        text-align: right;\n",
       "    }\n",
       "</style>\n",
       "<table border=\"1\" class=\"dataframe\">\n",
       "  <thead>\n",
       "    <tr style=\"text-align: right;\">\n",
       "      <th></th>\n",
       "      <th>site_name</th>\n",
       "      <th>rating</th>\n",
       "      <th>num_ratings</th>\n",
       "      <th>intro</th>\n",
       "    </tr>\n",
       "  </thead>\n",
       "  <tbody>\n",
       "    <tr>\n",
       "      <th>0</th>\n",
       "      <td>Marina Bay Sands Singapore</td>\n",
       "      <td>4.5</td>\n",
       "      <td>(7,026)</td>\n",
       "      <td>High-end hotel with bay views &amp; dining</td>\n",
       "    </tr>\n",
       "    <tr>\n",
       "      <th>1</th>\n",
       "      <td>Gardens by the Bay</td>\n",
       "      <td>4.7</td>\n",
       "      <td>(107,063)</td>\n",
       "      <td>Modern public gardens on reclaimed land</td>\n",
       "    </tr>\n",
       "    <tr>\n",
       "      <th>2</th>\n",
       "      <td>Sentosa</td>\n",
       "      <td>4.6</td>\n",
       "      <td>(3,415)</td>\n",
       "      <td>Palawan Beach &amp; Tiger Sky Tower</td>\n",
       "    </tr>\n",
       "    <tr>\n",
       "      <th>3</th>\n",
       "      <td>Merlion</td>\n",
       "      <td>4.6</td>\n",
       "      <td>(25,932)</td>\n",
       "      <td>Half-lion, half-fish statue &amp; fountain</td>\n",
       "    </tr>\n",
       "    <tr>\n",
       "      <th>4</th>\n",
       "      <td>Universal Studios Singapore</td>\n",
       "      <td>4.6</td>\n",
       "      <td>(77,742)</td>\n",
       "      <td>Movie- &amp; TV-themed amusement park</td>\n",
       "    </tr>\n",
       "  </tbody>\n",
       "</table>\n",
       "</div>"
      ],
      "text/plain": [
       "                     site_name  rating num_ratings  \\\n",
       "0   Marina Bay Sands Singapore     4.5     (7,026)   \n",
       "1           Gardens by the Bay     4.7   (107,063)   \n",
       "2                      Sentosa     4.6     (3,415)   \n",
       "3                      Merlion     4.6    (25,932)   \n",
       "4  Universal Studios Singapore     4.6    (77,742)   \n",
       "\n",
       "                                     intro  \n",
       "0   High-end hotel with bay views & dining  \n",
       "1  Modern public gardens on reclaimed land  \n",
       "2          Palawan Beach & Tiger Sky Tower  \n",
       "3   Half-lion, half-fish statue & fountain  \n",
       "4        Movie- & TV-themed amusement park  "
      ]
     },
     "execution_count": 18,
     "metadata": {},
     "output_type": "execute_result"
    }
   ],
   "source": [
    "df_site.head()"
   ]
  },
  {
   "cell_type": "code",
   "execution_count": 19,
   "metadata": {},
   "outputs": [],
   "source": [
    "df_site.num_ratings = df_site.num_ratings.dropna().apply(lambda x: int(x[2:-1].replace(',','')))"
   ]
  },
  {
   "cell_type": "code",
   "execution_count": 20,
   "metadata": {},
   "outputs": [
    {
     "data": {
      "text/plain": [
       "count        98.000000\n",
       "mean       8420.408163\n",
       "std       16198.456969\n",
       "min           1.000000\n",
       "25%         895.500000\n",
       "50%        3270.500000\n",
       "75%        7139.000000\n",
       "max      107063.000000\n",
       "Name: num_ratings, dtype: float64"
      ]
     },
     "execution_count": 20,
     "metadata": {},
     "output_type": "execute_result"
    }
   ],
   "source": [
    "df_site.num_ratings.describe()"
   ]
  },
  {
   "cell_type": "code",
   "execution_count": 21,
   "metadata": {},
   "outputs": [
    {
     "data": {
      "text/plain": [
       "0     4.500000\n",
       "1     4.696903\n",
       "2     4.566973\n",
       "3     4.593902\n",
       "4     4.597880\n",
       "        ...   \n",
       "94    4.500000\n",
       "95    4.360272\n",
       "96    4.427001\n",
       "97    4.368015\n",
       "98    4.465705\n",
       "Name: norm_rating, Length: 99, dtype: float64"
      ]
     },
     "execution_count": 21,
     "metadata": {},
     "output_type": "execute_result"
    }
   ],
   "source": [
    "# Rate popularity using Bayesian Probability.\n",
    "# Choose the average value of ratings R and total expected number of ratings W.\n",
    "R = df_site[df_site.num_ratings >= 1000].rating.median() # choose only ratings with 1000+ number of ratings.\n",
    "W = df_site.num_ratings.mean() / 5 \n",
    "\n",
    "df_site['norm_rating'] = (df_site.rating * df_site.num_ratings + R * W) / (df_site.num_ratings + W)\n",
    "df_site.norm_rating.fillna(4.5) # The missing data is at Clark Quey whose rating was missing and then imputed manually."
   ]
  },
  {
   "cell_type": "code",
   "execution_count": 22,
   "metadata": {
    "scrolled": true
   },
   "outputs": [
    {
     "data": {
      "text/plain": [
       "count    98.000000\n",
       "mean      4.486507\n",
       "std       0.110920\n",
       "min       4.133485\n",
       "25%       4.437528\n",
       "50%       4.500000\n",
       "75%       4.565143\n",
       "max       4.696903\n",
       "Name: norm_rating, dtype: float64"
      ]
     },
     "execution_count": 22,
     "metadata": {},
     "output_type": "execute_result"
    }
   ],
   "source": [
    "df_site['norm_rating'].describe()"
   ]
  },
  {
   "cell_type": "code",
   "execution_count": 23,
   "metadata": {},
   "outputs": [],
   "source": [
    "# Find the geolocation of these sites using external tools.\n",
    "def find_geolocation(df,name):\n",
    "    import json\n",
    "    import requests\n",
    "\n",
    "    longs = []\n",
    "    lats = []\n",
    "    for title in df[name]:\n",
    "      url= 'https://developers.onemap.sg/commonapi/search?searchVal='+ '%20'.join(title.split()) +'&returnGeom=Y&getAddrDetails=Y&pageNum=1'\n",
    "      response = requests.get(url)\n",
    "      obj = response.json()\n",
    "      if not obj['results']:\n",
    "        longs.append('')\n",
    "        lats.append('')\n",
    "        continue\n",
    "      longs.append(obj['results'][0]['LONGITUDE'])\n",
    "      lats.append(obj['results'][0]['LATITUDE'])\n",
    "    return longs, lats"
   ]
  },
  {
   "cell_type": "code",
   "execution_count": 24,
   "metadata": {},
   "outputs": [],
   "source": [
    "longs,lats = find_geolocation(df_site,'site_name')\n",
    "df_site['longitude'] = np.array(longs)\n",
    "df_site['latitude'] = np.array(lats)"
   ]
  },
  {
   "cell_type": "code",
   "execution_count": 25,
   "metadata": {},
   "outputs": [],
   "source": [
    "df_site = df_site[df_site.longitude != ''] # ignore unsuccessful queries."
   ]
  },
  {
   "cell_type": "code",
   "execution_count": 26,
   "metadata": {},
   "outputs": [],
   "source": [
    "# Function to find the distance between two coordinates.\n",
    "from math import cos, asin, sqrt, pi\n",
    "\n",
    "def distance(lat1, lon1, lat2, lon2):\n",
    "    p = pi/180\n",
    "    a = 0.5 - cos((lat2-lat1)*p)/2 + cos(lat1*p) * cos(lat2*p) * (1-cos((lon2-lon1)*p))/2\n",
    "    return 12742 * asin(sqrt(a)) #2*R*asin..."
   ]
  },
  {
   "cell_type": "code",
   "execution_count": 27,
   "metadata": {},
   "outputs": [],
   "source": [
    "# Reusable functions for finding n(default=3) nearest sites of each listed hotel.\n",
    "def find_nearby(df, df_nearby, name, thres=3):\n",
    "  distances = []\n",
    "  for i in range(df.shape[0]):\n",
    "    lat1 = float(df.latitude[i])\n",
    "    lon1 = float(df.longitude[i])\n",
    "    candidates = []\n",
    "    for j in range(df_nearby.shape[0]):\n",
    "        lat2 = float(df_nearby.latitude.iloc[j])\n",
    "        lon2 = float(df_nearby.longitude.iloc[j])\n",
    "        dist = distance(lat1, lon1, lat2, lon2)\n",
    "        candidates.append([df_nearby[name].iloc[j],dist])\n",
    "    candidates.sort(key=lambda x:x[1])\n",
    "    distances.append(candidates[:thres])\n",
    "  return distances"
   ]
  },
  {
   "cell_type": "code",
   "execution_count": 28,
   "metadata": {},
   "outputs": [],
   "source": [
    "# Weighted ratings for the 3 nearby locations.\n",
    "def avg_rate(x,thres,df,feature_n,rating_n):\n",
    "    from math import sqrt\n",
    "    \n",
    "    sum_dist = 0\n",
    "    sum_rating = 0\n",
    "    for i in range(thres):\n",
    "        sum_dist += x[i][1]\n",
    "        sum_rating += df.loc[df[feature_n] == x[i][0], rating_n].values[0]\n",
    "    return sqrt(sum_rating/sum_dist)"
   ]
  },
  {
   "cell_type": "code",
   "execution_count": 29,
   "metadata": {
    "scrolled": true
   },
   "outputs": [],
   "source": [
    "distances_site = find_nearby(df_lat_lon, df_site, 'site_name')\n",
    "listings_cleaned['nearby_sites_rating'] = np.array([avg_rate(x,3,df_site,'site_name','norm_rating') \n",
    "                                 for x in distances_site])"
   ]
  },
  {
   "cell_type": "code",
   "execution_count": 30,
   "metadata": {},
   "outputs": [],
   "source": [
    "distances_mrt = find_nearby(df_lat_lon, df_mrt,'station_name',1)\n",
    "listings_cleaned['nearest_station_dist'] = np.array([x[0][1] for x in distances_mrt])"
   ]
  },
  {
   "cell_type": "code",
   "execution_count": 31,
   "metadata": {
    "scrolled": true
   },
   "outputs": [],
   "source": [
    "# Include the distance to the nearest popular site as well as its rating.\n",
    "listings_cleaned['nearest_site_dist'] = np.array([x[0][1] for x in distances_site])\n",
    "listings_cleaned['nearest_site_rating'] = np.array([df_site[df_site.site_name == x[0][0]].norm_rating.values[0] for x in distances_site])"
   ]
  },
  {
   "cell_type": "code",
   "execution_count": 32,
   "metadata": {
    "scrolled": true
   },
   "outputs": [
    {
     "data": {
      "text/html": [
       "<div>\n",
       "<style scoped>\n",
       "    .dataframe tbody tr th:only-of-type {\n",
       "        vertical-align: middle;\n",
       "    }\n",
       "\n",
       "    .dataframe tbody tr th {\n",
       "        vertical-align: top;\n",
       "    }\n",
       "\n",
       "    .dataframe thead th {\n",
       "        text-align: right;\n",
       "    }\n",
       "</style>\n",
       "<table border=\"1\" class=\"dataframe\">\n",
       "  <thead>\n",
       "    <tr style=\"text-align: right;\">\n",
       "      <th></th>\n",
       "      <th>id</th>\n",
       "      <th>name</th>\n",
       "      <th>description</th>\n",
       "      <th>neighborhood_overview</th>\n",
       "      <th>host_id</th>\n",
       "      <th>host_since</th>\n",
       "      <th>host_about</th>\n",
       "      <th>host_response_time</th>\n",
       "      <th>host_response_rate</th>\n",
       "      <th>host_is_superhost</th>\n",
       "      <th>...</th>\n",
       "      <th>review_scores_communication</th>\n",
       "      <th>review_scores_location</th>\n",
       "      <th>review_scores_value</th>\n",
       "      <th>instant_bookable</th>\n",
       "      <th>calculated_host_listings_count</th>\n",
       "      <th>reviews_per_month</th>\n",
       "      <th>nearby_sites_rating</th>\n",
       "      <th>nearest_station_dist</th>\n",
       "      <th>nearest_site_dist</th>\n",
       "      <th>nearest_site_rating</th>\n",
       "    </tr>\n",
       "  </thead>\n",
       "  <tbody>\n",
       "    <tr>\n",
       "      <th>0</th>\n",
       "      <td>49091</td>\n",
       "      <td>COZICOMFORT LONG TERM STAY ROOM 2</td>\n",
       "      <td>This is Room No. 2.(available after Jan 15 201...</td>\n",
       "      <td>NaN</td>\n",
       "      <td>266763</td>\n",
       "      <td>2010-10-20</td>\n",
       "      <td>I am a private tutor by profession. My husband...</td>\n",
       "      <td>within a few hours</td>\n",
       "      <td>100%</td>\n",
       "      <td>f</td>\n",
       "      <td>...</td>\n",
       "      <td>10.0</td>\n",
       "      <td>8.0</td>\n",
       "      <td>8.0</td>\n",
       "      <td>f</td>\n",
       "      <td>2</td>\n",
       "      <td>0.02</td>\n",
       "      <td>0.995731</td>\n",
       "      <td>0.617762</td>\n",
       "      <td>4.295315</td>\n",
       "      <td>4.595264</td>\n",
       "    </tr>\n",
       "    <tr>\n",
       "      <th>1</th>\n",
       "      <td>50646</td>\n",
       "      <td>Pleasant Room along Bukit Timah</td>\n",
       "      <td>Fully furnished bedroom with a nice view on th...</td>\n",
       "      <td>The serenity &amp; quiet surrounding makes it an i...</td>\n",
       "      <td>227796</td>\n",
       "      <td>2010-09-08</td>\n",
       "      <td>I am a working professional, living in Singapo...</td>\n",
       "      <td>NaN</td>\n",
       "      <td>NaN</td>\n",
       "      <td>f</td>\n",
       "      <td>...</td>\n",
       "      <td>10.0</td>\n",
       "      <td>9.0</td>\n",
       "      <td>9.0</td>\n",
       "      <td>f</td>\n",
       "      <td>1</td>\n",
       "      <td>0.30</td>\n",
       "      <td>1.269606</td>\n",
       "      <td>0.399696</td>\n",
       "      <td>2.039236</td>\n",
       "      <td>4.654423</td>\n",
       "    </tr>\n",
       "    <tr>\n",
       "      <th>2</th>\n",
       "      <td>56334</td>\n",
       "      <td>COZICOMFORT</td>\n",
       "      <td>This is Room no. 1. USD700 per month On the fa...</td>\n",
       "      <td>NaN</td>\n",
       "      <td>266763</td>\n",
       "      <td>2010-10-20</td>\n",
       "      <td>I am a private tutor by profession. My husband...</td>\n",
       "      <td>within a few hours</td>\n",
       "      <td>100%</td>\n",
       "      <td>f</td>\n",
       "      <td>...</td>\n",
       "      <td>10.0</td>\n",
       "      <td>8.0</td>\n",
       "      <td>9.0</td>\n",
       "      <td>f</td>\n",
       "      <td>2</td>\n",
       "      <td>0.21</td>\n",
       "      <td>0.995281</td>\n",
       "      <td>0.524353</td>\n",
       "      <td>4.290337</td>\n",
       "      <td>4.595264</td>\n",
       "    </tr>\n",
       "    <tr>\n",
       "      <th>3</th>\n",
       "      <td>71609</td>\n",
       "      <td>Ensuite Room (Room 1 &amp; 2) near EXPO</td>\n",
       "      <td>For 3 (Website hidden by Airbnb) room 1&amp;2 and ...</td>\n",
       "      <td>NaN</td>\n",
       "      <td>367042</td>\n",
       "      <td>2011-01-29</td>\n",
       "      <td>Hi My name is Belinda -Housekeeper \\r\\n\\r\\nI w...</td>\n",
       "      <td>within an hour</td>\n",
       "      <td>100%</td>\n",
       "      <td>f</td>\n",
       "      <td>...</td>\n",
       "      <td>9.0</td>\n",
       "      <td>8.0</td>\n",
       "      <td>8.0</td>\n",
       "      <td>t</td>\n",
       "      <td>9</td>\n",
       "      <td>0.14</td>\n",
       "      <td>1.116033</td>\n",
       "      <td>0.486745</td>\n",
       "      <td>2.648653</td>\n",
       "      <td>4.456579</td>\n",
       "    </tr>\n",
       "    <tr>\n",
       "      <th>4</th>\n",
       "      <td>71896</td>\n",
       "      <td>B&amp;B  Room 1 near Airport &amp; EXPO</td>\n",
       "      <td>Vocational Stay Deluxe Bedroom in Singapore.(N...</td>\n",
       "      <td>NaN</td>\n",
       "      <td>367042</td>\n",
       "      <td>2011-01-29</td>\n",
       "      <td>Hi My name is Belinda -Housekeeper \\r\\n\\r\\nI w...</td>\n",
       "      <td>within an hour</td>\n",
       "      <td>100%</td>\n",
       "      <td>f</td>\n",
       "      <td>...</td>\n",
       "      <td>9.0</td>\n",
       "      <td>8.0</td>\n",
       "      <td>8.0</td>\n",
       "      <td>t</td>\n",
       "      <td>9</td>\n",
       "      <td>0.22</td>\n",
       "      <td>1.113617</td>\n",
       "      <td>0.481193</td>\n",
       "      <td>2.436100</td>\n",
       "      <td>4.456579</td>\n",
       "    </tr>\n",
       "  </tbody>\n",
       "</table>\n",
       "<p>5 rows × 55 columns</p>\n",
       "</div>"
      ],
      "text/plain": [
       "      id                                 name  \\\n",
       "0  49091    COZICOMFORT LONG TERM STAY ROOM 2   \n",
       "1  50646      Pleasant Room along Bukit Timah   \n",
       "2  56334                          COZICOMFORT   \n",
       "3  71609  Ensuite Room (Room 1 & 2) near EXPO   \n",
       "4  71896      B&B  Room 1 near Airport & EXPO   \n",
       "\n",
       "                                         description  \\\n",
       "0  This is Room No. 2.(available after Jan 15 201...   \n",
       "1  Fully furnished bedroom with a nice view on th...   \n",
       "2  This is Room no. 1. USD700 per month On the fa...   \n",
       "3  For 3 (Website hidden by Airbnb) room 1&2 and ...   \n",
       "4  Vocational Stay Deluxe Bedroom in Singapore.(N...   \n",
       "\n",
       "                               neighborhood_overview  host_id  host_since  \\\n",
       "0                                                NaN   266763  2010-10-20   \n",
       "1  The serenity & quiet surrounding makes it an i...   227796  2010-09-08   \n",
       "2                                                NaN   266763  2010-10-20   \n",
       "3                                                NaN   367042  2011-01-29   \n",
       "4                                                NaN   367042  2011-01-29   \n",
       "\n",
       "                                          host_about  host_response_time  \\\n",
       "0  I am a private tutor by profession. My husband...  within a few hours   \n",
       "1  I am a working professional, living in Singapo...                 NaN   \n",
       "2  I am a private tutor by profession. My husband...  within a few hours   \n",
       "3  Hi My name is Belinda -Housekeeper \\r\\n\\r\\nI w...      within an hour   \n",
       "4  Hi My name is Belinda -Housekeeper \\r\\n\\r\\nI w...      within an hour   \n",
       "\n",
       "  host_response_rate host_is_superhost  ... review_scores_communication  \\\n",
       "0               100%                 f  ...                        10.0   \n",
       "1                NaN                 f  ...                        10.0   \n",
       "2               100%                 f  ...                        10.0   \n",
       "3               100%                 f  ...                         9.0   \n",
       "4               100%                 f  ...                         9.0   \n",
       "\n",
       "  review_scores_location review_scores_value instant_bookable  \\\n",
       "0                    8.0                 8.0                f   \n",
       "1                    9.0                 9.0                f   \n",
       "2                    8.0                 9.0                f   \n",
       "3                    8.0                 8.0                t   \n",
       "4                    8.0                 8.0                t   \n",
       "\n",
       "  calculated_host_listings_count reviews_per_month  nearby_sites_rating  \\\n",
       "0                              2              0.02             0.995731   \n",
       "1                              1              0.30             1.269606   \n",
       "2                              2              0.21             0.995281   \n",
       "3                              9              0.14             1.116033   \n",
       "4                              9              0.22             1.113617   \n",
       "\n",
       "   nearest_station_dist nearest_site_dist nearest_site_rating  \n",
       "0              0.617762          4.295315            4.595264  \n",
       "1              0.399696          2.039236            4.654423  \n",
       "2              0.524353          4.290337            4.595264  \n",
       "3              0.486745          2.648653            4.456579  \n",
       "4              0.481193          2.436100            4.456579  \n",
       "\n",
       "[5 rows x 55 columns]"
      ]
     },
     "execution_count": 32,
     "metadata": {},
     "output_type": "execute_result"
    }
   ],
   "source": [
    "listings_cleaned.head()"
   ]
  },
  {
   "cell_type": "code",
   "execution_count": 33,
   "metadata": {},
   "outputs": [],
   "source": [
    "listings_cleaned.to_csv('../../Datasets/listings_cleaned.csv',index=False)"
   ]
  }
 ],
 "metadata": {
  "colab": {
   "name": "Clean Listings.ipynb",
   "provenance": [],
   "toc_visible": true
  },
  "kernelspec": {
   "display_name": "Python 3",
   "language": "python",
   "name": "python3"
  },
  "language_info": {
   "codemirror_mode": {
    "name": "ipython",
    "version": 3
   },
   "file_extension": ".py",
   "mimetype": "text/x-python",
   "name": "python",
   "nbconvert_exporter": "python",
   "pygments_lexer": "ipython3",
   "version": "3.8.3"
  }
 },
 "nbformat": 4,
 "nbformat_minor": 1
}
