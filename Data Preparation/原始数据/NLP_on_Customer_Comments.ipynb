{
 "cells": [
  {
   "cell_type": "code",
   "execution_count": 1,
   "metadata": {
    "scrolled": false
   },
   "outputs": [
    {
     "name": "stdout",
     "output_type": "stream",
     "text": [
      "Requirement already satisfied: google_trans_new in /Library/Frameworks/Python.framework/Versions/3.8/lib/python3.8/site-packages (1.1.9)\n",
      "\u001b[33mWARNING: You are using pip version 20.2.4; however, version 21.0.1 is available.\n",
      "You should consider upgrading via the '/Library/Frameworks/Python.framework/Versions/3.8/bin/python3 -m pip install --upgrade pip' command.\u001b[0m\n"
     ]
    }
   ],
   "source": [
    "!pip install google_trans_new"
   ]
  },
  {
   "cell_type": "code",
   "execution_count": 119,
   "metadata": {
    "id": "UI09tw2EntvK"
   },
   "outputs": [],
   "source": [
    "import numpy as np\n",
    "import pandas as pd\n",
    "import matplotlib.pyplot as plt\n",
    "import seaborn as sns\n",
    "import string\n",
    "import google_trans_new"
   ]
  },
  {
   "cell_type": "code",
   "execution_count": 3,
   "metadata": {
    "colab": {
     "base_uri": "https://localhost:8080/"
    },
    "id": "lAJtM0cqqpM8",
    "outputId": "4034c98e-f08b-451d-be82-102674b5b47d"
   },
   "outputs": [
    {
     "name": "stderr",
     "output_type": "stream",
     "text": [
      "[nltk_data] Downloading package stopwords to\n",
      "[nltk_data]     /Users/hanjiatong/nltk_data...\n",
      "[nltk_data]   Package stopwords is already up-to-date!\n",
      "[nltk_data] Downloading package averaged_perceptron_tagger to\n",
      "[nltk_data]     /Users/hanjiatong/nltk_data...\n",
      "[nltk_data]   Package averaged_perceptron_tagger is already up-to-\n",
      "[nltk_data]       date!\n",
      "[nltk_data] Downloading package wordnet to\n",
      "[nltk_data]     /Users/hanjiatong/nltk_data...\n",
      "[nltk_data]   Package wordnet is already up-to-date!\n",
      "[nltk_data] Downloading package vader_lexicon to\n",
      "[nltk_data]     /Users/hanjiatong/nltk_data...\n",
      "[nltk_data]   Package vader_lexicon is already up-to-date!\n"
     ]
    },
    {
     "data": {
      "text/plain": [
       "True"
      ]
     },
     "execution_count": 3,
     "metadata": {},
     "output_type": "execute_result"
    }
   ],
   "source": [
    "import nltk\n",
    "import ssl\n",
    "\n",
    "try:\n",
    "    _create_unverified_https_context = ssl._create_unverified_context\n",
    "except AttributeError:\n",
    "    pass\n",
    "else:\n",
    "    ssl._create_default_https_context = _create_unverified_https_context\n",
    "nltk.download('stopwords')\n",
    "nltk.download('averaged_perceptron_tagger')\n",
    "nltk.download('wordnet')\n",
    "nltk.download('vader_lexicon')"
   ]
  },
  {
   "cell_type": "code",
   "execution_count": 190,
   "metadata": {
    "id": "maEn1uubntvM"
   },
   "outputs": [],
   "source": [
    "df = pd.read_csv('../../Datasets/cleaned_reviews.csv').iloc[:,1:]"
   ]
  },
  {
   "cell_type": "code",
   "execution_count": 191,
   "metadata": {
    "id": "YipsF3AcntvN",
    "scrolled": true
   },
   "outputs": [
    {
     "data": {
      "text/html": [
       "<div>\n",
       "<style scoped>\n",
       "    .dataframe tbody tr th:only-of-type {\n",
       "        vertical-align: middle;\n",
       "    }\n",
       "\n",
       "    .dataframe tbody tr th {\n",
       "        vertical-align: top;\n",
       "    }\n",
       "\n",
       "    .dataframe thead th {\n",
       "        text-align: right;\n",
       "    }\n",
       "</style>\n",
       "<table border=\"1\" class=\"dataframe\">\n",
       "  <thead>\n",
       "    <tr style=\"text-align: right;\">\n",
       "      <th></th>\n",
       "      <th>reviewer_id</th>\n",
       "      <th>listing_id</th>\n",
       "      <th>date</th>\n",
       "      <th>reviewer_name</th>\n",
       "      <th>comments</th>\n",
       "      <th>name</th>\n",
       "      <th>description</th>\n",
       "      <th>neighborhood_overview</th>\n",
       "      <th>host_id</th>\n",
       "      <th>host_since</th>\n",
       "      <th>...</th>\n",
       "      <th>review_scores_rating</th>\n",
       "      <th>review_scores_accuracy</th>\n",
       "      <th>review_scores_cleanliness</th>\n",
       "      <th>review_scores_checkin</th>\n",
       "      <th>review_scores_communication</th>\n",
       "      <th>review_scores_location</th>\n",
       "      <th>review_scores_value</th>\n",
       "      <th>instant_bookable</th>\n",
       "      <th>calculated_host_listings_count</th>\n",
       "      <th>reviews_per_month</th>\n",
       "    </tr>\n",
       "  </thead>\n",
       "  <tbody>\n",
       "    <tr>\n",
       "      <th>0</th>\n",
       "      <td>8557223</td>\n",
       "      <td>49091</td>\n",
       "      <td>2013-10-21</td>\n",
       "      <td>Jared</td>\n",
       "      <td>Fran was absolutely gracious and welcoming. Made my stay a great experience. Would definitely recommend this cozy and peaceful place to anyone.</td>\n",
       "      <td>COZICOMFORT LONG TERM STAY ROOM 2</td>\n",
       "      <td>This is Room No. 2.(available after Jan 15 2014) USD750 per month.  You may want to take a look at room number 1 as well. Room NO 1 is available immediately at USD700 per month Its at the far right corner of your screen below. Please note that currency is in USD unless stated as SGD. only LONG TERM STAY (6 months minimum) Place is available only to adults. Good location. 10 minutes walk to train station. 10 minutes walk to Bus stops.  7 minutes walk to 24 hour food center.  7 minutes walk to...</td>\n",
       "      <td>NaN</td>\n",
       "      <td>266763</td>\n",
       "      <td>2010-10-20</td>\n",
       "      <td>...</td>\n",
       "      <td>94.0</td>\n",
       "      <td>10.0</td>\n",
       "      <td>10.0</td>\n",
       "      <td>10.0</td>\n",
       "      <td>10.0</td>\n",
       "      <td>8.0</td>\n",
       "      <td>8.0</td>\n",
       "      <td>f</td>\n",
       "      <td>2</td>\n",
       "      <td>0.02</td>\n",
       "    </tr>\n",
       "    <tr>\n",
       "      <th>1</th>\n",
       "      <td>1356099</td>\n",
       "      <td>50646</td>\n",
       "      <td>2014-04-18</td>\n",
       "      <td>James</td>\n",
       "      <td>A comfortable room in a smart condo development. Everything was kept very clean and I had the use of my own bathroom. Sujatha and her husband are great hosts - very friendly and accommodating. I'll be staying here again.</td>\n",
       "      <td>Pleasant Room along Bukit Timah</td>\n",
       "      <td>Fully furnished bedroom with a nice view on the 10th floor of a newly built private condominium on one of the  most preferred residential estates in Singapore. Good Condition room, bright &amp; windy. Comes with TV, Aircon, Bed, wardrobe. Can accommodate couples or 2 ladies or students for long-term rental only. Kitchen, washing facilities, gym, swimming pool, etc. We love to host people &amp; have the opportunity to learn &amp; enjoy the various culture &amp; languages around the world.  We hope to part as...</td>\n",
       "      <td>The serenity &amp; quiet surrounding makes it an ideal place to come back to after work / play. Lovely birds chirping for a nice morning wake up (if you leave the windows open) are a pleasure to wake up to.  Located on the main road but at just a short walk in makes it an ideal neighbourhood with excellent transport facilities &amp; food, supermarket, etc, all as required for a convenient living.</td>\n",
       "      <td>227796</td>\n",
       "      <td>2010-09-08</td>\n",
       "      <td>...</td>\n",
       "      <td>91.0</td>\n",
       "      <td>9.0</td>\n",
       "      <td>10.0</td>\n",
       "      <td>10.0</td>\n",
       "      <td>10.0</td>\n",
       "      <td>9.0</td>\n",
       "      <td>9.0</td>\n",
       "      <td>f</td>\n",
       "      <td>1</td>\n",
       "      <td>0.30</td>\n",
       "    </tr>\n",
       "    <tr>\n",
       "      <th>2</th>\n",
       "      <td>15222393</td>\n",
       "      <td>50646</td>\n",
       "      <td>2014-06-05</td>\n",
       "      <td>Welli</td>\n",
       "      <td>Stayed over at Sujatha's house for 3 good nights with my boyfriend. Sujatha and her husband are great hosts, very welcoming and friendly. The room is comfortable and clean. I'm happy to have my own bathroom as i'm particular with shared bathroom. \\r\\nThe location is accessible. A few minutes walk from the house to nearest bus stop which can bring you to town.\\r\\nGood place, good hosts, good price.\\r\\nHighly recommended!</td>\n",
       "      <td>Pleasant Room along Bukit Timah</td>\n",
       "      <td>Fully furnished bedroom with a nice view on the 10th floor of a newly built private condominium on one of the  most preferred residential estates in Singapore. Good Condition room, bright &amp; windy. Comes with TV, Aircon, Bed, wardrobe. Can accommodate couples or 2 ladies or students for long-term rental only. Kitchen, washing facilities, gym, swimming pool, etc. We love to host people &amp; have the opportunity to learn &amp; enjoy the various culture &amp; languages around the world.  We hope to part as...</td>\n",
       "      <td>The serenity &amp; quiet surrounding makes it an ideal place to come back to after work / play. Lovely birds chirping for a nice morning wake up (if you leave the windows open) are a pleasure to wake up to.  Located on the main road but at just a short walk in makes it an ideal neighbourhood with excellent transport facilities &amp; food, supermarket, etc, all as required for a convenient living.</td>\n",
       "      <td>227796</td>\n",
       "      <td>2010-09-08</td>\n",
       "      <td>...</td>\n",
       "      <td>91.0</td>\n",
       "      <td>9.0</td>\n",
       "      <td>10.0</td>\n",
       "      <td>10.0</td>\n",
       "      <td>10.0</td>\n",
       "      <td>9.0</td>\n",
       "      <td>9.0</td>\n",
       "      <td>f</td>\n",
       "      <td>1</td>\n",
       "      <td>0.30</td>\n",
       "    </tr>\n",
       "    <tr>\n",
       "      <th>3</th>\n",
       "      <td>5543172</td>\n",
       "      <td>50646</td>\n",
       "      <td>2014-07-02</td>\n",
       "      <td>Cyril</td>\n",
       "      <td>It's been a lovely stay at Sujatha's. The room is clean and the location is just perfect for a stop-over in Singapore. I really enjoyed relaxing at the swimming pool after spending most of the day in the city. Thank you Sujatha.</td>\n",
       "      <td>Pleasant Room along Bukit Timah</td>\n",
       "      <td>Fully furnished bedroom with a nice view on the 10th floor of a newly built private condominium on one of the  most preferred residential estates in Singapore. Good Condition room, bright &amp; windy. Comes with TV, Aircon, Bed, wardrobe. Can accommodate couples or 2 ladies or students for long-term rental only. Kitchen, washing facilities, gym, swimming pool, etc. We love to host people &amp; have the opportunity to learn &amp; enjoy the various culture &amp; languages around the world.  We hope to part as...</td>\n",
       "      <td>The serenity &amp; quiet surrounding makes it an ideal place to come back to after work / play. Lovely birds chirping for a nice morning wake up (if you leave the windows open) are a pleasure to wake up to.  Located on the main road but at just a short walk in makes it an ideal neighbourhood with excellent transport facilities &amp; food, supermarket, etc, all as required for a convenient living.</td>\n",
       "      <td>227796</td>\n",
       "      <td>2010-09-08</td>\n",
       "      <td>...</td>\n",
       "      <td>91.0</td>\n",
       "      <td>9.0</td>\n",
       "      <td>10.0</td>\n",
       "      <td>10.0</td>\n",
       "      <td>10.0</td>\n",
       "      <td>9.0</td>\n",
       "      <td>9.0</td>\n",
       "      <td>f</td>\n",
       "      <td>1</td>\n",
       "      <td>0.30</td>\n",
       "    </tr>\n",
       "    <tr>\n",
       "      <th>4</th>\n",
       "      <td>817532</td>\n",
       "      <td>50646</td>\n",
       "      <td>2014-07-08</td>\n",
       "      <td>Jake</td>\n",
       "      <td>We had a great experience. A nice place, an amazing complex and easy access to public transit</td>\n",
       "      <td>Pleasant Room along Bukit Timah</td>\n",
       "      <td>Fully furnished bedroom with a nice view on the 10th floor of a newly built private condominium on one of the  most preferred residential estates in Singapore. Good Condition room, bright &amp; windy. Comes with TV, Aircon, Bed, wardrobe. Can accommodate couples or 2 ladies or students for long-term rental only. Kitchen, washing facilities, gym, swimming pool, etc. We love to host people &amp; have the opportunity to learn &amp; enjoy the various culture &amp; languages around the world.  We hope to part as...</td>\n",
       "      <td>The serenity &amp; quiet surrounding makes it an ideal place to come back to after work / play. Lovely birds chirping for a nice morning wake up (if you leave the windows open) are a pleasure to wake up to.  Located on the main road but at just a short walk in makes it an ideal neighbourhood with excellent transport facilities &amp; food, supermarket, etc, all as required for a convenient living.</td>\n",
       "      <td>227796</td>\n",
       "      <td>2010-09-08</td>\n",
       "      <td>...</td>\n",
       "      <td>91.0</td>\n",
       "      <td>9.0</td>\n",
       "      <td>10.0</td>\n",
       "      <td>10.0</td>\n",
       "      <td>10.0</td>\n",
       "      <td>9.0</td>\n",
       "      <td>9.0</td>\n",
       "      <td>f</td>\n",
       "      <td>1</td>\n",
       "      <td>0.30</td>\n",
       "    </tr>\n",
       "  </tbody>\n",
       "</table>\n",
       "<p>5 rows × 55 columns</p>\n",
       "</div>"
      ],
      "text/plain": [
       "   reviewer_id  listing_id        date reviewer_name  \\\n",
       "0      8557223       49091  2013-10-21         Jared   \n",
       "1      1356099       50646  2014-04-18         James   \n",
       "2     15222393       50646  2014-06-05         Welli   \n",
       "3      5543172       50646  2014-07-02         Cyril   \n",
       "4       817532       50646  2014-07-08          Jake   \n",
       "\n",
       "                                                                                                                                                                                                                                                                                                                                                                                                                                  comments  \\\n",
       "0                                                                                                                                                                                                                                                                                          Fran was absolutely gracious and welcoming. Made my stay a great experience. Would definitely recommend this cozy and peaceful place to anyone.   \n",
       "1                                                                                                                                                                                                             A comfortable room in a smart condo development. Everything was kept very clean and I had the use of my own bathroom. Sujatha and her husband are great hosts - very friendly and accommodating. I'll be staying here again.   \n",
       "2  Stayed over at Sujatha's house for 3 good nights with my boyfriend. Sujatha and her husband are great hosts, very welcoming and friendly. The room is comfortable and clean. I'm happy to have my own bathroom as i'm particular with shared bathroom. \\r\\nThe location is accessible. A few minutes walk from the house to nearest bus stop which can bring you to town.\\r\\nGood place, good hosts, good price.\\r\\nHighly recommended!   \n",
       "3                                                                                                                                                                                                     It's been a lovely stay at Sujatha's. The room is clean and the location is just perfect for a stop-over in Singapore. I really enjoyed relaxing at the swimming pool after spending most of the day in the city. Thank you Sujatha.   \n",
       "4                                                                                                                                                                                                                                                                                                                                            We had a great experience. A nice place, an amazing complex and easy access to public transit   \n",
       "\n",
       "                                name  \\\n",
       "0  COZICOMFORT LONG TERM STAY ROOM 2   \n",
       "1    Pleasant Room along Bukit Timah   \n",
       "2    Pleasant Room along Bukit Timah   \n",
       "3    Pleasant Room along Bukit Timah   \n",
       "4    Pleasant Room along Bukit Timah   \n",
       "\n",
       "                                                                                                                                                                                                                                                                                                                                                                                                                                                                                                           description  \\\n",
       "0  This is Room No. 2.(available after Jan 15 2014) USD750 per month.  You may want to take a look at room number 1 as well. Room NO 1 is available immediately at USD700 per month Its at the far right corner of your screen below. Please note that currency is in USD unless stated as SGD. only LONG TERM STAY (6 months minimum) Place is available only to adults. Good location. 10 minutes walk to train station. 10 minutes walk to Bus stops.  7 minutes walk to 24 hour food center.  7 minutes walk to...   \n",
       "1  Fully furnished bedroom with a nice view on the 10th floor of a newly built private condominium on one of the  most preferred residential estates in Singapore. Good Condition room, bright & windy. Comes with TV, Aircon, Bed, wardrobe. Can accommodate couples or 2 ladies or students for long-term rental only. Kitchen, washing facilities, gym, swimming pool, etc. We love to host people & have the opportunity to learn & enjoy the various culture & languages around the world.  We hope to part as...   \n",
       "2  Fully furnished bedroom with a nice view on the 10th floor of a newly built private condominium on one of the  most preferred residential estates in Singapore. Good Condition room, bright & windy. Comes with TV, Aircon, Bed, wardrobe. Can accommodate couples or 2 ladies or students for long-term rental only. Kitchen, washing facilities, gym, swimming pool, etc. We love to host people & have the opportunity to learn & enjoy the various culture & languages around the world.  We hope to part as...   \n",
       "3  Fully furnished bedroom with a nice view on the 10th floor of a newly built private condominium on one of the  most preferred residential estates in Singapore. Good Condition room, bright & windy. Comes with TV, Aircon, Bed, wardrobe. Can accommodate couples or 2 ladies or students for long-term rental only. Kitchen, washing facilities, gym, swimming pool, etc. We love to host people & have the opportunity to learn & enjoy the various culture & languages around the world.  We hope to part as...   \n",
       "4  Fully furnished bedroom with a nice view on the 10th floor of a newly built private condominium on one of the  most preferred residential estates in Singapore. Good Condition room, bright & windy. Comes with TV, Aircon, Bed, wardrobe. Can accommodate couples or 2 ladies or students for long-term rental only. Kitchen, washing facilities, gym, swimming pool, etc. We love to host people & have the opportunity to learn & enjoy the various culture & languages around the world.  We hope to part as...   \n",
       "\n",
       "                                                                                                                                                                                                                                                                                                                                                                                     neighborhood_overview  \\\n",
       "0                                                                                                                                                                                                                                                                                                                                                                                                      NaN   \n",
       "1  The serenity & quiet surrounding makes it an ideal place to come back to after work / play. Lovely birds chirping for a nice morning wake up (if you leave the windows open) are a pleasure to wake up to.  Located on the main road but at just a short walk in makes it an ideal neighbourhood with excellent transport facilities & food, supermarket, etc, all as required for a convenient living.   \n",
       "2  The serenity & quiet surrounding makes it an ideal place to come back to after work / play. Lovely birds chirping for a nice morning wake up (if you leave the windows open) are a pleasure to wake up to.  Located on the main road but at just a short walk in makes it an ideal neighbourhood with excellent transport facilities & food, supermarket, etc, all as required for a convenient living.   \n",
       "3  The serenity & quiet surrounding makes it an ideal place to come back to after work / play. Lovely birds chirping for a nice morning wake up (if you leave the windows open) are a pleasure to wake up to.  Located on the main road but at just a short walk in makes it an ideal neighbourhood with excellent transport facilities & food, supermarket, etc, all as required for a convenient living.   \n",
       "4  The serenity & quiet surrounding makes it an ideal place to come back to after work / play. Lovely birds chirping for a nice morning wake up (if you leave the windows open) are a pleasure to wake up to.  Located on the main road but at just a short walk in makes it an ideal neighbourhood with excellent transport facilities & food, supermarket, etc, all as required for a convenient living.   \n",
       "\n",
       "   host_id  host_since  ... review_scores_rating review_scores_accuracy  \\\n",
       "0   266763  2010-10-20  ...                 94.0                   10.0   \n",
       "1   227796  2010-09-08  ...                 91.0                    9.0   \n",
       "2   227796  2010-09-08  ...                 91.0                    9.0   \n",
       "3   227796  2010-09-08  ...                 91.0                    9.0   \n",
       "4   227796  2010-09-08  ...                 91.0                    9.0   \n",
       "\n",
       "  review_scores_cleanliness review_scores_checkin review_scores_communication  \\\n",
       "0                      10.0                  10.0                        10.0   \n",
       "1                      10.0                  10.0                        10.0   \n",
       "2                      10.0                  10.0                        10.0   \n",
       "3                      10.0                  10.0                        10.0   \n",
       "4                      10.0                  10.0                        10.0   \n",
       "\n",
       "  review_scores_location review_scores_value instant_bookable  \\\n",
       "0                    8.0                 8.0                f   \n",
       "1                    9.0                 9.0                f   \n",
       "2                    9.0                 9.0                f   \n",
       "3                    9.0                 9.0                f   \n",
       "4                    9.0                 9.0                f   \n",
       "\n",
       "  calculated_host_listings_count reviews_per_month  \n",
       "0                              2              0.02  \n",
       "1                              1              0.30  \n",
       "2                              1              0.30  \n",
       "3                              1              0.30  \n",
       "4                              1              0.30  \n",
       "\n",
       "[5 rows x 55 columns]"
      ]
     },
     "execution_count": 191,
     "metadata": {},
     "output_type": "execute_result"
    }
   ],
   "source": [
    "df.head()"
   ]
  },
  {
   "cell_type": "code",
   "execution_count": 192,
   "metadata": {
    "id": "QMtIoVtQntvN",
    "scrolled": true
   },
   "outputs": [
    {
     "data": {
      "text/plain": [
       "False    155521\n",
       "True        176\n",
       "Name: comments, dtype: int64"
      ]
     },
     "execution_count": 192,
     "metadata": {},
     "output_type": "execute_result"
    }
   ],
   "source": [
    "df.comments.isna().value_counts()"
   ]
  },
  {
   "cell_type": "code",
   "execution_count": 193,
   "metadata": {
    "id": "RDV68rUzntvN"
   },
   "outputs": [],
   "source": [
    "df.comments.fillna('',inplace=True)"
   ]
  },
  {
   "cell_type": "code",
   "execution_count": 194,
   "metadata": {
    "scrolled": false
   },
   "outputs": [
    {
     "data": {
      "text/plain": [
       "'Fran was absolutely gracious and welcoming. Made my stay a great experience. Would definitely recommend this cozy and peaceful place to anyone.'"
      ]
     },
     "execution_count": 194,
     "metadata": {},
     "output_type": "execute_result"
    }
   ],
   "source": [
    "df.comments[0]"
   ]
  },
  {
   "cell_type": "markdown",
   "metadata": {},
   "source": [
    "### Clear some unprocessable comments\n",
    "There are automated replies like _'the host canceled the reservation the day before arrival. This is an automated posting'_. Host cancellation has already been considered in the cleaned listing dataset. Thus we omit them here."
   ]
  },
  {
   "cell_type": "code",
   "execution_count": 195,
   "metadata": {
    "scrolled": true
   },
   "outputs": [],
   "source": [
    "cancel_post = 'This is an automated posting'\n",
    "\n",
    "df = df[[cancel_post not in text for text in df.comments]]"
   ]
  },
  {
   "cell_type": "code",
   "execution_count": 196,
   "metadata": {},
   "outputs": [
    {
     "data": {
      "text/plain": [
       "(153109, 55)"
      ]
     },
     "execution_count": 196,
     "metadata": {},
     "output_type": "execute_result"
    }
   ],
   "source": [
    "df.shape"
   ]
  },
  {
   "cell_type": "markdown",
   "metadata": {},
   "source": [
    "#### Utility function: Detect foreign languages and translate them into English"
   ]
  },
  {
   "cell_type": "code",
   "execution_count": 197,
   "metadata": {},
   "outputs": [],
   "source": [
    "from google_trans_new import google_translator \n",
    "translator = google_translator() \n",
    "\n",
    "def detectandtranslate(texts):\n",
    "    trans = pd.DataFrame(index=texts.index,columns=['text'])\n",
    "    non_eng_count = 0\n",
    "    for i in texts.index:\n",
    "        text = texts[i]\n",
    "        detect_res = translator.detect(text)\n",
    "        if not detect_res:\n",
    "            trans.loc[i,'text'] = ''\n",
    "        elif translator.detect(text)[1] != 'english':\n",
    "            non_eng_count += 1\n",
    "            trans.loc[i,'text'] = translator.translate(text,lang_tgt='en')\n",
    "        else:\n",
    "            trans.loc[i,'text'] = text\n",
    "    return non_eng_count / len(texts), trans"
   ]
  },
  {
   "cell_type": "markdown",
   "metadata": {
    "id": "Nl9xPCsdntvO"
   },
   "source": [
    "### 1. Tokenize the text and extract most frequent words"
   ]
  },
  {
   "cell_type": "code",
   "execution_count": 198,
   "metadata": {
    "id": "N1mNBqV3ntvO"
   },
   "outputs": [],
   "source": [
    "from sklearn.feature_extraction.text import TfidfVectorizer\n",
    "\n",
    "from nltk.corpus import stopwords\n",
    "\n",
    "def tokenizer(text):\n",
    "    # tokenize text and remove puncutation\n",
    "    text = [word.strip(string.punctuation) for word in text.split(\" \")]\n",
    "    # remove words that contain numbers\n",
    "    text = [word for word in text if not any(c.isdigit() for c in word)]\n",
    "    # remove stop words\n",
    "    stop = stopwords.words('english')\n",
    "    text = [x for x in text if x not in stop]\n",
    "    # remove empty tokens\n",
    "    text = [t for t in text if len(t) > 0]\n",
    "    # remove words with only one letter\n",
    "    text = [t for t in text if len(t) > 1]\n",
    "    return(text)\n",
    "\n",
    "vectorizer = TfidfVectorizer(stop_words='english',\n",
    "                             ngram_range=(1,2),\n",
    "                             max_df = 0.5,\n",
    "                             tokenizer=tokenizer,\n",
    "                             max_features=200)\n",
    "X = vectorizer.fit_transform(df.comments)"
   ]
  },
  {
   "cell_type": "code",
   "execution_count": 199,
   "metadata": {
    "colab": {
     "base_uri": "https://localhost:8080/"
    },
    "id": "KRn8l6xpntvP",
    "outputId": "e8457b0e-1271-43a2-b8d8-3c008457ae9e",
    "scrolled": true
   },
   "outputs": [
    {
     "name": "stdout",
     "output_type": "stream",
     "text": [
      "['access', 'accommodating', 'air', 'airbnb', 'airport', 'amazing', 'amenities', 'apartment', 'area', 'available', 'away', 'awesome', 'bathroom', 'beautiful', 'bed', 'bedroom', 'best', 'better', 'big', 'bit', 'book', 'breakfast', 'building', 'bus', 'bus stop', 'center', 'central', 'centre', 'check', 'check-in', 'chinatown', 'city', 'clean', 'close', 'close mrt', 'come', 'comfortable', 'communication', 'condo', 'convenient', 'cozy', 'day', 'days', 'definitely', 'definitely recommend', 'distance', 'door', 'easily', 'easy', 'enjoyed', 'enjoyed stay', 'especially', 'exactly', 'excellent', 'experience', 'extremely', 'facilities', 'family', 'fantastic', 'far', 'fast', 'feel', 'felt', 'flat', 'floor', 'food', 'friendly', 'friends', 'gave', 'good', 'good location', 'good place', 'got', 'great', 'great host', 'great location', 'great place', 'great stay', 'guests', 'help', 'helpful', 'highly', 'highly recommend', 'highly recommended', 'home', 'host', 'hosts', 'hotel', 'house', 'it’s', 'kind', 'kitchen', 'late', 'like', 'little', 'living', 'local', 'located', 'location', 'location great', 'looking', 'lot', 'lots', 'love', 'loved', 'lovely', 'make', 'mall', 'min', 'mins', 'minute', 'minutes', 'money', 'mrt', 'mrt station', 'near', 'nearby', 'need', 'needed', 'neighborhood', 'new', 'nice', 'nice place', 'night', 'orchard', 'outside', 'overall', 'people', 'perfect', 'person', 'pictures', 'place', 'place clean', 'place great', 'place stay', 'places', 'pleasant', 'pool', 'price', 'provided', 'public', 'quick', 'quiet', 'quite', 'really', 'recommend', 'recommend place', 'recommended', 'responsive', 'restaurants', 'right', 'road', 'room', 'room clean', 'rooms', 'safe', 'service', 'shopping', 'shops', 'short', 'shower', 'singapore', 'small', 'space', 'spacious', 'staff', 'station', 'stay', 'stay singapore', 'stayed', 'staying', 'stop', 'street', 'super', 'sure', 'swimming', 'taxi', 'thank', 'thanks', 'things', 'time', 'toilet', 'train', 'transport', 'trip', 'und', 'unit', 'use', 'value', 'value money', 'view', 'visit', 'walk', 'walking', 'walking distance', 'want', 'water', 'way', 'wifi', 'wonderful']\n"
     ]
    }
   ],
   "source": [
    "print(vectorizer.get_feature_names())"
   ]
  },
  {
   "cell_type": "markdown",
   "metadata": {
    "id": "mOoMzOg59Tzq"
   },
   "source": [
    "### 2. Using Vader Model\n",
    "Reasons for choosing this model:<br>\n",
    "1. From the NLTK package, Vadar model is trained with **website comments and reviews**, making itself suitable for this senario.\n",
    "2. It is exceptionally good at dealing with **sentences with mixed sentiments** and rate a compounded score.\n",
    "3. It accounts for many **acronyms, slangs, Capitalized Words and even emojis** that are recently prevalent on the Internet.\n",
    "4. Rule-based model makes it **easily adjustable**."
   ]
  },
  {
   "cell_type": "code",
   "execution_count": 200,
   "metadata": {
    "colab": {
     "base_uri": "https://localhost:8080/"
    },
    "id": "yuTGKE4Kd7Dp",
    "outputId": "c0d40426-9946-4fe6-af51-3aef7951391f"
   },
   "outputs": [],
   "source": [
    "from nltk.sentiment.vader import SentimentIntensityAnalyzer"
   ]
  },
  {
   "cell_type": "code",
   "execution_count": 201,
   "metadata": {
    "id": "E_h5T4WV9iss"
   },
   "outputs": [],
   "source": [
    "sid = SentimentIntensityAnalyzer()\n",
    "newWords = {'amenities': 0.5, 'big': 0.5, 'bus': 0.5,'near':0.5,'nearby':0.5,'quiet':0.5,'quick':0.5,'spacious':0.5,'responsive':0.5,\n",
    "    'family':0.5,'close':0.5,'room clean':0.5,'hospitality':0.5,'accessible':0.5,'affordable':0.5,'high':0.5,'shopping':0.5,'dining':0.5,'exactly':0.5}\n",
    "sid.lexicon.update(newWords)"
   ]
  },
  {
   "cell_type": "code",
   "execution_count": 202,
   "metadata": {
    "id": "gRkYFWSHFKd8"
   },
   "outputs": [],
   "source": [
    "def get_sentiment(text, sid):\n",
    "    return sid.polarity_scores(text)['compound']"
   ]
  },
  {
   "cell_type": "code",
   "execution_count": 203,
   "metadata": {
    "colab": {
     "base_uri": "https://localhost:8080/",
     "height": 164
    },
    "id": "41pEkuyLefHA",
    "outputId": "e223438c-ab21-4dd7-93be-c156c1724a1a",
    "scrolled": true
   },
   "outputs": [
    {
     "data": {
      "text/plain": [
       "count    153109.00000\n",
       "mean          0.64358\n",
       "std           0.39972\n",
       "min          -0.99830\n",
       "25%           0.44040\n",
       "50%           0.83100\n",
       "75%           0.94100\n",
       "max           0.99980\n",
       "Name: polarity_score, dtype: float64"
      ]
     },
     "execution_count": 203,
     "metadata": {},
     "output_type": "execute_result"
    }
   ],
   "source": [
    "df['polarity_score'] = [get_sentiment(text,sid) for text in df.comments]\n",
    "df['polarity_score'].describe()"
   ]
  },
  {
   "cell_type": "code",
   "execution_count": 204,
   "metadata": {
    "scrolled": true
   },
   "outputs": [
    {
     "name": "stderr",
     "output_type": "stream",
     "text": [
      "<ipython-input-204-5efb92ba86a4>:2: SettingWithCopyWarning: \n",
      "A value is trying to be set on a copy of a slice from a DataFrame.\n",
      "Try using .loc[row_indexer,col_indexer] = value instead\n",
      "\n",
      "See the caveats in the documentation: https://pandas.pydata.org/pandas-docs/stable/user_guide/indexing.html#returning-a-view-versus-a-copy\n",
      "  df_full['count'] = 1\n",
      "/Library/Frameworks/Python.framework/Versions/3.8/lib/python3.8/site-packages/seaborn/_decorators.py:36: FutureWarning: Pass the following variables as keyword args: x, y. From version 0.12, the only valid positional argument will be `data`, and passing other arguments without an explicit keyword will result in an error or misinterpretation.\n",
      "  warnings.warn(\n"
     ]
    },
    {
     "data": {
      "image/png": "[encoded data removed]",
      "text/plain": [
       "<Figure size 432x288 with 1 Axes>"
      ]
     },
     "metadata": {
      "needs_background": "light"
     },
     "output_type": "display_data"
    }
   ],
   "source": [
    "df_full = df[['polarity_score','listing_id']]\n",
    "df_full['count'] = 1\n",
    "df_full = df_full.groupby(['listing_id']).agg({'polarity_score':'mean', 'count':'count'})\n",
    "sns.scatterplot('polarity_score', 'count', data=df_full);"
   ]
  },
  {
   "cell_type": "code",
   "execution_count": 205,
   "metadata": {
    "scrolled": true
   },
   "outputs": [
    {
     "data": {
      "text/html": [
       "<style  type=\"text/css\" >\n",
       "#T_b67cac70_8ad3_11eb_a4e5_8c8590b0a720row0_col2{\n",
       "            width:  10em;\n",
       "             height:  80%;\n",
       "            background:  linear-gradient(90deg,#5fba7d 88.6%, transparent 88.6%);\n",
       "        }#T_b67cac70_8ad3_11eb_a4e5_8c8590b0a720row1_col2{\n",
       "            width:  10em;\n",
       "             height:  80%;\n",
       "            background:  linear-gradient(90deg,#5fba7d 95.0%, transparent 95.0%);\n",
       "        }#T_b67cac70_8ad3_11eb_a4e5_8c8590b0a720row2_col2{\n",
       "            width:  10em;\n",
       "             height:  80%;\n",
       "            background:  linear-gradient(90deg,#5fba7d 90.0%, transparent 90.0%);\n",
       "        }#T_b67cac70_8ad3_11eb_a4e5_8c8590b0a720row3_col2{\n",
       "            width:  10em;\n",
       "             height:  80%;\n",
       "            background:  linear-gradient(90deg,#5fba7d 88.0%, transparent 88.0%);\n",
       "        }#T_b67cac70_8ad3_11eb_a4e5_8c8590b0a720row4_col2{\n",
       "            width:  10em;\n",
       "             height:  80%;\n",
       "            background:  linear-gradient(90deg,#5fba7d 81.6%, transparent 81.6%);\n",
       "        }#T_b67cac70_8ad3_11eb_a4e5_8c8590b0a720row5_col2{\n",
       "            width:  10em;\n",
       "             height:  80%;\n",
       "            background:  linear-gradient(90deg,#5fba7d 97.1%, transparent 97.1%);\n",
       "        }#T_b67cac70_8ad3_11eb_a4e5_8c8590b0a720row6_col2{\n",
       "            width:  10em;\n",
       "             height:  80%;\n",
       "            background:  linear-gradient(90deg,#5fba7d 63.8%, transparent 63.8%);\n",
       "        }#T_b67cac70_8ad3_11eb_a4e5_8c8590b0a720row7_col2{\n",
       "            width:  10em;\n",
       "             height:  80%;\n",
       "            background:  linear-gradient(90deg,#5fba7d 100.0%, transparent 100.0%);\n",
       "        }#T_b67cac70_8ad3_11eb_a4e5_8c8590b0a720row8_col2{\n",
       "            width:  10em;\n",
       "             height:  80%;\n",
       "            background:  linear-gradient(90deg,#5fba7d 70.5%, transparent 70.5%);\n",
       "        }#T_b67cac70_8ad3_11eb_a4e5_8c8590b0a720row9_col2{\n",
       "            width:  10em;\n",
       "             height:  80%;\n",
       "            background:  linear-gradient(90deg,#5fba7d 82.4%, transparent 82.4%);\n",
       "        }#T_b67cac70_8ad3_11eb_a4e5_8c8590b0a720row10_col2{\n",
       "            width:  10em;\n",
       "             height:  80%;\n",
       "            background:  linear-gradient(90deg,#5fba7d 94.0%, transparent 94.0%);\n",
       "        }#T_b67cac70_8ad3_11eb_a4e5_8c8590b0a720row11_col2{\n",
       "            width:  10em;\n",
       "             height:  80%;\n",
       "            background:  linear-gradient(90deg,#5fba7d 94.5%, transparent 94.5%);\n",
       "        }#T_b67cac70_8ad3_11eb_a4e5_8c8590b0a720row12_col2{\n",
       "            width:  10em;\n",
       "             height:  80%;\n",
       "            background:  linear-gradient(90deg,#5fba7d 97.8%, transparent 97.8%);\n",
       "        }#T_b67cac70_8ad3_11eb_a4e5_8c8590b0a720row13_col2{\n",
       "            width:  10em;\n",
       "             height:  80%;\n",
       "            background:  linear-gradient(90deg,#5fba7d 92.5%, transparent 92.5%);\n",
       "        }#T_b67cac70_8ad3_11eb_a4e5_8c8590b0a720row14_col2{\n",
       "            width:  10em;\n",
       "             height:  80%;\n",
       "            background:  linear-gradient(90deg,#5fba7d 98.4%, transparent 98.4%);\n",
       "        }#T_b67cac70_8ad3_11eb_a4e5_8c8590b0a720row15_col2{\n",
       "            width:  10em;\n",
       "             height:  80%;\n",
       "            background:  linear-gradient(90deg,#5fba7d 80.6%, transparent 80.6%);\n",
       "        }#T_b67cac70_8ad3_11eb_a4e5_8c8590b0a720row16_col2{\n",
       "            width:  10em;\n",
       "             height:  80%;\n",
       "            background:  linear-gradient(90deg,#5fba7d 77.7%, transparent 77.7%);\n",
       "        }#T_b67cac70_8ad3_11eb_a4e5_8c8590b0a720row17_col2{\n",
       "            width:  10em;\n",
       "             height:  80%;\n",
       "            background:  linear-gradient(90deg,#5fba7d 97.3%, transparent 97.3%);\n",
       "        }#T_b67cac70_8ad3_11eb_a4e5_8c8590b0a720row18_col2{\n",
       "            width:  10em;\n",
       "             height:  80%;\n",
       "            background:  linear-gradient(90deg,#5fba7d 78.1%, transparent 78.1%);\n",
       "        }#T_b67cac70_8ad3_11eb_a4e5_8c8590b0a720row19_col2{\n",
       "            width:  10em;\n",
       "             height:  80%;\n",
       "            background:  linear-gradient(90deg,#5fba7d 87.0%, transparent 87.0%);\n",
       "        }</style><table id=\"T_b67cac70_8ad3_11eb_a4e5_8c8590b0a720\" ><thead>    <tr>        <th class=\"blank level0\" ></th>        <th class=\"col_heading level0 col0\" >reviewer_id</th>        <th class=\"col_heading level0 col1\" >comments</th>        <th class=\"col_heading level0 col2\" >polarity_score</th>    </tr></thead><tbody>\n",
       "                <tr>\n",
       "                        <th id=\"T_b67cac70_8ad3_11eb_a4e5_8c8590b0a720level0_row0\" class=\"row_heading level0 row0\" >99684</th>\n",
       "                        <td id=\"T_b67cac70_8ad3_11eb_a4e5_8c8590b0a720row0_col0\" class=\"data row0 col0\" >147020442</td>\n",
       "                        <td id=\"T_b67cac70_8ad3_11eb_a4e5_8c8590b0a720row0_col1\" class=\"data row0 col1\" >Her place is good and very clean. Well maintained. Thank you Egem.</td>\n",
       "                        <td id=\"T_b67cac70_8ad3_11eb_a4e5_8c8590b0a720row0_col2\" class=\"data row0 col2\" >0.868000</td>\n",
       "            </tr>\n",
       "            <tr>\n",
       "                        <th id=\"T_b67cac70_8ad3_11eb_a4e5_8c8590b0a720level0_row1\" class=\"row_heading level0 row1\" >24282</th>\n",
       "                        <td id=\"T_b67cac70_8ad3_11eb_a4e5_8c8590b0a720row1_col0\" class=\"data row1 col0\" >89630491</td>\n",
       "                        <td id=\"T_b67cac70_8ad3_11eb_a4e5_8c8590b0a720row1_col1\" class=\"data row1 col1\" >A fantastic location and we really enjoyed the local food spots that Cheryl suggested. We also really liked the fantastic pool.</td>\n",
       "                        <td id=\"T_b67cac70_8ad3_11eb_a4e5_8c8590b0a720row1_col2\" class=\"data row1 col2\" >0.931100</td>\n",
       "            </tr>\n",
       "            <tr>\n",
       "                        <th id=\"T_b67cac70_8ad3_11eb_a4e5_8c8590b0a720level0_row2\" class=\"row_heading level0 row2\" >75266</th>\n",
       "                        <td id=\"T_b67cac70_8ad3_11eb_a4e5_8c8590b0a720row2_col0\" class=\"data row2 col0\" >129184510</td>\n",
       "                        <td id=\"T_b67cac70_8ad3_11eb_a4e5_8c8590b0a720row2_col1\" class=\"data row2 col1\" >Very clean and comfortable apartment at a upscale complex at a very central east coast area location. Clear and concise instructions were given for check-in and all questions were answered promptly. Highly recommended.</td>\n",
       "                        <td id=\"T_b67cac70_8ad3_11eb_a4e5_8c8590b0a720row2_col2\" class=\"data row2 col2\" >0.882000</td>\n",
       "            </tr>\n",
       "            <tr>\n",
       "                        <th id=\"T_b67cac70_8ad3_11eb_a4e5_8c8590b0a720level0_row3\" class=\"row_heading level0 row3\" >72762</th>\n",
       "                        <td id=\"T_b67cac70_8ad3_11eb_a4e5_8c8590b0a720row3_col0\" class=\"data row3 col0\" >21194653</td>\n",
       "                        <td id=\"T_b67cac70_8ad3_11eb_a4e5_8c8590b0a720row3_col1\" class=\"data row3 col1\" >Very accurate according to description. Great location with dining options a walk away. Friendly area. Would recommended her place.</td>\n",
       "                        <td id=\"T_b67cac70_8ad3_11eb_a4e5_8c8590b0a720row3_col2\" class=\"data row3 col2\" >0.862500</td>\n",
       "            </tr>\n",
       "            <tr>\n",
       "                        <th id=\"T_b67cac70_8ad3_11eb_a4e5_8c8590b0a720level0_row4\" class=\"row_heading level0 row4\" >35071</th>\n",
       "                        <td id=\"T_b67cac70_8ad3_11eb_a4e5_8c8590b0a720row4_col0\" class=\"data row4 col0\" >1424380</td>\n",
       "                        <td id=\"T_b67cac70_8ad3_11eb_a4e5_8c8590b0a720row4_col1\" class=\"data row4 col1\" >Jerry’s place is very clean and nice. My baby and me had a god sleep. </td>\n",
       "                        <td id=\"T_b67cac70_8ad3_11eb_a4e5_8c8590b0a720row4_col2\" class=\"data row4 col2\" >0.799600</td>\n",
       "            </tr>\n",
       "            <tr>\n",
       "                        <th id=\"T_b67cac70_8ad3_11eb_a4e5_8c8590b0a720level0_row5\" class=\"row_heading level0 row5\" >137118</th>\n",
       "                        <td id=\"T_b67cac70_8ad3_11eb_a4e5_8c8590b0a720row5_col0\" class=\"data row5 col0\" >45826069</td>\n",
       "                        <td id=\"T_b67cac70_8ad3_11eb_a4e5_8c8590b0a720row5_col1\" class=\"data row5 col1\" >The place is maybe better that a dormitory hostel because you can have your own private space. However I found that it was dirty and smelly and very difficult to bear with this for more than 1 night. The locker in the room was very uncomfortable for someone carrying a luggage but had to use it because the room can't be closed from outside. Nevertheless Faizal was very helpful and kind and the neighborhood is very nice. I would say staff and location are the tops of this accommodation.</td>\n",
       "                        <td id=\"T_b67cac70_8ad3_11eb_a4e5_8c8590b0a720row5_col2\" class=\"data row5 col2\" >0.950800</td>\n",
       "            </tr>\n",
       "            <tr>\n",
       "                        <th id=\"T_b67cac70_8ad3_11eb_a4e5_8c8590b0a720level0_row6\" class=\"row_heading level0 row6\" >43768</th>\n",
       "                        <td id=\"T_b67cac70_8ad3_11eb_a4e5_8c8590b0a720row6_col0\" class=\"data row6 col0\" >44717517</td>\n",
       "                        <td id=\"T_b67cac70_8ad3_11eb_a4e5_8c8590b0a720row6_col1\" class=\"data row6 col1\" >Great location</td>\n",
       "                        <td id=\"T_b67cac70_8ad3_11eb_a4e5_8c8590b0a720row6_col2\" class=\"data row6 col2\" >0.624900</td>\n",
       "            </tr>\n",
       "            <tr>\n",
       "                        <th id=\"T_b67cac70_8ad3_11eb_a4e5_8c8590b0a720level0_row7\" class=\"row_heading level0 row7\" >110701</th>\n",
       "                        <td id=\"T_b67cac70_8ad3_11eb_a4e5_8c8590b0a720row7_col0\" class=\"data row7 col0\" >4031092</td>\n",
       "                        <td id=\"T_b67cac70_8ad3_11eb_a4e5_8c8590b0a720row7_col1\" class=\"data row7 col1\" >My teammates and I had a wonderful time at  Pinggi's apartment. It is in such a great location there is food, drinks, shopping (Mustafa) and subway in a walk distance. The apartment its self is comfortable, simple and neat. Pinggi is a wonderful host responding promptly to all queries, and very helpful. I would definitely recommend this apartment.</td>\n",
       "                        <td id=\"T_b67cac70_8ad3_11eb_a4e5_8c8590b0a720row7_col2\" class=\"data row7 col2\" >0.979600</td>\n",
       "            </tr>\n",
       "            <tr>\n",
       "                        <th id=\"T_b67cac70_8ad3_11eb_a4e5_8c8590b0a720level0_row8\" class=\"row_heading level0 row8\" >87631</th>\n",
       "                        <td id=\"T_b67cac70_8ad3_11eb_a4e5_8c8590b0a720row8_col0\" class=\"data row8 col0\" >78147036</td>\n",
       "                        <td id=\"T_b67cac70_8ad3_11eb_a4e5_8c8590b0a720row8_col1\" class=\"data row8 col1\" >Nice boutique hostel with good location</td>\n",
       "                        <td id=\"T_b67cac70_8ad3_11eb_a4e5_8c8590b0a720row8_col2\" class=\"data row8 col2\" >0.690800</td>\n",
       "            </tr>\n",
       "            <tr>\n",
       "                        <th id=\"T_b67cac70_8ad3_11eb_a4e5_8c8590b0a720level0_row9\" class=\"row_heading level0 row9\" >153197</th>\n",
       "                        <td id=\"T_b67cac70_8ad3_11eb_a4e5_8c8590b0a720row9_col0\" class=\"data row9 col0\" >310823503</td>\n",
       "                        <td id=\"T_b67cac70_8ad3_11eb_a4e5_8c8590b0a720row9_col1\" class=\"data row9 col1\" >Great place for a getaway. Suffice space to cook and enjoy the space</td>\n",
       "                        <td id=\"T_b67cac70_8ad3_11eb_a4e5_8c8590b0a720row9_col2\" class=\"data row9 col2\" >0.807400</td>\n",
       "            </tr>\n",
       "            <tr>\n",
       "                        <th id=\"T_b67cac70_8ad3_11eb_a4e5_8c8590b0a720level0_row10\" class=\"row_heading level0 row10\" >25684</th>\n",
       "                        <td id=\"T_b67cac70_8ad3_11eb_a4e5_8c8590b0a720row10_col0\" class=\"data row10 col0\" >73169819</td>\n",
       "                        <td id=\"T_b67cac70_8ad3_11eb_a4e5_8c8590b0a720row10_col1\" class=\"data row10 col1\" >I stayed first floor, there's little humid but except that everything's find. \n",
       "Nice location, staff was kind and specially price is good. </td>\n",
       "                        <td id=\"T_b67cac70_8ad3_11eb_a4e5_8c8590b0a720row10_col2\" class=\"data row10 col2\" >0.920900</td>\n",
       "            </tr>\n",
       "            <tr>\n",
       "                        <th id=\"T_b67cac70_8ad3_11eb_a4e5_8c8590b0a720level0_row11\" class=\"row_heading level0 row11\" >75377</th>\n",
       "                        <td id=\"T_b67cac70_8ad3_11eb_a4e5_8c8590b0a720row11_col0\" class=\"data row11 col0\" >360594</td>\n",
       "                        <td id=\"T_b67cac70_8ad3_11eb_a4e5_8c8590b0a720row11_col1\" class=\"data row11 col1\" >A nice appartment with all what you need, very near to the woodleigh station and a wonderful swimming-pool. A bit noisy with the building works on the other side of the road. Yuan was helpful. A very good choice to stay in Singapore !!!</td>\n",
       "                        <td id=\"T_b67cac70_8ad3_11eb_a4e5_8c8590b0a720row11_col2\" class=\"data row11 col2\" >0.925500</td>\n",
       "            </tr>\n",
       "            <tr>\n",
       "                        <th id=\"T_b67cac70_8ad3_11eb_a4e5_8c8590b0a720level0_row12\" class=\"row_heading level0 row12\" >57700</th>\n",
       "                        <td id=\"T_b67cac70_8ad3_11eb_a4e5_8c8590b0a720row12_col0\" class=\"data row12 col0\" >107195227</td>\n",
       "                        <td id=\"T_b67cac70_8ad3_11eb_a4e5_8c8590b0a720row12_col1\" class=\"data row12 col1\" >Thanks meadwos for having us, really nice place but i hope cereal for breakfast menu is available everyday \n",
       "But afterall it was really a great place to stay :)</td>\n",
       "                        <td id=\"T_b67cac70_8ad3_11eb_a4e5_8c8590b0a720row12_col2\" class=\"data row12 col2\" >0.958000</td>\n",
       "            </tr>\n",
       "            <tr>\n",
       "                        <th id=\"T_b67cac70_8ad3_11eb_a4e5_8c8590b0a720level0_row13\" class=\"row_heading level0 row13\" >61703</th>\n",
       "                        <td id=\"T_b67cac70_8ad3_11eb_a4e5_8c8590b0a720row13_col0\" class=\"data row13 col0\" >221939567</td>\n",
       "                        <td id=\"T_b67cac70_8ad3_11eb_a4e5_8c8590b0a720row13_col1\" class=\"data row13 col1\" >We enjoyed our stay at your unit. Unit with Living room is a great place for communication when family trips, compared to hotel room. \n",
       "Thanks for your hospitality Lorraine.</td>\n",
       "                        <td id=\"T_b67cac70_8ad3_11eb_a4e5_8c8590b0a720row13_col2\" class=\"data row13 col2\" >0.906200</td>\n",
       "            </tr>\n",
       "            <tr>\n",
       "                        <th id=\"T_b67cac70_8ad3_11eb_a4e5_8c8590b0a720level0_row14\" class=\"row_heading level0 row14\" >83342</th>\n",
       "                        <td id=\"T_b67cac70_8ad3_11eb_a4e5_8c8590b0a720row14_col0\" class=\"data row14 col0\" >29488454</td>\n",
       "                        <td id=\"T_b67cac70_8ad3_11eb_a4e5_8c8590b0a720row14_col1\" class=\"data row14 col1\" >Great location and clean accommodation. You pretty much have everything needed. Though I did not meet Apple,she was prompt and detailed with her replies. Ica and Tiem were equally  pleasantly. Thank you! I definitely recommend this place.</td>\n",
       "                        <td id=\"T_b67cac70_8ad3_11eb_a4e5_8c8590b0a720row14_col2\" class=\"data row14 col2\" >0.964200</td>\n",
       "            </tr>\n",
       "            <tr>\n",
       "                        <th id=\"T_b67cac70_8ad3_11eb_a4e5_8c8590b0a720level0_row15\" class=\"row_heading level0 row15\" >56480</th>\n",
       "                        <td id=\"T_b67cac70_8ad3_11eb_a4e5_8c8590b0a720row15_col0\" class=\"data row15 col0\" >214555975</td>\n",
       "                        <td id=\"T_b67cac70_8ad3_11eb_a4e5_8c8590b0a720row15_col1\" class=\"data row15 col1\" >Mary is a wonderful host! Answered all my questions and gave me notes on where to go. Will definitely be back!</td>\n",
       "                        <td id=\"T_b67cac70_8ad3_11eb_a4e5_8c8590b0a720row15_col2\" class=\"data row15 col2\" >0.789600</td>\n",
       "            </tr>\n",
       "            <tr>\n",
       "                        <th id=\"T_b67cac70_8ad3_11eb_a4e5_8c8590b0a720level0_row16\" class=\"row_heading level0 row16\" >94827</th>\n",
       "                        <td id=\"T_b67cac70_8ad3_11eb_a4e5_8c8590b0a720row16_col0\" class=\"data row16 col0\" >234038208</td>\n",
       "                        <td id=\"T_b67cac70_8ad3_11eb_a4e5_8c8590b0a720row16_col1\" class=\"data row16 col1\" >Very nice place & good service!</td>\n",
       "                        <td id=\"T_b67cac70_8ad3_11eb_a4e5_8c8590b0a720row16_col2\" class=\"data row16 col2\" >0.761400</td>\n",
       "            </tr>\n",
       "            <tr>\n",
       "                        <th id=\"T_b67cac70_8ad3_11eb_a4e5_8c8590b0a720level0_row17\" class=\"row_heading level0 row17\" >90154</th>\n",
       "                        <td id=\"T_b67cac70_8ad3_11eb_a4e5_8c8590b0a720row17_col0\" class=\"data row17 col0\" >157746225</td>\n",
       "                        <td id=\"T_b67cac70_8ad3_11eb_a4e5_8c8590b0a720row17_col1\" class=\"data row17 col1\" >Very nice place, new stylist furniture and interior, the space enough for 2 adult and 1 kid and luggages, bathroom clean and have a space. The aircon is very good. Around the area so many exclusive pubs and bars, will be crowded on friday and saturday. Very near to telok ayer mrt and need walk to chinatown mrt. Very near to maxwell food center, just 6 minute walk. Better bring umbrella cos the pathwalk dont have roof to avoid the rain. Love the place, will be back soon</td>\n",
       "                        <td id=\"T_b67cac70_8ad3_11eb_a4e5_8c8590b0a720row17_col2\" class=\"data row17 col2\" >0.953500</td>\n",
       "            </tr>\n",
       "            <tr>\n",
       "                        <th id=\"T_b67cac70_8ad3_11eb_a4e5_8c8590b0a720level0_row18\" class=\"row_heading level0 row18\" >67025</th>\n",
       "                        <td id=\"T_b67cac70_8ad3_11eb_a4e5_8c8590b0a720row18_col0\" class=\"data row18 col0\" >187452280</td>\n",
       "                        <td id=\"T_b67cac70_8ad3_11eb_a4e5_8c8590b0a720row18_col1\" class=\"data row18 col1\" >Clean and cosy place. Nice location as well.</td>\n",
       "                        <td id=\"T_b67cac70_8ad3_11eb_a4e5_8c8590b0a720row18_col2\" class=\"data row18 col2\" >0.765000</td>\n",
       "            </tr>\n",
       "            <tr>\n",
       "                        <th id=\"T_b67cac70_8ad3_11eb_a4e5_8c8590b0a720level0_row19\" class=\"row_heading level0 row19\" >76030</th>\n",
       "                        <td id=\"T_b67cac70_8ad3_11eb_a4e5_8c8590b0a720row19_col0\" class=\"data row19 col0\" >11753450</td>\n",
       "                        <td id=\"T_b67cac70_8ad3_11eb_a4e5_8c8590b0a720row19_col1\" class=\"data row19 col1\" >Better than expected. The room was big with a cupboard and en suite wet room. I didn't see the hosts much as I was out a lot but they were always nice and helpful. \n",
       "The location suited me as I needed to be on the west side. There is a bus stop opposite and lots of buses that can even get you all the way to marina bay and East coast. MRT is not as convenient. There is a local shopping centre, supermarkets and food court. I'd stay again.</td>\n",
       "                        <td id=\"T_b67cac70_8ad3_11eb_a4e5_8c8590b0a720row19_col2\" class=\"data row19 col2\" >0.851900</td>\n",
       "            </tr>\n",
       "    </tbody></table>"
      ],
      "text/plain": [
       "<pandas.io.formats.style.Styler at 0x7f86417a5a00>"
      ]
     },
     "execution_count": 205,
     "metadata": {},
     "output_type": "execute_result"
    }
   ],
   "source": [
    "df.loc[df.polarity_score >= 0.5,['reviewer_id','comments','polarity_score']].sample(20).style.bar(subset=['polarity_score'], align='mid', color=['#d65f5f', '#5fba7d'])"
   ]
  },
  {
   "cell_type": "code",
   "execution_count": 206,
   "metadata": {
    "scrolled": true
   },
   "outputs": [
    {
     "data": {
      "text/html": [
       "<style  type=\"text/css\" >\n",
       "#T_b68ad49e_8ad3_11eb_a4e5_8c8590b0a720row0_col2,#T_b68ad49e_8ad3_11eb_a4e5_8c8590b0a720row1_col2,#T_b68ad49e_8ad3_11eb_a4e5_8c8590b0a720row2_col2,#T_b68ad49e_8ad3_11eb_a4e5_8c8590b0a720row3_col2,#T_b68ad49e_8ad3_11eb_a4e5_8c8590b0a720row4_col2,#T_b68ad49e_8ad3_11eb_a4e5_8c8590b0a720row5_col2,#T_b68ad49e_8ad3_11eb_a4e5_8c8590b0a720row6_col2,#T_b68ad49e_8ad3_11eb_a4e5_8c8590b0a720row7_col2,#T_b68ad49e_8ad3_11eb_a4e5_8c8590b0a720row8_col2,#T_b68ad49e_8ad3_11eb_a4e5_8c8590b0a720row9_col2,#T_b68ad49e_8ad3_11eb_a4e5_8c8590b0a720row10_col2,#T_b68ad49e_8ad3_11eb_a4e5_8c8590b0a720row11_col2,#T_b68ad49e_8ad3_11eb_a4e5_8c8590b0a720row12_col2,#T_b68ad49e_8ad3_11eb_a4e5_8c8590b0a720row13_col2,#T_b68ad49e_8ad3_11eb_a4e5_8c8590b0a720row14_col2,#T_b68ad49e_8ad3_11eb_a4e5_8c8590b0a720row15_col2,#T_b68ad49e_8ad3_11eb_a4e5_8c8590b0a720row16_col2,#T_b68ad49e_8ad3_11eb_a4e5_8c8590b0a720row17_col2,#T_b68ad49e_8ad3_11eb_a4e5_8c8590b0a720row18_col2,#T_b68ad49e_8ad3_11eb_a4e5_8c8590b0a720row19_col2{\n",
       "            width:  10em;\n",
       "             height:  80%;\n",
       "        }</style><table id=\"T_b68ad49e_8ad3_11eb_a4e5_8c8590b0a720\" ><thead>    <tr>        <th class=\"blank level0\" ></th>        <th class=\"col_heading level0 col0\" >reviewer_id</th>        <th class=\"col_heading level0 col1\" >comments</th>        <th class=\"col_heading level0 col2\" >polarity_score</th>    </tr></thead><tbody>\n",
       "                <tr>\n",
       "                        <th id=\"T_b68ad49e_8ad3_11eb_a4e5_8c8590b0a720level0_row0\" class=\"row_heading level0 row0\" >53115</th>\n",
       "                        <td id=\"T_b68ad49e_8ad3_11eb_a4e5_8c8590b0a720row0_col0\" class=\"data row0 col0\" >133995773</td>\n",
       "                        <td id=\"T_b68ad49e_8ad3_11eb_a4e5_8c8590b0a720row0_col1\" class=\"data row0 col1\" >距離小印度站約10分鐘,房間有點小,淋浴處的排水系統有點問題,洗澡回有積水情形,但整體來說還可以</td>\n",
       "                        <td id=\"T_b68ad49e_8ad3_11eb_a4e5_8c8590b0a720row0_col2\" class=\"data row0 col2\" >0.000000</td>\n",
       "            </tr>\n",
       "            <tr>\n",
       "                        <th id=\"T_b68ad49e_8ad3_11eb_a4e5_8c8590b0a720level0_row1\" class=\"row_heading level0 row1\" >94831</th>\n",
       "                        <td id=\"T_b68ad49e_8ad3_11eb_a4e5_8c8590b0a720row1_col0\" class=\"data row1 col0\" >165995511</td>\n",
       "                        <td id=\"T_b68ad49e_8ad3_11eb_a4e5_8c8590b0a720row1_col1\" class=\"data row1 col1\" >春节期间到访住了三个晚上｡先说优点:交通地理位置极佳｡楼下100米就是Downtown Line地铁站,步行到武吉士地铁站也不算太远｡楼下对面有一个大众化的购物中心,过马路即到,可以买拖鞋短裤等日常用品｡餐厅更是数不胜数,楼下大排档好几间,隔壁楼电器城负一楼就是大食肆,从早餐到晚餐统统可以解决,楼对面200米内还有熟食中心,这个位置吃饭简直太方便｡整套公寓外部环境尚可,也足够安全｡\n",
       "\n",
       "再说缺点:室内面积不大,两房一厅,每个房间都不大,客厅也不大｡ (Hidden by Airbnb) 很多,放置食物在桌上,一会就来了很多 (Hidden by Airbnb) ｡床上用品比较陈旧,而且显得不够干净｡书柜的层板是坏的｡非常不满意的两点,洗手间马桶尺寸偏小;淋浴器水流非常小,就像挤牙膏,洗澡洗得很尴尬｡厨房提供碗盘和碟子,也有抽油烟机和煤气灶,可是居然没有炒菜的锅和铲｡住民宿就是要烹饪,但这里不能满足中餐的烹饪需求｡房间没有提供220V的转换插头,要自备｡没有拖鞋,要自备｡</td>\n",
       "                        <td id=\"T_b68ad49e_8ad3_11eb_a4e5_8c8590b0a720row1_col2\" class=\"data row1 col2\" >0.000000</td>\n",
       "            </tr>\n",
       "            <tr>\n",
       "                        <th id=\"T_b68ad49e_8ad3_11eb_a4e5_8c8590b0a720level0_row2\" class=\"row_heading level0 row2\" >93355</th>\n",
       "                        <td id=\"T_b68ad49e_8ad3_11eb_a4e5_8c8590b0a720row2_col0\" class=\"data row2 col0\" >95384456</td>\n",
       "                        <td id=\"T_b68ad49e_8ad3_11eb_a4e5_8c8590b0a720row2_col1\" class=\"data row2 col1\" >离小印度地铁口非常近,步行不到5分钟,早餐自己做来吃,可口而且方便｡房东还帮忙安排了接送机｡十分感谢,期待下次相聚</td>\n",
       "                        <td id=\"T_b68ad49e_8ad3_11eb_a4e5_8c8590b0a720row2_col2\" class=\"data row2 col2\" >0.000000</td>\n",
       "            </tr>\n",
       "            <tr>\n",
       "                        <th id=\"T_b68ad49e_8ad3_11eb_a4e5_8c8590b0a720level0_row3\" class=\"row_heading level0 row3\" >16962</th>\n",
       "                        <td id=\"T_b68ad49e_8ad3_11eb_a4e5_8c8590b0a720row3_col0\" class=\"data row3 col0\" >196619591</td>\n",
       "                        <td id=\"T_b68ad49e_8ad3_11eb_a4e5_8c8590b0a720row3_col1\" class=\"data row3 col1\" >Boa relação qualidade-preço</td>\n",
       "                        <td id=\"T_b68ad49e_8ad3_11eb_a4e5_8c8590b0a720row3_col2\" class=\"data row3 col2\" >0.000000</td>\n",
       "            </tr>\n",
       "            <tr>\n",
       "                        <th id=\"T_b68ad49e_8ad3_11eb_a4e5_8c8590b0a720level0_row4\" class=\"row_heading level0 row4\" >138245</th>\n",
       "                        <td id=\"T_b68ad49e_8ad3_11eb_a4e5_8c8590b0a720row4_col0\" class=\"data row4 col0\" >155083534</td>\n",
       "                        <td id=\"T_b68ad49e_8ad3_11eb_a4e5_8c8590b0a720row4_col1\" class=\"data row4 col1\" >已经第三次入住了,房间够大,可以简单煮食,有洗衣机,解决我每天的洗衣问题,每星期三次的服务搞房间卫生,都很干净,出行也方便,满意的入住全程｡</td>\n",
       "                        <td id=\"T_b68ad49e_8ad3_11eb_a4e5_8c8590b0a720row4_col2\" class=\"data row4 col2\" >0.000000</td>\n",
       "            </tr>\n",
       "            <tr>\n",
       "                        <th id=\"T_b68ad49e_8ad3_11eb_a4e5_8c8590b0a720level0_row5\" class=\"row_heading level0 row5\" >76058</th>\n",
       "                        <td id=\"T_b68ad49e_8ad3_11eb_a4e5_8c8590b0a720row5_col0\" class=\"data row5 col0\" >159084902</td>\n",
       "                        <td id=\"T_b68ad49e_8ad3_11eb_a4e5_8c8590b0a720row5_col1\" class=\"data row5 col1\" >整洁､干净,房间也很大,一下楼就是牛车水地铁,非常方便｡</td>\n",
       "                        <td id=\"T_b68ad49e_8ad3_11eb_a4e5_8c8590b0a720row5_col2\" class=\"data row5 col2\" >0.000000</td>\n",
       "            </tr>\n",
       "            <tr>\n",
       "                        <th id=\"T_b68ad49e_8ad3_11eb_a4e5_8c8590b0a720level0_row6\" class=\"row_heading level0 row6\" >73396</th>\n",
       "                        <td id=\"T_b68ad49e_8ad3_11eb_a4e5_8c8590b0a720row6_col0\" class=\"data row6 col0\" >80117276</td>\n",
       "                        <td id=\"T_b68ad49e_8ad3_11eb_a4e5_8c8590b0a720row6_col1\" class=\"data row6 col1\" >Апартаменты расположены в кондоминимуме в центре Сингапура (в начале торговой улицы Орчард роад). Район классный. Бассейн на крыше - сказка.  Персонал - пять звезд. Планировали снять квартиру, а получили еще и ежедневную уборку, завтрак и ресепшн.</td>\n",
       "                        <td id=\"T_b68ad49e_8ad3_11eb_a4e5_8c8590b0a720row6_col2\" class=\"data row6 col2\" >0.000000</td>\n",
       "            </tr>\n",
       "            <tr>\n",
       "                        <th id=\"T_b68ad49e_8ad3_11eb_a4e5_8c8590b0a720level0_row7\" class=\"row_heading level0 row7\" >25609</th>\n",
       "                        <td id=\"T_b68ad49e_8ad3_11eb_a4e5_8c8590b0a720row7_col0\" class=\"data row7 col0\" >59892978</td>\n",
       "                        <td id=\"T_b68ad49e_8ad3_11eb_a4e5_8c8590b0a720row7_col1\" class=\"data row7 col1\" >記得自備面紙或在當地超市買!</td>\n",
       "                        <td id=\"T_b68ad49e_8ad3_11eb_a4e5_8c8590b0a720row7_col2\" class=\"data row7 col2\" >0.000000</td>\n",
       "            </tr>\n",
       "            <tr>\n",
       "                        <th id=\"T_b68ad49e_8ad3_11eb_a4e5_8c8590b0a720level0_row8\" class=\"row_heading level0 row8\" >70556</th>\n",
       "                        <td id=\"T_b68ad49e_8ad3_11eb_a4e5_8c8590b0a720row8_col0\" class=\"data row8 col0\" >162995185</td>\n",
       "                        <td id=\"T_b68ad49e_8ad3_11eb_a4e5_8c8590b0a720row8_col1\" class=\"data row8 col1\" >這次我們有三個大人跟兩個小小孩入住, 一間主臥室內有一張雙人床\n",
       "外面客廳有一張沙發床,房東可另外提供床墊\n",
       "有冰箱, 洗衣機, 瓦斯爐很方便\n",
       "浴室是淋浴間\n",
       "離花拉公園地鐵站很近, 只要走路2~3分鐘\n",
       "離慕達發商場很近, 走路五分鐘左右\n",
       "提供自助入住, 很方便</td>\n",
       "                        <td id=\"T_b68ad49e_8ad3_11eb_a4e5_8c8590b0a720row8_col2\" class=\"data row8 col2\" >0.000000</td>\n",
       "            </tr>\n",
       "            <tr>\n",
       "                        <th id=\"T_b68ad49e_8ad3_11eb_a4e5_8c8590b0a720level0_row9\" class=\"row_heading level0 row9\" >151063</th>\n",
       "                        <td id=\"T_b68ad49e_8ad3_11eb_a4e5_8c8590b0a720row9_col0\" class=\"data row9 col0\" >47987050</td>\n",
       "                        <td id=\"T_b68ad49e_8ad3_11eb_a4e5_8c8590b0a720row9_col1\" class=\"data row9 col1\" >Room is cosy!</td>\n",
       "                        <td id=\"T_b68ad49e_8ad3_11eb_a4e5_8c8590b0a720row9_col2\" class=\"data row9 col2\" >0.000000</td>\n",
       "            </tr>\n",
       "            <tr>\n",
       "                        <th id=\"T_b68ad49e_8ad3_11eb_a4e5_8c8590b0a720level0_row10\" class=\"row_heading level0 row10\" >82036</th>\n",
       "                        <td id=\"T_b68ad49e_8ad3_11eb_a4e5_8c8590b0a720row10_col0\" class=\"data row10 col0\" >111325978</td>\n",
       "                        <td id=\"T_b68ad49e_8ad3_11eb_a4e5_8c8590b0a720row10_col1\" class=\"data row10 col1\" >お父さんとお母さんはとてもいい人です｡\n",
       "困ったことにはすぐに対応してくれます｡\n",
       "また､ﾛｰｶﾙの情報を常に教えてくれます｡\n",
       "お父さんは元ｼｪﾌで､いつも料理を作っていました｡\n",
       "美味しいお料理をいつも味見させていただきました｡\n",
       "ありがとうございます｡\n",
       "普通のHDBですが､家庭的な暖かい雰囲気で楽しかったです｡\n",
       "部屋は清潔でｴｱｺﾝも快適でした｡\n",
       "枕が高すぎて合わず､睡眠がさ妨げられて残念でした｡\n",
       "ﾊﾞｽ停がすぐそばで､とても便利でした｡\n",
       "MRTのそばには､大きなｼｮｯﾋﾟﾝｸﾞﾓｰﾙがあります｡\n",
       "帰りには､親切にﾀｸｼｰも予約してくれまました｡\n",
       "とても感謝しています｡\n",
       "謝謝!</td>\n",
       "                        <td id=\"T_b68ad49e_8ad3_11eb_a4e5_8c8590b0a720row10_col2\" class=\"data row10 col2\" >0.000000</td>\n",
       "            </tr>\n",
       "            <tr>\n",
       "                        <th id=\"T_b68ad49e_8ad3_11eb_a4e5_8c8590b0a720level0_row11\" class=\"row_heading level0 row11\" >131094</th>\n",
       "                        <td id=\"T_b68ad49e_8ad3_11eb_a4e5_8c8590b0a720row11_col0\" class=\"data row11 col0\" >119183184</td>\n",
       "                        <td id=\"T_b68ad49e_8ad3_11eb_a4e5_8c8590b0a720row11_col1\" class=\"data row11 col1\" >附近有很多美食,尤其樓下的The Royal Cafe服務人員都很熱情,值得在check in前到那坐坐休息一下｡\n",
       "公寓位於二樓,房東會從門口熱情地大喊:需要幫忙嗎?然後馬上衝下樓梯直接扛起超重的行李箱上樓,倒屣相迎的概念｡\n",
       "房東雖然不太會講中文,但從我進門開始,就一直講著她會的中文單字,甚至拿藍芽麥克風唱起中文歌,像是順子和阿妹是房東的最愛,也因此開啟話題｡\n",
       "房間有著超大雙人床,超大沙發,超大桌椅和超大的窗戶面向後面寧靜又高級的社區,寬廣的空間可以完全打開28吋及20吋的行李箱,舒適的環境,讓我從抵達後就開始躺著休息,因此度過casual的一天!\n",
       "房東養4隻貓,知道我非常喜歡跟貓玩,就將超大隻且非常親人的貓,從房間放出來跟我一起玩,想怎麼逗貓就怎麼逗!\n",
       "門口就是公車站,隨時都有公車進站,我蠻推薦隨便跳上一台雙層公車四處溜噠,是個便宜且驚奇滿滿的city tour!\n",
       "如果有任何問題都可以隨時詢問房東,但我常常晚上12點才回家,他們幾乎不在家,建議傳訊息詢問｡</td>\n",
       "                        <td id=\"T_b68ad49e_8ad3_11eb_a4e5_8c8590b0a720row11_col2\" class=\"data row11 col2\" >0.000000</td>\n",
       "            </tr>\n",
       "            <tr>\n",
       "                        <th id=\"T_b68ad49e_8ad3_11eb_a4e5_8c8590b0a720level0_row12\" class=\"row_heading level0 row12\" >144987</th>\n",
       "                        <td id=\"T_b68ad49e_8ad3_11eb_a4e5_8c8590b0a720row12_col0\" class=\"data row12 col0\" >167695879</td>\n",
       "                        <td id=\"T_b68ad49e_8ad3_11eb_a4e5_8c8590b0a720row12_col1\" class=\"data row12 col1\" >벌레가 너무 많이 나왔고 욕실 2개인데 하나는 거의 안쓰는 용도 인거 같아요</td>\n",
       "                        <td id=\"T_b68ad49e_8ad3_11eb_a4e5_8c8590b0a720row12_col2\" class=\"data row12 col2\" >0.000000</td>\n",
       "            </tr>\n",
       "            <tr>\n",
       "                        <th id=\"T_b68ad49e_8ad3_11eb_a4e5_8c8590b0a720level0_row13\" class=\"row_heading level0 row13\" >62308</th>\n",
       "                        <td id=\"T_b68ad49e_8ad3_11eb_a4e5_8c8590b0a720row13_col0\" class=\"data row13 col0\" >130732218</td>\n",
       "                        <td id=\"T_b68ad49e_8ad3_11eb_a4e5_8c8590b0a720row13_col1\" class=\"data row13 col1\" >是性價比不錯的地方</td>\n",
       "                        <td id=\"T_b68ad49e_8ad3_11eb_a4e5_8c8590b0a720row13_col2\" class=\"data row13 col2\" >0.000000</td>\n",
       "            </tr>\n",
       "            <tr>\n",
       "                        <th id=\"T_b68ad49e_8ad3_11eb_a4e5_8c8590b0a720level0_row14\" class=\"row_heading level0 row14\" >57922</th>\n",
       "                        <td id=\"T_b68ad49e_8ad3_11eb_a4e5_8c8590b0a720row14_col0\" class=\"data row14 col0\" >68858324</td>\n",
       "                        <td id=\"T_b68ad49e_8ad3_11eb_a4e5_8c8590b0a720row14_col1\" class=\"data row14 col1\" >很好的住宿体验,就在别墅区,环境很好!门口马路上有公交车站,里地铁站Dakota500米,出行很方便,即使早上5:30出门去机场,门口路上也可以方便的叫到出租车｡晚上11:00回房间也很安全｡下次来新加坡还会再选择这里｡</td>\n",
       "                        <td id=\"T_b68ad49e_8ad3_11eb_a4e5_8c8590b0a720row14_col2\" class=\"data row14 col2\" >0.000000</td>\n",
       "            </tr>\n",
       "            <tr>\n",
       "                        <th id=\"T_b68ad49e_8ad3_11eb_a4e5_8c8590b0a720level0_row15\" class=\"row_heading level0 row15\" >67923</th>\n",
       "                        <td id=\"T_b68ad49e_8ad3_11eb_a4e5_8c8590b0a720row15_col0\" class=\"data row15 col0\" >4095858</td>\n",
       "                        <td id=\"T_b68ad49e_8ad3_11eb_a4e5_8c8590b0a720row15_col1\" class=\"data row15 col1\" >Ke</td>\n",
       "                        <td id=\"T_b68ad49e_8ad3_11eb_a4e5_8c8590b0a720row15_col2\" class=\"data row15 col2\" >0.000000</td>\n",
       "            </tr>\n",
       "            <tr>\n",
       "                        <th id=\"T_b68ad49e_8ad3_11eb_a4e5_8c8590b0a720level0_row16\" class=\"row_heading level0 row16\" >130501</th>\n",
       "                        <td id=\"T_b68ad49e_8ad3_11eb_a4e5_8c8590b0a720row16_col0\" class=\"data row16 col0\" >121916946</td>\n",
       "                        <td id=\"T_b68ad49e_8ad3_11eb_a4e5_8c8590b0a720row16_col1\" class=\"data row16 col1\" >很好的小区,公共设施很棒</td>\n",
       "                        <td id=\"T_b68ad49e_8ad3_11eb_a4e5_8c8590b0a720row16_col2\" class=\"data row16 col2\" >0.000000</td>\n",
       "            </tr>\n",
       "            <tr>\n",
       "                        <th id=\"T_b68ad49e_8ad3_11eb_a4e5_8c8590b0a720level0_row17\" class=\"row_heading level0 row17\" >1435</th>\n",
       "                        <td id=\"T_b68ad49e_8ad3_11eb_a4e5_8c8590b0a720row17_col0\" class=\"data row17 col0\" >58127897</td>\n",
       "                        <td id=\"T_b68ad49e_8ad3_11eb_a4e5_8c8590b0a720row17_col1\" class=\"data row17 col1\" >Rick人超级好,第一天入住就热情地请我们吃了饭,而且还超级热心,有什么问题可以随时找他｡住处也很安静,对于我这种稍微有点声音就睡不着的人来说简直是福音｡离地铁不远,10分钟左右｡以后有机会再去新加坡玩还会选择这里的,第一次在airbnb上订住宿就获得了一次非常好的体验,给我这次旅行也添色不少｡</td>\n",
       "                        <td id=\"T_b68ad49e_8ad3_11eb_a4e5_8c8590b0a720row17_col2\" class=\"data row17 col2\" >0.000000</td>\n",
       "            </tr>\n",
       "            <tr>\n",
       "                        <th id=\"T_b68ad49e_8ad3_11eb_a4e5_8c8590b0a720level0_row18\" class=\"row_heading level0 row18\" >7924</th>\n",
       "                        <td id=\"T_b68ad49e_8ad3_11eb_a4e5_8c8590b0a720row18_col0\" class=\"data row18 col0\" >27801138</td>\n",
       "                        <td id=\"T_b68ad49e_8ad3_11eb_a4e5_8c8590b0a720row18_col1\" class=\"data row18 col1\" >가격도 시설도 만족스럽습니다~\n",
       "전 여행 중간 코스라 캐리어가 무거워서 3층 계단을 오르기 힘들었어요;;;\n",
       "시설외 서비스는 아침에 식빵, 커피와 차도 있습니다.\n",
       "(야쿤토스트, 맥스웰하우스 가까우니까 나가서 드시는것도 추천^^)\n",
       "그리고 처음 도미토리에서 주무실분들은 참고하실게.. 정말 잠만 주무실분들이 이용하는게 좋을거 같아요~ 침대 말고는 다리뻣을 공간이 없으니까요~ 이건 어딜가나 마찬가지죠^^</td>\n",
       "                        <td id=\"T_b68ad49e_8ad3_11eb_a4e5_8c8590b0a720row18_col2\" class=\"data row18 col2\" >0.000000</td>\n",
       "            </tr>\n",
       "            <tr>\n",
       "                        <th id=\"T_b68ad49e_8ad3_11eb_a4e5_8c8590b0a720level0_row19\" class=\"row_heading level0 row19\" >14770</th>\n",
       "                        <td id=\"T_b68ad49e_8ad3_11eb_a4e5_8c8590b0a720row19_col0\" class=\"data row19 col0\" >18982495</td>\n",
       "                        <td id=\"T_b68ad49e_8ad3_11eb_a4e5_8c8590b0a720row19_col1\" class=\"data row19 col1\" >房间稍微有点小 因为便宜嘛所以ok</td>\n",
       "                        <td id=\"T_b68ad49e_8ad3_11eb_a4e5_8c8590b0a720row19_col2\" class=\"data row19 col2\" >0.000000</td>\n",
       "            </tr>\n",
       "    </tbody></table>"
      ],
      "text/plain": [
       "<pandas.io.formats.style.Styler at 0x7f86fe019fd0>"
      ]
     },
     "execution_count": 206,
     "metadata": {},
     "output_type": "execute_result"
    }
   ],
   "source": [
    "df.loc[df.polarity_score == 0,['reviewer_id','comments','polarity_score']].sample(20).style.bar(subset=['polarity_score'], align='mid', color=['#d65f5f', '#5fba7d'])"
   ]
  },
  {
   "cell_type": "markdown",
   "metadata": {},
   "source": [
    "There are many **non-english comments** that received **inaccurate scores**."
   ]
  },
  {
   "cell_type": "code",
   "execution_count": 207,
   "metadata": {
    "scrolled": false
   },
   "outputs": [
    {
     "data": {
      "text/plain": [
       "22475"
      ]
     },
     "execution_count": 207,
     "metadata": {},
     "output_type": "execute_result"
    }
   ],
   "source": [
    "df[df.polarity_score == 0].shape[0]"
   ]
  },
  {
   "cell_type": "markdown",
   "metadata": {},
   "source": [
    "We discard the posts with neutral sentiments as majority of them were written in foreign languages or not meaningful. "
   ]
  },
  {
   "cell_type": "code",
   "execution_count": 208,
   "metadata": {},
   "outputs": [],
   "source": [
    "df_eng = df[df.polarity_score != 0]"
   ]
  },
  {
   "cell_type": "code",
   "execution_count": 209,
   "metadata": {
    "id": "jHPJUStHfQhI",
    "scrolled": true
   },
   "outputs": [
    {
     "data": {
      "text/html": [
       "<style  type=\"text/css\" >\n",
       "#T_b6a80f0a_8ad3_11eb_a4e5_8c8590b0a720row0_col2{\n",
       "            width:  10em;\n",
       "             height:  80%;\n",
       "            background:  linear-gradient(90deg, transparent 12.2%, #d65f5f 12.2%, #d65f5f 100.0%, transparent 100.0%);\n",
       "        }#T_b6a80f0a_8ad3_11eb_a4e5_8c8590b0a720row1_col2{\n",
       "            width:  10em;\n",
       "             height:  80%;\n",
       "            background:  linear-gradient(90deg, transparent 10.0%, #d65f5f 10.0%, #d65f5f 100.0%, transparent 100.0%);\n",
       "        }#T_b6a80f0a_8ad3_11eb_a4e5_8c8590b0a720row2_col2{\n",
       "            width:  10em;\n",
       "             height:  80%;\n",
       "            background:  linear-gradient(90deg, transparent 3.5%, #d65f5f 3.5%, #d65f5f 100.0%, transparent 100.0%);\n",
       "        }#T_b6a80f0a_8ad3_11eb_a4e5_8c8590b0a720row3_col2{\n",
       "            width:  10em;\n",
       "             height:  80%;\n",
       "            background:  linear-gradient(90deg,#d65f5f 100.0%, transparent 100.0%);\n",
       "        }#T_b6a80f0a_8ad3_11eb_a4e5_8c8590b0a720row4_col2{\n",
       "            width:  10em;\n",
       "             height:  80%;\n",
       "            background:  linear-gradient(90deg, transparent 46.2%, #d65f5f 46.2%, #d65f5f 100.0%, transparent 100.0%);\n",
       "        }#T_b6a80f0a_8ad3_11eb_a4e5_8c8590b0a720row5_col2{\n",
       "            width:  10em;\n",
       "             height:  80%;\n",
       "            background:  linear-gradient(90deg, transparent 7.1%, #d65f5f 7.1%, #d65f5f 100.0%, transparent 100.0%);\n",
       "        }#T_b6a80f0a_8ad3_11eb_a4e5_8c8590b0a720row6_col2{\n",
       "            width:  10em;\n",
       "             height:  80%;\n",
       "            background:  linear-gradient(90deg, transparent 36.2%, #d65f5f 36.2%, #d65f5f 100.0%, transparent 100.0%);\n",
       "        }#T_b6a80f0a_8ad3_11eb_a4e5_8c8590b0a720row7_col2{\n",
       "            width:  10em;\n",
       "             height:  80%;\n",
       "            background:  linear-gradient(90deg, transparent 0.8%, #d65f5f 0.8%, #d65f5f 100.0%, transparent 100.0%);\n",
       "        }#T_b6a80f0a_8ad3_11eb_a4e5_8c8590b0a720row8_col2{\n",
       "            width:  10em;\n",
       "             height:  80%;\n",
       "            background:  linear-gradient(90deg, transparent 1.2%, #d65f5f 1.2%, #d65f5f 100.0%, transparent 100.0%);\n",
       "        }#T_b6a80f0a_8ad3_11eb_a4e5_8c8590b0a720row9_col2{\n",
       "            width:  10em;\n",
       "             height:  80%;\n",
       "            background:  linear-gradient(90deg, transparent 44.6%, #d65f5f 44.6%, #d65f5f 100.0%, transparent 100.0%);\n",
       "        }#T_b6a80f0a_8ad3_11eb_a4e5_8c8590b0a720row10_col2{\n",
       "            width:  10em;\n",
       "             height:  80%;\n",
       "            background:  linear-gradient(90deg, transparent 34.2%, #d65f5f 34.2%, #d65f5f 100.0%, transparent 100.0%);\n",
       "        }#T_b6a80f0a_8ad3_11eb_a4e5_8c8590b0a720row11_col2{\n",
       "            width:  10em;\n",
       "             height:  80%;\n",
       "            background:  linear-gradient(90deg, transparent 13.0%, #d65f5f 13.0%, #d65f5f 100.0%, transparent 100.0%);\n",
       "        }#T_b6a80f0a_8ad3_11eb_a4e5_8c8590b0a720row12_col2{\n",
       "            width:  10em;\n",
       "             height:  80%;\n",
       "            background:  linear-gradient(90deg, transparent 12.6%, #d65f5f 12.6%, #d65f5f 100.0%, transparent 100.0%);\n",
       "        }#T_b6a80f0a_8ad3_11eb_a4e5_8c8590b0a720row13_col2{\n",
       "            width:  10em;\n",
       "             height:  80%;\n",
       "            background:  linear-gradient(90deg, transparent 28.8%, #d65f5f 28.8%, #d65f5f 100.0%, transparent 100.0%);\n",
       "        }#T_b6a80f0a_8ad3_11eb_a4e5_8c8590b0a720row14_col2{\n",
       "            width:  10em;\n",
       "             height:  80%;\n",
       "            background:  linear-gradient(90deg, transparent 4.1%, #d65f5f 4.1%, #d65f5f 100.0%, transparent 100.0%);\n",
       "        }#T_b6a80f0a_8ad3_11eb_a4e5_8c8590b0a720row15_col2{\n",
       "            width:  10em;\n",
       "             height:  80%;\n",
       "            background:  linear-gradient(90deg, transparent 37.3%, #d65f5f 37.3%, #d65f5f 100.0%, transparent 100.0%);\n",
       "        }#T_b6a80f0a_8ad3_11eb_a4e5_8c8590b0a720row16_col2{\n",
       "            width:  10em;\n",
       "             height:  80%;\n",
       "            background:  linear-gradient(90deg, transparent 17.4%, #d65f5f 17.4%, #d65f5f 100.0%, transparent 100.0%);\n",
       "        }#T_b6a80f0a_8ad3_11eb_a4e5_8c8590b0a720row17_col2{\n",
       "            width:  10em;\n",
       "             height:  80%;\n",
       "            background:  linear-gradient(90deg, transparent 9.4%, #d65f5f 9.4%, #d65f5f 100.0%, transparent 100.0%);\n",
       "        }#T_b6a80f0a_8ad3_11eb_a4e5_8c8590b0a720row18_col2{\n",
       "            width:  10em;\n",
       "             height:  80%;\n",
       "            background:  linear-gradient(90deg, transparent 34.9%, #d65f5f 34.9%, #d65f5f 100.0%, transparent 100.0%);\n",
       "        }#T_b6a80f0a_8ad3_11eb_a4e5_8c8590b0a720row19_col2{\n",
       "            width:  10em;\n",
       "             height:  80%;\n",
       "            background:  linear-gradient(90deg, transparent 46.9%, #d65f5f 46.9%, #d65f5f 100.0%, transparent 100.0%);\n",
       "        }</style><table id=\"T_b6a80f0a_8ad3_11eb_a4e5_8c8590b0a720\" ><thead>    <tr>        <th class=\"blank level0\" ></th>        <th class=\"col_heading level0 col0\" >reviewer_id</th>        <th class=\"col_heading level0 col1\" >comments</th>        <th class=\"col_heading level0 col2\" >polarity_score</th>    </tr></thead><tbody>\n",
       "                <tr>\n",
       "                        <th id=\"T_b6a80f0a_8ad3_11eb_a4e5_8c8590b0a720level0_row0\" class=\"row_heading level0 row0\" >100418</th>\n",
       "                        <td id=\"T_b6a80f0a_8ad3_11eb_a4e5_8c8590b0a720row0_col0\" class=\"data row0 col0\" >87141044</td>\n",
       "                        <td id=\"T_b6a80f0a_8ad3_11eb_a4e5_8c8590b0a720row0_col1\" class=\"data row0 col1\" >The place is situated about 5 minutes from Boon Keng MRT station and was convenient. For westerners the local shops are limited with young children but that was fine.\n",
       "\n",
       "Room was reasonable and reflective of price in comparison to local options. Singapore is just expensive.\n",
       "\n",
       "Did not use kitchen so no commentary offered.\n",
       "\n",
       "Bathrooms are small but very good showers and bedrooms ample for sure.\n",
       "\n",
       "One minor criticism and it is minor is tv is very small and choice poor as no cable. This was not a problem but with no DVD and young children meaning early nights could be an issue for some.</td>\n",
       "                        <td id=\"T_b6a80f0a_8ad3_11eb_a4e5_8c8590b0a720row0_col2\" class=\"data row0 col2\" >-0.859800</td>\n",
       "            </tr>\n",
       "            <tr>\n",
       "                        <th id=\"T_b6a80f0a_8ad3_11eb_a4e5_8c8590b0a720level0_row1\" class=\"row_heading level0 row1\" >67088</th>\n",
       "                        <td id=\"T_b6a80f0a_8ad3_11eb_a4e5_8c8590b0a720row1_col0\" class=\"data row1 col0\" >188870943</td>\n",
       "                        <td id=\"T_b6a80f0a_8ad3_11eb_a4e5_8c8590b0a720row1_col1\" class=\"data row1 col1\" >半夜凌晨到房源門口引文他鑰匙放在門外的保險箱要密碼打開拿鑰匙｡他給了錯的密碼 電話 和 (Hidden by Airbnb) ID 根本打不開聯繫不上人 還要吵醒別的訪客幫忙開門  別的訪客也說他們昨天入住也說遇到這個情況 要求退回一晚的費還被房東說幼稚 最後說要退一半也是沒退回 也不回\n",
       " In the middle the night I arrived and I try to get keys to into the house but the strongbox outside the door within keys  can’t open cuz the owner gives the wrong password ,I stand outside the door for 2 hours. Finally, I woke up other visitors by knocking on the door and they  help me to open the door. \n",
       "The owner gives the wrong phone number and The (Hidden by Airbnb) ID was wrong too, I could not find her . Other visitor said they have same situation too. \n",
       "And I said you need to refund me a night price, the owner just said you are childish and didn’t refund me</td>\n",
       "                        <td id=\"T_b6a80f0a_8ad3_11eb_a4e5_8c8590b0a720row1_col2\" class=\"data row1 col2\" >-0.880700</td>\n",
       "            </tr>\n",
       "            <tr>\n",
       "                        <th id=\"T_b6a80f0a_8ad3_11eb_a4e5_8c8590b0a720level0_row2\" class=\"row_heading level0 row2\" >108824</th>\n",
       "                        <td id=\"T_b6a80f0a_8ad3_11eb_a4e5_8c8590b0a720row2_col0\" class=\"data row2 col0\" >112634551</td>\n",
       "                        <td id=\"T_b6a80f0a_8ad3_11eb_a4e5_8c8590b0a720row2_col1\" class=\"data row2 col1\" >Die Lage der Unterkunft ist ideal. Man ist schnell am River oder in der anderen Richtung an der Shopping Meile (beides circa 10-15min Fusswalk). Die Unterkunft liegt direkt an einer Hauptverkehrsstrasse und somit ist es wirklich sehr laut. Im Grunde hat die Unterkunft alles was man für 1-2 Nächte braucht. Leider roch es im Zimmer sehr muffig (Schimmel und Rauch). Das Bettlaken hatte gelbe Flecken und die Matratze roch auch stickig und nass. Im Badezimmer ist etwas Schimmel am Waschbecken, da das Bad auch kein Fenster hat. Das Badezimmer ist sehr eng und klein.  Für eine Nacht dürfte das alles zu ertragen sein. Länger hätten wir aber nicht bleiben wollen</td>\n",
       "                        <td id=\"T_b6a80f0a_8ad3_11eb_a4e5_8c8590b0a720row2_col2\" class=\"data row2 col2\" >-0.945100</td>\n",
       "            </tr>\n",
       "            <tr>\n",
       "                        <th id=\"T_b6a80f0a_8ad3_11eb_a4e5_8c8590b0a720level0_row3\" class=\"row_heading level0 row3\" >104153</th>\n",
       "                        <td id=\"T_b6a80f0a_8ad3_11eb_a4e5_8c8590b0a720row3_col0\" class=\"data row3 col0\" >110390149</td>\n",
       "                        <td id=\"T_b6a80f0a_8ad3_11eb_a4e5_8c8590b0a720row3_col1\" class=\"data row3 col1\" >Personally i wouldnt recommend staying here. We had a terrible experience. First, we were not informed that there will be extra fees for children ages 2-4 years old. We also had to pay for luggages storage for an hour. Everthing was not clarrified  before our arrival. And the worst part was the day we had to leave we found out that we were locked from outside.  Someone must have locked it or the locked was damaged. Regarless, were not able to open it from inside. We were so scared and worried that we wouldnt make it on our flight on time.  Not to mention that we were in a diffrent country and we have kids with us.  Not really knowing whats going on. If there was a fire or accident, there was no way of us getting  out of that building.  Doors were locked and windows was padlocked as well.  They dont even have fire exit! We will not come back to this place again!</td>\n",
       "                        <td id=\"T_b6a80f0a_8ad3_11eb_a4e5_8c8590b0a720row3_col2\" class=\"data row3 col2\" >-0.979000</td>\n",
       "            </tr>\n",
       "            <tr>\n",
       "                        <th id=\"T_b6a80f0a_8ad3_11eb_a4e5_8c8590b0a720level0_row4\" class=\"row_heading level0 row4\" >20735</th>\n",
       "                        <td id=\"T_b6a80f0a_8ad3_11eb_a4e5_8c8590b0a720row4_col0\" class=\"data row4 col0\" >154117638</td>\n",
       "                        <td id=\"T_b6a80f0a_8ad3_11eb_a4e5_8c8590b0a720row4_col1\" class=\"data row4 col1\" >Nossa estadia no espaço de Lux foi ótima. A cozinha está equipada conforme a descrição e as fotos, com itens básicos para o dia a dia. A sala é confortável, o quarto é espaçoso e a cama é ótima. Tem piscina e academia. O check in foi ótimo e no horário combinado. O espaço fica próximo do trem. Eu indico o espaço, pois estava tudo ótimo.</td>\n",
       "                        <td id=\"T_b6a80f0a_8ad3_11eb_a4e5_8c8590b0a720row4_col2\" class=\"data row4 col2\" >-0.526700</td>\n",
       "            </tr>\n",
       "            <tr>\n",
       "                        <th id=\"T_b6a80f0a_8ad3_11eb_a4e5_8c8590b0a720level0_row5\" class=\"row_heading level0 row5\" >79605</th>\n",
       "                        <td id=\"T_b6a80f0a_8ad3_11eb_a4e5_8c8590b0a720row5_col0\" class=\"data row5 col0\" >88447785</td>\n",
       "                        <td id=\"T_b6a80f0a_8ad3_11eb_a4e5_8c8590b0a720row5_col1\" class=\"data row5 col1\" >Das Zimmer war sauber und mit eigener Dusche. Die nächste Bahnstation war in ca 24 min zu Fuß zu erreichen, der Bus schneller. Wir konnten auf Nachfrage sogar Wäsche waschen, es hat alles problemlos geklappt! Das Preis-Leistungsverhältnis ist super. Das war ein schöner Aufenthalt, sehr zu empfehlen.</td>\n",
       "                        <td id=\"T_b6a80f0a_8ad3_11eb_a4e5_8c8590b0a720row5_col2\" class=\"data row5 col2\" >-0.909800</td>\n",
       "            </tr>\n",
       "            <tr>\n",
       "                        <th id=\"T_b6a80f0a_8ad3_11eb_a4e5_8c8590b0a720level0_row6\" class=\"row_heading level0 row6\" >109702</th>\n",
       "                        <td id=\"T_b6a80f0a_8ad3_11eb_a4e5_8c8590b0a720row6_col0\" class=\"data row6 col0\" >42760661</td>\n",
       "                        <td id=\"T_b6a80f0a_8ad3_11eb_a4e5_8c8590b0a720row6_col1\" class=\"data row6 col1\" >On the way from the airport to the host's address, I saw the message from the host that the place I booked had issues,  and I was asked to go to a hotel. The hotel while located in the middle of Little India is a seedy place that is extremely unclean with walls that have 1/2 inch cracks from which your room is filled with the cigarette smoke and conversation from your neighbours on either side. When asked if I could cancel, I was told it was too late.\n",
       "\n",
       "This is the first time I was disappointed with Airbnb.</td>\n",
       "                        <td id=\"T_b6a80f0a_8ad3_11eb_a4e5_8c8590b0a720row6_col2\" class=\"data row6 col2\" >-0.624900</td>\n",
       "            </tr>\n",
       "            <tr>\n",
       "                        <th id=\"T_b6a80f0a_8ad3_11eb_a4e5_8c8590b0a720level0_row7\" class=\"row_heading level0 row7\" >105050</th>\n",
       "                        <td id=\"T_b6a80f0a_8ad3_11eb_a4e5_8c8590b0a720row7_col0\" class=\"data row7 col0\" >703573</td>\n",
       "                        <td id=\"T_b6a80f0a_8ad3_11eb_a4e5_8c8590b0a720row7_col1\" class=\"data row7 col1\" >I WOULD NEVER STAY HERE NOR SUGGEST ANYONE TO STAY HERE!! Late checkin. They told me to wait outside, in the heat, with my baby. Bathrooms had crawling bugs. They told us to leave trash bin outside the door and they will throw it out. Nope. The place is so tiny i couldnt even sit on the couch with my fiance (im 102 pounds). The blinds are broken which let block out any light which was HORRIBLE! The windows didnt seem to be sealed cause i could hear everything going on outside. Every single wind blow. Horrible horrible horrible.</td>\n",
       "                        <td id=\"T_b6a80f0a_8ad3_11eb_a4e5_8c8590b0a720row7_col2\" class=\"data row7 col2\" >-0.971300</td>\n",
       "            </tr>\n",
       "            <tr>\n",
       "                        <th id=\"T_b6a80f0a_8ad3_11eb_a4e5_8c8590b0a720level0_row8\" class=\"row_heading level0 row8\" >46997</th>\n",
       "                        <td id=\"T_b6a80f0a_8ad3_11eb_a4e5_8c8590b0a720row8_col0\" class=\"data row8 col0\" >90615879</td>\n",
       "                        <td id=\"T_b6a80f0a_8ad3_11eb_a4e5_8c8590b0a720row8_col1\" class=\"data row8 col1\" >Kleines aber feines Appartment in Geylang. Liegt zwar offiziell im Rotlichtviertel, aber davon bekommt man so gut wie nichts mit...wir haben uns jedenfalls auch abends draußen wohl gefühlt. Es gibt viele tolle Restaurants in der Nähe, wo sicherlich jeder etwas für seinen Geschmack finden kann. Es gibt 3 Metro Stationen in der Nähe, die alle fußläufig in ca. 10-15 Minuten zu erreichen sind, außerdem zahlreiche Bushaltestellen um die Ecke.\n",
       "Das Appartment hat kein direktes Tageslicht, aber da wir tagsüber sowieso unterwegs waren, hat uns das nicht weiter gestört. Die Wohnung war sauber, und außer Seife, Shampoo etc. war alles, was man für den täglichen Gebrauch benötigt, vorhanden. Es gibt einen zum Haus gehörigen Pool, den wir aber leider nicht nutzen konnten (da nur bis 18 Uhr geöffnet). Sah aber sehr einladend aus. \n",
       "Alles in allem eine klare Empfehlung!</td>\n",
       "                        <td id=\"T_b6a80f0a_8ad3_11eb_a4e5_8c8590b0a720row8_col2\" class=\"data row8 col2\" >-0.967400</td>\n",
       "            </tr>\n",
       "            <tr>\n",
       "                        <th id=\"T_b6a80f0a_8ad3_11eb_a4e5_8c8590b0a720level0_row9\" class=\"row_heading level0 row9\" >3065</th>\n",
       "                        <td id=\"T_b6a80f0a_8ad3_11eb_a4e5_8c8590b0a720row9_col0\" class=\"data row9 col0\" >28801034</td>\n",
       "                        <td id=\"T_b6a80f0a_8ad3_11eb_a4e5_8c8590b0a720row9_col1\" class=\"data row9 col1\" >Séjour très court mais très agréable. On nous avait clairement indiqué comment venir mais c'est de toutes façons très simple depuis l'aéroport. \r\n",
       "Nous avons peu vu nos hôtes car nous sommes arrivés très tard dans la nuit et ils étaient partis travailler le lendemain matin.</td>\n",
       "                        <td id=\"T_b6a80f0a_8ad3_11eb_a4e5_8c8590b0a720row9_col2\" class=\"data row9 col2\" >-0.542300</td>\n",
       "            </tr>\n",
       "            <tr>\n",
       "                        <th id=\"T_b6a80f0a_8ad3_11eb_a4e5_8c8590b0a720level0_row10\" class=\"row_heading level0 row10\" >92441</th>\n",
       "                        <td id=\"T_b6a80f0a_8ad3_11eb_a4e5_8c8590b0a720row10_col0\" class=\"data row10 col0\" >50861759</td>\n",
       "                        <td id=\"T_b6a80f0a_8ad3_11eb_a4e5_8c8590b0a720row10_col1\" class=\"data row10 col1\" >1. Location: Nice apartment environment. Near to MRT station. Just that there’s nothing much around the area, e.g. eateries, shops etc.\n",
       "\n",
       "2. Cleanliness: Need to be improved, especially the gaps and storage spaces.\n",
       "\n",
       "3. Host: Due to we stuck at our client’s place, the host drove all the way to the place just to pass the keys to us. Really appreciate that. What need to be improved is the response rate before our arrival.\n",
       "\n",
       "4. Transparency and clarity: Wish to have more information in terms of the Airbnb condition/issue in Singapore. If officer found out we put a fake address on embarkation card, we are going to be in big trouble. There’s one time our door being knocked for about 5 minutes. We’re so scared of that and don’t dare to approach the door at all. There’s actually a paper stating “don’t open door to stranger” in our unit, so we’re wondering if this happens frequently?\n",
       "\n",
       "Another thing is, our colleagues actually booked the same host’s another unit at the same building for the same period, but theirs being cancelled one day before departure without any prior notice from the host. Our colleagues need to find another place to stay last minute, which is a really bad experience for them.</td>\n",
       "                        <td id=\"T_b6a80f0a_8ad3_11eb_a4e5_8c8590b0a720row10_col2\" class=\"data row10 col2\" >-0.644400</td>\n",
       "            </tr>\n",
       "            <tr>\n",
       "                        <th id=\"T_b6a80f0a_8ad3_11eb_a4e5_8c8590b0a720level0_row11\" class=\"row_heading level0 row11\" >90997</th>\n",
       "                        <td id=\"T_b6a80f0a_8ad3_11eb_a4e5_8c8590b0a720row11_col0\" class=\"data row11 col0\" >142379534</td>\n",
       "                        <td id=\"T_b6a80f0a_8ad3_11eb_a4e5_8c8590b0a720row11_col1\" class=\"data row11 col1\" >Place is cheap but overall not a good experience. only 2 buses nearby. walking takes 15 minutes from nearest train station. Poor air conditioning. Self check in, no host to assist.</td>\n",
       "                        <td id=\"T_b6a80f0a_8ad3_11eb_a4e5_8c8590b0a720row11_col2\" class=\"data row11 col2\" >-0.852200</td>\n",
       "            </tr>\n",
       "            <tr>\n",
       "                        <th id=\"T_b6a80f0a_8ad3_11eb_a4e5_8c8590b0a720level0_row12\" class=\"row_heading level0 row12\" >14211</th>\n",
       "                        <td id=\"T_b6a80f0a_8ad3_11eb_a4e5_8c8590b0a720row12_col0\" class=\"data row12 col0\" >103249245</td>\n",
       "                        <td id=\"T_b6a80f0a_8ad3_11eb_a4e5_8c8590b0a720row12_col1\" class=\"data row12 col1\" >Sehr gute Lage, jedoch ein wenig tricky um in das Zimmer zu gelangen. Mit der Beschreibung die man bekommt schafft man es aber schon. Weiter ist der Aufzug im Gebäude nur durch die Anwohner per Karte nutzbar. Wir mussten schauen das wir mit einem Anwohner in den 26. Stock hoch fahren konnten.</td>\n",
       "                        <td id=\"T_b6a80f0a_8ad3_11eb_a4e5_8c8590b0a720row12_col2\" class=\"data row12 col2\" >-0.855500</td>\n",
       "            </tr>\n",
       "            <tr>\n",
       "                        <th id=\"T_b6a80f0a_8ad3_11eb_a4e5_8c8590b0a720level0_row13\" class=\"row_heading level0 row13\" >128444</th>\n",
       "                        <td id=\"T_b6a80f0a_8ad3_11eb_a4e5_8c8590b0a720row13_col0\" class=\"data row13 col0\" >37432872</td>\n",
       "                        <td id=\"T_b6a80f0a_8ad3_11eb_a4e5_8c8590b0a720row13_col1\" class=\"data row13 col1\" >Pame and her boyfriend were very helpful, but the bathroom was not good, it was already mildew at the door. And they have to correct the WiFi password, it was always wrong, because the last number was not correct</td>\n",
       "                        <td id=\"T_b6a80f0a_8ad3_11eb_a4e5_8c8590b0a720row13_col2\" class=\"data row13 col2\" >-0.696800</td>\n",
       "            </tr>\n",
       "            <tr>\n",
       "                        <th id=\"T_b6a80f0a_8ad3_11eb_a4e5_8c8590b0a720level0_row14\" class=\"row_heading level0 row14\" >58808</th>\n",
       "                        <td id=\"T_b6a80f0a_8ad3_11eb_a4e5_8c8590b0a720row14_col0\" class=\"data row14 col0\" >40631115</td>\n",
       "                        <td id=\"T_b6a80f0a_8ad3_11eb_a4e5_8c8590b0a720row14_col1\" class=\"data row14 col1\" >Photos aren’t the same as reality, rude and noisy housemate, smoking in common areas and making dirty everywhere. Too noisy, the flatmate and the condo. Security guys rude and unhelpful, not allowed to airbnb guest every time you try to get into the flat you spend a while dealing with them.\n",
       "We paid a compulsory cleaning fee just to do the bed on the first day before the arrival, we had to clean the room and the bathroom as it was terrible. I’ve never seen a dirtiest house in my life, even the condo is so dirty by common areas full of trash and even animal shit. The host trying to be really helpful but executing too late after the issue is gone. We booked for 7nights, we decided to leave early and the hostess helped with no extra charge but we couldn’t leave till we completed 4 nights. We couldn’t even stayed the last night even when it was paid. The worst experience ever.</td>\n",
       "                        <td id=\"T_b6a80f0a_8ad3_11eb_a4e5_8c8590b0a720row14_col2\" class=\"data row14 col2\" >-0.938400</td>\n",
       "            </tr>\n",
       "            <tr>\n",
       "                        <th id=\"T_b6a80f0a_8ad3_11eb_a4e5_8c8590b0a720level0_row15\" class=\"row_heading level0 row15\" >134251</th>\n",
       "                        <td id=\"T_b6a80f0a_8ad3_11eb_a4e5_8c8590b0a720row15_col0\" class=\"data row15 col0\" >304797689</td>\n",
       "                        <td id=\"T_b6a80f0a_8ad3_11eb_a4e5_8c8590b0a720row15_col1\" class=\"data row15 col1\" >Somehow very disappointed with my stay. Some of my concern. \n",
       "\n",
       "1-Understand checkin time is 2pm however, but I don’t believe 1:15pm there is no room available for me to check in. \n",
       "2- address send by host was 301 River Vally Rd, when I arrive the door was located in 301. And waited 15mins outside to see if I can find someone who can help me, as I don’t have internet to contact the host. \n",
       "Finally I reached out the next door 303, to get help.( it turn that, it’s the same apartment)\n",
       "3- staff was not pleasant: he was busy looking at the phone, with attitude tone in his voice. (Maybe because I look Indian) \n",
       "4- there is no public toilet in the apartment that can be use Incase the room is not available.\n",
       " \n",
       "\n",
       "Email respond from Host is very quick.</td>\n",
       "                        <td id=\"T_b6a80f0a_8ad3_11eb_a4e5_8c8590b0a720row15_col2\" class=\"data row15 col2\" >-0.613600</td>\n",
       "            </tr>\n",
       "            <tr>\n",
       "                        <th id=\"T_b6a80f0a_8ad3_11eb_a4e5_8c8590b0a720level0_row16\" class=\"row_heading level0 row16\" >13850</th>\n",
       "                        <td id=\"T_b6a80f0a_8ad3_11eb_a4e5_8c8590b0a720row16_col0\" class=\"data row16 col0\" >224893719</td>\n",
       "                        <td id=\"T_b6a80f0a_8ad3_11eb_a4e5_8c8590b0a720row16_col1\" class=\"data row16 col1\" >The place is a small and suitable for couples but not a group of friends. It’s an individual loft but on a shared floor with a few other rooms that are of similar units. The water pressure from the bathroom was very weak.</td>\n",
       "                        <td id=\"T_b6a80f0a_8ad3_11eb_a4e5_8c8590b0a720row16_col2\" class=\"data row16 col2\" >-0.808500</td>\n",
       "            </tr>\n",
       "            <tr>\n",
       "                        <th id=\"T_b6a80f0a_8ad3_11eb_a4e5_8c8590b0a720level0_row17\" class=\"row_heading level0 row17\" >140836</th>\n",
       "                        <td id=\"T_b6a80f0a_8ad3_11eb_a4e5_8c8590b0a720row17_col0\" class=\"data row17 col0\" >270971353</td>\n",
       "                        <td id=\"T_b6a80f0a_8ad3_11eb_a4e5_8c8590b0a720row17_col1\" class=\"data row17 col1\" >The shower was rubbish! Someone had to stand by the fuse box as it kept tripping out!\n",
       "The sleeping arrangements are not ideal as the bedroom has no window and the other bed is overlooked by the living room so no privacy.\n",
       "There is a temple across the road which wakes you up at 7am everyday with trumpets, drums and bells.\n",
       "It took 3 days for him to sort the WiFi.\n",
       "Location not great for the centre. Needed to get taxi everywhere!</td>\n",
       "                        <td id=\"T_b6a80f0a_8ad3_11eb_a4e5_8c8590b0a720row17_col2\" class=\"data row17 col2\" >-0.887200</td>\n",
       "            </tr>\n",
       "            <tr>\n",
       "                        <th id=\"T_b6a80f0a_8ad3_11eb_a4e5_8c8590b0a720level0_row18\" class=\"row_heading level0 row18\" >106503</th>\n",
       "                        <td id=\"T_b6a80f0a_8ad3_11eb_a4e5_8c8590b0a720row18_col0\" class=\"data row18 col0\" >50297011</td>\n",
       "                        <td id=\"T_b6a80f0a_8ad3_11eb_a4e5_8c8590b0a720row18_col1\" class=\"data row18 col1\" >The surrounding is surround with restaurant and places to eat, near to Fu Lu Shou Complex</td>\n",
       "                        <td id=\"T_b6a80f0a_8ad3_11eb_a4e5_8c8590b0a720row18_col2\" class=\"data row18 col2\" >-0.636900</td>\n",
       "            </tr>\n",
       "            <tr>\n",
       "                        <th id=\"T_b6a80f0a_8ad3_11eb_a4e5_8c8590b0a720level0_row19\" class=\"row_heading level0 row19\" >103879</th>\n",
       "                        <td id=\"T_b6a80f0a_8ad3_11eb_a4e5_8c8590b0a720row19_col0\" class=\"data row19 col0\" >127362927</td>\n",
       "                        <td id=\"T_b6a80f0a_8ad3_11eb_a4e5_8c8590b0a720row19_col1\" class=\"data row19 col1\" >The place was nice and close to a lot of eateries and supermarkets. City Square Mall is a short walk from the apartment. One thing I will complain about is the water in the shower will sometimes not get hot at all, and the air conditioning in the first room is very weak and doesn't appear to cool the room at all.</td>\n",
       "                        <td id=\"T_b6a80f0a_8ad3_11eb_a4e5_8c8590b0a720row19_col2\" class=\"data row19 col2\" >-0.519500</td>\n",
       "            </tr>\n",
       "    </tbody></table>"
      ],
      "text/plain": [
       "<pandas.io.formats.style.Styler at 0x7f864177f3a0>"
      ]
     },
     "execution_count": 209,
     "metadata": {},
     "output_type": "execute_result"
    }
   ],
   "source": [
    "df_eng.loc[df_eng.polarity_score <= -0.5,['reviewer_id','comments','polarity_score']].sample(20).style.bar(subset=['polarity_score'], align='mid', color=['#d65f5f', '#5fba7d'])\n"
   ]
  },
  {
   "cell_type": "markdown",
   "metadata": {},
   "source": [
    "Some of extremely negative posts were **not written in English**.<br>\n",
    "So let's **translate them back into English** and **reassign them the sentiment score**."
   ]
  },
  {
   "cell_type": "code",
   "execution_count": 211,
   "metadata": {
    "scrolled": true
   },
   "outputs": [
    {
     "ename": "google_new_transError",
     "evalue": "429 (Too Many Requests) from TTS API. Probable cause: Unknown",
     "output_type": "error",
     "traceback": [
      "\u001b[0;31m---------------------------------------------------------------------------\u001b[0m",
      "\u001b[0;31mHTTPError\u001b[0m                                 Traceback (most recent call last)",
      "\u001b[0;32m/Library/Frameworks/Python.framework/Versions/3.8/lib/python3.8/site-packages/google_trans_new/google_trans_new.py\u001b[0m in \u001b[0;36mdetect\u001b[0;34m(self, text)\u001b[0m\n\u001b[1;32m    242\u001b[0m                     \u001b[0;32mreturn\u001b[0m \u001b[0;34m[\u001b[0m\u001b[0mdetect_lang\u001b[0m\u001b[0;34m,\u001b[0m \u001b[0mLANGUAGES\u001b[0m\u001b[0;34m[\u001b[0m\u001b[0mdetect_lang\u001b[0m\u001b[0;34m.\u001b[0m\u001b[0mlower\u001b[0m\u001b[0;34m(\u001b[0m\u001b[0;34m)\u001b[0m\u001b[0;34m]\u001b[0m\u001b[0;34m]\u001b[0m\u001b[0;34m\u001b[0m\u001b[0;34m\u001b[0m\u001b[0m\n\u001b[0;32m--> 243\u001b[0;31m             \u001b[0mr\u001b[0m\u001b[0;34m.\u001b[0m\u001b[0mraise_for_status\u001b[0m\u001b[0;34m(\u001b[0m\u001b[0;34m)\u001b[0m\u001b[0;34m\u001b[0m\u001b[0;34m\u001b[0m\u001b[0m\n\u001b[0m\u001b[1;32m    244\u001b[0m         \u001b[0;32mexcept\u001b[0m \u001b[0mrequests\u001b[0m\u001b[0;34m.\u001b[0m\u001b[0mexceptions\u001b[0m\u001b[0;34m.\u001b[0m\u001b[0mHTTPError\u001b[0m \u001b[0;32mas\u001b[0m \u001b[0me\u001b[0m\u001b[0;34m:\u001b[0m\u001b[0;34m\u001b[0m\u001b[0;34m\u001b[0m\u001b[0m\n",
      "\u001b[0;32m/Library/Frameworks/Python.framework/Versions/3.8/lib/python3.8/site-packages/requests/models.py\u001b[0m in \u001b[0;36mraise_for_status\u001b[0;34m(self)\u001b[0m\n\u001b[1;32m    942\u001b[0m         \u001b[0;32mif\u001b[0m \u001b[0mhttp_error_msg\u001b[0m\u001b[0;34m:\u001b[0m\u001b[0;34m\u001b[0m\u001b[0;34m\u001b[0m\u001b[0m\n\u001b[0;32m--> 943\u001b[0;31m             \u001b[0;32mraise\u001b[0m \u001b[0mHTTPError\u001b[0m\u001b[0;34m(\u001b[0m\u001b[0mhttp_error_msg\u001b[0m\u001b[0;34m,\u001b[0m \u001b[0mresponse\u001b[0m\u001b[0;34m=\u001b[0m\u001b[0mself\u001b[0m\u001b[0;34m)\u001b[0m\u001b[0;34m\u001b[0m\u001b[0;34m\u001b[0m\u001b[0m\n\u001b[0m\u001b[1;32m    944\u001b[0m \u001b[0;34m\u001b[0m\u001b[0m\n",
      "\u001b[0;31mHTTPError\u001b[0m: 429 Client Error: Too Many Requests for url: https://www.google.com/sorry/index?continue=https://translate.google.cn/_/TranslateWebserverUi/data/batchexecute&q=EgSJhFQrGL3k4IIGIhkA8aeDSzMddG0p-HocqbZLcCfJFI31nZ5OMgFy",
      "\nDuring handling of the above exception, another exception occurred:\n",
      "\u001b[0;31mgoogle_new_transError\u001b[0m                     Traceback (most recent call last)",
      "\u001b[0;32m<ipython-input-211-c6016dddb4c7>\u001b[0m in \u001b[0;36m<module>\u001b[0;34m\u001b[0m\n\u001b[0;32m----> 1\u001b[0;31m \u001b[0mnon_english_portion\u001b[0m\u001b[0;34m,\u001b[0m \u001b[0mtranslated_text\u001b[0m \u001b[0;34m=\u001b[0m \u001b[0mdetectandtranslate\u001b[0m\u001b[0;34m(\u001b[0m\u001b[0mdf_eng\u001b[0m\u001b[0;34m.\u001b[0m\u001b[0mcomments\u001b[0m\u001b[0;34m[\u001b[0m\u001b[0;34m(\u001b[0m\u001b[0mdf_eng\u001b[0m\u001b[0;34m.\u001b[0m\u001b[0mpolarity_score\u001b[0m \u001b[0;34m<=\u001b[0m \u001b[0;34m-\u001b[0m\u001b[0;36m0.95\u001b[0m\u001b[0;34m)\u001b[0m\u001b[0;34m]\u001b[0m\u001b[0;34m)\u001b[0m\u001b[0;34m\u001b[0m\u001b[0;34m\u001b[0m\u001b[0m\n\u001b[0m",
      "\u001b[0;32m<ipython-input-197-7f0863378bc1>\u001b[0m in \u001b[0;36mdetectandtranslate\u001b[0;34m(texts)\u001b[0m\n\u001b[1;32m      7\u001b[0m     \u001b[0;32mfor\u001b[0m \u001b[0mi\u001b[0m \u001b[0;32min\u001b[0m \u001b[0mtexts\u001b[0m\u001b[0;34m.\u001b[0m\u001b[0mindex\u001b[0m\u001b[0;34m:\u001b[0m\u001b[0;34m\u001b[0m\u001b[0;34m\u001b[0m\u001b[0m\n\u001b[1;32m      8\u001b[0m         \u001b[0mtext\u001b[0m \u001b[0;34m=\u001b[0m \u001b[0mtexts\u001b[0m\u001b[0;34m[\u001b[0m\u001b[0mi\u001b[0m\u001b[0;34m]\u001b[0m\u001b[0;34m\u001b[0m\u001b[0;34m\u001b[0m\u001b[0m\n\u001b[0;32m----> 9\u001b[0;31m         \u001b[0mdetect_res\u001b[0m \u001b[0;34m=\u001b[0m \u001b[0mtranslator\u001b[0m\u001b[0;34m.\u001b[0m\u001b[0mdetect\u001b[0m\u001b[0;34m(\u001b[0m\u001b[0mtext\u001b[0m\u001b[0;34m)\u001b[0m\u001b[0;34m\u001b[0m\u001b[0;34m\u001b[0m\u001b[0m\n\u001b[0m\u001b[1;32m     10\u001b[0m         \u001b[0;32mif\u001b[0m \u001b[0;32mnot\u001b[0m \u001b[0mdetect_res\u001b[0m\u001b[0;34m:\u001b[0m\u001b[0;34m\u001b[0m\u001b[0;34m\u001b[0m\u001b[0m\n\u001b[1;32m     11\u001b[0m             \u001b[0mtrans\u001b[0m\u001b[0;34m.\u001b[0m\u001b[0mloc\u001b[0m\u001b[0;34m[\u001b[0m\u001b[0mi\u001b[0m\u001b[0;34m,\u001b[0m\u001b[0;34m'text'\u001b[0m\u001b[0;34m]\u001b[0m \u001b[0;34m=\u001b[0m \u001b[0;34m''\u001b[0m\u001b[0;34m\u001b[0m\u001b[0;34m\u001b[0m\u001b[0m\n",
      "\u001b[0;32m/Library/Frameworks/Python.framework/Versions/3.8/lib/python3.8/site-packages/google_trans_new/google_trans_new.py\u001b[0m in \u001b[0;36mdetect\u001b[0;34m(self, text)\u001b[0m\n\u001b[1;32m    245\u001b[0m             \u001b[0;31m# Request successful, bad response\u001b[0m\u001b[0;34m\u001b[0m\u001b[0;34m\u001b[0m\u001b[0;34m\u001b[0m\u001b[0m\n\u001b[1;32m    246\u001b[0m             \u001b[0mlog\u001b[0m\u001b[0;34m.\u001b[0m\u001b[0mdebug\u001b[0m\u001b[0;34m(\u001b[0m\u001b[0mstr\u001b[0m\u001b[0;34m(\u001b[0m\u001b[0me\u001b[0m\u001b[0;34m)\u001b[0m\u001b[0;34m)\u001b[0m\u001b[0;34m\u001b[0m\u001b[0;34m\u001b[0m\u001b[0m\n\u001b[0;32m--> 247\u001b[0;31m             \u001b[0;32mraise\u001b[0m \u001b[0mgoogle_new_transError\u001b[0m\u001b[0;34m(\u001b[0m\u001b[0mtts\u001b[0m\u001b[0;34m=\u001b[0m\u001b[0mself\u001b[0m\u001b[0;34m,\u001b[0m \u001b[0mresponse\u001b[0m\u001b[0;34m=\u001b[0m\u001b[0mr\u001b[0m\u001b[0;34m)\u001b[0m\u001b[0;34m\u001b[0m\u001b[0;34m\u001b[0m\u001b[0m\n\u001b[0m\u001b[1;32m    248\u001b[0m         \u001b[0;32mexcept\u001b[0m \u001b[0mrequests\u001b[0m\u001b[0;34m.\u001b[0m\u001b[0mexceptions\u001b[0m\u001b[0;34m.\u001b[0m\u001b[0mRequestException\u001b[0m \u001b[0;32mas\u001b[0m \u001b[0me\u001b[0m\u001b[0;34m:\u001b[0m\u001b[0;34m\u001b[0m\u001b[0;34m\u001b[0m\u001b[0m\n\u001b[1;32m    249\u001b[0m             \u001b[0;31m# Request failed\u001b[0m\u001b[0;34m\u001b[0m\u001b[0;34m\u001b[0m\u001b[0;34m\u001b[0m\u001b[0m\n",
      "\u001b[0;31mgoogle_new_transError\u001b[0m: 429 (Too Many Requests) from TTS API. Probable cause: Unknown"
     ]
    }
   ],
   "source": [
    "non_english_portion, translated_text = detectandtranslate(df_eng.comments[(df_eng.polarity_score <= -0.95)])"
   ]
  },
  {
   "cell_type": "code",
   "execution_count": null,
   "metadata": {
    "scrolled": false
   },
   "outputs": [],
   "source": [
    "print('{0:.2f}% of the texts are non-english\\n'.format(non_english_portion*100))"
   ]
  },
  {
   "cell_type": "code",
   "execution_count": null,
   "metadata": {
    "scrolled": true
   },
   "outputs": [],
   "source": [
    "for ind in df_eng[df_eng.polarity_score <= -0.95].index:\n",
    "    df_eng.comments[ind] = translated_text.text[ind]\n",
    "    df_eng.polarity_score[ind] = get_sentiment(translated_text.text[ind],sid)"
   ]
  },
  {
   "cell_type": "code",
   "execution_count": null,
   "metadata": {
    "scrolled": false
   },
   "outputs": [],
   "source": [
    "sns.distplot(df_eng['polarity_score'], norm_hist=True, color='g')\n",
    "plt.title('Distribution of sentiment polarity');"
   ]
  },
  {
   "cell_type": "code",
   "execution_count": null,
   "metadata": {},
   "outputs": [],
   "source": [
    "def getsentiment(score):\n",
    "    if score>=0:\n",
    "        return 'pos'\n",
    "    else:\n",
    "        return 'neg'\n",
    "df_eng['sentiment'] = df_eng['polarity_score'].apply(getsentiment)"
   ]
  },
  {
   "cell_type": "code",
   "execution_count": null,
   "metadata": {
    "scrolled": false
   },
   "outputs": [],
   "source": [
    "df_eng['sentiment'].value_counts().plot(kind='bar')"
   ]
  },
  {
   "cell_type": "code",
   "execution_count": null,
   "metadata": {},
   "outputs": [],
   "source": [
    "df_eng.to_csv('../../Datasets/cleaned_senti_reviews.csv')"
   ]
  }
 ],
 "metadata": {
  "accelerator": "GPU",
  "colab": {
   "name": "NLP on Customer Comments.ipynb",
   "provenance": [],
   "toc_visible": true
  },
  "kernelspec": {
   "display_name": "Python 3",
   "language": "python",
   "name": "python3"
  },
  "language_info": {
   "codemirror_mode": {
    "name": "ipython",
    "version": 3
   },
   "file_extension": ".py",
   "mimetype": "text/x-python",
   "name": "python",
   "nbconvert_exporter": "python",
   "pygments_lexer": "ipython3",
   "version": "3.8.3"
  },
  "toc": {
   "base_numbering": 1,
   "nav_menu": {},
   "number_sections": true,
   "sideBar": true,
   "skip_h1_title": false,
   "title_cell": "Table of Contents",
   "title_sidebar": "Contents",
   "toc_cell": false,
   "toc_position": {},
   "toc_section_display": true,
   "toc_window_display": false
  }
 },
 "nbformat": 4,
 "nbformat_minor": 1
}
