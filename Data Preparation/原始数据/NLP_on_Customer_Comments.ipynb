{
 "cells": [
  {
   "cell_type": "code",
   "execution_count": 76,
   "metadata": {
    "scrolled": true
   },
   "outputs": [
    {
     "name": "stdout",
     "output_type": "stream",
     "text": [
      "Collecting google_trans_new\n",
      "  Downloading google_trans_new-1.1.9-py3-none-any.whl (9.2 kB)\n",
      "Installing collected packages: google-trans-new\n",
      "Successfully installed google-trans-new-1.1.9\n",
      "\u001b[33mWARNING: You are using pip version 20.2.4; however, version 21.0.1 is available.\n",
      "You should consider upgrading via the '/Library/Frameworks/Python.framework/Versions/3.8/bin/python3 -m pip install --upgrade pip' command.\u001b[0m\n"
     ]
    }
   ],
   "source": [
    "!pip install google_trans_new"
   ]
  },
  {
   "cell_type": "code",
   "execution_count": 74,
   "metadata": {
    "id": "UI09tw2EntvK"
   },
   "outputs": [],
   "source": [
    "import numpy as np\n",
    "import pandas as pd\n",
    "import matplotlib.pyplot as plt\n",
    "import string\n",
    "import google_trans_new"
   ]
  },
  {
   "cell_type": "code",
   "execution_count": 4,
   "metadata": {
    "colab": {
     "base_uri": "https://localhost:8080/"
    },
    "id": "lAJtM0cqqpM8",
    "outputId": "4034c98e-f08b-451d-be82-102674b5b47d"
   },
   "outputs": [
    {
     "name": "stderr",
     "output_type": "stream",
     "text": [
      "[nltk_data] Downloading package stopwords to\n",
      "[nltk_data]     /Users/hanjiatong/nltk_data...\n",
      "[nltk_data]   Unzipping corpora/stopwords.zip.\n",
      "[nltk_data] Downloading package averaged_perceptron_tagger to\n",
      "[nltk_data]     /Users/hanjiatong/nltk_data...\n",
      "[nltk_data]   Unzipping taggers/averaged_perceptron_tagger.zip.\n",
      "[nltk_data] Downloading package wordnet to\n",
      "[nltk_data]     /Users/hanjiatong/nltk_data...\n",
      "[nltk_data]   Unzipping corpora/wordnet.zip.\n",
      "[nltk_data] Downloading package vader_lexicon to\n",
      "[nltk_data]     /Users/hanjiatong/nltk_data...\n"
     ]
    },
    {
     "data": {
      "text/plain": [
       "True"
      ]
     },
     "execution_count": 4,
     "metadata": {},
     "output_type": "execute_result"
    }
   ],
   "source": [
    "import nltk\n",
    "import ssl\n",
    "\n",
    "try:\n",
    "    _create_unverified_https_context = ssl._create_unverified_context\n",
    "except AttributeError:\n",
    "    pass\n",
    "else:\n",
    "    ssl._create_default_https_context = _create_unverified_https_context\n",
    "nltk.download('stopwords')\n",
    "nltk.download('averaged_perceptron_tagger')\n",
    "nltk.download('wordnet')\n",
    "nltk.download('vader_lexicon')"
   ]
  },
  {
   "cell_type": "code",
   "execution_count": 6,
   "metadata": {
    "id": "maEn1uubntvM"
   },
   "outputs": [],
   "source": [
    "df = pd.read_csv('../../Datasets/cleaned_customer.csv')"
   ]
  },
  {
   "cell_type": "code",
   "execution_count": 7,
   "metadata": {
    "id": "YipsF3AcntvN",
    "scrolled": true
   },
   "outputs": [
    {
     "data": {
      "text/html": [
       "<div>\n",
       "<style scoped>\n",
       "    .dataframe tbody tr th:only-of-type {\n",
       "        vertical-align: middle;\n",
       "    }\n",
       "\n",
       "    .dataframe tbody tr th {\n",
       "        vertical-align: top;\n",
       "    }\n",
       "\n",
       "    .dataframe thead th {\n",
       "        text-align: right;\n",
       "    }\n",
       "</style>\n",
       "<table border=\"1\" class=\"dataframe\">\n",
       "  <thead>\n",
       "    <tr style=\"text-align: right;\">\n",
       "      <th></th>\n",
       "      <th>reviewer_id</th>\n",
       "      <th>listing_id</th>\n",
       "      <th>date</th>\n",
       "      <th>reviewer_name</th>\n",
       "      <th>comments</th>\n",
       "      <th>name</th>\n",
       "      <th>description</th>\n",
       "      <th>neighborhood_overview</th>\n",
       "      <th>host_id</th>\n",
       "      <th>host_since</th>\n",
       "      <th>...</th>\n",
       "      <th>review_scores_communication</th>\n",
       "      <th>review_scores_location</th>\n",
       "      <th>review_scores_value</th>\n",
       "      <th>instant_bookable</th>\n",
       "      <th>calculated_host_listings_count</th>\n",
       "      <th>reviews_per_month</th>\n",
       "      <th>nearby_sites_rating</th>\n",
       "      <th>nearest_station_dist</th>\n",
       "      <th>nearest_site_dist</th>\n",
       "      <th>nearest_site_rating</th>\n",
       "    </tr>\n",
       "  </thead>\n",
       "  <tbody>\n",
       "    <tr>\n",
       "      <th>0</th>\n",
       "      <td>8557223</td>\n",
       "      <td>49091</td>\n",
       "      <td>2013-10-21</td>\n",
       "      <td>Jared</td>\n",
       "      <td>Fran was absolutely gracious and welcoming. Ma...</td>\n",
       "      <td>COZICOMFORT LONG TERM STAY ROOM 2</td>\n",
       "      <td>This is Room No. 2.(available after Jan 15 201...</td>\n",
       "      <td>NaN</td>\n",
       "      <td>266763</td>\n",
       "      <td>2010-10-20</td>\n",
       "      <td>...</td>\n",
       "      <td>10.0</td>\n",
       "      <td>8.0</td>\n",
       "      <td>8.0</td>\n",
       "      <td>f</td>\n",
       "      <td>2</td>\n",
       "      <td>0.02</td>\n",
       "      <td>0.995731</td>\n",
       "      <td>0.617762</td>\n",
       "      <td>4.295315</td>\n",
       "      <td>4.595264</td>\n",
       "    </tr>\n",
       "    <tr>\n",
       "      <th>1</th>\n",
       "      <td>1356099</td>\n",
       "      <td>50646</td>\n",
       "      <td>2014-04-18</td>\n",
       "      <td>James</td>\n",
       "      <td>A comfortable room in a smart condo developmen...</td>\n",
       "      <td>Pleasant Room along Bukit Timah</td>\n",
       "      <td>Fully furnished bedroom with a nice view on th...</td>\n",
       "      <td>The serenity &amp; quiet surrounding makes it an i...</td>\n",
       "      <td>227796</td>\n",
       "      <td>2010-09-08</td>\n",
       "      <td>...</td>\n",
       "      <td>10.0</td>\n",
       "      <td>9.0</td>\n",
       "      <td>9.0</td>\n",
       "      <td>f</td>\n",
       "      <td>1</td>\n",
       "      <td>0.30</td>\n",
       "      <td>1.269606</td>\n",
       "      <td>0.399696</td>\n",
       "      <td>2.039236</td>\n",
       "      <td>4.654423</td>\n",
       "    </tr>\n",
       "    <tr>\n",
       "      <th>2</th>\n",
       "      <td>15222393</td>\n",
       "      <td>50646</td>\n",
       "      <td>2014-06-05</td>\n",
       "      <td>Welli</td>\n",
       "      <td>Stayed over at Sujatha's house for 3 good nigh...</td>\n",
       "      <td>Pleasant Room along Bukit Timah</td>\n",
       "      <td>Fully furnished bedroom with a nice view on th...</td>\n",
       "      <td>The serenity &amp; quiet surrounding makes it an i...</td>\n",
       "      <td>227796</td>\n",
       "      <td>2010-09-08</td>\n",
       "      <td>...</td>\n",
       "      <td>10.0</td>\n",
       "      <td>9.0</td>\n",
       "      <td>9.0</td>\n",
       "      <td>f</td>\n",
       "      <td>1</td>\n",
       "      <td>0.30</td>\n",
       "      <td>1.269606</td>\n",
       "      <td>0.399696</td>\n",
       "      <td>2.039236</td>\n",
       "      <td>4.654423</td>\n",
       "    </tr>\n",
       "    <tr>\n",
       "      <th>3</th>\n",
       "      <td>5543172</td>\n",
       "      <td>50646</td>\n",
       "      <td>2014-07-02</td>\n",
       "      <td>Cyril</td>\n",
       "      <td>It's been a lovely stay at Sujatha's. The room...</td>\n",
       "      <td>Pleasant Room along Bukit Timah</td>\n",
       "      <td>Fully furnished bedroom with a nice view on th...</td>\n",
       "      <td>The serenity &amp; quiet surrounding makes it an i...</td>\n",
       "      <td>227796</td>\n",
       "      <td>2010-09-08</td>\n",
       "      <td>...</td>\n",
       "      <td>10.0</td>\n",
       "      <td>9.0</td>\n",
       "      <td>9.0</td>\n",
       "      <td>f</td>\n",
       "      <td>1</td>\n",
       "      <td>0.30</td>\n",
       "      <td>1.269606</td>\n",
       "      <td>0.399696</td>\n",
       "      <td>2.039236</td>\n",
       "      <td>4.654423</td>\n",
       "    </tr>\n",
       "    <tr>\n",
       "      <th>4</th>\n",
       "      <td>817532</td>\n",
       "      <td>50646</td>\n",
       "      <td>2014-07-08</td>\n",
       "      <td>Jake</td>\n",
       "      <td>We had a great experience. A nice place, an am...</td>\n",
       "      <td>Pleasant Room along Bukit Timah</td>\n",
       "      <td>Fully furnished bedroom with a nice view on th...</td>\n",
       "      <td>The serenity &amp; quiet surrounding makes it an i...</td>\n",
       "      <td>227796</td>\n",
       "      <td>2010-09-08</td>\n",
       "      <td>...</td>\n",
       "      <td>10.0</td>\n",
       "      <td>9.0</td>\n",
       "      <td>9.0</td>\n",
       "      <td>f</td>\n",
       "      <td>1</td>\n",
       "      <td>0.30</td>\n",
       "      <td>1.269606</td>\n",
       "      <td>0.399696</td>\n",
       "      <td>2.039236</td>\n",
       "      <td>4.654423</td>\n",
       "    </tr>\n",
       "  </tbody>\n",
       "</table>\n",
       "<p>5 rows × 59 columns</p>\n",
       "</div>"
      ],
      "text/plain": [
       "   reviewer_id  listing_id        date reviewer_name  \\\n",
       "0      8557223       49091  2013-10-21         Jared   \n",
       "1      1356099       50646  2014-04-18         James   \n",
       "2     15222393       50646  2014-06-05         Welli   \n",
       "3      5543172       50646  2014-07-02         Cyril   \n",
       "4       817532       50646  2014-07-08          Jake   \n",
       "\n",
       "                                            comments  \\\n",
       "0  Fran was absolutely gracious and welcoming. Ma...   \n",
       "1  A comfortable room in a smart condo developmen...   \n",
       "2  Stayed over at Sujatha's house for 3 good nigh...   \n",
       "3  It's been a lovely stay at Sujatha's. The room...   \n",
       "4  We had a great experience. A nice place, an am...   \n",
       "\n",
       "                                name  \\\n",
       "0  COZICOMFORT LONG TERM STAY ROOM 2   \n",
       "1    Pleasant Room along Bukit Timah   \n",
       "2    Pleasant Room along Bukit Timah   \n",
       "3    Pleasant Room along Bukit Timah   \n",
       "4    Pleasant Room along Bukit Timah   \n",
       "\n",
       "                                         description  \\\n",
       "0  This is Room No. 2.(available after Jan 15 201...   \n",
       "1  Fully furnished bedroom with a nice view on th...   \n",
       "2  Fully furnished bedroom with a nice view on th...   \n",
       "3  Fully furnished bedroom with a nice view on th...   \n",
       "4  Fully furnished bedroom with a nice view on th...   \n",
       "\n",
       "                               neighborhood_overview  host_id  host_since  \\\n",
       "0                                                NaN   266763  2010-10-20   \n",
       "1  The serenity & quiet surrounding makes it an i...   227796  2010-09-08   \n",
       "2  The serenity & quiet surrounding makes it an i...   227796  2010-09-08   \n",
       "3  The serenity & quiet surrounding makes it an i...   227796  2010-09-08   \n",
       "4  The serenity & quiet surrounding makes it an i...   227796  2010-09-08   \n",
       "\n",
       "   ... review_scores_communication review_scores_location review_scores_value  \\\n",
       "0  ...                        10.0                    8.0                 8.0   \n",
       "1  ...                        10.0                    9.0                 9.0   \n",
       "2  ...                        10.0                    9.0                 9.0   \n",
       "3  ...                        10.0                    9.0                 9.0   \n",
       "4  ...                        10.0                    9.0                 9.0   \n",
       "\n",
       "  instant_bookable calculated_host_listings_count reviews_per_month  \\\n",
       "0                f                              2              0.02   \n",
       "1                f                              1              0.30   \n",
       "2                f                              1              0.30   \n",
       "3                f                              1              0.30   \n",
       "4                f                              1              0.30   \n",
       "\n",
       "  nearby_sites_rating nearest_station_dist nearest_site_dist  \\\n",
       "0            0.995731             0.617762          4.295315   \n",
       "1            1.269606             0.399696          2.039236   \n",
       "2            1.269606             0.399696          2.039236   \n",
       "3            1.269606             0.399696          2.039236   \n",
       "4            1.269606             0.399696          2.039236   \n",
       "\n",
       "  nearest_site_rating  \n",
       "0            4.595264  \n",
       "1            4.654423  \n",
       "2            4.654423  \n",
       "3            4.654423  \n",
       "4            4.654423  \n",
       "\n",
       "[5 rows x 59 columns]"
      ]
     },
     "execution_count": 7,
     "metadata": {},
     "output_type": "execute_result"
    }
   ],
   "source": [
    "df.head()"
   ]
  },
  {
   "cell_type": "code",
   "execution_count": 9,
   "metadata": {
    "id": "QMtIoVtQntvN",
    "scrolled": true
   },
   "outputs": [
    {
     "data": {
      "text/plain": [
       "False    155078\n",
       "True        172\n",
       "Name: comments, dtype: int64"
      ]
     },
     "execution_count": 9,
     "metadata": {},
     "output_type": "execute_result"
    }
   ],
   "source": [
    "df.comments.isna().value_counts()"
   ]
  },
  {
   "cell_type": "code",
   "execution_count": 10,
   "metadata": {
    "id": "RDV68rUzntvN"
   },
   "outputs": [],
   "source": [
    "df.comments.fillna('',inplace=True)"
   ]
  },
  {
   "cell_type": "markdown",
   "metadata": {},
   "source": [
    "#### Detect foreign languages and translate them into English"
   ]
  },
  {
   "cell_type": "code",
   "execution_count": 87,
   "metadata": {},
   "outputs": [],
   "source": [
    "from google_trans_new import google_translator \n",
    "translator = google_translator() \n",
    "\n",
    "def detectandtranslate(text):\n",
    "    if translator.detect(text)[1] != 'english':\n",
    "        return translator.translate(text,lang_tgt='en')\n",
    "    else:\n",
    "        return text"
   ]
  },
  {
   "cell_type": "markdown",
   "metadata": {
    "id": "Nl9xPCsdntvO"
   },
   "source": [
    "### 1. Tokenize the text and extract most frequent words"
   ]
  },
  {
   "cell_type": "code",
   "execution_count": 24,
   "metadata": {
    "id": "N1mNBqV3ntvO"
   },
   "outputs": [],
   "source": [
    "from sklearn.feature_extraction.text import TfidfVectorizer\n",
    "\n",
    "from nltk.corpus import stopwords\n",
    "\n",
    "def tokenizer(text):\n",
    "    # tokenize text and remove puncutation\n",
    "    text = [word.strip(string.punctuation) for word in text.split(\" \")]\n",
    "    # remove words that contain numbers\n",
    "    text = [word for word in text if not any(c.isdigit() for c in word)]\n",
    "    # remove stop words\n",
    "    stop = stopwords.words('english')\n",
    "    text = [x for x in text if x not in stop]\n",
    "    # remove empty tokens\n",
    "    text = [t for t in text if len(t) > 0]\n",
    "    # remove words with only one letter\n",
    "    text = [t for t in text if len(t) > 1]\n",
    "    return(text)\n",
    "\n",
    "vectorizer = TfidfVectorizer(stop_words='english',\n",
    "                             ngram_range=(1,2),\n",
    "                             max_df = 0.6,\n",
    "                             tokenizer=tokenizer,\n",
    "                             max_features=500)\n",
    "X = vectorizer.fit_transform(df.comments)"
   ]
  },
  {
   "cell_type": "code",
   "execution_count": 25,
   "metadata": {
    "colab": {
     "base_uri": "https://localhost:8080/"
    },
    "id": "KRn8l6xpntvP",
    "outputId": "e8457b0e-1271-43a2-b8d8-3c008457ae9e",
    "scrolled": true
   },
   "outputs": [
    {
     "name": "stdout",
     "output_type": "stream",
     "text": [
      "['\\n\\nthe', '\\nthe', 'able', 'absolutely', 'ac', 'access', 'accessible', 'accommodating', 'accommodation', 'accurate', 'actually', 'adults', 'advertised', 'affordable', 'air', 'airbnb', 'aircon', 'airport', 'alex', 'allowed', 'alvin', 'amazing', 'amenities', 'apartment', 'appartment', 'appreciated', 'area', 'areas', 'arrival', 'arrived', 'ask', 'asked', 'attractions', 'automated', 'available', 'away', 'awesome', 'bad', 'balcony', 'bars', 'basic', 'bathroom', 'bathrooms', 'bay', 'beautiful', 'bed', 'bedroom', 'bedrooms', 'beds', 'best', 'better', 'bien', 'big', 'bigger', 'bit', 'book', 'booked', 'booking', 'breakfast', 'bring', 'budget', 'bugis', 'building', 'bus', 'buses', 'business', 'busy', 'cafes', 'came', \"can't\", 'canceled', 'care', 'center', 'central', 'centrally', 'centre', 'chance', 'cheap', 'check', 'check-in', 'checked', 'checking', 'children', 'chinatown', 'choice', 'choose', 'city', 'clean', 'cleaned', 'cleaning', 'cleanliness', 'clear', 'close', 'clothes', 'coffee', 'cold', 'come', 'comfortable', 'comfy', 'coming', 'common', 'communicate', 'communication', 'complete', 'complex', 'conditioning', 'condo', 'contact', 'convenience', 'convenient', 'conveniently', 'cook', 'cooking', 'cool', 'corner', 'cosy', 'couple', 'court', 'cozy', 'cute', 'das', 'day', 'days', 'decent', 'decorated', 'definitely', 'der', 'described', 'description', 'didn’t', 'die', 'different', 'dirty', 'distance', 'district', 'door', 'downstairs', 'downtown', 'dryer', 'early', 'easily', 'east', 'easy', 'eat', 'eateries', 'eating', 'en', 'end', 'enjoy', 'enjoyed', 'environment', 'equipped', 'es', 'especially', 'est', 'et', 'exactly', 'excellent', 'expect', 'expected', 'experience', 'explore', 'exploring', 'extra', 'extremely', 'facilities', 'family', 'fantastic', 'far', 'fast', 'feel', 'felt', 'fine', 'flat', 'flexible', 'flight', 'floor', 'food', 'free', 'fridge', 'friend', 'friendly', 'friends', 'fully', 'future', 'gave', 'getting', 'given', 'going', 'good', 'got', 'grab', 'great', 'grocery', 'group', 'guest', 'guests', 'gym', 'happy', 'hard', 'hawker', 'heart', 'help', 'helped', 'helpful', 'hidden', 'high', 'highly', 'home', 'hope', 'hospitable', 'hospitality', 'host', 'hostel', 'hosts', 'hot', 'hotel', 'hour', 'hours', 'house', 'huge', 'husband', \"i'm\", 'ideal', 'including', 'india', 'information', 'inside', 'instructions', 'internet', 'issue', 'issues', 'ist', 'it’s', 'kept', 'key', 'kids', 'kind', 'kitchen', 'know', 'la', 'large', 'late', 'laundry', 'le', 'leave', 'left', 'let', 'light', 'like', 'liked', 'line', 'listing', 'little', 'live', 'living', 'local', 'located', 'location', 'long', 'longer', 'look', 'looking', 'looks', 'lot', 'lots', 'love', 'loved', 'lovely', 'luggage', 'machine', 'main', 'maintained', 'make', 'makes', 'making', 'mall', 'malls', 'man', 'marina', 'market', 'meet', 'messages', 'met', 'metro', 'middle', 'min', 'mind', 'mins', 'minute', 'minutes', 'modern', 'money', 'morning', 'mrt', 'near', 'nearby', 'nearest', 'neat', 'need', 'needed', 'needs', 'neighborhood', 'neighbourhood', 'new', 'nice', 'night', 'nights', 'noise', 'noisy', 'note', 'offered', 'ok', 'okay', 'old', 'open', 'options', 'orchard', 'outside', 'overall', 'owner', 'park', 'peaceful', 'people', 'perfect', 'perfectly', 'person', 'photos', 'picture', 'pictures', 'place', 'places', 'pleasant', 'plenty', 'plus', 'point', 'pool', 'posting', 'pour', 'prepared', 'pretty', 'price', 'privacy', 'private', 'problem', 'problems', 'process', 'prompt', 'property', 'provide', 'provided', 'public', 'quay', 'queries', 'questions', 'quick', 'quickly', 'quiet', 'quite', 'reach', 'ready', 'really', 'reasonable', 'recommend', 'recommended', 'reply', 'request', 'reservation', 'residential', 'respond', 'responded', 'response', 'responses', 'responsive', 'rest', 'restaurant', 'restaurants', 'return', 'ride', 'right', 'road', 'room', 'rooms', 'safe', 'said', 'say', 'second', 'sehr', 'service', 'sg', 'shared', 'shop', 'shopping', 'shops', 'short', 'showed', 'shower', 'shown', 'simple', 'singapore', 'single', 'size', 'sleep', 'small', 'smooth', 'soon', 'space', 'spacious', 'spend', 'spent', 'spot', 'staff', 'stairs', 'station', 'stations', 'stay', 'stayed', 'staying', 'stop', 'stops', 'store', 'stores', 'street', 'studio', 'stylish', 'subway', 'suitable', 'super', 'superb', 'supermarket', 'sure', 'swimming', 'takes', 'taxi', 'thank', 'thanks', \"there's\", 'thing', 'things', 'think', 'thought', 'thoughtful', 'tidy', 'time', 'times', 'tips', 'toilet', 'told', 'took', 'totally', 'tourist', 'towels', 'town', 'train', 'transport', 'transportation', 'travel', 'travelers', 'traveling', 'travellers', 'travelling', 'trip', 'try', 'très', 'tv', 'und', 'unit', 'use', 'used', 'useful', 'using', 'value', 'view', 'views', 'visit', 'visiting', 'walk', 'walking', 'want', 'wanted', 'war', 'warm', 'washing', 'water', 'way', 'website', 'week', 'welcome', 'welcoming', 'went', 'wife', 'wifi', 'window', 'windows', 'wir', 'wonderful', 'work', 'worked', 'working', 'worth']\n"
     ]
    }
   ],
   "source": [
    "print(vectorizer.get_feature_names())"
   ]
  },
  {
   "cell_type": "code",
   "execution_count": 26,
   "metadata": {},
   "outputs": [
    {
     "data": {
      "text/plain": [
       "'!\"#$%&\\'()*+,-./:;<=>?@[\\\\]^_`{|}~'"
      ]
     },
     "execution_count": 26,
     "metadata": {},
     "output_type": "execute_result"
    }
   ],
   "source": [
    "string.punctuation"
   ]
  },
  {
   "cell_type": "markdown",
   "metadata": {
    "id": "mOoMzOg59Tzq"
   },
   "source": [
    "### 2. Using Vader Model\n",
    "Reasons for choosing this model:<br>\n",
    "1. From the NLTK package, Vadar model is trained with web comments, reviews, making itself suitable for this senario.\n",
    "2. It accounts for many acronyms, slangs, Capitalized Words and even emojis that are recently prevalent on the Internet.\n",
    "3. Rule-based model makes it easily adjustable."
   ]
  },
  {
   "cell_type": "code",
   "execution_count": 14,
   "metadata": {
    "colab": {
     "base_uri": "https://localhost:8080/"
    },
    "id": "yuTGKE4Kd7Dp",
    "outputId": "c0d40426-9946-4fe6-af51-3aef7951391f"
   },
   "outputs": [],
   "source": [
    "from nltk.sentiment.vader import SentimentIntensityAnalyzer\n",
    "def get_sentiment(sentence,sid):\n",
    "    score = sid.polarity_scores(sentence)\n",
    "    compound = score.get('compound')\n",
    "    return compound"
   ]
  },
  {
   "cell_type": "code",
   "execution_count": 15,
   "metadata": {
    "id": "E_h5T4WV9iss"
   },
   "outputs": [],
   "source": [
    "sid = SentimentIntensityAnalyzer()\n",
    "newWords = {'amenities': 0.5, 'big': 0.5, 'bus': 0.5,'near':0.5,'nearby':0.5,'quiet':0.5,'quick':0.5,'spacious':0.5,'mrt':0.5,'station':0.5,'walking':0.5,'walk':0.5,'restaurant':0.5,'responsive':0.5,'shopping':0.5,'short':0.5,\n",
    "    'pool':0.5,'kitchen':0.5,'food':0.5,'family':0.5,'distance':0.5,'close':0.5,'communication':0.5}\n",
    "sid.lexicon.update(newWords)"
   ]
  },
  {
   "cell_type": "code",
   "execution_count": 16,
   "metadata": {
    "colab": {
     "base_uri": "https://localhost:8080/"
    },
    "id": "MRNXiPehLe2Q",
    "outputId": "bd4ab785-1ab9-4864-f286-b7b52bb4cb28"
   },
   "outputs": [
    {
     "data": {
      "text/plain": [
       "0.5267"
      ]
     },
     "execution_count": 16,
     "metadata": {},
     "output_type": "execute_result"
    }
   ],
   "source": [
    "get_sentiment('good amenities',sid)"
   ]
  },
  {
   "cell_type": "code",
   "execution_count": 17,
   "metadata": {
    "id": "gRkYFWSHFKd8"
   },
   "outputs": [],
   "source": [
    "sid_score = df.comments.apply(lambda x : get_sentiment(x,sid))"
   ]
  },
  {
   "cell_type": "code",
   "execution_count": 18,
   "metadata": {
    "colab": {
     "base_uri": "https://localhost:8080/",
     "height": 164
    },
    "id": "41pEkuyLefHA",
    "outputId": "e223438c-ab21-4dd7-93be-c156c1724a1a"
   },
   "outputs": [
    {
     "data": {
      "text/plain": [
       "count    155250.000000\n",
       "mean          0.645322\n",
       "std           0.402002\n",
       "min          -0.998300\n",
       "25%           0.440400\n",
       "50%           0.839500\n",
       "75%           0.945500\n",
       "max           0.999800\n",
       "Name: comments, dtype: float64"
      ]
     },
     "execution_count": 18,
     "metadata": {},
     "output_type": "execute_result"
    }
   ],
   "source": [
    "sid_score.describe()"
   ]
  },
  {
   "cell_type": "code",
   "execution_count": 40,
   "metadata": {
    "id": "jHPJUStHfQhI",
    "scrolled": true
   },
   "outputs": [
    {
     "data": {
      "text/plain": [
       "\"I'm a French student who was looking for a place for some days in waiting to find a room nearby my exchange university and my stay in Fran's room has been my first Airbnb experience. To resume : it was PERFECT ! I met fantastic people (Fran and her family), helpful, kind, respectful, etc.. They are easygoing, you can speak with them about any topic (travels, music, religion..). They hosted me longer than it was planned and I thank them for it. Now I consider them as a second family in Singapore. I thank them for all advices they gave me about Singapore too. \\nAbout the room and the flat, it was perfect too. A very nice place, clean, with all you need (MRT at 10 min walking distance,Foodcourt, Supermarket, etc...). \\nIf  you look for a place to stay (outside the city), it is the place to go !\\nTo finish : Thank you for all Fran and see you soon :)\""
      ]
     },
     "execution_count": 40,
     "metadata": {},
     "output_type": "execute_result"
    }
   ],
   "source": [
    "df.comments[sid_score >= 0.99][31]"
   ]
  },
  {
   "cell_type": "code",
   "execution_count": 52,
   "metadata": {
    "scrolled": true
   },
   "outputs": [
    {
     "data": {
      "text/plain": [
       "765       Ich war 3 Wochen lang bei Familie Woon untergekommen und hatte eine sehr schöne Zeit. Am Abend meiner Ankunft wurde ich vom mittleren Sohn, Gabriel, empfangen und in die Unterkunft eingeführt. Die Wohnung liegt im 7. Stock eines Appartmentblocks, ist voll klimatisiert und es kommen ca. 11 Personen dort unter (5 Familienmitglieder und Gäste) wobei es einem nicht vollgestopft vorkommt. Die Familie wie auch die Gäste waren alle sehr sehr nett, und gemeinsam Essen oder Feiern gehen war stets ein...\n",
       "2977      Das Top-Erlebnis über Weihnachten in Singapur. Charlyn und Cecilia sind grossartige Hosts - und ihr Angebot nur zu empfehlen! Die Wohnung ist etwas ausserhalb des Zentrums der Metropole mit seinen unzähligen Einkaufscentern - auf halbem Weg vom Flughafen Changi - im Osten der Insel. Eine schöne, sichere und leicht hippe Wohngegend, wofür Charlyns Mutter Cecilia die besten Restauranttipps immer gleich griffbereit auf ihrem Handy hat. Charlyn war ziemlich busy während meines Aufenthalts. Aber ...\n",
       "3539      Overall, the experience was really bad. The host is very rude and is not open for any complaints AT ALL! Once I arrived at his place, the place looks much smaller than the photos it is also very dirty like it’s never been cleaned before. After I complained, he moved me to another place in Bencoolen WHICH is almost the same. The building itself is really old and dirty as well. The host never clean the place even once despite that I’ve paid $50 for the cleaning fee! The room is not clean at al...\n",
       "5281      Wir haben Mitte August 3 Nächte bei Darrick Ong gebucht. Da wir nach der offiziellen Check-In Zeit angekommen sind, haben wir Darrick vom Flughafen aus angerufen und der Dame, die das Telefon betreut hat, mitgeteilt, dass wir in ca. 30 min. eintreffen werden. Das hat super geklappt, wir wurden vor der Haustüre erwartet und freundliche empfangen und die Dame hat uns die Wohnung gezeigt und uns alles  Nötige erklärt. Wir hatten noch einen kleineren Zahnmedizinischen \"Notfall\", worauf die Dame ...\n",
       "5525      Die Unterkunft hat eine gute Lage neben einem 7-Eleven und zwischen zwei Food Courts, wo wir auch immer gefrühstückt haben. Die MRT-Station mit der Linie zum Flughafen ist relativ nah. Little India beginnt quasi direkt neben der Unterkunft. Das Zentrum und Marina Bay ist zu Fuß etwas weit weg, aber ansonsten gut zu erreichen. Vermutlich sind vergleichbare Unterkünfte dort aber auch deutlich teurer.\\n\\nWir hatten als Vierer-Gruppe das Zimmer mit zwei großen Doppelbetten für zwei Nächte gebuch...\n",
       "5670                                            Angelina und Ihre Schwester sind tolle und sehr nette Gastgeber. Sie haben mir sehr Tipps in allen Bereichen gegeben (vor allem bei den Restaurants, die sehr authentisch sind). Die Lage war perfekt, da die in der Nähe meiner Arbeit war. Zusätzlich war es nicht weit Richtung Flughafen und in die Innenstadt. Am besten war die Klimaanlage im Zimmer. Ohne die wäre mein Aufenthalt in Singapur sehr heiß geworden. Ich danke Angelina für die super Gastfreundschaft.\n",
       "6048      Wir haben uns die Unterkunft nach den Bildern wesentlich größer vorgestellt als sie tatsächlich ist. Hier wurde clever im Weitwinkel fotografiert.\\r\\nGläser und Geschirr gibt es in einer Basisausstattung für 6 Personen,\\r\\nBesteck ist jedoch nicht mehr vollständig. \\r\\nEine voll ausgestattete Küche ist etwas gans anderes.\\r\\n\\r\\nBei unserer Ankunft war die Wohnung insgesamt sauber, allerdings wurden die Duschen nicht gründlich gereinigt. Hier fanden wir noch deutschliche Spuren der Vormieter...\n",
       "27624     I'm most unhappy n trusted the integrity of Airbnb but i feel that I have been led by the nose n taken on constant room after room change which honestly is stupid n tiring especially with my injured shoulder which was why I'm here in the first place. The host has very a bad way of running this BNB which by the way is not a BNB. It is more a hotel filled with loud n nosey China people n moneyboys and when I lost my iPhone in my room I located it with Using my iPad the BNB has got the cheek to...\n",
       "36042     Die Kommunikation mit Gary war sehr gut und der Check-In hat sehr entspannt geklappt. Bei der Ankunft hat uns Gary direkt empfangen und die Wohnung gezeigt. Die Wohnung ist ziemlich klein, aber für zwei Personen absolut ausreichend. Die Badewanne wurde kürzlich vor unserer Ankunft durch eine Dusche ersetzt, was für uns aber überhaupt kein Problem war. Die Ausstattung der Küche ist sehr mager und wir hatten gehofft, dass diese besser ausgestattet ist, da wir täglich kochten - Gary hat uns abe...\n",
       "39152     Jessi hat mir vor meiner Ankunft die genaue Wegbeschreibung mit Bildern und Infos zu der Unterkunft mitgeteilt. Sie hat mir immer sehr schnell geantwortet. Trotz das die Unterkunft in der City war, war es nicht sehr laut (Ausser die Klimaanlage). Toll wares, dass man einen Vorhang um sein Bett ziehen konnte. So hatte man eine grossere Privatsphäre. Leider hab ich jessi nie persönlich kennengelernt und es gab auch keinen Stadtplan oder Bröschüren. Als ich an der Unerkunft ankam war es für mic...\n",
       "40344     Zu allererst muss man die Gastfreundschaft von Sean hervorheben. Wir sind morgens um 6:30 in Singapore gelandet, waren schrecklich müde und zudem war mein Freund krank. Obwohl Check-In erst ab 15 Uhr ist, machte Sean es möglich, dass wir sofort in das Zimmer konnten um zu schlafen. Ebenso freundlich war er mit der Zeit beim Checkout, denn mein Freund war nun noch mehr krank als bei der Ankunft. Sean war immer erreichbar für uns und hat bei allen Fragen geholfen. Das Haus in dem sich die Wohn...\n",
       "46237     Dies war unsere erste Airbnb Erfahrung und es hat uns bei BB Homes sehr gut gefallen. Unser Flug kam so an, dass wir früher als die festgelegte Check-in Zeit da waren, das Zimmer war aber schon fertig und wir konnten problemlos schon hinein. Die Unterkunft war so wie beschrieben und außerdem lag im Zimmer eine Mappe mit nützlichen Informationen zu Sehenswürdigkeiten, Essensmöglickeiten und öffentlichen Verkehrsmitteln für uns bereit. Die Lage ist sehr gut, es sind ca 5 min Fußweg bis zu eine...\n",
       "49830     Wir waren alles in allem enttäuscht von unserem Aufenthalt. Die Gastgeberin war entgegen der vorherigen Bewertungen relativ reserviert und eigentlich gar nicht an uns oder unserem Aufenthalt interessiert. Die Wohnung war für die Anzahl der zu diesem Zeitpunkt (möglicherweise aufgrund von Chinese New Year) dort lebenden Familienangehörigen und weiterer Gäste definitiv zu klein, das Bad war Abends oft lange belegt.. das zentrale Problem der Unterkunft war aber die Hygiene des Badezimmers. Scho...\n",
       "52844     Wenn man die Straße, in der das Apartment liegt, erreicht, bemerkt man man sofort, dass es sich um eine RUHIGE Seitenstraße handelt, der Weg zur nächsten U-Bahn-Haltestelle (Farrer Park, Ausgang F) jedoch über alle Maßen kurz ist - keine drei Minuten.\\nDas Einckecken ist dank der detaillierten Hinweise und Erläuterungen der Gastgeberin im Vorfeld (auch wenn diese, wie in unserem Falle, nicht anwesend sein sollte) denkbar einfach. Wenn man dann das Apartment betritt, ist man höchstens darüber...\n",
       "60876     Hi , im the owner of 38 Martin Road , unit 05-01 that on airnbn many years . Im moving to London and im sick with surgery. I always sleep inside my room . I never met such terrible host ever like Laura before . She really stupid abs rude writing me not polite message . The whole of her house is so diry , irresponsible every one come here they have no idea what is going on . And asking me where is the host . Its a big message over here like a juggle . All the guest in and out make so much noi...\n",
       "64345     Die Unterkunft ist einfach, aber sauber. Die Betten sind etwas härter vom Liegekomfort, aber für mich war das genau richtig. Der Self-Check-in erfolgte super einfach und die Kommunikation mit dem Host war reibungslos und unkompliziert. Zur nächsten Bahn sind es nur wenige Minuten, ebenso zum nächsten Bus. Um die Unterkunft herum gibt es eine Vielzahl an Imbissen, Restaurants und Supermärkten, die nicht touristisch sind, was wir richtig gut fanden. Dementsprechend waren auch die Preise sehr g...\n",
       "65123     Die Wohnung von Madeleine war auf zwei Stockwerke verteilt. So hatte ich oben mein eigenes Zimmer mit Badezimmer und einem großen  Balkon mit Blick über Singapur. \\n\\nDa Madeleine selber erst vor kurzem in das Apartment eingezogen war, war es noch recht spärlich eingerichtet und es gab in der Küche nicht wirklich viel. Auch der Balkon war ohne Sitzmöglichkeiten.\\n\\nAber ansonsten war alles top. Die Wohnung befindet sich in einer ruhigen Wohnsiedlung. Die MRT Station ist 200 m entfernt und ma...\n",
       "65935     Die Unterkunft liegt in der Nähe eines Bahnhofs, im dunkeln ist es kaum zu finden im hellen geht es. Man benötigt aber dringend eine Karte um es zu finden. \\nWenn man es gefunden hat folgt ein seltsamer Check in, mit einer Karte im Busch einen komplizierten Pin an der Wohnungstür und noch ein Schlüssel der Zimmertür. Die Wohnung hat zwar alles was man braucht zum Leben, dennoch lege ich persönlich sehr viel Wert auf Sauberkeit und die war da weniger zu finden. Die Möbel im Bad schimmelten. D...\n",
       "65941     DIRTY AND UNFRIENDLY \\n\\nThe location of this place was ok but the rest a DISASTER.\\n\\nThe unit had multiple long term residents living in the apartment. We counted 3 but there was maybe 4.\\nThere was two other rooms in the unit forAirbnb guests\\nThe residents were very unfriendly but I do not blame them as the apartment was so unsuitable and overcrowded.\\nIn 3 days we only saw a person once for 5 minutes who introduced herself as the host but looked different from the Airbnb photo.\\nThe Wif...\n",
       "71657     We're a family with young kids and this was our 10th Airbnb and sadly, our first bad experience. We were supposed to stay here for 2 weeks but needed to leave on the 3rd day because of violent drilling noise from the unit downstairs. It was a major construction that shook the whole apartment and one we weren't warned about. Jackhammer drilling can be heard intermittently throughout the day from 10am - 6pm. \\n\\nThe host, when informed about the situation, was not even a tad concerned or apolo...\n",
       "75688     Die Unterkunft war für den Preis in Ordnung. Mehr aber auch nicht. Das Zimmer war winzig, was nicht unbedingt ein Problem gewesen wäre, wenn es eine Klimaanlage gegeben hätte. Es gab lediglich Ventilatoren direkt am Bett, die so ungünstig angebracht sind, dass man unweigerlich krank wird, weil man direkt angepustet wird. Es hieß in der Beschreibung, dass Handtücher gestellt werden, was auch der Fall war. Allerdings waren die Handtücher allenfalls groß genug, um sich die Hände abzutrocknen ni...\n",
       "78683     Highly NOT RECOMMENDED & WORSE HOST I ever met. Chris are SUPER UNHELPFUL, BLUR, SLOW RESPONSE, LOUSY ALWAY NOT CHECKING MESSAGE. As a tourist, I totally unaware of SG regulations that it's illegal to rent house out and Chris didn't informed me at all. The address only give much later after get the key but I never think that I need the address for the custom card. Promised can get the key at 12pm but only turn up at 1.30pm. Chris will never informed you early the exact unit you going to stay...\n",
       "82239     Sehr zentrale Lage,  gute Anbindung durch viele Buslinien direkt vor der Haustür und eine LRT - Station direkt ums Eck. Shuihui war sehr nett, allerdings haben wir beim Checkin es nicht direkt gefunden,  weil nicht angegeben war, dass sich die Unterkunft im dritten Stock befindet und wir daher erst mal etwas ratlos rumstanden bis wir Shuihui fanden. \\nUnser Zimmer war sehr sauber,  allerdings das Bad leider nicht, sodass wir uns auch nicht auf die Klobrille setzten. Der Herd war leider versc...\n",
       "85040     Die Wohnung liegt sehr zentral, ca. 15 min Fußweg zur Marina Bay.  Man kommt von dort überall problemlos hin. Die Wohnung selbst ist perfekt ausgestattet. Es gibt Strandsachen, wie Schnorchel, Handtücher etc. Einen Staubsaugerrobotter, Waschmaschine und Trockner, Netflix, eine Bluetoothbox für die Dusche etc. Sehr positiv überrascht war ich von den ganzen kleinen Details, es gab Shampoo, Zanhbürsten. Zahncreme, Getränke im Kühlschrank, etc. Es war quasi alles vorhanden, was man zuhause auch ...\n",
       "100158    Wir waren im Juni 2018 für 7 Tage in Singapur bei Diane.\\nDie Lage des Zimmers war super, man erreicht die MRT zu Fuß in 5 Minuten, auch Little India bietet einiges. \\nAllerdings war das Zimmer nicht sauber. Es wuchsen Pilze in der Ecke, in der Dusche und an den Wänden befand sich Schimmel und die ganze Wohnung roch danach. Wir hatten kein Fenster, das man öffnen konnte, immerhin die Klimaanlage funktionierte. Die “Küche“ war sehr dreckig, es gab keine Sitzgelegenheit, außer die Toiletten, w...\n",
       "111494    Die Unterkunft ist gut gelegen. Alle Sehenswürdigkeiten sind in Kürze zu erreichen. Wir waren mit zwei kleinen Kindern da, es ist sehr hellhörig und war nachts durch die Nachbarn teilweise sehr laut. Der Balkon ist schön und der Pool auf dem Dach lädt zum schwimmen ein. Leider war die Wohnung nicht sehr sauber, Mülleimer waren nicht entleert und die küche nicht benutzbar da sämtluches geschrirr/besteck fehlte. Nach bemängeln der Sauberkeit kam die Gastgeber in uns entgegen und erstattete 30 ...\n",
       "118156    Freundlicherweise durften wir unsere Koffer früher in die Wohnung bringen, um Singapur erkunden zu können. Die Adresse war gut zufinden und auch die Anlage war sehr schön. Der Check-in verlief sehr schnell, wir wurden in unser Zimmer gelassen. Es wurde uns gezeigt wie man Heiß-Wasser anmacht, die Küche oder sonstiges nicht. Wenn man etwas braucht muss man fragen, von selbst wird Pat nicht auf einen zukommen.\\nWenn man im Zimmer ist konnte man die Zimmertür und die Terrassentür abschliessen. ...\n",
       "120497    Alles in allem kann man dort ein, oder mehrere Tage aushalten, aber ein Spaziergang ist es nicht. Im Mehrbettzimmer muss man immer damit rechnen, dass auch korpulentere Mitbewohner einchecken, die dementsprechend laut schnarchen und man trotz Ohrstöpsel nicht schlafen kann. Ich habe leider eine unschöne Erfahrung mit dem Personal gemacht, von der ich euch gerne berichten möchte. Ich war an meinem Geburtstag im Juli in Singapur in der night safari und kam Aufgrund dessen erst gegen halb zwölf...\n",
       "131129    Kentra ist eine sehr nette Vermieterin, deren Ziel es ist, den Reisenden die Zeit im Quartier so angenehm wie möglich zu gestalten. Es war alles da, was man braucht! Der Kühlschrank war gut bestückt, Waschmittel, Reinigungsmittel, Dinge des täglichen Bedarfes, Getränke, alles ausreichend da! In diesem Umfang hätten wir nicht damit gerechnet. Die Schlüsselübergabe war sehr unkompliziert. Die Wohnung war sehr sauber und ist zentral gelegen. Man erreicht die Ausflugsziele teilweise sehr gut zu ...\n",
       "134738    This is an inhumane space.\\nI am not usually leaving the worst review but this experience was too worst ever in my whole life.\\nFirst I would like to say Pro about this space. (There are reasons I don't say a room)\\nThis space has only two pros. \\nFirst, it is reasonably close to the MRT stations. (Within 10mins)\\nSecond, there is a decent clubhouse that consists of a small fitness room, swimming pool and study rooms.\\n\\nHere are the cons.\\n1. This space is not a room but storage. Usually, p...\n",
       "134859    Ansich ist diese Art von Übernachtung eine lustige und aufregende Idee. Soviel Geld allerdings für eine Kapsel zu bezahlen, auf keinen Fall. Die Klimaanlagen waren scheinbar auf die niedrigste Stufe gestellt so das man am nächsten Tag mit Fieber aufwachte, da es extrem kalt war. Das Badezimmer ist nicht nur unpraktisch gebaut ( Klo und Dusche in einem) sondern auch einfach nur extrem dreckig und es stinkt. Nach dem Frühstück sollte man sein Geschirr selber abwaschen, mit Wasser. Hygienisch i...\n",
       "141000    Also wo fange ich an.\\n\\n1. es ist kein Haus in dem man alleine ist sondern die Besitzerin wohnt mit ihrer Schwester auch da was kein Problem darstellt aber es gibt noch ein Zimmer das auch als AirBnB vermietet wird. Was so nicht erkenntlich war in der Anzeige.\\n\\nDas bedeutet auch das man sich mit 5 Leuten die Badezimmerräume teilen muss. Ich habe manchmal zwei Stunden warten müssen um überhaupt zum Zähne putzen zu kommen.\\n\\nDann kam noch dazu das an dem Tag unserer Anreise abends die ande...\n",
       "146874    Die Unterkunft an sich ist in Ordnung. Im Prinzip ist es genauso wie auf den Bildern. Die Lage ist super und man hat einen guten Startpunkt, um die Stadt zu erkunden. Zum Marina Bay sind es fußläufig ca. 25 min! Die Kommunikation war schnell und reibungslos. Die AC ist einmal ausgefallen und es kam sofort Hilfe!! \\nWas mir nicht gut gefallen hat, war, dass die Unterkunft doch sehr klein ist. Das wirkt auf den Bildern ein wenig großzügiger.. man kommt am Bett kaum zur Tür vorbei! Was auch sch...\n",
       "153337    WORSE EXPERIENCE EVER. STAY AT OWN RISK ***\\n\\nGuess what? The Aircon leak water WHOLE NIGHT n I have to hear the loud dripping water sound and the Aircon is absolutely broken down. No air at alland I texted her and no reply n I contacted Airbnb team n they asked me to wait for response and next early morning next door was renovating and fixing things knocking NOISY and I left early not sleeping and when I request politely for a refund this host says refund only $15 out of my $117 w/o any ex...\n",
       "Name: comments, dtype: object"
      ]
     },
     "execution_count": 52,
     "metadata": {},
     "output_type": "execute_result"
    }
   ],
   "source": [
    "pd.set_option('max_colwidth',500)\n",
    "df.comments[sid_score <= -0.99] # mostly in German"
   ]
  },
  {
   "cell_type": "code",
   "execution_count": 95,
   "metadata": {},
   "outputs": [],
   "source": [
    "df['senti_score'] = sid_score"
   ]
  },
  {
   "cell_type": "code",
   "execution_count": 92,
   "metadata": {
    "scrolled": true
   },
   "outputs": [
    {
     "ename": "google_new_transError",
     "evalue": "429 (Too Many Requests) from TTS API. Probable cause: Unknown",
     "output_type": "error",
     "traceback": [
      "\u001b[0;31m---------------------------------------------------------------------------\u001b[0m",
      "\u001b[0;31mHTTPError\u001b[0m                                 Traceback (most recent call last)",
      "\u001b[0;32m/Library/Frameworks/Python.framework/Versions/3.8/lib/python3.8/site-packages/google_trans_new/google_trans_new.py\u001b[0m in \u001b[0;36mdetect\u001b[0;34m(self, text)\u001b[0m\n\u001b[1;32m    242\u001b[0m                     \u001b[0;32mreturn\u001b[0m \u001b[0;34m[\u001b[0m\u001b[0mdetect_lang\u001b[0m\u001b[0;34m,\u001b[0m \u001b[0mLANGUAGES\u001b[0m\u001b[0;34m[\u001b[0m\u001b[0mdetect_lang\u001b[0m\u001b[0;34m.\u001b[0m\u001b[0mlower\u001b[0m\u001b[0;34m(\u001b[0m\u001b[0;34m)\u001b[0m\u001b[0;34m]\u001b[0m\u001b[0;34m]\u001b[0m\u001b[0;34m\u001b[0m\u001b[0;34m\u001b[0m\u001b[0m\n\u001b[0;32m--> 243\u001b[0;31m             \u001b[0mr\u001b[0m\u001b[0;34m.\u001b[0m\u001b[0mraise_for_status\u001b[0m\u001b[0;34m(\u001b[0m\u001b[0;34m)\u001b[0m\u001b[0;34m\u001b[0m\u001b[0;34m\u001b[0m\u001b[0m\n\u001b[0m\u001b[1;32m    244\u001b[0m         \u001b[0;32mexcept\u001b[0m \u001b[0mrequests\u001b[0m\u001b[0;34m.\u001b[0m\u001b[0mexceptions\u001b[0m\u001b[0;34m.\u001b[0m\u001b[0mHTTPError\u001b[0m \u001b[0;32mas\u001b[0m \u001b[0me\u001b[0m\u001b[0;34m:\u001b[0m\u001b[0;34m\u001b[0m\u001b[0;34m\u001b[0m\u001b[0m\n",
      "\u001b[0;32m/Library/Frameworks/Python.framework/Versions/3.8/lib/python3.8/site-packages/requests/models.py\u001b[0m in \u001b[0;36mraise_for_status\u001b[0;34m(self)\u001b[0m\n\u001b[1;32m    942\u001b[0m         \u001b[0;32mif\u001b[0m \u001b[0mhttp_error_msg\u001b[0m\u001b[0;34m:\u001b[0m\u001b[0;34m\u001b[0m\u001b[0;34m\u001b[0m\u001b[0m\n\u001b[0;32m--> 943\u001b[0;31m             \u001b[0;32mraise\u001b[0m \u001b[0mHTTPError\u001b[0m\u001b[0;34m(\u001b[0m\u001b[0mhttp_error_msg\u001b[0m\u001b[0;34m,\u001b[0m \u001b[0mresponse\u001b[0m\u001b[0;34m=\u001b[0m\u001b[0mself\u001b[0m\u001b[0;34m)\u001b[0m\u001b[0;34m\u001b[0m\u001b[0;34m\u001b[0m\u001b[0m\n\u001b[0m\u001b[1;32m    944\u001b[0m \u001b[0;34m\u001b[0m\u001b[0m\n",
      "\u001b[0;31mHTTPError\u001b[0m: 429 Client Error: Too Many Requests for url: https://www.google.com/sorry/index?continue=https://translate.google.cn/_/TranslateWebserverUi/data/batchexecute&q=EgSJhFQrGOj0rIIGIhkA8aeDSzK-H4mDawKmNYPrwU1U4uVMZXBlMgFy",
      "\nDuring handling of the above exception, another exception occurred:\n",
      "\u001b[0;31mgoogle_new_transError\u001b[0m                     Traceback (most recent call last)",
      "\u001b[0;32m<ipython-input-92-0e9b7af937e1>\u001b[0m in \u001b[0;36m<module>\u001b[0;34m\u001b[0m\n\u001b[0;32m----> 1\u001b[0;31m \u001b[0mdf\u001b[0m\u001b[0;34m.\u001b[0m\u001b[0mcomments\u001b[0m\u001b[0;34m[\u001b[0m\u001b[0msid_score\u001b[0m \u001b[0;34m<=\u001b[0m \u001b[0;34m-\u001b[0m\u001b[0;36m0.99\u001b[0m\u001b[0;34m]\u001b[0m \u001b[0;34m=\u001b[0m \u001b[0mdf\u001b[0m\u001b[0;34m.\u001b[0m\u001b[0mcomments\u001b[0m\u001b[0;34m[\u001b[0m\u001b[0msid_score\u001b[0m \u001b[0;34m<=\u001b[0m \u001b[0;34m-\u001b[0m\u001b[0;36m0.99\u001b[0m\u001b[0;34m]\u001b[0m\u001b[0;34m.\u001b[0m\u001b[0mapply\u001b[0m\u001b[0;34m(\u001b[0m\u001b[0;32mlambda\u001b[0m \u001b[0mx\u001b[0m\u001b[0;34m:\u001b[0m\u001b[0mdetectandtranslate\u001b[0m\u001b[0;34m(\u001b[0m\u001b[0mx\u001b[0m\u001b[0;34m)\u001b[0m\u001b[0;34m)\u001b[0m\u001b[0;34m\u001b[0m\u001b[0;34m\u001b[0m\u001b[0m\n\u001b[0m",
      "\u001b[0;32m/Library/Frameworks/Python.framework/Versions/3.8/lib/python3.8/site-packages/pandas/core/series.py\u001b[0m in \u001b[0;36mapply\u001b[0;34m(self, func, convert_dtype, args, **kwds)\u001b[0m\n\u001b[1;32m   4211\u001b[0m             \u001b[0;32melse\u001b[0m\u001b[0;34m:\u001b[0m\u001b[0;34m\u001b[0m\u001b[0;34m\u001b[0m\u001b[0m\n\u001b[1;32m   4212\u001b[0m                 \u001b[0mvalues\u001b[0m \u001b[0;34m=\u001b[0m \u001b[0mself\u001b[0m\u001b[0;34m.\u001b[0m\u001b[0mastype\u001b[0m\u001b[0;34m(\u001b[0m\u001b[0mobject\u001b[0m\u001b[0;34m)\u001b[0m\u001b[0;34m.\u001b[0m\u001b[0m_values\u001b[0m\u001b[0;34m\u001b[0m\u001b[0;34m\u001b[0m\u001b[0m\n\u001b[0;32m-> 4213\u001b[0;31m                 \u001b[0mmapped\u001b[0m \u001b[0;34m=\u001b[0m \u001b[0mlib\u001b[0m\u001b[0;34m.\u001b[0m\u001b[0mmap_infer\u001b[0m\u001b[0;34m(\u001b[0m\u001b[0mvalues\u001b[0m\u001b[0;34m,\u001b[0m \u001b[0mf\u001b[0m\u001b[0;34m,\u001b[0m \u001b[0mconvert\u001b[0m\u001b[0;34m=\u001b[0m\u001b[0mconvert_dtype\u001b[0m\u001b[0;34m)\u001b[0m\u001b[0;34m\u001b[0m\u001b[0;34m\u001b[0m\u001b[0m\n\u001b[0m\u001b[1;32m   4214\u001b[0m \u001b[0;34m\u001b[0m\u001b[0m\n\u001b[1;32m   4215\u001b[0m         \u001b[0;32mif\u001b[0m \u001b[0mlen\u001b[0m\u001b[0;34m(\u001b[0m\u001b[0mmapped\u001b[0m\u001b[0;34m)\u001b[0m \u001b[0;32mand\u001b[0m \u001b[0misinstance\u001b[0m\u001b[0;34m(\u001b[0m\u001b[0mmapped\u001b[0m\u001b[0;34m[\u001b[0m\u001b[0;36m0\u001b[0m\u001b[0;34m]\u001b[0m\u001b[0;34m,\u001b[0m \u001b[0mSeries\u001b[0m\u001b[0;34m)\u001b[0m\u001b[0;34m:\u001b[0m\u001b[0;34m\u001b[0m\u001b[0;34m\u001b[0m\u001b[0m\n",
      "\u001b[0;32mpandas/_libs/lib.pyx\u001b[0m in \u001b[0;36mpandas._libs.lib.map_infer\u001b[0;34m()\u001b[0m\n",
      "\u001b[0;32m<ipython-input-92-0e9b7af937e1>\u001b[0m in \u001b[0;36m<lambda>\u001b[0;34m(x)\u001b[0m\n\u001b[0;32m----> 1\u001b[0;31m \u001b[0mdf\u001b[0m\u001b[0;34m.\u001b[0m\u001b[0mcomments\u001b[0m\u001b[0;34m[\u001b[0m\u001b[0msid_score\u001b[0m \u001b[0;34m<=\u001b[0m \u001b[0;34m-\u001b[0m\u001b[0;36m0.99\u001b[0m\u001b[0;34m]\u001b[0m \u001b[0;34m=\u001b[0m \u001b[0mdf\u001b[0m\u001b[0;34m.\u001b[0m\u001b[0mcomments\u001b[0m\u001b[0;34m[\u001b[0m\u001b[0msid_score\u001b[0m \u001b[0;34m<=\u001b[0m \u001b[0;34m-\u001b[0m\u001b[0;36m0.99\u001b[0m\u001b[0;34m]\u001b[0m\u001b[0;34m.\u001b[0m\u001b[0mapply\u001b[0m\u001b[0;34m(\u001b[0m\u001b[0;32mlambda\u001b[0m \u001b[0mx\u001b[0m\u001b[0;34m:\u001b[0m\u001b[0mdetectandtranslate\u001b[0m\u001b[0;34m(\u001b[0m\u001b[0mx\u001b[0m\u001b[0;34m)\u001b[0m\u001b[0;34m)\u001b[0m\u001b[0;34m\u001b[0m\u001b[0;34m\u001b[0m\u001b[0m\n\u001b[0m",
      "\u001b[0;32m<ipython-input-87-63a111f9a0ea>\u001b[0m in \u001b[0;36mdetectandtranslate\u001b[0;34m(text)\u001b[0m\n\u001b[1;32m      3\u001b[0m \u001b[0;34m\u001b[0m\u001b[0m\n\u001b[1;32m      4\u001b[0m \u001b[0;32mdef\u001b[0m \u001b[0mdetectandtranslate\u001b[0m\u001b[0;34m(\u001b[0m\u001b[0mtext\u001b[0m\u001b[0;34m)\u001b[0m\u001b[0;34m:\u001b[0m\u001b[0;34m\u001b[0m\u001b[0;34m\u001b[0m\u001b[0m\n\u001b[0;32m----> 5\u001b[0;31m     \u001b[0;32mif\u001b[0m \u001b[0mtranslator\u001b[0m\u001b[0;34m.\u001b[0m\u001b[0mdetect\u001b[0m\u001b[0;34m(\u001b[0m\u001b[0mtext\u001b[0m\u001b[0;34m)\u001b[0m\u001b[0;34m[\u001b[0m\u001b[0;36m1\u001b[0m\u001b[0;34m]\u001b[0m \u001b[0;34m!=\u001b[0m \u001b[0;34m'english'\u001b[0m\u001b[0;34m:\u001b[0m\u001b[0;34m\u001b[0m\u001b[0;34m\u001b[0m\u001b[0m\n\u001b[0m\u001b[1;32m      6\u001b[0m         \u001b[0;32mreturn\u001b[0m \u001b[0mtranslator\u001b[0m\u001b[0;34m.\u001b[0m\u001b[0mtranslate\u001b[0m\u001b[0;34m(\u001b[0m\u001b[0mtext\u001b[0m\u001b[0;34m,\u001b[0m\u001b[0mlang_tgt\u001b[0m\u001b[0;34m=\u001b[0m\u001b[0;34m'en'\u001b[0m\u001b[0;34m)\u001b[0m\u001b[0;34m\u001b[0m\u001b[0;34m\u001b[0m\u001b[0m\n\u001b[1;32m      7\u001b[0m     \u001b[0;32mreturn\u001b[0m \u001b[0mtext\u001b[0m\u001b[0;34m\u001b[0m\u001b[0;34m\u001b[0m\u001b[0m\n",
      "\u001b[0;32m/Library/Frameworks/Python.framework/Versions/3.8/lib/python3.8/site-packages/google_trans_new/google_trans_new.py\u001b[0m in \u001b[0;36mdetect\u001b[0;34m(self, text)\u001b[0m\n\u001b[1;32m    245\u001b[0m             \u001b[0;31m# Request successful, bad response\u001b[0m\u001b[0;34m\u001b[0m\u001b[0;34m\u001b[0m\u001b[0;34m\u001b[0m\u001b[0m\n\u001b[1;32m    246\u001b[0m             \u001b[0mlog\u001b[0m\u001b[0;34m.\u001b[0m\u001b[0mdebug\u001b[0m\u001b[0;34m(\u001b[0m\u001b[0mstr\u001b[0m\u001b[0;34m(\u001b[0m\u001b[0me\u001b[0m\u001b[0;34m)\u001b[0m\u001b[0;34m)\u001b[0m\u001b[0;34m\u001b[0m\u001b[0;34m\u001b[0m\u001b[0m\n\u001b[0;32m--> 247\u001b[0;31m             \u001b[0;32mraise\u001b[0m \u001b[0mgoogle_new_transError\u001b[0m\u001b[0;34m(\u001b[0m\u001b[0mtts\u001b[0m\u001b[0;34m=\u001b[0m\u001b[0mself\u001b[0m\u001b[0;34m,\u001b[0m \u001b[0mresponse\u001b[0m\u001b[0;34m=\u001b[0m\u001b[0mr\u001b[0m\u001b[0;34m)\u001b[0m\u001b[0;34m\u001b[0m\u001b[0;34m\u001b[0m\u001b[0m\n\u001b[0m\u001b[1;32m    248\u001b[0m         \u001b[0;32mexcept\u001b[0m \u001b[0mrequests\u001b[0m\u001b[0;34m.\u001b[0m\u001b[0mexceptions\u001b[0m\u001b[0;34m.\u001b[0m\u001b[0mRequestException\u001b[0m \u001b[0;32mas\u001b[0m \u001b[0me\u001b[0m\u001b[0;34m:\u001b[0m\u001b[0;34m\u001b[0m\u001b[0;34m\u001b[0m\u001b[0m\n\u001b[1;32m    249\u001b[0m             \u001b[0;31m# Request failed\u001b[0m\u001b[0;34m\u001b[0m\u001b[0;34m\u001b[0m\u001b[0;34m\u001b[0m\u001b[0m\n",
      "\u001b[0;31mgoogle_new_transError\u001b[0m: 429 (Too Many Requests) from TTS API. Probable cause: Unknown"
     ]
    }
   ],
   "source": [
    "df.senti_score[sid_score <= -0.99] = df.comments[sid_score <= -0.99].apply(lambda x:get_sentiment(detectandtranslate(x),sid))"
   ]
  },
  {
   "cell_type": "code",
   "execution_count": null,
   "metadata": {},
   "outputs": [],
   "source": [
    "df.to_csv('../../Datasets/cleaned_customer.csv')"
   ]
  }
 ],
 "metadata": {
  "accelerator": "GPU",
  "colab": {
   "name": "NLP on Customer Comments.ipynb",
   "provenance": [],
   "toc_visible": true
  },
  "kernelspec": {
   "display_name": "Python 3",
   "language": "python",
   "name": "python3"
  },
  "language_info": {
   "codemirror_mode": {
    "name": "ipython",
    "version": 3
   },
   "file_extension": ".py",
   "mimetype": "text/x-python",
   "name": "python",
   "nbconvert_exporter": "python",
   "pygments_lexer": "ipython3",
   "version": "3.8.5"
  },
  "toc": {
   "base_numbering": 1,
   "nav_menu": {},
   "number_sections": true,
   "sideBar": true,
   "skip_h1_title": false,
   "title_cell": "Table of Contents",
   "title_sidebar": "Contents",
   "toc_cell": false,
   "toc_position": {},
   "toc_section_display": true,
   "toc_window_display": false
  }
 },
 "nbformat": 4,
 "nbformat_minor": 1
}
