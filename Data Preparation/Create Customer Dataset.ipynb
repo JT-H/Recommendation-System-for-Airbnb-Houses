{
  "nbformat": 4,
  "nbformat_minor": 0,
  "metadata": {
    "kernelspec": {
      "display_name": "Python 3",
      "language": "python",
      "name": "python3"
    },
    "language_info": {
      "codemirror_mode": {
        "name": "ipython",
        "version": 3
      },
      "file_extension": ".py",
      "mimetype": "text/x-python",
      "name": "python",
      "nbconvert_exporter": "python",
      "pygments_lexer": "ipython3",
      "version": "3.8.2"
    },
    "colab": {
      "name": "Create Customer Dataset.ipynb",
      "provenance": [],
      "toc_visible": true
    },
    "accelerator": "GPU"
  },
  "cells": [
    {
      "cell_type": "code",
      "metadata": {
        "id": "jF4bRUQ7ZyQv"
      },
      "source": [
        "import pandas as pd\n",
        "from pandas import Series,DataFrame\n",
        "import numpy as np"
      ],
      "execution_count": 1,
      "outputs": []
    },
    {
      "cell_type": "code",
      "metadata": {
        "id": "7dxdQRL_ZyQ8"
      },
      "source": [
        "url_front = 'http://data.insideairbnb.com/singapore/sg/singapore/'\n",
        "url_end_listings = '/data/listings.csv.gz'\n",
        "url_end_reviews = '/data/reviews.csv.gz'"
      ],
      "execution_count": 2,
      "outputs": []
    },
    {
      "cell_type": "markdown",
      "metadata": {
        "id": "GtQVlNRFZyQ8"
      },
      "source": [
        "# Combine Data"
      ]
    },
    {
      "cell_type": "code",
      "metadata": {
        "id": "FCkUXcJOZyQ8"
      },
      "source": [
        "dates = ['2019-03-18', '2019-04-20', '2019-05-23', '2019-06-25', '2019-07-21', '2019-08-28', '2019-09-25', '2019-10-25', '2019-11-26', '2019-12-28',\n",
        "         '2020-01-26', '2020-02-27', '2020-03-21', '2020-04-26', '2020-05-27', '2020-06-22', '2020-10-26', '2020-11-27', '2020-12-29','2021-01-27']"
      ],
      "execution_count": 3,
      "outputs": []
    },
    {
      "cell_type": "code",
      "metadata": {
        "id": "iQqfzLIEZyQ9"
      },
      "source": [
        "# Keep common features across all months (from Oct, 2020 onwards some more features were added)\n",
        "listings_2019_03 = pd.read_csv(url_front+'2019-03-18'+url_end_listings)\n",
        "listings_2020_10 = pd.read_csv(url_front+'2020-10-26'+url_end_listings)"
      ],
      "execution_count": 4,
      "outputs": []
    },
    {
      "cell_type": "code",
      "metadata": {
        "id": "u8oHeSrdZyQ9"
      },
      "source": [
        "long_features = listings_2019_03.columns.values\n",
        "short_features = listings_2020_10.columns.values\n",
        "keep = [x for x in long_features if x in short_features]"
      ],
      "execution_count": 5,
      "outputs": []
    },
    {
      "cell_type": "code",
      "metadata": {
        "id": "0HImHP6tZyQ9",
        "outputId": "a180bcd6-cb32-4388-fef1-ae11c4a608fc",
        "colab": {
          "base_uri": "https://localhost:8080/"
        }
      },
      "source": [
        "keep"
      ],
      "execution_count": 6,
      "outputs": [
        {
          "output_type": "execute_result",
          "data": {
            "text/plain": [
              "['id',\n",
              " 'listing_url',\n",
              " 'scrape_id',\n",
              " 'last_scraped',\n",
              " 'name',\n",
              " 'description',\n",
              " 'neighborhood_overview',\n",
              " 'picture_url',\n",
              " 'host_id',\n",
              " 'host_url',\n",
              " 'host_name',\n",
              " 'host_since',\n",
              " 'host_location',\n",
              " 'host_about',\n",
              " 'host_response_time',\n",
              " 'host_response_rate',\n",
              " 'host_acceptance_rate',\n",
              " 'host_is_superhost',\n",
              " 'host_thumbnail_url',\n",
              " 'host_picture_url',\n",
              " 'host_neighbourhood',\n",
              " 'host_listings_count',\n",
              " 'host_total_listings_count',\n",
              " 'host_verifications',\n",
              " 'host_has_profile_pic',\n",
              " 'host_identity_verified',\n",
              " 'neighbourhood',\n",
              " 'neighbourhood_cleansed',\n",
              " 'neighbourhood_group_cleansed',\n",
              " 'latitude',\n",
              " 'longitude',\n",
              " 'property_type',\n",
              " 'room_type',\n",
              " 'accommodates',\n",
              " 'bathrooms',\n",
              " 'bedrooms',\n",
              " 'beds',\n",
              " 'amenities',\n",
              " 'price',\n",
              " 'minimum_nights',\n",
              " 'maximum_nights',\n",
              " 'minimum_minimum_nights',\n",
              " 'maximum_minimum_nights',\n",
              " 'minimum_maximum_nights',\n",
              " 'maximum_maximum_nights',\n",
              " 'minimum_nights_avg_ntm',\n",
              " 'maximum_nights_avg_ntm',\n",
              " 'calendar_updated',\n",
              " 'has_availability',\n",
              " 'availability_30',\n",
              " 'availability_60',\n",
              " 'availability_90',\n",
              " 'availability_365',\n",
              " 'calendar_last_scraped',\n",
              " 'number_of_reviews',\n",
              " 'number_of_reviews_ltm',\n",
              " 'first_review',\n",
              " 'last_review',\n",
              " 'review_scores_rating',\n",
              " 'review_scores_accuracy',\n",
              " 'review_scores_cleanliness',\n",
              " 'review_scores_checkin',\n",
              " 'review_scores_communication',\n",
              " 'review_scores_location',\n",
              " 'review_scores_value',\n",
              " 'license',\n",
              " 'instant_bookable',\n",
              " 'calculated_host_listings_count',\n",
              " 'calculated_host_listings_count_entire_homes',\n",
              " 'calculated_host_listings_count_private_rooms',\n",
              " 'calculated_host_listings_count_shared_rooms',\n",
              " 'reviews_per_month']"
            ]
          },
          "metadata": {
            "tags": []
          },
          "execution_count": 6
        }
      ]
    },
    {
      "cell_type": "code",
      "metadata": {
        "id": "4nD0AHWEZyQ-"
      },
      "source": [
        "delete_col = ['listing_url',\n",
        " 'scrape_id',\n",
        " 'last_scraped',\n",
        " 'picture_url',\n",
        " 'host_url',\n",
        " 'host_name',\n",
        " 'host_location',\n",
        " 'host_acceptance_rate',\n",
        " 'host_thumbnail_url',\n",
        " 'host_picture_url',\n",
        " 'host_listings_count',\n",
        " 'host_total_listings_count',\n",
        " 'neighbourhood',\n",
        " 'has_availability',\n",
        " 'calendar_last_scraped',\n",
        " 'first_review',\n",
        " 'last_review',\n",
        " 'license',\n",
        " 'calculated_host_listings_count_entire_homes',\n",
        " 'calculated_host_listings_count_private_rooms',\n",
        " 'calculated_host_listings_count_shared_rooms']"
      ],
      "execution_count": 7,
      "outputs": []
    },
    {
      "cell_type": "code",
      "metadata": {
        "id": "QzaColN5ZyQ_"
      },
      "source": [
        "def read_dataset(date):\n",
        "    reviews = pd.read_csv(url_front+date+url_end_reviews).drop(columns = ['id'])\n",
        "    listings = pd.read_csv(url_front+date+url_end_listings)[keep].drop(columns = delete_col) \n",
        "\n",
        "    return reviews, listings"
      ],
      "execution_count": 8,
      "outputs": []
    },
    {
      "cell_type": "code",
      "metadata": {
        "id": "dHL2ZpabZyQ_"
      },
      "source": [
        "def anti_join(x, y, date, on):\n",
        "    # Find comments for new listings.\n",
        "    merged = pd.merge(left=x, right=y, how='left', indicator=True, on=on)\n",
        "    left_only = merged.loc[merged._merge == 'left_only', :].drop(columns='_merge')\n",
        "    ans_1 = left_only.drop(\n",
        "        columns = ['date_y', 'reviewer_id_y', 'reviewer_name_y','comments_y']).rename(\n",
        "        columns = lambda x: x.replace('_x', ''))\n",
        "    \n",
        "    # Find new comments for existing listings.\n",
        "    left_right = merged.loc[(merged._merge == 'both') & (merged.date_x >= date), :].drop(columns='_merge')\n",
        "    ans_2 = left_right.drop(\n",
        "        columns = ['date_y', 'reviewer_id_y', 'reviewer_name_y','comments_y']).rename(\n",
        "        columns = lambda x: x.replace('_x', ''))\n",
        "    \n",
        "    ans = pd.concat([ans_1,ans_2]).drop_duplicates()\n",
        "    return ans"
      ],
      "execution_count": 57,
      "outputs": []
    },
    {
      "cell_type": "code",
      "metadata": {
        "id": "r7IrAAcMZyQ_"
      },
      "source": [
        "reviews, listings = read_dataset(dates[0])\n",
        "data = pd.merge(reviews, listings, left_on = 'listing_id', right_on = 'id', how = 'left').drop(columns = 'id')   "
      ],
      "execution_count": 58,
      "outputs": []
    },
    {
      "cell_type": "code",
      "metadata": {
        "id": "JWQ3vkcvZyQ_",
        "outputId": "667b5b5a-7e22-4da5-c477-dfa7a96f0628",
        "colab": {
          "base_uri": "https://localhost:8080/"
        }
      },
      "source": [
        "for i in range (1, 19):\n",
        "    date = dates[i]\n",
        "    this_review, this_listings = read_dataset(date)\n",
        "    new_review = anti_join(this_review, reviews, dates[i-1], 'listing_id')\n",
        "    new_review = new_review.drop_duplicates()\n",
        "    new_data = pd.merge(new_review, this_listings, left_on = 'listing_id', right_on = 'id', how = 'left').drop(columns = 'id') \n",
        "    \n",
        "    # concat the data \n",
        "    reviews = pd.concat([reviews, new_review]).drop_duplicates()\n",
        "    data = pd.concat([data, new_data]).drop_duplicates()\n",
        "    \n",
        "    print('finish', i)"
      ],
      "execution_count": 59,
      "outputs": [
        {
          "output_type": "stream",
          "text": [
            "finish 1\n"
          ],
          "name": "stdout"
        },
        {
          "output_type": "stream",
          "text": [
            "/usr/local/lib/python3.7/dist-packages/IPython/core/interactiveshell.py:2822: DtypeWarning: Columns (42,43,61,62,94,95) have mixed types.Specify dtype option on import or set low_memory=False.\n",
            "  if self.run_code(code, result):\n"
          ],
          "name": "stderr"
        },
        {
          "output_type": "stream",
          "text": [
            "finish 2\n",
            "finish 3\n",
            "finish 4\n",
            "finish 5\n",
            "finish 6\n",
            "finish 7\n",
            "finish 8\n",
            "finish 9\n",
            "finish 10\n",
            "finish 11\n",
            "finish 12\n",
            "finish 13\n",
            "finish 14\n",
            "finish 15\n",
            "finish 16\n",
            "finish 17\n",
            "finish 18\n"
          ],
          "name": "stdout"
        }
      ]
    },
    {
      "cell_type": "code",
      "metadata": {
        "id": "kPEZr-2sZyRA",
        "outputId": "50034986-f3ef-419f-bc1d-c1208567236f",
        "colab": {
          "base_uri": "https://localhost:8080/"
        }
      },
      "source": [
        "data.comments.isna().value_counts()"
      ],
      "execution_count": 60,
      "outputs": [
        {
          "output_type": "execute_result",
          "data": {
            "text/plain": [
              "False    155078\n",
              "True        172\n",
              "Name: comments, dtype: int64"
            ]
          },
          "metadata": {
            "tags": []
          },
          "execution_count": 60
        }
      ]
    },
    {
      "cell_type": "code",
      "metadata": {
        "id": "I9nqb0w8ZyRA",
        "outputId": "6b9143f1-5c86-4f42-b115-3fb49495dcce",
        "colab": {
          "base_uri": "https://localhost:8080/",
          "height": 564
        }
      },
      "source": [
        "reviewer_id = data.pop('reviewer_id')\n",
        "data.insert(0, 'reviewer_id', reviewer_id)\n",
        "data.head()"
      ],
      "execution_count": 61,
      "outputs": [
        {
          "output_type": "execute_result",
          "data": {
            "text/html": [
              "<div>\n",
              "<style scoped>\n",
              "    .dataframe tbody tr th:only-of-type {\n",
              "        vertical-align: middle;\n",
              "    }\n",
              "\n",
              "    .dataframe tbody tr th {\n",
              "        vertical-align: top;\n",
              "    }\n",
              "\n",
              "    .dataframe thead th {\n",
              "        text-align: right;\n",
              "    }\n",
              "</style>\n",
              "<table border=\"1\" class=\"dataframe\">\n",
              "  <thead>\n",
              "    <tr style=\"text-align: right;\">\n",
              "      <th></th>\n",
              "      <th>reviewer_id</th>\n",
              "      <th>listing_id</th>\n",
              "      <th>date</th>\n",
              "      <th>reviewer_name</th>\n",
              "      <th>comments</th>\n",
              "      <th>name</th>\n",
              "      <th>description</th>\n",
              "      <th>neighborhood_overview</th>\n",
              "      <th>host_id</th>\n",
              "      <th>host_since</th>\n",
              "      <th>host_about</th>\n",
              "      <th>host_response_time</th>\n",
              "      <th>host_response_rate</th>\n",
              "      <th>host_is_superhost</th>\n",
              "      <th>host_neighbourhood</th>\n",
              "      <th>host_verifications</th>\n",
              "      <th>host_has_profile_pic</th>\n",
              "      <th>host_identity_verified</th>\n",
              "      <th>neighbourhood_cleansed</th>\n",
              "      <th>neighbourhood_group_cleansed</th>\n",
              "      <th>latitude</th>\n",
              "      <th>longitude</th>\n",
              "      <th>property_type</th>\n",
              "      <th>room_type</th>\n",
              "      <th>accommodates</th>\n",
              "      <th>bathrooms</th>\n",
              "      <th>bedrooms</th>\n",
              "      <th>beds</th>\n",
              "      <th>amenities</th>\n",
              "      <th>price</th>\n",
              "      <th>minimum_nights</th>\n",
              "      <th>maximum_nights</th>\n",
              "      <th>minimum_minimum_nights</th>\n",
              "      <th>maximum_minimum_nights</th>\n",
              "      <th>minimum_maximum_nights</th>\n",
              "      <th>maximum_maximum_nights</th>\n",
              "      <th>minimum_nights_avg_ntm</th>\n",
              "      <th>maximum_nights_avg_ntm</th>\n",
              "      <th>calendar_updated</th>\n",
              "      <th>availability_30</th>\n",
              "      <th>availability_60</th>\n",
              "      <th>availability_90</th>\n",
              "      <th>availability_365</th>\n",
              "      <th>number_of_reviews</th>\n",
              "      <th>number_of_reviews_ltm</th>\n",
              "      <th>review_scores_rating</th>\n",
              "      <th>review_scores_accuracy</th>\n",
              "      <th>review_scores_cleanliness</th>\n",
              "      <th>review_scores_checkin</th>\n",
              "      <th>review_scores_communication</th>\n",
              "      <th>review_scores_location</th>\n",
              "      <th>review_scores_value</th>\n",
              "      <th>instant_bookable</th>\n",
              "      <th>calculated_host_listings_count</th>\n",
              "      <th>reviews_per_month</th>\n",
              "    </tr>\n",
              "  </thead>\n",
              "  <tbody>\n",
              "    <tr>\n",
              "      <th>0</th>\n",
              "      <td>8557223</td>\n",
              "      <td>49091</td>\n",
              "      <td>2013-10-21</td>\n",
              "      <td>Jared</td>\n",
              "      <td>Fran was absolutely gracious and welcoming. Ma...</td>\n",
              "      <td>COZICOMFORT LONG TERM STAY ROOM 2</td>\n",
              "      <td>This is Room No. 2.(available after Jan 15 201...</td>\n",
              "      <td>NaN</td>\n",
              "      <td>266763</td>\n",
              "      <td>2010-10-20</td>\n",
              "      <td>I am a private tutor by profession. My husband...</td>\n",
              "      <td>within a few hours</td>\n",
              "      <td>100%</td>\n",
              "      <td>f</td>\n",
              "      <td>Woodlands</td>\n",
              "      <td>['email', 'phone', 'facebook', 'reviews', 'jum...</td>\n",
              "      <td>t</td>\n",
              "      <td>f</td>\n",
              "      <td>Woodlands</td>\n",
              "      <td>North Region</td>\n",
              "      <td>1.44255</td>\n",
              "      <td>103.79580</td>\n",
              "      <td>Apartment</td>\n",
              "      <td>Private room</td>\n",
              "      <td>1</td>\n",
              "      <td>1.0</td>\n",
              "      <td>1.0</td>\n",
              "      <td>1.0</td>\n",
              "      <td>{TV,\"Cable TV\",Internet,Wifi,\"Air conditioning...</td>\n",
              "      <td>$81.00</td>\n",
              "      <td>180</td>\n",
              "      <td>360</td>\n",
              "      <td>180</td>\n",
              "      <td>180</td>\n",
              "      <td>360</td>\n",
              "      <td>360</td>\n",
              "      <td>180.0</td>\n",
              "      <td>360.0</td>\n",
              "      <td>58 months ago</td>\n",
              "      <td>30</td>\n",
              "      <td>60</td>\n",
              "      <td>90</td>\n",
              "      <td>365</td>\n",
              "      <td>1</td>\n",
              "      <td>0</td>\n",
              "      <td>94.0</td>\n",
              "      <td>10.0</td>\n",
              "      <td>10.0</td>\n",
              "      <td>10.0</td>\n",
              "      <td>10.0</td>\n",
              "      <td>8.0</td>\n",
              "      <td>8.0</td>\n",
              "      <td>f</td>\n",
              "      <td>2</td>\n",
              "      <td>0.02</td>\n",
              "    </tr>\n",
              "    <tr>\n",
              "      <th>1</th>\n",
              "      <td>1356099</td>\n",
              "      <td>50646</td>\n",
              "      <td>2014-04-18</td>\n",
              "      <td>James</td>\n",
              "      <td>A comfortable room in a smart condo developmen...</td>\n",
              "      <td>Pleasant Room along Bukit Timah</td>\n",
              "      <td>Fully furnished bedroom with a nice view on th...</td>\n",
              "      <td>The serenity &amp; quiet surrounding makes it an i...</td>\n",
              "      <td>227796</td>\n",
              "      <td>2010-09-08</td>\n",
              "      <td>I am a working professional, living in Singapo...</td>\n",
              "      <td>NaN</td>\n",
              "      <td>NaN</td>\n",
              "      <td>f</td>\n",
              "      <td>Bukit Timah</td>\n",
              "      <td>['email', 'phone', 'facebook', 'reviews']</td>\n",
              "      <td>t</td>\n",
              "      <td>f</td>\n",
              "      <td>Bukit Timah</td>\n",
              "      <td>Central Region</td>\n",
              "      <td>1.33235</td>\n",
              "      <td>103.78521</td>\n",
              "      <td>Apartment</td>\n",
              "      <td>Private room</td>\n",
              "      <td>2</td>\n",
              "      <td>1.0</td>\n",
              "      <td>1.0</td>\n",
              "      <td>1.0</td>\n",
              "      <td>{TV,\"Cable TV\",Internet,Wifi,\"Air conditioning...</td>\n",
              "      <td>$80.00</td>\n",
              "      <td>90</td>\n",
              "      <td>730</td>\n",
              "      <td>90</td>\n",
              "      <td>90</td>\n",
              "      <td>730</td>\n",
              "      <td>730</td>\n",
              "      <td>90.0</td>\n",
              "      <td>730.0</td>\n",
              "      <td>55 months ago</td>\n",
              "      <td>30</td>\n",
              "      <td>60</td>\n",
              "      <td>90</td>\n",
              "      <td>365</td>\n",
              "      <td>18</td>\n",
              "      <td>0</td>\n",
              "      <td>91.0</td>\n",
              "      <td>9.0</td>\n",
              "      <td>10.0</td>\n",
              "      <td>10.0</td>\n",
              "      <td>10.0</td>\n",
              "      <td>9.0</td>\n",
              "      <td>9.0</td>\n",
              "      <td>f</td>\n",
              "      <td>1</td>\n",
              "      <td>0.30</td>\n",
              "    </tr>\n",
              "    <tr>\n",
              "      <th>2</th>\n",
              "      <td>15222393</td>\n",
              "      <td>50646</td>\n",
              "      <td>2014-06-05</td>\n",
              "      <td>Welli</td>\n",
              "      <td>Stayed over at Sujatha's house for 3 good nigh...</td>\n",
              "      <td>Pleasant Room along Bukit Timah</td>\n",
              "      <td>Fully furnished bedroom with a nice view on th...</td>\n",
              "      <td>The serenity &amp; quiet surrounding makes it an i...</td>\n",
              "      <td>227796</td>\n",
              "      <td>2010-09-08</td>\n",
              "      <td>I am a working professional, living in Singapo...</td>\n",
              "      <td>NaN</td>\n",
              "      <td>NaN</td>\n",
              "      <td>f</td>\n",
              "      <td>Bukit Timah</td>\n",
              "      <td>['email', 'phone', 'facebook', 'reviews']</td>\n",
              "      <td>t</td>\n",
              "      <td>f</td>\n",
              "      <td>Bukit Timah</td>\n",
              "      <td>Central Region</td>\n",
              "      <td>1.33235</td>\n",
              "      <td>103.78521</td>\n",
              "      <td>Apartment</td>\n",
              "      <td>Private room</td>\n",
              "      <td>2</td>\n",
              "      <td>1.0</td>\n",
              "      <td>1.0</td>\n",
              "      <td>1.0</td>\n",
              "      <td>{TV,\"Cable TV\",Internet,Wifi,\"Air conditioning...</td>\n",
              "      <td>$80.00</td>\n",
              "      <td>90</td>\n",
              "      <td>730</td>\n",
              "      <td>90</td>\n",
              "      <td>90</td>\n",
              "      <td>730</td>\n",
              "      <td>730</td>\n",
              "      <td>90.0</td>\n",
              "      <td>730.0</td>\n",
              "      <td>55 months ago</td>\n",
              "      <td>30</td>\n",
              "      <td>60</td>\n",
              "      <td>90</td>\n",
              "      <td>365</td>\n",
              "      <td>18</td>\n",
              "      <td>0</td>\n",
              "      <td>91.0</td>\n",
              "      <td>9.0</td>\n",
              "      <td>10.0</td>\n",
              "      <td>10.0</td>\n",
              "      <td>10.0</td>\n",
              "      <td>9.0</td>\n",
              "      <td>9.0</td>\n",
              "      <td>f</td>\n",
              "      <td>1</td>\n",
              "      <td>0.30</td>\n",
              "    </tr>\n",
              "    <tr>\n",
              "      <th>3</th>\n",
              "      <td>5543172</td>\n",
              "      <td>50646</td>\n",
              "      <td>2014-07-02</td>\n",
              "      <td>Cyril</td>\n",
              "      <td>It's been a lovely stay at Sujatha's. The room...</td>\n",
              "      <td>Pleasant Room along Bukit Timah</td>\n",
              "      <td>Fully furnished bedroom with a nice view on th...</td>\n",
              "      <td>The serenity &amp; quiet surrounding makes it an i...</td>\n",
              "      <td>227796</td>\n",
              "      <td>2010-09-08</td>\n",
              "      <td>I am a working professional, living in Singapo...</td>\n",
              "      <td>NaN</td>\n",
              "      <td>NaN</td>\n",
              "      <td>f</td>\n",
              "      <td>Bukit Timah</td>\n",
              "      <td>['email', 'phone', 'facebook', 'reviews']</td>\n",
              "      <td>t</td>\n",
              "      <td>f</td>\n",
              "      <td>Bukit Timah</td>\n",
              "      <td>Central Region</td>\n",
              "      <td>1.33235</td>\n",
              "      <td>103.78521</td>\n",
              "      <td>Apartment</td>\n",
              "      <td>Private room</td>\n",
              "      <td>2</td>\n",
              "      <td>1.0</td>\n",
              "      <td>1.0</td>\n",
              "      <td>1.0</td>\n",
              "      <td>{TV,\"Cable TV\",Internet,Wifi,\"Air conditioning...</td>\n",
              "      <td>$80.00</td>\n",
              "      <td>90</td>\n",
              "      <td>730</td>\n",
              "      <td>90</td>\n",
              "      <td>90</td>\n",
              "      <td>730</td>\n",
              "      <td>730</td>\n",
              "      <td>90.0</td>\n",
              "      <td>730.0</td>\n",
              "      <td>55 months ago</td>\n",
              "      <td>30</td>\n",
              "      <td>60</td>\n",
              "      <td>90</td>\n",
              "      <td>365</td>\n",
              "      <td>18</td>\n",
              "      <td>0</td>\n",
              "      <td>91.0</td>\n",
              "      <td>9.0</td>\n",
              "      <td>10.0</td>\n",
              "      <td>10.0</td>\n",
              "      <td>10.0</td>\n",
              "      <td>9.0</td>\n",
              "      <td>9.0</td>\n",
              "      <td>f</td>\n",
              "      <td>1</td>\n",
              "      <td>0.30</td>\n",
              "    </tr>\n",
              "    <tr>\n",
              "      <th>4</th>\n",
              "      <td>817532</td>\n",
              "      <td>50646</td>\n",
              "      <td>2014-07-08</td>\n",
              "      <td>Jake</td>\n",
              "      <td>We had a great experience. A nice place, an am...</td>\n",
              "      <td>Pleasant Room along Bukit Timah</td>\n",
              "      <td>Fully furnished bedroom with a nice view on th...</td>\n",
              "      <td>The serenity &amp; quiet surrounding makes it an i...</td>\n",
              "      <td>227796</td>\n",
              "      <td>2010-09-08</td>\n",
              "      <td>I am a working professional, living in Singapo...</td>\n",
              "      <td>NaN</td>\n",
              "      <td>NaN</td>\n",
              "      <td>f</td>\n",
              "      <td>Bukit Timah</td>\n",
              "      <td>['email', 'phone', 'facebook', 'reviews']</td>\n",
              "      <td>t</td>\n",
              "      <td>f</td>\n",
              "      <td>Bukit Timah</td>\n",
              "      <td>Central Region</td>\n",
              "      <td>1.33235</td>\n",
              "      <td>103.78521</td>\n",
              "      <td>Apartment</td>\n",
              "      <td>Private room</td>\n",
              "      <td>2</td>\n",
              "      <td>1.0</td>\n",
              "      <td>1.0</td>\n",
              "      <td>1.0</td>\n",
              "      <td>{TV,\"Cable TV\",Internet,Wifi,\"Air conditioning...</td>\n",
              "      <td>$80.00</td>\n",
              "      <td>90</td>\n",
              "      <td>730</td>\n",
              "      <td>90</td>\n",
              "      <td>90</td>\n",
              "      <td>730</td>\n",
              "      <td>730</td>\n",
              "      <td>90.0</td>\n",
              "      <td>730.0</td>\n",
              "      <td>55 months ago</td>\n",
              "      <td>30</td>\n",
              "      <td>60</td>\n",
              "      <td>90</td>\n",
              "      <td>365</td>\n",
              "      <td>18</td>\n",
              "      <td>0</td>\n",
              "      <td>91.0</td>\n",
              "      <td>9.0</td>\n",
              "      <td>10.0</td>\n",
              "      <td>10.0</td>\n",
              "      <td>10.0</td>\n",
              "      <td>9.0</td>\n",
              "      <td>9.0</td>\n",
              "      <td>f</td>\n",
              "      <td>1</td>\n",
              "      <td>0.30</td>\n",
              "    </tr>\n",
              "  </tbody>\n",
              "</table>\n",
              "</div>"
            ],
            "text/plain": [
              "   reviewer_id  listing_id  ... calculated_host_listings_count reviews_per_month\n",
              "0      8557223       49091  ...                              2              0.02\n",
              "1      1356099       50646  ...                              1              0.30\n",
              "2     15222393       50646  ...                              1              0.30\n",
              "3      5543172       50646  ...                              1              0.30\n",
              "4       817532       50646  ...                              1              0.30\n",
              "\n",
              "[5 rows x 55 columns]"
            ]
          },
          "metadata": {
            "tags": []
          },
          "execution_count": 61
        }
      ]
    },
    {
      "cell_type": "markdown",
      "metadata": {
        "id": "tjAbEK6ASGiM"
      },
      "source": [
        "# Find Nearby Sites"
      ]
    },
    {
      "cell_type": "code",
      "metadata": {
        "id": "QQnlwa3uSPQg"
      },
      "source": [
        "# Extract the location data.\n",
        "df_lat_lon = data[['latitude','longitude']]"
      ],
      "execution_count": null,
      "outputs": []
    },
    {
      "cell_type": "code",
      "metadata": {
        "id": "rU59eVFWUbaR"
      },
      "source": [
        "# Read in the "
      ],
      "execution_count": null,
      "outputs": []
    }
  ]
}