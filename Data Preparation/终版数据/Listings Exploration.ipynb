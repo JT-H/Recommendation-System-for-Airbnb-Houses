{
 "cells": [
  {
   "cell_type": "code",
   "execution_count": 2,
   "metadata": {},
   "outputs": [],
   "source": [
    "import numpy as np\n",
    "import pandas as pd"
   ]
  },
  {
   "cell_type": "markdown",
   "metadata": {},
   "source": [
    "### 0. import the data"
   ]
  },
  {
   "cell_type": "code",
   "execution_count": 4,
   "metadata": {},
   "outputs": [],
   "source": [
    "df=pd.read_csv(\"../原始数据/listings_cleaned.csv\")"
   ]
  },
  {
   "cell_type": "code",
   "execution_count": 5,
   "metadata": {},
   "outputs": [
    {
     "data": {
      "text/html": [
       "<div>\n",
       "<style scoped>\n",
       "    .dataframe tbody tr th:only-of-type {\n",
       "        vertical-align: middle;\n",
       "    }\n",
       "\n",
       "    .dataframe tbody tr th {\n",
       "        vertical-align: top;\n",
       "    }\n",
       "\n",
       "    .dataframe thead th {\n",
       "        text-align: right;\n",
       "    }\n",
       "</style>\n",
       "<table border=\"1\" class=\"dataframe\">\n",
       "  <thead>\n",
       "    <tr style=\"text-align: right;\">\n",
       "      <th></th>\n",
       "      <th>id</th>\n",
       "      <th>name</th>\n",
       "      <th>description</th>\n",
       "      <th>neighborhood_overview</th>\n",
       "      <th>host_id</th>\n",
       "      <th>host_since</th>\n",
       "      <th>host_about</th>\n",
       "      <th>host_response_time</th>\n",
       "      <th>host_response_rate</th>\n",
       "      <th>host_is_superhost</th>\n",
       "      <th>...</th>\n",
       "      <th>review_scores_communication</th>\n",
       "      <th>review_scores_location</th>\n",
       "      <th>review_scores_value</th>\n",
       "      <th>instant_bookable</th>\n",
       "      <th>calculated_host_listings_count</th>\n",
       "      <th>reviews_per_month</th>\n",
       "      <th>nearby_sites_rating</th>\n",
       "      <th>nearest_station_dist</th>\n",
       "      <th>nearest_site_dist</th>\n",
       "      <th>nearest_site_rating</th>\n",
       "    </tr>\n",
       "  </thead>\n",
       "  <tbody>\n",
       "    <tr>\n",
       "      <th>0</th>\n",
       "      <td>49091</td>\n",
       "      <td>COZICOMFORT LONG TERM STAY ROOM 2</td>\n",
       "      <td>This is Room No. 2.(available after Jan 15 201...</td>\n",
       "      <td>NaN</td>\n",
       "      <td>266763</td>\n",
       "      <td>2010-10-20</td>\n",
       "      <td>I am a private tutor by profession. My husband...</td>\n",
       "      <td>within a few hours</td>\n",
       "      <td>100%</td>\n",
       "      <td>f</td>\n",
       "      <td>...</td>\n",
       "      <td>10.0</td>\n",
       "      <td>8.0</td>\n",
       "      <td>8.0</td>\n",
       "      <td>f</td>\n",
       "      <td>2</td>\n",
       "      <td>0.02</td>\n",
       "      <td>0.995731</td>\n",
       "      <td>0.617762</td>\n",
       "      <td>4.295315</td>\n",
       "      <td>4.595264</td>\n",
       "    </tr>\n",
       "    <tr>\n",
       "      <th>1</th>\n",
       "      <td>50646</td>\n",
       "      <td>Pleasant Room along Bukit Timah</td>\n",
       "      <td>Fully furnished bedroom with a nice view on th...</td>\n",
       "      <td>The serenity &amp; quiet surrounding makes it an i...</td>\n",
       "      <td>227796</td>\n",
       "      <td>2010-09-08</td>\n",
       "      <td>I am a working professional, living in Singapo...</td>\n",
       "      <td>NaN</td>\n",
       "      <td>NaN</td>\n",
       "      <td>f</td>\n",
       "      <td>...</td>\n",
       "      <td>10.0</td>\n",
       "      <td>9.0</td>\n",
       "      <td>9.0</td>\n",
       "      <td>f</td>\n",
       "      <td>1</td>\n",
       "      <td>0.30</td>\n",
       "      <td>1.269606</td>\n",
       "      <td>0.399696</td>\n",
       "      <td>2.039236</td>\n",
       "      <td>4.654423</td>\n",
       "    </tr>\n",
       "  </tbody>\n",
       "</table>\n",
       "<p>2 rows × 55 columns</p>\n",
       "</div>"
      ],
      "text/plain": [
       "      id                               name  \\\n",
       "0  49091  COZICOMFORT LONG TERM STAY ROOM 2   \n",
       "1  50646    Pleasant Room along Bukit Timah   \n",
       "\n",
       "                                         description  \\\n",
       "0  This is Room No. 2.(available after Jan 15 201...   \n",
       "1  Fully furnished bedroom with a nice view on th...   \n",
       "\n",
       "                               neighborhood_overview  host_id  host_since  \\\n",
       "0                                                NaN   266763  2010-10-20   \n",
       "1  The serenity & quiet surrounding makes it an i...   227796  2010-09-08   \n",
       "\n",
       "                                          host_about  host_response_time  \\\n",
       "0  I am a private tutor by profession. My husband...  within a few hours   \n",
       "1  I am a working professional, living in Singapo...                 NaN   \n",
       "\n",
       "  host_response_rate host_is_superhost  ... review_scores_communication  \\\n",
       "0               100%                 f  ...                        10.0   \n",
       "1                NaN                 f  ...                        10.0   \n",
       "\n",
       "  review_scores_location review_scores_value instant_bookable  \\\n",
       "0                    8.0                 8.0                f   \n",
       "1                    9.0                 9.0                f   \n",
       "\n",
       "  calculated_host_listings_count reviews_per_month  nearby_sites_rating  \\\n",
       "0                              2              0.02             0.995731   \n",
       "1                              1              0.30             1.269606   \n",
       "\n",
       "   nearest_station_dist nearest_site_dist nearest_site_rating  \n",
       "0              0.617762          4.295315            4.595264  \n",
       "1              0.399696          2.039236            4.654423  \n",
       "\n",
       "[2 rows x 55 columns]"
      ]
     },
     "execution_count": 5,
     "metadata": {},
     "output_type": "execute_result"
    }
   ],
   "source": [
    "df.head(2)"
   ]
  },
  {
   "cell_type": "code",
   "execution_count": 6,
   "metadata": {
    "scrolled": true
   },
   "outputs": [
    {
     "data": {
      "text/plain": [
       "(138263, 55)"
      ]
     },
     "execution_count": 6,
     "metadata": {},
     "output_type": "execute_result"
    }
   ],
   "source": [
    "df.shape"
   ]
  },
  {
   "cell_type": "markdown",
   "metadata": {},
   "source": [
    "#### Delete duplicate samples, keep only one observation per house"
   ]
  },
  {
   "cell_type": "code",
   "execution_count": 7,
   "metadata": {
    "scrolled": true
   },
   "outputs": [],
   "source": [
    "df=df.drop_duplicates(subset=[\"id\"],keep=\"last\")"
   ]
  },
  {
   "cell_type": "code",
   "execution_count": 8,
   "metadata": {},
   "outputs": [
    {
     "data": {
      "text/plain": [
       "(15101, 55)"
      ]
     },
     "execution_count": 8,
     "metadata": {},
     "output_type": "execute_result"
    }
   ],
   "source": [
    "df.shape"
   ]
  },
  {
   "cell_type": "markdown",
   "metadata": {},
   "source": [
    "#### reset index "
   ]
  },
  {
   "cell_type": "code",
   "execution_count": 9,
   "metadata": {},
   "outputs": [],
   "source": [
    "df=df.reset_index().drop(columns=[\"index\"])"
   ]
  },
  {
   "cell_type": "code",
   "execution_count": 10,
   "metadata": {},
   "outputs": [
    {
     "data": {
      "text/html": [
       "<div>\n",
       "<style scoped>\n",
       "    .dataframe tbody tr th:only-of-type {\n",
       "        vertical-align: middle;\n",
       "    }\n",
       "\n",
       "    .dataframe tbody tr th {\n",
       "        vertical-align: top;\n",
       "    }\n",
       "\n",
       "    .dataframe thead th {\n",
       "        text-align: right;\n",
       "    }\n",
       "</style>\n",
       "<table border=\"1\" class=\"dataframe\">\n",
       "  <thead>\n",
       "    <tr style=\"text-align: right;\">\n",
       "      <th></th>\n",
       "      <th>id</th>\n",
       "      <th>name</th>\n",
       "      <th>description</th>\n",
       "      <th>neighborhood_overview</th>\n",
       "      <th>host_id</th>\n",
       "      <th>host_since</th>\n",
       "      <th>host_about</th>\n",
       "      <th>host_response_time</th>\n",
       "      <th>host_response_rate</th>\n",
       "      <th>host_is_superhost</th>\n",
       "      <th>...</th>\n",
       "      <th>review_scores_communication</th>\n",
       "      <th>review_scores_location</th>\n",
       "      <th>review_scores_value</th>\n",
       "      <th>instant_bookable</th>\n",
       "      <th>calculated_host_listings_count</th>\n",
       "      <th>reviews_per_month</th>\n",
       "      <th>nearby_sites_rating</th>\n",
       "      <th>nearest_station_dist</th>\n",
       "      <th>nearest_site_dist</th>\n",
       "      <th>nearest_site_rating</th>\n",
       "    </tr>\n",
       "  </thead>\n",
       "  <tbody>\n",
       "    <tr>\n",
       "      <th>0</th>\n",
       "      <td>729816</td>\n",
       "      <td>2 + 1 bedroom in Robertson Quay</td>\n",
       "      <td>a 2+1 bedroom unit in a modern condo in Robert...</td>\n",
       "      <td>It's in the middle of everything without the n...</td>\n",
       "      <td>3794008</td>\n",
       "      <td>2012-10-07</td>\n",
       "      <td>25 years old Indonesian, been staying in Singa...</td>\n",
       "      <td>NaN</td>\n",
       "      <td>NaN</td>\n",
       "      <td>f</td>\n",
       "      <td>...</td>\n",
       "      <td>10.0</td>\n",
       "      <td>10.0</td>\n",
       "      <td>10.0</td>\n",
       "      <td>f</td>\n",
       "      <td>1</td>\n",
       "      <td>0.05</td>\n",
       "      <td>2.176037</td>\n",
       "      <td>0.817067</td>\n",
       "      <td>0.935811</td>\n",
       "      <td>4.5</td>\n",
       "    </tr>\n",
       "    <tr>\n",
       "      <th>1</th>\n",
       "      <td>1101652</td>\n",
       "      <td>Cozy place in singapore</td>\n",
       "      <td>Explore one of Singapore's best kept heritage ...</td>\n",
       "      <td>The condo is also a short walk to Parkway Para...</td>\n",
       "      <td>4156336</td>\n",
       "      <td>2012-11-15</td>\n",
       "      <td>Hey!\\r\\n\\r\\nWelcome to my cozy apartment . I f...</td>\n",
       "      <td>within a day</td>\n",
       "      <td>100%</td>\n",
       "      <td>f</td>\n",
       "      <td>...</td>\n",
       "      <td>10.0</td>\n",
       "      <td>9.0</td>\n",
       "      <td>9.0</td>\n",
       "      <td>f</td>\n",
       "      <td>1</td>\n",
       "      <td>0.29</td>\n",
       "      <td>1.135049</td>\n",
       "      <td>1.813440</td>\n",
       "      <td>3.174312</td>\n",
       "      <td>4.5</td>\n",
       "    </tr>\n",
       "  </tbody>\n",
       "</table>\n",
       "<p>2 rows × 55 columns</p>\n",
       "</div>"
      ],
      "text/plain": [
       "        id                             name  \\\n",
       "0   729816  2 + 1 bedroom in Robertson Quay   \n",
       "1  1101652          Cozy place in singapore   \n",
       "\n",
       "                                         description  \\\n",
       "0  a 2+1 bedroom unit in a modern condo in Robert...   \n",
       "1  Explore one of Singapore's best kept heritage ...   \n",
       "\n",
       "                               neighborhood_overview  host_id  host_since  \\\n",
       "0  It's in the middle of everything without the n...  3794008  2012-10-07   \n",
       "1  The condo is also a short walk to Parkway Para...  4156336  2012-11-15   \n",
       "\n",
       "                                          host_about host_response_time  \\\n",
       "0  25 years old Indonesian, been staying in Singa...                NaN   \n",
       "1  Hey!\\r\\n\\r\\nWelcome to my cozy apartment . I f...       within a day   \n",
       "\n",
       "  host_response_rate host_is_superhost  ... review_scores_communication  \\\n",
       "0                NaN                 f  ...                        10.0   \n",
       "1               100%                 f  ...                        10.0   \n",
       "\n",
       "  review_scores_location review_scores_value instant_bookable  \\\n",
       "0                   10.0                10.0                f   \n",
       "1                    9.0                 9.0                f   \n",
       "\n",
       "  calculated_host_listings_count reviews_per_month  nearby_sites_rating  \\\n",
       "0                              1              0.05             2.176037   \n",
       "1                              1              0.29             1.135049   \n",
       "\n",
       "   nearest_station_dist nearest_site_dist nearest_site_rating  \n",
       "0              0.817067          0.935811                 4.5  \n",
       "1              1.813440          3.174312                 4.5  \n",
       "\n",
       "[2 rows x 55 columns]"
      ]
     },
     "execution_count": 10,
     "metadata": {},
     "output_type": "execute_result"
    }
   ],
   "source": [
    "df.head(2)"
   ]
  },
  {
   "cell_type": "markdown",
   "metadata": {},
   "source": [
    "### 1. Feature Seletion"
   ]
  },
  {
   "cell_type": "markdown",
   "metadata": {},
   "source": [
    "#### 1.1 select subjectively "
   ]
  },
  {
   "cell_type": "code",
   "execution_count": 11,
   "metadata": {},
   "outputs": [],
   "source": [
    "delete_columns=['name','neighborhood_overview','host_id','host_about','host_neighbourhood', 'neighbourhood_cleansed',\n",
    "                'host_has_profile_pic', 'host_identity_verified','calendar_updated','number_of_reviews'\n",
    "               ]"
   ]
  },
  {
   "cell_type": "code",
   "execution_count": 12,
   "metadata": {},
   "outputs": [],
   "source": [
    "df2=df.drop(delete_columns,axis=1)"
   ]
  },
  {
   "cell_type": "code",
   "execution_count": 13,
   "metadata": {
    "scrolled": true
   },
   "outputs": [
    {
     "data": {
      "text/plain": [
       "(15101, 45)"
      ]
     },
     "execution_count": 13,
     "metadata": {},
     "output_type": "execute_result"
    }
   ],
   "source": [
    "df2.shape"
   ]
  },
  {
   "cell_type": "markdown",
   "metadata": {},
   "source": [
    "### 2. Feature Processing"
   ]
  },
  {
   "cell_type": "markdown",
   "metadata": {},
   "source": [
    "#### delete description, host_response_rate, host_response_time empty values"
   ]
  },
  {
   "cell_type": "code",
   "execution_count": 14,
   "metadata": {},
   "outputs": [],
   "source": [
    "df2.dropna(subset=[\"description\", \"host_response_rate\", \"host_response_time\"],inplace=True)"
   ]
  },
  {
   "cell_type": "markdown",
   "metadata": {},
   "source": [
    "#### host_is_superhost feature：Fill in empty values and convert to numbers"
   ]
  },
  {
   "cell_type": "code",
   "execution_count": 15,
   "metadata": {},
   "outputs": [],
   "source": [
    "df2['host_is_superhost']=df2['host_is_superhost'].fillna('f')"
   ]
  },
  {
   "cell_type": "code",
   "execution_count": 16,
   "metadata": {},
   "outputs": [],
   "source": [
    "df2.host_is_superhost=df2.host_is_superhost.replace({\"t\":1,\n",
    "                                                     \"f\":0})"
   ]
  },
  {
   "cell_type": "markdown",
   "metadata": {},
   "source": [
    "####  host_response_time feature：categorical-->numerical"
   ]
  },
  {
   "cell_type": "code",
   "execution_count": 17,
   "metadata": {},
   "outputs": [],
   "source": [
    "df2['host_response_time']=df2['host_response_time'].replace({'within an hour': 4,\n",
    "                                                             'within a few hours': 3,\n",
    "                                                             'within a day': 2, \n",
    "                                                             'a few days or more': 1})"
   ]
  },
  {
   "cell_type": "markdown",
   "metadata": {},
   "source": [
    "####  host_response_rate：string-->numbers"
   ]
  },
  {
   "cell_type": "code",
   "execution_count": 18,
   "metadata": {},
   "outputs": [],
   "source": [
    "# host_response_rate convert to numbers\n",
    "df2['host_response_rate']= df2['host_response_rate'].apply(lambda x:int(x[:-1])/100)"
   ]
  },
  {
   "cell_type": "code",
   "execution_count": 19,
   "metadata": {
    "scrolled": true
   },
   "outputs": [
    {
     "data": {
      "text/plain": [
       "array([[1.        , 0.81646059],\n",
       "       [0.81646059, 1.        ]])"
      ]
     },
     "execution_count": 19,
     "metadata": {},
     "output_type": "execute_result"
    }
   ],
   "source": [
    "np.corrcoef(df2.host_response_time, df2.host_response_rate)"
   ]
  },
  {
   "cell_type": "markdown",
   "metadata": {},
   "source": [
    "It shows that the correlation between the two is quite strong, so **feature cross**"
   ]
  },
  {
   "cell_type": "code",
   "execution_count": 20,
   "metadata": {},
   "outputs": [],
   "source": [
    "df2[\"host_response_time_cross_rate\"]=df2.host_response_time*df2.host_response_rate"
   ]
  },
  {
   "cell_type": "code",
   "execution_count": 21,
   "metadata": {},
   "outputs": [],
   "source": [
    "df2.drop(columns=['host_response_time','host_response_rate'],inplace=True)"
   ]
  },
  {
   "cell_type": "markdown",
   "metadata": {},
   "source": [
    "#### host_verifications feature：Split categories into many columns"
   ]
  },
  {
   "cell_type": "code",
   "execution_count": 22,
   "metadata": {},
   "outputs": [],
   "source": [
    "# host_verifications fill na as ''\n",
    "df2['host_verifications'] = df2['host_verifications'].fillna('')"
   ]
  },
  {
   "cell_type": "code",
   "execution_count": 23,
   "metadata": {},
   "outputs": [],
   "source": [
    "# create new boolean columns\n",
    "df2['email']= df2['host_verifications'].apply(lambda x: 1 if 'email' in x else 0)\n",
    "df2['phone']= df2['host_verifications'].apply(lambda x: 1 if 'phone' in x else 0)\n",
    "df2['reviews']= df2['host_verifications'].apply(lambda x: 1 if 'reviews' in x else 0)\n",
    "df2['jumio']= df2['host_verifications'].apply(lambda x: 1 if 'jumio' in x else 0)\n",
    "df2['offline_government_id']= df2['host_verifications'].apply(lambda x: 1 if 'offline_government_id' in x else 0)\n",
    "df2['selfie']= df2['host_verifications'].apply(lambda x: 1 if 'selfie' in x else 0)\n",
    "df2['government_id']= df2['host_verifications'].apply(lambda x: 1 if 'government_id' in x else 0)\n",
    "df2['identity_manual']= df2['host_verifications'].apply(lambda x: 1 if 'identity_manual' in x else 0)\n",
    "df2['work_email']= df2['host_verifications'].apply(lambda x: 1 if 'work_email' in x else 0)\n",
    "df2['manual_online']= df2['host_verifications'].apply(lambda x: 1 if 'manual_online' in x else 0)\n",
    "df2['manual_offline']= df2['host_verifications'].apply(lambda x: 1 if 'manual_offline' in x else 0)\n",
    "# ['email', 'phone', 'manual_online', 'reviews', 'manual_offline', 'jumio', 'offline_government_id', 'selfie', 'government_id', 'identity_manual', 'work_email']"
   ]
  },
  {
   "cell_type": "code",
   "execution_count": 24,
   "metadata": {},
   "outputs": [
    {
     "data": {
      "text/html": [
       "<div>\n",
       "<style scoped>\n",
       "    .dataframe tbody tr th:only-of-type {\n",
       "        vertical-align: middle;\n",
       "    }\n",
       "\n",
       "    .dataframe tbody tr th {\n",
       "        vertical-align: top;\n",
       "    }\n",
       "\n",
       "    .dataframe thead th {\n",
       "        text-align: right;\n",
       "    }\n",
       "</style>\n",
       "<table border=\"1\" class=\"dataframe\">\n",
       "  <thead>\n",
       "    <tr style=\"text-align: right;\">\n",
       "      <th></th>\n",
       "      <th>email</th>\n",
       "      <th>phone</th>\n",
       "      <th>manual_online</th>\n",
       "      <th>reviews</th>\n",
       "      <th>manual_offline</th>\n",
       "      <th>jumio</th>\n",
       "      <th>offline_government_id</th>\n",
       "      <th>selfie</th>\n",
       "      <th>government_id</th>\n",
       "      <th>identity_manual</th>\n",
       "      <th>work_email</th>\n",
       "    </tr>\n",
       "  </thead>\n",
       "  <tbody>\n",
       "    <tr>\n",
       "      <th>1</th>\n",
       "      <td>1</td>\n",
       "      <td>1</td>\n",
       "      <td>0</td>\n",
       "      <td>1</td>\n",
       "      <td>0</td>\n",
       "      <td>0</td>\n",
       "      <td>0</td>\n",
       "      <td>0</td>\n",
       "      <td>0</td>\n",
       "      <td>0</td>\n",
       "      <td>0</td>\n",
       "    </tr>\n",
       "    <tr>\n",
       "      <th>3</th>\n",
       "      <td>1</td>\n",
       "      <td>1</td>\n",
       "      <td>0</td>\n",
       "      <td>1</td>\n",
       "      <td>0</td>\n",
       "      <td>1</td>\n",
       "      <td>1</td>\n",
       "      <td>1</td>\n",
       "      <td>1</td>\n",
       "      <td>1</td>\n",
       "      <td>1</td>\n",
       "    </tr>\n",
       "    <tr>\n",
       "      <th>4</th>\n",
       "      <td>1</td>\n",
       "      <td>1</td>\n",
       "      <td>0</td>\n",
       "      <td>1</td>\n",
       "      <td>0</td>\n",
       "      <td>1</td>\n",
       "      <td>1</td>\n",
       "      <td>1</td>\n",
       "      <td>1</td>\n",
       "      <td>1</td>\n",
       "      <td>0</td>\n",
       "    </tr>\n",
       "    <tr>\n",
       "      <th>7</th>\n",
       "      <td>1</td>\n",
       "      <td>1</td>\n",
       "      <td>0</td>\n",
       "      <td>1</td>\n",
       "      <td>0</td>\n",
       "      <td>1</td>\n",
       "      <td>0</td>\n",
       "      <td>0</td>\n",
       "      <td>1</td>\n",
       "      <td>0</td>\n",
       "      <td>1</td>\n",
       "    </tr>\n",
       "    <tr>\n",
       "      <th>8</th>\n",
       "      <td>1</td>\n",
       "      <td>1</td>\n",
       "      <td>0</td>\n",
       "      <td>1</td>\n",
       "      <td>1</td>\n",
       "      <td>1</td>\n",
       "      <td>0</td>\n",
       "      <td>0</td>\n",
       "      <td>1</td>\n",
       "      <td>0</td>\n",
       "      <td>1</td>\n",
       "    </tr>\n",
       "    <tr>\n",
       "      <th>...</th>\n",
       "      <td>...</td>\n",
       "      <td>...</td>\n",
       "      <td>...</td>\n",
       "      <td>...</td>\n",
       "      <td>...</td>\n",
       "      <td>...</td>\n",
       "      <td>...</td>\n",
       "      <td>...</td>\n",
       "      <td>...</td>\n",
       "      <td>...</td>\n",
       "      <td>...</td>\n",
       "    </tr>\n",
       "    <tr>\n",
       "      <th>15096</th>\n",
       "      <td>0</td>\n",
       "      <td>1</td>\n",
       "      <td>0</td>\n",
       "      <td>0</td>\n",
       "      <td>0</td>\n",
       "      <td>1</td>\n",
       "      <td>0</td>\n",
       "      <td>0</td>\n",
       "      <td>1</td>\n",
       "      <td>0</td>\n",
       "      <td>0</td>\n",
       "    </tr>\n",
       "    <tr>\n",
       "      <th>15097</th>\n",
       "      <td>1</td>\n",
       "      <td>1</td>\n",
       "      <td>0</td>\n",
       "      <td>0</td>\n",
       "      <td>0</td>\n",
       "      <td>0</td>\n",
       "      <td>0</td>\n",
       "      <td>0</td>\n",
       "      <td>0</td>\n",
       "      <td>0</td>\n",
       "      <td>1</td>\n",
       "    </tr>\n",
       "    <tr>\n",
       "      <th>15098</th>\n",
       "      <td>1</td>\n",
       "      <td>1</td>\n",
       "      <td>0</td>\n",
       "      <td>0</td>\n",
       "      <td>0</td>\n",
       "      <td>0</td>\n",
       "      <td>0</td>\n",
       "      <td>0</td>\n",
       "      <td>0</td>\n",
       "      <td>0</td>\n",
       "      <td>1</td>\n",
       "    </tr>\n",
       "    <tr>\n",
       "      <th>15099</th>\n",
       "      <td>1</td>\n",
       "      <td>1</td>\n",
       "      <td>0</td>\n",
       "      <td>0</td>\n",
       "      <td>0</td>\n",
       "      <td>0</td>\n",
       "      <td>0</td>\n",
       "      <td>0</td>\n",
       "      <td>0</td>\n",
       "      <td>0</td>\n",
       "      <td>1</td>\n",
       "    </tr>\n",
       "    <tr>\n",
       "      <th>15100</th>\n",
       "      <td>1</td>\n",
       "      <td>1</td>\n",
       "      <td>0</td>\n",
       "      <td>0</td>\n",
       "      <td>0</td>\n",
       "      <td>1</td>\n",
       "      <td>1</td>\n",
       "      <td>1</td>\n",
       "      <td>1</td>\n",
       "      <td>1</td>\n",
       "      <td>0</td>\n",
       "    </tr>\n",
       "  </tbody>\n",
       "</table>\n",
       "<p>12222 rows × 11 columns</p>\n",
       "</div>"
      ],
      "text/plain": [
       "       email  phone  manual_online  reviews  manual_offline  jumio  \\\n",
       "1          1      1              0        1               0      0   \n",
       "3          1      1              0        1               0      1   \n",
       "4          1      1              0        1               0      1   \n",
       "7          1      1              0        1               0      1   \n",
       "8          1      1              0        1               1      1   \n",
       "...      ...    ...            ...      ...             ...    ...   \n",
       "15096      0      1              0        0               0      1   \n",
       "15097      1      1              0        0               0      0   \n",
       "15098      1      1              0        0               0      0   \n",
       "15099      1      1              0        0               0      0   \n",
       "15100      1      1              0        0               0      1   \n",
       "\n",
       "       offline_government_id  selfie  government_id  identity_manual  \\\n",
       "1                          0       0              0                0   \n",
       "3                          1       1              1                1   \n",
       "4                          1       1              1                1   \n",
       "7                          0       0              1                0   \n",
       "8                          0       0              1                0   \n",
       "...                      ...     ...            ...              ...   \n",
       "15096                      0       0              1                0   \n",
       "15097                      0       0              0                0   \n",
       "15098                      0       0              0                0   \n",
       "15099                      0       0              0                0   \n",
       "15100                      1       1              1                1   \n",
       "\n",
       "       work_email  \n",
       "1               0  \n",
       "3               1  \n",
       "4               0  \n",
       "7               1  \n",
       "8               1  \n",
       "...           ...  \n",
       "15096           0  \n",
       "15097           1  \n",
       "15098           1  \n",
       "15099           1  \n",
       "15100           0  \n",
       "\n",
       "[12222 rows x 11 columns]"
      ]
     },
     "execution_count": 24,
     "metadata": {},
     "output_type": "execute_result"
    }
   ],
   "source": [
    "df2[['email', 'phone', 'manual_online', 'reviews', 'manual_offline', 'jumio', 'offline_government_id', 'selfie', 'government_id', 'identity_manual', 'work_email']]"
   ]
  },
  {
   "cell_type": "code",
   "execution_count": 25,
   "metadata": {},
   "outputs": [],
   "source": [
    "df2.drop(columns=[\"host_verifications\"],inplace=True)"
   ]
  },
  {
   "cell_type": "markdown",
   "metadata": {},
   "source": [
    "#### neighbourhood_group_cleansed feature"
   ]
  },
  {
   "cell_type": "code",
   "execution_count": 26,
   "metadata": {
    "scrolled": false
   },
   "outputs": [
    {
     "data": {
      "text/plain": [
       "Central Region       10415\n",
       "West Region            668\n",
       "East Region            554\n",
       "North-East Region      367\n",
       "North Region           218\n",
       "Name: neighbourhood_group_cleansed, dtype: int64"
      ]
     },
     "execution_count": 26,
     "metadata": {},
     "output_type": "execute_result"
    }
   ],
   "source": [
    "df2.neighbourhood_group_cleansed.value_counts()"
   ]
  },
  {
   "cell_type": "code",
   "execution_count": 27,
   "metadata": {},
   "outputs": [],
   "source": [
    "df2=df2.reset_index(drop=True)"
   ]
  },
  {
   "cell_type": "code",
   "execution_count": 28,
   "metadata": {},
   "outputs": [],
   "source": [
    "from sklearn.preprocessing import OneHotEncoder"
   ]
  },
  {
   "cell_type": "code",
   "execution_count": 29,
   "metadata": {},
   "outputs": [],
   "source": [
    "enc = OneHotEncoder(categories='auto')\n",
    "features = pd.DataFrame(enc.fit_transform(df2[['neighbourhood_group_cleansed']]).toarray(),columns=enc.get_feature_names())\n"
   ]
  },
  {
   "cell_type": "code",
   "execution_count": 30,
   "metadata": {
    "scrolled": true
   },
   "outputs": [],
   "source": [
    "df2=pd.concat([df2.drop(columns=['neighbourhood_group_cleansed']), features],axis=1)"
   ]
  },
  {
   "cell_type": "markdown",
   "metadata": {},
   "source": [
    "####  property_type feature：Merge subcategories"
   ]
  },
  {
   "cell_type": "code",
   "execution_count": 31,
   "metadata": {},
   "outputs": [],
   "source": [
    "df2['property_type'] = df2['property_type'].str.lower()"
   ]
  },
  {
   "cell_type": "code",
   "execution_count": 32,
   "metadata": {},
   "outputs": [],
   "source": [
    "def property_type(x):\n",
    "    if 'apartment' in x:\n",
    "        return 'apartment'\n",
    "    elif 'condominium' in x:\n",
    "        return 'condominium'\n",
    "    elif 'townhouse' in x:\n",
    "        return 'townhouse'\n",
    "    elif 'serviced apartment' in x:\n",
    "        return 'serviced apartment'\n",
    "    elif 'boutique hotel' in x:\n",
    "        return 'boutique hotel'\n",
    "    elif 'hotel' in x:\n",
    "        return 'hotel'\n",
    "    elif 'hostel' in x:\n",
    "        return 'hostel'\n",
    "    elif 'loft' in x:\n",
    "        return 'loft'\n",
    "    elif 'guest suite' in x:\n",
    "        return 'guest suite'\n",
    "    elif 'bed and breakfast' in x:\n",
    "        return 'bed and breakfast' \n",
    "    elif 'bungalow' in x:\n",
    "        return 'bungalow' \n",
    "    elif 'house' in x:\n",
    "        return 'house'\n",
    "    elif 'villa' in x:\n",
    "        return 'house'\n",
    "    elif x in ['private room in earth house', 'private room', 'camper/rv', \n",
    "               'bus', 'shared room in hostel', 'castle', 'cabin', 'tent', 'cottage', 'campsite',\n",
    "               \"shared room\",\"entire place\", \"igloo\", \"farm stay\", \"casa particular (cuba)\", \"entire chalet\"\n",
    "              ]:\n",
    "        return 'other'\n",
    "    else:\n",
    "        return x\n",
    "df2['property_type'] = df2['property_type'].apply(property_type)"
   ]
  },
  {
   "cell_type": "code",
   "execution_count": 33,
   "metadata": {
    "scrolled": true
   },
   "outputs": [
    {
     "data": {
      "text/plain": [
       "apartment            6080\n",
       "condominium          3664\n",
       "house                 810\n",
       "hostel                433\n",
       "hotel                 285\n",
       "boutique hotel        277\n",
       "townhouse             217\n",
       "loft                  147\n",
       "bed and breakfast     104\n",
       "bungalow               84\n",
       "other                  75\n",
       "guest suite            36\n",
       "boat                   10\n",
       "Name: property_type, dtype: int64"
      ]
     },
     "execution_count": 33,
     "metadata": {},
     "output_type": "execute_result"
    }
   ],
   "source": [
    "df2['property_type'].value_counts()"
   ]
  },
  {
   "cell_type": "code",
   "execution_count": 34,
   "metadata": {
    "scrolled": true
   },
   "outputs": [
    {
     "data": {
      "text/plain": [
       "(12222, 58)"
      ]
     },
     "execution_count": 34,
     "metadata": {},
     "output_type": "execute_result"
    }
   ],
   "source": [
    "df2.shape"
   ]
  },
  {
   "cell_type": "markdown",
   "metadata": {},
   "source": [
    "Reset the index in df2, because if we did not reset the index after dropna, otherwise there will be problems with the onehotencoder later"
   ]
  },
  {
   "cell_type": "code",
   "execution_count": 35,
   "metadata": {},
   "outputs": [],
   "source": [
    "df2=df2.reset_index(drop=True)"
   ]
  },
  {
   "cell_type": "code",
   "execution_count": 36,
   "metadata": {},
   "outputs": [],
   "source": [
    "enc = OneHotEncoder(categories='auto')\n",
    "features = pd.DataFrame(enc.fit_transform(df2[['property_type']]).toarray(),columns=enc.get_feature_names())"
   ]
  },
  {
   "cell_type": "code",
   "execution_count": 37,
   "metadata": {},
   "outputs": [],
   "source": [
    "df2=pd.concat([df2.drop(columns=['property_type']), features],axis=1)"
   ]
  },
  {
   "cell_type": "code",
   "execution_count": 38,
   "metadata": {},
   "outputs": [
    {
     "data": {
      "text/html": [
       "<div>\n",
       "<style scoped>\n",
       "    .dataframe tbody tr th:only-of-type {\n",
       "        vertical-align: middle;\n",
       "    }\n",
       "\n",
       "    .dataframe tbody tr th {\n",
       "        vertical-align: top;\n",
       "    }\n",
       "\n",
       "    .dataframe thead th {\n",
       "        text-align: right;\n",
       "    }\n",
       "</style>\n",
       "<table border=\"1\" class=\"dataframe\">\n",
       "  <thead>\n",
       "    <tr style=\"text-align: right;\">\n",
       "      <th></th>\n",
       "      <th>x0_boutique hotel</th>\n",
       "      <th>x0_bungalow</th>\n",
       "      <th>x0_condominium</th>\n",
       "      <th>x0_guest suite</th>\n",
       "      <th>x0_hostel</th>\n",
       "      <th>x0_hotel</th>\n",
       "      <th>x0_house</th>\n",
       "      <th>x0_loft</th>\n",
       "      <th>x0_other</th>\n",
       "      <th>x0_townhouse</th>\n",
       "    </tr>\n",
       "  </thead>\n",
       "  <tbody>\n",
       "    <tr>\n",
       "      <th>0</th>\n",
       "      <td>0.0</td>\n",
       "      <td>0.0</td>\n",
       "      <td>0.0</td>\n",
       "      <td>0.0</td>\n",
       "      <td>0.0</td>\n",
       "      <td>0.0</td>\n",
       "      <td>0.0</td>\n",
       "      <td>0.0</td>\n",
       "      <td>0.0</td>\n",
       "      <td>0.0</td>\n",
       "    </tr>\n",
       "    <tr>\n",
       "      <th>1</th>\n",
       "      <td>0.0</td>\n",
       "      <td>0.0</td>\n",
       "      <td>1.0</td>\n",
       "      <td>0.0</td>\n",
       "      <td>0.0</td>\n",
       "      <td>0.0</td>\n",
       "      <td>0.0</td>\n",
       "      <td>0.0</td>\n",
       "      <td>0.0</td>\n",
       "      <td>0.0</td>\n",
       "    </tr>\n",
       "    <tr>\n",
       "      <th>2</th>\n",
       "      <td>0.0</td>\n",
       "      <td>0.0</td>\n",
       "      <td>0.0</td>\n",
       "      <td>0.0</td>\n",
       "      <td>0.0</td>\n",
       "      <td>0.0</td>\n",
       "      <td>0.0</td>\n",
       "      <td>0.0</td>\n",
       "      <td>0.0</td>\n",
       "      <td>0.0</td>\n",
       "    </tr>\n",
       "    <tr>\n",
       "      <th>3</th>\n",
       "      <td>0.0</td>\n",
       "      <td>0.0</td>\n",
       "      <td>0.0</td>\n",
       "      <td>0.0</td>\n",
       "      <td>0.0</td>\n",
       "      <td>0.0</td>\n",
       "      <td>0.0</td>\n",
       "      <td>0.0</td>\n",
       "      <td>0.0</td>\n",
       "      <td>0.0</td>\n",
       "    </tr>\n",
       "    <tr>\n",
       "      <th>4</th>\n",
       "      <td>0.0</td>\n",
       "      <td>0.0</td>\n",
       "      <td>0.0</td>\n",
       "      <td>0.0</td>\n",
       "      <td>0.0</td>\n",
       "      <td>0.0</td>\n",
       "      <td>0.0</td>\n",
       "      <td>0.0</td>\n",
       "      <td>0.0</td>\n",
       "      <td>0.0</td>\n",
       "    </tr>\n",
       "    <tr>\n",
       "      <th>...</th>\n",
       "      <td>...</td>\n",
       "      <td>...</td>\n",
       "      <td>...</td>\n",
       "      <td>...</td>\n",
       "      <td>...</td>\n",
       "      <td>...</td>\n",
       "      <td>...</td>\n",
       "      <td>...</td>\n",
       "      <td>...</td>\n",
       "      <td>...</td>\n",
       "    </tr>\n",
       "    <tr>\n",
       "      <th>12217</th>\n",
       "      <td>0.0</td>\n",
       "      <td>0.0</td>\n",
       "      <td>1.0</td>\n",
       "      <td>0.0</td>\n",
       "      <td>0.0</td>\n",
       "      <td>0.0</td>\n",
       "      <td>0.0</td>\n",
       "      <td>0.0</td>\n",
       "      <td>0.0</td>\n",
       "      <td>0.0</td>\n",
       "    </tr>\n",
       "    <tr>\n",
       "      <th>12218</th>\n",
       "      <td>0.0</td>\n",
       "      <td>0.0</td>\n",
       "      <td>0.0</td>\n",
       "      <td>0.0</td>\n",
       "      <td>0.0</td>\n",
       "      <td>0.0</td>\n",
       "      <td>1.0</td>\n",
       "      <td>0.0</td>\n",
       "      <td>0.0</td>\n",
       "      <td>0.0</td>\n",
       "    </tr>\n",
       "    <tr>\n",
       "      <th>12219</th>\n",
       "      <td>0.0</td>\n",
       "      <td>0.0</td>\n",
       "      <td>0.0</td>\n",
       "      <td>0.0</td>\n",
       "      <td>0.0</td>\n",
       "      <td>0.0</td>\n",
       "      <td>1.0</td>\n",
       "      <td>0.0</td>\n",
       "      <td>0.0</td>\n",
       "      <td>0.0</td>\n",
       "    </tr>\n",
       "    <tr>\n",
       "      <th>12220</th>\n",
       "      <td>0.0</td>\n",
       "      <td>0.0</td>\n",
       "      <td>0.0</td>\n",
       "      <td>0.0</td>\n",
       "      <td>0.0</td>\n",
       "      <td>0.0</td>\n",
       "      <td>1.0</td>\n",
       "      <td>0.0</td>\n",
       "      <td>0.0</td>\n",
       "      <td>0.0</td>\n",
       "    </tr>\n",
       "    <tr>\n",
       "      <th>12221</th>\n",
       "      <td>0.0</td>\n",
       "      <td>0.0</td>\n",
       "      <td>0.0</td>\n",
       "      <td>0.0</td>\n",
       "      <td>0.0</td>\n",
       "      <td>0.0</td>\n",
       "      <td>0.0</td>\n",
       "      <td>0.0</td>\n",
       "      <td>0.0</td>\n",
       "      <td>0.0</td>\n",
       "    </tr>\n",
       "  </tbody>\n",
       "</table>\n",
       "<p>12222 rows × 10 columns</p>\n",
       "</div>"
      ],
      "text/plain": [
       "       x0_boutique hotel  x0_bungalow  x0_condominium  x0_guest suite  \\\n",
       "0                    0.0          0.0             0.0             0.0   \n",
       "1                    0.0          0.0             1.0             0.0   \n",
       "2                    0.0          0.0             0.0             0.0   \n",
       "3                    0.0          0.0             0.0             0.0   \n",
       "4                    0.0          0.0             0.0             0.0   \n",
       "...                  ...          ...             ...             ...   \n",
       "12217                0.0          0.0             1.0             0.0   \n",
       "12218                0.0          0.0             0.0             0.0   \n",
       "12219                0.0          0.0             0.0             0.0   \n",
       "12220                0.0          0.0             0.0             0.0   \n",
       "12221                0.0          0.0             0.0             0.0   \n",
       "\n",
       "       x0_hostel  x0_hotel  x0_house  x0_loft  x0_other  x0_townhouse  \n",
       "0            0.0       0.0       0.0      0.0       0.0           0.0  \n",
       "1            0.0       0.0       0.0      0.0       0.0           0.0  \n",
       "2            0.0       0.0       0.0      0.0       0.0           0.0  \n",
       "3            0.0       0.0       0.0      0.0       0.0           0.0  \n",
       "4            0.0       0.0       0.0      0.0       0.0           0.0  \n",
       "...          ...       ...       ...      ...       ...           ...  \n",
       "12217        0.0       0.0       0.0      0.0       0.0           0.0  \n",
       "12218        0.0       0.0       1.0      0.0       0.0           0.0  \n",
       "12219        0.0       0.0       1.0      0.0       0.0           0.0  \n",
       "12220        0.0       0.0       1.0      0.0       0.0           0.0  \n",
       "12221        0.0       0.0       0.0      0.0       0.0           0.0  \n",
       "\n",
       "[12222 rows x 10 columns]"
      ]
     },
     "execution_count": 38,
     "metadata": {},
     "output_type": "execute_result"
    }
   ],
   "source": [
    "df2.iloc[:,-10:]"
   ]
  },
  {
   "cell_type": "markdown",
   "metadata": {},
   "source": [
    "#### room_type feature"
   ]
  },
  {
   "cell_type": "code",
   "execution_count": 39,
   "metadata": {
    "scrolled": true
   },
   "outputs": [
    {
     "data": {
      "text/plain": [
       "Entire home/apt    6848\n",
       "Private room       4452\n",
       "Hotel room          585\n",
       "Shared room         337\n",
       "Name: room_type, dtype: int64"
      ]
     },
     "execution_count": 39,
     "metadata": {},
     "output_type": "execute_result"
    }
   ],
   "source": [
    "df2['room_type'].value_counts()"
   ]
  },
  {
   "cell_type": "code",
   "execution_count": 40,
   "metadata": {
    "scrolled": true
   },
   "outputs": [
    {
     "data": {
      "text/plain": [
       "False    12222\n",
       "Name: room_type, dtype: int64"
      ]
     },
     "execution_count": 40,
     "metadata": {},
     "output_type": "execute_result"
    }
   ],
   "source": [
    "df2.room_type.isnull().value_counts()"
   ]
  },
  {
   "cell_type": "code",
   "execution_count": 41,
   "metadata": {},
   "outputs": [],
   "source": [
    "df2[\"room_type\"]=df2.room_type.fillna(\"others\")"
   ]
  },
  {
   "cell_type": "code",
   "execution_count": 42,
   "metadata": {},
   "outputs": [],
   "source": [
    "enc = OneHotEncoder(categories='auto')\n",
    "features = pd.DataFrame(enc.fit_transform(df2[['room_type']]).toarray(),columns=enc.get_feature_names())"
   ]
  },
  {
   "cell_type": "code",
   "execution_count": 43,
   "metadata": {},
   "outputs": [],
   "source": [
    "df2=pd.concat([df2.drop(columns=['room_type']), features],axis=1)"
   ]
  },
  {
   "cell_type": "code",
   "execution_count": 44,
   "metadata": {},
   "outputs": [
    {
     "data": {
      "text/html": [
       "<div>\n",
       "<style scoped>\n",
       "    .dataframe tbody tr th:only-of-type {\n",
       "        vertical-align: middle;\n",
       "    }\n",
       "\n",
       "    .dataframe tbody tr th {\n",
       "        vertical-align: top;\n",
       "    }\n",
       "\n",
       "    .dataframe thead th {\n",
       "        text-align: right;\n",
       "    }\n",
       "</style>\n",
       "<table border=\"1\" class=\"dataframe\">\n",
       "  <thead>\n",
       "    <tr style=\"text-align: right;\">\n",
       "      <th></th>\n",
       "      <th>x0_townhouse</th>\n",
       "      <th>x0_Entire home/apt</th>\n",
       "      <th>x0_Hotel room</th>\n",
       "      <th>x0_Private room</th>\n",
       "      <th>x0_Shared room</th>\n",
       "    </tr>\n",
       "  </thead>\n",
       "  <tbody>\n",
       "    <tr>\n",
       "      <th>0</th>\n",
       "      <td>0.0</td>\n",
       "      <td>1.0</td>\n",
       "      <td>0.0</td>\n",
       "      <td>0.0</td>\n",
       "      <td>0.0</td>\n",
       "    </tr>\n",
       "    <tr>\n",
       "      <th>1</th>\n",
       "      <td>0.0</td>\n",
       "      <td>0.0</td>\n",
       "      <td>0.0</td>\n",
       "      <td>1.0</td>\n",
       "      <td>0.0</td>\n",
       "    </tr>\n",
       "    <tr>\n",
       "      <th>2</th>\n",
       "      <td>0.0</td>\n",
       "      <td>0.0</td>\n",
       "      <td>0.0</td>\n",
       "      <td>1.0</td>\n",
       "      <td>0.0</td>\n",
       "    </tr>\n",
       "    <tr>\n",
       "      <th>3</th>\n",
       "      <td>0.0</td>\n",
       "      <td>1.0</td>\n",
       "      <td>0.0</td>\n",
       "      <td>0.0</td>\n",
       "      <td>0.0</td>\n",
       "    </tr>\n",
       "    <tr>\n",
       "      <th>4</th>\n",
       "      <td>0.0</td>\n",
       "      <td>0.0</td>\n",
       "      <td>0.0</td>\n",
       "      <td>1.0</td>\n",
       "      <td>0.0</td>\n",
       "    </tr>\n",
       "    <tr>\n",
       "      <th>...</th>\n",
       "      <td>...</td>\n",
       "      <td>...</td>\n",
       "      <td>...</td>\n",
       "      <td>...</td>\n",
       "      <td>...</td>\n",
       "    </tr>\n",
       "    <tr>\n",
       "      <th>12217</th>\n",
       "      <td>0.0</td>\n",
       "      <td>0.0</td>\n",
       "      <td>0.0</td>\n",
       "      <td>1.0</td>\n",
       "      <td>0.0</td>\n",
       "    </tr>\n",
       "    <tr>\n",
       "      <th>12218</th>\n",
       "      <td>0.0</td>\n",
       "      <td>0.0</td>\n",
       "      <td>0.0</td>\n",
       "      <td>1.0</td>\n",
       "      <td>0.0</td>\n",
       "    </tr>\n",
       "    <tr>\n",
       "      <th>12219</th>\n",
       "      <td>0.0</td>\n",
       "      <td>0.0</td>\n",
       "      <td>0.0</td>\n",
       "      <td>1.0</td>\n",
       "      <td>0.0</td>\n",
       "    </tr>\n",
       "    <tr>\n",
       "      <th>12220</th>\n",
       "      <td>0.0</td>\n",
       "      <td>0.0</td>\n",
       "      <td>0.0</td>\n",
       "      <td>1.0</td>\n",
       "      <td>0.0</td>\n",
       "    </tr>\n",
       "    <tr>\n",
       "      <th>12221</th>\n",
       "      <td>0.0</td>\n",
       "      <td>1.0</td>\n",
       "      <td>0.0</td>\n",
       "      <td>0.0</td>\n",
       "      <td>0.0</td>\n",
       "    </tr>\n",
       "  </tbody>\n",
       "</table>\n",
       "<p>12222 rows × 5 columns</p>\n",
       "</div>"
      ],
      "text/plain": [
       "       x0_townhouse  x0_Entire home/apt  x0_Hotel room  x0_Private room  \\\n",
       "0               0.0                 1.0            0.0              0.0   \n",
       "1               0.0                 0.0            0.0              1.0   \n",
       "2               0.0                 0.0            0.0              1.0   \n",
       "3               0.0                 1.0            0.0              0.0   \n",
       "4               0.0                 0.0            0.0              1.0   \n",
       "...             ...                 ...            ...              ...   \n",
       "12217           0.0                 0.0            0.0              1.0   \n",
       "12218           0.0                 0.0            0.0              1.0   \n",
       "12219           0.0                 0.0            0.0              1.0   \n",
       "12220           0.0                 0.0            0.0              1.0   \n",
       "12221           0.0                 1.0            0.0              0.0   \n",
       "\n",
       "       x0_Shared room  \n",
       "0                 0.0  \n",
       "1                 0.0  \n",
       "2                 0.0  \n",
       "3                 0.0  \n",
       "4                 0.0  \n",
       "...               ...  \n",
       "12217             0.0  \n",
       "12218             0.0  \n",
       "12219             0.0  \n",
       "12220             0.0  \n",
       "12221             0.0  \n",
       "\n",
       "[12222 rows x 5 columns]"
      ]
     },
     "execution_count": 44,
     "metadata": {},
     "output_type": "execute_result"
    }
   ],
   "source": [
    "df2.iloc[:,-5:]"
   ]
  },
  {
   "cell_type": "markdown",
   "metadata": {},
   "source": [
    "#### accommodates, bathrooms, bedrooms, beds features ：fill the empty values"
   ]
  },
  {
   "cell_type": "code",
   "execution_count": 45,
   "metadata": {},
   "outputs": [],
   "source": [
    "df2[\"bathrooms\"]=df2.bathrooms.fillna(0)\n",
    "df2[\"bedrooms\"]=df2.bedrooms.fillna(0)\n",
    "df2[\"beds\"]=df2.beds.fillna(0)"
   ]
  },
  {
   "cell_type": "markdown",
   "metadata": {},
   "source": [
    "#### amenities feature：Extract the tags, classify and integrate, and then onehot"
   ]
  },
  {
   "cell_type": "code",
   "execution_count": 46,
   "metadata": {},
   "outputs": [],
   "source": [
    "df2[\"amenities_list\"] = df2.amenities.apply(lambda x:x[1:-1].replace('\"',\"\").split(\",\"))\n",
    "df2[\"amenities_list\"] = df2[\"amenities_list\"].apply(lambda lst: list(x.strip() for x in lst))"
   ]
  },
  {
   "cell_type": "code",
   "execution_count": 47,
   "metadata": {},
   "outputs": [],
   "source": [
    "lists=df2.amenities_list.values"
   ]
  },
  {
   "cell_type": "code",
   "execution_count": 48,
   "metadata": {
    "scrolled": true
   },
   "outputs": [],
   "source": [
    "from collections import Counter\n",
    "result=[]\n",
    "\n",
    "for lst in lists:\n",
    "    result += lst\n",
    "    \n",
    "seq = Counter(result)"
   ]
  },
  {
   "cell_type": "code",
   "execution_count": 49,
   "metadata": {},
   "outputs": [
    {
     "data": {
      "text/plain": [
       "[('Wifi', 11984),\n",
       " ('Air conditioning', 11968),\n",
       " ('Essentials', 11099),\n",
       " ('Washer', 11030),\n",
       " ('Hangers', 10361),\n",
       " ('Kitchen', 10312),\n",
       " ('Iron', 9950),\n",
       " ('Hair dryer', 9889),\n",
       " ('Shampoo', 9380),\n",
       " ('TV', 9356),\n",
       " ('Dryer', 8117),\n",
       " ('Elevator', 7977),\n",
       " ('Hot water', 7745),\n",
       " ('Pool', 6347),\n",
       " ('Lock on bedroom door', 6079),\n",
       " ('Long term stays allowed', 5871),\n",
       " ('Refrigerator', 5744),\n",
       " ('Gym', 5171),\n",
       " ('Microwave', 5112),\n",
       " ('Dishes and silverware', 4910),\n",
       " ('Fire extinguisher', 4813),\n",
       " ('Bed linens', 4706),\n",
       " ('Stove', 4335),\n",
       " ('Heating', 4133),\n",
       " ('Laptop friendly workspace', 4038),\n",
       " ('Cooking basics', 3719),\n",
       " ('Private entrance', 3605),\n",
       " ('Free parking on premises', 3500),\n",
       " ('Dedicated workspace', 3288),\n",
       " ('First aid kit', 3190),\n",
       " ('Luggage dropoff allowed', 2946),\n",
       " ('Extra pillows and blankets', 2795),\n",
       " ('Smoke alarm', 2760),\n",
       " ('Host greets you', 2462),\n",
       " ('Smoke detector', 2291),\n",
       " ('Pets allowed', 2287),\n",
       " ('Oven', 2280),\n",
       " ('Paid parking off premises', 2160),\n",
       " ('Cable TV', 1752),\n",
       " ('Family/kid friendly', 1726),\n",
       " ('Patio or balcony', 1694),\n",
       " ('Laptop-friendly workspace', 1566),\n",
       " ('Paid parking on premises', 1476),\n",
       " ('Single level home', 1401),\n",
       " ('Carbon monoxide detector', 1355),\n",
       " ('Shower gel', 1280),\n",
       " ('Self check-in', 1264),\n",
       " ('Internet', 1194),\n",
       " ('Smoking allowed', 1180),\n",
       " ('Private living room', 1180),\n",
       " ('Carbon monoxide alarm', 1163),\n",
       " ('Safety card', 1089),\n",
       " ('Keypad', 980),\n",
       " ('Free street parking', 954),\n",
       " ('Garden or backyard', 947),\n",
       " ('Breakfast', 943),\n",
       " ('BBQ grill', 901),\n",
       " ('High chair', 891),\n",
       " ('Crib', 885),\n",
       " ('Hot tub', 878),\n",
       " ('No stairs or steps to enter', 838),\n",
       " ('Building staff', 686),\n",
       " ('Coffee maker', 676),\n",
       " ('Other', 668),\n",
       " ('Indoor fireplace', 593),\n",
       " ('Wheelchair accessible', 569),\n",
       " ('Cleaning before checkout', 514),\n",
       " ('24-hour check-in', 506),\n",
       " ('Buzzer/wireless intercom', 490),\n",
       " ('Trash can', 489),\n",
       " ('Ethernet connection', 480),\n",
       " ('translation missing: en.hosting_amenity_50', 469),\n",
       " ('Lockbox', 468),\n",
       " ('Dishwasher', 452),\n",
       " ('Suitable for events', 426),\n",
       " ('Pack ’n Play/travel crib', 373),\n",
       " ('Room-darkening shades', 365),\n",
       " ('translation missing: en.hosting_amenity_49', 346),\n",
       " ('Well-lit path to entrance', 335),\n",
       " ('Bathtub', 294),\n",
       " ('Doorman', 271),\n",
       " ('Pack \\\\u2019n Play/travel crib', 233),\n",
       " ('Wide entrance for guests', 232),\n",
       " ('Smart lock', 231),\n",
       " ('Step-free access', 206),\n",
       " ('Wide hallways', 201),\n",
       " ('Wide entryway', 196),\n",
       " ('Wide entrance', 180),\n",
       " ('Handheld shower head', 177),\n",
       " ('Flat path to guest entrance', 170),\n",
       " ('Extra space around bed', 163),\n",
       " ('Accessible-height toilet', 159),\n",
       " ('Baby bath', 157),\n",
       " ('Bread maker', 154),\n",
       " ('Window guards', 149),\n",
       " ('Wide doorway', 140),\n",
       " ('Accessible-height bed', 128),\n",
       " ('Babysitter recommendations', 127),\n",
       " ('Children’s dinnerware', 126),\n",
       " ('Children’s books and toys', 122),\n",
       " ('Lake access', 121),\n",
       " ('Waterfront', 121),\n",
       " ('Wide doorway to guest bathroom', 121),\n",
       " ('Pocket wifi', 117),\n",
       " ('Disabled parking spot', 114),\n",
       " ('Wide clearance to shower', 111),\n",
       " ('toilet', 111),\n",
       " ('Beachfront', 105),\n",
       " ('Body soap', 98),\n",
       " ('Pets live on this property', 86),\n",
       " ('Roll-in shower', 79),\n",
       " ('Children\\\\u2019s dinnerware', 62),\n",
       " ('Conditioner', 59),\n",
       " ('Children\\\\u2019s books and toys', 57),\n",
       " ('Flat path to front door', 51),\n",
       " ('Wide hallway clearance', 47),\n",
       " ('Wide clearance to bed', 44),\n",
       " ('Beach essentials', 44),\n",
       " ('Outlet covers', 43),\n",
       " ('EV charger', 42),\n",
       " ('Freezer', 41),\n",
       " ('Game console', 38),\n",
       " ('Laundromat nearby', 36),\n",
       " ('Fixed grab bars for shower', 35),\n",
       " ('Barbecue utensils', 31),\n",
       " ('Table corner guards', 30),\n",
       " ('Ceiling fan', 29),\n",
       " ('Changing table', 27),\n",
       " ('Dog(s)', 27),\n",
       " ('Cat(s)', 25),\n",
       " ('Hot water kettle', 25),\n",
       " ('Fixed grab bars for toilet', 25),\n",
       " ('', 24),\n",
       " ('Rice maker', 23),\n",
       " ('Extra space around shower and toilet', 22),\n",
       " ('Step-free shower', 19),\n",
       " ('Dryer \\\\u2013 In building', 18),\n",
       " ('Washer \\\\u2013\\\\u00a0In building', 16),\n",
       " ('Portable fans', 16),\n",
       " ('Stair gates', 15),\n",
       " ('Fireplace guards', 15),\n",
       " ('Paid street parking off premises', 14),\n",
       " ('Bathtub with bath chair', 13),\n",
       " ('Other pet(s)', 12),\n",
       " ('Baking sheet', 12),\n",
       " ('Baby monitor', 10),\n",
       " ('Nespresso machine', 10),\n",
       " ('Mini fridge', 9),\n",
       " ('Washer \\\\u2013\\\\u00a0In unit', 9),\n",
       " ('Mobile hoist', 8),\n",
       " ('Shower chair', 6),\n",
       " ('Private bathroom', 6),\n",
       " ('Dryer \\\\u2013\\\\u00a0In unit', 6),\n",
       " ('Bidet', 6),\n",
       " ('Cleaning products', 6),\n",
       " ('Drying rack for clothing', 6),\n",
       " ('Dining table', 5),\n",
       " ('Sound system', 5),\n",
       " ('Paid parking lot on premises', 5),\n",
       " ('Pool with pool hoist', 4),\n",
       " ('Firm mattress', 4),\n",
       " ('Clothing storage', 4),\n",
       " ('Wifi \\\\u2013 1000 Mbps', 4),\n",
       " ('Electric stove', 4),\n",
       " ('Induction stove', 4),\n",
       " ('Toaster', 3),\n",
       " ('Clothing storage: closet', 3),\n",
       " ('Baby safety gates', 3),\n",
       " ('Record player', 3),\n",
       " ('Paid parking lot off premises', 3),\n",
       " ('Electric profiling bed', 2),\n",
       " ('Snacks', 2),\n",
       " ('Trash compactor', 2),\n",
       " ('Outdoor furniture', 2),\n",
       " ('Outdoor dining area', 2),\n",
       " ('Pour-over coffee', 2),\n",
       " ('HDTV', 2),\n",
       " ('Air purifier', 1),\n",
       " ('Ground floor access', 1),\n",
       " ('Full kitchen', 1),\n",
       " ('Projector and screen', 1),\n",
       " ('Bottled water', 1),\n",
       " ('Stainless steel oven', 1),\n",
       " ('SPA body soap', 1),\n",
       " ('SPA conditioner', 1),\n",
       " ('Shared sauna', 1),\n",
       " ('Ping pong table', 1),\n",
       " ('32\\\\ HDTV', 1),\n",
       " ('Free washer\\\\u2013In unit', 1),\n",
       " ('Shared outdoor olympic-sized pool', 1),\n",
       " ('LG refrigerator', 1),\n",
       " ('Miele refrigerator', 1),\n",
       " ('Miele oven', 1),\n",
       " ('Paid parking garage off premises', 1),\n",
       " ('Central air conditioning', 1),\n",
       " ('Window AC unit', 1),\n",
       " ('Wine glasses', 1),\n",
       " ('Piano', 1)]"
      ]
     },
     "execution_count": 49,
     "metadata": {},
     "output_type": "execute_result"
    }
   ],
   "source": [
    "seq.most_common()"
   ]
  },
  {
   "cell_type": "code",
   "execution_count": 50,
   "metadata": {},
   "outputs": [],
   "source": [
    "# select important amenities referred to https://www.airbnb.com.sg/resources/hosting-homes/a/the-best-amenities-to-offer-right-now-203\n",
    "\n",
    "select = ['Wifi', 'Air conditioning', 'Kitchen', 'Parking', 'Outdoor', \n",
    "         'Kids', 'Pets allowed', 'Workspace', 'Gym', 'Breakfast']"
   ]
  },
  {
   "cell_type": "code",
   "execution_count": 51,
   "metadata": {},
   "outputs": [],
   "source": [
    "df2['Wifi'] = df2['amenities_list'].apply(lambda lst: 1 if any([ame in lst for ame in \n",
    "                                                                ['Wifi', 'Wifi \\\\u2013 1000 Mbps']]) else 0)\n",
    "\n",
    "df2['Air conditioning'] = df2['amenities_list'].apply(lambda lst: 1 if any([ame in lst for ame in \n",
    "                                                                ['Air conditioning', 'Central air conditioning']]) else 0)\n",
    "\n",
    "df2['Kitchen'] = df2['amenities_list'].apply(lambda lst: 1 if 'Kitchen' in lst else 0)\n",
    "\n",
    "df2['Parking'] = df2['amenities'].apply(lambda string: 1 if 'parking' in string else 0)\n",
    "\n",
    "df2['Outdoor'] = df2['amenities_list'].apply(lambda lst: 1 if any([ame in lst for ame in \n",
    "                                                                ['Patio or balcony', 'Barbecue utensils', 'BBQ grill']]) else 0)\n",
    "\n",
    "\n",
    "df2['Kids'] = df2['amenities_list'].apply(lambda lst: 1 if any([ame in lst for ame in \n",
    "                                                                ['Baby bath','Baby monitor','Babysitter recommendations']]) else 0)\n",
    "\n",
    "df2['Pets allowed'] = df2['amenities_list'].apply(lambda lst: 1 if 'Pets allowed' in lst else 0)\n",
    "\n",
    "df2['Workspace'] = df2['amenities_list'].apply(lambda lst: 1 if any([ame in lst for ame in \n",
    "                                                                ['Laptop-friendly workspace', 'Laptop friendly workspace']]) else 0)\n",
    "\n",
    "df2['Gym'] = df2['amenities_list'].apply(lambda lst: 1 if 'Gym' in lst else 0)\n",
    "\n",
    "df2['Breakfast'] = df2['amenities_list'].apply(lambda lst: 1 if 'Breakfast' in lst else 0)\n"
   ]
  },
  {
   "cell_type": "code",
   "execution_count": 52,
   "metadata": {},
   "outputs": [
    {
     "data": {
      "text/html": [
       "<div>\n",
       "<style scoped>\n",
       "    .dataframe tbody tr th:only-of-type {\n",
       "        vertical-align: middle;\n",
       "    }\n",
       "\n",
       "    .dataframe tbody tr th {\n",
       "        vertical-align: top;\n",
       "    }\n",
       "\n",
       "    .dataframe thead th {\n",
       "        text-align: right;\n",
       "    }\n",
       "</style>\n",
       "<table border=\"1\" class=\"dataframe\">\n",
       "  <thead>\n",
       "    <tr style=\"text-align: right;\">\n",
       "      <th></th>\n",
       "      <th>Wifi</th>\n",
       "      <th>Air conditioning</th>\n",
       "      <th>Kitchen</th>\n",
       "      <th>Parking</th>\n",
       "      <th>Outdoor</th>\n",
       "      <th>Kids</th>\n",
       "      <th>Pets allowed</th>\n",
       "      <th>Workspace</th>\n",
       "      <th>Gym</th>\n",
       "      <th>Breakfast</th>\n",
       "    </tr>\n",
       "  </thead>\n",
       "  <tbody>\n",
       "    <tr>\n",
       "      <th>0</th>\n",
       "      <td>1</td>\n",
       "      <td>1</td>\n",
       "      <td>1</td>\n",
       "      <td>1</td>\n",
       "      <td>0</td>\n",
       "      <td>0</td>\n",
       "      <td>0</td>\n",
       "      <td>0</td>\n",
       "      <td>0</td>\n",
       "      <td>0</td>\n",
       "    </tr>\n",
       "    <tr>\n",
       "      <th>1</th>\n",
       "      <td>1</td>\n",
       "      <td>1</td>\n",
       "      <td>1</td>\n",
       "      <td>0</td>\n",
       "      <td>0</td>\n",
       "      <td>1</td>\n",
       "      <td>0</td>\n",
       "      <td>1</td>\n",
       "      <td>1</td>\n",
       "      <td>0</td>\n",
       "    </tr>\n",
       "    <tr>\n",
       "      <th>2</th>\n",
       "      <td>1</td>\n",
       "      <td>1</td>\n",
       "      <td>1</td>\n",
       "      <td>1</td>\n",
       "      <td>0</td>\n",
       "      <td>0</td>\n",
       "      <td>0</td>\n",
       "      <td>1</td>\n",
       "      <td>0</td>\n",
       "      <td>0</td>\n",
       "    </tr>\n",
       "    <tr>\n",
       "      <th>3</th>\n",
       "      <td>1</td>\n",
       "      <td>1</td>\n",
       "      <td>1</td>\n",
       "      <td>0</td>\n",
       "      <td>0</td>\n",
       "      <td>0</td>\n",
       "      <td>0</td>\n",
       "      <td>1</td>\n",
       "      <td>0</td>\n",
       "      <td>0</td>\n",
       "    </tr>\n",
       "    <tr>\n",
       "      <th>4</th>\n",
       "      <td>1</td>\n",
       "      <td>1</td>\n",
       "      <td>1</td>\n",
       "      <td>0</td>\n",
       "      <td>0</td>\n",
       "      <td>0</td>\n",
       "      <td>0</td>\n",
       "      <td>1</td>\n",
       "      <td>0</td>\n",
       "      <td>0</td>\n",
       "    </tr>\n",
       "    <tr>\n",
       "      <th>...</th>\n",
       "      <td>...</td>\n",
       "      <td>...</td>\n",
       "      <td>...</td>\n",
       "      <td>...</td>\n",
       "      <td>...</td>\n",
       "      <td>...</td>\n",
       "      <td>...</td>\n",
       "      <td>...</td>\n",
       "      <td>...</td>\n",
       "      <td>...</td>\n",
       "    </tr>\n",
       "    <tr>\n",
       "      <th>12217</th>\n",
       "      <td>1</td>\n",
       "      <td>1</td>\n",
       "      <td>1</td>\n",
       "      <td>0</td>\n",
       "      <td>0</td>\n",
       "      <td>0</td>\n",
       "      <td>0</td>\n",
       "      <td>0</td>\n",
       "      <td>0</td>\n",
       "      <td>0</td>\n",
       "    </tr>\n",
       "    <tr>\n",
       "      <th>12218</th>\n",
       "      <td>1</td>\n",
       "      <td>1</td>\n",
       "      <td>1</td>\n",
       "      <td>0</td>\n",
       "      <td>0</td>\n",
       "      <td>0</td>\n",
       "      <td>0</td>\n",
       "      <td>0</td>\n",
       "      <td>0</td>\n",
       "      <td>0</td>\n",
       "    </tr>\n",
       "    <tr>\n",
       "      <th>12219</th>\n",
       "      <td>1</td>\n",
       "      <td>1</td>\n",
       "      <td>1</td>\n",
       "      <td>0</td>\n",
       "      <td>0</td>\n",
       "      <td>0</td>\n",
       "      <td>0</td>\n",
       "      <td>0</td>\n",
       "      <td>0</td>\n",
       "      <td>0</td>\n",
       "    </tr>\n",
       "    <tr>\n",
       "      <th>12220</th>\n",
       "      <td>1</td>\n",
       "      <td>1</td>\n",
       "      <td>1</td>\n",
       "      <td>0</td>\n",
       "      <td>0</td>\n",
       "      <td>0</td>\n",
       "      <td>0</td>\n",
       "      <td>0</td>\n",
       "      <td>0</td>\n",
       "      <td>0</td>\n",
       "    </tr>\n",
       "    <tr>\n",
       "      <th>12221</th>\n",
       "      <td>1</td>\n",
       "      <td>1</td>\n",
       "      <td>1</td>\n",
       "      <td>1</td>\n",
       "      <td>0</td>\n",
       "      <td>0</td>\n",
       "      <td>0</td>\n",
       "      <td>0</td>\n",
       "      <td>1</td>\n",
       "      <td>0</td>\n",
       "    </tr>\n",
       "  </tbody>\n",
       "</table>\n",
       "<p>12222 rows × 10 columns</p>\n",
       "</div>"
      ],
      "text/plain": [
       "       Wifi  Air conditioning  Kitchen  Parking  Outdoor  Kids  Pets allowed  \\\n",
       "0         1                 1        1        1        0     0             0   \n",
       "1         1                 1        1        0        0     1             0   \n",
       "2         1                 1        1        1        0     0             0   \n",
       "3         1                 1        1        0        0     0             0   \n",
       "4         1                 1        1        0        0     0             0   \n",
       "...     ...               ...      ...      ...      ...   ...           ...   \n",
       "12217     1                 1        1        0        0     0             0   \n",
       "12218     1                 1        1        0        0     0             0   \n",
       "12219     1                 1        1        0        0     0             0   \n",
       "12220     1                 1        1        0        0     0             0   \n",
       "12221     1                 1        1        1        0     0             0   \n",
       "\n",
       "       Workspace  Gym  Breakfast  \n",
       "0              0    0          0  \n",
       "1              1    1          0  \n",
       "2              1    0          0  \n",
       "3              1    0          0  \n",
       "4              1    0          0  \n",
       "...          ...  ...        ...  \n",
       "12217          0    0          0  \n",
       "12218          0    0          0  \n",
       "12219          0    0          0  \n",
       "12220          0    0          0  \n",
       "12221          0    1          0  \n",
       "\n",
       "[12222 rows x 10 columns]"
      ]
     },
     "execution_count": 52,
     "metadata": {},
     "output_type": "execute_result"
    }
   ],
   "source": [
    "df2[select]"
   ]
  },
  {
   "cell_type": "code",
   "execution_count": 53,
   "metadata": {
    "scrolled": true
   },
   "outputs": [],
   "source": [
    "# df2.amenities.apply(lambda x:len(x.split(\",\"))).value_counts().sort_index(ascending=False)"
   ]
  },
  {
   "cell_type": "markdown",
   "metadata": {},
   "source": [
    "#### price feature：The string is converted to a decimal, which means the price of one night’s stay"
   ]
  },
  {
   "cell_type": "code",
   "execution_count": 54,
   "metadata": {},
   "outputs": [
    {
     "data": {
      "text/plain": [
       "False    12222\n",
       "Name: price, dtype: int64"
      ]
     },
     "execution_count": 54,
     "metadata": {},
     "output_type": "execute_result"
    }
   ],
   "source": [
    "df2.price.isnull().value_counts()"
   ]
  },
  {
   "cell_type": "code",
   "execution_count": 55,
   "metadata": {},
   "outputs": [],
   "source": [
    "df2[\"price\"]=df2.price.apply(lambda x:float(x[1:].replace(\",\",\"\"))) #只能搞一次！！！"
   ]
  },
  {
   "cell_type": "markdown",
   "metadata": {},
   "source": [
    "#### 'minimum_nights', 'maximum_nights', 'minimum_minimum_nights', 'maximum_minimum_nights' features"
   ]
  },
  {
   "cell_type": "code",
   "execution_count": 56,
   "metadata": {},
   "outputs": [],
   "source": [
    "df3=df[['minimum_nights',\n",
    "   'maximum_nights', 'minimum_minimum_nights', 'maximum_minimum_nights',\n",
    "   'minimum_maximum_nights', 'maximum_maximum_nights',\n",
    "   'minimum_nights_avg_ntm', 'maximum_nights_avg_ntm',]]"
   ]
  },
  {
   "cell_type": "code",
   "execution_count": 57,
   "metadata": {},
   "outputs": [
    {
     "data": {
      "text/html": [
       "<div>\n",
       "<style scoped>\n",
       "    .dataframe tbody tr th:only-of-type {\n",
       "        vertical-align: middle;\n",
       "    }\n",
       "\n",
       "    .dataframe tbody tr th {\n",
       "        vertical-align: top;\n",
       "    }\n",
       "\n",
       "    .dataframe thead th {\n",
       "        text-align: right;\n",
       "    }\n",
       "</style>\n",
       "<table border=\"1\" class=\"dataframe\">\n",
       "  <thead>\n",
       "    <tr style=\"text-align: right;\">\n",
       "      <th></th>\n",
       "      <th>minimum_nights</th>\n",
       "      <th>maximum_nights</th>\n",
       "      <th>minimum_minimum_nights</th>\n",
       "      <th>maximum_minimum_nights</th>\n",
       "      <th>minimum_maximum_nights</th>\n",
       "      <th>maximum_maximum_nights</th>\n",
       "      <th>minimum_nights_avg_ntm</th>\n",
       "      <th>maximum_nights_avg_ntm</th>\n",
       "    </tr>\n",
       "  </thead>\n",
       "  <tbody>\n",
       "    <tr>\n",
       "      <th>0</th>\n",
       "      <td>180</td>\n",
       "      <td>330</td>\n",
       "      <td>180</td>\n",
       "      <td>180</td>\n",
       "      <td>330</td>\n",
       "      <td>330</td>\n",
       "      <td>180.0</td>\n",
       "      <td>330.0</td>\n",
       "    </tr>\n",
       "    <tr>\n",
       "      <th>1</th>\n",
       "      <td>5</td>\n",
       "      <td>800</td>\n",
       "      <td>5</td>\n",
       "      <td>5</td>\n",
       "      <td>800</td>\n",
       "      <td>800</td>\n",
       "      <td>5.0</td>\n",
       "      <td>800.0</td>\n",
       "    </tr>\n",
       "  </tbody>\n",
       "</table>\n",
       "</div>"
      ],
      "text/plain": [
       "   minimum_nights  maximum_nights  minimum_minimum_nights  \\\n",
       "0             180             330                     180   \n",
       "1               5             800                       5   \n",
       "\n",
       "   maximum_minimum_nights  minimum_maximum_nights  maximum_maximum_nights  \\\n",
       "0                     180                     330                     330   \n",
       "1                       5                     800                     800   \n",
       "\n",
       "   minimum_nights_avg_ntm  maximum_nights_avg_ntm  \n",
       "0                   180.0                   330.0  \n",
       "1                     5.0                   800.0  "
      ]
     },
     "execution_count": 57,
     "metadata": {},
     "output_type": "execute_result"
    }
   ],
   "source": [
    "df3.head(2)"
   ]
  },
  {
   "cell_type": "code",
   "execution_count": 58,
   "metadata": {
    "scrolled": true
   },
   "outputs": [
    {
     "data": {
      "text/plain": [
       "minimum_nights  maximum_nights  minimum_minimum_nights  maximum_minimum_nights  minimum_maximum_nights  maximum_maximum_nights  minimum_nights_avg_ntm  maximum_nights_avg_ntm\n",
       "False           False           False                   False                   False                   False                   False                   False                     15101\n",
       "dtype: int64"
      ]
     },
     "execution_count": 58,
     "metadata": {},
     "output_type": "execute_result"
    }
   ],
   "source": [
    "df3.isnull().value_counts() "
   ]
  },
  {
   "cell_type": "code",
   "execution_count": 59,
   "metadata": {},
   "outputs": [],
   "source": [
    "corrMatrix=df3.corr()"
   ]
  },
  {
   "cell_type": "code",
   "execution_count": 60,
   "metadata": {},
   "outputs": [],
   "source": [
    "import seaborn as sn"
   ]
  },
  {
   "cell_type": "code",
   "execution_count": 61,
   "metadata": {},
   "outputs": [
    {
     "data": {
      "text/plain": [
       "<AxesSubplot:>"
      ]
     },
     "execution_count": 61,
     "metadata": {},
     "output_type": "execute_result"
    },
    {
     "data": {
      "image/png": "[encoded data removed]",
      "text/plain": [
       "<Figure size 432x288 with 2 Axes>"
      ]
     },
     "metadata": {
      "needs_background": "light"
     },
     "output_type": "display_data"
    }
   ],
   "source": [
    "sn.heatmap(corrMatrix,annot=True)"
   ]
  },
  {
   "cell_type": "markdown",
   "metadata": {},
   "source": [
    "we find \"minimum_nights\"和'minimum_minimum_nights', 'maximum_minimum_nights' are highly correlated\n",
    "\n",
    "After analysis，we keep 3 features：'minimum_nights', 'maximum_nights','maximum_nights_avg_ntm'\n",
    "\n",
    "so delete 'minimum_minimum_nights', 'maximum_minimum_nights','minimum_maximum_nights', 'maximum_maximum_nights',\n",
    "\n",
    "'minimum_nights_avg_ntm' these features"
   ]
  },
  {
   "cell_type": "code",
   "execution_count": 62,
   "metadata": {},
   "outputs": [],
   "source": [
    "df2.drop(columns=['minimum_minimum_nights', 'maximum_minimum_nights',\n",
    "                  'minimum_maximum_nights', 'maximum_maximum_nights',\n",
    "                  'minimum_nights_avg_ntm'],inplace=True)"
   ]
  },
  {
   "cell_type": "markdown",
   "metadata": {},
   "source": [
    "####  'availability_30/60/90/365' ：Integrate into a feature in the range (0,1)"
   ]
  },
  {
   "cell_type": "markdown",
   "metadata": {},
   "source": [
    "We have checked and there are no missing values"
   ]
  },
  {
   "cell_type": "code",
   "execution_count": 63,
   "metadata": {},
   "outputs": [],
   "source": [
    "df2.availability_30 = df2.availability_30/30\n",
    "df2.availability_60 = df2.availability_60/60\n",
    "df2.availability_90 = df2.availability_90/90\n",
    "df2.availability_365 = df2.availability_365/365"
   ]
  },
  {
   "cell_type": "code",
   "execution_count": 64,
   "metadata": {},
   "outputs": [],
   "source": [
    "df2[\"availability_average\"] = (df2.availability_30+df2.availability_60+df2.availability_90+df2.availability_365)/4"
   ]
  },
  {
   "cell_type": "markdown",
   "metadata": {},
   "source": [
    "delete availability_30/60/90/365"
   ]
  },
  {
   "cell_type": "code",
   "execution_count": 65,
   "metadata": {},
   "outputs": [],
   "source": [
    "df2.drop(columns=[\"availability_30\",\"availability_60\",\"availability_90\",\"availability_365\"], inplace=True)"
   ]
  },
  {
   "cell_type": "markdown",
   "metadata": {},
   "source": [
    "#### number_of_reviews_ltm特征：Indicates how popular this house is"
   ]
  },
  {
   "cell_type": "code",
   "execution_count": 66,
   "metadata": {
    "scrolled": true
   },
   "outputs": [
    {
     "data": {
      "text/plain": [
       "False    12222\n",
       "Name: number_of_reviews_ltm, dtype: int64"
      ]
     },
     "execution_count": 66,
     "metadata": {},
     "output_type": "execute_result"
    }
   ],
   "source": [
    "df2.number_of_reviews_ltm.isnull().value_counts()"
   ]
  },
  {
   "cell_type": "markdown",
   "metadata": {},
   "source": [
    "#### review_scores_rating：Delete null values and integrate these features feature cross"
   ]
  },
  {
   "cell_type": "code",
   "execution_count": 67,
   "metadata": {
    "scrolled": true
   },
   "outputs": [
    {
     "data": {
      "text/plain": [
       "review_scores_rating\n",
       "False                   7293\n",
       "True                    4929\n",
       "dtype: int64"
      ]
     },
     "execution_count": 67,
     "metadata": {},
     "output_type": "execute_result"
    }
   ],
   "source": [
    "df2[['review_scores_rating',\n",
    "       #'review_scores_accuracy', 'review_scores_cleanliness',\n",
    "       #'review_scores_checkin', 'review_scores_communication',\n",
    "       #'review_scores_location', 'review_scores_value'\n",
    "    ]].isnull().value_counts()"
   ]
  },
  {
   "cell_type": "markdown",
   "metadata": {},
   "source": [
    "we find <font color=red>**many**</font>，owever, we can use comments to generate sentimental score to assist analysis "
   ]
  },
  {
   "cell_type": "markdown",
   "metadata": {},
   "source": [
    "We are going to use sentimental score instead, so we delete these features. Moreover, for the listings table, the review feature is of little significance"
   ]
  },
  {
   "cell_type": "code",
   "execution_count": 68,
   "metadata": {},
   "outputs": [],
   "source": [
    "df2.drop(columns=['review_scores_rating',\n",
    "       'review_scores_accuracy', 'review_scores_cleanliness',\n",
    "       'review_scores_checkin', 'review_scores_communication',\n",
    "       'review_scores_location', 'review_scores_value'\n",
    "    ],inplace=True)"
   ]
  },
  {
   "cell_type": "markdown",
   "metadata": {},
   "source": [
    "#### instant_bookable feature : Convert T and F into numbers"
   ]
  },
  {
   "cell_type": "code",
   "execution_count": 69,
   "metadata": {},
   "outputs": [
    {
     "data": {
      "text/plain": [
       "False    12222\n",
       "Name: instant_bookable, dtype: int64"
      ]
     },
     "execution_count": 69,
     "metadata": {},
     "output_type": "execute_result"
    }
   ],
   "source": [
    "df2.instant_bookable.isnull().value_counts()"
   ]
  },
  {
   "cell_type": "code",
   "execution_count": 70,
   "metadata": {},
   "outputs": [],
   "source": [
    "df2.instant_bookable=df2.instant_bookable.apply(lambda x:1 if x==\"t\" else 0)"
   ]
  },
  {
   "cell_type": "markdown",
   "metadata": {},
   "source": [
    "#### calculated_host_listings_count feature"
   ]
  },
  {
   "cell_type": "code",
   "execution_count": 71,
   "metadata": {},
   "outputs": [
    {
     "data": {
      "text/plain": [
       "False    12222\n",
       "Name: calculated_host_listings_count, dtype: int64"
      ]
     },
     "execution_count": 71,
     "metadata": {},
     "output_type": "execute_result"
    }
   ],
   "source": [
    "df2.calculated_host_listings_count.isnull().value_counts()"
   ]
  },
  {
   "cell_type": "markdown",
   "metadata": {},
   "source": [
    "#### reviews_per_month feature"
   ]
  },
  {
   "cell_type": "code",
   "execution_count": 72,
   "metadata": {
    "scrolled": false
   },
   "outputs": [
    {
     "data": {
      "text/plain": [
       "False    7452\n",
       "True     4770\n",
       "Name: reviews_per_month, dtype: int64"
      ]
     },
     "execution_count": 72,
     "metadata": {},
     "output_type": "execute_result"
    }
   ],
   "source": [
    "df2.reviews_per_month.isnull().value_counts()"
   ]
  },
  {
   "cell_type": "markdown",
   "metadata": {},
   "source": [
    "Too many missing values, delete this feature"
   ]
  },
  {
   "cell_type": "code",
   "execution_count": 73,
   "metadata": {},
   "outputs": [],
   "source": [
    "df2.drop(columns=[\"reviews_per_month\"],inplace=True)"
   ]
  },
  {
   "cell_type": "markdown",
   "metadata": {},
   "source": [
    "### 3.export the file"
   ]
  },
  {
   "cell_type": "code",
   "execution_count": 74,
   "metadata": {},
   "outputs": [],
   "source": [
    "df2.to_csv(\"../终版数据/listings_final_version.csv\",index=False)"
   ]
  }
 ],
 "metadata": {
  "kernelspec": {
   "display_name": "Python 3",
   "language": "python",
   "name": "python3"
  },
  "language_info": {
   "codemirror_mode": {
    "name": "ipython",
    "version": 3
   },
   "file_extension": ".py",
   "mimetype": "text/x-python",
   "name": "python",
   "nbconvert_exporter": "python",
   "pygments_lexer": "ipython3",
   "version": "3.8.5"
  },
  "toc": {
   "base_numbering": 1,
   "nav_menu": {},
   "number_sections": false,
   "sideBar": true,
   "skip_h1_title": false,
   "title_cell": "Table of Contents",
   "title_sidebar": "Contents",
   "toc_cell": false,
   "toc_position": {
    "height": "calc(100% - 180px)",
    "left": "10px",
    "top": "150px",
    "width": "384px"
   },
   "toc_section_display": true,
   "toc_window_display": true
  }
 },
 "nbformat": 4,
 "nbformat_minor": 4
}
