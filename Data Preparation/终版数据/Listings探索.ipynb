{
 "cells": [
  {
   "cell_type": "code",
   "execution_count": 1,
   "metadata": {},
   "outputs": [],
   "source": [
    "import numpy as np\n",
    "import pandas as pd"
   ]
  },
  {
   "cell_type": "markdown",
   "metadata": {},
   "source": [
    "### 0. 导入数据 "
   ]
  },
  {
   "cell_type": "code",
   "execution_count": 2,
   "metadata": {},
   "outputs": [],
   "source": [
    "df=pd.read_csv(\"../../Datasets/cleaned_listings.csv\")"
   ]
  },
  {
   "cell_type": "code",
   "execution_count": 3,
   "metadata": {},
   "outputs": [
    {
     "data": {
      "text/html": [
       "<div>\n",
       "<style scoped>\n",
       "    .dataframe tbody tr th:only-of-type {\n",
       "        vertical-align: middle;\n",
       "    }\n",
       "\n",
       "    .dataframe tbody tr th {\n",
       "        vertical-align: top;\n",
       "    }\n",
       "\n",
       "    .dataframe thead th {\n",
       "        text-align: right;\n",
       "    }\n",
       "</style>\n",
       "<table border=\"1\" class=\"dataframe\">\n",
       "  <thead>\n",
       "    <tr style=\"text-align: right;\">\n",
       "      <th></th>\n",
       "      <th>id</th>\n",
       "      <th>name</th>\n",
       "      <th>description</th>\n",
       "      <th>neighborhood_overview</th>\n",
       "      <th>host_id</th>\n",
       "      <th>host_since</th>\n",
       "      <th>host_about</th>\n",
       "      <th>host_response_time</th>\n",
       "      <th>host_response_rate</th>\n",
       "      <th>host_is_superhost</th>\n",
       "      <th>...</th>\n",
       "      <th>review_scores_rating</th>\n",
       "      <th>review_scores_accuracy</th>\n",
       "      <th>review_scores_cleanliness</th>\n",
       "      <th>review_scores_checkin</th>\n",
       "      <th>review_scores_communication</th>\n",
       "      <th>review_scores_location</th>\n",
       "      <th>review_scores_value</th>\n",
       "      <th>instant_bookable</th>\n",
       "      <th>calculated_host_listings_count</th>\n",
       "      <th>reviews_per_month</th>\n",
       "    </tr>\n",
       "  </thead>\n",
       "  <tbody>\n",
       "    <tr>\n",
       "      <th>0</th>\n",
       "      <td>49091</td>\n",
       "      <td>COZICOMFORT LONG TERM STAY ROOM 2</td>\n",
       "      <td>This is Room No. 2.(available after Jan 15 201...</td>\n",
       "      <td>NaN</td>\n",
       "      <td>266763</td>\n",
       "      <td>2010-10-20</td>\n",
       "      <td>I am a private tutor by profession. My husband...</td>\n",
       "      <td>within a few hours</td>\n",
       "      <td>100%</td>\n",
       "      <td>f</td>\n",
       "      <td>...</td>\n",
       "      <td>94.0</td>\n",
       "      <td>10.0</td>\n",
       "      <td>10.0</td>\n",
       "      <td>10.0</td>\n",
       "      <td>10.0</td>\n",
       "      <td>8.0</td>\n",
       "      <td>8.0</td>\n",
       "      <td>f</td>\n",
       "      <td>2</td>\n",
       "      <td>0.02</td>\n",
       "    </tr>\n",
       "    <tr>\n",
       "      <th>1</th>\n",
       "      <td>50646</td>\n",
       "      <td>Pleasant Room along Bukit Timah</td>\n",
       "      <td>Fully furnished bedroom with a nice view on th...</td>\n",
       "      <td>The serenity &amp; quiet surrounding makes it an i...</td>\n",
       "      <td>227796</td>\n",
       "      <td>2010-09-08</td>\n",
       "      <td>I am a working professional, living in Singapo...</td>\n",
       "      <td>NaN</td>\n",
       "      <td>NaN</td>\n",
       "      <td>f</td>\n",
       "      <td>...</td>\n",
       "      <td>91.0</td>\n",
       "      <td>9.0</td>\n",
       "      <td>10.0</td>\n",
       "      <td>10.0</td>\n",
       "      <td>10.0</td>\n",
       "      <td>9.0</td>\n",
       "      <td>9.0</td>\n",
       "      <td>f</td>\n",
       "      <td>1</td>\n",
       "      <td>0.30</td>\n",
       "    </tr>\n",
       "  </tbody>\n",
       "</table>\n",
       "<p>2 rows × 52 columns</p>\n",
       "</div>"
      ],
      "text/plain": [
       "      id                               name  \\\n",
       "0  49091  COZICOMFORT LONG TERM STAY ROOM 2   \n",
       "1  50646    Pleasant Room along Bukit Timah   \n",
       "\n",
       "                                         description  \\\n",
       "0  This is Room No. 2.(available after Jan 15 201...   \n",
       "1  Fully furnished bedroom with a nice view on th...   \n",
       "\n",
       "                               neighborhood_overview  host_id  host_since  \\\n",
       "0                                                NaN   266763  2010-10-20   \n",
       "1  The serenity & quiet surrounding makes it an i...   227796  2010-09-08   \n",
       "\n",
       "                                          host_about  host_response_time  \\\n",
       "0  I am a private tutor by profession. My husband...  within a few hours   \n",
       "1  I am a working professional, living in Singapo...                 NaN   \n",
       "\n",
       "  host_response_rate host_is_superhost  ... review_scores_rating  \\\n",
       "0               100%                 f  ...                 94.0   \n",
       "1                NaN                 f  ...                 91.0   \n",
       "\n",
       "  review_scores_accuracy review_scores_cleanliness review_scores_checkin  \\\n",
       "0                   10.0                      10.0                  10.0   \n",
       "1                    9.0                      10.0                  10.0   \n",
       "\n",
       "  review_scores_communication review_scores_location review_scores_value  \\\n",
       "0                        10.0                    8.0                 8.0   \n",
       "1                        10.0                    9.0                 9.0   \n",
       "\n",
       "   instant_bookable  calculated_host_listings_count reviews_per_month  \n",
       "0                 f                               2              0.02  \n",
       "1                 f                               1              0.30  \n",
       "\n",
       "[2 rows x 52 columns]"
      ]
     },
     "execution_count": 3,
     "metadata": {},
     "output_type": "execute_result"
    }
   ],
   "source": [
    "df.head(2)"
   ]
  },
  {
   "cell_type": "code",
   "execution_count": 4,
   "metadata": {
    "scrolled": true
   },
   "outputs": [
    {
     "data": {
      "text/plain": [
       "(129394, 52)"
      ]
     },
     "execution_count": 4,
     "metadata": {},
     "output_type": "execute_result"
    }
   ],
   "source": [
    "df.shape"
   ]
  },
  {
   "cell_type": "markdown",
   "metadata": {},
   "source": [
    "#### 删除重复样本，每个房子只保留一条observation "
   ]
  },
  {
   "cell_type": "code",
   "execution_count": 5,
   "metadata": {
    "scrolled": true
   },
   "outputs": [],
   "source": [
    "df=df.drop_duplicates(subset=[\"id\"],keep=\"last\")"
   ]
  },
  {
   "cell_type": "code",
   "execution_count": 6,
   "metadata": {},
   "outputs": [
    {
     "data": {
      "text/plain": [
       "(14822, 52)"
      ]
     },
     "execution_count": 6,
     "metadata": {},
     "output_type": "execute_result"
    }
   ],
   "source": [
    "df.shape"
   ]
  },
  {
   "cell_type": "markdown",
   "metadata": {},
   "source": [
    "#### 重新设定index "
   ]
  },
  {
   "cell_type": "code",
   "execution_count": 7,
   "metadata": {},
   "outputs": [],
   "source": [
    "df=df.reset_index().drop(columns=[\"index\"])"
   ]
  },
  {
   "cell_type": "code",
   "execution_count": 8,
   "metadata": {},
   "outputs": [
    {
     "data": {
      "text/html": [
       "<div>\n",
       "<style scoped>\n",
       "    .dataframe tbody tr th:only-of-type {\n",
       "        vertical-align: middle;\n",
       "    }\n",
       "\n",
       "    .dataframe tbody tr th {\n",
       "        vertical-align: top;\n",
       "    }\n",
       "\n",
       "    .dataframe thead th {\n",
       "        text-align: right;\n",
       "    }\n",
       "</style>\n",
       "<table border=\"1\" class=\"dataframe\">\n",
       "  <thead>\n",
       "    <tr style=\"text-align: right;\">\n",
       "      <th></th>\n",
       "      <th>id</th>\n",
       "      <th>name</th>\n",
       "      <th>description</th>\n",
       "      <th>neighborhood_overview</th>\n",
       "      <th>host_id</th>\n",
       "      <th>host_since</th>\n",
       "      <th>host_about</th>\n",
       "      <th>host_response_time</th>\n",
       "      <th>host_response_rate</th>\n",
       "      <th>host_is_superhost</th>\n",
       "      <th>...</th>\n",
       "      <th>review_scores_rating</th>\n",
       "      <th>review_scores_accuracy</th>\n",
       "      <th>review_scores_cleanliness</th>\n",
       "      <th>review_scores_checkin</th>\n",
       "      <th>review_scores_communication</th>\n",
       "      <th>review_scores_location</th>\n",
       "      <th>review_scores_value</th>\n",
       "      <th>instant_bookable</th>\n",
       "      <th>calculated_host_listings_count</th>\n",
       "      <th>reviews_per_month</th>\n",
       "    </tr>\n",
       "  </thead>\n",
       "  <tbody>\n",
       "    <tr>\n",
       "      <th>0</th>\n",
       "      <td>729816</td>\n",
       "      <td>2 + 1 bedroom in Robertson Quay</td>\n",
       "      <td>a 2+1 bedroom unit in a modern condo in Robert...</td>\n",
       "      <td>It's in the middle of everything without the n...</td>\n",
       "      <td>3794008</td>\n",
       "      <td>2012-10-07</td>\n",
       "      <td>25 years old Indonesian, been staying in Singa...</td>\n",
       "      <td>NaN</td>\n",
       "      <td>NaN</td>\n",
       "      <td>f</td>\n",
       "      <td>...</td>\n",
       "      <td>97.0</td>\n",
       "      <td>10.0</td>\n",
       "      <td>9.0</td>\n",
       "      <td>10.0</td>\n",
       "      <td>10.0</td>\n",
       "      <td>10.0</td>\n",
       "      <td>10.0</td>\n",
       "      <td>f</td>\n",
       "      <td>1</td>\n",
       "      <td>0.05</td>\n",
       "    </tr>\n",
       "    <tr>\n",
       "      <th>1</th>\n",
       "      <td>1101652</td>\n",
       "      <td>Cozy place in singapore</td>\n",
       "      <td>Explore one of Singapore's best kept heritage ...</td>\n",
       "      <td>The condo is also a short walk to Parkway Para...</td>\n",
       "      <td>4156336</td>\n",
       "      <td>2012-11-15</td>\n",
       "      <td>Hey!\\r\\n\\r\\nWelcome to my cozy apartment . I f...</td>\n",
       "      <td>within a day</td>\n",
       "      <td>100%</td>\n",
       "      <td>f</td>\n",
       "      <td>...</td>\n",
       "      <td>93.0</td>\n",
       "      <td>10.0</td>\n",
       "      <td>10.0</td>\n",
       "      <td>9.0</td>\n",
       "      <td>10.0</td>\n",
       "      <td>9.0</td>\n",
       "      <td>9.0</td>\n",
       "      <td>f</td>\n",
       "      <td>1</td>\n",
       "      <td>0.29</td>\n",
       "    </tr>\n",
       "  </tbody>\n",
       "</table>\n",
       "<p>2 rows × 52 columns</p>\n",
       "</div>"
      ],
      "text/plain": [
       "        id                             name  \\\n",
       "0   729816  2 + 1 bedroom in Robertson Quay   \n",
       "1  1101652          Cozy place in singapore   \n",
       "\n",
       "                                         description  \\\n",
       "0  a 2+1 bedroom unit in a modern condo in Robert...   \n",
       "1  Explore one of Singapore's best kept heritage ...   \n",
       "\n",
       "                               neighborhood_overview  host_id  host_since  \\\n",
       "0  It's in the middle of everything without the n...  3794008  2012-10-07   \n",
       "1  The condo is also a short walk to Parkway Para...  4156336  2012-11-15   \n",
       "\n",
       "                                          host_about host_response_time  \\\n",
       "0  25 years old Indonesian, been staying in Singa...                NaN   \n",
       "1  Hey!\\r\\n\\r\\nWelcome to my cozy apartment . I f...       within a day   \n",
       "\n",
       "  host_response_rate host_is_superhost  ... review_scores_rating  \\\n",
       "0                NaN                 f  ...                 97.0   \n",
       "1               100%                 f  ...                 93.0   \n",
       "\n",
       "  review_scores_accuracy review_scores_cleanliness review_scores_checkin  \\\n",
       "0                   10.0                       9.0                  10.0   \n",
       "1                   10.0                      10.0                   9.0   \n",
       "\n",
       "  review_scores_communication review_scores_location review_scores_value  \\\n",
       "0                        10.0                   10.0                10.0   \n",
       "1                        10.0                    9.0                 9.0   \n",
       "\n",
       "   instant_bookable  calculated_host_listings_count reviews_per_month  \n",
       "0                 f                               1              0.05  \n",
       "1                 f                               1              0.29  \n",
       "\n",
       "[2 rows x 52 columns]"
      ]
     },
     "execution_count": 8,
     "metadata": {},
     "output_type": "execute_result"
    }
   ],
   "source": [
    "df.head(2)"
   ]
  },
  {
   "cell_type": "markdown",
   "metadata": {},
   "source": [
    "### 1. 筛选特征 "
   ]
  },
  {
   "cell_type": "markdown",
   "metadata": {},
   "source": [
    "#### 1.1 主观筛选 "
   ]
  },
  {
   "cell_type": "code",
   "execution_count": 9,
   "metadata": {},
   "outputs": [],
   "source": [
    "delete_columns=['name','neighborhood_overview','host_id','host_about','host_neighbourhood',\n",
    "                'host_has_profile_pic', 'host_identity_verified','neighbourhood',\n",
    "                'calendar_updated','number_of_reviews'\n",
    "               ]"
   ]
  },
  {
   "cell_type": "code",
   "execution_count": 10,
   "metadata": {},
   "outputs": [],
   "source": [
    "df2=df.drop(delete_columns,axis=1)"
   ]
  },
  {
   "cell_type": "code",
   "execution_count": 11,
   "metadata": {
    "scrolled": true
   },
   "outputs": [
    {
     "data": {
      "text/plain": [
       "(14822, 42)"
      ]
     },
     "execution_count": 11,
     "metadata": {},
     "output_type": "execute_result"
    }
   ],
   "source": [
    "df2.shape"
   ]
  },
  {
   "cell_type": "markdown",
   "metadata": {},
   "source": [
    "#### 1.2 客观筛选   <font color=#008000>未完成</font>"
   ]
  },
  {
   "cell_type": "markdown",
   "metadata": {},
   "source": [
    "### 2. 处理特征 "
   ]
  },
  {
   "cell_type": "markdown",
   "metadata": {},
   "source": [
    "#### 删除description, host_response_rate, host_response_time空值"
   ]
  },
  {
   "cell_type": "code",
   "execution_count": 12,
   "metadata": {},
   "outputs": [],
   "source": [
    "df2.dropna(subset=[\"description\", \"host_response_rate\", \"host_response_time\"],inplace=True)"
   ]
  },
  {
   "cell_type": "markdown",
   "metadata": {},
   "source": [
    "#### host_is_superhost特征：填充空值并转化为数字"
   ]
  },
  {
   "cell_type": "code",
   "execution_count": 13,
   "metadata": {},
   "outputs": [],
   "source": [
    "df2['host_is_superhost']=df2['host_is_superhost'].fillna('f')"
   ]
  },
  {
   "cell_type": "code",
   "execution_count": 14,
   "metadata": {},
   "outputs": [],
   "source": [
    "df2.host_is_superhost=df2.host_is_superhost.replace({\"t\":1,\n",
    "                                                     \"f\":0})"
   ]
  },
  {
   "cell_type": "markdown",
   "metadata": {},
   "source": [
    "####  host_response_time特征：categorical转成数字"
   ]
  },
  {
   "cell_type": "code",
   "execution_count": 15,
   "metadata": {},
   "outputs": [],
   "source": [
    "df2['host_response_time']=df2['host_response_time'].replace({'within an hour': 4,\n",
    "                                                             'within a few hours': 3,\n",
    "                                                             'within a day': 2, \n",
    "                                                             'a few days or more': 1})"
   ]
  },
  {
   "cell_type": "markdown",
   "metadata": {},
   "source": [
    "####  host_response_rate：从字符串转化为小数"
   ]
  },
  {
   "cell_type": "code",
   "execution_count": 16,
   "metadata": {},
   "outputs": [],
   "source": [
    "# host_response_rate convert to numbers\n",
    "df2['host_response_rate']= df2['host_response_rate'].apply(lambda x:int(x[:-1])/100)"
   ]
  },
  {
   "cell_type": "code",
   "execution_count": 17,
   "metadata": {
    "scrolled": true
   },
   "outputs": [
    {
     "data": {
      "text/plain": [
       "array([[1.        , 0.81712262],\n",
       "       [0.81712262, 1.        ]])"
      ]
     },
     "execution_count": 17,
     "metadata": {},
     "output_type": "execute_result"
    }
   ],
   "source": [
    "np.corrcoef(df2.host_response_time, df2.host_response_rate)"
   ]
  },
  {
   "cell_type": "markdown",
   "metadata": {},
   "source": [
    "说明二者的相关性还是挺强的，因此**feature cross综合成一个**"
   ]
  },
  {
   "cell_type": "code",
   "execution_count": 18,
   "metadata": {},
   "outputs": [],
   "source": [
    "df2[\"host_response_time_cross_rate\"]=df2.host_response_time*df2.host_response_rate"
   ]
  },
  {
   "cell_type": "code",
   "execution_count": 19,
   "metadata": {},
   "outputs": [],
   "source": [
    "df2.drop(columns=['host_response_time','host_response_rate'],inplace=True)"
   ]
  },
  {
   "cell_type": "markdown",
   "metadata": {},
   "source": [
    "#### host_verifications特征：拆分类别变成很多columns"
   ]
  },
  {
   "cell_type": "code",
   "execution_count": 20,
   "metadata": {},
   "outputs": [],
   "source": [
    "# host_verifications fill na as ''\n",
    "df2['host_verifications'] = df2['host_verifications'].fillna('')"
   ]
  },
  {
   "cell_type": "code",
   "execution_count": 21,
   "metadata": {},
   "outputs": [],
   "source": [
    "# create new boolean columns\n",
    "df2['email']= df2['host_verifications'].apply(lambda x: 1 if 'email' in x else 0)\n",
    "df2['phone']= df2['host_verifications'].apply(lambda x: 1 if 'phone' in x else 0)\n",
    "df2['reviews']= df2['host_verifications'].apply(lambda x: 1 if 'reviews' in x else 0)\n",
    "df2['jumio']= df2['host_verifications'].apply(lambda x: 1 if 'jumio' in x else 0)\n",
    "df2['offline_government_id']= df2['host_verifications'].apply(lambda x: 1 if 'offline_government_id' in x else 0)\n",
    "df2['selfie']= df2['host_verifications'].apply(lambda x: 1 if 'selfie' in x else 0)\n",
    "df2['government_id']= df2['host_verifications'].apply(lambda x: 1 if 'government_id' in x else 0)\n",
    "df2['identity_manual']= df2['host_verifications'].apply(lambda x: 1 if 'identity_manual' in x else 0)\n",
    "df2['work_email']= df2['host_verifications'].apply(lambda x: 1 if 'work_email' in x else 0)\n",
    "df2['manual_online']= df2['host_verifications'].apply(lambda x: 1 if 'manual_online' in x else 0)\n",
    "df2['manual_offline']= df2['host_verifications'].apply(lambda x: 1 if 'manual_offline' in x else 0)\n",
    "# ['email', 'phone', 'manual_online', 'reviews', 'manual_offline', 'jumio', 'offline_government_id', 'selfie', 'government_id', 'identity_manual', 'work_email']"
   ]
  },
  {
   "cell_type": "code",
   "execution_count": 22,
   "metadata": {},
   "outputs": [
    {
     "data": {
      "text/html": [
       "<div>\n",
       "<style scoped>\n",
       "    .dataframe tbody tr th:only-of-type {\n",
       "        vertical-align: middle;\n",
       "    }\n",
       "\n",
       "    .dataframe tbody tr th {\n",
       "        vertical-align: top;\n",
       "    }\n",
       "\n",
       "    .dataframe thead th {\n",
       "        text-align: right;\n",
       "    }\n",
       "</style>\n",
       "<table border=\"1\" class=\"dataframe\">\n",
       "  <thead>\n",
       "    <tr style=\"text-align: right;\">\n",
       "      <th></th>\n",
       "      <th>email</th>\n",
       "      <th>phone</th>\n",
       "      <th>manual_online</th>\n",
       "      <th>reviews</th>\n",
       "      <th>manual_offline</th>\n",
       "      <th>jumio</th>\n",
       "      <th>offline_government_id</th>\n",
       "      <th>selfie</th>\n",
       "      <th>government_id</th>\n",
       "      <th>identity_manual</th>\n",
       "      <th>work_email</th>\n",
       "    </tr>\n",
       "  </thead>\n",
       "  <tbody>\n",
       "    <tr>\n",
       "      <th>1</th>\n",
       "      <td>1</td>\n",
       "      <td>1</td>\n",
       "      <td>0</td>\n",
       "      <td>1</td>\n",
       "      <td>0</td>\n",
       "      <td>0</td>\n",
       "      <td>0</td>\n",
       "      <td>0</td>\n",
       "      <td>0</td>\n",
       "      <td>0</td>\n",
       "      <td>0</td>\n",
       "    </tr>\n",
       "    <tr>\n",
       "      <th>3</th>\n",
       "      <td>1</td>\n",
       "      <td>1</td>\n",
       "      <td>0</td>\n",
       "      <td>1</td>\n",
       "      <td>0</td>\n",
       "      <td>1</td>\n",
       "      <td>1</td>\n",
       "      <td>1</td>\n",
       "      <td>1</td>\n",
       "      <td>1</td>\n",
       "      <td>1</td>\n",
       "    </tr>\n",
       "    <tr>\n",
       "      <th>4</th>\n",
       "      <td>1</td>\n",
       "      <td>1</td>\n",
       "      <td>0</td>\n",
       "      <td>1</td>\n",
       "      <td>0</td>\n",
       "      <td>1</td>\n",
       "      <td>1</td>\n",
       "      <td>1</td>\n",
       "      <td>1</td>\n",
       "      <td>1</td>\n",
       "      <td>0</td>\n",
       "    </tr>\n",
       "    <tr>\n",
       "      <th>7</th>\n",
       "      <td>1</td>\n",
       "      <td>1</td>\n",
       "      <td>0</td>\n",
       "      <td>1</td>\n",
       "      <td>0</td>\n",
       "      <td>1</td>\n",
       "      <td>0</td>\n",
       "      <td>0</td>\n",
       "      <td>1</td>\n",
       "      <td>0</td>\n",
       "      <td>1</td>\n",
       "    </tr>\n",
       "    <tr>\n",
       "      <th>8</th>\n",
       "      <td>1</td>\n",
       "      <td>1</td>\n",
       "      <td>0</td>\n",
       "      <td>1</td>\n",
       "      <td>1</td>\n",
       "      <td>1</td>\n",
       "      <td>0</td>\n",
       "      <td>0</td>\n",
       "      <td>1</td>\n",
       "      <td>0</td>\n",
       "      <td>1</td>\n",
       "    </tr>\n",
       "    <tr>\n",
       "      <th>...</th>\n",
       "      <td>...</td>\n",
       "      <td>...</td>\n",
       "      <td>...</td>\n",
       "      <td>...</td>\n",
       "      <td>...</td>\n",
       "      <td>...</td>\n",
       "      <td>...</td>\n",
       "      <td>...</td>\n",
       "      <td>...</td>\n",
       "      <td>...</td>\n",
       "      <td>...</td>\n",
       "    </tr>\n",
       "    <tr>\n",
       "      <th>14817</th>\n",
       "      <td>0</td>\n",
       "      <td>1</td>\n",
       "      <td>0</td>\n",
       "      <td>0</td>\n",
       "      <td>0</td>\n",
       "      <td>1</td>\n",
       "      <td>1</td>\n",
       "      <td>1</td>\n",
       "      <td>1</td>\n",
       "      <td>1</td>\n",
       "      <td>0</td>\n",
       "    </tr>\n",
       "    <tr>\n",
       "      <th>14818</th>\n",
       "      <td>0</td>\n",
       "      <td>1</td>\n",
       "      <td>0</td>\n",
       "      <td>0</td>\n",
       "      <td>0</td>\n",
       "      <td>1</td>\n",
       "      <td>1</td>\n",
       "      <td>1</td>\n",
       "      <td>1</td>\n",
       "      <td>1</td>\n",
       "      <td>0</td>\n",
       "    </tr>\n",
       "    <tr>\n",
       "      <th>14819</th>\n",
       "      <td>1</td>\n",
       "      <td>1</td>\n",
       "      <td>0</td>\n",
       "      <td>1</td>\n",
       "      <td>0</td>\n",
       "      <td>1</td>\n",
       "      <td>0</td>\n",
       "      <td>0</td>\n",
       "      <td>1</td>\n",
       "      <td>0</td>\n",
       "      <td>0</td>\n",
       "    </tr>\n",
       "    <tr>\n",
       "      <th>14820</th>\n",
       "      <td>1</td>\n",
       "      <td>1</td>\n",
       "      <td>0</td>\n",
       "      <td>1</td>\n",
       "      <td>0</td>\n",
       "      <td>1</td>\n",
       "      <td>0</td>\n",
       "      <td>0</td>\n",
       "      <td>1</td>\n",
       "      <td>0</td>\n",
       "      <td>0</td>\n",
       "    </tr>\n",
       "    <tr>\n",
       "      <th>14821</th>\n",
       "      <td>1</td>\n",
       "      <td>1</td>\n",
       "      <td>0</td>\n",
       "      <td>1</td>\n",
       "      <td>0</td>\n",
       "      <td>1</td>\n",
       "      <td>0</td>\n",
       "      <td>0</td>\n",
       "      <td>1</td>\n",
       "      <td>0</td>\n",
       "      <td>0</td>\n",
       "    </tr>\n",
       "  </tbody>\n",
       "</table>\n",
       "<p>11954 rows × 11 columns</p>\n",
       "</div>"
      ],
      "text/plain": [
       "       email  phone  manual_online  reviews  manual_offline  jumio  \\\n",
       "1          1      1              0        1               0      0   \n",
       "3          1      1              0        1               0      1   \n",
       "4          1      1              0        1               0      1   \n",
       "7          1      1              0        1               0      1   \n",
       "8          1      1              0        1               1      1   \n",
       "...      ...    ...            ...      ...             ...    ...   \n",
       "14817      0      1              0        0               0      1   \n",
       "14818      0      1              0        0               0      1   \n",
       "14819      1      1              0        1               0      1   \n",
       "14820      1      1              0        1               0      1   \n",
       "14821      1      1              0        1               0      1   \n",
       "\n",
       "       offline_government_id  selfie  government_id  identity_manual  \\\n",
       "1                          0       0              0                0   \n",
       "3                          1       1              1                1   \n",
       "4                          1       1              1                1   \n",
       "7                          0       0              1                0   \n",
       "8                          0       0              1                0   \n",
       "...                      ...     ...            ...              ...   \n",
       "14817                      1       1              1                1   \n",
       "14818                      1       1              1                1   \n",
       "14819                      0       0              1                0   \n",
       "14820                      0       0              1                0   \n",
       "14821                      0       0              1                0   \n",
       "\n",
       "       work_email  \n",
       "1               0  \n",
       "3               1  \n",
       "4               0  \n",
       "7               1  \n",
       "8               1  \n",
       "...           ...  \n",
       "14817           0  \n",
       "14818           0  \n",
       "14819           0  \n",
       "14820           0  \n",
       "14821           0  \n",
       "\n",
       "[11954 rows x 11 columns]"
      ]
     },
     "execution_count": 22,
     "metadata": {},
     "output_type": "execute_result"
    }
   ],
   "source": [
    "df2[['email', 'phone', 'manual_online', 'reviews', 'manual_offline', 'jumio', 'offline_government_id', 'selfie', 'government_id', 'identity_manual', 'work_email']]"
   ]
  },
  {
   "cell_type": "code",
   "execution_count": 23,
   "metadata": {},
   "outputs": [],
   "source": [
    "df2.drop(columns=[\"host_verifications\"],inplace=True)"
   ]
  },
  {
   "cell_type": "markdown",
   "metadata": {},
   "source": [
    "#### neighbourhood_cleansed 和 neighbourhood_group_cleansed <font color=#008000>待处理</font>\n"
   ]
  },
  {
   "cell_type": "code",
   "execution_count": null,
   "metadata": {},
   "outputs": [],
   "source": []
  },
  {
   "cell_type": "markdown",
   "metadata": {},
   "source": [
    "####  property_type特征：合并小类"
   ]
  },
  {
   "cell_type": "code",
   "execution_count": 24,
   "metadata": {},
   "outputs": [],
   "source": [
    "df2['property_type'] = df2['property_type'].str.lower()"
   ]
  },
  {
   "cell_type": "code",
   "execution_count": 25,
   "metadata": {},
   "outputs": [],
   "source": [
    "def property_type(x):\n",
    "    if 'apartment' in x:\n",
    "        return 'apartment'\n",
    "    elif 'condominium' in x:\n",
    "        return 'condominium'\n",
    "    elif 'townhouse' in x:\n",
    "        return 'townhouse'\n",
    "    elif 'serviced apartment' in x:\n",
    "        return 'serviced apartment'\n",
    "    elif 'boutique hotel' in x:\n",
    "        return 'boutique hotel'\n",
    "    elif 'hotel' in x:\n",
    "        return 'hotel'\n",
    "    elif 'hostel' in x:\n",
    "        return 'hostel'\n",
    "    elif 'loft' in x:\n",
    "        return 'loft'\n",
    "    elif 'guest suite' in x:\n",
    "        return 'guest suite'\n",
    "    elif 'bed and breakfast' in x:\n",
    "        return 'bed and breakfast' \n",
    "    elif 'bungalow' in x:\n",
    "        return 'bungalow' \n",
    "    elif 'house' in x:\n",
    "        return 'house'\n",
    "    elif 'villa' in x:\n",
    "        return 'house'\n",
    "    elif x in ['private room in earth house', 'private room', 'camper/rv', \n",
    "               'bus', 'shared room in hostel', 'castle', 'cabin', 'tent', 'cottage', 'campsite',\n",
    "               \"shared room\",\"entire place\", \"igloo\", \"farm stay\", \"casa particular (cuba)\", \"entire chalet\"\n",
    "              ]:\n",
    "        return 'other'\n",
    "    else:\n",
    "        return x\n",
    "df2['property_type'] = df2['property_type'].apply(property_type)"
   ]
  },
  {
   "cell_type": "code",
   "execution_count": 26,
   "metadata": {
    "scrolled": true
   },
   "outputs": [
    {
     "data": {
      "text/plain": [
       "apartment            6006\n",
       "condominium          3548\n",
       "house                 789\n",
       "hostel                445\n",
       "hotel                 266\n",
       "boutique hotel        252\n",
       "townhouse             203\n",
       "loft                  149\n",
       "bed and breakfast     101\n",
       "bungalow               84\n",
       "other                  69\n",
       "guest suite            32\n",
       "boat                   10\n",
       "Name: property_type, dtype: int64"
      ]
     },
     "execution_count": 26,
     "metadata": {},
     "output_type": "execute_result"
    }
   ],
   "source": [
    "df2['property_type'].value_counts()"
   ]
  },
  {
   "cell_type": "code",
   "execution_count": 27,
   "metadata": {
    "scrolled": true
   },
   "outputs": [
    {
     "data": {
      "text/plain": [
       "(11954, 51)"
      ]
     },
     "execution_count": 27,
     "metadata": {},
     "output_type": "execute_result"
    }
   ],
   "source": [
    "df2.shape"
   ]
  },
  {
   "cell_type": "markdown",
   "metadata": {},
   "source": [
    "对df2里面的索引重新设定，因为我们之前dropna后没有重新设定索引，否则后面onehotencoder的时候会出问题"
   ]
  },
  {
   "cell_type": "code",
   "execution_count": 28,
   "metadata": {},
   "outputs": [],
   "source": [
    "df2=df2.reset_index(drop=True)"
   ]
  },
  {
   "cell_type": "code",
   "execution_count": 29,
   "metadata": {},
   "outputs": [],
   "source": [
    "from sklearn.preprocessing import OneHotEncoder"
   ]
  },
  {
   "cell_type": "code",
   "execution_count": 30,
   "metadata": {},
   "outputs": [],
   "source": [
    "enc = OneHotEncoder(categories='auto')\n",
    "features = pd.DataFrame(enc.fit_transform(df2[['property_type']]).toarray(),columns=enc.get_feature_names())"
   ]
  },
  {
   "cell_type": "code",
   "execution_count": 31,
   "metadata": {},
   "outputs": [],
   "source": [
    "df2=pd.concat([df2.drop(columns=['property_type']), features],axis=1)"
   ]
  },
  {
   "cell_type": "code",
   "execution_count": 32,
   "metadata": {},
   "outputs": [
    {
     "data": {
      "text/html": [
       "<div>\n",
       "<style scoped>\n",
       "    .dataframe tbody tr th:only-of-type {\n",
       "        vertical-align: middle;\n",
       "    }\n",
       "\n",
       "    .dataframe tbody tr th {\n",
       "        vertical-align: top;\n",
       "    }\n",
       "\n",
       "    .dataframe thead th {\n",
       "        text-align: right;\n",
       "    }\n",
       "</style>\n",
       "<table border=\"1\" class=\"dataframe\">\n",
       "  <thead>\n",
       "    <tr style=\"text-align: right;\">\n",
       "      <th></th>\n",
       "      <th>x0_boutique hotel</th>\n",
       "      <th>x0_bungalow</th>\n",
       "      <th>x0_condominium</th>\n",
       "      <th>x0_guest suite</th>\n",
       "      <th>x0_hostel</th>\n",
       "      <th>x0_hotel</th>\n",
       "      <th>x0_house</th>\n",
       "      <th>x0_loft</th>\n",
       "      <th>x0_other</th>\n",
       "      <th>x0_townhouse</th>\n",
       "    </tr>\n",
       "  </thead>\n",
       "  <tbody>\n",
       "    <tr>\n",
       "      <th>0</th>\n",
       "      <td>0.0</td>\n",
       "      <td>0.0</td>\n",
       "      <td>0.0</td>\n",
       "      <td>0.0</td>\n",
       "      <td>0.0</td>\n",
       "      <td>0.0</td>\n",
       "      <td>0.0</td>\n",
       "      <td>0.0</td>\n",
       "      <td>0.0</td>\n",
       "      <td>0.0</td>\n",
       "    </tr>\n",
       "    <tr>\n",
       "      <th>1</th>\n",
       "      <td>0.0</td>\n",
       "      <td>0.0</td>\n",
       "      <td>1.0</td>\n",
       "      <td>0.0</td>\n",
       "      <td>0.0</td>\n",
       "      <td>0.0</td>\n",
       "      <td>0.0</td>\n",
       "      <td>0.0</td>\n",
       "      <td>0.0</td>\n",
       "      <td>0.0</td>\n",
       "    </tr>\n",
       "    <tr>\n",
       "      <th>2</th>\n",
       "      <td>0.0</td>\n",
       "      <td>0.0</td>\n",
       "      <td>0.0</td>\n",
       "      <td>0.0</td>\n",
       "      <td>0.0</td>\n",
       "      <td>0.0</td>\n",
       "      <td>0.0</td>\n",
       "      <td>0.0</td>\n",
       "      <td>0.0</td>\n",
       "      <td>0.0</td>\n",
       "    </tr>\n",
       "    <tr>\n",
       "      <th>3</th>\n",
       "      <td>0.0</td>\n",
       "      <td>0.0</td>\n",
       "      <td>0.0</td>\n",
       "      <td>0.0</td>\n",
       "      <td>0.0</td>\n",
       "      <td>0.0</td>\n",
       "      <td>0.0</td>\n",
       "      <td>0.0</td>\n",
       "      <td>0.0</td>\n",
       "      <td>0.0</td>\n",
       "    </tr>\n",
       "    <tr>\n",
       "      <th>4</th>\n",
       "      <td>0.0</td>\n",
       "      <td>0.0</td>\n",
       "      <td>0.0</td>\n",
       "      <td>0.0</td>\n",
       "      <td>0.0</td>\n",
       "      <td>0.0</td>\n",
       "      <td>0.0</td>\n",
       "      <td>0.0</td>\n",
       "      <td>0.0</td>\n",
       "      <td>0.0</td>\n",
       "    </tr>\n",
       "    <tr>\n",
       "      <th>...</th>\n",
       "      <td>...</td>\n",
       "      <td>...</td>\n",
       "      <td>...</td>\n",
       "      <td>...</td>\n",
       "      <td>...</td>\n",
       "      <td>...</td>\n",
       "      <td>...</td>\n",
       "      <td>...</td>\n",
       "      <td>...</td>\n",
       "      <td>...</td>\n",
       "    </tr>\n",
       "    <tr>\n",
       "      <th>11949</th>\n",
       "      <td>0.0</td>\n",
       "      <td>0.0</td>\n",
       "      <td>1.0</td>\n",
       "      <td>0.0</td>\n",
       "      <td>0.0</td>\n",
       "      <td>0.0</td>\n",
       "      <td>0.0</td>\n",
       "      <td>0.0</td>\n",
       "      <td>0.0</td>\n",
       "      <td>0.0</td>\n",
       "    </tr>\n",
       "    <tr>\n",
       "      <th>11950</th>\n",
       "      <td>0.0</td>\n",
       "      <td>0.0</td>\n",
       "      <td>1.0</td>\n",
       "      <td>0.0</td>\n",
       "      <td>0.0</td>\n",
       "      <td>0.0</td>\n",
       "      <td>0.0</td>\n",
       "      <td>0.0</td>\n",
       "      <td>0.0</td>\n",
       "      <td>0.0</td>\n",
       "    </tr>\n",
       "    <tr>\n",
       "      <th>11951</th>\n",
       "      <td>0.0</td>\n",
       "      <td>0.0</td>\n",
       "      <td>1.0</td>\n",
       "      <td>0.0</td>\n",
       "      <td>0.0</td>\n",
       "      <td>0.0</td>\n",
       "      <td>0.0</td>\n",
       "      <td>0.0</td>\n",
       "      <td>0.0</td>\n",
       "      <td>0.0</td>\n",
       "    </tr>\n",
       "    <tr>\n",
       "      <th>11952</th>\n",
       "      <td>0.0</td>\n",
       "      <td>0.0</td>\n",
       "      <td>1.0</td>\n",
       "      <td>0.0</td>\n",
       "      <td>0.0</td>\n",
       "      <td>0.0</td>\n",
       "      <td>0.0</td>\n",
       "      <td>0.0</td>\n",
       "      <td>0.0</td>\n",
       "      <td>0.0</td>\n",
       "    </tr>\n",
       "    <tr>\n",
       "      <th>11953</th>\n",
       "      <td>0.0</td>\n",
       "      <td>0.0</td>\n",
       "      <td>1.0</td>\n",
       "      <td>0.0</td>\n",
       "      <td>0.0</td>\n",
       "      <td>0.0</td>\n",
       "      <td>0.0</td>\n",
       "      <td>0.0</td>\n",
       "      <td>0.0</td>\n",
       "      <td>0.0</td>\n",
       "    </tr>\n",
       "  </tbody>\n",
       "</table>\n",
       "<p>11954 rows × 10 columns</p>\n",
       "</div>"
      ],
      "text/plain": [
       "       x0_boutique hotel  x0_bungalow  x0_condominium  x0_guest suite  \\\n",
       "0                    0.0          0.0             0.0             0.0   \n",
       "1                    0.0          0.0             1.0             0.0   \n",
       "2                    0.0          0.0             0.0             0.0   \n",
       "3                    0.0          0.0             0.0             0.0   \n",
       "4                    0.0          0.0             0.0             0.0   \n",
       "...                  ...          ...             ...             ...   \n",
       "11949                0.0          0.0             1.0             0.0   \n",
       "11950                0.0          0.0             1.0             0.0   \n",
       "11951                0.0          0.0             1.0             0.0   \n",
       "11952                0.0          0.0             1.0             0.0   \n",
       "11953                0.0          0.0             1.0             0.0   \n",
       "\n",
       "       x0_hostel  x0_hotel  x0_house  x0_loft  x0_other  x0_townhouse  \n",
       "0            0.0       0.0       0.0      0.0       0.0           0.0  \n",
       "1            0.0       0.0       0.0      0.0       0.0           0.0  \n",
       "2            0.0       0.0       0.0      0.0       0.0           0.0  \n",
       "3            0.0       0.0       0.0      0.0       0.0           0.0  \n",
       "4            0.0       0.0       0.0      0.0       0.0           0.0  \n",
       "...          ...       ...       ...      ...       ...           ...  \n",
       "11949        0.0       0.0       0.0      0.0       0.0           0.0  \n",
       "11950        0.0       0.0       0.0      0.0       0.0           0.0  \n",
       "11951        0.0       0.0       0.0      0.0       0.0           0.0  \n",
       "11952        0.0       0.0       0.0      0.0       0.0           0.0  \n",
       "11953        0.0       0.0       0.0      0.0       0.0           0.0  \n",
       "\n",
       "[11954 rows x 10 columns]"
      ]
     },
     "execution_count": 32,
     "metadata": {},
     "output_type": "execute_result"
    }
   ],
   "source": [
    "df2.iloc[:,-10:]"
   ]
  },
  {
   "cell_type": "markdown",
   "metadata": {},
   "source": [
    "#### room_type特征："
   ]
  },
  {
   "cell_type": "code",
   "execution_count": 33,
   "metadata": {
    "scrolled": true
   },
   "outputs": [
    {
     "data": {
      "text/plain": [
       "Entire home/apt    6682\n",
       "Private room       4353\n",
       "Hotel room          588\n",
       "Shared room         331\n",
       "Name: room_type, dtype: int64"
      ]
     },
     "execution_count": 33,
     "metadata": {},
     "output_type": "execute_result"
    }
   ],
   "source": [
    "df2['room_type'].value_counts()"
   ]
  },
  {
   "cell_type": "code",
   "execution_count": 34,
   "metadata": {
    "scrolled": true
   },
   "outputs": [
    {
     "data": {
      "text/plain": [
       "False    11954\n",
       "Name: room_type, dtype: int64"
      ]
     },
     "execution_count": 34,
     "metadata": {},
     "output_type": "execute_result"
    }
   ],
   "source": [
    "df2.room_type.isnull().value_counts()"
   ]
  },
  {
   "cell_type": "code",
   "execution_count": 35,
   "metadata": {},
   "outputs": [],
   "source": [
    "df2[\"room_type\"]=df2.room_type.fillna(\"others\")"
   ]
  },
  {
   "cell_type": "code",
   "execution_count": 36,
   "metadata": {},
   "outputs": [],
   "source": [
    "enc = OneHotEncoder(categories='auto')\n",
    "features = pd.DataFrame(enc.fit_transform(df2[['room_type']]).toarray(),columns=enc.get_feature_names())"
   ]
  },
  {
   "cell_type": "code",
   "execution_count": 37,
   "metadata": {},
   "outputs": [],
   "source": [
    "df2=pd.concat([df2.drop(columns=['room_type']), features],axis=1)"
   ]
  },
  {
   "cell_type": "code",
   "execution_count": 38,
   "metadata": {},
   "outputs": [
    {
     "data": {
      "text/html": [
       "<div>\n",
       "<style scoped>\n",
       "    .dataframe tbody tr th:only-of-type {\n",
       "        vertical-align: middle;\n",
       "    }\n",
       "\n",
       "    .dataframe tbody tr th {\n",
       "        vertical-align: top;\n",
       "    }\n",
       "\n",
       "    .dataframe thead th {\n",
       "        text-align: right;\n",
       "    }\n",
       "</style>\n",
       "<table border=\"1\" class=\"dataframe\">\n",
       "  <thead>\n",
       "    <tr style=\"text-align: right;\">\n",
       "      <th></th>\n",
       "      <th>x0_townhouse</th>\n",
       "      <th>x0_Entire home/apt</th>\n",
       "      <th>x0_Hotel room</th>\n",
       "      <th>x0_Private room</th>\n",
       "      <th>x0_Shared room</th>\n",
       "    </tr>\n",
       "  </thead>\n",
       "  <tbody>\n",
       "    <tr>\n",
       "      <th>0</th>\n",
       "      <td>0.0</td>\n",
       "      <td>1.0</td>\n",
       "      <td>0.0</td>\n",
       "      <td>0.0</td>\n",
       "      <td>0.0</td>\n",
       "    </tr>\n",
       "    <tr>\n",
       "      <th>1</th>\n",
       "      <td>0.0</td>\n",
       "      <td>0.0</td>\n",
       "      <td>0.0</td>\n",
       "      <td>1.0</td>\n",
       "      <td>0.0</td>\n",
       "    </tr>\n",
       "    <tr>\n",
       "      <th>2</th>\n",
       "      <td>0.0</td>\n",
       "      <td>0.0</td>\n",
       "      <td>0.0</td>\n",
       "      <td>1.0</td>\n",
       "      <td>0.0</td>\n",
       "    </tr>\n",
       "    <tr>\n",
       "      <th>3</th>\n",
       "      <td>0.0</td>\n",
       "      <td>1.0</td>\n",
       "      <td>0.0</td>\n",
       "      <td>0.0</td>\n",
       "      <td>0.0</td>\n",
       "    </tr>\n",
       "    <tr>\n",
       "      <th>4</th>\n",
       "      <td>0.0</td>\n",
       "      <td>0.0</td>\n",
       "      <td>0.0</td>\n",
       "      <td>1.0</td>\n",
       "      <td>0.0</td>\n",
       "    </tr>\n",
       "    <tr>\n",
       "      <th>...</th>\n",
       "      <td>...</td>\n",
       "      <td>...</td>\n",
       "      <td>...</td>\n",
       "      <td>...</td>\n",
       "      <td>...</td>\n",
       "    </tr>\n",
       "    <tr>\n",
       "      <th>11949</th>\n",
       "      <td>0.0</td>\n",
       "      <td>1.0</td>\n",
       "      <td>0.0</td>\n",
       "      <td>0.0</td>\n",
       "      <td>0.0</td>\n",
       "    </tr>\n",
       "    <tr>\n",
       "      <th>11950</th>\n",
       "      <td>0.0</td>\n",
       "      <td>1.0</td>\n",
       "      <td>0.0</td>\n",
       "      <td>0.0</td>\n",
       "      <td>0.0</td>\n",
       "    </tr>\n",
       "    <tr>\n",
       "      <th>11951</th>\n",
       "      <td>0.0</td>\n",
       "      <td>1.0</td>\n",
       "      <td>0.0</td>\n",
       "      <td>0.0</td>\n",
       "      <td>0.0</td>\n",
       "    </tr>\n",
       "    <tr>\n",
       "      <th>11952</th>\n",
       "      <td>0.0</td>\n",
       "      <td>1.0</td>\n",
       "      <td>0.0</td>\n",
       "      <td>0.0</td>\n",
       "      <td>0.0</td>\n",
       "    </tr>\n",
       "    <tr>\n",
       "      <th>11953</th>\n",
       "      <td>0.0</td>\n",
       "      <td>1.0</td>\n",
       "      <td>0.0</td>\n",
       "      <td>0.0</td>\n",
       "      <td>0.0</td>\n",
       "    </tr>\n",
       "  </tbody>\n",
       "</table>\n",
       "<p>11954 rows × 5 columns</p>\n",
       "</div>"
      ],
      "text/plain": [
       "       x0_townhouse  x0_Entire home/apt  x0_Hotel room  x0_Private room  \\\n",
       "0               0.0                 1.0            0.0              0.0   \n",
       "1               0.0                 0.0            0.0              1.0   \n",
       "2               0.0                 0.0            0.0              1.0   \n",
       "3               0.0                 1.0            0.0              0.0   \n",
       "4               0.0                 0.0            0.0              1.0   \n",
       "...             ...                 ...            ...              ...   \n",
       "11949           0.0                 1.0            0.0              0.0   \n",
       "11950           0.0                 1.0            0.0              0.0   \n",
       "11951           0.0                 1.0            0.0              0.0   \n",
       "11952           0.0                 1.0            0.0              0.0   \n",
       "11953           0.0                 1.0            0.0              0.0   \n",
       "\n",
       "       x0_Shared room  \n",
       "0                 0.0  \n",
       "1                 0.0  \n",
       "2                 0.0  \n",
       "3                 0.0  \n",
       "4                 0.0  \n",
       "...               ...  \n",
       "11949             0.0  \n",
       "11950             0.0  \n",
       "11951             0.0  \n",
       "11952             0.0  \n",
       "11953             0.0  \n",
       "\n",
       "[11954 rows x 5 columns]"
      ]
     },
     "execution_count": 38,
     "metadata": {},
     "output_type": "execute_result"
    }
   ],
   "source": [
    "df2.iloc[:,-5:]"
   ]
  },
  {
   "cell_type": "markdown",
   "metadata": {},
   "source": [
    "#### accommodates, bathrooms, bedrooms, beds 特征处理 ：填充空值"
   ]
  },
  {
   "cell_type": "markdown",
   "metadata": {},
   "source": [
    "空值均用0来填充\n",
    "\n",
    "可能存在1.5, 2.5等这种小数，这是正常的。(杨大佬解释)"
   ]
  },
  {
   "cell_type": "code",
   "execution_count": 39,
   "metadata": {},
   "outputs": [],
   "source": [
    "df2[\"bathrooms\"]=df2.bathrooms.fillna(0)\n",
    "df2[\"bedrooms\"]=df2.bedrooms.fillna(0)\n",
    "df2[\"beds\"]=df2.beds.fillna(0)"
   ]
  },
  {
   "cell_type": "markdown",
   "metadata": {},
   "source": [
    "#### amenities特征：将标签提取出来 然后 分类整合 然后 onehot  <font color=#008000>[太多标签了，处理有难度]</font>"
   ]
  },
  {
   "cell_type": "code",
   "execution_count": 42,
   "metadata": {},
   "outputs": [],
   "source": [
    "df2[\"amenities_list\"] = df2.amenities.apply(lambda x:x[1:-1].replace('\"',\"\").split(\",\"))\n",
    "df2[\"amenities_list\"] = df2[\"amenities_list\"].apply(lambda lst: list(x.strip() for x in lst))"
   ]
  },
  {
   "cell_type": "code",
   "execution_count": 43,
   "metadata": {},
   "outputs": [],
   "source": [
    "lists=df2.amenities_list.values"
   ]
  },
  {
   "cell_type": "code",
   "execution_count": 45,
   "metadata": {
    "scrolled": true
   },
   "outputs": [],
   "source": [
    "from collections import Counter\n",
    "result=[]\n",
    "\n",
    "for lst in lists:\n",
    "    result += lst\n",
    "    \n",
    "seq = Counter(result)"
   ]
  },
  {
   "cell_type": "code",
   "execution_count": 48,
   "metadata": {},
   "outputs": [
    {
     "data": {
      "text/plain": [
       "[('Wifi', 11725),\n",
       " ('Air conditioning', 11701),\n",
       " ('Essentials', 10851),\n",
       " ('Washer', 10813),\n",
       " ('Hangers', 10126),\n",
       " ('Kitchen', 10100),\n",
       " ('Iron', 9749),\n",
       " ('Hair dryer', 9699),\n",
       " ('Shampoo', 9193),\n",
       " ('TV', 9111),\n",
       " ('Dryer', 7968),\n",
       " ('Elevator', 7876),\n",
       " ('Hot water', 7574),\n",
       " ('Pool', 6170),\n",
       " ('Lock on bedroom door', 6095),\n",
       " ('Long term stays allowed', 5725),\n",
       " ('Refrigerator', 5583),\n",
       " ('Gym', 5013),\n",
       " ('Microwave', 4976),\n",
       " ('Dishes and silverware', 4774),\n",
       " ('Fire extinguisher', 4705),\n",
       " ('Laptop-friendly workspace', 4594),\n",
       " ('Bed linens', 4568),\n",
       " ('Stove', 4222),\n",
       " ('Laptop friendly workspace', 4095),\n",
       " ('Heating', 4045),\n",
       " ('Cooking basics', 3577),\n",
       " ('Private entrance', 3552),\n",
       " ('Free parking on premises', 3401),\n",
       " ('First aid kit', 3140),\n",
       " ('Luggage dropoff allowed', 2872),\n",
       " ('Extra pillows and blankets', 2715),\n",
       " ('Smoke alarm', 2624),\n",
       " ('Host greets you', 2447),\n",
       " ('Smoke detector', 2325),\n",
       " ('Pets allowed', 2321),\n",
       " ('Oven', 2208),\n",
       " ('Paid parking off premises', 2103),\n",
       " ('Family/kid friendly', 1781),\n",
       " ('Cable TV', 1663),\n",
       " ('Patio or balcony', 1629),\n",
       " ('Paid parking on premises', 1431),\n",
       " ('Carbon monoxide detector', 1381),\n",
       " ('Single level home', 1347),\n",
       " ('Self check-in', 1311),\n",
       " ('Private living room', 1286),\n",
       " ('Internet', 1269),\n",
       " ('Smoking allowed', 1194),\n",
       " ('Shower gel', 1186),\n",
       " ('Safety card', 1121),\n",
       " ('Carbon monoxide alarm', 1103),\n",
       " ('Keypad', 967),\n",
       " ('Free street parking', 940),\n",
       " ('Breakfast', 938),\n",
       " ('Garden or backyard', 914),\n",
       " ('High chair', 860),\n",
       " ('Hot tub', 857),\n",
       " ('Crib', 852),\n",
       " ('No stairs or steps to enter', 849),\n",
       " ('BBQ grill', 827),\n",
       " ('Other', 713),\n",
       " ('Coffee maker', 668),\n",
       " ('Building staff', 662),\n",
       " ('Wheelchair accessible', 579),\n",
       " ('Indoor fireplace', 568),\n",
       " ('24-hour check-in', 547),\n",
       " ('Trash can', 518),\n",
       " ('translation missing: en.hosting_amenity_50', 504),\n",
       " ('Buzzer/wireless intercom', 498),\n",
       " ('Cleaning before checkout', 481),\n",
       " ('Ethernet connection', 473),\n",
       " ('Lockbox', 455),\n",
       " ('Suitable for events', 436),\n",
       " ('Dishwasher', 425),\n",
       " ('Pack ’n Play/travel crib', 402),\n",
       " ('translation missing: en.hosting_amenity_49', 378),\n",
       " ('Room-darkening shades', 366),\n",
       " ('Well-lit path to entrance', 339),\n",
       " ('Doorman', 278),\n",
       " ('Bathtub', 261),\n",
       " ('Wide entrance for guests', 236),\n",
       " ('Smart lock', 230),\n",
       " ('Step-free access', 206),\n",
       " ('Wide hallways', 205),\n",
       " ('Wide entryway', 200),\n",
       " ('Pack \\\\u2019n Play/travel crib', 197),\n",
       " ('Wide entrance', 183),\n",
       " ('Handheld shower head', 179),\n",
       " ('Flat path to guest entrance', 171),\n",
       " ('Extra space around bed', 167),\n",
       " ('Accessible-height toilet', 162),\n",
       " ('Window guards', 148),\n",
       " ('Bread maker', 148),\n",
       " ('Baby bath', 146),\n",
       " ('Wide doorway', 140),\n",
       " ('Children’s dinnerware', 134),\n",
       " ('Accessible-height bed', 131),\n",
       " ('Babysitter recommendations', 125),\n",
       " ('Children’s books and toys', 125),\n",
       " ('Wide doorway to guest bathroom', 125),\n",
       " ('Lake access', 120),\n",
       " ('Waterfront', 117),\n",
       " ('Wide clearance to shower', 115),\n",
       " ('toilet', 115),\n",
       " ('Disabled parking spot', 114),\n",
       " ('Pocket wifi', 111),\n",
       " ('Beachfront', 106),\n",
       " ('Pets live on this property', 89),\n",
       " ('Roll-in shower', 79),\n",
       " ('Children\\\\u2019s dinnerware', 53),\n",
       " ('Flat path to front door', 51),\n",
       " ('Children\\\\u2019s books and toys', 51),\n",
       " ('Wide hallway clearance', 47),\n",
       " ('Wide clearance to bed', 44),\n",
       " ('Beach essentials', 44),\n",
       " ('Outlet covers', 44),\n",
       " ('Body soap', 44),\n",
       " ('Game console', 42),\n",
       " ('EV charger', 41),\n",
       " ('Fixed grab bars for shower', 35),\n",
       " ('', 30),\n",
       " ('Table corner guards', 29),\n",
       " ('Dog(s)', 27),\n",
       " ('Changing table', 26),\n",
       " ('Conditioner', 26),\n",
       " ('Cat(s)', 25),\n",
       " ('Fixed grab bars for toilet', 25),\n",
       " ('Extra space around shower and toilet', 22),\n",
       " ('Freezer', 22),\n",
       " ('Barbecue utensils', 20),\n",
       " ('Step-free shower', 19),\n",
       " ('Stair gates', 18),\n",
       " ('Rice Maker', 14),\n",
       " ('Bathtub with bath chair', 13),\n",
       " ('Fireplace guards', 13),\n",
       " ('Baking sheet', 13),\n",
       " ('Ceiling fan', 13),\n",
       " ('Other pet(s)', 12),\n",
       " ('Laundromat nearby', 11),\n",
       " ('Baby monitor', 10),\n",
       " ('Nespresso machine', 10),\n",
       " ('Paid street parking off premises', 9),\n",
       " ('Mobile hoist', 8),\n",
       " ('Dryer \\\\u2013 In building', 8),\n",
       " ('Washer \\\\u2013\\\\u00a0In unit', 8),\n",
       " ('Hot water kettle', 7),\n",
       " ('Portable fans', 7),\n",
       " ('Shower chair', 6),\n",
       " ('Private bathroom', 6),\n",
       " ('Washer \\\\u2013\\\\u00a0In building', 6),\n",
       " ('Mini fridge', 6),\n",
       " ('Dryer \\\\u2013\\\\u00a0In unit', 6),\n",
       " ('Paid parking lot on premises', 5),\n",
       " ('Pool with pool hoist', 4),\n",
       " ('Firm mattress', 4),\n",
       " ('Electric stove', 4),\n",
       " ('Wifi \\\\u2013 1000 Mbps', 4),\n",
       " ('Induction stove', 4),\n",
       " ('Sound system', 3),\n",
       " ('Electric profiling bed', 2),\n",
       " ('Snacks', 2),\n",
       " ('Pour Over Coffee', 2),\n",
       " ('Paid parking lot off premises', 2),\n",
       " ('HDTV', 2),\n",
       " ('Air purifier', 1),\n",
       " ('Ground floor access', 1),\n",
       " ('Full kitchen', 1),\n",
       " ('Projector and screen', 1),\n",
       " ('Bottled water', 1),\n",
       " ('Kitchenette', 1),\n",
       " ('Stainless steel oven', 1),\n",
       " ('Trash compactor', 1),\n",
       " ('Miele refrigerator', 1),\n",
       " ('Miele oven', 1),\n",
       " ('Paid parking garage off premises', 1),\n",
       " ('Central air conditioning', 1),\n",
       " ('Window AC unit', 1),\n",
       " ('Record player', 1)]"
      ]
     },
     "execution_count": 48,
     "metadata": {},
     "output_type": "execute_result"
    }
   ],
   "source": [
    "seq.most_common()"
   ]
  },
  {
   "cell_type": "code",
   "execution_count": 58,
   "metadata": {},
   "outputs": [],
   "source": [
    "# select important amenities referred to https://www.airbnb.com.sg/resources/hosting-homes/a/the-best-amenities-to-offer-right-now-203\n",
    "\n",
    "select = ['Wifi', 'Air conditioning', 'Kitchen', 'Parking', 'Outdoor', \n",
    "         'Kids', 'Pets allowed', 'Workspace', 'Gym', 'Breakfast']"
   ]
  },
  {
   "cell_type": "code",
   "execution_count": 55,
   "metadata": {},
   "outputs": [],
   "source": [
    "df2['Wifi'] = df2['amenities_list'].apply(lambda lst: 1 if any([ame in lst for ame in \n",
    "                                                                ['Wifi', 'Wifi \\\\u2013 1000 Mbps']]) else 0)\n",
    "\n",
    "df2['Air conditioning'] = df2['amenities_list'].apply(lambda lst: 1 if any([ame in lst for ame in \n",
    "                                                                ['Air conditioning', 'Central air conditioning']]) else 0)\n",
    "\n",
    "df2['Kitchen'] = df2['amenities_list'].apply(lambda lst: 1 if 'Kitchen' in lst else 0)\n",
    "\n",
    "df2['Parking'] = df2['amenities'].apply(lambda string: 1 if 'parking' in string else 0)\n",
    "\n",
    "df2['Outdoor'] = df2['amenities_list'].apply(lambda lst: 1 if any([ame in lst for ame in \n",
    "                                                                ['Patio or balcony', 'Barbecue utensils', 'BBQ grill']]) else 0)\n",
    "\n",
    "\n",
    "df2['Kids'] = df2['amenities_list'].apply(lambda lst: 1 if any([ame in lst for ame in \n",
    "                                                                ['Baby bath','Baby monitor','Babysitter recommendations']]) else 0)\n",
    "\n",
    "df2['Pets allowed'] = df2['amenities_list'].apply(lambda lst: 1 if 'Pets allowed' in lst else 0)\n",
    "\n",
    "df2['Workspace'] = df2['amenities_list'].apply(lambda lst: 1 if any([ame in lst for ame in \n",
    "                                                                ['Laptop-friendly workspace', 'Laptop friendly workspace']]) else 0)\n",
    "\n",
    "df2['Gym'] = df2['amenities_list'].apply(lambda lst: 1 if 'Gym' in lst else 0)\n",
    "\n",
    "df2['Breakfast'] = df2['amenities_list'].apply(lambda lst: 1 if 'Breakfast' in lst else 0)\n"
   ]
  },
  {
   "cell_type": "code",
   "execution_count": 59,
   "metadata": {},
   "outputs": [
    {
     "data": {
      "text/html": [
       "<div>\n",
       "<style scoped>\n",
       "    .dataframe tbody tr th:only-of-type {\n",
       "        vertical-align: middle;\n",
       "    }\n",
       "\n",
       "    .dataframe tbody tr th {\n",
       "        vertical-align: top;\n",
       "    }\n",
       "\n",
       "    .dataframe thead th {\n",
       "        text-align: right;\n",
       "    }\n",
       "</style>\n",
       "<table border=\"1\" class=\"dataframe\">\n",
       "  <thead>\n",
       "    <tr style=\"text-align: right;\">\n",
       "      <th></th>\n",
       "      <th>Wifi</th>\n",
       "      <th>Air conditioning</th>\n",
       "      <th>Kitchen</th>\n",
       "      <th>Parking</th>\n",
       "      <th>Outdoor</th>\n",
       "      <th>Kids</th>\n",
       "      <th>Pets allowed</th>\n",
       "      <th>Workspace</th>\n",
       "      <th>Gym</th>\n",
       "      <th>Breakfast</th>\n",
       "    </tr>\n",
       "  </thead>\n",
       "  <tbody>\n",
       "    <tr>\n",
       "      <th>0</th>\n",
       "      <td>1</td>\n",
       "      <td>1</td>\n",
       "      <td>1</td>\n",
       "      <td>1</td>\n",
       "      <td>0</td>\n",
       "      <td>0</td>\n",
       "      <td>0</td>\n",
       "      <td>0</td>\n",
       "      <td>0</td>\n",
       "      <td>0</td>\n",
       "    </tr>\n",
       "    <tr>\n",
       "      <th>1</th>\n",
       "      <td>1</td>\n",
       "      <td>1</td>\n",
       "      <td>1</td>\n",
       "      <td>0</td>\n",
       "      <td>0</td>\n",
       "      <td>1</td>\n",
       "      <td>0</td>\n",
       "      <td>1</td>\n",
       "      <td>1</td>\n",
       "      <td>0</td>\n",
       "    </tr>\n",
       "    <tr>\n",
       "      <th>2</th>\n",
       "      <td>1</td>\n",
       "      <td>1</td>\n",
       "      <td>1</td>\n",
       "      <td>1</td>\n",
       "      <td>0</td>\n",
       "      <td>0</td>\n",
       "      <td>0</td>\n",
       "      <td>1</td>\n",
       "      <td>0</td>\n",
       "      <td>0</td>\n",
       "    </tr>\n",
       "    <tr>\n",
       "      <th>3</th>\n",
       "      <td>1</td>\n",
       "      <td>1</td>\n",
       "      <td>1</td>\n",
       "      <td>0</td>\n",
       "      <td>0</td>\n",
       "      <td>0</td>\n",
       "      <td>0</td>\n",
       "      <td>1</td>\n",
       "      <td>0</td>\n",
       "      <td>0</td>\n",
       "    </tr>\n",
       "    <tr>\n",
       "      <th>4</th>\n",
       "      <td>1</td>\n",
       "      <td>1</td>\n",
       "      <td>1</td>\n",
       "      <td>0</td>\n",
       "      <td>0</td>\n",
       "      <td>0</td>\n",
       "      <td>0</td>\n",
       "      <td>1</td>\n",
       "      <td>0</td>\n",
       "      <td>0</td>\n",
       "    </tr>\n",
       "    <tr>\n",
       "      <th>...</th>\n",
       "      <td>...</td>\n",
       "      <td>...</td>\n",
       "      <td>...</td>\n",
       "      <td>...</td>\n",
       "      <td>...</td>\n",
       "      <td>...</td>\n",
       "      <td>...</td>\n",
       "      <td>...</td>\n",
       "      <td>...</td>\n",
       "      <td>...</td>\n",
       "    </tr>\n",
       "    <tr>\n",
       "      <th>11949</th>\n",
       "      <td>1</td>\n",
       "      <td>1</td>\n",
       "      <td>1</td>\n",
       "      <td>1</td>\n",
       "      <td>1</td>\n",
       "      <td>0</td>\n",
       "      <td>0</td>\n",
       "      <td>1</td>\n",
       "      <td>1</td>\n",
       "      <td>0</td>\n",
       "    </tr>\n",
       "    <tr>\n",
       "      <th>11950</th>\n",
       "      <td>1</td>\n",
       "      <td>1</td>\n",
       "      <td>1</td>\n",
       "      <td>1</td>\n",
       "      <td>1</td>\n",
       "      <td>0</td>\n",
       "      <td>0</td>\n",
       "      <td>1</td>\n",
       "      <td>1</td>\n",
       "      <td>0</td>\n",
       "    </tr>\n",
       "    <tr>\n",
       "      <th>11951</th>\n",
       "      <td>1</td>\n",
       "      <td>1</td>\n",
       "      <td>1</td>\n",
       "      <td>0</td>\n",
       "      <td>0</td>\n",
       "      <td>0</td>\n",
       "      <td>0</td>\n",
       "      <td>1</td>\n",
       "      <td>1</td>\n",
       "      <td>0</td>\n",
       "    </tr>\n",
       "    <tr>\n",
       "      <th>11952</th>\n",
       "      <td>1</td>\n",
       "      <td>1</td>\n",
       "      <td>1</td>\n",
       "      <td>0</td>\n",
       "      <td>0</td>\n",
       "      <td>0</td>\n",
       "      <td>0</td>\n",
       "      <td>1</td>\n",
       "      <td>1</td>\n",
       "      <td>0</td>\n",
       "    </tr>\n",
       "    <tr>\n",
       "      <th>11953</th>\n",
       "      <td>1</td>\n",
       "      <td>1</td>\n",
       "      <td>1</td>\n",
       "      <td>0</td>\n",
       "      <td>0</td>\n",
       "      <td>0</td>\n",
       "      <td>0</td>\n",
       "      <td>1</td>\n",
       "      <td>1</td>\n",
       "      <td>0</td>\n",
       "    </tr>\n",
       "  </tbody>\n",
       "</table>\n",
       "<p>11954 rows × 10 columns</p>\n",
       "</div>"
      ],
      "text/plain": [
       "       Wifi  Air conditioning  Kitchen  Parking  Outdoor  Kids  Pets allowed  \\\n",
       "0         1                 1        1        1        0     0             0   \n",
       "1         1                 1        1        0        0     1             0   \n",
       "2         1                 1        1        1        0     0             0   \n",
       "3         1                 1        1        0        0     0             0   \n",
       "4         1                 1        1        0        0     0             0   \n",
       "...     ...               ...      ...      ...      ...   ...           ...   \n",
       "11949     1                 1        1        1        1     0             0   \n",
       "11950     1                 1        1        1        1     0             0   \n",
       "11951     1                 1        1        0        0     0             0   \n",
       "11952     1                 1        1        0        0     0             0   \n",
       "11953     1                 1        1        0        0     0             0   \n",
       "\n",
       "       Workspace  Gym  Breakfast  \n",
       "0              0    0          0  \n",
       "1              1    1          0  \n",
       "2              1    0          0  \n",
       "3              1    0          0  \n",
       "4              1    0          0  \n",
       "...          ...  ...        ...  \n",
       "11949          1    1          0  \n",
       "11950          1    1          0  \n",
       "11951          1    1          0  \n",
       "11952          1    1          0  \n",
       "11953          1    1          0  \n",
       "\n",
       "[11954 rows x 10 columns]"
      ]
     },
     "execution_count": 59,
     "metadata": {},
     "output_type": "execute_result"
    }
   ],
   "source": [
    "df2[select]"
   ]
  },
  {
   "cell_type": "code",
   "execution_count": 313,
   "metadata": {
    "scrolled": true
   },
   "outputs": [
    {
     "data": {
      "text/plain": [
       "76     3\n",
       "75     2\n",
       "74     1\n",
       "69     2\n",
       "68     2\n",
       "      ..\n",
       "5     45\n",
       "4     21\n",
       "3     20\n",
       "2     12\n",
       "1     37\n",
       "Name: amenities, Length: 69, dtype: int64"
      ]
     },
     "execution_count": 313,
     "metadata": {},
     "output_type": "execute_result"
    }
   ],
   "source": [
    "df2.amenities.apply(lambda x:len(x.split(\",\"))).value_counts().sort_index(ascending=False)"
   ]
  },
  {
   "cell_type": "markdown",
   "metadata": {},
   "source": [
    "#### price特征：字符串转化为小数  表示住一晚上的价格"
   ]
  },
  {
   "cell_type": "code",
   "execution_count": 246,
   "metadata": {},
   "outputs": [
    {
     "data": {
      "text/plain": [
       "False    11954\n",
       "Name: price, dtype: int64"
      ]
     },
     "execution_count": 246,
     "metadata": {},
     "output_type": "execute_result"
    }
   ],
   "source": [
    "df2.price.isnull().value_counts()"
   ]
  },
  {
   "cell_type": "code",
   "execution_count": 247,
   "metadata": {},
   "outputs": [],
   "source": [
    "df2[\"price\"]=df2.price.apply(lambda x:float(x[1:].replace(\",\",\"\"))) #只能搞一次！！！"
   ]
  },
  {
   "cell_type": "markdown",
   "metadata": {},
   "source": [
    "#### 'minimum_nights', 'maximum_nights', 'minimum_minimum_nights', 'maximum_minimum_nights' 等类似特征：删除相关程度高的特征"
   ]
  },
  {
   "cell_type": "code",
   "execution_count": 248,
   "metadata": {},
   "outputs": [],
   "source": [
    "df3=df[['minimum_nights',\n",
    "   'maximum_nights', 'minimum_minimum_nights', 'maximum_minimum_nights',\n",
    "   'minimum_maximum_nights', 'maximum_maximum_nights',\n",
    "   'minimum_nights_avg_ntm', 'maximum_nights_avg_ntm',]]"
   ]
  },
  {
   "cell_type": "code",
   "execution_count": 249,
   "metadata": {},
   "outputs": [
    {
     "data": {
      "text/html": [
       "<div>\n",
       "<style scoped>\n",
       "    .dataframe tbody tr th:only-of-type {\n",
       "        vertical-align: middle;\n",
       "    }\n",
       "\n",
       "    .dataframe tbody tr th {\n",
       "        vertical-align: top;\n",
       "    }\n",
       "\n",
       "    .dataframe thead th {\n",
       "        text-align: right;\n",
       "    }\n",
       "</style>\n",
       "<table border=\"1\" class=\"dataframe\">\n",
       "  <thead>\n",
       "    <tr style=\"text-align: right;\">\n",
       "      <th></th>\n",
       "      <th>minimum_nights</th>\n",
       "      <th>maximum_nights</th>\n",
       "      <th>minimum_minimum_nights</th>\n",
       "      <th>maximum_minimum_nights</th>\n",
       "      <th>minimum_maximum_nights</th>\n",
       "      <th>maximum_maximum_nights</th>\n",
       "      <th>minimum_nights_avg_ntm</th>\n",
       "      <th>maximum_nights_avg_ntm</th>\n",
       "    </tr>\n",
       "  </thead>\n",
       "  <tbody>\n",
       "    <tr>\n",
       "      <th>0</th>\n",
       "      <td>180</td>\n",
       "      <td>330</td>\n",
       "      <td>180</td>\n",
       "      <td>180</td>\n",
       "      <td>330</td>\n",
       "      <td>330</td>\n",
       "      <td>180.0</td>\n",
       "      <td>330.0</td>\n",
       "    </tr>\n",
       "    <tr>\n",
       "      <th>1</th>\n",
       "      <td>5</td>\n",
       "      <td>800</td>\n",
       "      <td>5</td>\n",
       "      <td>5</td>\n",
       "      <td>800</td>\n",
       "      <td>800</td>\n",
       "      <td>5.0</td>\n",
       "      <td>800.0</td>\n",
       "    </tr>\n",
       "  </tbody>\n",
       "</table>\n",
       "</div>"
      ],
      "text/plain": [
       "   minimum_nights  maximum_nights  minimum_minimum_nights  \\\n",
       "0             180             330                     180   \n",
       "1               5             800                       5   \n",
       "\n",
       "   maximum_minimum_nights  minimum_maximum_nights  maximum_maximum_nights  \\\n",
       "0                     180                     330                     330   \n",
       "1                       5                     800                     800   \n",
       "\n",
       "   minimum_nights_avg_ntm  maximum_nights_avg_ntm  \n",
       "0                   180.0                   330.0  \n",
       "1                     5.0                   800.0  "
      ]
     },
     "execution_count": 249,
     "metadata": {},
     "output_type": "execute_result"
    }
   ],
   "source": [
    "df3.head(2)"
   ]
  },
  {
   "cell_type": "code",
   "execution_count": 250,
   "metadata": {
    "scrolled": true
   },
   "outputs": [
    {
     "data": {
      "text/plain": [
       "minimum_nights  maximum_nights  minimum_minimum_nights  maximum_minimum_nights  minimum_maximum_nights  maximum_maximum_nights  minimum_nights_avg_ntm  maximum_nights_avg_ntm\n",
       "False           False           False                   False                   False                   False                   False                   False                     14822\n",
       "dtype: int64"
      ]
     },
     "execution_count": 250,
     "metadata": {},
     "output_type": "execute_result"
    }
   ],
   "source": [
    "df3.isnull().value_counts() #震惊！没有缺失值"
   ]
  },
  {
   "cell_type": "code",
   "execution_count": 251,
   "metadata": {},
   "outputs": [],
   "source": [
    "corrMatrix=df3.corr()"
   ]
  },
  {
   "cell_type": "code",
   "execution_count": 252,
   "metadata": {},
   "outputs": [],
   "source": [
    "import seaborn as sn"
   ]
  },
  {
   "cell_type": "code",
   "execution_count": 253,
   "metadata": {},
   "outputs": [
    {
     "data": {
      "text/plain": [
       "<AxesSubplot:>"
      ]
     },
     "execution_count": 253,
     "metadata": {},
     "output_type": "execute_result"
    },
    {
     "data": {
      "image/png": "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\n",
      "text/plain": [
       "<Figure size 432x288 with 2 Axes>"
      ]
     },
     "metadata": {
      "needs_background": "light"
     },
     "output_type": "display_data"
    }
   ],
   "source": [
    "sn.heatmap(corrMatrix,annot=True)"
   ]
  },
  {
   "cell_type": "markdown",
   "metadata": {},
   "source": [
    "我们发现 \"minimum_nights\"和'minimum_minimum_nights', 'maximum_minimum_nights'的关联程度特别高\n",
    "\n",
    "经过严谨的分析，我们保留三个特征：'minimum_nights', 'maximum_nights','maximum_nights_avg_ntm'\n",
    "\n",
    "因此删除'minimum_minimum_nights', 'maximum_minimum_nights','minimum_maximum_nights', 'maximum_maximum_nights',\n",
    "\n",
    "'minimum_nights_avg_ntm' 这些特征"
   ]
  },
  {
   "cell_type": "markdown",
   "metadata": {},
   "source": [
    "**可以用PCA之后处理**"
   ]
  },
  {
   "cell_type": "code",
   "execution_count": 254,
   "metadata": {},
   "outputs": [],
   "source": [
    "df2.drop(columns=['minimum_minimum_nights', 'maximum_minimum_nights',\n",
    "                  'minimum_maximum_nights', 'maximum_maximum_nights',\n",
    "                  'minimum_nights_avg_ntm'],inplace=True)"
   ]
  },
  {
   "cell_type": "markdown",
   "metadata": {},
   "source": [
    "####  'availability_30/60/90/365' 系列：整合成一个范围在(0,1)特征"
   ]
  },
  {
   "cell_type": "markdown",
   "metadata": {},
   "source": [
    "我们已经检查过了，没有缺失值"
   ]
  },
  {
   "cell_type": "code",
   "execution_count": 255,
   "metadata": {},
   "outputs": [],
   "source": [
    "df2.availability_30 = df2.availability_30/30\n",
    "df2.availability_60 = df2.availability_60/60\n",
    "df2.availability_90 = df2.availability_90/90\n",
    "df2.availability_365 = df2.availability_365/365"
   ]
  },
  {
   "cell_type": "code",
   "execution_count": 257,
   "metadata": {},
   "outputs": [],
   "source": [
    "df2[\"availability_average\"] = (df2.availability_30+df2.availability_60+df2.availability_90+df2.availability_365)/4"
   ]
  },
  {
   "cell_type": "markdown",
   "metadata": {},
   "source": [
    "然后删除 availability_30/60/90/365"
   ]
  },
  {
   "cell_type": "code",
   "execution_count": 258,
   "metadata": {},
   "outputs": [],
   "source": [
    "df2.drop(columns=[\"availability_30\",\"availability_60\",\"availability_90\",\"availability_365\"], inplace=True)"
   ]
  },
  {
   "cell_type": "markdown",
   "metadata": {},
   "source": [
    "#### number_of_reviews_ltm特征：表示这个房子火爆程度"
   ]
  },
  {
   "cell_type": "code",
   "execution_count": 259,
   "metadata": {
    "scrolled": true
   },
   "outputs": [
    {
     "data": {
      "text/plain": [
       "False    11954\n",
       "Name: number_of_reviews_ltm, dtype: int64"
      ]
     },
     "execution_count": 259,
     "metadata": {},
     "output_type": "execute_result"
    }
   ],
   "source": [
    "df2.number_of_reviews_ltm.isnull().value_counts()"
   ]
  },
  {
   "cell_type": "markdown",
   "metadata": {},
   "source": [
    "#### review_scores_rating系列：删除空值  并 整合这些特征feature cross <font color=#008000>(未完成)</font>"
   ]
  },
  {
   "cell_type": "code",
   "execution_count": 262,
   "metadata": {
    "scrolled": true
   },
   "outputs": [
    {
     "data": {
      "text/plain": [
       "review_scores_rating\n",
       "False                   7171\n",
       "True                    4783\n",
       "dtype: int64"
      ]
     },
     "execution_count": 262,
     "metadata": {},
     "output_type": "execute_result"
    }
   ],
   "source": [
    "df2[['review_scores_rating',\n",
    "       #'review_scores_accuracy', 'review_scores_cleanliness',\n",
    "       #'review_scores_checkin', 'review_scores_communication',\n",
    "       #'review_scores_location', 'review_scores_value'\n",
    "    ]].isnull().value_counts()"
   ]
  },
  {
   "cell_type": "markdown",
   "metadata": {},
   "source": [
    "我们发现<font color=red>**缺失值较多**</font>，不过我们可以到时候用comments产生sentimental score来辅助分析\n",
    "\n",
    "原因在于有很多房子是没有人住过，或者住过但并没有给出评论的，这些房子肯定大多数是那种不太火的房子"
   ]
  },
  {
   "cell_type": "markdown",
   "metadata": {},
   "source": [
    "我们准备使用sentimental score来替代，因此删除这些特征。而且，对于listings表来说，review特征的意义不大"
   ]
  },
  {
   "cell_type": "code",
   "execution_count": 263,
   "metadata": {},
   "outputs": [],
   "source": [
    "df2.drop(columns=['review_scores_rating',\n",
    "       'review_scores_accuracy', 'review_scores_cleanliness',\n",
    "       'review_scores_checkin', 'review_scores_communication',\n",
    "       'review_scores_location', 'review_scores_value'\n",
    "    ],inplace=True)"
   ]
  },
  {
   "cell_type": "markdown",
   "metadata": {},
   "source": [
    "#### instant_bookable特征 : 将T和F转化为数字"
   ]
  },
  {
   "cell_type": "code",
   "execution_count": 264,
   "metadata": {},
   "outputs": [
    {
     "data": {
      "text/plain": [
       "False    11954\n",
       "Name: instant_bookable, dtype: int64"
      ]
     },
     "execution_count": 264,
     "metadata": {},
     "output_type": "execute_result"
    }
   ],
   "source": [
    "df2.instant_bookable.isnull().value_counts()"
   ]
  },
  {
   "cell_type": "code",
   "execution_count": 267,
   "metadata": {},
   "outputs": [],
   "source": [
    "df2.instant_bookable=df2.instant_bookable.apply(lambda x:1 if x==\"t\" else 0)"
   ]
  },
  {
   "cell_type": "markdown",
   "metadata": {},
   "source": [
    "#### calculated_host_listings_count特征"
   ]
  },
  {
   "cell_type": "code",
   "execution_count": 268,
   "metadata": {},
   "outputs": [
    {
     "data": {
      "text/plain": [
       "False    11954\n",
       "Name: calculated_host_listings_count, dtype: int64"
      ]
     },
     "execution_count": 268,
     "metadata": {},
     "output_type": "execute_result"
    }
   ],
   "source": [
    "df2.calculated_host_listings_count.isnull().value_counts()"
   ]
  },
  {
   "cell_type": "markdown",
   "metadata": {},
   "source": [
    "#### reviews_per_month特征"
   ]
  },
  {
   "cell_type": "code",
   "execution_count": 271,
   "metadata": {
    "scrolled": false
   },
   "outputs": [
    {
     "data": {
      "text/plain": [
       "False    7333\n",
       "True     4621\n",
       "Name: reviews_per_month, dtype: int64"
      ]
     },
     "execution_count": 271,
     "metadata": {},
     "output_type": "execute_result"
    }
   ],
   "source": [
    "df2.reviews_per_month.isnull().value_counts()"
   ]
  },
  {
   "cell_type": "markdown",
   "metadata": {},
   "source": [
    "缺失值太多，删除此特征"
   ]
  },
  {
   "cell_type": "code",
   "execution_count": 272,
   "metadata": {},
   "outputs": [],
   "source": [
    "df2.drop(columns=[\"reviews_per_month\"],inplace=True)"
   ]
  },
  {
   "cell_type": "markdown",
   "metadata": {},
   "source": [
    "### 3.导出文件"
   ]
  },
  {
   "cell_type": "code",
   "execution_count": 278,
   "metadata": {},
   "outputs": [],
   "source": [
    "df2.to_csv(\"../终版数据/listings_final_version.csv\",index=False)"
   ]
  }
 ],
 "metadata": {
  "kernelspec": {
   "display_name": "Python 3",
   "language": "python",
   "name": "python3"
  },
  "language_info": {
   "codemirror_mode": {
    "name": "ipython",
    "version": 3
   },
   "file_extension": ".py",
   "mimetype": "text/x-python",
   "name": "python",
   "nbconvert_exporter": "python",
   "pygments_lexer": "ipython3",
   "version": "3.8.2"
  },
  "toc": {
   "base_numbering": 1,
   "nav_menu": {},
   "number_sections": false,
   "sideBar": true,
   "skip_h1_title": false,
   "title_cell": "Table of Contents",
   "title_sidebar": "Contents",
   "toc_cell": false,
   "toc_position": {
    "height": "calc(100% - 180px)",
    "left": "10px",
    "top": "150px",
    "width": "384px"
   },
   "toc_section_display": true,
   "toc_window_display": false
  }
 },
 "nbformat": 4,
 "nbformat_minor": 4
}
}
