{
 "cells": [
  {
   "cell_type": "code",
   "execution_count": 281,
   "metadata": {},
   "outputs": [],
   "source": [
    "import numpy as np\n",
    "import pandas as pd"
   ]
  },
  {
   "cell_type": "code",
   "execution_count": 282,
   "metadata": {},
   "outputs": [],
   "source": [
    "df=pd.read_csv(\"../原始数据/cleaned_customer.csv\")"
   ]
  },
  {
   "cell_type": "code",
   "execution_count": 283,
   "metadata": {},
   "outputs": [
    {
     "data": {
      "text/html": [
       "<div>\n",
       "<style scoped>\n",
       "    .dataframe tbody tr th:only-of-type {\n",
       "        vertical-align: middle;\n",
       "    }\n",
       "\n",
       "    .dataframe tbody tr th {\n",
       "        vertical-align: top;\n",
       "    }\n",
       "\n",
       "    .dataframe thead th {\n",
       "        text-align: right;\n",
       "    }\n",
       "</style>\n",
       "<table border=\"1\" class=\"dataframe\">\n",
       "  <thead>\n",
       "    <tr style=\"text-align: right;\">\n",
       "      <th></th>\n",
       "      <th>reviewer_id</th>\n",
       "      <th>listing_id</th>\n",
       "      <th>date</th>\n",
       "      <th>reviewer_name</th>\n",
       "      <th>comments</th>\n",
       "      <th>name</th>\n",
       "      <th>description</th>\n",
       "      <th>neighborhood_overview</th>\n",
       "      <th>host_id</th>\n",
       "      <th>host_since</th>\n",
       "      <th>...</th>\n",
       "      <th>review_scores_communication</th>\n",
       "      <th>review_scores_location</th>\n",
       "      <th>review_scores_value</th>\n",
       "      <th>instant_bookable</th>\n",
       "      <th>calculated_host_listings_count</th>\n",
       "      <th>reviews_per_month</th>\n",
       "      <th>nearby_sites_rating</th>\n",
       "      <th>nearest_station_dist</th>\n",
       "      <th>nearest_site_dist</th>\n",
       "      <th>nearest_site_rating</th>\n",
       "    </tr>\n",
       "  </thead>\n",
       "  <tbody>\n",
       "    <tr>\n",
       "      <th>0</th>\n",
       "      <td>8557223</td>\n",
       "      <td>49091</td>\n",
       "      <td>2013-10-21</td>\n",
       "      <td>Jared</td>\n",
       "      <td>Fran was absolutely gracious and welcoming. Ma...</td>\n",
       "      <td>COZICOMFORT LONG TERM STAY ROOM 2</td>\n",
       "      <td>This is Room No. 2.(available after Jan 15 201...</td>\n",
       "      <td>NaN</td>\n",
       "      <td>266763</td>\n",
       "      <td>2010-10-20</td>\n",
       "      <td>...</td>\n",
       "      <td>10.0</td>\n",
       "      <td>8.0</td>\n",
       "      <td>8.0</td>\n",
       "      <td>f</td>\n",
       "      <td>2</td>\n",
       "      <td>0.02</td>\n",
       "      <td>0.995731</td>\n",
       "      <td>0.617762</td>\n",
       "      <td>4.295315</td>\n",
       "      <td>4.595264</td>\n",
       "    </tr>\n",
       "    <tr>\n",
       "      <th>1</th>\n",
       "      <td>1356099</td>\n",
       "      <td>50646</td>\n",
       "      <td>2014-04-18</td>\n",
       "      <td>James</td>\n",
       "      <td>A comfortable room in a smart condo developmen...</td>\n",
       "      <td>Pleasant Room along Bukit Timah</td>\n",
       "      <td>Fully furnished bedroom with a nice view on th...</td>\n",
       "      <td>The serenity &amp; quiet surrounding makes it an i...</td>\n",
       "      <td>227796</td>\n",
       "      <td>2010-09-08</td>\n",
       "      <td>...</td>\n",
       "      <td>10.0</td>\n",
       "      <td>9.0</td>\n",
       "      <td>9.0</td>\n",
       "      <td>f</td>\n",
       "      <td>1</td>\n",
       "      <td>0.30</td>\n",
       "      <td>1.269606</td>\n",
       "      <td>0.399696</td>\n",
       "      <td>2.039236</td>\n",
       "      <td>4.654423</td>\n",
       "    </tr>\n",
       "  </tbody>\n",
       "</table>\n",
       "<p>2 rows × 60 columns</p>\n",
       "</div>"
      ],
      "text/plain": [
       "   reviewer_id  listing_id        date reviewer_name  \\\n",
       "0      8557223       49091  2013-10-21         Jared   \n",
       "1      1356099       50646  2014-04-18         James   \n",
       "\n",
       "                                            comments  \\\n",
       "0  Fran was absolutely gracious and welcoming. Ma...   \n",
       "1  A comfortable room in a smart condo developmen...   \n",
       "\n",
       "                                name  \\\n",
       "0  COZICOMFORT LONG TERM STAY ROOM 2   \n",
       "1    Pleasant Room along Bukit Timah   \n",
       "\n",
       "                                         description  \\\n",
       "0  This is Room No. 2.(available after Jan 15 201...   \n",
       "1  Fully furnished bedroom with a nice view on th...   \n",
       "\n",
       "                               neighborhood_overview  host_id  host_since  \\\n",
       "0                                                NaN   266763  2010-10-20   \n",
       "1  The serenity & quiet surrounding makes it an i...   227796  2010-09-08   \n",
       "\n",
       "   ... review_scores_communication review_scores_location review_scores_value  \\\n",
       "0  ...                        10.0                    8.0                 8.0   \n",
       "1  ...                        10.0                    9.0                 9.0   \n",
       "\n",
       "  instant_bookable calculated_host_listings_count reviews_per_month  \\\n",
       "0                f                              2              0.02   \n",
       "1                f                              1              0.30   \n",
       "\n",
       "  nearby_sites_rating nearest_station_dist nearest_site_dist  \\\n",
       "0            0.995731             0.617762          4.295315   \n",
       "1            1.269606             0.399696          2.039236   \n",
       "\n",
       "  nearest_site_rating  \n",
       "0            4.595264  \n",
       "1            4.654423  \n",
       "\n",
       "[2 rows x 60 columns]"
      ]
     },
     "execution_count": 283,
     "metadata": {},
     "output_type": "execute_result"
    }
   ],
   "source": [
    "df.head(2)"
   ]
  },
  {
   "cell_type": "markdown",
   "metadata": {},
   "source": [
    "### 1. 筛选特征 "
   ]
  },
  {
   "cell_type": "markdown",
   "metadata": {},
   "source": [
    "#### 1.1 主观筛选 "
   ]
  },
  {
   "cell_type": "code",
   "execution_count": 284,
   "metadata": {},
   "outputs": [],
   "source": [
    "delete_columns=['reviewer_name','name','neighborhood_overview','host_id','host_about','host_neighbourhood',\n",
    "                'host_has_profile_pic', 'host_identity_verified','neighbourhood_cleansed', 'neighbourhood_group_cleansed',\n",
    "                'calendar_updated','number_of_reviews'\n",
    "               ]"
   ]
  },
  {
   "cell_type": "code",
   "execution_count": 285,
   "metadata": {},
   "outputs": [],
   "source": [
    "df2=df.drop(delete_columns,axis=1)"
   ]
  },
  {
   "cell_type": "code",
   "execution_count": 286,
   "metadata": {
    "scrolled": true
   },
   "outputs": [
    {
     "data": {
      "text/plain": [
       "(155250, 48)"
      ]
     },
     "execution_count": 286,
     "metadata": {},
     "output_type": "execute_result"
    }
   ],
   "source": [
    "df2.shape"
   ]
  },
  {
   "cell_type": "code",
   "execution_count": 287,
   "metadata": {},
   "outputs": [
    {
     "data": {
      "text/plain": [
       "Index(['reviewer_id', 'listing_id', 'date', 'comments', 'description',\n",
       "       'host_since', 'host_response_time', 'host_response_rate',\n",
       "       'host_is_superhost', 'host_verifications', 'neighbourhood', 'latitude',\n",
       "       'longitude', 'property_type', 'room_type', 'accommodates', 'bathrooms',\n",
       "       'bedrooms', 'beds', 'amenities', 'price', 'minimum_nights',\n",
       "       'maximum_nights', 'minimum_minimum_nights', 'maximum_minimum_nights',\n",
       "       'minimum_maximum_nights', 'maximum_maximum_nights',\n",
       "       'minimum_nights_avg_ntm', 'maximum_nights_avg_ntm', 'availability_30',\n",
       "       'availability_60', 'availability_90', 'availability_365',\n",
       "       'number_of_reviews_ltm', 'review_scores_rating',\n",
       "       'review_scores_accuracy', 'review_scores_cleanliness',\n",
       "       'review_scores_checkin', 'review_scores_communication',\n",
       "       'review_scores_location', 'review_scores_value', 'instant_bookable',\n",
       "       'calculated_host_listings_count', 'reviews_per_month',\n",
       "       'nearby_sites_rating', 'nearest_station_dist', 'nearest_site_dist',\n",
       "       'nearest_site_rating'],\n",
       "      dtype='object')"
      ]
     },
     "execution_count": 287,
     "metadata": {},
     "output_type": "execute_result"
    }
   ],
   "source": [
    "df2.columns"
   ]
  },
  {
   "cell_type": "markdown",
   "metadata": {},
   "source": [
    "#### 1.2 客观筛选：测试和sentimental score的correlation   <font color=#008000>未完成</font>"
   ]
  },
  {
   "cell_type": "markdown",
   "metadata": {},
   "source": [
    "### 2. 处理特征 "
   ]
  },
  {
   "cell_type": "markdown",
   "metadata": {},
   "source": [
    "#### date特征转化为date_time类型"
   ]
  },
  {
   "cell_type": "code",
   "execution_count": 288,
   "metadata": {},
   "outputs": [],
   "source": [
    "df2[\"date\"]=pd.to_datetime(df2.date)"
   ]
  },
  {
   "cell_type": "markdown",
   "metadata": {},
   "source": [
    "#### 删除comments, description, host_response_rate, host_response_time空值"
   ]
  },
  {
   "cell_type": "code",
   "execution_count": 289,
   "metadata": {},
   "outputs": [],
   "source": [
    "df2.dropna(subset=[\"comments\",\"description\", \"host_response_rate\", \"host_response_time\"],inplace=True)"
   ]
  },
  {
   "cell_type": "markdown",
   "metadata": {},
   "source": [
    "#### host_is_superhost特征：填充空值并转化为数字 <font color=#008000>未完成</font>"
   ]
  },
  {
   "cell_type": "code",
   "execution_count": 290,
   "metadata": {},
   "outputs": [],
   "source": [
    "df2['host_is_superhost']=df2['host_is_superhost'].fillna('f')"
   ]
  },
  {
   "cell_type": "code",
   "execution_count": 291,
   "metadata": {},
   "outputs": [],
   "source": [
    "df2.host_is_superhost=df2.host_is_superhost.replace({\"t\":1,\n",
    "                                                     \"f\":0})"
   ]
  },
  {
   "cell_type": "markdown",
   "metadata": {},
   "source": [
    "####  host_response_time特征：categorical转成数字"
   ]
  },
  {
   "cell_type": "code",
   "execution_count": 293,
   "metadata": {},
   "outputs": [],
   "source": [
    "df2['host_response_time']=df2['host_response_time'].replace({'within an hour': 4,\n",
    "                                                             'within a few hours': 3,\n",
    "                                                             'within a day': 2, \n",
    "                                                             'a few days or more': 1})"
   ]
  },
  {
   "cell_type": "markdown",
   "metadata": {},
   "source": [
    "####  host_response_rate：从字符串转化为小数"
   ]
  },
  {
   "cell_type": "code",
   "execution_count": 294,
   "metadata": {},
   "outputs": [],
   "source": [
    "# host_response_rate convert to numbers\n",
    "df2['host_response_rate']= df2['host_response_rate'].apply(lambda x:int(x[:-1])/100)"
   ]
  },
  {
   "cell_type": "code",
   "execution_count": 295,
   "metadata": {},
   "outputs": [
    {
     "data": {
      "text/plain": [
       "array([[1.        , 0.60669792],\n",
       "       [0.60669792, 1.        ]])"
      ]
     },
     "execution_count": 295,
     "metadata": {},
     "output_type": "execute_result"
    }
   ],
   "source": [
    "np.corrcoef(df2.host_response_time, df2.host_response_rate)"
   ]
  },
  {
   "cell_type": "markdown",
   "metadata": {},
   "source": [
    "说明二者的相关性不是那么强，因此**二者都保留**"
   ]
  },
  {
   "cell_type": "markdown",
   "metadata": {},
   "source": [
    "#### host_verifications_ways特征：拆分类别变成很多columns"
   ]
  },
  {
   "cell_type": "code",
   "execution_count": 296,
   "metadata": {},
   "outputs": [],
   "source": [
    "# convert to the number of contact ways\n",
    "df2['host_verifications_ways'] = df2['host_verifications'].apply(lambda x: len(x.split(',')))"
   ]
  },
  {
   "cell_type": "code",
   "execution_count": 297,
   "metadata": {},
   "outputs": [],
   "source": [
    "# host_verifications fill na as ''\n",
    "df2['host_verifications'] = df2['host_verifications'].fillna('')"
   ]
  },
  {
   "cell_type": "code",
   "execution_count": 298,
   "metadata": {},
   "outputs": [],
   "source": [
    "# create new boolean columns\n",
    "df2['email']= df2['host_verifications'].apply(lambda x: 1 if 'email' in x else 0)\n",
    "df2['phone']= df2['host_verifications'].apply(lambda x: 1 if 'phone' in x else 0)\n",
    "df2['reviews']= df2['host_verifications'].apply(lambda x: 1 if 'reviews' in x else 0)\n",
    "df2['jumio']= df2['host_verifications'].apply(lambda x: 1 if 'jumio' in x else 0)\n",
    "df2['offline_government_id']= df2['host_verifications'].apply(lambda x: 1 if 'offline_government_id' in x else 0)\n",
    "df2['selfie']= df2['host_verifications'].apply(lambda x: 1 if 'selfie' in x else 0)\n",
    "df2['government_id']= df2['host_verifications'].apply(lambda x: 1 if 'government_id' in x else 0)\n",
    "df2['identity_manual']= df2['host_verifications'].apply(lambda x: 1 if 'identity_manual' in x else 0)\n",
    "df2['work_email']= df2['host_verifications'].apply(lambda x: 1 if 'work_email' in x else 0)\n",
    "df2['manual_online']= df2['host_verifications'].apply(lambda x: 1 if 'manual_online' in x else 0)\n",
    "df2['manual_offline']= df2['host_verifications'].apply(lambda x: 1 if 'manual_offline' in x else 0)\n",
    "# ['email', 'phone', 'manual_online', 'reviews', 'manual_offline', 'jumio', 'offline_government_id', 'selfie', 'government_id', 'identity_manual', 'work_email']"
   ]
  },
  {
   "cell_type": "code",
   "execution_count": 299,
   "metadata": {},
   "outputs": [
    {
     "data": {
      "text/html": [
       "<div>\n",
       "<style scoped>\n",
       "    .dataframe tbody tr th:only-of-type {\n",
       "        vertical-align: middle;\n",
       "    }\n",
       "\n",
       "    .dataframe tbody tr th {\n",
       "        vertical-align: top;\n",
       "    }\n",
       "\n",
       "    .dataframe thead th {\n",
       "        text-align: right;\n",
       "    }\n",
       "</style>\n",
       "<table border=\"1\" class=\"dataframe\">\n",
       "  <thead>\n",
       "    <tr style=\"text-align: right;\">\n",
       "      <th></th>\n",
       "      <th>email</th>\n",
       "      <th>phone</th>\n",
       "      <th>manual_online</th>\n",
       "      <th>reviews</th>\n",
       "      <th>manual_offline</th>\n",
       "      <th>jumio</th>\n",
       "      <th>offline_government_id</th>\n",
       "      <th>selfie</th>\n",
       "      <th>government_id</th>\n",
       "      <th>identity_manual</th>\n",
       "      <th>work_email</th>\n",
       "    </tr>\n",
       "  </thead>\n",
       "  <tbody>\n",
       "    <tr>\n",
       "      <th>0</th>\n",
       "      <td>1</td>\n",
       "      <td>1</td>\n",
       "      <td>0</td>\n",
       "      <td>1</td>\n",
       "      <td>0</td>\n",
       "      <td>1</td>\n",
       "      <td>1</td>\n",
       "      <td>1</td>\n",
       "      <td>1</td>\n",
       "      <td>1</td>\n",
       "      <td>0</td>\n",
       "    </tr>\n",
       "    <tr>\n",
       "      <th>19</th>\n",
       "      <td>1</td>\n",
       "      <td>1</td>\n",
       "      <td>0</td>\n",
       "      <td>1</td>\n",
       "      <td>0</td>\n",
       "      <td>1</td>\n",
       "      <td>1</td>\n",
       "      <td>1</td>\n",
       "      <td>1</td>\n",
       "      <td>1</td>\n",
       "      <td>0</td>\n",
       "    </tr>\n",
       "    <tr>\n",
       "      <th>20</th>\n",
       "      <td>1</td>\n",
       "      <td>1</td>\n",
       "      <td>0</td>\n",
       "      <td>1</td>\n",
       "      <td>0</td>\n",
       "      <td>1</td>\n",
       "      <td>1</td>\n",
       "      <td>1</td>\n",
       "      <td>1</td>\n",
       "      <td>1</td>\n",
       "      <td>0</td>\n",
       "    </tr>\n",
       "    <tr>\n",
       "      <th>21</th>\n",
       "      <td>1</td>\n",
       "      <td>1</td>\n",
       "      <td>0</td>\n",
       "      <td>1</td>\n",
       "      <td>0</td>\n",
       "      <td>1</td>\n",
       "      <td>1</td>\n",
       "      <td>1</td>\n",
       "      <td>1</td>\n",
       "      <td>1</td>\n",
       "      <td>0</td>\n",
       "    </tr>\n",
       "    <tr>\n",
       "      <th>22</th>\n",
       "      <td>1</td>\n",
       "      <td>1</td>\n",
       "      <td>0</td>\n",
       "      <td>1</td>\n",
       "      <td>0</td>\n",
       "      <td>1</td>\n",
       "      <td>1</td>\n",
       "      <td>1</td>\n",
       "      <td>1</td>\n",
       "      <td>1</td>\n",
       "      <td>0</td>\n",
       "    </tr>\n",
       "    <tr>\n",
       "      <th>...</th>\n",
       "      <td>...</td>\n",
       "      <td>...</td>\n",
       "      <td>...</td>\n",
       "      <td>...</td>\n",
       "      <td>...</td>\n",
       "      <td>...</td>\n",
       "      <td>...</td>\n",
       "      <td>...</td>\n",
       "      <td>...</td>\n",
       "      <td>...</td>\n",
       "      <td>...</td>\n",
       "    </tr>\n",
       "    <tr>\n",
       "      <th>155245</th>\n",
       "      <td>1</td>\n",
       "      <td>1</td>\n",
       "      <td>0</td>\n",
       "      <td>0</td>\n",
       "      <td>0</td>\n",
       "      <td>1</td>\n",
       "      <td>1</td>\n",
       "      <td>1</td>\n",
       "      <td>1</td>\n",
       "      <td>1</td>\n",
       "      <td>0</td>\n",
       "    </tr>\n",
       "    <tr>\n",
       "      <th>155246</th>\n",
       "      <td>1</td>\n",
       "      <td>1</td>\n",
       "      <td>0</td>\n",
       "      <td>0</td>\n",
       "      <td>0</td>\n",
       "      <td>1</td>\n",
       "      <td>1</td>\n",
       "      <td>1</td>\n",
       "      <td>1</td>\n",
       "      <td>1</td>\n",
       "      <td>0</td>\n",
       "    </tr>\n",
       "    <tr>\n",
       "      <th>155247</th>\n",
       "      <td>1</td>\n",
       "      <td>1</td>\n",
       "      <td>0</td>\n",
       "      <td>0</td>\n",
       "      <td>0</td>\n",
       "      <td>1</td>\n",
       "      <td>1</td>\n",
       "      <td>1</td>\n",
       "      <td>1</td>\n",
       "      <td>1</td>\n",
       "      <td>0</td>\n",
       "    </tr>\n",
       "    <tr>\n",
       "      <th>155248</th>\n",
       "      <td>0</td>\n",
       "      <td>1</td>\n",
       "      <td>0</td>\n",
       "      <td>0</td>\n",
       "      <td>0</td>\n",
       "      <td>1</td>\n",
       "      <td>1</td>\n",
       "      <td>1</td>\n",
       "      <td>1</td>\n",
       "      <td>1</td>\n",
       "      <td>0</td>\n",
       "    </tr>\n",
       "    <tr>\n",
       "      <th>155249</th>\n",
       "      <td>0</td>\n",
       "      <td>1</td>\n",
       "      <td>0</td>\n",
       "      <td>0</td>\n",
       "      <td>0</td>\n",
       "      <td>1</td>\n",
       "      <td>1</td>\n",
       "      <td>1</td>\n",
       "      <td>1</td>\n",
       "      <td>1</td>\n",
       "      <td>0</td>\n",
       "    </tr>\n",
       "  </tbody>\n",
       "</table>\n",
       "<p>148162 rows × 11 columns</p>\n",
       "</div>"
      ],
      "text/plain": [
       "        email  phone  manual_online  reviews  manual_offline  jumio  \\\n",
       "0           1      1              0        1               0      1   \n",
       "19          1      1              0        1               0      1   \n",
       "20          1      1              0        1               0      1   \n",
       "21          1      1              0        1               0      1   \n",
       "22          1      1              0        1               0      1   \n",
       "...       ...    ...            ...      ...             ...    ...   \n",
       "155245      1      1              0        0               0      1   \n",
       "155246      1      1              0        0               0      1   \n",
       "155247      1      1              0        0               0      1   \n",
       "155248      0      1              0        0               0      1   \n",
       "155249      0      1              0        0               0      1   \n",
       "\n",
       "        offline_government_id  selfie  government_id  identity_manual  \\\n",
       "0                           1       1              1                1   \n",
       "19                          1       1              1                1   \n",
       "20                          1       1              1                1   \n",
       "21                          1       1              1                1   \n",
       "22                          1       1              1                1   \n",
       "...                       ...     ...            ...              ...   \n",
       "155245                      1       1              1                1   \n",
       "155246                      1       1              1                1   \n",
       "155247                      1       1              1                1   \n",
       "155248                      1       1              1                1   \n",
       "155249                      1       1              1                1   \n",
       "\n",
       "        work_email  \n",
       "0                0  \n",
       "19               0  \n",
       "20               0  \n",
       "21               0  \n",
       "22               0  \n",
       "...            ...  \n",
       "155245           0  \n",
       "155246           0  \n",
       "155247           0  \n",
       "155248           0  \n",
       "155249           0  \n",
       "\n",
       "[148162 rows x 11 columns]"
      ]
     },
     "execution_count": 299,
     "metadata": {},
     "output_type": "execute_result"
    }
   ],
   "source": [
    "df2[['email', 'phone', 'manual_online', 'reviews', 'manual_offline', 'jumio', 'offline_government_id', 'selfie', 'government_id', 'identity_manual', 'work_email']]"
   ]
  },
  {
   "cell_type": "markdown",
   "metadata": {},
   "source": [
    "#### neighbourhood <font color=#008000>待处理</font>"
   ]
  },
  {
   "cell_type": "markdown",
   "metadata": {},
   "source": [
    "####  property_type特征：合并小类 以及 <font color=#008000>未完成onehot</font>"
   ]
  },
  {
   "cell_type": "code",
   "execution_count": 300,
   "metadata": {},
   "outputs": [],
   "source": [
    "df2['property_type'] = df2['property_type'].str.lower()"
   ]
  },
  {
   "cell_type": "code",
   "execution_count": 301,
   "metadata": {},
   "outputs": [],
   "source": [
    "def property_type(x):\n",
    "    if 'apartment' in x:\n",
    "        return 'apartment'\n",
    "    elif 'condominium' in x:\n",
    "        return 'condominium'\n",
    "    elif 'townhouse' in x:\n",
    "        return 'townhouse'\n",
    "    elif 'serviced apartment' in x:\n",
    "        return 'serviced apartment'\n",
    "    elif 'boutique hotel' in x:\n",
    "        return 'boutique hotel'\n",
    "    elif 'hotel' in x:\n",
    "        return 'hotel'\n",
    "    elif 'hostel' in x:\n",
    "        return 'hostel'\n",
    "    elif 'loft' in x:\n",
    "        return 'loft'\n",
    "    elif 'guest suite' in x:\n",
    "        return 'guest suite'\n",
    "    elif 'bed and breakfast' in x:\n",
    "        return 'bed and breakfast' \n",
    "    elif 'bungalow' in x:\n",
    "        return 'bungalow' \n",
    "    elif 'house' in x:\n",
    "        return 'house'\n",
    "    elif 'villa' in x:\n",
    "        return 'house'\n",
    "    elif x in ['private room in earth house', 'private room', 'camper/rv', \n",
    "               'bus', 'shared room in hostel', 'castle', 'cabin', 'tent', 'cottage', 'campsite']:\n",
    "        return 'other'\n",
    "    else:\n",
    "        return x\n",
    "df2['property_type'] = df2['property_type'].apply(property_type)"
   ]
  },
  {
   "cell_type": "code",
   "execution_count": 302,
   "metadata": {},
   "outputs": [
    {
     "data": {
      "text/plain": [
       "apartment            81022\n",
       "condominium          27555\n",
       "house                13637\n",
       "townhouse             5929\n",
       "loft                  5503\n",
       "hostel                5249\n",
       "boutique hotel        2377\n",
       "bungalow              2241\n",
       "bed and breakfast     1498\n",
       "other                 1252\n",
       "hotel                 1031\n",
       "guest suite            615\n",
       "boat                   253\n",
       "Name: property_type, dtype: int64"
      ]
     },
     "execution_count": 302,
     "metadata": {},
     "output_type": "execute_result"
    }
   ],
   "source": [
    "df2['property_type'].value_counts()"
   ]
  },
  {
   "cell_type": "markdown",
   "metadata": {},
   "source": [
    "#### room_type特征：<font color=#008000>还需要做onehot</font>"
   ]
  },
  {
   "cell_type": "code",
   "execution_count": 303,
   "metadata": {},
   "outputs": [
    {
     "data": {
      "text/plain": [
       "Entire home/apt    73712\n",
       "Private room       66249\n",
       "Shared room         6448\n",
       "Hotel room          1753\n",
       "Name: room_type, dtype: int64"
      ]
     },
     "execution_count": 303,
     "metadata": {},
     "output_type": "execute_result"
    }
   ],
   "source": [
    "df2['room_type'].value_counts()"
   ]
  },
  {
   "cell_type": "markdown",
   "metadata": {},
   "source": [
    "#### accommodates, bathrooms, bedrooms, beds 特征处理 ：填充空值"
   ]
  },
  {
   "cell_type": "markdown",
   "metadata": {},
   "source": [
    "空值均用0来填充\n",
    "\n",
    "可能存在1.5, 2.5等这种小数，这是正常的。(杨大佬解释)"
   ]
  },
  {
   "cell_type": "code",
   "execution_count": 304,
   "metadata": {},
   "outputs": [],
   "source": [
    "df2[\"bathrooms\"]=df2.bathrooms.fillna(0)\n",
    "df2[\"bedrooms\"]=df2.bedrooms.fillna(0)\n",
    "df2[\"beds\"]=df2.beds.fillna(0)"
   ]
  },
  {
   "cell_type": "markdown",
   "metadata": {},
   "source": [
    "#### amenities特征：将标签提取出来 然后 分类整合 然后 onehot  <font color=#008000>[太多标签了，处理有难度]</font>"
   ]
  },
  {
   "cell_type": "code",
   "execution_count": 305,
   "metadata": {},
   "outputs": [
    {
     "data": {
      "text/plain": [
       "76      5\n",
       "75      1\n",
       "74      3\n",
       "73      5\n",
       "70      2\n",
       "     ... \n",
       "5      78\n",
       "4      87\n",
       "3      57\n",
       "2      98\n",
       "1     236\n",
       "Name: amenities, Length: 74, dtype: int64"
      ]
     },
     "execution_count": 305,
     "metadata": {},
     "output_type": "execute_result"
    }
   ],
   "source": [
    "df2.amenities.apply(lambda x:len(x.split(\",\"))).value_counts().sort_index(ascending=False)"
   ]
  },
  {
   "cell_type": "markdown",
   "metadata": {},
   "source": [
    "#### price特征：字符串转化为小数  表示住一晚上的价格"
   ]
  },
  {
   "cell_type": "code",
   "execution_count": 306,
   "metadata": {},
   "outputs": [],
   "source": [
    "df2[\"price\"]=df2.price.apply(lambda x:float(x[1:].replace(\",\",\"\")))"
   ]
  },
  {
   "cell_type": "code",
   "execution_count": 307,
   "metadata": {},
   "outputs": [
    {
     "data": {
      "text/plain": [
       "60.0     4308\n",
       "85.0     3809\n",
       "50.0     3805\n",
       "70.0     3257\n",
       "120.0    2897\n",
       "         ... \n",
       "622.0       1\n",
       "594.0       1\n",
       "561.0       1\n",
       "610.0       1\n",
       "384.0       1\n",
       "Name: price, Length: 543, dtype: int64"
      ]
     },
     "execution_count": 307,
     "metadata": {},
     "output_type": "execute_result"
    }
   ],
   "source": [
    "df2.price.value_counts()"
   ]
  },
  {
   "cell_type": "markdown",
   "metadata": {},
   "source": [
    "#### 'minimum_nights', 'maximum_nights', 'minimum_minimum_nights', 'maximum_minimum_nights' 等类似特征：删除相关程度高的特征"
   ]
  },
  {
   "cell_type": "code",
   "execution_count": 308,
   "metadata": {},
   "outputs": [],
   "source": [
    "df3=df[['minimum_nights',\n",
    "   'maximum_nights', 'minimum_minimum_nights', 'maximum_minimum_nights',\n",
    "   'minimum_maximum_nights', 'maximum_maximum_nights',\n",
    "   'minimum_nights_avg_ntm', 'maximum_nights_avg_ntm',]]"
   ]
  },
  {
   "cell_type": "code",
   "execution_count": 309,
   "metadata": {},
   "outputs": [
    {
     "data": {
      "text/html": [
       "<div>\n",
       "<style scoped>\n",
       "    .dataframe tbody tr th:only-of-type {\n",
       "        vertical-align: middle;\n",
       "    }\n",
       "\n",
       "    .dataframe tbody tr th {\n",
       "        vertical-align: top;\n",
       "    }\n",
       "\n",
       "    .dataframe thead th {\n",
       "        text-align: right;\n",
       "    }\n",
       "</style>\n",
       "<table border=\"1\" class=\"dataframe\">\n",
       "  <thead>\n",
       "    <tr style=\"text-align: right;\">\n",
       "      <th></th>\n",
       "      <th>minimum_nights</th>\n",
       "      <th>maximum_nights</th>\n",
       "      <th>minimum_minimum_nights</th>\n",
       "      <th>maximum_minimum_nights</th>\n",
       "      <th>minimum_maximum_nights</th>\n",
       "      <th>maximum_maximum_nights</th>\n",
       "      <th>minimum_nights_avg_ntm</th>\n",
       "      <th>maximum_nights_avg_ntm</th>\n",
       "    </tr>\n",
       "  </thead>\n",
       "  <tbody>\n",
       "    <tr>\n",
       "      <th>0</th>\n",
       "      <td>180</td>\n",
       "      <td>360</td>\n",
       "      <td>180</td>\n",
       "      <td>180</td>\n",
       "      <td>360</td>\n",
       "      <td>360</td>\n",
       "      <td>180.0</td>\n",
       "      <td>360.0</td>\n",
       "    </tr>\n",
       "    <tr>\n",
       "      <th>1</th>\n",
       "      <td>90</td>\n",
       "      <td>730</td>\n",
       "      <td>90</td>\n",
       "      <td>90</td>\n",
       "      <td>730</td>\n",
       "      <td>730</td>\n",
       "      <td>90.0</td>\n",
       "      <td>730.0</td>\n",
       "    </tr>\n",
       "  </tbody>\n",
       "</table>\n",
       "</div>"
      ],
      "text/plain": [
       "   minimum_nights  maximum_nights  minimum_minimum_nights  \\\n",
       "0             180             360                     180   \n",
       "1              90             730                      90   \n",
       "\n",
       "   maximum_minimum_nights  minimum_maximum_nights  maximum_maximum_nights  \\\n",
       "0                     180                     360                     360   \n",
       "1                      90                     730                     730   \n",
       "\n",
       "   minimum_nights_avg_ntm  maximum_nights_avg_ntm  \n",
       "0                   180.0                   360.0  \n",
       "1                    90.0                   730.0  "
      ]
     },
     "execution_count": 309,
     "metadata": {},
     "output_type": "execute_result"
    }
   ],
   "source": [
    "df3.head(2)"
   ]
  },
  {
   "cell_type": "code",
   "execution_count": 310,
   "metadata": {},
   "outputs": [
    {
     "data": {
      "text/plain": [
       "minimum_nights  maximum_nights  minimum_minimum_nights  maximum_minimum_nights  minimum_maximum_nights  maximum_maximum_nights  minimum_nights_avg_ntm  maximum_nights_avg_ntm\n",
       "False           False           False                   False                   False                   False                   False                   False                     155250\n",
       "dtype: int64"
      ]
     },
     "execution_count": 310,
     "metadata": {},
     "output_type": "execute_result"
    }
   ],
   "source": [
    "df3.isnull().value_counts() #震惊！没有缺失值"
   ]
  },
  {
   "cell_type": "code",
   "execution_count": 311,
   "metadata": {},
   "outputs": [],
   "source": [
    "corrMatrix=df3.corr()"
   ]
  },
  {
   "cell_type": "code",
   "execution_count": 312,
   "metadata": {},
   "outputs": [],
   "source": [
    "import seaborn as sn"
   ]
  },
  {
   "cell_type": "code",
   "execution_count": 313,
   "metadata": {},
   "outputs": [
    {
     "data": {
      "text/plain": [
       "<AxesSubplot:>"
      ]
     },
     "execution_count": 313,
     "metadata": {},
     "output_type": "execute_result"
    },
    {
     "data": {
      "image/png": "[encoded data removed]",
      "text/plain": [
       "<Figure size 432x288 with 2 Axes>"
      ]
     },
     "metadata": {
      "needs_background": "light"
     },
     "output_type": "display_data"
    }
   ],
   "source": [
    "sn.heatmap(corrMatrix,annot=True)"
   ]
  },
  {
   "cell_type": "markdown",
   "metadata": {},
   "source": [
    "我们发现 \"minimum_nights\"和'minimum_minimum_nights', 'maximum_minimum_nights'的关联程度特别高\n",
    "\n",
    "经过严谨的分析，我们保留三个特征：'minimum_nights', 'maximum_nights','maximum_nights_avg_ntm'\n",
    "\n",
    "因此删除'minimum_minimum_nights', 'maximum_minimum_nights','minimum_maximum_nights', 'maximum_maximum_nights',\n",
    "\n",
    "'minimum_nights_avg_ntm' 这些特征"
   ]
  },
  {
   "cell_type": "code",
   "execution_count": 314,
   "metadata": {},
   "outputs": [],
   "source": [
    "df2.drop(columns=['minimum_minimum_nights', 'maximum_minimum_nights',\n",
    "                  'minimum_maximum_nights', 'maximum_maximum_nights',\n",
    "                  'minimum_nights_avg_ntm'],inplace=True)"
   ]
  },
  {
   "cell_type": "markdown",
   "metadata": {},
   "source": [
    "####  'availability_30/60/90/365' 系列：整合成一个范围在(0,1)特征"
   ]
  },
  {
   "cell_type": "markdown",
   "metadata": {},
   "source": [
    "我们已经检查过了，没有缺失值"
   ]
  },
  {
   "cell_type": "code",
   "execution_count": 233,
   "metadata": {},
   "outputs": [],
   "source": [
    "df2.availability_30 = df2.availability_30/30\n",
    "df2.availability_60 = df2.availability_60/60\n",
    "df2.availability_90 = df2.availability_90/90\n",
    "df2.availability_365 = df2.availability_365/365"
   ]
  },
  {
   "cell_type": "code",
   "execution_count": 234,
   "metadata": {},
   "outputs": [],
   "source": [
    "df2[\"availability_average\"] = (df2.availability_30+df2.availability_60+df2.availability_90+df2.availability_365)/4"
   ]
  },
  {
   "cell_type": "markdown",
   "metadata": {},
   "source": [
    "然后删除 availability_30/60/90/365"
   ]
  },
  {
   "cell_type": "code",
   "execution_count": 239,
   "metadata": {},
   "outputs": [],
   "source": [
    "df2.drop(columns=[\"availability_30\",\"availability_60\",\"availability_90\",\"availability_365\"], inplace=True)"
   ]
  },
  {
   "cell_type": "markdown",
   "metadata": {},
   "source": [
    "#### number_of_reviews_ltm特征：表示这个房子火爆程度"
   ]
  },
  {
   "cell_type": "code",
   "execution_count": 243,
   "metadata": {
    "scrolled": true
   },
   "outputs": [
    {
     "data": {
      "text/plain": [
       "False    148162\n",
       "Name: number_of_reviews_ltm, dtype: int64"
      ]
     },
     "execution_count": 243,
     "metadata": {},
     "output_type": "execute_result"
    }
   ],
   "source": [
    "df2.number_of_reviews_ltm.isnull().value_counts()"
   ]
  },
  {
   "cell_type": "markdown",
   "metadata": {},
   "source": [
    "#### review_scores_rating系列：删除空值  并 整合这些特征feature cross <font color=#008000>(未完成)</font>"
   ]
  },
  {
   "cell_type": "code",
   "execution_count": 247,
   "metadata": {},
   "outputs": [
    {
     "data": {
      "text/plain": [
       "review_scores_rating\n",
       "False                   147875\n",
       "True                       287\n",
       "dtype: int64"
      ]
     },
     "execution_count": 247,
     "metadata": {},
     "output_type": "execute_result"
    }
   ],
   "source": [
    "df2[['review_scores_rating',\n",
    "       #'review_scores_accuracy', 'review_scores_cleanliness',\n",
    "       #'review_scores_checkin', 'review_scores_communication',\n",
    "       #'review_scores_location', 'review_scores_value'\n",
    "    ]].isnull().value_counts()"
   ]
  },
  {
   "cell_type": "markdown",
   "metadata": {},
   "source": [
    "我们发现缺失值较少，因此这些特征的空值的样本都删除"
   ]
  },
  {
   "cell_type": "code",
   "execution_count": 258,
   "metadata": {},
   "outputs": [],
   "source": [
    "df2.dropna(subset=['review_scores_rating','review_scores_accuracy', 'review_scores_cleanliness',\n",
    "       'review_scores_checkin', 'review_scores_communication',\n",
    "       'review_scores_location', 'review_scores_value'],inplace=True)"
   ]
  },
  {
   "cell_type": "code",
   "execution_count": 260,
   "metadata": {},
   "outputs": [
    {
     "data": {
      "text/plain": [
       "(147848, 55)"
      ]
     },
     "execution_count": 260,
     "metadata": {},
     "output_type": "execute_result"
    }
   ],
   "source": [
    "df2.shape"
   ]
  },
  {
   "cell_type": "markdown",
   "metadata": {},
   "source": [
    "#### instant_bookable特征 : 将T和F转化为数字"
   ]
  },
  {
   "cell_type": "code",
   "execution_count": 263,
   "metadata": {},
   "outputs": [
    {
     "data": {
      "text/plain": [
       "False    147848\n",
       "Name: instant_bookable, dtype: int64"
      ]
     },
     "execution_count": 263,
     "metadata": {},
     "output_type": "execute_result"
    }
   ],
   "source": [
    "df2.instant_bookable.isnull().value_counts()"
   ]
  },
  {
   "cell_type": "code",
   "execution_count": 264,
   "metadata": {},
   "outputs": [],
   "source": [
    "df2.instant_bookable=df2.instant_bookable.apply(lambda x:1 if x==\"t\" else 0)"
   ]
  },
  {
   "cell_type": "markdown",
   "metadata": {},
   "source": [
    "#### calculated_host_listings_count特征"
   ]
  },
  {
   "cell_type": "code",
   "execution_count": 268,
   "metadata": {},
   "outputs": [
    {
     "data": {
      "text/plain": [
       "False    147848\n",
       "Name: calculated_host_listings_count, dtype: int64"
      ]
     },
     "execution_count": 268,
     "metadata": {},
     "output_type": "execute_result"
    }
   ],
   "source": [
    "df2.calculated_host_listings_count.isnull().value_counts()"
   ]
  },
  {
   "cell_type": "markdown",
   "metadata": {},
   "source": [
    "#### reviews_per_month特征"
   ]
  },
  {
   "cell_type": "code",
   "execution_count": 271,
   "metadata": {
    "scrolled": false
   },
   "outputs": [
    {
     "data": {
      "text/plain": [
       "False    147848\n",
       "Name: reviews_per_month, dtype: int64"
      ]
     },
     "execution_count": 271,
     "metadata": {},
     "output_type": "execute_result"
    }
   ],
   "source": [
    "df2.reviews_per_month.isnull().value_counts()"
   ]
  },
  {
   "cell_type": "markdown",
   "metadata": {},
   "source": [
    "### 3.导出文件"
   ]
  },
  {
   "cell_type": "code",
   "execution_count": null,
   "metadata": {},
   "outputs": [],
   "source": [
    "df2.to_csv(\"customers_final_version.csv\",index=False)"
   ]
  }
 ],
 "metadata": {
  "kernelspec": {
   "display_name": "Python 3",
   "language": "python",
   "name": "python3"
  },
  "language_info": {
   "codemirror_mode": {
    "name": "ipython",
    "version": 3
   },
   "file_extension": ".py",
   "mimetype": "text/x-python",
   "name": "python",
   "nbconvert_exporter": "python",
   "pygments_lexer": "ipython3",
   "version": "3.8.5"
  }
 },
 "nbformat": 4,
 "nbformat_minor": 4
}
