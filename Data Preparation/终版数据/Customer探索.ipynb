{
 "cells": [
  {
   "cell_type": "code",
   "execution_count": 2,
   "metadata": {},
   "outputs": [],
   "source": [
    "import numpy as np\n",
    "import pandas as pd"
   ]
  },
  {
   "cell_type": "code",
   "execution_count": 3,
   "metadata": {},
   "outputs": [],
   "source": [
    "df=pd.read_csv(\"../原始数据/cleaned_senti_reviews.csv\")"
   ]
  },
  {
   "cell_type": "code",
   "execution_count": 4,
   "metadata": {},
   "outputs": [
    {
     "data": {
      "text/html": [
       "<div>\n",
       "<style scoped>\n",
       "    .dataframe tbody tr th:only-of-type {\n",
       "        vertical-align: middle;\n",
       "    }\n",
       "\n",
       "    .dataframe tbody tr th {\n",
       "        vertical-align: top;\n",
       "    }\n",
       "\n",
       "    .dataframe thead th {\n",
       "        text-align: right;\n",
       "    }\n",
       "</style>\n",
       "<table border=\"1\" class=\"dataframe\">\n",
       "  <thead>\n",
       "    <tr style=\"text-align: right;\">\n",
       "      <th></th>\n",
       "      <th>Unnamed: 0</th>\n",
       "      <th>reviewer_id</th>\n",
       "      <th>listing_id</th>\n",
       "      <th>date</th>\n",
       "      <th>reviewer_name</th>\n",
       "      <th>comments</th>\n",
       "      <th>name</th>\n",
       "      <th>description</th>\n",
       "      <th>neighborhood_overview</th>\n",
       "      <th>host_id</th>\n",
       "      <th>...</th>\n",
       "      <th>review_scores_cleanliness</th>\n",
       "      <th>review_scores_checkin</th>\n",
       "      <th>review_scores_communication</th>\n",
       "      <th>review_scores_location</th>\n",
       "      <th>review_scores_value</th>\n",
       "      <th>instant_bookable</th>\n",
       "      <th>calculated_host_listings_count</th>\n",
       "      <th>reviews_per_month</th>\n",
       "      <th>polarity_score</th>\n",
       "      <th>sentiment</th>\n",
       "    </tr>\n",
       "  </thead>\n",
       "  <tbody>\n",
       "    <tr>\n",
       "      <th>0</th>\n",
       "      <td>0</td>\n",
       "      <td>8557223</td>\n",
       "      <td>49091</td>\n",
       "      <td>2013-10-21</td>\n",
       "      <td>Jared</td>\n",
       "      <td>Fran was absolutely gracious and welcoming. Ma...</td>\n",
       "      <td>COZICOMFORT LONG TERM STAY ROOM 2</td>\n",
       "      <td>This is Room No. 2.(available after Jan 15 201...</td>\n",
       "      <td>NaN</td>\n",
       "      <td>266763</td>\n",
       "      <td>...</td>\n",
       "      <td>10.0</td>\n",
       "      <td>10.0</td>\n",
       "      <td>10.0</td>\n",
       "      <td>8.0</td>\n",
       "      <td>8.0</td>\n",
       "      <td>f</td>\n",
       "      <td>2</td>\n",
       "      <td>0.02</td>\n",
       "      <td>0.9615</td>\n",
       "      <td>pos</td>\n",
       "    </tr>\n",
       "    <tr>\n",
       "      <th>1</th>\n",
       "      <td>1</td>\n",
       "      <td>1356099</td>\n",
       "      <td>50646</td>\n",
       "      <td>2014-04-18</td>\n",
       "      <td>James</td>\n",
       "      <td>A comfortable room in a smart condo developmen...</td>\n",
       "      <td>Pleasant Room along Bukit Timah</td>\n",
       "      <td>Fully furnished bedroom with a nice view on th...</td>\n",
       "      <td>The serenity &amp; quiet surrounding makes it an i...</td>\n",
       "      <td>227796</td>\n",
       "      <td>...</td>\n",
       "      <td>10.0</td>\n",
       "      <td>10.0</td>\n",
       "      <td>10.0</td>\n",
       "      <td>9.0</td>\n",
       "      <td>9.0</td>\n",
       "      <td>f</td>\n",
       "      <td>1</td>\n",
       "      <td>0.30</td>\n",
       "      <td>0.9484</td>\n",
       "      <td>pos</td>\n",
       "    </tr>\n",
       "  </tbody>\n",
       "</table>\n",
       "<p>2 rows × 58 columns</p>\n",
       "</div>"
      ],
      "text/plain": [
       "   Unnamed: 0  reviewer_id  listing_id        date reviewer_name  \\\n",
       "0           0      8557223       49091  2013-10-21         Jared   \n",
       "1           1      1356099       50646  2014-04-18         James   \n",
       "\n",
       "                                            comments  \\\n",
       "0  Fran was absolutely gracious and welcoming. Ma...   \n",
       "1  A comfortable room in a smart condo developmen...   \n",
       "\n",
       "                                name  \\\n",
       "0  COZICOMFORT LONG TERM STAY ROOM 2   \n",
       "1    Pleasant Room along Bukit Timah   \n",
       "\n",
       "                                         description  \\\n",
       "0  This is Room No. 2.(available after Jan 15 201...   \n",
       "1  Fully furnished bedroom with a nice view on th...   \n",
       "\n",
       "                               neighborhood_overview  host_id  ...  \\\n",
       "0                                                NaN   266763  ...   \n",
       "1  The serenity & quiet surrounding makes it an i...   227796  ...   \n",
       "\n",
       "  review_scores_cleanliness review_scores_checkin review_scores_communication  \\\n",
       "0                      10.0                  10.0                        10.0   \n",
       "1                      10.0                  10.0                        10.0   \n",
       "\n",
       "  review_scores_location review_scores_value instant_bookable  \\\n",
       "0                    8.0                 8.0                f   \n",
       "1                    9.0                 9.0                f   \n",
       "\n",
       "  calculated_host_listings_count reviews_per_month polarity_score sentiment  \n",
       "0                              2              0.02         0.9615       pos  \n",
       "1                              1              0.30         0.9484       pos  \n",
       "\n",
       "[2 rows x 58 columns]"
      ]
     },
     "execution_count": 4,
     "metadata": {},
     "output_type": "execute_result"
    }
   ],
   "source": [
    "df.head(2)"
   ]
  },
  {
   "cell_type": "markdown",
   "metadata": {},
   "source": [
    "### 1. 筛选特征 "
   ]
  },
  {
   "cell_type": "markdown",
   "metadata": {},
   "source": [
    "#### 1.1 主观筛选 "
   ]
  },
  {
   "cell_type": "code",
   "execution_count": 5,
   "metadata": {},
   "outputs": [],
   "source": [
    "delete_columns=['reviewer_name','name','neighborhood_overview','host_id','host_about','host_neighbourhood',\n",
    "                'host_has_profile_pic', 'host_identity_verified','neighbourhood_cleansed', 'neighbourhood_group_cleansed',\n",
    "                'calendar_updated','number_of_reviews'\n",
    "               ]"
   ]
  },
  {
   "cell_type": "code",
   "execution_count": 6,
   "metadata": {},
   "outputs": [],
   "source": [
    "df2=df.drop(delete_columns,axis=1)"
   ]
  },
  {
   "cell_type": "markdown",
   "metadata": {},
   "source": [
    "#### 1.2 客观筛选：测试和sentimental score的correlation   <font color=#008000>未完成</font>"
   ]
  },
  {
   "cell_type": "markdown",
   "metadata": {},
   "source": [
    "### 2. 处理特征 "
   ]
  },
  {
   "cell_type": "markdown",
   "metadata": {},
   "source": [
    "#### date特征转化为date_time类型"
   ]
  },
  {
   "cell_type": "code",
   "execution_count": 7,
   "metadata": {},
   "outputs": [],
   "source": [
    "df2[\"date\"]=pd.to_datetime(df2.date)"
   ]
  },
  {
   "cell_type": "markdown",
   "metadata": {},
   "source": [
    "#### 删除comments空值"
   ]
  },
  {
   "cell_type": "code",
   "execution_count": 8,
   "metadata": {},
   "outputs": [],
   "source": [
    "df2.dropna(subset=[\"comments\"],inplace=True)"
   ]
  },
  {
   "cell_type": "markdown",
   "metadata": {},
   "source": [
    "#### price特征：字符串转化为小数  表示住一晚上的价格"
   ]
  },
  {
   "cell_type": "code",
   "execution_count": 9,
   "metadata": {},
   "outputs": [],
   "source": [
    "df2[\"price\"]=df2.price.apply(lambda x:float(x[1:].replace(\",\",\"\")))"
   ]
  },
  {
   "cell_type": "code",
   "execution_count": 10,
   "metadata": {
    "scrolled": true
   },
   "outputs": [
    {
     "data": {
      "text/plain": [
       "60.0      4112\n",
       "50.0      3543\n",
       "85.0      3445\n",
       "70.0      2775\n",
       "120.0     2632\n",
       "          ... \n",
       "396.0        1\n",
       "433.0        1\n",
       "2943.0       1\n",
       "530.0        1\n",
       "597.0        1\n",
       "Name: price, Length: 545, dtype: int64"
      ]
     },
     "execution_count": 10,
     "metadata": {},
     "output_type": "execute_result"
    }
   ],
   "source": [
    "df2.price.value_counts()"
   ]
  },
  {
   "cell_type": "markdown",
   "metadata": {},
   "source": [
    "#### review_scores_rating系列：删除空值  并 整合这些特征feature cross <font color=#008000>(未完成)</font>"
   ]
  },
  {
   "cell_type": "code",
   "execution_count": 11,
   "metadata": {},
   "outputs": [
    {
     "data": {
      "text/plain": [
       "review_scores_rating\n",
       "False                   130628\n",
       "True                         4\n",
       "dtype: int64"
      ]
     },
     "execution_count": 11,
     "metadata": {},
     "output_type": "execute_result"
    }
   ],
   "source": [
    "df2[['review_scores_rating',\n",
    "       #'review_scores_accuracy', 'review_scores_cleanliness',\n",
    "       #'review_scores_checkin', 'review_scores_communication',\n",
    "       #'review_scores_location', 'review_scores_value'\n",
    "    ]].isnull().value_counts()"
   ]
  },
  {
   "cell_type": "markdown",
   "metadata": {},
   "source": [
    "我们发现缺失值较少，因此这些特征的空值的样本都删除"
   ]
  },
  {
   "cell_type": "code",
   "execution_count": 12,
   "metadata": {},
   "outputs": [],
   "source": [
    "df2.dropna(subset=['review_scores_rating','review_scores_accuracy', 'review_scores_cleanliness',\n",
    "       'review_scores_checkin', 'review_scores_communication',\n",
    "       'review_scores_location', 'review_scores_value'],inplace=True)"
   ]
  },
  {
   "cell_type": "code",
   "execution_count": 13,
   "metadata": {},
   "outputs": [
    {
     "data": {
      "text/plain": [
       "(130602, 46)"
      ]
     },
     "execution_count": 13,
     "metadata": {},
     "output_type": "execute_result"
    }
   ],
   "source": [
    "df2.shape"
   ]
  },
  {
   "cell_type": "markdown",
   "metadata": {},
   "source": [
    "### 3. 提取最终特征"
   ]
  },
  {
   "cell_type": "code",
   "execution_count": 14,
   "metadata": {},
   "outputs": [],
   "source": [
    "feature_selected=['reviewer_id', 'listing_id', 'date', 'comments', 'price',\n",
    "                  'review_scores_rating','review_scores_accuracy', 'review_scores_cleanliness',\n",
    "                  'review_scores_checkin', 'review_scores_communication','review_scores_location',\n",
    "                  'review_scores_value']"
   ]
  },
  {
   "cell_type": "code",
   "execution_count": 15,
   "metadata": {},
   "outputs": [],
   "source": [
    "customers=df2[feature_selected]"
   ]
  },
  {
   "cell_type": "code",
   "execution_count": 16,
   "metadata": {
    "scrolled": true
   },
   "outputs": [
    {
     "data": {
      "text/html": [
       "<div>\n",
       "<style scoped>\n",
       "    .dataframe tbody tr th:only-of-type {\n",
       "        vertical-align: middle;\n",
       "    }\n",
       "\n",
       "    .dataframe tbody tr th {\n",
       "        vertical-align: top;\n",
       "    }\n",
       "\n",
       "    .dataframe thead th {\n",
       "        text-align: right;\n",
       "    }\n",
       "</style>\n",
       "<table border=\"1\" class=\"dataframe\">\n",
       "  <thead>\n",
       "    <tr style=\"text-align: right;\">\n",
       "      <th></th>\n",
       "      <th>reviewer_id</th>\n",
       "      <th>listing_id</th>\n",
       "      <th>date</th>\n",
       "      <th>comments</th>\n",
       "      <th>price</th>\n",
       "      <th>review_scores_rating</th>\n",
       "      <th>review_scores_accuracy</th>\n",
       "      <th>review_scores_cleanliness</th>\n",
       "      <th>review_scores_checkin</th>\n",
       "      <th>review_scores_communication</th>\n",
       "      <th>review_scores_location</th>\n",
       "      <th>review_scores_value</th>\n",
       "    </tr>\n",
       "  </thead>\n",
       "  <tbody>\n",
       "    <tr>\n",
       "      <th>0</th>\n",
       "      <td>8557223</td>\n",
       "      <td>49091</td>\n",
       "      <td>2013-10-21</td>\n",
       "      <td>Fran was absolutely gracious and welcoming. Ma...</td>\n",
       "      <td>81.0</td>\n",
       "      <td>94.0</td>\n",
       "      <td>10.0</td>\n",
       "      <td>10.0</td>\n",
       "      <td>10.0</td>\n",
       "      <td>10.0</td>\n",
       "      <td>8.0</td>\n",
       "      <td>8.0</td>\n",
       "    </tr>\n",
       "    <tr>\n",
       "      <th>1</th>\n",
       "      <td>1356099</td>\n",
       "      <td>50646</td>\n",
       "      <td>2014-04-18</td>\n",
       "      <td>A comfortable room in a smart condo developmen...</td>\n",
       "      <td>80.0</td>\n",
       "      <td>91.0</td>\n",
       "      <td>9.0</td>\n",
       "      <td>10.0</td>\n",
       "      <td>10.0</td>\n",
       "      <td>10.0</td>\n",
       "      <td>9.0</td>\n",
       "      <td>9.0</td>\n",
       "    </tr>\n",
       "  </tbody>\n",
       "</table>\n",
       "</div>"
      ],
      "text/plain": [
       "   reviewer_id  listing_id       date  \\\n",
       "0      8557223       49091 2013-10-21   \n",
       "1      1356099       50646 2014-04-18   \n",
       "\n",
       "                                            comments  price  \\\n",
       "0  Fran was absolutely gracious and welcoming. Ma...   81.0   \n",
       "1  A comfortable room in a smart condo developmen...   80.0   \n",
       "\n",
       "   review_scores_rating  review_scores_accuracy  review_scores_cleanliness  \\\n",
       "0                  94.0                    10.0                       10.0   \n",
       "1                  91.0                     9.0                       10.0   \n",
       "\n",
       "   review_scores_checkin  review_scores_communication  review_scores_location  \\\n",
       "0                   10.0                         10.0                     8.0   \n",
       "1                   10.0                         10.0                     9.0   \n",
       "\n",
       "   review_scores_value  \n",
       "0                  8.0  \n",
       "1                  9.0  "
      ]
     },
     "execution_count": 16,
     "metadata": {},
     "output_type": "execute_result"
    }
   ],
   "source": [
    "customers.head(2)"
   ]
  },
  {
   "cell_type": "code",
   "execution_count": 17,
   "metadata": {},
   "outputs": [
    {
     "data": {
      "text/plain": [
       "(130602, 12)"
      ]
     },
     "execution_count": 17,
     "metadata": {},
     "output_type": "execute_result"
    }
   ],
   "source": [
    "customers.shape"
   ]
  },
  {
   "cell_type": "markdown",
   "metadata": {},
   "source": [
    "### 3.导出文件"
   ]
  },
  {
   "cell_type": "code",
   "execution_count": 18,
   "metadata": {},
   "outputs": [],
   "source": [
    "customers.to_csv(\"../终版数据/customers_final_version.csv\",index=False)"
   ]
  }
 ],
 "metadata": {
  "kernelspec": {
   "display_name": "Python 3",
   "language": "python",
   "name": "python3"
  },
  "language_info": {
   "codemirror_mode": {
    "name": "ipython",
    "version": 3
   },
   "file_extension": ".py",
   "mimetype": "text/x-python",
   "name": "python",
   "nbconvert_exporter": "python",
   "pygments_lexer": "ipython3",
   "version": "3.8.5"
  },
  "toc": {
   "base_numbering": 1,
   "nav_menu": {},
   "number_sections": false,
   "sideBar": true,
   "skip_h1_title": false,
   "title_cell": "Table of Contents",
   "title_sidebar": "Contents",
   "toc_cell": false,
   "toc_position": {},
   "toc_section_display": true,
   "toc_window_display": false
  }
 },
 "nbformat": 4,
 "nbformat_minor": 4
}
