{
  "nbformat": 4,
  "nbformat_minor": 0,
  "metadata": {
    "kernelspec": {
      "display_name": "Python 3.8.3 64-bit",
      "language": "python",
      "name": "python38364bit0fdf2f9f8d9d45569cfda80e335dcfb9"
    },
    "language_info": {
      "codemirror_mode": {
        "name": "ipython",
        "version": 3
      },
      "file_extension": ".py",
      "mimetype": "text/x-python",
      "name": "python",
      "nbconvert_exporter": "python",
      "pygments_lexer": "ipython3",
      "version": "3.8.3"
    },
    "colab": {
      "name": "NLP on Customer Comments.ipynb",
      "provenance": [],
      "toc_visible": true,
      "include_colab_link": true
    },
    "accelerator": "GPU"
  },
  "cells": [
    {
      "cell_type": "markdown",
      "metadata": {
        "id": "view-in-github",
        "colab_type": "text"
      },
      "source": [
        "<a href=\"https://colab.research.google.com/github/Jiatong-han/Recommendation-System-for-Airbnb-Houses/blob/bingqiao/Recommendation-System-for-Airbnb-Houses/Data%20Preparation/%E5%8E%9F%E5%A7%8B%E6%95%B0%E6%8D%AE/NLP_on_Customer_Comments.ipynb\" target=\"_parent\"><img src=\"https://colab.research.google.com/assets/colab-badge.svg\" alt=\"Open In Colab\"/></a>"
      ]
    },
    {
      "cell_type": "code",
      "metadata": {
        "id": "UI09tw2EntvK"
      },
      "source": [
        "import numpy as np\n",
        "import pandas as pd\n",
        "import matplotlib.pyplot as plt\n",
        "import string\n",
        "import nltk"
      ],
      "execution_count": 1,
      "outputs": []
    },
    {
      "cell_type": "code",
      "metadata": {
        "colab": {
          "base_uri": "https://localhost:8080/"
        },
        "id": "0ckGudB0pz5A",
        "outputId": "1bae14eb-9b2b-49c1-9bdc-28f1f3204f94"
      },
      "source": [
        "from google.colab import drive\n",
        "drive.mount('/content/drive')"
      ],
      "execution_count": 3,
      "outputs": [
        {
          "output_type": "stream",
          "text": [
            "Mounted at /content/drive\n"
          ],
          "name": "stdout"
        }
      ]
    },
    {
      "cell_type": "code",
      "metadata": {
        "colab": {
          "base_uri": "https://localhost:8080/"
        },
        "id": "lAJtM0cqqpM8",
        "outputId": "4034c98e-f08b-451d-be82-102674b5b47d"
      },
      "source": [
        "nltk.download('stopwords')\n",
        "nltk.download('averaged_perceptron_tagger')\n",
        "nltk.download('wordnet')\n",
        "nltk.download('vader_lexicon')"
      ],
      "execution_count": 63,
      "outputs": [
        {
          "output_type": "stream",
          "text": [
            "[nltk_data] Downloading package stopwords to /root/nltk_data...\n",
            "[nltk_data]   Package stopwords is already up-to-date!\n",
            "[nltk_data] Downloading package averaged_perceptron_tagger to\n",
            "[nltk_data]     /root/nltk_data...\n",
            "[nltk_data]   Package averaged_perceptron_tagger is already up-to-\n",
            "[nltk_data]       date!\n",
            "[nltk_data] Downloading package wordnet to /root/nltk_data...\n",
            "[nltk_data]   Package wordnet is already up-to-date!\n",
            "[nltk_data] Downloading package vader_lexicon to /root/nltk_data...\n"
          ],
          "name": "stdout"
        },
        {
          "output_type": "execute_result",
          "data": {
            "text/plain": [
              "True"
            ]
          },
          "metadata": {
            "tags": []
          },
          "execution_count": 63
        }
      ]
    },
    {
      "cell_type": "code",
      "metadata": {
        "id": "maEn1uubntvM"
      },
      "source": [
        "df = pd.read_csv('drive/My Drive/Data/cleaned_customer.csv')"
      ],
      "execution_count": 6,
      "outputs": []
    },
    {
      "cell_type": "code",
      "metadata": {
        "scrolled": true,
        "id": "YipsF3AcntvN"
      },
      "source": [
        "df.head()"
      ],
      "execution_count": null,
      "outputs": []
    },
    {
      "cell_type": "code",
      "metadata": {
        "scrolled": true,
        "id": "QMtIoVtQntvN"
      },
      "source": [
        "df.comments.isna().value_counts()"
      ],
      "execution_count": null,
      "outputs": []
    },
    {
      "cell_type": "code",
      "metadata": {
        "id": "RDV68rUzntvN"
      },
      "source": [
        "df.comments.fillna('',inplace=True)"
      ],
      "execution_count": 7,
      "outputs": []
    },
    {
      "cell_type": "markdown",
      "metadata": {
        "id": "mOoMzOg59Tzq"
      },
      "source": [
        "### 1. Using Vader Model"
      ]
    },
    {
      "cell_type": "markdown",
      "metadata": {
        "id": "n_4UHQwRHIr8"
      },
      "source": [
        "#### 1.1 Raw model performance"
      ]
    },
    {
      "cell_type": "code",
      "metadata": {
        "id": "gXFqgX1dHClX"
      },
      "source": [
        "from nltk.sentiment.vader import SentimentIntensityAnalyzer\n",
        "sid = SentimentIntensityAnalyzer()\n",
        "def get_sentiment(sentence,sid):\n",
        "    score = sid.polarity_scores(sentence)\n",
        "    compound = score.get('compound')\n",
        "    return compound\n",
        "sid_score = df.comments.apply(lambda x : get_sentiment(x,sid))"
      ],
      "execution_count": 82,
      "outputs": []
    },
    {
      "cell_type": "code",
      "metadata": {
        "id": "tI_gwJyHHPsr"
      },
      "source": [
        "# Check performance\n",
        "import scipy.stats\n",
        "\n",
        "def perform(score):\n",
        "  res = scipy.stats.pearsonr(score[df.review_scores_rating.notnull()], df.review_scores_rating.dropna())\n",
        "  print('Correlation coefficient:',res[0],'; P value:',res[1])"
      ],
      "execution_count": 117,
      "outputs": []
    },
    {
      "cell_type": "code",
      "metadata": {
        "colab": {
          "base_uri": "https://localhost:8080/"
        },
        "id": "6lrHO-M3Njg5",
        "outputId": "5e08e188-ca5a-4d8a-8fd2-70f63f4d3465"
      },
      "source": [
        "perform(sid_score)"
      ],
      "execution_count": 116,
      "outputs": [
        {
          "output_type": "stream",
          "text": [
            "Correlation coefficient: 0.19071607353248088 , P value: 0.0\n"
          ],
          "name": "stdout"
        }
      ]
    },
    {
      "cell_type": "markdown",
      "metadata": {
        "id": "iyli7ANDI_4N"
      },
      "source": [
        "##### The correlation is significant yet the coefficient is relatively small."
      ]
    },
    {
      "cell_type": "markdown",
      "metadata": {
        "id": "QW66IEi_IQTV"
      },
      "source": [
        "#### 1.2 Train the model"
      ]
    },
    {
      "cell_type": "code",
      "metadata": {
        "id": "E_h5T4WV9iss"
      },
      "source": [
        "sid_new = SentimentIntensityAnalyzer()\n",
        "newWords = {'amenities': 0.5, 'big': 0.5, 'bus': 0.5,'near':0.5,'nearby':0.5,'quiet':0.5,'quick':0.5,'spacious':0.5,'mrt':0.5,'station':0.5,'walking':0.5,'walk':0.5,'restaurant':0.5,'responsive':0.5,'shopping':0.5,'short':0.5,\n",
        "    'pool':0.5,'kitchen':0.5,'food':0.5,'family':0.5,'distance':0.5,'close':0.5,'communication':0.5}\n",
        "sid_new.lexicon.update(newWords)"
      ],
      "execution_count": 126,
      "outputs": []
    },
    {
      "cell_type": "code",
      "metadata": {
        "colab": {
          "base_uri": "https://localhost:8080/"
        },
        "id": "MRNXiPehLe2Q",
        "outputId": "bd4ab785-1ab9-4864-f286-b7b52bb4cb28"
      },
      "source": [
        "get_sentiment('good amenities',sid_new)"
      ],
      "execution_count": 110,
      "outputs": [
        {
          "output_type": "execute_result",
          "data": {
            "text/plain": [
              "0.5267"
            ]
          },
          "metadata": {
            "tags": []
          },
          "execution_count": 110
        }
      ]
    },
    {
      "cell_type": "code",
      "metadata": {
        "id": "gRkYFWSHFKd8"
      },
      "source": [
        "sid_score_updated = df.comments.apply(lambda x : get_sentiment(x,sid_new))"
      ],
      "execution_count": 127,
      "outputs": []
    },
    {
      "cell_type": "code",
      "metadata": {
        "colab": {
          "base_uri": "https://localhost:8080/"
        },
        "id": "ZLWgUEKEQXlF",
        "outputId": "74b6a45b-5b4e-4219-bd18-e27551f45871"
      },
      "source": [
        "sid_score_updated.describe()"
      ],
      "execution_count": 130,
      "outputs": [
        {
          "output_type": "execute_result",
          "data": {
            "text/plain": [
              "count    155250.000000\n",
              "mean          0.645265\n",
              "std           0.402035\n",
              "min          -0.998300\n",
              "25%           0.440400\n",
              "50%           0.839500\n",
              "75%           0.945400\n",
              "max           0.999700\n",
              "Name: comments, dtype: float64"
            ]
          },
          "metadata": {
            "tags": []
          },
          "execution_count": 130
        }
      ]
    },
    {
      "cell_type": "code",
      "metadata": {
        "colab": {
          "base_uri": "https://localhost:8080/"
        },
        "id": "pc7Rguv-F8rF",
        "outputId": "3761be96-99f2-43c3-a49c-499f33a2b376"
      },
      "source": [
        "perform(sid_score_updated)"
      ],
      "execution_count": 128,
      "outputs": [
        {
          "output_type": "stream",
          "text": [
            "Correlation coefficient: 0.17954210721681987 ; P value: 0.0\n"
          ],
          "name": "stdout"
        }
      ]
    },
    {
      "cell_type": "markdown",
      "metadata": {
        "id": "Khy6Ru0sQI-l"
      },
      "source": [
        "#### 2.3 Detailed analysis"
      ]
    },
    {
      "cell_type": "code",
      "metadata": {
        "colab": {
          "base_uri": "https://localhost:8080/"
        },
        "id": "jqstLTheQLxC",
        "outputId": "e5ba85ed-5908-49cf-cfcc-b1dd87763411"
      },
      "source": [
        "df.comments[sid_score_updated < -0.5].sample(1)"
      ],
      "execution_count": 133,
      "outputs": [
        {
          "output_type": "execute_result",
          "data": {
            "text/plain": [
              "22736    Yanhong und ihr Partner sind ein sehr nettes P...\n",
              "Name: comments, dtype: object"
            ]
          },
          "metadata": {
            "tags": []
          },
          "execution_count": 133
        }
      ]
    },
    {
      "cell_type": "markdown",
      "metadata": {
        "id": "dOkhxWlsntvP"
      },
      "source": [
        "### 2. Using Afinn for sentiment analysis\n",
        "Afinn measures the sentiment score (-5 to 5) for each single word. But it does not consider word combinations."
      ]
    },
    {
      "cell_type": "code",
      "metadata": {
        "id": "O9AgdUgOntvP",
        "colab": {
          "base_uri": "https://localhost:8080/"
        },
        "outputId": "91d3a104-7a19-4ca2-b048-4459044739f4"
      },
      "source": [
        "!pip install afinn\n",
        "from afinn import Afinn"
      ],
      "execution_count": 121,
      "outputs": [
        {
          "output_type": "stream",
          "text": [
            "Collecting afinn\n",
            "\u001b[?25l  Downloading https://files.pythonhosted.org/packages/86/e5/ffbb7ee3cca21ac6d310ac01944fb163c20030b45bda25421d725d8a859a/afinn-0.1.tar.gz (52kB)\n",
            "\r\u001b[K     |██████▎                         | 10kB 25.4MB/s eta 0:00:01\r\u001b[K     |████████████▌                   | 20kB 30.7MB/s eta 0:00:01\r\u001b[K     |██████████████████▊             | 30kB 21.9MB/s eta 0:00:01\r\u001b[K     |█████████████████████████       | 40kB 25.6MB/s eta 0:00:01\r\u001b[K     |███████████████████████████████▏| 51kB 25.3MB/s eta 0:00:01\r\u001b[K     |████████████████████████████████| 61kB 8.2MB/s \n",
            "\u001b[?25hBuilding wheels for collected packages: afinn\n",
            "  Building wheel for afinn (setup.py) ... \u001b[?25l\u001b[?25hdone\n",
            "  Created wheel for afinn: filename=afinn-0.1-cp37-none-any.whl size=53451 sha256=bad7d7e8a939673f7429bc4e95e46f2516ad1d0fc4e46498a36245937588934b\n",
            "  Stored in directory: /root/.cache/pip/wheels/b5/1c/de/428301f3333ca509dcf20ff358690eb23a1388fbcbbde008b2\n",
            "Successfully built afinn\n",
            "Installing collected packages: afinn\n",
            "Successfully installed afinn-0.1\n"
          ],
          "name": "stdout"
        }
      ]
    },
    {
      "cell_type": "code",
      "metadata": {
        "scrolled": true,
        "id": "c-H1J1sZntvQ"
      },
      "source": [
        "afinn = Afinn()\n",
        "afinn_score = np.array([afinn.score(text) for text in df.comments])"
      ],
      "execution_count": 124,
      "outputs": []
    },
    {
      "cell_type": "code",
      "metadata": {
        "scrolled": false,
        "id": "KclXDssyntvQ"
      },
      "source": [
        "pd.DataFrame(afinn_score).describe()"
      ],
      "execution_count": null,
      "outputs": []
    },
    {
      "cell_type": "code",
      "metadata": {
        "scrolled": true,
        "id": "Vjl7Wz8gntvQ"
      },
      "source": [
        "df[afinn_score < -30].comments"
      ],
      "execution_count": null,
      "outputs": []
    },
    {
      "cell_type": "markdown",
      "metadata": {
        "id": "3jGH2jvKntvQ"
      },
      "source": [
        "#### Discovery: It seems that most of the extremely low-rated comments are written in German. But Afinn hasn't yet been equipped to understand German words."
      ]
    },
    {
      "cell_type": "code",
      "metadata": {
        "scrolled": true,
        "id": "IFaVY8kintvQ"
      },
      "source": [
        "df[afinn_score > 70].comments"
      ],
      "execution_count": null,
      "outputs": []
    },
    {
      "cell_type": "markdown",
      "metadata": {
        "id": "2Pzfq9a9ntvR"
      },
      "source": [
        "#### There seems to be no much problem with extremely highly rated comments."
      ]
    },
    {
      "cell_type": "code",
      "metadata": {
        "colab": {
          "base_uri": "https://localhost:8080/"
        },
        "id": "jCdSONjCN_i0",
        "outputId": "ecf6623e-e26c-4ed4-bf06-76063b60ac59"
      },
      "source": [
        "perform(afinn_score)"
      ],
      "execution_count": 125,
      "outputs": [
        {
          "output_type": "stream",
          "text": [
            "Correlation coefficient: 0.18179259638672068 ; P value: 0.0\n"
          ],
          "name": "stdout"
        }
      ]
    },
    {
      "cell_type": "markdown",
      "metadata": {
        "id": "bvK2qrcDntvR"
      },
      "source": [
        "### 3. Using Textblob for sentiment analysis\n",
        "\n",
        "#### Features of Textblob\n",
        "\n",
        "1. Textblob measures polarity score between -1 and 1, negative to postive. \n",
        "2. Ignore the words it does not know.\n",
        "3. Can also measure the subjectivity score."
      ]
    },
    {
      "cell_type": "code",
      "metadata": {
        "id": "m-DUQ2bSntvR",
        "colab": {
          "base_uri": "https://localhost:8080/"
        },
        "outputId": "1651ac37-c4db-4e77-896c-ff656bce3d52"
      },
      "source": [
        "from textblob import TextBlob\n",
        "TextBlob('Hi you are ugly').sentiment"
      ],
      "execution_count": 33,
      "outputs": [
        {
          "output_type": "execute_result",
          "data": {
            "text/plain": [
              "Sentiment(polarity=-0.7, subjectivity=1.0)"
            ]
          },
          "metadata": {
            "tags": []
          },
          "execution_count": 33
        }
      ]
    },
    {
      "cell_type": "code",
      "metadata": {
        "id": "8xlpv76r4ZE1"
      },
      "source": [
        "textblob_score = np.array([TextBlob(text).sentiment for text in df.comments])"
      ],
      "execution_count": 134,
      "outputs": []
    },
    {
      "cell_type": "code",
      "metadata": {
        "colab": {
          "base_uri": "https://localhost:8080/"
        },
        "id": "gAM6m5VUSAOu",
        "outputId": "6889ebf3-444d-4a17-a314-620535d1e1db"
      },
      "source": [
        "textblob_score"
      ],
      "execution_count": 136,
      "outputs": [
        {
          "output_type": "execute_result",
          "data": {
            "text/plain": [
              "array([[0.21      , 0.68      ],\n",
              "       [0.49640873, 0.79214286],\n",
              "       [0.45888889, 0.58655556],\n",
              "       ...,\n",
              "       [0.6       , 1.        ],\n",
              "       [0.        , 0.        ],\n",
              "       [0.35      , 0.66666667]])"
            ]
          },
          "metadata": {
            "tags": []
          },
          "execution_count": 136
        }
      ]
    }
  ]
}