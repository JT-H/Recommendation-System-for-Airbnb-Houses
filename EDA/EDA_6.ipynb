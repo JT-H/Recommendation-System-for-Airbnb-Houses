{
  "nbformat": 4,
  "nbformat_minor": 0,
  "metadata": {
    "colab": {
      "name": "EDA-6.ipynb",
      "provenance": [],
      "collapsed_sections": []
    },
    "kernelspec": {
      "name": "python3",
      "display_name": "Python 3"
    }
  },
  "cells": [
    {
      "cell_type": "markdown",
      "metadata": {
        "id": "GNxl7r8g32Vp"
      },
      "source": [
        "# **EDA-6**"
      ]
    },
    {
      "cell_type": "code",
      "metadata": {
        "colab": {
          "base_uri": "https://localhost:8080/"
        },
        "id": "nAsyvOBCiucx",
        "outputId": "a8262b24-c24f-4b20-b119-7074894327bd"
      },
      "source": [
        "import pandas as pd\r\n",
        "# mount google drive\r\n",
        "from google.colab import drive\r\n",
        "drive.mount('/content/drive')"
      ],
      "execution_count": 126,
      "outputs": [
        {
          "output_type": "stream",
          "text": [
            "Drive already mounted at /content/drive; to attempt to forcibly remount, call drive.mount(\"/content/drive\", force_remount=True).\n"
          ],
          "name": "stdout"
        }
      ]
    },
    {
      "cell_type": "code",
      "metadata": {
        "id": "FFQ8In4e4e64"
      },
      "source": [
        "import matplotlib.pyplot as plt"
      ],
      "execution_count": 127,
      "outputs": []
    },
    {
      "cell_type": "markdown",
      "metadata": {
        "id": "uNjEKm3h95eU"
      },
      "source": [
        "#### 导入reviews数据"
      ]
    },
    {
      "cell_type": "code",
      "metadata": {
        "id": "t6Kwxdu4osIY"
      },
      "source": [
        "all_reviews = pd.read_csv('/content/drive/My Drive/data/data/2020-12/reviews.csv')"
      ],
      "execution_count": 94,
      "outputs": []
    },
    {
      "cell_type": "code",
      "metadata": {
        "colab": {
          "base_uri": "https://localhost:8080/",
          "height": 204
        },
        "id": "3RZKEeWR2iB1",
        "outputId": "6d698034-a543-492a-ed6d-27d6619e1a92"
      },
      "source": [
        "all_reviews.head()"
      ],
      "execution_count": 95,
      "outputs": [
        {
          "output_type": "execute_result",
          "data": {
            "text/html": [
              "<div>\n",
              "<style scoped>\n",
              "    .dataframe tbody tr th:only-of-type {\n",
              "        vertical-align: middle;\n",
              "    }\n",
              "\n",
              "    .dataframe tbody tr th {\n",
              "        vertical-align: top;\n",
              "    }\n",
              "\n",
              "    .dataframe thead th {\n",
              "        text-align: right;\n",
              "    }\n",
              "</style>\n",
              "<table border=\"1\" class=\"dataframe\">\n",
              "  <thead>\n",
              "    <tr style=\"text-align: right;\">\n",
              "      <th></th>\n",
              "      <th>listing_id</th>\n",
              "      <th>id</th>\n",
              "      <th>date</th>\n",
              "      <th>reviewer_id</th>\n",
              "      <th>reviewer_name</th>\n",
              "      <th>comments</th>\n",
              "    </tr>\n",
              "  </thead>\n",
              "  <tbody>\n",
              "    <tr>\n",
              "      <th>0</th>\n",
              "      <td>49091</td>\n",
              "      <td>8243238</td>\n",
              "      <td>2013-10-21</td>\n",
              "      <td>8557223</td>\n",
              "      <td>Jared</td>\n",
              "      <td>Fran was absolutely gracious and welcoming. Ma...</td>\n",
              "    </tr>\n",
              "    <tr>\n",
              "      <th>1</th>\n",
              "      <td>50646</td>\n",
              "      <td>11909864</td>\n",
              "      <td>2014-04-18</td>\n",
              "      <td>1356099</td>\n",
              "      <td>James</td>\n",
              "      <td>A comfortable room in a smart condo developmen...</td>\n",
              "    </tr>\n",
              "    <tr>\n",
              "      <th>2</th>\n",
              "      <td>50646</td>\n",
              "      <td>13823948</td>\n",
              "      <td>2014-06-05</td>\n",
              "      <td>15222393</td>\n",
              "      <td>Welli</td>\n",
              "      <td>Stayed over at Sujatha's house for 3 good nigh...</td>\n",
              "    </tr>\n",
              "    <tr>\n",
              "      <th>3</th>\n",
              "      <td>50646</td>\n",
              "      <td>15117222</td>\n",
              "      <td>2014-07-02</td>\n",
              "      <td>5543172</td>\n",
              "      <td>Cyril</td>\n",
              "      <td>It's been a lovely stay at Sujatha's. The room...</td>\n",
              "    </tr>\n",
              "    <tr>\n",
              "      <th>4</th>\n",
              "      <td>50646</td>\n",
              "      <td>15426462</td>\n",
              "      <td>2014-07-08</td>\n",
              "      <td>817532</td>\n",
              "      <td>Jake</td>\n",
              "      <td>We had a great experience. A nice place, an am...</td>\n",
              "    </tr>\n",
              "  </tbody>\n",
              "</table>\n",
              "</div>"
            ],
            "text/plain": [
              "   listing_id  ...                                           comments\n",
              "0       49091  ...  Fran was absolutely gracious and welcoming. Ma...\n",
              "1       50646  ...  A comfortable room in a smart condo developmen...\n",
              "2       50646  ...  Stayed over at Sujatha's house for 3 good nigh...\n",
              "3       50646  ...  It's been a lovely stay at Sujatha's. The room...\n",
              "4       50646  ...  We had a great experience. A nice place, an am...\n",
              "\n",
              "[5 rows x 6 columns]"
            ]
          },
          "metadata": {
            "tags": []
          },
          "execution_count": 95
        }
      ]
    },
    {
      "cell_type": "markdown",
      "metadata": {
        "id": "1m7nfQqt-GMU"
      },
      "source": [
        "#### 将date转为datetime数据后，分离成年月日"
      ]
    },
    {
      "cell_type": "code",
      "metadata": {
        "id": "VVDu_ViW3VKB"
      },
      "source": [
        "all_reviews['date'] = pd.to_datetime(all_reviews['date'])"
      ],
      "execution_count": 96,
      "outputs": []
    },
    {
      "cell_type": "code",
      "metadata": {
        "id": "MaBED28G3Ejw"
      },
      "source": [
        "all_reviews['year'] = all_reviews['date'].dt.year\r\n",
        "all_reviews['month'] = all_reviews['date'].dt.month\r\n",
        "all_reviews['day'] = all_reviews['date'].dt.day"
      ],
      "execution_count": 97,
      "outputs": []
    },
    {
      "cell_type": "code",
      "metadata": {
        "colab": {
          "base_uri": "https://localhost:8080/",
          "height": 204
        },
        "id": "8RvxjdBP3sEm",
        "outputId": "95001bc5-d9d7-452c-ecd4-70459f70b491"
      },
      "source": [
        "all_reviews.head()"
      ],
      "execution_count": 98,
      "outputs": [
        {
          "output_type": "execute_result",
          "data": {
            "text/html": [
              "<div>\n",
              "<style scoped>\n",
              "    .dataframe tbody tr th:only-of-type {\n",
              "        vertical-align: middle;\n",
              "    }\n",
              "\n",
              "    .dataframe tbody tr th {\n",
              "        vertical-align: top;\n",
              "    }\n",
              "\n",
              "    .dataframe thead th {\n",
              "        text-align: right;\n",
              "    }\n",
              "</style>\n",
              "<table border=\"1\" class=\"dataframe\">\n",
              "  <thead>\n",
              "    <tr style=\"text-align: right;\">\n",
              "      <th></th>\n",
              "      <th>listing_id</th>\n",
              "      <th>id</th>\n",
              "      <th>date</th>\n",
              "      <th>reviewer_id</th>\n",
              "      <th>reviewer_name</th>\n",
              "      <th>comments</th>\n",
              "      <th>year</th>\n",
              "      <th>month</th>\n",
              "      <th>day</th>\n",
              "    </tr>\n",
              "  </thead>\n",
              "  <tbody>\n",
              "    <tr>\n",
              "      <th>0</th>\n",
              "      <td>49091</td>\n",
              "      <td>8243238</td>\n",
              "      <td>2013-10-21</td>\n",
              "      <td>8557223</td>\n",
              "      <td>Jared</td>\n",
              "      <td>Fran was absolutely gracious and welcoming. Ma...</td>\n",
              "      <td>2013</td>\n",
              "      <td>10</td>\n",
              "      <td>21</td>\n",
              "    </tr>\n",
              "    <tr>\n",
              "      <th>1</th>\n",
              "      <td>50646</td>\n",
              "      <td>11909864</td>\n",
              "      <td>2014-04-18</td>\n",
              "      <td>1356099</td>\n",
              "      <td>James</td>\n",
              "      <td>A comfortable room in a smart condo developmen...</td>\n",
              "      <td>2014</td>\n",
              "      <td>4</td>\n",
              "      <td>18</td>\n",
              "    </tr>\n",
              "    <tr>\n",
              "      <th>2</th>\n",
              "      <td>50646</td>\n",
              "      <td>13823948</td>\n",
              "      <td>2014-06-05</td>\n",
              "      <td>15222393</td>\n",
              "      <td>Welli</td>\n",
              "      <td>Stayed over at Sujatha's house for 3 good nigh...</td>\n",
              "      <td>2014</td>\n",
              "      <td>6</td>\n",
              "      <td>5</td>\n",
              "    </tr>\n",
              "    <tr>\n",
              "      <th>3</th>\n",
              "      <td>50646</td>\n",
              "      <td>15117222</td>\n",
              "      <td>2014-07-02</td>\n",
              "      <td>5543172</td>\n",
              "      <td>Cyril</td>\n",
              "      <td>It's been a lovely stay at Sujatha's. The room...</td>\n",
              "      <td>2014</td>\n",
              "      <td>7</td>\n",
              "      <td>2</td>\n",
              "    </tr>\n",
              "    <tr>\n",
              "      <th>4</th>\n",
              "      <td>50646</td>\n",
              "      <td>15426462</td>\n",
              "      <td>2014-07-08</td>\n",
              "      <td>817532</td>\n",
              "      <td>Jake</td>\n",
              "      <td>We had a great experience. A nice place, an am...</td>\n",
              "      <td>2014</td>\n",
              "      <td>7</td>\n",
              "      <td>8</td>\n",
              "    </tr>\n",
              "  </tbody>\n",
              "</table>\n",
              "</div>"
            ],
            "text/plain": [
              "   listing_id        id       date  ...  year month day\n",
              "0       49091   8243238 2013-10-21  ...  2013    10  21\n",
              "1       50646  11909864 2014-04-18  ...  2014     4  18\n",
              "2       50646  13823948 2014-06-05  ...  2014     6   5\n",
              "3       50646  15117222 2014-07-02  ...  2014     7   2\n",
              "4       50646  15426462 2014-07-08  ...  2014     7   8\n",
              "\n",
              "[5 rows x 9 columns]"
            ]
          },
          "metadata": {
            "tags": []
          },
          "execution_count": 98
        }
      ]
    },
    {
      "cell_type": "markdown",
      "metadata": {
        "id": "-s_yoBAG-Ymz"
      },
      "source": [
        "#### 分析每月评论总数量"
      ]
    },
    {
      "cell_type": "code",
      "metadata": {
        "colab": {
          "base_uri": "https://localhost:8080/"
        },
        "id": "UpO5rJ9J3uo3",
        "outputId": "3293396a-f964-4bcd-90ac-66f3002f3e04"
      },
      "source": [
        "all_reviews.month.value_counts().sort_index()"
      ],
      "execution_count": 99,
      "outputs": [
        {
          "output_type": "execute_result",
          "data": {
            "text/plain": [
              "1     5264\n",
              "2     4206\n",
              "3     3874\n",
              "4     3732\n",
              "5     3806\n",
              "6     4077\n",
              "7     5087\n",
              "8     5135\n",
              "9     4822\n",
              "10    4604\n",
              "11    4450\n",
              "12    4927\n",
              "Name: month, dtype: int64"
            ]
          },
          "metadata": {
            "tags": []
          },
          "execution_count": 99
        }
      ]
    },
    {
      "cell_type": "code",
      "metadata": {
        "colab": {
          "base_uri": "https://localhost:8080/",
          "height": 287
        },
        "id": "-ay0fKBw4pLx",
        "outputId": "68b99e0e-2adc-4177-e60a-459e7915834a"
      },
      "source": [
        "plt.plot(all_reviews.month.value_counts().sort_index())\r\n",
        "plt.xlim(0,13)\r\n",
        "plt.ylim(0,6000)\r\n",
        "plt.xlabel('month', fontsize=14)\r\n",
        "plt.ylabel('review count', fontsize=14)\r\n",
        "plt.show()"
      ],
      "execution_count": 101,
      "outputs": [
        {
          "output_type": "display_data",
          "data": {
            "image/png": "[encoded data removed]",
            "text/plain": [
              "<Figure size 432x288 with 1 Axes>"
            ]
          },
          "metadata": {
            "tags": [],
            "needs_background": "light"
          }
        }
      ]
    },
    {
      "cell_type": "markdown",
      "metadata": {
        "id": "kCQSXRGt-eeQ"
      },
      "source": [
        "#### 分析2011-2020年每个月评论的数量"
      ]
    },
    {
      "cell_type": "code",
      "metadata": {
        "id": "du-264Ck6CmB"
      },
      "source": [
        "all_reviews[\"year_month\"] = pd.to_datetime(all_reviews[\"year\"].astype(str)+\"-\"+all_reviews[\"month\"].astype(str)).dt.to_period('M')"
      ],
      "execution_count": 102,
      "outputs": []
    },
    {
      "cell_type": "code",
      "metadata": {
        "colab": {
          "base_uri": "https://localhost:8080/",
          "height": 204
        },
        "id": "fDi4z6-V6Zc1",
        "outputId": "4e2c3f7b-95e1-4f36-d5ed-c393d5372e76"
      },
      "source": [
        "all_reviews.head()"
      ],
      "execution_count": 103,
      "outputs": [
        {
          "output_type": "execute_result",
          "data": {
            "text/html": [
              "<div>\n",
              "<style scoped>\n",
              "    .dataframe tbody tr th:only-of-type {\n",
              "        vertical-align: middle;\n",
              "    }\n",
              "\n",
              "    .dataframe tbody tr th {\n",
              "        vertical-align: top;\n",
              "    }\n",
              "\n",
              "    .dataframe thead th {\n",
              "        text-align: right;\n",
              "    }\n",
              "</style>\n",
              "<table border=\"1\" class=\"dataframe\">\n",
              "  <thead>\n",
              "    <tr style=\"text-align: right;\">\n",
              "      <th></th>\n",
              "      <th>listing_id</th>\n",
              "      <th>id</th>\n",
              "      <th>date</th>\n",
              "      <th>reviewer_id</th>\n",
              "      <th>reviewer_name</th>\n",
              "      <th>comments</th>\n",
              "      <th>year</th>\n",
              "      <th>month</th>\n",
              "      <th>day</th>\n",
              "      <th>year_month</th>\n",
              "    </tr>\n",
              "  </thead>\n",
              "  <tbody>\n",
              "    <tr>\n",
              "      <th>0</th>\n",
              "      <td>49091</td>\n",
              "      <td>8243238</td>\n",
              "      <td>2013-10-21</td>\n",
              "      <td>8557223</td>\n",
              "      <td>Jared</td>\n",
              "      <td>Fran was absolutely gracious and welcoming. Ma...</td>\n",
              "      <td>2013</td>\n",
              "      <td>10</td>\n",
              "      <td>21</td>\n",
              "      <td>2013-10</td>\n",
              "    </tr>\n",
              "    <tr>\n",
              "      <th>1</th>\n",
              "      <td>50646</td>\n",
              "      <td>11909864</td>\n",
              "      <td>2014-04-18</td>\n",
              "      <td>1356099</td>\n",
              "      <td>James</td>\n",
              "      <td>A comfortable room in a smart condo developmen...</td>\n",
              "      <td>2014</td>\n",
              "      <td>4</td>\n",
              "      <td>18</td>\n",
              "      <td>2014-04</td>\n",
              "    </tr>\n",
              "    <tr>\n",
              "      <th>2</th>\n",
              "      <td>50646</td>\n",
              "      <td>13823948</td>\n",
              "      <td>2014-06-05</td>\n",
              "      <td>15222393</td>\n",
              "      <td>Welli</td>\n",
              "      <td>Stayed over at Sujatha's house for 3 good nigh...</td>\n",
              "      <td>2014</td>\n",
              "      <td>6</td>\n",
              "      <td>5</td>\n",
              "      <td>2014-06</td>\n",
              "    </tr>\n",
              "    <tr>\n",
              "      <th>3</th>\n",
              "      <td>50646</td>\n",
              "      <td>15117222</td>\n",
              "      <td>2014-07-02</td>\n",
              "      <td>5543172</td>\n",
              "      <td>Cyril</td>\n",
              "      <td>It's been a lovely stay at Sujatha's. The room...</td>\n",
              "      <td>2014</td>\n",
              "      <td>7</td>\n",
              "      <td>2</td>\n",
              "      <td>2014-07</td>\n",
              "    </tr>\n",
              "    <tr>\n",
              "      <th>4</th>\n",
              "      <td>50646</td>\n",
              "      <td>15426462</td>\n",
              "      <td>2014-07-08</td>\n",
              "      <td>817532</td>\n",
              "      <td>Jake</td>\n",
              "      <td>We had a great experience. A nice place, an am...</td>\n",
              "      <td>2014</td>\n",
              "      <td>7</td>\n",
              "      <td>8</td>\n",
              "      <td>2014-07</td>\n",
              "    </tr>\n",
              "  </tbody>\n",
              "</table>\n",
              "</div>"
            ],
            "text/plain": [
              "   listing_id        id       date  reviewer_id  ...  year month  day  year_month\n",
              "0       49091   8243238 2013-10-21      8557223  ...  2013    10   21     2013-10\n",
              "1       50646  11909864 2014-04-18      1356099  ...  2014     4   18     2014-04\n",
              "2       50646  13823948 2014-06-05     15222393  ...  2014     6    5     2014-06\n",
              "3       50646  15117222 2014-07-02      5543172  ...  2014     7    2     2014-07\n",
              "4       50646  15426462 2014-07-08       817532  ...  2014     7    8     2014-07\n",
              "\n",
              "[5 rows x 10 columns]"
            ]
          },
          "metadata": {
            "tags": []
          },
          "execution_count": 103
        }
      ]
    },
    {
      "cell_type": "code",
      "metadata": {
        "colab": {
          "base_uri": "https://localhost:8080/"
        },
        "id": "v-cKES-z65_u",
        "outputId": "d132a6ba-7ca7-422f-fbb4-3ad738948553"
      },
      "source": [
        "all_reviews.year_month.value_counts().sort_index()"
      ],
      "execution_count": 104,
      "outputs": [
        {
          "output_type": "execute_result",
          "data": {
            "text/plain": [
              "2011-05      2\n",
              "2011-06      2\n",
              "2011-07      3\n",
              "2011-08      4\n",
              "2011-09      4\n",
              "          ... \n",
              "2020-09    416\n",
              "2020-10    418\n",
              "2020-11    501\n",
              "2020-12    521\n",
              "2021-01     11\n",
              "Freq: M, Name: year_month, Length: 116, dtype: int64"
            ]
          },
          "metadata": {
            "tags": []
          },
          "execution_count": 104
        }
      ]
    },
    {
      "cell_type": "code",
      "metadata": {
        "id": "AxviAsuC9SrO"
      },
      "source": [
        "reviews = all_reviews.year_month.value_counts().sort_index().tolist()"
      ],
      "execution_count": 105,
      "outputs": []
    },
    {
      "cell_type": "code",
      "metadata": {
        "colab": {
          "base_uri": "https://localhost:8080/",
          "height": 282
        },
        "id": "Xhe_-N9N8z3j",
        "outputId": "465cc081-4496-4b15-b422-101f16d0c21f"
      },
      "source": [
        "plt.plot(reviews)"
      ],
      "execution_count": 106,
      "outputs": [
        {
          "output_type": "execute_result",
          "data": {
            "text/plain": [
              "[<matplotlib.lines.Line2D at 0x7fe396e5a850>]"
            ]
          },
          "metadata": {
            "tags": []
          },
          "execution_count": 106
        },
        {
          "output_type": "display_data",
          "data": {
            "image/png": "[encoded data removed]",
            "text/plain": [
              "<Figure size 432x288 with 1 Axes>"
            ]
          },
          "metadata": {
            "tags": [],
            "needs_background": "light"
          }
        }
      ]
    },
    {
      "cell_type": "code",
      "metadata": {
        "colab": {
          "base_uri": "https://localhost:8080/",
          "height": 282
        },
        "id": "0cfk6nQW_USw",
        "outputId": "27ebf519-1471-4481-9c60-4121fe6b082e"
      },
      "source": [
        "col = pd.unique(all_reviews.year_month.astype(str))\r\n",
        "plt.bar(col,reviews)"
      ],
      "execution_count": 122,
      "outputs": [
        {
          "output_type": "execute_result",
          "data": {
            "text/plain": [
              "<BarContainer object of 116 artists>"
            ]
          },
          "metadata": {
            "tags": []
          },
          "execution_count": 122
        },
        {
          "output_type": "display_data",
          "data": {
            "image/png": "[encoded data removed]",
            "text/plain": [
              "<Figure size 432x288 with 1 Axes>"
            ]
          },
          "metadata": {
            "tags": [],
            "needs_background": "light"
          }
        }
      ]
    },
    {
      "cell_type": "code",
      "metadata": {
        "colab": {
          "base_uri": "https://localhost:8080/",
          "height": 282
        },
        "id": "j2DK4O4aAIgu",
        "outputId": "78598576-3378-485c-a8b1-e467c0b8cca8"
      },
      "source": [
        "years = pd.unique(all_reviews.year.astype(str))\r\n",
        "plt.bar(years,all_reviews.year.value_counts().sort_index())"
      ],
      "execution_count": 124,
      "outputs": [
        {
          "output_type": "execute_result",
          "data": {
            "text/plain": [
              "<BarContainer object of 11 artists>"
            ]
          },
          "metadata": {
            "tags": []
          },
          "execution_count": 124
        },
        {
          "output_type": "display_data",
          "data": {
            "image/png": "[encoded data removed]",
            "text/plain": [
              "<Figure size 432x288 with 1 Axes>"
            ]
          },
          "metadata": {
            "tags": [],
            "needs_background": "light"
          }
        }
      ]
    }
  ]
}