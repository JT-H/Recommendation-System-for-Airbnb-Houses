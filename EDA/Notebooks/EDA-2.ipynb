{
 "cells": [
  {
   "cell_type": "code",
   "execution_count": 1,
   "metadata": {},
   "outputs": [],
   "source": [
    "import pandas as pd\n",
    "from pandas import Series,DataFrame\n",
    "import numpy as np"
   ]
  },
  {
   "cell_type": "code",
   "execution_count": 10,
   "metadata": {},
   "outputs": [],
   "source": [
    "url_front = 'http://data.insideairbnb.com/singapore/sg/singapore/'\n",
    "url_end_calendars = '/data/calendar.csv.gz'"
   ]
  },
  {
   "cell_type": "markdown",
   "metadata": {},
   "source": [
    "# Combine Data"
   ]
  },
  {
   "cell_type": "code",
   "execution_count": 11,
   "metadata": {},
   "outputs": [],
   "source": [
    "dates = ['2019-03-18', '2019-04-20', '2019-05-23', '2019-06-25', '2019-07-21', '2019-08-28', '2019-09-25', '2019-10-25', '2019-11-26', '2019-12-28',\n",
    "         '2020-01-26', '2020-02-27', '2020-03-21', '2020-04-26', '2020-05-27', '2020-06-22', '2020-10-26', '2020-11-27', '2020-12-29','2021-01-27']"
   ]
  },
  {
   "cell_type": "code",
   "execution_count": 12,
   "metadata": {},
   "outputs": [],
   "source": [
    "calendars = []"
   ]
  },
  {
   "cell_type": "code",
   "execution_count": 13,
   "metadata": {},
   "outputs": [],
   "source": [
    "for date in dates:\n",
    "    # print(date)\n",
    "    calendar = pd.read_csv(url_front + date + url_end_calendars)\n",
    "    calendars.append(calendar)"
   ]
  },
  {
   "cell_type": "code",
   "execution_count": 14,
   "metadata": {},
   "outputs": [],
   "source": [
    "calendars_full = calendars[0]\n",
    "for i in range(1, len(dates)-1):\n",
    "    calendars_full = pd.concat([calendars_full, calendars[i]])"
   ]
  },
  {
   "cell_type": "code",
   "execution_count": 15,
   "metadata": {},
   "outputs": [
    {
     "data": {
      "text/html": [
       "<div>\n",
       "<style scoped>\n",
       "    .dataframe tbody tr th:only-of-type {\n",
       "        vertical-align: middle;\n",
       "    }\n",
       "\n",
       "    .dataframe tbody tr th {\n",
       "        vertical-align: top;\n",
       "    }\n",
       "\n",
       "    .dataframe thead th {\n",
       "        text-align: right;\n",
       "    }\n",
       "</style>\n",
       "<table border=\"1\" class=\"dataframe\">\n",
       "  <thead>\n",
       "    <tr style=\"text-align: right;\">\n",
       "      <th></th>\n",
       "      <th>listing_id</th>\n",
       "      <th>date</th>\n",
       "      <th>available</th>\n",
       "      <th>price</th>\n",
       "      <th>adjusted_price</th>\n",
       "      <th>minimum_nights</th>\n",
       "      <th>maximum_nights</th>\n",
       "    </tr>\n",
       "  </thead>\n",
       "  <tbody>\n",
       "    <tr>\n",
       "      <th>0</th>\n",
       "      <td>49091</td>\n",
       "      <td>2019-03-18</td>\n",
       "      <td>t</td>\n",
       "      <td>$81.00</td>\n",
       "      <td>$81.00</td>\n",
       "      <td>180.0</td>\n",
       "      <td>360.0</td>\n",
       "    </tr>\n",
       "    <tr>\n",
       "      <th>1</th>\n",
       "      <td>49091</td>\n",
       "      <td>2019-03-19</td>\n",
       "      <td>t</td>\n",
       "      <td>$81.00</td>\n",
       "      <td>$81.00</td>\n",
       "      <td>180.0</td>\n",
       "      <td>360.0</td>\n",
       "    </tr>\n",
       "    <tr>\n",
       "      <th>2</th>\n",
       "      <td>49091</td>\n",
       "      <td>2019-03-20</td>\n",
       "      <td>t</td>\n",
       "      <td>$81.00</td>\n",
       "      <td>$81.00</td>\n",
       "      <td>180.0</td>\n",
       "      <td>360.0</td>\n",
       "    </tr>\n",
       "    <tr>\n",
       "      <th>3</th>\n",
       "      <td>49091</td>\n",
       "      <td>2019-03-21</td>\n",
       "      <td>t</td>\n",
       "      <td>$81.00</td>\n",
       "      <td>$81.00</td>\n",
       "      <td>180.0</td>\n",
       "      <td>360.0</td>\n",
       "    </tr>\n",
       "    <tr>\n",
       "      <th>4</th>\n",
       "      <td>49091</td>\n",
       "      <td>2019-03-22</td>\n",
       "      <td>t</td>\n",
       "      <td>$81.00</td>\n",
       "      <td>$81.00</td>\n",
       "      <td>180.0</td>\n",
       "      <td>360.0</td>\n",
       "    </tr>\n",
       "  </tbody>\n",
       "</table>\n",
       "</div>"
      ],
      "text/plain": [
       "   listing_id        date available   price adjusted_price  minimum_nights  \\\n",
       "0       49091  2019-03-18         t  $81.00         $81.00           180.0   \n",
       "1       49091  2019-03-19         t  $81.00         $81.00           180.0   \n",
       "2       49091  2019-03-20         t  $81.00         $81.00           180.0   \n",
       "3       49091  2019-03-21         t  $81.00         $81.00           180.0   \n",
       "4       49091  2019-03-22         t  $81.00         $81.00           180.0   \n",
       "\n",
       "   maximum_nights  \n",
       "0           360.0  \n",
       "1           360.0  \n",
       "2           360.0  \n",
       "3           360.0  \n",
       "4           360.0  "
      ]
     },
     "execution_count": 15,
     "metadata": {},
     "output_type": "execute_result"
    }
   ],
   "source": [
    "calendars_full.head()"
   ]
  },
  {
   "cell_type": "code",
   "execution_count": 16,
   "metadata": {},
   "outputs": [
    {
     "data": {
      "text/plain": [
       "(50721752, 7)"
      ]
     },
     "execution_count": 16,
     "metadata": {},
     "output_type": "execute_result"
    }
   ],
   "source": [
    "calendars_full.shape"
   ]
  },
  {
   "cell_type": "code",
   "execution_count": 17,
   "metadata": {},
   "outputs": [
    {
     "data": {
      "text/plain": [
       "False    50718004\n",
       "True         3748\n",
       "Name: price, dtype: int64"
      ]
     },
     "execution_count": 17,
     "metadata": {},
     "output_type": "execute_result"
    }
   ],
   "source": [
    "calendars_full['price'].isnull().value_counts()"
   ]
  },
  {
   "cell_type": "code",
   "execution_count": 18,
   "metadata": {},
   "outputs": [
    {
     "data": {
      "text/plain": [
       "False    50718004\n",
       "True         3748\n",
       "Name: adjusted_price, dtype: int64"
      ]
     },
     "execution_count": 18,
     "metadata": {},
     "output_type": "execute_result"
    }
   ],
   "source": [
    "calendars_full['adjusted_price'].isnull().value_counts()"
   ]
  },
  {
   "cell_type": "code",
   "execution_count": 19,
   "metadata": {},
   "outputs": [],
   "source": [
    "# drop duplicate rows & do not have price data\n",
    "calendars_full = calendars_full.drop_duplicates()\n",
    "calendars_full = calendars_full.dropna(subset = ['price'])"
   ]
  },
  {
   "cell_type": "code",
   "execution_count": 20,
   "metadata": {},
   "outputs": [
    {
     "data": {
      "text/plain": [
       "(21193818, 7)"
      ]
     },
     "execution_count": 20,
     "metadata": {},
     "output_type": "execute_result"
    }
   ],
   "source": [
    "calendars_full.shape"
   ]
  },
  {
   "cell_type": "code",
   "execution_count": 21,
   "metadata": {},
   "outputs": [
    {
     "data": {
      "text/html": [
       "<div>\n",
       "<style scoped>\n",
       "    .dataframe tbody tr th:only-of-type {\n",
       "        vertical-align: middle;\n",
       "    }\n",
       "\n",
       "    .dataframe tbody tr th {\n",
       "        vertical-align: top;\n",
       "    }\n",
       "\n",
       "    .dataframe thead th {\n",
       "        text-align: right;\n",
       "    }\n",
       "</style>\n",
       "<table border=\"1\" class=\"dataframe\">\n",
       "  <thead>\n",
       "    <tr style=\"text-align: right;\">\n",
       "      <th></th>\n",
       "      <th>listing_id</th>\n",
       "      <th>date</th>\n",
       "      <th>available</th>\n",
       "      <th>price</th>\n",
       "      <th>adjusted_price</th>\n",
       "      <th>minimum_nights</th>\n",
       "      <th>maximum_nights</th>\n",
       "    </tr>\n",
       "  </thead>\n",
       "  <tbody>\n",
       "    <tr>\n",
       "      <th>0</th>\n",
       "      <td>49091</td>\n",
       "      <td>2019-03-18</td>\n",
       "      <td>t</td>\n",
       "      <td>$81.00</td>\n",
       "      <td>$81.00</td>\n",
       "      <td>180.0</td>\n",
       "      <td>360.0</td>\n",
       "    </tr>\n",
       "    <tr>\n",
       "      <th>1</th>\n",
       "      <td>49091</td>\n",
       "      <td>2019-03-19</td>\n",
       "      <td>t</td>\n",
       "      <td>$81.00</td>\n",
       "      <td>$81.00</td>\n",
       "      <td>180.0</td>\n",
       "      <td>360.0</td>\n",
       "    </tr>\n",
       "    <tr>\n",
       "      <th>2</th>\n",
       "      <td>49091</td>\n",
       "      <td>2019-03-20</td>\n",
       "      <td>t</td>\n",
       "      <td>$81.00</td>\n",
       "      <td>$81.00</td>\n",
       "      <td>180.0</td>\n",
       "      <td>360.0</td>\n",
       "    </tr>\n",
       "    <tr>\n",
       "      <th>3</th>\n",
       "      <td>49091</td>\n",
       "      <td>2019-03-21</td>\n",
       "      <td>t</td>\n",
       "      <td>$81.00</td>\n",
       "      <td>$81.00</td>\n",
       "      <td>180.0</td>\n",
       "      <td>360.0</td>\n",
       "    </tr>\n",
       "    <tr>\n",
       "      <th>4</th>\n",
       "      <td>49091</td>\n",
       "      <td>2019-03-22</td>\n",
       "      <td>t</td>\n",
       "      <td>$81.00</td>\n",
       "      <td>$81.00</td>\n",
       "      <td>180.0</td>\n",
       "      <td>360.0</td>\n",
       "    </tr>\n",
       "  </tbody>\n",
       "</table>\n",
       "</div>"
      ],
      "text/plain": [
       "   listing_id        date available   price adjusted_price  minimum_nights  \\\n",
       "0       49091  2019-03-18         t  $81.00         $81.00           180.0   \n",
       "1       49091  2019-03-19         t  $81.00         $81.00           180.0   \n",
       "2       49091  2019-03-20         t  $81.00         $81.00           180.0   \n",
       "3       49091  2019-03-21         t  $81.00         $81.00           180.0   \n",
       "4       49091  2019-03-22         t  $81.00         $81.00           180.0   \n",
       "\n",
       "   maximum_nights  \n",
       "0           360.0  \n",
       "1           360.0  \n",
       "2           360.0  \n",
       "3           360.0  \n",
       "4           360.0  "
      ]
     },
     "execution_count": 21,
     "metadata": {},
     "output_type": "execute_result"
    }
   ],
   "source": [
    "calendars_full.head()"
   ]
  },
  {
   "cell_type": "markdown",
   "metadata": {},
   "source": [
    "### EDA 3.2: Prices of Accommodations Rise During the December-February Period"
   ]
  },
  {
   "cell_type": "code",
   "execution_count": 22,
   "metadata": {},
   "outputs": [],
   "source": [
    "calendars_full['month'] = calendars_full['date'].apply(lambda x: x[0:7])"
   ]
  },
  {
   "cell_type": "code",
   "execution_count": 27,
   "metadata": {},
   "outputs": [
    {
     "data": {
      "text/plain": [
       "2020-03    1099351\n",
       "2020-05    1065684\n",
       "2020-04    1042684\n",
       "2020-01    1024282\n",
       "2020-06    1008412\n",
       "2019-12     995527\n",
       "2020-07     960830\n",
       "2020-02     960616\n",
       "2020-08     874499\n",
       "2019-11     867051\n",
       "2019-10     825844\n",
       "2020-09     773803\n",
       "2020-12     759264\n",
       "2020-11     755403\n",
       "2020-10     750601\n",
       "2021-01     719878\n",
       "2019-09     715600\n",
       "2019-08     628955\n",
       "2019-07     579298\n",
       "2019-06     454794\n",
       "2019-05     379309\n",
       "2019-04     281928\n",
       "2019-03     111622\n",
       "Name: month, dtype: int64"
      ]
     },
     "execution_count": 27,
     "metadata": {},
     "output_type": "execute_result"
    }
   ],
   "source": [
    "# delete all the month in the future\n",
    "lst_date = dates[-1]\n",
    "calendars_full = calendars_full.query('month <= @lst_date')\n",
    "calendars_full['month'].value_counts()"
   ]
  },
  {
   "cell_type": "code",
   "execution_count": 28,
   "metadata": {},
   "outputs": [],
   "source": [
    "calendars_full['price'] = calendars_full['price'].apply(lambda x: float(x[1:-3].replace(',', '')))\n",
    "calendars_full.head(2)"
   ]
  },
  {
   "cell_type": "code",
   "execution_count": 30,
   "metadata": {},
   "outputs": [],
   "source": [
    "# get mean price of each month\n",
    "calendars_mean = calendars_full[['listing_id', 'month', 'price']].groupby(['listing_id','month']).mean()\n",
    "calendars_mean_df = pd.DataFrame(calendars_mean)\n",
    "calendars_mean_df.rename(columns = {'price': 'mean_price'}, inplace = True)\n",
    "calendars_mean_df.reset_index(inplace = True)"
   ]
  },
  {
   "cell_type": "code",
   "execution_count": 31,
   "metadata": {},
   "outputs": [
    {
     "data": {
      "text/html": [
       "<div>\n",
       "<style scoped>\n",
       "    .dataframe tbody tr th:only-of-type {\n",
       "        vertical-align: middle;\n",
       "    }\n",
       "\n",
       "    .dataframe tbody tr th {\n",
       "        vertical-align: top;\n",
       "    }\n",
       "\n",
       "    .dataframe thead th {\n",
       "        text-align: right;\n",
       "    }\n",
       "</style>\n",
       "<table border=\"1\" class=\"dataframe\">\n",
       "  <thead>\n",
       "    <tr style=\"text-align: right;\">\n",
       "      <th></th>\n",
       "      <th>listing_id</th>\n",
       "      <th>month</th>\n",
       "      <th>mean_price</th>\n",
       "    </tr>\n",
       "  </thead>\n",
       "  <tbody>\n",
       "    <tr>\n",
       "      <th>0</th>\n",
       "      <td>49091</td>\n",
       "      <td>2019-03</td>\n",
       "      <td>81.00</td>\n",
       "    </tr>\n",
       "    <tr>\n",
       "      <th>1</th>\n",
       "      <td>49091</td>\n",
       "      <td>2019-04</td>\n",
       "      <td>81.00</td>\n",
       "    </tr>\n",
       "    <tr>\n",
       "      <th>2</th>\n",
       "      <td>49091</td>\n",
       "      <td>2019-05</td>\n",
       "      <td>81.45</td>\n",
       "    </tr>\n",
       "    <tr>\n",
       "      <th>3</th>\n",
       "      <td>49091</td>\n",
       "      <td>2019-06</td>\n",
       "      <td>82.00</td>\n",
       "    </tr>\n",
       "    <tr>\n",
       "      <th>4</th>\n",
       "      <td>49091</td>\n",
       "      <td>2019-07</td>\n",
       "      <td>82.00</td>\n",
       "    </tr>\n",
       "  </tbody>\n",
       "</table>\n",
       "</div>"
      ],
      "text/plain": [
       "   listing_id    month  mean_price\n",
       "0       49091  2019-03       81.00\n",
       "1       49091  2019-04       81.00\n",
       "2       49091  2019-05       81.45\n",
       "3       49091  2019-06       82.00\n",
       "4       49091  2019-07       82.00"
      ]
     },
     "execution_count": 31,
     "metadata": {},
     "output_type": "execute_result"
    }
   ],
   "source": [
    "calendars_mean_df.head()"
   ]
  },
  {
   "cell_type": "code",
   "execution_count": 32,
   "metadata": {},
   "outputs": [
    {
     "name": "stderr",
     "output_type": "stream",
     "text": [
      "<ipython-input-32-1a1a625bd402>:3: SettingWithCopyWarning: \n",
      "A value is trying to be set on a copy of a slice from a DataFrame\n",
      "\n",
      "See the caveats in the documentation: https://pandas.pydata.org/pandas-docs/stable/user_guide/indexing.html#returning-a-view-versus-a-copy\n",
      "  calendars_mean_df['previous_listing_id'][0] = 0\n",
      "<ipython-input-32-1a1a625bd402>:7: SettingWithCopyWarning: \n",
      "A value is trying to be set on a copy of a slice from a DataFrame\n",
      "\n",
      "See the caveats in the documentation: https://pandas.pydata.org/pandas-docs/stable/user_guide/indexing.html#returning-a-view-versus-a-copy\n",
      "  calendars_mean_df['previous_mean_price'][0] = calendars_mean_df['mean_price'][0]\n"
     ]
    }
   ],
   "source": [
    "# create new column previous_listing_id\n",
    "calendars_mean_df['previous_listing_id'] = calendars_mean_df['listing_id'].shift(1)\n",
    "calendars_mean_df['previous_listing_id'][0] = 0\n",
    "calendars_mean_df['previous_listing_id'] = calendars_mean_df['previous_listing_id'].apply(lambda x: int(x))\n",
    "# create new column previous_mean_price\n",
    "calendars_mean_df['previous_mean_price'] = calendars_mean_df['mean_price'].shift(1)\n",
    "calendars_mean_df['previous_mean_price'][0] = calendars_mean_df['mean_price'][0]\n",
    "# create new column diff_mean_price: difference between this month's mean_price to last month's\n",
    "calendars_mean_df['diff_mean_price'] = 0\n",
    "calendars_mean_df['diff_mean_price'] = calendars_mean_df.apply(\n",
    "    lambda row: row.mean_price - row.previous_mean_price if row.listing_id == row.previous_listing_id else 0, axis=1)\n",
    "# create new column change_price_perc \n",
    "calendars_mean_df['change_price_perc'] = calendars_mean_df['diff_mean_price']/calendars_mean_df['previous_mean_price']"
   ]
  },
  {
   "cell_type": "code",
   "execution_count": 33,
   "metadata": {},
   "outputs": [
    {
     "data": {
      "text/html": [
       "<div>\n",
       "<style scoped>\n",
       "    .dataframe tbody tr th:only-of-type {\n",
       "        vertical-align: middle;\n",
       "    }\n",
       "\n",
       "    .dataframe tbody tr th {\n",
       "        vertical-align: top;\n",
       "    }\n",
       "\n",
       "    .dataframe thead th {\n",
       "        text-align: right;\n",
       "    }\n",
       "</style>\n",
       "<table border=\"1\" class=\"dataframe\">\n",
       "  <thead>\n",
       "    <tr style=\"text-align: right;\">\n",
       "      <th></th>\n",
       "      <th>listing_id</th>\n",
       "      <th>month</th>\n",
       "      <th>mean_price</th>\n",
       "      <th>previous_listing_id</th>\n",
       "      <th>previous_mean_price</th>\n",
       "      <th>diff_mean_price</th>\n",
       "      <th>change_price_perc</th>\n",
       "    </tr>\n",
       "  </thead>\n",
       "  <tbody>\n",
       "    <tr>\n",
       "      <th>0</th>\n",
       "      <td>49091</td>\n",
       "      <td>2019-03</td>\n",
       "      <td>81.00</td>\n",
       "      <td>0</td>\n",
       "      <td>81.00</td>\n",
       "      <td>0.00</td>\n",
       "      <td>0.000000</td>\n",
       "    </tr>\n",
       "    <tr>\n",
       "      <th>1</th>\n",
       "      <td>49091</td>\n",
       "      <td>2019-04</td>\n",
       "      <td>81.00</td>\n",
       "      <td>49091</td>\n",
       "      <td>81.00</td>\n",
       "      <td>0.00</td>\n",
       "      <td>0.000000</td>\n",
       "    </tr>\n",
       "    <tr>\n",
       "      <th>2</th>\n",
       "      <td>49091</td>\n",
       "      <td>2019-05</td>\n",
       "      <td>81.45</td>\n",
       "      <td>49091</td>\n",
       "      <td>81.00</td>\n",
       "      <td>0.45</td>\n",
       "      <td>0.005556</td>\n",
       "    </tr>\n",
       "    <tr>\n",
       "      <th>3</th>\n",
       "      <td>49091</td>\n",
       "      <td>2019-06</td>\n",
       "      <td>82.00</td>\n",
       "      <td>49091</td>\n",
       "      <td>81.45</td>\n",
       "      <td>0.55</td>\n",
       "      <td>0.006753</td>\n",
       "    </tr>\n",
       "    <tr>\n",
       "      <th>4</th>\n",
       "      <td>49091</td>\n",
       "      <td>2019-07</td>\n",
       "      <td>82.00</td>\n",
       "      <td>49091</td>\n",
       "      <td>82.00</td>\n",
       "      <td>0.00</td>\n",
       "      <td>0.000000</td>\n",
       "    </tr>\n",
       "  </tbody>\n",
       "</table>\n",
       "</div>"
      ],
      "text/plain": [
       "   listing_id    month  mean_price  previous_listing_id  previous_mean_price  \\\n",
       "0       49091  2019-03       81.00                    0                81.00   \n",
       "1       49091  2019-04       81.00                49091                81.00   \n",
       "2       49091  2019-05       81.45                49091                81.00   \n",
       "3       49091  2019-06       82.00                49091                81.45   \n",
       "4       49091  2019-07       82.00                49091                82.00   \n",
       "\n",
       "   diff_mean_price  change_price_perc  \n",
       "0             0.00           0.000000  \n",
       "1             0.00           0.000000  \n",
       "2             0.45           0.005556  \n",
       "3             0.55           0.006753  \n",
       "4             0.00           0.000000  "
      ]
     },
     "execution_count": 33,
     "metadata": {},
     "output_type": "execute_result"
    }
   ],
   "source": [
    "calendars_mean_df.head()"
   ]
  },
  {
   "cell_type": "code",
   "execution_count": 34,
   "metadata": {},
   "outputs": [],
   "source": [
    "# get mean change of mean_price of each month (group by month)\n",
    "calendars_change = calendars_mean_df[['month', 'change_price_perc']].groupby(['month']).mean()\n",
    "calendars_change_df = pd.DataFrame(calendars_change)\n",
    "calendars_change_df.rename(columns = {'change_price_perc': 'mean_change_price_perc'}, inplace = True)\n",
    "calendars_change_df.reset_index(inplace = True)"
   ]
  },
  {
   "cell_type": "code",
   "execution_count": 35,
   "metadata": {},
   "outputs": [
    {
     "data": {
      "text/html": [
       "<div>\n",
       "<style scoped>\n",
       "    .dataframe tbody tr th:only-of-type {\n",
       "        vertical-align: middle;\n",
       "    }\n",
       "\n",
       "    .dataframe tbody tr th {\n",
       "        vertical-align: top;\n",
       "    }\n",
       "\n",
       "    .dataframe thead th {\n",
       "        text-align: right;\n",
       "    }\n",
       "</style>\n",
       "<table border=\"1\" class=\"dataframe\">\n",
       "  <thead>\n",
       "    <tr style=\"text-align: right;\">\n",
       "      <th></th>\n",
       "      <th>month</th>\n",
       "      <th>mean_change_price_perc</th>\n",
       "    </tr>\n",
       "  </thead>\n",
       "  <tbody>\n",
       "    <tr>\n",
       "      <th>0</th>\n",
       "      <td>2019-03</td>\n",
       "      <td>0.000000</td>\n",
       "    </tr>\n",
       "    <tr>\n",
       "      <th>1</th>\n",
       "      <td>2019-04</td>\n",
       "      <td>0.012830</td>\n",
       "    </tr>\n",
       "    <tr>\n",
       "      <th>2</th>\n",
       "      <td>2019-05</td>\n",
       "      <td>0.001445</td>\n",
       "    </tr>\n",
       "    <tr>\n",
       "      <th>3</th>\n",
       "      <td>2019-06</td>\n",
       "      <td>0.012955</td>\n",
       "    </tr>\n",
       "    <tr>\n",
       "      <th>4</th>\n",
       "      <td>2019-07</td>\n",
       "      <td>0.012100</td>\n",
       "    </tr>\n",
       "  </tbody>\n",
       "</table>\n",
       "</div>"
      ],
      "text/plain": [
       "     month  mean_change_price_perc\n",
       "0  2019-03                0.000000\n",
       "1  2019-04                0.012830\n",
       "2  2019-05                0.001445\n",
       "3  2019-06                0.012955\n",
       "4  2019-07                0.012100"
      ]
     },
     "execution_count": 35,
     "metadata": {},
     "output_type": "execute_result"
    }
   ],
   "source": [
    "calendars_change_df.head()"
   ]
  },
  {
   "cell_type": "code",
   "execution_count": 36,
   "metadata": {},
   "outputs": [
    {
     "data": {
      "text/plain": [
       "Text(0, 0.5, 'Price Fluctuation')"
      ]
     },
     "execution_count": 36,
     "metadata": {},
     "output_type": "execute_result"
    },
    {
     "data": {
      "image/png": "[encoded data removed]",
      "text/plain": [
       "<Figure size 2160x720 with 1 Axes>"
      ]
     },
     "metadata": {
      "needs_background": "light"
     },
     "output_type": "display_data"
    }
   ],
   "source": [
    "import matplotlib.pyplot as plt\n",
    "plt.figure(figsize=(30, 10))\n",
    "plt.plot('month', 'mean_change_price_perc', data = calendars_change_df)\n",
    "plt.title('Average price fluctuation over time')\n",
    "plt.xlabel('month')\n",
    "plt.ylabel('Price Fluctuation')"
   ]
  },
  {
   "cell_type": "code",
   "execution_count": null,
   "metadata": {},
   "outputs": [],
   "source": []
  }
 ],
 "metadata": {
  "kernelspec": {
   "display_name": "Python 3",
   "language": "python",
   "name": "python3"
  },
  "language_info": {
   "codemirror_mode": {
    "name": "ipython",
    "version": 3
   },
   "file_extension": ".py",
   "mimetype": "text/x-python",
   "name": "python",
   "nbconvert_exporter": "python",
   "pygments_lexer": "ipython3",
   "version": "3.8.2"
  }
 },
 "nbformat": 4,
 "nbformat_minor": 4
}
