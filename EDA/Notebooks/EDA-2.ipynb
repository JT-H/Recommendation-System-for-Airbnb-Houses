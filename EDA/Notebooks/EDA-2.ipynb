{
 "cells": [
  {
   "cell_type": "code",
   "execution_count": 2,
   "metadata": {},
   "outputs": [],
   "source": [
    "import pandas as pd\n",
    "from pandas import Series,DataFrame\n",
    "import numpy as np"
   ]
  },
  {
   "cell_type": "code",
   "execution_count": 3,
   "metadata": {},
   "outputs": [],
   "source": [
    "url_front = 'http://data.insideairbnb.com/singapore/sg/singapore/'\n",
    "url_end_calendars = '/data/calendar.csv.gz'"
   ]
  },
  {
   "cell_type": "markdown",
   "metadata": {},
   "source": [
    "# Combine Data"
   ]
  },
  {
   "cell_type": "code",
   "execution_count": 4,
   "metadata": {},
   "outputs": [],
   "source": [
    "dates = ['2019-03-18', '2019-04-20', '2019-05-23', '2019-06-25', '2019-07-21', '2019-08-28', '2019-09-25', '2019-10-25', '2019-11-26', '2019-12-28',\n",
    "         '2020-01-26', '2020-02-27', '2020-03-21', '2020-04-26', '2020-05-27', '2020-06-22', '2020-10-26', '2020-11-27', '2020-12-29','2021-01-27']"
   ]
  },
  {
   "cell_type": "code",
   "execution_count": 5,
   "metadata": {},
   "outputs": [],
   "source": [
    "calendars = []"
   ]
  },
  {
   "cell_type": "code",
   "execution_count": 6,
   "metadata": {},
   "outputs": [],
   "source": [
    "for date in dates:\n",
    "    # print(date)\n",
    "    calendar = pd.read_csv(url_front + date + url_end_calendars)\n",
    "    calendars.append(calendar)"
   ]
  },
  {
   "cell_type": "code",
   "execution_count": 7,
   "metadata": {},
   "outputs": [],
   "source": [
    "calendars_full = calendars[0]\n",
    "for i in range(1, len(dates)-1):\n",
    "    calendars_full = pd.concat([calendars_full, calendars[i]])"
   ]
  },
  {
   "cell_type": "code",
   "execution_count": 8,
   "metadata": {},
   "outputs": [
    {
     "data": {
      "text/html": [
       "<div>\n",
       "<style scoped>\n",
       "    .dataframe tbody tr th:only-of-type {\n",
       "        vertical-align: middle;\n",
       "    }\n",
       "\n",
       "    .dataframe tbody tr th {\n",
       "        vertical-align: top;\n",
       "    }\n",
       "\n",
       "    .dataframe thead th {\n",
       "        text-align: right;\n",
       "    }\n",
       "</style>\n",
       "<table border=\"1\" class=\"dataframe\">\n",
       "  <thead>\n",
       "    <tr style=\"text-align: right;\">\n",
       "      <th></th>\n",
       "      <th>listing_id</th>\n",
       "      <th>date</th>\n",
       "      <th>available</th>\n",
       "      <th>price</th>\n",
       "      <th>adjusted_price</th>\n",
       "      <th>minimum_nights</th>\n",
       "      <th>maximum_nights</th>\n",
       "    </tr>\n",
       "  </thead>\n",
       "  <tbody>\n",
       "    <tr>\n",
       "      <th>0</th>\n",
       "      <td>49091</td>\n",
       "      <td>2019-03-18</td>\n",
       "      <td>t</td>\n",
       "      <td>$81.00</td>\n",
       "      <td>$81.00</td>\n",
       "      <td>180.0</td>\n",
       "      <td>360.0</td>\n",
       "    </tr>\n",
       "    <tr>\n",
       "      <th>1</th>\n",
       "      <td>49091</td>\n",
       "      <td>2019-03-19</td>\n",
       "      <td>t</td>\n",
       "      <td>$81.00</td>\n",
       "      <td>$81.00</td>\n",
       "      <td>180.0</td>\n",
       "      <td>360.0</td>\n",
       "    </tr>\n",
       "    <tr>\n",
       "      <th>2</th>\n",
       "      <td>49091</td>\n",
       "      <td>2019-03-20</td>\n",
       "      <td>t</td>\n",
       "      <td>$81.00</td>\n",
       "      <td>$81.00</td>\n",
       "      <td>180.0</td>\n",
       "      <td>360.0</td>\n",
       "    </tr>\n",
       "    <tr>\n",
       "      <th>3</th>\n",
       "      <td>49091</td>\n",
       "      <td>2019-03-21</td>\n",
       "      <td>t</td>\n",
       "      <td>$81.00</td>\n",
       "      <td>$81.00</td>\n",
       "      <td>180.0</td>\n",
       "      <td>360.0</td>\n",
       "    </tr>\n",
       "    <tr>\n",
       "      <th>4</th>\n",
       "      <td>49091</td>\n",
       "      <td>2019-03-22</td>\n",
       "      <td>t</td>\n",
       "      <td>$81.00</td>\n",
       "      <td>$81.00</td>\n",
       "      <td>180.0</td>\n",
       "      <td>360.0</td>\n",
       "    </tr>\n",
       "  </tbody>\n",
       "</table>\n",
       "</div>"
      ],
      "text/plain": [
       "   listing_id        date available   price adjusted_price  minimum_nights  \\\n",
       "0       49091  2019-03-18         t  $81.00         $81.00           180.0   \n",
       "1       49091  2019-03-19         t  $81.00         $81.00           180.0   \n",
       "2       49091  2019-03-20         t  $81.00         $81.00           180.0   \n",
       "3       49091  2019-03-21         t  $81.00         $81.00           180.0   \n",
       "4       49091  2019-03-22         t  $81.00         $81.00           180.0   \n",
       "\n",
       "   maximum_nights  \n",
       "0           360.0  \n",
       "1           360.0  \n",
       "2           360.0  \n",
       "3           360.0  \n",
       "4           360.0  "
      ]
     },
     "execution_count": 8,
     "metadata": {},
     "output_type": "execute_result"
    }
   ],
   "source": [
    "calendars_full.head()"
   ]
  },
  {
   "cell_type": "code",
   "execution_count": 9,
   "metadata": {},
   "outputs": [
    {
     "data": {
      "text/plain": [
       "(50721752, 7)"
      ]
     },
     "execution_count": 9,
     "metadata": {},
     "output_type": "execute_result"
    }
   ],
   "source": [
    "calendars_full.shape"
   ]
  },
  {
   "cell_type": "code",
   "execution_count": 10,
   "metadata": {},
   "outputs": [
    {
     "data": {
      "text/plain": [
       "False    50718004\n",
       "True         3748\n",
       "Name: price, dtype: int64"
      ]
     },
     "execution_count": 10,
     "metadata": {},
     "output_type": "execute_result"
    }
   ],
   "source": [
    "calendars_full['price'].isnull().value_counts()"
   ]
  },
  {
   "cell_type": "code",
   "execution_count": 11,
   "metadata": {},
   "outputs": [
    {
     "data": {
      "text/plain": [
       "False    50718004\n",
       "True         3748\n",
       "Name: adjusted_price, dtype: int64"
      ]
     },
     "execution_count": 11,
     "metadata": {},
     "output_type": "execute_result"
    }
   ],
   "source": [
    "calendars_full['adjusted_price'].isnull().value_counts()"
   ]
  },
  {
   "cell_type": "code",
   "execution_count": 12,
   "metadata": {},
   "outputs": [],
   "source": [
    "# drop duplicate rows & do not have price data\n",
    "calendars_full = calendars_full.drop_duplicates()\n",
    "calendars_full = calendars_full.dropna(subset = ['price'])"
   ]
  },
  {
   "cell_type": "code",
   "execution_count": 13,
   "metadata": {},
   "outputs": [
    {
     "data": {
      "text/plain": [
       "(21193818, 7)"
      ]
     },
     "execution_count": 13,
     "metadata": {},
     "output_type": "execute_result"
    }
   ],
   "source": [
    "calendars_full.shape"
   ]
  },
  {
   "cell_type": "code",
   "execution_count": 15,
   "metadata": {},
   "outputs": [
    {
     "data": {
      "text/html": [
       "<div>\n",
       "<style scoped>\n",
       "    .dataframe tbody tr th:only-of-type {\n",
       "        vertical-align: middle;\n",
       "    }\n",
       "\n",
       "    .dataframe tbody tr th {\n",
       "        vertical-align: top;\n",
       "    }\n",
       "\n",
       "    .dataframe thead th {\n",
       "        text-align: right;\n",
       "    }\n",
       "</style>\n",
       "<table border=\"1\" class=\"dataframe\">\n",
       "  <thead>\n",
       "    <tr style=\"text-align: right;\">\n",
       "      <th></th>\n",
       "      <th>listing_id</th>\n",
       "      <th>date</th>\n",
       "      <th>available</th>\n",
       "      <th>price</th>\n",
       "      <th>adjusted_price</th>\n",
       "      <th>minimum_nights</th>\n",
       "      <th>maximum_nights</th>\n",
       "    </tr>\n",
       "  </thead>\n",
       "  <tbody>\n",
       "    <tr>\n",
       "      <th>0</th>\n",
       "      <td>49091</td>\n",
       "      <td>2019-03-18</td>\n",
       "      <td>t</td>\n",
       "      <td>$81.00</td>\n",
       "      <td>$81.00</td>\n",
       "      <td>180.0</td>\n",
       "      <td>360.0</td>\n",
       "    </tr>\n",
       "    <tr>\n",
       "      <th>1</th>\n",
       "      <td>49091</td>\n",
       "      <td>2019-03-19</td>\n",
       "      <td>t</td>\n",
       "      <td>$81.00</td>\n",
       "      <td>$81.00</td>\n",
       "      <td>180.0</td>\n",
       "      <td>360.0</td>\n",
       "    </tr>\n",
       "    <tr>\n",
       "      <th>2</th>\n",
       "      <td>49091</td>\n",
       "      <td>2019-03-20</td>\n",
       "      <td>t</td>\n",
       "      <td>$81.00</td>\n",
       "      <td>$81.00</td>\n",
       "      <td>180.0</td>\n",
       "      <td>360.0</td>\n",
       "    </tr>\n",
       "    <tr>\n",
       "      <th>3</th>\n",
       "      <td>49091</td>\n",
       "      <td>2019-03-21</td>\n",
       "      <td>t</td>\n",
       "      <td>$81.00</td>\n",
       "      <td>$81.00</td>\n",
       "      <td>180.0</td>\n",
       "      <td>360.0</td>\n",
       "    </tr>\n",
       "    <tr>\n",
       "      <th>4</th>\n",
       "      <td>49091</td>\n",
       "      <td>2019-03-22</td>\n",
       "      <td>t</td>\n",
       "      <td>$81.00</td>\n",
       "      <td>$81.00</td>\n",
       "      <td>180.0</td>\n",
       "      <td>360.0</td>\n",
       "    </tr>\n",
       "  </tbody>\n",
       "</table>\n",
       "</div>"
      ],
      "text/plain": [
       "   listing_id        date available   price adjusted_price  minimum_nights  \\\n",
       "0       49091  2019-03-18         t  $81.00         $81.00           180.0   \n",
       "1       49091  2019-03-19         t  $81.00         $81.00           180.0   \n",
       "2       49091  2019-03-20         t  $81.00         $81.00           180.0   \n",
       "3       49091  2019-03-21         t  $81.00         $81.00           180.0   \n",
       "4       49091  2019-03-22         t  $81.00         $81.00           180.0   \n",
       "\n",
       "   maximum_nights  \n",
       "0           360.0  \n",
       "1           360.0  \n",
       "2           360.0  \n",
       "3           360.0  \n",
       "4           360.0  "
      ]
     },
     "execution_count": 15,
     "metadata": {},
     "output_type": "execute_result"
    }
   ],
   "source": [
    "calendars_full.head()"
   ]
  },
  {
   "cell_type": "code",
   "execution_count": 16,
   "metadata": {},
   "outputs": [],
   "source": [
    "# calendars_full.to_csv('./calendars_full.csv', index = False)"
   ]
  },
  {
   "cell_type": "markdown",
   "metadata": {},
   "source": [
    "### EDA 3.2: Prices of Accommodations Rise During the December-February Period"
   ]
  },
  {
   "cell_type": "code",
   "execution_count": 17,
   "metadata": {},
   "outputs": [],
   "source": [
    "calendars_full['month'] = calendars_full['date'].apply(lambda x: x[0:7])"
   ]
  },
  {
   "cell_type": "code",
   "execution_count": 18,
   "metadata": {},
   "outputs": [
    {
     "data": {
      "text/plain": [
       "2020-03    1099351\n",
       "2020-05    1065684\n",
       "2020-04    1042684\n",
       "2020-01    1024282\n",
       "2020-06    1008412\n",
       "2019-12     995527\n",
       "2020-07     960830\n",
       "2020-02     960616\n",
       "2020-08     874499\n",
       "2019-11     867051\n",
       "2019-10     825844\n",
       "2020-09     773803\n",
       "2020-12     759264\n",
       "2020-11     755403\n",
       "2020-10     750601\n",
       "2021-01     719878\n",
       "2019-09     715600\n",
       "2019-08     628955\n",
       "2019-07     579298\n",
       "2019-06     454794\n",
       "2019-05     379309\n",
       "2019-04     281928\n",
       "2019-03     111622\n",
       "Name: month, dtype: int64"
      ]
     },
     "execution_count": 18,
     "metadata": {},
     "output_type": "execute_result"
    }
   ],
   "source": [
    "# delete all the month in the future\n",
    "lst_date = dates[-1]\n",
    "calendars_full = calendars_full.query('month <= @lst_date')\n",
    "calendars_full['month'].value_counts()"
   ]
  },
  {
   "cell_type": "code",
   "execution_count": 19,
   "metadata": {},
   "outputs": [
    {
     "data": {
      "text/html": [
       "<div>\n",
       "<style scoped>\n",
       "    .dataframe tbody tr th:only-of-type {\n",
       "        vertical-align: middle;\n",
       "    }\n",
       "\n",
       "    .dataframe tbody tr th {\n",
       "        vertical-align: top;\n",
       "    }\n",
       "\n",
       "    .dataframe thead th {\n",
       "        text-align: right;\n",
       "    }\n",
       "</style>\n",
       "<table border=\"1\" class=\"dataframe\">\n",
       "  <thead>\n",
       "    <tr style=\"text-align: right;\">\n",
       "      <th></th>\n",
       "      <th>listing_id</th>\n",
       "      <th>date</th>\n",
       "      <th>available</th>\n",
       "      <th>price</th>\n",
       "      <th>adjusted_price</th>\n",
       "      <th>minimum_nights</th>\n",
       "      <th>maximum_nights</th>\n",
       "      <th>month</th>\n",
       "    </tr>\n",
       "  </thead>\n",
       "  <tbody>\n",
       "    <tr>\n",
       "      <th>0</th>\n",
       "      <td>49091</td>\n",
       "      <td>2019-03-18</td>\n",
       "      <td>t</td>\n",
       "      <td>81.0</td>\n",
       "      <td>$81.00</td>\n",
       "      <td>180.0</td>\n",
       "      <td>360.0</td>\n",
       "      <td>2019-03</td>\n",
       "    </tr>\n",
       "    <tr>\n",
       "      <th>1</th>\n",
       "      <td>49091</td>\n",
       "      <td>2019-03-19</td>\n",
       "      <td>t</td>\n",
       "      <td>81.0</td>\n",
       "      <td>$81.00</td>\n",
       "      <td>180.0</td>\n",
       "      <td>360.0</td>\n",
       "      <td>2019-03</td>\n",
       "    </tr>\n",
       "  </tbody>\n",
       "</table>\n",
       "</div>"
      ],
      "text/plain": [
       "   listing_id        date available  price adjusted_price  minimum_nights  \\\n",
       "0       49091  2019-03-18         t   81.0         $81.00           180.0   \n",
       "1       49091  2019-03-19         t   81.0         $81.00           180.0   \n",
       "\n",
       "   maximum_nights    month  \n",
       "0           360.0  2019-03  \n",
       "1           360.0  2019-03  "
      ]
     },
     "execution_count": 19,
     "metadata": {},
     "output_type": "execute_result"
    }
   ],
   "source": [
    "calendars_full['price'] = calendars_full['price'].apply(lambda x: float(x[1:-3].replace(',', '')))\n",
    "calendars_full.head(2)"
   ]
  },
  {
   "cell_type": "code",
   "execution_count": 23,
   "metadata": {},
   "outputs": [],
   "source": [
    "# get mean price of each month\n",
    "calendars_mean_date = calendars_full[['date', 'price']].groupby(['date']).mean()\n",
    "calendars_mean_date_df = pd.DataFrame(calendars_mean_date)\n",
    "calendars_mean_date_df.rename(columns = {'price': 'mean_price'}, inplace = True)\n",
    "calendars_mean_date_df.reset_index(inplace = True)"
   ]
  },
  {
   "cell_type": "markdown",
   "metadata": {},
   "source": [
    "## plot the calendar heatmap of prices"
   ]
  },
  {
   "cell_type": "code",
   "execution_count": 71,
   "metadata": {},
   "outputs": [],
   "source": [
    "df = calendars_mean_date_df"
   ]
  },
  {
   "cell_type": "code",
   "execution_count": 75,
   "metadata": {},
   "outputs": [],
   "source": [
    "df = df.groupby(['date']).mean()\n",
    "df.index = pd.to_datetime(df.index)"
   ]
  },
  {
   "cell_type": "code",
   "execution_count": 76,
   "metadata": {},
   "outputs": [],
   "source": [
    "from matplotlib import colors\n",
    "\n",
    "# Turn data frame to a dictionary for easy access\n",
    "cal = {'2019': df[df.index.year == 2019], '2020': df[df.index.year == 2020]}\n",
    "\n",
    "# Define Ticks\n",
    "DAYS = ['Sun', 'Mon', 'Tues', 'Wed', 'Thurs', 'Fri', 'Sat']\n",
    "MONTHS = ['Jan', 'Feb', 'Mar', 'Apr', 'May', 'June', 'July', 'Aug', 'Sept', 'Oct', 'Nov', 'Dec']\n"
   ]
  },
  {
   "cell_type": "code",
   "execution_count": 96,
   "metadata": {},
   "outputs": [
    {
     "data": {
      "image/png": "[encoded data removed]",
      "text/plain": [
       "<Figure size 1440x432 with 3 Axes>"
      ]
     },
     "metadata": {
      "needs_background": "light"
     },
     "output_type": "display_data"
    }
   ],
   "source": [
    "fig, ax = plt.subplots(2, 1, figsize = (20,6))\n",
    "for i, val in enumerate(['2019', '2020']):\n",
    "    start = cal.get(val).index.min()\n",
    "    end = cal.get(val).index.max()\n",
    "    start_sun = start - np.timedelta64((start.dayofweek + 1) % 7, 'D')\n",
    "    end_sun =  end + np.timedelta64(7 - end.dayofweek -1, 'D')\n",
    "    \n",
    "    num_weeks = (end_sun - start_sun).days // 7\n",
    "    heatmap = np.full([7, num_weeks], np.nan)    \n",
    "    ticks = {}\n",
    "    y = np.arange(8) - 0.5\n",
    "    x = np.arange(num_weeks + 1) - 0.5\n",
    "    for week in range(num_weeks):\n",
    "        for day in range(7):\n",
    "            date = start_sun + np.timedelta64(7 * week + day, 'D')\n",
    "            if date.day == 1:\n",
    "                ticks[week] = MONTHS[date.month - 1]\n",
    "            if date.dayofyear == 1:\n",
    "                ticks[week] += f'\\n{date.year}'\n",
    "            if start <= date <= end:\n",
    "                heatmap[day, week] = cal.get(val).loc[date, 'mean_price']\n",
    "    mesh = ax[i].pcolormesh(x, y, heatmap, cmap = 'jet', edgecolors = 'grey')\n",
    "\n",
    "    ax[i].invert_yaxis()\n",
    "\n",
    "    # Set the ticks.\n",
    "    ax[i].set_xticks(list(ticks.keys()))\n",
    "    ax[i].set_xticklabels(list(ticks.values()))\n",
    "    ax[i].set_yticks(np.arange(7))\n",
    "    ax[i].set_yticklabels(DAYS)\n",
    "    ax[i].set_ylim(6.5,-0.5)\n",
    "    ax[i].set_aspect('equal')\n",
    "    ax[i].set_title(val, fontsize = 15)\n",
    "\n",
    "    # Hatch for out of bound values in a year\n",
    "    ax[i].patch.set(hatch='xx', edgecolor='black')\n",
    "\n",
    "# Add color bar at the bottom\n",
    "cbar_ax = fig.add_axes([0.25, -0.10, 0.5, 0.05])\n",
    "fig.colorbar(mesh, orientation=\"horizontal\", pad=0.2, cax = cbar_ax)\n",
    "colorbar = ax[1].collections[0].colorbar\n",
    "r = colorbar.vmax - colorbar.vmin\n",
    "fig.suptitle('Accommodations Mean Price Every Day', fontsize = 18)\n",
    "fig.subplots_adjust(hspace = 0.5)"
   ]
  },
  {
   "cell_type": "markdown",
   "metadata": {},
   "source": [
    "## plot the monthly price change"
   ]
  },
  {
   "cell_type": "code",
   "execution_count": 17,
   "metadata": {},
   "outputs": [],
   "source": [
    "# get mean price of each month\n",
    "calendars_mean = calendars_full[['listing_id', 'month', 'price']].groupby(['listing_id','month']).mean()\n",
    "calendars_mean_df = pd.DataFrame(calendars_mean)\n",
    "calendars_mean_df.rename(columns = {'price': 'mean_price'}, inplace = True)\n",
    "calendars_mean_df.reset_index(inplace = True)"
   ]
  },
  {
   "cell_type": "code",
   "execution_count": 18,
   "metadata": {},
   "outputs": [
    {
     "data": {
      "text/html": [
       "<div>\n",
       "<style scoped>\n",
       "    .dataframe tbody tr th:only-of-type {\n",
       "        vertical-align: middle;\n",
       "    }\n",
       "\n",
       "    .dataframe tbody tr th {\n",
       "        vertical-align: top;\n",
       "    }\n",
       "\n",
       "    .dataframe thead th {\n",
       "        text-align: right;\n",
       "    }\n",
       "</style>\n",
       "<table border=\"1\" class=\"dataframe\">\n",
       "  <thead>\n",
       "    <tr style=\"text-align: right;\">\n",
       "      <th></th>\n",
       "      <th>listing_id</th>\n",
       "      <th>month</th>\n",
       "      <th>mean_price</th>\n",
       "    </tr>\n",
       "  </thead>\n",
       "  <tbody>\n",
       "    <tr>\n",
       "      <th>0</th>\n",
       "      <td>49091</td>\n",
       "      <td>2019-03</td>\n",
       "      <td>81.00</td>\n",
       "    </tr>\n",
       "    <tr>\n",
       "      <th>1</th>\n",
       "      <td>49091</td>\n",
       "      <td>2019-04</td>\n",
       "      <td>81.00</td>\n",
       "    </tr>\n",
       "    <tr>\n",
       "      <th>2</th>\n",
       "      <td>49091</td>\n",
       "      <td>2019-05</td>\n",
       "      <td>81.45</td>\n",
       "    </tr>\n",
       "    <tr>\n",
       "      <th>3</th>\n",
       "      <td>49091</td>\n",
       "      <td>2019-06</td>\n",
       "      <td>82.00</td>\n",
       "    </tr>\n",
       "    <tr>\n",
       "      <th>4</th>\n",
       "      <td>49091</td>\n",
       "      <td>2019-07</td>\n",
       "      <td>82.00</td>\n",
       "    </tr>\n",
       "  </tbody>\n",
       "</table>\n",
       "</div>"
      ],
      "text/plain": [
       "   listing_id    month  mean_price\n",
       "0       49091  2019-03       81.00\n",
       "1       49091  2019-04       81.00\n",
       "2       49091  2019-05       81.45\n",
       "3       49091  2019-06       82.00\n",
       "4       49091  2019-07       82.00"
      ]
     },
     "execution_count": 18,
     "metadata": {},
     "output_type": "execute_result"
    }
   ],
   "source": [
    "calendars_mean_df.head()"
   ]
  },
  {
   "cell_type": "code",
   "execution_count": 19,
   "metadata": {},
   "outputs": [
    {
     "name": "stderr",
     "output_type": "stream",
     "text": [
      "<ipython-input-19-1a1a625bd402>:3: SettingWithCopyWarning: \n",
      "A value is trying to be set on a copy of a slice from a DataFrame\n",
      "\n",
      "See the caveats in the documentation: https://pandas.pydata.org/pandas-docs/stable/user_guide/indexing.html#returning-a-view-versus-a-copy\n",
      "  calendars_mean_df['previous_listing_id'][0] = 0\n",
      "<ipython-input-19-1a1a625bd402>:7: SettingWithCopyWarning: \n",
      "A value is trying to be set on a copy of a slice from a DataFrame\n",
      "\n",
      "See the caveats in the documentation: https://pandas.pydata.org/pandas-docs/stable/user_guide/indexing.html#returning-a-view-versus-a-copy\n",
      "  calendars_mean_df['previous_mean_price'][0] = calendars_mean_df['mean_price'][0]\n"
     ]
    }
   ],
   "source": [
    "# create new column previous_listing_id\n",
    "calendars_mean_df['previous_listing_id'] = calendars_mean_df['listing_id'].shift(1)\n",
    "calendars_mean_df['previous_listing_id'][0] = 0\n",
    "calendars_mean_df['previous_listing_id'] = calendars_mean_df['previous_listing_id'].apply(lambda x: int(x))\n",
    "# create new column previous_mean_price\n",
    "calendars_mean_df['previous_mean_price'] = calendars_mean_df['mean_price'].shift(1)\n",
    "calendars_mean_df['previous_mean_price'][0] = calendars_mean_df['mean_price'][0]\n",
    "# create new column diff_mean_price: difference between this month's mean_price to last month's\n",
    "calendars_mean_df['diff_mean_price'] = 0\n",
    "calendars_mean_df['diff_mean_price'] = calendars_mean_df.apply(\n",
    "    lambda row: row.mean_price - row.previous_mean_price if row.listing_id == row.previous_listing_id else 0, axis=1)\n",
    "# create new column change_price_perc \n",
    "calendars_mean_df['change_price_perc'] = calendars_mean_df['diff_mean_price']/calendars_mean_df['previous_mean_price']"
   ]
  },
  {
   "cell_type": "code",
   "execution_count": 20,
   "metadata": {},
   "outputs": [
    {
     "data": {
      "text/html": [
       "<div>\n",
       "<style scoped>\n",
       "    .dataframe tbody tr th:only-of-type {\n",
       "        vertical-align: middle;\n",
       "    }\n",
       "\n",
       "    .dataframe tbody tr th {\n",
       "        vertical-align: top;\n",
       "    }\n",
       "\n",
       "    .dataframe thead th {\n",
       "        text-align: right;\n",
       "    }\n",
       "</style>\n",
       "<table border=\"1\" class=\"dataframe\">\n",
       "  <thead>\n",
       "    <tr style=\"text-align: right;\">\n",
       "      <th></th>\n",
       "      <th>listing_id</th>\n",
       "      <th>month</th>\n",
       "      <th>mean_price</th>\n",
       "      <th>previous_listing_id</th>\n",
       "      <th>previous_mean_price</th>\n",
       "      <th>diff_mean_price</th>\n",
       "      <th>change_price_perc</th>\n",
       "    </tr>\n",
       "  </thead>\n",
       "  <tbody>\n",
       "    <tr>\n",
       "      <th>0</th>\n",
       "      <td>49091</td>\n",
       "      <td>2019-03</td>\n",
       "      <td>81.00</td>\n",
       "      <td>0</td>\n",
       "      <td>81.00</td>\n",
       "      <td>0.00</td>\n",
       "      <td>0.000000</td>\n",
       "    </tr>\n",
       "    <tr>\n",
       "      <th>1</th>\n",
       "      <td>49091</td>\n",
       "      <td>2019-04</td>\n",
       "      <td>81.00</td>\n",
       "      <td>49091</td>\n",
       "      <td>81.00</td>\n",
       "      <td>0.00</td>\n",
       "      <td>0.000000</td>\n",
       "    </tr>\n",
       "    <tr>\n",
       "      <th>2</th>\n",
       "      <td>49091</td>\n",
       "      <td>2019-05</td>\n",
       "      <td>81.45</td>\n",
       "      <td>49091</td>\n",
       "      <td>81.00</td>\n",
       "      <td>0.45</td>\n",
       "      <td>0.005556</td>\n",
       "    </tr>\n",
       "    <tr>\n",
       "      <th>3</th>\n",
       "      <td>49091</td>\n",
       "      <td>2019-06</td>\n",
       "      <td>82.00</td>\n",
       "      <td>49091</td>\n",
       "      <td>81.45</td>\n",
       "      <td>0.55</td>\n",
       "      <td>0.006753</td>\n",
       "    </tr>\n",
       "    <tr>\n",
       "      <th>4</th>\n",
       "      <td>49091</td>\n",
       "      <td>2019-07</td>\n",
       "      <td>82.00</td>\n",
       "      <td>49091</td>\n",
       "      <td>82.00</td>\n",
       "      <td>0.00</td>\n",
       "      <td>0.000000</td>\n",
       "    </tr>\n",
       "  </tbody>\n",
       "</table>\n",
       "</div>"
      ],
      "text/plain": [
       "   listing_id    month  mean_price  previous_listing_id  previous_mean_price  \\\n",
       "0       49091  2019-03       81.00                    0                81.00   \n",
       "1       49091  2019-04       81.00                49091                81.00   \n",
       "2       49091  2019-05       81.45                49091                81.00   \n",
       "3       49091  2019-06       82.00                49091                81.45   \n",
       "4       49091  2019-07       82.00                49091                82.00   \n",
       "\n",
       "   diff_mean_price  change_price_perc  \n",
       "0             0.00           0.000000  \n",
       "1             0.00           0.000000  \n",
       "2             0.45           0.005556  \n",
       "3             0.55           0.006753  \n",
       "4             0.00           0.000000  "
      ]
     },
     "execution_count": 20,
     "metadata": {},
     "output_type": "execute_result"
    }
   ],
   "source": [
    "calendars_mean_df.head()"
   ]
  },
  {
   "cell_type": "code",
   "execution_count": 21,
   "metadata": {},
   "outputs": [],
   "source": [
    "# get mean price of each month\n",
    "# get mean change of mean_price of each month (group by month)\n",
    "calendars_mean_total = calendars_mean_df[['month', 'mean_price']].groupby(['month']).mean()\n",
    "calendars_mean_total_df = pd.DataFrame(calendars_mean_total)\n",
    "calendars_mean_total_df.rename(columns = {'mean_price': 'mean_price_month'}, inplace = True)\n",
    "calendars_mean_total_df.reset_index(inplace = True)"
   ]
  },
  {
   "cell_type": "code",
   "execution_count": 22,
   "metadata": {},
   "outputs": [
    {
     "data": {
      "text/html": [
       "<div>\n",
       "<style scoped>\n",
       "    .dataframe tbody tr th:only-of-type {\n",
       "        vertical-align: middle;\n",
       "    }\n",
       "\n",
       "    .dataframe tbody tr th {\n",
       "        vertical-align: top;\n",
       "    }\n",
       "\n",
       "    .dataframe thead th {\n",
       "        text-align: right;\n",
       "    }\n",
       "</style>\n",
       "<table border=\"1\" class=\"dataframe\">\n",
       "  <thead>\n",
       "    <tr style=\"text-align: right;\">\n",
       "      <th></th>\n",
       "      <th>month</th>\n",
       "      <th>mean_price_month</th>\n",
       "    </tr>\n",
       "  </thead>\n",
       "  <tbody>\n",
       "    <tr>\n",
       "      <th>0</th>\n",
       "      <td>2019-03</td>\n",
       "      <td>164.418242</td>\n",
       "    </tr>\n",
       "    <tr>\n",
       "      <th>1</th>\n",
       "      <td>2019-04</td>\n",
       "      <td>164.583522</td>\n",
       "    </tr>\n",
       "    <tr>\n",
       "      <th>2</th>\n",
       "      <td>2019-05</td>\n",
       "      <td>163.578741</td>\n",
       "    </tr>\n",
       "    <tr>\n",
       "      <th>3</th>\n",
       "      <td>2019-06</td>\n",
       "      <td>163.024692</td>\n",
       "    </tr>\n",
       "    <tr>\n",
       "      <th>4</th>\n",
       "      <td>2019-07</td>\n",
       "      <td>165.128516</td>\n",
       "    </tr>\n",
       "  </tbody>\n",
       "</table>\n",
       "</div>"
      ],
      "text/plain": [
       "     month  mean_price_month\n",
       "0  2019-03        164.418242\n",
       "1  2019-04        164.583522\n",
       "2  2019-05        163.578741\n",
       "3  2019-06        163.024692\n",
       "4  2019-07        165.128516"
      ]
     },
     "execution_count": 22,
     "metadata": {},
     "output_type": "execute_result"
    }
   ],
   "source": [
    "calendars_mean_total.head()"
   ]
  },
  {
   "cell_type": "code",
   "execution_count": 23,
   "metadata": {},
   "outputs": [
    {
     "data": {
      "text/plain": [
       "Text(0, 0.5, 'Average Price')"
      ]
     },
     "execution_count": 23,
     "metadata": {},
     "output_type": "execute_result"
    },
    {
     "data": {
      "image/png": "[encoded data removed]",
      "text/plain": [
       "<Figure size 2160x720 with 1 Axes>"
      ]
     },
     "metadata": {
      "needs_background": "light"
     },
     "output_type": "display_data"
    }
   ],
   "source": [
    "import matplotlib.pyplot as plt\n",
    "import matplotlib\n",
    "matplotlib.rcParams.update({'font.size': 20})\n",
    "plt.figure(figsize=(30, 10))\n",
    "plt.xticks(fontsize=15)\n",
    "plt.yticks(fontsize=20)\n",
    "plt.plot('month', 'mean_price_month', data = calendars_mean_total_df)\n",
    "plt.title('Average Price over Time')\n",
    "plt.xlabel('Month')\n",
    "plt.ylabel('Average Price')"
   ]
  },
  {
   "cell_type": "code",
   "execution_count": 24,
   "metadata": {},
   "outputs": [],
   "source": [
    "# get mean change of mean_price of each month (group by month)\n",
    "calendars_change = calendars_mean_df[['month', 'change_price_perc']].groupby(['month']).mean()\n",
    "calendars_change_df = pd.DataFrame(calendars_change)\n",
    "calendars_change_df.rename(columns = {'change_price_perc': 'mean_change_price_perc'}, inplace = True)\n",
    "calendars_change_df.reset_index(inplace = True)"
   ]
  },
  {
   "cell_type": "code",
   "execution_count": 25,
   "metadata": {},
   "outputs": [
    {
     "data": {
      "text/html": [
       "<div>\n",
       "<style scoped>\n",
       "    .dataframe tbody tr th:only-of-type {\n",
       "        vertical-align: middle;\n",
       "    }\n",
       "\n",
       "    .dataframe tbody tr th {\n",
       "        vertical-align: top;\n",
       "    }\n",
       "\n",
       "    .dataframe thead th {\n",
       "        text-align: right;\n",
       "    }\n",
       "</style>\n",
       "<table border=\"1\" class=\"dataframe\">\n",
       "  <thead>\n",
       "    <tr style=\"text-align: right;\">\n",
       "      <th></th>\n",
       "      <th>month</th>\n",
       "      <th>mean_change_price_perc</th>\n",
       "    </tr>\n",
       "  </thead>\n",
       "  <tbody>\n",
       "    <tr>\n",
       "      <th>0</th>\n",
       "      <td>2019-03</td>\n",
       "      <td>0.000000</td>\n",
       "    </tr>\n",
       "    <tr>\n",
       "      <th>1</th>\n",
       "      <td>2019-04</td>\n",
       "      <td>0.012830</td>\n",
       "    </tr>\n",
       "    <tr>\n",
       "      <th>2</th>\n",
       "      <td>2019-05</td>\n",
       "      <td>0.001445</td>\n",
       "    </tr>\n",
       "    <tr>\n",
       "      <th>3</th>\n",
       "      <td>2019-06</td>\n",
       "      <td>0.012955</td>\n",
       "    </tr>\n",
       "    <tr>\n",
       "      <th>4</th>\n",
       "      <td>2019-07</td>\n",
       "      <td>0.012100</td>\n",
       "    </tr>\n",
       "  </tbody>\n",
       "</table>\n",
       "</div>"
      ],
      "text/plain": [
       "     month  mean_change_price_perc\n",
       "0  2019-03                0.000000\n",
       "1  2019-04                0.012830\n",
       "2  2019-05                0.001445\n",
       "3  2019-06                0.012955\n",
       "4  2019-07                0.012100"
      ]
     },
     "execution_count": 25,
     "metadata": {},
     "output_type": "execute_result"
    }
   ],
   "source": [
    "calendars_change_df.head()"
   ]
  },
  {
   "cell_type": "code",
   "execution_count": 26,
   "metadata": {},
   "outputs": [
    {
     "data": {
      "text/plain": [
       "Text(0, 0.5, 'Price Fluctuation')"
      ]
     },
     "execution_count": 26,
     "metadata": {},
     "output_type": "execute_result"
    },
    {
     "data": {
      "text/plain": [
       "<Figure size 2160x720 with 0 Axes>"
      ]
     },
     "metadata": {},
     "output_type": "display_data"
    },
    {
     "data": {
      "image/png": "[encoded data removed]",
      "text/plain": [
       "<Figure size 2160x720 with 1 Axes>"
      ]
     },
     "metadata": {
      "needs_background": "light"
     },
     "output_type": "display_data"
    }
   ],
   "source": [
    "import matplotlib.pyplot as plt\n",
    "plt.figure(figsize=(30, 10))\n",
    "plt.figure(figsize=(30, 10))\n",
    "plt.xticks(fontsize=15)\n",
    "plt.yticks(fontsize=20)\n",
    "plt.plot('month', 'mean_change_price_perc', data = calendars_change_df)\n",
    "plt.title('Average Price Fluctuation over Time')\n",
    "plt.xlabel('Month')\n",
    "plt.ylabel('Price Fluctuation')"
   ]
  },
  {
   "cell_type": "code",
   "execution_count": 38,
   "metadata": {},
   "outputs": [
    {
     "data": {
      "text/html": [
       "<div>\n",
       "<style scoped>\n",
       "    .dataframe tbody tr th:only-of-type {\n",
       "        vertical-align: middle;\n",
       "    }\n",
       "\n",
       "    .dataframe tbody tr th {\n",
       "        vertical-align: top;\n",
       "    }\n",
       "\n",
       "    .dataframe thead th {\n",
       "        text-align: right;\n",
       "    }\n",
       "</style>\n",
       "<table border=\"1\" class=\"dataframe\">\n",
       "  <thead>\n",
       "    <tr style=\"text-align: right;\">\n",
       "      <th></th>\n",
       "      <th>month</th>\n",
       "      <th>mean_change_price_perc</th>\n",
       "      <th>mean_price_month</th>\n",
       "    </tr>\n",
       "  </thead>\n",
       "  <tbody>\n",
       "    <tr>\n",
       "      <th>0</th>\n",
       "      <td>2019-03</td>\n",
       "      <td>0.000000</td>\n",
       "      <td>164.418242</td>\n",
       "    </tr>\n",
       "    <tr>\n",
       "      <th>1</th>\n",
       "      <td>2019-04</td>\n",
       "      <td>0.012830</td>\n",
       "      <td>164.583522</td>\n",
       "    </tr>\n",
       "    <tr>\n",
       "      <th>2</th>\n",
       "      <td>2019-05</td>\n",
       "      <td>0.001445</td>\n",
       "      <td>163.578741</td>\n",
       "    </tr>\n",
       "    <tr>\n",
       "      <th>3</th>\n",
       "      <td>2019-06</td>\n",
       "      <td>0.012955</td>\n",
       "      <td>163.024692</td>\n",
       "    </tr>\n",
       "    <tr>\n",
       "      <th>4</th>\n",
       "      <td>2019-07</td>\n",
       "      <td>0.012100</td>\n",
       "      <td>165.128516</td>\n",
       "    </tr>\n",
       "  </tbody>\n",
       "</table>\n",
       "</div>"
      ],
      "text/plain": [
       "     month  mean_change_price_perc  mean_price_month\n",
       "0  2019-03                0.000000        164.418242\n",
       "1  2019-04                0.012830        164.583522\n",
       "2  2019-05                0.001445        163.578741\n",
       "3  2019-06                0.012955        163.024692\n",
       "4  2019-07                0.012100        165.128516"
      ]
     },
     "execution_count": 38,
     "metadata": {},
     "output_type": "execute_result"
    }
   ],
   "source": [
    "calendars_df = pd.merge(calendars_change, calendars_mean_total_df, on = 'month')\n",
    "calendars_df.head()"
   ]
  },
  {
   "cell_type": "code",
   "execution_count": 39,
   "metadata": {},
   "outputs": [],
   "source": [
    "calendars_df.to_csv('./calendars_df.csv')"
   ]
  },
  {
   "cell_type": "code",
   "execution_count": null,
   "metadata": {},
   "outputs": [],
   "source": []
  }
 ],
 "metadata": {
  "kernelspec": {
   "display_name": "Python 3",
   "language": "python",
   "name": "python3"
  },
  "language_info": {
   "codemirror_mode": {
    "name": "ipython",
    "version": 3
   },
   "file_extension": ".py",
   "mimetype": "text/x-python",
   "name": "python",
   "nbconvert_exporter": "python",
   "pygments_lexer": "ipython3",
   "version": "3.8.2"
  }
 },
 "nbformat": 4,
 "nbformat_minor": 4
}
