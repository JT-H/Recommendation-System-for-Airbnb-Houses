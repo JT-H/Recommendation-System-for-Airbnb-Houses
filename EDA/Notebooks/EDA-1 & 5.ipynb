{
 "cells": [
  {
   "cell_type": "markdown",
   "metadata": {},
   "source": [
    "# EDA - 1\n",
    "Guests Who Stay for Different Durations Prefer Certain Types of Geographical Locations and Surrounding Environments"
   ]
  },
  {
   "cell_type": "code",
   "execution_count": 38,
   "metadata": {
    "scrolled": true
   },
   "outputs": [
    {
     "name": "stdout",
     "output_type": "stream",
     "text": [
      "Collecting statsmodels\n",
      "  Downloading statsmodels-0.12.2-cp38-cp38-macosx_10_15_x86_64.whl (9.5 MB)\n",
      "\u001b[K     |████████████████████████████████| 9.5 MB 1.2 MB/s eta 0:00:01     |█████████████████████████▉      | 7.7 MB 1.5 MB/s eta 0:00:02\n",
      "\u001b[?25hRequirement already satisfied: pandas>=0.21 in /Library/Frameworks/Python.framework/Versions/3.8/lib/python3.8/site-packages (from statsmodels) (1.1.5)\n",
      "Requirement already satisfied: numpy>=1.15 in /Library/Frameworks/Python.framework/Versions/3.8/lib/python3.8/site-packages (from statsmodels) (1.19.4)\n",
      "Collecting patsy>=0.5\n",
      "  Downloading patsy-0.5.1-py2.py3-none-any.whl (231 kB)\n",
      "\u001b[K     |████████████████████████████████| 231 kB 406 kB/s eta 0:00:01\n",
      "\u001b[?25hRequirement already satisfied: scipy>=1.1 in /Library/Frameworks/Python.framework/Versions/3.8/lib/python3.8/site-packages (from statsmodels) (1.5.4)\n",
      "Requirement already satisfied: pytz>=2017.2 in /Library/Frameworks/Python.framework/Versions/3.8/lib/python3.8/site-packages (from pandas>=0.21->statsmodels) (2020.4)\n",
      "Requirement already satisfied: python-dateutil>=2.7.3 in /Library/Frameworks/Python.framework/Versions/3.8/lib/python3.8/site-packages (from pandas>=0.21->statsmodels) (2.8.1)\n",
      "Requirement already satisfied: six in /Library/Frameworks/Python.framework/Versions/3.8/lib/python3.8/site-packages (from patsy>=0.5->statsmodels) (1.15.0)\n",
      "Installing collected packages: patsy, statsmodels\n",
      "Successfully installed patsy-0.5.1 statsmodels-0.12.2\n",
      "\u001b[33mWARNING: You are using pip version 20.2.4; however, version 21.0.1 is available.\n",
      "You should consider upgrading via the '/Library/Frameworks/Python.framework/Versions/3.8/bin/python3 -m pip install --upgrade pip' command.\u001b[0m\n"
     ]
    }
   ],
   "source": [
    "!pip3 install statsmodels"
   ]
  },
  {
   "cell_type": "code",
   "execution_count": 225,
   "metadata": {},
   "outputs": [],
   "source": [
    "import numpy as np\n",
    "import pandas as pd\n",
    "import matplotlib.pyplot as plt\n",
    "import seaborn as sn"
   ]
  },
  {
   "cell_type": "code",
   "execution_count": 163,
   "metadata": {
    "scrolled": true
   },
   "outputs": [
    {
     "data": {
      "text/html": [
       "<div>\n",
       "<style scoped>\n",
       "    .dataframe tbody tr th:only-of-type {\n",
       "        vertical-align: middle;\n",
       "    }\n",
       "\n",
       "    .dataframe tbody tr th {\n",
       "        vertical-align: top;\n",
       "    }\n",
       "\n",
       "    .dataframe thead th {\n",
       "        text-align: right;\n",
       "    }\n",
       "</style>\n",
       "<table border=\"1\" class=\"dataframe\">\n",
       "  <thead>\n",
       "    <tr style=\"text-align: right;\">\n",
       "      <th></th>\n",
       "      <th>reviewer_id</th>\n",
       "      <th>listing_id</th>\n",
       "      <th>date</th>\n",
       "      <th>reviewer_name</th>\n",
       "      <th>comments</th>\n",
       "      <th>name</th>\n",
       "      <th>description</th>\n",
       "      <th>neighborhood_overview</th>\n",
       "      <th>host_id</th>\n",
       "      <th>host_since</th>\n",
       "      <th>...</th>\n",
       "      <th>review_scores_communication</th>\n",
       "      <th>review_scores_location</th>\n",
       "      <th>review_scores_value</th>\n",
       "      <th>instant_bookable</th>\n",
       "      <th>calculated_host_listings_count</th>\n",
       "      <th>reviews_per_month</th>\n",
       "      <th>nearby_sites_rating</th>\n",
       "      <th>nearest_station_dist</th>\n",
       "      <th>nearest_site_dist</th>\n",
       "      <th>nearest_site_rating</th>\n",
       "    </tr>\n",
       "  </thead>\n",
       "  <tbody>\n",
       "    <tr>\n",
       "      <th>0</th>\n",
       "      <td>8557223</td>\n",
       "      <td>49091</td>\n",
       "      <td>2013-10-21</td>\n",
       "      <td>Jared</td>\n",
       "      <td>Fran was absolutely gracious and welcoming. Ma...</td>\n",
       "      <td>COZICOMFORT LONG TERM STAY ROOM 2</td>\n",
       "      <td>This is Room No. 2.(available after Jan 15 201...</td>\n",
       "      <td>NaN</td>\n",
       "      <td>266763</td>\n",
       "      <td>2010-10-20</td>\n",
       "      <td>...</td>\n",
       "      <td>10.0</td>\n",
       "      <td>8.0</td>\n",
       "      <td>8.0</td>\n",
       "      <td>f</td>\n",
       "      <td>2</td>\n",
       "      <td>0.02</td>\n",
       "      <td>0.995731</td>\n",
       "      <td>0.617762</td>\n",
       "      <td>4.295315</td>\n",
       "      <td>4.595264</td>\n",
       "    </tr>\n",
       "    <tr>\n",
       "      <th>1</th>\n",
       "      <td>1356099</td>\n",
       "      <td>50646</td>\n",
       "      <td>2014-04-18</td>\n",
       "      <td>James</td>\n",
       "      <td>A comfortable room in a smart condo developmen...</td>\n",
       "      <td>Pleasant Room along Bukit Timah</td>\n",
       "      <td>Fully furnished bedroom with a nice view on th...</td>\n",
       "      <td>The serenity &amp; quiet surrounding makes it an i...</td>\n",
       "      <td>227796</td>\n",
       "      <td>2010-09-08</td>\n",
       "      <td>...</td>\n",
       "      <td>10.0</td>\n",
       "      <td>9.0</td>\n",
       "      <td>9.0</td>\n",
       "      <td>f</td>\n",
       "      <td>1</td>\n",
       "      <td>0.30</td>\n",
       "      <td>1.269606</td>\n",
       "      <td>0.399696</td>\n",
       "      <td>2.039236</td>\n",
       "      <td>4.654423</td>\n",
       "    </tr>\n",
       "    <tr>\n",
       "      <th>2</th>\n",
       "      <td>15222393</td>\n",
       "      <td>50646</td>\n",
       "      <td>2014-06-05</td>\n",
       "      <td>Welli</td>\n",
       "      <td>Stayed over at Sujatha's house for 3 good nigh...</td>\n",
       "      <td>Pleasant Room along Bukit Timah</td>\n",
       "      <td>Fully furnished bedroom with a nice view on th...</td>\n",
       "      <td>The serenity &amp; quiet surrounding makes it an i...</td>\n",
       "      <td>227796</td>\n",
       "      <td>2010-09-08</td>\n",
       "      <td>...</td>\n",
       "      <td>10.0</td>\n",
       "      <td>9.0</td>\n",
       "      <td>9.0</td>\n",
       "      <td>f</td>\n",
       "      <td>1</td>\n",
       "      <td>0.30</td>\n",
       "      <td>1.269606</td>\n",
       "      <td>0.399696</td>\n",
       "      <td>2.039236</td>\n",
       "      <td>4.654423</td>\n",
       "    </tr>\n",
       "    <tr>\n",
       "      <th>3</th>\n",
       "      <td>5543172</td>\n",
       "      <td>50646</td>\n",
       "      <td>2014-07-02</td>\n",
       "      <td>Cyril</td>\n",
       "      <td>It's been a lovely stay at Sujatha's. The room...</td>\n",
       "      <td>Pleasant Room along Bukit Timah</td>\n",
       "      <td>Fully furnished bedroom with a nice view on th...</td>\n",
       "      <td>The serenity &amp; quiet surrounding makes it an i...</td>\n",
       "      <td>227796</td>\n",
       "      <td>2010-09-08</td>\n",
       "      <td>...</td>\n",
       "      <td>10.0</td>\n",
       "      <td>9.0</td>\n",
       "      <td>9.0</td>\n",
       "      <td>f</td>\n",
       "      <td>1</td>\n",
       "      <td>0.30</td>\n",
       "      <td>1.269606</td>\n",
       "      <td>0.399696</td>\n",
       "      <td>2.039236</td>\n",
       "      <td>4.654423</td>\n",
       "    </tr>\n",
       "    <tr>\n",
       "      <th>4</th>\n",
       "      <td>817532</td>\n",
       "      <td>50646</td>\n",
       "      <td>2014-07-08</td>\n",
       "      <td>Jake</td>\n",
       "      <td>We had a great experience. A nice place, an am...</td>\n",
       "      <td>Pleasant Room along Bukit Timah</td>\n",
       "      <td>Fully furnished bedroom with a nice view on th...</td>\n",
       "      <td>The serenity &amp; quiet surrounding makes it an i...</td>\n",
       "      <td>227796</td>\n",
       "      <td>2010-09-08</td>\n",
       "      <td>...</td>\n",
       "      <td>10.0</td>\n",
       "      <td>9.0</td>\n",
       "      <td>9.0</td>\n",
       "      <td>f</td>\n",
       "      <td>1</td>\n",
       "      <td>0.30</td>\n",
       "      <td>1.269606</td>\n",
       "      <td>0.399696</td>\n",
       "      <td>2.039236</td>\n",
       "      <td>4.654423</td>\n",
       "    </tr>\n",
       "  </tbody>\n",
       "</table>\n",
       "<p>5 rows × 59 columns</p>\n",
       "</div>"
      ],
      "text/plain": [
       "   reviewer_id  listing_id        date reviewer_name  \\\n",
       "0      8557223       49091  2013-10-21         Jared   \n",
       "1      1356099       50646  2014-04-18         James   \n",
       "2     15222393       50646  2014-06-05         Welli   \n",
       "3      5543172       50646  2014-07-02         Cyril   \n",
       "4       817532       50646  2014-07-08          Jake   \n",
       "\n",
       "                                            comments  \\\n",
       "0  Fran was absolutely gracious and welcoming. Ma...   \n",
       "1  A comfortable room in a smart condo developmen...   \n",
       "2  Stayed over at Sujatha's house for 3 good nigh...   \n",
       "3  It's been a lovely stay at Sujatha's. The room...   \n",
       "4  We had a great experience. A nice place, an am...   \n",
       "\n",
       "                                name  \\\n",
       "0  COZICOMFORT LONG TERM STAY ROOM 2   \n",
       "1    Pleasant Room along Bukit Timah   \n",
       "2    Pleasant Room along Bukit Timah   \n",
       "3    Pleasant Room along Bukit Timah   \n",
       "4    Pleasant Room along Bukit Timah   \n",
       "\n",
       "                                         description  \\\n",
       "0  This is Room No. 2.(available after Jan 15 201...   \n",
       "1  Fully furnished bedroom with a nice view on th...   \n",
       "2  Fully furnished bedroom with a nice view on th...   \n",
       "3  Fully furnished bedroom with a nice view on th...   \n",
       "4  Fully furnished bedroom with a nice view on th...   \n",
       "\n",
       "                               neighborhood_overview  host_id  host_since  \\\n",
       "0                                                NaN   266763  2010-10-20   \n",
       "1  The serenity & quiet surrounding makes it an i...   227796  2010-09-08   \n",
       "2  The serenity & quiet surrounding makes it an i...   227796  2010-09-08   \n",
       "3  The serenity & quiet surrounding makes it an i...   227796  2010-09-08   \n",
       "4  The serenity & quiet surrounding makes it an i...   227796  2010-09-08   \n",
       "\n",
       "   ... review_scores_communication review_scores_location review_scores_value  \\\n",
       "0  ...                        10.0                    8.0                 8.0   \n",
       "1  ...                        10.0                    9.0                 9.0   \n",
       "2  ...                        10.0                    9.0                 9.0   \n",
       "3  ...                        10.0                    9.0                 9.0   \n",
       "4  ...                        10.0                    9.0                 9.0   \n",
       "\n",
       "  instant_bookable calculated_host_listings_count reviews_per_month  \\\n",
       "0                f                              2              0.02   \n",
       "1                f                              1              0.30   \n",
       "2                f                              1              0.30   \n",
       "3                f                              1              0.30   \n",
       "4                f                              1              0.30   \n",
       "\n",
       "  nearby_sites_rating nearest_station_dist nearest_site_dist  \\\n",
       "0            0.995731             0.617762          4.295315   \n",
       "1            1.269606             0.399696          2.039236   \n",
       "2            1.269606             0.399696          2.039236   \n",
       "3            1.269606             0.399696          2.039236   \n",
       "4            1.269606             0.399696          2.039236   \n",
       "\n",
       "  nearest_site_rating  \n",
       "0            4.595264  \n",
       "1            4.654423  \n",
       "2            4.654423  \n",
       "3            4.654423  \n",
       "4            4.654423  \n",
       "\n",
       "[5 rows x 59 columns]"
      ]
     },
     "execution_count": 163,
     "metadata": {},
     "output_type": "execute_result"
    }
   ],
   "source": [
    "df_raw = pd.read_csv('../Datasets/cleaned_customer.csv')\n",
    "df_raw.head()"
   ]
  },
  {
   "cell_type": "code",
   "execution_count": 45,
   "metadata": {
    "scrolled": true
   },
   "outputs": [
    {
     "data": {
      "text/plain": [
       "Index(['reviewer_id', 'listing_id', 'date', 'reviewer_name', 'comments',\n",
       "       'name', 'description', 'neighborhood_overview', 'host_id', 'host_since',\n",
       "       'host_about', 'host_response_time', 'host_response_rate',\n",
       "       'host_is_superhost', 'host_neighbourhood', 'host_verifications',\n",
       "       'host_has_profile_pic', 'host_identity_verified',\n",
       "       'neighbourhood_cleansed', 'neighbourhood_group_cleansed', 'latitude',\n",
       "       'longitude', 'property_type', 'room_type', 'accommodates', 'bathrooms',\n",
       "       'bedrooms', 'beds', 'amenities', 'price', 'minimum_nights',\n",
       "       'maximum_nights', 'minimum_minimum_nights', 'maximum_minimum_nights',\n",
       "       'minimum_maximum_nights', 'maximum_maximum_nights',\n",
       "       'minimum_nights_avg_ntm', 'maximum_nights_avg_ntm', 'calendar_updated',\n",
       "       'availability_30', 'availability_60', 'availability_90',\n",
       "       'availability_365', 'number_of_reviews', 'number_of_reviews_ltm',\n",
       "       'review_scores_rating', 'review_scores_accuracy',\n",
       "       'review_scores_cleanliness', 'review_scores_checkin',\n",
       "       'review_scores_communication', 'review_scores_location',\n",
       "       'review_scores_value', 'instant_bookable',\n",
       "       'calculated_host_listings_count', 'reviews_per_month',\n",
       "       'nearby_sites_rating', 'nearest_station_dist'],\n",
       "      dtype='object')"
      ]
     },
     "execution_count": 45,
     "metadata": {},
     "output_type": "execute_result"
    }
   ],
   "source": [
    "df_raw.columns"
   ]
  },
  {
   "cell_type": "code",
   "execution_count": 165,
   "metadata": {},
   "outputs": [],
   "source": [
    "# Extracts the reviews and relevant location data\n",
    "df = df_raw[['listing_id','comments','review_scores_location','nearby_sites_rating','nearest_site_rating','nearest_site_dist','nearest_station_dist']]"
   ]
  },
  {
   "cell_type": "code",
   "execution_count": 166,
   "metadata": {
    "scrolled": true
   },
   "outputs": [
    {
     "data": {
      "text/html": [
       "<div>\n",
       "<style scoped>\n",
       "    .dataframe tbody tr th:only-of-type {\n",
       "        vertical-align: middle;\n",
       "    }\n",
       "\n",
       "    .dataframe tbody tr th {\n",
       "        vertical-align: top;\n",
       "    }\n",
       "\n",
       "    .dataframe thead th {\n",
       "        text-align: right;\n",
       "    }\n",
       "</style>\n",
       "<table border=\"1\" class=\"dataframe\">\n",
       "  <thead>\n",
       "    <tr style=\"text-align: right;\">\n",
       "      <th></th>\n",
       "      <th>listing_id</th>\n",
       "      <th>comments</th>\n",
       "      <th>review_scores_location</th>\n",
       "      <th>nearby_sites_rating</th>\n",
       "      <th>nearest_site_rating</th>\n",
       "      <th>nearest_site_dist</th>\n",
       "      <th>nearest_station_dist</th>\n",
       "    </tr>\n",
       "  </thead>\n",
       "  <tbody>\n",
       "    <tr>\n",
       "      <th>0</th>\n",
       "      <td>49091</td>\n",
       "      <td>Fran was absolutely gracious and welcoming. Ma...</td>\n",
       "      <td>8.0</td>\n",
       "      <td>0.995731</td>\n",
       "      <td>4.595264</td>\n",
       "      <td>4.295315</td>\n",
       "      <td>0.617762</td>\n",
       "    </tr>\n",
       "    <tr>\n",
       "      <th>1</th>\n",
       "      <td>50646</td>\n",
       "      <td>A comfortable room in a smart condo developmen...</td>\n",
       "      <td>9.0</td>\n",
       "      <td>1.269606</td>\n",
       "      <td>4.654423</td>\n",
       "      <td>2.039236</td>\n",
       "      <td>0.399696</td>\n",
       "    </tr>\n",
       "    <tr>\n",
       "      <th>2</th>\n",
       "      <td>50646</td>\n",
       "      <td>Stayed over at Sujatha's house for 3 good nigh...</td>\n",
       "      <td>9.0</td>\n",
       "      <td>1.269606</td>\n",
       "      <td>4.654423</td>\n",
       "      <td>2.039236</td>\n",
       "      <td>0.399696</td>\n",
       "    </tr>\n",
       "    <tr>\n",
       "      <th>3</th>\n",
       "      <td>50646</td>\n",
       "      <td>It's been a lovely stay at Sujatha's. The room...</td>\n",
       "      <td>9.0</td>\n",
       "      <td>1.269606</td>\n",
       "      <td>4.654423</td>\n",
       "      <td>2.039236</td>\n",
       "      <td>0.399696</td>\n",
       "    </tr>\n",
       "    <tr>\n",
       "      <th>4</th>\n",
       "      <td>50646</td>\n",
       "      <td>We had a great experience. A nice place, an am...</td>\n",
       "      <td>9.0</td>\n",
       "      <td>1.269606</td>\n",
       "      <td>4.654423</td>\n",
       "      <td>2.039236</td>\n",
       "      <td>0.399696</td>\n",
       "    </tr>\n",
       "    <tr>\n",
       "      <th>...</th>\n",
       "      <td>...</td>\n",
       "      <td>...</td>\n",
       "      <td>...</td>\n",
       "      <td>...</td>\n",
       "      <td>...</td>\n",
       "      <td>...</td>\n",
       "      <td>...</td>\n",
       "    </tr>\n",
       "    <tr>\n",
       "      <th>155245</th>\n",
       "      <td>46164107</td>\n",
       "      <td>Nice place to stay</td>\n",
       "      <td>9.0</td>\n",
       "      <td>1.812501</td>\n",
       "      <td>4.138595</td>\n",
       "      <td>0.919134</td>\n",
       "      <td>0.257987</td>\n",
       "    </tr>\n",
       "    <tr>\n",
       "      <th>155246</th>\n",
       "      <td>46164107</td>\n",
       "      <td>Convenient erea</td>\n",
       "      <td>9.0</td>\n",
       "      <td>1.812501</td>\n",
       "      <td>4.138595</td>\n",
       "      <td>0.919134</td>\n",
       "      <td>0.257987</td>\n",
       "    </tr>\n",
       "    <tr>\n",
       "      <th>155247</th>\n",
       "      <td>46164107</td>\n",
       "      <td>nice place</td>\n",
       "      <td>9.0</td>\n",
       "      <td>1.812501</td>\n",
       "      <td>4.138595</td>\n",
       "      <td>0.919134</td>\n",
       "      <td>0.257987</td>\n",
       "    </tr>\n",
       "    <tr>\n",
       "      <th>155248</th>\n",
       "      <td>46420476</td>\n",
       "      <td>-</td>\n",
       "      <td>7.0</td>\n",
       "      <td>1.428967</td>\n",
       "      <td>4.487300</td>\n",
       "      <td>1.923091</td>\n",
       "      <td>0.582080</td>\n",
       "    </tr>\n",
       "    <tr>\n",
       "      <th>155249</th>\n",
       "      <td>46420476</td>\n",
       "      <td>Ovarall not bad..</td>\n",
       "      <td>7.0</td>\n",
       "      <td>1.428967</td>\n",
       "      <td>4.487300</td>\n",
       "      <td>1.923091</td>\n",
       "      <td>0.582080</td>\n",
       "    </tr>\n",
       "  </tbody>\n",
       "</table>\n",
       "<p>154743 rows × 7 columns</p>\n",
       "</div>"
      ],
      "text/plain": [
       "        listing_id                                           comments  \\\n",
       "0            49091  Fran was absolutely gracious and welcoming. Ma...   \n",
       "1            50646  A comfortable room in a smart condo developmen...   \n",
       "2            50646  Stayed over at Sujatha's house for 3 good nigh...   \n",
       "3            50646  It's been a lovely stay at Sujatha's. The room...   \n",
       "4            50646  We had a great experience. A nice place, an am...   \n",
       "...            ...                                                ...   \n",
       "155245    46164107                                 Nice place to stay   \n",
       "155246    46164107                                    Convenient erea   \n",
       "155247    46164107                                         nice place   \n",
       "155248    46420476                                                  -   \n",
       "155249    46420476                                  Ovarall not bad..   \n",
       "\n",
       "        review_scores_location  nearby_sites_rating  nearest_site_rating  \\\n",
       "0                          8.0             0.995731             4.595264   \n",
       "1                          9.0             1.269606             4.654423   \n",
       "2                          9.0             1.269606             4.654423   \n",
       "3                          9.0             1.269606             4.654423   \n",
       "4                          9.0             1.269606             4.654423   \n",
       "...                        ...                  ...                  ...   \n",
       "155245                     9.0             1.812501             4.138595   \n",
       "155246                     9.0             1.812501             4.138595   \n",
       "155247                     9.0             1.812501             4.138595   \n",
       "155248                     7.0             1.428967             4.487300   \n",
       "155249                     7.0             1.428967             4.487300   \n",
       "\n",
       "        nearest_site_dist  nearest_station_dist  \n",
       "0                4.295315              0.617762  \n",
       "1                2.039236              0.399696  \n",
       "2                2.039236              0.399696  \n",
       "3                2.039236              0.399696  \n",
       "4                2.039236              0.399696  \n",
       "...                   ...                   ...  \n",
       "155245           0.919134              0.257987  \n",
       "155246           0.919134              0.257987  \n",
       "155247           0.919134              0.257987  \n",
       "155248           1.923091              0.582080  \n",
       "155249           1.923091              0.582080  \n",
       "\n",
       "[154743 rows x 7 columns]"
      ]
     },
     "execution_count": 166,
     "metadata": {},
     "output_type": "execute_result"
    }
   ],
   "source": [
    "df.drop_duplicates()"
   ]
  },
  {
   "cell_type": "code",
   "execution_count": 92,
   "metadata": {
    "scrolled": true
   },
   "outputs": [
    {
     "name": "stdout",
     "output_type": "stream",
     "text": [
      "Requirement already satisfied: afinn in /Library/Frameworks/Python.framework/Versions/3.8/lib/python3.8/site-packages (0.1)\n",
      "\u001b[33mWARNING: You are using pip version 20.2.4; however, version 21.0.1 is available.\n",
      "You should consider upgrading via the '/Library/Frameworks/Python.framework/Versions/3.8/bin/python3 -m pip install --upgrade pip' command.\u001b[0m\n"
     ]
    }
   ],
   "source": [
    "!pip3 install afinn\n",
    "from afinn import Afinn"
   ]
  },
  {
   "cell_type": "code",
   "execution_count": 93,
   "metadata": {},
   "outputs": [],
   "source": [
    "afinn = Afinn()\n",
    "afinn_scores = [afinn.score(str(text)) for text in df.comments]"
   ]
  },
  {
   "cell_type": "code",
   "execution_count": 170,
   "metadata": {
    "scrolled": true
   },
   "outputs": [
    {
     "name": "stderr",
     "output_type": "stream",
     "text": [
      "<ipython-input-170-7651e7a1b47f>:2: SettingWithCopyWarning: \n",
      "A value is trying to be set on a copy of a slice from a DataFrame.\n",
      "Try using .loc[row_indexer,col_indexer] = value instead\n",
      "\n",
      "See the caveats in the documentation: https://pandas.pydata.org/pandas-docs/stable/user_guide/indexing.html#returning-a-view-versus-a-copy\n",
      "  df['score'] = afinn_scores\n"
     ]
    }
   ],
   "source": [
    "from sklearn.preprocessing import normalize\n",
    "df['score'] = afinn_scores\n",
    "df_uniq = df.drop(['comments'],axis=1).dropna()\n",
    "df_uniq = df_uniq.groupby(['listing_id']).mean()"
   ]
  },
  {
   "cell_type": "code",
   "execution_count": 177,
   "metadata": {},
   "outputs": [
    {
     "data": {
      "text/plain": [
       "84482     Highly recommended! Josh was a fantastic host,...\n",
       "112676    Absolutely gem of a place - firstly Edwina is ...\n",
       "97753     This place is very modest and tiny. It may be ...\n",
       "19668     The room is so nice, beautiful, and is exactly...\n",
       "113787    If you want to experience Singapore and the qu...\n",
       "119568    This was our first time using Airbnb and we we...\n",
       "19428     Pros:\\n- very clean place\\n- accurate descript...\n",
       "136947    Condition\\nHis place is great, Very tidy and l...\n",
       "41179     We had a great stay in Wei's apartment & Singa...\n",
       "2110      I am from Germany and stayed with Fendy about ...\n",
       "Name: comments, dtype: object"
      ]
     },
     "execution_count": 177,
     "metadata": {},
     "output_type": "execute_result"
    }
   ],
   "source": [
    "df.comments[df.score > 30].sample(10)"
   ]
  },
  {
   "cell_type": "code",
   "execution_count": 219,
   "metadata": {
    "scrolled": false
   },
   "outputs": [],
   "source": [
    "def scatplot(df,x,y,size=0.1,min_y=0,max_y=1):\n",
    "    df_sample = df.sample(int(df.shape[0]*size))   \n",
    "    plt.scatter(df_sample.loc[:,x],df_sample.loc[:,y])\n",
    "    plt.ylim(min_y*df_sample[y].min(),max_y*df_sample[y].max())"
   ]
  },
  {
   "cell_type": "code",
   "execution_count": 208,
   "metadata": {
    "scrolled": true
   },
   "outputs": [
    {
     "data": {
      "image/png": "[encoded data removed]",
      "text/plain": [
       "<Figure size 432x288 with 1 Axes>"
      ]
     },
     "metadata": {
      "needs_background": "light"
     },
     "output_type": "display_data"
    }
   ],
   "source": [
    "scatplot(df_uniq,'review_scores_location','nearest_site_dist')"
   ]
  },
  {
   "cell_type": "code",
   "execution_count": 226,
   "metadata": {},
   "outputs": [
    {
     "data": {
      "image/png": "[encoded data removed]",
      "text/plain": [
       "<Figure size 432x288 with 2 Axes>"
      ]
     },
     "metadata": {
      "needs_background": "light"
     },
     "output_type": "display_data"
    }
   ],
   "source": [
    "corrMatrix = df_uniq.corr()\n",
    "sn.heatmap(corrMatrix, annot=True)\n",
    "plt.show()"
   ]
  },
  {
   "cell_type": "code",
   "execution_count": 172,
   "metadata": {},
   "outputs": [],
   "source": [
    "def linear_model(X,y):\n",
    "    import statsmodels.api as sm\n",
    "    X2 = sm.add_constant(X)\n",
    "    est = sm.OLS(y, X2)\n",
    "    est2 = est.fit()\n",
    "    print(est2.summary())\n",
    "    print(\"R Squared:\",est2.rsquared)"
   ]
  },
  {
   "cell_type": "code",
   "execution_count": 173,
   "metadata": {
    "scrolled": true
   },
   "outputs": [
    {
     "name": "stdout",
     "output_type": "stream",
     "text": [
      "                            OLS Regression Results                            \n",
      "==============================================================================\n",
      "Dep. Variable:                  score   R-squared:                       0.084\n",
      "Model:                            OLS   Adj. R-squared:                  0.083\n",
      "Method:                 Least Squares   F-statistic:                     154.5\n",
      "Date:                Sat, 06 Mar 2021   Prob (F-statistic):          1.52e-157\n",
      "Time:                        09:42:37   Log-Likelihood:                -24463.\n",
      "No. Observations:                8465   AIC:                         4.894e+04\n",
      "Df Residuals:                    8459   BIC:                         4.898e+04\n",
      "Df Model:                           5                                         \n",
      "Covariance Type:            nonrobust                                         \n",
      "==========================================================================================\n",
      "                             coef    std err          t      P>|t|      [0.025      0.975]\n",
      "------------------------------------------------------------------------------------------\n",
      "const                     -9.0015      1.481     -6.077      0.000     -11.905      -6.098\n",
      "review_scores_location     1.1623      0.042     27.457      0.000       1.079       1.245\n",
      "nearby_sites_rating       -0.2669      0.072     -3.699      0.000      -0.408      -0.125\n",
      "nearest_site_rating        1.0873      0.328      3.311      0.001       0.444       1.731\n",
      "nearest_site_dist         -0.0963      0.067     -1.433      0.152      -0.228       0.035\n",
      "nearest_station_dist       0.5229      0.141      3.707      0.000       0.246       0.799\n",
      "==============================================================================\n",
      "Omnibus:                     3223.788   Durbin-Watson:                   1.823\n",
      "Prob(Omnibus):                  0.000   Jarque-Bera (JB):            33166.872\n",
      "Skew:                           1.531   Prob(JB):                         0.00\n",
      "Kurtosis:                      12.201   Cond. No.                         342.\n",
      "==============================================================================\n",
      "\n",
      "Notes:\n",
      "[1] Standard Errors assume that the covariance matrix of the errors is correctly specified.\n",
      "R Squared: 0.08367913149975437\n"
     ]
    }
   ],
   "source": [
    "X = df_uniq[['review_scores_location','nearby_sites_rating','nearest_site_rating','nearest_site_dist','nearest_station_dist']]\n",
    "y = df_uniq['score']\n",
    "linear_model(X,y)"
   ]
  },
  {
   "cell_type": "markdown",
   "metadata": {},
   "source": [
    "# EDA - 5\n",
    "\n",
    "Convenience Plays the Most Important Role in Pricing Apartments"
   ]
  },
  {
   "cell_type": "code",
   "execution_count": 184,
   "metadata": {},
   "outputs": [],
   "source": [
    "df_price = df_raw[['listing_id','price','review_scores_location','nearby_sites_rating','nearest_station_dist','nearest_site_rating','nearest_site_dist']].drop_duplicates().dropna()\n",
    "df_price.price = df_price.price.apply(lambda x:float(x.strip('$').replace(',','')))\n",
    "df_price_uniq = df_price.groupby(['listing_id']).mean().reset_index(drop=True)"
   ]
  },
  {
   "cell_type": "code",
   "execution_count": 185,
   "metadata": {
    "scrolled": false
   },
   "outputs": [
    {
     "data": {
      "text/html": [
       "<div>\n",
       "<style scoped>\n",
       "    .dataframe tbody tr th:only-of-type {\n",
       "        vertical-align: middle;\n",
       "    }\n",
       "\n",
       "    .dataframe tbody tr th {\n",
       "        vertical-align: top;\n",
       "    }\n",
       "\n",
       "    .dataframe thead th {\n",
       "        text-align: right;\n",
       "    }\n",
       "</style>\n",
       "<table border=\"1\" class=\"dataframe\">\n",
       "  <thead>\n",
       "    <tr style=\"text-align: right;\">\n",
       "      <th></th>\n",
       "      <th>price</th>\n",
       "      <th>review_scores_location</th>\n",
       "      <th>nearby_sites_rating</th>\n",
       "      <th>nearest_station_dist</th>\n",
       "      <th>nearest_site_rating</th>\n",
       "      <th>nearest_site_dist</th>\n",
       "    </tr>\n",
       "  </thead>\n",
       "  <tbody>\n",
       "    <tr>\n",
       "      <th>0</th>\n",
       "      <td>81.0</td>\n",
       "      <td>8.00</td>\n",
       "      <td>0.995731</td>\n",
       "      <td>0.617762</td>\n",
       "      <td>4.595264</td>\n",
       "      <td>4.295315</td>\n",
       "    </tr>\n",
       "    <tr>\n",
       "      <th>1</th>\n",
       "      <td>80.0</td>\n",
       "      <td>9.00</td>\n",
       "      <td>1.269606</td>\n",
       "      <td>0.399696</td>\n",
       "      <td>4.654423</td>\n",
       "      <td>2.039236</td>\n",
       "    </tr>\n",
       "    <tr>\n",
       "      <th>2</th>\n",
       "      <td>68.0</td>\n",
       "      <td>8.00</td>\n",
       "      <td>0.995281</td>\n",
       "      <td>0.524353</td>\n",
       "      <td>4.595264</td>\n",
       "      <td>4.290337</td>\n",
       "    </tr>\n",
       "    <tr>\n",
       "      <th>3</th>\n",
       "      <td>202.5</td>\n",
       "      <td>8.25</td>\n",
       "      <td>1.116033</td>\n",
       "      <td>0.486745</td>\n",
       "      <td>4.456579</td>\n",
       "      <td>2.648653</td>\n",
       "    </tr>\n",
       "    <tr>\n",
       "      <th>4</th>\n",
       "      <td>93.0</td>\n",
       "      <td>8.00</td>\n",
       "      <td>1.113617</td>\n",
       "      <td>0.481193</td>\n",
       "      <td>4.456579</td>\n",
       "      <td>2.436100</td>\n",
       "    </tr>\n",
       "  </tbody>\n",
       "</table>\n",
       "</div>"
      ],
      "text/plain": [
       "   price  review_scores_location  nearby_sites_rating  nearest_station_dist  \\\n",
       "0   81.0                    8.00             0.995731              0.617762   \n",
       "1   80.0                    9.00             1.269606              0.399696   \n",
       "2   68.0                    8.00             0.995281              0.524353   \n",
       "3  202.5                    8.25             1.116033              0.486745   \n",
       "4   93.0                    8.00             1.113617              0.481193   \n",
       "\n",
       "   nearest_site_rating  nearest_site_dist  \n",
       "0             4.595264           4.295315  \n",
       "1             4.654423           2.039236  \n",
       "2             4.595264           4.290337  \n",
       "3             4.456579           2.648653  \n",
       "4             4.456579           2.436100  "
      ]
     },
     "execution_count": 185,
     "metadata": {},
     "output_type": "execute_result"
    }
   ],
   "source": [
    "df_price_uniq.head()"
   ]
  },
  {
   "cell_type": "code",
   "execution_count": 224,
   "metadata": {
    "scrolled": true
   },
   "outputs": [
    {
     "data": {
      "image/png": "[encoded data removed]",
      "text/plain": [
       "<Figure size 432x288 with 1 Axes>"
      ]
     },
     "metadata": {
      "needs_background": "light"
     },
     "output_type": "display_data"
    }
   ],
   "source": [
    "scatplot(df_price_uniq,'nearest_site_rating','price',max_y=0.4)"
   ]
  },
  {
   "cell_type": "code",
   "execution_count": 227,
   "metadata": {},
   "outputs": [
    {
     "data": {
      "image/png": "[encoded data removed]",
      "text/plain": [
       "<Figure size 432x288 with 2 Axes>"
      ]
     },
     "metadata": {
      "needs_background": "light"
     },
     "output_type": "display_data"
    }
   ],
   "source": [
    "corrMatrix_p = df_price_uniq.corr()\n",
    "sn.heatmap(corrMatrix_p, annot=True)\n",
    "plt.show()"
   ]
  },
  {
   "cell_type": "code",
   "execution_count": 186,
   "metadata": {
    "scrolled": false
   },
   "outputs": [
    {
     "name": "stdout",
     "output_type": "stream",
     "text": [
      "                            OLS Regression Results                            \n",
      "==============================================================================\n",
      "Dep. Variable:                  price   R-squared:                       0.006\n",
      "Model:                            OLS   Adj. R-squared:                  0.006\n",
      "Method:                 Least Squares   F-statistic:                     10.66\n",
      "Date:                Sat, 06 Mar 2021   Prob (F-statistic):           3.15e-10\n",
      "Time:                        09:52:06   Log-Likelihood:                -57741.\n",
      "No. Observations:                8465   AIC:                         1.155e+05\n",
      "Df Residuals:                    8459   BIC:                         1.155e+05\n",
      "Df Model:                           5                                         \n",
      "Covariance Type:            nonrobust                                         \n",
      "==========================================================================================\n",
      "                             coef    std err          t      P>|t|      [0.025      0.975]\n",
      "------------------------------------------------------------------------------------------\n",
      "const                    -90.4816     75.582     -1.197      0.231    -238.641      57.678\n",
      "review_scores_location     5.4251      2.161      2.510      0.012       1.188       9.662\n",
      "nearby_sites_rating       -3.3636      3.683     -0.913      0.361     -10.583       3.856\n",
      "nearest_station_dist      15.7639      7.199      2.190      0.029       1.652      29.876\n",
      "nearest_site_rating       47.8497     16.760      2.855      0.004      14.996      80.704\n",
      "nearest_site_dist        -17.9788      3.425     -5.249      0.000     -24.694     -11.264\n",
      "==============================================================================\n",
      "Omnibus:                    21083.559   Durbin-Watson:                   1.887\n",
      "Prob(Omnibus):                  0.000   Jarque-Bera (JB):        399746826.586\n",
      "Skew:                          26.859   Prob(JB):                         0.00\n",
      "Kurtosis:                    1066.239   Cond. No.                         343.\n",
      "==============================================================================\n",
      "\n",
      "Notes:\n",
      "[1] Standard Errors assume that the covariance matrix of the errors is correctly specified.\n",
      "R Squared: 0.006260931894899069\n"
     ]
    }
   ],
   "source": [
    "X = df_price_uniq[['review_scores_location','nearby_sites_rating','nearest_station_dist','nearest_site_rating','nearest_site_dist']]\n",
    "y = df_price_uniq['price']\n",
    "linear_model(X,y)"
   ]
  },
  {
   "cell_type": "code",
   "execution_count": null,
   "metadata": {},
   "outputs": [],
   "source": []
  }
 ],
 "metadata": {
  "kernelspec": {
   "display_name": "Python 3.8.3 64-bit",
   "language": "python",
   "name": "python38364bit0fdf2f9f8d9d45569cfda80e335dcfb9"
  },
  "language_info": {
   "codemirror_mode": {
    "name": "ipython",
    "version": 3
   },
   "file_extension": ".py",
   "mimetype": "text/x-python",
   "name": "python",
   "nbconvert_exporter": "python",
   "pygments_lexer": "ipython3",
   "version": "3.8.3"
  }
 },
 "nbformat": 4,
 "nbformat_minor": 4
}
