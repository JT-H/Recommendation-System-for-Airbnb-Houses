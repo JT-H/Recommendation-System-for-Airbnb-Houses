{
  "nbformat": 4,
  "nbformat_minor": 0,
  "metadata": {
    "colab": {
      "name": "EDA-6.ipynb",
      "provenance": [],
      "collapsed_sections": []
    },
    "kernelspec": {
      "name": "python3",
      "display_name": "Python 3"
    }
  },
  "cells": [
    {
      "cell_type": "markdown",
      "metadata": {
        "id": "GNxl7r8g32Vp"
      },
      "source": [
        "# **EDA-6**"
      ]
    },
    {
      "cell_type": "code",
      "metadata": {
        "colab": {
          "base_uri": "https://localhost:8080/"
        },
        "id": "nAsyvOBCiucx",
        "outputId": "a03adb61-2026-4907-b748-32218880eacc"
      },
      "source": [
        "import pandas as pd\n",
        "# mount google drive\n",
        "from google.colab import drive\n",
        "drive.mount('/content/drive')"
      ],
      "execution_count": 1,
      "outputs": [
        {
          "output_type": "stream",
          "text": [
            "Mounted at /content/drive\n"
          ],
          "name": "stdout"
        }
      ]
    },
    {
      "cell_type": "code",
      "metadata": {
        "id": "FFQ8In4e4e64"
      },
      "source": [
        "import matplotlib.pyplot as plt"
      ],
      "execution_count": 2,
      "outputs": []
    },
    {
      "cell_type": "markdown",
      "metadata": {
        "id": "uNjEKm3h95eU"
      },
      "source": [
        "#### 导入reviews数据"
      ]
    },
    {
      "cell_type": "code",
      "metadata": {
        "id": "t6Kwxdu4osIY"
      },
      "source": [
        "all_reviews = pd.read_csv('/content/drive/My Drive/BT4222_Project/cleaned_senti_reviews.csv')"
      ],
      "execution_count": 3,
      "outputs": []
    },
    {
      "cell_type": "code",
      "metadata": {
        "id": "3RZKEeWR2iB1"
      },
      "source": [
        "all_reviews = all_reviews.drop('Unnamed: 0', axis=1)"
      ],
      "execution_count": 13,
      "outputs": []
    },
    {
      "cell_type": "markdown",
      "metadata": {
        "id": "1m7nfQqt-GMU"
      },
      "source": [
        "#### 将date转为datetime数据后，分离成年月日"
      ]
    },
    {
      "cell_type": "code",
      "metadata": {
        "id": "VVDu_ViW3VKB"
      },
      "source": [
        "all_reviews['date'] = pd.to_datetime(all_reviews['date'])"
      ],
      "execution_count": 14,
      "outputs": []
    },
    {
      "cell_type": "code",
      "metadata": {
        "id": "MaBED28G3Ejw"
      },
      "source": [
        "all_reviews['year'] = all_reviews['date'].dt.year\n",
        "all_reviews['month'] = all_reviews['date'].dt.month\n",
        "all_reviews['day'] = all_reviews['date'].dt.day"
      ],
      "execution_count": 15,
      "outputs": []
    },
    {
      "cell_type": "code",
      "metadata": {
        "colab": {
          "base_uri": "https://localhost:8080/",
          "height": 581
        },
        "id": "8RvxjdBP3sEm",
        "outputId": "139f0b5a-f60d-4b26-da4e-43c52986d8fe"
      },
      "source": [
        "all_reviews.head()"
      ],
      "execution_count": 16,
      "outputs": [
        {
          "output_type": "execute_result",
          "data": {
            "text/html": [
              "<div>\n",
              "<style scoped>\n",
              "    .dataframe tbody tr th:only-of-type {\n",
              "        vertical-align: middle;\n",
              "    }\n",
              "\n",
              "    .dataframe tbody tr th {\n",
              "        vertical-align: top;\n",
              "    }\n",
              "\n",
              "    .dataframe thead th {\n",
              "        text-align: right;\n",
              "    }\n",
              "</style>\n",
              "<table border=\"1\" class=\"dataframe\">\n",
              "  <thead>\n",
              "    <tr style=\"text-align: right;\">\n",
              "      <th></th>\n",
              "      <th>reviewer_id</th>\n",
              "      <th>listing_id</th>\n",
              "      <th>date</th>\n",
              "      <th>reviewer_name</th>\n",
              "      <th>comments</th>\n",
              "      <th>name</th>\n",
              "      <th>description</th>\n",
              "      <th>neighborhood_overview</th>\n",
              "      <th>host_id</th>\n",
              "      <th>host_since</th>\n",
              "      <th>host_about</th>\n",
              "      <th>host_response_time</th>\n",
              "      <th>host_response_rate</th>\n",
              "      <th>host_is_superhost</th>\n",
              "      <th>host_neighbourhood</th>\n",
              "      <th>host_verifications</th>\n",
              "      <th>host_has_profile_pic</th>\n",
              "      <th>host_identity_verified</th>\n",
              "      <th>neighbourhood_cleansed</th>\n",
              "      <th>neighbourhood_group_cleansed</th>\n",
              "      <th>latitude</th>\n",
              "      <th>longitude</th>\n",
              "      <th>property_type</th>\n",
              "      <th>room_type</th>\n",
              "      <th>accommodates</th>\n",
              "      <th>bathrooms</th>\n",
              "      <th>bedrooms</th>\n",
              "      <th>beds</th>\n",
              "      <th>amenities</th>\n",
              "      <th>price</th>\n",
              "      <th>minimum_nights</th>\n",
              "      <th>maximum_nights</th>\n",
              "      <th>minimum_minimum_nights</th>\n",
              "      <th>maximum_minimum_nights</th>\n",
              "      <th>minimum_maximum_nights</th>\n",
              "      <th>maximum_maximum_nights</th>\n",
              "      <th>minimum_nights_avg_ntm</th>\n",
              "      <th>maximum_nights_avg_ntm</th>\n",
              "      <th>calendar_updated</th>\n",
              "      <th>availability_30</th>\n",
              "      <th>availability_60</th>\n",
              "      <th>availability_90</th>\n",
              "      <th>availability_365</th>\n",
              "      <th>number_of_reviews</th>\n",
              "      <th>number_of_reviews_ltm</th>\n",
              "      <th>review_scores_rating</th>\n",
              "      <th>review_scores_accuracy</th>\n",
              "      <th>review_scores_cleanliness</th>\n",
              "      <th>review_scores_checkin</th>\n",
              "      <th>review_scores_communication</th>\n",
              "      <th>review_scores_location</th>\n",
              "      <th>review_scores_value</th>\n",
              "      <th>instant_bookable</th>\n",
              "      <th>calculated_host_listings_count</th>\n",
              "      <th>reviews_per_month</th>\n",
              "      <th>polarity_score</th>\n",
              "      <th>sentiment</th>\n",
              "      <th>year</th>\n",
              "      <th>month</th>\n",
              "      <th>day</th>\n",
              "    </tr>\n",
              "  </thead>\n",
              "  <tbody>\n",
              "    <tr>\n",
              "      <th>0</th>\n",
              "      <td>8557223</td>\n",
              "      <td>49091</td>\n",
              "      <td>2013-10-21</td>\n",
              "      <td>Jared</td>\n",
              "      <td>Fran was absolutely gracious and welcoming. Ma...</td>\n",
              "      <td>COZICOMFORT LONG TERM STAY ROOM 2</td>\n",
              "      <td>This is Room No. 2.(available after Jan 15 201...</td>\n",
              "      <td>NaN</td>\n",
              "      <td>266763</td>\n",
              "      <td>2010-10-20</td>\n",
              "      <td>I am a private tutor by profession. My husband...</td>\n",
              "      <td>within a few hours</td>\n",
              "      <td>100%</td>\n",
              "      <td>f</td>\n",
              "      <td>Woodlands</td>\n",
              "      <td>['email', 'phone', 'facebook', 'reviews', 'jum...</td>\n",
              "      <td>t</td>\n",
              "      <td>f</td>\n",
              "      <td>Woodlands</td>\n",
              "      <td>North Region</td>\n",
              "      <td>1.44255</td>\n",
              "      <td>103.79580</td>\n",
              "      <td>Apartment</td>\n",
              "      <td>Private room</td>\n",
              "      <td>1</td>\n",
              "      <td>1.0</td>\n",
              "      <td>1.0</td>\n",
              "      <td>1.0</td>\n",
              "      <td>{TV,\"Cable TV\",Internet,Wifi,\"Air conditioning...</td>\n",
              "      <td>$81.00</td>\n",
              "      <td>180</td>\n",
              "      <td>360</td>\n",
              "      <td>180</td>\n",
              "      <td>180</td>\n",
              "      <td>360</td>\n",
              "      <td>360</td>\n",
              "      <td>180.0</td>\n",
              "      <td>360.0</td>\n",
              "      <td>58 months ago</td>\n",
              "      <td>30</td>\n",
              "      <td>60</td>\n",
              "      <td>90</td>\n",
              "      <td>365</td>\n",
              "      <td>1</td>\n",
              "      <td>0</td>\n",
              "      <td>94.0</td>\n",
              "      <td>10.0</td>\n",
              "      <td>10.0</td>\n",
              "      <td>10.0</td>\n",
              "      <td>10.0</td>\n",
              "      <td>8.0</td>\n",
              "      <td>8.0</td>\n",
              "      <td>f</td>\n",
              "      <td>2</td>\n",
              "      <td>0.02</td>\n",
              "      <td>0.9615</td>\n",
              "      <td>pos</td>\n",
              "      <td>2013</td>\n",
              "      <td>10</td>\n",
              "      <td>21</td>\n",
              "    </tr>\n",
              "    <tr>\n",
              "      <th>1</th>\n",
              "      <td>1356099</td>\n",
              "      <td>50646</td>\n",
              "      <td>2014-04-18</td>\n",
              "      <td>James</td>\n",
              "      <td>A comfortable room in a smart condo developmen...</td>\n",
              "      <td>Pleasant Room along Bukit Timah</td>\n",
              "      <td>Fully furnished bedroom with a nice view on th...</td>\n",
              "      <td>The serenity &amp; quiet surrounding makes it an i...</td>\n",
              "      <td>227796</td>\n",
              "      <td>2010-09-08</td>\n",
              "      <td>I am a working professional, living in Singapo...</td>\n",
              "      <td>NaN</td>\n",
              "      <td>NaN</td>\n",
              "      <td>f</td>\n",
              "      <td>Bukit Timah</td>\n",
              "      <td>['email', 'phone', 'facebook', 'reviews']</td>\n",
              "      <td>t</td>\n",
              "      <td>f</td>\n",
              "      <td>Bukit Timah</td>\n",
              "      <td>Central Region</td>\n",
              "      <td>1.33235</td>\n",
              "      <td>103.78521</td>\n",
              "      <td>Apartment</td>\n",
              "      <td>Private room</td>\n",
              "      <td>2</td>\n",
              "      <td>1.0</td>\n",
              "      <td>1.0</td>\n",
              "      <td>1.0</td>\n",
              "      <td>{TV,\"Cable TV\",Internet,Wifi,\"Air conditioning...</td>\n",
              "      <td>$80.00</td>\n",
              "      <td>90</td>\n",
              "      <td>730</td>\n",
              "      <td>90</td>\n",
              "      <td>90</td>\n",
              "      <td>730</td>\n",
              "      <td>730</td>\n",
              "      <td>90.0</td>\n",
              "      <td>730.0</td>\n",
              "      <td>55 months ago</td>\n",
              "      <td>30</td>\n",
              "      <td>60</td>\n",
              "      <td>90</td>\n",
              "      <td>365</td>\n",
              "      <td>18</td>\n",
              "      <td>0</td>\n",
              "      <td>91.0</td>\n",
              "      <td>9.0</td>\n",
              "      <td>10.0</td>\n",
              "      <td>10.0</td>\n",
              "      <td>10.0</td>\n",
              "      <td>9.0</td>\n",
              "      <td>9.0</td>\n",
              "      <td>f</td>\n",
              "      <td>1</td>\n",
              "      <td>0.30</td>\n",
              "      <td>0.9484</td>\n",
              "      <td>pos</td>\n",
              "      <td>2014</td>\n",
              "      <td>4</td>\n",
              "      <td>18</td>\n",
              "    </tr>\n",
              "    <tr>\n",
              "      <th>2</th>\n",
              "      <td>15222393</td>\n",
              "      <td>50646</td>\n",
              "      <td>2014-06-05</td>\n",
              "      <td>Welli</td>\n",
              "      <td>Stayed over at Sujatha's house for 3 good nigh...</td>\n",
              "      <td>Pleasant Room along Bukit Timah</td>\n",
              "      <td>Fully furnished bedroom with a nice view on th...</td>\n",
              "      <td>The serenity &amp; quiet surrounding makes it an i...</td>\n",
              "      <td>227796</td>\n",
              "      <td>2010-09-08</td>\n",
              "      <td>I am a working professional, living in Singapo...</td>\n",
              "      <td>NaN</td>\n",
              "      <td>NaN</td>\n",
              "      <td>f</td>\n",
              "      <td>Bukit Timah</td>\n",
              "      <td>['email', 'phone', 'facebook', 'reviews']</td>\n",
              "      <td>t</td>\n",
              "      <td>f</td>\n",
              "      <td>Bukit Timah</td>\n",
              "      <td>Central Region</td>\n",
              "      <td>1.33235</td>\n",
              "      <td>103.78521</td>\n",
              "      <td>Apartment</td>\n",
              "      <td>Private room</td>\n",
              "      <td>2</td>\n",
              "      <td>1.0</td>\n",
              "      <td>1.0</td>\n",
              "      <td>1.0</td>\n",
              "      <td>{TV,\"Cable TV\",Internet,Wifi,\"Air conditioning...</td>\n",
              "      <td>$80.00</td>\n",
              "      <td>90</td>\n",
              "      <td>730</td>\n",
              "      <td>90</td>\n",
              "      <td>90</td>\n",
              "      <td>730</td>\n",
              "      <td>730</td>\n",
              "      <td>90.0</td>\n",
              "      <td>730.0</td>\n",
              "      <td>55 months ago</td>\n",
              "      <td>30</td>\n",
              "      <td>60</td>\n",
              "      <td>90</td>\n",
              "      <td>365</td>\n",
              "      <td>18</td>\n",
              "      <td>0</td>\n",
              "      <td>91.0</td>\n",
              "      <td>9.0</td>\n",
              "      <td>10.0</td>\n",
              "      <td>10.0</td>\n",
              "      <td>10.0</td>\n",
              "      <td>9.0</td>\n",
              "      <td>9.0</td>\n",
              "      <td>f</td>\n",
              "      <td>1</td>\n",
              "      <td>0.30</td>\n",
              "      <td>0.9879</td>\n",
              "      <td>pos</td>\n",
              "      <td>2014</td>\n",
              "      <td>6</td>\n",
              "      <td>5</td>\n",
              "    </tr>\n",
              "    <tr>\n",
              "      <th>3</th>\n",
              "      <td>5543172</td>\n",
              "      <td>50646</td>\n",
              "      <td>2014-07-02</td>\n",
              "      <td>Cyril</td>\n",
              "      <td>It's been a lovely stay at Sujatha's. The room...</td>\n",
              "      <td>Pleasant Room along Bukit Timah</td>\n",
              "      <td>Fully furnished bedroom with a nice view on th...</td>\n",
              "      <td>The serenity &amp; quiet surrounding makes it an i...</td>\n",
              "      <td>227796</td>\n",
              "      <td>2010-09-08</td>\n",
              "      <td>I am a working professional, living in Singapo...</td>\n",
              "      <td>NaN</td>\n",
              "      <td>NaN</td>\n",
              "      <td>f</td>\n",
              "      <td>Bukit Timah</td>\n",
              "      <td>['email', 'phone', 'facebook', 'reviews']</td>\n",
              "      <td>t</td>\n",
              "      <td>f</td>\n",
              "      <td>Bukit Timah</td>\n",
              "      <td>Central Region</td>\n",
              "      <td>1.33235</td>\n",
              "      <td>103.78521</td>\n",
              "      <td>Apartment</td>\n",
              "      <td>Private room</td>\n",
              "      <td>2</td>\n",
              "      <td>1.0</td>\n",
              "      <td>1.0</td>\n",
              "      <td>1.0</td>\n",
              "      <td>{TV,\"Cable TV\",Internet,Wifi,\"Air conditioning...</td>\n",
              "      <td>$80.00</td>\n",
              "      <td>90</td>\n",
              "      <td>730</td>\n",
              "      <td>90</td>\n",
              "      <td>90</td>\n",
              "      <td>730</td>\n",
              "      <td>730</td>\n",
              "      <td>90.0</td>\n",
              "      <td>730.0</td>\n",
              "      <td>55 months ago</td>\n",
              "      <td>30</td>\n",
              "      <td>60</td>\n",
              "      <td>90</td>\n",
              "      <td>365</td>\n",
              "      <td>18</td>\n",
              "      <td>0</td>\n",
              "      <td>91.0</td>\n",
              "      <td>9.0</td>\n",
              "      <td>10.0</td>\n",
              "      <td>10.0</td>\n",
              "      <td>10.0</td>\n",
              "      <td>9.0</td>\n",
              "      <td>9.0</td>\n",
              "      <td>f</td>\n",
              "      <td>1</td>\n",
              "      <td>0.30</td>\n",
              "      <td>0.9627</td>\n",
              "      <td>pos</td>\n",
              "      <td>2014</td>\n",
              "      <td>7</td>\n",
              "      <td>2</td>\n",
              "    </tr>\n",
              "    <tr>\n",
              "      <th>4</th>\n",
              "      <td>817532</td>\n",
              "      <td>50646</td>\n",
              "      <td>2014-07-08</td>\n",
              "      <td>Jake</td>\n",
              "      <td>We had a great experience. A nice place, an am...</td>\n",
              "      <td>Pleasant Room along Bukit Timah</td>\n",
              "      <td>Fully furnished bedroom with a nice view on th...</td>\n",
              "      <td>The serenity &amp; quiet surrounding makes it an i...</td>\n",
              "      <td>227796</td>\n",
              "      <td>2010-09-08</td>\n",
              "      <td>I am a working professional, living in Singapo...</td>\n",
              "      <td>NaN</td>\n",
              "      <td>NaN</td>\n",
              "      <td>f</td>\n",
              "      <td>Bukit Timah</td>\n",
              "      <td>['email', 'phone', 'facebook', 'reviews']</td>\n",
              "      <td>t</td>\n",
              "      <td>f</td>\n",
              "      <td>Bukit Timah</td>\n",
              "      <td>Central Region</td>\n",
              "      <td>1.33235</td>\n",
              "      <td>103.78521</td>\n",
              "      <td>Apartment</td>\n",
              "      <td>Private room</td>\n",
              "      <td>2</td>\n",
              "      <td>1.0</td>\n",
              "      <td>1.0</td>\n",
              "      <td>1.0</td>\n",
              "      <td>{TV,\"Cable TV\",Internet,Wifi,\"Air conditioning...</td>\n",
              "      <td>$80.00</td>\n",
              "      <td>90</td>\n",
              "      <td>730</td>\n",
              "      <td>90</td>\n",
              "      <td>90</td>\n",
              "      <td>730</td>\n",
              "      <td>730</td>\n",
              "      <td>90.0</td>\n",
              "      <td>730.0</td>\n",
              "      <td>55 months ago</td>\n",
              "      <td>30</td>\n",
              "      <td>60</td>\n",
              "      <td>90</td>\n",
              "      <td>365</td>\n",
              "      <td>18</td>\n",
              "      <td>0</td>\n",
              "      <td>91.0</td>\n",
              "      <td>9.0</td>\n",
              "      <td>10.0</td>\n",
              "      <td>10.0</td>\n",
              "      <td>10.0</td>\n",
              "      <td>9.0</td>\n",
              "      <td>9.0</td>\n",
              "      <td>f</td>\n",
              "      <td>1</td>\n",
              "      <td>0.30</td>\n",
              "      <td>0.9274</td>\n",
              "      <td>pos</td>\n",
              "      <td>2014</td>\n",
              "      <td>7</td>\n",
              "      <td>8</td>\n",
              "    </tr>\n",
              "  </tbody>\n",
              "</table>\n",
              "</div>"
            ],
            "text/plain": [
              "   reviewer_id  listing_id       date reviewer_name  ... sentiment  year month day\n",
              "0      8557223       49091 2013-10-21         Jared  ...       pos  2013    10  21\n",
              "1      1356099       50646 2014-04-18         James  ...       pos  2014     4  18\n",
              "2     15222393       50646 2014-06-05         Welli  ...       pos  2014     6   5\n",
              "3      5543172       50646 2014-07-02         Cyril  ...       pos  2014     7   2\n",
              "4       817532       50646 2014-07-08          Jake  ...       pos  2014     7   8\n",
              "\n",
              "[5 rows x 60 columns]"
            ]
          },
          "metadata": {
            "tags": []
          },
          "execution_count": 16
        }
      ]
    },
    {
      "cell_type": "markdown",
      "metadata": {
        "id": "-s_yoBAG-Ymz"
      },
      "source": [
        "#### 分析每月评论总数量"
      ]
    },
    {
      "cell_type": "code",
      "metadata": {
        "colab": {
          "base_uri": "https://localhost:8080/"
        },
        "id": "UpO5rJ9J3uo3",
        "outputId": "06e2abda-2db5-4f44-e518-bb8df63bf056"
      },
      "source": [
        "all_reviews.month.value_counts().sort_index()"
      ],
      "execution_count": 17,
      "outputs": [
        {
          "output_type": "execute_result",
          "data": {
            "text/plain": [
              "1     12984\n",
              "2     10428\n",
              "3      9788\n",
              "4      9524\n",
              "5      9489\n",
              "6      9833\n",
              "7     11900\n",
              "8     11532\n",
              "9     11548\n",
              "10    10688\n",
              "11    10448\n",
              "12    12471\n",
              "Name: month, dtype: int64"
            ]
          },
          "metadata": {
            "tags": []
          },
          "execution_count": 17
        }
      ]
    },
    {
      "cell_type": "code",
      "metadata": {
        "colab": {
          "base_uri": "https://localhost:8080/",
          "height": 283
        },
        "id": "-ay0fKBw4pLx",
        "outputId": "5924202a-63cb-4674-f961-93b29729852a"
      },
      "source": [
        "plt.plot(all_reviews.month.value_counts().sort_index())\n",
        "plt.xlabel('month', fontsize=14)\n",
        "plt.ylabel('review count', fontsize=14)\n",
        "plt.show()"
      ],
      "execution_count": 20,
      "outputs": [
        {
          "output_type": "display_data",
          "data": {
            "image/png": "[encoded data removed]",
            "text/plain": [
              "<Figure size 432x288 with 1 Axes>"
            ]
          },
          "metadata": {
            "tags": [],
            "needs_background": "light"
          }
        }
      ]
    },
    {
      "cell_type": "markdown",
      "metadata": {
        "id": "kCQSXRGt-eeQ"
      },
      "source": [
        "#### 分析2011-2020年每个月评论的数量"
      ]
    },
    {
      "cell_type": "code",
      "metadata": {
        "id": "du-264Ck6CmB"
      },
      "source": [
        "all_reviews[\"year_month\"] = pd.to_datetime(all_reviews[\"year\"].astype(str)+\"-\"+all_reviews[\"month\"].astype(str)).dt.to_period('M')"
      ],
      "execution_count": 21,
      "outputs": []
    },
    {
      "cell_type": "code",
      "metadata": {
        "colab": {
          "base_uri": "https://localhost:8080/",
          "height": 581
        },
        "id": "fDi4z6-V6Zc1",
        "outputId": "328c4e62-2bb1-4956-b304-b41f6f62e241"
      },
      "source": [
        "all_reviews.head()"
      ],
      "execution_count": 22,
      "outputs": [
        {
          "output_type": "execute_result",
          "data": {
            "text/html": [
              "<div>\n",
              "<style scoped>\n",
              "    .dataframe tbody tr th:only-of-type {\n",
              "        vertical-align: middle;\n",
              "    }\n",
              "\n",
              "    .dataframe tbody tr th {\n",
              "        vertical-align: top;\n",
              "    }\n",
              "\n",
              "    .dataframe thead th {\n",
              "        text-align: right;\n",
              "    }\n",
              "</style>\n",
              "<table border=\"1\" class=\"dataframe\">\n",
              "  <thead>\n",
              "    <tr style=\"text-align: right;\">\n",
              "      <th></th>\n",
              "      <th>reviewer_id</th>\n",
              "      <th>listing_id</th>\n",
              "      <th>date</th>\n",
              "      <th>reviewer_name</th>\n",
              "      <th>comments</th>\n",
              "      <th>name</th>\n",
              "      <th>description</th>\n",
              "      <th>neighborhood_overview</th>\n",
              "      <th>host_id</th>\n",
              "      <th>host_since</th>\n",
              "      <th>host_about</th>\n",
              "      <th>host_response_time</th>\n",
              "      <th>host_response_rate</th>\n",
              "      <th>host_is_superhost</th>\n",
              "      <th>host_neighbourhood</th>\n",
              "      <th>host_verifications</th>\n",
              "      <th>host_has_profile_pic</th>\n",
              "      <th>host_identity_verified</th>\n",
              "      <th>neighbourhood_cleansed</th>\n",
              "      <th>neighbourhood_group_cleansed</th>\n",
              "      <th>latitude</th>\n",
              "      <th>longitude</th>\n",
              "      <th>property_type</th>\n",
              "      <th>room_type</th>\n",
              "      <th>accommodates</th>\n",
              "      <th>bathrooms</th>\n",
              "      <th>bedrooms</th>\n",
              "      <th>beds</th>\n",
              "      <th>amenities</th>\n",
              "      <th>price</th>\n",
              "      <th>minimum_nights</th>\n",
              "      <th>maximum_nights</th>\n",
              "      <th>minimum_minimum_nights</th>\n",
              "      <th>maximum_minimum_nights</th>\n",
              "      <th>minimum_maximum_nights</th>\n",
              "      <th>maximum_maximum_nights</th>\n",
              "      <th>minimum_nights_avg_ntm</th>\n",
              "      <th>maximum_nights_avg_ntm</th>\n",
              "      <th>calendar_updated</th>\n",
              "      <th>availability_30</th>\n",
              "      <th>availability_60</th>\n",
              "      <th>availability_90</th>\n",
              "      <th>availability_365</th>\n",
              "      <th>number_of_reviews</th>\n",
              "      <th>number_of_reviews_ltm</th>\n",
              "      <th>review_scores_rating</th>\n",
              "      <th>review_scores_accuracy</th>\n",
              "      <th>review_scores_cleanliness</th>\n",
              "      <th>review_scores_checkin</th>\n",
              "      <th>review_scores_communication</th>\n",
              "      <th>review_scores_location</th>\n",
              "      <th>review_scores_value</th>\n",
              "      <th>instant_bookable</th>\n",
              "      <th>calculated_host_listings_count</th>\n",
              "      <th>reviews_per_month</th>\n",
              "      <th>polarity_score</th>\n",
              "      <th>sentiment</th>\n",
              "      <th>year</th>\n",
              "      <th>month</th>\n",
              "      <th>day</th>\n",
              "      <th>year_month</th>\n",
              "    </tr>\n",
              "  </thead>\n",
              "  <tbody>\n",
              "    <tr>\n",
              "      <th>0</th>\n",
              "      <td>8557223</td>\n",
              "      <td>49091</td>\n",
              "      <td>2013-10-21</td>\n",
              "      <td>Jared</td>\n",
              "      <td>Fran was absolutely gracious and welcoming. Ma...</td>\n",
              "      <td>COZICOMFORT LONG TERM STAY ROOM 2</td>\n",
              "      <td>This is Room No. 2.(available after Jan 15 201...</td>\n",
              "      <td>NaN</td>\n",
              "      <td>266763</td>\n",
              "      <td>2010-10-20</td>\n",
              "      <td>I am a private tutor by profession. My husband...</td>\n",
              "      <td>within a few hours</td>\n",
              "      <td>100%</td>\n",
              "      <td>f</td>\n",
              "      <td>Woodlands</td>\n",
              "      <td>['email', 'phone', 'facebook', 'reviews', 'jum...</td>\n",
              "      <td>t</td>\n",
              "      <td>f</td>\n",
              "      <td>Woodlands</td>\n",
              "      <td>North Region</td>\n",
              "      <td>1.44255</td>\n",
              "      <td>103.79580</td>\n",
              "      <td>Apartment</td>\n",
              "      <td>Private room</td>\n",
              "      <td>1</td>\n",
              "      <td>1.0</td>\n",
              "      <td>1.0</td>\n",
              "      <td>1.0</td>\n",
              "      <td>{TV,\"Cable TV\",Internet,Wifi,\"Air conditioning...</td>\n",
              "      <td>$81.00</td>\n",
              "      <td>180</td>\n",
              "      <td>360</td>\n",
              "      <td>180</td>\n",
              "      <td>180</td>\n",
              "      <td>360</td>\n",
              "      <td>360</td>\n",
              "      <td>180.0</td>\n",
              "      <td>360.0</td>\n",
              "      <td>58 months ago</td>\n",
              "      <td>30</td>\n",
              "      <td>60</td>\n",
              "      <td>90</td>\n",
              "      <td>365</td>\n",
              "      <td>1</td>\n",
              "      <td>0</td>\n",
              "      <td>94.0</td>\n",
              "      <td>10.0</td>\n",
              "      <td>10.0</td>\n",
              "      <td>10.0</td>\n",
              "      <td>10.0</td>\n",
              "      <td>8.0</td>\n",
              "      <td>8.0</td>\n",
              "      <td>f</td>\n",
              "      <td>2</td>\n",
              "      <td>0.02</td>\n",
              "      <td>0.9615</td>\n",
              "      <td>pos</td>\n",
              "      <td>2013</td>\n",
              "      <td>10</td>\n",
              "      <td>21</td>\n",
              "      <td>2013-10</td>\n",
              "    </tr>\n",
              "    <tr>\n",
              "      <th>1</th>\n",
              "      <td>1356099</td>\n",
              "      <td>50646</td>\n",
              "      <td>2014-04-18</td>\n",
              "      <td>James</td>\n",
              "      <td>A comfortable room in a smart condo developmen...</td>\n",
              "      <td>Pleasant Room along Bukit Timah</td>\n",
              "      <td>Fully furnished bedroom with a nice view on th...</td>\n",
              "      <td>The serenity &amp; quiet surrounding makes it an i...</td>\n",
              "      <td>227796</td>\n",
              "      <td>2010-09-08</td>\n",
              "      <td>I am a working professional, living in Singapo...</td>\n",
              "      <td>NaN</td>\n",
              "      <td>NaN</td>\n",
              "      <td>f</td>\n",
              "      <td>Bukit Timah</td>\n",
              "      <td>['email', 'phone', 'facebook', 'reviews']</td>\n",
              "      <td>t</td>\n",
              "      <td>f</td>\n",
              "      <td>Bukit Timah</td>\n",
              "      <td>Central Region</td>\n",
              "      <td>1.33235</td>\n",
              "      <td>103.78521</td>\n",
              "      <td>Apartment</td>\n",
              "      <td>Private room</td>\n",
              "      <td>2</td>\n",
              "      <td>1.0</td>\n",
              "      <td>1.0</td>\n",
              "      <td>1.0</td>\n",
              "      <td>{TV,\"Cable TV\",Internet,Wifi,\"Air conditioning...</td>\n",
              "      <td>$80.00</td>\n",
              "      <td>90</td>\n",
              "      <td>730</td>\n",
              "      <td>90</td>\n",
              "      <td>90</td>\n",
              "      <td>730</td>\n",
              "      <td>730</td>\n",
              "      <td>90.0</td>\n",
              "      <td>730.0</td>\n",
              "      <td>55 months ago</td>\n",
              "      <td>30</td>\n",
              "      <td>60</td>\n",
              "      <td>90</td>\n",
              "      <td>365</td>\n",
              "      <td>18</td>\n",
              "      <td>0</td>\n",
              "      <td>91.0</td>\n",
              "      <td>9.0</td>\n",
              "      <td>10.0</td>\n",
              "      <td>10.0</td>\n",
              "      <td>10.0</td>\n",
              "      <td>9.0</td>\n",
              "      <td>9.0</td>\n",
              "      <td>f</td>\n",
              "      <td>1</td>\n",
              "      <td>0.30</td>\n",
              "      <td>0.9484</td>\n",
              "      <td>pos</td>\n",
              "      <td>2014</td>\n",
              "      <td>4</td>\n",
              "      <td>18</td>\n",
              "      <td>2014-04</td>\n",
              "    </tr>\n",
              "    <tr>\n",
              "      <th>2</th>\n",
              "      <td>15222393</td>\n",
              "      <td>50646</td>\n",
              "      <td>2014-06-05</td>\n",
              "      <td>Welli</td>\n",
              "      <td>Stayed over at Sujatha's house for 3 good nigh...</td>\n",
              "      <td>Pleasant Room along Bukit Timah</td>\n",
              "      <td>Fully furnished bedroom with a nice view on th...</td>\n",
              "      <td>The serenity &amp; quiet surrounding makes it an i...</td>\n",
              "      <td>227796</td>\n",
              "      <td>2010-09-08</td>\n",
              "      <td>I am a working professional, living in Singapo...</td>\n",
              "      <td>NaN</td>\n",
              "      <td>NaN</td>\n",
              "      <td>f</td>\n",
              "      <td>Bukit Timah</td>\n",
              "      <td>['email', 'phone', 'facebook', 'reviews']</td>\n",
              "      <td>t</td>\n",
              "      <td>f</td>\n",
              "      <td>Bukit Timah</td>\n",
              "      <td>Central Region</td>\n",
              "      <td>1.33235</td>\n",
              "      <td>103.78521</td>\n",
              "      <td>Apartment</td>\n",
              "      <td>Private room</td>\n",
              "      <td>2</td>\n",
              "      <td>1.0</td>\n",
              "      <td>1.0</td>\n",
              "      <td>1.0</td>\n",
              "      <td>{TV,\"Cable TV\",Internet,Wifi,\"Air conditioning...</td>\n",
              "      <td>$80.00</td>\n",
              "      <td>90</td>\n",
              "      <td>730</td>\n",
              "      <td>90</td>\n",
              "      <td>90</td>\n",
              "      <td>730</td>\n",
              "      <td>730</td>\n",
              "      <td>90.0</td>\n",
              "      <td>730.0</td>\n",
              "      <td>55 months ago</td>\n",
              "      <td>30</td>\n",
              "      <td>60</td>\n",
              "      <td>90</td>\n",
              "      <td>365</td>\n",
              "      <td>18</td>\n",
              "      <td>0</td>\n",
              "      <td>91.0</td>\n",
              "      <td>9.0</td>\n",
              "      <td>10.0</td>\n",
              "      <td>10.0</td>\n",
              "      <td>10.0</td>\n",
              "      <td>9.0</td>\n",
              "      <td>9.0</td>\n",
              "      <td>f</td>\n",
              "      <td>1</td>\n",
              "      <td>0.30</td>\n",
              "      <td>0.9879</td>\n",
              "      <td>pos</td>\n",
              "      <td>2014</td>\n",
              "      <td>6</td>\n",
              "      <td>5</td>\n",
              "      <td>2014-06</td>\n",
              "    </tr>\n",
              "    <tr>\n",
              "      <th>3</th>\n",
              "      <td>5543172</td>\n",
              "      <td>50646</td>\n",
              "      <td>2014-07-02</td>\n",
              "      <td>Cyril</td>\n",
              "      <td>It's been a lovely stay at Sujatha's. The room...</td>\n",
              "      <td>Pleasant Room along Bukit Timah</td>\n",
              "      <td>Fully furnished bedroom with a nice view on th...</td>\n",
              "      <td>The serenity &amp; quiet surrounding makes it an i...</td>\n",
              "      <td>227796</td>\n",
              "      <td>2010-09-08</td>\n",
              "      <td>I am a working professional, living in Singapo...</td>\n",
              "      <td>NaN</td>\n",
              "      <td>NaN</td>\n",
              "      <td>f</td>\n",
              "      <td>Bukit Timah</td>\n",
              "      <td>['email', 'phone', 'facebook', 'reviews']</td>\n",
              "      <td>t</td>\n",
              "      <td>f</td>\n",
              "      <td>Bukit Timah</td>\n",
              "      <td>Central Region</td>\n",
              "      <td>1.33235</td>\n",
              "      <td>103.78521</td>\n",
              "      <td>Apartment</td>\n",
              "      <td>Private room</td>\n",
              "      <td>2</td>\n",
              "      <td>1.0</td>\n",
              "      <td>1.0</td>\n",
              "      <td>1.0</td>\n",
              "      <td>{TV,\"Cable TV\",Internet,Wifi,\"Air conditioning...</td>\n",
              "      <td>$80.00</td>\n",
              "      <td>90</td>\n",
              "      <td>730</td>\n",
              "      <td>90</td>\n",
              "      <td>90</td>\n",
              "      <td>730</td>\n",
              "      <td>730</td>\n",
              "      <td>90.0</td>\n",
              "      <td>730.0</td>\n",
              "      <td>55 months ago</td>\n",
              "      <td>30</td>\n",
              "      <td>60</td>\n",
              "      <td>90</td>\n",
              "      <td>365</td>\n",
              "      <td>18</td>\n",
              "      <td>0</td>\n",
              "      <td>91.0</td>\n",
              "      <td>9.0</td>\n",
              "      <td>10.0</td>\n",
              "      <td>10.0</td>\n",
              "      <td>10.0</td>\n",
              "      <td>9.0</td>\n",
              "      <td>9.0</td>\n",
              "      <td>f</td>\n",
              "      <td>1</td>\n",
              "      <td>0.30</td>\n",
              "      <td>0.9627</td>\n",
              "      <td>pos</td>\n",
              "      <td>2014</td>\n",
              "      <td>7</td>\n",
              "      <td>2</td>\n",
              "      <td>2014-07</td>\n",
              "    </tr>\n",
              "    <tr>\n",
              "      <th>4</th>\n",
              "      <td>817532</td>\n",
              "      <td>50646</td>\n",
              "      <td>2014-07-08</td>\n",
              "      <td>Jake</td>\n",
              "      <td>We had a great experience. A nice place, an am...</td>\n",
              "      <td>Pleasant Room along Bukit Timah</td>\n",
              "      <td>Fully furnished bedroom with a nice view on th...</td>\n",
              "      <td>The serenity &amp; quiet surrounding makes it an i...</td>\n",
              "      <td>227796</td>\n",
              "      <td>2010-09-08</td>\n",
              "      <td>I am a working professional, living in Singapo...</td>\n",
              "      <td>NaN</td>\n",
              "      <td>NaN</td>\n",
              "      <td>f</td>\n",
              "      <td>Bukit Timah</td>\n",
              "      <td>['email', 'phone', 'facebook', 'reviews']</td>\n",
              "      <td>t</td>\n",
              "      <td>f</td>\n",
              "      <td>Bukit Timah</td>\n",
              "      <td>Central Region</td>\n",
              "      <td>1.33235</td>\n",
              "      <td>103.78521</td>\n",
              "      <td>Apartment</td>\n",
              "      <td>Private room</td>\n",
              "      <td>2</td>\n",
              "      <td>1.0</td>\n",
              "      <td>1.0</td>\n",
              "      <td>1.0</td>\n",
              "      <td>{TV,\"Cable TV\",Internet,Wifi,\"Air conditioning...</td>\n",
              "      <td>$80.00</td>\n",
              "      <td>90</td>\n",
              "      <td>730</td>\n",
              "      <td>90</td>\n",
              "      <td>90</td>\n",
              "      <td>730</td>\n",
              "      <td>730</td>\n",
              "      <td>90.0</td>\n",
              "      <td>730.0</td>\n",
              "      <td>55 months ago</td>\n",
              "      <td>30</td>\n",
              "      <td>60</td>\n",
              "      <td>90</td>\n",
              "      <td>365</td>\n",
              "      <td>18</td>\n",
              "      <td>0</td>\n",
              "      <td>91.0</td>\n",
              "      <td>9.0</td>\n",
              "      <td>10.0</td>\n",
              "      <td>10.0</td>\n",
              "      <td>10.0</td>\n",
              "      <td>9.0</td>\n",
              "      <td>9.0</td>\n",
              "      <td>f</td>\n",
              "      <td>1</td>\n",
              "      <td>0.30</td>\n",
              "      <td>0.9274</td>\n",
              "      <td>pos</td>\n",
              "      <td>2014</td>\n",
              "      <td>7</td>\n",
              "      <td>8</td>\n",
              "      <td>2014-07</td>\n",
              "    </tr>\n",
              "  </tbody>\n",
              "</table>\n",
              "</div>"
            ],
            "text/plain": [
              "   reviewer_id  listing_id       date  ... month day year_month\n",
              "0      8557223       49091 2013-10-21  ...    10  21    2013-10\n",
              "1      1356099       50646 2014-04-18  ...     4  18    2014-04\n",
              "2     15222393       50646 2014-06-05  ...     6   5    2014-06\n",
              "3      5543172       50646 2014-07-02  ...     7   2    2014-07\n",
              "4       817532       50646 2014-07-08  ...     7   8    2014-07\n",
              "\n",
              "[5 rows x 61 columns]"
            ]
          },
          "metadata": {
            "tags": []
          },
          "execution_count": 22
        }
      ]
    },
    {
      "cell_type": "code",
      "metadata": {
        "colab": {
          "base_uri": "https://localhost:8080/"
        },
        "id": "v-cKES-z65_u",
        "outputId": "e6b9ebf3-e382-40e3-d9b2-5ca03111ab02"
      },
      "source": [
        "all_reviews.year_month.value_counts().sort_index()"
      ],
      "execution_count": 23,
      "outputs": [
        {
          "output_type": "execute_result",
          "data": {
            "text/plain": [
              "2011-05      2\n",
              "2011-06      2\n",
              "2011-07      4\n",
              "2011-08      4\n",
              "2011-09      5\n",
              "          ... \n",
              "2020-09    472\n",
              "2020-10    373\n",
              "2020-11    401\n",
              "2020-12    558\n",
              "2021-01    310\n",
              "Freq: M, Name: year_month, Length: 117, dtype: int64"
            ]
          },
          "metadata": {
            "tags": []
          },
          "execution_count": 23
        }
      ]
    },
    {
      "cell_type": "code",
      "metadata": {
        "id": "AxviAsuC9SrO"
      },
      "source": [
        "reviews = all_reviews.year_month.value_counts().sort_index().tolist()"
      ],
      "execution_count": 24,
      "outputs": []
    },
    {
      "cell_type": "code",
      "metadata": {
        "colab": {
          "base_uri": "https://localhost:8080/",
          "height": 282
        },
        "id": "Xhe_-N9N8z3j",
        "outputId": "191a9fb7-bf85-4609-e7c4-0a93dd0252e2"
      },
      "source": [
        "plt.plot(reviews)"
      ],
      "execution_count": 25,
      "outputs": [
        {
          "output_type": "execute_result",
          "data": {
            "text/plain": [
              "[<matplotlib.lines.Line2D at 0x7f81931dbf10>]"
            ]
          },
          "metadata": {
            "tags": []
          },
          "execution_count": 25
        },
        {
          "output_type": "display_data",
          "data": {
            "image/png": "[encoded data removed]",
            "text/plain": [
              "<Figure size 432x288 with 1 Axes>"
            ]
          },
          "metadata": {
            "tags": [],
            "needs_background": "light"
          }
        }
      ]
    },
    {
      "cell_type": "code",
      "metadata": {
        "colab": {
          "base_uri": "https://localhost:8080/",
          "height": 282
        },
        "id": "0cfk6nQW_USw",
        "outputId": "085c2ab4-5a25-43c9-975f-dc23743d6cb8"
      },
      "source": [
        "col = pd.unique(all_reviews.year_month.astype(str))\n",
        "plt.bar(col,reviews)"
      ],
      "execution_count": 26,
      "outputs": [
        {
          "output_type": "execute_result",
          "data": {
            "text/plain": [
              "<BarContainer object of 117 artists>"
            ]
          },
          "metadata": {
            "tags": []
          },
          "execution_count": 26
        },
        {
          "output_type": "display_data",
          "data": {
            "image/png": "[encoded data removed]",
            "text/plain": [
              "<Figure size 432x288 with 1 Axes>"
            ]
          },
          "metadata": {
            "tags": [],
            "needs_background": "light"
          }
        }
      ]
    },
    {
      "cell_type": "code",
      "metadata": {
        "colab": {
          "base_uri": "https://localhost:8080/",
          "height": 282
        },
        "id": "j2DK4O4aAIgu",
        "outputId": "9de24c45-79d1-469c-c580-4c8883216de1"
      },
      "source": [
        "years = pd.unique(all_reviews.year.astype(str))\n",
        "years.sort()\n",
        "plt.bar(years,all_reviews.year.value_counts().sort_index())"
      ],
      "execution_count": 27,
      "outputs": [
        {
          "output_type": "execute_result",
          "data": {
            "text/plain": [
              "<BarContainer object of 11 artists>"
            ]
          },
          "metadata": {
            "tags": []
          },
          "execution_count": 27
        },
        {
          "output_type": "display_data",
          "data": {
            "image/png": "[encoded data removed]",
            "text/plain": [
              "<Figure size 432x288 with 1 Axes>"
            ]
          },
          "metadata": {
            "tags": [],
            "needs_background": "light"
          }
        }
      ]
    },
    {
      "cell_type": "code",
      "metadata": {
        "id": "ehAoYAHuYtIe"
      },
      "source": [
        "def counter(df, date):\n",
        "  # df = pd.read_csv(path)\n",
        "  yr = int(date[:4])\n",
        "  mon = int(date[-2:])\n",
        "  # print(year*100+month)\n",
        "  df['date'] = pd.to_datetime(df['date'])\n",
        "  df['year'] = df['date'].dt.year\n",
        "  df['month'] = df['date'].dt.month\n",
        "  df['day'] = df['date'].dt.day\n",
        "  target = df[(df['year']==yr) & (df['month']==mon)]\n",
        "  return target.shape[0]"
      ],
      "execution_count": 28,
      "outputs": []
    },
    {
      "cell_type": "code",
      "metadata": {
        "id": "KpcNI5A7ZuBh"
      },
      "source": [
        "dates = ['2019-03', '2019-04', '2019-05', '2019-06', '2019-07', '2019-08', '2019-09', '2019-10', '2019-11', '2019-12',\n",
        "         '2020-01', '2020-02', '2020-03', '2020-04', '2020-05', '2020-06', '2020-10', '2020-11', '2020-12']"
      ],
      "execution_count": 29,
      "outputs": []
    },
    {
      "cell_type": "code",
      "metadata": {
        "id": "OJOQMGAoZuHb"
      },
      "source": [
        "reviews = []\n",
        "path = '/content/drive/My Drive/data/data/'"
      ],
      "execution_count": 30,
      "outputs": []
    },
    {
      "cell_type": "code",
      "metadata": {
        "colab": {
          "base_uri": "https://localhost:8080/"
        },
        "id": "fSyD-wOhalpL",
        "outputId": "d7cf7f41-33e0-4bfc-eb76-01b935adbb03"
      },
      "source": [
        "for date in dates:\n",
        "  review = pd.read_csv(path+date+'/reviews.csv')\n",
        "  reviews.append(counter(review,date))\n",
        "print(reviews)"
      ],
      "execution_count": 31,
      "outputs": [
        {
          "output_type": "stream",
          "text": [
            "[1399, 1521, 2263, 2480, 1996, 3206, 2682, 2385, 2514, 2861, 2797, 2124, 901, 493, 512, 330, 314, 337, 521]\n"
          ],
          "name": "stdout"
        }
      ]
    },
    {
      "cell_type": "code",
      "metadata": {
        "colab": {
          "base_uri": "https://localhost:8080/",
          "height": 609
        },
        "id": "-p17bNIDebBF",
        "outputId": "f462fc75-24c9-49b8-fae0-fc6ec6697ce4"
      },
      "source": [
        "plt.figure(figsize=(20,10))\n",
        "plt.bar(dates, reviews)"
      ],
      "execution_count": 32,
      "outputs": [
        {
          "output_type": "execute_result",
          "data": {
            "text/plain": [
              "<BarContainer object of 19 artists>"
            ]
          },
          "metadata": {
            "tags": []
          },
          "execution_count": 32
        },
        {
          "output_type": "display_data",
          "data": {
            "image/png": "[encoded data removed]",
            "text/plain": [
              "<Figure size 1440x720 with 1 Axes>"
            ]
          },
          "metadata": {
            "tags": [],
            "needs_background": "light"
          }
        }
      ]
    }
  ]
}