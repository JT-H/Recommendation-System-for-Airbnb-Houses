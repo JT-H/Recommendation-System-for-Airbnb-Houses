{
  "nbformat": 4,
  "nbformat_minor": 0,
  "metadata": {
    "colab": {
      "name": "EDA-6.ipynb",
      "provenance": [],
      "collapsed_sections": []
    },
    "kernelspec": {
      "name": "python3",
      "display_name": "Python 3"
    }
  },
  "cells": [
    {
      "cell_type": "markdown",
      "metadata": {
        "id": "GNxl7r8g32Vp"
      },
      "source": [
        "# **EDA-6**"
      ]
    },
    {
      "cell_type": "code",
      "metadata": {
        "colab": {
          "base_uri": "https://localhost:8080/"
        },
        "id": "nAsyvOBCiucx",
        "outputId": "bb83e895-fa96-441d-e008-f94dbbec45bb"
      },
      "source": [
        "import pandas as pd\r\n",
        "# mount google drive\r\n",
        "from google.colab import drive\r\n",
        "drive.mount('/content/drive')"
      ],
      "execution_count": 33,
      "outputs": [
        {
          "output_type": "stream",
          "text": [
            "Drive already mounted at /content/drive; to attempt to forcibly remount, call drive.mount(\"/content/drive\", force_remount=True).\n"
          ],
          "name": "stdout"
        }
      ]
    },
    {
      "cell_type": "code",
      "metadata": {
        "id": "FFQ8In4e4e64"
      },
      "source": [
        "import matplotlib.pyplot as plt"
      ],
      "execution_count": 34,
      "outputs": []
    },
    {
      "cell_type": "markdown",
      "metadata": {
        "id": "uNjEKm3h95eU"
      },
      "source": [
        "#### 导入reviews数据"
      ]
    },
    {
      "cell_type": "code",
      "metadata": {
        "id": "t6Kwxdu4osIY"
      },
      "source": [
        "all_reviews = pd.read_csv('/content/drive/My Drive/data/data/2020-01/reviews.csv')"
      ],
      "execution_count": 35,
      "outputs": []
    },
    {
      "cell_type": "code",
      "metadata": {
        "colab": {
          "base_uri": "https://localhost:8080/",
          "height": 204
        },
        "id": "3RZKEeWR2iB1",
        "outputId": "07960ce2-79a4-4d19-c9da-2036f74d088b"
      },
      "source": [
        "all_reviews.head()"
      ],
      "execution_count": 36,
      "outputs": [
        {
          "output_type": "execute_result",
          "data": {
            "text/html": [
              "<div>\n",
              "<style scoped>\n",
              "    .dataframe tbody tr th:only-of-type {\n",
              "        vertical-align: middle;\n",
              "    }\n",
              "\n",
              "    .dataframe tbody tr th {\n",
              "        vertical-align: top;\n",
              "    }\n",
              "\n",
              "    .dataframe thead th {\n",
              "        text-align: right;\n",
              "    }\n",
              "</style>\n",
              "<table border=\"1\" class=\"dataframe\">\n",
              "  <thead>\n",
              "    <tr style=\"text-align: right;\">\n",
              "      <th></th>\n",
              "      <th>listing_id</th>\n",
              "      <th>id</th>\n",
              "      <th>date</th>\n",
              "      <th>reviewer_id</th>\n",
              "      <th>reviewer_name</th>\n",
              "      <th>comments</th>\n",
              "    </tr>\n",
              "  </thead>\n",
              "  <tbody>\n",
              "    <tr>\n",
              "      <th>0</th>\n",
              "      <td>49091</td>\n",
              "      <td>8243238</td>\n",
              "      <td>2013-10-21</td>\n",
              "      <td>8557223</td>\n",
              "      <td>Jared</td>\n",
              "      <td>Fran was absolutely gracious and welcoming. Ma...</td>\n",
              "    </tr>\n",
              "    <tr>\n",
              "      <th>1</th>\n",
              "      <td>50646</td>\n",
              "      <td>11909864</td>\n",
              "      <td>2014-04-18</td>\n",
              "      <td>1356099</td>\n",
              "      <td>James</td>\n",
              "      <td>A comfortable room in a smart condo developmen...</td>\n",
              "    </tr>\n",
              "    <tr>\n",
              "      <th>2</th>\n",
              "      <td>50646</td>\n",
              "      <td>13823948</td>\n",
              "      <td>2014-06-05</td>\n",
              "      <td>15222393</td>\n",
              "      <td>Welli</td>\n",
              "      <td>Stayed over at Sujatha's house for 3 good nigh...</td>\n",
              "    </tr>\n",
              "    <tr>\n",
              "      <th>3</th>\n",
              "      <td>50646</td>\n",
              "      <td>15117222</td>\n",
              "      <td>2014-07-02</td>\n",
              "      <td>5543172</td>\n",
              "      <td>Cyril</td>\n",
              "      <td>It's been a lovely stay at Sujatha's. The room...</td>\n",
              "    </tr>\n",
              "    <tr>\n",
              "      <th>4</th>\n",
              "      <td>50646</td>\n",
              "      <td>15426462</td>\n",
              "      <td>2014-07-08</td>\n",
              "      <td>817532</td>\n",
              "      <td>Jake</td>\n",
              "      <td>We had a great experience. A nice place, an am...</td>\n",
              "    </tr>\n",
              "  </tbody>\n",
              "</table>\n",
              "</div>"
            ],
            "text/plain": [
              "   listing_id  ...                                           comments\n",
              "0       49091  ...  Fran was absolutely gracious and welcoming. Ma...\n",
              "1       50646  ...  A comfortable room in a smart condo developmen...\n",
              "2       50646  ...  Stayed over at Sujatha's house for 3 good nigh...\n",
              "3       50646  ...  It's been a lovely stay at Sujatha's. The room...\n",
              "4       50646  ...  We had a great experience. A nice place, an am...\n",
              "\n",
              "[5 rows x 6 columns]"
            ]
          },
          "metadata": {
            "tags": []
          },
          "execution_count": 36
        }
      ]
    },
    {
      "cell_type": "markdown",
      "metadata": {
        "id": "1m7nfQqt-GMU"
      },
      "source": [
        "#### 将date转为datetime数据后，分离成年月日"
      ]
    },
    {
      "cell_type": "code",
      "metadata": {
        "id": "VVDu_ViW3VKB"
      },
      "source": [
        "all_reviews['date'] = pd.to_datetime(all_reviews['date'])"
      ],
      "execution_count": 37,
      "outputs": []
    },
    {
      "cell_type": "code",
      "metadata": {
        "id": "MaBED28G3Ejw"
      },
      "source": [
        "all_reviews['year'] = all_reviews['date'].dt.year\r\n",
        "all_reviews['month'] = all_reviews['date'].dt.month\r\n",
        "all_reviews['day'] = all_reviews['date'].dt.day"
      ],
      "execution_count": 38,
      "outputs": []
    },
    {
      "cell_type": "code",
      "metadata": {
        "colab": {
          "base_uri": "https://localhost:8080/",
          "height": 204
        },
        "id": "8RvxjdBP3sEm",
        "outputId": "f54f9893-429f-488a-8961-42787e9dec99"
      },
      "source": [
        "all_reviews.head()"
      ],
      "execution_count": 39,
      "outputs": [
        {
          "output_type": "execute_result",
          "data": {
            "text/html": [
              "<div>\n",
              "<style scoped>\n",
              "    .dataframe tbody tr th:only-of-type {\n",
              "        vertical-align: middle;\n",
              "    }\n",
              "\n",
              "    .dataframe tbody tr th {\n",
              "        vertical-align: top;\n",
              "    }\n",
              "\n",
              "    .dataframe thead th {\n",
              "        text-align: right;\n",
              "    }\n",
              "</style>\n",
              "<table border=\"1\" class=\"dataframe\">\n",
              "  <thead>\n",
              "    <tr style=\"text-align: right;\">\n",
              "      <th></th>\n",
              "      <th>listing_id</th>\n",
              "      <th>id</th>\n",
              "      <th>date</th>\n",
              "      <th>reviewer_id</th>\n",
              "      <th>reviewer_name</th>\n",
              "      <th>comments</th>\n",
              "      <th>year</th>\n",
              "      <th>month</th>\n",
              "      <th>day</th>\n",
              "    </tr>\n",
              "  </thead>\n",
              "  <tbody>\n",
              "    <tr>\n",
              "      <th>0</th>\n",
              "      <td>49091</td>\n",
              "      <td>8243238</td>\n",
              "      <td>2013-10-21</td>\n",
              "      <td>8557223</td>\n",
              "      <td>Jared</td>\n",
              "      <td>Fran was absolutely gracious and welcoming. Ma...</td>\n",
              "      <td>2013</td>\n",
              "      <td>10</td>\n",
              "      <td>21</td>\n",
              "    </tr>\n",
              "    <tr>\n",
              "      <th>1</th>\n",
              "      <td>50646</td>\n",
              "      <td>11909864</td>\n",
              "      <td>2014-04-18</td>\n",
              "      <td>1356099</td>\n",
              "      <td>James</td>\n",
              "      <td>A comfortable room in a smart condo developmen...</td>\n",
              "      <td>2014</td>\n",
              "      <td>4</td>\n",
              "      <td>18</td>\n",
              "    </tr>\n",
              "    <tr>\n",
              "      <th>2</th>\n",
              "      <td>50646</td>\n",
              "      <td>13823948</td>\n",
              "      <td>2014-06-05</td>\n",
              "      <td>15222393</td>\n",
              "      <td>Welli</td>\n",
              "      <td>Stayed over at Sujatha's house for 3 good nigh...</td>\n",
              "      <td>2014</td>\n",
              "      <td>6</td>\n",
              "      <td>5</td>\n",
              "    </tr>\n",
              "    <tr>\n",
              "      <th>3</th>\n",
              "      <td>50646</td>\n",
              "      <td>15117222</td>\n",
              "      <td>2014-07-02</td>\n",
              "      <td>5543172</td>\n",
              "      <td>Cyril</td>\n",
              "      <td>It's been a lovely stay at Sujatha's. The room...</td>\n",
              "      <td>2014</td>\n",
              "      <td>7</td>\n",
              "      <td>2</td>\n",
              "    </tr>\n",
              "    <tr>\n",
              "      <th>4</th>\n",
              "      <td>50646</td>\n",
              "      <td>15426462</td>\n",
              "      <td>2014-07-08</td>\n",
              "      <td>817532</td>\n",
              "      <td>Jake</td>\n",
              "      <td>We had a great experience. A nice place, an am...</td>\n",
              "      <td>2014</td>\n",
              "      <td>7</td>\n",
              "      <td>8</td>\n",
              "    </tr>\n",
              "  </tbody>\n",
              "</table>\n",
              "</div>"
            ],
            "text/plain": [
              "   listing_id        id       date  ...  year month day\n",
              "0       49091   8243238 2013-10-21  ...  2013    10  21\n",
              "1       50646  11909864 2014-04-18  ...  2014     4  18\n",
              "2       50646  13823948 2014-06-05  ...  2014     6   5\n",
              "3       50646  15117222 2014-07-02  ...  2014     7   2\n",
              "4       50646  15426462 2014-07-08  ...  2014     7   8\n",
              "\n",
              "[5 rows x 9 columns]"
            ]
          },
          "metadata": {
            "tags": []
          },
          "execution_count": 39
        }
      ]
    },
    {
      "cell_type": "markdown",
      "metadata": {
        "id": "-s_yoBAG-Ymz"
      },
      "source": [
        "#### 分析每月评论总数量"
      ]
    },
    {
      "cell_type": "code",
      "metadata": {
        "colab": {
          "base_uri": "https://localhost:8080/"
        },
        "id": "UpO5rJ9J3uo3",
        "outputId": "bda07a40-a049-4964-ef37-6576d9d9008b"
      },
      "source": [
        "all_reviews.month.value_counts().sort_index()"
      ],
      "execution_count": 40,
      "outputs": [
        {
          "output_type": "execute_result",
          "data": {
            "text/plain": [
              "1     10289\n",
              "2      6682\n",
              "3      7055\n",
              "4      7513\n",
              "5      7622\n",
              "6      8057\n",
              "7     10311\n",
              "8     10696\n",
              "9     10237\n",
              "10     9785\n",
              "11     9339\n",
              "12    10685\n",
              "Name: month, dtype: int64"
            ]
          },
          "metadata": {
            "tags": []
          },
          "execution_count": 40
        }
      ]
    },
    {
      "cell_type": "code",
      "metadata": {
        "colab": {
          "base_uri": "https://localhost:8080/",
          "height": 287
        },
        "id": "-ay0fKBw4pLx",
        "outputId": "c109fd06-8e25-4594-cbd8-81deebda7cab"
      },
      "source": [
        "plt.plot(all_reviews.month.value_counts().sort_index())\r\n",
        "plt.xlim(0,13)\r\n",
        "plt.ylim(0,6000)\r\n",
        "plt.xlabel('month', fontsize=14)\r\n",
        "plt.ylabel('review count', fontsize=14)\r\n",
        "plt.show()"
      ],
      "execution_count": 41,
      "outputs": [
        {
          "output_type": "display_data",
          "data": {
            "image/png": "[encoded data removed]",
            "text/plain": [
              "<Figure size 432x288 with 1 Axes>"
            ]
          },
          "metadata": {
            "tags": [],
            "needs_background": "light"
          }
        }
      ]
    },
    {
      "cell_type": "markdown",
      "metadata": {
        "id": "kCQSXRGt-eeQ"
      },
      "source": [
        "#### 分析2011-2020年每个月评论的数量"
      ]
    },
    {
      "cell_type": "code",
      "metadata": {
        "id": "du-264Ck6CmB"
      },
      "source": [
        "all_reviews[\"year_month\"] = pd.to_datetime(all_reviews[\"year\"].astype(str)+\"-\"+all_reviews[\"month\"].astype(str)).dt.to_period('M')"
      ],
      "execution_count": 42,
      "outputs": []
    },
    {
      "cell_type": "code",
      "metadata": {
        "colab": {
          "base_uri": "https://localhost:8080/",
          "height": 204
        },
        "id": "fDi4z6-V6Zc1",
        "outputId": "5efc7110-2b39-418b-d88c-796bd854f976"
      },
      "source": [
        "all_reviews.head()"
      ],
      "execution_count": 43,
      "outputs": [
        {
          "output_type": "execute_result",
          "data": {
            "text/html": [
              "<div>\n",
              "<style scoped>\n",
              "    .dataframe tbody tr th:only-of-type {\n",
              "        vertical-align: middle;\n",
              "    }\n",
              "\n",
              "    .dataframe tbody tr th {\n",
              "        vertical-align: top;\n",
              "    }\n",
              "\n",
              "    .dataframe thead th {\n",
              "        text-align: right;\n",
              "    }\n",
              "</style>\n",
              "<table border=\"1\" class=\"dataframe\">\n",
              "  <thead>\n",
              "    <tr style=\"text-align: right;\">\n",
              "      <th></th>\n",
              "      <th>listing_id</th>\n",
              "      <th>id</th>\n",
              "      <th>date</th>\n",
              "      <th>reviewer_id</th>\n",
              "      <th>reviewer_name</th>\n",
              "      <th>comments</th>\n",
              "      <th>year</th>\n",
              "      <th>month</th>\n",
              "      <th>day</th>\n",
              "      <th>year_month</th>\n",
              "    </tr>\n",
              "  </thead>\n",
              "  <tbody>\n",
              "    <tr>\n",
              "      <th>0</th>\n",
              "      <td>49091</td>\n",
              "      <td>8243238</td>\n",
              "      <td>2013-10-21</td>\n",
              "      <td>8557223</td>\n",
              "      <td>Jared</td>\n",
              "      <td>Fran was absolutely gracious and welcoming. Ma...</td>\n",
              "      <td>2013</td>\n",
              "      <td>10</td>\n",
              "      <td>21</td>\n",
              "      <td>2013-10</td>\n",
              "    </tr>\n",
              "    <tr>\n",
              "      <th>1</th>\n",
              "      <td>50646</td>\n",
              "      <td>11909864</td>\n",
              "      <td>2014-04-18</td>\n",
              "      <td>1356099</td>\n",
              "      <td>James</td>\n",
              "      <td>A comfortable room in a smart condo developmen...</td>\n",
              "      <td>2014</td>\n",
              "      <td>4</td>\n",
              "      <td>18</td>\n",
              "      <td>2014-04</td>\n",
              "    </tr>\n",
              "    <tr>\n",
              "      <th>2</th>\n",
              "      <td>50646</td>\n",
              "      <td>13823948</td>\n",
              "      <td>2014-06-05</td>\n",
              "      <td>15222393</td>\n",
              "      <td>Welli</td>\n",
              "      <td>Stayed over at Sujatha's house for 3 good nigh...</td>\n",
              "      <td>2014</td>\n",
              "      <td>6</td>\n",
              "      <td>5</td>\n",
              "      <td>2014-06</td>\n",
              "    </tr>\n",
              "    <tr>\n",
              "      <th>3</th>\n",
              "      <td>50646</td>\n",
              "      <td>15117222</td>\n",
              "      <td>2014-07-02</td>\n",
              "      <td>5543172</td>\n",
              "      <td>Cyril</td>\n",
              "      <td>It's been a lovely stay at Sujatha's. The room...</td>\n",
              "      <td>2014</td>\n",
              "      <td>7</td>\n",
              "      <td>2</td>\n",
              "      <td>2014-07</td>\n",
              "    </tr>\n",
              "    <tr>\n",
              "      <th>4</th>\n",
              "      <td>50646</td>\n",
              "      <td>15426462</td>\n",
              "      <td>2014-07-08</td>\n",
              "      <td>817532</td>\n",
              "      <td>Jake</td>\n",
              "      <td>We had a great experience. A nice place, an am...</td>\n",
              "      <td>2014</td>\n",
              "      <td>7</td>\n",
              "      <td>8</td>\n",
              "      <td>2014-07</td>\n",
              "    </tr>\n",
              "  </tbody>\n",
              "</table>\n",
              "</div>"
            ],
            "text/plain": [
              "   listing_id        id       date  reviewer_id  ...  year month  day  year_month\n",
              "0       49091   8243238 2013-10-21      8557223  ...  2013    10   21     2013-10\n",
              "1       50646  11909864 2014-04-18      1356099  ...  2014     4   18     2014-04\n",
              "2       50646  13823948 2014-06-05     15222393  ...  2014     6    5     2014-06\n",
              "3       50646  15117222 2014-07-02      5543172  ...  2014     7    2     2014-07\n",
              "4       50646  15426462 2014-07-08       817532  ...  2014     7    8     2014-07\n",
              "\n",
              "[5 rows x 10 columns]"
            ]
          },
          "metadata": {
            "tags": []
          },
          "execution_count": 43
        }
      ]
    },
    {
      "cell_type": "code",
      "metadata": {
        "colab": {
          "base_uri": "https://localhost:8080/"
        },
        "id": "v-cKES-z65_u",
        "outputId": "ab39d2f6-66a4-4be0-aec6-7d3d30f90a84"
      },
      "source": [
        "all_reviews.year_month.value_counts().sort_index()"
      ],
      "execution_count": 44,
      "outputs": [
        {
          "output_type": "execute_result",
          "data": {
            "text/plain": [
              "2011-05       2\n",
              "2011-06       2\n",
              "2011-07       3\n",
              "2011-08       4\n",
              "2011-09       4\n",
              "           ... \n",
              "2019-09    4217\n",
              "2019-10    3936\n",
              "2019-11    3969\n",
              "2019-12    4326\n",
              "2020-01    2797\n",
              "Freq: M, Name: year_month, Length: 105, dtype: int64"
            ]
          },
          "metadata": {
            "tags": []
          },
          "execution_count": 44
        }
      ]
    },
    {
      "cell_type": "code",
      "metadata": {
        "id": "AxviAsuC9SrO"
      },
      "source": [
        "reviews = all_reviews.year_month.value_counts().sort_index().tolist()"
      ],
      "execution_count": 45,
      "outputs": []
    },
    {
      "cell_type": "code",
      "metadata": {
        "colab": {
          "base_uri": "https://localhost:8080/",
          "height": 282
        },
        "id": "Xhe_-N9N8z3j",
        "outputId": "1a7e187b-fb93-4cfe-a668-00a8552932d8"
      },
      "source": [
        "plt.plot(reviews)"
      ],
      "execution_count": 46,
      "outputs": [
        {
          "output_type": "execute_result",
          "data": {
            "text/plain": [
              "[<matplotlib.lines.Line2D at 0x7f0d0a6aa2d0>]"
            ]
          },
          "metadata": {
            "tags": []
          },
          "execution_count": 46
        },
        {
          "output_type": "display_data",
          "data": {
            "image/png": "[encoded data removed]",
            "text/plain": [
              "<Figure size 432x288 with 1 Axes>"
            ]
          },
          "metadata": {
            "tags": [],
            "needs_background": "light"
          }
        }
      ]
    },
    {
      "cell_type": "code",
      "metadata": {
        "colab": {
          "base_uri": "https://localhost:8080/",
          "height": 282
        },
        "id": "0cfk6nQW_USw",
        "outputId": "659ab454-3140-455c-d6cc-05c7b683b555"
      },
      "source": [
        "col = pd.unique(all_reviews.year_month.astype(str))\r\n",
        "plt.bar(col,reviews)"
      ],
      "execution_count": 47,
      "outputs": [
        {
          "output_type": "execute_result",
          "data": {
            "text/plain": [
              "<BarContainer object of 105 artists>"
            ]
          },
          "metadata": {
            "tags": []
          },
          "execution_count": 47
        },
        {
          "output_type": "display_data",
          "data": {
            "image/png": "[encoded data removed]",
            "text/plain": [
              "<Figure size 432x288 with 1 Axes>"
            ]
          },
          "metadata": {
            "tags": [],
            "needs_background": "light"
          }
        }
      ]
    },
    {
      "cell_type": "code",
      "metadata": {
        "colab": {
          "base_uri": "https://localhost:8080/",
          "height": 282
        },
        "id": "j2DK4O4aAIgu",
        "outputId": "9ce38671-fee9-4808-acd4-d9af79c69327"
      },
      "source": [
        "years = pd.unique(all_reviews.year.astype(str))\r\n",
        "years.sort()\r\n",
        "plt.bar(years,all_reviews.year.value_counts().sort_index())"
      ],
      "execution_count": 57,
      "outputs": [
        {
          "output_type": "execute_result",
          "data": {
            "text/plain": [
              "<BarContainer object of 10 artists>"
            ]
          },
          "metadata": {
            "tags": []
          },
          "execution_count": 57
        },
        {
          "output_type": "display_data",
          "data": {
            "image/png": "[encoded data removed]",
            "text/plain": [
              "<Figure size 432x288 with 1 Axes>"
            ]
          },
          "metadata": {
            "tags": [],
            "needs_background": "light"
          }
        }
      ]
    },
    {
      "cell_type": "code",
      "metadata": {
        "id": "ehAoYAHuYtIe"
      },
      "source": [
        "def counter(df, date):\r\n",
        "  # df = pd.read_csv(path)\r\n",
        "  yr = int(date[:4])\r\n",
        "  mon = int(date[-2:])\r\n",
        "  # print(year*100+month)\r\n",
        "  df['date'] = pd.to_datetime(df['date'])\r\n",
        "  df['year'] = df['date'].dt.year\r\n",
        "  df['month'] = df['date'].dt.month\r\n",
        "  df['day'] = df['date'].dt.day\r\n",
        "  target = df[(df['year']==yr) & (df['month']==mon)]\r\n",
        "  return target.shape[0]"
      ],
      "execution_count": 49,
      "outputs": []
    },
    {
      "cell_type": "code",
      "metadata": {
        "id": "KpcNI5A7ZuBh"
      },
      "source": [
        "dates = ['2019-03', '2019-04', '2019-05', '2019-06', '2019-07', '2019-08', '2019-09', '2019-10', '2019-11', '2019-12',\r\n",
        "         '2020-01', '2020-02', '2020-03', '2020-04', '2020-05', '2020-06', '2020-10', '2020-11', '2020-12']"
      ],
      "execution_count": 50,
      "outputs": []
    },
    {
      "cell_type": "code",
      "metadata": {
        "id": "OJOQMGAoZuHb"
      },
      "source": [
        "reviews = []\r\n",
        "path = '/content/drive/My Drive/data/data/'"
      ],
      "execution_count": 51,
      "outputs": []
    },
    {
      "cell_type": "code",
      "metadata": {
        "colab": {
          "base_uri": "https://localhost:8080/"
        },
        "id": "fSyD-wOhalpL",
        "outputId": "41a781a9-52ba-456a-8696-e35d35ef621e"
      },
      "source": [
        "for date in dates:\r\n",
        "  review = pd.read_csv(path+date+'/reviews.csv')\r\n",
        "  reviews.append(counter(review,date))\r\n",
        "print(reviews)"
      ],
      "execution_count": 52,
      "outputs": [
        {
          "output_type": "stream",
          "text": [
            "[1399, 1521, 2263, 2480, 1996, 3206, 2682, 2385, 2514, 2861, 2797, 2124, 901, 493, 512, 330, 314, 337, 521]\n"
          ],
          "name": "stdout"
        }
      ]
    },
    {
      "cell_type": "code",
      "metadata": {
        "colab": {
          "base_uri": "https://localhost:8080/",
          "height": 609
        },
        "id": "-p17bNIDebBF",
        "outputId": "96b9a56c-7eda-40b3-d09e-e0baf7b6c250"
      },
      "source": [
        "plt.figure(figsize=(20,10))\r\n",
        "plt.bar(dates, reviews)"
      ],
      "execution_count": 53,
      "outputs": [
        {
          "output_type": "execute_result",
          "data": {
            "text/plain": [
              "<BarContainer object of 19 artists>"
            ]
          },
          "metadata": {
            "tags": []
          },
          "execution_count": 53
        },
        {
          "output_type": "display_data",
          "data": {
            "image/png": "[encoded data removed]",
            "text/plain": [
              "<Figure size 1440x720 with 1 Axes>"
            ]
          },
          "metadata": {
            "tags": [],
            "needs_background": "light"
          }
        }
      ]
    }
  ]
}