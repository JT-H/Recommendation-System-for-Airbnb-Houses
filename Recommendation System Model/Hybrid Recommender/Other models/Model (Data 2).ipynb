{
 "cells": [
  {
   "cell_type": "code",
   "execution_count": 1,
   "metadata": {
    "executionInfo": {
     "elapsed": 1023,
     "status": "ok",
     "timestamp": 1619057747805,
     "user": {
      "displayName": "Bingqiao Luo",
      "photoUrl": "https://lh3.googleusercontent.com/a-/AOh14GhLxQVu-7-AfFP9SHmsJz_kFU0aU4nJVtPqU6cF=s64",
      "userId": "07966472614091912540"
     },
     "user_tz": -480
    },
    "id": "2D7MWIDT8jND"
   },
   "outputs": [],
   "source": [
    "import pandas as pd\n",
    "import numpy as np\n",
    "import os"
   ]
  },
  {
   "cell_type": "code",
   "execution_count": 2,
   "metadata": {
    "colab": {
     "base_uri": "https://localhost:8080/"
    },
    "executionInfo": {
     "elapsed": 1342,
     "status": "ok",
     "timestamp": 1619057749299,
     "user": {
      "displayName": "Bingqiao Luo",
      "photoUrl": "https://lh3.googleusercontent.com/a-/AOh14GhLxQVu-7-AfFP9SHmsJz_kFU0aU4nJVtPqU6cF=s64",
      "userId": "07966472614091912540"
     },
     "user_tz": -480
    },
    "id": "wARvqSry9BAB",
    "outputId": "7309f7be-e594-46e8-d0a4-b2e6543bea73"
   },
   "outputs": [
    {
     "name": "stdout",
     "output_type": "stream",
     "text": [
      "Drive already mounted at /content/drive; to attempt to forcibly remount, call drive.mount(\"/content/drive\", force_remount=True).\n"
     ]
    }
   ],
   "source": [
    "# mount google drive\n",
    "from google.colab import drive\n",
    "drive.mount('/content/drive')"
   ]
  },
  {
   "cell_type": "code",
   "execution_count": 1,
   "metadata": {
    "id": "DrKiGFmRaeGs"
   },
   "outputs": [],
   "source": [
    "df_cross_1 = pd.read_csv('Data_2 (CNN + Little_Listing_Features + SVD).csv')"
   ]
  },
  {
   "cell_type": "markdown",
   "metadata": {
    "id": "uUAG_L3IydIG"
   },
   "source": [
    "# Xgboost"
   ]
  },
  {
   "cell_type": "code",
   "execution_count": 26,
   "metadata": {
    "executionInfo": {
     "elapsed": 512,
     "status": "ok",
     "timestamp": 1619058296441,
     "user": {
      "displayName": "Bingqiao Luo",
      "photoUrl": "https://lh3.googleusercontent.com/a-/AOh14GhLxQVu-7-AfFP9SHmsJz_kFU0aU4nJVtPqU6cF=s64",
      "userId": "07966472614091912540"
     },
     "user_tz": -480
    },
    "id": "5VEPGRHSzrVa"
   },
   "outputs": [],
   "source": [
    "from sklearn.model_selection import train_test_split\n",
    "import xgboost as xgb\n",
    "from sklearn.metrics import mean_squared_error\n",
    "from sklearn.model_selection import GridSearchCV"
   ]
  },
  {
   "cell_type": "code",
   "execution_count": 24,
   "metadata": {
    "executionInfo": {
     "elapsed": 1421,
     "status": "ok",
     "timestamp": 1619058236312,
     "user": {
      "displayName": "Bingqiao Luo",
      "photoUrl": "https://lh3.googleusercontent.com/a-/AOh14GhLxQVu-7-AfFP9SHmsJz_kFU0aU4nJVtPqU6cF=s64",
      "userId": "07966472614091912540"
     },
     "user_tz": -480
    },
    "id": "kOTEhscGy4Hc"
   },
   "outputs": [],
   "source": [
    "X = df_cross_1.drop(columns = 'preference')\n",
    "y = df_cross_1['preference']\n",
    "\n",
    "X_train, X_test, y_train, y_test = train_test_split(X, y, random_state=1)"
   ]
  },
  {
   "cell_type": "code",
   "execution_count": 27,
   "metadata": {
    "colab": {
     "base_uri": "https://localhost:8080/"
    },
    "executionInfo": {
     "elapsed": 138975,
     "status": "ok",
     "timestamp": 1619058462648,
     "user": {
      "displayName": "Bingqiao Luo",
      "photoUrl": "https://lh3.googleusercontent.com/a-/AOh14GhLxQVu-7-AfFP9SHmsJz_kFU0aU4nJVtPqU6cF=s64",
      "userId": "07966472614091912540"
     },
     "user_tz": -480
    },
    "id": "74D0OrFE2eMU",
    "outputId": "6c1c20d6-86dc-4002-a9b6-1cd6b4fa309f"
   },
   "outputs": [
    {
     "name": "stdout",
     "output_type": "stream",
     "text": [
      "Fitting 2 folds for each of 24 candidates, totalling 48 fits\n"
     ]
    },
    {
     "name": "stderr",
     "output_type": "stream",
     "text": [
      "[Parallel(n_jobs=5)]: Using backend LokyBackend with 5 concurrent workers.\n",
      "[Parallel(n_jobs=5)]: Done  48 out of  48 | elapsed:  2.5min finished\n"
     ]
    },
    {
     "name": "stdout",
     "output_type": "stream",
     "text": [
      "[02:27:30] WARNING: /workspace/src/objective/regression_obj.cu:152: reg:linear is now deprecated in favor of reg:squarederror.\n"
     ]
    },
    {
     "data": {
      "text/plain": [
       "GridSearchCV(cv=2, error_score=nan,\n",
       "             estimator=XGBRegressor(base_score=0.5, booster='gbtree',\n",
       "                                    colsample_bylevel=1, colsample_bynode=1,\n",
       "                                    colsample_bytree=1, gamma=0,\n",
       "                                    importance_type='gain', learning_rate=0.1,\n",
       "                                    max_delta_step=0, max_depth=3,\n",
       "                                    min_child_weight=1, missing=None,\n",
       "                                    n_estimators=100, n_jobs=1, nthread=None,\n",
       "                                    objective='reg:linear', random_state=0,\n",
       "                                    reg_alpha=0, reg_lambda=1,\n",
       "                                    scale_pos_weight=1, seed=None, silent=None,\n",
       "                                    subsample=1, verbosity=1),\n",
       "             iid='deprecated', n_jobs=5,\n",
       "             param_grid={'learning_rate': [0.03, 0.05], 'max_depth': [5, 6, 7],\n",
       "                         'n_estimators': [10, 20],\n",
       "                         'objective': ['reg:linear', 'reg:squarederror']},\n",
       "             pre_dispatch='2*n_jobs', refit=True, return_train_score=False,\n",
       "             scoring=None, verbose=True)"
      ]
     },
     "execution_count": 27,
     "metadata": {
      "tags": []
     },
     "output_type": "execute_result"
    }
   ],
   "source": [
    "xgb1 = xgb.XGBRegressor()\n",
    "parameters = {\n",
    "              'objective':['reg:linear','reg:squarederror'],\n",
    "              'learning_rate': [.03, 0.05], #so called `eta` value\n",
    "              'max_depth': [5, 6, 7],\n",
    "              'n_estimators': [10,20]}\n",
    "\n",
    "xgb_grid = GridSearchCV(xgb1,\n",
    "                        parameters,\n",
    "                        cv = 2,\n",
    "                        n_jobs = 5,\n",
    "                        verbose=True)\n",
    "\n",
    "xgb_grid.fit(X_train,y_train)"
   ]
  },
  {
   "cell_type": "code",
   "execution_count": 28,
   "metadata": {
    "colab": {
     "base_uri": "https://localhost:8080/"
    },
    "executionInfo": {
     "elapsed": 862,
     "status": "ok",
     "timestamp": 1619058469992,
     "user": {
      "displayName": "Bingqiao Luo",
      "photoUrl": "https://lh3.googleusercontent.com/a-/AOh14GhLxQVu-7-AfFP9SHmsJz_kFU0aU4nJVtPqU6cF=s64",
      "userId": "07966472614091912540"
     },
     "user_tz": -480
    },
    "id": "N3ARtOP_P3zb",
    "outputId": "5f6fee8e-f2b1-42e8-d6a1-37f12beb6a19"
   },
   "outputs": [
    {
     "name": "stdout",
     "output_type": "stream",
     "text": [
      "best parameters:  {'learning_rate': 0.05, 'max_depth': 7, 'n_estimators': 20, 'objective': 'reg:linear'}\n"
     ]
    }
   ],
   "source": [
    "print('best parameters: ', xgb_grid.best_params_)"
   ]
  },
  {
   "cell_type": "code",
   "execution_count": 30,
   "metadata": {
    "colab": {
     "base_uri": "https://localhost:8080/"
    },
    "executionInfo": {
     "elapsed": 1236,
     "status": "ok",
     "timestamp": 1619058486184,
     "user": {
      "displayName": "Bingqiao Luo",
      "photoUrl": "https://lh3.googleusercontent.com/a-/AOh14GhLxQVu-7-AfFP9SHmsJz_kFU0aU4nJVtPqU6cF=s64",
      "userId": "07966472614091912540"
     },
     "user_tz": -480
    },
    "id": "ylZGaS-Wy4UA",
    "outputId": "7cc960e2-adb9-46af-956b-f066d0a13728"
   },
   "outputs": [
    {
     "name": "stdout",
     "output_type": "stream",
     "text": [
      "training mse: 0.03580842196156337, testing mse: 0.03651029904889397\n",
      "training rmse: 0.1892311337004653, testing rmse: 0.19107668368718872\n"
     ]
    }
   ],
   "source": [
    "y_train_pred = xgb_grid.predict(X_train)\n",
    "y_pred = xgb_grid.predict(X_test)\n",
    "mse_training = mean_squared_error(xgb_grid.predict(X_train), y_train)\n",
    "mse_testing = mean_squared_error(xgb_grid.predict(X_test), y_test)\n",
    "print(\"training mse: {}, testing mse: {}\".format(mse_training, mse_testing))\n",
    "print(\"training rmse: {}, testing rmse: {}\".format(np.sqrt(mse_training), np.sqrt(mse_testing)))"
   ]
  },
  {
   "cell_type": "markdown",
   "metadata": {
    "id": "9VcqzueV2WGC"
   },
   "source": [
    "# Random Forest"
   ]
  },
  {
   "cell_type": "code",
   "execution_count": 31,
   "metadata": {
    "executionInfo": {
     "elapsed": 1040,
     "status": "ok",
     "timestamp": 1619058539034,
     "user": {
      "displayName": "Bingqiao Luo",
      "photoUrl": "https://lh3.googleusercontent.com/a-/AOh14GhLxQVu-7-AfFP9SHmsJz_kFU0aU4nJVtPqU6cF=s64",
      "userId": "07966472614091912540"
     },
     "user_tz": -480
    },
    "id": "-oOUyc6a9G10"
   },
   "outputs": [],
   "source": [
    "from sklearn.ensemble import RandomForestRegressor\n",
    "from sklearn.model_selection import StratifiedKFold, GridSearchCV"
   ]
  },
  {
   "cell_type": "code",
   "execution_count": 32,
   "metadata": {
    "colab": {
     "base_uri": "https://localhost:8080/"
    },
    "executionInfo": {
     "elapsed": 992635,
     "status": "ok",
     "timestamp": 1619059531089,
     "user": {
      "displayName": "Bingqiao Luo",
      "photoUrl": "https://lh3.googleusercontent.com/a-/AOh14GhLxQVu-7-AfFP9SHmsJz_kFU0aU4nJVtPqU6cF=s64",
      "userId": "07966472614091912540"
     },
     "user_tz": -480
    },
    "id": "oJeVkh1g2VRt",
    "outputId": "2ad240ac-012d-4204-ccd7-9055ccb01386"
   },
   "outputs": [
    {
     "name": "stdout",
     "output_type": "stream",
     "text": [
      "Fitting 3 folds for each of 27 candidates, totalling 81 fits\n"
     ]
    },
    {
     "name": "stderr",
     "output_type": "stream",
     "text": [
      "[Parallel(n_jobs=-1)]: Using backend LokyBackend with 2 concurrent workers.\n",
      "[Parallel(n_jobs=-1)]: Done  46 tasks      | elapsed:  6.5min\n",
      "[Parallel(n_jobs=-1)]: Done  81 out of  81 | elapsed: 16.2min finished\n"
     ]
    },
    {
     "data": {
      "text/plain": [
       "GridSearchCV(cv=3, error_score=nan,\n",
       "             estimator=RandomForestRegressor(bootstrap=True, ccp_alpha=0.0,\n",
       "                                             criterion='mse', max_depth=None,\n",
       "                                             max_features='auto',\n",
       "                                             max_leaf_nodes=None,\n",
       "                                             max_samples=None,\n",
       "                                             min_impurity_decrease=0.0,\n",
       "                                             min_impurity_split=None,\n",
       "                                             min_samples_leaf=1,\n",
       "                                             min_samples_split=2,\n",
       "                                             min_weight_fraction_leaf=0.0,\n",
       "                                             n_estimators=10, n_jobs=None,\n",
       "                                             oob_score=False, random_state=1,\n",
       "                                             verbose=0, warm_start=False),\n",
       "             iid='deprecated', n_jobs=-1,\n",
       "             param_grid={'max_depth': [5, 10, 20],\n",
       "                         'min_samples_leaf': [1, 2, 5],\n",
       "                         'min_samples_split': [2, 5, 10]},\n",
       "             pre_dispatch='2*n_jobs', refit=True, return_train_score=False,\n",
       "             scoring=None, verbose=1)"
      ]
     },
     "execution_count": 32,
     "metadata": {
      "tags": []
     },
     "output_type": "execute_result"
    }
   ],
   "source": [
    "forest = RandomForestRegressor(random_state = 1, n_estimators = 10, min_samples_split = 2)\n",
    "params = {\n",
    "            'max_depth': [5, 10, 20],\n",
    "            'min_samples_split': [2, 5, 10],\n",
    "            'min_samples_leaf': [1, 2, 5]\n",
    "        }\n",
    "\n",
    "rf = GridSearchCV(forest, params, cv = 3, verbose = 1, n_jobs = -1)\n",
    "rf.fit(X_train, y_train)"
   ]
  },
  {
   "cell_type": "code",
   "execution_count": 33,
   "metadata": {
    "colab": {
     "base_uri": "https://localhost:8080/"
    },
    "executionInfo": {
     "elapsed": 811,
     "status": "ok",
     "timestamp": 1619059545308,
     "user": {
      "displayName": "Bingqiao Luo",
      "photoUrl": "https://lh3.googleusercontent.com/a-/AOh14GhLxQVu-7-AfFP9SHmsJz_kFU0aU4nJVtPqU6cF=s64",
      "userId": "07966472614091912540"
     },
     "user_tz": -480
    },
    "id": "Ir_qt-AfPpLd",
    "outputId": "ad18c5b6-3034-4762-bfe9-97af99bd07bb"
   },
   "outputs": [
    {
     "name": "stdout",
     "output_type": "stream",
     "text": [
      "best parameters:  {'max_depth': 10, 'min_samples_leaf': 5, 'min_samples_split': 2}\n"
     ]
    }
   ],
   "source": [
    "print('best parameters: ', rf.best_params_)"
   ]
  },
  {
   "cell_type": "code",
   "execution_count": 34,
   "metadata": {
    "colab": {
     "base_uri": "https://localhost:8080/"
    },
    "executionInfo": {
     "elapsed": 1307,
     "status": "ok",
     "timestamp": 1619059547669,
     "user": {
      "displayName": "Bingqiao Luo",
      "photoUrl": "https://lh3.googleusercontent.com/a-/AOh14GhLxQVu-7-AfFP9SHmsJz_kFU0aU4nJVtPqU6cF=s64",
      "userId": "07966472614091912540"
     },
     "user_tz": -480
    },
    "id": "RIyMQnAH2VZr",
    "outputId": "f82bbed7-51b7-4657-8d21-42812157c5ab"
   },
   "outputs": [
    {
     "name": "stdout",
     "output_type": "stream",
     "text": [
      "training mse: 0.019589441483705474, testing mse: 0.021780560524517524\n",
      "training rmse: 0.13996228593340948, testing rmse: 0.14758238554962283\n"
     ]
    }
   ],
   "source": [
    "from sklearn.metrics import mean_squared_error as mse\n",
    "\n",
    "y_train_pred = rf.predict(X_train)\n",
    "y_pred = rf.predict(X_test)\n",
    "mse_training = mse(rf.predict(X_train), y_train)\n",
    "mse_testing = mse(rf.predict(X_test), y_test)\n",
    "print(\"training mse: {}, testing mse: {}\".format(mse_training, mse_testing))\n",
    "print(\"training rmse: {}, testing rmse: {}\".format(np.sqrt(mse_training), np.sqrt(mse_testing)))"
   ]
  },
  {
   "cell_type": "markdown",
   "metadata": {
    "id": "5CUElOG6c31S"
   },
   "source": [
    "# Linear Regression"
   ]
  },
  {
   "cell_type": "code",
   "execution_count": 35,
   "metadata": {
    "executionInfo": {
     "elapsed": 1044,
     "status": "ok",
     "timestamp": 1619059551595,
     "user": {
      "displayName": "Bingqiao Luo",
      "photoUrl": "https://lh3.googleusercontent.com/a-/AOh14GhLxQVu-7-AfFP9SHmsJz_kFU0aU4nJVtPqU6cF=s64",
      "userId": "07966472614091912540"
     },
     "user_tz": -480
    },
    "id": "A3ed5H2gONF3"
   },
   "outputs": [],
   "source": [
    "from sklearn.linear_model import LinearRegression\n",
    "lr = LinearRegression()"
   ]
  },
  {
   "cell_type": "code",
   "execution_count": 36,
   "metadata": {
    "colab": {
     "base_uri": "https://localhost:8080/"
    },
    "executionInfo": {
     "elapsed": 835,
     "status": "ok",
     "timestamp": 1619059551908,
     "user": {
      "displayName": "Bingqiao Luo",
      "photoUrl": "https://lh3.googleusercontent.com/a-/AOh14GhLxQVu-7-AfFP9SHmsJz_kFU0aU4nJVtPqU6cF=s64",
      "userId": "07966472614091912540"
     },
     "user_tz": -480
    },
    "id": "FADIG_Lqc7r9",
    "outputId": "2bc8c8dc-dc86-4ae0-9c60-5bfce2c7137c"
   },
   "outputs": [
    {
     "data": {
      "text/plain": [
       "LinearRegression(copy_X=True, fit_intercept=True, n_jobs=None, normalize=False)"
      ]
     },
     "execution_count": 36,
     "metadata": {
      "tags": []
     },
     "output_type": "execute_result"
    }
   ],
   "source": [
    "lr.fit(X_train, y_train)"
   ]
  },
  {
   "cell_type": "code",
   "execution_count": 38,
   "metadata": {
    "colab": {
     "base_uri": "https://localhost:8080/"
    },
    "executionInfo": {
     "elapsed": 703,
     "status": "ok",
     "timestamp": 1619059561489,
     "user": {
      "displayName": "Bingqiao Luo",
      "photoUrl": "https://lh3.googleusercontent.com/a-/AOh14GhLxQVu-7-AfFP9SHmsJz_kFU0aU4nJVtPqU6cF=s64",
      "userId": "07966472614091912540"
     },
     "user_tz": -480
    },
    "id": "oLfoyCZKc7uV",
    "outputId": "f1ee4cb9-46a0-490d-9d08-03259b10dea7"
   },
   "outputs": [
    {
     "name": "stdout",
     "output_type": "stream",
     "text": [
      "training mse: 0.023163369335312992, testing mse: 0.02327799105419951\n",
      "training rmse: 0.1521951685675764, testing rmse: 0.1525712654932098\n"
     ]
    }
   ],
   "source": [
    "import numpy as np\n",
    "\n",
    "def mse(y_predicted, y_true):\n",
    "  return np.mean(np.square(y_predicted - y_true))\n",
    "mse_training = mse(lr.predict(X_train), y_train)\n",
    "mse_testing = mse(lr.predict(X_test), y_test)\n",
    "print(\"training mse: {}, testing mse: {}\".format(mse_training, mse_testing))\n",
    "print(\"training rmse: {}, testing rmse: {}\".format(np.sqrt(mse_training), np.sqrt(mse_testing)))"
   ]
  },
  {
   "cell_type": "code",
   "execution_count": null,
   "metadata": {
    "id": "RGj92AbFeFDa"
   },
   "outputs": [],
   "source": []
  }
 ],
 "metadata": {
  "accelerator": "GPU",
  "colab": {
   "collapsed_sections": [],
   "name": "Universal Sentence Encoder.ipynb",
   "provenance": [],
   "toc_visible": true
  },
  "kernelspec": {
   "display_name": "Python 3",
   "language": "python",
   "name": "python3"
  },
  "language_info": {
   "codemirror_mode": {
    "name": "ipython",
    "version": 3
   },
   "file_extension": ".py",
   "mimetype": "text/x-python",
   "name": "python",
   "nbconvert_exporter": "python",
   "pygments_lexer": "ipython3",
   "version": "3.8.2"
  }
 },
 "nbformat": 4,
 "nbformat_minor": 1
}
