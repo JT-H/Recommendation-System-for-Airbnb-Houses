{
  "nbformat": 4,
  "nbformat_minor": 0,
  "metadata": {
    "colab": {
      "name": "Recommendation_System.ipynb",
      "provenance": [],
      "toc_visible": true
    },
    "kernelspec": {
      "display_name": "Python 3",
      "name": "python3"
    },
    "language_info": {
      "name": "python"
    }
  },
  "cells": [
    {
      "cell_type": "code",
      "metadata": {
        "colab": {
          "base_uri": "https://localhost:8080/"
        },
        "id": "GB-yJoDG2xfF",
        "outputId": "e506c753-b5d3-4cb3-e9b0-dfd94cca7dbf"
      },
      "source": [
        "from google.colab import drive\n",
        "drive.mount('/content/drive')"
      ],
      "execution_count": 1,
      "outputs": [
        {
          "output_type": "stream",
          "text": [
            "Drive already mounted at /content/drive; to attempt to forcibly remount, call drive.mount(\"/content/drive\", force_remount=True).\n"
          ],
          "name": "stdout"
        }
      ]
    },
    {
      "cell_type": "code",
      "metadata": {
        "id": "QgqgGoCi3B9F"
      },
      "source": [
        "import pandas as pd"
      ],
      "execution_count": 2,
      "outputs": []
    },
    {
      "cell_type": "code",
      "metadata": {
        "id": "4cmcvGVO3Ccd"
      },
      "source": [
        "listings=pd.read_csv(\"/content/drive/My Drive/BT4222_Project/final_datasets/listings_final_version.csv\")\n",
        "customers=pd.read_csv(\"/content/drive/My Drive/BT4222_Project/final_datasets/customers_final_version.csv\")"
      ],
      "execution_count": 3,
      "outputs": []
    },
    {
      "cell_type": "code",
      "metadata": {
        "colab": {
          "base_uri": "https://localhost:8080/"
        },
        "id": "tC-ftJRGDLT0",
        "outputId": "30e88205-7cd9-47e1-ab7b-412859dfa97f"
      },
      "source": [
        "listings.columns"
      ],
      "execution_count": 4,
      "outputs": [
        {
          "output_type": "execute_result",
          "data": {
            "text/plain": [
              "Index(['id', 'description', 'host_since', 'host_is_superhost', 'latitude',\n",
              "       'longitude', 'accommodates', 'bathrooms', 'bedrooms', 'beds',\n",
              "       'amenities', 'price', 'minimum_nights', 'maximum_nights',\n",
              "       'maximum_nights_avg_ntm', 'number_of_reviews_ltm', 'instant_bookable',\n",
              "       'calculated_host_listings_count', 'nearby_sites_rating',\n",
              "       'nearest_station_dist', 'nearest_site_dist', 'nearest_site_rating',\n",
              "       'host_response_time_cross_rate', 'email', 'phone', 'reviews', 'jumio',\n",
              "       'offline_government_id', 'selfie', 'government_id', 'identity_manual',\n",
              "       'work_email', 'manual_online', 'manual_offline', 'x0_Central Region',\n",
              "       'x0_East Region', 'x0_North Region', 'x0_North-East Region',\n",
              "       'x0_West Region', 'x0_apartment', 'x0_bed and breakfast', 'x0_boat',\n",
              "       'x0_boutique hotel', 'x0_bungalow', 'x0_condominium', 'x0_guest suite',\n",
              "       'x0_hostel', 'x0_hotel', 'x0_house', 'x0_loft', 'x0_other',\n",
              "       'x0_townhouse', 'x0_Entire home/apt', 'x0_Hotel room',\n",
              "       'x0_Private room', 'x0_Shared room', 'amenities_list', 'Wifi',\n",
              "       'Air conditioning', 'Kitchen', 'Parking', 'Outdoor', 'Kids',\n",
              "       'Pets allowed', 'Workspace', 'Gym', 'Breakfast',\n",
              "       'availability_average'],\n",
              "      dtype='object')"
            ]
          },
          "metadata": {
            "tags": []
          },
          "execution_count": 4
        }
      ]
    },
    {
      "cell_type": "code",
      "metadata": {
        "colab": {
          "base_uri": "https://localhost:8080/"
        },
        "id": "p5twMJ0c3PaA",
        "outputId": "d3631237-0c21-4855-b4b8-43e87b7b01eb"
      },
      "source": [
        "listings.info()"
      ],
      "execution_count": 5,
      "outputs": [
        {
          "output_type": "stream",
          "text": [
            "<class 'pandas.core.frame.DataFrame'>\n",
            "RangeIndex: 12222 entries, 0 to 12221\n",
            "Data columns (total 68 columns):\n",
            " #   Column                          Non-Null Count  Dtype  \n",
            "---  ------                          --------------  -----  \n",
            " 0   id                              12222 non-null  int64  \n",
            " 1   description                     12222 non-null  object \n",
            " 2   host_since                      12222 non-null  object \n",
            " 3   host_is_superhost               12222 non-null  int64  \n",
            " 4   latitude                        12222 non-null  float64\n",
            " 5   longitude                       12222 non-null  float64\n",
            " 6   accommodates                    12222 non-null  int64  \n",
            " 7   bathrooms                       12222 non-null  float64\n",
            " 8   bedrooms                        12222 non-null  float64\n",
            " 9   beds                            12222 non-null  float64\n",
            " 10  amenities                       12222 non-null  object \n",
            " 11  price                           12222 non-null  float64\n",
            " 12  minimum_nights                  12222 non-null  int64  \n",
            " 13  maximum_nights                  12222 non-null  int64  \n",
            " 14  maximum_nights_avg_ntm          12222 non-null  float64\n",
            " 15  number_of_reviews_ltm           12222 non-null  int64  \n",
            " 16  instant_bookable                12222 non-null  int64  \n",
            " 17  calculated_host_listings_count  12222 non-null  int64  \n",
            " 18  nearby_sites_rating             12222 non-null  float64\n",
            " 19  nearest_station_dist            12222 non-null  float64\n",
            " 20  nearest_site_dist               12222 non-null  float64\n",
            " 21  nearest_site_rating             12222 non-null  float64\n",
            " 22  host_response_time_cross_rate   12222 non-null  float64\n",
            " 23  email                           12222 non-null  int64  \n",
            " 24  phone                           12222 non-null  int64  \n",
            " 25  reviews                         12222 non-null  int64  \n",
            " 26  jumio                           12222 non-null  int64  \n",
            " 27  offline_government_id           12222 non-null  int64  \n",
            " 28  selfie                          12222 non-null  int64  \n",
            " 29  government_id                   12222 non-null  int64  \n",
            " 30  identity_manual                 12222 non-null  int64  \n",
            " 31  work_email                      12222 non-null  int64  \n",
            " 32  manual_online                   12222 non-null  int64  \n",
            " 33  manual_offline                  12222 non-null  int64  \n",
            " 34  x0_Central Region               12222 non-null  float64\n",
            " 35  x0_East Region                  12222 non-null  float64\n",
            " 36  x0_North Region                 12222 non-null  float64\n",
            " 37  x0_North-East Region            12222 non-null  float64\n",
            " 38  x0_West Region                  12222 non-null  float64\n",
            " 39  x0_apartment                    12222 non-null  float64\n",
            " 40  x0_bed and breakfast            12222 non-null  float64\n",
            " 41  x0_boat                         12222 non-null  float64\n",
            " 42  x0_boutique hotel               12222 non-null  float64\n",
            " 43  x0_bungalow                     12222 non-null  float64\n",
            " 44  x0_condominium                  12222 non-null  float64\n",
            " 45  x0_guest suite                  12222 non-null  float64\n",
            " 46  x0_hostel                       12222 non-null  float64\n",
            " 47  x0_hotel                        12222 non-null  float64\n",
            " 48  x0_house                        12222 non-null  float64\n",
            " 49  x0_loft                         12222 non-null  float64\n",
            " 50  x0_other                        12222 non-null  float64\n",
            " 51  x0_townhouse                    12222 non-null  float64\n",
            " 52  x0_Entire home/apt              12222 non-null  float64\n",
            " 53  x0_Hotel room                   12222 non-null  float64\n",
            " 54  x0_Private room                 12222 non-null  float64\n",
            " 55  x0_Shared room                  12222 non-null  float64\n",
            " 56  amenities_list                  12222 non-null  object \n",
            " 57  Wifi                            12222 non-null  int64  \n",
            " 58  Air conditioning                12222 non-null  int64  \n",
            " 59  Kitchen                         12222 non-null  int64  \n",
            " 60  Parking                         12222 non-null  int64  \n",
            " 61  Outdoor                         12222 non-null  int64  \n",
            " 62  Kids                            12222 non-null  int64  \n",
            " 63  Pets allowed                    12222 non-null  int64  \n",
            " 64  Workspace                       12222 non-null  int64  \n",
            " 65  Gym                             12222 non-null  int64  \n",
            " 66  Breakfast                       12222 non-null  int64  \n",
            " 67  availability_average            12222 non-null  float64\n",
            "dtypes: float64(35), int64(29), object(4)\n",
            "memory usage: 6.3+ MB\n"
          ],
          "name": "stdout"
        }
      ]
    },
    {
      "cell_type": "code",
      "metadata": {
        "colab": {
          "base_uri": "https://localhost:8080/"
        },
        "id": "w6msZXGK3S-q",
        "outputId": "9f6cc3ff-61ed-46d5-e551-03ece578a496"
      },
      "source": [
        "customers.info()"
      ],
      "execution_count": 6,
      "outputs": [
        {
          "output_type": "stream",
          "text": [
            "<class 'pandas.core.frame.DataFrame'>\n",
            "RangeIndex: 130602 entries, 0 to 130601\n",
            "Data columns (total 14 columns):\n",
            " #   Column                       Non-Null Count   Dtype  \n",
            "---  ------                       --------------   -----  \n",
            " 0   reviewer_id                  130602 non-null  int64  \n",
            " 1   listing_id                   130602 non-null  int64  \n",
            " 2   date                         130602 non-null  object \n",
            " 3   comments                     130602 non-null  object \n",
            " 4   price                        130602 non-null  float64\n",
            " 5   review_scores_rating         130602 non-null  float64\n",
            " 6   review_scores_accuracy       130602 non-null  float64\n",
            " 7   review_scores_cleanliness    130602 non-null  float64\n",
            " 8   review_scores_checkin        130602 non-null  float64\n",
            " 9   review_scores_communication  130602 non-null  float64\n",
            " 10  review_scores_location       130602 non-null  float64\n",
            " 11  review_scores_value          130602 non-null  float64\n",
            " 12  polarity_score               130602 non-null  float64\n",
            " 13  sentiment                    130602 non-null  object \n",
            "dtypes: float64(9), int64(2), object(3)\n",
            "memory usage: 13.9+ MB\n"
          ],
          "name": "stdout"
        }
      ]
    },
    {
      "cell_type": "markdown",
      "metadata": {
        "id": "s7YAd_rI3bmY"
      },
      "source": [
        "# Knowledge Recommender"
      ]
    },
    {
      "cell_type": "code",
      "metadata": {
        "id": "cExBZYQm3jWt"
      },
      "source": [
        "import pandas as pd\n",
        "import numpy as np"
      ],
      "execution_count": 7,
      "outputs": []
    },
    {
      "cell_type": "code",
      "metadata": {
        "id": "pu3WGgXK4Qod"
      },
      "source": [
        "df_kr = listings[['host_is_superhost', 'nearby_sites_rating', 'bathrooms', 'bedrooms', 'beds', 'instant_bookable','amenities_list', 'price']]"
      ],
      "execution_count": 8,
      "outputs": []
    },
    {
      "cell_type": "code",
      "metadata": {
        "colab": {
          "base_uri": "https://localhost:8080/"
        },
        "id": "Pdde0y_JkhYY",
        "outputId": "40915634-26e4-4d38-99a2-a4d95449663a"
      },
      "source": [
        "listings.columns"
      ],
      "execution_count": 9,
      "outputs": [
        {
          "output_type": "execute_result",
          "data": {
            "text/plain": [
              "Index(['id', 'description', 'host_since', 'host_is_superhost', 'latitude',\n",
              "       'longitude', 'accommodates', 'bathrooms', 'bedrooms', 'beds',\n",
              "       'amenities', 'price', 'minimum_nights', 'maximum_nights',\n",
              "       'maximum_nights_avg_ntm', 'number_of_reviews_ltm', 'instant_bookable',\n",
              "       'calculated_host_listings_count', 'nearby_sites_rating',\n",
              "       'nearest_station_dist', 'nearest_site_dist', 'nearest_site_rating',\n",
              "       'host_response_time_cross_rate', 'email', 'phone', 'reviews', 'jumio',\n",
              "       'offline_government_id', 'selfie', 'government_id', 'identity_manual',\n",
              "       'work_email', 'manual_online', 'manual_offline', 'x0_Central Region',\n",
              "       'x0_East Region', 'x0_North Region', 'x0_North-East Region',\n",
              "       'x0_West Region', 'x0_apartment', 'x0_bed and breakfast', 'x0_boat',\n",
              "       'x0_boutique hotel', 'x0_bungalow', 'x0_condominium', 'x0_guest suite',\n",
              "       'x0_hostel', 'x0_hotel', 'x0_house', 'x0_loft', 'x0_other',\n",
              "       'x0_townhouse', 'x0_Entire home/apt', 'x0_Hotel room',\n",
              "       'x0_Private room', 'x0_Shared room', 'amenities_list', 'Wifi',\n",
              "       'Air conditioning', 'Kitchen', 'Parking', 'Outdoor', 'Kids',\n",
              "       'Pets allowed', 'Workspace', 'Gym', 'Breakfast',\n",
              "       'availability_average'],\n",
              "      dtype='object')"
            ]
          },
          "metadata": {
            "tags": []
          },
          "execution_count": 9
        }
      ]
    },
    {
      "cell_type": "code",
      "metadata": {
        "id": "SWeXlF3Gjpik"
      },
      "source": [
        "df_kr_new = listings[['host_is_superhost', 'accommodates', 'bathrooms', 'bedrooms', 'beds', 'amenities_list', 'price', 'minimum_nights', 'maximum_nights',\n",
        "                      'instant_bookable', 'x0_Entire home/apt', 'x0_Hotel room', 'x0_Private room', 'x0_Shared room']]"
      ],
      "execution_count": 10,
      "outputs": []
    },
    {
      "cell_type": "code",
      "metadata": {
        "colab": {
          "base_uri": "https://localhost:8080/",
          "height": 289
        },
        "id": "25ZYcwPs5BY3",
        "outputId": "89b6cb27-2b21-4107-e509-a5e46a001c68"
      },
      "source": [
        "df_kr.head()"
      ],
      "execution_count": 11,
      "outputs": [
        {
          "output_type": "execute_result",
          "data": {
            "text/html": [
              "<div>\n",
              "<style scoped>\n",
              "    .dataframe tbody tr th:only-of-type {\n",
              "        vertical-align: middle;\n",
              "    }\n",
              "\n",
              "    .dataframe tbody tr th {\n",
              "        vertical-align: top;\n",
              "    }\n",
              "\n",
              "    .dataframe thead th {\n",
              "        text-align: right;\n",
              "    }\n",
              "</style>\n",
              "<table border=\"1\" class=\"dataframe\">\n",
              "  <thead>\n",
              "    <tr style=\"text-align: right;\">\n",
              "      <th></th>\n",
              "      <th>host_is_superhost</th>\n",
              "      <th>nearby_sites_rating</th>\n",
              "      <th>bathrooms</th>\n",
              "      <th>bedrooms</th>\n",
              "      <th>beds</th>\n",
              "      <th>instant_bookable</th>\n",
              "      <th>amenities_list</th>\n",
              "      <th>price</th>\n",
              "    </tr>\n",
              "  </thead>\n",
              "  <tbody>\n",
              "    <tr>\n",
              "      <th>0</th>\n",
              "      <td>0</td>\n",
              "      <td>1.135049</td>\n",
              "      <td>1.0</td>\n",
              "      <td>1.0</td>\n",
              "      <td>1.0</td>\n",
              "      <td>0</td>\n",
              "      <td>['TV', 'Cable TV', 'Wifi', 'Air conditioning',...</td>\n",
              "      <td>200.0</td>\n",
              "    </tr>\n",
              "    <tr>\n",
              "      <th>1</th>\n",
              "      <td>0</td>\n",
              "      <td>1.288425</td>\n",
              "      <td>1.0</td>\n",
              "      <td>1.0</td>\n",
              "      <td>1.0</td>\n",
              "      <td>0</td>\n",
              "      <td>['TV', 'Cable TV', 'Internet', 'Wifi', 'Air co...</td>\n",
              "      <td>76.0</td>\n",
              "    </tr>\n",
              "    <tr>\n",
              "      <th>2</th>\n",
              "      <td>0</td>\n",
              "      <td>1.982270</td>\n",
              "      <td>1.0</td>\n",
              "      <td>1.0</td>\n",
              "      <td>1.0</td>\n",
              "      <td>0</td>\n",
              "      <td>['Internet', 'Wifi', 'Air conditioning', 'Pool...</td>\n",
              "      <td>80.0</td>\n",
              "    </tr>\n",
              "    <tr>\n",
              "      <th>3</th>\n",
              "      <td>0</td>\n",
              "      <td>2.550789</td>\n",
              "      <td>1.0</td>\n",
              "      <td>0.0</td>\n",
              "      <td>3.0</td>\n",
              "      <td>0</td>\n",
              "      <td>['TV', 'Internet', 'Wifi', 'Air conditioning',...</td>\n",
              "      <td>143.0</td>\n",
              "    </tr>\n",
              "    <tr>\n",
              "      <th>4</th>\n",
              "      <td>0</td>\n",
              "      <td>1.689570</td>\n",
              "      <td>1.0</td>\n",
              "      <td>1.0</td>\n",
              "      <td>1.0</td>\n",
              "      <td>0</td>\n",
              "      <td>['TV', 'Wifi', 'Air conditioning', 'Kitchen', ...</td>\n",
              "      <td>85.0</td>\n",
              "    </tr>\n",
              "  </tbody>\n",
              "</table>\n",
              "</div>"
            ],
            "text/plain": [
              "   host_is_superhost  ...  price\n",
              "0                  0  ...  200.0\n",
              "1                  0  ...   76.0\n",
              "2                  0  ...   80.0\n",
              "3                  0  ...  143.0\n",
              "4                  0  ...   85.0\n",
              "\n",
              "[5 rows x 8 columns]"
            ]
          },
          "metadata": {
            "tags": []
          },
          "execution_count": 11
        }
      ]
    },
    {
      "cell_type": "code",
      "metadata": {
        "id": "5fr-b86g5giR"
      },
      "source": [
        "def build_chart(df, host_is_superhost, nearby_sites_rating, bathrooms, bedrooms, beds, instant_bookable, *amenities):\n",
        "    listings = df.copy()\n",
        "    \n",
        "    # Filter based on the condition\n",
        "    listings = listings[(listings['host_is_superhost'] == host_is_superhost) & \n",
        "                    (listings['nearby_sites_rating'] >= nearby_sites_rating) & \n",
        "                    (listings['bathrooms'] >= bathrooms) & \n",
        "                    (listings['bedrooms'] >= bedrooms) & \n",
        "                    (listings['beds'] >= beds) &\n",
        "                    (listings['instant_bookable'] == instant_bookable)]\n",
        "\n",
        "    for a in amenities:\n",
        "      listings = listings[listings['amenities_list'].str.contains(a)]\n",
        "\n",
        "    q_listings = listings.sort_values('price')\n",
        "    \n",
        "    return q_listings"
      ],
      "execution_count": 12,
      "outputs": []
    },
    {
      "cell_type": "code",
      "metadata": {
        "id": "RHR1xfHHkv9R"
      },
      "source": [
        "def build_chart_new(df, host_is_superhost, accommodates, bathrooms, bedrooms, beds, instant_bookable, price_low, price_high, minimum_nights, maximum_nights,\n",
        "                x0_Entire_home_or_apt, x0_Hotel_room, x0_Private_room, x0_Shared_room, *amenities):\n",
        "    listings = df.copy()\n",
        "    \n",
        "    # Filter based on the condition\n",
        "    listings = listings[(listings['host_is_superhost'] == host_is_superhost) & \n",
        "                    (listings['bathrooms'] >= bathrooms) & \n",
        "                    (listings['bedrooms'] >= bedrooms) & \n",
        "                    (listings['beds'] >= beds) &\n",
        "                    (listings['instant_bookable'] == instant_bookable) &\n",
        "                    (price_low <= listings['price']) &\n",
        "                    (listings['price'] <= price_high) &\n",
        "                    (listings['minimum_nights'] <= minimum_nights) &\n",
        "                    (listings['maximum_nights'] >= maximum_nights) &\n",
        "                    (listings['x0_Entire home/apt'] == x0_Entire_home_or_apt) &\n",
        "                    (listings['x0_Hotel room'] == x0_Hotel_room) &\n",
        "                    (listings['x0_Private room'] == x0_Private_room) &\n",
        "                    (listings['x0_Shared room'] == x0_Shared_room)\n",
        "                    ]\n",
        "\n",
        "    for a in amenities:\n",
        "      listings = listings[listings['amenities_list'].str.contains(a)]\n",
        "\n",
        "    q_listings = listings.sort_values('price')\n",
        "    \n",
        "    return q_listings"
      ],
      "execution_count": 13,
      "outputs": []
    },
    {
      "cell_type": "code",
      "metadata": {
        "colab": {
          "base_uri": "https://localhost:8080/",
          "height": 411
        },
        "id": "dJ3g3wSdmCjv",
        "outputId": "f2a37f84-f1b3-42c1-f28e-b7848b8910db"
      },
      "source": [
        "build_chart_new(df_kr_new, 1, 2, 2, 2, 2, 1, 0, 20000, 1, 2, 1, 0, 0, 0, \"TV\", \"Kitchen\").head()"
      ],
      "execution_count": 14,
      "outputs": [
        {
          "output_type": "execute_result",
          "data": {
            "text/html": [
              "<div>\n",
              "<style scoped>\n",
              "    .dataframe tbody tr th:only-of-type {\n",
              "        vertical-align: middle;\n",
              "    }\n",
              "\n",
              "    .dataframe tbody tr th {\n",
              "        vertical-align: top;\n",
              "    }\n",
              "\n",
              "    .dataframe thead th {\n",
              "        text-align: right;\n",
              "    }\n",
              "</style>\n",
              "<table border=\"1\" class=\"dataframe\">\n",
              "  <thead>\n",
              "    <tr style=\"text-align: right;\">\n",
              "      <th></th>\n",
              "      <th>host_is_superhost</th>\n",
              "      <th>accommodates</th>\n",
              "      <th>bathrooms</th>\n",
              "      <th>bedrooms</th>\n",
              "      <th>beds</th>\n",
              "      <th>amenities_list</th>\n",
              "      <th>price</th>\n",
              "      <th>minimum_nights</th>\n",
              "      <th>maximum_nights</th>\n",
              "      <th>instant_bookable</th>\n",
              "      <th>x0_Entire home/apt</th>\n",
              "      <th>x0_Hotel room</th>\n",
              "      <th>x0_Private room</th>\n",
              "      <th>x0_Shared room</th>\n",
              "    </tr>\n",
              "  </thead>\n",
              "  <tbody>\n",
              "    <tr>\n",
              "      <th>3265</th>\n",
              "      <td>1</td>\n",
              "      <td>4</td>\n",
              "      <td>2.0</td>\n",
              "      <td>2.0</td>\n",
              "      <td>2.0</td>\n",
              "      <td>['TV', 'Wifi', 'Air conditioning', 'Pool', 'Ki...</td>\n",
              "      <td>168.0</td>\n",
              "      <td>1</td>\n",
              "      <td>365</td>\n",
              "      <td>1</td>\n",
              "      <td>1.0</td>\n",
              "      <td>0.0</td>\n",
              "      <td>0.0</td>\n",
              "      <td>0.0</td>\n",
              "    </tr>\n",
              "    <tr>\n",
              "      <th>3959</th>\n",
              "      <td>1</td>\n",
              "      <td>6</td>\n",
              "      <td>3.0</td>\n",
              "      <td>2.0</td>\n",
              "      <td>3.0</td>\n",
              "      <td>['TV', 'Wifi', 'Air conditioning', 'Pool', 'Ki...</td>\n",
              "      <td>189.0</td>\n",
              "      <td>1</td>\n",
              "      <td>1125</td>\n",
              "      <td>1</td>\n",
              "      <td>1.0</td>\n",
              "      <td>0.0</td>\n",
              "      <td>0.0</td>\n",
              "      <td>0.0</td>\n",
              "    </tr>\n",
              "    <tr>\n",
              "      <th>4285</th>\n",
              "      <td>1</td>\n",
              "      <td>6</td>\n",
              "      <td>2.0</td>\n",
              "      <td>2.0</td>\n",
              "      <td>3.0</td>\n",
              "      <td>['TV', 'Wifi', 'Air conditioning', 'Wheelchair...</td>\n",
              "      <td>250.0</td>\n",
              "      <td>1</td>\n",
              "      <td>1125</td>\n",
              "      <td>1</td>\n",
              "      <td>1.0</td>\n",
              "      <td>0.0</td>\n",
              "      <td>0.0</td>\n",
              "      <td>0.0</td>\n",
              "    </tr>\n",
              "    <tr>\n",
              "      <th>2949</th>\n",
              "      <td>1</td>\n",
              "      <td>6</td>\n",
              "      <td>2.0</td>\n",
              "      <td>2.0</td>\n",
              "      <td>3.0</td>\n",
              "      <td>['TV', 'Wifi', 'Air conditioning', 'Pool', 'Ki...</td>\n",
              "      <td>251.0</td>\n",
              "      <td>1</td>\n",
              "      <td>1125</td>\n",
              "      <td>1</td>\n",
              "      <td>1.0</td>\n",
              "      <td>0.0</td>\n",
              "      <td>0.0</td>\n",
              "      <td>0.0</td>\n",
              "    </tr>\n",
              "    <tr>\n",
              "      <th>7450</th>\n",
              "      <td>1</td>\n",
              "      <td>5</td>\n",
              "      <td>2.0</td>\n",
              "      <td>2.0</td>\n",
              "      <td>3.0</td>\n",
              "      <td>['TV', 'Cable TV', 'Wifi', 'Air conditioning',...</td>\n",
              "      <td>256.0</td>\n",
              "      <td>1</td>\n",
              "      <td>90</td>\n",
              "      <td>1</td>\n",
              "      <td>1.0</td>\n",
              "      <td>0.0</td>\n",
              "      <td>0.0</td>\n",
              "      <td>0.0</td>\n",
              "    </tr>\n",
              "  </tbody>\n",
              "</table>\n",
              "</div>"
            ],
            "text/plain": [
              "      host_is_superhost  accommodates  ...  x0_Private room  x0_Shared room\n",
              "3265                  1             4  ...              0.0             0.0\n",
              "3959                  1             6  ...              0.0             0.0\n",
              "4285                  1             6  ...              0.0             0.0\n",
              "2949                  1             6  ...              0.0             0.0\n",
              "7450                  1             5  ...              0.0             0.0\n",
              "\n",
              "[5 rows x 14 columns]"
            ]
          },
          "metadata": {
            "tags": []
          },
          "execution_count": 14
        }
      ]
    },
    {
      "cell_type": "code",
      "metadata": {
        "colab": {
          "base_uri": "https://localhost:8080/",
          "height": 289
        },
        "id": "2dVFUClfCfR8",
        "outputId": "2c5b1bca-0900-463a-a490-5138a8c9af92"
      },
      "source": [
        "build_chart(df_kr, 1, 2, 2, 2, 2, 0, \"TV\", \"Air conditioning\", \"Kitchen\").head()"
      ],
      "execution_count": 15,
      "outputs": [
        {
          "output_type": "execute_result",
          "data": {
            "text/html": [
              "<div>\n",
              "<style scoped>\n",
              "    .dataframe tbody tr th:only-of-type {\n",
              "        vertical-align: middle;\n",
              "    }\n",
              "\n",
              "    .dataframe tbody tr th {\n",
              "        vertical-align: top;\n",
              "    }\n",
              "\n",
              "    .dataframe thead th {\n",
              "        text-align: right;\n",
              "    }\n",
              "</style>\n",
              "<table border=\"1\" class=\"dataframe\">\n",
              "  <thead>\n",
              "    <tr style=\"text-align: right;\">\n",
              "      <th></th>\n",
              "      <th>host_is_superhost</th>\n",
              "      <th>nearby_sites_rating</th>\n",
              "      <th>bathrooms</th>\n",
              "      <th>bedrooms</th>\n",
              "      <th>beds</th>\n",
              "      <th>instant_bookable</th>\n",
              "      <th>amenities_list</th>\n",
              "      <th>price</th>\n",
              "    </tr>\n",
              "  </thead>\n",
              "  <tbody>\n",
              "    <tr>\n",
              "      <th>2315</th>\n",
              "      <td>1</td>\n",
              "      <td>2.105276</td>\n",
              "      <td>3.0</td>\n",
              "      <td>2.0</td>\n",
              "      <td>2.0</td>\n",
              "      <td>0</td>\n",
              "      <td>['TV', 'Internet', 'Wifi', 'Air conditioning',...</td>\n",
              "      <td>175.0</td>\n",
              "    </tr>\n",
              "    <tr>\n",
              "      <th>7586</th>\n",
              "      <td>1</td>\n",
              "      <td>2.430885</td>\n",
              "      <td>2.0</td>\n",
              "      <td>2.0</td>\n",
              "      <td>2.0</td>\n",
              "      <td>0</td>\n",
              "      <td>['TV', 'Wifi', 'Air conditioning', 'Pool', 'Ki...</td>\n",
              "      <td>179.0</td>\n",
              "    </tr>\n",
              "    <tr>\n",
              "      <th>5600</th>\n",
              "      <td>1</td>\n",
              "      <td>2.334235</td>\n",
              "      <td>2.0</td>\n",
              "      <td>2.0</td>\n",
              "      <td>2.0</td>\n",
              "      <td>0</td>\n",
              "      <td>['TV', 'Wifi', 'Air conditioning', 'Pool', 'Ki...</td>\n",
              "      <td>188.0</td>\n",
              "    </tr>\n",
              "    <tr>\n",
              "      <th>6189</th>\n",
              "      <td>1</td>\n",
              "      <td>2.881733</td>\n",
              "      <td>2.0</td>\n",
              "      <td>2.0</td>\n",
              "      <td>2.0</td>\n",
              "      <td>0</td>\n",
              "      <td>['TV', 'Cable TV', 'Internet', 'Wifi', 'Air co...</td>\n",
              "      <td>205.0</td>\n",
              "    </tr>\n",
              "    <tr>\n",
              "      <th>5416</th>\n",
              "      <td>1</td>\n",
              "      <td>2.396607</td>\n",
              "      <td>2.0</td>\n",
              "      <td>2.0</td>\n",
              "      <td>3.0</td>\n",
              "      <td>0</td>\n",
              "      <td>['TV', 'Wifi', 'Air conditioning', 'Pool', 'Ki...</td>\n",
              "      <td>246.0</td>\n",
              "    </tr>\n",
              "  </tbody>\n",
              "</table>\n",
              "</div>"
            ],
            "text/plain": [
              "      host_is_superhost  ...  price\n",
              "2315                  1  ...  175.0\n",
              "7586                  1  ...  179.0\n",
              "5600                  1  ...  188.0\n",
              "6189                  1  ...  205.0\n",
              "5416                  1  ...  246.0\n",
              "\n",
              "[5 rows x 8 columns]"
            ]
          },
          "metadata": {
            "tags": []
          },
          "execution_count": 15
        }
      ]
    },
    {
      "cell_type": "markdown",
      "metadata": {
        "id": "kK_DiCNIE-9m"
      },
      "source": [
        "# Content-based Recommendation"
      ]
    },
    {
      "cell_type": "code",
      "metadata": {
        "id": "wN3kFGrQDpcF"
      },
      "source": [
        "df_cbr = listings.copy()"
      ],
      "execution_count": 16,
      "outputs": []
    },
    {
      "cell_type": "code",
      "metadata": {
        "id": "WArtdMzoGrnj"
      },
      "source": [
        "from ast import literal_eval\n",
        "\n",
        "df_cbr['amenities_list'] = df_cbr.amenities_list.apply(literal_eval)"
      ],
      "execution_count": 17,
      "outputs": []
    },
    {
      "cell_type": "code",
      "metadata": {
        "colab": {
          "base_uri": "https://localhost:8080/",
          "height": 202
        },
        "id": "NwFI7688IG0h",
        "outputId": "d9f3d673-5716-44b0-ab0d-c103ff24f66d"
      },
      "source": [
        "df_cbr.head(1)"
      ],
      "execution_count": 18,
      "outputs": [
        {
          "output_type": "execute_result",
          "data": {
            "text/html": [
              "<div>\n",
              "<style scoped>\n",
              "    .dataframe tbody tr th:only-of-type {\n",
              "        vertical-align: middle;\n",
              "    }\n",
              "\n",
              "    .dataframe tbody tr th {\n",
              "        vertical-align: top;\n",
              "    }\n",
              "\n",
              "    .dataframe thead th {\n",
              "        text-align: right;\n",
              "    }\n",
              "</style>\n",
              "<table border=\"1\" class=\"dataframe\">\n",
              "  <thead>\n",
              "    <tr style=\"text-align: right;\">\n",
              "      <th></th>\n",
              "      <th>id</th>\n",
              "      <th>description</th>\n",
              "      <th>host_since</th>\n",
              "      <th>host_is_superhost</th>\n",
              "      <th>latitude</th>\n",
              "      <th>longitude</th>\n",
              "      <th>accommodates</th>\n",
              "      <th>bathrooms</th>\n",
              "      <th>bedrooms</th>\n",
              "      <th>beds</th>\n",
              "      <th>amenities</th>\n",
              "      <th>price</th>\n",
              "      <th>minimum_nights</th>\n",
              "      <th>maximum_nights</th>\n",
              "      <th>maximum_nights_avg_ntm</th>\n",
              "      <th>number_of_reviews_ltm</th>\n",
              "      <th>instant_bookable</th>\n",
              "      <th>calculated_host_listings_count</th>\n",
              "      <th>nearby_sites_rating</th>\n",
              "      <th>nearest_station_dist</th>\n",
              "      <th>nearest_site_dist</th>\n",
              "      <th>nearest_site_rating</th>\n",
              "      <th>host_response_time_cross_rate</th>\n",
              "      <th>email</th>\n",
              "      <th>phone</th>\n",
              "      <th>reviews</th>\n",
              "      <th>jumio</th>\n",
              "      <th>offline_government_id</th>\n",
              "      <th>selfie</th>\n",
              "      <th>government_id</th>\n",
              "      <th>identity_manual</th>\n",
              "      <th>work_email</th>\n",
              "      <th>manual_online</th>\n",
              "      <th>manual_offline</th>\n",
              "      <th>x0_Central Region</th>\n",
              "      <th>x0_East Region</th>\n",
              "      <th>x0_North Region</th>\n",
              "      <th>x0_North-East Region</th>\n",
              "      <th>x0_West Region</th>\n",
              "      <th>x0_apartment</th>\n",
              "      <th>x0_bed and breakfast</th>\n",
              "      <th>x0_boat</th>\n",
              "      <th>x0_boutique hotel</th>\n",
              "      <th>x0_bungalow</th>\n",
              "      <th>x0_condominium</th>\n",
              "      <th>x0_guest suite</th>\n",
              "      <th>x0_hostel</th>\n",
              "      <th>x0_hotel</th>\n",
              "      <th>x0_house</th>\n",
              "      <th>x0_loft</th>\n",
              "      <th>x0_other</th>\n",
              "      <th>x0_townhouse</th>\n",
              "      <th>x0_Entire home/apt</th>\n",
              "      <th>x0_Hotel room</th>\n",
              "      <th>x0_Private room</th>\n",
              "      <th>x0_Shared room</th>\n",
              "      <th>amenities_list</th>\n",
              "      <th>Wifi</th>\n",
              "      <th>Air conditioning</th>\n",
              "      <th>Kitchen</th>\n",
              "      <th>Parking</th>\n",
              "      <th>Outdoor</th>\n",
              "      <th>Kids</th>\n",
              "      <th>Pets allowed</th>\n",
              "      <th>Workspace</th>\n",
              "      <th>Gym</th>\n",
              "      <th>Breakfast</th>\n",
              "      <th>availability_average</th>\n",
              "    </tr>\n",
              "  </thead>\n",
              "  <tbody>\n",
              "    <tr>\n",
              "      <th>0</th>\n",
              "      <td>1101652</td>\n",
              "      <td>Explore one of Singapore's best kept heritage ...</td>\n",
              "      <td>2012-11-15</td>\n",
              "      <td>0</td>\n",
              "      <td>1.29737</td>\n",
              "      <td>103.90068</td>\n",
              "      <td>4</td>\n",
              "      <td>1.0</td>\n",
              "      <td>1.0</td>\n",
              "      <td>1.0</td>\n",
              "      <td>{TV,\"Cable TV\",Wifi,\"Air conditioning\",\"Wheelc...</td>\n",
              "      <td>200.0</td>\n",
              "      <td>5</td>\n",
              "      <td>800</td>\n",
              "      <td>800.0</td>\n",
              "      <td>0</td>\n",
              "      <td>0</td>\n",
              "      <td>1</td>\n",
              "      <td>1.135049</td>\n",
              "      <td>1.81344</td>\n",
              "      <td>3.174312</td>\n",
              "      <td>4.5</td>\n",
              "      <td>2.0</td>\n",
              "      <td>1</td>\n",
              "      <td>1</td>\n",
              "      <td>1</td>\n",
              "      <td>0</td>\n",
              "      <td>0</td>\n",
              "      <td>0</td>\n",
              "      <td>0</td>\n",
              "      <td>0</td>\n",
              "      <td>0</td>\n",
              "      <td>0</td>\n",
              "      <td>0</td>\n",
              "      <td>1.0</td>\n",
              "      <td>0.0</td>\n",
              "      <td>0.0</td>\n",
              "      <td>0.0</td>\n",
              "      <td>0.0</td>\n",
              "      <td>1.0</td>\n",
              "      <td>0.0</td>\n",
              "      <td>0.0</td>\n",
              "      <td>0.0</td>\n",
              "      <td>0.0</td>\n",
              "      <td>0.0</td>\n",
              "      <td>0.0</td>\n",
              "      <td>0.0</td>\n",
              "      <td>0.0</td>\n",
              "      <td>0.0</td>\n",
              "      <td>0.0</td>\n",
              "      <td>0.0</td>\n",
              "      <td>0.0</td>\n",
              "      <td>1.0</td>\n",
              "      <td>0.0</td>\n",
              "      <td>0.0</td>\n",
              "      <td>0.0</td>\n",
              "      <td>[TV, Cable TV, Wifi, Air conditioning, Wheelch...</td>\n",
              "      <td>1</td>\n",
              "      <td>1</td>\n",
              "      <td>1</td>\n",
              "      <td>1</td>\n",
              "      <td>0</td>\n",
              "      <td>0</td>\n",
              "      <td>0</td>\n",
              "      <td>0</td>\n",
              "      <td>0</td>\n",
              "      <td>0</td>\n",
              "      <td>0.776522</td>\n",
              "    </tr>\n",
              "  </tbody>\n",
              "</table>\n",
              "</div>"
            ],
            "text/plain": [
              "        id  ... availability_average\n",
              "0  1101652  ...             0.776522\n",
              "\n",
              "[1 rows x 68 columns]"
            ]
          },
          "metadata": {
            "tags": []
          },
          "execution_count": 18
        }
      ]
    },
    {
      "cell_type": "code",
      "metadata": {
        "id": "bMxingjKJMp1"
      },
      "source": [
        "listings_with_name=pd.read_csv(\"/content/drive/My Drive/BT4222_Project/datasets/listings_cleaned.csv\", low_memory=False)"
      ],
      "execution_count": 19,
      "outputs": []
    },
    {
      "cell_type": "code",
      "metadata": {
        "colab": {
          "base_uri": "https://localhost:8080/",
          "height": 185
        },
        "id": "2d2sRT0yJjXr",
        "outputId": "3385adee-1f44-4467-8a4f-25ef4bd5c4ea"
      },
      "source": [
        "listings_with_name.head(1)"
      ],
      "execution_count": 20,
      "outputs": [
        {
          "output_type": "execute_result",
          "data": {
            "text/html": [
              "<div>\n",
              "<style scoped>\n",
              "    .dataframe tbody tr th:only-of-type {\n",
              "        vertical-align: middle;\n",
              "    }\n",
              "\n",
              "    .dataframe tbody tr th {\n",
              "        vertical-align: top;\n",
              "    }\n",
              "\n",
              "    .dataframe thead th {\n",
              "        text-align: right;\n",
              "    }\n",
              "</style>\n",
              "<table border=\"1\" class=\"dataframe\">\n",
              "  <thead>\n",
              "    <tr style=\"text-align: right;\">\n",
              "      <th></th>\n",
              "      <th>id</th>\n",
              "      <th>name</th>\n",
              "      <th>description</th>\n",
              "      <th>neighborhood_overview</th>\n",
              "      <th>host_id</th>\n",
              "      <th>host_since</th>\n",
              "      <th>host_about</th>\n",
              "      <th>host_response_time</th>\n",
              "      <th>host_response_rate</th>\n",
              "      <th>host_is_superhost</th>\n",
              "      <th>host_neighbourhood</th>\n",
              "      <th>host_verifications</th>\n",
              "      <th>host_has_profile_pic</th>\n",
              "      <th>host_identity_verified</th>\n",
              "      <th>neighbourhood_cleansed</th>\n",
              "      <th>neighbourhood_group_cleansed</th>\n",
              "      <th>latitude</th>\n",
              "      <th>longitude</th>\n",
              "      <th>property_type</th>\n",
              "      <th>room_type</th>\n",
              "      <th>accommodates</th>\n",
              "      <th>bathrooms</th>\n",
              "      <th>bedrooms</th>\n",
              "      <th>beds</th>\n",
              "      <th>amenities</th>\n",
              "      <th>price</th>\n",
              "      <th>minimum_nights</th>\n",
              "      <th>maximum_nights</th>\n",
              "      <th>minimum_minimum_nights</th>\n",
              "      <th>maximum_minimum_nights</th>\n",
              "      <th>minimum_maximum_nights</th>\n",
              "      <th>maximum_maximum_nights</th>\n",
              "      <th>minimum_nights_avg_ntm</th>\n",
              "      <th>maximum_nights_avg_ntm</th>\n",
              "      <th>calendar_updated</th>\n",
              "      <th>availability_30</th>\n",
              "      <th>availability_60</th>\n",
              "      <th>availability_90</th>\n",
              "      <th>availability_365</th>\n",
              "      <th>number_of_reviews</th>\n",
              "      <th>number_of_reviews_ltm</th>\n",
              "      <th>review_scores_rating</th>\n",
              "      <th>review_scores_accuracy</th>\n",
              "      <th>review_scores_cleanliness</th>\n",
              "      <th>review_scores_checkin</th>\n",
              "      <th>review_scores_communication</th>\n",
              "      <th>review_scores_location</th>\n",
              "      <th>review_scores_value</th>\n",
              "      <th>instant_bookable</th>\n",
              "      <th>calculated_host_listings_count</th>\n",
              "      <th>reviews_per_month</th>\n",
              "      <th>nearby_sites_rating</th>\n",
              "      <th>nearest_station_dist</th>\n",
              "      <th>nearest_site_dist</th>\n",
              "      <th>nearest_site_rating</th>\n",
              "    </tr>\n",
              "  </thead>\n",
              "  <tbody>\n",
              "    <tr>\n",
              "      <th>0</th>\n",
              "      <td>49091</td>\n",
              "      <td>COZICOMFORT LONG TERM STAY ROOM 2</td>\n",
              "      <td>This is Room No. 2.(available after Jan 15 201...</td>\n",
              "      <td>NaN</td>\n",
              "      <td>266763</td>\n",
              "      <td>2010-10-20</td>\n",
              "      <td>I am a private tutor by profession. My husband...</td>\n",
              "      <td>within a few hours</td>\n",
              "      <td>100%</td>\n",
              "      <td>f</td>\n",
              "      <td>Woodlands</td>\n",
              "      <td>['email', 'phone', 'facebook', 'reviews', 'jum...</td>\n",
              "      <td>t</td>\n",
              "      <td>f</td>\n",
              "      <td>Woodlands</td>\n",
              "      <td>North Region</td>\n",
              "      <td>1.44255</td>\n",
              "      <td>103.7958</td>\n",
              "      <td>Apartment</td>\n",
              "      <td>Private room</td>\n",
              "      <td>1</td>\n",
              "      <td>1.0</td>\n",
              "      <td>1.0</td>\n",
              "      <td>1.0</td>\n",
              "      <td>{TV,\"Cable TV\",Internet,Wifi,\"Air conditioning...</td>\n",
              "      <td>$81.00</td>\n",
              "      <td>180</td>\n",
              "      <td>360</td>\n",
              "      <td>180</td>\n",
              "      <td>180</td>\n",
              "      <td>360</td>\n",
              "      <td>360</td>\n",
              "      <td>180.0</td>\n",
              "      <td>360.0</td>\n",
              "      <td>58 months ago</td>\n",
              "      <td>30</td>\n",
              "      <td>60</td>\n",
              "      <td>90</td>\n",
              "      <td>365</td>\n",
              "      <td>1</td>\n",
              "      <td>0</td>\n",
              "      <td>94.0</td>\n",
              "      <td>10.0</td>\n",
              "      <td>10.0</td>\n",
              "      <td>10.0</td>\n",
              "      <td>10.0</td>\n",
              "      <td>8.0</td>\n",
              "      <td>8.0</td>\n",
              "      <td>f</td>\n",
              "      <td>2</td>\n",
              "      <td>0.02</td>\n",
              "      <td>0.995731</td>\n",
              "      <td>0.617762</td>\n",
              "      <td>4.295315</td>\n",
              "      <td>4.595264</td>\n",
              "    </tr>\n",
              "  </tbody>\n",
              "</table>\n",
              "</div>"
            ],
            "text/plain": [
              "      id  ... nearest_site_rating\n",
              "0  49091  ...            4.595264\n",
              "\n",
              "[1 rows x 55 columns]"
            ]
          },
          "metadata": {
            "tags": []
          },
          "execution_count": 20
        }
      ]
    },
    {
      "cell_type": "code",
      "metadata": {
        "id": "Cx2YvrTHJXRr"
      },
      "source": [
        "name_dict = {}\n",
        "for index, listing in listings_with_name.iterrows():\n",
        "  name_dict[listing['id']] = str(listing['name']).title()"
      ],
      "execution_count": 21,
      "outputs": []
    },
    {
      "cell_type": "code",
      "metadata": {
        "id": "fKuJd7eaLpAz"
      },
      "source": [
        "df_cbr['name'] = df_cbr['id'].apply(lambda x: name_dict[x])"
      ],
      "execution_count": 22,
      "outputs": []
    },
    {
      "cell_type": "code",
      "metadata": {
        "id": "P1bAxbR6m5HM"
      },
      "source": [
        "df_cbr_sample = df_cbr.iloc[:5]"
      ],
      "execution_count": 23,
      "outputs": []
    },
    {
      "cell_type": "code",
      "metadata": {
        "colab": {
          "base_uri": "https://localhost:8080/",
          "height": 632
        },
        "id": "VCm-MmBlm_Yt",
        "outputId": "6e01f5ea-da9d-43dd-a923-09b60cdfc533"
      },
      "source": [
        "df_cbr_sample"
      ],
      "execution_count": 24,
      "outputs": [
        {
          "output_type": "execute_result",
          "data": {
            "text/html": [
              "<div>\n",
              "<style scoped>\n",
              "    .dataframe tbody tr th:only-of-type {\n",
              "        vertical-align: middle;\n",
              "    }\n",
              "\n",
              "    .dataframe tbody tr th {\n",
              "        vertical-align: top;\n",
              "    }\n",
              "\n",
              "    .dataframe thead th {\n",
              "        text-align: right;\n",
              "    }\n",
              "</style>\n",
              "<table border=\"1\" class=\"dataframe\">\n",
              "  <thead>\n",
              "    <tr style=\"text-align: right;\">\n",
              "      <th></th>\n",
              "      <th>id</th>\n",
              "      <th>description</th>\n",
              "      <th>host_since</th>\n",
              "      <th>host_is_superhost</th>\n",
              "      <th>latitude</th>\n",
              "      <th>longitude</th>\n",
              "      <th>accommodates</th>\n",
              "      <th>bathrooms</th>\n",
              "      <th>bedrooms</th>\n",
              "      <th>beds</th>\n",
              "      <th>amenities</th>\n",
              "      <th>price</th>\n",
              "      <th>minimum_nights</th>\n",
              "      <th>maximum_nights</th>\n",
              "      <th>maximum_nights_avg_ntm</th>\n",
              "      <th>number_of_reviews_ltm</th>\n",
              "      <th>instant_bookable</th>\n",
              "      <th>calculated_host_listings_count</th>\n",
              "      <th>nearby_sites_rating</th>\n",
              "      <th>nearest_station_dist</th>\n",
              "      <th>nearest_site_dist</th>\n",
              "      <th>nearest_site_rating</th>\n",
              "      <th>host_response_time_cross_rate</th>\n",
              "      <th>email</th>\n",
              "      <th>phone</th>\n",
              "      <th>reviews</th>\n",
              "      <th>jumio</th>\n",
              "      <th>offline_government_id</th>\n",
              "      <th>selfie</th>\n",
              "      <th>government_id</th>\n",
              "      <th>identity_manual</th>\n",
              "      <th>work_email</th>\n",
              "      <th>manual_online</th>\n",
              "      <th>manual_offline</th>\n",
              "      <th>x0_Central Region</th>\n",
              "      <th>x0_East Region</th>\n",
              "      <th>x0_North Region</th>\n",
              "      <th>x0_North-East Region</th>\n",
              "      <th>x0_West Region</th>\n",
              "      <th>x0_apartment</th>\n",
              "      <th>x0_bed and breakfast</th>\n",
              "      <th>x0_boat</th>\n",
              "      <th>x0_boutique hotel</th>\n",
              "      <th>x0_bungalow</th>\n",
              "      <th>x0_condominium</th>\n",
              "      <th>x0_guest suite</th>\n",
              "      <th>x0_hostel</th>\n",
              "      <th>x0_hotel</th>\n",
              "      <th>x0_house</th>\n",
              "      <th>x0_loft</th>\n",
              "      <th>x0_other</th>\n",
              "      <th>x0_townhouse</th>\n",
              "      <th>x0_Entire home/apt</th>\n",
              "      <th>x0_Hotel room</th>\n",
              "      <th>x0_Private room</th>\n",
              "      <th>x0_Shared room</th>\n",
              "      <th>amenities_list</th>\n",
              "      <th>Wifi</th>\n",
              "      <th>Air conditioning</th>\n",
              "      <th>Kitchen</th>\n",
              "      <th>Parking</th>\n",
              "      <th>Outdoor</th>\n",
              "      <th>Kids</th>\n",
              "      <th>Pets allowed</th>\n",
              "      <th>Workspace</th>\n",
              "      <th>Gym</th>\n",
              "      <th>Breakfast</th>\n",
              "      <th>availability_average</th>\n",
              "      <th>name</th>\n",
              "    </tr>\n",
              "  </thead>\n",
              "  <tbody>\n",
              "    <tr>\n",
              "      <th>0</th>\n",
              "      <td>1101652</td>\n",
              "      <td>Explore one of Singapore's best kept heritage ...</td>\n",
              "      <td>2012-11-15</td>\n",
              "      <td>0</td>\n",
              "      <td>1.29737</td>\n",
              "      <td>103.90068</td>\n",
              "      <td>4</td>\n",
              "      <td>1.0</td>\n",
              "      <td>1.0</td>\n",
              "      <td>1.0</td>\n",
              "      <td>{TV,\"Cable TV\",Wifi,\"Air conditioning\",\"Wheelc...</td>\n",
              "      <td>200.0</td>\n",
              "      <td>5</td>\n",
              "      <td>800</td>\n",
              "      <td>800.0</td>\n",
              "      <td>0</td>\n",
              "      <td>0</td>\n",
              "      <td>1</td>\n",
              "      <td>1.135049</td>\n",
              "      <td>1.813440</td>\n",
              "      <td>3.174312</td>\n",
              "      <td>4.500000</td>\n",
              "      <td>2.00</td>\n",
              "      <td>1</td>\n",
              "      <td>1</td>\n",
              "      <td>1</td>\n",
              "      <td>0</td>\n",
              "      <td>0</td>\n",
              "      <td>0</td>\n",
              "      <td>0</td>\n",
              "      <td>0</td>\n",
              "      <td>0</td>\n",
              "      <td>0</td>\n",
              "      <td>0</td>\n",
              "      <td>1.0</td>\n",
              "      <td>0.0</td>\n",
              "      <td>0.0</td>\n",
              "      <td>0.0</td>\n",
              "      <td>0.0</td>\n",
              "      <td>1.0</td>\n",
              "      <td>0.0</td>\n",
              "      <td>0.0</td>\n",
              "      <td>0.0</td>\n",
              "      <td>0.0</td>\n",
              "      <td>0.0</td>\n",
              "      <td>0.0</td>\n",
              "      <td>0.0</td>\n",
              "      <td>0.0</td>\n",
              "      <td>0.0</td>\n",
              "      <td>0.0</td>\n",
              "      <td>0.0</td>\n",
              "      <td>0.0</td>\n",
              "      <td>1.0</td>\n",
              "      <td>0.0</td>\n",
              "      <td>0.0</td>\n",
              "      <td>0.0</td>\n",
              "      <td>[TV, Cable TV, Wifi, Air conditioning, Wheelch...</td>\n",
              "      <td>1</td>\n",
              "      <td>1</td>\n",
              "      <td>1</td>\n",
              "      <td>1</td>\n",
              "      <td>0</td>\n",
              "      <td>0</td>\n",
              "      <td>0</td>\n",
              "      <td>0</td>\n",
              "      <td>0</td>\n",
              "      <td>0</td>\n",
              "      <td>0.776522</td>\n",
              "      <td>Cozy Place In Singapore</td>\n",
              "    </tr>\n",
              "    <tr>\n",
              "      <th>1</th>\n",
              "      <td>1299316</td>\n",
              "      <td>Regardless your stay is as a tourists, busines...</td>\n",
              "      <td>2013-04-12</td>\n",
              "      <td>0</td>\n",
              "      <td>1.36392</td>\n",
              "      <td>103.76646</td>\n",
              "      <td>2</td>\n",
              "      <td>1.0</td>\n",
              "      <td>1.0</td>\n",
              "      <td>1.0</td>\n",
              "      <td>{TV,\"Cable TV\",Internet,Wifi,\"Air conditioning...</td>\n",
              "      <td>76.0</td>\n",
              "      <td>5</td>\n",
              "      <td>365</td>\n",
              "      <td>365.0</td>\n",
              "      <td>9</td>\n",
              "      <td>0</td>\n",
              "      <td>1</td>\n",
              "      <td>1.288425</td>\n",
              "      <td>0.206081</td>\n",
              "      <td>1.667353</td>\n",
              "      <td>4.500000</td>\n",
              "      <td>4.00</td>\n",
              "      <td>1</td>\n",
              "      <td>1</td>\n",
              "      <td>1</td>\n",
              "      <td>1</td>\n",
              "      <td>1</td>\n",
              "      <td>1</td>\n",
              "      <td>1</td>\n",
              "      <td>1</td>\n",
              "      <td>1</td>\n",
              "      <td>0</td>\n",
              "      <td>0</td>\n",
              "      <td>0.0</td>\n",
              "      <td>0.0</td>\n",
              "      <td>0.0</td>\n",
              "      <td>0.0</td>\n",
              "      <td>1.0</td>\n",
              "      <td>0.0</td>\n",
              "      <td>0.0</td>\n",
              "      <td>0.0</td>\n",
              "      <td>0.0</td>\n",
              "      <td>0.0</td>\n",
              "      <td>1.0</td>\n",
              "      <td>0.0</td>\n",
              "      <td>0.0</td>\n",
              "      <td>0.0</td>\n",
              "      <td>0.0</td>\n",
              "      <td>0.0</td>\n",
              "      <td>0.0</td>\n",
              "      <td>0.0</td>\n",
              "      <td>0.0</td>\n",
              "      <td>0.0</td>\n",
              "      <td>1.0</td>\n",
              "      <td>0.0</td>\n",
              "      <td>[TV, Cable TV, Internet, Wifi, Air conditionin...</td>\n",
              "      <td>1</td>\n",
              "      <td>1</td>\n",
              "      <td>1</td>\n",
              "      <td>0</td>\n",
              "      <td>0</td>\n",
              "      <td>1</td>\n",
              "      <td>0</td>\n",
              "      <td>1</td>\n",
              "      <td>1</td>\n",
              "      <td>0</td>\n",
              "      <td>0.904224</td>\n",
              "      <td>Private Cozy Room On The Hill</td>\n",
              "    </tr>\n",
              "    <tr>\n",
              "      <th>2</th>\n",
              "      <td>1731462</td>\n",
              "      <td>Right next to a shopping mall w/ Farrer Park M...</td>\n",
              "      <td>2013-08-16</td>\n",
              "      <td>0</td>\n",
              "      <td>1.31176</td>\n",
              "      <td>103.85597</td>\n",
              "      <td>2</td>\n",
              "      <td>1.0</td>\n",
              "      <td>1.0</td>\n",
              "      <td>1.0</td>\n",
              "      <td>{Internet,Wifi,\"Air conditioning\",Pool,Kitchen...</td>\n",
              "      <td>80.0</td>\n",
              "      <td>90</td>\n",
              "      <td>1125</td>\n",
              "      <td>1125.0</td>\n",
              "      <td>0</td>\n",
              "      <td>0</td>\n",
              "      <td>7</td>\n",
              "      <td>1.982270</td>\n",
              "      <td>0.210743</td>\n",
              "      <td>0.860425</td>\n",
              "      <td>4.138595</td>\n",
              "      <td>4.00</td>\n",
              "      <td>1</td>\n",
              "      <td>1</td>\n",
              "      <td>1</td>\n",
              "      <td>1</td>\n",
              "      <td>1</td>\n",
              "      <td>1</td>\n",
              "      <td>1</td>\n",
              "      <td>1</td>\n",
              "      <td>0</td>\n",
              "      <td>0</td>\n",
              "      <td>0</td>\n",
              "      <td>1.0</td>\n",
              "      <td>0.0</td>\n",
              "      <td>0.0</td>\n",
              "      <td>0.0</td>\n",
              "      <td>0.0</td>\n",
              "      <td>1.0</td>\n",
              "      <td>0.0</td>\n",
              "      <td>0.0</td>\n",
              "      <td>0.0</td>\n",
              "      <td>0.0</td>\n",
              "      <td>0.0</td>\n",
              "      <td>0.0</td>\n",
              "      <td>0.0</td>\n",
              "      <td>0.0</td>\n",
              "      <td>0.0</td>\n",
              "      <td>0.0</td>\n",
              "      <td>0.0</td>\n",
              "      <td>0.0</td>\n",
              "      <td>0.0</td>\n",
              "      <td>0.0</td>\n",
              "      <td>1.0</td>\n",
              "      <td>0.0</td>\n",
              "      <td>[Internet, Wifi, Air conditioning, Pool, Kitch...</td>\n",
              "      <td>1</td>\n",
              "      <td>1</td>\n",
              "      <td>1</td>\n",
              "      <td>1</td>\n",
              "      <td>0</td>\n",
              "      <td>0</td>\n",
              "      <td>0</td>\n",
              "      <td>1</td>\n",
              "      <td>0</td>\n",
              "      <td>0</td>\n",
              "      <td>0.811644</td>\n",
              "      <td>Cs Modern Ensuite Room In Central</td>\n",
              "    </tr>\n",
              "    <tr>\n",
              "      <th>3</th>\n",
              "      <td>3885720</td>\n",
              "      <td>Our spacious Studio apartment is found within ...</td>\n",
              "      <td>2011-02-07</td>\n",
              "      <td>0</td>\n",
              "      <td>1.26969</td>\n",
              "      <td>103.81375</td>\n",
              "      <td>5</td>\n",
              "      <td>1.0</td>\n",
              "      <td>0.0</td>\n",
              "      <td>3.0</td>\n",
              "      <td>{TV,Internet,Wifi,\"Air conditioning\",Kitchen,\"...</td>\n",
              "      <td>143.0</td>\n",
              "      <td>2</td>\n",
              "      <td>1125</td>\n",
              "      <td>1125.0</td>\n",
              "      <td>22</td>\n",
              "      <td>0</td>\n",
              "      <td>1</td>\n",
              "      <td>2.550789</td>\n",
              "      <td>0.459645</td>\n",
              "      <td>0.602082</td>\n",
              "      <td>4.559654</td>\n",
              "      <td>2.70</td>\n",
              "      <td>1</td>\n",
              "      <td>1</td>\n",
              "      <td>1</td>\n",
              "      <td>1</td>\n",
              "      <td>0</td>\n",
              "      <td>0</td>\n",
              "      <td>1</td>\n",
              "      <td>0</td>\n",
              "      <td>1</td>\n",
              "      <td>0</td>\n",
              "      <td>0</td>\n",
              "      <td>1.0</td>\n",
              "      <td>0.0</td>\n",
              "      <td>0.0</td>\n",
              "      <td>0.0</td>\n",
              "      <td>0.0</td>\n",
              "      <td>1.0</td>\n",
              "      <td>0.0</td>\n",
              "      <td>0.0</td>\n",
              "      <td>0.0</td>\n",
              "      <td>0.0</td>\n",
              "      <td>0.0</td>\n",
              "      <td>0.0</td>\n",
              "      <td>0.0</td>\n",
              "      <td>0.0</td>\n",
              "      <td>0.0</td>\n",
              "      <td>0.0</td>\n",
              "      <td>0.0</td>\n",
              "      <td>0.0</td>\n",
              "      <td>1.0</td>\n",
              "      <td>0.0</td>\n",
              "      <td>0.0</td>\n",
              "      <td>0.0</td>\n",
              "      <td>[TV, Internet, Wifi, Air conditioning, Kitchen...</td>\n",
              "      <td>1</td>\n",
              "      <td>1</td>\n",
              "      <td>1</td>\n",
              "      <td>0</td>\n",
              "      <td>0</td>\n",
              "      <td>0</td>\n",
              "      <td>0</td>\n",
              "      <td>1</td>\n",
              "      <td>0</td>\n",
              "      <td>0</td>\n",
              "      <td>0.639574</td>\n",
              "      <td>Studio Apartment Near Sentosa</td>\n",
              "    </tr>\n",
              "    <tr>\n",
              "      <th>4</th>\n",
              "      <td>4214834</td>\n",
              "      <td>Do you love coffee? Great! The apartment is ri...</td>\n",
              "      <td>2013-04-23</td>\n",
              "      <td>0</td>\n",
              "      <td>1.28358</td>\n",
              "      <td>103.83039</td>\n",
              "      <td>2</td>\n",
              "      <td>1.0</td>\n",
              "      <td>1.0</td>\n",
              "      <td>1.0</td>\n",
              "      <td>{TV,Wifi,\"Air conditioning\",Kitchen,\"Pets live...</td>\n",
              "      <td>85.0</td>\n",
              "      <td>1</td>\n",
              "      <td>1125</td>\n",
              "      <td>1125.0</td>\n",
              "      <td>4</td>\n",
              "      <td>0</td>\n",
              "      <td>1</td>\n",
              "      <td>1.689570</td>\n",
              "      <td>0.474038</td>\n",
              "      <td>1.550443</td>\n",
              "      <td>4.438634</td>\n",
              "      <td>1.72</td>\n",
              "      <td>1</td>\n",
              "      <td>1</td>\n",
              "      <td>1</td>\n",
              "      <td>1</td>\n",
              "      <td>0</td>\n",
              "      <td>0</td>\n",
              "      <td>1</td>\n",
              "      <td>0</td>\n",
              "      <td>1</td>\n",
              "      <td>0</td>\n",
              "      <td>1</td>\n",
              "      <td>1.0</td>\n",
              "      <td>0.0</td>\n",
              "      <td>0.0</td>\n",
              "      <td>0.0</td>\n",
              "      <td>0.0</td>\n",
              "      <td>1.0</td>\n",
              "      <td>0.0</td>\n",
              "      <td>0.0</td>\n",
              "      <td>0.0</td>\n",
              "      <td>0.0</td>\n",
              "      <td>0.0</td>\n",
              "      <td>0.0</td>\n",
              "      <td>0.0</td>\n",
              "      <td>0.0</td>\n",
              "      <td>0.0</td>\n",
              "      <td>0.0</td>\n",
              "      <td>0.0</td>\n",
              "      <td>0.0</td>\n",
              "      <td>0.0</td>\n",
              "      <td>0.0</td>\n",
              "      <td>1.0</td>\n",
              "      <td>0.0</td>\n",
              "      <td>[TV, Wifi, Air conditioning, Kitchen, Pets liv...</td>\n",
              "      <td>1</td>\n",
              "      <td>1</td>\n",
              "      <td>1</td>\n",
              "      <td>0</td>\n",
              "      <td>0</td>\n",
              "      <td>0</td>\n",
              "      <td>0</td>\n",
              "      <td>1</td>\n",
              "      <td>0</td>\n",
              "      <td>0</td>\n",
              "      <td>0.888261</td>\n",
              "      <td>Cosy Room In Charming Tiong Bahru</td>\n",
              "    </tr>\n",
              "  </tbody>\n",
              "</table>\n",
              "</div>"
            ],
            "text/plain": [
              "        id  ...                               name\n",
              "0  1101652  ...            Cozy Place In Singapore\n",
              "1  1299316  ...      Private Cozy Room On The Hill\n",
              "2  1731462  ...  Cs Modern Ensuite Room In Central\n",
              "3  3885720  ...      Studio Apartment Near Sentosa\n",
              "4  4214834  ...  Cosy Room In Charming Tiong Bahru\n",
              "\n",
              "[5 rows x 69 columns]"
            ]
          },
          "metadata": {
            "tags": []
          },
          "execution_count": 24
        }
      ]
    },
    {
      "cell_type": "code",
      "metadata": {
        "colab": {
          "base_uri": "https://localhost:8080/"
        },
        "id": "IxlUdgXBnkb2",
        "outputId": "accce6ab-603a-4219-93b0-728fdf90fb11"
      },
      "source": [
        "from sklearn.feature_extraction.text import TfidfVectorizer\n",
        "tfidf_2 = TfidfVectorizer(stop_words='english')\n",
        "\n",
        "tfidf_matrix_2 = tfidf_2.fit_transform(df_cbr_sample['description'])\n",
        "\n",
        "tfidf_matrix_2.shape"
      ],
      "execution_count": 28,
      "outputs": [
        {
          "output_type": "execute_result",
          "data": {
            "text/plain": [
              "(5, 302)"
            ]
          },
          "metadata": {
            "tags": []
          },
          "execution_count": 28
        }
      ]
    },
    {
      "cell_type": "code",
      "metadata": {
        "colab": {
          "base_uri": "https://localhost:8080/"
        },
        "id": "RrE0iFqrnwf9",
        "outputId": "f09b02ea-9853-40a7-ac01-355d93e2f6bd"
      },
      "source": [
        "tfidf_matrix_2.toarray()[0]"
      ],
      "execution_count": 29,
      "outputs": [
        {
          "output_type": "execute_result",
          "data": {
            "text/plain": [
              "array([0.        , 0.        , 0.        , 0.        , 0.        ,\n",
              "       0.        , 0.08773628, 0.        , 0.        , 0.        ,\n",
              "       0.        , 0.        , 0.        , 0.        , 0.08773628,\n",
              "       0.        , 0.        , 0.        , 0.        , 0.        ,\n",
              "       0.07078508, 0.07078508, 0.        , 0.        , 0.08773628,\n",
              "       0.        , 0.08773628, 0.        , 0.09885818, 0.17547257,\n",
              "       0.        , 0.        , 0.14157016, 0.08773628, 0.        ,\n",
              "       0.        , 0.        , 0.        , 0.        , 0.        ,\n",
              "       0.        , 0.        , 0.        , 0.        , 0.        ,\n",
              "       0.        , 0.        , 0.        , 0.        , 0.        ,\n",
              "       0.        , 0.        , 0.        , 0.        , 0.        ,\n",
              "       0.        , 0.        , 0.        , 0.07078508, 0.        ,\n",
              "       0.        , 0.08773628, 0.        , 0.21235524, 0.        ,\n",
              "       0.        , 0.        , 0.08773628, 0.        , 0.11751602,\n",
              "       0.        , 0.        , 0.        , 0.        , 0.        ,\n",
              "       0.        , 0.08773628, 0.        , 0.        , 0.17547257,\n",
              "       0.        , 0.17547257, 0.08773628, 0.        , 0.        ,\n",
              "       0.        , 0.        , 0.        , 0.08773628, 0.        ,\n",
              "       0.08773628, 0.        , 0.        , 0.        , 0.17547257,\n",
              "       0.11751602, 0.        , 0.        , 0.17547257, 0.        ,\n",
              "       0.        , 0.        , 0.        , 0.14157016, 0.        ,\n",
              "       0.        , 0.        , 0.        , 0.08773628, 0.08773628,\n",
              "       0.        , 0.        , 0.        , 0.        , 0.08773628,\n",
              "       0.        , 0.        , 0.        , 0.        , 0.        ,\n",
              "       0.        , 0.        , 0.        , 0.        , 0.08773628,\n",
              "       0.        , 0.        , 0.        , 0.08773628, 0.        ,\n",
              "       0.08773628, 0.05875801, 0.        , 0.        , 0.        ,\n",
              "       0.        , 0.        , 0.        , 0.        , 0.        ,\n",
              "       0.        , 0.11751602, 0.        , 0.        , 0.07078508,\n",
              "       0.        , 0.        , 0.        , 0.08773628, 0.        ,\n",
              "       0.        , 0.08773628, 0.11751602, 0.26320885, 0.        ,\n",
              "       0.17547257, 0.04942909, 0.        , 0.        , 0.        ,\n",
              "       0.08773628, 0.08773628, 0.        , 0.        , 0.        ,\n",
              "       0.05875801, 0.        , 0.        , 0.        , 0.        ,\n",
              "       0.        , 0.        , 0.        , 0.11751602, 0.        ,\n",
              "       0.        , 0.        , 0.        , 0.        , 0.        ,\n",
              "       0.        , 0.        , 0.05875801, 0.        , 0.        ,\n",
              "       0.        , 0.        , 0.17547257, 0.        , 0.17547257,\n",
              "       0.        , 0.        , 0.        , 0.        , 0.        ,\n",
              "       0.17547257, 0.        , 0.08773628, 0.        , 0.08773628,\n",
              "       0.08773628, 0.        , 0.        , 0.        , 0.07078508,\n",
              "       0.        , 0.        , 0.        , 0.        , 0.        ,\n",
              "       0.05875801, 0.11751602, 0.        , 0.08773628, 0.        ,\n",
              "       0.        , 0.        , 0.        , 0.        , 0.08773628,\n",
              "       0.        , 0.        , 0.        , 0.        , 0.        ,\n",
              "       0.        , 0.        , 0.04942909, 0.        , 0.        ,\n",
              "       0.        , 0.        , 0.        , 0.        , 0.        ,\n",
              "       0.        , 0.17547257, 0.07078508, 0.08773628, 0.07078508,\n",
              "       0.14828728, 0.        , 0.17547257, 0.08773628, 0.07078508,\n",
              "       0.        , 0.        , 0.        , 0.08773628, 0.        ,\n",
              "       0.        , 0.        , 0.        , 0.17547257, 0.        ,\n",
              "       0.        , 0.        , 0.        , 0.        , 0.        ,\n",
              "       0.08773628, 0.        , 0.17547257, 0.        , 0.        ,\n",
              "       0.        , 0.        , 0.        , 0.08773628, 0.        ,\n",
              "       0.        , 0.        , 0.        , 0.        , 0.08773628,\n",
              "       0.08773628, 0.        , 0.        , 0.        , 0.        ,\n",
              "       0.        , 0.        , 0.        , 0.        , 0.08773628,\n",
              "       0.        , 0.        , 0.        , 0.04942909, 0.        ,\n",
              "       0.        , 0.        , 0.08773628, 0.        , 0.        ,\n",
              "       0.        , 0.        , 0.        , 0.        , 0.        ,\n",
              "       0.        , 0.        ])"
            ]
          },
          "metadata": {
            "tags": []
          },
          "execution_count": 29
        }
      ]
    },
    {
      "cell_type": "code",
      "metadata": {
        "id": "t6iZi670oTU9"
      },
      "source": [
        "from sklearn.metrics.pairwise import linear_kernel\n",
        "cosine_sim_2 = linear_kernel(tfidf_matrix_2, tfidf_matrix_2)"
      ],
      "execution_count": 31,
      "outputs": []
    },
    {
      "cell_type": "code",
      "metadata": {
        "colab": {
          "base_uri": "https://localhost:8080/"
        },
        "id": "a09PqBvOo_VS",
        "outputId": "53b27934-c52c-4f94-d069-837a9912bda6"
      },
      "source": [
        "cosine_sim_2"
      ],
      "execution_count": 32,
      "outputs": [
        {
          "output_type": "execute_result",
          "data": {
            "text/plain": [
              "array([[1.        , 0.05775296, 0.09518553, 0.06731624, 0.09892602],\n",
              "       [0.05775296, 1.        , 0.15247382, 0.03332736, 0.09936358],\n",
              "       [0.09518553, 0.15247382, 1.        , 0.02038497, 0.11327775],\n",
              "       [0.06731624, 0.03332736, 0.02038497, 1.        , 0.06300565],\n",
              "       [0.09892602, 0.09936358, 0.11327775, 0.06300565, 1.        ]])"
            ]
          },
          "metadata": {
            "tags": []
          },
          "execution_count": 32
        }
      ]
    },
    {
      "cell_type": "code",
      "metadata": {
        "colab": {
          "base_uri": "https://localhost:8080/",
          "height": 204
        },
        "id": "07U6Qm2M162a",
        "outputId": "b3cfd031-ecb1-44d5-eb89-2820d24964f7"
      },
      "source": [
        "pd.DataFrame(cosine_sim_2, index=[\"listing 1\", \"listing 2\", \"listing 3\", \"listing 4\", \"listing 5\"], columns=[\"listing 1\", \"listing 2\", \"listing 3\", \"listing 4\", \"listing 5\"])"
      ],
      "execution_count": 33,
      "outputs": [
        {
          "output_type": "execute_result",
          "data": {
            "text/html": [
              "<div>\n",
              "<style scoped>\n",
              "    .dataframe tbody tr th:only-of-type {\n",
              "        vertical-align: middle;\n",
              "    }\n",
              "\n",
              "    .dataframe tbody tr th {\n",
              "        vertical-align: top;\n",
              "    }\n",
              "\n",
              "    .dataframe thead th {\n",
              "        text-align: right;\n",
              "    }\n",
              "</style>\n",
              "<table border=\"1\" class=\"dataframe\">\n",
              "  <thead>\n",
              "    <tr style=\"text-align: right;\">\n",
              "      <th></th>\n",
              "      <th>listing 1</th>\n",
              "      <th>listing 2</th>\n",
              "      <th>listing 3</th>\n",
              "      <th>listing 4</th>\n",
              "      <th>listing 5</th>\n",
              "    </tr>\n",
              "  </thead>\n",
              "  <tbody>\n",
              "    <tr>\n",
              "      <th>listing 1</th>\n",
              "      <td>1.000000</td>\n",
              "      <td>0.057753</td>\n",
              "      <td>0.095186</td>\n",
              "      <td>0.067316</td>\n",
              "      <td>0.098926</td>\n",
              "    </tr>\n",
              "    <tr>\n",
              "      <th>listing 2</th>\n",
              "      <td>0.057753</td>\n",
              "      <td>1.000000</td>\n",
              "      <td>0.152474</td>\n",
              "      <td>0.033327</td>\n",
              "      <td>0.099364</td>\n",
              "    </tr>\n",
              "    <tr>\n",
              "      <th>listing 3</th>\n",
              "      <td>0.095186</td>\n",
              "      <td>0.152474</td>\n",
              "      <td>1.000000</td>\n",
              "      <td>0.020385</td>\n",
              "      <td>0.113278</td>\n",
              "    </tr>\n",
              "    <tr>\n",
              "      <th>listing 4</th>\n",
              "      <td>0.067316</td>\n",
              "      <td>0.033327</td>\n",
              "      <td>0.020385</td>\n",
              "      <td>1.000000</td>\n",
              "      <td>0.063006</td>\n",
              "    </tr>\n",
              "    <tr>\n",
              "      <th>listing 5</th>\n",
              "      <td>0.098926</td>\n",
              "      <td>0.099364</td>\n",
              "      <td>0.113278</td>\n",
              "      <td>0.063006</td>\n",
              "      <td>1.000000</td>\n",
              "    </tr>\n",
              "  </tbody>\n",
              "</table>\n",
              "</div>"
            ],
            "text/plain": [
              "           listing 1  listing 2  listing 3  listing 4  listing 5\n",
              "listing 1   1.000000   0.057753   0.095186   0.067316   0.098926\n",
              "listing 2   0.057753   1.000000   0.152474   0.033327   0.099364\n",
              "listing 3   0.095186   0.152474   1.000000   0.020385   0.113278\n",
              "listing 4   0.067316   0.033327   0.020385   1.000000   0.063006\n",
              "listing 5   0.098926   0.099364   0.113278   0.063006   1.000000"
            ]
          },
          "metadata": {
            "tags": []
          },
          "execution_count": 33
        }
      ]
    },
    {
      "cell_type": "code",
      "metadata": {
        "colab": {
          "base_uri": "https://localhost:8080/"
        },
        "id": "Vu1cPrMSHF0F",
        "outputId": "c3f9276a-486d-478d-c8ea-eaa9489578c6"
      },
      "source": [
        "from sklearn.feature_extraction.text import TfidfVectorizer\n",
        "\n",
        "tfidf = TfidfVectorizer(stop_words='english')\n",
        "\n",
        "tfidf_matrix = tfidf.fit_transform(df_cbr['description'])\n",
        "\n",
        "tfidf_matrix.shape"
      ],
      "execution_count": 34,
      "outputs": [
        {
          "output_type": "execute_result",
          "data": {
            "text/plain": [
              "(12222, 18231)"
            ]
          },
          "metadata": {
            "tags": []
          },
          "execution_count": 34
        }
      ]
    },
    {
      "cell_type": "code",
      "metadata": {
        "colab": {
          "base_uri": "https://localhost:8080/"
        },
        "id": "UDh3V-BEhrrc",
        "outputId": "acfe8407-bf2b-4953-8dec-48291eda39ab"
      },
      "source": [
        "tfidf_matrix.toarray()[0]"
      ],
      "execution_count": 35,
      "outputs": [
        {
          "output_type": "execute_result",
          "data": {
            "text/plain": [
              "array([0., 0., 0., ..., 0., 0., 0.])"
            ]
          },
          "metadata": {
            "tags": []
          },
          "execution_count": 35
        }
      ]
    },
    {
      "cell_type": "code",
      "metadata": {
        "colab": {
          "base_uri": "https://localhost:8080/",
          "height": 157
        },
        "id": "EcGGZZ4Teg7y",
        "outputId": "c2585950-fec8-46a1-d2f5-9f56b3445ed9"
      },
      "source": [
        "df_cbr.head().loc[0].description"
      ],
      "execution_count": 36,
      "outputs": [
        {
          "output_type": "execute_result",
          "data": {
            "application/vnd.google.colaboratory.intrinsic+json": {
              "type": "string"
            },
            "text/plain": [
              "\"Explore one of Singapore's best kept heritage in the East, just steps outside this cosy 1-bedroom condo. Surpisingly quiet despite being so near to the delights of Katong with its myriad of shops and endless eateries! Explore one of Singapore's best kept heritage in the East, just steps outside this cosy 1-bedroom condo. Surpisingly quiet despite being so near to the delights of Katong with its myriad of shops and endless eateries!  Simple, cool layout and in tip top condition. Featuring a fully furnished applianced kitchen, dryer, washer and a modern bath with a rain-shower feature to destress. The Queen sized bed comfortably fits two people with additional sofa bed tucked in the living room. A small pool with jacuzzi for relaxation is available too. What is better? A good sized balcony to laze your day away drenching in the tropical sunshine!  It's a great spot to call home during your visit to Singapore! The condo is also a short walk to Parkway Parade Mall, I12Katong Mall, Katong V\""
            ]
          },
          "metadata": {
            "tags": []
          },
          "execution_count": 36
        }
      ]
    },
    {
      "cell_type": "code",
      "metadata": {
        "colab": {
          "base_uri": "https://localhost:8080/",
          "height": 34
        },
        "id": "0qGP-z4Je0wO",
        "outputId": "fe6689a2-f3be-4224-9f0d-dbf4194b54a2"
      },
      "source": [
        "df_cbr.head().loc[0]['name']"
      ],
      "execution_count": 37,
      "outputs": [
        {
          "output_type": "execute_result",
          "data": {
            "application/vnd.google.colaboratory.intrinsic+json": {
              "type": "string"
            },
            "text/plain": [
              "'Cozy Place In Singapore'"
            ]
          },
          "metadata": {
            "tags": []
          },
          "execution_count": 37
        }
      ]
    },
    {
      "cell_type": "code",
      "metadata": {
        "id": "F2cWjUcNIlt0"
      },
      "source": [
        "from sklearn.metrics.pairwise import linear_kernel\n",
        "\n",
        "# Compute the cosine similarity matrix\n",
        "cosine_sim = linear_kernel(tfidf_matrix, tfidf_matrix)"
      ],
      "execution_count": 38,
      "outputs": []
    },
    {
      "cell_type": "code",
      "metadata": {
        "id": "jdD9A_QYMS0y"
      },
      "source": [
        "indices = pd.Series(df_cbr.index, index=df_cbr['name']).drop_duplicates()"
      ],
      "execution_count": 39,
      "outputs": []
    },
    {
      "cell_type": "code",
      "metadata": {
        "colab": {
          "base_uri": "https://localhost:8080/"
        },
        "id": "y4J19Uq-5-Zi",
        "outputId": "bdd6a9ab-ea20-4e39-ff6f-f31dc3c501cd"
      },
      "source": [
        "indices"
      ],
      "execution_count": 40,
      "outputs": [
        {
          "output_type": "execute_result",
          "data": {
            "text/plain": [
              "name\n",
              "Cozy Place In Singapore                               0\n",
              "Private Cozy Room On The Hill                         1\n",
              "Cs Modern Ensuite Room In Central                     2\n",
              "Studio Apartment Near Sentosa                         3\n",
              "Cosy Room In Charming Tiong Bahru                     4\n",
              "                                                  ...  \n",
              "Common Room With Shared Toilet Best For Pnoy      12217\n",
              "Kampong Living Spacious Room At Coliving Space    12218\n",
              "Kampong Living Master Room At Coliving Space      12219\n",
              "Kampong Living Cosy Room At Coliving Space        12220\n",
              "Studio Apartment At Fort Road                     12221\n",
              "Length: 12222, dtype: int64"
            ]
          },
          "metadata": {
            "tags": []
          },
          "execution_count": 40
        }
      ]
    },
    {
      "cell_type": "code",
      "metadata": {
        "id": "k_RevNWvIu8k"
      },
      "source": [
        "def content_recommender(name, cosine_sim, df, indices):\n",
        "    idx = indices[name]\n",
        "\n",
        "    # Get the pairwsie similarity scores of all listings with that listing\n",
        "    # And convert it into a list of tuples as described above\n",
        "    sim_scores = list(enumerate(cosine_sim[idx]))\n",
        "\n",
        "    # Sort the listings based on the cosine similarity scores\n",
        "    sim_scores = sorted(sim_scores, key=lambda x: x[1], reverse=True)\n",
        "\n",
        "    # Get the scores of the 10 most similar listings. Ignore the first one.\n",
        "    sim_scores = sim_scores[1:11]\n",
        "\n",
        "    # Get the listing indices\n",
        "    listings_indices = [i[0] for i in sim_scores]\n",
        "\n",
        "    # Return the top 10 most similar listings\n",
        "    return df['name'].iloc[listings_indices]"
      ],
      "execution_count": 41,
      "outputs": []
    },
    {
      "cell_type": "code",
      "metadata": {
        "colab": {
          "base_uri": "https://localhost:8080/"
        },
        "id": "SKXDl6pOL1l_",
        "outputId": "816f2b7d-7599-46c3-f601-1b604f48b08d"
      },
      "source": [
        "content_recommender(\"Cozy Place In Singapore\", cosine_sim, df_cbr, indices)"
      ],
      "execution_count": 42,
      "outputs": [
        {
          "output_type": "execute_result",
          "data": {
            "text/plain": [
              "7570            2Br 2Bath In Katong Near F&B (Min 3 Mths)\n",
              "2308                    Near To Central With Free Parking\n",
              "3024     Modern 2Br Apt In Katong, Free Parking, Near F&B\n",
              "3836     Humble & Conveniently Located 1Br In Katong Area\n",
              "6257     Humble & Conveniently Located 1Br In Katong Area\n",
              "2049                                     East Coast Haven\n",
              "6336     Humble & Conveniently Located 1Br In Katong Area\n",
              "12220          Kampong Living Cosy Room At Coliving Space\n",
              "4369           Spacious 3Br Home With East Coast Sea View\n",
              "10348    Humble & Conveniently Located 1Br In Katong Area\n",
              "Name: name, dtype: object"
            ]
          },
          "metadata": {
            "tags": []
          },
          "execution_count": 42
        }
      ]
    },
    {
      "cell_type": "markdown",
      "metadata": {
        "id": "epifZidt6joA"
      },
      "source": [
        "# Metadata Based Recommender"
      ]
    },
    {
      "cell_type": "code",
      "metadata": {
        "id": "6STeM0T1pGpG"
      },
      "source": [
        "listings_new = pd.read_csv(\"/content/drive/My Drive/BT4222_Project/final_datasets/listings_final_version2.csv\")"
      ],
      "execution_count": 43,
      "outputs": []
    },
    {
      "cell_type": "code",
      "metadata": {
        "id": "P6Ksi9sY9GPa"
      },
      "source": [
        "df_mbr = listings_new.copy()"
      ],
      "execution_count": 44,
      "outputs": []
    },
    {
      "cell_type": "code",
      "metadata": {
        "id": "9rW9uCDtnusN"
      },
      "source": [
        "listings_with_name=pd.read_csv(\"/content/drive/My Drive/BT4222_Project/datasets/listings_cleaned.csv\", low_memory=False)\n",
        "name_dict = {}\n",
        "for index, listing in listings_with_name.iterrows():\n",
        "  name_dict[listing['id']] = str(listing['name']).title()"
      ],
      "execution_count": 45,
      "outputs": []
    },
    {
      "cell_type": "code",
      "metadata": {
        "id": "eubWK9w7r2mo"
      },
      "source": [
        "df_mbr['name'] = df_mbr['id'].apply(lambda x: name_dict[x])"
      ],
      "execution_count": 46,
      "outputs": []
    },
    {
      "cell_type": "code",
      "metadata": {
        "colab": {
          "base_uri": "https://localhost:8080/",
          "height": 202
        },
        "id": "4Rs754Pu9Zvm",
        "outputId": "57da4750-203d-4c64-b0b9-537ac934aa08"
      },
      "source": [
        "df_mbr.head(1)"
      ],
      "execution_count": 47,
      "outputs": [
        {
          "output_type": "execute_result",
          "data": {
            "text/html": [
              "<div>\n",
              "<style scoped>\n",
              "    .dataframe tbody tr th:only-of-type {\n",
              "        vertical-align: middle;\n",
              "    }\n",
              "\n",
              "    .dataframe tbody tr th {\n",
              "        vertical-align: top;\n",
              "    }\n",
              "\n",
              "    .dataframe thead th {\n",
              "        text-align: right;\n",
              "    }\n",
              "</style>\n",
              "<table border=\"1\" class=\"dataframe\">\n",
              "  <thead>\n",
              "    <tr style=\"text-align: right;\">\n",
              "      <th></th>\n",
              "      <th>id</th>\n",
              "      <th>description</th>\n",
              "      <th>host_since</th>\n",
              "      <th>host_about</th>\n",
              "      <th>host_is_superhost</th>\n",
              "      <th>host_verifications</th>\n",
              "      <th>latitude</th>\n",
              "      <th>longitude</th>\n",
              "      <th>accommodates</th>\n",
              "      <th>bathrooms</th>\n",
              "      <th>bedrooms</th>\n",
              "      <th>beds</th>\n",
              "      <th>amenities</th>\n",
              "      <th>price</th>\n",
              "      <th>minimum_nights</th>\n",
              "      <th>maximum_nights</th>\n",
              "      <th>maximum_nights_avg_ntm</th>\n",
              "      <th>number_of_reviews_ltm</th>\n",
              "      <th>instant_bookable</th>\n",
              "      <th>calculated_host_listings_count</th>\n",
              "      <th>nearby_sites_rating</th>\n",
              "      <th>nearest_station_dist</th>\n",
              "      <th>nearest_site_dist</th>\n",
              "      <th>nearest_site_rating</th>\n",
              "      <th>host_response_time_cross_rate</th>\n",
              "      <th>x0_Central Region</th>\n",
              "      <th>x0_East Region</th>\n",
              "      <th>x0_North Region</th>\n",
              "      <th>x0_North-East Region</th>\n",
              "      <th>x0_West Region</th>\n",
              "      <th>x0_apartment</th>\n",
              "      <th>x0_bed and breakfast</th>\n",
              "      <th>x0_boat</th>\n",
              "      <th>x0_boutique hotel</th>\n",
              "      <th>x0_bungalow</th>\n",
              "      <th>x0_condominium</th>\n",
              "      <th>x0_guest suite</th>\n",
              "      <th>x0_hostel</th>\n",
              "      <th>x0_hotel</th>\n",
              "      <th>x0_house</th>\n",
              "      <th>x0_loft</th>\n",
              "      <th>x0_other</th>\n",
              "      <th>x0_townhouse</th>\n",
              "      <th>x0_Entire home/apt</th>\n",
              "      <th>x0_Hotel room</th>\n",
              "      <th>x0_Private room</th>\n",
              "      <th>x0_Shared room</th>\n",
              "      <th>amenities_list</th>\n",
              "      <th>Wifi</th>\n",
              "      <th>Air conditioning</th>\n",
              "      <th>Kitchen</th>\n",
              "      <th>Parking</th>\n",
              "      <th>Outdoor</th>\n",
              "      <th>Kids</th>\n",
              "      <th>Pets allowed</th>\n",
              "      <th>Workspace</th>\n",
              "      <th>Gym</th>\n",
              "      <th>Breakfast</th>\n",
              "      <th>availability_average</th>\n",
              "      <th>name</th>\n",
              "    </tr>\n",
              "  </thead>\n",
              "  <tbody>\n",
              "    <tr>\n",
              "      <th>0</th>\n",
              "      <td>1101652</td>\n",
              "      <td>Explore one of Singapore's best kept heritage ...</td>\n",
              "      <td>2012-11-15</td>\n",
              "      <td>Hey!\\r\\n\\r\\nWelcome to my cozy apartment . I f...</td>\n",
              "      <td>0</td>\n",
              "      <td>['email', 'phone', 'reviews']</td>\n",
              "      <td>1.29737</td>\n",
              "      <td>103.90068</td>\n",
              "      <td>4</td>\n",
              "      <td>1.0</td>\n",
              "      <td>1.0</td>\n",
              "      <td>1.0</td>\n",
              "      <td>{TV,\"Cable TV\",Wifi,\"Air conditioning\",\"Wheelc...</td>\n",
              "      <td>200.0</td>\n",
              "      <td>5</td>\n",
              "      <td>800</td>\n",
              "      <td>800.0</td>\n",
              "      <td>0</td>\n",
              "      <td>0</td>\n",
              "      <td>1</td>\n",
              "      <td>1.135049</td>\n",
              "      <td>1.81344</td>\n",
              "      <td>3.174312</td>\n",
              "      <td>4.5</td>\n",
              "      <td>2.0</td>\n",
              "      <td>1.0</td>\n",
              "      <td>0.0</td>\n",
              "      <td>0.0</td>\n",
              "      <td>0.0</td>\n",
              "      <td>0.0</td>\n",
              "      <td>1.0</td>\n",
              "      <td>0.0</td>\n",
              "      <td>0.0</td>\n",
              "      <td>0.0</td>\n",
              "      <td>0.0</td>\n",
              "      <td>0.0</td>\n",
              "      <td>0.0</td>\n",
              "      <td>0.0</td>\n",
              "      <td>0.0</td>\n",
              "      <td>0.0</td>\n",
              "      <td>0.0</td>\n",
              "      <td>0.0</td>\n",
              "      <td>0.0</td>\n",
              "      <td>1.0</td>\n",
              "      <td>0.0</td>\n",
              "      <td>0.0</td>\n",
              "      <td>0.0</td>\n",
              "      <td>['TV', 'Cable TV', 'Wifi', 'Air conditioning',...</td>\n",
              "      <td>1</td>\n",
              "      <td>1</td>\n",
              "      <td>1</td>\n",
              "      <td>1</td>\n",
              "      <td>0</td>\n",
              "      <td>0</td>\n",
              "      <td>0</td>\n",
              "      <td>0</td>\n",
              "      <td>0</td>\n",
              "      <td>0</td>\n",
              "      <td>0.776522</td>\n",
              "      <td>Cozy Place In Singapore</td>\n",
              "    </tr>\n",
              "  </tbody>\n",
              "</table>\n",
              "</div>"
            ],
            "text/plain": [
              "        id  ...                     name\n",
              "0  1101652  ...  Cozy Place In Singapore\n",
              "\n",
              "[1 rows x 60 columns]"
            ]
          },
          "metadata": {
            "tags": []
          },
          "execution_count": 47
        }
      ]
    },
    {
      "cell_type": "code",
      "metadata": {
        "id": "18-OUJgwCB0W"
      },
      "source": [
        "from ast import literal_eval\n",
        "\n",
        "df_mbr['amenities_list'] = df_mbr.amenities_list.apply(literal_eval)"
      ],
      "execution_count": 48,
      "outputs": []
    },
    {
      "cell_type": "code",
      "metadata": {
        "id": "wINyeAdmr59A"
      },
      "source": [
        "def sanitize(x):\n",
        "    if isinstance(x, list):\n",
        "        return [str.lower(i.replace(\" \", \"\")) for i in x]\n",
        "    else:\n",
        "        if isinstance(x, str):\n",
        "            return str.lower(x.replace(\" \", \"\"))\n",
        "        else:\n",
        "            return ''"
      ],
      "execution_count": 49,
      "outputs": []
    },
    {
      "cell_type": "code",
      "metadata": {
        "id": "YFM7f2AAsI92"
      },
      "source": [
        "for feature in ['host_verifications', 'amenities_list']:\n",
        "    df_mbr[feature] = df_mbr[feature].apply(sanitize)"
      ],
      "execution_count": 50,
      "outputs": []
    },
    {
      "cell_type": "code",
      "metadata": {
        "colab": {
          "base_uri": "https://localhost:8080/",
          "height": 202
        },
        "id": "Qjzd8Dk0sWaS",
        "outputId": "cd0df91c-0ef3-43bd-9f07-7b8c414049c6"
      },
      "source": [
        "df_mbr.head(1)"
      ],
      "execution_count": 51,
      "outputs": [
        {
          "output_type": "execute_result",
          "data": {
            "text/html": [
              "<div>\n",
              "<style scoped>\n",
              "    .dataframe tbody tr th:only-of-type {\n",
              "        vertical-align: middle;\n",
              "    }\n",
              "\n",
              "    .dataframe tbody tr th {\n",
              "        vertical-align: top;\n",
              "    }\n",
              "\n",
              "    .dataframe thead th {\n",
              "        text-align: right;\n",
              "    }\n",
              "</style>\n",
              "<table border=\"1\" class=\"dataframe\">\n",
              "  <thead>\n",
              "    <tr style=\"text-align: right;\">\n",
              "      <th></th>\n",
              "      <th>id</th>\n",
              "      <th>description</th>\n",
              "      <th>host_since</th>\n",
              "      <th>host_about</th>\n",
              "      <th>host_is_superhost</th>\n",
              "      <th>host_verifications</th>\n",
              "      <th>latitude</th>\n",
              "      <th>longitude</th>\n",
              "      <th>accommodates</th>\n",
              "      <th>bathrooms</th>\n",
              "      <th>bedrooms</th>\n",
              "      <th>beds</th>\n",
              "      <th>amenities</th>\n",
              "      <th>price</th>\n",
              "      <th>minimum_nights</th>\n",
              "      <th>maximum_nights</th>\n",
              "      <th>maximum_nights_avg_ntm</th>\n",
              "      <th>number_of_reviews_ltm</th>\n",
              "      <th>instant_bookable</th>\n",
              "      <th>calculated_host_listings_count</th>\n",
              "      <th>nearby_sites_rating</th>\n",
              "      <th>nearest_station_dist</th>\n",
              "      <th>nearest_site_dist</th>\n",
              "      <th>nearest_site_rating</th>\n",
              "      <th>host_response_time_cross_rate</th>\n",
              "      <th>x0_Central Region</th>\n",
              "      <th>x0_East Region</th>\n",
              "      <th>x0_North Region</th>\n",
              "      <th>x0_North-East Region</th>\n",
              "      <th>x0_West Region</th>\n",
              "      <th>x0_apartment</th>\n",
              "      <th>x0_bed and breakfast</th>\n",
              "      <th>x0_boat</th>\n",
              "      <th>x0_boutique hotel</th>\n",
              "      <th>x0_bungalow</th>\n",
              "      <th>x0_condominium</th>\n",
              "      <th>x0_guest suite</th>\n",
              "      <th>x0_hostel</th>\n",
              "      <th>x0_hotel</th>\n",
              "      <th>x0_house</th>\n",
              "      <th>x0_loft</th>\n",
              "      <th>x0_other</th>\n",
              "      <th>x0_townhouse</th>\n",
              "      <th>x0_Entire home/apt</th>\n",
              "      <th>x0_Hotel room</th>\n",
              "      <th>x0_Private room</th>\n",
              "      <th>x0_Shared room</th>\n",
              "      <th>amenities_list</th>\n",
              "      <th>Wifi</th>\n",
              "      <th>Air conditioning</th>\n",
              "      <th>Kitchen</th>\n",
              "      <th>Parking</th>\n",
              "      <th>Outdoor</th>\n",
              "      <th>Kids</th>\n",
              "      <th>Pets allowed</th>\n",
              "      <th>Workspace</th>\n",
              "      <th>Gym</th>\n",
              "      <th>Breakfast</th>\n",
              "      <th>availability_average</th>\n",
              "      <th>name</th>\n",
              "    </tr>\n",
              "  </thead>\n",
              "  <tbody>\n",
              "    <tr>\n",
              "      <th>0</th>\n",
              "      <td>1101652</td>\n",
              "      <td>Explore one of Singapore's best kept heritage ...</td>\n",
              "      <td>2012-11-15</td>\n",
              "      <td>Hey!\\r\\n\\r\\nWelcome to my cozy apartment . I f...</td>\n",
              "      <td>0</td>\n",
              "      <td>['email','phone','reviews']</td>\n",
              "      <td>1.29737</td>\n",
              "      <td>103.90068</td>\n",
              "      <td>4</td>\n",
              "      <td>1.0</td>\n",
              "      <td>1.0</td>\n",
              "      <td>1.0</td>\n",
              "      <td>{TV,\"Cable TV\",Wifi,\"Air conditioning\",\"Wheelc...</td>\n",
              "      <td>200.0</td>\n",
              "      <td>5</td>\n",
              "      <td>800</td>\n",
              "      <td>800.0</td>\n",
              "      <td>0</td>\n",
              "      <td>0</td>\n",
              "      <td>1</td>\n",
              "      <td>1.135049</td>\n",
              "      <td>1.81344</td>\n",
              "      <td>3.174312</td>\n",
              "      <td>4.5</td>\n",
              "      <td>2.0</td>\n",
              "      <td>1.0</td>\n",
              "      <td>0.0</td>\n",
              "      <td>0.0</td>\n",
              "      <td>0.0</td>\n",
              "      <td>0.0</td>\n",
              "      <td>1.0</td>\n",
              "      <td>0.0</td>\n",
              "      <td>0.0</td>\n",
              "      <td>0.0</td>\n",
              "      <td>0.0</td>\n",
              "      <td>0.0</td>\n",
              "      <td>0.0</td>\n",
              "      <td>0.0</td>\n",
              "      <td>0.0</td>\n",
              "      <td>0.0</td>\n",
              "      <td>0.0</td>\n",
              "      <td>0.0</td>\n",
              "      <td>0.0</td>\n",
              "      <td>1.0</td>\n",
              "      <td>0.0</td>\n",
              "      <td>0.0</td>\n",
              "      <td>0.0</td>\n",
              "      <td>[tv, cabletv, wifi, airconditioning, wheelchai...</td>\n",
              "      <td>1</td>\n",
              "      <td>1</td>\n",
              "      <td>1</td>\n",
              "      <td>1</td>\n",
              "      <td>0</td>\n",
              "      <td>0</td>\n",
              "      <td>0</td>\n",
              "      <td>0</td>\n",
              "      <td>0</td>\n",
              "      <td>0</td>\n",
              "      <td>0.776522</td>\n",
              "      <td>Cozy Place In Singapore</td>\n",
              "    </tr>\n",
              "  </tbody>\n",
              "</table>\n",
              "</div>"
            ],
            "text/plain": [
              "        id  ...                     name\n",
              "0  1101652  ...  Cozy Place In Singapore\n",
              "\n",
              "[1 rows x 60 columns]"
            ]
          },
          "metadata": {
            "tags": []
          },
          "execution_count": 51
        }
      ]
    },
    {
      "cell_type": "code",
      "metadata": {
        "id": "VlPW_i0Nsc82"
      },
      "source": [
        "def create_soup(x):\n",
        "    return x['description'] + ' ' + str(x['host_about']) + ' '+ ' '.join(x['host_verifications']) + ' ' + ' '.join(x['amenities_list'])"
      ],
      "execution_count": 52,
      "outputs": []
    },
    {
      "cell_type": "code",
      "metadata": {
        "id": "_x33Smrfsn5Y"
      },
      "source": [
        "df_mbr['soup'] = df_mbr.apply(create_soup, axis=1)"
      ],
      "execution_count": 53,
      "outputs": []
    },
    {
      "cell_type": "code",
      "metadata": {
        "colab": {
          "base_uri": "https://localhost:8080/",
          "height": 158
        },
        "id": "9c4AxYcosvMf",
        "outputId": "7f00dc5e-c671-4234-cf0e-7d64f44b923e"
      },
      "source": [
        "df_mbr.iloc[0]['soup']"
      ],
      "execution_count": 54,
      "outputs": [
        {
          "output_type": "execute_result",
          "data": {
            "application/vnd.google.colaboratory.intrinsic+json": {
              "type": "string"
            },
            "text/plain": [
              "\"Explore one of Singapore's best kept heritage in the East, just steps outside this cosy 1-bedroom condo. Surpisingly quiet despite being so near to the delights of Katong with its myriad of shops and endless eateries! Explore one of Singapore's best kept heritage in the East, just steps outside this cosy 1-bedroom condo. Surpisingly quiet despite being so near to the delights of Katong with its myriad of shops and endless eateries!  Simple, cool layout and in tip top condition. Featuring a fully furnished applianced kitchen, dryer, washer and a modern bath with a rain-shower feature to destress. The Queen sized bed comfortably fits two people with additional sofa bed tucked in the living room. A small pool with jacuzzi for relaxation is available too. What is better? A good sized balcony to laze your day away drenching in the tropical sunshine!  It's a great spot to call home during your visit to Singapore! The condo is also a short walk to Parkway Parade Mall, I12Katong Mall, Katong V Hey!\\r\\n\\r\\nWelcome to my cozy apartment . I first tried airbnb in last nov and love it. During travel, i like to experience the local local experience and by staying in a place where the local stay, i believe i will be able to learn more about them.\\r\\n\\r\\nTake a look at my apartment and even if you are not renting the apartment, feel free to ask me anything about Singapore and i will try my best to assist\\r\\n\\r\\nCheers!\\r\\n\\r\\nJuan\\r\\n \\r\\n\\r\\n\\r\\n [ ' e m a i l ' , ' p h o n e ' , ' r e v i e w s ' ] tv cabletv wifi airconditioning wheelchairaccessible pool kitchen freeparkingonpremises elevator heating family/kidfriendly washer dryer essentials shampoo iron\""
            ]
          },
          "metadata": {
            "tags": []
          },
          "execution_count": 54
        }
      ]
    },
    {
      "cell_type": "code",
      "metadata": {
        "id": "QQ_jHj5guPhN"
      },
      "source": [
        "from sklearn.feature_extraction.text import CountVectorizer\n",
        "\n",
        "count = CountVectorizer(stop_words='english')\n",
        "count_matrix = count.fit_transform(df_mbr['soup'])\n",
        "\n",
        "from sklearn.metrics.pairwise import cosine_similarity\n",
        "\n",
        "cosine_sim2 = cosine_similarity(count_matrix, count_matrix)\n",
        "\n",
        "df_mbr = df_mbr.reset_index()\n",
        "indices2 = pd.Series(df_mbr.index, index=df_mbr['name'])"
      ],
      "execution_count": 55,
      "outputs": []
    },
    {
      "cell_type": "code",
      "metadata": {
        "id": "uOEKMs7RvOZj"
      },
      "source": [
        "def content_recommender(name, cosine_sim, df, indices):\n",
        "    idx = indices[name]\n",
        "\n",
        "    # Get the pairwsie similarity scores of all listings with that listing\n",
        "    # And convert it into a list of tuples as described above\n",
        "    sim_scores = list(enumerate(cosine_sim[idx]))\n",
        "\n",
        "    # Sort the listings based on the cosine similarity scores\n",
        "    sim_scores = sorted(sim_scores, key=lambda x: x[1], reverse=True)\n",
        "\n",
        "    # Get the scores of the 10 most similar listings. Ignore the first one.\n",
        "    sim_scores = sim_scores[1:11]\n",
        "\n",
        "    # Get the listing indices\n",
        "    listings_indices = [i[0] for i in sim_scores]\n",
        "\n",
        "    df_new = pd.DataFrame(df['name'].iloc[listings_indices])\n",
        "    df_new = df_new.assign(scores = list(map(lambda x: x[1], sim_scores)))\n",
        "\n",
        "    # Return the top 10 most similar listings\n",
        "    return df_new"
      ],
      "execution_count": 56,
      "outputs": []
    },
    {
      "cell_type": "code",
      "metadata": {
        "colab": {
          "base_uri": "https://localhost:8080/",
          "height": 359
        },
        "id": "GXAJRZ6IuggP",
        "outputId": "c860c2e2-c111-424a-8bc5-97cbffb3fc93"
      },
      "source": [
        "content_recommender(\"Cozy Place In Singapore\", cosine_sim2, df_mbr, indices2)"
      ],
      "execution_count": 57,
      "outputs": [
        {
          "output_type": "execute_result",
          "data": {
            "text/html": [
              "<div>\n",
              "<style scoped>\n",
              "    .dataframe tbody tr th:only-of-type {\n",
              "        vertical-align: middle;\n",
              "    }\n",
              "\n",
              "    .dataframe tbody tr th {\n",
              "        vertical-align: top;\n",
              "    }\n",
              "\n",
              "    .dataframe thead th {\n",
              "        text-align: right;\n",
              "    }\n",
              "</style>\n",
              "<table border=\"1\" class=\"dataframe\">\n",
              "  <thead>\n",
              "    <tr style=\"text-align: right;\">\n",
              "      <th></th>\n",
              "      <th>name</th>\n",
              "      <th>scores</th>\n",
              "    </tr>\n",
              "  </thead>\n",
              "  <tbody>\n",
              "    <tr>\n",
              "      <th>507</th>\n",
              "      <td>1 Br W/ Prvt. Bathroom Available In Heart Of Cbd!</td>\n",
              "      <td>0.410496</td>\n",
              "    </tr>\n",
              "    <tr>\n",
              "      <th>3610</th>\n",
              "      <td>Comfy Room @Jurongeast</td>\n",
              "      <td>0.402591</td>\n",
              "    </tr>\n",
              "    <tr>\n",
              "      <th>2269</th>\n",
              "      <td>Mins To Cbd, 2 Br Apartment</td>\n",
              "      <td>0.402432</td>\n",
              "    </tr>\n",
              "    <tr>\n",
              "      <th>3382</th>\n",
              "      <td>Huge 2Bdrm &gt;5Mins To Paya Lebar Mrt</td>\n",
              "      <td>0.401115</td>\n",
              "    </tr>\n",
              "    <tr>\n",
              "      <th>3775</th>\n",
              "      <td>Discount Bright Homey 2Br Near City Peranakanarea</td>\n",
              "      <td>0.393228</td>\n",
              "    </tr>\n",
              "    <tr>\n",
              "      <th>4307</th>\n",
              "      <td>Discount Bright Quiet 2Br Big Balcony Near City</td>\n",
              "      <td>0.372484</td>\n",
              "    </tr>\n",
              "    <tr>\n",
              "      <th>2918</th>\n",
              "      <td>Raffles Place Sea View 1Br Condo</td>\n",
              "      <td>0.369175</td>\n",
              "    </tr>\n",
              "    <tr>\n",
              "      <th>7476</th>\n",
              "      <td>Central 2Br Apt In Chinatown Above Mrt (#69)</td>\n",
              "      <td>0.368142</td>\n",
              "    </tr>\n",
              "    <tr>\n",
              "      <th>6262</th>\n",
              "      <td>1Br Suite In Chinatown/Cbd Above Mrt (#65)</td>\n",
              "      <td>0.366119</td>\n",
              "    </tr>\n",
              "    <tr>\n",
              "      <th>7520</th>\n",
              "      <td>Spacious 1+Study Above Mrt Station, (P-3)</td>\n",
              "      <td>0.365869</td>\n",
              "    </tr>\n",
              "  </tbody>\n",
              "</table>\n",
              "</div>"
            ],
            "text/plain": [
              "                                                   name    scores\n",
              "507   1 Br W/ Prvt. Bathroom Available In Heart Of Cbd!  0.410496\n",
              "3610                             Comfy Room @Jurongeast  0.402591\n",
              "2269                        Mins To Cbd, 2 Br Apartment  0.402432\n",
              "3382                Huge 2Bdrm >5Mins To Paya Lebar Mrt  0.401115\n",
              "3775  Discount Bright Homey 2Br Near City Peranakanarea  0.393228\n",
              "4307    Discount Bright Quiet 2Br Big Balcony Near City  0.372484\n",
              "2918                   Raffles Place Sea View 1Br Condo  0.369175\n",
              "7476       Central 2Br Apt In Chinatown Above Mrt (#69)  0.368142\n",
              "6262         1Br Suite In Chinatown/Cbd Above Mrt (#65)  0.366119\n",
              "7520          Spacious 1+Study Above Mrt Station, (P-3)  0.365869"
            ]
          },
          "metadata": {
            "tags": []
          },
          "execution_count": 57
        }
      ]
    },
    {
      "cell_type": "code",
      "metadata": {
        "id": "M5F1Xe5G3cij"
      },
      "source": [
        "def recommend(name):\n",
        "  return content_recommender(name, cosine_sim, df_cbr, indices)"
      ],
      "execution_count": 58,
      "outputs": []
    },
    {
      "cell_type": "code",
      "metadata": {
        "colab": {
          "base_uri": "https://localhost:8080/",
          "height": 359
        },
        "id": "tO0M7-N73mDk",
        "outputId": "b9238e0b-8ec9-4597-d5d1-b157dc88b609"
      },
      "source": [
        "recommend(\"Cozy Place In Singapore\")"
      ],
      "execution_count": 59,
      "outputs": [
        {
          "output_type": "execute_result",
          "data": {
            "text/html": [
              "<div>\n",
              "<style scoped>\n",
              "    .dataframe tbody tr th:only-of-type {\n",
              "        vertical-align: middle;\n",
              "    }\n",
              "\n",
              "    .dataframe tbody tr th {\n",
              "        vertical-align: top;\n",
              "    }\n",
              "\n",
              "    .dataframe thead th {\n",
              "        text-align: right;\n",
              "    }\n",
              "</style>\n",
              "<table border=\"1\" class=\"dataframe\">\n",
              "  <thead>\n",
              "    <tr style=\"text-align: right;\">\n",
              "      <th></th>\n",
              "      <th>name</th>\n",
              "      <th>scores</th>\n",
              "    </tr>\n",
              "  </thead>\n",
              "  <tbody>\n",
              "    <tr>\n",
              "      <th>7570</th>\n",
              "      <td>2Br 2Bath In Katong Near F&amp;B (Min 3 Mths)</td>\n",
              "      <td>0.200835</td>\n",
              "    </tr>\n",
              "    <tr>\n",
              "      <th>2308</th>\n",
              "      <td>Near To Central With Free Parking</td>\n",
              "      <td>0.194561</td>\n",
              "    </tr>\n",
              "    <tr>\n",
              "      <th>3024</th>\n",
              "      <td>Modern 2Br Apt In Katong, Free Parking, Near F&amp;B</td>\n",
              "      <td>0.175625</td>\n",
              "    </tr>\n",
              "    <tr>\n",
              "      <th>3836</th>\n",
              "      <td>Humble &amp; Conveniently Located 1Br In Katong Area</td>\n",
              "      <td>0.172282</td>\n",
              "    </tr>\n",
              "    <tr>\n",
              "      <th>6257</th>\n",
              "      <td>Humble &amp; Conveniently Located 1Br In Katong Area</td>\n",
              "      <td>0.172282</td>\n",
              "    </tr>\n",
              "    <tr>\n",
              "      <th>2049</th>\n",
              "      <td>East Coast Haven</td>\n",
              "      <td>0.169960</td>\n",
              "    </tr>\n",
              "    <tr>\n",
              "      <th>6336</th>\n",
              "      <td>Humble &amp; Conveniently Located 1Br In Katong Area</td>\n",
              "      <td>0.169191</td>\n",
              "    </tr>\n",
              "    <tr>\n",
              "      <th>12220</th>\n",
              "      <td>Kampong Living Cosy Room At Coliving Space</td>\n",
              "      <td>0.168525</td>\n",
              "    </tr>\n",
              "    <tr>\n",
              "      <th>4369</th>\n",
              "      <td>Spacious 3Br Home With East Coast Sea View</td>\n",
              "      <td>0.167057</td>\n",
              "    </tr>\n",
              "    <tr>\n",
              "      <th>10348</th>\n",
              "      <td>Humble &amp; Conveniently Located 1Br In Katong Area</td>\n",
              "      <td>0.165239</td>\n",
              "    </tr>\n",
              "  </tbody>\n",
              "</table>\n",
              "</div>"
            ],
            "text/plain": [
              "                                                   name    scores\n",
              "7570          2Br 2Bath In Katong Near F&B (Min 3 Mths)  0.200835\n",
              "2308                  Near To Central With Free Parking  0.194561\n",
              "3024   Modern 2Br Apt In Katong, Free Parking, Near F&B  0.175625\n",
              "3836   Humble & Conveniently Located 1Br In Katong Area  0.172282\n",
              "6257   Humble & Conveniently Located 1Br In Katong Area  0.172282\n",
              "2049                                   East Coast Haven  0.169960\n",
              "6336   Humble & Conveniently Located 1Br In Katong Area  0.169191\n",
              "12220        Kampong Living Cosy Room At Coliving Space  0.168525\n",
              "4369         Spacious 3Br Home With East Coast Sea View  0.167057\n",
              "10348  Humble & Conveniently Located 1Br In Katong Area  0.165239"
            ]
          },
          "metadata": {
            "tags": []
          },
          "execution_count": 59
        }
      ]
    },
    {
      "cell_type": "code",
      "metadata": {
        "colab": {
          "base_uri": "https://localhost:8080/",
          "height": 359
        },
        "id": "AKWzMeKvu09I",
        "outputId": "0e2b60f2-6462-4ace-b3b0-c98d1bd85eab"
      },
      "source": [
        "content_recommender(\"Cozy Place In Singapore\", cosine_sim, df_cbr, indices)"
      ],
      "execution_count": 60,
      "outputs": [
        {
          "output_type": "execute_result",
          "data": {
            "text/html": [
              "<div>\n",
              "<style scoped>\n",
              "    .dataframe tbody tr th:only-of-type {\n",
              "        vertical-align: middle;\n",
              "    }\n",
              "\n",
              "    .dataframe tbody tr th {\n",
              "        vertical-align: top;\n",
              "    }\n",
              "\n",
              "    .dataframe thead th {\n",
              "        text-align: right;\n",
              "    }\n",
              "</style>\n",
              "<table border=\"1\" class=\"dataframe\">\n",
              "  <thead>\n",
              "    <tr style=\"text-align: right;\">\n",
              "      <th></th>\n",
              "      <th>name</th>\n",
              "      <th>scores</th>\n",
              "    </tr>\n",
              "  </thead>\n",
              "  <tbody>\n",
              "    <tr>\n",
              "      <th>7570</th>\n",
              "      <td>2Br 2Bath In Katong Near F&amp;B (Min 3 Mths)</td>\n",
              "      <td>0.200835</td>\n",
              "    </tr>\n",
              "    <tr>\n",
              "      <th>2308</th>\n",
              "      <td>Near To Central With Free Parking</td>\n",
              "      <td>0.194561</td>\n",
              "    </tr>\n",
              "    <tr>\n",
              "      <th>3024</th>\n",
              "      <td>Modern 2Br Apt In Katong, Free Parking, Near F&amp;B</td>\n",
              "      <td>0.175625</td>\n",
              "    </tr>\n",
              "    <tr>\n",
              "      <th>3836</th>\n",
              "      <td>Humble &amp; Conveniently Located 1Br In Katong Area</td>\n",
              "      <td>0.172282</td>\n",
              "    </tr>\n",
              "    <tr>\n",
              "      <th>6257</th>\n",
              "      <td>Humble &amp; Conveniently Located 1Br In Katong Area</td>\n",
              "      <td>0.172282</td>\n",
              "    </tr>\n",
              "    <tr>\n",
              "      <th>2049</th>\n",
              "      <td>East Coast Haven</td>\n",
              "      <td>0.169960</td>\n",
              "    </tr>\n",
              "    <tr>\n",
              "      <th>6336</th>\n",
              "      <td>Humble &amp; Conveniently Located 1Br In Katong Area</td>\n",
              "      <td>0.169191</td>\n",
              "    </tr>\n",
              "    <tr>\n",
              "      <th>12220</th>\n",
              "      <td>Kampong Living Cosy Room At Coliving Space</td>\n",
              "      <td>0.168525</td>\n",
              "    </tr>\n",
              "    <tr>\n",
              "      <th>4369</th>\n",
              "      <td>Spacious 3Br Home With East Coast Sea View</td>\n",
              "      <td>0.167057</td>\n",
              "    </tr>\n",
              "    <tr>\n",
              "      <th>10348</th>\n",
              "      <td>Humble &amp; Conveniently Located 1Br In Katong Area</td>\n",
              "      <td>0.165239</td>\n",
              "    </tr>\n",
              "  </tbody>\n",
              "</table>\n",
              "</div>"
            ],
            "text/plain": [
              "                                                   name    scores\n",
              "7570          2Br 2Bath In Katong Near F&B (Min 3 Mths)  0.200835\n",
              "2308                  Near To Central With Free Parking  0.194561\n",
              "3024   Modern 2Br Apt In Katong, Free Parking, Near F&B  0.175625\n",
              "3836   Humble & Conveniently Located 1Br In Katong Area  0.172282\n",
              "6257   Humble & Conveniently Located 1Br In Katong Area  0.172282\n",
              "2049                                   East Coast Haven  0.169960\n",
              "6336   Humble & Conveniently Located 1Br In Katong Area  0.169191\n",
              "12220        Kampong Living Cosy Room At Coliving Space  0.168525\n",
              "4369         Spacious 3Br Home With East Coast Sea View  0.167057\n",
              "10348  Humble & Conveniently Located 1Br In Katong Area  0.165239"
            ]
          },
          "metadata": {
            "tags": []
          },
          "execution_count": 60
        }
      ]
    },
    {
      "cell_type": "markdown",
      "metadata": {
        "id": "4D7W99MiO0gQ"
      },
      "source": [
        "# Collaborative Filtering Recommendation"
      ]
    },
    {
      "cell_type": "code",
      "metadata": {
        "colab": {
          "base_uri": "https://localhost:8080/"
        },
        "id": "X8P1LFdrW9RM",
        "outputId": "a5136369-5808-4cf5-a806-eece054bb1fd"
      },
      "source": [
        "!pip install surprise"
      ],
      "execution_count": 61,
      "outputs": [
        {
          "output_type": "stream",
          "text": [
            "Collecting surprise\n",
            "  Downloading https://files.pythonhosted.org/packages/61/de/e5cba8682201fcf9c3719a6fdda95693468ed061945493dea2dd37c5618b/surprise-0.1-py2.py3-none-any.whl\n",
            "Collecting scikit-surprise\n",
            "\u001b[?25l  Downloading https://files.pythonhosted.org/packages/97/37/5d334adaf5ddd65da99fc65f6507e0e4599d092ba048f4302fe8775619e8/scikit-surprise-1.1.1.tar.gz (11.8MB)\n",
            "\u001b[K     |████████████████████████████████| 11.8MB 323kB/s \n",
            "\u001b[?25hRequirement already satisfied: joblib>=0.11 in /usr/local/lib/python3.7/dist-packages (from scikit-surprise->surprise) (1.0.1)\n",
            "Requirement already satisfied: numpy>=1.11.2 in /usr/local/lib/python3.7/dist-packages (from scikit-surprise->surprise) (1.19.5)\n",
            "Requirement already satisfied: scipy>=1.0.0 in /usr/local/lib/python3.7/dist-packages (from scikit-surprise->surprise) (1.4.1)\n",
            "Requirement already satisfied: six>=1.10.0 in /usr/local/lib/python3.7/dist-packages (from scikit-surprise->surprise) (1.15.0)\n",
            "Building wheels for collected packages: scikit-surprise\n",
            "  Building wheel for scikit-surprise (setup.py) ... \u001b[?25l\u001b[?25hdone\n",
            "  Created wheel for scikit-surprise: filename=scikit_surprise-1.1.1-cp37-cp37m-linux_x86_64.whl size=1617608 sha256=51103fe3d12d69586494c433d7468040ee69accece0804eaf5e39651b2d875dc\n",
            "  Stored in directory: /root/.cache/pip/wheels/78/9c/3d/41b419c9d2aff5b6e2b4c0fc8d25c538202834058f9ed110d0\n",
            "Successfully built scikit-surprise\n",
            "Installing collected packages: scikit-surprise, surprise\n",
            "Successfully installed scikit-surprise-1.1.1 surprise-0.1\n"
          ],
          "name": "stdout"
        }
      ]
    },
    {
      "cell_type": "code",
      "metadata": {
        "id": "MU7tJ4bDW8hJ"
      },
      "source": [
        "from surprise import SVD, Reader, Dataset\n",
        "from surprise.model_selection import KFold"
      ],
      "execution_count": 101,
      "outputs": []
    },
    {
      "cell_type": "code",
      "metadata": {
        "id": "5AqiW8hvO73L"
      },
      "source": [
        "df_cfr = customers.copy()"
      ],
      "execution_count": 102,
      "outputs": []
    },
    {
      "cell_type": "code",
      "metadata": {
        "id": "eUYkus7mhSU9"
      },
      "source": [
        "counts = df_cfr['listing_id'].value_counts()\n",
        "df_cfr = df_cfr[df_cfr['listing_id'].isin(counts[counts >= 10].index)]"
      ],
      "execution_count": 103,
      "outputs": []
    },
    {
      "cell_type": "code",
      "metadata": {
        "id": "J93LSZWVhcQE"
      },
      "source": [
        "counts1 = df_cfr['reviewer_id'].value_counts()\n",
        "df_cfr = df_cfr[df_cfr['reviewer_id'].isin(counts1[counts1 > 2].index)]"
      ],
      "execution_count": 104,
      "outputs": []
    },
    {
      "cell_type": "code",
      "metadata": {
        "colab": {
          "base_uri": "https://localhost:8080/"
        },
        "id": "Vo6eVjlChsi7",
        "outputId": "e81df0f4-ceff-482e-a1d7-a4cc06738ee4"
      },
      "source": [
        "df = df_cfr[['reviewer_id','listing_id','polarity_score' ]]\n",
        "df.head()\n",
        "print(df.nunique())"
      ],
      "execution_count": 105,
      "outputs": [
        {
          "output_type": "stream",
          "text": [
            "reviewer_id       1878\n",
            "listing_id        2049\n",
            "polarity_score    1819\n",
            "dtype: int64\n"
          ],
          "name": "stdout"
        }
      ]
    },
    {
      "cell_type": "code",
      "metadata": {
        "colab": {
          "base_uri": "https://localhost:8080/",
          "height": 359
        },
        "id": "I4XwDcCO87hL",
        "outputId": "e19787ca-fd8f-42a9-c2de-eaadc0fc7458"
      },
      "source": [
        "df.head(10).reset_index().drop(\"index\", axis=1)"
      ],
      "execution_count": 106,
      "outputs": [
        {
          "output_type": "execute_result",
          "data": {
            "text/html": [
              "<div>\n",
              "<style scoped>\n",
              "    .dataframe tbody tr th:only-of-type {\n",
              "        vertical-align: middle;\n",
              "    }\n",
              "\n",
              "    .dataframe tbody tr th {\n",
              "        vertical-align: top;\n",
              "    }\n",
              "\n",
              "    .dataframe thead th {\n",
              "        text-align: right;\n",
              "    }\n",
              "</style>\n",
              "<table border=\"1\" class=\"dataframe\">\n",
              "  <thead>\n",
              "    <tr style=\"text-align: right;\">\n",
              "      <th></th>\n",
              "      <th>reviewer_id</th>\n",
              "      <th>listing_id</th>\n",
              "      <th>polarity_score</th>\n",
              "    </tr>\n",
              "  </thead>\n",
              "  <tbody>\n",
              "    <tr>\n",
              "      <th>0</th>\n",
              "      <td>17709890</td>\n",
              "      <td>50646</td>\n",
              "      <td>0.9802</td>\n",
              "    </tr>\n",
              "    <tr>\n",
              "      <th>1</th>\n",
              "      <td>4848541</td>\n",
              "      <td>71896</td>\n",
              "      <td>0.9868</td>\n",
              "    </tr>\n",
              "    <tr>\n",
              "      <th>2</th>\n",
              "      <td>1369617</td>\n",
              "      <td>241503</td>\n",
              "      <td>0.9781</td>\n",
              "    </tr>\n",
              "    <tr>\n",
              "      <th>3</th>\n",
              "      <td>1401333</td>\n",
              "      <td>241503</td>\n",
              "      <td>0.9600</td>\n",
              "    </tr>\n",
              "    <tr>\n",
              "      <th>4</th>\n",
              "      <td>2302404</td>\n",
              "      <td>241503</td>\n",
              "      <td>0.9337</td>\n",
              "    </tr>\n",
              "    <tr>\n",
              "      <th>5</th>\n",
              "      <td>2506808</td>\n",
              "      <td>241503</td>\n",
              "      <td>0.9902</td>\n",
              "    </tr>\n",
              "    <tr>\n",
              "      <th>6</th>\n",
              "      <td>5125575</td>\n",
              "      <td>241503</td>\n",
              "      <td>0.9933</td>\n",
              "    </tr>\n",
              "    <tr>\n",
              "      <th>7</th>\n",
              "      <td>2506808</td>\n",
              "      <td>241503</td>\n",
              "      <td>0.9431</td>\n",
              "    </tr>\n",
              "    <tr>\n",
              "      <th>8</th>\n",
              "      <td>7713647</td>\n",
              "      <td>241503</td>\n",
              "      <td>0.9943</td>\n",
              "    </tr>\n",
              "    <tr>\n",
              "      <th>9</th>\n",
              "      <td>13588897</td>\n",
              "      <td>241503</td>\n",
              "      <td>0.9842</td>\n",
              "    </tr>\n",
              "  </tbody>\n",
              "</table>\n",
              "</div>"
            ],
            "text/plain": [
              "   reviewer_id  listing_id  polarity_score\n",
              "0     17709890       50646          0.9802\n",
              "1      4848541       71896          0.9868\n",
              "2      1369617      241503          0.9781\n",
              "3      1401333      241503          0.9600\n",
              "4      2302404      241503          0.9337\n",
              "5      2506808      241503          0.9902\n",
              "6      5125575      241503          0.9933\n",
              "7      2506808      241503          0.9431\n",
              "8      7713647      241503          0.9943\n",
              "9     13588897      241503          0.9842"
            ]
          },
          "metadata": {
            "tags": []
          },
          "execution_count": 106
        }
      ]
    },
    {
      "cell_type": "code",
      "metadata": {
        "id": "09T8dcy7hw2Z"
      },
      "source": [
        "reader = Reader(rating_scale=(-1, 1))\n",
        "data = Dataset.load_from_df(df[['reviewer_id', 'listing_id', 'polarity_score']], reader)"
      ],
      "execution_count": 107,
      "outputs": []
    },
    {
      "cell_type": "code",
      "metadata": {
        "colab": {
          "base_uri": "https://localhost:8080/"
        },
        "id": "ct9KjwPYhzBN",
        "outputId": "778afdc7-0fcb-4ca4-850d-5297ed29d60b"
      },
      "source": [
        "raw_ratings = data.raw_ratings\n",
        "\n",
        "import random\n",
        "from surprise.model_selection import GridSearchCV\n",
        "# shuffle ratings if you want\n",
        "random.shuffle(raw_ratings)\n",
        "\n",
        "# A = 90% of the data, B = 10% of the data\n",
        "threshold = int(.9 * len(raw_ratings))\n",
        "A_raw_ratings = raw_ratings[:threshold]\n",
        "B_raw_ratings = raw_ratings[threshold:]\n",
        "\n",
        "data.raw_ratings = A_raw_ratings  # data is now the set A\n",
        "\n",
        "# Select your best algo with grid search.\n",
        "print('Grid Search...')\n",
        "\n",
        "param_grid = {'n_epochs': [5, 10], 'lr_all': [0.002, 0.005,0.1],\n",
        "              'reg_all': [0.4, 0.6], 'n_factors':[100,500]} # tuning\n",
        "grid_search = GridSearchCV(SVD, param_grid, measures=['rmse','mae'], cv=3)\n",
        "grid_search.fit(data)\n",
        "print('best RMSE score')\n",
        "print(grid_search.best_score['rmse'])"
      ],
      "execution_count": 108,
      "outputs": [
        {
          "output_type": "stream",
          "text": [
            "Grid Search...\n",
            "best RMSE score\n",
            "0.25247875822687216\n"
          ],
          "name": "stdout"
        }
      ]
    },
    {
      "cell_type": "code",
      "metadata": {
        "colab": {
          "base_uri": "https://localhost:8080/"
        },
        "id": "rI4OlhGah1GU",
        "outputId": "c06c2708-402a-4b06-b3ad-8e955cda3c45"
      },
      "source": [
        "print('combination of parameters that gave the best RMSE score')\n",
        "print(grid_search.best_params['rmse'])\n",
        "algo = grid_search.best_estimator['rmse']"
      ],
      "execution_count": 109,
      "outputs": [
        {
          "output_type": "stream",
          "text": [
            "combination of parameters that gave the best RMSE score\n",
            "{'n_epochs': 10, 'lr_all': 0.1, 'reg_all': 0.6, 'n_factors': 500}\n"
          ],
          "name": "stdout"
        }
      ]
    },
    {
      "cell_type": "code",
      "metadata": {
        "colab": {
          "base_uri": "https://localhost:8080/"
        },
        "id": "n8hKyV-_h3bq",
        "outputId": "966dd94c-90da-477b-df72-d66171984800"
      },
      "source": [
        "# retrain on the whole set A\n",
        "trainset = data.build_full_trainset()\n",
        "algo.fit(trainset)\n",
        "\n",
        "from surprise import accuracy\n",
        "# Compute biased accuracy on A\n",
        "testset= trainset.build_testset()\n",
        "predictions = algo.test(testset)\n",
        "print('Biased accuracy on A,', end='   ')\n",
        "accuracy.rmse(predictions,verbose=True)\n",
        "print('len(predictions)')\n",
        "print(len(predictions))"
      ],
      "execution_count": 110,
      "outputs": [
        {
          "output_type": "stream",
          "text": [
            "Biased accuracy on A,   RMSE: 0.1566\n",
            "len(predictions)\n",
            "6734\n"
          ],
          "name": "stdout"
        }
      ]
    },
    {
      "cell_type": "code",
      "metadata": {
        "id": "aafz4zrXEVXa"
      },
      "source": [
        "testset"
      ],
      "execution_count": null,
      "outputs": []
    },
    {
      "cell_type": "code",
      "metadata": {
        "colab": {
          "base_uri": "https://localhost:8080/"
        },
        "id": "vVOwK4qb-qTX",
        "outputId": "d4685e10-2488-410e-dd06-f2ce1b2ca082"
      },
      "source": [
        "algo.pu.shape"
      ],
      "execution_count": 71,
      "outputs": [
        {
          "output_type": "execute_result",
          "data": {
            "text/plain": [
              "(1877, 100)"
            ]
          },
          "metadata": {
            "tags": []
          },
          "execution_count": 71
        }
      ]
    },
    {
      "cell_type": "code",
      "metadata": {
        "id": "sFSkDoxCh450",
        "colab": {
          "base_uri": "https://localhost:8080/"
        },
        "outputId": "3a4edfcb-c9ad-473a-ba27-21b1e2dc4c38"
      },
      "source": [
        "# Compute unbiased accuracy on B\n",
        "testset = data.construct_testset(B_raw_ratings)  # testset is now the set B\n",
        "predictions = algo.test(testset)\n",
        "print('Unbiased accuracy on B,', end=' ')\n",
        "accuracy.rmse(predictions)\n",
        "print('len(predictions)')\n",
        "print(len(predictions))"
      ],
      "execution_count": 112,
      "outputs": [
        {
          "output_type": "stream",
          "text": [
            "Unbiased accuracy on B, RMSE: 0.2379\n",
            "len(predictions)\n",
            "749\n"
          ],
          "name": "stdout"
        }
      ]
    },
    {
      "cell_type": "code",
      "metadata": {
        "id": "eyPIozoRE1Rc"
      },
      "source": [
        "testset"
      ],
      "execution_count": null,
      "outputs": []
    },
    {
      "cell_type": "code",
      "metadata": {
        "id": "fhHcHFN5h64U",
        "colab": {
          "base_uri": "https://localhost:8080/"
        },
        "outputId": "2a4fc4cc-9c59-4f35-a850-7add319421a3"
      },
      "source": [
        "# define a cross-validation iterator\n",
        "kf = KFold(n_splits=7)\n",
        "algo = SVD(n_factors=500, n_epochs=5, lr_all=0.1)\n",
        "\n",
        "for trainset, testset in kf.split(data):\n",
        "    # train and test algorithm.\n",
        "    algo.fit(trainset)\n",
        "    \n",
        "    predictions = algo.test(testset)\n",
        "    \n",
        "    # Compute and print Root Mean Squared Error\n",
        "    accuracy.rmse(predictions, verbose=True)\n"
      ],
      "execution_count": 114,
      "outputs": [
        {
          "output_type": "stream",
          "text": [
            "RMSE: 0.3402\n",
            "RMSE: 0.2925\n",
            "RMSE: 0.3061\n",
            "RMSE: 0.2752\n",
            "RMSE: 0.2763\n",
            "RMSE: 0.2910\n",
            "RMSE: 0.2924\n"
          ],
          "name": "stdout"
        }
      ]
    },
    {
      "cell_type": "code",
      "metadata": {
        "id": "zDn3wOSyh_et",
        "colab": {
          "base_uri": "https://localhost:8080/"
        },
        "outputId": "fbdb1121-8d69-40d5-a9a5-2ba9ee2ad4f8"
      },
      "source": [
        "# retrain on the whole set A\n",
        "trainset = data.build_full_trainset()\n",
        "algo.fit(trainset)\n",
        "\n",
        "testset= trainset.build_testset() # anti?\n",
        "predictionsAll = algo.test(testset)\n",
        "print('Accuracy on whole data set,', end='   ')\n",
        "accuracy.rmse(predictionsAll,verbose=True)\n",
        "print('len(predictions)')\n",
        "print(len(predictionsAll))"
      ],
      "execution_count": 119,
      "outputs": [
        {
          "output_type": "stream",
          "text": [
            "Accuracy on whole data set,   RMSE: 0.1016\n",
            "len(predictions)\n",
            "6734\n"
          ],
          "name": "stdout"
        }
      ]
    },
    {
      "cell_type": "code",
      "metadata": {
        "id": "CbUzGcDdFKJl"
      },
      "source": [
        "testset"
      ],
      "execution_count": null,
      "outputs": []
    },
    {
      "cell_type": "code",
      "metadata": {
        "id": "_ppPXmWNiB0R",
        "colab": {
          "base_uri": "https://localhost:8080/"
        },
        "outputId": "640277b9-1dcb-4482-c426-9e802ee8e2cd"
      },
      "source": [
        "def get_top3_recommendations(predictions, topN = 3):\n",
        "     \n",
        "    top_recs = defaultdict(list)\n",
        "    for uid, iid, true_r, est, _ in predictions:\n",
        "        top_recs[uid].append((iid, est))\n",
        "     \n",
        "    for uid, user_ratings in top_recs.items():\n",
        "        user_ratings.sort(key = lambda x: x[1], reverse = True)\n",
        "        top_recs[uid] = user_ratings[:topN]    \n",
        "    return top_recs\n",
        "print('getting top 3 recommendations')"
      ],
      "execution_count": 121,
      "outputs": [
        {
          "output_type": "stream",
          "text": [
            "getting top 3 recommendations\n"
          ],
          "name": "stdout"
        }
      ]
    },
    {
      "cell_type": "code",
      "metadata": {
        "id": "A2xF4hiaiKeJ",
        "colab": {
          "base_uri": "https://localhost:8080/"
        },
        "outputId": "ea057b84-5be0-4866-9deb-48ba22a14cfc"
      },
      "source": [
        "from collections import defaultdict\n",
        "top3_recommendations = get_top3_recommendations(predictionsAll,3)\n",
        "\n",
        "print('Total predictions calculated are %d' % len(predictionsAll))"
      ],
      "execution_count": 122,
      "outputs": [
        {
          "output_type": "stream",
          "text": [
            "Total predictions calculated are 6734\n"
          ],
          "name": "stdout"
        }
      ]
    },
    {
      "cell_type": "code",
      "metadata": {
        "colab": {
          "base_uri": "https://localhost:8080/"
        },
        "id": "yS7FxI3kFxJl",
        "outputId": "02665609-015c-4a4f-eb55-af01379c9918"
      },
      "source": [
        "top3_recommendations.items()"
      ],
      "execution_count": 124,
      "outputs": [
        {
          "output_type": "execute_result",
          "data": {
            "text/plain": [
              "dict_items([(29084250, [(4541183, 0.9624892908707745), (25328461, 0.9343682521709155), (37655038, 0.7492664662014755)]), (40382568, [(5101196, 0.955284004028079), (9786807, 0.952810441863162), (17488498, 0.9235600848418046)]), (25379921, [(34239125, 0.9565448895999445), (12960218, 0.8970813890173921), (16848828, 0.8653357887825405)]), (1855662, [(5246432, 0.9741667743684249), (5246432, 0.9741667743684249), (4664392, 0.9723393029835589)]), (69252656, [(6147142, 0.9846300519545232), (16680449, 0.9576157790388635), (16873551, 0.9384739512881579)]), (19012749, [(20005185, 0.9437497133902816), (18509748, 0.7927582446313275), (24397979, -0.9429750412073211)]), (15331801, [(8364495, 0.9860789724725777), (17416854, 0.9838772584007226), (9901369, 0.9821730154018827)]), (45773112, [(7930906, 0.895171669685908), (3988536, 0.8676082483308031), (3671451, 0.8580329372184525)]), (79941767, [(16182554, 0.9831957484643188), (4541183, 0.9257715865779255), (6178568, 0.9224966649019251)]), (35679281, [(13325975, 0.9773775372963532), (10419098, 0.9624563102607593), (10419098, 0.9624563102607593)]), (51041213, [(21061528, 0.8938354369774782), (21061528, 0.8938354369774782), (17093761, 0.5680972007699733)]), (115427441, [(1024986, 0.8337299961290798), (7399093, 0.6526547662388059), (41314524, 0.6305916859353591)]), (26637964, [(22051870, 0.5686072451061616), (22051870, 0.5686072451061616), (33226481, 0.31400264534404776)]), (50118293, [(12836488, 0.9426950096034987), (21649410, 0.9134031743689567), (24466705, 0.9002872822881349)]), (11649513, [(5376182, 0.9768873744066221), (28417802, 0.966740493986165), (11817134, 0.8701927637832562)]), (47325944, [(4434265, 0.9468149290249406), (7930906, 0.6718667257669726)]), (24067556, [(6142181, 0.8738730083480831), (7350502, 0.751001941103013)]), (61048791, [(24609883, 0.9791264333680743), (16830539, 0.9688349399620659), (3639516, 0.8379465780791917)]), (194087647, [(15282618, 0.96535474768825), (16873551, 0.7896355790689971)]), (15157131, [(13998008, 0.9615964335591662), (3096385, 0.8982227558620877), (301247, 0.7956757799379046)]), (343833292, [(25793757, 0.9546628828601249), (12484261, 0.9491768779517332), (42078904, 0.8708697220880866)]), (41633148, [(5495447, 0.9141163929214496), (37853876, 0.5599876398684163), (15501491, 0.49687433907841205)]), (114002560, [(20921068, 0.9288293608089201), (21372953, 0.9267372483803492), (21372953, 0.9267372483803492)]), (18114141, [(14325761, 0.9709377049952153), (5853047, 0.9652870120289069), (8038199, 0.9457027584248883)]), (2645348, [(14376831, 0.9750182755556416), (369141, 0.6279631976040861), (16231661, 0.627005636406817)]), (28546589, [(7537301, 0.9872756785940735), (13325975, 0.9461202295079436), (5355795, 0.3360855290334878)]), (265958232, [(9416695, 0.8483151839541154), (10214097, 0.8175486157777035), (11875596, 0.80834264986662)]), (51025114, [(38141401, 0.886696253916853), (7655771, 0.8591110173779136), (12600629, 0.8561010148802045)]), (25523163, [(5827998, 0.9447641864237898), (14381353, 0.7789105306539986)]), (1720522, [(5481194, 0.7913679875557211), (5481194, 0.7913679875557211), (5481194, 0.7913679875557211)]), (44250196, [(15209784, 0.9388025171322196), (15209784, 0.9388025171322196), (15209784, 0.9388025171322196)]), (37955542, [(7769781, 0.9259633698444139), (25591117, 0.9102496716677565), (33232136, 0.8327439527049939)]), (45171974, [(21314866, 0.9488889493024653), (22745179, 0.9348994200438425), (3207194, 0.11416047333999635)]), (92804710, [(12906176, 0.895692324105088), (12906176, 0.895692324105088), (12906176, 0.895692324105088)]), (6505059, [(8313460, 0.6816772094267641), (25998215, 0.5739508281072607)]), (271020109, [(11411739, 0.7711489018630753), (36837195, 0.27472193710174236), (36837195, 0.27472193710174236)]), (122154667, [(17863026, 0.9493041830260723), (17863026, 0.9493041830260723), (16571493, 0.9172967778953942)]), (53221490, [(12536372, 0.9146463726448765), (756267, 0.88091909638245), (9079545, 0.8631385366384213)]), (18065310, [(5584157, 0.9865194041996928), (3954113, 0.9852795726599595), (10996427, 0.984412685623272)]), (64073510, [(34049490, 0.9341853791987497), (34466955, 0.8585431352749904), (34466955, 0.8585431352749904)]), (141905100, [(17016908, 0.9766598737797366), (17016908, 0.9766598737797366), (17016908, 0.9766598737797366)]), (45083535, [(22599437, 0.8228985697513886), (13132703, 0.6310125118277923), (22071808, 0.5418001730483506)]), (149063577, [(26577038, 0.807936023457617), (42078904, 0.8064628317137534), (11380963, 0.7422017095462861)]), (4848541, [(71896, 1), (10460541, 0.9850195486743115), (10460541, 0.9850195486743115)]), (47707070, [(18349081, 0.9815198452958167), (8525879, 0.962497896814268), (21285979, 0.8588759662111658)]), (16765532, [(16571576, 0.9456757265689131), (16571662, 0.9206043074284427), (15362541, 0.9122958241194116)]), (79396785, [(18052476, 0.947005064510177), (11365125, 0.8321582004211548)]), (2768055, [(12536372, 0.9867289900267062), (4183194, 0.9796655189572974), (33782992, 0.9580530142822407)]), (7390892, [(16620711, 0.9901541629879982), (16291031, 0.9653396596401578), (29572721, 0.8878203822926534)]), (16724514, [(10325057, 0.9751713328014096), (8022978, 0.9694890476150194), (20714009, 0.48489869480882264)]), (13881434, [(822413, 0.9174330027790593), (6850935, 0.8876401113456379), (11245360, 0.8679293674727238)]), (265966440, [(28896892, 0.8667400791236237), (36359535, 0.8062560868471026), (26733957, 0.7011900284879768)]), (302433021, [(38595452, 0.9351328300526066), (12536372, 0.8503125475714178), (38805375, 0.77170210080502)]), (44218809, [(4115899, 0.9746466221732216), (12299983, 0.9402123296626792), (13462899, 0.9264970598949697)]), (122366308, [(15547918, 0.873701498798439), (13338509, 0.8084655082692127), (15532644, 0.6470166564761445)]), (149917276, [(2673027, 0.8988306811007437), (4541072, 0.862343330919404), (38417543, 0.7433936062821419)]), (4942570, [(1647014, 0.5308140143876934), (1647014, 0.5308140143876934), (1647014, 0.5308140143876934)]), (544148, [(7381770, 0.9834509148407735), (12614519, 0.9137536470441525), (6183734, 0.8963722049032742)]), (190680226, [(29579499, 0.9798304623171592), (3988536, 0.9583142614138889), (3988536, 0.9583142614138889)]), (20400863, [(16685688, 0.9892110756640657), (16685688, 0.9892110756640657), (6826957, 0.9078433226694516)]), (648763, [(2357514, 0.9708542838246127), (5355795, 0.901739036781471), (2731054, 0.8260189117478994)]), (16487710, [(625055, 0.9661327380272107), (12600834, 0.8958656344065113), (15547918, 0.6299683932713529)]), (142921736, [(4431879, 0.9680576785162467), (22457479, 0.8852769432049672), (21370642, 0.8768164940433075)]), (35416885, [(4008423, 0.9795205583452312), (26633522, 0.9184133633633063), (16428014, 0.6280045698284995)]), (60023171, [(14557631, 0.9458630601031399), (7717118, 0.9373192089122301), (3140972, 0.7653841837004587)]), (20715591, [(10399199, 0.8095396512667856), (10399199, 0.8095396512667856), (10399199, 0.8095396512667856)]), (70718502, [(18471415, 0.8014631525114129), (18471415, 0.8014631525114129), (15501491, 0.7653581218531061)]), (2226979, [(31527262, 0.9358028630876687), (29962235, 0.8921024307412718), (22492649, 0.8801749253009266)]), (139551923, [(4926634, 0.6908573319355548), (21128303, 0.5113335626142186), (4584539, 0.4442375631164659)]), (119724587, [(22233862, 0.9682929425816913), (21937326, 0.9656128034272251), (22214699, 0.20569687576152268)]), (103913116, [(11267014, 0.8553244322982332), (6142181, 0.4437811838587818), (13118109, 0.2984374170772649)]), (28120021, [(8909347, 0.977220542200138), (15735824, 0.9763683579054203), (19184503, 0.8799088964336901)]), (36174788, [(19236258, 0.9777580855741159), (26698814, 0.9517872690580772), (19286135, 0.912166899918513)]), (71965991, [(15536743, 0.8286292296390786), (15536743, 0.8286292296390786), (15394784, 0.5104246352256071)]), (69754863, [(21766071, 0.9038379589689083), (20214359, 0.893553507931534)]), (92088642, [(23130011, 0.9919343071236969), (6518372, 0.981000287438417)]), (24254521, [(26933485, 0.8941189841953032), (14718255, 0.817747160403142)]), (318323228, [(39618567, 0.8166932299950672), (43336673, 0.7503123094414371), (42885911, 0.493703850899873)]), (153893245, [(27618509, 0.9302729505932212), (21198261, 0.8762352793417021), (15774113, 0.6585885024467906)]), (101908285, [(35786305, 0.922334199056989), (20263356, 0.9067997020461639), (20263356, 0.9067997020461639)]), (45735223, [(8364495, 0.9382383867511976), (23934649, 0.8611666522880351), (8523956, 0.8402197942032631)]), (10011442, [(35922722, 0.9129669248275946), (29093864, 0.8949578239802142), (10214097, 0.8945384405808429)]), (148172617, [(10848771, 0.893940946976652), (25998215, 0.8541618232281187)]), (20496005, [(17928170, 0.5741799884176008), (17928170, 0.5741799884176008), (41604013, 0.4495303063714902)]), (3135543, [(21854679, 0.9797191885233817), (21854674, 0.8912819236058426), (21854674, 0.8912819236058426)]), (331760286, [(18202395, 0.9699139030321384), (41603861, 0.7537776812917206), (15792808, 0.42867958515324955)]), (79217314, [(7156419, 0.9682652863377619), (14154862, 0.9558155870894461)]), (360804091, [(4499317, 0.9701573193097193), (33025531, 0.8700543569992654), (20207839, 0.6938371608878668)]), (111144287, [(39716900, 0.904670828161275), (16747836, 0.8071670838821429), (15393345, 0.6255329712314224)]), (180318225, [(10214097, 0.8062148753910354), (20610905, 0.659934681208011), (9288135, 0.44155120264469405)]), (106345007, [(15209910, 0.9292506138316969), (15209910, 0.9292506138316969), (15209910, 0.9292506138316969)]), (665101, [(17798496, 0.8582926003151612), (23947783, 0.6827072179044431), (17831037, 0.6725989676089177)]), (253643883, [(29993904, 0.9407426630707669), (29993904, 0.9407426630707669), (8533711, 0.8179032944410354)]), (31384243, [(14639095, 0.7820064640249978), (14639095, 0.7820064640249978), (14603872, 0.10086285099749048)]), (151862159, [(42078904, -0.23763207362288463), (41603861, -0.2651161685819611), (39619617, -0.28459627696156686)]), (20461292, [(4751362, 0.6590810268350497), (12805743, 0.6045132155932633)]), (41339374, [(4768668, 0.6369449440696402), (14100301, 0.4447205699798933), (16571599, -0.5583578115901245)]), (67817877, [(35744548, 0.865193058329613), (29599048, 0.8585036011147134), (25955418, 0.6499804605207636)]), (3280444, [(3954113, 0.9809888089046452), (1060046, 0.9557342556295856), (1647014, 0.9526383293891479)]), (81029888, [(11642282, 0.9529699487050762), (12947194, 0.9445498914843303), (9927724, 0.8222714585215187)]), (13747383, [(4271250, 0.9882239981078924), (8634722, 0.9844197158237652), (4434265, 0.9795599926726429)]), (45826069, [(33772739, 0.9544190246614614), (4008423, 0.9470193636432692), (36817233, 0.9368464332193878)]), (16323084, [(4616537, 0.9910656554834052), (4616537, 0.9910656554834052), (12606032, 0.9554481158543466)]), (233814749, [(24738846, 0.7985374910239879), (24738846, 0.7985374910239879), (24738846, 0.7985374910239879)]), (112278623, [(2387687, 0.9148227534107631), (16428014, 0.8767552229319902), (16428014, 0.8767552229319902)]), (8163300, [(982909, 0.9868927481968109), (23603274, 0.9807083060478992), (17371927, 0.795780500485739)]), (72578302, [(6128096, 0.9816620464763867), (6983613, 0.9147654209699714), (6142390, 0.7656773715159318)]), (37395322, [(29131936, 0.9908477244258095), (29131936, 0.9908477244258095), (9717005, 0.6069824553382981)]), (134968255, [(8664337, 0.8272982266356194), (21483560, 0.7268274687827468), (18850989, 0.6815756098894012)]), (69881545, [(29494102, 0.9810490357999234), (11635459, 0.9780231366177018), (33669171, 0.9669692919293122)]), (242844518, [(42417293, 0.9105759022708187), (42078904, 0.8842375337360363)]), (125653187, [(21154795, 0.8692434483349094), (16329592, 0.8296032858887364), (16329592, 0.8296032858887364)]), (25669832, [(21403392, 0.9283217303700326), (19163641, 0.9003990862221359), (30083183, 0.8821261021556019)]), (57278183, [(2488036, 0.9311124824600897), (2964315, 0.829670376602594)]), (15681980, [(22038733, 0.9776260873496718), (6830660, 0.968645549748696), (25793757, 0.9327024759917906)]), (10644608, [(22745179, 0.9847582208537398), (35102472, 0.9625915916690826), (24294968, 0.9010996908337683)]), (16491329, [(4973227, 0.9872845719170105), (16685688, 0.9702662709409874), (16685688, 0.9702662709409874)]), (137445709, [(8156821, 0.8524780607147978), (11521661, 0.8068951772275249), (21198261, 0.7571090696460654)]), (2352170, [(2488036, 0.912953645802718), (3207194, 0.6312990136901049), (2451003, 0.5753606302689541)]), (51142597, [(18850989, 0.9679136817018162), (16747836, 0.6600992445692044)]), (13080559, [(1678755, 0.9194997507272389), (21605333, 0.8598340923978884), (19164733, 0.682060653339806)]), (19450359, [(24302260, 0.9318059050689613), (24302260, 0.9318059050689613), (19009257, 0.919400273064555)]), (12531555, [(16685688, 0.9558836524290915), (16701352, 0.9526843049686052), (3207194, 0.9217308010264769)]), (46138566, [(9786807, 0.9759237578118973), (24700942, 0.8919396060628435), (19094250, 0.8402269464154195)]), (75598795, [(19231081, 0.9193857542088714), (12687038, 0.7957233731456208), (5665639, 0.5136638327270028)]), (50787135, [(15774113, 0.8592043239481109), (17410029, 0.6587195229212242), (19580455, 0.6269252136335585)]), (24126439, [(17242369, 0.9596545253294438), (16443023, 0.9417919069548915), (9249817, 0.9224005832437464)]), (106382747, [(10814989, 0.6264592597505194), (10814989, 0.6264592597505194)]), (109195171, [(31390991, 0.8040957919529311), (23934649, 0.45823138555883497), (3419511, 0.4030742769108671)]), (112214284, [(30433107, 0.2981198666666716), (7655771, 0.2312625535707986), (28239177, 0.02026905722551131)]), (19336497, [(11875596, 0.9518980227184862), (7319075, 0.9212673116338588), (301247, 0.8693875514803833)]), (181934934, [(19140847, 0.9834536193952681), (11971734, 0.8901041901765023), (11971734, 0.8901041901765023)]), (37433916, [(24979452, 0.9218140588559463), (16385749, 0.7839627095469796), (21605333, 0.7573989540576882)]), (22657593, [(16989989, 0.9233285402995549), (3144267, 0.8929325974215642)]), (1502754, [(21915252, 0.974123491522351), (8180346, 0.9616815064294376), (5827998, 0.9537035038845121)]), (23687072, [(15792137, 0.854516609845522), (43379651, 0.8282425113175051), (43336673, 0.3103541890309071)]), (34413893, [(1081816, 0.9837584818264964), (12960218, 0.8922815853674356), (4138944, 0.6920293281616926)]), (15324032, [(41604013, 0.781884998609039), (41604013, 0.781884998609039), (41603861, 0.696841144231291)]), (8260484, [(16443023, 0.9317974826439549), (5355795, 0.8473880330084387)]), (13452602, [(12614519, 0.9770880398271349), (6142880, 0.7726654799186332), (21765670, 0.6386349323628511)]), (21021598, [(6718219, 0.9391218388479179), (6718514, 0.935207914071983), (6147142, 0.851408549649177)]), (130896878, [(5129422, 0.6953443154622769), (5129422, 0.6953443154622769), (5129422, 0.6953443154622769)]), (49304010, [(7350502, 0.8165560037336244), (5739284, 0.7961224355072356), (12859055, 0.6256850769067203)]), (89066174, [(17781759, 0.9717170656349273), (41314524, 0.9047647339447297), (20598841, 0.8512946636035185)]), (73609029, [(8765476, 0.8408464965025051), (9030732, 0.7991271155430091), (13282424, 0.7820311778610982)]), (17290747, [(20717450, 0.7089956557788063), (28896892, 0.6147018349317657), (28896892, 0.6147018349317657)]), (87464280, [(1024986, 0.89482413472783), (1024986, 0.89482413472783), (1024986, 0.89482413472783)]), (4100884, [(241508, 0.9814022516686747), (241510, 0.9789264587171006), (241510, 0.9789264587171006)]), (19256081, [(4616537, 0.9662134059346879), (33111278, 0.7698897394512703)]), (114154522, [(16989989, 0.9789706493668525), (18517165, 0.9250731628652119), (7143817, 0.8346302881263341)]), (138823708, [(14387136, 0.8170559980431676), (18978737, 0.7652652410763588), (9104449, 0.7274285518467172)]), (13819900, [(4446102, 0.943170439455932), (6128096, 0.9013712803286612), (12600834, 0.8260731552946006)]), (75375845, [(2752673, 0.9115185705599307), (14600122, 0.7509167248638999), (4008569, 0.6303250317888255)]), (248311400, [(28468667, 0.9165987580054151), (4926634, 0.7678360435613687), (7511173, 0.6931242484334799)]), (8719137, [(34596041, 0.7647901790290151), (7054222, 0.681034499070682), (22617283, 0.5728674440525025)]), (32243723, [(14891826, 0.9772830754442203), (13325975, 0.9477440885799855), (9746208, 0.9238870759411965)]), (13086207, [(6993627, 0.7641703542635632), (3752662, 0.7511045312843881), (6686851, 0.7019688169947934)]), (168222568, [(18846559, 0.7961203419098775), (13286282, 0.7715731557457619), (19714010, 0.618716558534204)]), (30975750, [(4616537, 0.49669252118618673), (4576362, 0.4775521952711946), (6117032, 0.42542289531684857)]), (16089590, [(7868833, 0.8963735480287297), (7662310, 0.8297884168837882), (2840554, 0.6985274982877572)]), (50033141, [(19370670, 0.84722873000706), (7940828, 0.782928006007862), (16743909, -0.6565636344226649)]), (151042399, [(21198261, 0.8303417877697541), (9023549, 0.7991003454604333), (4990462, 0.5581851748091963)]), (40686901, [(7257461, 0.9739887127994845), (1315867, 0.973476351907552), (14515500, 0.9470930131142516)]), (44152668, [(1647014, 0.9833808886765767), (19115460, 0.7263510621044021), (19236258, 0.14614601500992574)]), (137653436, [(14731717, 0.9766522523044308), (4008423, 0.969796157390339), (10479544, 0.9518322169076961)]), (174125516, [(13286282, 0.8867799954859086), (19140847, 0.7561639016904096), (17863026, 0.6754259278719119)]), (21453171, [(23598682, 0.9826753978373832), (20514799, 0.9579158237219814), (2492539, 0.9542431191384512)]), (2264795, [(12995321, 0.9801674018029239), (12995321, 0.9801674018029239), (5739284, 0.9160916901265056)]), (24246374, [(22555089, 0.8833615048448573), (15946383, 0.8105764365801632), (14984234, 0.6820718444436954)]), (47588109, [(24591317, 0.9037420279954664), (30561871, 0.7354392575768408), (8277151, 0.639390209117196)]), (21853904, [(31003554, 0.7906008037355341), (1024986, 0.6272312408403309), (1229614, 0.6249244499681375)]), (44254338, [(17122972, 0.8971819924877504), (18675202, 0.8923288733536566), (3116909, 0.7543626797312646)]), (33702176, [(17831115, 0.9163235568855461), (22745179, 0.9017974523686051), (17831305, 0.8129809267569016)]), (55688569, [(21915252, 0.9602140410847675), (6147142, 0.953802391730992), (8180346, 0.9129442401495638)]), (44225562, [(33388955, 0.8524111634697025), (33669171, 0.8482039543464299), (31390991, 0.6571918046318593)]), (52065884, [(17049465, 0.9470504770745172), (17049465, 0.9470504770745172), (17049465, 0.9470504770745172)]), (343169583, [(1024986, 0.9505880448987942), (41803435, 0.9036754978209098), (16332500, 0.8400178643908871)]), (52049436, [(21546999, 0.7351719980773916), (17488498, 0.6712631603469651), (24466269, 0.6253163325802069)]), (15308770, [(20888336, 0.9682251634984305), (12878592, 0.9473912362172376), (17856170, 0.8974377999984443)]), (195298862, [(6581009, 0.9568444225880169), (21758896, 0.7961251958436623), (21758896, 0.7961251958436623)]), (11473584, [(19163641, 0.9596941794520877), (20207839, 0.6331463963921242), (5376182, 0.5899380740773734)]), (179124934, [(42078904, 0.8757381273496376), (15774113, 0.855251173809423), (39807217, 0.8085692940418346)]), (44791875, [(10381460, 0.9854802391743251), (18131601, 0.9816785760674221), (4108447, 0.961831330638135)]), (25980784, [(19576036, 0.9549648783225742), (19508635, 0.9159784731273294), (11612771, 0.8215103227355507)]), (118050387, [(2868366, 0.9570508622912379), (24528929, 0.825571955118188)]), (12621841, [(17781759, 0.6365766968042341), (23603274, 0.06064651134220089)]), (54190972, [(16412556, 0.9612966776220082), (3340547, 0.9605777961482952), (7319075, 0.9307082870151684)]), (618901, [(8277151, 0.9870429946224181), (12805743, 0.949144278718331), (8372113, 0.9467193351797073)]), (220756712, [(8038199, 0.8557101456950668), (8038199, 0.8557101456950668), (27970365, 0.8327803021289915)]), (137669466, [(39716900, 0.9827733692508263), (42696868, 0.9760696400457655), (5376182, 0.9501281233205965)]), (122563143, [(1024986, 0.9318863149377636), (1024986, 0.9318863149377636), (5609097, 0.9167398979574753)]), (49270180, [(3209768, 0.959457267499604), (12762246, 0.7959327036327312), (9466660, 0.7861419465201707)]), (210880425, [(27981551, 0.9561992628285622), (9104449, 0.49651068532054715)]), (10267379, [(3863231, 0.9238577889846304), (4252548, 0.8823347078467532), (4252548, 0.8823347078467532)]), (58688579, [(7662314, 0.8311932671687292), (5186205, 0.7432727010170745), (5186205, 0.7432727010170745)]), (6985962, [(13325753, 0.9512623988843281), (17454856, 0.8682542709755382), (22185082, 0.8249960850278919)]), (35548942, [(29439672, 0.9590047671662865), (19164720, 0.8876811072732078), (16665548, 0.5730960764206996)]), (10818291, [(16412994, 0.9793624839775129), (3987930, 0.9726441093199024), (3671451, 0.9627173030364128)]), (149650309, [(26232923, 0.9759803938754704), (26232923, 0.9759803938754704), (27373877, 0.9028887162829506)]), (99994782, [(32113481, 0.546096696263404), (31003554, 0.5212484303778671), (31003554, 0.5212484303778671)]), (8015766, [(5214226, 0.8900091140938371), (5184871, 0.8439656423075438), (8349859, 0.777243438572631)]), (13561147, [(17798496, 0.9391388576717427), (28417802, 0.5513238917894384)]), (65587890, [(24581115, 0.933981282112916), (10040419, 0.933322387089924), (22110157, 0.8479256844413229)]), (37424275, [(13038831, 0.9426736763418148), (22575924, 0.909469731739839), (9506967, 0.6258765115623237)]), (1582649, [(11381088, 0.9763273068081239), (15438033, 0.927387222444549), (395191, 0.8860478897604338)]), (6073978, [(21192653, 0.9880759433715811), (20998924, 0.9515273910173633), (31154596, 0.8674159213079161)]), (22134946, [(5348703, 0.9727332842246903), (4360679, 0.9698403078185142)]), (71317574, [(5186243, 0.9878032755123538), (16412115, 0.9545015326209138), (5186205, 0.9279206346129487)]), (8064561, [(16412994, 0.8828134435105627), (3790364, 0.6252422924220794), (21758896, 0.571111625560991)]), (95228917, [(42885911, 0.6250507536933381), (41604013, 0.6219391084043216), (41603861, 0.4506697538860365)]), (164772236, [(24984672, 0.9533426716003224), (30219680, 0.8931580144075132), (11302386, 0.8928631219354483)]), (94779280, [(18184250, 0.8994581707482301), (17595630, 0.8559714082330895), (4969307, 0.7717251623527268)]), (26937441, [(7811199, 0.9771337032938763), (7811199, 0.9771337032938763), (22534903, 0.973556289198133)]), (24969474, [(22185082, 0.9898331280412525), (25998215, 0.9780622011768755), (3859180, 0.9755334774039258)]), (69163595, [(6117032, 0.9632295687762555), (13132703, 0.9332246915443554), (4616523, 0.4503984723159426)]), (200331401, [(40638890, 0.6930096071662919), (40638890, 0.6930096071662919), (2868366, 0.6387255123813084)]), (25053655, [(24276360, 0.9305510499740549), (25366424, 0.9015590894274701), (2696834, 0.8933550684438167)]), (4080371, [(5428153, 0.9814908546733918), (7282084, 0.9504705763483697), (10398488, 0.94957166562967)]), (34795464, [(15581173, -0.5714723710497639), (33111200, -0.8726543033397955)]), (47148772, [(5117966, 0.9021023534175248), (8313460, 0.1841355697312428), (8313460, 0.1841355697312428)]), (172199505, [(16747836, 0.6814431268315954), (18684661, 0.5117639115838685), (5495447, 0.44270907723521996)]), (26884571, [(3987930, 0.9705582808234698), (12614519, 0.9573982524976099), (4022486, 0.9393554915562681)]), (10923075, [(17812922, 0.9577503854143907), (17831305, 0.9456412941866539), (17813122, 0.9144808150176033)]), (19765943, [(1024986, 0.9746622792298718), (23438702, 0.9684305476405383), (35199403, 0.9374280724010807)]), (6021736, [(468782, 0.9566498930907028), (20703034, 0.9471718848375319), (19236258, 0.8986632766721178)]), (23505580, [(5908083, 0.9054963384358863), (21554434, 0.8925890798046745), (9532788, 0.6253905265250809)]), (24387703, [(13038831, 0.9429388504284062), (13038831, 0.9429388504284062), (6947366, 0.9250486854631581)]), (20526147, [(6426551, 0.9366495559379757), (4561484, 0.8947062715994338), (7898449, 0.8893472787472375)]), (33597027, [(12998449, 0.9631692300850875), (12839857, 0.9302865637899909), (12805743, 0.8997309275783694)]), (17372501, [(20332582, 0.9717253883698818), (11245028, 0.9706247753739896), (5376182, 0.9600924737787168)]), (369269328, [(35818699, 0.9360598839854245), (35818699, 0.9360598839854245), (33634552, 0.6270153131121364)]), (104779826, [(6352827, 0.8699682111439037), (17142437, 0.8686661210430173), (18184250, 0.47780585371796236)]), (165209, [(9097877, 0.9898804214571117), (10367479, 0.9767363122470161), (3753251, 0.8989857737692697)]), (251651140, [(36680482, 0.6458973070445239), (36680482, 0.6458973070445239), (36680482, 0.6458973070445239)]), (47376997, [(16519829, 0.9091222340626259), (11687045, 0.8123298660042841), (17123698, 0.7750079721979031)]), (153613222, [(9980935, 0.9541557716204108), (25796874, 0.8775635289093162)]), (6976140, [(17831037, 0.9488496403425576), (29020376, 0.7842705861213124)]), (16843724, [(6993627, 0.9635400385478379), (9118960, 0.9522879193805428), (6619955, 0.9066231066808526)]), (79169282, [(10819460, 0.9550240818571755), (12947194, 0.8993856527036901)]), (36503425, [(747813, 0.9347857353423414), (5472242, 0.9148028781945619), (5472242, 0.9148028781945619)]), (132502977, [(6431505, 0.8842269535835078), (3617090, 0.7489998043621924), (16291031, 0.6257218217833682)]), (191468543, [(43629592, 0.9306610665785093), (43629592, 0.9306610665785093), (43629592, 0.9306610665785093)]), (116801086, [(27781949, 0.9238120077515479), (24984672, 0.8216212930571614), (28813662, 0.251619899206135)]), (62284537, [(8765476, 0.8234004569828531), (11671761, 0.7584904263028796), (9563744, 0.6802912072839216)]), (34089952, [(16006904, 0.9075116233348738), (2146015, 0.4439168946727255)]), (99170509, [(5902912, 0.9890636849450414), (7843168, 0.8959434071749952), (14332372, -0.21019059561413334)]), (163650600, [(1024986, 0.6923547968778697), (20207839, 0.6336925105226732), (30594823, 0.6261608865886027)]), (183316463, [(21358206, 0.718455874768045), (24701064, 0.7037451679720333), (25044333, 0.663457795622409)]), (65962824, [(20263356, 0.9193298745019002), (15393345, 0.6481787070114654), (19140847, -0.7920116111343285)]), (29617510, [(25972498, 0.8958149608072437), (33634552, 0.8875242199112627), (5908083, 0.8262736670099898)]), (17360705, [(12839857, 0.9747429802932406), (4139205, 0.9700201016052383), (5376240, 0.9154072919924362)]), (10211108, [(15314758, 0.9312630323459944), (4016869, 0.8583779451287292), (14706427, 0.784940713004144)]), (3191102, [(23848309, 0.6587621249813543), (20794954, 0.6260730674341815), (4802295, 0.6046427336632154)]), (35355253, [(8508225, 0.7255455640495598), (24463811, 0.680897832863995), (20794954, 0.6220205921651953)]), (6313385, [(8022978, 0.9744858478279669), (6940054, 0.9206696506762679), (20714009, 0.6443748350620977)]), (297371529, [(41603084, 0.42409459932455), (41603084, 0.42409459932455), (41603084, 0.42409459932455)]), (1411143, [(11541093, 0.8475472154196094), (16748453, 0.824695098946136), (17277763, 0.4954216775998684)]), (26971284, [(18484277, 0.9218236503515443), (6619955, 0.842358196570697), (5481530, 0.6810704560221088)]), (159385849, [(16607454, 0.9768870162996336), (21852940, 0.9735037179823627), (7534889, 0.9347060244861143)]), (766369, [(8525879, 0.9877024668435526), (7311328, 0.9347837680464232), (7879020, 0.4459507823296619)]), (34043506, [(31812017, 0.9782746651722529), (19164720, 0.8971753129483523), (29614706, 0.8216470439647399)]), (31841971, [(14673023, 0.9003245276647548), (14524408, 0.8991927212204702), (4616537, 0.8052598199428587)]), (28867741, [(982909, 0.8776970000744788), (14100301, 0.6556329248610924), (14100301, 0.6556329248610924)]), (93279523, [(33871416, 0.9830071287101625), (36001391, 0.7906386918545993), (39619617, 0.7781667805840197)]), (117325325, [(20874431, 0.9628572691930563), (2129215, 0.688312149632996), (2129215, 0.688312149632996)]), (18803545, [(6518372, 0.9259414167140383), (9565472, 0.589391710914555), (9565472, 0.589391710914555)]), (59084045, [(11381088, 0.9795374005259856), (22560212, 0.9351676767639915), (369141, 0.6576041388889977)]), (11558676, [(2840554, 0.9631651142161141), (8393043, 0.9575846376818806)]), (79202807, [(7733844, 0.9583917381825685), (39716900, 0.7822860632977938), (39716900, 0.7822860632977938)]), (3658988, [(9030732, 0.9708189704115959), (8133710, 0.9315178851943046), (648183, 0.9127598249556824)]), (29839664, [(5184871, 0.9509923672782932), (5184871, 0.9509923672782932)]), (22077831, [(25059951, 0.9156033597980107), (4138944, 0.8544162162389158), (19681895, 0.8047375336467022)]), (27834521, [(6120794, 0.9846373646921901), (7683990, 0.9743572634306351), (4616523, 0.9446514975499467)]), (3195629, [(3116909, 0.8692712633956499), (21854680, 0.5578819426509933), (7570596, 0.36285739306447146)]), (4053520, [(29962235, 0.940377040581148), (20207839, 0.9306376078503841), (37063111, 0.9250799925669677)]), (105858768, [(22462927, 0.967619630587666), (16428014, 0.9271505899165607), (15750877, 0.7008650387943369)]), (37701728, [(23622570, 0.9502526108876964), (14706427, 0.8951348861270574), (27462710, 0.8946228662944149)]), (1532685, [(9565472, 0.9578941029268349), (9565472, 0.9578941029268349), (2960181, 0.8551844350626948)]), (39894759, [(2868366, 0.9777728351356172), (8533711, 0.9622605536287987), (8533711, 0.9622605536287987)]), (66599486, [(34246279, 0.9291542609423924), (36813787, 0.9118940303175239), (3209752, 0.8769739360287694)]), (203920910, [(24984672, 0.9486265890411483), (25998215, 0.9072395591635871), (764599, 0.7631841359481647)]), (3889625, [(16765018, 0.9439174173181027), (5932439, 0.9437451247996594), (2387687, 0.9425840229566541)]), (29195284, [(20950425, 0.8445165166828482), (20950425, 0.8445165166828482), (20950425, 0.8445165166828482)]), (3290533, [(6117032, 0.9809682787093756), (7622220, 0.9728661265966635), (20219567, 0.9367912989926064)]), (44011450, [(5919270, 0.9936945606640021), (24636842, 0.9485371278988894), (8180346, 0.7237675745248868)]), (37657352, [(14248210, 0.9470373350231983), (14161622, 0.9397124109716346), (34214140, 0.7721430732426592)]), (50163854, [(29063078, 0.9484953657113686), (28769756, 0.9095653027727895)]), (56403819, [(4434265, 0.9794813179349372), (6720895, 0.9690247440540625), (9118960, 0.9613045074021727)]), (7857767, [(19651474, 0.9149716466509562), (4616537, 0.7413203508084356)]), (104165099, [(26464626, 0.9250971089958835), (26464626, 0.9250971089958835), (32955521, 0.8710246871678033)]), (21672971, [(5540894, 0.983614607751971), (5540894, 0.983614607751971), (5540894, 0.983614607751971)]), (156380908, [(30900595, 0.6809510689735365), (27513348, 0.44298990851442566), (33772739, 0.4252138872116084)]), (45263768, [(9358969, 0.8775911055638508), (9288135, 0.8517551072722547), (19094235, 0.6137787292503531)]), (12530916, [(1024986, 0.9537962640899967), (18609695, 0.8803935508441773), (38654505, 0.7095094948524739)]), (2974325, [(24290323, 0.9225295177915285), (5919270, 0.8773211412500569), (5897641, 0.8534259022016611)]), (111690171, [(39618567, 0.44536121555290087), (39618567, 0.44536121555290087), (39618567, 0.44536121555290087)]), (86080923, [(5186159, 0.9560970509017173), (22636241, 0.9463070538887292)]), (17807055, [(7350502, 0.9836294746251855), (7350811, 0.9818771807892083), (19163641, 0.9616967505380245)]), (130618823, [(18316457, 0.9294439410923241), (14706427, 0.9229953231241272), (19611990, 0.873590820898397)]), (6430302, [(13266699, 0.9582478817781888), (23193720, 0.9544883965293907), (11863888, 0.8373366536605077)]), (123704735, [(43792252, 0.9313393251847968), (29249890, 0.9109952287896093), (22588808, 0.8708483355111274)]), (12408352, [(15019776, 0.9910368004373876), (3839469, 0.9615404558867471), (10299900, 0.9148353061216795)]), (122421509, [(18755310, 0.7755726046882774), (18755310, 0.7755726046882774), (17471882, 0.7581162812286828)]), (3945146, [(31527262, 0.9793118443696303), (7152364, 0.9469781567555535), (14524408, 0.9302283500892365)]), (72616337, [(17736530, 0.9711240984676142), (21061528, 0.9670535453870933), (29302695, 0.9197133194484903)]), (181918955, [(7537485, 0.9694771146542049), (20263356, 0.8432804143298631)]), (37724720, [(11411739, 0.9770160967975775), (16989989, 0.976194513007951), (30168978, 0.97199243222822)]), (26588936, [(5584157, 0.9592935029350691), (4360679, 0.9467463699669021), (21941085, 0.6050807162387879)]), (74074683, [(17956150, 0.7337572540064125), (17956150, 0.7337572540064125), (17956150, 0.7337572540064125)]), (24246736, [(3096385, 0.9254679499256271), (6179573, 0.9045409994034925), (14682068, 0.8506596601492558)]), (2977208, [(7054163, 0.9695293087036211), (7054163, 0.9695293087036211), (4751362, 0.6005658495598701)]), (55690801, [(19286135, 0.9236159658519585), (819034, 0.8959542733001443)]), (50402497, [(21244971, 0.8121542445755215), (8345350, 0.7351464064903517), (21198261, 0.44238050733077144)]), (50702250, [(26435923, 0.9078158293311314), (5214226, 0.8430098260934079), (26504288, -0.8112747996104637)]), (46595660, [(8347511, 0.9849562494126465), (8347511, 0.9849562494126465), (8347511, 0.9849562494126465)]), (249521326, [(21942515, 0.9509037998074519), (21942515, 0.9509037998074519), (29654617, -0.3639559564524585)]), (11615609, [(10848771, 0.9748058690918057), (7605283, 0.9460287191163552)]), (1103839, [(756267, 0.988248086781605), (756267, 0.988248086781605), (819044, 0.9636465958078568)]), (6860287, [(34870345, 0.9697043876645285), (468782, 0.9575888770117362), (1315867, 0.8648600803795777)]), (350742662, [(42078904, 0.41244341656816286), (42078904, 0.41244341656816286), (42078904, 0.41244341656816286)]), (20732518, [(4115899, 0.991394271738623), (4008423, 0.97327832747262), (4008423, 0.97327832747262)]), (150924938, [(18062352, 0.9119763227862578), (18062352, 0.9119763227862578), (24664051, 0.8426178533990536)]), (119775678, [(23603274, 0.9877107972362719), (301247, 0.9733323765380161), (24863189, 0.9591641399879494)]), (55660235, [(6529707, 0.7581653772341571), (6529707, 0.7581653772341571), (24857166, 0.745390213883287)]), (33879087, [(31368481, -0.18706448777253576), (20214359, -0.29003482204046566), (15154001, -0.525993855310162)]), (14752368, [(13266699, 0.9814054016534265), (12960218, 0.9803083083723709), (8022978, 0.978944096700951)]), (182576039, [(23193720, 0.9740722665426642), (17813122, 0.7487010714486664), (17813122, 0.7487010714486664)]), (105491627, [(16896151, 0.9333729202573933), (16896151, 0.9333729202573933), (9980935, 0.878573012612534)]), (22780202, [(7517671, 0.9688918460875836), (33111278, 0.9611799319719119), (20836943, 0.9211173113799745)]), (5444154, [(7717118, 0.9475523429334849), (7537692, 0.9053976756520642), (7537301, 0.8439940148455701)]), (165502, [(12475063, 0.9717456983068204), (12947194, 0.9670186311291549), (26056791, 0.9538666362551065)]), (10526341, [(13039550, 0.9799695579465808), (19351097, 0.9590405944458937), (20775760, 0.9496380027974147)]), (49863961, [(14325761, 0.9371811614375161), (14325761, 0.9371811614375161), (9118960, 0.8310088493626854)]), (153259140, [(39619617, 0.7710895727134754), (39619543, 0.7002973085780941), (39619543, 0.7002973085780941)]), (147639874, [(5584157, 0.9324617553314954), (7321238, 0.9280154985410991), (23133424, 0.7655858423508556)]), (51112314, [(8560712, 0.982314593987947), (14732813, 0.9730331697801917), (22267308, 0.9341431391755239)]), (10083081, [(8017511, 0.7942037189133834), (5186205, 0.670448095442761), (5186205, 0.670448095442761)]), (178537218, [(4499317, 0.9788064283511644), (18850989, 0.9776062351548094), (41604541, 0.976602293289556)]), (116341766, [(11178283, 0.6334772731454055), (7605283, 0.4225358325986123), (14836614, 0.40380009584701265)]), (1473780, [(30687199, 0.9595892426563409), (18164623, 0.8859999558224976), (24294873, 0.797649884702347)]), (104903065, [(24614743, 0.8995950613522281), (23751725, 0.3200894634044639)]), (15718953, [(8349471, 0.919292015598002), (21915252, 0.7773777248994337)]), (1601218, [(27685631, 0.9788410132330123)]), (11927072, [(27754006, 0.9441941007226251), (33094336, 0.9321400478903485), (21820188, 0.8637890914381895)]), (30900385, [(7536368, 0.9139609573419656), (747813, 0.8120768682247366), (7655771, 0.71668127587484)]), (37987920, [(10848771, 0.7767303496355094), (21612799, 0.442675710589754)]), (66020036, [(8277151, 0.6691313415490793), (8277151, 0.6691313415490793), (8277151, 0.6691313415490793)]), (108770500, [(12536372, 0.9175040182055624), (4069940, 0.9088442387018668), (14304217, 0.7432845394049427)]), (34407243, [(20207839, 0.9560153215336065), (17798496, 0.9385290688517297), (20195421, 0.917997445732911)]), (268942168, [(42078904, 0.8394921286127737), (43731117, 0.8320040749488178), (1024986, 0.8155694200274028)]), (152251759, [(20512779, 0.9547712426611239), (26397940, 0.6194182283732531), (37222469, -0.5599973408499096)]), (25171945, [(30687199, 0.9668086746603256), (16231627, 0.9573370067138858), (23438196, 0.9379345873481488)]), (60463737, [(8180346, 0.9147960773469214), (20703034, 0.9073184107281109), (24571017, 0.512995841455216)]), (194432755, [(23848309, 0.9792435077428178), (23848309, 0.9792435077428178), (23848309, 0.9792435077428178)]), (14728805, [(12299983, 0.959452377128728), (13462899, 0.9541121575872955), (28417802, 0.8067558185647965)]), (85037303, [(5827713, 0.9633947516213293), (5827998, 0.9439220782339232), (6147142, 0.9317605194857513)]), (2642559, [(6619955, 0.9900001494896545), (6889842, 0.9332617159768647), (5739284, 0.7788496811967057)]), (60670903, [(6993627, 0.9416185957119894), (6889842, 0.8474347542545542), (3144267, 0.8345210600227739)]), (47913479, [(5609097, 0.8879614536355607)]), (210065212, [(25353189, 0.9725213100996508), (6147142, 0.9420433970473497), (6147142, 0.9420433970473497)]), (1687629, [(28320235, 0.9486053357670727), (21305609, 0.8795706354497126), (21305609, 0.8795706354497126)]), (27780800, [(25366424, 0.9856030419835033), (24302260, 0.9732515920669333), (5798211, 0.9699572333576261)]), (49660049, [(6034462, 0.939263481427628), (6034462, 0.939263481427628), (6034462, 0.939263481427628)]), (61572092, [(26232923, 0.9882281243450662), (11972403, 0.972176916895049), (18755310, 0.9232886767911548)]), (431248, [(7486716, 0.9630796394535578), (8264717, 0.9355580119871882), (8264717, 0.9355580119871882)]), (44660141, [(8765476, 0.9019702516563832), (6968350, 0.5287679479225166)]), (157746225, [(24785585, 0.9629398851681106), (25200482, 0.9530994886497932), (12924764, 0.9181220619284842)]), (4611071, [(22987507, 0.9837080550329313), (15835320, 0.9609986402746785), (9980935, 0.9060094819534343)]), (8134383, [(11411739, 0.984499086873234), (10598600, 0.8189779811991672), (10598600, 0.8189779811991672)]), (9660200, [(12366821, 0.6812561573444359), (9321841, 0.49553490468508077), (12367388, 0.34367580147897414)]), (49973995, [(5798211, 0.988680840692584), (5798211, 0.988680840692584), (8180346, 0.987209804031465)]), (237531895, [(39654440, 0.8126200634048957), (16936661, 0.7910248361809107), (21044510, 0.42318788680467817)]), (12870124, [(6337983, 0.9840573439907067), (5186205, 0.953148964776255), (6405194, 0.9185628296181301)]), (13772655, [(11994037, 0.9643959425309049), (13266699, 0.9493816742279202), (6518372, 0.7908877079022579)]), (32711630, [(37853876, 0.9566220748216987), (8036127, 0.7511070148588772), (8036127, 0.7511070148588772)]), (66461994, [(6619955, 0.18416314669494682), (6619955, 0.18416314669494682), (6619955, 0.18416314669494682)]), (42948981, [(19366049, 0.9645484669713579), (19595322, 0.9553830162817467), (11612771, 0.7998465490502844)]), (1612506, [(819044, 0.9825307053086196), (819044, 0.9825307053086196), (819034, 0.9821123425917488)]), (76052852, [(6959987, 0.9304081912806973), (6959987, 0.9304081912806973)]), (167159393, [(16886073, 0.9698967266598308), (9716208, 0.9695153127059769)]), (61030250, [(5494971, 0.8774014427385535), (5494971, 0.8774014427385535), (14191894, 0.6814660109951517)]), (4916856, [(10299900, 0.9879294148033484), (28063799, 0.9861500597968783), (28063799, 0.9861500597968783)]), (186191750, [(21483560, 0.9351134318367856), (12219588, 0.8580961932987927), (5118006, 0.7763679187113821)]), (182846767, [(6959987, 0.7654997148783231), (27781949, 0.7578617257036314), (9872354, 0.4245732405757899)]), (275419130, [(30046922, 0.9312785975350729), (28185207, 0.8730153138979008), (12219588, 0.830489104946298)]), (104026993, [(31532719, 0.999442334798217), (31532719, 0.999442334798217), (31532719, 0.999442334798217)]), (59342853, [(27405538, 0.9672942118225697), (4541183, 0.8658481226459713), (4541183, 0.8658481226459713)]), (177433613, [(42078904, 0.449387637496766), (3982855, 0.22915425618685015)]), (65313250, [(33111749, 0.9214448048658471), (24197770, 0.44288484807527007), (17277763, 0.4420877031028574)]), (9658463, [(9898367, 0.9628500793323581), (16680449, 0.29894688864098085), (16680449, 0.29894688864098085)]), (31270601, [(12299983, 1), (13462899, 0.9346786349347612), (13462899, 0.9346786349347612)]), (1829119, [(23315012, 0.977438951190365), (4541183, 0.9553092049682266), (30687199, 0.9094786614880515)]), (165791504, [(31627432, 0.8594808419076735), (20259295, 0.7716810106268037)]), (582032, [(7931127, 0.9469425848690542), (6686851, 0.8827146758947559), (16411839, 0.20243576912472416)]), (135435869, [(6685809, 0.8645721214433374), (19251396, 0.6268654051618685), (6120794, 0.6259481714709111)]), (146132144, [(20195421, 0.903150986523008), (14161622, 0.5531494700038886), (14161622, 0.5531494700038886)]), (115305240, [(43379651, 0.6260816396062213), (43379651, 0.6260816396062213), (42078904, 0.619471151978371)]), (349563600, [(42696868, 0.9829036505621198), (39716900, 0.9260695798133342), (36820113, 0.40341618843309357)]), (2833707, [(13039550, 0.9894891994250528)]), (47466936, [(7042831, 0.8310014330171571), (23002906, 0.7352642961357481), (3207194, 0.6949565100231803)]), (240684322, [(16412556, 0.4268039606622964), (16412556, 0.4268039606622964), (7350502, 0.4250804950809334)]), (4551362, [(24288828, 0.9275520697469616), (26056791, 0.9244157016757376), (20685372, 0.9098307726077686)]), (71376776, [(10001615, 0.8606627784659404), (14381353, 0.8599632245504262), (6941608, 0.772047644835815)]), (188842185, [(19094235, 0.9717422448343402), (19094235, 0.9717422448343402), (18443242, 0.9570349951545325)]), (102846566, [(5584157, 0.9517536581719633), (10392455, 0.802537970941959), (15167230, 0.7945747346000513)]), (7187622, [(7381770, 0.9570427219467279), (18450043, 0.854979231925906), (18450043, 0.854979231925906)]), (24765557, [(4535456, 0.9900952123659965), (4535456, 0.9900952123659965), (4535456, 0.9900952123659965)]), (10822404, [(15747017, 0.9141193353051809), (15792808, 0.9116746194117864), (35818082, 0.9004001032115999)]), (31402819, [(21854687, 0.8372932834785791), (21854687, 0.8372932834785791), (21854678, 0.8117981201695726)]), (49340683, [(4091059, 0.9723939181469191), (7628360, 0.9674992587491352), (11871765, 0.9458096695151704)]), (22274940, [(7791384, 0.9498265718463894), (33148773, 0.9401159768859441), (18284913, 0.5266397898591271)]), (3455132, [(14603307, 0.9765340907215508), (746929, 0.9623432019878835), (19130300, 0.9205263769347306)]), (2024982, [(8508289, 0.8989379513771181), (15310627, 0.8899081106119184), (11863888, 0.638096162418738)]), (26178680, [(5827713, 0.844266335268719), (5827998, 0.7196995274720621), (5827998, 0.7196995274720621)]), (8580256, [(14655886, 0.9613508024504286), (19810810, 0.6624441400130265), (7891758, 0.40863905575734893)]), (28974071, [(7868833, 0.9144181320445224), (7486446, 0.9089245491542557), (20207839, 0.8526231082574633)]), (235898426, [(25972498, 0.9492907412479507), (36789378, 0.9491750636585302), (16747836, 0.9228655726186736)]), (20237827, [(16429519, 0.9381996343573917), (4008423, 0.8724588161563516), (9260193, 0.7908645886236692)]), (126673518, [(8372023, 0.9452143350219252), (40267722, 0.8744195147468717), (24751008, 0.8705587062971637)]), (49138740, [(14387136, 0.9739653935742405), (14387136, 0.9739653935742405), (14506386, 0.5131944742345151)]), (62756503, [(6605136, 0.9434499241820418), (3987930, 0.8585567465055182), (16411839, 0.8474187791289339)]), (175619442, [(32353763, 0.751056345732011), (15389076, 0.7090475132684909), (20263356, 0.5816523147796501)]), (63096743, [(16816372, 0.9651025026321609), (4412603, 0.9145527876556232), (34354471, 0.8831109747736366)]), (218930, [(3144267, 0.9578463308115627), (4252548, 0.9477652763656663), (16562021, 0.9434992555877417)]), (59939789, [(7486446, 0.6138645536736624), (7486446, 0.6138645536736624), (21831503, 0.2592956812060613)]), (155345616, [(18184250, 0.9324868041170664), (21037446, 0.8496107712441865), (9980935, 0.7471869835538096)]), (205241914, [(11817134, 0.5877426283147725), (11817134, 0.5877426283147725)]), (129792281, [(19231081, 0.9790841044401587), (21461500, 0.6263430087802573), (19107598, 0.5338369629811439)]), (2515064, [(23548940, 0.9629646228718327), (15413048, 0.9539777978199411), (4507632, 0.8936012149373653)]), (121277686, [(4008423, 0.9205769359555441), (4008423, 0.9205769359555441), (4008423, 0.9205769359555441)]), (62526029, [(11971734, 0.7366410057883263), (20335984, 0.6699783029508751), (11972403, 0.5850056553140092)]), (49213141, [(17863026, 0.925346130807245), (17856170, 0.847076163693012), (17856170, 0.847076163693012)]), (15847691, [(25044951, 0.9883140155808675), (33148773, 0.9859580543074419), (34354375, 0.9623370088420882)]), (377042490, [(36465054, 0.7982318833559092), (4499317, 0.4264743710885799), (5377148, 0.42340795146924204)]), (99582669, [(37062341, 0.9218216001465461), (33232136, 0.8864683606113781)]), (46068970, [(7931127, 0.9579740252784129), (7931127, 0.9579740252784129), (16412556, 0.905554251687926)]), (97237753, [(9635192, 0.7309232152888333), (7843168, 0.4451092185228364), (10021704, 0.4275831756662553)]), (95283027, [(8765476, 0.8058711411150659), (4730292, 0.6495307702111379), (6830660, 0.42374518185915694)]), (4171076, [(5276634, 0.948149041860866), (24834560, 0.9391606958948379), (24834560, 0.9391606958948379)]), (30511418, [(33604276, 0.930971423212464), (25793757, 0.7411207507099428), (19580455, 0.18692231181693464)]), (35450730, [(17956150, 0.9955469741793253), (19220212, 0.9946834666472205), (4271052, 0.9882870854078281)]), (717736, [(4446102, 0.9549784279818424), (4115899, 0.9308275669328574), (4115899, 0.9308275669328574)]), (22826088, [(20610905, 0.8440825016874081), (20836943, 0.8293013027468837), (12536372, 0.7264102447550014)]), (16515524, [(16429519, 0.9767724036125389), (4008423, 0.9430094227216851), (4008423, 0.9430094227216851)]), (8632113, [(7098960, 0.9586282684637496), (17831037, 0.9329302285397215)]), (17798553, [(13668845, 0.9892876770700257), (13668845, 0.9892876770700257), (4484727, 0.9826469027140183)]), (32746589, [(35021657, 0.9745162669128873), (41418166, 0.95214999871743), (40733550, 0.8524061651358044)]), (186851103, [(16354124, 0.820609901692675), (16354124, 0.820609901692675), (16354124, 0.820609901692675)]), (34332091, [(19286135, 0.9490121550862509), (14078887, 0.8497672190326294), (14078887, 0.8497672190326294)]), (184020459, [(16823251, 0.8697555750113223), (16823251, 0.8697555750113223), (19838603, 0.5118447008217732)]), (74711386, [(4484727, 0.9869946697607175), (5186159, 0.9775863496395831), (14387136, 0.935154504618749)]), (29351751, [(7399093, 0.6102913994009287), (24000873, 0.44158726292346884)]), (45818416, [(20609405, 0.9425349677408668), (19286135, 0.8159945184432409), (19286135, 0.8159945184432409)]), (39140264, [(7152364, 0.9822884408160684), (18109887, 0.958685725454675), (35818699, 0.9174862175505377)]), (29672582, [(19595322, 0.9806165893063913), (19595322, 0.9806165893063913), (20084815, 0.8395066485623541)]), (14360713, [(5214091, 0.9594472822440894), (24988864, 0.926713771341299), (4541183, 0.9102781288300191)]), (16351092, [(7282084, 0.872764355507051), (4252548, 0.850572381644017), (16412115, 0.8287556612037594)]), (19963032, [(9079545, 0.9601442816707455), (24526943, 0.9238126358965386)]), (3441367, [(7143817, 0.9757585712390414), (4138944, 0.8555950751048605), (5272363, 0.7844948326368711)]), (21322703, [(4583694, 0.9900679210595238), (4583694, 0.9900679210595238), (9260193, 0.9783919022594676)]), (28658940, [(6023517, 0.6805361437302049), (42078904, 0.4116066527949124), (41604541, -0.03100373684238933)]), (8041009, [(7311328, 0.7804957398068301), (7311328, 0.7804957398068301), (23848309, -0.9635265224676334)]), (235375529, [(21854674, 0.8712922422179763), (9901369, 0.7485682992437628), (24002101, 0.42228317168641155)]), (54460225, [(21854679, 0.9543385225741708), (21854683, 0.8158862590606949), (21804950, 0.7169080832665622)]), (1290951, [(16231661, 0.9708607607699051), (12366821, 0.9604033478339408), (24506236, 0.9538522918704309)]), (15290263, [(22254514, 0.9414389776559491), (29256550, 0.9359654276692054), (20259295, 0.898372011847085)]), (277672515, [(4412603, 0.6913874301429767), (6023517, 0.4437703276358683)]), (26564058, [(16546583, 0.9675763686115106), (16429519, 0.9358999061069908), (11713539, 0.7934905584286747)]), (26524510, [(11228389, 0.977106995070919), (11642766, 0.9674629653599214), (4990462, 0.5187278460299937)]), (122868556, [(11245263, -0.9397645765911679)]), (125890456, [(35634164, 0.7937592309806837), (25972498, 0.6931130363035354), (2868366, 0.676558296148664)]), (8109490, [(5827713, 0.9506134267038364), (5186243, 0.9018477031535026), (5827380, 0.8161005254327421)]), (92845, [(12995321, 0.9906638498671179), (12995321, 0.9906638498671179), (11381088, 0.9769614933855658)]), (261332020, [(39716900, 0.9234832258002459), (37222469, 0.4938176310168022)]), (13365157, [(3639516, 0.7999312913084894), (10478373, 0.7650411283798678), (8195397, 0.40466949714869954)]), (134841358, [(37015563, 0.831480166084516), (37015563, 0.831480166084516)]), (42135977, [(3144267, 0.8487471278313942), (7930891, 0.7768112155892167), (3863231, 0.5137202387229308)]), (149387255, [(9872354, 0.9562552408107742), (16231781, 0.9545342566243908), (16231492, 0.5421546886832023)]), (52207457, [(21358206, 0.8502594527531246), (16391421, 0.6485798295748353)]), (27917298, [(8779986, 0.540645613649981), (8779986, 0.540645613649981), (8779986, 0.540645613649981)]), (343358833, [(39619617, 0.6257588344982649), (41604751, 0.5105616452758902)]), (8691387, [(5897641, 0.9416746256856026), (5897641, 0.9416746256856026), (5897641, 0.9416746256856026)]), (15570332, [(16765018, 0.9883375627962901), (7511173, 0.9387486568055555), (22488997, 0.8261810526342678)]), (50244944, [(12240256, 0.9854371143359211), (13175045, 0.8433666086314268), (15722457, 0.8432039520375144)]), (53854564, [(18759060, 0.7714580362687364), (2868366, 0.7086772321789292), (20060105, 0.5730949386446698)]), (21942512, [(5889741, 0.9303161010990515), (14100301, 0.8930985417132014), (20769647, 0.8121921191920504)]), (38839186, [(24707713, 0.9755878349449146), (43407835, 0.8442627524694863), (43407835, 0.8442627524694863)]), (27632396, [(25099004, 0.9448150195478939), (11972403, 0.9357993546642629), (26232923, 0.9035591014799085)]), (124154136, [(42246264, 0.6393094124048827), (41604013, 0.6382002929150593)]), (213924081, [(15774113, 0.8869878839879227), (30095775, 0.8606378390853018), (41603861, 0.7538327974251728)]), (25074345, [(21014924, 0.8387964004727196), (2673027, 0.6126582996550036), (11865360, 0.4101473910555101)]), (46600325, [(14083824, 0.9263323500466832), (10214097, 0.7430057718087055), (10214097, 0.7430057718087055)]), (17684286, [(20207839, 0.9635212834715035), (21758896, 0.2567928954008811)]), (22070064, [(11865360, 0.7091260850918705), (22577633, 0.7061552449074066), (15267692, 0.6759169177246951)]), (6258977, [(6221711, 0.9874919416776021), (9635192, 0.9270866846149796), (22197284, 0.9039193185257259)]), (33168357, [(7879020, 0.7770092247405064), (25793757, 0.4563164767710485)]), (198052653, [(29552115, 0.9155659470358968), (28417802, 0.9036022777913755), (19184503, 0.8740946889072434)]), (353541202, [(3753251, 0.6386665292413843), (3753251, 0.6386665292413843), (34318004, 0.10192579344281438)]), (96841461, [(7843168, 0.9636532837502219), (7843168, 0.9636532837502219), (34049490, 0.8139277429098386)]), (94414824, [(19163641, 0.8525183997820671), (28417802, 0.8116073717153337), (31812483, 0.6913907343389523)]), (55539306, [(8259582, 0.901856075511087), (7614627, 0.8572113801243034), (4613432, 0.855225638666123)]), (113224022, [(3863231, 0.9053038298127071), (3863231, 0.9053038298127071), (7282084, 0.7652454205912677)]), (21675252, [(19831199, 0.9782416904599337), (19901171, 0.9052559811480436), (18666776, 0.8735474248157409)]), (15225883, [(5428153, 0.9724145429175024), (15792137, 0.9686667593195079), (540039, 0.964170779404814)]), (177297675, [(21257843, 0.8478823260173055), (15581193, 0.8128715795889174), (18582303, 0.5446050355827019)]), (24615372, [(9260193, 0.8875437453741992), (12345284, 0.8121040998850992), (3639516, 0.3944825811923581)]), (150806727, [(16527216, 0.9947193244719342), (16525305, 0.9823189875782634), (16525305, 0.9823189875782634)]), (3647210, [(11750389, 0.97397332351795), (19009257, 0.9697028097121478), (6221711, 0.948120997714743)]), (105532281, [(22666446, 0.9760107050297289), (10106290, 0.9404340635862024), (3479446, 0.9303838609563534)]), (78076691, [(2156329, 0.9731471577158033), (12906176, 0.7796712625458039), (17595156, 0.7461625923499966)]), (2195958, [(32605119, 0.9487742477296904), (12998449, 0.8538978175980771), (19286135, 0.7337265449557585)]), (190588790, [(4507632, 0.914601609153818), (25130085, 0.8462842656123539), (35805260, 0.8159272774290253)]), (34567198, [(3258894, 0.9441381120516867), (6034863, 0.7171142415997666), (7350811, 0.6264977612399483)]), (277072599, [(40855337, 0.657308771710156), (42417293, 0.6324022417904983)]), (57693908, [(31527262, 0.9668393815567002), (21758153, 0.9585528865367245), (9898367, 0.36483192915027335)]), (203594846, [(35021657, 0.8844346538866765), (35021657, 0.8844346538866765), (40733550, 0.861545327233158)]), (4797634, [(4022486, 0.8783394940681595), (4561484, 0.8747084850669211), (4561484, 0.8747084850669211)]), (45211, [(7930906, 0.9262123015385779), (7931127, 0.6264814245422685), (3863231, 0.6263773364674198)]), (8145165, [(14191894, 1), (5494971, 0.9919078378799606), (5494971, 0.9919078378799606)]), (30069896, [(15154001, 0.9895982652760282), (1081816, 0.9844645162882596), (19810810, 0.8904078892177323)]), (108238729, [(25955418, 0.8706887404759254), (21192653, 0.8096079555348197), (21509015, 0.8070985057403159)]), (37890370, [(16578060, 0.8897055496530596), (19370670, 0.6272859232421031), (20141569, 0.6259782278573885)]), (4948150, [(8765476, 0.4252948759429047)]), (122593381, [(12703293, 0.9662436416908067), (30337969, 0.9550584081103697)]), (332690842, [(22745179, 0.8055303674576684), (40638890, 0.511420030113146), (42079535, 0.4070676547951509)]), (279967869, [(39618567, 0.6269997435126585), (24979153, 0.6258703315842907), (18450908, 0.5736318055065625)]), (95513094, [(10399199, 0.8232777816052043), (10399199, 0.8232777816052043), (10399199, 0.8232777816052043)]), (208586292, [(13926988, 0.7427342286178209), (21941085, 0.6484067895682882), (30255865, 0.4236556095280866)]), (57035485, [(14731717, 0.78399996876747), (30255865, 0.625228460443564), (2963939, 0.29052081335388225)]), (7813188, [(7534889, 0.8650908575890224), (7534889, 0.8650908575890224), (5809483, 0.7642366691312932)]), (3289968, [(3980202, 0.9986265649208481), (3980202, 0.9986265649208481), (3980202, 0.9986265649208481)]), (14665259, [(16525305, 0.8502826981094543), (14600122, 0.44277234611086413), (14600122, 0.44277234611086413)]), (14421758, [(28924202, 0.9845632459967515), (16525305, 0.9576371376211166), (4271250, 0.9564008024616746)]), (3696085, [(12805743, 0.9532401659794908), (4541183, 0.9011254823482656), (19163641, 0.8742182110372537)]), (12746141, [(4484727, 0.7591619813149615), (20397202, 0.7431678285338806), (22636241, 0.6382422721982268)]), (369320, [(9891697, 0.8854914693888775), (11576431, 0.8612482407543023), (11576431, 0.8612482407543023)]), (125154939, [(5214226, 0.4260393155455344), (5184871, 0.36218575767531386), (5184871, 0.36218575767531386)]), (14711565, [(6718219, 0.9773380673197032), (9513005, 0.8360486479585305), (7182042, 0.5295114591710669)]), (154114229, [(24034891, 0.6258786271496345), (19576036, 0.442582976477981), (21854681, 0.44214049435053693)]), (20093847, [(5024661, 0.946588438586034), (6178568, 0.9114951198647265), (3144267, -0.5496616393546104)]), (181486316, [(32148763, 0.8921153715108059), (29599048, 0.8904949424864803), (16571493, 0.7887258165524169)]), (69441693, [(4541183, 0.9734252677934176), (18017622, 0.9443384639131032), (16850703, 0.6887698386901265)]), (14180731, [(6518372, 0.9887819060762916), (13591536, 0.9809135191505153), (4183194, 0.9759954747948713)]), (185300310, [(8180346, 0.8681051894928573), (6113485, 0.8273192822722862), (21915252, 0.8211432671220252)]), (42760661, [(5827713, 0.9525242821306491), (5355703, 0.94496535369368), (14740975, 0.9315779266952766)]), (841659, [(4541183, 0.9703473512872748), (6100964, 0.9572118846392841), (18202395, 0.9561389596466431)]), (258127407, [(28097937, 0.9754305098463851), (22051870, 0.8890716426593461), (26816186, 0.5431394644383962)]), (28292059, [(29993904, 0.9671220628902718), (33331298, 0.9614110395618123), (36857203, 0.8619100797216587)]), (105910787, [(10021704, 0.7622264038580485), (10021704, 0.7622264038580485), (12475063, 0.6194627513103668)]), (372593062, [(43337094, 0.7585076925555806), (43337094, 0.7585076925555806), (43337094, 0.7585076925555806)]), (109978383, [(12998449, 0.981789770205944), (12839857, 0.981109156072377), (12703293, 0.9806905934397783)]), (64738613, [(5495447, 0.9799946137036765), (22577633, 0.9412861586332516), (5276634, 0.9401853743381581)]), (24559673, [(3144267, 0.9002581816617983), (12906838, 0.8671846108473699), (2838555, 0.6787671109770209)]), (235769268, [(4990392, 0.9864056905274049), (20263356, 0.9470473253674866), (19164675, 0.23129391510659436)]), (217178280, [(9828881, 0.7066302116882434), (9828881, 0.7066302116882434), (17928170, 0.626956692012255)]), (342130489, [(43629592, 0.76487949468606), (33112624, 0.681774360562462)]), (29771819, [(18998659, 0.8869470250005994), (18443242, 0.8011479471420744)]), (316660930, [(40712093, 0.756450160435758), (40855337, 0.4575119560125732), (25972498, 0.34369361826251266)]), (24537361, [(15346634, 0.9850122975366896), (7039222, 0.9645304097076562), (36212391, 0.9497315726593822)]), (128304492, [(15019776, 0.9608753058558629), (17742972, 0.9139343460376183), (17944165, 0.8987189622491428)]), (1998549, [(241510, 0.9763402787089587), (2488036, 0.9167546471046937), (11817134, 0.7720743897913608)]), (5909684, [(16620686, 0.9654875802221153), (5919270, 0.763558901190678), (5827998, 0.6617183179457561)]), (88629461, [(15167230, 0.9107634292448349), (2696834, 0.8546883373807074), (24034891, 0.7659691149536603)]), (47619923, [(7143817, 0.7214441787719272), (7143817, 0.7214441787719272), (7143817, 0.7214441787719272)]), (26571782, [(25793757, 0.9381451482636742), (26119678, 0.9200051666669299), (36857203, 0.815900205886279)]), (57109850, [(21063861, 0.9465855433420605), (17351596, 0.9435454056772504), (17488629, 0.8902645719393315)]), (346067423, [(42078904, 0.8293695023242567), (42078904, 0.8293695023242567), (15792808, 0.8116057305815686)]), (31899866, [(20155952, 0.8543967862673758), (14462406, 0.8093797574710476), (12484261, 0.8033380097769126)]), (107389635, [(11971734, 0.8455405982345692), (38210225, 0.7328519484733327), (3859180, 0.6162931514005395)]), (343001179, [(41604541, -0.8867255170282516), (41604541, -0.8867255170282516)]), (46262360, [(5493930, 0.9950526458667582), (5493930, 0.9950526458667582), (5494971, 0.8517102898473561)]), (39393461, [(6800684, 0.9560767533477308), (6800684, 0.9560767533477308), (6800684, 0.9560767533477308)]), (26816788, [(13175045, 0.8091022996710897), (13175045, 0.8091022996710897), (13175045, 0.8091022996710897)]), (276779811, [(42885911, 0.8333184396935869), (2868366, 0.8106818523056033), (42885763, 0.7189172707348557)]), (124654018, [(25810330, 0.7899198722345793), (16607454, 0.7895228275518914), (19251396, 0.4054511539154867)]), (221669311, [(16711969, 0.7908812608051513), (35102472, 0.7907139286685422), (24720145, 0.4432329284788181)]), (49369521, [(22776112, 0.963574636832375), (15656782, 0.9602391758454821), (10916250, 0.8713910276692047)]), (27291443, [(5186243, 0.9100794061605008), (5186243, 0.9100794061605008), (5186205, 0.8386347449766769)]), (110537257, [(1024986, 0.8465439989444392), (23848309, 0.6400648841785915), (23848309, 0.6400648841785915)]), (83502210, [(5101196, 0.9053224592171828), (26218347, 0.8814829481046842), (16748453, 0.7895457781301582)]), (1384249, [(11875596, 0.9682104367658391), (19009257, 0.9608508085796647), (19093302, 0.8511791514541658)]), (293746805, [(38772165, 0.7773752789944927), (1024986, 0.631427435525697), (40470586, 0.5752702258924973)]), (94491972, [(7868833, 0.9824906939341966), (7868833, 0.9824906939341966), (13132703, 0.9714037663462858)]), (31841238, [(4926634, 0.8259102636210404), (4584539, 0.8258051352152479), (6888824, 0.8172912752169691)]), (85581986, [(31420451, 0.9410023337006559), (29042415, 0.8313211806717395)]), (249603564, [(42246264, 0.6386053177624362), (40909907, 0.6270650628176196), (42519651, 0.3939381615178335)]), (5995749, [(22193170, 0.9773720523390449), (6959415, 0.9611222960630013), (756267, -0.8970295412063933)]), (10793999, [(20146412, 0.9898873422561435), (10367479, 0.9829902765646743), (19236258, 0.9731930831688076)]), (2737867, [(20146412, 0.9619018173470152), (28266733, 0.9555890030986001), (22098450, 0.9214987725830217)]), (17826967, [(11714703, 0.8742699375638117), (16850703, 0.8386333242317228), (7614627, 0.7843214559915671)]), (725741, [(10299900, 0.7347848404658971), (26931333, 0.6246366961138416), (16412994, 0.5865296997211982)]), (29720876, [(5185612, 0.9853677875505115), (5889741, 0.9839103859146788), (13462899, 0.9823967659988698)]), (3299335, [(8508225, 0.48982303244311876), (8508225, 0.48982303244311876), (8508225, 0.48982303244311876)]), (143900416, [(10325057, 0.9771075603855012), (18331093, 0.9691292995940378), (19800389, 0.8311936641616975)]), (342467871, [(42417293, 0.8997786897318016), (39617816, 0.7836642020274578), (39618567, 0.7562985915240238)]), (6722853, [(11994037, 0.9272284942928726), (17813122, 0.8493463157607872), (22140480, 0.8143616628758781)]), (77893735, [(9079545, 0.9006797100797017), (12839857, 0.5605527610490634), (12839857, 0.5605527610490634)]), (53642018, [(16571624, 0.923977212838049), (16571662, 0.49775200775037626), (16571493, 0.4596344828267156)]), (178345731, [(39619120, 0.6585227016265295), (39619120, 0.6585227016265295), (39619120, 0.6585227016265295)]), (8065349, [(24290316, 0.9750397785961984), (24785585, 0.9548964255340272), (16207617, 0.947125066231717)]), (343254274, [(4973227, 0.9007098797788117), (17928170, 0.294443539030409), (17928170, 0.294443539030409)]), (30134099, [(7662314, 0.6873772099343745), (3144267, 0.6457619021157643), (3144267, 0.6457619021157643)]), (56784329, [(19107598, 0.98216240916385), (12463904, 0.9636652772268283), (27618712, 0.9585467512158263)]), (9478087, [(3954113, 0.9637441364707504), (4069940, 0.7708302414128265), (14673023, 0.6483881243527665)]), (66402093, [(28034527, 0.7869922886366011), (2964022, 0.7575194631569141), (4969304, 0.6806080285980615)]), (101412217, [(12162272, 0.9607609674446651), (31197264, 0.8802886284919714), (34288179, 0.8520755382208713)]), (134845753, [(15389076, 0.9147881051111664), (22534903, 0.8927159544231693), (21061528, 0.8881926641419927)]), (168798525, [(23782119, 0.5717076952325639), (21128303, 0.49418422120338074), (17957370, 0.42286228128006764)]), (32538061, [(19251396, 0.951529795208537), (3995441, -0.4727887478439733)]), (22267872, [(8345350, 0.7492554206441642), (3479493, 0.6716175243822287), (3479493, 0.6716175243822287)]), (51328570, [(6405194, 0.9185464162962507), (6405194, 0.9185464162962507), (6405194, 0.9185464162962507)]), (175016870, [(26056791, 0.9435587670793405), (26683920, 0.8874224625791323), (5797755, 0.8872191810267532)]), (24212602, [(17856170, 0.9903792101958206), (24984672, 0.9541746022711479), (22143968, 0.9465714193309839)]), (59659896, [(21085918, 0.9185678733996092), (21557075, 0.6922447426586338), (29123541, 0.6600493625146708)]), (86829185, [(25972498, 0.7186166703218675), (43407835, 0.5221759347165783), (43407835, 0.5221759347165783)]), (121287746, [(15167230, 0.9636437752482), (2156329, 0.9360912264143118), (36852394, 0.7624074232706382)]), (6315404, [(5186159, 0.6705206657511061), (4484727, 0.6395120798149121)]), (23234381, [(10996427, 0.9785086519001173), (7959059, 0.9272599771193086), (7655771, 0.5448160869709379)]), (12628366, [(4527878, 0.8542381504775403), (3158949, 0.7723871690656184)]), (170502580, [(16236835, 0.807089108857164), (15792137, 0.6262776853489339), (4576362, 0.42601197036518884)]), (12914294, [(18666662, 0.97890987505333), (19901171, 0.9632648320591872), (18577624, 0.9321145925530531)]), (74141093, [(4446102, 0.9817857524027094), (11875596, 0.9444114352096667), (16523058, 0.7648332265547035)]), (59302578, [(27368459, 0.9673443606867369), (22144715, 0.9360551046724593), (22488997, 0.8347372565986657)]), (63687589, [(19286135, 0.9826448685149446), (20207839, 0.9466875666935102), (20207839, 0.9466875666935102)]), (97941435, [(16428014, 0.9813385838798849), (16502098, 0.9601623742299031), (12367388, 0.9586675072505326)]), (3862678, [(4990392, 0.9938668587860595), (4990392, 0.9938668587860595), (7350811, 0.9890031252086264)]), (6247534, [(25878538, 0.7899255732941203), (7399093, 0.06408504234577589), (17813332, -0.7621613808724864)]), (119069751, [(21555786, 0.9330391086690445), (24200231, 0.8935400922665436), (11671761, 0.8663657024443392)]), (175750599, [(6850935, 0.8490309950228215), (6850935, 0.8490309950228215)]), (186263007, [(34870345, 0.8994278917221694), (34870345, 0.8994278917221694), (31886652, 0.8718195619254955)]), (118922299, [(37907711, 0.9717226065183212), (24958774, 0.9382006095617247), (38005895, 0.8795183436321321)]), (11351654, [(40168630, 0.9651602137913409), (34579286, 0.8127311920580788), (29662678, 0.7727774703633722)]), (51537733, [(15906477, 0.9811005056309462), (12658514, 0.9333431976499174)]), (18953368, [(6068744, 0.9310435192300617), (2085130, 0.7903231550547283)]), (102033903, [(19580455, 0.5876168639050834), (43393378, 0.5874586442485062), (5623917, 0.24014381117094996)]), (7511367, [(5902912, 0.9147147112864158), (5902912, 0.9147147112864158), (31520512, 0.558043414005828)]), (21795174, [(3617090, 0.9559822197253028), (3617090, 0.9559822197253028), (3617090, 0.9559822197253028)]), (77363292, [(11817134, 0.9406965227834605), (11863888, 0.9212612796262254), (11863888, 0.9212612796262254)]), (149799050, [(7811199, 0.9707538982919073), (16850703, 0.9586745907267186), (14557631, 0.9187793917246488)]), (192949913, [(17093761, 0.6809199751319107), (4730292, 0.4435398795137849), (18184250, 0.4050716722268174)]), (31948037, [(12257654, 0.9418914967102174), (7808030, 0.8915226704882397), (5897641, 0.5786243771092499)]), (52348626, [(18666776, 0.9610411115895156), (8817446, 0.9490145601752327), (16606463, 0.9387123402989391)]), (61730856, [(16231818, 0.4715556251510117), (16231818, 0.4715556251510117), (16231818, 0.4715556251510117)]), (154686734, [(19516846, -0.38054291442074045), (18632208, -0.4124662819852432), (26218347, -0.7211944718110125)]), (67581777, [(33490643, 0.8899963944189442), (24200482, 0.789243183141574), (35145503, 0.7005796516626519)]), (94030238, [(7879020, 0.7455987540040946), (7879020, 0.7455987540040946)]), (16837209, [(7250803, 1), (7250803, 1), (4926634, 0.8608770839487103)]), (93430900, [(12299983, 0.9306681257508206), (27129285, 0.919389073939755), (29275864, 0.917992789744096)]), (149571913, [(24644690, 0.9030749684854813), (24644690, 0.9030749684854813), (18144507, 0.7346137657305295)]), (34383920, [(9523661, 0.9609964676997349), (12995321, 0.8852016062363607)]), (82183960, [(31527262, 0.954995385927278), (19975545, 0.764215006971925), (16891958, 0.38473009923346424)]), (187226479, [(20598841, 0.7961437705882242), (7399093, 0.6908279005378445), (9901369, 0.6139293469513847)]), (81020084, [(6718514, 0.9827909331723231), (6630341, 0.9741485298902385), (8196417, 0.8696742766443598)]), (500839, [(6147142, 0.9645057836599743), (6147142, 0.9645057836599743), (6147142, 0.9645057836599743)]), (178119745, [(14731717, 0.9324247844568047), (4360679, 0.9231393408817862), (25246986, 0.726989988838903)]), (34560321, [(20263356, 0.9113000876696817), (20263356, 0.9113000876696817), (22197284, 0.2768767738300319)]), (85640853, [(5276634, 0.9910526243402394), (4484727, 0.9720415093764468), (5355703, 0.9492315887636302)]), (346834814, [(29662678, 0.9381932701986453), (20207839, 0.7989417886743402), (37059139, 0.6916372437933606)]), (50451247, [(33429817, 0.9552460657867627), (33499796, 0.9491584089178748), (28400701, 0.9111213678885126)]), (1598066, [(241503, 0.9457954169227645), (241508, 0.8919051392092078), (241508, 0.8919051392092078)]), (48291812, [(22694427, 0.8219198372744178), (24664051, 0.7213508725517805), (18024054, 0.6832294391488499)]), (43554110, [(21376468, 0.972256983929425), (12924827, 0.949646132221597), (3140972, 0.9173416474453284)]), (17273265, [(26464626, 0.9724367742998722), (12299983, 0.9705896689170751), (17813122, 0.9684139703874335)]), (5176740, [(14397294, 0.865999082766201), (14223124, 0.8297263276144959), (19611990, 0.6817019955406146)]), (150379133, [(16231781, 0.8856688696085544), (16231741, 0.8033347091979401), (16231741, 0.8033347091979401)]), (174869022, [(12924764, 0.8825287308396212), (11863888, 0.8690920349072466), (20836943, 0.8541486236058883)]), (36481652, [(21502138, 0.9706081258036869), (4616523, 0.8768663415660107), (32318920, 0.626070619448655)]), (32181061, [(3116909, 0.8389133625170991), (2090132, 0.8007114936634825)]), (164518423, [(6147142, 0.9748263409062847), (18254294, 0.9583419111844765), (14100301, 0.9571508919538301)]), (278753009, [(34526007, 0.757016631856631), (31727506, 0.44138883281563646), (11750250, -0.17100926073141887)]), (1781238, [(7930891, 0.6250346142363772), (33634552, 0.6011732133534315), (19107598, 0.3276334591481034)]), (35122680, [(5902912, 0.9652019406776066), (20732822, 0.7577915416206157), (10598600, 0.20421330014266909)]), (28200072, [(7683535, 0.9854464448611167), (8186452, 0.9612353553666317), (7311328, 0.9487541363089426)]), (5858551, [(6128096, 0.9635452680303125), (4434265, 0.9443468980380464), (6685809, 0.7283461192200307)]), (5469059, [(5827380, 0.8888245277627749), (20812149, 0.817734617340589), (1678744, 0.7969157457902354)]), (3244644, [(5376182, 0.9475778379131302), (39924114, 0.9428415613217495), (23549024, 0.8333811518901896)]), (344154402, [(42246264, 0.9246211505824355), (41603861, 0.7608898840266807), (42079535, 0.6221443017575377)]), (99030984, [(241503, 0.9556365795404487), (241510, 0.5825833554325286), (241508, 0.4069905487625698)]), (108995866, [(3460343, 0.7970272289045852), (16773209, 0.6264093521470229)]), (38366370, [(2840554, 0.9584863919853766), (3258894, 0.9091609616611765), (3863231, 0.8860134867135713)]), (75109316, [(8393043, 0.9895184671645086), (8393043, 0.9895184671645086), (16182554, 0.9702223301305289)]), (20740176, [(12998449, 0.9706479334442729), (20610905, 0.9656696932061439), (12536372, 0.9652241095868854)]), (207853182, [(25793757, 0.9635128695513285), (16989989, 0.8188758479311846), (9717005, 0.7326102072015928)]), (105629681, [(16291031, 0.9674033847685941), (29454180, 0.9290398668985221), (22745179, 0.9169864978830723)]), (24204666, [(14100301, 0.871194959647932), (41314524, 0.8590302807183704), (3158949, 0.8202533829712416)]), (33355572, [(23947783, 0.6250049334060167), (15735824, 0.5731339545574436)]), (243988741, [(982909, 0.97811605439792), (37853876, 0.8434773170399819)]), (45962660, [(2833984, 0.9633881297775628), (18382074, 0.9038586552919264), (18382074, 0.9038586552919264)]), (1884338, [(5246432, 0.9914394746936694), (21758153, 0.9809823451195219), (10510548, 0.9604166523104001)]), (357040532, [(39619543, 0.5721574046767346), (42079535, 0.44427721612516324), (39619120, 0.4434630241038971)]), (24888902, [(20514799, 0.944761225674412), (24751008, 0.8989127960353075), (2156372, 0.8212237065870353)]), (348194447, [(20950425, 0.7640858627491169), (31326007, 0.5731786859812797)]), (40792278, [(18850989, 0.7183019017069532)]), (787114, [(3802621, 0.9310591701706257), (3990431, 0.9279767051057799), (3990431, 0.9279767051057799)]), (144362516, [(20005185, 0.8899199183261151), (24834560, 0.5577148122322015), (18080682, 0.42384774418140075)]), (8763003, [(2121839, 0.9818775720098192), (5246432, 0.9806939080927914)]), (124192086, [(13266699, 0.9588917067678028), (5493930, 0.9481019458832733), (21483560, 0.9373547385036805)]), (106585964, [(12935757, 0.933128250298618), (12302060, 0.880437525136496), (15533093, 0.7003758647411072)]), (2972727, [(20610905, 0.8270184993179672), (24681823, 0.572962961764261), (20703034, 0.5567868734971777)]), (65697321, [(8038199, 0.8016792045288494), (4507632, 0.4449336068990487), (18281394, 0.4422123145425407)]), (51428786, [(24276647, 0.9686866214110461), (6271100, 0.9351998329492357), (2488036, 0.8824914823359825)]), (76094187, [(6485145, 0.8211674021135459), (20918868, 0.4946731592973549), (20732822, 0.4768380603685929)]), (214060961, [(30083183, 0.8240071130587799), (30083183, 0.8240071130587799), (31090026, 0.8083352644347299)]), (7746940, [(23548940, 0.9173881873372036), (29108574, 0.9168366298220827), (16231661, 0.858219622862602)]), (122031670, [(16701352, 0.9778555849322509), (24659042, 0.9608582634358477), (24786308, 0.9596367130880684)]), (222661648, [(1302185, 0.9594819764827764), (1302185, 0.9594819764827764), (4434265, 0.8563738122665644)]), (20908276, [(10460541, 0.8723056259378354), (6339047, 0.40730648478554915)]), (757923, [(1315867, 0.9812977211884455), (29597994, 0.9784279412298007), (22557532, 0.9731501607711999)]), (15289113, [(17813332, 0.9103451115115674), (29454180, 0.8776929012176019), (7683535, 0.8335870431233211)]), (13716992, [(6142181, 0.9737374022309585), (6686851, 0.6902488816201052), (7350502, 0.6900307752228059)]), (3598224, [(6381495, 0.9798108109325018), (3863231, 0.5742684085088499)]), (24603590, [(25993991, 0.9691848157474929), (21061528, 0.9603675682316496), (16547346, 0.957707162354635)]), (113644693, [(33226481, 0.6592293470369631), (20706151, 0.44079117893750297)]), (55997999, [(21236579, 0.972295338048973), (11747584, 0.9072358995488412), (8038199, 0.764859971133611)]), (57181754, [(9872354, 0.9669097936249692), (16412115, 0.8718102128010322), (14810638, 0.7098749793562885)]), (56168771, [(10107535, 0.931515323364063), (10107535, 0.931515323364063), (21915252, 0.6668152991888754)]), (72954058, [(19229162, 0.9373408968731683), (4541183, 0.9227325059723139)]), (42960858, [(9563744, 0.747688678466778), (20698050, 0.6851058984360385), (10444041, 0.6257537854981048)]), (31108545, [(43336673, 0.8859143923174735), (43337094, 0.8607744922482835), (42078904, 0.4336734101252678)]), (54055509, [(16231818, 0.951248633424123), (13539453, 0.9315101452858906), (10626378, 0.9052942898366164)]), (35123418, [(24586538, 0.4955723200646072), (23934649, 0.49447918392060874), (24105506, 0.1331293071843328)]), (9352537, [(8800763, 0.9849443362689514), (21649410, 0.9742906555015358)]), (17579941, [(6826957, 0.9817782402976859), (6826957, 0.9817782402976859), (6826957, 0.9817782402976859)]), (198574720, [(24070730, 0.9781936066021532), (11635459, 0.6257321885746737), (27754006, 0.6141109657637305)]), (228220339, [(15792137, 0.956940945209394), (16044788, 0.8106756713606404), (15792808, 0.8023481305327338)]), (83293766, [(18666776, 0.9899547968741695), (18666776, 0.9899547968741695), (18259421, 0.6257979920656119)]), (140513263, [(20234954, 0.6809739347579716), (4973227, 0.6253152977391611)]), (16696444, [(2375063, 0.9668237512396423), (11541093, 0.9584570128485239), (3419511, 0.9081062107058231)]), (343523917, [(42885911, 0.4401774852575211), (41603640, 0.40105459287741213), (42417293, 0.09478263387082442)]), (42195867, [(14332372, 0.693380510437279), (14332372, 0.693380510437279), (9915648, -0.5567336929573159)]), (51009111, [(24261748, 0.9264065619975818), (369145, 0.9059566741888462), (34246279, 0.8642909572243865)]), (1789855, [(5493930, 0.9911190138926536), (7138922, 0.963668978160337), (2129215, 0.950231488477048)]), (85837608, [(12859055, 0.9761063237869767), (4916186, 0.5738570831811802), (6142880, 0.5145706221779456)]), (205007951, [(22679150, 0.958620970243888), (22679150, 0.958620970243888), (22051870, 0.9274175505517785)]), (57332242, [(17488629, 0.6144901455573544), (17488629, 0.6144901455573544)]), (117574532, [(28239177, 0.7269483049578624), (21941085, 0.5584206303814462), (16428014, -0.018389677749836575)]), (60428644, [(7769781, 0.9387502047801052), (294281, 0.928942429052718), (9567575, 0.8664558205166271)]), (10285758, [(15438962, 0.8799811670889394)]), (21119984, [(5376182, 0.6817621584364004), (23752565, 0.6254622197556305), (30098803, 0.1168692993648549)]), (98497873, [(7843168, 0.667175567663402), (8313660, 0.6604379753004413), (22287564, 0.5424887916628651)]), (33727886, [(16832754, 0.8631844957679005), (9563744, -0.3973927439469379)]), (42553459, [(20509542, 0.9391045571792549), (6718514, 0.9156490259875354), (29307578, 0.8872388123237706)]), (114606622, [(6431505, 0.9387011138498494), (7138922, 0.8583938944370575), (4041554, 0.7352950428278425)]), (18383794, [(19416244, 0.9500578974600332), (16571662, 0.934071868800572), (16571624, 0.8468290808396632)]), (344593611, [(5376182, 0.9738633791041178), (37063111, 0.8910725446744139)]), (124377605, [(26479278, 0.8173710328509289), (6686851, 0.7952760865340323)]), (484199, [(3839469, 0.988738941316602), (3839469, 0.988738941316602), (30578016, 0.9544322884171313)]), (90791375, [(8525879, 0.9267648790161018), (6426551, 0.842993939938548), (26553209, 0.7653261336317063)]), (151504839, [(22694974, 0.6323851629308783), (22694974, 0.6323851629308783), (22694974, 0.6323851629308783)]), (28511590, [(21305609, 0.9680799479917099), (30229992, 0.9253230327292132), (16832754, 0.9151171235034383)]), (3803330, [(4751362, 0.9561233513436008), (5376182, 0.8962235248421238)]), (42364454, [(42078904, 0.7697448675753439), (43337094, 0.6311104793171014)]), (17064187, [(7655771, 0.9139460802417854), (8313545, 0.8351422581355673)]), (110566981, [(17545739, 0.9747985120896674), (18376117, 0.9733602877139368), (5348881, 0.8313531181420687)]), (10149018, [(21927943, 0.9175751933024966), (29089948, 0.7500712843961986), (10641757, 0.7499868836347569)]), (16404155, [(8180346, 0.9577002762783315), (34454047, 0.9013309918945224), (36813787, 0.16551945996253792)]), (7069421, [(11381088, 0.9652729442076521), (22557532, 0.8818459883918365), (22561162, 0.7759373817292742)]), (23099509, [(14580396, 0.9864966331996479), (14580396, 0.9864966331996479), (14580396, 0.9864966331996479)]), (37238638, [(9281075, 0.9838016523399046), (16168152, 0.8639989447330657), (15997914, 0.706719808712139)]), (928947, [(747816, 0.95017330087881), (6826957, 0.9476211493157837)]), (139374229, [(40909907, 0.7889407477339822), (16578060, 0.7644629281730663), (41603084, 0.740632691792408)]), (274373396, [(35668639, 0.7089706181621387), (33388955, 0.6862174292301773), (34231604, 0.44282525322040556)]), (4522375, [(18978737, 0.9177931424611462), (21854687, 0.7268030605879365)]), (17308702, [(35233390, 0.6227756105296735), (39617816, 0.6058037328567144), (39618567, 0.49604772753590953)]), (38424130, [(21820188, 0.9640995507317609), (12484261, 0.8757479598135771), (8156821, 0.8527064759973257)]), (101760737, [(4541183, 0.8254913988737872), (11865360, 0.8020164255705389), (11817134, 0.7118560350557782)]), (131703666, [(15774113, 0.8694521974580215), (4909244, 0.6307838593737577), (4909244, 0.6307838593737577)]), (5779317, [(37063111, 0.9013527753735707), (33025531, 0.7935420491544947), (31656915, 0.6918704183754274)]), (24563867, [(7717118, 1), (7717118, 1), (7717118, 1)]), (52897090, [(28731998, 0.9896321076809759), (34530939, 0.8760553131625265), (29063078, 0.613058014655078)]), (1528512, [(21820188, 0.9712111698983674), (21820188, 0.9712111698983674), (6850935, 0.8963519946360798)]), (14868672, [(13943612, 0.9787538273631364), (4541183, 0.9722230230062289), (648183, 0.9626669123939853)]), (44074843, [(23548940, 0.8998736323088958), (23548940, 0.8998736323088958), (7827659, 0.8152689641663695)]), (3650867, [(14223124, 0.964205940980581), (16280294, 0.9406383322992383), (7054222, 0.8375265541401876)]), (121646385, [(26915369, 0.9783877653937394), (23678562, 0.7717101231414604), (19370670, 0.5298327361551423)]), (122764509, [(27618712, 0.9394182132347021), (12998449, 0.8122166772880588), (16282278, 0.6246370924895815)]), (2159291, [(18881287, 0.9449284168679433), (40168630, 0.7045498712091633)]), (299765178, [(22745179, 0.9630234776201698), (34053192, 0.8783976431254191), (41603084, 0.6253280990062609)]), (25830023, [(36028778, 0.943801665905883), (24644690, 0.9153227245522917), (21154795, 0.6360159618827939)]), (143626855, [(20047241, 0.9698789433221129), (24294873, 0.9036346511138473), (10641757, -0.2896986616107655)]), (10836588, [(7152364, 0.9805073549479993), (4108082, 0.8971560665313019)]), (6406727, [(9320962, 0.9729666595161873), (12878592, 0.9669908361412763), (4768668, 0.9666922349324587)]), (27334679, [(4041554, 0.9756267594242787), (21305609, 0.9633961852208279), (10444041, 0.7912447731845808)]), (142608036, [(16584402, 0.6224295037040631), (11714703, 0.6205401594741631), (1024986, 0.24909124882654932)]), (50339301, [(15750877, 0.886380083459182), (3460343, 0.7205221849277083), (28400701, 0.66695709407775)]), (66282176, [(14791185, 0.9861927047268418), (24781937, 0.9796339564820052), (19780831, 0.9610092683932507)]), (120347967, [(17838889, 0.9627729358357326), (14305795, 0.912981209373843), (18998659, 0.9098577590408751)]), (31766297, [(3987930, 0.9604784973730209), (6142880, 0.9489459194746769), (6099703, 0.9400247400354568)]), (15080620, [(5494971, 0.9178891778846159), (14580396, 0.5857492379456899), (14580396, 0.5857492379456899)]), (84825461, [(14095593, 0.9171472013680315), (14095593, 0.9171472013680315), (8721639, 0.9168406883026577)]), (23007584, [(19647017, 0.9807458305876227), (19647017, 0.9807458305876227), (19353251, 0.9360077151375317)]), (172455627, [(7511173, 0.9814631480034853), (6959987, 0.9675904049053885), (31812017, 0.9179865826401754)]), (10461794, [(3258894, 0.9806146419031581), (14706427, 0.9668512815185728), (6120794, 0.8784585983382633)]), (129811461, [(22140480, 0.9926781693348291), (20146412, 0.9139194609565622), (20146412, 0.9139194609565622)]), (33346267, [(6630341, 0.9688219564381726), (9786807, 0.9410898071430713), (4360679, 0.9349538883471729)]), (5471934, [(39924114, 0.9612171339172819), (1647014, 0.7103460370435831)]), (1423671, [(918880, 0.9723909276801405), (982909, 0.9550975004726008), (11642282, 0.7574767927192924)]), (26539852, [(11994037, 0.9434947380093613), (11863888, 0.625919790035653)]), (117755828, [(29741816, 0.9741096333799424), (40552643, 0.9734984503400543), (25353189, 0.8263853928390126)]), (8312623, [(3839469, 0.9819601908493607), (18420898, 0.9799728907535838), (7292727, 0.9750611993835788)]), (112152393, [(40909907, 0.44340998274181675), (40909907, 0.44340998274181675), (40909907, 0.44340998274181675)]), (12342894, [(16428014, 0.933761786151786), (5650675, 0.7253501245944263), (4008423, 0.4415183030670237)]), (4314979, [(23052272, 0.9687130680039526), (10444041, 0.946623522062373), (20005185, 0.9230223222497007)]), (54490974, [(32353763, 0.8804243880981333), (2492539, 0.6242206191821111), (16947051, 0.1065010014560911)]), (313085123, [(43336673, 0.44975856310736273), (43336673, 0.44975856310736273), (43407835, 0.35018672306467513)]), (25287373, [(4561484, 0.9722753067010391), (8393043, 0.945600746343081), (11267014, 0.8656145425111348)]), (68052867, [(7614627, 0.9513209226200529), (5184871, 0.8436209163773141), (14740975, 0.824295375402372)]), (165468628, [(25591117, 0.8595039400391539), (20703034, 0.8424957114470671), (24704585, 0.5430779101604603)]), (326704678, [(34111493, 0.7480560752463868), (11817134, 0.4454096343008244), (11817134, 0.4454096343008244)]), (22970471, [(6915805, 0.9215842667534045), (11972403, 0.9173790520473524), (7827659, 0.7900095316694662)]), (1593506, [(5897641, 0.9946222181351557), (8872326, 0.9683499024570695), (31812483, 0.9055409410662383)]), (29833597, [(20998924, 0.9230421054518672), (19799435, 0.9020326685864041), (35233390, -0.35927221010143096)]), (7319670, [(8038199, 0.9613217002881554), (21888290, 0.9524187037047247), (8779986, 0.9195189680422758)]), (16405722, [(2731054, 0.9346050602120651), (8022978, 0.9069731626468337), (17798496, 0.894743044435758)]), (47701744, [(11972403, 0.940939688146932), (25759073, 0.855800956916017), (11980197, 0.6808783166595715)]), (5179193, [(3954113, 0.8071602549302839), (6826957, 0.623943979266963), (6826957, 0.623943979266963)]), (106789084, [(13418425, 0.886529240692689), (16281437, 0.8071842085851543), (19199981, 0.7271591724161647)]), (54973640, [(9715442, 0.9105812576122737), (9715442, 0.9105812576122737), (12924827, 0.7539695829624673)]), (77805511, [(26309079, 0.9880685295709188), (24276647, 0.860211852829697)]), (205161859, [(42417293, 0.2988505922058949), (25793757, 0.29246554524436713), (43337094, 0.28977880829482666)]), (104849977, [(2488042, 0.9762972106382516), (10531473, 0.9335785972657752), (10531473, 0.9335785972657752)]), (67504501, [(10641757, 0.7938154678612465), (10641757, 0.7938154678612465), (10641757, 0.7938154678612465)]), (3594635, [(4252548, 0.9665573406707626), (4252548, 0.9665573406707626), (19651474, 0.9532767814256928)]), (337648786, [(40909907, 0.8473745782606279), (41604013, 0.67035202859619), (22114845, 0.625203365470505)]), (50644760, [(22776112, 0.8271989893435059), (22745179, 0.7959084347306249), (12162272, 0.5891657686992569)]), (19334223, [(5186159, 0.8902987475308745), (5186205, 0.6383104474903001), (5129422, 0.5470488176226138)]), (144633900, [(10718463, 0.6873610018920749), (33110734, 0.5866643585359674), (36850168, 0.535355642032266)]), (140648665, [(9635192, 0.7777077765823933), (8513587, 0.7321743016850154), (17856170, 0.45980995283689613)]), (17778129, [(19353251, 0.6976086380098392), (9715442, 0.5281499416270237)]), (247459079, [(21428446, 0.9319066790097421), (44380929, 0.7645117152822327)]), (61000244, [(12687038, 1), (12687038, 1), (24958774, 0.9399568610432458)]), (65530339, [(19236258, 0.9588797485994622), (15536743, 0.8714807255664223), (16686418, 0.7100691749417856)]), (50697448, [(19184502, 0.8495660364116081), (8277151, 0.6902244697050997), (19184500, 0.6130165211822785)]), (9652595, [(4730292, 0.9031033515340701), (11411739, 0.8554013534915322)]), (190519731, [(25086316, 0.9518209979671396), (27887001, 0.9035056617885855), (15532644, 0.5067929852851676)]), (97681492, [(33604276, 0.6257555209667686), (15774113, 0.44391553888684476), (18684661, 0.44224715463684927)]), (102968744, [(15393345, 0.961076231075845), (15455547, 0.9350141749206201)]), (6535407, [(9901369, 0.8254468992530265), (9828881, 0.7727285784824723), (28574569, 0.08213807041169063)]), (105304909, [(6142181, 1), (6142181, 1), (3987930, 0.9721897282271639)]), (50328335, [(5739284, 0.9466369654585217), (16411839, 0.8170502504655011), (8180676, 0.4268919443911574)]), (167114798, [(7830009, 1), (7830009, 1), (7830009, 1)]), (226285540, [(2963939, 0.7431545212516804), (8399159, 0.4422759180328277)]), (177653800, [(36813787, 0.42319365786911056), (36817766, 0.1010351875718069), (36817766, 0.1010351875718069)]), (111842660, [(6888824, 0.9016948402801919), (16571493, 0.8949869905242336), (4008423, 0.8808453218543942)]), (159720159, [(15774113, 0.4920172651415655), (24738846, 0.4416501375620451), (21257966, 0.4413531491016631)]), (28851423, [(21915252, 0.573316212170944), (21915252, 0.573316212170944)]), (30680396, [(16936661, 0.9440561690394457), (21631361, 0.8083065435784905), (21631361, 0.8083065435784905)]), (165783591, [(6099703, 0.9381951868276918), (19651474, 0.7487681713828404), (4616523, 0.6268543728923002)]), (21179265, [(7868833, 0.9568624906489034), (22282038, 0.9224070062188292), (5739284, 0.8562239445244182)]), (77362071, [(4751362, 0.4412870854464489), (17410029, 0.4410780507165739), (21758896, 0.20764587107740723)]), (8738652, [(7350502, 0.9945979689032571), (14397294, 0.9906211430958984), (30219680, 0.9738422179343547)]), (352642678, [(42078904, 0.656448628931351), (42078904, 0.656448628931351), (42078904, 0.656448628931351)]), (69619318, [(2090132, 0.9709407164671675), (13325975, 0.9587016787369605), (12484261, 0.9418229853520307)]), (1202880, [(16571599, 0.8588546341124487), (17917998, 0.8553178927491828), (21360845, 0.8222900179123215)]), (40076664, [(30337969, 0.9564461341672089), (33232136, 0.9338778458581171), (15774113, 0.8655779169797126)]), (27805044, [(16891958, 0.5954552957294676), (23507483, 0.5724755081402986), (16571437, 0.4044257407814447)]), (23331104, [(17949590, 0.9717457496216818), (18114259, 0.9345927621521024), (7814843, 0.8668689996242822)]), (88276078, [(19901171, 0.9660657646657471), (19611990, 0.920584398720358), (18666662, 0.8770184513356304)]), (103402461, [(8004648, 0.9903379184301666), (4969309, 0.928771921233099), (20647210, 0.9281895600493171)]), (31184860, [(15721063, 0.8593306445675759), (10460541, 0.13561011197023431)]), (6280596, [(8180676, 0.8874239237463306), (14655886, 0.8300232047858285), (12859055, 0.6258476929357444)]), (6203416, [(16398559, 0.9745013393422614), (7614627, 0.9678538690464473), (17712132, 0.8308476401678343)]), (4995462, [(6147142, 0.990733619873153), (21915252, 0.9842975406389398), (5798211, 0.9817078003947275)]), (102448021, [(9567575, 0.9931325133091381), (6959987, 0.9577770349701871), (6959987, 0.9577770349701871)]), (133658475, [(27754006, 0.9657509217741732), (8372113, 0.9242905825854266), (4541183, 0.8774949665975733)]), (102057516, [(16411675, 0.8725738978650219), (4434265, 0.49492668166139653), (16411298, 0.49343639973626835)]), (35248082, [(15774113, 0.8603801216478879), (15774113, 0.8603801216478879), (15774113, 0.8603801216478879)]), (9653107, [(2484135, 0.9388057162241135), (879526, 0.9364936443131379), (21557075, 0.9215768971650345)]), (5966796, [(27052457, 0.9726960692149736), (24302260, 0.8817299346140137), (13129971, 0.6707865826920332)]), (27764146, [(30578016, 0.8923091768178075), (25793757, 0.7955056702959654), (25793757, 0.7955056702959654)]), (10218908, [(16665548, 0.8735169873099948), (14397294, 0.22859839001577842)]), (29837638, [(22623221, 0.9660641707409734), (21358206, 0.9410919543332432), (14603307, 0.8470280977931824)]), (232105662, [(17928273, 0.6005170863333917), (5908083, 0.42379358665881434), (5908083, 0.42379358665881434)]), (60180791, [(10021704, 0.9142844390047761), (32411075, 0.7190952571586287), (12366821, 0.34302462087249314)]), (54540853, [(9980935, 0.638788839909343), (9980935, 0.638788839909343), (9980935, 0.638788839909343)]), (23642009, [(918880, 0.9568103293732535), (1218463, 0.9076213455242466)]), (306861662, [(4499317, 0.9833819826317156), (22745179, 0.8848879461511773), (2868366, 0.4186219704553805)]), (37386489, [(4979889, 0.9460856630569323), (5272363, 0.9023397453314308)]), (29735522, [(4484727, 0.9703786731480217), (5377342, 0.8858958447772716), (2696834, 0.7394320647228757)]), (19369008, [(25892078, 0.9706971144795496), (14397294, 0.7102724580153393), (14377235, 0.4931786885734159)]), (70745, [(30083183, 0.9600919678661137), (10244337, 0.955751454938262), (14397294, 0.8251271064170875)]), (241867373, [(32903519, 0.6251149377805341), (43379651, 0.44331627383666605)]), (15725187, [(20146412, 0.9880764976128498), (15154001, 0.981435889825014), (15310627, 0.9757974835827521)]), (88127045, [(4802295, 0.6462794773055812), (10374732, 0.4738253971459555), (9239776, 0.31951077464756916)]), (6112841, [(19417657, 0.9612934990520431), (19516846, 0.8774574374445007)]), (27886539, [(12805743, 0.9285533454278071), (24682167, 0.9264196239401838), (6518372, 0.9046405854300603)]), (158621481, [(2090082, 0.8119141832569552), (21820188, 0.6960962686029016), (21820188, 0.6960962686029016)]), (130221734, [(19580455, 0.9718520507751804), (27561736, 0.9493132609556911)]), (53375317, [(16527216, 0.8850066642111862), (18316457, 0.8223275247711548), (20214359, 0.18205909316919222)]), (6563847, [(7791384, 0.8224482455814359), (395191, 0.5988037009802453)]), (3787016, [(22282038, 0.9430141087413335), (25034490, 0.8823380794173428), (30848481, 0.8124832186936077)]), (16265571, [(4091059, 0.9842037495238878), (3207194, 0.9838875619342122), (28417802, 0.9781778366351068)]), (28996857, [(764599, 0.9556782703817824), (12839857, 0.9224091368211943), (19975545, 0.9149167935200438)]), (53570980, [(6619955, 0.974838721037375), (11635459, 0.946491058242237), (28813059, 0.8438661942250167)]), (322266840, [(40638890, 0.9783839172998698), (3460343, 0.8105006404669787), (3460343, 0.8105006404669787)]), (50020303, [(12162272, 0.9197413874906963), (16385749, 0.7490519846519998)]), (220031942, [(7078717, 0.9436686728188083), (7078717, 0.9436686728188083), (2838555, 0.8299980810369441)]), (117371673, [(41604013, 0.5829314881493417), (41604013, 0.5829314881493417), (41604013, 0.5829314881493417)]), (54565186, [(14655886, 0.9474605344580548), (14655886, 0.9474605344580548), (24586538, 0.6132071958386334)]), (355627049, [(42377979, 0.7283606475782952), (42377979, 0.7283606475782952), (42377979, 0.7283606475782952)]), (23045386, [(27129285, 0.9266557990437232), (1485189, 0.9187569292414952), (1485189, 0.9187569292414952)]), (14131730, [(20812149, 0.91041302516836), (4091059, 0.7322582145860997), (20794954, 0.7183316486835943)]), (95327150, [(12600629, 0.7185523642450062), (16231715, 0.6708575471206), (16231715, 0.6708575471206)]), (23406037, [(4144956, 0.8512037813753361), (22588808, 0.7573948755324966), (3990847, 0.2763678464254304)]), (69599246, [(12995321, 0.9093500322543309), (20509542, 0.8611775556205743), (4309541, 0.6023929506960911)]), (107647460, [(37907711, 0.9684244030058636), (15209910, 0.938059786937258), (23052272, 0.8900389760972758)]), (48289019, [(5919270, 0.6592819798843529), (16665548, 0.24183072481206486)]), (55615185, [(23548940, 0.8884313585880497), (301247, 0.527816143039882), (7827659, 0.46074553816175046)]), (68177865, [(20685372, 0.8437752559716023), (16231781, 0.5107186705311134)]), (5416354, [(21557075, 0.9595050440018252), (395191, 0.9569014834684504), (2377875, 0.8939734813287511)]), (116650476, [(16571662, 0.4456280023059318), (16571662, 0.4456280023059318), (16571662, 0.4456280023059318)]), (14269551, [(4584539, 0.9581103061503842), (4656221, 0.8993058973556621), (8313733, 0.6599661940007967)]), (29831235, [(20039387, 0.9827332027705928), (12998449, 0.9774061713348309), (5897641, 0.9614819270690114)]), (127226139, [(22801581, 0.9472697017578193), (23548801, 0.5236447456136764)]), (134142277, [(8110000, 0.8529169242323129), (3839469, 0.8494344541849443), (27887001, 0.7486646813412797)]), (191360072, [(17488732, 0.9299932356911667), (18202395, 0.7424260265734657), (15792808, -0.7455214580471801)]), (15622209, [(11178283, 0.8182409592287524), (18607018, 0.5665064371883104), (15267692, -0.45191204095903326)]), (341844331, [(15902723, 0.47898166409496623), (15902723, 0.47898166409496623), (15902723, 0.47898166409496623)]), (70853258, [(22193279, 0.9376102072244679), (17399550, 0.7903154953106767), (21855459, 0.7184398119508207)]), (15500452, [(5908083, 0.9574942559421046), (5424565, 0.8895234074022792), (16774180, 0.7190481920229106)]), (10355663, [(5214226, 1), (5214226, 1), (5493930, 0.9623985042335435)]), (351463955, [(24659042, 0.5952140344339087), (24659042, 0.5952140344339087), (24707713, 0.5733628374053705)]), (681885, [(7891758, 0.9780639252501004), (7614627, 0.9709865512143228), (14557631, 0.9451967500186852)]), (146098990, [(16231661, 0.9861154192570274), (33327052, 0.9680292038608158), (10440979, 0.9576699433037594)]), (21307689, [(4091059, 0.9479565789733688), (16502098, 0.8795363201081563), (5348037, 0.8771550603925355)]), (172113827, [(20514799, 0.9485399134703525), (35633646, 0.8846476500291918)]), (5470996, [(5246432, 0.9339058559992034), (5897641, 0.8413436497464079), (5897641, 0.8413436497464079)]), (33342825, [(11515630, 0.988928843269141), (23603274, 0.7719025953647065), (30430704, 0.700712556739917)]), (81850353, [(20588444, 0.9846916823328384), (5376182, 0.6209380063412652), (5376182, 0.6209380063412652)]), (4490693, [(5184871, 0.9557571268605294), (24261748, 0.9129761257662408), (24868069, 0.7575637894578965)]), (42806029, [(3651408, 0.7086625998107254), (12366821, 0.7016922014927176), (10027442, 0.7006975093227921)]), (53770729, [(10027442, 0.9228744547212846), (24932028, 0.8319453303447293), (8345350, 0.649383423513326)]), (103200615, [(27754006, 0.9754565316058359), (16562021, 0.97543973459066), (13377049, 0.9419078329346291)]), (119114373, [(17410578, 0.9068396442545434), (16571576, 0.04671527539561526)]), (64273167, [(25044951, 0.9867970507704752), (19236258, 0.9817694363987324), (28958329, 0.941747417503329)]), (346408465, [(25793757, 0.9026172376511193), (5623917, 0.836045530848693), (25972498, 0.6020747808478814)]), (30281650, [(1678755, 0.9324656390067694), (3639516, 0.9100601772458865), (3639516, 0.9100601772458865)]), (39561568, [(25328461, 0.7844378354460386), (15581173, 0.6591499797651996), (13418996, 0.5877218485035898)]), (192513824, [(20647210, 0.8687074304005208), (26232923, 0.8476835081063983), (20921068, 0.7781572551050138)]), (55438344, [(23065902, 0.625275781355846), (19647017, 0.6226398958823798), (21953139, 0.44273305267279695)]), (38406481, [(4973227, 0.9085653174682548), (26698814, 0.9079555896292729), (28924202, 0.8716352550100096)]), (133231182, [(16657859, 0.8586725666458257), (4990462, 0.7715728149796878), (14332372, 0.6914549189523811)]), (16361545, [(16167315, 0.637653983458969), (16167315, 0.637653983458969), (25716782, 0.6258944618591553)]), (23474532, [(23209834, 0.8472575887957084), (9786807, 0.7945249869139539), (21509015, -0.41112767502675385)]), (359109954, [(40267527, 0.9307360613212027), (15393345, 0.8719425176393177), (15393345, 0.8719425176393177)]), (273284693, [(39716900, 0.9525052738514346), (39716900, 0.9525052738514346), (40909907, 0.7605043312294002)]), (182779322, [(24659042, 0.8748501136383573), (4499317, 0.7359694661940855), (18452331, 0.6812204201546278)]), (156132843, [(17595156, 0.6556316240369863), (20698050, 0.44108987885827855)]), (218408474, [(11228389, 0.8516808740185609), (13703898, 0.8073243750405411), (344803, 0.7082282681423318)]), (126183129, [(4616523, 0.9649037153015678), (5739284, 0.9079921823478908), (4616537, 0.8058822978898611)]), (8533306, [(11411739, 0.9316972378005212), (4616523, 0.7184621910383492), (5184871, 0.6593386964381979)]), (2855922, [(21376471, 0.9811083213414861), (7843168, 0.9627986276128438), (301247, 0.9104675405444197)]), (167447390, [(4499317, 0.9268953618959728), (15792137, 0.8803616652156556), (17928170, 0.8444687841132179)]), (49309957, [(15167230, 0.9035045006294438), (5117966, 0.8437699579874055)]), (10839410, [(41032597, 0.9686054438042411), (20609405, 0.9560217663932727), (8200542, 0.9525432998506825)]), (159286192, [(22575924, 0.9494050423872771), (21629960, 0.28747589923307476), (14334230, -0.0845250970642335)]), (11194254, [(5214226, 1), (5214226, 1), (5214226, 1)]), (7215848, [(7182042, 0.9730810660405933), (4730292, 0.6260482586437175), (9513005, 0.31939268033274476)]), (140081016, [(21855459, 0.9468233846226237), (21855459, 0.9468233846226237), (17399550, 0.6196364309033642)]), (67101952, [(1413962, 0.9778884876649901), (2036711, 0.8251775458205994), (19634599, 0.3332579812610309)]), (11055659, [(32527953, 0.9699063205635124), (5932439, 0.8815485181403016), (34049490, 0.451619637855114)]), (147459446, [(20039387, 0.9525499588716734), (20525209, 0.9450069812273567), (17798496, 0.9240823630220515)]), (15440771, [(33957968, 0.9862305524990765), (28505075, 0.9854540664991821), (14673023, 0.9266585357225022)]), (350463121, [(30578016, 0.6800216257202008), (30687199, 0.5859049499711165), (34053192, 0.47643857362475056)]), (343869371, [(41603861, 0.9081231868906873), (39617816, 0.8010489225196377), (39617816, 0.8010489225196377)]), (26358812, [(12211385, 0.9568922717467747), (16295158, 0.9291591989735457), (38141544, 0.9176149110720087)]), (1495085, [(8609449, 0.9557927001280028), (4526966, 0.9239475937398876), (3988536, 0.8826509869447138)]), (160161643, [(21372953, 0.528150459550371), (20990821, 0.12933726222703218)]), (69914192, [(21370642, 1), (21370642, 1), (16620711, 0.8172210785482282)]), (138102164, [(18998659, 0.90883321246297), (26398086, 0.7090242436406977), (16578060, 0.6257314145145916)]), (11773133, [(7054222, 0.8663811696840749), (23052272, 0.8224722162815553)]), (42432838, [(11863888, 0.9716724899522771), (20610905, 0.9607537403554154), (25044333, 0.9215077811922417)]), (7599024, [(8372113, 0.9580701627350321), (14332372, 0.9483556956680472), (9459389, 0.925505097930333)]), (74751327, [(5827998, 0.9871899075262425), (14524408, 0.9795533450121477), (6147142, 0.9789335428748231)]), (65893667, [(21014924, 0.9799584906551574), (31152040, 0.9714777315038109), (17881784, 0.8802115545352595)]), (8226128, [(6141976, 0.9496036909769706), (5853047, 0.8061528618186509), (5853047, 0.8061528618186509)]), (2439444, [(2156329, 0.9832002604447245), (11875596, 0.9581296359808659), (16523058, 0.9127648865078263)]), (128102293, [(23831806, 0.9556251113234719), (18662873, 0.6080295662553357), (18662873, 0.6080295662553357)]), (82503278, [(9079545, 0.9500519053755729), (20214359, 0.9406253987946718), (10214097, 0.7013764898137925)]), (130173700, [(33604718, 0.7557482364510573), (28812814, 0.7272350908734189), (18755310, -0.06859646695022392)]), (108317995, [(13703898, 0.8822403366028861), (24763826, 0.38292198625850604)]), (106872805, [(7846524, 0.9892431676213005), (32160295, 0.9764468816306625), (16620686, 0.9484439246197643)]), (55378185, [(6959987, 0.9741575753975122), (31627432, 0.9418813867902999), (23760158, 0.5654127892003113)]), (18711534, [(19107598, 0.9649094195063026), (7662314, 0.9316216072476973), (7534889, 0.9296722408389684)]), (47292739, [(28238577, 0.9570723892879388), (29763827, 0.9313443286460705), (14731717, 0.8546703804860745)]), (87839660, [(39618567, 0.8990635373942575), (25793757, 0.7309091593133322), (37655038, -0.22268537283584267)]), (6887756, [(13591536, 0.9878232241978335), (6959415, 0.9549468483150966), (10510548, 0.9433054811276258)]), (340802244, [(25793757, 0.6290319356239351), (1024986, 0.5245755590131322), (31326007, 0.5115056859789939)]), (29716666, [(5214091, 0.9348342488328641), (7879020, 0.8680181990258383), (3863231, 0.8252290663520953)]), (159931966, [(17850705, 0.4423743543696818), (29600789, 0.4328604511183155), (29599789, 0.4325737579427139)]), (14908243, [(17399550, 0.9782292826366766), (12906176, 0.9719261519123835), (18024054, 0.9404728487782639)]), (249231066, [(21493991, 0.9515369213495221), (21415749, 0.8568930942033972), (21415749, 0.8568930942033972)]), (18747478, [(747813, 0.9252048519732865), (747813, 0.9252048519732865), (747813, 0.9252048519732865)]), (24576981, [(43336673, 0.6841316267866054), (43336673, 0.6841316267866054), (27513348, 0.42550586048124295)]), (109090334, [(43407835, 0.5901403701297112), (41604013, 0.41574286633254487), (41604013, 0.41574286633254487)]), (5866218, [(24186942, 0.8900878405685583), (27536314, 0.8827512747431028)]), (16288141, [(23815487, 0.980025992967189), (15792808, 0.9655953391756411), (27501982, -0.3234181544042294)]), (6170456, [(16007789, 0.7013414079382922), (16007789, 0.7013414079382922)]), (29791389, [(20207839, 0.9694669015137285), (30498422, 0.9278395681735067), (7010048, 0.9258225663479565)]), (23074029, [(14925664, 0.9613951781224057), (16715096, 0.8238580478852582), (16715096, 0.8238580478852582)]), (87375257, [(33536365, 0.9170809733095587), (36813787, 0.851335951762811), (27089993, 0.8265276070817221)]), (73374625, [(39491185, 0.7694558948740075), (40855337, -0.6167400465389479)]), (1275262, [(7891758, 0.843508776419928), (7614627, 0.6806625580386502)]), (173677926, [(28417802, 0.9811827706078142), (24979452, 0.8267878451052015), (24979452, 0.8267878451052015)]), (134056904, [(29661411, 0.9827278466640773), (6686851, 0.9162466017043249), (10444041, 0.900517379538897)]), (25849567, [(12839857, 0.9751822078216816), (2090132, 0.8840908470319839), (19831199, 0.7907233774746961)]), (3121030, [(12536372, 0.9735900085466382), (7843168, 0.8790267504304212), (5827713, 0.7666888283894971)]), (53885296, [(43337094, 0.6300434573615868), (43337094, 0.6300434573615868), (43337094, 0.6300434573615868)]), (221630491, [(35902259, 0.8906976192305036), (11965790, 0.7448655182735143), (11965790, 0.7448655182735143)]), (146143242, [(15275982, 0.9408247482027274), (9786807, 0.7636587925296638), (9260193, 0.7025153358460468)]), (46461439, [(21854679, 0.9842536184338686), (29020376, 0.8752951417383501), (29020376, 0.8752951417383501)]), (23549765, [(12658514, 0.8168794637269049), (10715448, 0.5274093374327147), (4008423, 0.440808172423235)]), (19446188, [(746929, 0.9884712921419851), (746929, 0.9884712921419851), (3874257, 0.9159684299653795)]), (147491740, [(41257638, 0.9741203576774946), (33795262, 0.9466308960743095), (37484436, 0.5438682300762321)]), (111878308, [(23548940, 0.9786442540178542), (23548940, 0.9786442540178542), (22051870, 0.8684255307444346)]), (49596344, [(30449744, 0.9744072876454707), (9104449, 0.928244193331069), (9104449, 0.928244193331069)]), (33762935, [(8200542, 0.925544734516631), (21376468, 0.8854489727517671), (17410029, 0.8645876193947897)]), (32328186, [(2964130, 0.9068609655862754), (4007891, 0.7231242098754826), (8909442, 0.5729127231557698)]), (125608024, [(11612771, 0.9991040466473466), (11612771, 0.9991040466473466), (25878538, 0.9777820704588909)]), (33327825, [(23133424, 0.9295375221707317), (18969282, 0.6708334916329267)]), (92751201, [(20263356, 0.777087176379248), (10446567, 0.7715011121665596), (28064097, 0.44320733214323227)]), (43271528, [(16876341, 0.9250022455162533), (20865016, 0.648407323637285)]), (12439047, [(9260193, 0.9282641739909531), (468782, 0.8498336016050634), (8196417, 0.13215814992714414)]), (225993076, [(11965790, 0.9246071667111153), (23548801, 0.6489599896341972), (10814989, 0.44402207952224526)]), (344916634, [(43379651, 0.9431054716643439), (43407835, 0.4473121008467052)]), (1701429, [(540039, 0.9966085935850378), (1218463, 0.9368023527777063), (8765476, 0.8036477903694393)]), (219556476, [(43337094, 0.6927013743235794), (43336673, 0.6621089594793169), (43379651, 0.6250496882551356)]), (114286250, [(43407835, 0.7737275577298419), (43407835, 0.7737275577298419), (43407835, 0.7737275577298419)]), (151377965, [(42246264, 0.9641502583167644), (27513348, 0.9468949266089047), (35744548, 0.8979422194082111)]), (12781005, [(3617090, 0.7177877387675013), (15747017, 0.5578917678494548)]), (34730741, [(20610905, 0.9470046046488744), (19286135, 0.9466785090258474), (3753251, 0.930356705974188)]), (13979227, [(1024986, 0.9579545246589247), (10299900, 0.9510074827364932), (16950471, 0.9253056126850695)]), (4417706, [(13325975, 0.9749102967208568), (8004648, 0.9696314767704038), (17351596, 0.9614405253049714)]), (1546003, [(3158949, 0.9930271433513657), (11801190, 0.8686829351668172)]), (89493978, [(21154795, 0.9679884421437633), (26816186, 0.8716316745223655), (16326320, 0.8471695154548928)]), (56938815, [(9104449, 0.421029267773339), (33912109, 0.42063167859485306), (42079535, 0.23390999322308814)]), (128778057, [(10659341, 0.986427050279295), (19107598, 0.9813696012072366), (8133710, 0.9239584786267553)]), (1224046, [(241508, 0.9686306278822427), (241508, 0.9686306278822427), (241508, 0.9686306278822427)]), (10578460, [(5609097, 0.9126429397390644), (14740975, 0.5728113751766745), (14248210, 0.20388873135437335)]), (117544537, [(8513587, 0.8739144901476286), (5551665, 0.8711678932510031), (5551665, 0.8711678932510031)]), (83478213, [(11817134, 0.8681258164075172), (21248885, 0.6260672704264738), (23735948, 0.5112267350652566)]), (28489651, [(16891958, 0.857363742135048), (21191824, 0.7684167829596135), (18450908, 0.6677482356675836)]), (3337807, [(12703293, 0.9684964668807347), (14581356, 0.962844066447227), (30369336, 0.9511591673151275)]), (29429860, [(11865360, 0.9689519020272881), (15747017, 0.9077239337340914), (14682068, 0.8854907266663152)]), (46601454, [(5919270, 0.9466841060682193), (5798211, 0.9462143139394757), (8180346, 0.9293616915287073)]), (146229748, [(20207839, 0.9384203007146531), (4541183, 0.8061044062446902), (16280294, 0.7905091845495015)]), (63729167, [(9866917, 0.9410199747934206), (9866904, 0.6268336745847355), (9866904, 0.6268336745847355)]), (22316886, [(5902912, 0.9957695387466949), (4583694, 0.6813599606263143), (4583694, 0.6813599606263143)]), (28264468, [(12162272, 0.9610561919965467), (22071808, 0.9290357977345313), (39619120, 0.5126434095325245)]), (53650851, [(19164675, 0.625577073995159), (19164741, 0.5784513241188048), (19164720, 0.5273308780821142)]), (108513273, [(9142805, 0.9267039433380517), (1678744, 0.9149246701995216), (7843168, 0.7467087250724128)]), (32418554, [(9866904, 0.6380946905729946), (9866904, 0.6380946905729946), (9866904, 0.6380946905729946)]), (306473285, [(43337094, 0.8302902867390158), (43379651, 0.40330511903302974), (43379651, 0.40330511903302974)]), (145752167, [(6147142, 0.8076400448013134), (8180346, 0.6328878776814382), (8180346, 0.6328878776814382)]), (16422135, [(7350811, 0.9487612039096774), (10600920, 0.7896086177275916), (3752662, 0.6261363208324244)]), (3638228, [(1024986, 0.9811457710800988), (22745179, 0.9344806770145728), (29993904, 0.8082986786854488)]), (58535464, [(12536372, 0.9449602233219444), (16443023, 0.9356431531667785), (21818868, 0.7654342691342889)]), (91402577, [(20865016, 0.858381927526079), (4768668, 0.6377450824391682), (9023549, 0.5877909182700746)]), (186705536, [(9023549, 0.8804243481797365), (23598410, 0.7760120345464497), (25972498, 0.6490399155559479)]), (228818347, [(16584402, 0.8736879912289399), (18662873, 0.7273209938856359), (2090082, 0.6812112229544536)]), (60550133, [(14935293, 0.905243052211197), (4446102, 0.8623206043811245), (11601706, 0.8399593894678998)]), (314897, [(20141569, 0.9662447343850612), (20207839, 0.9660487932900141), (19236258, 0.9656146867336145)]), (88240124, [(13891078, 0.9947313946595374), (13891078, 0.9947313946595374), (14462406, 0.8654478086602886)]), (92546906, [(12219588, 0.8312738749032305), (12219588, 0.8312738749032305)]), (346235422, [(42079535, 0.427150698216344), (41603861, 0.4246051898315182), (41603861, 0.4246051898315182)]), (359240799, [(8038199, 0.8403114530262934), (8038199, 0.8403114530262934), (42417293, 0.4627048201237858)]), (257270623, [(39617816, 0.6242393395234306), (39618567, 0.4778395373645401), (39618567, 0.4778395373645401)]), (8557312, [(14100301, 0.9790759210840674), (35744548, 0.952844661083594), (8180676, 0.8924266543770988)]), (139573408, [(30033286, 0.8068364992469562), (11249182, 0.7336825396317387)]), (15246201, [(21430677, 0.9209651022620902), (23002906, 0.7569276658999434), (28417802, 0.7225717427299815)]), (102459301, [(11245028, 0.9727112381589588), (23815487, 0.9308491410558152), (8664337, 0.7079843282268933)]), (46307557, [(14581356, -0.17461209001928335), (14581356, -0.17461209001928335), (14581356, -0.17461209001928335)]), (9897832, [(16502098, 0.9832662719533214), (16502098, 0.9832662719533214), (19687504, 0.7843680436109112)]), (61719922, [(9802857, 0.9850356040367272), (3859180, 0.8579180940992859), (6993627, 0.3268091304397831)]), (35229980, [(8800763, 0.9680001521440725), (8800763, 0.9680001521440725), (15316856, 0.9412433549948055)]), (63455701, [(7296138, 0.9505401797138917), (12687038, 0.9057613714726135), (12934345, 0.8318463877248279)]), (94360508, [(881683, 0.9236114774683092), (12347038, 0.874339745860994), (872345, 0.5720787680888926)]), (14170709, [(16701352, 0.9437916681532335), (15438033, 0.8968967068799996), (15438033, 0.8968967068799996)]), (94442669, [(20216044, 0.8269408118935828), (14532126, 0.6903846268423605), (26381161, 0.42207858441039003)]), (20256818, [(12366821, 0.9655015944881467), (10302153, -0.050559948706683455), (24506647, -0.8589877930476219)]), (15799862, [(18284913, 0.9257347953887713), (10444041, 0.8993454126025011), (24302260, 0.7559824593930639)]), (22825733, [(11094655, 1), (11094655, 1), (22299308, 0.7627948714396325)]), (92296775, [(42519651, 0.6906302564633171), (43336673, 0.679684015861283), (43336673, 0.679684015861283)]), (17857809, [(24979977, 0.7896634406398089), (24979977, 0.7896634406398089), (20084815, 0.6251058610217106)]), (46419994, [(3995441, 0.9823208354061237), (6995482, 0.939315680113006)]), (134921611, [(1833950, 0.9214487456006187), (764599, 0.9208057053482813), (5111893, 0.9158028238885241)]), (50421712, [(12366821, 0.865989755866799), (10030097, 0.8653515075021407), (12367388, 0.4430560398682054)]), (45048011, [(4818191, 0.8588928984619907), (9485860, 0.8587092223221859), (4818187, 0.858666231693816)]), (42221860, [(5282397, 0.9559526303447701), (10510548, 0.9492470595854449), (10374732, 0.9475935899791246)]), (181276037, [(26504288, 0.8059995161527422), (29603152, 0.495188897736828), (27890083, 0.40289126335850606)]), (14252037, [(20874431, 0.9813121851851818), (26683920, 0.9805446079545317), (12906838, 0.9705065689043003)]), (72103666, [(4616523, 0.9366981848644592), (6142880, 0.8218255515889292), (12614519, 0.748242809655463)]), (156851461, [(32411075, 0.8300313317663933), (32411075, 0.8300313317663933), (32411075, 0.8300313317663933)]), (69463252, [(10030323, 0.8951752270481776), (10040828, 0.7589193192062546), (10040828, 0.7589193192062546)]), (109210805, [(7537485, 0.9008760875144574), (9464059, 0.7401811821553403), (17410578, 0.6125357557962627)]), (102144613, [(14673023, 0.8315958476365526), (15282862, 0.658740598859657), (7655771, 0.5724302544639914)]), (81973747, [(12998449, 0.9825457332137719), (20610905, 0.9428589941641293), (19163641, 0.742476139801242)]), (226617509, [(11972403, 0.9305578607718807), (11972403, 0.9305578607718807), (11972403, 0.9305578607718807)]), (343831016, [(43336673, 0.9372006142550953), (43337094, 0.5370132959542634), (42079535, 0.2842561847428358)]), (36309593, [(6120794, 0.9866098170453688), (4434265, 0.9285224357562784), (3144267, 0.7510118348637128)]), (229243540, [(35788857, 0.9812658715368014), (35788857, 0.9812658715368014), (19107598, 0.9654703351211897)]), (31182060, [(5932439, 0.9578567932773627), (9532788, 0.8301977928855662), (31854536, 0.5568221960981232)]), (25885391, [(14682068, 1), (14682068, 1), (16007789, 0.9876418735094254)]), (25182922, [(14381353, 0.9198480245898715), (14381353, 0.9198480245898715), (14496725, 0.8830961120426147)]), (213514875, [(26816186, 0.9300410501533218), (27037488, 0.8105691948275252), (27037488, 0.8105691948275252)]), (6950754, [(12839857, 0.9598067856488268), (756267, 0.955660729101562), (14154862, 0.8659642392666849)]), (32541868, [(12960218, 0.99257366543385), (5246432, 0.9860282035624024), (5246432, 0.9860282035624024)]), (16420887, [(20207839, 0.9599419104846155), (12703293, 0.920610908384705), (12536372, 0.8911428262963516)]), (6283373, [(19218794, 0.982626180105044), (5186243, 0.9484893846846676), (17371927, 0.9037299792715688)]), (38645709, [(7010048, 0.9926013206167673), (15893111, 0.9898881394064857), (9567575, 0.9638290833005189)]), (22304951, [(4309541, 0.9854432798029658), (8312028, 0.9809846973725689), (17813122, 0.8045003255807395)]), (8647834, [(33111749, 0.9244244728432354), (28673109, 0.8168318927808759), (20812149, 0.6254056839176299)]), (28492945, [(5186205, 0.9341989610117116), (4584539, 0.38637275504106167), (4926634, 0.3841548554404239)]), (16069813, [(7054163, 0.8480012291550786), (7054222, 0.6029823716591369), (7054222, 0.6029823716591369)]), (331744, [(21758153, 0.9777751655441692), (21509015, 0.9648565866426615)]), (2194220, [(4091059, 0.9697197809611132), (18382074, 0.9511790151625704), (17831037, 0.780824971271942)]), (11220411, [(3753251, 0.9923586743033319), (10084321, 0.9862547024651653), (16584402, 0.9812980051269634)]), (34452511, [(8277151, 0.7939632506045398), (17831115, 0.7906269353816174)]), (63968172, [(26464626, 0.9755686683032398), (10510548, 0.925529964463368), (9097877, 0.9188768653267454)]), (3830857, [(12703293, 0.979213011933948), (6339047, 0.9748215648433127), (5787221, 0.8832030006260131)]), (23636413, [(23951548, 0.9793306954898304), (18024054, 0.771998134691382)]), (29476762, [(5798211, 0.8335385769505529), (6147142, 0.47894335331066284)]), (35264588, [(4271250, 0.9849563035828668), (14492766, 0.8272514587850354)]), (41486046, [(29165650, 0.9082783688986666), (30219680, 0.8495466828825334), (31960343, 0.83598723061525)]), (87916248, [(14788839, 0.7570959632190761), (15848593, 0.6314326600212952), (11894606, 0.6118410047652687)]), (28738514, [(20018299, 0.861818336338275), (28264364, 0.624197379987018)]), (44054194, [(20263356, 0.9821803573627952), (37338933, 0.6260444544010915)]), (72111876, [(21483560, 0.9382168264045976), (10977249, 0.9330105089239064), (10977249, 0.9330105089239064)]), (122949875, [(24644690, 0.9723724409660972), (25058544, 0.8878210993091719), (12345284, -0.3777994937406173)]), (1670988, [(5889741, 0.9575076521898843), (18376117, 0.9527882529961574), (21370642, 0.9481596982868759)]), (91469065, [(35081515, 0.3421201349074844), (35081515, 0.3421201349074844), (36001391, 0.3420449095832335)]), (14457375, [(33388955, 0.8994193374119914), (40470586, 0.8264021016356851), (25793757, 0.7853412760141268)]), (1401333, [(241510, 0.9584127790661991), (241503, 0.9583725343775108)]), (339579197, [(39618567, 0.5933453354064975), (41603861, 0.5195546529080597), (41603861, 0.5195546529080597)]), (155466576, [(11228389, 0.7666241983533713), (11228389, 0.7666241983533713), (11228389, 0.7666241983533713)]), (218250656, [(6889842, 0.9570084902739278), (29993904, 0.8708431899423883), (4616523, 0.4070847964371398)]), (2951333, [(982909, 0.96626925266546), (5493930, 0.9502554439446046)]), (25089355, [(10996427, 0.9648655234512362), (11971734, 0.879468646619769), (10030097, 0.7012747129644994)]), (114124176, [(12947194, 0.5885735330325697), (12947194, 0.5885735330325697)]), (98319122, [(15394784, 0.8618954220422245), (11687045, 0.8464808560547277), (30896151, 0.7812459284362056)]), (81628041, [(24700942, 0.907631919983941), (18434466, 0.8567622898979236), (5117966, 0.8032928319429474)]), (4185064, [(28748380, 0.9766276765660877), (16598021, 0.8975238878759613), (22462927, 0.796128360080593)]), (23994118, [(16354124, 0.9787834466869013), (14706427, 0.9738578048728946)]), (9570371, [(21612799, 0.9870148431936088), (25872180, 0.9784717922557248), (982909, 0.6883248532914317)]), (21500879, [(5919270, 0.988931372774894), (15547717, 0.930204561221638), (6983613, 0.9216794338183867)]), (35001198, [(10440979, 0.9218160714435821), (4008423, 0.826310174315805), (4027867, 0.7896647192912225)]), (48603187, [(10531473, 0.9919908814875271), (10531473, 0.9919908814875271), (10531473, 0.9919908814875271)]), (46165974, [(10641757, 0.9750495139563697), (9523661, 0.7274110989719339), (8848001, 0.6386067009506242)]), (268902696, [(1678744, 0.623733040346014), (1678744, 0.623733040346014), (1678744, 0.623733040346014)]), (9740935, [(24932028, 0.9260852428009057), (12211392, 0.6446418786708084), (12367245, 0.44132356121302324)]), (74756230, [(21818868, 0.9301832544359177), (11612771, 0.01911080417015454), (5185612, -0.8361884234800754)]), (85690778, [(20094056, 0.6025377667978626), (20094056, 0.6025377667978626), (20094056, 0.6025377667978626)]), (22873510, [(24186942, 0.961046726475687), (7702277, 0.9428521009923365), (4656316, 0.9123456879076718)]), (54684008, [(5827998, 0.914379110006434), (5827713, 0.8618246132697547), (5798211, 0.5880861827288155)]), (23711418, [(12906176, 0.9205481475841873), (12906176, 0.9205481475841873), (1654284, 0.8602581493780443)]), (157453233, [(33511907, 0.43028544721786494), (33511907, 0.43028544721786494), (33511907, 0.43028544721786494)]), (172480811, [(14334230, 0.9746100862542647), (16989989, 0.7466448340184452), (16989989, 0.7466448340184452)]), (154702553, [(21372953, 0.9635842882527612), (21372953, 0.9635842882527612), (21372953, 0.9635842882527612)]), (110113584, [(20234954, 0.733760478432565), (15154001, 0.6337063387935411)]), (109243776, [(6921649, 0.8801294358565329), (11972403, 0.80936487063708), (11972403, 0.80936487063708)]), (95488184, [(7843168, 0.8943668737877769), (7843168, 0.8943668737877769), (7843168, 0.8943668737877769)]), (70348098, [(7879020, 0.9687284408624731), (23436127, -0.33173447632921005), (31405419, -0.7123981574177471)]), (140251313, [(5377342, 0.9052081623629965), (14100301, 0.8503948583562955), (16236835, 0.47702980285453944)]), (153339454, [(19184503, 0.9147674838315802), (19184500, 0.4912130031958052)]), (344259173, [(24979153, 0.6369096280681049), (11865360, 0.42497550371542797), (24659042, 0.42230245538360744)]), (240758338, [(11972403, 0.9527303578312271), (11972403, 0.9527303578312271), (29599048, 0.8935169194168918)]), (11715399, [(4271250, 0.9772291413898072), (9901369, 0.9404866078220768)]), (45707396, [(5922010, 0.91404403900405), (18582303, 0.7004410315388807), (18471415, 0.5248293934764212)]), (73923360, [(37916346, 0.962685308144325), (6993627, 0.8023128163811261), (6993627, 0.8023128163811261)]), (2791753, [(11411739, 0.6601579519667018), (17033435, 0.1308546794991119)]), (44880400, [(301247, 0.9897370775208865), (301247, 0.9897370775208865), (35805260, 0.8996410093663816)]), (344786483, [(30687199, 0.9220183617068519), (30687199, 0.9220183617068519), (30594823, 0.7698618832041132)]), (48044627, [(17657314, 0.9720256648044474), (819044, 0.8783239459373896), (5494971, 0.8311172206229565)]), (63505380, [(10460541, 0.6260188907156266), (14083824, 0.6258169576320783)]), (334412004, [(42885763, 0.5253174157654783), (43336673, 0.44318661651246705), (41603084, -0.39629787635569125)]), (10449823, [(29962235, 0.9495961422277551), (21929075, 0.8878547749078415), (16578060, 0.7182326267071909)]), (60854965, [(19251396, 0.9402424750683269), (18602770, 0.885454195055211), (17399550, 0.8388354900808116)]), (9570629, [(2090132, 0.9787221862296541), (19231081, 0.9597987433680828), (8512566, 0.7005744101157783)]), (2425605, [(8180676, 0.935612003133457), (3988536, 0.871394097367651), (13235212, 0.13124711272992762)]), (2416494, [(3479493, 0.9346334591976224), (3479493, 0.9346334591976224), (3479493, 0.9346334591976224)]), (35240654, [(1024986, 0.9205357999061805), (21758896, 0.908555922037944), (17738062, 0.4259750400186549)]), (150221171, [(12703293, 0.8897102408365561), (33123681, 0.6258487149758067), (37909987, 0.5256646919450054)]), (258716997, [(33111200, 0.7522071600757847), (33111278, 0.4225623768808688), (33111029, 0.35766628694076064)]), (62980725, [(6100964, 0.9760852963247046), (8372113, 0.9707610664079372), (17619960, 0.8816796694393507)]), (178247838, [(31201327, 0.7266965186415785), (36285087, 0.6253592706841616), (22488997, 0.27520485217484086)]), (23014250, [(15238567, 0.9906947089755542), (3753251, 0.9840684584033134), (3753251, 0.9840684584033134)]), (132546686, [(18486921, 0.9878932365259123), (16936558, 0.9782501134087412), (17416854, 0.9638470082519134)]), (20889915, [(24294873, 0.7681897213847417), (24294525, 0.734983335223923), (14810638, 0.42229712440282957)]), (19337133, [(18486921, 0.8175355195700065), (4507632, 0.7878187511404238), (20263356, 0.424664864099489)]), (113526637, [(10819460, 0.9253821694184583), (2488036, 0.9194433959044678), (8195910, 0.6997914617746642)]), (43231447, [(5493930, 0.9916178146443643), (7959059, 0.9817087941806238), (8765476, 0.8813519490448316)]), (5743308, [(1101652, 0.972531126908348), (11747584, 0.9413635094325626), (7486446, 0.8905452734238626)]), (61775991, [(8533711, 0.8620674149995317), (10814989, 0.6262589590509503), (2090132, 0.4226712561960129)]), (170191513, [(36001391, 0.7899280507155986), (43407835, 0.6816450194164619), (43336673, 0.5599375071281526)]), (354735043, [(25972498, 0.7723850398511457), (44380929, 0.22999926166733442)]), (268905699, [(38005895, 0.9212805386103176)]), (76484791, [(8779986, 0.8705326106884508), (10446567, 0.7644789777796358), (15197371, 0.6598059960156285)]), (14815711, [(5832741, 0.995112786558748), (468782, 0.6911381193400133), (2142826, 0.5992819361324777)]), (10082253, [(8525879, 0.9765542941360132), (8848001, 0.9687845233796765), (7143817, 0.9170283819104623)]), (222006387, [(12805743, 0.9793508497671652), (2451003, 0.9721860499433653)]), (31263021, [(3460343, 0.9644163520759497), (32730349, 0.9161998077160869), (8372113, 0.9079653378157488)]), (29095905, [(1024986, 0.9659077537514079), (9901369, 0.9592954732924293), (1302185, 0.9437426756215995)]), (14622266, [(5797755, 0.9877523589721059), (7683990, 0.9840219853345064), (7143817, 0.9774507227710503)]), (32887998, [(8180676, 0.9550717318069083), (12614519, 0.8658943802662885), (7930891, 0.8168040443042534)]), (5516916, [(3209768, 0.9858867213847787), (4271250, 0.9829812534471528)]), (10222713, [(23052272, 0.7164560878566647), (4069940, 0.6804696378857183)]), (15035633, [(7814843, 0.9453194559274828), (6147142, 0.8752840607690222), (21416331, 0.7644255896300387)]), (20426063, [(32411075, 0.9939727953808954), (22051870, 0.9832463737419089), (21415749, 0.9276693610749392)]), (113161257, [(15750877, 0.9002856053919439), (15750877, 0.9002856053919439), (15750877, 0.9002856053919439)]), (91219826, [(11971734, 0.7395357043457232), (16574207, 0.5113820848255278), (4008423, 0.13104247194240704)]), (16349880, [(14515500, 0.9818028740517115), (23815487, 0.7245851768537326), (23815487, 0.7245851768537326)]), (48900257, [(7827659, 0.9502007439002343), (7827659, 0.9502007439002343)]), (20472968, [(16571599, 0.882230248938191), (16571599, 0.882230248938191), (16571624, 0.8448244646341574)]), (19204194, [(13325975, 0.9611902627424387), (17838889, 0.9475621727355101), (3885720, 0.9089374209578294)]), (31902314, [(8393043, 0.946085942167548), (8393043, 0.946085942167548), (8393043, 0.946085942167548)]), (29965776, [(10531473, 0.8651882952232193), (7088664, 0.6255539047814129), (6712575, 0.5692338618817236)]), (46820001, [(24720902, 0.9645292186113863), (30969285, 0.8266347059189175), (8848001, 0.18295423382555093)]), (119604108, [(16571599, 0.9860153611383842), (16571576, 0.967569178985511), (16571624, 0.5358669378326343)]), (369335503, [(42417293, 0.46564979547038826), (42417293, 0.46564979547038826), (42417293, 0.46564979547038826)]), (20452706, [(7311328, 0.9336415426942388), (7311328, 0.9336415426942388), (27561736, 0.8784845361778512)]), (38132337, [(7054234, 0.9732206511689634), (17471882, 0.8978675713665724), (6941608, 0.8287702581119827)]), (37862360, [(18785678, 0.9054086722403946), (17351596, 0.8911093564597893), (17351596, 0.8911093564597893)]), (24448896, [(3752662, 0.8897376968274279), (15275982, 0.8863961442915501), (7931127, 0.8129164144603039)]), (7457093, [(8608710, 0.9649358844720518), (17481717, 0.9352979333772875), (12934345, 0.8818970098663043)]), (7240050, [(4360902, 0.9004362499996217), (19687504, 0.8497130995026186), (3209752, 0.8001915327371277)]), (236194465, [(21358634, 0.9085726516428875), (15243393, 0.89157583866963), (28321986, 0.6818935650982914)]), (17849597, [(6120794, 0.9515244807608016), (4022486, 0.9502446877308537), (6685809, 0.6141492046549588)]), (84251402, [(16118606, 0.9592244808831165), (16118606, 0.9592244808831165), (32503862, 0.5842036306376399)]), (159562726, [(20874431, 0.9654169212227646), (15455547, 0.9545600115063075), (25634551, 0.9503340811968631)]), (221077670, [(8038199, 0.8276930595775054), (24636842, 0.717576258089555), (24636842, 0.717576258089555)]), (218991556, [(17093761, 0.6808748693711608), (9308923, 0.6251655572315512), (29093098, 0.40292932538733206)]), (52498971, [(14489603, 0.9696185753251573), (14489603, 0.9696185753251573), (8345350, 0.8575725609190362)]), (79420591, [(24682167, 0.9410600099654266), (15735824, 0.8509307281151024), (24681823, 0.49514574440352466)]), (135327000, [(21758896, 0.8550484757057005), (6034863, 0.7895510439444376), (13418425, 0.6600083266418709)]), (180456441, [(21191824, 0.8232882169618251), (21191824, 0.8232882169618251), (22576423, 0.8125472430300078)]), (8231982, [(3207194, 0.9789963404488375), (13591536, 0.9646097864908371), (7717118, 0.9624200053948827)]), (348495457, [(43337094, 0.6287154508676682), (42078904, 0.43357074356857817)]), (86847105, [(21305609, 0.9525670060946451), (20610549, 0.8386801061820001), (4434265, 0.7899632411312785)]), (53105662, [(15274648, 0.8717991293124094), (27078318, 0.840171998356363), (31527262, 0.821536228158304)]), (49239815, [(7511173, 0.9664107770633653), (30429265, 0.6292204772098546), (13556435, 0.49450846961738326)]), (311525299, [(43337094, 0.7568704700659177), (42417293, 0.44259451622351703)]), (7713647, [(241508, 0.9916475248786472), (241510, 0.9837327371548213)]), (24045961, [(9552806, 0.9630228441045733), (19555519, 0.8966837683619133), (4016869, 0.8624786889982842)]), (85514255, [(764599, 0.9619728245354716), (6685809, 0.811316846167716), (12784439, 0.2269872104356836)]), (101783022, [(9980935, 0.9609080146188907), (9980935, 0.9609080146188907), (20027946, 0.9572581635505546)]), (41587546, [(4916186, 0.9918454397565448), (6889842, 0.9903692808400265), (12614519, 0.9710202949549155)]), (19422089, [(36812514, 0.9259748052429333), (10020663, 0.8684110083473097), (18184250, 0.858062223666594)]), (341894819, [(42079535, 0.9664156568881752), (39329661, 0.9158086087841014), (12484261, 0.8879158612176654)]), (42131839, [(19380133, 0.9697054810818678), (14325761, 0.9613050548513096)]), (2949745, [(38783673, 0.9613669877945591), (19615310, 0.9471100988486232), (39612331, 0.751439464084286)]), (370280447, [(43337094, 0.47943850103553), (43337094, 0.47943850103553), (43337094, 0.47943850103553)]), (1395381, [(241510, 0.9705968837719334), (241508, 0.9576080627899775), (344803, 0.17877281798425904)]), (11407145, [(2673027, 0.9824405376094673), (8277151, 0.784363727338992), (4990392, 0.6080162969970189)]), (3010676, [(5246432, 0.989813771548553), (15154001, 0.9726653346408694), (9802857, 0.9624159677455892)]), (2302404, [(241503, 0.9329015096659562), (241508, 0.9327512302643082), (241510, 0.9321084887119122)]), (264730341, [(22776112, 0.9448365970175435), (8721639, 0.5723859692772102), (19380133, 0.5585625737847687)]), (53834765, [(2156329, 0.9861539294619788), (8765476, 0.9849536410798108), (8765476, 0.9849536410798108)]), (14639272, [(20018299, 0.9482686254358659), (3140972, 0.9323139910815326), (11971734, -0.8914786540690514)]), (37195302, [(13325753, 0.9727432109608933), (39369817, 0.9538264777127626), (21194823, 0.6999520281027906)]), (17942409, [(2451003, 0.8964623729456235), (27470725, -0.5092276347339901)]), (2591619, [(8765476, 0.9157379463039765), (7959059, 0.7901341010308243)]), (124829259, [(24200482, 0.9526824073374985), (29494102, 0.94500745389219), (2612906, 0.9297596187589525)]), (231220274, [(30969285, 0.8312514302585351), (29603794, 0.7356700996462572)]), (17897897, [(6034863, 0.7491271821131157), (7350811, 0.723823614984576), (6993627, -0.2343886200418488)]), (21997477, [(30578016, 0.837432284725422), (5973183, 0.7510611032641924), (12998449, 0.6602807332593928)]), (78769797, [(35049439, 0.7624731742994321), (42078904, 0.3763318264224258)]), (28064995, [(5902912, 0.9018435496749291), (5902912, 0.9018435496749291), (2118050, 0.8623350692389364)]), (10226878, [(42417293, 0.7407960937305555), (42519546, 0.6591392671595983)]), (26677040, [(6993627, 0.96304694260407), (7534889, 0.8122130734958131)]), (18704397, [(21554434, 0.9528008010334671), (21376468, 0.9244273673058735), (24034891, 0.8590354443856493)]), (347949972, [(24294968, 0.5513941597999321), (41603861, 0.37702576596587034)]), (61666997, [(8848001, 0.9523065132436384), (6560086, 0.7186396914945008)]), (9512551, [(6034462, 0.9600255808842659), (34239125, 0.954592333224001), (14557631, 0.6273473953255643)]), (65705070, [(5348037, 0.9026795108944009), (5186243, 0.8776561495947519), (5186243, 0.8776561495947519)]), (90025473, [(4505008, 0.7098020342453533), (4027867, 0.6906453144914512), (5424650, 0.6255232566995802)]), (45457820, [(20647210, 0.682897503410159), (20647210, 0.682897503410159), (20647210, 0.682897503410159)]), (61006060, [(13668845, 0.9194704121857201), (9555530, 0.4048575791482304), (9555530, 0.4048575791482304)]), (12315727, [(2146015, 0.8575502240610078), (14390525, 0.6491917574835908), (16391421, 0.631934848852612)]), (86602957, [(43337094, 0.447977602356198), (43337094, 0.447977602356198), (41604013, 0.4458489737199953)]), (67410013, [(10510548, 0.9611669516167809), (35289551, 0.9125697626464604), (16385749, 0.08186183630613741)]), (12145726, [(10273463, 0.8873475435270102), (241510, 0.6892519280448467), (241510, 0.6892519280448467)]), (51630224, [(17928273, 0.9576709215005932), (18759060, 0.9173874826858908), (15792808, 0.8851710043952487)]), (68128901, [(24466705, 0.9902754508033169), (6968350, 0.9762728238073921), (2357514, 0.9762170952249571)]), (1752403, [(13462899, 0.78385321790578), (13462899, 0.78385321790578), (13462899, 0.78385321790578)]), (4756102, [(7683990, 0.9638957986581225), (21631361, 0.9324585555329657), (19364738, 0.8928758196298789)]), (97801066, [(18395154, 0.9715059927755071), (29741816, 0.8489525485806766), (4008423, 0.6937000407247497)]), (17244969, [(6685809, 0.9132753140853719), (4434265, 0.8470074396423787), (6605136, 0.6261113271975334)]), (62344570, [(11713539, 0.9884390375859007), (16686418, 0.9630626278628835)]), (30565263, [(9320962, 0.9747173023009849), (27440211, 0.9583487907925692), (9513005, 0.6004888218003088)]), (10704358, [(3460343, 0.9422413121734523), (11541093, 0.8944661186426015), (2090132, 0.7163730921476179)]), (11315995, [(4535456, 0.994609160495001), (1991291, 0.9869316486924762), (11871765, 0.9712445451352245)]), (66192380, [(25634551, 0.9842824170826887), (28813662, 0.9734011769957317), (28813059, 0.9543710474528779)]), (56463011, [(10598600, 0.9306881399576334), (10626652, 0.9180288449507885), (5494971, 0.9035430803953075)]), (56122352, [(3460343, 0.5715911945829816), (3460343, 0.5715911945829816)]), (106885233, [(11263684, 0.9905689769179971), (8800763, 0.9856287839298291), (11249182, 0.984819105323685)]), (226153816, [(19647017, 0.5002712853506873), (19647017, 0.5002712853506873), (22694974, 0.4424274135922549)]), (356299009, [(6023517, 0.9653054700188975), (6023517, 0.9653054700188975), (2451003, 0.9205640805444908)]), (327611869, [(42417293, 0.6298035596823011), (15774113, 0.19267583873086475)]), (7541326, [(5386637, 0.982378964480298), (8355844, 0.9164571117240784)]), (28723813, [(18755310, 0.956840403274758), (19132856, 0.49657403929134286), (17856170, 0.3639323453784704)]), (37620738, [(10659341, 0.8653145793836599), (8180676, 0.7508443180257556), (14655886, -0.1702952110706104)]), (26782140, [(6034462, 0.9326950941681665), (6034462, 0.9326950941681665), (5609097, 0.8929724923956075)]), (2224782, [(19647017, 0.9503466325829069), (19647017, 0.9503466325829069), (22694974, 0.9421958588795973)]), (16445704, [(27037488, 0.9814059132792963), (38417543, 0.9812511246074094)]), (263982, [(1647014, 0.9651245049609907), (6405194, 0.9619719181993526), (12934345, 0.9574747525544499)]), (184368966, [(31204753, 0.9873752683910263), (24466705, 0.9617431253666822)]), (34570901, [(6300043, 0.9083005945675132), (24070730, 0.7690822222311705)]), (228289951, [(27010290, 0.7263444005194943), (42417293, 0.7213239090687166), (25955418, 0.27753181526050896)]), (19591953, [(12703293, 1), (12703293, 1), (12839857, 0.9984987646303805)]), (103281759, [(28751408, 0.790471907834335), (28791670, 0.7641448444164585), (27377001, 0.6815526902408957)]), (124170672, [(12312848, 0.4229079348488215), (9563744, 0.42234890653394064)]), (76381502, [(31390991, 0.8992245432304746), (21854687, 0.8902535244312391), (8198598, 0.46122960052243767)]), (22076989, [(6906010, 0.8508563247381093), (7015796, 0.6250633950605573), (6299510, 0.47741870869808867)]), (92546419, [(14673023, 0.8717736679626559), (14655886, 0.8590638308966764)]), (215527068, [(43337094, 0.9677047247472409), (41604013, 0.7738167155866559), (41603861, 0.6557658097261693)]), (29187853, [(4108082, 0.9585779342179424), (25328461, 0.9188475137531892), (16748453, 0.1565842647955653)]), (8840505, [(24357656, 0.8090571547445256)]), (55362081, [(5129422, 0.9073127863253743), (5129422, 0.9073127863253743), (5129422, 0.9073127863253743)]), (38055355, [(16571624, 0.7026182235711934), (16571624, 0.7026182235711934), (8399159, 0.6501674425425741)]), (9383128, [(6959987, 0.9782045607266981), (2673027, 0.9734067170049261), (696136, 0.9179321367242668)]), (31283214, [(19831199, 0.967259118253908), (20207839, 0.907444316285384), (17488498, 0.895256345957482)]), (141832692, [(23549024, -0.3294855953770067), (23549024, -0.3294855953770067), (23549024, -0.3294855953770067)]), (23024123, [(8508289, 0.9836000033052807), (14718255, 0.9532346054466573), (14718255, 0.9532346054466573)]), (102073399, [(13462899, 0.9558936748055826), (12299983, 0.9513857327773264), (12299983, 0.9513857327773264)]), (211813801, [(25044333, 0.987452643444519), (27428758, 0.9285418468430622), (5185612, 0.4625897982954158)]), (343797523, [(41604013, 0.44524645807601326), (41604013, 0.44524645807601326), (41604013, 0.44524645807601326)]), (25143378, [(8264717, 0.9884074592695828), (8156821, 0.9691856629017872), (24979153, 0.5125170442058918)]), (60709354, [(819034, 0.9411495659536727), (819034, 0.9411495659536727), (819034, 0.9411495659536727)]), (68556313, [(21036301, 0.44164691842013876), (12366738, 0.441401140979728)]), (37484288, [(241508, 0.9900019493350963), (25888807, 0.9840365429100851)]), (29245204, [(22561162, 0.9822370795114113), (2357514, 0.9781772386627402), (11642282, 0.9647107044454353)]), (31377957, [(14211027, 0.9312515301665516), (9715442, 0.8938583381788778), (4271250, 0.8308401732439524)]), (87212463, [(11971734, 0.9761124496963519), (17376004, 0.30080842259591234)]), (3759810, [(9635192, 0.9466146627088061), (746929, 0.9281752320176666)]), (24045322, [(747813, 0.962890683680799), (24682167, 0.9450819316207182), (19184502, 0.7509303232720205)]), (9884655, [(3717196, 0.9342052757388272), (3651408, 0.9336752310338104), (3479446, 0.789023942693073)]), (2043478, [(6405194, 0.9427295336229912), (8055914, 0.9018502221693981), (8055914, 0.9018502221693981)]), (37579935, [(7039222, 0.9135328710819173), (7039222, 0.9135328710819173), (7511173, 0.5360135095406608)]), (78780308, [(6475373, 0.9757435254265772), (6663906, 0.9750139629749729), (1271360, 0.9638860180162934)]), (65544851, [(36789378, 0.8403991843930334), (33634552, 0.8356753365112488), (1024986, 0.8132421924426207)]), (42345337, [(7931127, 0.9410189144746252), (7538532, 0.9160797566598203), (24434671, 0.8440302821536696)]), (8408328, [(7231780, 0.965630074771554), (5377342, 0.9329780096071876), (5827713, 0.8927162582675455)]), (8288173, [(28125905, 0.7578258666359301), (3651408, 0.44174923762488527)]), (11586252, [(4027867, 0.9567737969239536), (5300431, 0.9243426636648303), (5300431, 0.9243426636648303)]), (9933137, [(25435388, 0.9774760388713561), (24057381, 0.7432753916869623), (14100301, 0.659716242359284)]), (162242897, [(8829303, 0.4508009594772488), (8829303, 0.4508009594772488), (8829303, 0.4508009594772488)]), (1494077, [(6906010, 0.8398357937060658), (37916346, 0.7998952848233393), (14248210, 0.626270951407146)]), (25237504, [(5809483, 0.9526249129617238), (8038199, 0.8753139791088542), (8372113, 0.8113579216822959)]), (170121081, [(41604541, 0.6258784479438149), (41603861, 0.4200571464234722), (8038199, -0.6302762188741471)]), (36201854, [(14984234, 0.9425015803461542), (6630341, 0.9127575355140435), (10446567, 0.8714225893792318)]), (46365809, [(36812514, 0.9656986683522554), (18452331, 0.9603342492425163)]), (231921527, [(22694427, 0.7270808116615828), (4360811, 0.700302257175532), (27272375, 0.6002036998481052)]), (23093012, [(15209910, 0.9122478023921906), (15209910, 0.9122478023921906), (15209784, 0.9065509100256083)]), (41713773, [(1024986, 0.42951591251439736), (1024986, 0.42951591251439736), (23132022, -0.3273664979315243)]), (45259594, [(17709076, 0.95833326360934), (17709076, 0.95833326360934), (11972403, 0.899914986585435)]), (344499857, [(27513348, 0.7216057672565679), (43337094, 0.5504099588822429), (43337094, 0.5504099588822429)]), (54573404, [(11228389, 0.5588864770145303), (11228389, 0.5588864770145303), (11228389, 0.5588864770145303)]), (86777848, [(20874431, 0.8894279734661781), (31114726, 0.7104414692702193), (31114726, 0.7104414692702193)]), (2506808, [(241508, 0.9849967181031444), (241510, 0.9744557547773863), (241503, 0.9393442966196434)]), (121136325, [(6947366, 0.9436995363295266), (17928170, 0.9178174785707013), (16936558, 0.9013796717187392)]), (239040300, [(42417293, 0.8190333939652142), (42417293, 0.8190333939652142), (42417293, 0.8190333939652142)]), (18634070, [(2146015, 0.9045868378864126), (15532514, 0.8290666777902131), (4909244, 0.8116702147240006)]), (21313264, [(7769781, 0.8977059007497294), (747816, 0.6236096833033972), (19220212, 0.6108534814384226)]), (151721911, [(21085918, 0.9062948196097703), (15209910, 0.9056527529932545), (15209784, 0.904716954678784)]), (66815639, [(21854674, 0.9392425120712308), (16665548, 0.8398270375042879), (29662678, 0.8307523795393205)]), (33731929, [(21758153, 0.9793234705669644), (18450908, 0.8802633223551029), (6099703, 0.8142225161186102)]), (7835978, [(369141, 0.9561739905233702), (9464059, 0.8437002802985626), (12312848, 0.38485834590793844)]), (162768565, [(16007789, 0.8125354012054439), (14248210, 0.7845389101625789), (15722934, 0.7097462274167057)]), (132171373, [(15413048, 0.4420617702083586), (6337983, 0.44143584326958785), (20706151, 0.2279264454580457)]), (144117034, [(5185612, 0.8449293471175213), (16571662, -0.761441834634748)]), (50811888, [(18080682, 0.9755174753309959), (7143817, 0.9609888369907779)]), (349003085, [(25793757, 0.6937071249320501), (41604013, 0.5334824784256577), (41603861, 0.5278201588187581)]), (22086017, [(6142181, 0.9964010582576137), (5024661, 0.9808742560891132), (7292727, 0.20248678393689656)]), (47366669, [(17949590, 0.9258343931353794), (20335984, 0.8745149444227529), (18755310, 0.7184091798893322)]), (230479661, [(15243393, 0.9636563507420847), (22575924, -0.6654464249625215)]), (45439845, [(4309541, 0.9487246661494374), (4309541, 0.9487246661494374), (16280294, 0.9055150992955364)]), (177293864, [(17738062, 0.8174020081831281), (18755310, 0.7860175569429864)]), (2531721, [(369141, 0.9638437111996119), (28376148, 0.7233877817160527), (8779986, -0.6636638258178507)]), (18031703, [(14603872, 0.9665081711713219), (5919270, 0.45898671735523333), (3140972, 0.4448856766596593)]), (6245788, [(20040797, 0.7137791248804943), (20040797, 0.7137791248804943), (16391421, 0.6004208284597803)]), (46211045, [(12600834, 0.9146014868990378), (20865905, 0.8879558213789155), (17595630, 0.8612250834880972)]), (115317502, [(16981748, 0.6763203346176245), (16981748, 0.6763203346176245), (23752565, 0.5731821845387792)]), (58842127, [(26755304, 0.9920825537258958), (26755304, 0.9920825537258958), (6921649, 0.9711456437356847)]), (132937940, [(20919336, 0.8716060312600253), (18954357, 0.7626254896381517), (24932028, -0.7768538128454292)]), (110253073, [(35102472, 0.6590797326975013), (33634552, 0.5258014742000426), (33388955, -0.09975273106678473)]), (85021076, [(42417293, 0.6837809942431603), (42078904, 0.5358787959081125)]), (150001012, [(27368459, 0.9180251900045944), (14245740, 0.9129386887301909)]), (43032060, [(12257654, 0.9520018934170021), (24290316, 0.9370221305063084)]), (10334687, [(2129215, 0.9764018040812372), (9746208, 0.9574627836717308)]), (46372961, [(29020376, 0.8990630173983595), (17813225, 0.8121953865841065), (17798496, 0.637726033430419)]), (5843865, [(12475063, 0.9930656472445792), (12345284, 0.12939735901794847)]), (12744121, [(5623917, 0.9539892016655231), (9834743, 0.6826755982872382), (4656316, 0.32198863915074327)]), (86484944, [(5186159, 0.9078586804905002), (5348037, 0.9030069781878929), (5186243, 0.7001913620415177)]), (68916470, [(20732822, 0.9578016291922199), (21554434, 0.9406758580090975), (15712633, 0.9353521179194155)]), (3712441, [(12805743, 0.9902555949053462), (27562324, 0.9838348641825694), (17831305, 0.9293492782796847)]), (53516843, [(22586423, 0.6589121159697418), (2085130, 0.5862729038329841)]), (12896161, [(3856693, 0.9301581132727498), (3460343, 0.8970881329231006), (2146015, 0.8968024206434497)]), (75827679, [(10848771, 0.9768512285535327), (17595630, 0.816674278014244), (7814843, 0.6620973371507411)]), (46684529, [(17488629, 0.978676430794989), (9260193, 0.9091767148313298), (19093302, 0.6377834815898473)]), (188264652, [(22694974, 0.729828321444415), (21953139, 0.7016825882843996), (21953139, 0.7016825882843996)]), (55653423, [(38539790, 0.6248003131793431), (18235755, 0.5117323050913316), (2868366, 0.42282592453501794)]), (13141544, [(20005185, 0.9555165290097295), (37484436, 0.9488795556367722), (10444041, 0.71927460584795)]), (3682993, [(33436577, 0.9810900577522326), (24294559, 0.9132643958063993), (33823127, 0.8348623428801276)]), (56053847, [(5750637, 0.9740851795986906), (18978263, 0.9114834179927935), (14524408, 0.8815529035711567)]), (9844408, [(6339047, 0.945834140752152), (5377148, 0.9137272733591171), (24883137, 0.6608160458732858)]), (18955999, [(14315372, 0.9815682532550845), (12935757, 0.9290983667443042), (14548711, 0.6608772651677535)]), (104648363, [(31699339, 0.9478973793881433), (15346634, 0.4043108754531399), (28354271, 0.13145301254960118)]), (339978864, [(25972498, 0.8750540450621553), (36680482, 0.6601565033359317), (15774113, 0.07533209156162068)]), (20353657, [(4412603, 0.7525123531720384), (4412603, 0.7525123531720384), (4412603, 0.7525123531720384)]), (66110370, [(21305609, 0.97641357418821), (21305609, 0.97641357418821), (21305609, 0.97641357418821)]), (95818071, [(37999599, 0.9726498349935502), (37999599, 0.9726498349935502), (38134989, 0.9607435300245728)]), (69099073, [(37853876, 0.7959880330428198), (25793757, 0.7677093692959126), (35818082, 0.693323271938283)]), (101707698, [(21037446, 0.8165526418900185), (28958329, 0.7097751454666729), (17595630, 0.49580390091660964)]), (3172070, [(29572721, 0.9883280845683042), (29572721, 0.9883280845683042), (18395154, 0.9676555503892098)]), (17864125, [(12960218, 0.6252650947137286), (24664051, -0.604017263059263)]), (86906678, [(21314866, 0.9758651171981972), (25980558, 0.950645918334649), (11865360, 0.8944525843165411)]), (4239600, [(4412603, 0.9775859139244184), (7683535, 0.9231353675745317), (7683535, 0.9231353675745317)]), (20643782, [(10478373, 0.904905828609633), (21416331, 0.7487367470586628), (21629960, 0.7353099745326026)]), (67206961, [(22734583, 0.9507871894652545), (2964315, 0.9252073110551973)]), (30457155, [(6183734, 0.9198418341935911), (7930906, 0.8402788107909334), (6117032, 0.7758793704799548)]), (175460487, [(5919270, 0.9234336064693152), (5827998, 0.7356236645582955)]), (41329859, [(17595630, 0.9637972904738952), (4507632, 0.7195803893630035), (17277763, 0.6259874925655843)]), (345436988, [(42078904, 0.8414816282786173), (42078904, 0.8414816282786173), (42079535, 0.7905620565559824)]), (43634550, [(30561871, 0.93968938568), (20805118, 0.9362195852773717), (19163641, 0.9236852983255028)]), (74038009, [(19576036, 0.9738730602783416), (16525305, 0.9278157135555459), (14020127, 0.8391392534315796)]), (42305660, [(20005185, 0.8992161541875068), (13703898, 0.8797197172574933), (21191824, 0.84765081065602)]), (348240590, [(24664051, 0.572526625409479), (37059139, 0.44266291127459556), (24979153, 0.44228960505244275)]), (22750305, [(15438033, 0.9522094644108988), (2731054, 0.9396273549480474), (21430677, 0.9226390986822366)]), (29348403, [(15792808, 0.806339889761756), (12797883, 0.4933057051640706), (21820005, 0.44235358671401787)]), (32349813, [(33108041, 0.49331649388163434), (31201327, 0.4417300545906147), (35818917, 0.4411043720556087)]), (35259167, [(4584539, 0.9883273658851857), (4584539, 0.9883273658851857), (6888824, 0.920321490351119)]), (235069380, [(26577038, 0.9103334486943465), (7814843, 0.8739566314704548), (29741816, 0.7826727088453507)]), (17939096, [(18131601, 0.4415241126366505), (16748453, 0.44106302596812463)]), (70090605, [(15316856, 0.8894973812419875), (18755310, 0.5268521286900079), (18755310, 0.5268521286900079)]), (24250118, [(12935757, 0.9172660346213685), (5908083, 0.5257238919335406), (5908083, 0.5257238919335406)]), (181024192, [(32663173, 0.8527890898170597), (25981045, 0.82117753601403), (36359535, 0.47610584002052925)]), (38042160, [(9828881, 0.9882551806261478), (9928008, 0.9882263775091454), (14600122, 0.9306076912909471)]), (7338308, [(12998449, 0.9267736619710422), (23634852, 0.917668776539801), (20610905, 0.8477567458700453)]), (195192747, [(24979153, 0.9565512381340967), (41604013, 0.9402712256572175), (9464059, 0.883608813075897)]), (133347392, [(2357514, 0.9125265097374959), (4833408, 0.7004044272123808)]), (64125195, [(28266733, 0.8749885559925463), (42079535, 0.46122259156881373), (42079535, 0.46122259156881373)]), (55242827, [(17545739, 0.9457868596438364), (3838311, 0.8967168213526029), (1229614, 0.7257148215828303)]), (61772698, [(18487688, 0.9382108446017523), (4412603, 0.6721615563180835), (18382074, 0.42388112363535024)]), (58624374, [(9802857, 0.9394655207462094), (9802857, 0.9394655207462094), (27127693, 0.8587969786093069)]), (25386618, [(4535456, 0.9808627237026902), (35788850, 0.9712137935477698), (33112624, 0.9627210181208103)]), (47963273, [(4751362, 0.9649846415952332), (29763827, 0.8733408521546877), (16571493, 0.5104117218439191)]), (152133573, [(12596642, 0.8039713216208817), (21831503, 0.17969349752853164), (15275982, 0.053048855148613794)]), (48984858, [(4309836, 0.9554355770549612), (19469757, 0.8476654358095028)]), (33473172, [(4115899, 0.9642832130450216), (18153307, 0.9462384329261113)]), (15633568, [(3468326, 0.9678392916437871), (5902912, 0.9291564391121043), (16765018, 0.8947371105024142)]), (57307919, [(23947783, 0.9723406334446454), (24290323, 0.9393939245776163), (24681823, 0.6593663271280781)]), (231300538, [(4527878, 0.9673128290189021), (6983613, 0.9586698955538889)]), (1826881, [(8533711, 0.9710639851592543), (7912670, 0.9592368216260795), (6034863, 0.12409137757716737)]), (37572955, [(15895531, 0.9452801169449719), (1599599, 0.915203373799514), (35788855, 0.9047847732318056)]), (42205278, [(17179470, 0.9681709215821482), (21266350, 0.9599277770129206), (27754006, 0.9540768305283486)]), (190587606, [(36760495, 0.7900511691841969), (17127812, 0.7854984315279052), (16876341, 0.4798099401565513)]), (118945406, [(29307578, 0.625375572725639), (35983829, 0.5726094801657695), (24958774, 0.49532350823435833)]), (11637848, [(20146412, 0.9876603615772308), (10718463, 0.9626342402841281), (16989989, 0.7352988404994559)]), (3061687, [(10848771, 0.8820182216007638), (10848771, 0.8820182216007638), (9033647, 0.7968109362352153)]), (298652556, [(42078904, 0.8572136107401854), (21605333, 0.6933864045495095)]), (365913290, [(42078904, 0.7434361105320613), (42885911, 0.5740245659623968), (42885911, 0.5740245659623968)]), (48153764, [(11245263, 0.9552066318615686), (5186243, 0.8515600221963069), (6850935, 0.7851885716025151)]), (83781950, [(6431505, 0.9669931846483263), (9118960, 0.9613291381439097), (7898449, 0.9537847851082804)]), (149931094, [(24294525, 0.9764610296470577), (21370642, 0.9705294171547184), (9504077, 0.6323185699501884)]), (21024870, [(16412556, 0.9095738903850067), (3995441, 0.7964432797287235), (4041554, 0.6498006319025084)]), (67138955, [(25793757, 0.8968473441108927), (25793757, 0.8968473441108927), (33388955, 0.7657369256216993)]), (63571935, [(16502098, 0.9426156164616926), (19132856, 0.851637739670958), (17672050, -0.5105771447885274)]), (30104069, [(8765476, 0.9338090669171404), (9304468, 0.9276964694316532), (7088428, 0.8856889807433815)]), (9080289, [(4583694, 0.9647331683310154), (4583694, 0.9647331683310154), (4583694, 0.9647331683310154)]), (29850552, [(15747017, 0.9193459038934615), (16460492, 0.8708707693669105), (11994037, 0.8516909211250622)]), (14063018, [(12211392, 0.8516270770685859), (12367388, 0.8152803275500895), (8345350, 0.7500231735053267)]), (31641175, [(4108447, 0.8829410305716515), (9260193, 0.7852432257815013), (9054629, 0.6269088923524812)]), (38249327, [(42246264, 0.6488942779456185), (31202731, 0.4030107088894237), (39617816, -0.21395973149501613)]), (17504389, [(6120794, 0.9959989944312427), (18024054, 0.7723215499574512), (4584539, 0.6910548935062272)]), (154536541, [(20816680, 0.9476598740861158), (22051870, 0.9398945594744242), (23548940, 0.8582396288593042)]), (26349084, [(15792808, 0.9092353200079755), (32411075, 0.24449760910929053), (32411075, 0.24449760910929053)]), (23481987, [(6178568, 0.9953761334966021), (11747584, 0.9915935715260067), (2731054, 0.985332692561465)]), (112425850, [(15835320, 0.9537862639333993), (25793757, 0.9222342847386953), (7614627, 0.8249604808329352)]), (48437122, [(6826957, 0.9562319039297198), (4069940, 0.8396431206367981), (4108082, 0.6267194173906855)]), (98774597, [(13141357, 0.7647251168926903), (12600834, 0.6812892336448337), (17850705, 0.42430239829634003)]), (106752894, [(4138944, 0.8266899176504753), (1229614, 0.6254992953747684), (5272363, 0.625353834050537)]), (155875049, [(17949590, 0.9175827332352187), (20647210, 0.6938977231980715), (34049490, -0.837522355972289)]), (20746778, [(9054629, 0.8361878714815179), (19164675, 0.7905368847274061), (22708831, 0.6501530334549077)]), (3958752, [(12805743, 0.8925051241141656), (5889741, 0.6597968531868441), (12839857, 0.4408901786570697)]), (37743611, [(5494971, 0.8057935395399223), (5494971, 0.8057935395399223), (5494971, 0.8057935395399223)]), (14452009, [(11971734, 0.8641864203320088), (11971734, 0.8641864203320088), (7843168, 0.8431612198931497)]), (29713732, [(25282863, 0.8990394151874822), (25282863, 0.8990394151874822), (25366424, 0.8962063545916249)]), (190331952, [(4664392, 0.9081302388328956), (2868366, 0.8635689911074059), (11817134, 0.8626192379398452)]), (30622757, [(10718463, 0.9796652663559947), (8348566, 0.953313363445262), (7039222, 0.9109000517658989)]), (121013465, [(5129422, 0.978605491549395), (6242964, 0.9644214457913408), (5276634, 0.9415251379252723)]), (108792470, [(4656316, 0.9597467669171887), (11411739, 0.9363326070929686), (15750877, 0.7350341800223086)]), (2649695, [(6850935, 0.9550533760334604), (5899156, 0.8120352820745924)]), (227605861, [(21271068, 0.9236877746899392), (21271068, 0.9236877746899392), (21069270, 0.6493740856813677)]), (221500415, [(5348037, 0.882315671554743), (22636241, 0.7972777938300167), (22636241, 0.7972777938300167)]), (343600609, [(41603084, 0.9622443496360615), (42246264, 0.5740999224760969), (41603861, 0.5133209277972797)]), (77869445, [(20207839, 0.9823853631190453), (40470586, 0.9776137514394208), (29581373, 0.9425239673182393)]), (13872581, [(2492539, 0.986670732982746), (2492539, 0.986670732982746), (1302185, 0.9468183830223891)]), (102782702, [(29581373, 0.939498035631436), (29581373, 0.939498035631436), (35818082, 0.9361343291319452)]), (105708211, [(12600834, 0.9632233502354796), (16151194, 0.9629149290254762), (4535456, 0.9526277557593142)]), (72069332, [(6299510, 0.9754715249920777), (6179573, 0.5743985246674226)]), (38123846, [(13998008, 0.9538551540727978), (8180346, 0.8980666323313233)]), (18251932, [(12805743, 0.9939894478950937), (19236258, 0.9939370476598182), (19236258, 0.9939370476598182)]), (214360362, [(15826584, 0.9765220523713422), (30433107, 0.9270231349441032), (24545600, 0.8772378076815012)]), (66532874, [(15209910, 0.8372372755711993), (15209784, 0.6250279649957746), (13541348, 0.4958884647487056)]), (153242043, [(16571662, 0.7322992361064186), (16571624, 0.7077099408010209), (16571624, 0.7077099408010209)]), (10101484, [(15087980, 0.8713179914240649), (20004744, 0.7345405806269302), (20004744, 0.7345405806269302)]), (10802451, [(14840872, 0.9580670647633193), (24545600, 0.9233951494767506), (24586538, 0.7803899026077226)]), (225263042, [(344803, 0.7332072754315456), (344803, 0.7332072754315456)]), (31329962, [(26553209, 0.9428113360097223), (5798211, 0.8744607262589005), (33536365, 0.8575345676232553)]), (73193931, [(12935757, 0.9343716591459852), (3671451, 0.7754277154159781), (22708831, 0.6620175954550058)]), (141238811, [(7830009, 0.8816241347003144), (1647014, 0.8164156655782873), (1647014, 0.8164156655782873)]), (36171080, [(26464626, 0.9920164467494939), (35323438, 0.9570147653602481), (24804467, 0.9491005101726057)]), (16993633, [(8055914, 0.9759406551666164), (5376240, 0.9743477369566419), (3859180, 0.9647605370643061)]), (176229266, [(27428758, 0.4498852857029367), (27428758, 0.4498852857029367), (27428758, 0.4498852857029367)]), (6499065, [(6518372, 0.9819115001976326), (23947783, 0.9673490300091332), (13266699, 0.9477143081498567)]), (58264439, [(15751335, 0.8719306447383536), (9506967, 0.7241233998672095)]), (9714279, [(3347931, 0.836480898448612), (23957921, 0.7430021218933074)]), (20387210, [(16620686, 0.9353531942831423), (16231781, 0.27252868794538054)]), (1469790, [(29766008, 0.9842748190308729), (17122972, 0.9638265259682837), (16057988, 0.9340090160347613)]), (5036235, [(19184500, 0.9514437138992731), (19184500, 0.9514437138992731), (19184500, 0.9514437138992731)]), (20613825, [(6431505, 0.9672603992256742), (6431505, 0.9672603992256742), (29830408, 0.7432081257498881)]), (344116508, [(8038199, 0.9811099446046532), (7399093, 0.7838464463396007)]), (5080458, [(28211070, 0.958828114434586), (21758896, 0.8790018597589835), (29111770, 0.8638280665277669)]), (425958, [(6141976, 0.8965006139521942)]), (112792972, [(36808814, 0.8680474474207305), (33634552, 0.6929928480537251), (16167315, 0.38830090800296313)]), (203984842, [(17850705, 0.8466275415746916), (24707713, 0.8068803686768633)]), (44632670, [(19184503, 0.6257469606996272), (24290323, 0.6005574998431885)]), (15807919, [(1647014, 0.986191300930907), (1647014, 0.986191300930907)]), (39611178, [(7143817, 0.7366773975875984), (7143817, 0.7366773975875984), (7143817, 0.7366773975875984)]), (30670611, [(19771133, 0.945544580002277), (18024054, 0.9055200020029273), (10444041, 0.8585068419604027)]), (69172237, [(14506386, 0.9686936673627269), (14600122, 0.9340230320746911)]), (28885884, [(40470586, 0.7944910250067927), (37655038, 0.6242505371832396), (25561906, 0.5956895822253135)]), (35349680, [(8186452, 0.9862952475904148), (8186452, 0.9862952475904148), (8186452, 0.9862952475904148)]), (39820101, [(5739284, 0.8267213182736343), (14100301, 0.8069735899091316), (16744167, 0.721988181391197)]), (227028460, [(33506058, 0.8484301877738792), (8779986, 0.8224704461664072), (30281851, 0.7439095403486568)]), (29633939, [(5493930, 0.9722332043958621), (5494971, 0.8991683341425445), (5494971, 0.8991683341425445)]), (686439, [(28789161, 0.9593576908155065), (25353189, 0.9347330879856861), (17863026, 0.7267164296444186)]), (8963411, [(1622505, 0.9704618931885972), (1024986, 0.9366410797807196), (19625924, 0.8089081776967721)]), (191817104, [(11971734, 0.6796191134594721), (22051870, 0.47802500200585984), (16947051, 0.44148901944955815)]), (22320113, [(16863370, 0.9385959596809716), (10479544, 0.855941125017266), (10479544, 0.855941125017266)]), (44223252, [(42079535, 0.4228273954964054)]), (18200714, [(16295158, 0.8877390598909553), (25366424, 0.6495059486512988), (21454566, 0.6359008005585649)]), (50518129, [(15774113, 0.8480912058390594), (19353251, 0.7828274380298891), (3158949, 0.6265646035116418)]), (97735879, [(24057381, 0.9137549494006281), (17274946, 0.9114990234006181), (14078493, 0.7551544335265274)]), (28719725, [(19361265, 0.9735665460752284), (18850989, 0.9208769232537654), (14492766, 0.8748521623512886)]), (50282054, [(43407835, 0.9304396213120862), (43407835, 0.9304396213120862), (43407835, 0.9304396213120862)]), (13083314, [(14655886, 0.9815744012104141), (10533297, 0.9763940599342344), (16443023, 0.9654726956055266)]), (71051935, [(33604718, 0.9316010106526732), (33604718, 0.9316010106526732)]), (17709890, [(50646, 0.9794509247641257), (13418996, 0.930549976091928), (17856170, 0.822164521195079)]), (97303339, [(21498775, 0.9526541961397019), (22051870, 0.7953532046367695)]), (11879823, [(6128096, 0.9832325634651597), (6993627, 0.9735507935569019), (6686851, 0.9372682417050893)]), (92755796, [(4664392, 0.9465685144400797), (11817134, 0.9159843359760123), (25561906, 0.22756918333284165)]), (13428939, [(21765670, 0.9496859035741287), (3863231, 0.8903940136620695), (1521198, 0.8649416279686193)]), (154643482, [(34288604, 0.4416685961708615), (32903872, 0.44137088799372426), (21415749, 0.40541235257265607)]), (351815713, [(40470586, 0.611348943888964), (41803435, 0.5711488782846288), (4541183, 0.5572948198381639)]), (15760446, [(3982855, 0.952688294084942), (3982855, 0.952688294084942), (4360811, 0.877080610785536)]), (11345651, [(24751008, 0.735251737534435), (24078928, 0.6251514617000864)]), (16304354, [(13591536, 0.9474122511594185), (25086316, 0.9301684818707245), (20259295, 0.9280409197096462)]), (18600446, [(6426551, 0.9811965934374508), (6679887, 0.9709051548750431), (7381770, 0.9316339099465994)]), (142409868, [(15722457, 0.9909054815529504), (15722457, 0.9909054815529504), (23052272, 0.8663486242678466)]), (5341392, [(5024661, 0.9664041146947426), (5024661, 0.9664041146947426), (20259295, 0.930041072434739)]), (57461144, [(8609449, 0.89381651822093), (16295158, 0.7232266896348541), (14462406, 0.70376409311785)]), (6115661, [(19364738, 0.913373829893725), (4541183, 0.7841991004444432), (20039387, 0.5052360069849439)]), (174339932, [(20714009, 0.8654864343951716), (24068262, 0.7507468453706393), (29850199, 0.6597762372727421)]), (18116729, [(20647210, 0.8312529496635594), (17709076, 0.6811639765915116), (27089993, 0.6810750323943789)]), (819244, [(5739284, 0.9661298242519807), (5739284, 0.9661298242519807), (4616523, 0.9114006300192595)]), (21039955, [(5797755, 0.9226346221615649), (16291031, 0.8269674467623142), (16607454, 0.45951477204492236)]), (170479952, [(21818868, 0.8771266364041027), (21854683, 0.758001987891226), (21852940, 0.7273104531204054)]), (132623327, [(42417293, 0.4936139021666497), (42417293, 0.4936139021666497), (42417293, 0.4936139021666497)]), (343094219, [(42519546, 0.7156007020787492), (43337094, 0.6610822250264924), (44380929, 0.42223698873614723)]), (30392301, [(15154001, 0.8746146376352563), (16443023, 0.8577891811632099), (35289551, 0.6591336602485549)]), (39236961, [(15997914, 0.9242430951742799), (1678744, 0.8964167239469556)]), (512992, [(29579499, 0.969036905757492), (540039, 0.9034393820604965)]), (180835219, [(21605333, 0.43998924213453366), (21605333, 0.43998924213453366), (21605333, 0.43998924213453366)]), (73161059, [(5348703, 0.9659676035780669), (8372113, 0.9601929484593641), (20598841, 0.9559857311650201)]), (4614024, [(241510, 0.9624066945848411), (241510, 0.9624066945848411), (4360902, 0.7356131389183468)]), (46459880, [(15906140, 0.980759294605408), (10107535, 0.9698423078299324), (4541072, 0.9359261168485108)]), (127978515, [(12805743, 0.6808605065473634), (19039775, 0.6255706777915767), (42079535, 0.44223145832561406)]), (35303481, [(24290323, 0.8580347290916758), (7517671, 0.8445519539328181), (19184503, 0.7479384613069724)]), (168828299, [(21283656, 0.9890549971968701), (21928496, 0.9571604300393062), (15826584, 0.8657286540906499)]), (107719929, [(9980935, 0.4940716575240306), (16502098, 0.29795408299572423)]), (141993321, [(25716782, 0.8375061790886924), (17416854, 0.5301198729902425), (17416854, 0.5301198729902425)]), (338449205, [(42417293, 0.6290285707762258), (42417293, 0.6290285707762258), (26577038, 0.62694682916361)]), (30691380, [(21271068, 0.4222754760073196), (14332372, 0.4217431519939273)]), (101038028, [(18349081, 0.98425502833866), (28570820, 0.9665927579473483), (8525879, 0.9589635366437441)]), (22472591, [(14131949, 0.9823317846841061), (14131949, 0.9823317846841061), (6993627, 0.9798261409840351)]), (36974479, [(21820005, 0.8550166093929907), (8313660, 0.8153898753375769), (8313660, 0.8153898753375769)]), (3850988, [(20335984, 0.8311471046104342), (11972403, 0.7895895297400859), (28670854, 0.6256014737453223)]), (48486386, [(15997914, 0.9840454463775377), (16412556, 0.9712390221589404)]), (297808589, [(39619617, 0.8869908819722933), (1024986, 0.8544604030042161), (33669171, 0.20149402120036553)]), (49767073, [(23603274, 0.9775294036634266), (20890687, 0.9710770607507385), (17399550, 0.9495930631574895)]), (444783, [(6983613, 0.8067326151469153), (3144267, 0.8010189167650635), (16412115, 0.7904796458127944)]), (77663294, [(12299983, 0.9849893775624644), (12299983, 0.9849893775624644), (19369423, 0.8655613307090735)]), (941179, [(819034, 0.9807949243696044), (1622505, 0.9454024408977716), (819044, 0.6723274990496266)]), (64861261, [(11411739, 0.9846516716721794), (10446567, 0.9724835610708065), (18013085, 0.9652150699864853)]), (267473990, [(42519546, 0.957650645129798), (33772739, 0.9440779956223171), (11875596, 0.8686980236996193)]), (39889572, [(31003554, -0.5476607053416547), (31003554, -0.5476607053416547)]), (777172, [(756267, 0.9353809464243517), (1101652, 0.8636578585170572), (1101652, 0.8636578585170572)]), (150720719, [(22979766, 0.918012072199503), (25972498, 0.9037892409113939), (21855459, 0.5713460137982977)]), (48058900, [(16832754, 0.9571159249681253), (16832754, 0.9571159249681253), (21063861, 0.9068789017783527)]), (8447578, [(16936558, 0.9645893317648363), (17033435, 0.9128604317710183), (12995321, 0.8204092065073196)]), (96716246, [(24506647, 0.5737007117916532), (24506976, 0.5207158767093727), (24506976, 0.5207158767093727)]), (71287981, [(16329592, 0.7413781533532317), (16326320, 0.3864964472397193), (16326320, 0.3864964472397193)]), (104332626, [(33957968, 0.9675725521738291), (34082227, 0.9249715153008207), (5495447, 0.8395556181786048)]), (53225566, [(24105506, 0.9740916463187277)]), (39706636, [(4507632, 0.9708133803138115), (17399550, 0.9448093427726387), (15501491, 0.9301133459245358)]), (19869496, [(241508, 0.9812278470494161), (4990815, 0.9549785457913398), (2129215, 0.9436669301598597)]), (94120052, [(16693418, 0.8696780557152299), (16526824, 0.8587083529058264)]), (157433835, [(1229614, 0.8328196895197797), (1229614, 0.8328196895197797)]), (22971175, [(6120794, 0.9795562931666004), (11817134, 0.8739533000389911)]), (24685785, [(4583694, 0.9735520472009631), (6712575, 0.9047658296187703), (5348881, 0.7222746162314616)]), (545406, [(16460492, 0.9676992381143055), (17831037, 0.962306472330898), (17831037, 0.962306472330898)]), (70597728, [(8156821, 0.9224071433437215), (8156821, 0.9224071433437215), (8156821, 0.9224071433437215)]), (122905855, [(42078904, 0.8691533318159336), (42417293, 0.6207782816896551), (24707713, 0.5170149287253467)]), (2896551, [(1887824, 0.945649318176206), (8800763, 0.9446872225939592), (8800763, 0.9446872225939592)]), (37888877, [(13418425, 0.8885327067780218), (7959059, 0.49574507790925376), (3954113, 0.4426097835714985)]), (23007954, [(9079545, 0.5983646086207133), (9079545, 0.5983646086207133), (9079545, 0.5983646086207133)]), (27756140, [(12614519, 0.9881325541621218), (7350502, 0.9781109479003617), (4576362, 0.9672624695415131)]), (1426826, [(32053800, 0.9484668872441849), (21415749, 0.7992072124108311), (21415749, 0.7992072124108311)]), (156948737, [(11971734, 0.6774008588941633), (27089120, -0.3387065927116564)]), (163427314, [(16151348, 0.9645606477651845), (16151348, 0.9645606477651845), (14083824, 0.9559368581938054)]), (34572919, [(15501491, 0.8866312005649677), (15501491, 0.8866312005649677), (22694427, 0.8424738193221326)]), (123877004, [(22987507, 0.7774849113789154), (12762246, 0.3182358171622652), (12762246, 0.3182358171622652)]), (1623840, [(35265440, 0.9802576943795579), (29572721, 0.8161698303058661)]), (57198029, [(29093864, 0.942348408224816), (17995515, 0.9403750130711446), (9523661, 0.9368738617163945)]), (21232807, [(19364738, 0.9767003095002105), (19364738, 0.9767003095002105)]), (11392953, [(3877859, 1), (3877859, 1), (3877859, 1)]), (20510955, [(17781759, 0.9705355554318327), (17781759, 0.9705355554318327), (14095593, 0.9179011320086431)]), (76094164, [(22133055, 0.7900014668019685), (20126837, 0.6810724920897678), (13265702, 0.6355684586152475)]), (75955446, [(25591117, 0.9922358053530973), (33025531, 0.9920434568963454), (21854697, 0.9696020406357395)]), (2056094, [(241508, 0.9850659700136931), (819044, 0.9785912618365142), (241510, 0.9566527572697339)]), (128806268, [(7814843, 0.8502564569488104), (21546999, 0.6815657976314953), (16876341, 0.21021012778473663)]), (124331727, [(16411839, 0.9502038304645123), (4527878, 0.8742573892468445), (10659341, 0.7433306019674025)]), (1369617, [(241503, 0.9770831732438653), (241510, 0.9297806299453506), (241510, 0.9297806299453506)]), (33619170, [(6179573, 0.8857448084960504), (4309541, 0.8854981920224347)]), (18318913, [(6958476, 0.6370746727877469), (13418425, 0.6254870308100802), (7662310, 0.4214982754421944)]), (58542978, [(11411739, 0.9682493191440915), (7843168, 0.905918792694431), (21854687, 0.772142270180634)]), (172417524, [(6712575, 0.971594615054244), (16989989, 0.9551413947756389), (1299316, 0.954432859021144)]), (47704630, [(14332372, 0.9474016265402652), (34237086, 0.9348097476959764), (16151194, 0.6609010387135045)]), (137845757, [(20040797, 0.9788689992500081), (9023549, 0.9624171234974342), (7088664, 0.9242286638995766)]), (45144130, [(8156821, 0.8817790253358546), (9567575, 0.49385503146915116)]), (95116712, [(16773209, 0.7703937396802718), (12299983, 0.6388070675444234), (12299983, 0.6388070675444234)]), (13786556, [(13266699, 0.9793914725290835), (15154001, 0.9079686160425451), (7517671, 0.8044670630863839)]), (21433338, [(4144956, 0.7714722488463049), (982909, 0.7430138852151884), (6221711, 0.5864348626540886)]), (31396535, [(22557532, 0.8990240334588738), (7182042, 0.8794333643994984), (5494971, 0.726464689341043)]), (46316448, [(31960343, 0.9786887278928444), (30243920, 0.9749035221832772), (26925552, 0.9706110861949574)]), (1448964, [(17812922, 0.9523320210664808), (17798438, 0.8677348361076914), (17798438, 0.8677348361076914)]), (54561160, [(21128303, 0.9838597952535895), (6968350, 0.9794049871820859), (6147142, 0.895539349251685)]), (31983113, [(5827998, 0.9793636952080574), (13703898, 0.9267171525682176), (14515500, -0.8857615426315134)]), (94889676, [(20112645, 0.9907457301071187), (15536743, 0.9493593334403745), (27794712, 0.9076768030423377)]), (10657554, [(4108082, 0.9760642048143355), (4412603, 0.8693518743419465), (12299983, 0.3531522564998841)]), (193092675, [(42417293, 0.7513261290017975), (42078904, 0.47920243994816847), (42079535, 0.4423223523284463)]), (20916896, [(12484261, 0.975740835878335), (10819460, 0.9724778385412409), (9985237, 0.8777338905088419)]), (16077985, [(36216542, 0.44174554660134563), (28097937, 0.44115733903352694)]), (243294264, [(10479544, 0.8162812911646246), (28554971, 0.3865575261301622)]), (1595389, [(19417657, 0.9769611555084952), (12299983, 0.9669278869415456), (27127693, 0.8371178643879743)]), (2329477, [(7632462, 0.7988213885891785), (7632462, 0.7988213885891785), (7632462, 0.7988213885891785)]), (163018982, [(15533066, 0.8303558083960784), (26218347, 0.757330528642937), (21172051, 0.657459459587241)]), (183666108, [(11750389, 0.9792242486209343), (12600629, 0.5684186701340368), (20990821, -0.883384959520738)]), (152362391, [(20706151, 0.4242049551291154), (21248718, 0.22466906562294087), (21283656, -0.6269798251079554)]), (243001981, [(18164623, 0.9709340010200507), (19115460, 0.5248439065451455), (17274946, -0.7795065831620144)]), (77186082, [(36760495, 0.9708081313349746), (20874042, 0.9639989363640439)]), (66666030, [(4026199, 0.9556442446862916), (3790364, 0.9394616179801719), (4434265, 0.44179900137995454)]), (15250513, [(6147142, 0.9869033006129719), (4108447, 0.8856185030901413), (7827659, 0.8681702100520551)]), (364702529, [(42246264, 0.8682240044945524), (36820113, 0.8118537837874192), (41603640, 0.7262659535301582)]), (11868516, [(16936661, 0.9603552646562922), (20000821, 0.6721539092495136), (16936558, 0.5967239743887174)]), (49606665, [(14984234, 0.9913536285093034), (5185612, 0.982579215582459), (8372113, 0.9647832793243466)]), (282823752, [(34049490, 0.9637872862606913), (2156372, 0.9014596898438999), (344803, 0.6132981920105873)]), (184374648, [(10848771, 0.8840277026919608), (24302260, 0.8817047439747137), (24302260, 0.8817047439747137)]), (52621763, [(11365125, 0.9320595890755936), (15393345, 0.13177472854146566)]), (147278782, [(13038831, 0.9482573256127887), (11302386, 0.4772938352070365), (11249182, 0.22880959011941676)]), (59089076, [(8890247, 0.9320615652036573), (27530446, 0.8069777214661711), (17595630, 0.6260401194976973)]), (276010849, [(5609097, 0.9017324392130119), (3893523, 0.793460816121765)]), (186742615, [(35081515, 0.9268565741007232), (22098450, 0.8063055957131141)]), (104972359, [(15159420, 0.941474929575292), (18662873, 0.920945259346301)]), (127640475, [(21285979, 0.9662538276016849), (34530939, 0.9340091601903966)]), (126999312, [(11750389, 0.4932134930845799), (26056791, 0.29815575840292), (17769862, 0.19504372662145736)]), (58120866, [(6023517, 0.9330353474439819), (24988864, 0.9269610276606175), (5129422, 0.5814232340983103)]), (186168669, [(15906477, 0.7650538394109045), (4645834, 0.6122899990370506)]), (109832126, [(42519546, 0.9665517021556153), (43336673, 0.9193426051093958), (43336673, 0.9193426051093958)]), (16189978, [(17672050, 0.7138063108883805), (10020663, 0.49612680487848565), (9915648, 0.49506824798283083)]), (48022674, [(15581172, 0.8599078497996112), (19508635, 0.8201487903541401), (6968350, 0.7202287630946472)]), (57115099, [(24200231, 0.9301295960185778), (2156329, 0.816127854697456), (2156329, 0.816127854697456)]), (11569859, [(16412556, 0.9840892094055558), (16412556, 0.9840892094055558), (3995441, 0.9626571354609803)]), (38071130, [(7536368, 0.9610825742678117), (16280294, 0.8016566549784486), (15393345, 0.7314637264417935)]), (8149908, [(9828881, 0.9859674856091226), (7138922, 0.9135602700590428), (7143817, 0.8771660577426862)]), (63688956, [(21854679, 0.9435808887503586), (3460343, 0.8994836640981168), (24659042, 0.7956553475596236)]), (150264365, [(16571599, 0.9516769811947446), (18114259, 0.9485926079574113), (18434466, 0.9380746214801937)]), (141280862, [(18662873, 0.6253608925644476), (18662873, 0.6253608925644476)]), (82768718, [(29165650, 0.8019888247804635), (14935293, 0.6253315444722802), (12839857, 0.5267068863441865)]), (60357098, [(15826584, 0.9927965380948145), (20335984, 0.9925522448708094), (15455547, 0.9778245571748475)]), (45634920, [(11817134, 0.9708236137264136)]), (51709366, [(21493991, 0.6910423039577045), (16398559, 0.5725955722340089)]), (4946134, [(756267, 0.9194359479298649), (756267, 0.9194359479298649), (819044, 0.5740674277769947)]), (134634401, [(11245028, 0.8247451097990128), (20514799, 0.5351215625648352), (28813059, 0.4386576450419015)]), (108367711, [(10718463, 0.9743126983087833), (4613432, 0.87363286448582)]), (209436530, [(29599789, 0.7127158457493356), (29597994, -0.03471731362423902), (29599522, -0.09800472056758824)]), (58792172, [(43337094, 0.7206163691404952), (43336673, 0.7179085104830637), (18452331, 0.5927344132657081)]), (16580010, [(16502098, 0.9699275268703246), (7843168, 0.9568260870647157), (7814843, 0.956703363965147)]), (77232136, [(747813, 0.9420545025433048), (17838889, 0.9023392742873106), (21805592, 0.8997074655883576)]), (34319201, [(15167230, 0.8069228689989519), (5797755, 0.7495907832257029), (4616537, 0.5580204759649194)]), (117432987, [(7399093, 0.6251802890241719)]), (19839575, [(29131936, 0.9459267916711718), (19009257, 0.8682222311424935), (22143968, 0.8125676995569485)]), (158404207, [(16571624, 0.7874440207741233), (1024986, 0.6232752703197187), (15750877, 0.4413306092304342)]), (40445489, [(16684473, 0.9724677781688134), (5282397, 0.9303639466326802), (11750250, -0.7735288576119915)]), (168034501, [(20672785, 0.8226355784967517), (6959415, 0.7962016009173052), (747816, -0.5594885952825491)]), (77861166, [(18259421, 0.7509099719028509), (16846533, 0.6815501397739302), (6850935, 0.6267467126770533)]), (39579960, [(22636241, 0.8850599673738612), (423875, 0.7886736621342805), (23209834, 0.7182725179454761)]), (25077715, [(10460541, 0.9485285816530674), (5739284, 0.9399208713775746), (4576362, 0.8513709449905645)]), (214115466, [(7814843, 0.9585560711571897), (7814843, 0.9585560711571897), (16370834, 0.5871204025286992)]), (9705553, [(13418425, 0.9702116412055006), (6983613, 0.2765725280899788)]), (2562437, [(13462899, 0.9649656136676608), (13462899, 0.9649656136676608), (12299983, 0.9582256770733468)]), (65449682, [(3639516, 0.909703840906323), (1981933, 0.7900844941520027)]), (19566777, [(28359844, 0.9816112257993876), (15159420, 0.9211844886235478), (3925851, 0.8762596640889891)]), (4980267, [(17812922, 0.8671161628471475), (17812922, 0.8671161628471475), (12299983, 0.8267277546380407)]), (61404401, [(20588444, 0.8854656267348804), (10510548, 0.663302316221552), (10510548, 0.663302316221552)]), (153124085, [(28359844, 0.990429779024781)]), (65877814, [(9716208, 0.9994828469870995), (9716208, 0.9994828469870995), (9866917, 0.960529516859826)]), (137033820, [(18966930, 0.9715043269911253), (25878538, 0.8759796013755697), (3207194, 0.6371464162395586)]), (947890, [(16527216, 0.9497246577123313), (2357514, 0.6594895143630234), (14397294, 0.5672549389521829)]), (77053563, [(24238015, 0.8350645223163911), (8399159, 0.2986250069665245), (2964315, 0.25270698738497316)]), (126433038, [(29249890, 0.7506781717421847), (38654505, 0.727395405809237), (19580455, -0.099330703105307)]), (197931141, [(19370670, 0.976192922836779), (25793757, 0.9694182416167672)]), (76090928, [(7717118, 0.9573598382436372), (2451003, 0.8993708618531663), (7811199, 0.8549731814666458)]), (70174804, [(4973227, 0.4405620515776709), (22745179, 0.2027128893539557)]), (7538699, [(42417293, 0.9735053218327973), (4561484, 0.9297208811189943)]), (1584472, [(17831305, 0.795415082837079), (17831305, 0.795415082837079), (1941719, 0.6696379413770717)]), (21994627, [(5827380, 0.9427686507458655), (2121839, 0.8965320796232467), (2731054, 0.8878695806482564)]), (49153889, [(9422496, 0.9727666863605928), (16741251, 0.3148081166532216)]), (150635899, [(21461500, 0.7467366952740133), (21461500, 0.7467366952740133), (11750250, 0.4277768973670085)]), (120022718, [(11971734, 0.8246508272947297), (26381161, 0.8125114209675807)]), (133018595, [(18783955, 0.9605781145762833), (11972403, 0.9460289689432445)]), (344293600, [(42696868, 0.8588923534960626), (9901369, 0.5290408221967859), (9901369, 0.5290408221967859)]), (49377967, [(14506386, 0.9389620784950972), (17481717, 0.5939794553300659)]), (9945757, [(13243736, 0.9267109939921293), (6947366, 0.8838497577205127), (2731054, 0.12826709586034302)]), (127335770, [(13809823, 0.9788189310729982), (15581193, 0.8188808630493211), (16571493, -0.9144141628054854)]), (180141350, [(6128096, 0.9774824199874406), (6128096, 0.9774824199874406)]), (41027133, [(19370670, 0.9589829475581911), (19370670, 0.9589829475581911), (21818868, 0.931905341227797)]), (74407856, [(6940054, 0.8595664613624021), (19184502, 0.735970414491485), (19184502, 0.735970414491485)]), (1245996, [(540039, 0.8218415196628309), (2964022, 0.8217171807725578)]), (29709446, [(33112577, 0.9426658523509026), (21360845, 0.9147764640310938)]), (24816899, [(24927780, 0.8699577435106484), (24571017, 0.7335004741827138), (14489603, -0.30521262952346473)]), (26328606, [(4507632, 0.9496172061173488), (14925664, 0.8867337075604605), (7010578, 0.7267523188294849)]), (34881214, [(23603274, 0.9913256349691268), (37472011, 0.9831545338569777), (5932439, 0.9516292986737601)]), (191004003, [(25086316, 0.42670516653940355), (25086316, 0.42670516653940355), (5797755, 0.13255845918953474)]), (21617492, [(4139205, 0.924755365891299), (11671761, 0.6699992954590176)]), (96299515, [(756267, 0.9597724493623353), (756267, 0.9597724493623353), (1622505, 0.9485945180512517)]), (51579989, [(16231715, 0.9830186139467528), (16231715, 0.9830186139467528), (11094655, 0.974164815603844)]), (226969979, [(8038199, 0.9504001215178178), (29253018, 0.7269668545758721)]), (216365833, [(28514483, 0.9949066310064747), (31090026, 0.9803699661594871), (33134391, 0.8113098940340995)]), (13799803, [(40168630, 0.9652748055370258), (24294968, 0.9528975885313026), (29323656, 0.8110530282347452)]), (45482234, [(30046922, 0.9638835627918974), (10814989, 0.9361665862167037), (20950425, 0.9323653647893946)]), (999227, [(18966930, 0.9826673185441244), (3209768, 0.9752409730265643)]), (6070930, [(10299900, 0.9523863266963979), (10299900, 0.9523863266963979)]), (21067785, [(17798496, 0.960495125368823), (21927943, 0.9439448992747846), (12703293, 0.9272673806162678)]), (495065, [(2129215, 0.9909268425346762), (12463904, 0.9836149442313863), (23673101, 0.9686095380098841)]), (3969859, [(9097877, 0.9372666377214062), (5246432, 0.9210185422218679), (5246432, 0.9210185422218679)]), (132129175, [(6983613, 0.9399344933513154), (7138922, 0.5732375368650665)]), (47554553, [(14557631, 0.9341578877122237), (15532514, -0.23890471318867734)]), (27745404, [(27754006, 0.9352564073103887), (24290323, 0.9090286506765408)]), (166113078, [(22778183, 0.9910787668355703), (22778183, 0.9910787668355703)]), (11330779, [(22051870, 0.8784551107870306), (21942515, 0.8674092082701177), (16680449, 0.8588337728811062)]), (230120301, [(11972403, 0.8081253521890597), (11972403, 0.8081253521890597), (11971734, 0.4425457919188264)]), (39403680, [(13282424, 0.968624391138695), (4360902, 0.9180292914838389), (648183, 0.8812151581139273)]), (111277849, [(24506647, 0.9353548786758397), (8313660, 0.8978189927527677), (8313660, 0.8978189927527677)]), (101775194, [(16546583, 0.52671904968513), (17896710, -0.14871702539483544)]), (45270066, [(5899156, 0.8950875376888211), (2451003, 0.8855691783383206)]), (11426653, [(9097877, 0.9906920865032283), (16460492, 0.7583118606382658)]), (15272018, [(19353251, 0.5861316800758657), (7319075, 0.5722657474605812), (38595452, 0.49461721169273487)]), (254005733, [(35171311, 0.9878869960287849), (23436127, 0.9676166362489442), (6100964, 0.9451736629949786)]), (5876997, [(8198598, 0.829695822285283), (4124908, -0.08232321630587702)]), (105632603, [(5185612, 0.9864930027931379), (5665639, 0.96736310682232), (5665639, 0.96736310682232)]), (30634166, [(4360902, 0.8782056421769551), (4645834, 0.6114108783784996), (4027867, 0.4944857221156557)]), (16291286, [(20588444, 0.9498028444524667), (11994037, 0.8310427492950853), (28417802, 0.62419133883925)]), (145630515, [(7814843, 0.9622644366172063), (5827998, 0.8712861245776224), (7843168, 0.8608737384732059)]), (3809741, [(344803, 0.9827352158386001), (11839854, 0.9825546006507734), (468782, 0.973675694977262)]), (2127114, [(5787221, 0.9574693125581496), (17831037, 0.816392406227343)]), (64381008, [(17290584, 0.9506995833167338), (16407251, 0.8429503340950787), (16523058, 0.6988404445423488)]), (44660340, [(9459389, 0.875852301815709), (11965790, 0.7423960605140321), (19236258, 0.6379975331012735)]), (50730726, [(2357514, 0.9148982808623262), (21283656, 0.8941379395679407), (9023549, 0.8552870330205903)]), (125757820, [(37440161, 0.9538458132419324), (16863370, 0.8437085607032636), (1678744, 0.3997342598668022)]), (51115777, [(24034891, 0.9440819001610036), (5348037, 0.8016432497978594), (4499317, 0.7582031407261551)]), (25547822, [(5797755, 0.799806622384395), (5899156, 0.7274336369647113), (4616523, 0.6384007350309691)]), (2029303, [(11642282, 0.8122671016178354), (5543423, 0.7002158050816358)]), (23198614, [(26752806, 0.9607597917878045), (20798153, 0.8314814012471189)]), (344365994, [(43337094, 0.904636928542128), (19236258, 0.9016381204399359), (42417293, 0.628351991843588)]), (13588897, [(241503, 0.9837793368426642), (30561871, 0.8514632383362775), (16443023, 0.6263427024424775)]), (11592861, [(16280294, 0.9778033761487572), (14506386, 0.9451000074529955), (5184871, 0.8879251655416076)]), (27201570, [(13462899, 0.9269990503907167), (13462899, 0.9269990503907167)]), (2059867, [(10084321, 0.8951960874921249), (4969304, 0.15585412766501577)]), (41785239, [(7683990, 0.9722395427222164), (15310627, 0.8828607731548519), (5246432, 0.8357729681481275)]), (27335500, [(21376468, 0.9433435141897986), (1218463, 0.9414191220491612)]), (32358997, [(4412603, 0.9826976001774695), (6242964, 0.9197165285714868)]), (155565558, [(22051870, 0.44069848041655973)]), (9461789, [(3140972, -0.7078562839156028), (3140972, -0.7078562839156028), (3140972, -0.7078562839156028)]), (55467107, [(24288828, 0.9902519564553959), (26056791, 0.9509676931864892), (6941608, 0.9130626807710135)]), (24362833, [(7169214, 0.9624352182908137), (16231627, 0.9529342980984818), (16231661, 0.8478802288730699)]), (121121654, [(29307578, 0.9667822376853936), (35786906, 0.9117261287299923), (27129285, 0.9013205755619967)]), (20791609, [(15722457, 0.9769847977235584), (8180346, 0.9492053519379424), (27195225, 0.754750149059263)]), (24798698, [(15722934, 0.4901833562699315), (14740975, 0.48719681384254077)]), (45871148, [(4478773, 0.7390255764155266), (4139205, 0.625531891660818), (11671761, 0.4934634321889596)]), (20673768, [(14603307, 0.4754441410435226), (21953139, 0.362164615099834), (15238567, -0.5372029510499329)]), (32587225, [(918880, 0.9858374083090718), (7054163, 0.9780159226336622), (9030732, 0.9411433068626542)]), (6726013, [(23815487, 0.8648409685074999), (20971236, 0.8125006799461676)]), (265722717, [(21818868, 0.5578618640940044), (22457479, 0.42228035158207894), (22457479, 0.42228035158207894)]), (11436002, [(14245740, 0.955630086833939), (11747584, 0.9494978745413981), (16876341, 0.9459903050900358)]), (41031261, [(10718463, 0.8641486485918872), (18349081, 0.5410669039536145)]), (297865299, [(41603861, 0.8497275678294598), (42417293, 0.7363949527915941)]), (14917251, [(5377342, 0.9695161084557747), (6993627, 0.9579463169410312), (26931333, 0.7006156684390279)]), (58406854, [(25918516, 0.9563882080255481), (25376102, 0.9264275406415836), (6921649, 0.648861435175783)]), (131110352, [(7257461, 0.8948244330555795)]), (13601908, [(20509769, 0.9404246311435209), (4139205, 0.7937254718564897), (26879023, -0.1254956492389192)]), (625141, [(17831305, 0.9179421738740324)]), (344177337, [(34244551, 0.9247569436080585), (41604541, 0.9221865491343914), (41604541, 0.9221865491343914)]), (191504828, [(6300043, 0.21054566375254358), (6300043, 0.21054566375254358)]), (267101084, [(14925664, 0.8201687712105169), (5186243, 0.7165117113299323), (29108574, 0.6252172296152565)]), (156118946, [(606784, 0.9239084022675416), (606784, 0.9239084022675416)]), (38426076, [(10510548, 0.9824505966778297), (11994037, 0.9799583499133018), (16407773, 0.8943924168049525)]), (25284418, [(10641757, 0.9331140506571745), (20703034, 0.9071770710410694)]), (118986723, [(16182554, 0.9527430793862111), (7811199, 0.7618270101931088), (8393043, 0.7500774444640135)]), (67758296, [(18017622, 0.965333564561534), (11263684, 0.8986051927387622), (5797755, 0.253198805696771)]), (344037915, [(15774113, 0.8451921127730422), (40470586, 0.6892567801344024), (1024986, 0.4426407396960058)]), (22136947, [(12162272, 0.9416325288731298), (7517671, 0.8718327267625396), (10814989, 0.8623368808546349)]), (95333051, [(16876341, 0.9514036680808146), (16876341, 0.9514036680808146)]), (9083108, [(7143817, 0.8799954013828605), (16876341, 0.7846653456328855), (14524408, 0.670468766007587)]), (49690671, [(9898367, 0.9749636294722895), (6113485, 0.9699178579294085), (4360902, 0.7089748599729159)]), (2729853, [(26056791, 0.8500453349094672), (7808030, 0.7004896682148704)]), (31443610, [(22937932, 0.860416210137101), (29600789, 0.8584142036766006)]), (5125575, [(241508, 0.995841120440055), (241508, 0.995841120440055)]), (116847172, [(13418425, 0.47603035680909567), (14071413, 0.25173583215307893)]), (105974570, [(11971734, 0.21843737643653105), (11971734, 0.21843737643653105)]), (3953276, [(20610905, 0.9794890901837278), (20703034, 0.9786919814607346)]), (27346544, [(21227203, 0.856869248548131)]), (153390792, [(24751008, 0.9875437920297634), (24078928, 0.26177850663661933), (24078928, 0.26177850663661933)]), (144527952, [(17856170, 0.8216977972277028), (18284913, 0.6598973920224208)]), (35393429, [(16571599, 0.8780379511087245), (16571599, 0.8780379511087245), (15438962, 0.4692401650262978)]), (18123103, [(4124908, 0.7946420121623993), (4124908, 0.7946420121623993), (5095636, 0.7311647373314746)]), (68995550, [(5118006, 0.6702982644396807), (29763827, 0.441009823020174), (17949590, 0.4409933399338581)]), (847201, [(8133710, 0.9871233147322866), (5481194, 0.918343511399684)]), (17744394, [(10398488, 0.9821463436388279), (4309541, 0.9533227063251993), (7152364, 0.9528954176564682)]), (64826047, [(42417293, 0.6836474260055343), (42417293, 0.6836474260055343), (43337094, 0.5758063652873019)]), (12830399, [(5543423, 0.9487727908488947), (9549885, 0.8175308377663736)]), (191958565, [(18850989, 0.7421764193458865), (24659042, 0.3754703109459532)]), (15466065, [(19576036, 0.8560217287279356), (17625819, 0.6132248012956434)]), (118292989, [(36264042, 0.7574243353763692)]), (185516068, [(22233862, 0.8617172654202501), (13717530, 0.8212006556791381), (553229, 0.6469201226293494)]), (29032611, [(14211027, 0.9408451943125784)]), (16204646, [(4616523, 0.9653092855552157), (6431505, 0.9470497080676271)]), (8717234, [(2532466, 0.963013089009227), (28749189, 0.8436430998580703)]), (34893829, [(12366821, 0.8778399248726699), (6485145, 0.8480203074654584)]), (16326875, [(33499796, 0.9195312598925904), (7628360, 0.911220504027495)]), (98082301, [(369141, 0.9193195749359666), (25012242, 0.8796755357624536), (16571437, 0.6810622680852697)]), (85640265, [(16741381, 0.9719755973424106), (18666776, 0.8682513996781305), (18332965, 0.8388291041572538)]), (6951060, [(5853047, 0.7184497164814768)]), (170712166, [(26464626, 0.9717965023370915), (26464626, 0.9717965023370915)]), (119342, [(16412994, 0.958786128628896), (35818699, 0.5978251047607384)]), (100761145, [(41604013, 0.75714959881501), (41604013, 0.75714959881501), (39619543, 0.42408257078023004)]), (36797851, [(5348703, 0.9707011216130539), (4969307, 0.8682214126341569), (19831868, 0.625273288503579)]), (27719824, [(8180346, 0.9544526032301104), (8180346, 0.9544526032301104)]), (46901388, [(2156329, 0.8951401639131902), (7843168, 0.8947079964645998)]), (51304418, [(14223124, 0.8920808727427111), (14223124, 0.8920808727427111)]), (25281540, [(12687038, 0.9435460278167503), (18452331, 0.30941694542636883)]), (1733595, [(9402064, 0.9831876304504649), (606784, 0.9608891088974919), (15209910, 0.8512925887714443)]), (159687378, [(29614706, 0.9305875891845312), (16571662, 0.8986784749251515), (16571624, 0.49525131550502033)]), (4780873, [(17657314, 0.9620525661364654), (29020376, 0.8707301412844971)]), (7465360, [(7827659, 0.9375875310020699), (7827659, 0.9375875310020699)]), (31188027, [(4526966, 0.9493791934738993), (8195397, 0.7087416785645255), (8212422, 0.5724082750884101)]), (10165616, [(21370642, 0.9686575768979567), (21305609, 0.9662790532529335), (12463904, 0.801557137670127)]), (126852119, [(35856965, 0.8359369004497178), (6405194, 0.719159731005972), (6475373, 0.7183158638468616)]), (130754189, [(4576362, 0.9098139513321172), (6850935, 0.9049470320671235), (12606032, 0.826799655234307)]), (43160653, [(34049490, 0.7003741930633746), (34049490, 0.7003741930633746), (21415749, 0.4237182740346169)]), (22882424, [(24682818, 0.9079056102250301), (11972403, 0.8731085684432122), (11971734, 0.7895463423162966)]), (220148373, [(26683920, 0.9878993764534052), (23760158, 0.9737334697586533), (21493991, 0.9403724790662693)]), (79980668, [(43337094, 0.8853347592335956)]), (109305706, [(29579499, 0.9793204042228102), (4499317, 0.9432970251704198)]), (52845560, [(5897641, 0.9832628227657914)]), (126878987, [(18516282, -0.6181700854703469)])])"
            ]
          },
          "metadata": {
            "tags": []
          },
          "execution_count": 124
        }
      ]
    },
    {
      "cell_type": "code",
      "metadata": {
        "colab": {
          "base_uri": "https://localhost:8080/",
          "height": 142
        },
        "id": "6dJTwwHLGedl",
        "outputId": "11c14e43-6007-4828-8538-20c9019538d5"
      },
      "source": [
        "pd.DataFrame(top3_recommendations[29084250], columns = [\"Recommended Listing Id\", \"Score\"])"
      ],
      "execution_count": 127,
      "outputs": [
        {
          "output_type": "execute_result",
          "data": {
            "text/html": [
              "<div>\n",
              "<style scoped>\n",
              "    .dataframe tbody tr th:only-of-type {\n",
              "        vertical-align: middle;\n",
              "    }\n",
              "\n",
              "    .dataframe tbody tr th {\n",
              "        vertical-align: top;\n",
              "    }\n",
              "\n",
              "    .dataframe thead th {\n",
              "        text-align: right;\n",
              "    }\n",
              "</style>\n",
              "<table border=\"1\" class=\"dataframe\">\n",
              "  <thead>\n",
              "    <tr style=\"text-align: right;\">\n",
              "      <th></th>\n",
              "      <th>Recommended Listing Id</th>\n",
              "      <th>Score</th>\n",
              "    </tr>\n",
              "  </thead>\n",
              "  <tbody>\n",
              "    <tr>\n",
              "      <th>0</th>\n",
              "      <td>4541183</td>\n",
              "      <td>0.962489</td>\n",
              "    </tr>\n",
              "    <tr>\n",
              "      <th>1</th>\n",
              "      <td>25328461</td>\n",
              "      <td>0.934368</td>\n",
              "    </tr>\n",
              "    <tr>\n",
              "      <th>2</th>\n",
              "      <td>37655038</td>\n",
              "      <td>0.749266</td>\n",
              "    </tr>\n",
              "  </tbody>\n",
              "</table>\n",
              "</div>"
            ],
            "text/plain": [
              "   Recommended Listing Id     Score\n",
              "0                 4541183  0.962489\n",
              "1                25328461  0.934368\n",
              "2                37655038  0.749266"
            ]
          },
          "metadata": {
            "tags": []
          },
          "execution_count": 127
        }
      ]
    },
    {
      "cell_type": "code",
      "metadata": {
        "id": "ouSNBg-TG9j6"
      },
      "source": [
        "def recommend(reviewer_id): \n",
        "  return pd.DataFrame(top3_recommendations[reviewer_id], columns = [\"Recommended Listing Id\", \"Score\"])"
      ],
      "execution_count": 128,
      "outputs": []
    },
    {
      "cell_type": "code",
      "metadata": {
        "colab": {
          "base_uri": "https://localhost:8080/",
          "height": 142
        },
        "id": "ybmr3xdBHJxC",
        "outputId": "d788e54e-9713-4fa7-8f0d-40f4aac65a99"
      },
      "source": [
        "recommend(29084250)"
      ],
      "execution_count": 129,
      "outputs": [
        {
          "output_type": "execute_result",
          "data": {
            "text/html": [
              "<div>\n",
              "<style scoped>\n",
              "    .dataframe tbody tr th:only-of-type {\n",
              "        vertical-align: middle;\n",
              "    }\n",
              "\n",
              "    .dataframe tbody tr th {\n",
              "        vertical-align: top;\n",
              "    }\n",
              "\n",
              "    .dataframe thead th {\n",
              "        text-align: right;\n",
              "    }\n",
              "</style>\n",
              "<table border=\"1\" class=\"dataframe\">\n",
              "  <thead>\n",
              "    <tr style=\"text-align: right;\">\n",
              "      <th></th>\n",
              "      <th>Recommended Listing Id</th>\n",
              "      <th>Score</th>\n",
              "    </tr>\n",
              "  </thead>\n",
              "  <tbody>\n",
              "    <tr>\n",
              "      <th>0</th>\n",
              "      <td>4541183</td>\n",
              "      <td>0.962489</td>\n",
              "    </tr>\n",
              "    <tr>\n",
              "      <th>1</th>\n",
              "      <td>25328461</td>\n",
              "      <td>0.934368</td>\n",
              "    </tr>\n",
              "    <tr>\n",
              "      <th>2</th>\n",
              "      <td>37655038</td>\n",
              "      <td>0.749266</td>\n",
              "    </tr>\n",
              "  </tbody>\n",
              "</table>\n",
              "</div>"
            ],
            "text/plain": [
              "   Recommended Listing Id     Score\n",
              "0                 4541183  0.962489\n",
              "1                25328461  0.934368\n",
              "2                37655038  0.749266"
            ]
          },
          "metadata": {
            "tags": []
          },
          "execution_count": 129
        }
      ]
    },
    {
      "cell_type": "code",
      "metadata": {
        "id": "0mUbVxjXiDu5",
        "colab": {
          "base_uri": "https://localhost:8080/"
        },
        "outputId": "b9f6f174-1edd-457c-a764-4b4b9cf67bc7"
      },
      "source": [
        "dfo = pd.DataFrame(columns=['UserId', 'Recommended Listing,Rating'])\n",
        "i=0;\n",
        "for uid, user_ratings in top3_recommendations.items():\n",
        "    #print(uid, top3_recommendations[uid])\n",
        "    row = [uid, top3_recommendations[uid]]\n",
        "    dfo.loc[i] = row\n",
        "    i=i+1\n",
        "dfo.to_csv('/content/drive/My Drive/BT4222_Project/submission.csv', index = False)\n",
        "\n",
        "print(\"wrote Recommendations for each user in csv file\")     \n",
        "        "
      ],
      "execution_count": 123,
      "outputs": [
        {
          "output_type": "stream",
          "text": [
            "wrote Recommendations for each user in csv file\n"
          ],
          "name": "stdout"
        }
      ]
    },
    {
      "cell_type": "markdown",
      "metadata": {
        "id": "iIdwCY2ZO8PD"
      },
      "source": [
        "# Hybrid Recommendation"
      ]
    },
    {
      "cell_type": "code",
      "metadata": {
        "id": "mNTFvRSuPz-F",
        "colab": {
          "base_uri": "https://localhost:8080/"
        },
        "outputId": "afb40fa8-ef86-4090-d46b-b259cc01ec24"
      },
      "source": [
        "#Build the SVD based Collaborative filter\n",
        "from surprise import SVD, Reader, Dataset\n",
        "from surprise.model_selection import KFold\n",
        "\n",
        "reader = Reader(rating_scale=(-1, 1))\n",
        "ratings_hr = customers.copy() \n",
        "data = Dataset.load_from_df(ratings_hr[['reviewer_id', 'listing_id', 'polarity_score']], reader)\n",
        "kf = KFold(n_splits=5)\n",
        "kf.split(data)\n",
        "svd = SVD()\n",
        "trainset = data.build_full_trainset()\n",
        "svd.fit(trainset)"
      ],
      "execution_count": 78,
      "outputs": [
        {
          "output_type": "execute_result",
          "data": {
            "text/plain": [
              "<surprise.prediction_algorithms.matrix_factorization.SVD at 0x7fa304c14a10>"
            ]
          },
          "metadata": {
            "tags": []
          },
          "execution_count": 78
        }
      ]
    },
    {
      "cell_type": "code",
      "metadata": {
        "id": "swgTbDJVYRqv"
      },
      "source": [
        "id_to_name = df_cbr.copy().set_index('id')\n",
        "name_to_id = df_cbr.copy().set_index('name')\n",
        "indices = pd.Series(df_cbr.index, index=df_cbr['name']).drop_duplicates()"
      ],
      "execution_count": 79,
      "outputs": []
    },
    {
      "cell_type": "code",
      "metadata": {
        "id": "dVyvnq-ZSneM"
      },
      "source": [
        "def hybrid(reviewer_id, name):\n",
        "    idx = indices[name]\n",
        "    listing_id = name_to_id.loc[name]['id']\n",
        "    sim_scores = list(enumerate(cosine_sim[idx]))\n",
        "    sim_scores = sorted(sim_scores, key=lambda x: x[1], reverse=True)\n",
        "    sim_scores = sim_scores[1:26]\n",
        "    listings_indices = [i[0] for i in sim_scores]\n",
        "    listing = listings.iloc[listings_indices].copy()\n",
        "    listing['estimate'] = listing['id'].apply(lambda x: svd.predict(reviewer_id, x).est)\n",
        "    listing = listing.sort_values('estimate', ascending=False)\n",
        "    return listing.head(5)"
      ],
      "execution_count": 80,
      "outputs": []
    },
    {
      "cell_type": "code",
      "metadata": {
        "id": "ydBPejnzV7tj",
        "colab": {
          "base_uri": "https://localhost:8080/",
          "height": 547
        },
        "outputId": "743b71d7-dc22-410d-8e00-4009a8bbc692"
      },
      "source": [
        "hybrid(8557223, \"Cozy Place In Singapore\")"
      ],
      "execution_count": 81,
      "outputs": [
        {
          "output_type": "execute_result",
          "data": {
            "text/html": [
              "<div>\n",
              "<style scoped>\n",
              "    .dataframe tbody tr th:only-of-type {\n",
              "        vertical-align: middle;\n",
              "    }\n",
              "\n",
              "    .dataframe tbody tr th {\n",
              "        vertical-align: top;\n",
              "    }\n",
              "\n",
              "    .dataframe thead th {\n",
              "        text-align: right;\n",
              "    }\n",
              "</style>\n",
              "<table border=\"1\" class=\"dataframe\">\n",
              "  <thead>\n",
              "    <tr style=\"text-align: right;\">\n",
              "      <th></th>\n",
              "      <th>id</th>\n",
              "      <th>description</th>\n",
              "      <th>host_since</th>\n",
              "      <th>host_is_superhost</th>\n",
              "      <th>latitude</th>\n",
              "      <th>longitude</th>\n",
              "      <th>accommodates</th>\n",
              "      <th>bathrooms</th>\n",
              "      <th>bedrooms</th>\n",
              "      <th>beds</th>\n",
              "      <th>amenities</th>\n",
              "      <th>price</th>\n",
              "      <th>minimum_nights</th>\n",
              "      <th>maximum_nights</th>\n",
              "      <th>maximum_nights_avg_ntm</th>\n",
              "      <th>number_of_reviews_ltm</th>\n",
              "      <th>instant_bookable</th>\n",
              "      <th>calculated_host_listings_count</th>\n",
              "      <th>nearby_sites_rating</th>\n",
              "      <th>nearest_station_dist</th>\n",
              "      <th>nearest_site_dist</th>\n",
              "      <th>nearest_site_rating</th>\n",
              "      <th>host_response_time_cross_rate</th>\n",
              "      <th>email</th>\n",
              "      <th>phone</th>\n",
              "      <th>reviews</th>\n",
              "      <th>jumio</th>\n",
              "      <th>offline_government_id</th>\n",
              "      <th>selfie</th>\n",
              "      <th>government_id</th>\n",
              "      <th>identity_manual</th>\n",
              "      <th>work_email</th>\n",
              "      <th>manual_online</th>\n",
              "      <th>manual_offline</th>\n",
              "      <th>x0_Central Region</th>\n",
              "      <th>x0_East Region</th>\n",
              "      <th>x0_North Region</th>\n",
              "      <th>x0_North-East Region</th>\n",
              "      <th>x0_West Region</th>\n",
              "      <th>x0_apartment</th>\n",
              "      <th>x0_bed and breakfast</th>\n",
              "      <th>x0_boat</th>\n",
              "      <th>x0_boutique hotel</th>\n",
              "      <th>x0_bungalow</th>\n",
              "      <th>x0_condominium</th>\n",
              "      <th>x0_guest suite</th>\n",
              "      <th>x0_hostel</th>\n",
              "      <th>x0_hotel</th>\n",
              "      <th>x0_house</th>\n",
              "      <th>x0_loft</th>\n",
              "      <th>x0_other</th>\n",
              "      <th>x0_townhouse</th>\n",
              "      <th>x0_Entire home/apt</th>\n",
              "      <th>x0_Hotel room</th>\n",
              "      <th>x0_Private room</th>\n",
              "      <th>x0_Shared room</th>\n",
              "      <th>amenities_list</th>\n",
              "      <th>Wifi</th>\n",
              "      <th>Air conditioning</th>\n",
              "      <th>Kitchen</th>\n",
              "      <th>Parking</th>\n",
              "      <th>Outdoor</th>\n",
              "      <th>Kids</th>\n",
              "      <th>Pets allowed</th>\n",
              "      <th>Workspace</th>\n",
              "      <th>Gym</th>\n",
              "      <th>Breakfast</th>\n",
              "      <th>availability_average</th>\n",
              "      <th>estimate</th>\n",
              "    </tr>\n",
              "  </thead>\n",
              "  <tbody>\n",
              "    <tr>\n",
              "      <th>3024</th>\n",
              "      <td>3874257</td>\n",
              "      <td>Relax in our modern Balinese apartment, surrou...</td>\n",
              "      <td>2012-10-06</td>\n",
              "      <td>0</td>\n",
              "      <td>1.31250</td>\n",
              "      <td>103.89761</td>\n",
              "      <td>5</td>\n",
              "      <td>2.0</td>\n",
              "      <td>2.0</td>\n",
              "      <td>4.0</td>\n",
              "      <td>{TV,Wifi,\"Air conditioning\",\"Wheelchair access...</td>\n",
              "      <td>198.0</td>\n",
              "      <td>28</td>\n",
              "      <td>365</td>\n",
              "      <td>365.0</td>\n",
              "      <td>8</td>\n",
              "      <td>0</td>\n",
              "      <td>1</td>\n",
              "      <td>1.098410</td>\n",
              "      <td>0.804358</td>\n",
              "      <td>2.929876</td>\n",
              "      <td>4.5</td>\n",
              "      <td>4.0</td>\n",
              "      <td>1</td>\n",
              "      <td>1</td>\n",
              "      <td>1</td>\n",
              "      <td>1</td>\n",
              "      <td>1</td>\n",
              "      <td>0</td>\n",
              "      <td>1</td>\n",
              "      <td>0</td>\n",
              "      <td>0</td>\n",
              "      <td>0</td>\n",
              "      <td>0</td>\n",
              "      <td>1.0</td>\n",
              "      <td>0.0</td>\n",
              "      <td>0.0</td>\n",
              "      <td>0.0</td>\n",
              "      <td>0.0</td>\n",
              "      <td>1.0</td>\n",
              "      <td>0.0</td>\n",
              "      <td>0.0</td>\n",
              "      <td>0.0</td>\n",
              "      <td>0.0</td>\n",
              "      <td>0.0</td>\n",
              "      <td>0.0</td>\n",
              "      <td>0.0</td>\n",
              "      <td>0.0</td>\n",
              "      <td>0.0</td>\n",
              "      <td>0.0</td>\n",
              "      <td>0.0</td>\n",
              "      <td>0.0</td>\n",
              "      <td>1.0</td>\n",
              "      <td>0.0</td>\n",
              "      <td>0.0</td>\n",
              "      <td>0.0</td>\n",
              "      <td>['TV', 'Wifi', 'Air conditioning', 'Wheelchair...</td>\n",
              "      <td>1</td>\n",
              "      <td>1</td>\n",
              "      <td>1</td>\n",
              "      <td>1</td>\n",
              "      <td>1</td>\n",
              "      <td>0</td>\n",
              "      <td>0</td>\n",
              "      <td>0</td>\n",
              "      <td>1</td>\n",
              "      <td>1</td>\n",
              "      <td>0.393988</td>\n",
              "      <td>0.893143</td>\n",
              "    </tr>\n",
              "    <tr>\n",
              "      <th>10348</th>\n",
              "      <td>32292453</td>\n",
              "      <td>The property is situated in Katong neighbourho...</td>\n",
              "      <td>2016-04-09</td>\n",
              "      <td>1</td>\n",
              "      <td>1.30651</td>\n",
              "      <td>103.89819</td>\n",
              "      <td>2</td>\n",
              "      <td>0.0</td>\n",
              "      <td>1.0</td>\n",
              "      <td>1.0</td>\n",
              "      <td>[\"Dryer\", \"Dedicated workspace\", \"Shampoo\", \"W...</td>\n",
              "      <td>93.0</td>\n",
              "      <td>30</td>\n",
              "      <td>1125</td>\n",
              "      <td>1125.0</td>\n",
              "      <td>2</td>\n",
              "      <td>1</td>\n",
              "      <td>120</td>\n",
              "      <td>1.122185</td>\n",
              "      <td>1.080991</td>\n",
              "      <td>2.978138</td>\n",
              "      <td>4.5</td>\n",
              "      <td>4.0</td>\n",
              "      <td>1</td>\n",
              "      <td>1</td>\n",
              "      <td>1</td>\n",
              "      <td>1</td>\n",
              "      <td>0</td>\n",
              "      <td>0</td>\n",
              "      <td>1</td>\n",
              "      <td>0</td>\n",
              "      <td>0</td>\n",
              "      <td>0</td>\n",
              "      <td>0</td>\n",
              "      <td>1.0</td>\n",
              "      <td>0.0</td>\n",
              "      <td>0.0</td>\n",
              "      <td>0.0</td>\n",
              "      <td>0.0</td>\n",
              "      <td>0.0</td>\n",
              "      <td>0.0</td>\n",
              "      <td>0.0</td>\n",
              "      <td>0.0</td>\n",
              "      <td>0.0</td>\n",
              "      <td>1.0</td>\n",
              "      <td>0.0</td>\n",
              "      <td>0.0</td>\n",
              "      <td>0.0</td>\n",
              "      <td>0.0</td>\n",
              "      <td>0.0</td>\n",
              "      <td>0.0</td>\n",
              "      <td>0.0</td>\n",
              "      <td>1.0</td>\n",
              "      <td>0.0</td>\n",
              "      <td>0.0</td>\n",
              "      <td>0.0</td>\n",
              "      <td>['Dryer', 'Dedicated workspace', 'Shampoo', 'W...</td>\n",
              "      <td>1</td>\n",
              "      <td>1</td>\n",
              "      <td>1</td>\n",
              "      <td>0</td>\n",
              "      <td>0</td>\n",
              "      <td>0</td>\n",
              "      <td>0</td>\n",
              "      <td>0</td>\n",
              "      <td>1</td>\n",
              "      <td>0</td>\n",
              "      <td>0.762785</td>\n",
              "      <td>0.891397</td>\n",
              "    </tr>\n",
              "    <tr>\n",
              "      <th>6257</th>\n",
              "      <td>16174252</td>\n",
              "      <td>The property is situated in Katong neighbourho...</td>\n",
              "      <td>2016-04-09</td>\n",
              "      <td>1</td>\n",
              "      <td>1.30570</td>\n",
              "      <td>103.89816</td>\n",
              "      <td>2</td>\n",
              "      <td>1.0</td>\n",
              "      <td>1.0</td>\n",
              "      <td>1.0</td>\n",
              "      <td>{TV,Wifi,\"Air conditioning\",Pool,Kitchen,\"Pets...</td>\n",
              "      <td>91.0</td>\n",
              "      <td>3</td>\n",
              "      <td>1125</td>\n",
              "      <td>1125.0</td>\n",
              "      <td>0</td>\n",
              "      <td>0</td>\n",
              "      <td>335</td>\n",
              "      <td>1.126165</td>\n",
              "      <td>1.098680</td>\n",
              "      <td>3.007575</td>\n",
              "      <td>4.5</td>\n",
              "      <td>4.0</td>\n",
              "      <td>1</td>\n",
              "      <td>1</td>\n",
              "      <td>1</td>\n",
              "      <td>1</td>\n",
              "      <td>0</td>\n",
              "      <td>0</td>\n",
              "      <td>1</td>\n",
              "      <td>0</td>\n",
              "      <td>0</td>\n",
              "      <td>0</td>\n",
              "      <td>0</td>\n",
              "      <td>1.0</td>\n",
              "      <td>0.0</td>\n",
              "      <td>0.0</td>\n",
              "      <td>0.0</td>\n",
              "      <td>0.0</td>\n",
              "      <td>0.0</td>\n",
              "      <td>0.0</td>\n",
              "      <td>0.0</td>\n",
              "      <td>0.0</td>\n",
              "      <td>0.0</td>\n",
              "      <td>1.0</td>\n",
              "      <td>0.0</td>\n",
              "      <td>0.0</td>\n",
              "      <td>0.0</td>\n",
              "      <td>0.0</td>\n",
              "      <td>0.0</td>\n",
              "      <td>0.0</td>\n",
              "      <td>0.0</td>\n",
              "      <td>1.0</td>\n",
              "      <td>0.0</td>\n",
              "      <td>0.0</td>\n",
              "      <td>0.0</td>\n",
              "      <td>['TV', 'Wifi', 'Air conditioning', 'Pool', 'Ki...</td>\n",
              "      <td>1</td>\n",
              "      <td>1</td>\n",
              "      <td>1</td>\n",
              "      <td>0</td>\n",
              "      <td>1</td>\n",
              "      <td>0</td>\n",
              "      <td>1</td>\n",
              "      <td>1</td>\n",
              "      <td>1</td>\n",
              "      <td>0</td>\n",
              "      <td>0.000000</td>\n",
              "      <td>0.881330</td>\n",
              "    </tr>\n",
              "    <tr>\n",
              "      <th>4369</th>\n",
              "      <td>28631311</td>\n",
              "      <td>* Please inquiry before booking* A lovely home...</td>\n",
              "      <td>2015-07-22</td>\n",
              "      <td>0</td>\n",
              "      <td>1.30154</td>\n",
              "      <td>103.90069</td>\n",
              "      <td>5</td>\n",
              "      <td>2.0</td>\n",
              "      <td>3.0</td>\n",
              "      <td>3.0</td>\n",
              "      <td>{TV,Wifi,\"Air conditioning\",Kitchen,\"Free park...</td>\n",
              "      <td>228.0</td>\n",
              "      <td>10</td>\n",
              "      <td>1125</td>\n",
              "      <td>1125.0</td>\n",
              "      <td>0</td>\n",
              "      <td>1</td>\n",
              "      <td>5</td>\n",
              "      <td>1.129023</td>\n",
              "      <td>1.539784</td>\n",
              "      <td>2.928473</td>\n",
              "      <td>4.5</td>\n",
              "      <td>3.8</td>\n",
              "      <td>1</td>\n",
              "      <td>1</td>\n",
              "      <td>1</td>\n",
              "      <td>1</td>\n",
              "      <td>1</td>\n",
              "      <td>1</td>\n",
              "      <td>1</td>\n",
              "      <td>1</td>\n",
              "      <td>0</td>\n",
              "      <td>0</td>\n",
              "      <td>0</td>\n",
              "      <td>1.0</td>\n",
              "      <td>0.0</td>\n",
              "      <td>0.0</td>\n",
              "      <td>0.0</td>\n",
              "      <td>0.0</td>\n",
              "      <td>0.0</td>\n",
              "      <td>0.0</td>\n",
              "      <td>0.0</td>\n",
              "      <td>0.0</td>\n",
              "      <td>0.0</td>\n",
              "      <td>1.0</td>\n",
              "      <td>0.0</td>\n",
              "      <td>0.0</td>\n",
              "      <td>0.0</td>\n",
              "      <td>0.0</td>\n",
              "      <td>0.0</td>\n",
              "      <td>0.0</td>\n",
              "      <td>0.0</td>\n",
              "      <td>1.0</td>\n",
              "      <td>0.0</td>\n",
              "      <td>0.0</td>\n",
              "      <td>0.0</td>\n",
              "      <td>['TV', 'Wifi', 'Air conditioning', 'Kitchen', ...</td>\n",
              "      <td>1</td>\n",
              "      <td>1</td>\n",
              "      <td>1</td>\n",
              "      <td>1</td>\n",
              "      <td>0</td>\n",
              "      <td>0</td>\n",
              "      <td>1</td>\n",
              "      <td>1</td>\n",
              "      <td>0</td>\n",
              "      <td>0</td>\n",
              "      <td>0.811644</td>\n",
              "      <td>0.853834</td>\n",
              "    </tr>\n",
              "    <tr>\n",
              "      <th>1996</th>\n",
              "      <td>30171849</td>\n",
              "      <td>The Space Located in the stylish Katong area. ...</td>\n",
              "      <td>2018-11-13</td>\n",
              "      <td>0</td>\n",
              "      <td>1.31435</td>\n",
              "      <td>103.89735</td>\n",
              "      <td>3</td>\n",
              "      <td>1.0</td>\n",
              "      <td>1.0</td>\n",
              "      <td>1.0</td>\n",
              "      <td>{TV,Wifi,\"Air conditioning\",Kitchen,\"Free park...</td>\n",
              "      <td>147.0</td>\n",
              "      <td>2</td>\n",
              "      <td>1125</td>\n",
              "      <td>1125.0</td>\n",
              "      <td>1</td>\n",
              "      <td>1</td>\n",
              "      <td>32</td>\n",
              "      <td>1.091399</td>\n",
              "      <td>0.635661</td>\n",
              "      <td>2.954685</td>\n",
              "      <td>4.5</td>\n",
              "      <td>4.0</td>\n",
              "      <td>1</td>\n",
              "      <td>1</td>\n",
              "      <td>0</td>\n",
              "      <td>0</td>\n",
              "      <td>1</td>\n",
              "      <td>1</td>\n",
              "      <td>1</td>\n",
              "      <td>1</td>\n",
              "      <td>0</td>\n",
              "      <td>0</td>\n",
              "      <td>0</td>\n",
              "      <td>1.0</td>\n",
              "      <td>0.0</td>\n",
              "      <td>0.0</td>\n",
              "      <td>0.0</td>\n",
              "      <td>0.0</td>\n",
              "      <td>1.0</td>\n",
              "      <td>0.0</td>\n",
              "      <td>0.0</td>\n",
              "      <td>0.0</td>\n",
              "      <td>0.0</td>\n",
              "      <td>0.0</td>\n",
              "      <td>0.0</td>\n",
              "      <td>0.0</td>\n",
              "      <td>0.0</td>\n",
              "      <td>0.0</td>\n",
              "      <td>0.0</td>\n",
              "      <td>0.0</td>\n",
              "      <td>0.0</td>\n",
              "      <td>1.0</td>\n",
              "      <td>0.0</td>\n",
              "      <td>0.0</td>\n",
              "      <td>0.0</td>\n",
              "      <td>['TV', 'Wifi', 'Air conditioning', 'Kitchen', ...</td>\n",
              "      <td>1</td>\n",
              "      <td>1</td>\n",
              "      <td>1</td>\n",
              "      <td>1</td>\n",
              "      <td>0</td>\n",
              "      <td>0</td>\n",
              "      <td>1</td>\n",
              "      <td>0</td>\n",
              "      <td>0</td>\n",
              "      <td>0</td>\n",
              "      <td>0.584970</td>\n",
              "      <td>0.851969</td>\n",
              "    </tr>\n",
              "  </tbody>\n",
              "</table>\n",
              "</div>"
            ],
            "text/plain": [
              "             id  ...  estimate\n",
              "3024    3874257  ...  0.893143\n",
              "10348  32292453  ...  0.891397\n",
              "6257   16174252  ...  0.881330\n",
              "4369   28631311  ...  0.853834\n",
              "1996   30171849  ...  0.851969\n",
              "\n",
              "[5 rows x 69 columns]"
            ]
          },
          "metadata": {
            "tags": []
          },
          "execution_count": 81
        }
      ]
    },
    {
      "cell_type": "markdown",
      "metadata": {
        "id": "Bw_8a_ylO08C"
      },
      "source": [
        "# Hybrid Recommendation 2.0 (removed)"
      ]
    },
    {
      "cell_type": "code",
      "metadata": {
        "id": "wWXR4OhMXRJA",
        "colab": {
          "base_uri": "https://localhost:8080/",
          "height": 530
        },
        "outputId": "80946321-a404-4ff4-f9f2-70170e54d035"
      },
      "source": [
        "customers.head()"
      ],
      "execution_count": 82,
      "outputs": [
        {
          "output_type": "execute_result",
          "data": {
            "text/html": [
              "<div>\n",
              "<style scoped>\n",
              "    .dataframe tbody tr th:only-of-type {\n",
              "        vertical-align: middle;\n",
              "    }\n",
              "\n",
              "    .dataframe tbody tr th {\n",
              "        vertical-align: top;\n",
              "    }\n",
              "\n",
              "    .dataframe thead th {\n",
              "        text-align: right;\n",
              "    }\n",
              "</style>\n",
              "<table border=\"1\" class=\"dataframe\">\n",
              "  <thead>\n",
              "    <tr style=\"text-align: right;\">\n",
              "      <th></th>\n",
              "      <th>reviewer_id</th>\n",
              "      <th>listing_id</th>\n",
              "      <th>date</th>\n",
              "      <th>comments</th>\n",
              "      <th>price</th>\n",
              "      <th>review_scores_rating</th>\n",
              "      <th>review_scores_accuracy</th>\n",
              "      <th>review_scores_cleanliness</th>\n",
              "      <th>review_scores_checkin</th>\n",
              "      <th>review_scores_communication</th>\n",
              "      <th>review_scores_location</th>\n",
              "      <th>review_scores_value</th>\n",
              "      <th>polarity_score</th>\n",
              "      <th>sentiment</th>\n",
              "    </tr>\n",
              "  </thead>\n",
              "  <tbody>\n",
              "    <tr>\n",
              "      <th>0</th>\n",
              "      <td>8557223</td>\n",
              "      <td>49091</td>\n",
              "      <td>2013-10-21</td>\n",
              "      <td>Fran was absolutely gracious and welcoming. Ma...</td>\n",
              "      <td>81.0</td>\n",
              "      <td>94.0</td>\n",
              "      <td>10.0</td>\n",
              "      <td>10.0</td>\n",
              "      <td>10.0</td>\n",
              "      <td>10.0</td>\n",
              "      <td>8.0</td>\n",
              "      <td>8.0</td>\n",
              "      <td>0.9615</td>\n",
              "      <td>pos</td>\n",
              "    </tr>\n",
              "    <tr>\n",
              "      <th>1</th>\n",
              "      <td>1356099</td>\n",
              "      <td>50646</td>\n",
              "      <td>2014-04-18</td>\n",
              "      <td>A comfortable room in a smart condo developmen...</td>\n",
              "      <td>80.0</td>\n",
              "      <td>91.0</td>\n",
              "      <td>9.0</td>\n",
              "      <td>10.0</td>\n",
              "      <td>10.0</td>\n",
              "      <td>10.0</td>\n",
              "      <td>9.0</td>\n",
              "      <td>9.0</td>\n",
              "      <td>0.9484</td>\n",
              "      <td>pos</td>\n",
              "    </tr>\n",
              "    <tr>\n",
              "      <th>2</th>\n",
              "      <td>15222393</td>\n",
              "      <td>50646</td>\n",
              "      <td>2014-06-05</td>\n",
              "      <td>Stayed over at Sujatha's house for 3 good nigh...</td>\n",
              "      <td>80.0</td>\n",
              "      <td>91.0</td>\n",
              "      <td>9.0</td>\n",
              "      <td>10.0</td>\n",
              "      <td>10.0</td>\n",
              "      <td>10.0</td>\n",
              "      <td>9.0</td>\n",
              "      <td>9.0</td>\n",
              "      <td>0.9879</td>\n",
              "      <td>pos</td>\n",
              "    </tr>\n",
              "    <tr>\n",
              "      <th>3</th>\n",
              "      <td>5543172</td>\n",
              "      <td>50646</td>\n",
              "      <td>2014-07-02</td>\n",
              "      <td>It's been a lovely stay at Sujatha's. The room...</td>\n",
              "      <td>80.0</td>\n",
              "      <td>91.0</td>\n",
              "      <td>9.0</td>\n",
              "      <td>10.0</td>\n",
              "      <td>10.0</td>\n",
              "      <td>10.0</td>\n",
              "      <td>9.0</td>\n",
              "      <td>9.0</td>\n",
              "      <td>0.9627</td>\n",
              "      <td>pos</td>\n",
              "    </tr>\n",
              "    <tr>\n",
              "      <th>4</th>\n",
              "      <td>817532</td>\n",
              "      <td>50646</td>\n",
              "      <td>2014-07-08</td>\n",
              "      <td>We had a great experience. A nice place, an am...</td>\n",
              "      <td>80.0</td>\n",
              "      <td>91.0</td>\n",
              "      <td>9.0</td>\n",
              "      <td>10.0</td>\n",
              "      <td>10.0</td>\n",
              "      <td>10.0</td>\n",
              "      <td>9.0</td>\n",
              "      <td>9.0</td>\n",
              "      <td>0.9274</td>\n",
              "      <td>pos</td>\n",
              "    </tr>\n",
              "  </tbody>\n",
              "</table>\n",
              "</div>"
            ],
            "text/plain": [
              "   reviewer_id  listing_id  ... polarity_score sentiment\n",
              "0      8557223       49091  ...         0.9615       pos\n",
              "1      1356099       50646  ...         0.9484       pos\n",
              "2     15222393       50646  ...         0.9879       pos\n",
              "3      5543172       50646  ...         0.9627       pos\n",
              "4       817532       50646  ...         0.9274       pos\n",
              "\n",
              "[5 rows x 14 columns]"
            ]
          },
          "metadata": {
            "tags": []
          },
          "execution_count": 82
        }
      ]
    },
    {
      "cell_type": "code",
      "metadata": {
        "id": "Z76IWJu49eey"
      },
      "source": [
        "df_hr = customers.copy()\n",
        "df_hr['overall_review'] = (df_hr.review_scores_rating/100 + (df_hr.review_scores_accuracy + df_hr.review_scores_cleanliness + df_hr.review_scores_checkin + \\\n",
        "df_hr.review_scores_communication + df_hr.review_scores_location + df_hr.review_scores_value)/10)/7\n",
        "df_hr = df_hr.drop(columns = ['review_scores_rating','review_scores_accuracy','review_scores_cleanliness','review_scores_checkin','review_scores_communication','review_scores_location','review_scores_value'])"
      ],
      "execution_count": 83,
      "outputs": []
    },
    {
      "cell_type": "code",
      "metadata": {
        "id": "jBoqR3mx-e0I",
        "colab": {
          "base_uri": "https://localhost:8080/",
          "height": 289
        },
        "outputId": "80a83621-f48a-42f4-8765-e8f580037be7"
      },
      "source": [
        "df_hr.head()"
      ],
      "execution_count": 84,
      "outputs": [
        {
          "output_type": "execute_result",
          "data": {
            "text/html": [
              "<div>\n",
              "<style scoped>\n",
              "    .dataframe tbody tr th:only-of-type {\n",
              "        vertical-align: middle;\n",
              "    }\n",
              "\n",
              "    .dataframe tbody tr th {\n",
              "        vertical-align: top;\n",
              "    }\n",
              "\n",
              "    .dataframe thead th {\n",
              "        text-align: right;\n",
              "    }\n",
              "</style>\n",
              "<table border=\"1\" class=\"dataframe\">\n",
              "  <thead>\n",
              "    <tr style=\"text-align: right;\">\n",
              "      <th></th>\n",
              "      <th>reviewer_id</th>\n",
              "      <th>listing_id</th>\n",
              "      <th>date</th>\n",
              "      <th>comments</th>\n",
              "      <th>price</th>\n",
              "      <th>polarity_score</th>\n",
              "      <th>sentiment</th>\n",
              "      <th>overall_review</th>\n",
              "    </tr>\n",
              "  </thead>\n",
              "  <tbody>\n",
              "    <tr>\n",
              "      <th>0</th>\n",
              "      <td>8557223</td>\n",
              "      <td>49091</td>\n",
              "      <td>2013-10-21</td>\n",
              "      <td>Fran was absolutely gracious and welcoming. Ma...</td>\n",
              "      <td>81.0</td>\n",
              "      <td>0.9615</td>\n",
              "      <td>pos</td>\n",
              "      <td>0.934286</td>\n",
              "    </tr>\n",
              "    <tr>\n",
              "      <th>1</th>\n",
              "      <td>1356099</td>\n",
              "      <td>50646</td>\n",
              "      <td>2014-04-18</td>\n",
              "      <td>A comfortable room in a smart condo developmen...</td>\n",
              "      <td>80.0</td>\n",
              "      <td>0.9484</td>\n",
              "      <td>pos</td>\n",
              "      <td>0.944286</td>\n",
              "    </tr>\n",
              "    <tr>\n",
              "      <th>2</th>\n",
              "      <td>15222393</td>\n",
              "      <td>50646</td>\n",
              "      <td>2014-06-05</td>\n",
              "      <td>Stayed over at Sujatha's house for 3 good nigh...</td>\n",
              "      <td>80.0</td>\n",
              "      <td>0.9879</td>\n",
              "      <td>pos</td>\n",
              "      <td>0.944286</td>\n",
              "    </tr>\n",
              "    <tr>\n",
              "      <th>3</th>\n",
              "      <td>5543172</td>\n",
              "      <td>50646</td>\n",
              "      <td>2014-07-02</td>\n",
              "      <td>It's been a lovely stay at Sujatha's. The room...</td>\n",
              "      <td>80.0</td>\n",
              "      <td>0.9627</td>\n",
              "      <td>pos</td>\n",
              "      <td>0.944286</td>\n",
              "    </tr>\n",
              "    <tr>\n",
              "      <th>4</th>\n",
              "      <td>817532</td>\n",
              "      <td>50646</td>\n",
              "      <td>2014-07-08</td>\n",
              "      <td>We had a great experience. A nice place, an am...</td>\n",
              "      <td>80.0</td>\n",
              "      <td>0.9274</td>\n",
              "      <td>pos</td>\n",
              "      <td>0.944286</td>\n",
              "    </tr>\n",
              "  </tbody>\n",
              "</table>\n",
              "</div>"
            ],
            "text/plain": [
              "   reviewer_id  listing_id  ... sentiment overall_review\n",
              "0      8557223       49091  ...       pos       0.934286\n",
              "1      1356099       50646  ...       pos       0.944286\n",
              "2     15222393       50646  ...       pos       0.944286\n",
              "3      5543172       50646  ...       pos       0.944286\n",
              "4       817532       50646  ...       pos       0.944286\n",
              "\n",
              "[5 rows x 8 columns]"
            ]
          },
          "metadata": {
            "tags": []
          },
          "execution_count": 84
        }
      ]
    },
    {
      "cell_type": "code",
      "metadata": {
        "id": "H79tT558_L_0"
      },
      "source": [
        "df_hr['preference'] = (df_hr['polarity_score']+1)*df_hr['overall_review']/2\n",
        "df_hr = df_hr.drop(columns = ['date','comments','polarity_score','overall_review','sentiment'])"
      ],
      "execution_count": 85,
      "outputs": []
    },
    {
      "cell_type": "code",
      "metadata": {
        "id": "ktbsKmCkCAfR",
        "colab": {
          "base_uri": "https://localhost:8080/",
          "height": 297
        },
        "outputId": "71451f0f-6637-423c-f46c-a19368d7c317"
      },
      "source": [
        "df_hr.describe()"
      ],
      "execution_count": 86,
      "outputs": [
        {
          "output_type": "execute_result",
          "data": {
            "text/html": [
              "<div>\n",
              "<style scoped>\n",
              "    .dataframe tbody tr th:only-of-type {\n",
              "        vertical-align: middle;\n",
              "    }\n",
              "\n",
              "    .dataframe tbody tr th {\n",
              "        vertical-align: top;\n",
              "    }\n",
              "\n",
              "    .dataframe thead th {\n",
              "        text-align: right;\n",
              "    }\n",
              "</style>\n",
              "<table border=\"1\" class=\"dataframe\">\n",
              "  <thead>\n",
              "    <tr style=\"text-align: right;\">\n",
              "      <th></th>\n",
              "      <th>reviewer_id</th>\n",
              "      <th>listing_id</th>\n",
              "      <th>price</th>\n",
              "      <th>preference</th>\n",
              "    </tr>\n",
              "  </thead>\n",
              "  <tbody>\n",
              "    <tr>\n",
              "      <th>count</th>\n",
              "      <td>1.306020e+05</td>\n",
              "      <td>1.306020e+05</td>\n",
              "      <td>130602.000000</td>\n",
              "      <td>130602.000000</td>\n",
              "    </tr>\n",
              "    <tr>\n",
              "      <th>mean</th>\n",
              "      <td>9.486763e+07</td>\n",
              "      <td>1.719744e+07</td>\n",
              "      <td>133.235578</td>\n",
              "      <td>0.827837</td>\n",
              "    </tr>\n",
              "    <tr>\n",
              "      <th>std</th>\n",
              "      <td>8.335650e+07</td>\n",
              "      <td>1.036867e+07</td>\n",
              "      <td>134.407248</td>\n",
              "      <td>0.160834</td>\n",
              "    </tr>\n",
              "    <tr>\n",
              "      <th>min</th>\n",
              "      <td>2.770000e+02</td>\n",
              "      <td>4.909100e+04</td>\n",
              "      <td>0.000000</td>\n",
              "      <td>0.001640</td>\n",
              "    </tr>\n",
              "    <tr>\n",
              "      <th>25%</th>\n",
              "      <td>2.741515e+07</td>\n",
              "      <td>8.364495e+06</td>\n",
              "      <td>62.000000</td>\n",
              "      <td>0.776743</td>\n",
              "    </tr>\n",
              "    <tr>\n",
              "      <th>50%</th>\n",
              "      <td>6.787791e+07</td>\n",
              "      <td>1.650210e+07</td>\n",
              "      <td>100.000000</td>\n",
              "      <td>0.875138</td>\n",
              "    </tr>\n",
              "    <tr>\n",
              "      <th>75%</th>\n",
              "      <td>1.452399e+08</td>\n",
              "      <td>2.400210e+07</td>\n",
              "      <td>169.000000</td>\n",
              "      <td>0.933538</td>\n",
              "    </tr>\n",
              "    <tr>\n",
              "      <th>max</th>\n",
              "      <td>3.850473e+08</td>\n",
              "      <td>4.729685e+07</td>\n",
              "      <td>9999.000000</td>\n",
              "      <td>0.999850</td>\n",
              "    </tr>\n",
              "  </tbody>\n",
              "</table>\n",
              "</div>"
            ],
            "text/plain": [
              "        reviewer_id    listing_id          price     preference\n",
              "count  1.306020e+05  1.306020e+05  130602.000000  130602.000000\n",
              "mean   9.486763e+07  1.719744e+07     133.235578       0.827837\n",
              "std    8.335650e+07  1.036867e+07     134.407248       0.160834\n",
              "min    2.770000e+02  4.909100e+04       0.000000       0.001640\n",
              "25%    2.741515e+07  8.364495e+06      62.000000       0.776743\n",
              "50%    6.787791e+07  1.650210e+07     100.000000       0.875138\n",
              "75%    1.452399e+08  2.400210e+07     169.000000       0.933538\n",
              "max    3.850473e+08  4.729685e+07    9999.000000       0.999850"
            ]
          },
          "metadata": {
            "tags": []
          },
          "execution_count": 86
        }
      ]
    },
    {
      "cell_type": "code",
      "metadata": {
        "id": "jU32TCNfAZeI"
      },
      "source": [
        "reader = Reader(rating_scale=(0, 1))\n",
        "data = Dataset.load_from_df(df_hr[['reviewer_id', 'listing_id', 'preference']], reader)\n",
        "data_hr = data"
      ],
      "execution_count": 87,
      "outputs": []
    },
    {
      "cell_type": "code",
      "metadata": {
        "id": "DT6DzwCZQw65"
      },
      "source": [
        "raw_ratings = data.raw_ratings\n",
        "\n",
        "import random\n",
        "random.shuffle(raw_ratings)\n",
        "\n",
        "# A = 90% of the data, B = 10% of the data\n",
        "threshold = int(0.9 * len(raw_ratings))\n",
        "A_raw_ratings = raw_ratings[:threshold]\n",
        "B_raw_ratings = raw_ratings[threshold:]\n",
        "\n",
        "data.raw_ratings = A_raw_ratings  # data is now the set A"
      ],
      "execution_count": 88,
      "outputs": []
    },
    {
      "cell_type": "code",
      "metadata": {
        "id": "cM992mdtCK0g",
        "colab": {
          "base_uri": "https://localhost:8080/",
          "height": 403
        },
        "outputId": "62211a12-3382-464b-8348-380b8fe7e8cd"
      },
      "source": [
        "# Select your best algo with grid search.\n",
        "print('Grid Search...')\n",
        "\n",
        "param_grid = {'n_epochs': [5, 10, 20], 'lr_all': [0.002, 0.005, 0.1],\n",
        "              'reg_all': [0.4, 0.6], 'n_factors':[100,200,500]} # tuning\n",
        "grid_search = GridSearchCV(SVD, param_grid, measures=['rmse','mae'], cv=3)\n",
        "grid_search.fit(data)\n",
        "print('best RMSE score')\n",
        "print(grid_search.best_score['rmse'])"
      ],
      "execution_count": 89,
      "outputs": [
        {
          "output_type": "stream",
          "text": [
            "Grid Search...\n"
          ],
          "name": "stdout"
        },
        {
          "output_type": "error",
          "ename": "KeyboardInterrupt",
          "evalue": "ignored",
          "traceback": [
            "\u001b[0;31m---------------------------------------------------------------------------\u001b[0m",
            "\u001b[0;31mKeyboardInterrupt\u001b[0m                         Traceback (most recent call last)",
            "\u001b[0;32m<ipython-input-89-7f9c0a2948c6>\u001b[0m in \u001b[0;36m<module>\u001b[0;34m()\u001b[0m\n\u001b[1;32m      5\u001b[0m               'reg_all': [0.4, 0.6], 'n_factors':[100,200,500]} # tuning\n\u001b[1;32m      6\u001b[0m \u001b[0mgrid_search\u001b[0m \u001b[0;34m=\u001b[0m \u001b[0mGridSearchCV\u001b[0m\u001b[0;34m(\u001b[0m\u001b[0mSVD\u001b[0m\u001b[0;34m,\u001b[0m \u001b[0mparam_grid\u001b[0m\u001b[0;34m,\u001b[0m \u001b[0mmeasures\u001b[0m\u001b[0;34m=\u001b[0m\u001b[0;34m[\u001b[0m\u001b[0;34m'rmse'\u001b[0m\u001b[0;34m,\u001b[0m\u001b[0;34m'mae'\u001b[0m\u001b[0;34m]\u001b[0m\u001b[0;34m,\u001b[0m \u001b[0mcv\u001b[0m\u001b[0;34m=\u001b[0m\u001b[0;36m3\u001b[0m\u001b[0;34m)\u001b[0m\u001b[0;34m\u001b[0m\u001b[0;34m\u001b[0m\u001b[0m\n\u001b[0;32m----> 7\u001b[0;31m \u001b[0mgrid_search\u001b[0m\u001b[0;34m.\u001b[0m\u001b[0mfit\u001b[0m\u001b[0;34m(\u001b[0m\u001b[0mdata\u001b[0m\u001b[0;34m)\u001b[0m\u001b[0;34m\u001b[0m\u001b[0;34m\u001b[0m\u001b[0m\n\u001b[0m\u001b[1;32m      8\u001b[0m \u001b[0mprint\u001b[0m\u001b[0;34m(\u001b[0m\u001b[0;34m'best RMSE score'\u001b[0m\u001b[0;34m)\u001b[0m\u001b[0;34m\u001b[0m\u001b[0;34m\u001b[0m\u001b[0m\n\u001b[1;32m      9\u001b[0m \u001b[0mprint\u001b[0m\u001b[0;34m(\u001b[0m\u001b[0mgrid_search\u001b[0m\u001b[0;34m.\u001b[0m\u001b[0mbest_score\u001b[0m\u001b[0;34m[\u001b[0m\u001b[0;34m'rmse'\u001b[0m\u001b[0;34m]\u001b[0m\u001b[0;34m)\u001b[0m\u001b[0;34m\u001b[0m\u001b[0;34m\u001b[0m\u001b[0m\n",
            "\u001b[0;32m/usr/local/lib/python3.7/dist-packages/surprise/model_selection/search.py\u001b[0m in \u001b[0;36mfit\u001b[0;34m(self, data)\u001b[0m\n\u001b[1;32m     88\u001b[0m         out = Parallel(n_jobs=self.n_jobs,\n\u001b[1;32m     89\u001b[0m                        \u001b[0mpre_dispatch\u001b[0m\u001b[0;34m=\u001b[0m\u001b[0mself\u001b[0m\u001b[0;34m.\u001b[0m\u001b[0mpre_dispatch\u001b[0m\u001b[0;34m,\u001b[0m\u001b[0;34m\u001b[0m\u001b[0;34m\u001b[0m\u001b[0m\n\u001b[0;32m---> 90\u001b[0;31m                        verbose=self.joblib_verbose)(delayed_list)\n\u001b[0m\u001b[1;32m     91\u001b[0m \u001b[0;34m\u001b[0m\u001b[0m\n\u001b[1;32m     92\u001b[0m         (test_measures_dicts,\n",
            "\u001b[0;32m/usr/local/lib/python3.7/dist-packages/joblib/parallel.py\u001b[0m in \u001b[0;36m__call__\u001b[0;34m(self, iterable)\u001b[0m\n\u001b[1;32m   1042\u001b[0m                 \u001b[0mself\u001b[0m\u001b[0;34m.\u001b[0m\u001b[0m_iterating\u001b[0m \u001b[0;34m=\u001b[0m \u001b[0mself\u001b[0m\u001b[0;34m.\u001b[0m\u001b[0m_original_iterator\u001b[0m \u001b[0;32mis\u001b[0m \u001b[0;32mnot\u001b[0m \u001b[0;32mNone\u001b[0m\u001b[0;34m\u001b[0m\u001b[0;34m\u001b[0m\u001b[0m\n\u001b[1;32m   1043\u001b[0m \u001b[0;34m\u001b[0m\u001b[0m\n\u001b[0;32m-> 1044\u001b[0;31m             \u001b[0;32mwhile\u001b[0m \u001b[0mself\u001b[0m\u001b[0;34m.\u001b[0m\u001b[0mdispatch_one_batch\u001b[0m\u001b[0;34m(\u001b[0m\u001b[0miterator\u001b[0m\u001b[0;34m)\u001b[0m\u001b[0;34m:\u001b[0m\u001b[0;34m\u001b[0m\u001b[0;34m\u001b[0m\u001b[0m\n\u001b[0m\u001b[1;32m   1045\u001b[0m                 \u001b[0;32mpass\u001b[0m\u001b[0;34m\u001b[0m\u001b[0;34m\u001b[0m\u001b[0m\n\u001b[1;32m   1046\u001b[0m \u001b[0;34m\u001b[0m\u001b[0m\n",
            "\u001b[0;32m/usr/local/lib/python3.7/dist-packages/joblib/parallel.py\u001b[0m in \u001b[0;36mdispatch_one_batch\u001b[0;34m(self, iterator)\u001b[0m\n\u001b[1;32m    857\u001b[0m                 \u001b[0;32mreturn\u001b[0m \u001b[0;32mFalse\u001b[0m\u001b[0;34m\u001b[0m\u001b[0;34m\u001b[0m\u001b[0m\n\u001b[1;32m    858\u001b[0m             \u001b[0;32melse\u001b[0m\u001b[0;34m:\u001b[0m\u001b[0;34m\u001b[0m\u001b[0;34m\u001b[0m\u001b[0m\n\u001b[0;32m--> 859\u001b[0;31m                 \u001b[0mself\u001b[0m\u001b[0;34m.\u001b[0m\u001b[0m_dispatch\u001b[0m\u001b[0;34m(\u001b[0m\u001b[0mtasks\u001b[0m\u001b[0;34m)\u001b[0m\u001b[0;34m\u001b[0m\u001b[0;34m\u001b[0m\u001b[0m\n\u001b[0m\u001b[1;32m    860\u001b[0m                 \u001b[0;32mreturn\u001b[0m \u001b[0;32mTrue\u001b[0m\u001b[0;34m\u001b[0m\u001b[0;34m\u001b[0m\u001b[0m\n\u001b[1;32m    861\u001b[0m \u001b[0;34m\u001b[0m\u001b[0m\n",
            "\u001b[0;32m/usr/local/lib/python3.7/dist-packages/joblib/parallel.py\u001b[0m in \u001b[0;36m_dispatch\u001b[0;34m(self, batch)\u001b[0m\n\u001b[1;32m    775\u001b[0m         \u001b[0;32mwith\u001b[0m \u001b[0mself\u001b[0m\u001b[0;34m.\u001b[0m\u001b[0m_lock\u001b[0m\u001b[0;34m:\u001b[0m\u001b[0;34m\u001b[0m\u001b[0;34m\u001b[0m\u001b[0m\n\u001b[1;32m    776\u001b[0m             \u001b[0mjob_idx\u001b[0m \u001b[0;34m=\u001b[0m \u001b[0mlen\u001b[0m\u001b[0;34m(\u001b[0m\u001b[0mself\u001b[0m\u001b[0;34m.\u001b[0m\u001b[0m_jobs\u001b[0m\u001b[0;34m)\u001b[0m\u001b[0;34m\u001b[0m\u001b[0;34m\u001b[0m\u001b[0m\n\u001b[0;32m--> 777\u001b[0;31m             \u001b[0mjob\u001b[0m \u001b[0;34m=\u001b[0m \u001b[0mself\u001b[0m\u001b[0;34m.\u001b[0m\u001b[0m_backend\u001b[0m\u001b[0;34m.\u001b[0m\u001b[0mapply_async\u001b[0m\u001b[0;34m(\u001b[0m\u001b[0mbatch\u001b[0m\u001b[0;34m,\u001b[0m \u001b[0mcallback\u001b[0m\u001b[0;34m=\u001b[0m\u001b[0mcb\u001b[0m\u001b[0;34m)\u001b[0m\u001b[0;34m\u001b[0m\u001b[0;34m\u001b[0m\u001b[0m\n\u001b[0m\u001b[1;32m    778\u001b[0m             \u001b[0;31m# A job can complete so quickly than its callback is\u001b[0m\u001b[0;34m\u001b[0m\u001b[0;34m\u001b[0m\u001b[0;34m\u001b[0m\u001b[0m\n\u001b[1;32m    779\u001b[0m             \u001b[0;31m# called before we get here, causing self._jobs to\u001b[0m\u001b[0;34m\u001b[0m\u001b[0;34m\u001b[0m\u001b[0;34m\u001b[0m\u001b[0m\n",
            "\u001b[0;32m/usr/local/lib/python3.7/dist-packages/joblib/_parallel_backends.py\u001b[0m in \u001b[0;36mapply_async\u001b[0;34m(self, func, callback)\u001b[0m\n\u001b[1;32m    206\u001b[0m     \u001b[0;32mdef\u001b[0m \u001b[0mapply_async\u001b[0m\u001b[0;34m(\u001b[0m\u001b[0mself\u001b[0m\u001b[0;34m,\u001b[0m \u001b[0mfunc\u001b[0m\u001b[0;34m,\u001b[0m \u001b[0mcallback\u001b[0m\u001b[0;34m=\u001b[0m\u001b[0;32mNone\u001b[0m\u001b[0;34m)\u001b[0m\u001b[0;34m:\u001b[0m\u001b[0;34m\u001b[0m\u001b[0;34m\u001b[0m\u001b[0m\n\u001b[1;32m    207\u001b[0m         \u001b[0;34m\"\"\"Schedule a func to be run\"\"\"\u001b[0m\u001b[0;34m\u001b[0m\u001b[0;34m\u001b[0m\u001b[0m\n\u001b[0;32m--> 208\u001b[0;31m         \u001b[0mresult\u001b[0m \u001b[0;34m=\u001b[0m \u001b[0mImmediateResult\u001b[0m\u001b[0;34m(\u001b[0m\u001b[0mfunc\u001b[0m\u001b[0;34m)\u001b[0m\u001b[0;34m\u001b[0m\u001b[0;34m\u001b[0m\u001b[0m\n\u001b[0m\u001b[1;32m    209\u001b[0m         \u001b[0;32mif\u001b[0m \u001b[0mcallback\u001b[0m\u001b[0;34m:\u001b[0m\u001b[0;34m\u001b[0m\u001b[0;34m\u001b[0m\u001b[0m\n\u001b[1;32m    210\u001b[0m             \u001b[0mcallback\u001b[0m\u001b[0;34m(\u001b[0m\u001b[0mresult\u001b[0m\u001b[0;34m)\u001b[0m\u001b[0;34m\u001b[0m\u001b[0;34m\u001b[0m\u001b[0m\n",
            "\u001b[0;32m/usr/local/lib/python3.7/dist-packages/joblib/_parallel_backends.py\u001b[0m in \u001b[0;36m__init__\u001b[0;34m(self, batch)\u001b[0m\n\u001b[1;32m    570\u001b[0m         \u001b[0;31m# Don't delay the application, to avoid keeping the input\u001b[0m\u001b[0;34m\u001b[0m\u001b[0;34m\u001b[0m\u001b[0;34m\u001b[0m\u001b[0m\n\u001b[1;32m    571\u001b[0m         \u001b[0;31m# arguments in memory\u001b[0m\u001b[0;34m\u001b[0m\u001b[0;34m\u001b[0m\u001b[0;34m\u001b[0m\u001b[0m\n\u001b[0;32m--> 572\u001b[0;31m         \u001b[0mself\u001b[0m\u001b[0;34m.\u001b[0m\u001b[0mresults\u001b[0m \u001b[0;34m=\u001b[0m \u001b[0mbatch\u001b[0m\u001b[0;34m(\u001b[0m\u001b[0;34m)\u001b[0m\u001b[0;34m\u001b[0m\u001b[0;34m\u001b[0m\u001b[0m\n\u001b[0m\u001b[1;32m    573\u001b[0m \u001b[0;34m\u001b[0m\u001b[0m\n\u001b[1;32m    574\u001b[0m     \u001b[0;32mdef\u001b[0m \u001b[0mget\u001b[0m\u001b[0;34m(\u001b[0m\u001b[0mself\u001b[0m\u001b[0;34m)\u001b[0m\u001b[0;34m:\u001b[0m\u001b[0;34m\u001b[0m\u001b[0;34m\u001b[0m\u001b[0m\n",
            "\u001b[0;32m/usr/local/lib/python3.7/dist-packages/joblib/parallel.py\u001b[0m in \u001b[0;36m__call__\u001b[0;34m(self)\u001b[0m\n\u001b[1;32m    261\u001b[0m         \u001b[0;32mwith\u001b[0m \u001b[0mparallel_backend\u001b[0m\u001b[0;34m(\u001b[0m\u001b[0mself\u001b[0m\u001b[0;34m.\u001b[0m\u001b[0m_backend\u001b[0m\u001b[0;34m,\u001b[0m \u001b[0mn_jobs\u001b[0m\u001b[0;34m=\u001b[0m\u001b[0mself\u001b[0m\u001b[0;34m.\u001b[0m\u001b[0m_n_jobs\u001b[0m\u001b[0;34m)\u001b[0m\u001b[0;34m:\u001b[0m\u001b[0;34m\u001b[0m\u001b[0;34m\u001b[0m\u001b[0m\n\u001b[1;32m    262\u001b[0m             return [func(*args, **kwargs)\n\u001b[0;32m--> 263\u001b[0;31m                     for func, args, kwargs in self.items]\n\u001b[0m\u001b[1;32m    264\u001b[0m \u001b[0;34m\u001b[0m\u001b[0m\n\u001b[1;32m    265\u001b[0m     \u001b[0;32mdef\u001b[0m \u001b[0m__reduce__\u001b[0m\u001b[0;34m(\u001b[0m\u001b[0mself\u001b[0m\u001b[0;34m)\u001b[0m\u001b[0;34m:\u001b[0m\u001b[0;34m\u001b[0m\u001b[0;34m\u001b[0m\u001b[0m\n",
            "\u001b[0;32m/usr/local/lib/python3.7/dist-packages/joblib/parallel.py\u001b[0m in \u001b[0;36m<listcomp>\u001b[0;34m(.0)\u001b[0m\n\u001b[1;32m    261\u001b[0m         \u001b[0;32mwith\u001b[0m \u001b[0mparallel_backend\u001b[0m\u001b[0;34m(\u001b[0m\u001b[0mself\u001b[0m\u001b[0;34m.\u001b[0m\u001b[0m_backend\u001b[0m\u001b[0;34m,\u001b[0m \u001b[0mn_jobs\u001b[0m\u001b[0;34m=\u001b[0m\u001b[0mself\u001b[0m\u001b[0;34m.\u001b[0m\u001b[0m_n_jobs\u001b[0m\u001b[0;34m)\u001b[0m\u001b[0;34m:\u001b[0m\u001b[0;34m\u001b[0m\u001b[0;34m\u001b[0m\u001b[0m\n\u001b[1;32m    262\u001b[0m             return [func(*args, **kwargs)\n\u001b[0;32m--> 263\u001b[0;31m                     for func, args, kwargs in self.items]\n\u001b[0m\u001b[1;32m    264\u001b[0m \u001b[0;34m\u001b[0m\u001b[0m\n\u001b[1;32m    265\u001b[0m     \u001b[0;32mdef\u001b[0m \u001b[0m__reduce__\u001b[0m\u001b[0;34m(\u001b[0m\u001b[0mself\u001b[0m\u001b[0;34m)\u001b[0m\u001b[0;34m:\u001b[0m\u001b[0;34m\u001b[0m\u001b[0;34m\u001b[0m\u001b[0m\n",
            "\u001b[0;32m/usr/local/lib/python3.7/dist-packages/surprise/model_selection/validation.py\u001b[0m in \u001b[0;36mfit_and_score\u001b[0;34m(algo, trainset, testset, measures, return_train_measures)\u001b[0m\n\u001b[1;32m    164\u001b[0m \u001b[0;34m\u001b[0m\u001b[0m\n\u001b[1;32m    165\u001b[0m     \u001b[0mstart_fit\u001b[0m \u001b[0;34m=\u001b[0m \u001b[0mtime\u001b[0m\u001b[0;34m.\u001b[0m\u001b[0mtime\u001b[0m\u001b[0;34m(\u001b[0m\u001b[0;34m)\u001b[0m\u001b[0;34m\u001b[0m\u001b[0;34m\u001b[0m\u001b[0m\n\u001b[0;32m--> 166\u001b[0;31m     \u001b[0malgo\u001b[0m\u001b[0;34m.\u001b[0m\u001b[0mfit\u001b[0m\u001b[0;34m(\u001b[0m\u001b[0mtrainset\u001b[0m\u001b[0;34m)\u001b[0m\u001b[0;34m\u001b[0m\u001b[0;34m\u001b[0m\u001b[0m\n\u001b[0m\u001b[1;32m    167\u001b[0m     \u001b[0mfit_time\u001b[0m \u001b[0;34m=\u001b[0m \u001b[0mtime\u001b[0m\u001b[0;34m.\u001b[0m\u001b[0mtime\u001b[0m\u001b[0;34m(\u001b[0m\u001b[0;34m)\u001b[0m \u001b[0;34m-\u001b[0m \u001b[0mstart_fit\u001b[0m\u001b[0;34m\u001b[0m\u001b[0;34m\u001b[0m\u001b[0m\n\u001b[1;32m    168\u001b[0m     \u001b[0mstart_test\u001b[0m \u001b[0;34m=\u001b[0m \u001b[0mtime\u001b[0m\u001b[0;34m.\u001b[0m\u001b[0mtime\u001b[0m\u001b[0;34m(\u001b[0m\u001b[0;34m)\u001b[0m\u001b[0;34m\u001b[0m\u001b[0;34m\u001b[0m\u001b[0m\n",
            "\u001b[0;32m/usr/local/lib/python3.7/dist-packages/surprise/prediction_algorithms/matrix_factorization.pyx\u001b[0m in \u001b[0;36msurprise.prediction_algorithms.matrix_factorization.SVD.fit\u001b[0;34m()\u001b[0m\n",
            "\u001b[0;32m/usr/local/lib/python3.7/dist-packages/surprise/prediction_algorithms/matrix_factorization.pyx\u001b[0m in \u001b[0;36msurprise.prediction_algorithms.matrix_factorization.SVD.sgd\u001b[0;34m()\u001b[0m\n",
            "\u001b[0;32m/usr/local/lib/python3.7/dist-packages/surprise/trainset.py\u001b[0m in \u001b[0;36mall_ratings\u001b[0;34m(self)\u001b[0m\n\u001b[1;32m    177\u001b[0m             \u001b[0;32mraise\u001b[0m \u001b[0mValueError\u001b[0m\u001b[0;34m(\u001b[0m\u001b[0mstr\u001b[0m\u001b[0;34m(\u001b[0m\u001b[0miiid\u001b[0m\u001b[0;34m)\u001b[0m \u001b[0;34m+\u001b[0m \u001b[0;34m' is not a valid inner id.'\u001b[0m\u001b[0;34m)\u001b[0m\u001b[0;34m\u001b[0m\u001b[0;34m\u001b[0m\u001b[0m\n\u001b[1;32m    178\u001b[0m \u001b[0;34m\u001b[0m\u001b[0m\n\u001b[0;32m--> 179\u001b[0;31m     \u001b[0;32mdef\u001b[0m \u001b[0mall_ratings\u001b[0m\u001b[0;34m(\u001b[0m\u001b[0mself\u001b[0m\u001b[0;34m)\u001b[0m\u001b[0;34m:\u001b[0m\u001b[0;34m\u001b[0m\u001b[0;34m\u001b[0m\u001b[0m\n\u001b[0m\u001b[1;32m    180\u001b[0m         \"\"\"Generator function to iterate over all ratings.\n\u001b[1;32m    181\u001b[0m \u001b[0;34m\u001b[0m\u001b[0m\n",
            "\u001b[0;31mKeyboardInterrupt\u001b[0m: "
          ]
        }
      ]
    },
    {
      "cell_type": "code",
      "metadata": {
        "id": "ds1nxEs1DZWD"
      },
      "source": [
        "print('combination of parameters that gave the best RMSE score')\n",
        "print(grid_search.best_params['rmse'])\n",
        "algo = grid_search.best_estimator['rmse']"
      ],
      "execution_count": null,
      "outputs": []
    },
    {
      "cell_type": "code",
      "metadata": {
        "id": "70PfBioUDcG9"
      },
      "source": [
        "# retrain on the whole set A\n",
        "trainset = data.build_full_trainset()\n",
        "algo.fit(trainset)\n",
        "\n",
        "# Compute biased accuracy on A\n",
        "testset= trainset.build_testset()\n",
        "predictions = algo.test(testset)\n",
        "print('Biased accuracy on A,', end='   ')\n",
        "accuracy.rmse(predictions,verbose=True)\n",
        "print('len(predictions)')\n",
        "print(len(predictions))"
      ],
      "execution_count": null,
      "outputs": []
    },
    {
      "cell_type": "code",
      "metadata": {
        "id": "ftawTRFoDjS-"
      },
      "source": [
        "# Compute unbiased accuracy on B\n",
        "testset = data.construct_testset(B_raw_ratings)  # testset is now the set B\n",
        "predictions = algo.test(testset)\n",
        "print('Unbiased accuracy on B,', end=' ')\n",
        "accuracy.rmse(predictions)\n",
        "print('len(predictions)')\n",
        "print(len(predictions))"
      ],
      "execution_count": null,
      "outputs": []
    },
    {
      "cell_type": "code",
      "metadata": {
        "id": "UjBBXuRBDm6f"
      },
      "source": [
        "# define a cross-validation iterator\n",
        "kf = KFold(n_splits=7)\n",
        "algo = SVD(n_factors=100, n_epochs=5, lr_all=0.1) # update\n",
        "\n",
        "for trainset, testset in kf.split(data_hr):\n",
        "    # train and test algorithm.\n",
        "    algo.fit(trainset)\n",
        "    \n",
        "    predictions = algo.test(testset)\n",
        "    \n",
        "    # Compute and print Root Mean Squared Error\n",
        "    accuracy.rmse(predictions, verbose=True)"
      ],
      "execution_count": null,
      "outputs": []
    },
    {
      "cell_type": "code",
      "metadata": {
        "id": "HAFOQdLHDnYm"
      },
      "source": [
        "# retrain on the whole set A\n",
        "trainset = data.build_full_trainset()\n",
        "algo.fit(trainset)\n",
        "\n",
        "#testset= trainset.build_anti_testset()\n",
        "#predictionsAll = algo.test(testset)\n",
        "#print('Accuracy on whole data set,', end='   ')\n",
        "#accuracy.rmse(predictionsAll,verbose=True)\n",
        "#print('len(predictions)')\n",
        "#print(len(predictionsAll))"
      ],
      "execution_count": null,
      "outputs": []
    },
    {
      "cell_type": "code",
      "metadata": {
        "id": "fNNZI7yBDpzU"
      },
      "source": [
        "#def get_top3_recommendations(predictions, topN = 3):    \n",
        "#    top_recs = defaultdict(list)\n",
        "#    for uid, iid, true_r, est, _ in predictions:\n",
        "#        top_recs[uid].append((iid, est))\n",
        "#     \n",
        "#    for uid, user_ratings in top_recs.items():\n",
        "#        user_ratings.sort(key = lambda x: x[1], reverse = True)\n",
        "#        top_recs[uid] = user_ratings[:topN]    \n",
        "#    return top_recs\n",
        "#print('getting top 3 recommendations')"
      ],
      "execution_count": null,
      "outputs": []
    },
    {
      "cell_type": "code",
      "metadata": {
        "id": "l2jTR88lDtoz"
      },
      "source": [
        "#top3_recommendations = get_top3_recommendations(predictionsAll,3)"
      ],
      "execution_count": null,
      "outputs": []
    },
    {
      "cell_type": "code",
      "metadata": {
        "id": "mCgF-KVwDwhv"
      },
      "source": [
        "#dfo = pd.DataFrame(columns=['UserId', 'Recommended Listing, Rating'])\n",
        "#i=0;\n",
        "#for uid, user_ratings in top3_recommendations.items():\n",
        "#    row = [uid, top3_recommendations[uid]]\n",
        "#    dfo.loc[i] = row\n",
        "#    i=i+1\n",
        "#dfo.to_csv('/content/drive/My Drive/BT4222_Project/svd_prediction_on_preference).csv', index = False)"
      ],
      "execution_count": null,
      "outputs": []
    }
  ]
}