{
  "nbformat": 4,
  "nbformat_minor": 0,
  "metadata": {
    "colab": {
      "name": "Recommendation_System.ipynb",
      "provenance": [],
      "toc_visible": true
    },
    "kernelspec": {
      "display_name": "Python 3",
      "name": "python3"
    },
    "language_info": {
      "name": "python"
    }
  },
  "cells": [
    {
      "cell_type": "code",
      "metadata": {
        "colab": {
          "base_uri": "https://localhost:8080/"
        },
        "id": "GB-yJoDG2xfF",
        "outputId": "f9f0bdf0-9b21-4c6a-f6f7-b60a42cfb6a0"
      },
      "source": [
        "from google.colab import drive\n",
        "drive.mount('/content/drive')"
      ],
      "execution_count": 3,
      "outputs": [
        {
          "output_type": "stream",
          "text": [
            "Drive already mounted at /content/drive; to attempt to forcibly remount, call drive.mount(\"/content/drive\", force_remount=True).\n"
          ],
          "name": "stdout"
        }
      ]
    },
    {
      "cell_type": "code",
      "metadata": {
        "id": "QgqgGoCi3B9F"
      },
      "source": [
        "import pandas as pd"
      ],
      "execution_count": 4,
      "outputs": []
    },
    {
      "cell_type": "code",
      "metadata": {
        "id": "4cmcvGVO3Ccd"
      },
      "source": [
        "listings=pd.read_csv(\"/content/drive/My Drive/BT4222_Project/final_datasets/listings_final_version.csv\")\n",
        "customers=pd.read_csv(\"/content/drive/My Drive/BT4222_Project/final_datasets/customers_final_version.csv\")"
      ],
      "execution_count": 5,
      "outputs": []
    },
    {
      "cell_type": "code",
      "metadata": {
        "colab": {
          "base_uri": "https://localhost:8080/"
        },
        "id": "tC-ftJRGDLT0",
        "outputId": "32b10422-6cea-41a1-a15d-a34588ec8834"
      },
      "source": [
        "listings.columns"
      ],
      "execution_count": 6,
      "outputs": [
        {
          "output_type": "execute_result",
          "data": {
            "text/plain": [
              "Index(['id', 'description', 'host_since', 'host_is_superhost', 'latitude',\n",
              "       'longitude', 'accommodates', 'bathrooms', 'bedrooms', 'beds',\n",
              "       'amenities', 'price', 'minimum_nights', 'maximum_nights',\n",
              "       'maximum_nights_avg_ntm', 'number_of_reviews_ltm', 'instant_bookable',\n",
              "       'calculated_host_listings_count', 'nearby_sites_rating',\n",
              "       'nearest_station_dist', 'nearest_site_dist', 'nearest_site_rating',\n",
              "       'host_response_time_cross_rate', 'email', 'phone', 'reviews', 'jumio',\n",
              "       'offline_government_id', 'selfie', 'government_id', 'identity_manual',\n",
              "       'work_email', 'manual_online', 'manual_offline', 'x0_Central Region',\n",
              "       'x0_East Region', 'x0_North Region', 'x0_North-East Region',\n",
              "       'x0_West Region', 'x0_apartment', 'x0_bed and breakfast', 'x0_boat',\n",
              "       'x0_boutique hotel', 'x0_bungalow', 'x0_condominium', 'x0_guest suite',\n",
              "       'x0_hostel', 'x0_hotel', 'x0_house', 'x0_loft', 'x0_other',\n",
              "       'x0_townhouse', 'x0_Entire home/apt', 'x0_Hotel room',\n",
              "       'x0_Private room', 'x0_Shared room', 'amenities_list', 'Wifi',\n",
              "       'Air conditioning', 'Kitchen', 'Parking', 'Outdoor', 'Kids',\n",
              "       'Pets allowed', 'Workspace', 'Gym', 'Breakfast',\n",
              "       'availability_average'],\n",
              "      dtype='object')"
            ]
          },
          "metadata": {
            "tags": []
          },
          "execution_count": 6
        }
      ]
    },
    {
      "cell_type": "code",
      "metadata": {
        "colab": {
          "base_uri": "https://localhost:8080/"
        },
        "id": "p5twMJ0c3PaA",
        "outputId": "37a49b67-c7cf-4b1d-8a7d-f8a462618be7"
      },
      "source": [
        "listings.info()"
      ],
      "execution_count": 7,
      "outputs": [
        {
          "output_type": "stream",
          "text": [
            "<class 'pandas.core.frame.DataFrame'>\n",
            "RangeIndex: 12222 entries, 0 to 12221\n",
            "Data columns (total 68 columns):\n",
            " #   Column                          Non-Null Count  Dtype  \n",
            "---  ------                          --------------  -----  \n",
            " 0   id                              12222 non-null  int64  \n",
            " 1   description                     12222 non-null  object \n",
            " 2   host_since                      12222 non-null  object \n",
            " 3   host_is_superhost               12222 non-null  int64  \n",
            " 4   latitude                        12222 non-null  float64\n",
            " 5   longitude                       12222 non-null  float64\n",
            " 6   accommodates                    12222 non-null  int64  \n",
            " 7   bathrooms                       12222 non-null  float64\n",
            " 8   bedrooms                        12222 non-null  float64\n",
            " 9   beds                            12222 non-null  float64\n",
            " 10  amenities                       12222 non-null  object \n",
            " 11  price                           12222 non-null  float64\n",
            " 12  minimum_nights                  12222 non-null  int64  \n",
            " 13  maximum_nights                  12222 non-null  int64  \n",
            " 14  maximum_nights_avg_ntm          12222 non-null  float64\n",
            " 15  number_of_reviews_ltm           12222 non-null  int64  \n",
            " 16  instant_bookable                12222 non-null  int64  \n",
            " 17  calculated_host_listings_count  12222 non-null  int64  \n",
            " 18  nearby_sites_rating             12222 non-null  float64\n",
            " 19  nearest_station_dist            12222 non-null  float64\n",
            " 20  nearest_site_dist               12222 non-null  float64\n",
            " 21  nearest_site_rating             12222 non-null  float64\n",
            " 22  host_response_time_cross_rate   12222 non-null  float64\n",
            " 23  email                           12222 non-null  int64  \n",
            " 24  phone                           12222 non-null  int64  \n",
            " 25  reviews                         12222 non-null  int64  \n",
            " 26  jumio                           12222 non-null  int64  \n",
            " 27  offline_government_id           12222 non-null  int64  \n",
            " 28  selfie                          12222 non-null  int64  \n",
            " 29  government_id                   12222 non-null  int64  \n",
            " 30  identity_manual                 12222 non-null  int64  \n",
            " 31  work_email                      12222 non-null  int64  \n",
            " 32  manual_online                   12222 non-null  int64  \n",
            " 33  manual_offline                  12222 non-null  int64  \n",
            " 34  x0_Central Region               12222 non-null  float64\n",
            " 35  x0_East Region                  12222 non-null  float64\n",
            " 36  x0_North Region                 12222 non-null  float64\n",
            " 37  x0_North-East Region            12222 non-null  float64\n",
            " 38  x0_West Region                  12222 non-null  float64\n",
            " 39  x0_apartment                    12222 non-null  float64\n",
            " 40  x0_bed and breakfast            12222 non-null  float64\n",
            " 41  x0_boat                         12222 non-null  float64\n",
            " 42  x0_boutique hotel               12222 non-null  float64\n",
            " 43  x0_bungalow                     12222 non-null  float64\n",
            " 44  x0_condominium                  12222 non-null  float64\n",
            " 45  x0_guest suite                  12222 non-null  float64\n",
            " 46  x0_hostel                       12222 non-null  float64\n",
            " 47  x0_hotel                        12222 non-null  float64\n",
            " 48  x0_house                        12222 non-null  float64\n",
            " 49  x0_loft                         12222 non-null  float64\n",
            " 50  x0_other                        12222 non-null  float64\n",
            " 51  x0_townhouse                    12222 non-null  float64\n",
            " 52  x0_Entire home/apt              12222 non-null  float64\n",
            " 53  x0_Hotel room                   12222 non-null  float64\n",
            " 54  x0_Private room                 12222 non-null  float64\n",
            " 55  x0_Shared room                  12222 non-null  float64\n",
            " 56  amenities_list                  12222 non-null  object \n",
            " 57  Wifi                            12222 non-null  int64  \n",
            " 58  Air conditioning                12222 non-null  int64  \n",
            " 59  Kitchen                         12222 non-null  int64  \n",
            " 60  Parking                         12222 non-null  int64  \n",
            " 61  Outdoor                         12222 non-null  int64  \n",
            " 62  Kids                            12222 non-null  int64  \n",
            " 63  Pets allowed                    12222 non-null  int64  \n",
            " 64  Workspace                       12222 non-null  int64  \n",
            " 65  Gym                             12222 non-null  int64  \n",
            " 66  Breakfast                       12222 non-null  int64  \n",
            " 67  availability_average            12222 non-null  float64\n",
            "dtypes: float64(35), int64(29), object(4)\n",
            "memory usage: 6.3+ MB\n"
          ],
          "name": "stdout"
        }
      ]
    },
    {
      "cell_type": "code",
      "metadata": {
        "colab": {
          "base_uri": "https://localhost:8080/"
        },
        "id": "w6msZXGK3S-q",
        "outputId": "4456e856-3d49-47cc-d168-ff13670b3089"
      },
      "source": [
        "customers.info()"
      ],
      "execution_count": 8,
      "outputs": [
        {
          "output_type": "stream",
          "text": [
            "<class 'pandas.core.frame.DataFrame'>\n",
            "RangeIndex: 130602 entries, 0 to 130601\n",
            "Data columns (total 14 columns):\n",
            " #   Column                       Non-Null Count   Dtype  \n",
            "---  ------                       --------------   -----  \n",
            " 0   reviewer_id                  130602 non-null  int64  \n",
            " 1   listing_id                   130602 non-null  int64  \n",
            " 2   date                         130602 non-null  object \n",
            " 3   comments                     130602 non-null  object \n",
            " 4   price                        130602 non-null  float64\n",
            " 5   review_scores_rating         130602 non-null  float64\n",
            " 6   review_scores_accuracy       130602 non-null  float64\n",
            " 7   review_scores_cleanliness    130602 non-null  float64\n",
            " 8   review_scores_checkin        130602 non-null  float64\n",
            " 9   review_scores_communication  130602 non-null  float64\n",
            " 10  review_scores_location       130602 non-null  float64\n",
            " 11  review_scores_value          130602 non-null  float64\n",
            " 12  polarity_score               130602 non-null  float64\n",
            " 13  sentiment                    130602 non-null  object \n",
            "dtypes: float64(9), int64(2), object(3)\n",
            "memory usage: 13.9+ MB\n"
          ],
          "name": "stdout"
        }
      ]
    },
    {
      "cell_type": "markdown",
      "metadata": {
        "id": "s7YAd_rI3bmY"
      },
      "source": [
        "# Knowledge Recommender"
      ]
    },
    {
      "cell_type": "code",
      "metadata": {
        "id": "cExBZYQm3jWt"
      },
      "source": [
        "import pandas as pd\n",
        "import numpy as np"
      ],
      "execution_count": 9,
      "outputs": []
    },
    {
      "cell_type": "code",
      "metadata": {
        "id": "pu3WGgXK4Qod"
      },
      "source": [
        "df_kr = listings[['host_is_superhost', 'nearby_sites_rating', 'bathrooms', 'bedrooms', 'beds', 'instant_bookable','amenities_list', 'price']]"
      ],
      "execution_count": 10,
      "outputs": []
    },
    {
      "cell_type": "code",
      "metadata": {
        "colab": {
          "base_uri": "https://localhost:8080/"
        },
        "id": "Pdde0y_JkhYY",
        "outputId": "21b5b6fd-67ba-40c0-cfcd-f3b6a8743ced"
      },
      "source": [
        "listings.columns"
      ],
      "execution_count": 11,
      "outputs": [
        {
          "output_type": "execute_result",
          "data": {
            "text/plain": [
              "Index(['id', 'description', 'host_since', 'host_is_superhost', 'latitude',\n",
              "       'longitude', 'accommodates', 'bathrooms', 'bedrooms', 'beds',\n",
              "       'amenities', 'price', 'minimum_nights', 'maximum_nights',\n",
              "       'maximum_nights_avg_ntm', 'number_of_reviews_ltm', 'instant_bookable',\n",
              "       'calculated_host_listings_count', 'nearby_sites_rating',\n",
              "       'nearest_station_dist', 'nearest_site_dist', 'nearest_site_rating',\n",
              "       'host_response_time_cross_rate', 'email', 'phone', 'reviews', 'jumio',\n",
              "       'offline_government_id', 'selfie', 'government_id', 'identity_manual',\n",
              "       'work_email', 'manual_online', 'manual_offline', 'x0_Central Region',\n",
              "       'x0_East Region', 'x0_North Region', 'x0_North-East Region',\n",
              "       'x0_West Region', 'x0_apartment', 'x0_bed and breakfast', 'x0_boat',\n",
              "       'x0_boutique hotel', 'x0_bungalow', 'x0_condominium', 'x0_guest suite',\n",
              "       'x0_hostel', 'x0_hotel', 'x0_house', 'x0_loft', 'x0_other',\n",
              "       'x0_townhouse', 'x0_Entire home/apt', 'x0_Hotel room',\n",
              "       'x0_Private room', 'x0_Shared room', 'amenities_list', 'Wifi',\n",
              "       'Air conditioning', 'Kitchen', 'Parking', 'Outdoor', 'Kids',\n",
              "       'Pets allowed', 'Workspace', 'Gym', 'Breakfast',\n",
              "       'availability_average'],\n",
              "      dtype='object')"
            ]
          },
          "metadata": {
            "tags": []
          },
          "execution_count": 11
        }
      ]
    },
    {
      "cell_type": "code",
      "metadata": {
        "id": "SWeXlF3Gjpik"
      },
      "source": [
        "df_kr_new = listings[['host_is_superhost', 'accommodates', 'bathrooms', 'bedrooms', 'beds', 'amenities_list', 'price', 'minimum_nights', 'maximum_nights',\n",
        "                      'instant_bookable', 'x0_Entire home/apt', 'x0_Hotel room', 'x0_Private room', 'x0_Shared room']]"
      ],
      "execution_count": 12,
      "outputs": []
    },
    {
      "cell_type": "code",
      "metadata": {
        "colab": {
          "base_uri": "https://localhost:8080/",
          "height": 289
        },
        "id": "25ZYcwPs5BY3",
        "outputId": "84a2d5fc-d12b-4b97-9a57-fb5ca4df687b"
      },
      "source": [
        "df_kr.head()"
      ],
      "execution_count": 13,
      "outputs": [
        {
          "output_type": "execute_result",
          "data": {
            "text/html": [
              "<div>\n",
              "<style scoped>\n",
              "    .dataframe tbody tr th:only-of-type {\n",
              "        vertical-align: middle;\n",
              "    }\n",
              "\n",
              "    .dataframe tbody tr th {\n",
              "        vertical-align: top;\n",
              "    }\n",
              "\n",
              "    .dataframe thead th {\n",
              "        text-align: right;\n",
              "    }\n",
              "</style>\n",
              "<table border=\"1\" class=\"dataframe\">\n",
              "  <thead>\n",
              "    <tr style=\"text-align: right;\">\n",
              "      <th></th>\n",
              "      <th>host_is_superhost</th>\n",
              "      <th>nearby_sites_rating</th>\n",
              "      <th>bathrooms</th>\n",
              "      <th>bedrooms</th>\n",
              "      <th>beds</th>\n",
              "      <th>instant_bookable</th>\n",
              "      <th>amenities_list</th>\n",
              "      <th>price</th>\n",
              "    </tr>\n",
              "  </thead>\n",
              "  <tbody>\n",
              "    <tr>\n",
              "      <th>0</th>\n",
              "      <td>0</td>\n",
              "      <td>1.135049</td>\n",
              "      <td>1.0</td>\n",
              "      <td>1.0</td>\n",
              "      <td>1.0</td>\n",
              "      <td>0</td>\n",
              "      <td>['TV', 'Cable TV', 'Wifi', 'Air conditioning',...</td>\n",
              "      <td>200.0</td>\n",
              "    </tr>\n",
              "    <tr>\n",
              "      <th>1</th>\n",
              "      <td>0</td>\n",
              "      <td>1.288425</td>\n",
              "      <td>1.0</td>\n",
              "      <td>1.0</td>\n",
              "      <td>1.0</td>\n",
              "      <td>0</td>\n",
              "      <td>['TV', 'Cable TV', 'Internet', 'Wifi', 'Air co...</td>\n",
              "      <td>76.0</td>\n",
              "    </tr>\n",
              "    <tr>\n",
              "      <th>2</th>\n",
              "      <td>0</td>\n",
              "      <td>1.982270</td>\n",
              "      <td>1.0</td>\n",
              "      <td>1.0</td>\n",
              "      <td>1.0</td>\n",
              "      <td>0</td>\n",
              "      <td>['Internet', 'Wifi', 'Air conditioning', 'Pool...</td>\n",
              "      <td>80.0</td>\n",
              "    </tr>\n",
              "    <tr>\n",
              "      <th>3</th>\n",
              "      <td>0</td>\n",
              "      <td>2.550789</td>\n",
              "      <td>1.0</td>\n",
              "      <td>0.0</td>\n",
              "      <td>3.0</td>\n",
              "      <td>0</td>\n",
              "      <td>['TV', 'Internet', 'Wifi', 'Air conditioning',...</td>\n",
              "      <td>143.0</td>\n",
              "    </tr>\n",
              "    <tr>\n",
              "      <th>4</th>\n",
              "      <td>0</td>\n",
              "      <td>1.689570</td>\n",
              "      <td>1.0</td>\n",
              "      <td>1.0</td>\n",
              "      <td>1.0</td>\n",
              "      <td>0</td>\n",
              "      <td>['TV', 'Wifi', 'Air conditioning', 'Kitchen', ...</td>\n",
              "      <td>85.0</td>\n",
              "    </tr>\n",
              "  </tbody>\n",
              "</table>\n",
              "</div>"
            ],
            "text/plain": [
              "   host_is_superhost  ...  price\n",
              "0                  0  ...  200.0\n",
              "1                  0  ...   76.0\n",
              "2                  0  ...   80.0\n",
              "3                  0  ...  143.0\n",
              "4                  0  ...   85.0\n",
              "\n",
              "[5 rows x 8 columns]"
            ]
          },
          "metadata": {
            "tags": []
          },
          "execution_count": 13
        }
      ]
    },
    {
      "cell_type": "code",
      "metadata": {
        "id": "5fr-b86g5giR"
      },
      "source": [
        "def build_chart(df, host_is_superhost, nearby_sites_rating, bathrooms, bedrooms, beds, instant_bookable, *amenities):\n",
        "    listings = df.copy()\n",
        "    \n",
        "    # Filter based on the condition\n",
        "    listings = listings[(listings['host_is_superhost'] == host_is_superhost) & \n",
        "                    (listings['nearby_sites_rating'] >= nearby_sites_rating) & \n",
        "                    (listings['bathrooms'] >= bathrooms) & \n",
        "                    (listings['bedrooms'] >= bedrooms) & \n",
        "                    (listings['beds'] >= beds) &\n",
        "                    (listings['instant_bookable'] == instant_bookable)]\n",
        "\n",
        "    for a in amenities:\n",
        "      listings = listings[listings['amenities_list'].str.contains(a)]\n",
        "\n",
        "    q_listings = listings.sort_values('price')\n",
        "    \n",
        "    return q_listings"
      ],
      "execution_count": 14,
      "outputs": []
    },
    {
      "cell_type": "code",
      "metadata": {
        "id": "RHR1xfHHkv9R"
      },
      "source": [
        "def build_chart_new(df, host_is_superhost, accommodates, bathrooms, bedrooms, beds, instant_bookable, price_low, price_high, minimum_nights, maximum_nights,\n",
        "                x0_Entire_home_or_apt, x0_Hotel_room, x0_Private_room, x0_Shared_room, *amenities):\n",
        "    listings = df.copy()\n",
        "    \n",
        "    # Filter based on the condition\n",
        "    listings = listings[(listings['host_is_superhost'] == host_is_superhost) & \n",
        "                    (listings['bathrooms'] >= bathrooms) & \n",
        "                    (listings['bedrooms'] >= bedrooms) & \n",
        "                    (listings['beds'] >= beds) &\n",
        "                    (listings['instant_bookable'] == instant_bookable) &\n",
        "                    (price_low <= listings['price']) &\n",
        "                    (listings['price'] <= price_high) &\n",
        "                    (listings['minimum_nights'] <= minimum_nights) &\n",
        "                    (listings['maximum_nights'] >= maximum_nights) &\n",
        "                    (listings['x0_Entire home/apt'] == x0_Entire_home_or_apt) &\n",
        "                    (listings['x0_Hotel room'] == x0_Hotel_room) &\n",
        "                    (listings['x0_Private room'] == x0_Private_room) &\n",
        "                    (listings['x0_Shared room'] == x0_Shared_room)\n",
        "                    ]\n",
        "\n",
        "    for a in amenities:\n",
        "      listings = listings[listings['amenities_list'].str.contains(a)]\n",
        "\n",
        "    q_listings = listings.sort_values('price')\n",
        "    \n",
        "    return q_listings"
      ],
      "execution_count": 15,
      "outputs": []
    },
    {
      "cell_type": "code",
      "metadata": {
        "colab": {
          "base_uri": "https://localhost:8080/",
          "height": 411
        },
        "id": "dJ3g3wSdmCjv",
        "outputId": "4715846c-835c-4852-e079-02f304bf9fd4"
      },
      "source": [
        "build_chart_new(df_kr_new, 1, 2, 2, 2, 2, 1, 0, 20000, 1, 2, 1, 0, 0, 0, \"TV\", \"Kitchen\").head()"
      ],
      "execution_count": 16,
      "outputs": [
        {
          "output_type": "execute_result",
          "data": {
            "text/html": [
              "<div>\n",
              "<style scoped>\n",
              "    .dataframe tbody tr th:only-of-type {\n",
              "        vertical-align: middle;\n",
              "    }\n",
              "\n",
              "    .dataframe tbody tr th {\n",
              "        vertical-align: top;\n",
              "    }\n",
              "\n",
              "    .dataframe thead th {\n",
              "        text-align: right;\n",
              "    }\n",
              "</style>\n",
              "<table border=\"1\" class=\"dataframe\">\n",
              "  <thead>\n",
              "    <tr style=\"text-align: right;\">\n",
              "      <th></th>\n",
              "      <th>host_is_superhost</th>\n",
              "      <th>accommodates</th>\n",
              "      <th>bathrooms</th>\n",
              "      <th>bedrooms</th>\n",
              "      <th>beds</th>\n",
              "      <th>amenities_list</th>\n",
              "      <th>price</th>\n",
              "      <th>minimum_nights</th>\n",
              "      <th>maximum_nights</th>\n",
              "      <th>instant_bookable</th>\n",
              "      <th>x0_Entire home/apt</th>\n",
              "      <th>x0_Hotel room</th>\n",
              "      <th>x0_Private room</th>\n",
              "      <th>x0_Shared room</th>\n",
              "    </tr>\n",
              "  </thead>\n",
              "  <tbody>\n",
              "    <tr>\n",
              "      <th>3265</th>\n",
              "      <td>1</td>\n",
              "      <td>4</td>\n",
              "      <td>2.0</td>\n",
              "      <td>2.0</td>\n",
              "      <td>2.0</td>\n",
              "      <td>['TV', 'Wifi', 'Air conditioning', 'Pool', 'Ki...</td>\n",
              "      <td>168.0</td>\n",
              "      <td>1</td>\n",
              "      <td>365</td>\n",
              "      <td>1</td>\n",
              "      <td>1.0</td>\n",
              "      <td>0.0</td>\n",
              "      <td>0.0</td>\n",
              "      <td>0.0</td>\n",
              "    </tr>\n",
              "    <tr>\n",
              "      <th>3959</th>\n",
              "      <td>1</td>\n",
              "      <td>6</td>\n",
              "      <td>3.0</td>\n",
              "      <td>2.0</td>\n",
              "      <td>3.0</td>\n",
              "      <td>['TV', 'Wifi', 'Air conditioning', 'Pool', 'Ki...</td>\n",
              "      <td>189.0</td>\n",
              "      <td>1</td>\n",
              "      <td>1125</td>\n",
              "      <td>1</td>\n",
              "      <td>1.0</td>\n",
              "      <td>0.0</td>\n",
              "      <td>0.0</td>\n",
              "      <td>0.0</td>\n",
              "    </tr>\n",
              "    <tr>\n",
              "      <th>4285</th>\n",
              "      <td>1</td>\n",
              "      <td>6</td>\n",
              "      <td>2.0</td>\n",
              "      <td>2.0</td>\n",
              "      <td>3.0</td>\n",
              "      <td>['TV', 'Wifi', 'Air conditioning', 'Wheelchair...</td>\n",
              "      <td>250.0</td>\n",
              "      <td>1</td>\n",
              "      <td>1125</td>\n",
              "      <td>1</td>\n",
              "      <td>1.0</td>\n",
              "      <td>0.0</td>\n",
              "      <td>0.0</td>\n",
              "      <td>0.0</td>\n",
              "    </tr>\n",
              "    <tr>\n",
              "      <th>2949</th>\n",
              "      <td>1</td>\n",
              "      <td>6</td>\n",
              "      <td>2.0</td>\n",
              "      <td>2.0</td>\n",
              "      <td>3.0</td>\n",
              "      <td>['TV', 'Wifi', 'Air conditioning', 'Pool', 'Ki...</td>\n",
              "      <td>251.0</td>\n",
              "      <td>1</td>\n",
              "      <td>1125</td>\n",
              "      <td>1</td>\n",
              "      <td>1.0</td>\n",
              "      <td>0.0</td>\n",
              "      <td>0.0</td>\n",
              "      <td>0.0</td>\n",
              "    </tr>\n",
              "    <tr>\n",
              "      <th>7450</th>\n",
              "      <td>1</td>\n",
              "      <td>5</td>\n",
              "      <td>2.0</td>\n",
              "      <td>2.0</td>\n",
              "      <td>3.0</td>\n",
              "      <td>['TV', 'Cable TV', 'Wifi', 'Air conditioning',...</td>\n",
              "      <td>256.0</td>\n",
              "      <td>1</td>\n",
              "      <td>90</td>\n",
              "      <td>1</td>\n",
              "      <td>1.0</td>\n",
              "      <td>0.0</td>\n",
              "      <td>0.0</td>\n",
              "      <td>0.0</td>\n",
              "    </tr>\n",
              "  </tbody>\n",
              "</table>\n",
              "</div>"
            ],
            "text/plain": [
              "      host_is_superhost  accommodates  ...  x0_Private room  x0_Shared room\n",
              "3265                  1             4  ...              0.0             0.0\n",
              "3959                  1             6  ...              0.0             0.0\n",
              "4285                  1             6  ...              0.0             0.0\n",
              "2949                  1             6  ...              0.0             0.0\n",
              "7450                  1             5  ...              0.0             0.0\n",
              "\n",
              "[5 rows x 14 columns]"
            ]
          },
          "metadata": {
            "tags": []
          },
          "execution_count": 16
        }
      ]
    },
    {
      "cell_type": "code",
      "metadata": {
        "colab": {
          "base_uri": "https://localhost:8080/",
          "height": 204
        },
        "id": "2dVFUClfCfR8",
        "outputId": "381b967c-fc4d-493f-d872-2a934df61c4d"
      },
      "source": [
        "build_chart(df_kr, 1, 2, 2, 2, 2, 0, \"TV\", \"Air conditioning\", \"Kitchen\").head()"
      ],
      "execution_count": 17,
      "outputs": [
        {
          "output_type": "execute_result",
          "data": {
            "text/html": [
              "<div>\n",
              "<style scoped>\n",
              "    .dataframe tbody tr th:only-of-type {\n",
              "        vertical-align: middle;\n",
              "    }\n",
              "\n",
              "    .dataframe tbody tr th {\n",
              "        vertical-align: top;\n",
              "    }\n",
              "\n",
              "    .dataframe thead th {\n",
              "        text-align: right;\n",
              "    }\n",
              "</style>\n",
              "<table border=\"1\" class=\"dataframe\">\n",
              "  <thead>\n",
              "    <tr style=\"text-align: right;\">\n",
              "      <th></th>\n",
              "      <th>host_is_superhost</th>\n",
              "      <th>nearby_sites_rating</th>\n",
              "      <th>bathrooms</th>\n",
              "      <th>bedrooms</th>\n",
              "      <th>beds</th>\n",
              "      <th>instant_bookable</th>\n",
              "      <th>amenities_list</th>\n",
              "      <th>price</th>\n",
              "    </tr>\n",
              "  </thead>\n",
              "  <tbody>\n",
              "    <tr>\n",
              "      <th>2315</th>\n",
              "      <td>1</td>\n",
              "      <td>2.105276</td>\n",
              "      <td>3.0</td>\n",
              "      <td>2.0</td>\n",
              "      <td>2.0</td>\n",
              "      <td>0</td>\n",
              "      <td>['TV', 'Internet', 'Wifi', 'Air conditioning',...</td>\n",
              "      <td>175.0</td>\n",
              "    </tr>\n",
              "    <tr>\n",
              "      <th>7586</th>\n",
              "      <td>1</td>\n",
              "      <td>2.430885</td>\n",
              "      <td>2.0</td>\n",
              "      <td>2.0</td>\n",
              "      <td>2.0</td>\n",
              "      <td>0</td>\n",
              "      <td>['TV', 'Wifi', 'Air conditioning', 'Pool', 'Ki...</td>\n",
              "      <td>179.0</td>\n",
              "    </tr>\n",
              "    <tr>\n",
              "      <th>5600</th>\n",
              "      <td>1</td>\n",
              "      <td>2.334235</td>\n",
              "      <td>2.0</td>\n",
              "      <td>2.0</td>\n",
              "      <td>2.0</td>\n",
              "      <td>0</td>\n",
              "      <td>['TV', 'Wifi', 'Air conditioning', 'Pool', 'Ki...</td>\n",
              "      <td>188.0</td>\n",
              "    </tr>\n",
              "    <tr>\n",
              "      <th>6189</th>\n",
              "      <td>1</td>\n",
              "      <td>2.881733</td>\n",
              "      <td>2.0</td>\n",
              "      <td>2.0</td>\n",
              "      <td>2.0</td>\n",
              "      <td>0</td>\n",
              "      <td>['TV', 'Cable TV', 'Internet', 'Wifi', 'Air co...</td>\n",
              "      <td>205.0</td>\n",
              "    </tr>\n",
              "    <tr>\n",
              "      <th>5416</th>\n",
              "      <td>1</td>\n",
              "      <td>2.396607</td>\n",
              "      <td>2.0</td>\n",
              "      <td>2.0</td>\n",
              "      <td>3.0</td>\n",
              "      <td>0</td>\n",
              "      <td>['TV', 'Wifi', 'Air conditioning', 'Pool', 'Ki...</td>\n",
              "      <td>246.0</td>\n",
              "    </tr>\n",
              "  </tbody>\n",
              "</table>\n",
              "</div>"
            ],
            "text/plain": [
              "      host_is_superhost  ...  price\n",
              "2315                  1  ...  175.0\n",
              "7586                  1  ...  179.0\n",
              "5600                  1  ...  188.0\n",
              "6189                  1  ...  205.0\n",
              "5416                  1  ...  246.0\n",
              "\n",
              "[5 rows x 8 columns]"
            ]
          },
          "metadata": {
            "tags": []
          },
          "execution_count": 17
        }
      ]
    },
    {
      "cell_type": "markdown",
      "metadata": {
        "id": "kK_DiCNIE-9m"
      },
      "source": [
        "# Content-based Recommendation"
      ]
    },
    {
      "cell_type": "code",
      "metadata": {
        "id": "wN3kFGrQDpcF"
      },
      "source": [
        "df_cbr = listings.copy()"
      ],
      "execution_count": 18,
      "outputs": []
    },
    {
      "cell_type": "code",
      "metadata": {
        "id": "WArtdMzoGrnj"
      },
      "source": [
        "from ast import literal_eval\n",
        "\n",
        "df_cbr['amenities_list'] = df_cbr.amenities_list.apply(literal_eval)"
      ],
      "execution_count": 19,
      "outputs": []
    },
    {
      "cell_type": "code",
      "metadata": {
        "colab": {
          "base_uri": "https://localhost:8080/",
          "height": 202
        },
        "id": "NwFI7688IG0h",
        "outputId": "5cbc0a35-4c6c-45ed-d1bd-4214b227d86c"
      },
      "source": [
        "df_cbr.head(1)"
      ],
      "execution_count": 20,
      "outputs": [
        {
          "output_type": "execute_result",
          "data": {
            "text/html": [
              "<div>\n",
              "<style scoped>\n",
              "    .dataframe tbody tr th:only-of-type {\n",
              "        vertical-align: middle;\n",
              "    }\n",
              "\n",
              "    .dataframe tbody tr th {\n",
              "        vertical-align: top;\n",
              "    }\n",
              "\n",
              "    .dataframe thead th {\n",
              "        text-align: right;\n",
              "    }\n",
              "</style>\n",
              "<table border=\"1\" class=\"dataframe\">\n",
              "  <thead>\n",
              "    <tr style=\"text-align: right;\">\n",
              "      <th></th>\n",
              "      <th>id</th>\n",
              "      <th>description</th>\n",
              "      <th>host_since</th>\n",
              "      <th>host_is_superhost</th>\n",
              "      <th>latitude</th>\n",
              "      <th>longitude</th>\n",
              "      <th>accommodates</th>\n",
              "      <th>bathrooms</th>\n",
              "      <th>bedrooms</th>\n",
              "      <th>beds</th>\n",
              "      <th>amenities</th>\n",
              "      <th>price</th>\n",
              "      <th>minimum_nights</th>\n",
              "      <th>maximum_nights</th>\n",
              "      <th>maximum_nights_avg_ntm</th>\n",
              "      <th>number_of_reviews_ltm</th>\n",
              "      <th>instant_bookable</th>\n",
              "      <th>calculated_host_listings_count</th>\n",
              "      <th>nearby_sites_rating</th>\n",
              "      <th>nearest_station_dist</th>\n",
              "      <th>nearest_site_dist</th>\n",
              "      <th>nearest_site_rating</th>\n",
              "      <th>host_response_time_cross_rate</th>\n",
              "      <th>email</th>\n",
              "      <th>phone</th>\n",
              "      <th>reviews</th>\n",
              "      <th>jumio</th>\n",
              "      <th>offline_government_id</th>\n",
              "      <th>selfie</th>\n",
              "      <th>government_id</th>\n",
              "      <th>identity_manual</th>\n",
              "      <th>work_email</th>\n",
              "      <th>manual_online</th>\n",
              "      <th>manual_offline</th>\n",
              "      <th>x0_Central Region</th>\n",
              "      <th>x0_East Region</th>\n",
              "      <th>x0_North Region</th>\n",
              "      <th>x0_North-East Region</th>\n",
              "      <th>x0_West Region</th>\n",
              "      <th>x0_apartment</th>\n",
              "      <th>x0_bed and breakfast</th>\n",
              "      <th>x0_boat</th>\n",
              "      <th>x0_boutique hotel</th>\n",
              "      <th>x0_bungalow</th>\n",
              "      <th>x0_condominium</th>\n",
              "      <th>x0_guest suite</th>\n",
              "      <th>x0_hostel</th>\n",
              "      <th>x0_hotel</th>\n",
              "      <th>x0_house</th>\n",
              "      <th>x0_loft</th>\n",
              "      <th>x0_other</th>\n",
              "      <th>x0_townhouse</th>\n",
              "      <th>x0_Entire home/apt</th>\n",
              "      <th>x0_Hotel room</th>\n",
              "      <th>x0_Private room</th>\n",
              "      <th>x0_Shared room</th>\n",
              "      <th>amenities_list</th>\n",
              "      <th>Wifi</th>\n",
              "      <th>Air conditioning</th>\n",
              "      <th>Kitchen</th>\n",
              "      <th>Parking</th>\n",
              "      <th>Outdoor</th>\n",
              "      <th>Kids</th>\n",
              "      <th>Pets allowed</th>\n",
              "      <th>Workspace</th>\n",
              "      <th>Gym</th>\n",
              "      <th>Breakfast</th>\n",
              "      <th>availability_average</th>\n",
              "    </tr>\n",
              "  </thead>\n",
              "  <tbody>\n",
              "    <tr>\n",
              "      <th>0</th>\n",
              "      <td>1101652</td>\n",
              "      <td>Explore one of Singapore's best kept heritage ...</td>\n",
              "      <td>2012-11-15</td>\n",
              "      <td>0</td>\n",
              "      <td>1.29737</td>\n",
              "      <td>103.90068</td>\n",
              "      <td>4</td>\n",
              "      <td>1.0</td>\n",
              "      <td>1.0</td>\n",
              "      <td>1.0</td>\n",
              "      <td>{TV,\"Cable TV\",Wifi,\"Air conditioning\",\"Wheelc...</td>\n",
              "      <td>200.0</td>\n",
              "      <td>5</td>\n",
              "      <td>800</td>\n",
              "      <td>800.0</td>\n",
              "      <td>0</td>\n",
              "      <td>0</td>\n",
              "      <td>1</td>\n",
              "      <td>1.135049</td>\n",
              "      <td>1.81344</td>\n",
              "      <td>3.174312</td>\n",
              "      <td>4.5</td>\n",
              "      <td>2.0</td>\n",
              "      <td>1</td>\n",
              "      <td>1</td>\n",
              "      <td>1</td>\n",
              "      <td>0</td>\n",
              "      <td>0</td>\n",
              "      <td>0</td>\n",
              "      <td>0</td>\n",
              "      <td>0</td>\n",
              "      <td>0</td>\n",
              "      <td>0</td>\n",
              "      <td>0</td>\n",
              "      <td>1.0</td>\n",
              "      <td>0.0</td>\n",
              "      <td>0.0</td>\n",
              "      <td>0.0</td>\n",
              "      <td>0.0</td>\n",
              "      <td>1.0</td>\n",
              "      <td>0.0</td>\n",
              "      <td>0.0</td>\n",
              "      <td>0.0</td>\n",
              "      <td>0.0</td>\n",
              "      <td>0.0</td>\n",
              "      <td>0.0</td>\n",
              "      <td>0.0</td>\n",
              "      <td>0.0</td>\n",
              "      <td>0.0</td>\n",
              "      <td>0.0</td>\n",
              "      <td>0.0</td>\n",
              "      <td>0.0</td>\n",
              "      <td>1.0</td>\n",
              "      <td>0.0</td>\n",
              "      <td>0.0</td>\n",
              "      <td>0.0</td>\n",
              "      <td>[TV, Cable TV, Wifi, Air conditioning, Wheelch...</td>\n",
              "      <td>1</td>\n",
              "      <td>1</td>\n",
              "      <td>1</td>\n",
              "      <td>1</td>\n",
              "      <td>0</td>\n",
              "      <td>0</td>\n",
              "      <td>0</td>\n",
              "      <td>0</td>\n",
              "      <td>0</td>\n",
              "      <td>0</td>\n",
              "      <td>0.776522</td>\n",
              "    </tr>\n",
              "  </tbody>\n",
              "</table>\n",
              "</div>"
            ],
            "text/plain": [
              "        id  ... availability_average\n",
              "0  1101652  ...             0.776522\n",
              "\n",
              "[1 rows x 68 columns]"
            ]
          },
          "metadata": {
            "tags": []
          },
          "execution_count": 20
        }
      ]
    },
    {
      "cell_type": "code",
      "metadata": {
        "id": "bMxingjKJMp1"
      },
      "source": [
        "listings_with_name=pd.read_csv(\"/content/drive/My Drive/BT4222_Project/datasets/listings_cleaned.csv\", low_memory=False)"
      ],
      "execution_count": 21,
      "outputs": []
    },
    {
      "cell_type": "code",
      "metadata": {
        "colab": {
          "base_uri": "https://localhost:8080/",
          "height": 185
        },
        "id": "2d2sRT0yJjXr",
        "outputId": "62c48d0a-af44-4f07-985b-be9f371c5afd"
      },
      "source": [
        "listings_with_name.head(1)"
      ],
      "execution_count": 22,
      "outputs": [
        {
          "output_type": "execute_result",
          "data": {
            "text/html": [
              "<div>\n",
              "<style scoped>\n",
              "    .dataframe tbody tr th:only-of-type {\n",
              "        vertical-align: middle;\n",
              "    }\n",
              "\n",
              "    .dataframe tbody tr th {\n",
              "        vertical-align: top;\n",
              "    }\n",
              "\n",
              "    .dataframe thead th {\n",
              "        text-align: right;\n",
              "    }\n",
              "</style>\n",
              "<table border=\"1\" class=\"dataframe\">\n",
              "  <thead>\n",
              "    <tr style=\"text-align: right;\">\n",
              "      <th></th>\n",
              "      <th>id</th>\n",
              "      <th>name</th>\n",
              "      <th>description</th>\n",
              "      <th>neighborhood_overview</th>\n",
              "      <th>host_id</th>\n",
              "      <th>host_since</th>\n",
              "      <th>host_about</th>\n",
              "      <th>host_response_time</th>\n",
              "      <th>host_response_rate</th>\n",
              "      <th>host_is_superhost</th>\n",
              "      <th>host_neighbourhood</th>\n",
              "      <th>host_verifications</th>\n",
              "      <th>host_has_profile_pic</th>\n",
              "      <th>host_identity_verified</th>\n",
              "      <th>neighbourhood_cleansed</th>\n",
              "      <th>neighbourhood_group_cleansed</th>\n",
              "      <th>latitude</th>\n",
              "      <th>longitude</th>\n",
              "      <th>property_type</th>\n",
              "      <th>room_type</th>\n",
              "      <th>accommodates</th>\n",
              "      <th>bathrooms</th>\n",
              "      <th>bedrooms</th>\n",
              "      <th>beds</th>\n",
              "      <th>amenities</th>\n",
              "      <th>price</th>\n",
              "      <th>minimum_nights</th>\n",
              "      <th>maximum_nights</th>\n",
              "      <th>minimum_minimum_nights</th>\n",
              "      <th>maximum_minimum_nights</th>\n",
              "      <th>minimum_maximum_nights</th>\n",
              "      <th>maximum_maximum_nights</th>\n",
              "      <th>minimum_nights_avg_ntm</th>\n",
              "      <th>maximum_nights_avg_ntm</th>\n",
              "      <th>calendar_updated</th>\n",
              "      <th>availability_30</th>\n",
              "      <th>availability_60</th>\n",
              "      <th>availability_90</th>\n",
              "      <th>availability_365</th>\n",
              "      <th>number_of_reviews</th>\n",
              "      <th>number_of_reviews_ltm</th>\n",
              "      <th>review_scores_rating</th>\n",
              "      <th>review_scores_accuracy</th>\n",
              "      <th>review_scores_cleanliness</th>\n",
              "      <th>review_scores_checkin</th>\n",
              "      <th>review_scores_communication</th>\n",
              "      <th>review_scores_location</th>\n",
              "      <th>review_scores_value</th>\n",
              "      <th>instant_bookable</th>\n",
              "      <th>calculated_host_listings_count</th>\n",
              "      <th>reviews_per_month</th>\n",
              "      <th>nearby_sites_rating</th>\n",
              "      <th>nearest_station_dist</th>\n",
              "      <th>nearest_site_dist</th>\n",
              "      <th>nearest_site_rating</th>\n",
              "    </tr>\n",
              "  </thead>\n",
              "  <tbody>\n",
              "    <tr>\n",
              "      <th>0</th>\n",
              "      <td>49091</td>\n",
              "      <td>COZICOMFORT LONG TERM STAY ROOM 2</td>\n",
              "      <td>This is Room No. 2.(available after Jan 15 201...</td>\n",
              "      <td>NaN</td>\n",
              "      <td>266763</td>\n",
              "      <td>2010-10-20</td>\n",
              "      <td>I am a private tutor by profession. My husband...</td>\n",
              "      <td>within a few hours</td>\n",
              "      <td>100%</td>\n",
              "      <td>f</td>\n",
              "      <td>Woodlands</td>\n",
              "      <td>['email', 'phone', 'facebook', 'reviews', 'jum...</td>\n",
              "      <td>t</td>\n",
              "      <td>f</td>\n",
              "      <td>Woodlands</td>\n",
              "      <td>North Region</td>\n",
              "      <td>1.44255</td>\n",
              "      <td>103.7958</td>\n",
              "      <td>Apartment</td>\n",
              "      <td>Private room</td>\n",
              "      <td>1</td>\n",
              "      <td>1.0</td>\n",
              "      <td>1.0</td>\n",
              "      <td>1.0</td>\n",
              "      <td>{TV,\"Cable TV\",Internet,Wifi,\"Air conditioning...</td>\n",
              "      <td>$81.00</td>\n",
              "      <td>180</td>\n",
              "      <td>360</td>\n",
              "      <td>180</td>\n",
              "      <td>180</td>\n",
              "      <td>360</td>\n",
              "      <td>360</td>\n",
              "      <td>180.0</td>\n",
              "      <td>360.0</td>\n",
              "      <td>58 months ago</td>\n",
              "      <td>30</td>\n",
              "      <td>60</td>\n",
              "      <td>90</td>\n",
              "      <td>365</td>\n",
              "      <td>1</td>\n",
              "      <td>0</td>\n",
              "      <td>94.0</td>\n",
              "      <td>10.0</td>\n",
              "      <td>10.0</td>\n",
              "      <td>10.0</td>\n",
              "      <td>10.0</td>\n",
              "      <td>8.0</td>\n",
              "      <td>8.0</td>\n",
              "      <td>f</td>\n",
              "      <td>2</td>\n",
              "      <td>0.02</td>\n",
              "      <td>0.995731</td>\n",
              "      <td>0.617762</td>\n",
              "      <td>4.295315</td>\n",
              "      <td>4.595264</td>\n",
              "    </tr>\n",
              "  </tbody>\n",
              "</table>\n",
              "</div>"
            ],
            "text/plain": [
              "      id  ... nearest_site_rating\n",
              "0  49091  ...            4.595264\n",
              "\n",
              "[1 rows x 55 columns]"
            ]
          },
          "metadata": {
            "tags": []
          },
          "execution_count": 22
        }
      ]
    },
    {
      "cell_type": "code",
      "metadata": {
        "id": "Cx2YvrTHJXRr"
      },
      "source": [
        "name_dict = {}\n",
        "for index, listing in listings_with_name.iterrows():\n",
        "  name_dict[listing['id']] = str(listing['name']).title()"
      ],
      "execution_count": 23,
      "outputs": []
    },
    {
      "cell_type": "code",
      "metadata": {
        "id": "fKuJd7eaLpAz"
      },
      "source": [
        "df_cbr['name'] = df_cbr['id'].apply(lambda x: name_dict[x])"
      ],
      "execution_count": 24,
      "outputs": []
    },
    {
      "cell_type": "code",
      "metadata": {
        "colab": {
          "base_uri": "https://localhost:8080/"
        },
        "id": "Vu1cPrMSHF0F",
        "outputId": "cdb6505d-e4a5-42d2-ca36-196b9f6e226f"
      },
      "source": [
        "from sklearn.feature_extraction.text import TfidfVectorizer\n",
        "\n",
        "tfidf = TfidfVectorizer(stop_words='english')\n",
        "\n",
        "tfidf_matrix = tfidf.fit_transform(df_cbr['description'])\n",
        "\n",
        "tfidf_matrix.shape"
      ],
      "execution_count": 25,
      "outputs": [
        {
          "output_type": "execute_result",
          "data": {
            "text/plain": [
              "(12222, 18231)"
            ]
          },
          "metadata": {
            "tags": []
          },
          "execution_count": 25
        }
      ]
    },
    {
      "cell_type": "code",
      "metadata": {
        "id": "F2cWjUcNIlt0"
      },
      "source": [
        "from sklearn.metrics.pairwise import linear_kernel\n",
        "\n",
        "# Compute the cosine similarity matrix\n",
        "cosine_sim = linear_kernel(tfidf_matrix, tfidf_matrix)"
      ],
      "execution_count": 26,
      "outputs": []
    },
    {
      "cell_type": "code",
      "metadata": {
        "id": "jdD9A_QYMS0y"
      },
      "source": [
        "indices = pd.Series(df_cbr.index, index=df_cbr['name']).drop_duplicates()"
      ],
      "execution_count": 27,
      "outputs": []
    },
    {
      "cell_type": "code",
      "metadata": {
        "id": "k_RevNWvIu8k"
      },
      "source": [
        "def content_recommender(name, cosine_sim, df, indices):\n",
        "    idx = indices[name]\n",
        "\n",
        "    # Get the pairwsie similarity scores of all listings with that listing\n",
        "    # And convert it into a list of tuples as described above\n",
        "    sim_scores = list(enumerate(cosine_sim[idx]))\n",
        "\n",
        "    # Sort the listings based on the cosine similarity scores\n",
        "    sim_scores = sorted(sim_scores, key=lambda x: x[1], reverse=True)\n",
        "\n",
        "    # Get the scores of the 10 most similar listings. Ignore the first one.\n",
        "    sim_scores = sim_scores[1:11]\n",
        "\n",
        "    # Get the listing indices\n",
        "    listings_indices = [i[0] for i in sim_scores]\n",
        "\n",
        "    # Return the top 10 most similar listings\n",
        "    return df['name'].iloc[listings_indices]"
      ],
      "execution_count": 28,
      "outputs": []
    },
    {
      "cell_type": "code",
      "metadata": {
        "colab": {
          "base_uri": "https://localhost:8080/"
        },
        "id": "SKXDl6pOL1l_",
        "outputId": "3f4255d9-79d7-4949-8d16-d1c4979605d8"
      },
      "source": [
        "content_recommender(\"Cozy Place In Singapore\", cosine_sim, df_cbr, indices)"
      ],
      "execution_count": 29,
      "outputs": [
        {
          "output_type": "execute_result",
          "data": {
            "text/plain": [
              "7570            2Br 2Bath In Katong Near F&B (Min 3 Mths)\n",
              "2308                    Near To Central With Free Parking\n",
              "3024     Modern 2Br Apt In Katong, Free Parking, Near F&B\n",
              "3836     Humble & Conveniently Located 1Br In Katong Area\n",
              "6257     Humble & Conveniently Located 1Br In Katong Area\n",
              "2049                                     East Coast Haven\n",
              "6336     Humble & Conveniently Located 1Br In Katong Area\n",
              "12220          Kampong Living Cosy Room At Coliving Space\n",
              "4369           Spacious 3Br Home With East Coast Sea View\n",
              "10348    Humble & Conveniently Located 1Br In Katong Area\n",
              "Name: name, dtype: object"
            ]
          },
          "metadata": {
            "tags": []
          },
          "execution_count": 29
        }
      ]
    },
    {
      "cell_type": "markdown",
      "metadata": {
        "id": "epifZidt6joA"
      },
      "source": [
        "# Metadata Based Recommender"
      ]
    },
    {
      "cell_type": "code",
      "metadata": {
        "id": "6STeM0T1pGpG"
      },
      "source": [
        "listings_new = pd.read_csv(\"/content/drive/My Drive/BT4222_Project/final_datasets/listings_final_version2.csv\")"
      ],
      "execution_count": 30,
      "outputs": []
    },
    {
      "cell_type": "code",
      "metadata": {
        "id": "P6Ksi9sY9GPa"
      },
      "source": [
        "df_mbr = listings_new.copy()"
      ],
      "execution_count": 31,
      "outputs": []
    },
    {
      "cell_type": "code",
      "metadata": {
        "id": "9rW9uCDtnusN"
      },
      "source": [
        "listings_with_name=pd.read_csv(\"/content/drive/My Drive/BT4222_Project/datasets/listings_cleaned.csv\", low_memory=False)\n",
        "name_dict = {}\n",
        "for index, listing in listings_with_name.iterrows():\n",
        "  name_dict[listing['id']] = str(listing['name']).title()"
      ],
      "execution_count": 32,
      "outputs": []
    },
    {
      "cell_type": "code",
      "metadata": {
        "id": "eubWK9w7r2mo"
      },
      "source": [
        "df_mbr['name'] = df_mbr['id'].apply(lambda x: name_dict[x])"
      ],
      "execution_count": 33,
      "outputs": []
    },
    {
      "cell_type": "code",
      "metadata": {
        "colab": {
          "base_uri": "https://localhost:8080/",
          "height": 202
        },
        "id": "4Rs754Pu9Zvm",
        "outputId": "4090e811-921e-489d-e87f-9ed6b1e962ea"
      },
      "source": [
        "df_mbr.head(1)"
      ],
      "execution_count": 34,
      "outputs": [
        {
          "output_type": "execute_result",
          "data": {
            "text/html": [
              "<div>\n",
              "<style scoped>\n",
              "    .dataframe tbody tr th:only-of-type {\n",
              "        vertical-align: middle;\n",
              "    }\n",
              "\n",
              "    .dataframe tbody tr th {\n",
              "        vertical-align: top;\n",
              "    }\n",
              "\n",
              "    .dataframe thead th {\n",
              "        text-align: right;\n",
              "    }\n",
              "</style>\n",
              "<table border=\"1\" class=\"dataframe\">\n",
              "  <thead>\n",
              "    <tr style=\"text-align: right;\">\n",
              "      <th></th>\n",
              "      <th>id</th>\n",
              "      <th>description</th>\n",
              "      <th>host_since</th>\n",
              "      <th>host_about</th>\n",
              "      <th>host_is_superhost</th>\n",
              "      <th>host_verifications</th>\n",
              "      <th>latitude</th>\n",
              "      <th>longitude</th>\n",
              "      <th>accommodates</th>\n",
              "      <th>bathrooms</th>\n",
              "      <th>bedrooms</th>\n",
              "      <th>beds</th>\n",
              "      <th>amenities</th>\n",
              "      <th>price</th>\n",
              "      <th>minimum_nights</th>\n",
              "      <th>maximum_nights</th>\n",
              "      <th>maximum_nights_avg_ntm</th>\n",
              "      <th>number_of_reviews_ltm</th>\n",
              "      <th>instant_bookable</th>\n",
              "      <th>calculated_host_listings_count</th>\n",
              "      <th>nearby_sites_rating</th>\n",
              "      <th>nearest_station_dist</th>\n",
              "      <th>nearest_site_dist</th>\n",
              "      <th>nearest_site_rating</th>\n",
              "      <th>host_response_time_cross_rate</th>\n",
              "      <th>x0_Central Region</th>\n",
              "      <th>x0_East Region</th>\n",
              "      <th>x0_North Region</th>\n",
              "      <th>x0_North-East Region</th>\n",
              "      <th>x0_West Region</th>\n",
              "      <th>x0_apartment</th>\n",
              "      <th>x0_bed and breakfast</th>\n",
              "      <th>x0_boat</th>\n",
              "      <th>x0_boutique hotel</th>\n",
              "      <th>x0_bungalow</th>\n",
              "      <th>x0_condominium</th>\n",
              "      <th>x0_guest suite</th>\n",
              "      <th>x0_hostel</th>\n",
              "      <th>x0_hotel</th>\n",
              "      <th>x0_house</th>\n",
              "      <th>x0_loft</th>\n",
              "      <th>x0_other</th>\n",
              "      <th>x0_townhouse</th>\n",
              "      <th>x0_Entire home/apt</th>\n",
              "      <th>x0_Hotel room</th>\n",
              "      <th>x0_Private room</th>\n",
              "      <th>x0_Shared room</th>\n",
              "      <th>amenities_list</th>\n",
              "      <th>Wifi</th>\n",
              "      <th>Air conditioning</th>\n",
              "      <th>Kitchen</th>\n",
              "      <th>Parking</th>\n",
              "      <th>Outdoor</th>\n",
              "      <th>Kids</th>\n",
              "      <th>Pets allowed</th>\n",
              "      <th>Workspace</th>\n",
              "      <th>Gym</th>\n",
              "      <th>Breakfast</th>\n",
              "      <th>availability_average</th>\n",
              "      <th>name</th>\n",
              "    </tr>\n",
              "  </thead>\n",
              "  <tbody>\n",
              "    <tr>\n",
              "      <th>0</th>\n",
              "      <td>1101652</td>\n",
              "      <td>Explore one of Singapore's best kept heritage ...</td>\n",
              "      <td>2012-11-15</td>\n",
              "      <td>Hey!\\r\\n\\r\\nWelcome to my cozy apartment . I f...</td>\n",
              "      <td>0</td>\n",
              "      <td>['email', 'phone', 'reviews']</td>\n",
              "      <td>1.29737</td>\n",
              "      <td>103.90068</td>\n",
              "      <td>4</td>\n",
              "      <td>1.0</td>\n",
              "      <td>1.0</td>\n",
              "      <td>1.0</td>\n",
              "      <td>{TV,\"Cable TV\",Wifi,\"Air conditioning\",\"Wheelc...</td>\n",
              "      <td>200.0</td>\n",
              "      <td>5</td>\n",
              "      <td>800</td>\n",
              "      <td>800.0</td>\n",
              "      <td>0</td>\n",
              "      <td>0</td>\n",
              "      <td>1</td>\n",
              "      <td>1.135049</td>\n",
              "      <td>1.81344</td>\n",
              "      <td>3.174312</td>\n",
              "      <td>4.5</td>\n",
              "      <td>2.0</td>\n",
              "      <td>1.0</td>\n",
              "      <td>0.0</td>\n",
              "      <td>0.0</td>\n",
              "      <td>0.0</td>\n",
              "      <td>0.0</td>\n",
              "      <td>1.0</td>\n",
              "      <td>0.0</td>\n",
              "      <td>0.0</td>\n",
              "      <td>0.0</td>\n",
              "      <td>0.0</td>\n",
              "      <td>0.0</td>\n",
              "      <td>0.0</td>\n",
              "      <td>0.0</td>\n",
              "      <td>0.0</td>\n",
              "      <td>0.0</td>\n",
              "      <td>0.0</td>\n",
              "      <td>0.0</td>\n",
              "      <td>0.0</td>\n",
              "      <td>1.0</td>\n",
              "      <td>0.0</td>\n",
              "      <td>0.0</td>\n",
              "      <td>0.0</td>\n",
              "      <td>['TV', 'Cable TV', 'Wifi', 'Air conditioning',...</td>\n",
              "      <td>1</td>\n",
              "      <td>1</td>\n",
              "      <td>1</td>\n",
              "      <td>1</td>\n",
              "      <td>0</td>\n",
              "      <td>0</td>\n",
              "      <td>0</td>\n",
              "      <td>0</td>\n",
              "      <td>0</td>\n",
              "      <td>0</td>\n",
              "      <td>0.776522</td>\n",
              "      <td>Cozy Place In Singapore</td>\n",
              "    </tr>\n",
              "  </tbody>\n",
              "</table>\n",
              "</div>"
            ],
            "text/plain": [
              "        id  ...                     name\n",
              "0  1101652  ...  Cozy Place In Singapore\n",
              "\n",
              "[1 rows x 60 columns]"
            ]
          },
          "metadata": {
            "tags": []
          },
          "execution_count": 34
        }
      ]
    },
    {
      "cell_type": "code",
      "metadata": {
        "id": "18-OUJgwCB0W"
      },
      "source": [
        "from ast import literal_eval\n",
        "\n",
        "df_mbr['amenities_list'] = df_mbr.amenities_list.apply(literal_eval)"
      ],
      "execution_count": 35,
      "outputs": []
    },
    {
      "cell_type": "code",
      "metadata": {
        "id": "wINyeAdmr59A"
      },
      "source": [
        "def sanitize(x):\n",
        "    if isinstance(x, list):\n",
        "        return [str.lower(i.replace(\" \", \"\")) for i in x]\n",
        "    else:\n",
        "        if isinstance(x, str):\n",
        "            return str.lower(x.replace(\" \", \"\"))\n",
        "        else:\n",
        "            return ''"
      ],
      "execution_count": 36,
      "outputs": []
    },
    {
      "cell_type": "code",
      "metadata": {
        "id": "YFM7f2AAsI92"
      },
      "source": [
        "for feature in ['host_verifications', 'amenities_list']:\n",
        "    df_mbr[feature] = df_mbr[feature].apply(sanitize)"
      ],
      "execution_count": 37,
      "outputs": []
    },
    {
      "cell_type": "code",
      "metadata": {
        "colab": {
          "base_uri": "https://localhost:8080/",
          "height": 202
        },
        "id": "Qjzd8Dk0sWaS",
        "outputId": "08146eac-4b6b-45dd-ce5b-27d55fed1c29"
      },
      "source": [
        "df_mbr.head(1)"
      ],
      "execution_count": 38,
      "outputs": [
        {
          "output_type": "execute_result",
          "data": {
            "text/html": [
              "<div>\n",
              "<style scoped>\n",
              "    .dataframe tbody tr th:only-of-type {\n",
              "        vertical-align: middle;\n",
              "    }\n",
              "\n",
              "    .dataframe tbody tr th {\n",
              "        vertical-align: top;\n",
              "    }\n",
              "\n",
              "    .dataframe thead th {\n",
              "        text-align: right;\n",
              "    }\n",
              "</style>\n",
              "<table border=\"1\" class=\"dataframe\">\n",
              "  <thead>\n",
              "    <tr style=\"text-align: right;\">\n",
              "      <th></th>\n",
              "      <th>id</th>\n",
              "      <th>description</th>\n",
              "      <th>host_since</th>\n",
              "      <th>host_about</th>\n",
              "      <th>host_is_superhost</th>\n",
              "      <th>host_verifications</th>\n",
              "      <th>latitude</th>\n",
              "      <th>longitude</th>\n",
              "      <th>accommodates</th>\n",
              "      <th>bathrooms</th>\n",
              "      <th>bedrooms</th>\n",
              "      <th>beds</th>\n",
              "      <th>amenities</th>\n",
              "      <th>price</th>\n",
              "      <th>minimum_nights</th>\n",
              "      <th>maximum_nights</th>\n",
              "      <th>maximum_nights_avg_ntm</th>\n",
              "      <th>number_of_reviews_ltm</th>\n",
              "      <th>instant_bookable</th>\n",
              "      <th>calculated_host_listings_count</th>\n",
              "      <th>nearby_sites_rating</th>\n",
              "      <th>nearest_station_dist</th>\n",
              "      <th>nearest_site_dist</th>\n",
              "      <th>nearest_site_rating</th>\n",
              "      <th>host_response_time_cross_rate</th>\n",
              "      <th>x0_Central Region</th>\n",
              "      <th>x0_East Region</th>\n",
              "      <th>x0_North Region</th>\n",
              "      <th>x0_North-East Region</th>\n",
              "      <th>x0_West Region</th>\n",
              "      <th>x0_apartment</th>\n",
              "      <th>x0_bed and breakfast</th>\n",
              "      <th>x0_boat</th>\n",
              "      <th>x0_boutique hotel</th>\n",
              "      <th>x0_bungalow</th>\n",
              "      <th>x0_condominium</th>\n",
              "      <th>x0_guest suite</th>\n",
              "      <th>x0_hostel</th>\n",
              "      <th>x0_hotel</th>\n",
              "      <th>x0_house</th>\n",
              "      <th>x0_loft</th>\n",
              "      <th>x0_other</th>\n",
              "      <th>x0_townhouse</th>\n",
              "      <th>x0_Entire home/apt</th>\n",
              "      <th>x0_Hotel room</th>\n",
              "      <th>x0_Private room</th>\n",
              "      <th>x0_Shared room</th>\n",
              "      <th>amenities_list</th>\n",
              "      <th>Wifi</th>\n",
              "      <th>Air conditioning</th>\n",
              "      <th>Kitchen</th>\n",
              "      <th>Parking</th>\n",
              "      <th>Outdoor</th>\n",
              "      <th>Kids</th>\n",
              "      <th>Pets allowed</th>\n",
              "      <th>Workspace</th>\n",
              "      <th>Gym</th>\n",
              "      <th>Breakfast</th>\n",
              "      <th>availability_average</th>\n",
              "      <th>name</th>\n",
              "    </tr>\n",
              "  </thead>\n",
              "  <tbody>\n",
              "    <tr>\n",
              "      <th>0</th>\n",
              "      <td>1101652</td>\n",
              "      <td>Explore one of Singapore's best kept heritage ...</td>\n",
              "      <td>2012-11-15</td>\n",
              "      <td>Hey!\\r\\n\\r\\nWelcome to my cozy apartment . I f...</td>\n",
              "      <td>0</td>\n",
              "      <td>['email','phone','reviews']</td>\n",
              "      <td>1.29737</td>\n",
              "      <td>103.90068</td>\n",
              "      <td>4</td>\n",
              "      <td>1.0</td>\n",
              "      <td>1.0</td>\n",
              "      <td>1.0</td>\n",
              "      <td>{TV,\"Cable TV\",Wifi,\"Air conditioning\",\"Wheelc...</td>\n",
              "      <td>200.0</td>\n",
              "      <td>5</td>\n",
              "      <td>800</td>\n",
              "      <td>800.0</td>\n",
              "      <td>0</td>\n",
              "      <td>0</td>\n",
              "      <td>1</td>\n",
              "      <td>1.135049</td>\n",
              "      <td>1.81344</td>\n",
              "      <td>3.174312</td>\n",
              "      <td>4.5</td>\n",
              "      <td>2.0</td>\n",
              "      <td>1.0</td>\n",
              "      <td>0.0</td>\n",
              "      <td>0.0</td>\n",
              "      <td>0.0</td>\n",
              "      <td>0.0</td>\n",
              "      <td>1.0</td>\n",
              "      <td>0.0</td>\n",
              "      <td>0.0</td>\n",
              "      <td>0.0</td>\n",
              "      <td>0.0</td>\n",
              "      <td>0.0</td>\n",
              "      <td>0.0</td>\n",
              "      <td>0.0</td>\n",
              "      <td>0.0</td>\n",
              "      <td>0.0</td>\n",
              "      <td>0.0</td>\n",
              "      <td>0.0</td>\n",
              "      <td>0.0</td>\n",
              "      <td>1.0</td>\n",
              "      <td>0.0</td>\n",
              "      <td>0.0</td>\n",
              "      <td>0.0</td>\n",
              "      <td>[tv, cabletv, wifi, airconditioning, wheelchai...</td>\n",
              "      <td>1</td>\n",
              "      <td>1</td>\n",
              "      <td>1</td>\n",
              "      <td>1</td>\n",
              "      <td>0</td>\n",
              "      <td>0</td>\n",
              "      <td>0</td>\n",
              "      <td>0</td>\n",
              "      <td>0</td>\n",
              "      <td>0</td>\n",
              "      <td>0.776522</td>\n",
              "      <td>Cozy Place In Singapore</td>\n",
              "    </tr>\n",
              "  </tbody>\n",
              "</table>\n",
              "</div>"
            ],
            "text/plain": [
              "        id  ...                     name\n",
              "0  1101652  ...  Cozy Place In Singapore\n",
              "\n",
              "[1 rows x 60 columns]"
            ]
          },
          "metadata": {
            "tags": []
          },
          "execution_count": 38
        }
      ]
    },
    {
      "cell_type": "code",
      "metadata": {
        "id": "VlPW_i0Nsc82"
      },
      "source": [
        "def create_soup(x):\n",
        "    return x['description'] + ' ' + str(x['host_about']) + ' '+ ' '.join(x['host_verifications']) + ' ' + ' '.join(x['amenities_list'])"
      ],
      "execution_count": 39,
      "outputs": []
    },
    {
      "cell_type": "code",
      "metadata": {
        "id": "_x33Smrfsn5Y"
      },
      "source": [
        "df_mbr['soup'] = df_mbr.apply(create_soup, axis=1)"
      ],
      "execution_count": 40,
      "outputs": []
    },
    {
      "cell_type": "code",
      "metadata": {
        "colab": {
          "base_uri": "https://localhost:8080/",
          "height": 123
        },
        "id": "9c4AxYcosvMf",
        "outputId": "5d855e35-97e6-4ee7-fcc6-835df21e049e"
      },
      "source": [
        "df_mbr.iloc[0]['soup']"
      ],
      "execution_count": 41,
      "outputs": [
        {
          "output_type": "execute_result",
          "data": {
            "application/vnd.google.colaboratory.intrinsic+json": {
              "type": "string"
            },
            "text/plain": [
              "\"Explore one of Singapore's best kept heritage in the East, just steps outside this cosy 1-bedroom condo. Surpisingly quiet despite being so near to the delights of Katong with its myriad of shops and endless eateries! Explore one of Singapore's best kept heritage in the East, just steps outside this cosy 1-bedroom condo. Surpisingly quiet despite being so near to the delights of Katong with its myriad of shops and endless eateries!  Simple, cool layout and in tip top condition. Featuring a fully furnished applianced kitchen, dryer, washer and a modern bath with a rain-shower feature to destress. The Queen sized bed comfortably fits two people with additional sofa bed tucked in the living room. A small pool with jacuzzi for relaxation is available too. What is better? A good sized balcony to laze your day away drenching in the tropical sunshine!  It's a great spot to call home during your visit to Singapore! The condo is also a short walk to Parkway Parade Mall, I12Katong Mall, Katong V Hey!\\r\\n\\r\\nWelcome to my cozy apartment . I first tried airbnb in last nov and love it. During travel, i like to experience the local local experience and by staying in a place where the local stay, i believe i will be able to learn more about them.\\r\\n\\r\\nTake a look at my apartment and even if you are not renting the apartment, feel free to ask me anything about Singapore and i will try my best to assist\\r\\n\\r\\nCheers!\\r\\n\\r\\nJuan\\r\\n \\r\\n\\r\\n\\r\\n [ ' e m a i l ' , ' p h o n e ' , ' r e v i e w s ' ] tv cabletv wifi airconditioning wheelchairaccessible pool kitchen freeparkingonpremises elevator heating family/kidfriendly washer dryer essentials shampoo iron\""
            ]
          },
          "metadata": {
            "tags": []
          },
          "execution_count": 41
        }
      ]
    },
    {
      "cell_type": "code",
      "metadata": {
        "id": "QQ_jHj5guPhN"
      },
      "source": [
        "from sklearn.feature_extraction.text import CountVectorizer\n",
        "\n",
        "count = CountVectorizer(stop_words='english')\n",
        "count_matrix = count.fit_transform(df_mbr['soup'])\n",
        "\n",
        "from sklearn.metrics.pairwise import cosine_similarity\n",
        "\n",
        "cosine_sim2 = cosine_similarity(count_matrix, count_matrix)\n",
        "\n",
        "df_mbr = df_mbr.reset_index()\n",
        "indices2 = pd.Series(df_mbr.index, index=df_mbr['name'])"
      ],
      "execution_count": 42,
      "outputs": []
    },
    {
      "cell_type": "code",
      "metadata": {
        "id": "uOEKMs7RvOZj"
      },
      "source": [
        "def content_recommender(name, cosine_sim, df, indices):\n",
        "    idx = indices[name]\n",
        "\n",
        "    # Get the pairwsie similarity scores of all listings with that listing\n",
        "    # And convert it into a list of tuples as described above\n",
        "    sim_scores = list(enumerate(cosine_sim[idx]))\n",
        "\n",
        "    # Sort the listings based on the cosine similarity scores\n",
        "    sim_scores = sorted(sim_scores, key=lambda x: x[1], reverse=True)\n",
        "\n",
        "    # Get the scores of the 10 most similar listings. Ignore the first one.\n",
        "    sim_scores = sim_scores[1:11]\n",
        "\n",
        "    # Get the listing indices\n",
        "    listings_indices = [i[0] for i in sim_scores]\n",
        "\n",
        "    df_new = pd.DataFrame(df['name'].iloc[listings_indices])\n",
        "    df_new = df_new.assign(scores = list(map(lambda x: x[1], sim_scores)))\n",
        "\n",
        "    # Return the top 10 most similar listings\n",
        "    return df_new"
      ],
      "execution_count": 43,
      "outputs": []
    },
    {
      "cell_type": "code",
      "metadata": {
        "colab": {
          "base_uri": "https://localhost:8080/",
          "height": 359
        },
        "id": "GXAJRZ6IuggP",
        "outputId": "1a205764-dce1-4145-f11b-22facd48b03b"
      },
      "source": [
        "content_recommender(\"Cozy Place In Singapore\", cosine_sim2, df_mbr, indices2)"
      ],
      "execution_count": 44,
      "outputs": [
        {
          "output_type": "execute_result",
          "data": {
            "text/html": [
              "<div>\n",
              "<style scoped>\n",
              "    .dataframe tbody tr th:only-of-type {\n",
              "        vertical-align: middle;\n",
              "    }\n",
              "\n",
              "    .dataframe tbody tr th {\n",
              "        vertical-align: top;\n",
              "    }\n",
              "\n",
              "    .dataframe thead th {\n",
              "        text-align: right;\n",
              "    }\n",
              "</style>\n",
              "<table border=\"1\" class=\"dataframe\">\n",
              "  <thead>\n",
              "    <tr style=\"text-align: right;\">\n",
              "      <th></th>\n",
              "      <th>name</th>\n",
              "      <th>scores</th>\n",
              "    </tr>\n",
              "  </thead>\n",
              "  <tbody>\n",
              "    <tr>\n",
              "      <th>507</th>\n",
              "      <td>1 Br W/ Prvt. Bathroom Available In Heart Of Cbd!</td>\n",
              "      <td>0.410496</td>\n",
              "    </tr>\n",
              "    <tr>\n",
              "      <th>3610</th>\n",
              "      <td>Comfy Room @Jurongeast</td>\n",
              "      <td>0.402591</td>\n",
              "    </tr>\n",
              "    <tr>\n",
              "      <th>2269</th>\n",
              "      <td>Mins To Cbd, 2 Br Apartment</td>\n",
              "      <td>0.402432</td>\n",
              "    </tr>\n",
              "    <tr>\n",
              "      <th>3382</th>\n",
              "      <td>Huge 2Bdrm &gt;5Mins To Paya Lebar Mrt</td>\n",
              "      <td>0.401115</td>\n",
              "    </tr>\n",
              "    <tr>\n",
              "      <th>3775</th>\n",
              "      <td>Discount Bright Homey 2Br Near City Peranakanarea</td>\n",
              "      <td>0.393228</td>\n",
              "    </tr>\n",
              "    <tr>\n",
              "      <th>4307</th>\n",
              "      <td>Discount Bright Quiet 2Br Big Balcony Near City</td>\n",
              "      <td>0.372484</td>\n",
              "    </tr>\n",
              "    <tr>\n",
              "      <th>2918</th>\n",
              "      <td>Raffles Place Sea View 1Br Condo</td>\n",
              "      <td>0.369175</td>\n",
              "    </tr>\n",
              "    <tr>\n",
              "      <th>7476</th>\n",
              "      <td>Central 2Br Apt In Chinatown Above Mrt (#69)</td>\n",
              "      <td>0.368142</td>\n",
              "    </tr>\n",
              "    <tr>\n",
              "      <th>6262</th>\n",
              "      <td>1Br Suite In Chinatown/Cbd Above Mrt (#65)</td>\n",
              "      <td>0.366119</td>\n",
              "    </tr>\n",
              "    <tr>\n",
              "      <th>7520</th>\n",
              "      <td>Spacious 1+Study Above Mrt Station, (P-3)</td>\n",
              "      <td>0.365869</td>\n",
              "    </tr>\n",
              "  </tbody>\n",
              "</table>\n",
              "</div>"
            ],
            "text/plain": [
              "                                                   name    scores\n",
              "507   1 Br W/ Prvt. Bathroom Available In Heart Of Cbd!  0.410496\n",
              "3610                             Comfy Room @Jurongeast  0.402591\n",
              "2269                        Mins To Cbd, 2 Br Apartment  0.402432\n",
              "3382                Huge 2Bdrm >5Mins To Paya Lebar Mrt  0.401115\n",
              "3775  Discount Bright Homey 2Br Near City Peranakanarea  0.393228\n",
              "4307    Discount Bright Quiet 2Br Big Balcony Near City  0.372484\n",
              "2918                   Raffles Place Sea View 1Br Condo  0.369175\n",
              "7476       Central 2Br Apt In Chinatown Above Mrt (#69)  0.368142\n",
              "6262         1Br Suite In Chinatown/Cbd Above Mrt (#65)  0.366119\n",
              "7520          Spacious 1+Study Above Mrt Station, (P-3)  0.365869"
            ]
          },
          "metadata": {
            "tags": []
          },
          "execution_count": 44
        }
      ]
    },
    {
      "cell_type": "code",
      "metadata": {
        "colab": {
          "base_uri": "https://localhost:8080/",
          "height": 359
        },
        "id": "AKWzMeKvu09I",
        "outputId": "9e95b08f-0c67-4113-bc5a-ae54e8dfb63c"
      },
      "source": [
        "content_recommender(\"Cozy Place In Singapore\", cosine_sim, df_cbr, indices)"
      ],
      "execution_count": 45,
      "outputs": [
        {
          "output_type": "execute_result",
          "data": {
            "text/html": [
              "<div>\n",
              "<style scoped>\n",
              "    .dataframe tbody tr th:only-of-type {\n",
              "        vertical-align: middle;\n",
              "    }\n",
              "\n",
              "    .dataframe tbody tr th {\n",
              "        vertical-align: top;\n",
              "    }\n",
              "\n",
              "    .dataframe thead th {\n",
              "        text-align: right;\n",
              "    }\n",
              "</style>\n",
              "<table border=\"1\" class=\"dataframe\">\n",
              "  <thead>\n",
              "    <tr style=\"text-align: right;\">\n",
              "      <th></th>\n",
              "      <th>name</th>\n",
              "      <th>scores</th>\n",
              "    </tr>\n",
              "  </thead>\n",
              "  <tbody>\n",
              "    <tr>\n",
              "      <th>7570</th>\n",
              "      <td>2Br 2Bath In Katong Near F&amp;B (Min 3 Mths)</td>\n",
              "      <td>0.200835</td>\n",
              "    </tr>\n",
              "    <tr>\n",
              "      <th>2308</th>\n",
              "      <td>Near To Central With Free Parking</td>\n",
              "      <td>0.194561</td>\n",
              "    </tr>\n",
              "    <tr>\n",
              "      <th>3024</th>\n",
              "      <td>Modern 2Br Apt In Katong, Free Parking, Near F&amp;B</td>\n",
              "      <td>0.175625</td>\n",
              "    </tr>\n",
              "    <tr>\n",
              "      <th>3836</th>\n",
              "      <td>Humble &amp; Conveniently Located 1Br In Katong Area</td>\n",
              "      <td>0.172282</td>\n",
              "    </tr>\n",
              "    <tr>\n",
              "      <th>6257</th>\n",
              "      <td>Humble &amp; Conveniently Located 1Br In Katong Area</td>\n",
              "      <td>0.172282</td>\n",
              "    </tr>\n",
              "    <tr>\n",
              "      <th>2049</th>\n",
              "      <td>East Coast Haven</td>\n",
              "      <td>0.169960</td>\n",
              "    </tr>\n",
              "    <tr>\n",
              "      <th>6336</th>\n",
              "      <td>Humble &amp; Conveniently Located 1Br In Katong Area</td>\n",
              "      <td>0.169191</td>\n",
              "    </tr>\n",
              "    <tr>\n",
              "      <th>12220</th>\n",
              "      <td>Kampong Living Cosy Room At Coliving Space</td>\n",
              "      <td>0.168525</td>\n",
              "    </tr>\n",
              "    <tr>\n",
              "      <th>4369</th>\n",
              "      <td>Spacious 3Br Home With East Coast Sea View</td>\n",
              "      <td>0.167057</td>\n",
              "    </tr>\n",
              "    <tr>\n",
              "      <th>10348</th>\n",
              "      <td>Humble &amp; Conveniently Located 1Br In Katong Area</td>\n",
              "      <td>0.165239</td>\n",
              "    </tr>\n",
              "  </tbody>\n",
              "</table>\n",
              "</div>"
            ],
            "text/plain": [
              "                                                   name    scores\n",
              "7570          2Br 2Bath In Katong Near F&B (Min 3 Mths)  0.200835\n",
              "2308                  Near To Central With Free Parking  0.194561\n",
              "3024   Modern 2Br Apt In Katong, Free Parking, Near F&B  0.175625\n",
              "3836   Humble & Conveniently Located 1Br In Katong Area  0.172282\n",
              "6257   Humble & Conveniently Located 1Br In Katong Area  0.172282\n",
              "2049                                   East Coast Haven  0.169960\n",
              "6336   Humble & Conveniently Located 1Br In Katong Area  0.169191\n",
              "12220        Kampong Living Cosy Room At Coliving Space  0.168525\n",
              "4369         Spacious 3Br Home With East Coast Sea View  0.167057\n",
              "10348  Humble & Conveniently Located 1Br In Katong Area  0.165239"
            ]
          },
          "metadata": {
            "tags": []
          },
          "execution_count": 45
        }
      ]
    },
    {
      "cell_type": "markdown",
      "metadata": {
        "id": "4D7W99MiO0gQ"
      },
      "source": [
        "# Collaborative Filtering Recommendation"
      ]
    },
    {
      "cell_type": "code",
      "metadata": {
        "colab": {
          "base_uri": "https://localhost:8080/"
        },
        "id": "X8P1LFdrW9RM",
        "outputId": "c3d7c744-480b-48b6-a347-42fc2ea158a2"
      },
      "source": [
        "!pip install surprise"
      ],
      "execution_count": 46,
      "outputs": [
        {
          "output_type": "stream",
          "text": [
            "Collecting surprise\n",
            "  Downloading https://files.pythonhosted.org/packages/61/de/e5cba8682201fcf9c3719a6fdda95693468ed061945493dea2dd37c5618b/surprise-0.1-py2.py3-none-any.whl\n",
            "Collecting scikit-surprise\n",
            "\u001b[?25l  Downloading https://files.pythonhosted.org/packages/97/37/5d334adaf5ddd65da99fc65f6507e0e4599d092ba048f4302fe8775619e8/scikit-surprise-1.1.1.tar.gz (11.8MB)\n",
            "\u001b[K     |████████████████████████████████| 11.8MB 342kB/s \n",
            "\u001b[?25hRequirement already satisfied: joblib>=0.11 in /usr/local/lib/python3.7/dist-packages (from scikit-surprise->surprise) (1.0.1)\n",
            "Requirement already satisfied: numpy>=1.11.2 in /usr/local/lib/python3.7/dist-packages (from scikit-surprise->surprise) (1.19.5)\n",
            "Requirement already satisfied: scipy>=1.0.0 in /usr/local/lib/python3.7/dist-packages (from scikit-surprise->surprise) (1.4.1)\n",
            "Requirement already satisfied: six>=1.10.0 in /usr/local/lib/python3.7/dist-packages (from scikit-surprise->surprise) (1.15.0)\n",
            "Building wheels for collected packages: scikit-surprise\n",
            "  Building wheel for scikit-surprise (setup.py) ... \u001b[?25l\u001b[?25hdone\n",
            "  Created wheel for scikit-surprise: filename=scikit_surprise-1.1.1-cp37-cp37m-linux_x86_64.whl size=1617563 sha256=bc2b842b241ed85d2fe3ae916923eb68745e6edddf76f158c7f8a019c18dac75\n",
            "  Stored in directory: /root/.cache/pip/wheels/78/9c/3d/41b419c9d2aff5b6e2b4c0fc8d25c538202834058f9ed110d0\n",
            "Successfully built scikit-surprise\n",
            "Installing collected packages: scikit-surprise, surprise\n",
            "Successfully installed scikit-surprise-1.1.1 surprise-0.1\n"
          ],
          "name": "stdout"
        }
      ]
    },
    {
      "cell_type": "code",
      "metadata": {
        "id": "MU7tJ4bDW8hJ"
      },
      "source": [
        "from surprise import SVD, Reader, Dataset\n",
        "from surprise.model_selection import KFold"
      ],
      "execution_count": 47,
      "outputs": []
    },
    {
      "cell_type": "code",
      "metadata": {
        "id": "5AqiW8hvO73L"
      },
      "source": [
        "df_cfr = customers.copy()"
      ],
      "execution_count": 48,
      "outputs": []
    },
    {
      "cell_type": "code",
      "metadata": {
        "id": "eUYkus7mhSU9"
      },
      "source": [
        "counts = df_cfr['listing_id'].value_counts()\n",
        "df_cfr = df_cfr[df_cfr['listing_id'].isin(counts[counts >= 10].index)]"
      ],
      "execution_count": 49,
      "outputs": []
    },
    {
      "cell_type": "code",
      "metadata": {
        "id": "J93LSZWVhcQE"
      },
      "source": [
        "counts1 = df_cfr['reviewer_id'].value_counts()\n",
        "df_cfr = df_cfr[df_cfr['reviewer_id'].isin(counts1[counts1 > 2].index)]"
      ],
      "execution_count": 50,
      "outputs": []
    },
    {
      "cell_type": "code",
      "metadata": {
        "colab": {
          "base_uri": "https://localhost:8080/"
        },
        "id": "Vo6eVjlChsi7",
        "outputId": "59492ce9-8c9c-4301-aca8-955907392bf3"
      },
      "source": [
        "df = df_cfr[['reviewer_id','listing_id','polarity_score' ]]\n",
        "df.head()\n",
        "print(df.nunique())"
      ],
      "execution_count": 51,
      "outputs": [
        {
          "output_type": "stream",
          "text": [
            "reviewer_id       1878\n",
            "listing_id        2049\n",
            "polarity_score    1819\n",
            "dtype: int64\n"
          ],
          "name": "stdout"
        }
      ]
    },
    {
      "cell_type": "code",
      "metadata": {
        "id": "09T8dcy7hw2Z"
      },
      "source": [
        "reader = Reader(rating_scale=(-1, 1))\n",
        "data = Dataset.load_from_df(df[['reviewer_id', 'listing_id', 'polarity_score']], reader)"
      ],
      "execution_count": 52,
      "outputs": []
    },
    {
      "cell_type": "code",
      "metadata": {
        "colab": {
          "base_uri": "https://localhost:8080/"
        },
        "id": "ct9KjwPYhzBN",
        "outputId": "f46acbb8-a0f7-4943-9a97-1a1555812dd6"
      },
      "source": [
        "raw_ratings = data.raw_ratings\n",
        "\n",
        "import random\n",
        "from surprise.model_selection import GridSearchCV\n",
        "# shuffle ratings if you want\n",
        "random.shuffle(raw_ratings)\n",
        "\n",
        "# A = 90% of the data, B = 10% of the data\n",
        "threshold = int(.9 * len(raw_ratings))\n",
        "A_raw_ratings = raw_ratings[:threshold]\n",
        "B_raw_ratings = raw_ratings[threshold:]\n",
        "\n",
        "data.raw_ratings = A_raw_ratings  # data is now the set A\n",
        "\n",
        "# Select your best algo with grid search.\n",
        "print('Grid Search...')\n",
        "\n",
        "param_grid = {'n_epochs': [5, 10], 'lr_all': [0.002, 0.005,0.1],\n",
        "              'reg_all': [0.4, 0.6], 'n_factors':[100,500]} # tuning\n",
        "grid_search = GridSearchCV(SVD, param_grid, measures=['rmse','mae'], cv=3)\n",
        "grid_search.fit(data)\n",
        "print('best RMSE score')\n",
        "print(grid_search.best_score['rmse'])"
      ],
      "execution_count": 53,
      "outputs": [
        {
          "output_type": "stream",
          "text": [
            "Grid Search...\n",
            "best RMSE score\n",
            "0.24970669603712067\n"
          ],
          "name": "stdout"
        }
      ]
    },
    {
      "cell_type": "code",
      "metadata": {
        "colab": {
          "base_uri": "https://localhost:8080/"
        },
        "id": "rI4OlhGah1GU",
        "outputId": "c1365305-34d8-4e09-d490-68126a39649e"
      },
      "source": [
        "print('combination of parameters that gave the best RMSE score')\n",
        "print(grid_search.best_params['rmse'])\n",
        "algo = grid_search.best_estimator['rmse']"
      ],
      "execution_count": 54,
      "outputs": [
        {
          "output_type": "stream",
          "text": [
            "combination of parameters that gave the best RMSE score\n",
            "{'n_epochs': 5, 'lr_all': 0.1, 'reg_all': 0.6, 'n_factors': 100}\n"
          ],
          "name": "stdout"
        }
      ]
    },
    {
      "cell_type": "code",
      "metadata": {
        "colab": {
          "base_uri": "https://localhost:8080/"
        },
        "id": "n8hKyV-_h3bq",
        "outputId": "1adcc1b2-f1e8-4be5-8316-0e427cedfdf7"
      },
      "source": [
        "# retrain on the whole set A\n",
        "trainset = data.build_full_trainset()\n",
        "algo.fit(trainset)\n",
        "\n",
        "from surprise import accuracy\n",
        "# Compute biased accuracy on A\n",
        "testset= trainset.build_testset()\n",
        "predictions = algo.test(testset)\n",
        "print('Biased accuracy on A,', end='   ')\n",
        "accuracy.rmse(predictions,verbose=True)\n",
        "print('len(predictions)')\n",
        "print(len(predictions))"
      ],
      "execution_count": 55,
      "outputs": [
        {
          "output_type": "stream",
          "text": [
            "Biased accuracy on A,   RMSE: 0.1616\n",
            "len(predictions)\n",
            "6734\n"
          ],
          "name": "stdout"
        }
      ]
    },
    {
      "cell_type": "code",
      "metadata": {
        "colab": {
          "base_uri": "https://localhost:8080/"
        },
        "id": "vVOwK4qb-qTX",
        "outputId": "b55eeedc-4806-4aa2-9438-bca53fcdd5d6"
      },
      "source": [
        "algo.pu.shape"
      ],
      "execution_count": 56,
      "outputs": [
        {
          "output_type": "execute_result",
          "data": {
            "text/plain": [
              "(1877, 100)"
            ]
          },
          "metadata": {
            "tags": []
          },
          "execution_count": 56
        }
      ]
    },
    {
      "cell_type": "code",
      "metadata": {
        "id": "sFSkDoxCh450"
      },
      "source": [
        "# Compute unbiased accuracy on B\n",
        "testset = data.construct_testset(B_raw_ratings)  # testset is now the set B\n",
        "predictions = algo.test(testset)\n",
        "print('Unbiased accuracy on B,', end=' ')\n",
        "accuracy.rmse(predictions)\n",
        "print('len(predictions)')\n",
        "print(len(predictions))"
      ],
      "execution_count": null,
      "outputs": []
    },
    {
      "cell_type": "code",
      "metadata": {
        "id": "fhHcHFN5h64U"
      },
      "source": [
        "# define a cross-validation iterator\n",
        "kf = KFold(n_splits=7)\n",
        "algo = SVD(n_factors=500, n_epochs=5, lr_all=0.1)\n",
        "\n",
        "for trainset, testset in kf.split(data):\n",
        "    # train and test algorithm.\n",
        "    algo.fit(trainset)\n",
        "    \n",
        "    predictions = algo.test(testset)\n",
        "    \n",
        "    # Compute and print Root Mean Squared Error\n",
        "    accuracy.rmse(predictions, verbose=True)\n"
      ],
      "execution_count": null,
      "outputs": []
    },
    {
      "cell_type": "code",
      "metadata": {
        "id": "zDn3wOSyh_et"
      },
      "source": [
        "# retrain on the whole set A\n",
        "trainset = data.build_full_trainset()\n",
        "algo.fit(trainset)\n",
        "\n",
        "testset= trainset.build_anti_testset()\n",
        "predictionsAll = algo.test(testset)\n",
        "print('Accuracy on whole data set,', end='   ')\n",
        "accuracy.rmse(predictionsAll,verbose=True)\n",
        "print('len(predictions)')\n",
        "print(len(predictionsAll))"
      ],
      "execution_count": null,
      "outputs": []
    },
    {
      "cell_type": "code",
      "metadata": {
        "id": "_ppPXmWNiB0R"
      },
      "source": [
        "def get_top3_recommendations(predictions, topN = 3):\n",
        "     \n",
        "    top_recs = defaultdict(list)\n",
        "    for uid, iid, true_r, est, _ in predictions:\n",
        "        top_recs[uid].append((iid, est))\n",
        "     \n",
        "    for uid, user_ratings in top_recs.items():\n",
        "        user_ratings.sort(key = lambda x: x[1], reverse = True)\n",
        "        top_recs[uid] = user_ratings[:topN]    \n",
        "    return top_recs\n",
        "print('getting top 3 recommendations')"
      ],
      "execution_count": null,
      "outputs": []
    },
    {
      "cell_type": "code",
      "metadata": {
        "id": "A2xF4hiaiKeJ"
      },
      "source": [
        "from collections import defaultdict\n",
        "top3_recommendations = get_top3_recommendations(predictionsAll,3)\n",
        "\n",
        "print('Total predictions calculated are %d' % len(predictionsAll))"
      ],
      "execution_count": null,
      "outputs": []
    },
    {
      "cell_type": "code",
      "metadata": {
        "id": "0mUbVxjXiDu5"
      },
      "source": [
        "dfo = pd.DataFrame(columns=['UserId', 'Recommended Listing,Rating'])\n",
        "i=0;\n",
        "for uid, user_ratings in top3_recommendations.items():\n",
        "    #print(uid, top3_recommendations[uid])\n",
        "    row = [uid, top3_recommendations[uid]]\n",
        "    dfo.loc[i] = row\n",
        "    i=i+1\n",
        "dfo.to_csv('/content/drive/My Drive/BT4222_Project/submission.csv', index = False)\n",
        "\n",
        "print(\"wrote Recommendations for each user in csv file\")     \n",
        "        "
      ],
      "execution_count": null,
      "outputs": []
    },
    {
      "cell_type": "markdown",
      "metadata": {
        "id": "iIdwCY2ZO8PD"
      },
      "source": [
        "# Hybrid Recommendation"
      ]
    },
    {
      "cell_type": "code",
      "metadata": {
        "id": "mNTFvRSuPz-F"
      },
      "source": [
        "#Build the SVD based Collaborative filter\n",
        "from surprise import SVD, Reader, Dataset\n",
        "from surprise.model_selection import KFold\n",
        "\n",
        "reader = Reader(rating_scale=(-1, 1))\n",
        "ratings_hr = customers.copy() \n",
        "data = Dataset.load_from_df(ratings_hr[['reviewer_id', 'listing_id', 'polarity_score']], reader)\n",
        "kf = KFold(n_splits=5)\n",
        "kf.split(data)\n",
        "svd = SVD()\n",
        "trainset = data.build_full_trainset()\n",
        "svd.fit(trainset)"
      ],
      "execution_count": null,
      "outputs": []
    },
    {
      "cell_type": "code",
      "metadata": {
        "id": "swgTbDJVYRqv"
      },
      "source": [
        "id_to_name = df_cbr.copy().set_index('id')\n",
        "name_to_id = df_cbr.copy().set_index('name')\n",
        "indices = pd.Series(df_cbr.index, index=df_cbr['name']).drop_duplicates()"
      ],
      "execution_count": null,
      "outputs": []
    },
    {
      "cell_type": "code",
      "metadata": {
        "id": "dVyvnq-ZSneM"
      },
      "source": [
        "def hybrid(reviewer_id, name):\n",
        "    idx = indices[name]\n",
        "    listing_id = name_to_id.loc[name]['id']\n",
        "    sim_scores = list(enumerate(cosine_sim[idx]))\n",
        "    sim_scores = sorted(sim_scores, key=lambda x: x[1], reverse=True)\n",
        "    sim_scores = sim_scores[1:26]\n",
        "    listings_indices = [i[0] for i in sim_scores]\n",
        "    listing = listings.iloc[listings_indices].copy()\n",
        "    listing['estimate'] = listing['id'].apply(lambda x: svd.predict(reviewer_id, x).est)\n",
        "    listing = listing.sort_values('estimate', ascending=False)\n",
        "    return listing.head(5)"
      ],
      "execution_count": null,
      "outputs": []
    },
    {
      "cell_type": "code",
      "metadata": {
        "id": "ydBPejnzV7tj"
      },
      "source": [
        "hybrid(8557223, \"Cozy Place In Singapore\")"
      ],
      "execution_count": null,
      "outputs": []
    },
    {
      "cell_type": "markdown",
      "metadata": {
        "id": "Bw_8a_ylO08C"
      },
      "source": [
        "# Hybrid Recommendation 2.0 (removed)"
      ]
    },
    {
      "cell_type": "code",
      "metadata": {
        "id": "wWXR4OhMXRJA"
      },
      "source": [
        "customers.head()"
      ],
      "execution_count": null,
      "outputs": []
    },
    {
      "cell_type": "code",
      "metadata": {
        "id": "Z76IWJu49eey"
      },
      "source": [
        "df_hr = customers.copy()\n",
        "df_hr['overall_review'] = (df_hr.review_scores_rating/100 + (df_hr.review_scores_accuracy + df_hr.review_scores_cleanliness + df_hr.review_scores_checkin + \\\n",
        "df_hr.review_scores_communication + df_hr.review_scores_location + df_hr.review_scores_value)/10)/7\n",
        "df_hr = df_hr.drop(columns = ['review_scores_rating','review_scores_accuracy','review_scores_cleanliness','review_scores_checkin','review_scores_communication','review_scores_location','review_scores_value'])"
      ],
      "execution_count": null,
      "outputs": []
    },
    {
      "cell_type": "code",
      "metadata": {
        "id": "jBoqR3mx-e0I"
      },
      "source": [
        "df_hr.head()"
      ],
      "execution_count": null,
      "outputs": []
    },
    {
      "cell_type": "code",
      "metadata": {
        "id": "H79tT558_L_0"
      },
      "source": [
        "df_hr['preference'] = (df_hr['polarity_score']+1)*df_hr['overall_review']/2\n",
        "df_hr = df_hr.drop(columns = ['date','comments','polarity_score','overall_review','sentiment'])"
      ],
      "execution_count": null,
      "outputs": []
    },
    {
      "cell_type": "code",
      "metadata": {
        "id": "ktbsKmCkCAfR"
      },
      "source": [
        "df_hr.describe()"
      ],
      "execution_count": null,
      "outputs": []
    },
    {
      "cell_type": "code",
      "metadata": {
        "id": "jU32TCNfAZeI"
      },
      "source": [
        "reader = Reader(rating_scale=(0, 1))\n",
        "data = Dataset.load_from_df(df_hr[['reviewer_id', 'listing_id', 'preference']], reader)\n",
        "data_hr = data"
      ],
      "execution_count": null,
      "outputs": []
    },
    {
      "cell_type": "code",
      "metadata": {
        "id": "DT6DzwCZQw65"
      },
      "source": [
        "raw_ratings = data.raw_ratings\n",
        "\n",
        "import random\n",
        "random.shuffle(raw_ratings)\n",
        "\n",
        "# A = 90% of the data, B = 10% of the data\n",
        "threshold = int(0.9 * len(raw_ratings))\n",
        "A_raw_ratings = raw_ratings[:threshold]\n",
        "B_raw_ratings = raw_ratings[threshold:]\n",
        "\n",
        "data.raw_ratings = A_raw_ratings  # data is now the set A"
      ],
      "execution_count": null,
      "outputs": []
    },
    {
      "cell_type": "code",
      "metadata": {
        "id": "cM992mdtCK0g"
      },
      "source": [
        "# Select your best algo with grid search.\n",
        "print('Grid Search...')\n",
        "\n",
        "param_grid = {'n_epochs': [5, 10, 20], 'lr_all': [0.002, 0.005, 0.1],\n",
        "              'reg_all': [0.4, 0.6], 'n_factors':[100,200,500]} # tuning\n",
        "grid_search = GridSearchCV(SVD, param_grid, measures=['rmse','mae'], cv=3)\n",
        "grid_search.fit(data)\n",
        "print('best RMSE score')\n",
        "print(grid_search.best_score['rmse'])"
      ],
      "execution_count": null,
      "outputs": []
    },
    {
      "cell_type": "code",
      "metadata": {
        "id": "ds1nxEs1DZWD"
      },
      "source": [
        "print('combination of parameters that gave the best RMSE score')\n",
        "print(grid_search.best_params['rmse'])\n",
        "algo = grid_search.best_estimator['rmse']"
      ],
      "execution_count": null,
      "outputs": []
    },
    {
      "cell_type": "code",
      "metadata": {
        "id": "70PfBioUDcG9"
      },
      "source": [
        "# retrain on the whole set A\n",
        "trainset = data.build_full_trainset()\n",
        "algo.fit(trainset)\n",
        "\n",
        "# Compute biased accuracy on A\n",
        "testset= trainset.build_testset()\n",
        "predictions = algo.test(testset)\n",
        "print('Biased accuracy on A,', end='   ')\n",
        "accuracy.rmse(predictions,verbose=True)\n",
        "print('len(predictions)')\n",
        "print(len(predictions))"
      ],
      "execution_count": null,
      "outputs": []
    },
    {
      "cell_type": "code",
      "metadata": {
        "id": "ftawTRFoDjS-"
      },
      "source": [
        "# Compute unbiased accuracy on B\n",
        "testset = data.construct_testset(B_raw_ratings)  # testset is now the set B\n",
        "predictions = algo.test(testset)\n",
        "print('Unbiased accuracy on B,', end=' ')\n",
        "accuracy.rmse(predictions)\n",
        "print('len(predictions)')\n",
        "print(len(predictions))"
      ],
      "execution_count": null,
      "outputs": []
    },
    {
      "cell_type": "code",
      "metadata": {
        "id": "UjBBXuRBDm6f"
      },
      "source": [
        "# define a cross-validation iterator\n",
        "kf = KFold(n_splits=7)\n",
        "algo = SVD(n_factors=100, n_epochs=5, lr_all=0.1) # update\n",
        "\n",
        "for trainset, testset in kf.split(data_hr):\n",
        "    # train and test algorithm.\n",
        "    algo.fit(trainset)\n",
        "    \n",
        "    predictions = algo.test(testset)\n",
        "    \n",
        "    # Compute and print Root Mean Squared Error\n",
        "    accuracy.rmse(predictions, verbose=True)"
      ],
      "execution_count": null,
      "outputs": []
    },
    {
      "cell_type": "code",
      "metadata": {
        "id": "HAFOQdLHDnYm"
      },
      "source": [
        "# retrain on the whole set A\n",
        "trainset = data.build_full_trainset()\n",
        "algo.fit(trainset)\n",
        "\n",
        "#testset= trainset.build_anti_testset()\n",
        "#predictionsAll = algo.test(testset)\n",
        "#print('Accuracy on whole data set,', end='   ')\n",
        "#accuracy.rmse(predictionsAll,verbose=True)\n",
        "#print('len(predictions)')\n",
        "#print(len(predictionsAll))"
      ],
      "execution_count": null,
      "outputs": []
    },
    {
      "cell_type": "code",
      "metadata": {
        "id": "fNNZI7yBDpzU"
      },
      "source": [
        "#def get_top3_recommendations(predictions, topN = 3):    \n",
        "#    top_recs = defaultdict(list)\n",
        "#    for uid, iid, true_r, est, _ in predictions:\n",
        "#        top_recs[uid].append((iid, est))\n",
        "#     \n",
        "#    for uid, user_ratings in top_recs.items():\n",
        "#        user_ratings.sort(key = lambda x: x[1], reverse = True)\n",
        "#        top_recs[uid] = user_ratings[:topN]    \n",
        "#    return top_recs\n",
        "#print('getting top 3 recommendations')"
      ],
      "execution_count": null,
      "outputs": []
    },
    {
      "cell_type": "code",
      "metadata": {
        "id": "l2jTR88lDtoz"
      },
      "source": [
        "#top3_recommendations = get_top3_recommendations(predictionsAll,3)"
      ],
      "execution_count": null,
      "outputs": []
    },
    {
      "cell_type": "code",
      "metadata": {
        "id": "mCgF-KVwDwhv"
      },
      "source": [
        "#dfo = pd.DataFrame(columns=['UserId', 'Recommended Listing, Rating'])\n",
        "#i=0;\n",
        "#for uid, user_ratings in top3_recommendations.items():\n",
        "#    row = [uid, top3_recommendations[uid]]\n",
        "#    dfo.loc[i] = row\n",
        "#    i=i+1\n",
        "#dfo.to_csv('/content/drive/My Drive/BT4222_Project/svd_prediction_on_preference).csv', index = False)"
      ],
      "execution_count": null,
      "outputs": []
    }
  ]
}