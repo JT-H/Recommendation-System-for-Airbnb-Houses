{
  "nbformat": 4,
  "nbformat_minor": 0,
  "metadata": {
    "colab": {
      "name": "Recommendation_System.ipynb",
      "provenance": [],
      "toc_visible": true
    },
    "kernelspec": {
      "display_name": "Python 3",
      "name": "python3"
    },
    "language_info": {
      "name": "python"
    }
  },
  "cells": [
    {
      "cell_type": "code",
      "metadata": {
        "colab": {
          "base_uri": "https://localhost:8080/"
        },
        "id": "GB-yJoDG2xfF",
        "outputId": "e010cca2-0846-4a91-e923-84e8369fdb5d"
      },
      "source": [
        "from google.colab import drive\n",
        "drive.mount('/content/drive')"
      ],
      "execution_count": 1,
      "outputs": [
        {
          "output_type": "stream",
          "text": [
            "Drive already mounted at /content/drive; to attempt to forcibly remount, call drive.mount(\"/content/drive\", force_remount=True).\n"
          ],
          "name": "stdout"
        }
      ]
    },
    {
      "cell_type": "code",
      "metadata": {
        "id": "QgqgGoCi3B9F"
      },
      "source": [
        "import pandas as pd"
      ],
      "execution_count": 2,
      "outputs": []
    },
    {
      "cell_type": "code",
      "metadata": {
        "id": "4cmcvGVO3Ccd"
      },
      "source": [
        "listings=pd.read_csv(\"/content/drive/My Drive/BT4222_Project/final_datasets/listings_final_version.csv\")\n",
        "customers=pd.read_csv(\"/content/drive/My Drive/BT4222_Project/final_datasets/customers_final_version.csv\")"
      ],
      "execution_count": 3,
      "outputs": []
    },
    {
      "cell_type": "code",
      "metadata": {
        "colab": {
          "base_uri": "https://localhost:8080/"
        },
        "id": "p5twMJ0c3PaA",
        "outputId": "2e082a8a-c7e3-49dc-9c73-7fa0556773a1"
      },
      "source": [
        "listings.info()"
      ],
      "execution_count": 4,
      "outputs": [
        {
          "output_type": "stream",
          "text": [
            "<class 'pandas.core.frame.DataFrame'>\n",
            "RangeIndex: 12222 entries, 0 to 12221\n",
            "Data columns (total 68 columns):\n",
            " #   Column                          Non-Null Count  Dtype  \n",
            "---  ------                          --------------  -----  \n",
            " 0   id                              12222 non-null  int64  \n",
            " 1   description                     12222 non-null  object \n",
            " 2   host_since                      12222 non-null  object \n",
            " 3   host_is_superhost               12222 non-null  int64  \n",
            " 4   latitude                        12222 non-null  float64\n",
            " 5   longitude                       12222 non-null  float64\n",
            " 6   accommodates                    12222 non-null  int64  \n",
            " 7   bathrooms                       12222 non-null  float64\n",
            " 8   bedrooms                        12222 non-null  float64\n",
            " 9   beds                            12222 non-null  float64\n",
            " 10  amenities                       12222 non-null  object \n",
            " 11  price                           12222 non-null  float64\n",
            " 12  minimum_nights                  12222 non-null  int64  \n",
            " 13  maximum_nights                  12222 non-null  int64  \n",
            " 14  maximum_nights_avg_ntm          12222 non-null  float64\n",
            " 15  number_of_reviews_ltm           12222 non-null  int64  \n",
            " 16  instant_bookable                12222 non-null  int64  \n",
            " 17  calculated_host_listings_count  12222 non-null  int64  \n",
            " 18  nearby_sites_rating             12222 non-null  float64\n",
            " 19  nearest_station_dist            12222 non-null  float64\n",
            " 20  nearest_site_dist               12222 non-null  float64\n",
            " 21  nearest_site_rating             12222 non-null  float64\n",
            " 22  host_response_time_cross_rate   12222 non-null  float64\n",
            " 23  email                           12222 non-null  int64  \n",
            " 24  phone                           12222 non-null  int64  \n",
            " 25  reviews                         12222 non-null  int64  \n",
            " 26  jumio                           12222 non-null  int64  \n",
            " 27  offline_government_id           12222 non-null  int64  \n",
            " 28  selfie                          12222 non-null  int64  \n",
            " 29  government_id                   12222 non-null  int64  \n",
            " 30  identity_manual                 12222 non-null  int64  \n",
            " 31  work_email                      12222 non-null  int64  \n",
            " 32  manual_online                   12222 non-null  int64  \n",
            " 33  manual_offline                  12222 non-null  int64  \n",
            " 34  x0_Central Region               12222 non-null  float64\n",
            " 35  x0_East Region                  12222 non-null  float64\n",
            " 36  x0_North Region                 12222 non-null  float64\n",
            " 37  x0_North-East Region            12222 non-null  float64\n",
            " 38  x0_West Region                  12222 non-null  float64\n",
            " 39  x0_apartment                    12222 non-null  float64\n",
            " 40  x0_bed and breakfast            12222 non-null  float64\n",
            " 41  x0_boat                         12222 non-null  float64\n",
            " 42  x0_boutique hotel               12222 non-null  float64\n",
            " 43  x0_bungalow                     12222 non-null  float64\n",
            " 44  x0_condominium                  12222 non-null  float64\n",
            " 45  x0_guest suite                  12222 non-null  float64\n",
            " 46  x0_hostel                       12222 non-null  float64\n",
            " 47  x0_hotel                        12222 non-null  float64\n",
            " 48  x0_house                        12222 non-null  float64\n",
            " 49  x0_loft                         12222 non-null  float64\n",
            " 50  x0_other                        12222 non-null  float64\n",
            " 51  x0_townhouse                    12222 non-null  float64\n",
            " 52  x0_Entire home/apt              12222 non-null  float64\n",
            " 53  x0_Hotel room                   12222 non-null  float64\n",
            " 54  x0_Private room                 12222 non-null  float64\n",
            " 55  x0_Shared room                  12222 non-null  float64\n",
            " 56  amenities_list                  12222 non-null  object \n",
            " 57  Wifi                            12222 non-null  int64  \n",
            " 58  Air conditioning                12222 non-null  int64  \n",
            " 59  Kitchen                         12222 non-null  int64  \n",
            " 60  Parking                         12222 non-null  int64  \n",
            " 61  Outdoor                         12222 non-null  int64  \n",
            " 62  Kids                            12222 non-null  int64  \n",
            " 63  Pets allowed                    12222 non-null  int64  \n",
            " 64  Workspace                       12222 non-null  int64  \n",
            " 65  Gym                             12222 non-null  int64  \n",
            " 66  Breakfast                       12222 non-null  int64  \n",
            " 67  availability_average            12222 non-null  float64\n",
            "dtypes: float64(35), int64(29), object(4)\n",
            "memory usage: 6.3+ MB\n"
          ],
          "name": "stdout"
        }
      ]
    },
    {
      "cell_type": "code",
      "metadata": {
        "colab": {
          "base_uri": "https://localhost:8080/"
        },
        "id": "w6msZXGK3S-q",
        "outputId": "8f9e6e73-8749-4870-bfd9-1833490a8ee9"
      },
      "source": [
        "customers.info()"
      ],
      "execution_count": 5,
      "outputs": [
        {
          "output_type": "stream",
          "text": [
            "<class 'pandas.core.frame.DataFrame'>\n",
            "RangeIndex: 130602 entries, 0 to 130601\n",
            "Data columns (total 14 columns):\n",
            " #   Column                       Non-Null Count   Dtype  \n",
            "---  ------                       --------------   -----  \n",
            " 0   reviewer_id                  130602 non-null  int64  \n",
            " 1   listing_id                   130602 non-null  int64  \n",
            " 2   date                         130602 non-null  object \n",
            " 3   comments                     130602 non-null  object \n",
            " 4   price                        130602 non-null  float64\n",
            " 5   review_scores_rating         130602 non-null  float64\n",
            " 6   review_scores_accuracy       130602 non-null  float64\n",
            " 7   review_scores_cleanliness    130602 non-null  float64\n",
            " 8   review_scores_checkin        130602 non-null  float64\n",
            " 9   review_scores_communication  130602 non-null  float64\n",
            " 10  review_scores_location       130602 non-null  float64\n",
            " 11  review_scores_value          130602 non-null  float64\n",
            " 12  polarity_score               130602 non-null  float64\n",
            " 13  sentiment                    130602 non-null  object \n",
            "dtypes: float64(9), int64(2), object(3)\n",
            "memory usage: 13.9+ MB\n"
          ],
          "name": "stdout"
        }
      ]
    },
    {
      "cell_type": "markdown",
      "metadata": {
        "id": "s7YAd_rI3bmY"
      },
      "source": [
        "# Knowledge Recommender"
      ]
    },
    {
      "cell_type": "code",
      "metadata": {
        "id": "cExBZYQm3jWt"
      },
      "source": [
        "import pandas as pd\n",
        "import numpy as np"
      ],
      "execution_count": 6,
      "outputs": []
    },
    {
      "cell_type": "code",
      "metadata": {
        "id": "pu3WGgXK4Qod"
      },
      "source": [
        "df_kr = listings[['host_is_superhost', 'nearby_sites_rating', 'bathrooms', 'bedrooms', 'beds', 'instant_bookable','amenities_list', 'price']]"
      ],
      "execution_count": 7,
      "outputs": []
    },
    {
      "cell_type": "code",
      "metadata": {
        "colab": {
          "base_uri": "https://localhost:8080/",
          "height": 289
        },
        "id": "25ZYcwPs5BY3",
        "outputId": "61d9b1f0-0fb8-4da9-df15-ee5a7761545d"
      },
      "source": [
        "df_kr.head()"
      ],
      "execution_count": 8,
      "outputs": [
        {
          "output_type": "execute_result",
          "data": {
            "text/html": [
              "<div>\n",
              "<style scoped>\n",
              "    .dataframe tbody tr th:only-of-type {\n",
              "        vertical-align: middle;\n",
              "    }\n",
              "\n",
              "    .dataframe tbody tr th {\n",
              "        vertical-align: top;\n",
              "    }\n",
              "\n",
              "    .dataframe thead th {\n",
              "        text-align: right;\n",
              "    }\n",
              "</style>\n",
              "<table border=\"1\" class=\"dataframe\">\n",
              "  <thead>\n",
              "    <tr style=\"text-align: right;\">\n",
              "      <th></th>\n",
              "      <th>host_is_superhost</th>\n",
              "      <th>nearby_sites_rating</th>\n",
              "      <th>bathrooms</th>\n",
              "      <th>bedrooms</th>\n",
              "      <th>beds</th>\n",
              "      <th>instant_bookable</th>\n",
              "      <th>amenities_list</th>\n",
              "      <th>price</th>\n",
              "    </tr>\n",
              "  </thead>\n",
              "  <tbody>\n",
              "    <tr>\n",
              "      <th>0</th>\n",
              "      <td>0</td>\n",
              "      <td>1.135049</td>\n",
              "      <td>1.0</td>\n",
              "      <td>1.0</td>\n",
              "      <td>1.0</td>\n",
              "      <td>0</td>\n",
              "      <td>['TV', 'Cable TV', 'Wifi', 'Air conditioning',...</td>\n",
              "      <td>200.0</td>\n",
              "    </tr>\n",
              "    <tr>\n",
              "      <th>1</th>\n",
              "      <td>0</td>\n",
              "      <td>1.288425</td>\n",
              "      <td>1.0</td>\n",
              "      <td>1.0</td>\n",
              "      <td>1.0</td>\n",
              "      <td>0</td>\n",
              "      <td>['TV', 'Cable TV', 'Internet', 'Wifi', 'Air co...</td>\n",
              "      <td>76.0</td>\n",
              "    </tr>\n",
              "    <tr>\n",
              "      <th>2</th>\n",
              "      <td>0</td>\n",
              "      <td>1.982270</td>\n",
              "      <td>1.0</td>\n",
              "      <td>1.0</td>\n",
              "      <td>1.0</td>\n",
              "      <td>0</td>\n",
              "      <td>['Internet', 'Wifi', 'Air conditioning', 'Pool...</td>\n",
              "      <td>80.0</td>\n",
              "    </tr>\n",
              "    <tr>\n",
              "      <th>3</th>\n",
              "      <td>0</td>\n",
              "      <td>2.550789</td>\n",
              "      <td>1.0</td>\n",
              "      <td>0.0</td>\n",
              "      <td>3.0</td>\n",
              "      <td>0</td>\n",
              "      <td>['TV', 'Internet', 'Wifi', 'Air conditioning',...</td>\n",
              "      <td>143.0</td>\n",
              "    </tr>\n",
              "    <tr>\n",
              "      <th>4</th>\n",
              "      <td>0</td>\n",
              "      <td>1.689570</td>\n",
              "      <td>1.0</td>\n",
              "      <td>1.0</td>\n",
              "      <td>1.0</td>\n",
              "      <td>0</td>\n",
              "      <td>['TV', 'Wifi', 'Air conditioning', 'Kitchen', ...</td>\n",
              "      <td>85.0</td>\n",
              "    </tr>\n",
              "  </tbody>\n",
              "</table>\n",
              "</div>"
            ],
            "text/plain": [
              "   host_is_superhost  ...  price\n",
              "0                  0  ...  200.0\n",
              "1                  0  ...   76.0\n",
              "2                  0  ...   80.0\n",
              "3                  0  ...  143.0\n",
              "4                  0  ...   85.0\n",
              "\n",
              "[5 rows x 8 columns]"
            ]
          },
          "metadata": {
            "tags": []
          },
          "execution_count": 8
        }
      ]
    },
    {
      "cell_type": "code",
      "metadata": {
        "id": "5fr-b86g5giR"
      },
      "source": [
        "def build_chart(df, host_is_superhost, nearby_sites_rating, bathrooms, bedrooms, beds, instant_bookable, *amenities):\n",
        "    listings = df.copy()\n",
        "    \n",
        "    # Filter based on the condition\n",
        "    listings = listings[(listings['host_is_superhost'] == host_is_superhost) & \n",
        "                    (listings['nearby_sites_rating'] >= nearby_sites_rating) & \n",
        "                    (listings['bathrooms'] >= bathrooms) & \n",
        "                    (listings['bedrooms'] >= bedrooms) & \n",
        "                    (listings['beds'] >= beds) &\n",
        "                    (listings['instant_bookable'] == instant_bookable)]\n",
        "\n",
        "    for a in amenities:\n",
        "      listings = listings[listings['amenities_list'].str.contains(a)]\n",
        "\n",
        "    q_listings = listings.sort_values('price')\n",
        "    \n",
        "    return q_listings"
      ],
      "execution_count": 9,
      "outputs": []
    },
    {
      "cell_type": "code",
      "metadata": {
        "colab": {
          "base_uri": "https://localhost:8080/",
          "height": 289
        },
        "id": "2dVFUClfCfR8",
        "outputId": "10f5e60a-cec8-41e0-d05f-f3406baa2701"
      },
      "source": [
        "build_chart(df_kr, 1, 2, 2, 2, 2, 0, \"TV\", \"Air conditioning\", \"Kitchen\").head()"
      ],
      "execution_count": 10,
      "outputs": [
        {
          "output_type": "execute_result",
          "data": {
            "text/html": [
              "<div>\n",
              "<style scoped>\n",
              "    .dataframe tbody tr th:only-of-type {\n",
              "        vertical-align: middle;\n",
              "    }\n",
              "\n",
              "    .dataframe tbody tr th {\n",
              "        vertical-align: top;\n",
              "    }\n",
              "\n",
              "    .dataframe thead th {\n",
              "        text-align: right;\n",
              "    }\n",
              "</style>\n",
              "<table border=\"1\" class=\"dataframe\">\n",
              "  <thead>\n",
              "    <tr style=\"text-align: right;\">\n",
              "      <th></th>\n",
              "      <th>host_is_superhost</th>\n",
              "      <th>nearby_sites_rating</th>\n",
              "      <th>bathrooms</th>\n",
              "      <th>bedrooms</th>\n",
              "      <th>beds</th>\n",
              "      <th>instant_bookable</th>\n",
              "      <th>amenities_list</th>\n",
              "      <th>price</th>\n",
              "    </tr>\n",
              "  </thead>\n",
              "  <tbody>\n",
              "    <tr>\n",
              "      <th>2315</th>\n",
              "      <td>1</td>\n",
              "      <td>2.105276</td>\n",
              "      <td>3.0</td>\n",
              "      <td>2.0</td>\n",
              "      <td>2.0</td>\n",
              "      <td>0</td>\n",
              "      <td>['TV', 'Internet', 'Wifi', 'Air conditioning',...</td>\n",
              "      <td>175.0</td>\n",
              "    </tr>\n",
              "    <tr>\n",
              "      <th>7586</th>\n",
              "      <td>1</td>\n",
              "      <td>2.430885</td>\n",
              "      <td>2.0</td>\n",
              "      <td>2.0</td>\n",
              "      <td>2.0</td>\n",
              "      <td>0</td>\n",
              "      <td>['TV', 'Wifi', 'Air conditioning', 'Pool', 'Ki...</td>\n",
              "      <td>179.0</td>\n",
              "    </tr>\n",
              "    <tr>\n",
              "      <th>5600</th>\n",
              "      <td>1</td>\n",
              "      <td>2.334235</td>\n",
              "      <td>2.0</td>\n",
              "      <td>2.0</td>\n",
              "      <td>2.0</td>\n",
              "      <td>0</td>\n",
              "      <td>['TV', 'Wifi', 'Air conditioning', 'Pool', 'Ki...</td>\n",
              "      <td>188.0</td>\n",
              "    </tr>\n",
              "    <tr>\n",
              "      <th>6189</th>\n",
              "      <td>1</td>\n",
              "      <td>2.881733</td>\n",
              "      <td>2.0</td>\n",
              "      <td>2.0</td>\n",
              "      <td>2.0</td>\n",
              "      <td>0</td>\n",
              "      <td>['TV', 'Cable TV', 'Internet', 'Wifi', 'Air co...</td>\n",
              "      <td>205.0</td>\n",
              "    </tr>\n",
              "    <tr>\n",
              "      <th>5416</th>\n",
              "      <td>1</td>\n",
              "      <td>2.396607</td>\n",
              "      <td>2.0</td>\n",
              "      <td>2.0</td>\n",
              "      <td>3.0</td>\n",
              "      <td>0</td>\n",
              "      <td>['TV', 'Wifi', 'Air conditioning', 'Pool', 'Ki...</td>\n",
              "      <td>246.0</td>\n",
              "    </tr>\n",
              "  </tbody>\n",
              "</table>\n",
              "</div>"
            ],
            "text/plain": [
              "      host_is_superhost  ...  price\n",
              "2315                  1  ...  175.0\n",
              "7586                  1  ...  179.0\n",
              "5600                  1  ...  188.0\n",
              "6189                  1  ...  205.0\n",
              "5416                  1  ...  246.0\n",
              "\n",
              "[5 rows x 8 columns]"
            ]
          },
          "metadata": {
            "tags": []
          },
          "execution_count": 10
        }
      ]
    },
    {
      "cell_type": "markdown",
      "metadata": {
        "id": "kK_DiCNIE-9m"
      },
      "source": [
        "# Content-based Recommendation"
      ]
    },
    {
      "cell_type": "code",
      "metadata": {
        "id": "wN3kFGrQDpcF"
      },
      "source": [
        "df_cbr = listings.copy()"
      ],
      "execution_count": 11,
      "outputs": []
    },
    {
      "cell_type": "code",
      "metadata": {
        "id": "WArtdMzoGrnj"
      },
      "source": [
        "from ast import literal_eval\n",
        "\n",
        "df_cbr['amenities_list'] = df_cbr.amenities_list.apply(literal_eval)"
      ],
      "execution_count": 12,
      "outputs": []
    },
    {
      "cell_type": "code",
      "metadata": {
        "colab": {
          "base_uri": "https://localhost:8080/",
          "height": 202
        },
        "id": "NwFI7688IG0h",
        "outputId": "88308040-2c3d-4ba5-fc27-6b042640795c"
      },
      "source": [
        "df_cbr.head(1)"
      ],
      "execution_count": 13,
      "outputs": [
        {
          "output_type": "execute_result",
          "data": {
            "text/html": [
              "<div>\n",
              "<style scoped>\n",
              "    .dataframe tbody tr th:only-of-type {\n",
              "        vertical-align: middle;\n",
              "    }\n",
              "\n",
              "    .dataframe tbody tr th {\n",
              "        vertical-align: top;\n",
              "    }\n",
              "\n",
              "    .dataframe thead th {\n",
              "        text-align: right;\n",
              "    }\n",
              "</style>\n",
              "<table border=\"1\" class=\"dataframe\">\n",
              "  <thead>\n",
              "    <tr style=\"text-align: right;\">\n",
              "      <th></th>\n",
              "      <th>id</th>\n",
              "      <th>description</th>\n",
              "      <th>host_since</th>\n",
              "      <th>host_is_superhost</th>\n",
              "      <th>latitude</th>\n",
              "      <th>longitude</th>\n",
              "      <th>accommodates</th>\n",
              "      <th>bathrooms</th>\n",
              "      <th>bedrooms</th>\n",
              "      <th>beds</th>\n",
              "      <th>amenities</th>\n",
              "      <th>price</th>\n",
              "      <th>minimum_nights</th>\n",
              "      <th>maximum_nights</th>\n",
              "      <th>maximum_nights_avg_ntm</th>\n",
              "      <th>number_of_reviews_ltm</th>\n",
              "      <th>instant_bookable</th>\n",
              "      <th>calculated_host_listings_count</th>\n",
              "      <th>nearby_sites_rating</th>\n",
              "      <th>nearest_station_dist</th>\n",
              "      <th>nearest_site_dist</th>\n",
              "      <th>nearest_site_rating</th>\n",
              "      <th>host_response_time_cross_rate</th>\n",
              "      <th>email</th>\n",
              "      <th>phone</th>\n",
              "      <th>reviews</th>\n",
              "      <th>jumio</th>\n",
              "      <th>offline_government_id</th>\n",
              "      <th>selfie</th>\n",
              "      <th>government_id</th>\n",
              "      <th>identity_manual</th>\n",
              "      <th>work_email</th>\n",
              "      <th>manual_online</th>\n",
              "      <th>manual_offline</th>\n",
              "      <th>x0_Central Region</th>\n",
              "      <th>x0_East Region</th>\n",
              "      <th>x0_North Region</th>\n",
              "      <th>x0_North-East Region</th>\n",
              "      <th>x0_West Region</th>\n",
              "      <th>x0_apartment</th>\n",
              "      <th>x0_bed and breakfast</th>\n",
              "      <th>x0_boat</th>\n",
              "      <th>x0_boutique hotel</th>\n",
              "      <th>x0_bungalow</th>\n",
              "      <th>x0_condominium</th>\n",
              "      <th>x0_guest suite</th>\n",
              "      <th>x0_hostel</th>\n",
              "      <th>x0_hotel</th>\n",
              "      <th>x0_house</th>\n",
              "      <th>x0_loft</th>\n",
              "      <th>x0_other</th>\n",
              "      <th>x0_townhouse</th>\n",
              "      <th>x0_Entire home/apt</th>\n",
              "      <th>x0_Hotel room</th>\n",
              "      <th>x0_Private room</th>\n",
              "      <th>x0_Shared room</th>\n",
              "      <th>amenities_list</th>\n",
              "      <th>Wifi</th>\n",
              "      <th>Air conditioning</th>\n",
              "      <th>Kitchen</th>\n",
              "      <th>Parking</th>\n",
              "      <th>Outdoor</th>\n",
              "      <th>Kids</th>\n",
              "      <th>Pets allowed</th>\n",
              "      <th>Workspace</th>\n",
              "      <th>Gym</th>\n",
              "      <th>Breakfast</th>\n",
              "      <th>availability_average</th>\n",
              "    </tr>\n",
              "  </thead>\n",
              "  <tbody>\n",
              "    <tr>\n",
              "      <th>0</th>\n",
              "      <td>1101652</td>\n",
              "      <td>Explore one of Singapore's best kept heritage ...</td>\n",
              "      <td>2012-11-15</td>\n",
              "      <td>0</td>\n",
              "      <td>1.29737</td>\n",
              "      <td>103.90068</td>\n",
              "      <td>4</td>\n",
              "      <td>1.0</td>\n",
              "      <td>1.0</td>\n",
              "      <td>1.0</td>\n",
              "      <td>{TV,\"Cable TV\",Wifi,\"Air conditioning\",\"Wheelc...</td>\n",
              "      <td>200.0</td>\n",
              "      <td>5</td>\n",
              "      <td>800</td>\n",
              "      <td>800.0</td>\n",
              "      <td>0</td>\n",
              "      <td>0</td>\n",
              "      <td>1</td>\n",
              "      <td>1.135049</td>\n",
              "      <td>1.81344</td>\n",
              "      <td>3.174312</td>\n",
              "      <td>4.5</td>\n",
              "      <td>2.0</td>\n",
              "      <td>1</td>\n",
              "      <td>1</td>\n",
              "      <td>1</td>\n",
              "      <td>0</td>\n",
              "      <td>0</td>\n",
              "      <td>0</td>\n",
              "      <td>0</td>\n",
              "      <td>0</td>\n",
              "      <td>0</td>\n",
              "      <td>0</td>\n",
              "      <td>0</td>\n",
              "      <td>1.0</td>\n",
              "      <td>0.0</td>\n",
              "      <td>0.0</td>\n",
              "      <td>0.0</td>\n",
              "      <td>0.0</td>\n",
              "      <td>1.0</td>\n",
              "      <td>0.0</td>\n",
              "      <td>0.0</td>\n",
              "      <td>0.0</td>\n",
              "      <td>0.0</td>\n",
              "      <td>0.0</td>\n",
              "      <td>0.0</td>\n",
              "      <td>0.0</td>\n",
              "      <td>0.0</td>\n",
              "      <td>0.0</td>\n",
              "      <td>0.0</td>\n",
              "      <td>0.0</td>\n",
              "      <td>0.0</td>\n",
              "      <td>1.0</td>\n",
              "      <td>0.0</td>\n",
              "      <td>0.0</td>\n",
              "      <td>0.0</td>\n",
              "      <td>[TV, Cable TV, Wifi, Air conditioning, Wheelch...</td>\n",
              "      <td>1</td>\n",
              "      <td>1</td>\n",
              "      <td>1</td>\n",
              "      <td>1</td>\n",
              "      <td>0</td>\n",
              "      <td>0</td>\n",
              "      <td>0</td>\n",
              "      <td>0</td>\n",
              "      <td>0</td>\n",
              "      <td>0</td>\n",
              "      <td>0.776522</td>\n",
              "    </tr>\n",
              "  </tbody>\n",
              "</table>\n",
              "</div>"
            ],
            "text/plain": [
              "        id  ... availability_average\n",
              "0  1101652  ...             0.776522\n",
              "\n",
              "[1 rows x 68 columns]"
            ]
          },
          "metadata": {
            "tags": []
          },
          "execution_count": 13
        }
      ]
    },
    {
      "cell_type": "code",
      "metadata": {
        "id": "bMxingjKJMp1"
      },
      "source": [
        "listings_with_name=pd.read_csv(\"/content/drive/My Drive/BT4222_Project/datasets/listings_cleaned.csv\", low_memory=False)"
      ],
      "execution_count": 14,
      "outputs": []
    },
    {
      "cell_type": "code",
      "metadata": {
        "colab": {
          "base_uri": "https://localhost:8080/",
          "height": 185
        },
        "id": "2d2sRT0yJjXr",
        "outputId": "3aaff471-93b8-4938-e99f-c385df78a2b9"
      },
      "source": [
        "listings_with_name.head(1)"
      ],
      "execution_count": 15,
      "outputs": [
        {
          "output_type": "execute_result",
          "data": {
            "text/html": [
              "<div>\n",
              "<style scoped>\n",
              "    .dataframe tbody tr th:only-of-type {\n",
              "        vertical-align: middle;\n",
              "    }\n",
              "\n",
              "    .dataframe tbody tr th {\n",
              "        vertical-align: top;\n",
              "    }\n",
              "\n",
              "    .dataframe thead th {\n",
              "        text-align: right;\n",
              "    }\n",
              "</style>\n",
              "<table border=\"1\" class=\"dataframe\">\n",
              "  <thead>\n",
              "    <tr style=\"text-align: right;\">\n",
              "      <th></th>\n",
              "      <th>id</th>\n",
              "      <th>name</th>\n",
              "      <th>description</th>\n",
              "      <th>neighborhood_overview</th>\n",
              "      <th>host_id</th>\n",
              "      <th>host_since</th>\n",
              "      <th>host_about</th>\n",
              "      <th>host_response_time</th>\n",
              "      <th>host_response_rate</th>\n",
              "      <th>host_is_superhost</th>\n",
              "      <th>host_neighbourhood</th>\n",
              "      <th>host_verifications</th>\n",
              "      <th>host_has_profile_pic</th>\n",
              "      <th>host_identity_verified</th>\n",
              "      <th>neighbourhood_cleansed</th>\n",
              "      <th>neighbourhood_group_cleansed</th>\n",
              "      <th>latitude</th>\n",
              "      <th>longitude</th>\n",
              "      <th>property_type</th>\n",
              "      <th>room_type</th>\n",
              "      <th>accommodates</th>\n",
              "      <th>bathrooms</th>\n",
              "      <th>bedrooms</th>\n",
              "      <th>beds</th>\n",
              "      <th>amenities</th>\n",
              "      <th>price</th>\n",
              "      <th>minimum_nights</th>\n",
              "      <th>maximum_nights</th>\n",
              "      <th>minimum_minimum_nights</th>\n",
              "      <th>maximum_minimum_nights</th>\n",
              "      <th>minimum_maximum_nights</th>\n",
              "      <th>maximum_maximum_nights</th>\n",
              "      <th>minimum_nights_avg_ntm</th>\n",
              "      <th>maximum_nights_avg_ntm</th>\n",
              "      <th>calendar_updated</th>\n",
              "      <th>availability_30</th>\n",
              "      <th>availability_60</th>\n",
              "      <th>availability_90</th>\n",
              "      <th>availability_365</th>\n",
              "      <th>number_of_reviews</th>\n",
              "      <th>number_of_reviews_ltm</th>\n",
              "      <th>review_scores_rating</th>\n",
              "      <th>review_scores_accuracy</th>\n",
              "      <th>review_scores_cleanliness</th>\n",
              "      <th>review_scores_checkin</th>\n",
              "      <th>review_scores_communication</th>\n",
              "      <th>review_scores_location</th>\n",
              "      <th>review_scores_value</th>\n",
              "      <th>instant_bookable</th>\n",
              "      <th>calculated_host_listings_count</th>\n",
              "      <th>reviews_per_month</th>\n",
              "      <th>nearby_sites_rating</th>\n",
              "      <th>nearest_station_dist</th>\n",
              "      <th>nearest_site_dist</th>\n",
              "      <th>nearest_site_rating</th>\n",
              "    </tr>\n",
              "  </thead>\n",
              "  <tbody>\n",
              "    <tr>\n",
              "      <th>0</th>\n",
              "      <td>49091</td>\n",
              "      <td>COZICOMFORT LONG TERM STAY ROOM 2</td>\n",
              "      <td>This is Room No. 2.(available after Jan 15 201...</td>\n",
              "      <td>NaN</td>\n",
              "      <td>266763</td>\n",
              "      <td>2010-10-20</td>\n",
              "      <td>I am a private tutor by profession. My husband...</td>\n",
              "      <td>within a few hours</td>\n",
              "      <td>100%</td>\n",
              "      <td>f</td>\n",
              "      <td>Woodlands</td>\n",
              "      <td>['email', 'phone', 'facebook', 'reviews', 'jum...</td>\n",
              "      <td>t</td>\n",
              "      <td>f</td>\n",
              "      <td>Woodlands</td>\n",
              "      <td>North Region</td>\n",
              "      <td>1.44255</td>\n",
              "      <td>103.7958</td>\n",
              "      <td>Apartment</td>\n",
              "      <td>Private room</td>\n",
              "      <td>1</td>\n",
              "      <td>1.0</td>\n",
              "      <td>1.0</td>\n",
              "      <td>1.0</td>\n",
              "      <td>{TV,\"Cable TV\",Internet,Wifi,\"Air conditioning...</td>\n",
              "      <td>$81.00</td>\n",
              "      <td>180</td>\n",
              "      <td>360</td>\n",
              "      <td>180</td>\n",
              "      <td>180</td>\n",
              "      <td>360</td>\n",
              "      <td>360</td>\n",
              "      <td>180.0</td>\n",
              "      <td>360.0</td>\n",
              "      <td>58 months ago</td>\n",
              "      <td>30</td>\n",
              "      <td>60</td>\n",
              "      <td>90</td>\n",
              "      <td>365</td>\n",
              "      <td>1</td>\n",
              "      <td>0</td>\n",
              "      <td>94.0</td>\n",
              "      <td>10.0</td>\n",
              "      <td>10.0</td>\n",
              "      <td>10.0</td>\n",
              "      <td>10.0</td>\n",
              "      <td>8.0</td>\n",
              "      <td>8.0</td>\n",
              "      <td>f</td>\n",
              "      <td>2</td>\n",
              "      <td>0.02</td>\n",
              "      <td>0.995731</td>\n",
              "      <td>0.617762</td>\n",
              "      <td>4.295315</td>\n",
              "      <td>4.595264</td>\n",
              "    </tr>\n",
              "  </tbody>\n",
              "</table>\n",
              "</div>"
            ],
            "text/plain": [
              "      id  ... nearest_site_rating\n",
              "0  49091  ...            4.595264\n",
              "\n",
              "[1 rows x 55 columns]"
            ]
          },
          "metadata": {
            "tags": []
          },
          "execution_count": 15
        }
      ]
    },
    {
      "cell_type": "code",
      "metadata": {
        "id": "Cx2YvrTHJXRr"
      },
      "source": [
        "name_dict = {}\n",
        "for index, listing in listings_with_name.iterrows():\n",
        "  name_dict[listing['id']] = str(listing['name']).title()"
      ],
      "execution_count": 16,
      "outputs": []
    },
    {
      "cell_type": "code",
      "metadata": {
        "id": "fKuJd7eaLpAz"
      },
      "source": [
        "df_cbr['name'] = df_cbr['id'].apply(lambda x: name_dict[x])"
      ],
      "execution_count": 17,
      "outputs": []
    },
    {
      "cell_type": "code",
      "metadata": {
        "colab": {
          "base_uri": "https://localhost:8080/"
        },
        "id": "Vu1cPrMSHF0F",
        "outputId": "58ce1bda-8c64-459f-d007-4b8d01ff69d0"
      },
      "source": [
        "from sklearn.feature_extraction.text import TfidfVectorizer\n",
        "\n",
        "tfidf = TfidfVectorizer(stop_words='english')\n",
        "\n",
        "tfidf_matrix = tfidf.fit_transform(df_cbr['description'])\n",
        "\n",
        "tfidf_matrix.shape"
      ],
      "execution_count": 18,
      "outputs": [
        {
          "output_type": "execute_result",
          "data": {
            "text/plain": [
              "(12222, 18231)"
            ]
          },
          "metadata": {
            "tags": []
          },
          "execution_count": 18
        }
      ]
    },
    {
      "cell_type": "code",
      "metadata": {
        "id": "F2cWjUcNIlt0"
      },
      "source": [
        "from sklearn.metrics.pairwise import linear_kernel\n",
        "\n",
        "# Compute the cosine similarity matrix\n",
        "cosine_sim = linear_kernel(tfidf_matrix, tfidf_matrix)"
      ],
      "execution_count": 19,
      "outputs": []
    },
    {
      "cell_type": "code",
      "metadata": {
        "id": "jdD9A_QYMS0y"
      },
      "source": [
        "indices = pd.Series(df_cbr.index, index=df_cbr['name']).drop_duplicates()"
      ],
      "execution_count": 20,
      "outputs": []
    },
    {
      "cell_type": "code",
      "metadata": {
        "id": "k_RevNWvIu8k"
      },
      "source": [
        "def content_recommender(name, cosine_sim, df, indices):\n",
        "    idx = indices[name]\n",
        "\n",
        "    # Get the pairwsie similarity scores of all listings with that listing\n",
        "    # And convert it into a list of tuples as described above\n",
        "    sim_scores = list(enumerate(cosine_sim[idx]))\n",
        "\n",
        "    # Sort the listings based on the cosine similarity scores\n",
        "    sim_scores = sorted(sim_scores, key=lambda x: x[1], reverse=True)\n",
        "\n",
        "    # Get the scores of the 10 most similar listings. Ignore the first one.\n",
        "    sim_scores = sim_scores[1:11]\n",
        "\n",
        "    # Get the listing indices\n",
        "    listings_indices = [i[0] for i in sim_scores]\n",
        "\n",
        "    # Return the top 10 most similar listings\n",
        "    return df['name'].iloc[listings_indices]"
      ],
      "execution_count": 21,
      "outputs": []
    },
    {
      "cell_type": "code",
      "metadata": {
        "colab": {
          "base_uri": "https://localhost:8080/"
        },
        "id": "SKXDl6pOL1l_",
        "outputId": "1e816d26-f6d5-4e0f-b9a1-91ba22acb134"
      },
      "source": [
        "content_recommender(\"Cozy Place In Singapore\", cosine_sim, df_cbr, indices)"
      ],
      "execution_count": 22,
      "outputs": [
        {
          "output_type": "execute_result",
          "data": {
            "text/plain": [
              "7570            2Br 2Bath In Katong Near F&B (Min 3 Mths)\n",
              "2308                    Near To Central With Free Parking\n",
              "3024     Modern 2Br Apt In Katong, Free Parking, Near F&B\n",
              "3836     Humble & Conveniently Located 1Br In Katong Area\n",
              "6257     Humble & Conveniently Located 1Br In Katong Area\n",
              "2049                                     East Coast Haven\n",
              "6336     Humble & Conveniently Located 1Br In Katong Area\n",
              "12220          Kampong Living Cosy Room At Coliving Space\n",
              "4369           Spacious 3Br Home With East Coast Sea View\n",
              "10348    Humble & Conveniently Located 1Br In Katong Area\n",
              "Name: name, dtype: object"
            ]
          },
          "metadata": {
            "tags": []
          },
          "execution_count": 22
        }
      ]
    },
    {
      "cell_type": "markdown",
      "metadata": {
        "id": "4D7W99MiO0gQ"
      },
      "source": [
        "# Collaborative Filtering Recommendation"
      ]
    },
    {
      "cell_type": "code",
      "metadata": {
        "colab": {
          "base_uri": "https://localhost:8080/"
        },
        "id": "X8P1LFdrW9RM",
        "outputId": "6d5b5874-776d-4247-c463-7b8dc1b97a49"
      },
      "source": [
        "!pip install surprise"
      ],
      "execution_count": 23,
      "outputs": [
        {
          "output_type": "stream",
          "text": [
            "Requirement already satisfied: surprise in /usr/local/lib/python3.7/dist-packages (0.1)\n",
            "Requirement already satisfied: scikit-surprise in /usr/local/lib/python3.7/dist-packages (from surprise) (1.1.1)\n",
            "Requirement already satisfied: joblib>=0.11 in /usr/local/lib/python3.7/dist-packages (from scikit-surprise->surprise) (1.0.1)\n",
            "Requirement already satisfied: six>=1.10.0 in /usr/local/lib/python3.7/dist-packages (from scikit-surprise->surprise) (1.15.0)\n",
            "Requirement already satisfied: numpy>=1.11.2 in /usr/local/lib/python3.7/dist-packages (from scikit-surprise->surprise) (1.19.5)\n",
            "Requirement already satisfied: scipy>=1.0.0 in /usr/local/lib/python3.7/dist-packages (from scikit-surprise->surprise) (1.4.1)\n"
          ],
          "name": "stdout"
        }
      ]
    },
    {
      "cell_type": "code",
      "metadata": {
        "id": "MU7tJ4bDW8hJ"
      },
      "source": [
        "from surprise import SVD, Reader, Dataset\n",
        "from surprise.model_selection import KFold"
      ],
      "execution_count": 24,
      "outputs": []
    },
    {
      "cell_type": "code",
      "metadata": {
        "id": "5AqiW8hvO73L"
      },
      "source": [
        "df_cfr = customers.copy()"
      ],
      "execution_count": 25,
      "outputs": []
    },
    {
      "cell_type": "code",
      "metadata": {
        "id": "eUYkus7mhSU9"
      },
      "source": [
        "counts = df_cfr['listing_id'].value_counts()\n",
        "df_cfr = df_cfr[df_cfr['listing_id'].isin(counts[counts >= 10].index)]"
      ],
      "execution_count": 26,
      "outputs": []
    },
    {
      "cell_type": "code",
      "metadata": {
        "id": "J93LSZWVhcQE"
      },
      "source": [
        "counts1 = df_cfr['reviewer_id'].value_counts()\n",
        "df_cfr = df_cfr[df_cfr['reviewer_id'].isin(counts1[counts1 > 2].index)]"
      ],
      "execution_count": 27,
      "outputs": []
    },
    {
      "cell_type": "code",
      "metadata": {
        "colab": {
          "base_uri": "https://localhost:8080/"
        },
        "id": "Vo6eVjlChsi7",
        "outputId": "8c42ab3a-25de-4d36-f2fb-b22c923c842c"
      },
      "source": [
        "df = df_cfr[['reviewer_id','listing_id','polarity_score' ]]\n",
        "df.head()\n",
        "print(df.nunique())"
      ],
      "execution_count": 28,
      "outputs": [
        {
          "output_type": "stream",
          "text": [
            "reviewer_id       1878\n",
            "listing_id        2049\n",
            "polarity_score    1819\n",
            "dtype: int64\n"
          ],
          "name": "stdout"
        }
      ]
    },
    {
      "cell_type": "code",
      "metadata": {
        "id": "09T8dcy7hw2Z"
      },
      "source": [
        "reader = Reader(rating_scale=(-1, 1))\n",
        "data = Dataset.load_from_df(df[['reviewer_id', 'listing_id', 'polarity_score']], reader)"
      ],
      "execution_count": 29,
      "outputs": []
    },
    {
      "cell_type": "code",
      "metadata": {
        "colab": {
          "base_uri": "https://localhost:8080/"
        },
        "id": "ct9KjwPYhzBN",
        "outputId": "7a2a3949-01c6-4945-d036-e523d3937bc6"
      },
      "source": [
        "raw_ratings = data.raw_ratings\n",
        "\n",
        "import random\n",
        "from surprise.model_selection import GridSearchCV\n",
        "# shuffle ratings if you want\n",
        "random.shuffle(raw_ratings)\n",
        "\n",
        "# A = 90% of the data, B = 10% of the data\n",
        "threshold = int(.9 * len(raw_ratings))\n",
        "A_raw_ratings = raw_ratings[:threshold]\n",
        "B_raw_ratings = raw_ratings[threshold:]\n",
        "\n",
        "data.raw_ratings = A_raw_ratings  # data is now the set A\n",
        "\n",
        "# Select your best algo with grid search.\n",
        "print('Grid Search...')\n",
        "\n",
        "param_grid = {'n_epochs': [5, 10], 'lr_all': [0.002, 0.005,0.1],\n",
        "              'reg_all': [0.4, 0.6], 'n_factors':[100,500]} # tuning\n",
        "grid_search = GridSearchCV(SVD, param_grid, measures=['rmse','mae'], cv=3)\n",
        "grid_search.fit(data)\n",
        "print('best RMSE score')\n",
        "print(grid_search.best_score['rmse'])"
      ],
      "execution_count": 30,
      "outputs": [
        {
          "output_type": "stream",
          "text": [
            "Grid Search...\n",
            "best RMSE score\n",
            "0.2519522046750071\n"
          ],
          "name": "stdout"
        }
      ]
    },
    {
      "cell_type": "code",
      "metadata": {
        "colab": {
          "base_uri": "https://localhost:8080/"
        },
        "id": "rI4OlhGah1GU",
        "outputId": "b4e69385-abf3-4668-edde-60a279d40432"
      },
      "source": [
        "print('combination of parameters that gave the best RMSE score')\n",
        "print(grid_search.best_params['rmse'])\n",
        "algo = grid_search.best_estimator['rmse']"
      ],
      "execution_count": 31,
      "outputs": [
        {
          "output_type": "stream",
          "text": [
            "combination of parameters that gave the best RMSE score\n",
            "{'n_epochs': 10, 'lr_all': 0.1, 'reg_all': 0.6, 'n_factors': 500}\n"
          ],
          "name": "stdout"
        }
      ]
    },
    {
      "cell_type": "code",
      "metadata": {
        "colab": {
          "base_uri": "https://localhost:8080/"
        },
        "id": "n8hKyV-_h3bq",
        "outputId": "edbfba3b-0099-4800-cca3-b42d8dc55fa0"
      },
      "source": [
        "# retrain on the whole set A\n",
        "trainset = data.build_full_trainset()\n",
        "algo.fit(trainset)\n",
        "\n",
        "from surprise import accuracy\n",
        "# Compute biased accuracy on A\n",
        "testset= trainset.build_testset()\n",
        "predictions = algo.test(testset)\n",
        "print('Biased accuracy on A,', end='   ')\n",
        "accuracy.rmse(predictions,verbose=True)\n",
        "print('len(predictions)')\n",
        "print(len(predictions))"
      ],
      "execution_count": 32,
      "outputs": [
        {
          "output_type": "stream",
          "text": [
            "Biased accuracy on A,   RMSE: 0.1556\n",
            "len(predictions)\n",
            "6734\n"
          ],
          "name": "stdout"
        }
      ]
    },
    {
      "cell_type": "code",
      "metadata": {
        "colab": {
          "base_uri": "https://localhost:8080/"
        },
        "id": "sFSkDoxCh450",
        "outputId": "6227c95f-78f9-422c-f644-2ffb3dbff522"
      },
      "source": [
        "# Compute unbiased accuracy on B\n",
        "testset = data.construct_testset(B_raw_ratings)  # testset is now the set B\n",
        "predictions = algo.test(testset)\n",
        "print('Unbiased accuracy on B,', end=' ')\n",
        "accuracy.rmse(predictions)\n",
        "print('len(predictions)')\n",
        "print(len(predictions))"
      ],
      "execution_count": 33,
      "outputs": [
        {
          "output_type": "stream",
          "text": [
            "Unbiased accuracy on B, RMSE: 0.2430\n",
            "len(predictions)\n",
            "749\n"
          ],
          "name": "stdout"
        }
      ]
    },
    {
      "cell_type": "code",
      "metadata": {
        "colab": {
          "base_uri": "https://localhost:8080/"
        },
        "id": "fhHcHFN5h64U",
        "outputId": "714e5e97-6b60-4c42-d5a8-d5fdee45f29a"
      },
      "source": [
        "# define a cross-validation iterator\n",
        "kf = KFold(n_splits=7)\n",
        "algo = SVD(n_factors=500, n_epochs=5, lr_all=0.1)\n",
        "\n",
        "for trainset, testset in kf.split(data):\n",
        "    # train and test algorithm.\n",
        "    algo.fit(trainset)\n",
        "    \n",
        "    predictions = algo.test(testset)\n",
        "    \n",
        "    # Compute and print Root Mean Squared Error\n",
        "    accuracy.rmse(predictions, verbose=True)\n"
      ],
      "execution_count": 34,
      "outputs": [
        {
          "output_type": "stream",
          "text": [
            "RMSE: 0.3025\n",
            "RMSE: 0.2643\n",
            "RMSE: 0.3017\n",
            "RMSE: 0.3013\n",
            "RMSE: 0.2961\n",
            "RMSE: 0.2881\n",
            "RMSE: 0.3131\n"
          ],
          "name": "stdout"
        }
      ]
    },
    {
      "cell_type": "code",
      "metadata": {
        "colab": {
          "base_uri": "https://localhost:8080/"
        },
        "id": "zDn3wOSyh_et",
        "outputId": "08cd7685-1a5c-46a9-fd3b-3ee18e1dd121"
      },
      "source": [
        "# retrain on the whole set A\n",
        "trainset = data.build_full_trainset()\n",
        "algo.fit(trainset)\n",
        "\n",
        "testset= trainset.build_anti_testset()\n",
        "predictionsAll = algo.test(testset)\n",
        "print('Accuracy on whole data set,', end='   ')\n",
        "accuracy.rmse(predictionsAll,verbose=True)\n",
        "print('len(predictions)')\n",
        "print(len(predictionsAll))"
      ],
      "execution_count": 35,
      "outputs": [
        {
          "output_type": "stream",
          "text": [
            "Accuracy on whole data set,   RMSE: 0.1919\n",
            "len(predictions)\n",
            "3680594\n"
          ],
          "name": "stdout"
        }
      ]
    },
    {
      "cell_type": "code",
      "metadata": {
        "colab": {
          "base_uri": "https://localhost:8080/"
        },
        "id": "_ppPXmWNiB0R",
        "outputId": "5d8464a5-10c1-4b02-fa2a-f01552dac224"
      },
      "source": [
        "def get_top3_recommendations(predictions, topN = 3):\n",
        "     \n",
        "    top_recs = defaultdict(list)\n",
        "    for uid, iid, true_r, est, _ in predictions:\n",
        "        top_recs[uid].append((iid, est))\n",
        "     \n",
        "    for uid, user_ratings in top_recs.items():\n",
        "        user_ratings.sort(key = lambda x: x[1], reverse = True)\n",
        "        top_recs[uid] = user_ratings[:topN]    \n",
        "    return top_recs\n",
        "print('getting top 3 recommendations')"
      ],
      "execution_count": 36,
      "outputs": [
        {
          "output_type": "stream",
          "text": [
            "getting top 3 recommendations\n"
          ],
          "name": "stdout"
        }
      ]
    },
    {
      "cell_type": "code",
      "metadata": {
        "colab": {
          "base_uri": "https://localhost:8080/"
        },
        "id": "A2xF4hiaiKeJ",
        "outputId": "aa38c425-7b10-4bb9-a0c2-0b5c2a781062"
      },
      "source": [
        "from collections import defaultdict\n",
        "top3_recommendations = get_top3_recommendations(predictionsAll,3)\n",
        "\n",
        "print('Total predictions calculated are %d' % len(predictionsAll))"
      ],
      "execution_count": 37,
      "outputs": [
        {
          "output_type": "stream",
          "text": [
            "Total predictions calculated are 3680594\n"
          ],
          "name": "stdout"
        }
      ]
    },
    {
      "cell_type": "code",
      "metadata": {
        "colab": {
          "base_uri": "https://localhost:8080/"
        },
        "id": "0mUbVxjXiDu5",
        "outputId": "804c24ce-4fd3-4d7c-8cab-406cb5b9ee20"
      },
      "source": [
        "dfo = pd.DataFrame(columns=['UserId', 'Recommended Listing,Rating'])\n",
        "i=0;\n",
        "for uid, user_ratings in top3_recommendations.items():\n",
        "    #print(uid, top3_recommendations[uid])\n",
        "    row = [uid, top3_recommendations[uid]]\n",
        "    dfo.loc[i] = row\n",
        "    i=i+1\n",
        "dfo.to_csv('/content/drive/My Drive/BT4222_Project/submission.csv', index = False)\n",
        "\n",
        "print(\"wrote Recommendations for each user in csv file\")     \n",
        "        "
      ],
      "execution_count": 38,
      "outputs": [
        {
          "output_type": "stream",
          "text": [
            "wrote Recommendations for each user in csv file\n"
          ],
          "name": "stdout"
        }
      ]
    },
    {
      "cell_type": "markdown",
      "metadata": {
        "id": "iIdwCY2ZO8PD"
      },
      "source": [
        "# Hybrid Recommendation"
      ]
    },
    {
      "cell_type": "code",
      "metadata": {
        "colab": {
          "base_uri": "https://localhost:8080/"
        },
        "id": "mNTFvRSuPz-F",
        "outputId": "f95548ed-3760-4451-82e9-4d3523dc9d8c"
      },
      "source": [
        "#Build the SVD based Collaborative filter\n",
        "from surprise import SVD, Reader, Dataset\n",
        "from surprise.model_selection import KFold\n",
        "\n",
        "reader = Reader(rating_scale=(-1, 1))\n",
        "ratings_hr = customers.copy() \n",
        "data = Dataset.load_from_df(ratings_hr[['reviewer_id', 'listing_id', 'polarity_score']], reader)\n",
        "kf = KFold(n_splits=5)\n",
        "kf.split(data)\n",
        "svd = SVD()\n",
        "trainset = data.build_full_trainset()\n",
        "svd.fit(trainset)"
      ],
      "execution_count": 39,
      "outputs": [
        {
          "output_type": "execute_result",
          "data": {
            "text/plain": [
              "<surprise.prediction_algorithms.matrix_factorization.SVD at 0x7fbe978735d0>"
            ]
          },
          "metadata": {
            "tags": []
          },
          "execution_count": 39
        }
      ]
    },
    {
      "cell_type": "code",
      "metadata": {
        "id": "swgTbDJVYRqv"
      },
      "source": [
        "id_to_name = df_cbr.copy().set_index('id')\n",
        "name_to_id = df_cbr.copy().set_index('name')\n",
        "indices = pd.Series(df_cbr.index, index=df_cbr['name']).drop_duplicates()"
      ],
      "execution_count": 40,
      "outputs": []
    },
    {
      "cell_type": "code",
      "metadata": {
        "id": "dVyvnq-ZSneM"
      },
      "source": [
        "def hybrid(reviewer_id, name):\n",
        "    idx = indices[name]\n",
        "    listing_id = name_to_id.loc[name]['id']\n",
        "    sim_scores = list(enumerate(cosine_sim[idx]))\n",
        "    sim_scores = sorted(sim_scores, key=lambda x: x[1], reverse=True)\n",
        "    sim_scores = sim_scores[1:26]\n",
        "    listings_indices = [i[0] for i in sim_scores]\n",
        "    listing = listings.iloc[listings_indices].copy()\n",
        "    listing['estimate'] = listing['id'].apply(lambda x: svd.predict(reviewer_id, x).est)\n",
        "    listing = listing.sort_values('estimate', ascending=False)\n",
        "    return listing.head(5)"
      ],
      "execution_count": 41,
      "outputs": []
    },
    {
      "cell_type": "code",
      "metadata": {
        "colab": {
          "base_uri": "https://localhost:8080/",
          "height": 547
        },
        "id": "ydBPejnzV7tj",
        "outputId": "cfb344e1-de24-4301-952e-5680581ed363"
      },
      "source": [
        "hybrid(8557223, \"Cozy Place In Singapore\")"
      ],
      "execution_count": 42,
      "outputs": [
        {
          "output_type": "execute_result",
          "data": {
            "text/html": [
              "<div>\n",
              "<style scoped>\n",
              "    .dataframe tbody tr th:only-of-type {\n",
              "        vertical-align: middle;\n",
              "    }\n",
              "\n",
              "    .dataframe tbody tr th {\n",
              "        vertical-align: top;\n",
              "    }\n",
              "\n",
              "    .dataframe thead th {\n",
              "        text-align: right;\n",
              "    }\n",
              "</style>\n",
              "<table border=\"1\" class=\"dataframe\">\n",
              "  <thead>\n",
              "    <tr style=\"text-align: right;\">\n",
              "      <th></th>\n",
              "      <th>id</th>\n",
              "      <th>description</th>\n",
              "      <th>host_since</th>\n",
              "      <th>host_is_superhost</th>\n",
              "      <th>latitude</th>\n",
              "      <th>longitude</th>\n",
              "      <th>accommodates</th>\n",
              "      <th>bathrooms</th>\n",
              "      <th>bedrooms</th>\n",
              "      <th>beds</th>\n",
              "      <th>amenities</th>\n",
              "      <th>price</th>\n",
              "      <th>minimum_nights</th>\n",
              "      <th>maximum_nights</th>\n",
              "      <th>maximum_nights_avg_ntm</th>\n",
              "      <th>number_of_reviews_ltm</th>\n",
              "      <th>instant_bookable</th>\n",
              "      <th>calculated_host_listings_count</th>\n",
              "      <th>nearby_sites_rating</th>\n",
              "      <th>nearest_station_dist</th>\n",
              "      <th>nearest_site_dist</th>\n",
              "      <th>nearest_site_rating</th>\n",
              "      <th>host_response_time_cross_rate</th>\n",
              "      <th>email</th>\n",
              "      <th>phone</th>\n",
              "      <th>reviews</th>\n",
              "      <th>jumio</th>\n",
              "      <th>offline_government_id</th>\n",
              "      <th>selfie</th>\n",
              "      <th>government_id</th>\n",
              "      <th>identity_manual</th>\n",
              "      <th>work_email</th>\n",
              "      <th>manual_online</th>\n",
              "      <th>manual_offline</th>\n",
              "      <th>x0_Central Region</th>\n",
              "      <th>x0_East Region</th>\n",
              "      <th>x0_North Region</th>\n",
              "      <th>x0_North-East Region</th>\n",
              "      <th>x0_West Region</th>\n",
              "      <th>x0_apartment</th>\n",
              "      <th>x0_bed and breakfast</th>\n",
              "      <th>x0_boat</th>\n",
              "      <th>x0_boutique hotel</th>\n",
              "      <th>x0_bungalow</th>\n",
              "      <th>x0_condominium</th>\n",
              "      <th>x0_guest suite</th>\n",
              "      <th>x0_hostel</th>\n",
              "      <th>x0_hotel</th>\n",
              "      <th>x0_house</th>\n",
              "      <th>x0_loft</th>\n",
              "      <th>x0_other</th>\n",
              "      <th>x0_townhouse</th>\n",
              "      <th>x0_Entire home/apt</th>\n",
              "      <th>x0_Hotel room</th>\n",
              "      <th>x0_Private room</th>\n",
              "      <th>x0_Shared room</th>\n",
              "      <th>amenities_list</th>\n",
              "      <th>Wifi</th>\n",
              "      <th>Air conditioning</th>\n",
              "      <th>Kitchen</th>\n",
              "      <th>Parking</th>\n",
              "      <th>Outdoor</th>\n",
              "      <th>Kids</th>\n",
              "      <th>Pets allowed</th>\n",
              "      <th>Workspace</th>\n",
              "      <th>Gym</th>\n",
              "      <th>Breakfast</th>\n",
              "      <th>availability_average</th>\n",
              "      <th>estimate</th>\n",
              "    </tr>\n",
              "  </thead>\n",
              "  <tbody>\n",
              "    <tr>\n",
              "      <th>9362</th>\n",
              "      <td>18484277</td>\n",
              "      <td>The property is situated in Katong neighbourho...</td>\n",
              "      <td>2016-04-09</td>\n",
              "      <td>1</td>\n",
              "      <td>1.30735</td>\n",
              "      <td>103.89918</td>\n",
              "      <td>4</td>\n",
              "      <td>0.0</td>\n",
              "      <td>1.0</td>\n",
              "      <td>1.0</td>\n",
              "      <td>[\"Dryer\", \"Shampoo\", \"Dedicated workspace\", \"W...</td>\n",
              "      <td>100.0</td>\n",
              "      <td>30</td>\n",
              "      <td>1125</td>\n",
              "      <td>1125.0</td>\n",
              "      <td>1</td>\n",
              "      <td>1</td>\n",
              "      <td>120</td>\n",
              "      <td>1.114351</td>\n",
              "      <td>1.176417</td>\n",
              "      <td>2.847086</td>\n",
              "      <td>4.5</td>\n",
              "      <td>4.00</td>\n",
              "      <td>1</td>\n",
              "      <td>1</td>\n",
              "      <td>1</td>\n",
              "      <td>1</td>\n",
              "      <td>0</td>\n",
              "      <td>0</td>\n",
              "      <td>1</td>\n",
              "      <td>0</td>\n",
              "      <td>0</td>\n",
              "      <td>0</td>\n",
              "      <td>0</td>\n",
              "      <td>1.0</td>\n",
              "      <td>0.0</td>\n",
              "      <td>0.0</td>\n",
              "      <td>0.0</td>\n",
              "      <td>0.0</td>\n",
              "      <td>1.0</td>\n",
              "      <td>0.0</td>\n",
              "      <td>0.0</td>\n",
              "      <td>0.0</td>\n",
              "      <td>0.0</td>\n",
              "      <td>0.0</td>\n",
              "      <td>0.0</td>\n",
              "      <td>0.0</td>\n",
              "      <td>0.0</td>\n",
              "      <td>0.0</td>\n",
              "      <td>0.0</td>\n",
              "      <td>0.0</td>\n",
              "      <td>0.0</td>\n",
              "      <td>1.0</td>\n",
              "      <td>0.0</td>\n",
              "      <td>0.0</td>\n",
              "      <td>0.0</td>\n",
              "      <td>['Dryer', 'Shampoo', 'Dedicated workspace', 'W...</td>\n",
              "      <td>1</td>\n",
              "      <td>1</td>\n",
              "      <td>1</td>\n",
              "      <td>0</td>\n",
              "      <td>0</td>\n",
              "      <td>0</td>\n",
              "      <td>0</td>\n",
              "      <td>0</td>\n",
              "      <td>1</td>\n",
              "      <td>0</td>\n",
              "      <td>0.191819</td>\n",
              "      <td>0.987482</td>\n",
              "    </tr>\n",
              "    <tr>\n",
              "      <th>11377</th>\n",
              "      <td>41722716</td>\n",
              "      <td>The property is situated in Katong neighbourho...</td>\n",
              "      <td>2016-04-09</td>\n",
              "      <td>1</td>\n",
              "      <td>1.30599</td>\n",
              "      <td>103.89951</td>\n",
              "      <td>2</td>\n",
              "      <td>0.0</td>\n",
              "      <td>1.0</td>\n",
              "      <td>1.0</td>\n",
              "      <td>[\"Shampoo\", \"Crib\", \"Long term stays allowed\",...</td>\n",
              "      <td>90.0</td>\n",
              "      <td>30</td>\n",
              "      <td>1125</td>\n",
              "      <td>1125.0</td>\n",
              "      <td>1</td>\n",
              "      <td>0</td>\n",
              "      <td>120</td>\n",
              "      <td>1.119442</td>\n",
              "      <td>1.236447</td>\n",
              "      <td>2.854856</td>\n",
              "      <td>4.5</td>\n",
              "      <td>4.00</td>\n",
              "      <td>1</td>\n",
              "      <td>1</td>\n",
              "      <td>1</td>\n",
              "      <td>1</td>\n",
              "      <td>0</td>\n",
              "      <td>0</td>\n",
              "      <td>1</td>\n",
              "      <td>0</td>\n",
              "      <td>0</td>\n",
              "      <td>0</td>\n",
              "      <td>0</td>\n",
              "      <td>1.0</td>\n",
              "      <td>0.0</td>\n",
              "      <td>0.0</td>\n",
              "      <td>0.0</td>\n",
              "      <td>0.0</td>\n",
              "      <td>0.0</td>\n",
              "      <td>0.0</td>\n",
              "      <td>0.0</td>\n",
              "      <td>0.0</td>\n",
              "      <td>0.0</td>\n",
              "      <td>1.0</td>\n",
              "      <td>0.0</td>\n",
              "      <td>0.0</td>\n",
              "      <td>0.0</td>\n",
              "      <td>0.0</td>\n",
              "      <td>0.0</td>\n",
              "      <td>0.0</td>\n",
              "      <td>0.0</td>\n",
              "      <td>1.0</td>\n",
              "      <td>0.0</td>\n",
              "      <td>0.0</td>\n",
              "      <td>0.0</td>\n",
              "      <td>['Shampoo', 'Crib', 'Long term stays allowed',...</td>\n",
              "      <td>1</td>\n",
              "      <td>1</td>\n",
              "      <td>1</td>\n",
              "      <td>0</td>\n",
              "      <td>0</td>\n",
              "      <td>0</td>\n",
              "      <td>0</td>\n",
              "      <td>0</td>\n",
              "      <td>1</td>\n",
              "      <td>0</td>\n",
              "      <td>1.000000</td>\n",
              "      <td>0.927539</td>\n",
              "    </tr>\n",
              "    <tr>\n",
              "      <th>4307</th>\n",
              "      <td>14387136</td>\n",
              "      <td>We want all our guests to enjoy Singapore! Cos...</td>\n",
              "      <td>2014-06-29</td>\n",
              "      <td>1</td>\n",
              "      <td>1.30996</td>\n",
              "      <td>103.90159</td>\n",
              "      <td>6</td>\n",
              "      <td>1.0</td>\n",
              "      <td>2.0</td>\n",
              "      <td>3.0</td>\n",
              "      <td>{TV,Internet,Wifi,\"Air conditioning\",\"Wheelcha...</td>\n",
              "      <td>184.0</td>\n",
              "      <td>28</td>\n",
              "      <td>1125</td>\n",
              "      <td>1125.0</td>\n",
              "      <td>25</td>\n",
              "      <td>0</td>\n",
              "      <td>5</td>\n",
              "      <td>1.090599</td>\n",
              "      <td>1.107006</td>\n",
              "      <td>2.522305</td>\n",
              "      <td>4.5</td>\n",
              "      <td>4.00</td>\n",
              "      <td>1</td>\n",
              "      <td>1</td>\n",
              "      <td>1</td>\n",
              "      <td>1</td>\n",
              "      <td>1</td>\n",
              "      <td>1</td>\n",
              "      <td>1</td>\n",
              "      <td>1</td>\n",
              "      <td>0</td>\n",
              "      <td>0</td>\n",
              "      <td>0</td>\n",
              "      <td>1.0</td>\n",
              "      <td>0.0</td>\n",
              "      <td>0.0</td>\n",
              "      <td>0.0</td>\n",
              "      <td>0.0</td>\n",
              "      <td>0.0</td>\n",
              "      <td>0.0</td>\n",
              "      <td>0.0</td>\n",
              "      <td>0.0</td>\n",
              "      <td>0.0</td>\n",
              "      <td>1.0</td>\n",
              "      <td>0.0</td>\n",
              "      <td>0.0</td>\n",
              "      <td>0.0</td>\n",
              "      <td>0.0</td>\n",
              "      <td>0.0</td>\n",
              "      <td>0.0</td>\n",
              "      <td>0.0</td>\n",
              "      <td>1.0</td>\n",
              "      <td>0.0</td>\n",
              "      <td>0.0</td>\n",
              "      <td>0.0</td>\n",
              "      <td>['TV', 'Internet', 'Wifi', 'Air conditioning',...</td>\n",
              "      <td>1</td>\n",
              "      <td>1</td>\n",
              "      <td>1</td>\n",
              "      <td>1</td>\n",
              "      <td>1</td>\n",
              "      <td>0</td>\n",
              "      <td>0</td>\n",
              "      <td>1</td>\n",
              "      <td>0</td>\n",
              "      <td>0</td>\n",
              "      <td>0.713661</td>\n",
              "      <td>0.891504</td>\n",
              "    </tr>\n",
              "    <tr>\n",
              "      <th>6336</th>\n",
              "      <td>19780831</td>\n",
              "      <td>The property is situated in Katong neighbourho...</td>\n",
              "      <td>2016-04-09</td>\n",
              "      <td>1</td>\n",
              "      <td>1.30554</td>\n",
              "      <td>103.90064</td>\n",
              "      <td>2</td>\n",
              "      <td>1.0</td>\n",
              "      <td>1.0</td>\n",
              "      <td>1.0</td>\n",
              "      <td>{TV,Wifi,\"Air conditioning\",Pool,Kitchen,\"Pets...</td>\n",
              "      <td>190.0</td>\n",
              "      <td>30</td>\n",
              "      <td>1125</td>\n",
              "      <td>1125.0</td>\n",
              "      <td>2</td>\n",
              "      <td>1</td>\n",
              "      <td>335</td>\n",
              "      <td>1.116663</td>\n",
              "      <td>1.370063</td>\n",
              "      <td>2.752297</td>\n",
              "      <td>4.5</td>\n",
              "      <td>4.00</td>\n",
              "      <td>1</td>\n",
              "      <td>1</td>\n",
              "      <td>1</td>\n",
              "      <td>1</td>\n",
              "      <td>0</td>\n",
              "      <td>0</td>\n",
              "      <td>1</td>\n",
              "      <td>0</td>\n",
              "      <td>0</td>\n",
              "      <td>0</td>\n",
              "      <td>0</td>\n",
              "      <td>1.0</td>\n",
              "      <td>0.0</td>\n",
              "      <td>0.0</td>\n",
              "      <td>0.0</td>\n",
              "      <td>0.0</td>\n",
              "      <td>1.0</td>\n",
              "      <td>0.0</td>\n",
              "      <td>0.0</td>\n",
              "      <td>0.0</td>\n",
              "      <td>0.0</td>\n",
              "      <td>0.0</td>\n",
              "      <td>0.0</td>\n",
              "      <td>0.0</td>\n",
              "      <td>0.0</td>\n",
              "      <td>0.0</td>\n",
              "      <td>0.0</td>\n",
              "      <td>0.0</td>\n",
              "      <td>0.0</td>\n",
              "      <td>1.0</td>\n",
              "      <td>0.0</td>\n",
              "      <td>0.0</td>\n",
              "      <td>0.0</td>\n",
              "      <td>['TV', 'Wifi', 'Air conditioning', 'Pool', 'Ki...</td>\n",
              "      <td>1</td>\n",
              "      <td>1</td>\n",
              "      <td>1</td>\n",
              "      <td>0</td>\n",
              "      <td>0</td>\n",
              "      <td>0</td>\n",
              "      <td>1</td>\n",
              "      <td>1</td>\n",
              "      <td>1</td>\n",
              "      <td>0</td>\n",
              "      <td>0.000000</td>\n",
              "      <td>0.831819</td>\n",
              "    </tr>\n",
              "    <tr>\n",
              "      <th>3382</th>\n",
              "      <td>7627981</td>\n",
              "      <td>This huge apartment on the High floor, unblock...</td>\n",
              "      <td>2014-05-15</td>\n",
              "      <td>0</td>\n",
              "      <td>1.31321</td>\n",
              "      <td>103.89285</td>\n",
              "      <td>4</td>\n",
              "      <td>2.0</td>\n",
              "      <td>2.0</td>\n",
              "      <td>2.0</td>\n",
              "      <td>{TV,Internet,Wifi,\"Air conditioning\",\"Wheelcha...</td>\n",
              "      <td>158.0</td>\n",
              "      <td>5</td>\n",
              "      <td>1124</td>\n",
              "      <td>1124.0</td>\n",
              "      <td>0</td>\n",
              "      <td>0</td>\n",
              "      <td>9</td>\n",
              "      <td>1.113572</td>\n",
              "      <td>0.475441</td>\n",
              "      <td>3.455570</td>\n",
              "      <td>4.5</td>\n",
              "      <td>2.67</td>\n",
              "      <td>1</td>\n",
              "      <td>1</td>\n",
              "      <td>1</td>\n",
              "      <td>1</td>\n",
              "      <td>0</td>\n",
              "      <td>0</td>\n",
              "      <td>1</td>\n",
              "      <td>0</td>\n",
              "      <td>0</td>\n",
              "      <td>0</td>\n",
              "      <td>0</td>\n",
              "      <td>1.0</td>\n",
              "      <td>0.0</td>\n",
              "      <td>0.0</td>\n",
              "      <td>0.0</td>\n",
              "      <td>0.0</td>\n",
              "      <td>0.0</td>\n",
              "      <td>0.0</td>\n",
              "      <td>0.0</td>\n",
              "      <td>0.0</td>\n",
              "      <td>0.0</td>\n",
              "      <td>1.0</td>\n",
              "      <td>0.0</td>\n",
              "      <td>0.0</td>\n",
              "      <td>0.0</td>\n",
              "      <td>0.0</td>\n",
              "      <td>0.0</td>\n",
              "      <td>0.0</td>\n",
              "      <td>0.0</td>\n",
              "      <td>1.0</td>\n",
              "      <td>0.0</td>\n",
              "      <td>0.0</td>\n",
              "      <td>0.0</td>\n",
              "      <td>['TV', 'Internet', 'Wifi', 'Air conditioning',...</td>\n",
              "      <td>1</td>\n",
              "      <td>1</td>\n",
              "      <td>1</td>\n",
              "      <td>1</td>\n",
              "      <td>0</td>\n",
              "      <td>0</td>\n",
              "      <td>0</td>\n",
              "      <td>1</td>\n",
              "      <td>0</td>\n",
              "      <td>0</td>\n",
              "      <td>0.353272</td>\n",
              "      <td>0.802610</td>\n",
              "    </tr>\n",
              "  </tbody>\n",
              "</table>\n",
              "</div>"
            ],
            "text/plain": [
              "             id  ...  estimate\n",
              "9362   18484277  ...  0.987482\n",
              "11377  41722716  ...  0.927539\n",
              "4307   14387136  ...  0.891504\n",
              "6336   19780831  ...  0.831819\n",
              "3382    7627981  ...  0.802610\n",
              "\n",
              "[5 rows x 69 columns]"
            ]
          },
          "metadata": {
            "tags": []
          },
          "execution_count": 42
        }
      ]
    },
    {
      "cell_type": "markdown",
      "metadata": {
        "id": "Bw_8a_ylO08C"
      },
      "source": [
        "# Hybrid Recommendation 2.0"
      ]
    },
    {
      "cell_type": "code",
      "metadata": {
        "colab": {
          "base_uri": "https://localhost:8080/",
          "height": 530
        },
        "id": "wWXR4OhMXRJA",
        "outputId": "760af3e9-82f4-4d65-ae4f-8a2cfd90d5f5"
      },
      "source": [
        "customers.head()"
      ],
      "execution_count": 43,
      "outputs": [
        {
          "output_type": "execute_result",
          "data": {
            "text/html": [
              "<div>\n",
              "<style scoped>\n",
              "    .dataframe tbody tr th:only-of-type {\n",
              "        vertical-align: middle;\n",
              "    }\n",
              "\n",
              "    .dataframe tbody tr th {\n",
              "        vertical-align: top;\n",
              "    }\n",
              "\n",
              "    .dataframe thead th {\n",
              "        text-align: right;\n",
              "    }\n",
              "</style>\n",
              "<table border=\"1\" class=\"dataframe\">\n",
              "  <thead>\n",
              "    <tr style=\"text-align: right;\">\n",
              "      <th></th>\n",
              "      <th>reviewer_id</th>\n",
              "      <th>listing_id</th>\n",
              "      <th>date</th>\n",
              "      <th>comments</th>\n",
              "      <th>price</th>\n",
              "      <th>review_scores_rating</th>\n",
              "      <th>review_scores_accuracy</th>\n",
              "      <th>review_scores_cleanliness</th>\n",
              "      <th>review_scores_checkin</th>\n",
              "      <th>review_scores_communication</th>\n",
              "      <th>review_scores_location</th>\n",
              "      <th>review_scores_value</th>\n",
              "      <th>polarity_score</th>\n",
              "      <th>sentiment</th>\n",
              "    </tr>\n",
              "  </thead>\n",
              "  <tbody>\n",
              "    <tr>\n",
              "      <th>0</th>\n",
              "      <td>8557223</td>\n",
              "      <td>49091</td>\n",
              "      <td>2013-10-21</td>\n",
              "      <td>Fran was absolutely gracious and welcoming. Ma...</td>\n",
              "      <td>81.0</td>\n",
              "      <td>94.0</td>\n",
              "      <td>10.0</td>\n",
              "      <td>10.0</td>\n",
              "      <td>10.0</td>\n",
              "      <td>10.0</td>\n",
              "      <td>8.0</td>\n",
              "      <td>8.0</td>\n",
              "      <td>0.9615</td>\n",
              "      <td>pos</td>\n",
              "    </tr>\n",
              "    <tr>\n",
              "      <th>1</th>\n",
              "      <td>1356099</td>\n",
              "      <td>50646</td>\n",
              "      <td>2014-04-18</td>\n",
              "      <td>A comfortable room in a smart condo developmen...</td>\n",
              "      <td>80.0</td>\n",
              "      <td>91.0</td>\n",
              "      <td>9.0</td>\n",
              "      <td>10.0</td>\n",
              "      <td>10.0</td>\n",
              "      <td>10.0</td>\n",
              "      <td>9.0</td>\n",
              "      <td>9.0</td>\n",
              "      <td>0.9484</td>\n",
              "      <td>pos</td>\n",
              "    </tr>\n",
              "    <tr>\n",
              "      <th>2</th>\n",
              "      <td>15222393</td>\n",
              "      <td>50646</td>\n",
              "      <td>2014-06-05</td>\n",
              "      <td>Stayed over at Sujatha's house for 3 good nigh...</td>\n",
              "      <td>80.0</td>\n",
              "      <td>91.0</td>\n",
              "      <td>9.0</td>\n",
              "      <td>10.0</td>\n",
              "      <td>10.0</td>\n",
              "      <td>10.0</td>\n",
              "      <td>9.0</td>\n",
              "      <td>9.0</td>\n",
              "      <td>0.9879</td>\n",
              "      <td>pos</td>\n",
              "    </tr>\n",
              "    <tr>\n",
              "      <th>3</th>\n",
              "      <td>5543172</td>\n",
              "      <td>50646</td>\n",
              "      <td>2014-07-02</td>\n",
              "      <td>It's been a lovely stay at Sujatha's. The room...</td>\n",
              "      <td>80.0</td>\n",
              "      <td>91.0</td>\n",
              "      <td>9.0</td>\n",
              "      <td>10.0</td>\n",
              "      <td>10.0</td>\n",
              "      <td>10.0</td>\n",
              "      <td>9.0</td>\n",
              "      <td>9.0</td>\n",
              "      <td>0.9627</td>\n",
              "      <td>pos</td>\n",
              "    </tr>\n",
              "    <tr>\n",
              "      <th>4</th>\n",
              "      <td>817532</td>\n",
              "      <td>50646</td>\n",
              "      <td>2014-07-08</td>\n",
              "      <td>We had a great experience. A nice place, an am...</td>\n",
              "      <td>80.0</td>\n",
              "      <td>91.0</td>\n",
              "      <td>9.0</td>\n",
              "      <td>10.0</td>\n",
              "      <td>10.0</td>\n",
              "      <td>10.0</td>\n",
              "      <td>9.0</td>\n",
              "      <td>9.0</td>\n",
              "      <td>0.9274</td>\n",
              "      <td>pos</td>\n",
              "    </tr>\n",
              "  </tbody>\n",
              "</table>\n",
              "</div>"
            ],
            "text/plain": [
              "   reviewer_id  listing_id  ... polarity_score sentiment\n",
              "0      8557223       49091  ...         0.9615       pos\n",
              "1      1356099       50646  ...         0.9484       pos\n",
              "2     15222393       50646  ...         0.9879       pos\n",
              "3      5543172       50646  ...         0.9627       pos\n",
              "4       817532       50646  ...         0.9274       pos\n",
              "\n",
              "[5 rows x 14 columns]"
            ]
          },
          "metadata": {
            "tags": []
          },
          "execution_count": 43
        }
      ]
    },
    {
      "cell_type": "code",
      "metadata": {
        "id": "Z76IWJu49eey"
      },
      "source": [
        "df_hr = customers.copy()\n",
        "df_hr['overall_review'] = (df_hr.review_scores_rating/100 + (df_hr.review_scores_accuracy + df_hr.review_scores_cleanliness + df_hr.review_scores_checkin + \\\n",
        "df_hr.review_scores_communication + df_hr.review_scores_location + df_hr.review_scores_value)/10)/7\n",
        "df_hr = df_hr.drop(columns = ['review_scores_rating','review_scores_accuracy','review_scores_cleanliness','review_scores_checkin','review_scores_communication','review_scores_location','review_scores_value'])"
      ],
      "execution_count": 44,
      "outputs": []
    },
    {
      "cell_type": "code",
      "metadata": {
        "colab": {
          "base_uri": "https://localhost:8080/",
          "height": 289
        },
        "id": "jBoqR3mx-e0I",
        "outputId": "f5a14b2d-1e37-42a6-af87-8cd3861b9c32"
      },
      "source": [
        "df_hr.head()"
      ],
      "execution_count": 45,
      "outputs": [
        {
          "output_type": "execute_result",
          "data": {
            "text/html": [
              "<div>\n",
              "<style scoped>\n",
              "    .dataframe tbody tr th:only-of-type {\n",
              "        vertical-align: middle;\n",
              "    }\n",
              "\n",
              "    .dataframe tbody tr th {\n",
              "        vertical-align: top;\n",
              "    }\n",
              "\n",
              "    .dataframe thead th {\n",
              "        text-align: right;\n",
              "    }\n",
              "</style>\n",
              "<table border=\"1\" class=\"dataframe\">\n",
              "  <thead>\n",
              "    <tr style=\"text-align: right;\">\n",
              "      <th></th>\n",
              "      <th>reviewer_id</th>\n",
              "      <th>listing_id</th>\n",
              "      <th>date</th>\n",
              "      <th>comments</th>\n",
              "      <th>price</th>\n",
              "      <th>polarity_score</th>\n",
              "      <th>sentiment</th>\n",
              "      <th>overall_review</th>\n",
              "    </tr>\n",
              "  </thead>\n",
              "  <tbody>\n",
              "    <tr>\n",
              "      <th>0</th>\n",
              "      <td>8557223</td>\n",
              "      <td>49091</td>\n",
              "      <td>2013-10-21</td>\n",
              "      <td>Fran was absolutely gracious and welcoming. Ma...</td>\n",
              "      <td>81.0</td>\n",
              "      <td>0.9615</td>\n",
              "      <td>pos</td>\n",
              "      <td>0.934286</td>\n",
              "    </tr>\n",
              "    <tr>\n",
              "      <th>1</th>\n",
              "      <td>1356099</td>\n",
              "      <td>50646</td>\n",
              "      <td>2014-04-18</td>\n",
              "      <td>A comfortable room in a smart condo developmen...</td>\n",
              "      <td>80.0</td>\n",
              "      <td>0.9484</td>\n",
              "      <td>pos</td>\n",
              "      <td>0.944286</td>\n",
              "    </tr>\n",
              "    <tr>\n",
              "      <th>2</th>\n",
              "      <td>15222393</td>\n",
              "      <td>50646</td>\n",
              "      <td>2014-06-05</td>\n",
              "      <td>Stayed over at Sujatha's house for 3 good nigh...</td>\n",
              "      <td>80.0</td>\n",
              "      <td>0.9879</td>\n",
              "      <td>pos</td>\n",
              "      <td>0.944286</td>\n",
              "    </tr>\n",
              "    <tr>\n",
              "      <th>3</th>\n",
              "      <td>5543172</td>\n",
              "      <td>50646</td>\n",
              "      <td>2014-07-02</td>\n",
              "      <td>It's been a lovely stay at Sujatha's. The room...</td>\n",
              "      <td>80.0</td>\n",
              "      <td>0.9627</td>\n",
              "      <td>pos</td>\n",
              "      <td>0.944286</td>\n",
              "    </tr>\n",
              "    <tr>\n",
              "      <th>4</th>\n",
              "      <td>817532</td>\n",
              "      <td>50646</td>\n",
              "      <td>2014-07-08</td>\n",
              "      <td>We had a great experience. A nice place, an am...</td>\n",
              "      <td>80.0</td>\n",
              "      <td>0.9274</td>\n",
              "      <td>pos</td>\n",
              "      <td>0.944286</td>\n",
              "    </tr>\n",
              "  </tbody>\n",
              "</table>\n",
              "</div>"
            ],
            "text/plain": [
              "   reviewer_id  listing_id  ... sentiment overall_review\n",
              "0      8557223       49091  ...       pos       0.934286\n",
              "1      1356099       50646  ...       pos       0.944286\n",
              "2     15222393       50646  ...       pos       0.944286\n",
              "3      5543172       50646  ...       pos       0.944286\n",
              "4       817532       50646  ...       pos       0.944286\n",
              "\n",
              "[5 rows x 8 columns]"
            ]
          },
          "metadata": {
            "tags": []
          },
          "execution_count": 45
        }
      ]
    },
    {
      "cell_type": "code",
      "metadata": {
        "id": "H79tT558_L_0"
      },
      "source": [
        "df_hr['preference'] = (df_hr['polarity_score']+1)*df_hr['overall_review']/2\n",
        "df_hr = df_hr.drop(columns = ['date','comments','polarity_score','overall_review','sentiment'])"
      ],
      "execution_count": 46,
      "outputs": []
    },
    {
      "cell_type": "code",
      "metadata": {
        "colab": {
          "base_uri": "https://localhost:8080/",
          "height": 297
        },
        "id": "ktbsKmCkCAfR",
        "outputId": "b65b3cff-8614-414e-e5fd-e2f9abc14dbf"
      },
      "source": [
        "df_hr.describe()"
      ],
      "execution_count": 47,
      "outputs": [
        {
          "output_type": "execute_result",
          "data": {
            "text/html": [
              "<div>\n",
              "<style scoped>\n",
              "    .dataframe tbody tr th:only-of-type {\n",
              "        vertical-align: middle;\n",
              "    }\n",
              "\n",
              "    .dataframe tbody tr th {\n",
              "        vertical-align: top;\n",
              "    }\n",
              "\n",
              "    .dataframe thead th {\n",
              "        text-align: right;\n",
              "    }\n",
              "</style>\n",
              "<table border=\"1\" class=\"dataframe\">\n",
              "  <thead>\n",
              "    <tr style=\"text-align: right;\">\n",
              "      <th></th>\n",
              "      <th>reviewer_id</th>\n",
              "      <th>listing_id</th>\n",
              "      <th>price</th>\n",
              "      <th>preference</th>\n",
              "    </tr>\n",
              "  </thead>\n",
              "  <tbody>\n",
              "    <tr>\n",
              "      <th>count</th>\n",
              "      <td>1.306020e+05</td>\n",
              "      <td>1.306020e+05</td>\n",
              "      <td>130602.000000</td>\n",
              "      <td>130602.000000</td>\n",
              "    </tr>\n",
              "    <tr>\n",
              "      <th>mean</th>\n",
              "      <td>9.486763e+07</td>\n",
              "      <td>1.719744e+07</td>\n",
              "      <td>133.235578</td>\n",
              "      <td>0.827837</td>\n",
              "    </tr>\n",
              "    <tr>\n",
              "      <th>std</th>\n",
              "      <td>8.335650e+07</td>\n",
              "      <td>1.036867e+07</td>\n",
              "      <td>134.407248</td>\n",
              "      <td>0.160834</td>\n",
              "    </tr>\n",
              "    <tr>\n",
              "      <th>min</th>\n",
              "      <td>2.770000e+02</td>\n",
              "      <td>4.909100e+04</td>\n",
              "      <td>0.000000</td>\n",
              "      <td>0.001640</td>\n",
              "    </tr>\n",
              "    <tr>\n",
              "      <th>25%</th>\n",
              "      <td>2.741515e+07</td>\n",
              "      <td>8.364495e+06</td>\n",
              "      <td>62.000000</td>\n",
              "      <td>0.776743</td>\n",
              "    </tr>\n",
              "    <tr>\n",
              "      <th>50%</th>\n",
              "      <td>6.787791e+07</td>\n",
              "      <td>1.650210e+07</td>\n",
              "      <td>100.000000</td>\n",
              "      <td>0.875138</td>\n",
              "    </tr>\n",
              "    <tr>\n",
              "      <th>75%</th>\n",
              "      <td>1.452399e+08</td>\n",
              "      <td>2.400210e+07</td>\n",
              "      <td>169.000000</td>\n",
              "      <td>0.933538</td>\n",
              "    </tr>\n",
              "    <tr>\n",
              "      <th>max</th>\n",
              "      <td>3.850473e+08</td>\n",
              "      <td>4.729685e+07</td>\n",
              "      <td>9999.000000</td>\n",
              "      <td>0.999850</td>\n",
              "    </tr>\n",
              "  </tbody>\n",
              "</table>\n",
              "</div>"
            ],
            "text/plain": [
              "        reviewer_id    listing_id          price     preference\n",
              "count  1.306020e+05  1.306020e+05  130602.000000  130602.000000\n",
              "mean   9.486763e+07  1.719744e+07     133.235578       0.827837\n",
              "std    8.335650e+07  1.036867e+07     134.407248       0.160834\n",
              "min    2.770000e+02  4.909100e+04       0.000000       0.001640\n",
              "25%    2.741515e+07  8.364495e+06      62.000000       0.776743\n",
              "50%    6.787791e+07  1.650210e+07     100.000000       0.875138\n",
              "75%    1.452399e+08  2.400210e+07     169.000000       0.933538\n",
              "max    3.850473e+08  4.729685e+07    9999.000000       0.999850"
            ]
          },
          "metadata": {
            "tags": []
          },
          "execution_count": 47
        }
      ]
    },
    {
      "cell_type": "code",
      "metadata": {
        "id": "jU32TCNfAZeI"
      },
      "source": [
        "reader = Reader(rating_scale=(0, 1))\n",
        "data = Dataset.load_from_df(df_hr[['reviewer_id', 'listing_id', 'preference']], reader)\n",
        "data_hr = data"
      ],
      "execution_count": 48,
      "outputs": []
    },
    {
      "cell_type": "code",
      "metadata": {
        "id": "DT6DzwCZQw65"
      },
      "source": [
        "raw_ratings = data.raw_ratings\n",
        "\n",
        "import random\n",
        "random.shuffle(raw_ratings)\n",
        "\n",
        "# A = 90% of the data, B = 10% of the data\n",
        "threshold = int(0.9 * len(raw_ratings))\n",
        "A_raw_ratings = raw_ratings[:threshold]\n",
        "B_raw_ratings = raw_ratings[threshold:]\n",
        "\n",
        "data.raw_ratings = A_raw_ratings  # data is now the set A"
      ],
      "execution_count": 49,
      "outputs": []
    },
    {
      "cell_type": "code",
      "metadata": {
        "colab": {
          "background_save": true,
          "base_uri": "https://localhost:8080/"
        },
        "id": "cM992mdtCK0g",
        "outputId": "bde7973d-44aa-4fde-f2a7-1d08a110bc59"
      },
      "source": [
        "# Select your best algo with grid search.\n",
        "print('Grid Search...')\n",
        "\n",
        "param_grid = {'n_epochs': [5, 10, 20], 'lr_all': [0.002, 0.005, 0.1],\n",
        "              'reg_all': [0.4, 0.6], 'n_factors':[100,200,500]} # tuning\n",
        "grid_search = GridSearchCV(SVD, param_grid, measures=['rmse','mae'], cv=3)\n",
        "grid_search.fit(data)\n",
        "print('best RMSE score')\n",
        "print(grid_search.best_score['rmse'])"
      ],
      "execution_count": null,
      "outputs": [
        {
          "output_type": "stream",
          "text": [
            "Grid Search...\n"
          ],
          "name": "stdout"
        }
      ]
    },
    {
      "cell_type": "code",
      "metadata": {
        "colab": {
          "background_save": true
        },
        "id": "ds1nxEs1DZWD"
      },
      "source": [
        "print('combination of parameters that gave the best RMSE score')\n",
        "print(grid_search.best_params['rmse'])\n",
        "algo = grid_search.best_estimator['rmse']"
      ],
      "execution_count": null,
      "outputs": []
    },
    {
      "cell_type": "code",
      "metadata": {
        "colab": {
          "background_save": true
        },
        "id": "70PfBioUDcG9"
      },
      "source": [
        "# retrain on the whole set A\n",
        "trainset = data.build_full_trainset()\n",
        "algo.fit(trainset)\n",
        "\n",
        "# Compute biased accuracy on A\n",
        "testset= trainset.build_testset()\n",
        "predictions = algo.test(testset)\n",
        "print('Biased accuracy on A,', end='   ')\n",
        "accuracy.rmse(predictions,verbose=True)\n",
        "print('len(predictions)')\n",
        "print(len(predictions))"
      ],
      "execution_count": null,
      "outputs": []
    },
    {
      "cell_type": "code",
      "metadata": {
        "colab": {
          "background_save": true
        },
        "id": "ftawTRFoDjS-"
      },
      "source": [
        "# Compute unbiased accuracy on B\n",
        "testset = data.construct_testset(B_raw_ratings)  # testset is now the set B\n",
        "predictions = algo.test(testset)\n",
        "print('Unbiased accuracy on B,', end=' ')\n",
        "accuracy.rmse(predictions)\n",
        "print('len(predictions)')\n",
        "print(len(predictions))"
      ],
      "execution_count": null,
      "outputs": []
    },
    {
      "cell_type": "code",
      "metadata": {
        "colab": {
          "background_save": true
        },
        "id": "UjBBXuRBDm6f"
      },
      "source": [
        "# define a cross-validation iterator\n",
        "kf = KFold(n_splits=7)\n",
        "algo = SVD(n_factors=100, n_epochs=5, lr_all=0.1) # update\n",
        "\n",
        "for trainset, testset in kf.split(data_hr):\n",
        "    # train and test algorithm.\n",
        "    algo.fit(trainset)\n",
        "    \n",
        "    predictions = algo.test(testset)\n",
        "    \n",
        "    # Compute and print Root Mean Squared Error\n",
        "    accuracy.rmse(predictions, verbose=True)"
      ],
      "execution_count": null,
      "outputs": []
    },
    {
      "cell_type": "code",
      "metadata": {
        "id": "HAFOQdLHDnYm"
      },
      "source": [
        "# retrain on the whole set A\n",
        "trainset = data.build_full_trainset()\n",
        "algo.fit(trainset)\n",
        "\n",
        "testset= trainset.build_anti_testset()\n",
        "predictionsAll = algo.test(testset)\n",
        "print('Accuracy on whole data set,', end='   ')\n",
        "accuracy.rmse(predictionsAll,verbose=True)\n",
        "print('len(predictions)')\n",
        "print(len(predictionsAll))"
      ],
      "execution_count": null,
      "outputs": []
    },
    {
      "cell_type": "code",
      "metadata": {
        "id": "fNNZI7yBDpzU"
      },
      "source": [
        "def get_top3_recommendations(predictions, topN = 3):    \n",
        "    top_recs = defaultdict(list)\n",
        "    for uid, iid, true_r, est, _ in predictions:\n",
        "        top_recs[uid].append((iid, est))\n",
        "     \n",
        "    for uid, user_ratings in top_recs.items():\n",
        "        user_ratings.sort(key = lambda x: x[1], reverse = True)\n",
        "        top_recs[uid] = user_ratings[:topN]    \n",
        "    return top_recs\n",
        "print('getting top 3 recommendations')"
      ],
      "execution_count": null,
      "outputs": []
    },
    {
      "cell_type": "code",
      "metadata": {
        "id": "l2jTR88lDtoz"
      },
      "source": [
        "top3_recommendations = get_top3_recommendations(predictionsAll,3)"
      ],
      "execution_count": null,
      "outputs": []
    },
    {
      "cell_type": "code",
      "metadata": {
        "id": "mCgF-KVwDwhv"
      },
      "source": [
        "dfo = pd.DataFrame(columns=['UserId', 'Recommended Listing, Rating'])\n",
        "i=0;\n",
        "for uid, user_ratings in top3_recommendations.items():\n",
        "    row = [uid, top3_recommendations[uid]]\n",
        "    dfo.loc[i] = row\n",
        "    i=i+1\n",
        "dfo.to_csv('/content/drive/My Drive/BT4222_Project/svd_prediction_on_preference).csv', index = False)"
      ],
      "execution_count": null,
      "outputs": []
    }
  ]
}