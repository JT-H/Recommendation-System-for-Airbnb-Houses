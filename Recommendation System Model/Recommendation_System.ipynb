{
 "cells": [
  {
   "cell_type": "code",
   "execution_count": 1,
   "metadata": {
    "colab": {
     "base_uri": "https://localhost:8080/"
    },
    "id": "GB-yJoDG2xfF",
    "outputId": "1a554ab9-1565-4043-89cb-bff1b2a5dfe7"
   },
   "outputs": [
    {
     "name": "stdout",
     "output_type": "stream",
     "text": [
      "Mounted at /content/drive\n"
     ]
    }
   ],
   "source": [
    "from google.colab import drive\n",
    "drive.mount('/content/drive')"
   ]
  },
  {
   "cell_type": "code",
   "execution_count": 2,
   "metadata": {
    "id": "QgqgGoCi3B9F"
   },
   "outputs": [],
   "source": [
    "import pandas as pd"
   ]
  },
  {
   "cell_type": "code",
   "execution_count": 3,
   "metadata": {
    "id": "4cmcvGVO3Ccd"
   },
   "outputs": [],
   "source": [
    "listings=pd.read_csv(\"/content/drive/My Drive/BT4222_Project/final_datasets/listings_final_version.csv\")\n",
    "customers=pd.read_csv(\"/content/drive/My Drive/BT4222_Project/final_datasets/customers_final_version.csv\")"
   ]
  },
  {
   "cell_type": "code",
   "execution_count": 4,
   "metadata": {
    "colab": {
     "base_uri": "https://localhost:8080/"
    },
    "id": "p5twMJ0c3PaA",
    "outputId": "85305d37-9bbe-420e-d393-05792017e209"
   },
   "outputs": [
    {
     "name": "stdout",
     "output_type": "stream",
     "text": [
      "<class 'pandas.core.frame.DataFrame'>\n",
      "RangeIndex: 12222 entries, 0 to 12221\n",
      "Data columns (total 68 columns):\n",
      " #   Column                          Non-Null Count  Dtype  \n",
      "---  ------                          --------------  -----  \n",
      " 0   id                              12222 non-null  int64  \n",
      " 1   description                     12222 non-null  object \n",
      " 2   host_since                      12222 non-null  object \n",
      " 3   host_is_superhost               12222 non-null  int64  \n",
      " 4   latitude                        12222 non-null  float64\n",
      " 5   longitude                       12222 non-null  float64\n",
      " 6   accommodates                    12222 non-null  int64  \n",
      " 7   bathrooms                       12222 non-null  float64\n",
      " 8   bedrooms                        12222 non-null  float64\n",
      " 9   beds                            12222 non-null  float64\n",
      " 10  amenities                       12222 non-null  object \n",
      " 11  price                           12222 non-null  float64\n",
      " 12  minimum_nights                  12222 non-null  int64  \n",
      " 13  maximum_nights                  12222 non-null  int64  \n",
      " 14  maximum_nights_avg_ntm          12222 non-null  float64\n",
      " 15  number_of_reviews_ltm           12222 non-null  int64  \n",
      " 16  instant_bookable                12222 non-null  int64  \n",
      " 17  calculated_host_listings_count  12222 non-null  int64  \n",
      " 18  nearby_sites_rating             12222 non-null  float64\n",
      " 19  nearest_station_dist            12222 non-null  float64\n",
      " 20  nearest_site_dist               12222 non-null  float64\n",
      " 21  nearest_site_rating             12222 non-null  float64\n",
      " 22  host_response_time_cross_rate   12222 non-null  float64\n",
      " 23  email                           12222 non-null  int64  \n",
      " 24  phone                           12222 non-null  int64  \n",
      " 25  reviews                         12222 non-null  int64  \n",
      " 26  jumio                           12222 non-null  int64  \n",
      " 27  offline_government_id           12222 non-null  int64  \n",
      " 28  selfie                          12222 non-null  int64  \n",
      " 29  government_id                   12222 non-null  int64  \n",
      " 30  identity_manual                 12222 non-null  int64  \n",
      " 31  work_email                      12222 non-null  int64  \n",
      " 32  manual_online                   12222 non-null  int64  \n",
      " 33  manual_offline                  12222 non-null  int64  \n",
      " 34  x0_Central Region               12222 non-null  float64\n",
      " 35  x0_East Region                  12222 non-null  float64\n",
      " 36  x0_North Region                 12222 non-null  float64\n",
      " 37  x0_North-East Region            12222 non-null  float64\n",
      " 38  x0_West Region                  12222 non-null  float64\n",
      " 39  x0_apartment                    12222 non-null  float64\n",
      " 40  x0_bed and breakfast            12222 non-null  float64\n",
      " 41  x0_boat                         12222 non-null  float64\n",
      " 42  x0_boutique hotel               12222 non-null  float64\n",
      " 43  x0_bungalow                     12222 non-null  float64\n",
      " 44  x0_condominium                  12222 non-null  float64\n",
      " 45  x0_guest suite                  12222 non-null  float64\n",
      " 46  x0_hostel                       12222 non-null  float64\n",
      " 47  x0_hotel                        12222 non-null  float64\n",
      " 48  x0_house                        12222 non-null  float64\n",
      " 49  x0_loft                         12222 non-null  float64\n",
      " 50  x0_other                        12222 non-null  float64\n",
      " 51  x0_townhouse                    12222 non-null  float64\n",
      " 52  x0_Entire home/apt              12222 non-null  float64\n",
      " 53  x0_Hotel room                   12222 non-null  float64\n",
      " 54  x0_Private room                 12222 non-null  float64\n",
      " 55  x0_Shared room                  12222 non-null  float64\n",
      " 56  amenities_list                  12222 non-null  object \n",
      " 57  Wifi                            12222 non-null  int64  \n",
      " 58  Air conditioning                12222 non-null  int64  \n",
      " 59  Kitchen                         12222 non-null  int64  \n",
      " 60  Parking                         12222 non-null  int64  \n",
      " 61  Outdoor                         12222 non-null  int64  \n",
      " 62  Kids                            12222 non-null  int64  \n",
      " 63  Pets allowed                    12222 non-null  int64  \n",
      " 64  Workspace                       12222 non-null  int64  \n",
      " 65  Gym                             12222 non-null  int64  \n",
      " 66  Breakfast                       12222 non-null  int64  \n",
      " 67  availability_average            12222 non-null  float64\n",
      "dtypes: float64(35), int64(29), object(4)\n",
      "memory usage: 6.3+ MB\n"
     ]
    }
   ],
   "source": [
    "listings.info()"
   ]
  },
  {
   "cell_type": "code",
   "execution_count": 5,
   "metadata": {
    "colab": {
     "base_uri": "https://localhost:8080/"
    },
    "id": "w6msZXGK3S-q",
    "outputId": "91d453ea-ccbd-407a-eb63-3c816a93767b"
   },
   "outputs": [
    {
     "name": "stdout",
     "output_type": "stream",
     "text": [
      "<class 'pandas.core.frame.DataFrame'>\n",
      "RangeIndex: 130602 entries, 0 to 130601\n",
      "Data columns (total 14 columns):\n",
      " #   Column                       Non-Null Count   Dtype  \n",
      "---  ------                       --------------   -----  \n",
      " 0   reviewer_id                  130602 non-null  int64  \n",
      " 1   listing_id                   130602 non-null  int64  \n",
      " 2   date                         130602 non-null  object \n",
      " 3   comments                     130602 non-null  object \n",
      " 4   price                        130602 non-null  float64\n",
      " 5   review_scores_rating         130602 non-null  float64\n",
      " 6   review_scores_accuracy       130602 non-null  float64\n",
      " 7   review_scores_cleanliness    130602 non-null  float64\n",
      " 8   review_scores_checkin        130602 non-null  float64\n",
      " 9   review_scores_communication  130602 non-null  float64\n",
      " 10  review_scores_location       130602 non-null  float64\n",
      " 11  review_scores_value          130602 non-null  float64\n",
      " 12  polarity_score               130602 non-null  float64\n",
      " 13  sentiment                    130602 non-null  object \n",
      "dtypes: float64(9), int64(2), object(3)\n",
      "memory usage: 13.9+ MB\n"
     ]
    }
   ],
   "source": [
    "customers.info()"
   ]
  },
  {
   "cell_type": "markdown",
   "metadata": {
    "id": "s7YAd_rI3bmY"
   },
   "source": [
    "# Knowledge Recommender"
   ]
  },
  {
   "cell_type": "code",
   "execution_count": 6,
   "metadata": {
    "id": "cExBZYQm3jWt"
   },
   "outputs": [],
   "source": [
    "import pandas as pd\n",
    "import numpy as np"
   ]
  },
  {
   "cell_type": "code",
   "execution_count": 7,
   "metadata": {
    "id": "bPO2WYPzUpis"
   },
   "outputs": [],
   "source": [
    "df_hr = customers.copy()\n",
    "df_hr['overall_review'] = (df_hr.review_scores_rating/100 + (df_hr.review_scores_accuracy + df_hr.review_scores_cleanliness + df_hr.review_scores_checkin + \\\n",
    "df_hr.review_scores_communication + df_hr.review_scores_location + df_hr.review_scores_value)/10)/7\n",
    "df_hr = df_hr.drop(columns = ['review_scores_rating','review_scores_accuracy','review_scores_cleanliness','review_scores_checkin','review_scores_communication','review_scores_location','review_scores_value'])"
   ]
  },
  {
   "cell_type": "code",
   "execution_count": 8,
   "metadata": {
    "id": "UI7WqhtNU7vs"
   },
   "outputs": [],
   "source": [
    "df_hr['preference'] = (df_hr['polarity_score']+1)*df_hr['overall_review']/2\n",
    "df_hr = df_hr.drop(columns = ['date','comments','polarity_score','overall_review','sentiment'])"
   ]
  },
  {
   "cell_type": "code",
   "execution_count": 9,
   "metadata": {
    "id": "1-YxWPfYVFL6"
   },
   "outputs": [],
   "source": [
    "table_customer = pd.pivot_table(df_hr,index='listing_id')"
   ]
  },
  {
   "cell_type": "code",
   "execution_count": 10,
   "metadata": {
    "colab": {
     "base_uri": "https://localhost:8080/",
     "height": 297
    },
    "id": "Qnluw0jcVH5d",
    "outputId": "ea8f2e0e-3d37-48a0-c76e-12c4f70c07b1"
   },
   "outputs": [
    {
     "data": {
      "text/html": [
       "<div>\n",
       "<style scoped>\n",
       "    .dataframe tbody tr th:only-of-type {\n",
       "        vertical-align: middle;\n",
       "    }\n",
       "\n",
       "    .dataframe tbody tr th {\n",
       "        vertical-align: top;\n",
       "    }\n",
       "\n",
       "    .dataframe thead th {\n",
       "        text-align: right;\n",
       "    }\n",
       "</style>\n",
       "<table border=\"1\" class=\"dataframe\">\n",
       "  <thead>\n",
       "    <tr style=\"text-align: right;\">\n",
       "      <th></th>\n",
       "      <th>preference</th>\n",
       "      <th>price</th>\n",
       "      <th>reviewer_id</th>\n",
       "    </tr>\n",
       "  </thead>\n",
       "  <tbody>\n",
       "    <tr>\n",
       "      <th>count</th>\n",
       "      <td>8154.000000</td>\n",
       "      <td>8154.000000</td>\n",
       "      <td>8.154000e+03</td>\n",
       "    </tr>\n",
       "    <tr>\n",
       "      <th>mean</th>\n",
       "      <td>0.792432</td>\n",
       "      <td>146.504460</td>\n",
       "      <td>1.114148e+08</td>\n",
       "    </tr>\n",
       "    <tr>\n",
       "      <th>std</th>\n",
       "      <td>0.164599</td>\n",
       "      <td>225.803786</td>\n",
       "      <td>6.839374e+07</td>\n",
       "    </tr>\n",
       "    <tr>\n",
       "      <th>min</th>\n",
       "      <td>0.001640</td>\n",
       "      <td>10.800000</td>\n",
       "      <td>3.538400e+04</td>\n",
       "    </tr>\n",
       "    <tr>\n",
       "      <th>25%</th>\n",
       "      <td>0.738336</td>\n",
       "      <td>62.333333</td>\n",
       "      <td>6.299261e+07</td>\n",
       "    </tr>\n",
       "    <tr>\n",
       "      <th>50%</th>\n",
       "      <td>0.831885</td>\n",
       "      <td>110.000000</td>\n",
       "      <td>1.000677e+08</td>\n",
       "    </tr>\n",
       "    <tr>\n",
       "      <th>75%</th>\n",
       "      <td>0.897666</td>\n",
       "      <td>180.000000</td>\n",
       "      <td>1.448609e+08</td>\n",
       "    </tr>\n",
       "    <tr>\n",
       "      <th>max</th>\n",
       "      <td>0.999550</td>\n",
       "      <td>9999.000000</td>\n",
       "      <td>3.829120e+08</td>\n",
       "    </tr>\n",
       "  </tbody>\n",
       "</table>\n",
       "</div>"
      ],
      "text/plain": [
       "        preference        price   reviewer_id\n",
       "count  8154.000000  8154.000000  8.154000e+03\n",
       "mean      0.792432   146.504460  1.114148e+08\n",
       "std       0.164599   225.803786  6.839374e+07\n",
       "min       0.001640    10.800000  3.538400e+04\n",
       "25%       0.738336    62.333333  6.299261e+07\n",
       "50%       0.831885   110.000000  1.000677e+08\n",
       "75%       0.897666   180.000000  1.448609e+08\n",
       "max       0.999550  9999.000000  3.829120e+08"
      ]
     },
     "execution_count": 10,
     "metadata": {
      "tags": []
     },
     "output_type": "execute_result"
    }
   ],
   "source": [
    "table_customer.describe()"
   ]
  },
  {
   "cell_type": "code",
   "execution_count": 11,
   "metadata": {
    "id": "5b3R6bYpVJVI"
   },
   "outputs": [],
   "source": [
    "preference_dict = {}\n",
    "for index, data in table_customer.iterrows():\n",
    "  preference_dict[index] = data[0]"
   ]
  },
  {
   "cell_type": "code",
   "execution_count": 12,
   "metadata": {
    "id": "hI3HkalVVMcy"
   },
   "outputs": [],
   "source": [
    "listings['preference'] = listings[\"id\"].apply(lambda x: preference_dict[x] if x in preference_dict.keys() else 0.792432) #if not found in customers then use the mean value as preference"
   ]
  },
  {
   "cell_type": "code",
   "execution_count": 13,
   "metadata": {
    "id": "pu3WGgXK4Qod"
   },
   "outputs": [],
   "source": [
    "df_kr = listings[['host_is_superhost', 'nearby_sites_rating', 'bathrooms', 'bedrooms', 'beds', 'instant_bookable','amenities_list', 'price', 'preference']]"
   ]
  },
  {
   "cell_type": "code",
   "execution_count": 15,
   "metadata": {
    "colab": {
     "base_uri": "https://localhost:8080/",
     "height": 374
    },
    "id": "25ZYcwPs5BY3",
    "outputId": "0e62c757-be87-4410-b996-395fc73a0214"
   },
   "outputs": [
    {
     "data": {
      "text/html": [
       "<div>\n",
       "<style scoped>\n",
       "    .dataframe tbody tr th:only-of-type {\n",
       "        vertical-align: middle;\n",
       "    }\n",
       "\n",
       "    .dataframe tbody tr th {\n",
       "        vertical-align: top;\n",
       "    }\n",
       "\n",
       "    .dataframe thead th {\n",
       "        text-align: right;\n",
       "    }\n",
       "</style>\n",
       "<table border=\"1\" class=\"dataframe\">\n",
       "  <thead>\n",
       "    <tr style=\"text-align: right;\">\n",
       "      <th></th>\n",
       "      <th>host_is_superhost</th>\n",
       "      <th>nearby_sites_rating</th>\n",
       "      <th>bathrooms</th>\n",
       "      <th>bedrooms</th>\n",
       "      <th>beds</th>\n",
       "      <th>instant_bookable</th>\n",
       "      <th>amenities_list</th>\n",
       "      <th>price</th>\n",
       "      <th>preference</th>\n",
       "    </tr>\n",
       "  </thead>\n",
       "  <tbody>\n",
       "    <tr>\n",
       "      <th>0</th>\n",
       "      <td>0</td>\n",
       "      <td>1.135049</td>\n",
       "      <td>1.0</td>\n",
       "      <td>1.0</td>\n",
       "      <td>1.0</td>\n",
       "      <td>0</td>\n",
       "      <td>['TV', 'Cable TV', 'Wifi', 'Air conditioning',...</td>\n",
       "      <td>200.0</td>\n",
       "      <td>0.894053</td>\n",
       "    </tr>\n",
       "    <tr>\n",
       "      <th>1</th>\n",
       "      <td>0</td>\n",
       "      <td>1.288425</td>\n",
       "      <td>1.0</td>\n",
       "      <td>1.0</td>\n",
       "      <td>1.0</td>\n",
       "      <td>0</td>\n",
       "      <td>['TV', 'Cable TV', 'Internet', 'Wifi', 'Air co...</td>\n",
       "      <td>76.0</td>\n",
       "      <td>0.893712</td>\n",
       "    </tr>\n",
       "    <tr>\n",
       "      <th>2</th>\n",
       "      <td>0</td>\n",
       "      <td>1.982270</td>\n",
       "      <td>1.0</td>\n",
       "      <td>1.0</td>\n",
       "      <td>1.0</td>\n",
       "      <td>0</td>\n",
       "      <td>['Internet', 'Wifi', 'Air conditioning', 'Pool...</td>\n",
       "      <td>80.0</td>\n",
       "      <td>0.792432</td>\n",
       "    </tr>\n",
       "    <tr>\n",
       "      <th>3</th>\n",
       "      <td>0</td>\n",
       "      <td>2.550789</td>\n",
       "      <td>1.0</td>\n",
       "      <td>0.0</td>\n",
       "      <td>3.0</td>\n",
       "      <td>0</td>\n",
       "      <td>['TV', 'Internet', 'Wifi', 'Air conditioning',...</td>\n",
       "      <td>143.0</td>\n",
       "      <td>0.817946</td>\n",
       "    </tr>\n",
       "    <tr>\n",
       "      <th>4</th>\n",
       "      <td>0</td>\n",
       "      <td>1.689570</td>\n",
       "      <td>1.0</td>\n",
       "      <td>1.0</td>\n",
       "      <td>1.0</td>\n",
       "      <td>0</td>\n",
       "      <td>['TV', 'Wifi', 'Air conditioning', 'Kitchen', ...</td>\n",
       "      <td>85.0</td>\n",
       "      <td>0.942308</td>\n",
       "    </tr>\n",
       "  </tbody>\n",
       "</table>\n",
       "</div>"
      ],
      "text/plain": [
       "   host_is_superhost  nearby_sites_rating  ...  price  preference\n",
       "0                  0             1.135049  ...  200.0    0.894053\n",
       "1                  0             1.288425  ...   76.0    0.893712\n",
       "2                  0             1.982270  ...   80.0    0.792432\n",
       "3                  0             2.550789  ...  143.0    0.817946\n",
       "4                  0             1.689570  ...   85.0    0.942308\n",
       "\n",
       "[5 rows x 9 columns]"
      ]
     },
     "execution_count": 15,
     "metadata": {
      "tags": []
     },
     "output_type": "execute_result"
    }
   ],
   "source": [
    "df_kr.head()"
   ]
  },
  {
   "cell_type": "code",
   "execution_count": 16,
   "metadata": {
    "id": "5fr-b86g5giR"
   },
   "outputs": [],
   "source": [
    "def build_chart(df, host_is_superhost, nearby_sites_rating, bathrooms, bedrooms, beds, instant_bookable, *amenities):\n",
    "    listings = df.copy()\n",
    "    \n",
    "    # Filter based on the condition\n",
    "    listings = listings[(listings['host_is_superhost'] == host_is_superhost) & \n",
    "                    (listings['nearby_sites_rating'] >= nearby_sites_rating) & \n",
    "                    (listings['bathrooms'] >= bathrooms) & \n",
    "                    (listings['bedrooms'] >= bedrooms) & \n",
    "                    (listings['beds'] >= beds) &\n",
    "                    (listings['instant_bookable'] == instant_bookable)]\n",
    "\n",
    "    for a in amenities:\n",
    "      listings = listings[listings['amenities_list'].str.contains(a)]\n",
    "\n",
    "    q_listings = listings.sort_values('preference',ascending=False)\n",
    "    \n",
    "    return q_listings"
   ]
  },
  {
   "cell_type": "code",
   "execution_count": 17,
   "metadata": {
    "colab": {
     "base_uri": "https://localhost:8080/",
     "height": 394
    },
    "id": "2dVFUClfCfR8",
    "outputId": "0d25d5f0-4cdc-476b-eb1f-5be37b9f3322"
   },
   "outputs": [
    {
     "data": {
      "text/html": [
       "<div>\n",
       "<style scoped>\n",
       "    .dataframe tbody tr th:only-of-type {\n",
       "        vertical-align: middle;\n",
       "    }\n",
       "\n",
       "    .dataframe tbody tr th {\n",
       "        vertical-align: top;\n",
       "    }\n",
       "\n",
       "    .dataframe thead th {\n",
       "        text-align: right;\n",
       "    }\n",
       "</style>\n",
       "<table border=\"1\" class=\"dataframe\">\n",
       "  <thead>\n",
       "    <tr style=\"text-align: right;\">\n",
       "      <th></th>\n",
       "      <th>host_is_superhost</th>\n",
       "      <th>nearby_sites_rating</th>\n",
       "      <th>bathrooms</th>\n",
       "      <th>bedrooms</th>\n",
       "      <th>beds</th>\n",
       "      <th>instant_bookable</th>\n",
       "      <th>amenities_list</th>\n",
       "      <th>price</th>\n",
       "      <th>preference</th>\n",
       "    </tr>\n",
       "  </thead>\n",
       "  <tbody>\n",
       "    <tr>\n",
       "      <th>6326</th>\n",
       "      <td>1</td>\n",
       "      <td>2.495057</td>\n",
       "      <td>2.0</td>\n",
       "      <td>3.0</td>\n",
       "      <td>4.0</td>\n",
       "      <td>0</td>\n",
       "      <td>['TV', 'Cable TV', 'Wifi', 'Air conditioning',...</td>\n",
       "      <td>460.0</td>\n",
       "      <td>0.959291</td>\n",
       "    </tr>\n",
       "    <tr>\n",
       "      <th>6189</th>\n",
       "      <td>1</td>\n",
       "      <td>2.881733</td>\n",
       "      <td>2.0</td>\n",
       "      <td>2.0</td>\n",
       "      <td>2.0</td>\n",
       "      <td>0</td>\n",
       "      <td>['TV', 'Cable TV', 'Internet', 'Wifi', 'Air co...</td>\n",
       "      <td>205.0</td>\n",
       "      <td>0.953954</td>\n",
       "    </tr>\n",
       "    <tr>\n",
       "      <th>6447</th>\n",
       "      <td>1</td>\n",
       "      <td>2.492140</td>\n",
       "      <td>2.0</td>\n",
       "      <td>2.0</td>\n",
       "      <td>2.0</td>\n",
       "      <td>0</td>\n",
       "      <td>['TV', 'Cable TV', 'Wifi', 'Air conditioning',...</td>\n",
       "      <td>330.0</td>\n",
       "      <td>0.951515</td>\n",
       "    </tr>\n",
       "    <tr>\n",
       "      <th>6355</th>\n",
       "      <td>1</td>\n",
       "      <td>3.252219</td>\n",
       "      <td>2.0</td>\n",
       "      <td>3.0</td>\n",
       "      <td>4.0</td>\n",
       "      <td>0</td>\n",
       "      <td>['TV', 'Cable TV', 'Wifi', 'Air conditioning',...</td>\n",
       "      <td>440.0</td>\n",
       "      <td>0.948269</td>\n",
       "    </tr>\n",
       "    <tr>\n",
       "      <th>5600</th>\n",
       "      <td>1</td>\n",
       "      <td>2.334235</td>\n",
       "      <td>2.0</td>\n",
       "      <td>2.0</td>\n",
       "      <td>2.0</td>\n",
       "      <td>0</td>\n",
       "      <td>['TV', 'Wifi', 'Air conditioning', 'Pool', 'Ki...</td>\n",
       "      <td>188.0</td>\n",
       "      <td>0.941568</td>\n",
       "    </tr>\n",
       "  </tbody>\n",
       "</table>\n",
       "</div>"
      ],
      "text/plain": [
       "      host_is_superhost  nearby_sites_rating  ...  price  preference\n",
       "6326                  1             2.495057  ...  460.0    0.959291\n",
       "6189                  1             2.881733  ...  205.0    0.953954\n",
       "6447                  1             2.492140  ...  330.0    0.951515\n",
       "6355                  1             3.252219  ...  440.0    0.948269\n",
       "5600                  1             2.334235  ...  188.0    0.941568\n",
       "\n",
       "[5 rows x 9 columns]"
      ]
     },
     "execution_count": 17,
     "metadata": {
      "tags": []
     },
     "output_type": "execute_result"
    }
   ],
   "source": [
    "build_chart(df_kr, 1, 2, 2, 2, 2, 0, \"TV\", \"Air conditioning\", \"Kitchen\").head()"
   ]
  },
  {
   "cell_type": "code",
   "execution_count": 19,
   "metadata": {
    "id": "SWeXlF3Gjpik"
   },
   "outputs": [],
   "source": [
    "df_kr_new = listings[['host_is_superhost', 'accommodates', 'bathrooms', 'bedrooms', 'beds', 'amenities_list', 'price', 'minimum_nights', 'maximum_nights',\n",
    "                      'instant_bookable', 'x0_Entire home/apt', 'x0_Hotel room', 'x0_Private room', 'x0_Shared room', 'preference']]"
   ]
  },
  {
   "cell_type": "code",
   "execution_count": 20,
   "metadata": {
    "id": "RHR1xfHHkv9R"
   },
   "outputs": [],
   "source": [
    "def build_chart_new(df, host_is_superhost, accommodates, bathrooms, bedrooms, beds, instant_bookable, price_low, price_high, minimum_nights, maximum_nights,\n",
    "                x0_Entire_home_or_apt, x0_Hotel_room, x0_Private_room, x0_Shared_room, *amenities):\n",
    "    listings = df.copy()\n",
    "    \n",
    "    # Filter based on the condition\n",
    "    listings = listings[(listings['host_is_superhost'] == host_is_superhost) & \n",
    "                    (listings['bathrooms'] >= bathrooms) & \n",
    "                    (listings['bedrooms'] >= bedrooms) & \n",
    "                    (listings['beds'] >= beds) &\n",
    "                    (listings['instant_bookable'] == instant_bookable) &\n",
    "                    (price_low <= listings['price']) &\n",
    "                    (listings['price'] <= price_high) &\n",
    "                    (listings['minimum_nights'] <= minimum_nights) &\n",
    "                    (listings['maximum_nights'] >= maximum_nights) &\n",
    "                    (listings['x0_Entire home/apt'] == x0_Entire_home_or_apt) &\n",
    "                    (listings['x0_Hotel room'] == x0_Hotel_room) &\n",
    "                    (listings['x0_Private room'] == x0_Private_room) &\n",
    "                    (listings['x0_Shared room'] == x0_Shared_room)\n",
    "                    ]\n",
    "\n",
    "    for a in amenities:\n",
    "      listings = listings[listings['amenities_list'].str.contains(a)]\n",
    "\n",
    "    q_listings = listings.sort_values('preference',ascending=False)\n",
    "    \n",
    "    return q_listings"
   ]
  },
  {
   "cell_type": "code",
   "execution_count": 21,
   "metadata": {
    "colab": {
     "base_uri": "https://localhost:8080/",
     "height": 411
    },
    "id": "dJ3g3wSdmCjv",
    "outputId": "de455dee-436b-40b7-b8a2-e8ea63face2f"
   },
   "outputs": [
    {
     "data": {
      "text/html": [
       "<div>\n",
       "<style scoped>\n",
       "    .dataframe tbody tr th:only-of-type {\n",
       "        vertical-align: middle;\n",
       "    }\n",
       "\n",
       "    .dataframe tbody tr th {\n",
       "        vertical-align: top;\n",
       "    }\n",
       "\n",
       "    .dataframe thead th {\n",
       "        text-align: right;\n",
       "    }\n",
       "</style>\n",
       "<table border=\"1\" class=\"dataframe\">\n",
       "  <thead>\n",
       "    <tr style=\"text-align: right;\">\n",
       "      <th></th>\n",
       "      <th>host_is_superhost</th>\n",
       "      <th>accommodates</th>\n",
       "      <th>bathrooms</th>\n",
       "      <th>bedrooms</th>\n",
       "      <th>beds</th>\n",
       "      <th>amenities_list</th>\n",
       "      <th>price</th>\n",
       "      <th>minimum_nights</th>\n",
       "      <th>maximum_nights</th>\n",
       "      <th>instant_bookable</th>\n",
       "      <th>x0_Entire home/apt</th>\n",
       "      <th>x0_Hotel room</th>\n",
       "      <th>x0_Private room</th>\n",
       "      <th>x0_Shared room</th>\n",
       "      <th>preference</th>\n",
       "    </tr>\n",
       "  </thead>\n",
       "  <tbody>\n",
       "    <tr>\n",
       "      <th>5437</th>\n",
       "      <td>1</td>\n",
       "      <td>13</td>\n",
       "      <td>2.0</td>\n",
       "      <td>2.0</td>\n",
       "      <td>10.0</td>\n",
       "      <td>['TV', 'Wifi', 'Air conditioning', 'Pool', 'Ki...</td>\n",
       "      <td>435.0</td>\n",
       "      <td>1</td>\n",
       "      <td>1125</td>\n",
       "      <td>1</td>\n",
       "      <td>1.0</td>\n",
       "      <td>0.0</td>\n",
       "      <td>0.0</td>\n",
       "      <td>0.0</td>\n",
       "      <td>0.956423</td>\n",
       "    </tr>\n",
       "    <tr>\n",
       "      <th>5310</th>\n",
       "      <td>1</td>\n",
       "      <td>6</td>\n",
       "      <td>2.0</td>\n",
       "      <td>2.0</td>\n",
       "      <td>2.0</td>\n",
       "      <td>['TV', 'Cable TV', 'Wifi', 'Air conditioning',...</td>\n",
       "      <td>356.0</td>\n",
       "      <td>1</td>\n",
       "      <td>1125</td>\n",
       "      <td>1</td>\n",
       "      <td>1.0</td>\n",
       "      <td>0.0</td>\n",
       "      <td>0.0</td>\n",
       "      <td>0.0</td>\n",
       "      <td>0.943231</td>\n",
       "    </tr>\n",
       "    <tr>\n",
       "      <th>4620</th>\n",
       "      <td>1</td>\n",
       "      <td>6</td>\n",
       "      <td>2.0</td>\n",
       "      <td>2.0</td>\n",
       "      <td>5.0</td>\n",
       "      <td>['TV', 'Cable TV', 'Wifi', 'Air conditioning',...</td>\n",
       "      <td>320.0</td>\n",
       "      <td>1</td>\n",
       "      <td>1124</td>\n",
       "      <td>1</td>\n",
       "      <td>1.0</td>\n",
       "      <td>0.0</td>\n",
       "      <td>0.0</td>\n",
       "      <td>0.0</td>\n",
       "      <td>0.939068</td>\n",
       "    </tr>\n",
       "    <tr>\n",
       "      <th>1016</th>\n",
       "      <td>1</td>\n",
       "      <td>13</td>\n",
       "      <td>6.0</td>\n",
       "      <td>6.0</td>\n",
       "      <td>8.0</td>\n",
       "      <td>['TV', 'Wifi', 'Air conditioning', 'Pool', 'Ki...</td>\n",
       "      <td>1100.0</td>\n",
       "      <td>1</td>\n",
       "      <td>1125</td>\n",
       "      <td>1</td>\n",
       "      <td>1.0</td>\n",
       "      <td>0.0</td>\n",
       "      <td>0.0</td>\n",
       "      <td>0.0</td>\n",
       "      <td>0.934769</td>\n",
       "    </tr>\n",
       "    <tr>\n",
       "      <th>4625</th>\n",
       "      <td>1</td>\n",
       "      <td>6</td>\n",
       "      <td>2.0</td>\n",
       "      <td>2.0</td>\n",
       "      <td>2.0</td>\n",
       "      <td>['TV', 'Cable TV', 'Wifi', 'Air conditioning',...</td>\n",
       "      <td>401.0</td>\n",
       "      <td>1</td>\n",
       "      <td>1125</td>\n",
       "      <td>1</td>\n",
       "      <td>1.0</td>\n",
       "      <td>0.0</td>\n",
       "      <td>0.0</td>\n",
       "      <td>0.0</td>\n",
       "      <td>0.933475</td>\n",
       "    </tr>\n",
       "  </tbody>\n",
       "</table>\n",
       "</div>"
      ],
      "text/plain": [
       "      host_is_superhost  accommodates  ...  x0_Shared room  preference\n",
       "5437                  1            13  ...             0.0    0.956423\n",
       "5310                  1             6  ...             0.0    0.943231\n",
       "4620                  1             6  ...             0.0    0.939068\n",
       "1016                  1            13  ...             0.0    0.934769\n",
       "4625                  1             6  ...             0.0    0.933475\n",
       "\n",
       "[5 rows x 15 columns]"
      ]
     },
     "execution_count": 21,
     "metadata": {
      "tags": []
     },
     "output_type": "execute_result"
    }
   ],
   "source": [
    "build_chart_new(df_kr_new, 1, 1, 2, 2, 2, 1, 0, 20000, 1, 2, 1, 0, 0, 0, \"TV\", \"Kitchen\").head()"
   ]
  },
  {
   "cell_type": "markdown",
   "metadata": {
    "id": "kK_DiCNIE-9m"
   },
   "source": [
    "# Content-based Recommendation"
   ]
  },
  {
   "cell_type": "code",
   "execution_count": 22,
   "metadata": {
    "id": "wN3kFGrQDpcF"
   },
   "outputs": [],
   "source": [
    "df_cbr = listings.copy()"
   ]
  },
  {
   "cell_type": "code",
   "execution_count": 23,
   "metadata": {
    "id": "WArtdMzoGrnj"
   },
   "outputs": [],
   "source": [
    "from ast import literal_eval\n",
    "\n",
    "df_cbr['amenities_list'] = df_cbr.amenities_list.apply(literal_eval)"
   ]
  },
  {
   "cell_type": "code",
   "execution_count": 24,
   "metadata": {
    "colab": {
     "base_uri": "https://localhost:8080/",
     "height": 202
    },
    "id": "NwFI7688IG0h",
    "outputId": "988d9a7b-c31c-4aa2-8ea3-e09b1071a622"
   },
   "outputs": [
    {
     "data": {
      "text/html": [
       "<div>\n",
       "<style scoped>\n",
       "    .dataframe tbody tr th:only-of-type {\n",
       "        vertical-align: middle;\n",
       "    }\n",
       "\n",
       "    .dataframe tbody tr th {\n",
       "        vertical-align: top;\n",
       "    }\n",
       "\n",
       "    .dataframe thead th {\n",
       "        text-align: right;\n",
       "    }\n",
       "</style>\n",
       "<table border=\"1\" class=\"dataframe\">\n",
       "  <thead>\n",
       "    <tr style=\"text-align: right;\">\n",
       "      <th></th>\n",
       "      <th>id</th>\n",
       "      <th>description</th>\n",
       "      <th>host_since</th>\n",
       "      <th>host_is_superhost</th>\n",
       "      <th>latitude</th>\n",
       "      <th>longitude</th>\n",
       "      <th>accommodates</th>\n",
       "      <th>bathrooms</th>\n",
       "      <th>bedrooms</th>\n",
       "      <th>beds</th>\n",
       "      <th>amenities</th>\n",
       "      <th>price</th>\n",
       "      <th>minimum_nights</th>\n",
       "      <th>maximum_nights</th>\n",
       "      <th>maximum_nights_avg_ntm</th>\n",
       "      <th>number_of_reviews_ltm</th>\n",
       "      <th>instant_bookable</th>\n",
       "      <th>calculated_host_listings_count</th>\n",
       "      <th>nearby_sites_rating</th>\n",
       "      <th>nearest_station_dist</th>\n",
       "      <th>nearest_site_dist</th>\n",
       "      <th>nearest_site_rating</th>\n",
       "      <th>host_response_time_cross_rate</th>\n",
       "      <th>email</th>\n",
       "      <th>phone</th>\n",
       "      <th>reviews</th>\n",
       "      <th>jumio</th>\n",
       "      <th>offline_government_id</th>\n",
       "      <th>selfie</th>\n",
       "      <th>government_id</th>\n",
       "      <th>identity_manual</th>\n",
       "      <th>work_email</th>\n",
       "      <th>manual_online</th>\n",
       "      <th>manual_offline</th>\n",
       "      <th>x0_Central Region</th>\n",
       "      <th>x0_East Region</th>\n",
       "      <th>x0_North Region</th>\n",
       "      <th>x0_North-East Region</th>\n",
       "      <th>x0_West Region</th>\n",
       "      <th>x0_apartment</th>\n",
       "      <th>x0_bed and breakfast</th>\n",
       "      <th>x0_boat</th>\n",
       "      <th>x0_boutique hotel</th>\n",
       "      <th>x0_bungalow</th>\n",
       "      <th>x0_condominium</th>\n",
       "      <th>x0_guest suite</th>\n",
       "      <th>x0_hostel</th>\n",
       "      <th>x0_hotel</th>\n",
       "      <th>x0_house</th>\n",
       "      <th>x0_loft</th>\n",
       "      <th>x0_other</th>\n",
       "      <th>x0_townhouse</th>\n",
       "      <th>x0_Entire home/apt</th>\n",
       "      <th>x0_Hotel room</th>\n",
       "      <th>x0_Private room</th>\n",
       "      <th>x0_Shared room</th>\n",
       "      <th>amenities_list</th>\n",
       "      <th>Wifi</th>\n",
       "      <th>Air conditioning</th>\n",
       "      <th>Kitchen</th>\n",
       "      <th>Parking</th>\n",
       "      <th>Outdoor</th>\n",
       "      <th>Kids</th>\n",
       "      <th>Pets allowed</th>\n",
       "      <th>Workspace</th>\n",
       "      <th>Gym</th>\n",
       "      <th>Breakfast</th>\n",
       "      <th>availability_average</th>\n",
       "      <th>preference</th>\n",
       "    </tr>\n",
       "  </thead>\n",
       "  <tbody>\n",
       "    <tr>\n",
       "      <th>0</th>\n",
       "      <td>1101652</td>\n",
       "      <td>Explore one of Singapore's best kept heritage ...</td>\n",
       "      <td>2012-11-15</td>\n",
       "      <td>0</td>\n",
       "      <td>1.29737</td>\n",
       "      <td>103.90068</td>\n",
       "      <td>4</td>\n",
       "      <td>1.0</td>\n",
       "      <td>1.0</td>\n",
       "      <td>1.0</td>\n",
       "      <td>{TV,\"Cable TV\",Wifi,\"Air conditioning\",\"Wheelc...</td>\n",
       "      <td>200.0</td>\n",
       "      <td>5</td>\n",
       "      <td>800</td>\n",
       "      <td>800.0</td>\n",
       "      <td>0</td>\n",
       "      <td>0</td>\n",
       "      <td>1</td>\n",
       "      <td>1.135049</td>\n",
       "      <td>1.81344</td>\n",
       "      <td>3.174312</td>\n",
       "      <td>4.5</td>\n",
       "      <td>2.0</td>\n",
       "      <td>1</td>\n",
       "      <td>1</td>\n",
       "      <td>1</td>\n",
       "      <td>0</td>\n",
       "      <td>0</td>\n",
       "      <td>0</td>\n",
       "      <td>0</td>\n",
       "      <td>0</td>\n",
       "      <td>0</td>\n",
       "      <td>0</td>\n",
       "      <td>0</td>\n",
       "      <td>1.0</td>\n",
       "      <td>0.0</td>\n",
       "      <td>0.0</td>\n",
       "      <td>0.0</td>\n",
       "      <td>0.0</td>\n",
       "      <td>1.0</td>\n",
       "      <td>0.0</td>\n",
       "      <td>0.0</td>\n",
       "      <td>0.0</td>\n",
       "      <td>0.0</td>\n",
       "      <td>0.0</td>\n",
       "      <td>0.0</td>\n",
       "      <td>0.0</td>\n",
       "      <td>0.0</td>\n",
       "      <td>0.0</td>\n",
       "      <td>0.0</td>\n",
       "      <td>0.0</td>\n",
       "      <td>0.0</td>\n",
       "      <td>1.0</td>\n",
       "      <td>0.0</td>\n",
       "      <td>0.0</td>\n",
       "      <td>0.0</td>\n",
       "      <td>[TV, Cable TV, Wifi, Air conditioning, Wheelch...</td>\n",
       "      <td>1</td>\n",
       "      <td>1</td>\n",
       "      <td>1</td>\n",
       "      <td>1</td>\n",
       "      <td>0</td>\n",
       "      <td>0</td>\n",
       "      <td>0</td>\n",
       "      <td>0</td>\n",
       "      <td>0</td>\n",
       "      <td>0</td>\n",
       "      <td>0.776522</td>\n",
       "      <td>0.894053</td>\n",
       "    </tr>\n",
       "  </tbody>\n",
       "</table>\n",
       "</div>"
      ],
      "text/plain": [
       "        id  ... preference\n",
       "0  1101652  ...   0.894053\n",
       "\n",
       "[1 rows x 69 columns]"
      ]
     },
     "execution_count": 24,
     "metadata": {
      "tags": []
     },
     "output_type": "execute_result"
    }
   ],
   "source": [
    "df_cbr.head(1)"
   ]
  },
  {
   "cell_type": "code",
   "execution_count": 25,
   "metadata": {
    "id": "bMxingjKJMp1"
   },
   "outputs": [],
   "source": [
    "listings_with_name=pd.read_csv(\"/content/drive/My Drive/BT4222_Project/datasets/listings_cleaned.csv\", low_memory=False)"
   ]
  },
  {
   "cell_type": "code",
   "execution_count": 26,
   "metadata": {
    "colab": {
     "base_uri": "https://localhost:8080/",
     "height": 185
    },
    "id": "2d2sRT0yJjXr",
    "outputId": "75f69e17-5532-4b79-d0a3-b301a7d361a9"
   },
   "outputs": [
    {
     "data": {
      "text/html": [
       "<div>\n",
       "<style scoped>\n",
       "    .dataframe tbody tr th:only-of-type {\n",
       "        vertical-align: middle;\n",
       "    }\n",
       "\n",
       "    .dataframe tbody tr th {\n",
       "        vertical-align: top;\n",
       "    }\n",
       "\n",
       "    .dataframe thead th {\n",
       "        text-align: right;\n",
       "    }\n",
       "</style>\n",
       "<table border=\"1\" class=\"dataframe\">\n",
       "  <thead>\n",
       "    <tr style=\"text-align: right;\">\n",
       "      <th></th>\n",
       "      <th>id</th>\n",
       "      <th>name</th>\n",
       "      <th>description</th>\n",
       "      <th>neighborhood_overview</th>\n",
       "      <th>host_id</th>\n",
       "      <th>host_since</th>\n",
       "      <th>host_about</th>\n",
       "      <th>host_response_time</th>\n",
       "      <th>host_response_rate</th>\n",
       "      <th>host_is_superhost</th>\n",
       "      <th>host_neighbourhood</th>\n",
       "      <th>host_verifications</th>\n",
       "      <th>host_has_profile_pic</th>\n",
       "      <th>host_identity_verified</th>\n",
       "      <th>neighbourhood_cleansed</th>\n",
       "      <th>neighbourhood_group_cleansed</th>\n",
       "      <th>latitude</th>\n",
       "      <th>longitude</th>\n",
       "      <th>property_type</th>\n",
       "      <th>room_type</th>\n",
       "      <th>accommodates</th>\n",
       "      <th>bathrooms</th>\n",
       "      <th>bedrooms</th>\n",
       "      <th>beds</th>\n",
       "      <th>amenities</th>\n",
       "      <th>price</th>\n",
       "      <th>minimum_nights</th>\n",
       "      <th>maximum_nights</th>\n",
       "      <th>minimum_minimum_nights</th>\n",
       "      <th>maximum_minimum_nights</th>\n",
       "      <th>minimum_maximum_nights</th>\n",
       "      <th>maximum_maximum_nights</th>\n",
       "      <th>minimum_nights_avg_ntm</th>\n",
       "      <th>maximum_nights_avg_ntm</th>\n",
       "      <th>calendar_updated</th>\n",
       "      <th>availability_30</th>\n",
       "      <th>availability_60</th>\n",
       "      <th>availability_90</th>\n",
       "      <th>availability_365</th>\n",
       "      <th>number_of_reviews</th>\n",
       "      <th>number_of_reviews_ltm</th>\n",
       "      <th>review_scores_rating</th>\n",
       "      <th>review_scores_accuracy</th>\n",
       "      <th>review_scores_cleanliness</th>\n",
       "      <th>review_scores_checkin</th>\n",
       "      <th>review_scores_communication</th>\n",
       "      <th>review_scores_location</th>\n",
       "      <th>review_scores_value</th>\n",
       "      <th>instant_bookable</th>\n",
       "      <th>calculated_host_listings_count</th>\n",
       "      <th>reviews_per_month</th>\n",
       "      <th>nearby_sites_rating</th>\n",
       "      <th>nearest_station_dist</th>\n",
       "      <th>nearest_site_dist</th>\n",
       "      <th>nearest_site_rating</th>\n",
       "    </tr>\n",
       "  </thead>\n",
       "  <tbody>\n",
       "    <tr>\n",
       "      <th>0</th>\n",
       "      <td>49091</td>\n",
       "      <td>COZICOMFORT LONG TERM STAY ROOM 2</td>\n",
       "      <td>This is Room No. 2.(available after Jan 15 201...</td>\n",
       "      <td>NaN</td>\n",
       "      <td>266763</td>\n",
       "      <td>2010-10-20</td>\n",
       "      <td>I am a private tutor by profession. My husband...</td>\n",
       "      <td>within a few hours</td>\n",
       "      <td>100%</td>\n",
       "      <td>f</td>\n",
       "      <td>Woodlands</td>\n",
       "      <td>['email', 'phone', 'facebook', 'reviews', 'jum...</td>\n",
       "      <td>t</td>\n",
       "      <td>f</td>\n",
       "      <td>Woodlands</td>\n",
       "      <td>North Region</td>\n",
       "      <td>1.44255</td>\n",
       "      <td>103.7958</td>\n",
       "      <td>Apartment</td>\n",
       "      <td>Private room</td>\n",
       "      <td>1</td>\n",
       "      <td>1.0</td>\n",
       "      <td>1.0</td>\n",
       "      <td>1.0</td>\n",
       "      <td>{TV,\"Cable TV\",Internet,Wifi,\"Air conditioning...</td>\n",
       "      <td>$81.00</td>\n",
       "      <td>180</td>\n",
       "      <td>360</td>\n",
       "      <td>180</td>\n",
       "      <td>180</td>\n",
       "      <td>360</td>\n",
       "      <td>360</td>\n",
       "      <td>180.0</td>\n",
       "      <td>360.0</td>\n",
       "      <td>58 months ago</td>\n",
       "      <td>30</td>\n",
       "      <td>60</td>\n",
       "      <td>90</td>\n",
       "      <td>365</td>\n",
       "      <td>1</td>\n",
       "      <td>0</td>\n",
       "      <td>94.0</td>\n",
       "      <td>10.0</td>\n",
       "      <td>10.0</td>\n",
       "      <td>10.0</td>\n",
       "      <td>10.0</td>\n",
       "      <td>8.0</td>\n",
       "      <td>8.0</td>\n",
       "      <td>f</td>\n",
       "      <td>2</td>\n",
       "      <td>0.02</td>\n",
       "      <td>0.995731</td>\n",
       "      <td>0.617762</td>\n",
       "      <td>4.295315</td>\n",
       "      <td>4.595264</td>\n",
       "    </tr>\n",
       "  </tbody>\n",
       "</table>\n",
       "</div>"
      ],
      "text/plain": [
       "      id  ... nearest_site_rating\n",
       "0  49091  ...            4.595264\n",
       "\n",
       "[1 rows x 55 columns]"
      ]
     },
     "execution_count": 26,
     "metadata": {
      "tags": []
     },
     "output_type": "execute_result"
    }
   ],
   "source": [
    "listings_with_name.head(1)"
   ]
  },
  {
   "cell_type": "code",
   "execution_count": 27,
   "metadata": {
    "id": "Cx2YvrTHJXRr"
   },
   "outputs": [],
   "source": [
    "name_dict = {}\n",
    "for index, listing in listings_with_name.iterrows():\n",
    "  name_dict[listing['id']] = str(listing['name']).title()"
   ]
  },
  {
   "cell_type": "code",
   "execution_count": 28,
   "metadata": {
    "id": "fKuJd7eaLpAz"
   },
   "outputs": [],
   "source": [
    "df_cbr['name'] = df_cbr['id'].apply(lambda x: name_dict[x])"
   ]
  },
  {
   "cell_type": "code",
   "execution_count": 29,
   "metadata": {
    "id": "P1bAxbR6m5HM"
   },
   "outputs": [],
   "source": [
    "df_cbr_sample = df_cbr.iloc[:5]"
   ]
  },
  {
   "cell_type": "code",
   "execution_count": 30,
   "metadata": {
    "colab": {
     "base_uri": "https://localhost:8080/",
     "height": 581
    },
    "id": "VCm-MmBlm_Yt",
    "outputId": "711895c8-6af7-4eca-9dea-6ac6d57cca18"
   },
   "outputs": [
    {
     "data": {
      "text/html": [
       "<div>\n",
       "<style scoped>\n",
       "    .dataframe tbody tr th:only-of-type {\n",
       "        vertical-align: middle;\n",
       "    }\n",
       "\n",
       "    .dataframe tbody tr th {\n",
       "        vertical-align: top;\n",
       "    }\n",
       "\n",
       "    .dataframe thead th {\n",
       "        text-align: right;\n",
       "    }\n",
       "</style>\n",
       "<table border=\"1\" class=\"dataframe\">\n",
       "  <thead>\n",
       "    <tr style=\"text-align: right;\">\n",
       "      <th></th>\n",
       "      <th>id</th>\n",
       "      <th>description</th>\n",
       "      <th>host_since</th>\n",
       "      <th>host_is_superhost</th>\n",
       "      <th>latitude</th>\n",
       "      <th>longitude</th>\n",
       "      <th>accommodates</th>\n",
       "      <th>bathrooms</th>\n",
       "      <th>bedrooms</th>\n",
       "      <th>beds</th>\n",
       "      <th>amenities</th>\n",
       "      <th>price</th>\n",
       "      <th>minimum_nights</th>\n",
       "      <th>maximum_nights</th>\n",
       "      <th>maximum_nights_avg_ntm</th>\n",
       "      <th>number_of_reviews_ltm</th>\n",
       "      <th>instant_bookable</th>\n",
       "      <th>calculated_host_listings_count</th>\n",
       "      <th>nearby_sites_rating</th>\n",
       "      <th>nearest_station_dist</th>\n",
       "      <th>nearest_site_dist</th>\n",
       "      <th>nearest_site_rating</th>\n",
       "      <th>host_response_time_cross_rate</th>\n",
       "      <th>email</th>\n",
       "      <th>phone</th>\n",
       "      <th>reviews</th>\n",
       "      <th>jumio</th>\n",
       "      <th>offline_government_id</th>\n",
       "      <th>selfie</th>\n",
       "      <th>government_id</th>\n",
       "      <th>identity_manual</th>\n",
       "      <th>work_email</th>\n",
       "      <th>manual_online</th>\n",
       "      <th>manual_offline</th>\n",
       "      <th>x0_Central Region</th>\n",
       "      <th>x0_East Region</th>\n",
       "      <th>x0_North Region</th>\n",
       "      <th>x0_North-East Region</th>\n",
       "      <th>x0_West Region</th>\n",
       "      <th>x0_apartment</th>\n",
       "      <th>x0_bed and breakfast</th>\n",
       "      <th>x0_boat</th>\n",
       "      <th>x0_boutique hotel</th>\n",
       "      <th>x0_bungalow</th>\n",
       "      <th>x0_condominium</th>\n",
       "      <th>x0_guest suite</th>\n",
       "      <th>x0_hostel</th>\n",
       "      <th>x0_hotel</th>\n",
       "      <th>x0_house</th>\n",
       "      <th>x0_loft</th>\n",
       "      <th>x0_other</th>\n",
       "      <th>x0_townhouse</th>\n",
       "      <th>x0_Entire home/apt</th>\n",
       "      <th>x0_Hotel room</th>\n",
       "      <th>x0_Private room</th>\n",
       "      <th>x0_Shared room</th>\n",
       "      <th>amenities_list</th>\n",
       "      <th>Wifi</th>\n",
       "      <th>Air conditioning</th>\n",
       "      <th>Kitchen</th>\n",
       "      <th>Parking</th>\n",
       "      <th>Outdoor</th>\n",
       "      <th>Kids</th>\n",
       "      <th>Pets allowed</th>\n",
       "      <th>Workspace</th>\n",
       "      <th>Gym</th>\n",
       "      <th>Breakfast</th>\n",
       "      <th>availability_average</th>\n",
       "      <th>preference</th>\n",
       "      <th>name</th>\n",
       "    </tr>\n",
       "  </thead>\n",
       "  <tbody>\n",
       "    <tr>\n",
       "      <th>0</th>\n",
       "      <td>1101652</td>\n",
       "      <td>Explore one of Singapore's best kept heritage ...</td>\n",
       "      <td>2012-11-15</td>\n",
       "      <td>0</td>\n",
       "      <td>1.29737</td>\n",
       "      <td>103.90068</td>\n",
       "      <td>4</td>\n",
       "      <td>1.0</td>\n",
       "      <td>1.0</td>\n",
       "      <td>1.0</td>\n",
       "      <td>{TV,\"Cable TV\",Wifi,\"Air conditioning\",\"Wheelc...</td>\n",
       "      <td>200.0</td>\n",
       "      <td>5</td>\n",
       "      <td>800</td>\n",
       "      <td>800.0</td>\n",
       "      <td>0</td>\n",
       "      <td>0</td>\n",
       "      <td>1</td>\n",
       "      <td>1.135049</td>\n",
       "      <td>1.813440</td>\n",
       "      <td>3.174312</td>\n",
       "      <td>4.500000</td>\n",
       "      <td>2.00</td>\n",
       "      <td>1</td>\n",
       "      <td>1</td>\n",
       "      <td>1</td>\n",
       "      <td>0</td>\n",
       "      <td>0</td>\n",
       "      <td>0</td>\n",
       "      <td>0</td>\n",
       "      <td>0</td>\n",
       "      <td>0</td>\n",
       "      <td>0</td>\n",
       "      <td>0</td>\n",
       "      <td>1.0</td>\n",
       "      <td>0.0</td>\n",
       "      <td>0.0</td>\n",
       "      <td>0.0</td>\n",
       "      <td>0.0</td>\n",
       "      <td>1.0</td>\n",
       "      <td>0.0</td>\n",
       "      <td>0.0</td>\n",
       "      <td>0.0</td>\n",
       "      <td>0.0</td>\n",
       "      <td>0.0</td>\n",
       "      <td>0.0</td>\n",
       "      <td>0.0</td>\n",
       "      <td>0.0</td>\n",
       "      <td>0.0</td>\n",
       "      <td>0.0</td>\n",
       "      <td>0.0</td>\n",
       "      <td>0.0</td>\n",
       "      <td>1.0</td>\n",
       "      <td>0.0</td>\n",
       "      <td>0.0</td>\n",
       "      <td>0.0</td>\n",
       "      <td>[TV, Cable TV, Wifi, Air conditioning, Wheelch...</td>\n",
       "      <td>1</td>\n",
       "      <td>1</td>\n",
       "      <td>1</td>\n",
       "      <td>1</td>\n",
       "      <td>0</td>\n",
       "      <td>0</td>\n",
       "      <td>0</td>\n",
       "      <td>0</td>\n",
       "      <td>0</td>\n",
       "      <td>0</td>\n",
       "      <td>0.776522</td>\n",
       "      <td>0.894053</td>\n",
       "      <td>Cozy Place In Singapore</td>\n",
       "    </tr>\n",
       "    <tr>\n",
       "      <th>1</th>\n",
       "      <td>1299316</td>\n",
       "      <td>Regardless your stay is as a tourists, busines...</td>\n",
       "      <td>2013-04-12</td>\n",
       "      <td>0</td>\n",
       "      <td>1.36392</td>\n",
       "      <td>103.76646</td>\n",
       "      <td>2</td>\n",
       "      <td>1.0</td>\n",
       "      <td>1.0</td>\n",
       "      <td>1.0</td>\n",
       "      <td>{TV,\"Cable TV\",Internet,Wifi,\"Air conditioning...</td>\n",
       "      <td>76.0</td>\n",
       "      <td>5</td>\n",
       "      <td>365</td>\n",
       "      <td>365.0</td>\n",
       "      <td>9</td>\n",
       "      <td>0</td>\n",
       "      <td>1</td>\n",
       "      <td>1.288425</td>\n",
       "      <td>0.206081</td>\n",
       "      <td>1.667353</td>\n",
       "      <td>4.500000</td>\n",
       "      <td>4.00</td>\n",
       "      <td>1</td>\n",
       "      <td>1</td>\n",
       "      <td>1</td>\n",
       "      <td>1</td>\n",
       "      <td>1</td>\n",
       "      <td>1</td>\n",
       "      <td>1</td>\n",
       "      <td>1</td>\n",
       "      <td>1</td>\n",
       "      <td>0</td>\n",
       "      <td>0</td>\n",
       "      <td>0.0</td>\n",
       "      <td>0.0</td>\n",
       "      <td>0.0</td>\n",
       "      <td>0.0</td>\n",
       "      <td>1.0</td>\n",
       "      <td>0.0</td>\n",
       "      <td>0.0</td>\n",
       "      <td>0.0</td>\n",
       "      <td>0.0</td>\n",
       "      <td>0.0</td>\n",
       "      <td>1.0</td>\n",
       "      <td>0.0</td>\n",
       "      <td>0.0</td>\n",
       "      <td>0.0</td>\n",
       "      <td>0.0</td>\n",
       "      <td>0.0</td>\n",
       "      <td>0.0</td>\n",
       "      <td>0.0</td>\n",
       "      <td>0.0</td>\n",
       "      <td>0.0</td>\n",
       "      <td>1.0</td>\n",
       "      <td>0.0</td>\n",
       "      <td>[TV, Cable TV, Internet, Wifi, Air conditionin...</td>\n",
       "      <td>1</td>\n",
       "      <td>1</td>\n",
       "      <td>1</td>\n",
       "      <td>0</td>\n",
       "      <td>0</td>\n",
       "      <td>1</td>\n",
       "      <td>0</td>\n",
       "      <td>1</td>\n",
       "      <td>1</td>\n",
       "      <td>0</td>\n",
       "      <td>0.904224</td>\n",
       "      <td>0.893712</td>\n",
       "      <td>Private Cozy Room On The Hill</td>\n",
       "    </tr>\n",
       "    <tr>\n",
       "      <th>2</th>\n",
       "      <td>1731462</td>\n",
       "      <td>Right next to a shopping mall w/ Farrer Park M...</td>\n",
       "      <td>2013-08-16</td>\n",
       "      <td>0</td>\n",
       "      <td>1.31176</td>\n",
       "      <td>103.85597</td>\n",
       "      <td>2</td>\n",
       "      <td>1.0</td>\n",
       "      <td>1.0</td>\n",
       "      <td>1.0</td>\n",
       "      <td>{Internet,Wifi,\"Air conditioning\",Pool,Kitchen...</td>\n",
       "      <td>80.0</td>\n",
       "      <td>90</td>\n",
       "      <td>1125</td>\n",
       "      <td>1125.0</td>\n",
       "      <td>0</td>\n",
       "      <td>0</td>\n",
       "      <td>7</td>\n",
       "      <td>1.982270</td>\n",
       "      <td>0.210743</td>\n",
       "      <td>0.860425</td>\n",
       "      <td>4.138595</td>\n",
       "      <td>4.00</td>\n",
       "      <td>1</td>\n",
       "      <td>1</td>\n",
       "      <td>1</td>\n",
       "      <td>1</td>\n",
       "      <td>1</td>\n",
       "      <td>1</td>\n",
       "      <td>1</td>\n",
       "      <td>1</td>\n",
       "      <td>0</td>\n",
       "      <td>0</td>\n",
       "      <td>0</td>\n",
       "      <td>1.0</td>\n",
       "      <td>0.0</td>\n",
       "      <td>0.0</td>\n",
       "      <td>0.0</td>\n",
       "      <td>0.0</td>\n",
       "      <td>1.0</td>\n",
       "      <td>0.0</td>\n",
       "      <td>0.0</td>\n",
       "      <td>0.0</td>\n",
       "      <td>0.0</td>\n",
       "      <td>0.0</td>\n",
       "      <td>0.0</td>\n",
       "      <td>0.0</td>\n",
       "      <td>0.0</td>\n",
       "      <td>0.0</td>\n",
       "      <td>0.0</td>\n",
       "      <td>0.0</td>\n",
       "      <td>0.0</td>\n",
       "      <td>0.0</td>\n",
       "      <td>0.0</td>\n",
       "      <td>1.0</td>\n",
       "      <td>0.0</td>\n",
       "      <td>[Internet, Wifi, Air conditioning, Pool, Kitch...</td>\n",
       "      <td>1</td>\n",
       "      <td>1</td>\n",
       "      <td>1</td>\n",
       "      <td>1</td>\n",
       "      <td>0</td>\n",
       "      <td>0</td>\n",
       "      <td>0</td>\n",
       "      <td>1</td>\n",
       "      <td>0</td>\n",
       "      <td>0</td>\n",
       "      <td>0.811644</td>\n",
       "      <td>0.792432</td>\n",
       "      <td>Cs Modern Ensuite Room In Central</td>\n",
       "    </tr>\n",
       "    <tr>\n",
       "      <th>3</th>\n",
       "      <td>3885720</td>\n",
       "      <td>Our spacious Studio apartment is found within ...</td>\n",
       "      <td>2011-02-07</td>\n",
       "      <td>0</td>\n",
       "      <td>1.26969</td>\n",
       "      <td>103.81375</td>\n",
       "      <td>5</td>\n",
       "      <td>1.0</td>\n",
       "      <td>0.0</td>\n",
       "      <td>3.0</td>\n",
       "      <td>{TV,Internet,Wifi,\"Air conditioning\",Kitchen,\"...</td>\n",
       "      <td>143.0</td>\n",
       "      <td>2</td>\n",
       "      <td>1125</td>\n",
       "      <td>1125.0</td>\n",
       "      <td>22</td>\n",
       "      <td>0</td>\n",
       "      <td>1</td>\n",
       "      <td>2.550789</td>\n",
       "      <td>0.459645</td>\n",
       "      <td>0.602082</td>\n",
       "      <td>4.559654</td>\n",
       "      <td>2.70</td>\n",
       "      <td>1</td>\n",
       "      <td>1</td>\n",
       "      <td>1</td>\n",
       "      <td>1</td>\n",
       "      <td>0</td>\n",
       "      <td>0</td>\n",
       "      <td>1</td>\n",
       "      <td>0</td>\n",
       "      <td>1</td>\n",
       "      <td>0</td>\n",
       "      <td>0</td>\n",
       "      <td>1.0</td>\n",
       "      <td>0.0</td>\n",
       "      <td>0.0</td>\n",
       "      <td>0.0</td>\n",
       "      <td>0.0</td>\n",
       "      <td>1.0</td>\n",
       "      <td>0.0</td>\n",
       "      <td>0.0</td>\n",
       "      <td>0.0</td>\n",
       "      <td>0.0</td>\n",
       "      <td>0.0</td>\n",
       "      <td>0.0</td>\n",
       "      <td>0.0</td>\n",
       "      <td>0.0</td>\n",
       "      <td>0.0</td>\n",
       "      <td>0.0</td>\n",
       "      <td>0.0</td>\n",
       "      <td>0.0</td>\n",
       "      <td>1.0</td>\n",
       "      <td>0.0</td>\n",
       "      <td>0.0</td>\n",
       "      <td>0.0</td>\n",
       "      <td>[TV, Internet, Wifi, Air conditioning, Kitchen...</td>\n",
       "      <td>1</td>\n",
       "      <td>1</td>\n",
       "      <td>1</td>\n",
       "      <td>0</td>\n",
       "      <td>0</td>\n",
       "      <td>0</td>\n",
       "      <td>0</td>\n",
       "      <td>1</td>\n",
       "      <td>0</td>\n",
       "      <td>0</td>\n",
       "      <td>0.639574</td>\n",
       "      <td>0.817946</td>\n",
       "      <td>Studio Apartment Near Sentosa</td>\n",
       "    </tr>\n",
       "    <tr>\n",
       "      <th>4</th>\n",
       "      <td>4214834</td>\n",
       "      <td>Do you love coffee? Great! The apartment is ri...</td>\n",
       "      <td>2013-04-23</td>\n",
       "      <td>0</td>\n",
       "      <td>1.28358</td>\n",
       "      <td>103.83039</td>\n",
       "      <td>2</td>\n",
       "      <td>1.0</td>\n",
       "      <td>1.0</td>\n",
       "      <td>1.0</td>\n",
       "      <td>{TV,Wifi,\"Air conditioning\",Kitchen,\"Pets live...</td>\n",
       "      <td>85.0</td>\n",
       "      <td>1</td>\n",
       "      <td>1125</td>\n",
       "      <td>1125.0</td>\n",
       "      <td>4</td>\n",
       "      <td>0</td>\n",
       "      <td>1</td>\n",
       "      <td>1.689570</td>\n",
       "      <td>0.474038</td>\n",
       "      <td>1.550443</td>\n",
       "      <td>4.438634</td>\n",
       "      <td>1.72</td>\n",
       "      <td>1</td>\n",
       "      <td>1</td>\n",
       "      <td>1</td>\n",
       "      <td>1</td>\n",
       "      <td>0</td>\n",
       "      <td>0</td>\n",
       "      <td>1</td>\n",
       "      <td>0</td>\n",
       "      <td>1</td>\n",
       "      <td>0</td>\n",
       "      <td>1</td>\n",
       "      <td>1.0</td>\n",
       "      <td>0.0</td>\n",
       "      <td>0.0</td>\n",
       "      <td>0.0</td>\n",
       "      <td>0.0</td>\n",
       "      <td>1.0</td>\n",
       "      <td>0.0</td>\n",
       "      <td>0.0</td>\n",
       "      <td>0.0</td>\n",
       "      <td>0.0</td>\n",
       "      <td>0.0</td>\n",
       "      <td>0.0</td>\n",
       "      <td>0.0</td>\n",
       "      <td>0.0</td>\n",
       "      <td>0.0</td>\n",
       "      <td>0.0</td>\n",
       "      <td>0.0</td>\n",
       "      <td>0.0</td>\n",
       "      <td>0.0</td>\n",
       "      <td>0.0</td>\n",
       "      <td>1.0</td>\n",
       "      <td>0.0</td>\n",
       "      <td>[TV, Wifi, Air conditioning, Kitchen, Pets liv...</td>\n",
       "      <td>1</td>\n",
       "      <td>1</td>\n",
       "      <td>1</td>\n",
       "      <td>0</td>\n",
       "      <td>0</td>\n",
       "      <td>0</td>\n",
       "      <td>0</td>\n",
       "      <td>1</td>\n",
       "      <td>0</td>\n",
       "      <td>0</td>\n",
       "      <td>0.888261</td>\n",
       "      <td>0.942308</td>\n",
       "      <td>Cosy Room In Charming Tiong Bahru</td>\n",
       "    </tr>\n",
       "  </tbody>\n",
       "</table>\n",
       "</div>"
      ],
      "text/plain": [
       "        id  ...                               name\n",
       "0  1101652  ...            Cozy Place In Singapore\n",
       "1  1299316  ...      Private Cozy Room On The Hill\n",
       "2  1731462  ...  Cs Modern Ensuite Room In Central\n",
       "3  3885720  ...      Studio Apartment Near Sentosa\n",
       "4  4214834  ...  Cosy Room In Charming Tiong Bahru\n",
       "\n",
       "[5 rows x 70 columns]"
      ]
     },
     "execution_count": 30,
     "metadata": {
      "tags": []
     },
     "output_type": "execute_result"
    }
   ],
   "source": [
    "df_cbr_sample"
   ]
  },
  {
   "cell_type": "code",
   "execution_count": 31,
   "metadata": {
    "colab": {
     "base_uri": "https://localhost:8080/"
    },
    "id": "IxlUdgXBnkb2",
    "outputId": "f7240bb6-b11d-40cf-e3a7-483af6948af1"
   },
   "outputs": [
    {
     "data": {
      "text/plain": [
       "(5, 302)"
      ]
     },
     "execution_count": 31,
     "metadata": {
      "tags": []
     },
     "output_type": "execute_result"
    }
   ],
   "source": [
    "from sklearn.feature_extraction.text import TfidfVectorizer\n",
    "tfidf_2 = TfidfVectorizer(stop_words='english')\n",
    "\n",
    "tfidf_matrix_2 = tfidf_2.fit_transform(df_cbr_sample['description'])\n",
    "\n",
    "tfidf_matrix_2.shape"
   ]
  },
  {
   "cell_type": "code",
   "execution_count": 32,
   "metadata": {
    "colab": {
     "base_uri": "https://localhost:8080/"
    },
    "id": "RrE0iFqrnwf9",
    "outputId": "fb4b994f-ee54-4a33-dde0-85ba6a634b11"
   },
   "outputs": [
    {
     "data": {
      "text/plain": [
       "array([0.        , 0.        , 0.        , 0.        , 0.        ,\n",
       "       0.        , 0.08773628, 0.        , 0.        , 0.        ,\n",
       "       0.        , 0.        , 0.        , 0.        , 0.08773628,\n",
       "       0.        , 0.        , 0.        , 0.        , 0.        ,\n",
       "       0.07078508, 0.07078508, 0.        , 0.        , 0.08773628,\n",
       "       0.        , 0.08773628, 0.        , 0.09885818, 0.17547257,\n",
       "       0.        , 0.        , 0.14157016, 0.08773628, 0.        ,\n",
       "       0.        , 0.        , 0.        , 0.        , 0.        ,\n",
       "       0.        , 0.        , 0.        , 0.        , 0.        ,\n",
       "       0.        , 0.        , 0.        , 0.        , 0.        ,\n",
       "       0.        , 0.        , 0.        , 0.        , 0.        ,\n",
       "       0.        , 0.        , 0.        , 0.07078508, 0.        ,\n",
       "       0.        , 0.08773628, 0.        , 0.21235524, 0.        ,\n",
       "       0.        , 0.        , 0.08773628, 0.        , 0.11751602,\n",
       "       0.        , 0.        , 0.        , 0.        , 0.        ,\n",
       "       0.        , 0.08773628, 0.        , 0.        , 0.17547257,\n",
       "       0.        , 0.17547257, 0.08773628, 0.        , 0.        ,\n",
       "       0.        , 0.        , 0.        , 0.08773628, 0.        ,\n",
       "       0.08773628, 0.        , 0.        , 0.        , 0.17547257,\n",
       "       0.11751602, 0.        , 0.        , 0.17547257, 0.        ,\n",
       "       0.        , 0.        , 0.        , 0.14157016, 0.        ,\n",
       "       0.        , 0.        , 0.        , 0.08773628, 0.08773628,\n",
       "       0.        , 0.        , 0.        , 0.        , 0.08773628,\n",
       "       0.        , 0.        , 0.        , 0.        , 0.        ,\n",
       "       0.        , 0.        , 0.        , 0.        , 0.08773628,\n",
       "       0.        , 0.        , 0.        , 0.08773628, 0.        ,\n",
       "       0.08773628, 0.05875801, 0.        , 0.        , 0.        ,\n",
       "       0.        , 0.        , 0.        , 0.        , 0.        ,\n",
       "       0.        , 0.11751602, 0.        , 0.        , 0.07078508,\n",
       "       0.        , 0.        , 0.        , 0.08773628, 0.        ,\n",
       "       0.        , 0.08773628, 0.11751602, 0.26320885, 0.        ,\n",
       "       0.17547257, 0.04942909, 0.        , 0.        , 0.        ,\n",
       "       0.08773628, 0.08773628, 0.        , 0.        , 0.        ,\n",
       "       0.05875801, 0.        , 0.        , 0.        , 0.        ,\n",
       "       0.        , 0.        , 0.        , 0.11751602, 0.        ,\n",
       "       0.        , 0.        , 0.        , 0.        , 0.        ,\n",
       "       0.        , 0.        , 0.05875801, 0.        , 0.        ,\n",
       "       0.        , 0.        , 0.17547257, 0.        , 0.17547257,\n",
       "       0.        , 0.        , 0.        , 0.        , 0.        ,\n",
       "       0.17547257, 0.        , 0.08773628, 0.        , 0.08773628,\n",
       "       0.08773628, 0.        , 0.        , 0.        , 0.07078508,\n",
       "       0.        , 0.        , 0.        , 0.        , 0.        ,\n",
       "       0.05875801, 0.11751602, 0.        , 0.08773628, 0.        ,\n",
       "       0.        , 0.        , 0.        , 0.        , 0.08773628,\n",
       "       0.        , 0.        , 0.        , 0.        , 0.        ,\n",
       "       0.        , 0.        , 0.04942909, 0.        , 0.        ,\n",
       "       0.        , 0.        , 0.        , 0.        , 0.        ,\n",
       "       0.        , 0.17547257, 0.07078508, 0.08773628, 0.07078508,\n",
       "       0.14828728, 0.        , 0.17547257, 0.08773628, 0.07078508,\n",
       "       0.        , 0.        , 0.        , 0.08773628, 0.        ,\n",
       "       0.        , 0.        , 0.        , 0.17547257, 0.        ,\n",
       "       0.        , 0.        , 0.        , 0.        , 0.        ,\n",
       "       0.08773628, 0.        , 0.17547257, 0.        , 0.        ,\n",
       "       0.        , 0.        , 0.        , 0.08773628, 0.        ,\n",
       "       0.        , 0.        , 0.        , 0.        , 0.08773628,\n",
       "       0.08773628, 0.        , 0.        , 0.        , 0.        ,\n",
       "       0.        , 0.        , 0.        , 0.        , 0.08773628,\n",
       "       0.        , 0.        , 0.        , 0.04942909, 0.        ,\n",
       "       0.        , 0.        , 0.08773628, 0.        , 0.        ,\n",
       "       0.        , 0.        , 0.        , 0.        , 0.        ,\n",
       "       0.        , 0.        ])"
      ]
     },
     "execution_count": 32,
     "metadata": {
      "tags": []
     },
     "output_type": "execute_result"
    }
   ],
   "source": [
    "tfidf_matrix_2.toarray()[0]"
   ]
  },
  {
   "cell_type": "code",
   "execution_count": 33,
   "metadata": {
    "id": "t6iZi670oTU9"
   },
   "outputs": [],
   "source": [
    "from sklearn.metrics.pairwise import linear_kernel\n",
    "cosine_sim_2 = linear_kernel(tfidf_matrix_2, tfidf_matrix_2)"
   ]
  },
  {
   "cell_type": "code",
   "execution_count": 34,
   "metadata": {
    "colab": {
     "base_uri": "https://localhost:8080/"
    },
    "id": "a09PqBvOo_VS",
    "outputId": "e97f4d90-4d40-43d7-b05e-f81577f1f35a"
   },
   "outputs": [
    {
     "data": {
      "text/plain": [
       "array([[1.        , 0.05775296, 0.09518553, 0.06731624, 0.09892602],\n",
       "       [0.05775296, 1.        , 0.15247382, 0.03332736, 0.09936358],\n",
       "       [0.09518553, 0.15247382, 1.        , 0.02038497, 0.11327775],\n",
       "       [0.06731624, 0.03332736, 0.02038497, 1.        , 0.06300565],\n",
       "       [0.09892602, 0.09936358, 0.11327775, 0.06300565, 1.        ]])"
      ]
     },
     "execution_count": 34,
     "metadata": {
      "tags": []
     },
     "output_type": "execute_result"
    }
   ],
   "source": [
    "cosine_sim_2"
   ]
  },
  {
   "cell_type": "code",
   "execution_count": 35,
   "metadata": {
    "colab": {
     "base_uri": "https://localhost:8080/",
     "height": 204
    },
    "id": "07U6Qm2M162a",
    "outputId": "7e2d1ba4-d64a-4d14-d74a-36d4d8b0c72e"
   },
   "outputs": [
    {
     "data": {
      "text/html": [
       "<div>\n",
       "<style scoped>\n",
       "    .dataframe tbody tr th:only-of-type {\n",
       "        vertical-align: middle;\n",
       "    }\n",
       "\n",
       "    .dataframe tbody tr th {\n",
       "        vertical-align: top;\n",
       "    }\n",
       "\n",
       "    .dataframe thead th {\n",
       "        text-align: right;\n",
       "    }\n",
       "</style>\n",
       "<table border=\"1\" class=\"dataframe\">\n",
       "  <thead>\n",
       "    <tr style=\"text-align: right;\">\n",
       "      <th></th>\n",
       "      <th>listing 1</th>\n",
       "      <th>listing 2</th>\n",
       "      <th>listing 3</th>\n",
       "      <th>listing 4</th>\n",
       "      <th>listing 5</th>\n",
       "    </tr>\n",
       "  </thead>\n",
       "  <tbody>\n",
       "    <tr>\n",
       "      <th>listing 1</th>\n",
       "      <td>1.000000</td>\n",
       "      <td>0.057753</td>\n",
       "      <td>0.095186</td>\n",
       "      <td>0.067316</td>\n",
       "      <td>0.098926</td>\n",
       "    </tr>\n",
       "    <tr>\n",
       "      <th>listing 2</th>\n",
       "      <td>0.057753</td>\n",
       "      <td>1.000000</td>\n",
       "      <td>0.152474</td>\n",
       "      <td>0.033327</td>\n",
       "      <td>0.099364</td>\n",
       "    </tr>\n",
       "    <tr>\n",
       "      <th>listing 3</th>\n",
       "      <td>0.095186</td>\n",
       "      <td>0.152474</td>\n",
       "      <td>1.000000</td>\n",
       "      <td>0.020385</td>\n",
       "      <td>0.113278</td>\n",
       "    </tr>\n",
       "    <tr>\n",
       "      <th>listing 4</th>\n",
       "      <td>0.067316</td>\n",
       "      <td>0.033327</td>\n",
       "      <td>0.020385</td>\n",
       "      <td>1.000000</td>\n",
       "      <td>0.063006</td>\n",
       "    </tr>\n",
       "    <tr>\n",
       "      <th>listing 5</th>\n",
       "      <td>0.098926</td>\n",
       "      <td>0.099364</td>\n",
       "      <td>0.113278</td>\n",
       "      <td>0.063006</td>\n",
       "      <td>1.000000</td>\n",
       "    </tr>\n",
       "  </tbody>\n",
       "</table>\n",
       "</div>"
      ],
      "text/plain": [
       "           listing 1  listing 2  listing 3  listing 4  listing 5\n",
       "listing 1   1.000000   0.057753   0.095186   0.067316   0.098926\n",
       "listing 2   0.057753   1.000000   0.152474   0.033327   0.099364\n",
       "listing 3   0.095186   0.152474   1.000000   0.020385   0.113278\n",
       "listing 4   0.067316   0.033327   0.020385   1.000000   0.063006\n",
       "listing 5   0.098926   0.099364   0.113278   0.063006   1.000000"
      ]
     },
     "execution_count": 35,
     "metadata": {
      "tags": []
     },
     "output_type": "execute_result"
    }
   ],
   "source": [
    "pd.DataFrame(cosine_sim_2, index=[\"listing 1\", \"listing 2\", \"listing 3\", \"listing 4\", \"listing 5\"], columns=[\"listing 1\", \"listing 2\", \"listing 3\", \"listing 4\", \"listing 5\"])"
   ]
  },
  {
   "cell_type": "code",
   "execution_count": 36,
   "metadata": {
    "colab": {
     "base_uri": "https://localhost:8080/"
    },
    "id": "Vu1cPrMSHF0F",
    "outputId": "250d770e-cf4f-459f-b73c-1bfd7e872445"
   },
   "outputs": [
    {
     "data": {
      "text/plain": [
       "(12222, 18231)"
      ]
     },
     "execution_count": 36,
     "metadata": {
      "tags": []
     },
     "output_type": "execute_result"
    }
   ],
   "source": [
    "from sklearn.feature_extraction.text import TfidfVectorizer\n",
    "\n",
    "tfidf = TfidfVectorizer(stop_words='english')\n",
    "\n",
    "tfidf_matrix = tfidf.fit_transform(df_cbr['description'])\n",
    "\n",
    "tfidf_matrix.shape"
   ]
  },
  {
   "cell_type": "code",
   "execution_count": 37,
   "metadata": {
    "colab": {
     "base_uri": "https://localhost:8080/"
    },
    "id": "UDh3V-BEhrrc",
    "outputId": "bb0aad35-4629-42c4-bc83-7c84ce4868f4"
   },
   "outputs": [
    {
     "data": {
      "text/plain": [
       "array([0., 0., 0., ..., 0., 0., 0.])"
      ]
     },
     "execution_count": 37,
     "metadata": {
      "tags": []
     },
     "output_type": "execute_result"
    }
   ],
   "source": [
    "tfidf_matrix.toarray()[0]"
   ]
  },
  {
   "cell_type": "code",
   "execution_count": 38,
   "metadata": {
    "colab": {
     "base_uri": "https://localhost:8080/",
     "height": 171
    },
    "id": "EcGGZZ4Teg7y",
    "outputId": "e4da992b-f2ea-42e1-e73d-94864a12db02"
   },
   "outputs": [
    {
     "data": {
      "application/vnd.google.colaboratory.intrinsic+json": {
       "type": "string"
      },
      "text/plain": [
       "\"Explore one of Singapore's best kept heritage in the East, just steps outside this cosy 1-bedroom condo. Surpisingly quiet despite being so near to the delights of Katong with its myriad of shops and endless eateries! Explore one of Singapore's best kept heritage in the East, just steps outside this cosy 1-bedroom condo. Surpisingly quiet despite being so near to the delights of Katong with its myriad of shops and endless eateries!  Simple, cool layout and in tip top condition. Featuring a fully furnished applianced kitchen, dryer, washer and a modern bath with a rain-shower feature to destress. The Queen sized bed comfortably fits two people with additional sofa bed tucked in the living room. A small pool with jacuzzi for relaxation is available too. What is better? A good sized balcony to laze your day away drenching in the tropical sunshine!  It's a great spot to call home during your visit to Singapore! The condo is also a short walk to Parkway Parade Mall, I12Katong Mall, Katong V\""
      ]
     },
     "execution_count": 38,
     "metadata": {
      "tags": []
     },
     "output_type": "execute_result"
    }
   ],
   "source": [
    "df_cbr.head().loc[0].description"
   ]
  },
  {
   "cell_type": "code",
   "execution_count": 39,
   "metadata": {
    "colab": {
     "base_uri": "https://localhost:8080/",
     "height": 35
    },
    "id": "0qGP-z4Je0wO",
    "outputId": "feedf6dc-a7f0-4016-c5cf-c8364f37be24"
   },
   "outputs": [
    {
     "data": {
      "application/vnd.google.colaboratory.intrinsic+json": {
       "type": "string"
      },
      "text/plain": [
       "'Cozy Place In Singapore'"
      ]
     },
     "execution_count": 39,
     "metadata": {
      "tags": []
     },
     "output_type": "execute_result"
    }
   ],
   "source": [
    "df_cbr.head().loc[0]['name']"
   ]
  },
  {
   "cell_type": "code",
   "execution_count": 40,
   "metadata": {
    "id": "F2cWjUcNIlt0"
   },
   "outputs": [],
   "source": [
    "from sklearn.metrics.pairwise import linear_kernel\n",
    "\n",
    "# Compute the cosine similarity matrix\n",
    "cosine_sim = linear_kernel(tfidf_matrix, tfidf_matrix)"
   ]
  },
  {
   "cell_type": "code",
   "execution_count": 41,
   "metadata": {
    "id": "jdD9A_QYMS0y"
   },
   "outputs": [],
   "source": [
    "indices = pd.Series(df_cbr.index, index=df_cbr['name']).drop_duplicates()"
   ]
  },
  {
   "cell_type": "code",
   "execution_count": 42,
   "metadata": {
    "colab": {
     "base_uri": "https://localhost:8080/"
    },
    "id": "y4J19Uq-5-Zi",
    "outputId": "0b3b6c17-3142-4240-e98d-242d0e2186f2"
   },
   "outputs": [
    {
     "data": {
      "text/plain": [
       "name\n",
       "Cozy Place In Singapore                               0\n",
       "Private Cozy Room On The Hill                         1\n",
       "Cs Modern Ensuite Room In Central                     2\n",
       "Studio Apartment Near Sentosa                         3\n",
       "Cosy Room In Charming Tiong Bahru                     4\n",
       "                                                  ...  \n",
       "Common Room With Shared Toilet Best For Pnoy      12217\n",
       "Kampong Living Spacious Room At Coliving Space    12218\n",
       "Kampong Living Master Room At Coliving Space      12219\n",
       "Kampong Living Cosy Room At Coliving Space        12220\n",
       "Studio Apartment At Fort Road                     12221\n",
       "Length: 12222, dtype: int64"
      ]
     },
     "execution_count": 42,
     "metadata": {
      "tags": []
     },
     "output_type": "execute_result"
    }
   ],
   "source": [
    "indices"
   ]
  },
  {
   "cell_type": "code",
   "execution_count": 43,
   "metadata": {
    "id": "k_RevNWvIu8k"
   },
   "outputs": [],
   "source": [
    "def content_recommender(name, cosine_sim, df, indices):\n",
    "    idx = indices[name]\n",
    "\n",
    "    # Get the pairwsie similarity scores of all listings with that listing\n",
    "    # And convert it into a list of tuples as described above\n",
    "    sim_scores = list(enumerate(cosine_sim[idx]))\n",
    "\n",
    "    # Sort the listings based on the cosine similarity scores\n",
    "    sim_scores = sorted(sim_scores, key=lambda x: x[1], reverse=True)\n",
    "\n",
    "    # Get the scores of the 10 most similar listings. Ignore the first one.\n",
    "    sim_scores = sim_scores[1:11]\n",
    "\n",
    "    # Get the listing indices\n",
    "    listings_indices = [i[0] for i in sim_scores]\n",
    "\n",
    "    # Return the top 10 most similar listings\n",
    "    return df['name'].iloc[listings_indices]"
   ]
  },
  {
   "cell_type": "code",
   "execution_count": 44,
   "metadata": {
    "colab": {
     "base_uri": "https://localhost:8080/"
    },
    "id": "SKXDl6pOL1l_",
    "outputId": "b1442f8a-0db5-4f6b-abf1-d59056b28908"
   },
   "outputs": [
    {
     "data": {
      "text/plain": [
       "7570            2Br 2Bath In Katong Near F&B (Min 3 Mths)\n",
       "2308                    Near To Central With Free Parking\n",
       "3024     Modern 2Br Apt In Katong, Free Parking, Near F&B\n",
       "3836     Humble & Conveniently Located 1Br In Katong Area\n",
       "6257     Humble & Conveniently Located 1Br In Katong Area\n",
       "2049                                     East Coast Haven\n",
       "6336     Humble & Conveniently Located 1Br In Katong Area\n",
       "12220          Kampong Living Cosy Room At Coliving Space\n",
       "4369           Spacious 3Br Home With East Coast Sea View\n",
       "10348    Humble & Conveniently Located 1Br In Katong Area\n",
       "Name: name, dtype: object"
      ]
     },
     "execution_count": 44,
     "metadata": {
      "tags": []
     },
     "output_type": "execute_result"
    }
   ],
   "source": [
    "content_recommender(\"Cozy Place In Singapore\", cosine_sim, df_cbr, indices)"
   ]
  },
  {
   "cell_type": "markdown",
   "metadata": {
    "id": "epifZidt6joA"
   },
   "source": [
    "# Metadata Based Recommender"
   ]
  },
  {
   "cell_type": "code",
   "execution_count": 45,
   "metadata": {
    "id": "6STeM0T1pGpG"
   },
   "outputs": [],
   "source": [
    "listings_new = pd.read_csv(\"/content/drive/My Drive/BT4222_Project/final_datasets/listings_final_version2.csv\")"
   ]
  },
  {
   "cell_type": "code",
   "execution_count": 46,
   "metadata": {
    "id": "P6Ksi9sY9GPa"
   },
   "outputs": [],
   "source": [
    "df_mbr = listings_new.copy()"
   ]
  },
  {
   "cell_type": "code",
   "execution_count": 47,
   "metadata": {
    "id": "9rW9uCDtnusN"
   },
   "outputs": [],
   "source": [
    "listings_with_name=pd.read_csv(\"/content/drive/My Drive/BT4222_Project/datasets/listings_cleaned.csv\", low_memory=False)\n",
    "name_dict = {}\n",
    "for index, listing in listings_with_name.iterrows():\n",
    "  name_dict[listing['id']] = str(listing['name']).title()"
   ]
  },
  {
   "cell_type": "code",
   "execution_count": 48,
   "metadata": {
    "id": "eubWK9w7r2mo"
   },
   "outputs": [],
   "source": [
    "df_mbr['name'] = df_mbr['id'].apply(lambda x: name_dict[x])"
   ]
  },
  {
   "cell_type": "code",
   "execution_count": 49,
   "metadata": {
    "colab": {
     "base_uri": "https://localhost:8080/",
     "height": 202
    },
    "id": "4Rs754Pu9Zvm",
    "outputId": "deeb4efe-2016-4b65-dffe-7ef0920be974"
   },
   "outputs": [
    {
     "data": {
      "text/html": [
       "<div>\n",
       "<style scoped>\n",
       "    .dataframe tbody tr th:only-of-type {\n",
       "        vertical-align: middle;\n",
       "    }\n",
       "\n",
       "    .dataframe tbody tr th {\n",
       "        vertical-align: top;\n",
       "    }\n",
       "\n",
       "    .dataframe thead th {\n",
       "        text-align: right;\n",
       "    }\n",
       "</style>\n",
       "<table border=\"1\" class=\"dataframe\">\n",
       "  <thead>\n",
       "    <tr style=\"text-align: right;\">\n",
       "      <th></th>\n",
       "      <th>id</th>\n",
       "      <th>description</th>\n",
       "      <th>host_since</th>\n",
       "      <th>host_about</th>\n",
       "      <th>host_is_superhost</th>\n",
       "      <th>host_verifications</th>\n",
       "      <th>latitude</th>\n",
       "      <th>longitude</th>\n",
       "      <th>accommodates</th>\n",
       "      <th>bathrooms</th>\n",
       "      <th>bedrooms</th>\n",
       "      <th>beds</th>\n",
       "      <th>amenities</th>\n",
       "      <th>price</th>\n",
       "      <th>minimum_nights</th>\n",
       "      <th>maximum_nights</th>\n",
       "      <th>maximum_nights_avg_ntm</th>\n",
       "      <th>number_of_reviews_ltm</th>\n",
       "      <th>instant_bookable</th>\n",
       "      <th>calculated_host_listings_count</th>\n",
       "      <th>nearby_sites_rating</th>\n",
       "      <th>nearest_station_dist</th>\n",
       "      <th>nearest_site_dist</th>\n",
       "      <th>nearest_site_rating</th>\n",
       "      <th>host_response_time_cross_rate</th>\n",
       "      <th>x0_Central Region</th>\n",
       "      <th>x0_East Region</th>\n",
       "      <th>x0_North Region</th>\n",
       "      <th>x0_North-East Region</th>\n",
       "      <th>x0_West Region</th>\n",
       "      <th>x0_apartment</th>\n",
       "      <th>x0_bed and breakfast</th>\n",
       "      <th>x0_boat</th>\n",
       "      <th>x0_boutique hotel</th>\n",
       "      <th>x0_bungalow</th>\n",
       "      <th>x0_condominium</th>\n",
       "      <th>x0_guest suite</th>\n",
       "      <th>x0_hostel</th>\n",
       "      <th>x0_hotel</th>\n",
       "      <th>x0_house</th>\n",
       "      <th>x0_loft</th>\n",
       "      <th>x0_other</th>\n",
       "      <th>x0_townhouse</th>\n",
       "      <th>x0_Entire home/apt</th>\n",
       "      <th>x0_Hotel room</th>\n",
       "      <th>x0_Private room</th>\n",
       "      <th>x0_Shared room</th>\n",
       "      <th>amenities_list</th>\n",
       "      <th>Wifi</th>\n",
       "      <th>Air conditioning</th>\n",
       "      <th>Kitchen</th>\n",
       "      <th>Parking</th>\n",
       "      <th>Outdoor</th>\n",
       "      <th>Kids</th>\n",
       "      <th>Pets allowed</th>\n",
       "      <th>Workspace</th>\n",
       "      <th>Gym</th>\n",
       "      <th>Breakfast</th>\n",
       "      <th>availability_average</th>\n",
       "      <th>name</th>\n",
       "    </tr>\n",
       "  </thead>\n",
       "  <tbody>\n",
       "    <tr>\n",
       "      <th>0</th>\n",
       "      <td>1101652</td>\n",
       "      <td>Explore one of Singapore's best kept heritage ...</td>\n",
       "      <td>2012-11-15</td>\n",
       "      <td>Hey!\\r\\n\\r\\nWelcome to my cozy apartment . I f...</td>\n",
       "      <td>0</td>\n",
       "      <td>['email', 'phone', 'reviews']</td>\n",
       "      <td>1.29737</td>\n",
       "      <td>103.90068</td>\n",
       "      <td>4</td>\n",
       "      <td>1.0</td>\n",
       "      <td>1.0</td>\n",
       "      <td>1.0</td>\n",
       "      <td>{TV,\"Cable TV\",Wifi,\"Air conditioning\",\"Wheelc...</td>\n",
       "      <td>200.0</td>\n",
       "      <td>5</td>\n",
       "      <td>800</td>\n",
       "      <td>800.0</td>\n",
       "      <td>0</td>\n",
       "      <td>0</td>\n",
       "      <td>1</td>\n",
       "      <td>1.135049</td>\n",
       "      <td>1.81344</td>\n",
       "      <td>3.174312</td>\n",
       "      <td>4.5</td>\n",
       "      <td>2.0</td>\n",
       "      <td>1.0</td>\n",
       "      <td>0.0</td>\n",
       "      <td>0.0</td>\n",
       "      <td>0.0</td>\n",
       "      <td>0.0</td>\n",
       "      <td>1.0</td>\n",
       "      <td>0.0</td>\n",
       "      <td>0.0</td>\n",
       "      <td>0.0</td>\n",
       "      <td>0.0</td>\n",
       "      <td>0.0</td>\n",
       "      <td>0.0</td>\n",
       "      <td>0.0</td>\n",
       "      <td>0.0</td>\n",
       "      <td>0.0</td>\n",
       "      <td>0.0</td>\n",
       "      <td>0.0</td>\n",
       "      <td>0.0</td>\n",
       "      <td>1.0</td>\n",
       "      <td>0.0</td>\n",
       "      <td>0.0</td>\n",
       "      <td>0.0</td>\n",
       "      <td>['TV', 'Cable TV', 'Wifi', 'Air conditioning',...</td>\n",
       "      <td>1</td>\n",
       "      <td>1</td>\n",
       "      <td>1</td>\n",
       "      <td>1</td>\n",
       "      <td>0</td>\n",
       "      <td>0</td>\n",
       "      <td>0</td>\n",
       "      <td>0</td>\n",
       "      <td>0</td>\n",
       "      <td>0</td>\n",
       "      <td>0.776522</td>\n",
       "      <td>Cozy Place In Singapore</td>\n",
       "    </tr>\n",
       "  </tbody>\n",
       "</table>\n",
       "</div>"
      ],
      "text/plain": [
       "        id  ...                     name\n",
       "0  1101652  ...  Cozy Place In Singapore\n",
       "\n",
       "[1 rows x 60 columns]"
      ]
     },
     "execution_count": 49,
     "metadata": {
      "tags": []
     },
     "output_type": "execute_result"
    }
   ],
   "source": [
    "df_mbr.head(1)"
   ]
  },
  {
   "cell_type": "code",
   "execution_count": 50,
   "metadata": {
    "id": "18-OUJgwCB0W"
   },
   "outputs": [],
   "source": [
    "from ast import literal_eval\n",
    "\n",
    "df_mbr['amenities_list'] = df_mbr.amenities_list.apply(literal_eval)"
   ]
  },
  {
   "cell_type": "code",
   "execution_count": 51,
   "metadata": {
    "id": "wINyeAdmr59A"
   },
   "outputs": [],
   "source": [
    "def sanitize(x):\n",
    "    if isinstance(x, list):\n",
    "        return [str.lower(i.replace(\" \", \"\")) for i in x]\n",
    "    else:\n",
    "        if isinstance(x, str):\n",
    "            return str.lower(x.replace(\" \", \"\"))\n",
    "        else:\n",
    "            return ''"
   ]
  },
  {
   "cell_type": "code",
   "execution_count": 52,
   "metadata": {
    "id": "YFM7f2AAsI92"
   },
   "outputs": [],
   "source": [
    "for feature in ['host_verifications', 'amenities_list']:\n",
    "    df_mbr[feature] = df_mbr[feature].apply(sanitize)"
   ]
  },
  {
   "cell_type": "code",
   "execution_count": 53,
   "metadata": {
    "colab": {
     "base_uri": "https://localhost:8080/",
     "height": 202
    },
    "id": "Qjzd8Dk0sWaS",
    "outputId": "58da22fb-9fa1-46b0-a508-4815e1cf14c0"
   },
   "outputs": [
    {
     "data": {
      "text/html": [
       "<div>\n",
       "<style scoped>\n",
       "    .dataframe tbody tr th:only-of-type {\n",
       "        vertical-align: middle;\n",
       "    }\n",
       "\n",
       "    .dataframe tbody tr th {\n",
       "        vertical-align: top;\n",
       "    }\n",
       "\n",
       "    .dataframe thead th {\n",
       "        text-align: right;\n",
       "    }\n",
       "</style>\n",
       "<table border=\"1\" class=\"dataframe\">\n",
       "  <thead>\n",
       "    <tr style=\"text-align: right;\">\n",
       "      <th></th>\n",
       "      <th>id</th>\n",
       "      <th>description</th>\n",
       "      <th>host_since</th>\n",
       "      <th>host_about</th>\n",
       "      <th>host_is_superhost</th>\n",
       "      <th>host_verifications</th>\n",
       "      <th>latitude</th>\n",
       "      <th>longitude</th>\n",
       "      <th>accommodates</th>\n",
       "      <th>bathrooms</th>\n",
       "      <th>bedrooms</th>\n",
       "      <th>beds</th>\n",
       "      <th>amenities</th>\n",
       "      <th>price</th>\n",
       "      <th>minimum_nights</th>\n",
       "      <th>maximum_nights</th>\n",
       "      <th>maximum_nights_avg_ntm</th>\n",
       "      <th>number_of_reviews_ltm</th>\n",
       "      <th>instant_bookable</th>\n",
       "      <th>calculated_host_listings_count</th>\n",
       "      <th>nearby_sites_rating</th>\n",
       "      <th>nearest_station_dist</th>\n",
       "      <th>nearest_site_dist</th>\n",
       "      <th>nearest_site_rating</th>\n",
       "      <th>host_response_time_cross_rate</th>\n",
       "      <th>x0_Central Region</th>\n",
       "      <th>x0_East Region</th>\n",
       "      <th>x0_North Region</th>\n",
       "      <th>x0_North-East Region</th>\n",
       "      <th>x0_West Region</th>\n",
       "      <th>x0_apartment</th>\n",
       "      <th>x0_bed and breakfast</th>\n",
       "      <th>x0_boat</th>\n",
       "      <th>x0_boutique hotel</th>\n",
       "      <th>x0_bungalow</th>\n",
       "      <th>x0_condominium</th>\n",
       "      <th>x0_guest suite</th>\n",
       "      <th>x0_hostel</th>\n",
       "      <th>x0_hotel</th>\n",
       "      <th>x0_house</th>\n",
       "      <th>x0_loft</th>\n",
       "      <th>x0_other</th>\n",
       "      <th>x0_townhouse</th>\n",
       "      <th>x0_Entire home/apt</th>\n",
       "      <th>x0_Hotel room</th>\n",
       "      <th>x0_Private room</th>\n",
       "      <th>x0_Shared room</th>\n",
       "      <th>amenities_list</th>\n",
       "      <th>Wifi</th>\n",
       "      <th>Air conditioning</th>\n",
       "      <th>Kitchen</th>\n",
       "      <th>Parking</th>\n",
       "      <th>Outdoor</th>\n",
       "      <th>Kids</th>\n",
       "      <th>Pets allowed</th>\n",
       "      <th>Workspace</th>\n",
       "      <th>Gym</th>\n",
       "      <th>Breakfast</th>\n",
       "      <th>availability_average</th>\n",
       "      <th>name</th>\n",
       "    </tr>\n",
       "  </thead>\n",
       "  <tbody>\n",
       "    <tr>\n",
       "      <th>0</th>\n",
       "      <td>1101652</td>\n",
       "      <td>Explore one of Singapore's best kept heritage ...</td>\n",
       "      <td>2012-11-15</td>\n",
       "      <td>Hey!\\r\\n\\r\\nWelcome to my cozy apartment . I f...</td>\n",
       "      <td>0</td>\n",
       "      <td>['email','phone','reviews']</td>\n",
       "      <td>1.29737</td>\n",
       "      <td>103.90068</td>\n",
       "      <td>4</td>\n",
       "      <td>1.0</td>\n",
       "      <td>1.0</td>\n",
       "      <td>1.0</td>\n",
       "      <td>{TV,\"Cable TV\",Wifi,\"Air conditioning\",\"Wheelc...</td>\n",
       "      <td>200.0</td>\n",
       "      <td>5</td>\n",
       "      <td>800</td>\n",
       "      <td>800.0</td>\n",
       "      <td>0</td>\n",
       "      <td>0</td>\n",
       "      <td>1</td>\n",
       "      <td>1.135049</td>\n",
       "      <td>1.81344</td>\n",
       "      <td>3.174312</td>\n",
       "      <td>4.5</td>\n",
       "      <td>2.0</td>\n",
       "      <td>1.0</td>\n",
       "      <td>0.0</td>\n",
       "      <td>0.0</td>\n",
       "      <td>0.0</td>\n",
       "      <td>0.0</td>\n",
       "      <td>1.0</td>\n",
       "      <td>0.0</td>\n",
       "      <td>0.0</td>\n",
       "      <td>0.0</td>\n",
       "      <td>0.0</td>\n",
       "      <td>0.0</td>\n",
       "      <td>0.0</td>\n",
       "      <td>0.0</td>\n",
       "      <td>0.0</td>\n",
       "      <td>0.0</td>\n",
       "      <td>0.0</td>\n",
       "      <td>0.0</td>\n",
       "      <td>0.0</td>\n",
       "      <td>1.0</td>\n",
       "      <td>0.0</td>\n",
       "      <td>0.0</td>\n",
       "      <td>0.0</td>\n",
       "      <td>[tv, cabletv, wifi, airconditioning, wheelchai...</td>\n",
       "      <td>1</td>\n",
       "      <td>1</td>\n",
       "      <td>1</td>\n",
       "      <td>1</td>\n",
       "      <td>0</td>\n",
       "      <td>0</td>\n",
       "      <td>0</td>\n",
       "      <td>0</td>\n",
       "      <td>0</td>\n",
       "      <td>0</td>\n",
       "      <td>0.776522</td>\n",
       "      <td>Cozy Place In Singapore</td>\n",
       "    </tr>\n",
       "  </tbody>\n",
       "</table>\n",
       "</div>"
      ],
      "text/plain": [
       "        id  ...                     name\n",
       "0  1101652  ...  Cozy Place In Singapore\n",
       "\n",
       "[1 rows x 60 columns]"
      ]
     },
     "execution_count": 53,
     "metadata": {
      "tags": []
     },
     "output_type": "execute_result"
    }
   ],
   "source": [
    "df_mbr.head(1)"
   ]
  },
  {
   "cell_type": "code",
   "execution_count": 54,
   "metadata": {
    "id": "VlPW_i0Nsc82"
   },
   "outputs": [],
   "source": [
    "def create_soup(x):\n",
    "    return x['description'] + ' ' + str(x['host_about']) + ' '+ ' '.join(x['host_verifications']) + ' ' + ' '.join(x['amenities_list'])"
   ]
  },
  {
   "cell_type": "code",
   "execution_count": 55,
   "metadata": {
    "id": "_x33Smrfsn5Y"
   },
   "outputs": [],
   "source": [
    "df_mbr['soup'] = df_mbr.apply(create_soup, axis=1)"
   ]
  },
  {
   "cell_type": "code",
   "execution_count": 56,
   "metadata": {
    "colab": {
     "base_uri": "https://localhost:8080/",
     "height": 171
    },
    "id": "9c4AxYcosvMf",
    "outputId": "33803291-f19a-4de4-de87-8789c3f561e4"
   },
   "outputs": [
    {
     "data": {
      "application/vnd.google.colaboratory.intrinsic+json": {
       "type": "string"
      },
      "text/plain": [
       "\"Explore one of Singapore's best kept heritage in the East, just steps outside this cosy 1-bedroom condo. Surpisingly quiet despite being so near to the delights of Katong with its myriad of shops and endless eateries! Explore one of Singapore's best kept heritage in the East, just steps outside this cosy 1-bedroom condo. Surpisingly quiet despite being so near to the delights of Katong with its myriad of shops and endless eateries!  Simple, cool layout and in tip top condition. Featuring a fully furnished applianced kitchen, dryer, washer and a modern bath with a rain-shower feature to destress. The Queen sized bed comfortably fits two people with additional sofa bed tucked in the living room. A small pool with jacuzzi for relaxation is available too. What is better? A good sized balcony to laze your day away drenching in the tropical sunshine!  It's a great spot to call home during your visit to Singapore! The condo is also a short walk to Parkway Parade Mall, I12Katong Mall, Katong V Hey!\\r\\n\\r\\nWelcome to my cozy apartment . I first tried airbnb in last nov and love it. During travel, i like to experience the local local experience and by staying in a place where the local stay, i believe i will be able to learn more about them.\\r\\n\\r\\nTake a look at my apartment and even if you are not renting the apartment, feel free to ask me anything about Singapore and i will try my best to assist\\r\\n\\r\\nCheers!\\r\\n\\r\\nJuan\\r\\n \\r\\n\\r\\n\\r\\n [ ' e m a i l ' , ' p h o n e ' , ' r e v i e w s ' ] tv cabletv wifi airconditioning wheelchairaccessible pool kitchen freeparkingonpremises elevator heating family/kidfriendly washer dryer essentials shampoo iron\""
      ]
     },
     "execution_count": 56,
     "metadata": {
      "tags": []
     },
     "output_type": "execute_result"
    }
   ],
   "source": [
    "df_mbr.iloc[0]['soup']"
   ]
  },
  {
   "cell_type": "code",
   "execution_count": 57,
   "metadata": {
    "id": "QQ_jHj5guPhN"
   },
   "outputs": [],
   "source": [
    "from sklearn.feature_extraction.text import CountVectorizer\n",
    "\n",
    "count = CountVectorizer(stop_words='english')\n",
    "count_matrix = count.fit_transform(df_mbr['soup'])\n",
    "\n",
    "from sklearn.metrics.pairwise import cosine_similarity\n",
    "\n",
    "cosine_sim2 = cosine_similarity(count_matrix, count_matrix)\n",
    "\n",
    "df_mbr = df_mbr.reset_index()\n",
    "indices2 = pd.Series(df_mbr.index, index=df_mbr['name'])"
   ]
  },
  {
   "cell_type": "code",
   "execution_count": 58,
   "metadata": {
    "id": "uOEKMs7RvOZj"
   },
   "outputs": [],
   "source": [
    "def content_recommender(name, cosine_sim, df, indices):\n",
    "    idx = indices[name]\n",
    "\n",
    "    # Get the pairwsie similarity scores of all listings with that listing\n",
    "    # And convert it into a list of tuples as described above\n",
    "    sim_scores = list(enumerate(cosine_sim[idx]))\n",
    "\n",
    "    # Sort the listings based on the cosine similarity scores\n",
    "    sim_scores = sorted(sim_scores, key=lambda x: x[1], reverse=True)\n",
    "\n",
    "    # Get the scores of the 10 most similar listings. Ignore the first one.\n",
    "    sim_scores = sim_scores[1:11]\n",
    "\n",
    "    # Get the listing indices\n",
    "    listings_indices = [i[0] for i in sim_scores]\n",
    "\n",
    "    df_new = pd.DataFrame(df['name'].iloc[listings_indices])\n",
    "    df_new = df_new.assign(scores = list(map(lambda x: x[1], sim_scores)))\n",
    "\n",
    "    # Return the top 10 most similar listings\n",
    "    return df_new"
   ]
  },
  {
   "cell_type": "code",
   "execution_count": 59,
   "metadata": {
    "colab": {
     "base_uri": "https://localhost:8080/",
     "height": 359
    },
    "id": "GXAJRZ6IuggP",
    "outputId": "b554fba5-a2c4-452b-8c5d-97457cbb0606"
   },
   "outputs": [
    {
     "data": {
      "text/html": [
       "<div>\n",
       "<style scoped>\n",
       "    .dataframe tbody tr th:only-of-type {\n",
       "        vertical-align: middle;\n",
       "    }\n",
       "\n",
       "    .dataframe tbody tr th {\n",
       "        vertical-align: top;\n",
       "    }\n",
       "\n",
       "    .dataframe thead th {\n",
       "        text-align: right;\n",
       "    }\n",
       "</style>\n",
       "<table border=\"1\" class=\"dataframe\">\n",
       "  <thead>\n",
       "    <tr style=\"text-align: right;\">\n",
       "      <th></th>\n",
       "      <th>name</th>\n",
       "      <th>scores</th>\n",
       "    </tr>\n",
       "  </thead>\n",
       "  <tbody>\n",
       "    <tr>\n",
       "      <th>507</th>\n",
       "      <td>1 Br W/ Prvt. Bathroom Available In Heart Of Cbd!</td>\n",
       "      <td>0.410496</td>\n",
       "    </tr>\n",
       "    <tr>\n",
       "      <th>3610</th>\n",
       "      <td>Comfy Room @Jurongeast</td>\n",
       "      <td>0.402591</td>\n",
       "    </tr>\n",
       "    <tr>\n",
       "      <th>2269</th>\n",
       "      <td>Mins To Cbd, 2 Br Apartment</td>\n",
       "      <td>0.402432</td>\n",
       "    </tr>\n",
       "    <tr>\n",
       "      <th>3382</th>\n",
       "      <td>Huge 2Bdrm &gt;5Mins To Paya Lebar Mrt</td>\n",
       "      <td>0.401115</td>\n",
       "    </tr>\n",
       "    <tr>\n",
       "      <th>3775</th>\n",
       "      <td>Discount Bright Homey 2Br Near City Peranakanarea</td>\n",
       "      <td>0.393228</td>\n",
       "    </tr>\n",
       "    <tr>\n",
       "      <th>4307</th>\n",
       "      <td>Discount Bright Quiet 2Br Big Balcony Near City</td>\n",
       "      <td>0.372484</td>\n",
       "    </tr>\n",
       "    <tr>\n",
       "      <th>2918</th>\n",
       "      <td>Raffles Place Sea View 1Br Condo</td>\n",
       "      <td>0.369175</td>\n",
       "    </tr>\n",
       "    <tr>\n",
       "      <th>7476</th>\n",
       "      <td>Central 2Br Apt In Chinatown Above Mrt (#69)</td>\n",
       "      <td>0.368142</td>\n",
       "    </tr>\n",
       "    <tr>\n",
       "      <th>6262</th>\n",
       "      <td>1Br Suite In Chinatown/Cbd Above Mrt (#65)</td>\n",
       "      <td>0.366119</td>\n",
       "    </tr>\n",
       "    <tr>\n",
       "      <th>7520</th>\n",
       "      <td>Spacious 1+Study Above Mrt Station, (P-3)</td>\n",
       "      <td>0.365869</td>\n",
       "    </tr>\n",
       "  </tbody>\n",
       "</table>\n",
       "</div>"
      ],
      "text/plain": [
       "                                                   name    scores\n",
       "507   1 Br W/ Prvt. Bathroom Available In Heart Of Cbd!  0.410496\n",
       "3610                             Comfy Room @Jurongeast  0.402591\n",
       "2269                        Mins To Cbd, 2 Br Apartment  0.402432\n",
       "3382                Huge 2Bdrm >5Mins To Paya Lebar Mrt  0.401115\n",
       "3775  Discount Bright Homey 2Br Near City Peranakanarea  0.393228\n",
       "4307    Discount Bright Quiet 2Br Big Balcony Near City  0.372484\n",
       "2918                   Raffles Place Sea View 1Br Condo  0.369175\n",
       "7476       Central 2Br Apt In Chinatown Above Mrt (#69)  0.368142\n",
       "6262         1Br Suite In Chinatown/Cbd Above Mrt (#65)  0.366119\n",
       "7520          Spacious 1+Study Above Mrt Station, (P-3)  0.365869"
      ]
     },
     "execution_count": 59,
     "metadata": {
      "tags": []
     },
     "output_type": "execute_result"
    }
   ],
   "source": [
    "content_recommender(\"Cozy Place In Singapore\", cosine_sim2, df_mbr, indices2)"
   ]
  },
  {
   "cell_type": "code",
   "execution_count": 60,
   "metadata": {
    "id": "M5F1Xe5G3cij"
   },
   "outputs": [],
   "source": [
    "def recommend(name):\n",
    "  return content_recommender(name, cosine_sim, df_cbr, indices)"
   ]
  },
  {
   "cell_type": "code",
   "execution_count": 61,
   "metadata": {
    "colab": {
     "base_uri": "https://localhost:8080/",
     "height": 359
    },
    "id": "tO0M7-N73mDk",
    "outputId": "1be3770b-757e-4349-9de0-1262feab9514"
   },
   "outputs": [
    {
     "data": {
      "text/html": [
       "<div>\n",
       "<style scoped>\n",
       "    .dataframe tbody tr th:only-of-type {\n",
       "        vertical-align: middle;\n",
       "    }\n",
       "\n",
       "    .dataframe tbody tr th {\n",
       "        vertical-align: top;\n",
       "    }\n",
       "\n",
       "    .dataframe thead th {\n",
       "        text-align: right;\n",
       "    }\n",
       "</style>\n",
       "<table border=\"1\" class=\"dataframe\">\n",
       "  <thead>\n",
       "    <tr style=\"text-align: right;\">\n",
       "      <th></th>\n",
       "      <th>name</th>\n",
       "      <th>scores</th>\n",
       "    </tr>\n",
       "  </thead>\n",
       "  <tbody>\n",
       "    <tr>\n",
       "      <th>7570</th>\n",
       "      <td>2Br 2Bath In Katong Near F&amp;B (Min 3 Mths)</td>\n",
       "      <td>0.200835</td>\n",
       "    </tr>\n",
       "    <tr>\n",
       "      <th>2308</th>\n",
       "      <td>Near To Central With Free Parking</td>\n",
       "      <td>0.194561</td>\n",
       "    </tr>\n",
       "    <tr>\n",
       "      <th>3024</th>\n",
       "      <td>Modern 2Br Apt In Katong, Free Parking, Near F&amp;B</td>\n",
       "      <td>0.175625</td>\n",
       "    </tr>\n",
       "    <tr>\n",
       "      <th>3836</th>\n",
       "      <td>Humble &amp; Conveniently Located 1Br In Katong Area</td>\n",
       "      <td>0.172282</td>\n",
       "    </tr>\n",
       "    <tr>\n",
       "      <th>6257</th>\n",
       "      <td>Humble &amp; Conveniently Located 1Br In Katong Area</td>\n",
       "      <td>0.172282</td>\n",
       "    </tr>\n",
       "    <tr>\n",
       "      <th>2049</th>\n",
       "      <td>East Coast Haven</td>\n",
       "      <td>0.169960</td>\n",
       "    </tr>\n",
       "    <tr>\n",
       "      <th>6336</th>\n",
       "      <td>Humble &amp; Conveniently Located 1Br In Katong Area</td>\n",
       "      <td>0.169191</td>\n",
       "    </tr>\n",
       "    <tr>\n",
       "      <th>12220</th>\n",
       "      <td>Kampong Living Cosy Room At Coliving Space</td>\n",
       "      <td>0.168525</td>\n",
       "    </tr>\n",
       "    <tr>\n",
       "      <th>4369</th>\n",
       "      <td>Spacious 3Br Home With East Coast Sea View</td>\n",
       "      <td>0.167057</td>\n",
       "    </tr>\n",
       "    <tr>\n",
       "      <th>10348</th>\n",
       "      <td>Humble &amp; Conveniently Located 1Br In Katong Area</td>\n",
       "      <td>0.165239</td>\n",
       "    </tr>\n",
       "  </tbody>\n",
       "</table>\n",
       "</div>"
      ],
      "text/plain": [
       "                                                   name    scores\n",
       "7570          2Br 2Bath In Katong Near F&B (Min 3 Mths)  0.200835\n",
       "2308                  Near To Central With Free Parking  0.194561\n",
       "3024   Modern 2Br Apt In Katong, Free Parking, Near F&B  0.175625\n",
       "3836   Humble & Conveniently Located 1Br In Katong Area  0.172282\n",
       "6257   Humble & Conveniently Located 1Br In Katong Area  0.172282\n",
       "2049                                   East Coast Haven  0.169960\n",
       "6336   Humble & Conveniently Located 1Br In Katong Area  0.169191\n",
       "12220        Kampong Living Cosy Room At Coliving Space  0.168525\n",
       "4369         Spacious 3Br Home With East Coast Sea View  0.167057\n",
       "10348  Humble & Conveniently Located 1Br In Katong Area  0.165239"
      ]
     },
     "execution_count": 61,
     "metadata": {
      "tags": []
     },
     "output_type": "execute_result"
    }
   ],
   "source": [
    "recommend(\"Cozy Place In Singapore\")"
   ]
  },
  {
   "cell_type": "code",
   "execution_count": 62,
   "metadata": {
    "colab": {
     "base_uri": "https://localhost:8080/",
     "height": 359
    },
    "id": "AKWzMeKvu09I",
    "outputId": "fb303014-88fc-47d0-a646-348f2420d7af"
   },
   "outputs": [
    {
     "data": {
      "text/html": [
       "<div>\n",
       "<style scoped>\n",
       "    .dataframe tbody tr th:only-of-type {\n",
       "        vertical-align: middle;\n",
       "    }\n",
       "\n",
       "    .dataframe tbody tr th {\n",
       "        vertical-align: top;\n",
       "    }\n",
       "\n",
       "    .dataframe thead th {\n",
       "        text-align: right;\n",
       "    }\n",
       "</style>\n",
       "<table border=\"1\" class=\"dataframe\">\n",
       "  <thead>\n",
       "    <tr style=\"text-align: right;\">\n",
       "      <th></th>\n",
       "      <th>name</th>\n",
       "      <th>scores</th>\n",
       "    </tr>\n",
       "  </thead>\n",
       "  <tbody>\n",
       "    <tr>\n",
       "      <th>7570</th>\n",
       "      <td>2Br 2Bath In Katong Near F&amp;B (Min 3 Mths)</td>\n",
       "      <td>0.200835</td>\n",
       "    </tr>\n",
       "    <tr>\n",
       "      <th>2308</th>\n",
       "      <td>Near To Central With Free Parking</td>\n",
       "      <td>0.194561</td>\n",
       "    </tr>\n",
       "    <tr>\n",
       "      <th>3024</th>\n",
       "      <td>Modern 2Br Apt In Katong, Free Parking, Near F&amp;B</td>\n",
       "      <td>0.175625</td>\n",
       "    </tr>\n",
       "    <tr>\n",
       "      <th>3836</th>\n",
       "      <td>Humble &amp; Conveniently Located 1Br In Katong Area</td>\n",
       "      <td>0.172282</td>\n",
       "    </tr>\n",
       "    <tr>\n",
       "      <th>6257</th>\n",
       "      <td>Humble &amp; Conveniently Located 1Br In Katong Area</td>\n",
       "      <td>0.172282</td>\n",
       "    </tr>\n",
       "    <tr>\n",
       "      <th>2049</th>\n",
       "      <td>East Coast Haven</td>\n",
       "      <td>0.169960</td>\n",
       "    </tr>\n",
       "    <tr>\n",
       "      <th>6336</th>\n",
       "      <td>Humble &amp; Conveniently Located 1Br In Katong Area</td>\n",
       "      <td>0.169191</td>\n",
       "    </tr>\n",
       "    <tr>\n",
       "      <th>12220</th>\n",
       "      <td>Kampong Living Cosy Room At Coliving Space</td>\n",
       "      <td>0.168525</td>\n",
       "    </tr>\n",
       "    <tr>\n",
       "      <th>4369</th>\n",
       "      <td>Spacious 3Br Home With East Coast Sea View</td>\n",
       "      <td>0.167057</td>\n",
       "    </tr>\n",
       "    <tr>\n",
       "      <th>10348</th>\n",
       "      <td>Humble &amp; Conveniently Located 1Br In Katong Area</td>\n",
       "      <td>0.165239</td>\n",
       "    </tr>\n",
       "  </tbody>\n",
       "</table>\n",
       "</div>"
      ],
      "text/plain": [
       "                                                   name    scores\n",
       "7570          2Br 2Bath In Katong Near F&B (Min 3 Mths)  0.200835\n",
       "2308                  Near To Central With Free Parking  0.194561\n",
       "3024   Modern 2Br Apt In Katong, Free Parking, Near F&B  0.175625\n",
       "3836   Humble & Conveniently Located 1Br In Katong Area  0.172282\n",
       "6257   Humble & Conveniently Located 1Br In Katong Area  0.172282\n",
       "2049                                   East Coast Haven  0.169960\n",
       "6336   Humble & Conveniently Located 1Br In Katong Area  0.169191\n",
       "12220        Kampong Living Cosy Room At Coliving Space  0.168525\n",
       "4369         Spacious 3Br Home With East Coast Sea View  0.167057\n",
       "10348  Humble & Conveniently Located 1Br In Katong Area  0.165239"
      ]
     },
     "execution_count": 62,
     "metadata": {
      "tags": []
     },
     "output_type": "execute_result"
    }
   ],
   "source": [
    "content_recommender(\"Cozy Place In Singapore\", cosine_sim, df_cbr, indices)"
   ]
  },
  {
   "cell_type": "code",
   "execution_count": 63,
   "metadata": {
    "id": "fzvJiqhJAwGx"
   },
   "outputs": [],
   "source": [
    "def recommend(name):\n",
    "  return content_recommender(name, cosine_sim2, df_mbr, indices2)"
   ]
  },
  {
   "cell_type": "code",
   "execution_count": 64,
   "metadata": {
    "colab": {
     "base_uri": "https://localhost:8080/",
     "height": 359
    },
    "id": "WXLuvbr6A5zF",
    "outputId": "ca1d85de-0cba-4853-a8fa-ab50fbd685ea"
   },
   "outputs": [
    {
     "data": {
      "text/html": [
       "<div>\n",
       "<style scoped>\n",
       "    .dataframe tbody tr th:only-of-type {\n",
       "        vertical-align: middle;\n",
       "    }\n",
       "\n",
       "    .dataframe tbody tr th {\n",
       "        vertical-align: top;\n",
       "    }\n",
       "\n",
       "    .dataframe thead th {\n",
       "        text-align: right;\n",
       "    }\n",
       "</style>\n",
       "<table border=\"1\" class=\"dataframe\">\n",
       "  <thead>\n",
       "    <tr style=\"text-align: right;\">\n",
       "      <th></th>\n",
       "      <th>name</th>\n",
       "      <th>scores</th>\n",
       "    </tr>\n",
       "  </thead>\n",
       "  <tbody>\n",
       "    <tr>\n",
       "      <th>507</th>\n",
       "      <td>1 Br W/ Prvt. Bathroom Available In Heart Of Cbd!</td>\n",
       "      <td>0.410496</td>\n",
       "    </tr>\n",
       "    <tr>\n",
       "      <th>3610</th>\n",
       "      <td>Comfy Room @Jurongeast</td>\n",
       "      <td>0.402591</td>\n",
       "    </tr>\n",
       "    <tr>\n",
       "      <th>2269</th>\n",
       "      <td>Mins To Cbd, 2 Br Apartment</td>\n",
       "      <td>0.402432</td>\n",
       "    </tr>\n",
       "    <tr>\n",
       "      <th>3382</th>\n",
       "      <td>Huge 2Bdrm &gt;5Mins To Paya Lebar Mrt</td>\n",
       "      <td>0.401115</td>\n",
       "    </tr>\n",
       "    <tr>\n",
       "      <th>3775</th>\n",
       "      <td>Discount Bright Homey 2Br Near City Peranakanarea</td>\n",
       "      <td>0.393228</td>\n",
       "    </tr>\n",
       "    <tr>\n",
       "      <th>4307</th>\n",
       "      <td>Discount Bright Quiet 2Br Big Balcony Near City</td>\n",
       "      <td>0.372484</td>\n",
       "    </tr>\n",
       "    <tr>\n",
       "      <th>2918</th>\n",
       "      <td>Raffles Place Sea View 1Br Condo</td>\n",
       "      <td>0.369175</td>\n",
       "    </tr>\n",
       "    <tr>\n",
       "      <th>7476</th>\n",
       "      <td>Central 2Br Apt In Chinatown Above Mrt (#69)</td>\n",
       "      <td>0.368142</td>\n",
       "    </tr>\n",
       "    <tr>\n",
       "      <th>6262</th>\n",
       "      <td>1Br Suite In Chinatown/Cbd Above Mrt (#65)</td>\n",
       "      <td>0.366119</td>\n",
       "    </tr>\n",
       "    <tr>\n",
       "      <th>7520</th>\n",
       "      <td>Spacious 1+Study Above Mrt Station, (P-3)</td>\n",
       "      <td>0.365869</td>\n",
       "    </tr>\n",
       "  </tbody>\n",
       "</table>\n",
       "</div>"
      ],
      "text/plain": [
       "                                                   name    scores\n",
       "507   1 Br W/ Prvt. Bathroom Available In Heart Of Cbd!  0.410496\n",
       "3610                             Comfy Room @Jurongeast  0.402591\n",
       "2269                        Mins To Cbd, 2 Br Apartment  0.402432\n",
       "3382                Huge 2Bdrm >5Mins To Paya Lebar Mrt  0.401115\n",
       "3775  Discount Bright Homey 2Br Near City Peranakanarea  0.393228\n",
       "4307    Discount Bright Quiet 2Br Big Balcony Near City  0.372484\n",
       "2918                   Raffles Place Sea View 1Br Condo  0.369175\n",
       "7476       Central 2Br Apt In Chinatown Above Mrt (#69)  0.368142\n",
       "6262         1Br Suite In Chinatown/Cbd Above Mrt (#65)  0.366119\n",
       "7520          Spacious 1+Study Above Mrt Station, (P-3)  0.365869"
      ]
     },
     "execution_count": 64,
     "metadata": {
      "tags": []
     },
     "output_type": "execute_result"
    }
   ],
   "source": [
    "recommend(\"Cozy Place In Singapore\")"
   ]
  },
  {
   "cell_type": "markdown",
   "metadata": {
    "id": "4D7W99MiO0gQ"
   },
   "source": [
    "# Collaborative Filtering Recommendation"
   ]
  },
  {
   "cell_type": "code",
   "execution_count": 65,
   "metadata": {
    "colab": {
     "base_uri": "https://localhost:8080/"
    },
    "id": "X8P1LFdrW9RM",
    "outputId": "76aeb8a9-c536-4c73-eb20-8cc1c3994985"
   },
   "outputs": [
    {
     "name": "stdout",
     "output_type": "stream",
     "text": [
      "Collecting surprise\n",
      "  Downloading https://files.pythonhosted.org/packages/61/de/e5cba8682201fcf9c3719a6fdda95693468ed061945493dea2dd37c5618b/surprise-0.1-py2.py3-none-any.whl\n",
      "Collecting scikit-surprise\n",
      "\u001b[?25l  Downloading https://files.pythonhosted.org/packages/97/37/5d334adaf5ddd65da99fc65f6507e0e4599d092ba048f4302fe8775619e8/scikit-surprise-1.1.1.tar.gz (11.8MB)\n",
      "\u001b[K     |████████████████████████████████| 11.8MB 5.6MB/s \n",
      "\u001b[?25hRequirement already satisfied: joblib>=0.11 in /usr/local/lib/python3.7/dist-packages (from scikit-surprise->surprise) (1.0.1)\n",
      "Requirement already satisfied: numpy>=1.11.2 in /usr/local/lib/python3.7/dist-packages (from scikit-surprise->surprise) (1.19.5)\n",
      "Requirement already satisfied: scipy>=1.0.0 in /usr/local/lib/python3.7/dist-packages (from scikit-surprise->surprise) (1.4.1)\n",
      "Requirement already satisfied: six>=1.10.0 in /usr/local/lib/python3.7/dist-packages (from scikit-surprise->surprise) (1.15.0)\n",
      "Building wheels for collected packages: scikit-surprise\n",
      "  Building wheel for scikit-surprise (setup.py) ... \u001b[?25l\u001b[?25hdone\n",
      "  Created wheel for scikit-surprise: filename=scikit_surprise-1.1.1-cp37-cp37m-linux_x86_64.whl size=1617542 sha256=efd976267fb409c3535893f9ea20a5dd7c3c8954ab06d170d445b71ca4b2e402\n",
      "  Stored in directory: /root/.cache/pip/wheels/78/9c/3d/41b419c9d2aff5b6e2b4c0fc8d25c538202834058f9ed110d0\n",
      "Successfully built scikit-surprise\n",
      "Installing collected packages: scikit-surprise, surprise\n",
      "Successfully installed scikit-surprise-1.1.1 surprise-0.1\n"
     ]
    }
   ],
   "source": [
    "!pip install surprise"
   ]
  },
  {
   "cell_type": "code",
   "execution_count": 66,
   "metadata": {
    "id": "MU7tJ4bDW8hJ"
   },
   "outputs": [],
   "source": [
    "from surprise import SVD, Reader, Dataset\n",
    "from surprise.model_selection import KFold"
   ]
  },
  {
   "cell_type": "code",
   "execution_count": 67,
   "metadata": {
    "id": "5AqiW8hvO73L"
   },
   "outputs": [],
   "source": [
    "df_cfr = customers.copy()"
   ]
  },
  {
   "cell_type": "code",
   "execution_count": 68,
   "metadata": {
    "id": "eUYkus7mhSU9"
   },
   "outputs": [],
   "source": [
    "counts = df_cfr['listing_id'].value_counts()\n",
    "df_cfr = df_cfr[df_cfr['listing_id'].isin(counts[counts >= 10].index)]"
   ]
  },
  {
   "cell_type": "code",
   "execution_count": 69,
   "metadata": {
    "id": "J93LSZWVhcQE"
   },
   "outputs": [],
   "source": [
    "counts1 = df_cfr['reviewer_id'].value_counts()\n",
    "df_cfr = df_cfr[df_cfr['reviewer_id'].isin(counts1[counts1 > 2].index)]"
   ]
  },
  {
   "cell_type": "code",
   "execution_count": 70,
   "metadata": {
    "colab": {
     "base_uri": "https://localhost:8080/"
    },
    "id": "hJkrD7aoWnBj",
    "outputId": "09fecdd0-c3f9-451e-841f-ccb2d116ca59"
   },
   "outputs": [
    {
     "data": {
      "text/plain": [
       "(0, 14)"
      ]
     },
     "execution_count": 70,
     "metadata": {
      "tags": []
     },
     "output_type": "execute_result"
    }
   ],
   "source": [
    "counts1 = df_cfr['reviewer_id'].value_counts()\n",
    "df_cfr[df_cfr['reviewer_id'].isin(counts1[counts1 == 1].index)].shape"
   ]
  },
  {
   "cell_type": "code",
   "execution_count": 71,
   "metadata": {
    "colab": {
     "base_uri": "https://localhost:8080/"
    },
    "id": "oagVBNenWvKU",
    "outputId": "9d0305f0-c675-47a7-a713-8c19ad45f400"
   },
   "outputs": [
    {
     "data": {
      "text/plain": [
       "(7483, 14)"
      ]
     },
     "execution_count": 71,
     "metadata": {
      "tags": []
     },
     "output_type": "execute_result"
    }
   ],
   "source": [
    "df_cfr.shape"
   ]
  },
  {
   "cell_type": "code",
   "execution_count": 72,
   "metadata": {
    "colab": {
     "base_uri": "https://localhost:8080/"
    },
    "id": "Vo6eVjlChsi7",
    "outputId": "5aa47ace-d001-4eef-c78c-ff64542d91d6"
   },
   "outputs": [
    {
     "name": "stdout",
     "output_type": "stream",
     "text": [
      "reviewer_id       1878\n",
      "listing_id        2049\n",
      "polarity_score    1819\n",
      "dtype: int64\n"
     ]
    }
   ],
   "source": [
    "df = df_cfr[['reviewer_id','listing_id','polarity_score' ]]\n",
    "df.head()\n",
    "print(df.nunique())"
   ]
  },
  {
   "cell_type": "code",
   "execution_count": 73,
   "metadata": {
    "colab": {
     "base_uri": "https://localhost:8080/",
     "height": 359
    },
    "id": "I4XwDcCO87hL",
    "outputId": "65b6c5f5-d953-4f69-c641-ca87082a5962"
   },
   "outputs": [
    {
     "data": {
      "text/html": [
       "<div>\n",
       "<style scoped>\n",
       "    .dataframe tbody tr th:only-of-type {\n",
       "        vertical-align: middle;\n",
       "    }\n",
       "\n",
       "    .dataframe tbody tr th {\n",
       "        vertical-align: top;\n",
       "    }\n",
       "\n",
       "    .dataframe thead th {\n",
       "        text-align: right;\n",
       "    }\n",
       "</style>\n",
       "<table border=\"1\" class=\"dataframe\">\n",
       "  <thead>\n",
       "    <tr style=\"text-align: right;\">\n",
       "      <th></th>\n",
       "      <th>reviewer_id</th>\n",
       "      <th>listing_id</th>\n",
       "      <th>polarity_score</th>\n",
       "    </tr>\n",
       "  </thead>\n",
       "  <tbody>\n",
       "    <tr>\n",
       "      <th>0</th>\n",
       "      <td>17709890</td>\n",
       "      <td>50646</td>\n",
       "      <td>0.9802</td>\n",
       "    </tr>\n",
       "    <tr>\n",
       "      <th>1</th>\n",
       "      <td>4848541</td>\n",
       "      <td>71896</td>\n",
       "      <td>0.9868</td>\n",
       "    </tr>\n",
       "    <tr>\n",
       "      <th>2</th>\n",
       "      <td>1369617</td>\n",
       "      <td>241503</td>\n",
       "      <td>0.9781</td>\n",
       "    </tr>\n",
       "    <tr>\n",
       "      <th>3</th>\n",
       "      <td>1401333</td>\n",
       "      <td>241503</td>\n",
       "      <td>0.9600</td>\n",
       "    </tr>\n",
       "    <tr>\n",
       "      <th>4</th>\n",
       "      <td>2302404</td>\n",
       "      <td>241503</td>\n",
       "      <td>0.9337</td>\n",
       "    </tr>\n",
       "    <tr>\n",
       "      <th>5</th>\n",
       "      <td>2506808</td>\n",
       "      <td>241503</td>\n",
       "      <td>0.9902</td>\n",
       "    </tr>\n",
       "    <tr>\n",
       "      <th>6</th>\n",
       "      <td>5125575</td>\n",
       "      <td>241503</td>\n",
       "      <td>0.9933</td>\n",
       "    </tr>\n",
       "    <tr>\n",
       "      <th>7</th>\n",
       "      <td>2506808</td>\n",
       "      <td>241503</td>\n",
       "      <td>0.9431</td>\n",
       "    </tr>\n",
       "    <tr>\n",
       "      <th>8</th>\n",
       "      <td>7713647</td>\n",
       "      <td>241503</td>\n",
       "      <td>0.9943</td>\n",
       "    </tr>\n",
       "    <tr>\n",
       "      <th>9</th>\n",
       "      <td>13588897</td>\n",
       "      <td>241503</td>\n",
       "      <td>0.9842</td>\n",
       "    </tr>\n",
       "  </tbody>\n",
       "</table>\n",
       "</div>"
      ],
      "text/plain": [
       "   reviewer_id  listing_id  polarity_score\n",
       "0     17709890       50646          0.9802\n",
       "1      4848541       71896          0.9868\n",
       "2      1369617      241503          0.9781\n",
       "3      1401333      241503          0.9600\n",
       "4      2302404      241503          0.9337\n",
       "5      2506808      241503          0.9902\n",
       "6      5125575      241503          0.9933\n",
       "7      2506808      241503          0.9431\n",
       "8      7713647      241503          0.9943\n",
       "9     13588897      241503          0.9842"
      ]
     },
     "execution_count": 73,
     "metadata": {
      "tags": []
     },
     "output_type": "execute_result"
    }
   ],
   "source": [
    "df.head(10).reset_index().drop(\"index\", axis=1)"
   ]
  },
  {
   "cell_type": "code",
   "execution_count": 74,
   "metadata": {
    "id": "09T8dcy7hw2Z"
   },
   "outputs": [],
   "source": [
    "reader = Reader(rating_scale=(-1, 1))\n",
    "data = Dataset.load_from_df(df[['reviewer_id', 'listing_id', 'polarity_score']], reader)"
   ]
  },
  {
   "cell_type": "code",
   "execution_count": 75,
   "metadata": {
    "colab": {
     "base_uri": "https://localhost:8080/"
    },
    "id": "ct9KjwPYhzBN",
    "outputId": "23af6979-03f3-4343-cdd7-566a81ebb68a"
   },
   "outputs": [
    {
     "name": "stdout",
     "output_type": "stream",
     "text": [
      "Grid Search...\n",
      "best RMSE score\n",
      "0.2514488397393215\n"
     ]
    }
   ],
   "source": [
    "raw_ratings = data.raw_ratings\n",
    "\n",
    "import random\n",
    "from surprise.model_selection import GridSearchCV\n",
    "# shuffle ratings if you want\n",
    "random.shuffle(raw_ratings)\n",
    "\n",
    "# A = 90% of the data, B = 10% of the data\n",
    "threshold = int(.9 * len(raw_ratings))\n",
    "A_raw_ratings = raw_ratings[:threshold]\n",
    "B_raw_ratings = raw_ratings[threshold:]\n",
    "\n",
    "data.raw_ratings = A_raw_ratings  # data is now the set A\n",
    "\n",
    "# Select your best algo with grid search.\n",
    "print('Grid Search...')\n",
    "\n",
    "param_grid = {'n_epochs': [5, 10], 'lr_all': [0.002, 0.005,0.1],\n",
    "              'reg_all': [0.4, 0.6], 'n_factors':[100,500]} # tuning\n",
    "grid_search = GridSearchCV(SVD, param_grid, measures=['rmse','mae'], cv=3)\n",
    "grid_search.fit(data)\n",
    "print('best RMSE score')\n",
    "print(grid_search.best_score['rmse'])"
   ]
  },
  {
   "cell_type": "code",
   "execution_count": 76,
   "metadata": {
    "colab": {
     "base_uri": "https://localhost:8080/"
    },
    "id": "rI4OlhGah1GU",
    "outputId": "e3346511-14b8-43f1-cc69-340f323a7a35"
   },
   "outputs": [
    {
     "name": "stdout",
     "output_type": "stream",
     "text": [
      "combination of parameters that gave the best RMSE score\n",
      "{'n_epochs': 5, 'lr_all': 0.1, 'reg_all': 0.6, 'n_factors': 100}\n"
     ]
    }
   ],
   "source": [
    "print('combination of parameters that gave the best RMSE score')\n",
    "print(grid_search.best_params['rmse'])\n",
    "algo = grid_search.best_estimator['rmse']"
   ]
  },
  {
   "cell_type": "code",
   "execution_count": 77,
   "metadata": {
    "colab": {
     "base_uri": "https://localhost:8080/"
    },
    "id": "n8hKyV-_h3bq",
    "outputId": "61028d38-641d-4ea5-f84a-d8cee30a54bb"
   },
   "outputs": [
    {
     "name": "stdout",
     "output_type": "stream",
     "text": [
      "Biased accuracy on A,   RMSE: 0.1600\n",
      "len(predictions)\n",
      "6734\n"
     ]
    }
   ],
   "source": [
    "# retrain on the whole set A\n",
    "trainset = data.build_full_trainset()\n",
    "algo.fit(trainset)\n",
    "\n",
    "from surprise import accuracy\n",
    "# Compute biased accuracy on A\n",
    "testset= trainset.build_testset()\n",
    "predictions = algo.test(testset)\n",
    "print('Biased accuracy on A,', end='   ')\n",
    "accuracy.rmse(predictions,verbose=True)\n",
    "print('len(predictions)')\n",
    "print(len(predictions))"
   ]
  },
  {
   "cell_type": "code",
   "execution_count": 79,
   "metadata": {
    "colab": {
     "base_uri": "https://localhost:8080/"
    },
    "id": "vVOwK4qb-qTX",
    "outputId": "e3b3f5f9-527d-49f1-d716-5d036c150e28"
   },
   "outputs": [
    {
     "data": {
      "text/plain": [
       "(1877, 100)"
      ]
     },
     "execution_count": 79,
     "metadata": {
      "tags": []
     },
     "output_type": "execute_result"
    }
   ],
   "source": [
    "algo.pu.shape"
   ]
  },
  {
   "cell_type": "code",
   "execution_count": 80,
   "metadata": {
    "colab": {
     "base_uri": "https://localhost:8080/"
    },
    "id": "sFSkDoxCh450",
    "outputId": "008a2513-2e24-417f-e40a-3bd728005468"
   },
   "outputs": [
    {
     "name": "stdout",
     "output_type": "stream",
     "text": [
      "Unbiased accuracy on B, RMSE: 0.2608\n",
      "len(predictions)\n",
      "749\n"
     ]
    }
   ],
   "source": [
    "# Compute unbiased accuracy on B\n",
    "testset = data.construct_testset(B_raw_ratings)  # testset is now the set B\n",
    "predictions = algo.test(testset)\n",
    "print('Unbiased accuracy on B,', end=' ')\n",
    "accuracy.rmse(predictions)\n",
    "print('len(predictions)')\n",
    "print(len(predictions))"
   ]
  },
  {
   "cell_type": "code",
   "execution_count": 82,
   "metadata": {
    "colab": {
     "base_uri": "https://localhost:8080/"
    },
    "id": "fhHcHFN5h64U",
    "outputId": "a1324a3e-c463-4236-e7c1-7671ce85af3f"
   },
   "outputs": [
    {
     "name": "stdout",
     "output_type": "stream",
     "text": [
      "RMSE: 0.2987\n",
      "RMSE: 0.2964\n",
      "RMSE: 0.2689\n",
      "RMSE: 0.3080\n",
      "RMSE: 0.2698\n",
      "RMSE: 0.3129\n",
      "RMSE: 0.2912\n"
     ]
    }
   ],
   "source": [
    "# define a cross-validation iterator\n",
    "kf = KFold(n_splits=7)\n",
    "algo = SVD(n_factors=500, n_epochs=5, lr_all=0.1)\n",
    "\n",
    "for trainset, testset in kf.split(data):\n",
    "    # train and test algorithm.\n",
    "    algo.fit(trainset)\n",
    "    \n",
    "    predictions = algo.test(testset)\n",
    "    \n",
    "    # Compute and print Root Mean Squared Error\n",
    "    accuracy.rmse(predictions, verbose=True)\n"
   ]
  },
  {
   "cell_type": "code",
   "execution_count": 83,
   "metadata": {
    "colab": {
     "base_uri": "https://localhost:8080/"
    },
    "id": "zDn3wOSyh_et",
    "outputId": "98725225-6694-405b-e23a-4a3374d90246"
   },
   "outputs": [
    {
     "name": "stdout",
     "output_type": "stream",
     "text": [
      "Accuracy on whole data set,   RMSE: 0.0945\n",
      "len(predictions)\n",
      "6734\n"
     ]
    }
   ],
   "source": [
    "# retrain on the whole set A\n",
    "trainset = data.build_full_trainset()\n",
    "algo.fit(trainset)\n",
    "\n",
    "testset= trainset.build_testset() # anti?\n",
    "predictionsAll = algo.test(testset)\n",
    "print('Accuracy on whole data set,', end='   ')\n",
    "accuracy.rmse(predictionsAll,verbose=True)\n",
    "print('len(predictions)')\n",
    "print(len(predictionsAll))"
   ]
  },
  {
   "cell_type": "code",
   "execution_count": 85,
   "metadata": {
    "colab": {
     "base_uri": "https://localhost:8080/"
    },
    "id": "_ppPXmWNiB0R",
    "outputId": "fc10e205-4c79-4857-cd7c-f978fe6ddfae"
   },
   "outputs": [
    {
     "name": "stdout",
     "output_type": "stream",
     "text": [
      "getting top 3 recommendations\n"
     ]
    }
   ],
   "source": [
    "def get_top3_recommendations(predictions, topN = 3):\n",
    "     \n",
    "    top_recs = defaultdict(list)\n",
    "    for uid, iid, true_r, est, _ in predictions:\n",
    "        top_recs[uid].append((iid, est))\n",
    "     \n",
    "    for uid, user_ratings in top_recs.items():\n",
    "        user_ratings.sort(key = lambda x: x[1], reverse = True)\n",
    "        top_recs[uid] = user_ratings[:topN]    \n",
    "    return top_recs\n",
    "print('getting top 3 recommendations')"
   ]
  },
  {
   "cell_type": "code",
   "execution_count": 86,
   "metadata": {
    "colab": {
     "base_uri": "https://localhost:8080/"
    },
    "id": "A2xF4hiaiKeJ",
    "outputId": "140319e5-3e72-43c4-ab5b-2512b8614a9d"
   },
   "outputs": [
    {
     "name": "stdout",
     "output_type": "stream",
     "text": [
      "Total predictions calculated are 6734\n"
     ]
    }
   ],
   "source": [
    "from collections import defaultdict\n",
    "top3_recommendations = get_top3_recommendations(predictionsAll,3)\n",
    "\n",
    "print('Total predictions calculated are %d' % len(predictionsAll))"
   ]
  },
  {
   "cell_type": "code",
   "execution_count": 87,
   "metadata": {
    "colab": {
     "base_uri": "https://localhost:8080/"
    },
    "id": "yS7FxI3kFxJl",
    "outputId": "20e5d3a6-17f5-44cc-90b1-a4532f567abe"
   },
   "outputs": [
    {
     "data": {
      "text/plain": [
       "dict_items([(5843865, [(12475063, 0.9889417732443291), (12345284, 0.13470683359035984)]), (17273265, [(26464626, 0.9712978521973402), (17813122, 0.964823612659556), (13462899, 0.9628447441227352)]), (49304010, [(7350502, 0.8161682025385393), (5739284, 0.7974365535519635), (12859055, 0.6253156804838492)]), (582032, [(6686851, 0.9623501110700715), (7931127, 0.947646195263257), (11267014, 0.8649145708083287)]), (3290533, [(6117032, 0.9809559698233357), (7622220, 0.9730713227921345), (3988536, 0.9122377487422269)]), (22750305, [(15438033, 0.9517538423038701), (2731054, 0.9387006745192152), (21430677, 0.921579578418322)]), (20613825, [(6431505, 0.9268069359164662), (6431505, 0.9268069359164662), (29830408, 0.7404078346226195)]), (9897832, [(19687504, 0.7842728796039883), (7843168, 0.7217338424641726), (16502098, 0.6392361468740102)]), (125653187, [(21154795, 0.8835974368564046), (16329592, 0.8476389235413251), (16329592, 0.8476389235413251)]), (174869022, [(12924764, 0.8825876283706559), (11863888, 0.8680058200703751), (20836943, 0.854921645104301)]), (55539306, [(7614627, 0.9327387644157206), (7614627, 0.9327387644157206), (8259582, 0.9006227575492084)]), (124170672, [(9563744, 0.42270456690611546), (12312848, 0.4213020258700708), (24988864, -0.70933593217085)]), (23024123, [(8508289, 0.9833462495840543), (14718255, 0.9539240311762853), (14718255, 0.9539240311762853)]), (191504828, [(6221711, 0.8778133225064171), (6300043, 0.4720203516652166), (6300043, 0.4720203516652166)]), (10839410, [(41032597, 0.9678938071464848), (20609405, 0.9555430109496905), (8200542, 0.9527687246401921)]), (51328570, [(6405194, 0.9299104025579681), (6405194, 0.9299104025579681), (6405194, 0.9299104025579681)]), (181918955, [(7537485, 0.9690113262761888), (12484261, 0.9203874221874996), (20263356, 0.8427647263711133)]), (98497873, [(7843168, 0.6675556292856872), (8313660, 0.6587427467621194), (22287564, 0.5419058184937243)]), (6406727, [(7827659, 0.9969441903776914), (9320962, 0.9961063100287098), (12878592, 0.9836618891246218)]), (142409868, [(15722457, 0.9368333027198591), (15722457, 0.9368333027198591), (23052272, 0.8592287258922444)]), (149799050, [(7811199, 0.9691123804563369), (16850703, 0.9572618672229006), (14557631, 0.9188977309387275)]), (46138566, [(9786807, 0.9754914047658991), (24700942, 0.8916231335982693), (19094250, 0.8395598329588918)]), (55242827, [(17545739, 0.9471712603189091), (3838311, 0.897538435675415), (1229614, 0.7275468407234393)]), (91469065, [(35081515, 0.34226355092326377), (35081515, 0.34226355092326377), (36001391, 0.34209199605145213)]), (104026993, [(31634142, 0.997542227595862), (31634142, 0.997542227595862), (31634142, 0.997542227595862)]), (314897, [(16151506, 0.9695741382366186), (20141569, 0.9634328366038053), (19236258, 0.9616573424984532)]), (55438344, [(19647017, 0.6257774458221369), (23065902, 0.6254302832054718), (21953139, 0.44341494085220134)]), (999227, [(18966930, 0.9818922938825092), (3209768, 0.9739104603859127), (7570596, 0.4475626404026915)]), (8231982, [(3207194, 0.9743722572613103), (13591536, 0.9640515764125126), (7717118, 0.9594696928263425)]), (28489651, [(16891958, 0.8632904787339375), (33748928, 0.8189527262210328), (18452331, 0.8037715423772248)]), (346235422, [(42079535, 0.43075316872610947), (41603861, 0.4271622396292578)]), (8226128, [(6141976, 0.9621211057138164), (5853047, 0.9432070216639498), (5853047, 0.9432070216639498)]), (53885296, [(43337094, 0.6323759282873811), (43337094, 0.6323759282873811), (43337094, 0.6323759282873811)]), (41486046, [(29165650, 0.9093269011134926), (30219680, 0.8518039037491033), (31960343, 0.8366354240583402)]), (29791389, [(20207839, 0.9615613868601378), (30498422, 0.9266744599729814), (7010048, 0.9241452703531055)]), (27334679, [(4041554, 0.9744961289223779), (21305609, 0.9624252894696361), (10444041, 0.7909411223396227)]), (32243723, [(14891826, 0.9786209093007014), (13325975, 0.9473030770355988), (9746208, 0.9234802050504194)]), (43032060, [(12257654, 0.9512051556405934), (24290316, 0.9360378814114636), (19184502, 0.7262152630883145)]), (17864125, [(8664337, 0.6277279247053469), (12960218, 0.6277124822548903)]), (5516916, [(3209768, 0.985402623973644), (3209768, 0.985402623973644), (4271250, 0.9814702880101369)]), (144362516, [(20005185, 0.8891138115793964), (24834560, 0.5583905020149909), (18080682, 0.4237148966279786)]), (35123418, [(24586538, 0.4956439220308936), (23934649, 0.49558944393726), (24105506, 0.13240759290457682)]), (350742662, [(42078904, 0.3652957560901055), (42078904, 0.3652957560901055), (43337094, 0.3562214639336354)]), (35548942, [(20647210, 0.9785245048120276), (29439672, 0.959580082558494), (19164720, 0.8869706666347386)]), (44074843, [(23548940, 0.890983102126145), (23548940, 0.890983102126145), (7827659, 0.8218788866961957)]), (26358812, [(12211385, 0.9569494994999157), (16295158, 0.9295362023507694), (38141544, 0.9176482817032211)]), (172455627, [(7511173, 0.9806324473253589), (6959987, 0.9655153533080618), (31812017, 0.9179078557023398)]), (24067556, [(6142181, 0.8748805660066932), (7350502, 0.7516196714683973), (7930891, 0.7428446316649335)]), (17372501, [(20332582, 0.9739867294991214), (11245028, 0.9715332329424916), (5376182, 0.9594887175180858)]), (94491972, [(7868833, 0.9782186024778089), (6120794, 0.974699203996743), (13132703, 0.9602792950096511)]), (297371529, [(41603084, 0.4242220955768907), (41603084, 0.4242220955768907), (41603084, 0.4242220955768907)]), (213514875, [(26816186, 0.9363705295193678), (27037488, 0.8286737773645195), (27037488, 0.8286737773645195)]), (145752167, [(8180346, 0.3436942463858075), (8180346, 0.3436942463858075)]), (11055659, [(32527953, 0.9706593488491424), (5932439, 0.8823534319393249), (34049490, 0.4525240222197895)]), (102459301, [(11245028, 0.9731772740819075), (23815487, 0.9321324114275611), (8664337, 0.7104539819469567)]), (119775678, [(23603274, 0.9850201191056304), (24863189, 0.959308590723352)]), (102968744, [(15393345, 0.9587437981607181), (15455547, 0.9532871735135797), (15455547, 0.9532871735135797)]), (139551923, [(4926634, 0.6890009416271536), (20700848, 0.5282358165541969), (21128303, 0.5105492819624935)]), (122421509, [(18755310, 0.7659705667474632), (18755310, 0.7659705667474632), (17471882, 0.7577571780385749)]), (69252656, [(20335984, 0.9901940598386438), (6147142, 0.9855923915788669), (16680449, 0.9572886812315846)]), (15290263, [(22254514, 0.941812027225172), (29256550, 0.9358848782305736), (20259295, 0.8995353436956975)]), (10704358, [(3460343, 0.9398158989377436), (11541093, 0.8937380532038433), (3822245, 0.8219267435735697)]), (20715591, [(13541348, 0.891175394558548), (13541348, 0.891175394558548), (13541348, 0.891175394558548)]), (73609029, [(8765476, 0.8527475227924304), (13282424, 0.7869122120227465), (13282424, 0.7869122120227465)]), (117432987, [(17410029, 0.6262456114244012), (7399093, 0.6251817950226882), (7399093, 0.6251817950226882)]), (343797523, [(41604013, 0.4486157178164492), (41604013, 0.4486157178164492), (41604013, 0.4486157178164492)]), (106872805, [(7846524, 0.9881518781710116), (32160295, 0.9787774759561906), (16620686, 0.9472886920171727)]), (122031670, [(16701352, 0.9776683580676557), (24659042, 0.9573526646427354), (20621511, 0.9207552046337543)]), (25171945, [(30687199, 0.9656451625231338), (16231627, 0.9566694237067773), (23438196, 0.9375605860744485)]), (265722717, [(21818868, 0.5421658750961917), (22457479, 0.44630558859588937), (22457479, 0.44630558859588937)]), (33473172, [(4115899, 0.9636295028051088), (18153307, 0.9470673284941892), (625055, 0.4438139048531273)]), (10355663, [(5493930, 0.8961585372635944), (5493930, 0.8961585372635944), (5493930, 0.8961585372635944)]), (44250196, [(21085918, 0.9034486237643988), (21085918, 0.9034486237643988), (21085918, 0.9034486237643988)]), (48289019, [(10444041, 0.863360184204839), (5919270, 0.6616615406407936), (16665548, 0.24241549656181877)]), (277672515, [(4412603, 0.6903523067812704), (6023517, 0.4438085844982279), (19286135, -0.24652964368365637)]), (33168357, [(7879020, 0.7786223359582157), (23618727, 0.5987362254722277)]), (121287746, [(15167230, 0.9643233577936473), (2156329, 0.9370989368259295), (36852394, 0.7624034775699761)]), (106345007, [(21085918, 0.9569213919304468), (21085918, 0.9569213919304468), (21085918, 0.9569213919304468)]), (66815639, [(21854674, 0.9414785713369508), (16665548, 0.8409516245445364), (29662678, 0.8330352227558594)]), (38426076, [(10510548, 0.9803200328936729), (11994037, 0.9784709739480637), (16407773, 0.8945364963807609)]), (98319122, [(15394784, 0.8611688331289805), (11687045, 0.8463345196117126), (30896151, 0.7813397261410018)]), (70348098, [(7879020, 0.965638770127857), (23436127, -0.3322959289717242), (31405419, -0.7091190089141002)]), (138823708, [(14387136, 0.8172688400082457), (18978737, 0.7653494165253147), (9104449, 0.7265020788809424)]), (29709446, [(33112577, 0.9429005451208727), (32892531, 0.929022471684626), (21360845, 0.9147771791442235)]), (45707396, [(5922010, 0.9139220146773567), (18582303, 0.7006527684917152), (18471415, 0.5260330685073661)]), (1781238, [(33634552, 0.6622046572810131), (7930891, 0.627241548502228), (19107598, 0.27594188689742294)]), (53516843, [(22586423, 0.6588340898001571), (2085130, 0.5861713410412026), (10040419, 0.4773828269696254)]), (2224782, [(22694974, 0.9715650850410117), (19647017, 0.9367036366667614), (19647017, 0.9367036366667614)]), (344593611, [(5376182, 0.9706432240350439), (30229992, 0.9563410055945537), (37063111, 0.89047385242378)]), (26349084, [(15792808, 0.8797480832211058), (32411075, 0.26110844428756746), (32411075, 0.26110844428756746)]), (62344570, [(11713539, 0.9880796806421259), (11518055, 0.984943350721109), (16686418, 0.9624351607466392)]), (29633939, [(5494971, 0.8840055302648053), (5494971, 0.8840055302648053), (5493930, 0.784202017654452)]), (26178680, [(5827713, 0.8463758960006605), (5827998, 0.7404078750728669), (5827998, 0.7404078750728669)]), (10334687, [(8664337, 0.9822721544816595), (2129215, 0.9762845115160409), (9746208, 0.956949677833723)]), (23642009, [(918880, 0.9546319467808824), (16428014, 0.9286911571894114), (1218463, 0.9077156367265706)]), (24246736, [(3096385, 0.925177213123874), (6179573, 0.9043342936087613), (14682068, 0.8507314712742851)]), (88240124, [(13891078, 1), (13891078, 1), (14462406, 0.8648988395402437)]), (16204646, [(4616523, 0.9608094239318434), (6431505, 0.9472756350987376), (6142880, 0.867629765303471)]), (214060961, [(31090026, 0.8170640669643328), (30083183, 0.8017080639025749), (30083183, 0.8017080639025749)]), (97735879, [(24057381, 0.9138878679078166), (17274946, 0.91136260413416), (14078493, 0.7555255453117705)]), (37484288, [(241508, 0.9862702707565497), (25888807, 0.9839296556022367), (15393345, 0.955229511518415)]), (77893735, [(9079545, 0.9007266912886638), (12839857, 0.5678489440962808), (12839857, 0.5678489440962808)]), (37620738, [(10659341, 0.8606485984767074), (14655886, -0.17016647128564177)]), (153390792, [(24751008, 0.9219720403465185), (24078928, 0.26876825058396414), (24078928, 0.26876825058396414)]), (3441367, [(7143817, 0.9728484041439901), (4138944, 0.8574426201453352), (3140972, 0.8327363636524021)]), (170191513, [(36001391, 0.7910310267148417), (43407835, 0.6824907719403736), (43336673, 0.5641924995353073)]), (97303339, [(21498775, 0.9533876397744189), (22051870, 0.7957511370014971)]), (16323084, [(4616537, 0.9934308333004885), (4616537, 0.9934308333004885), (12606032, 0.9547180657244413)]), (11649513, [(5376182, 0.9766247703367489), (28417802, 0.9663738049784456), (11817134, 0.8723793197732782)]), (544148, [(7381770, 0.9834564395767269), (12614519, 0.9137383521823629), (6183734, 0.8971822287601607)]), (50282054, [(43407835, 0.9241675139790102), (43407835, 0.9241675139790102), (43407835, 0.9241675139790102)]), (137033820, [(18966930, 0.9722779278734299), (25878538, 0.8764666970734535), (3207194, 0.6403621893306637)]), (77363292, [(11817134, 0.9066782879926137), (11863888, 0.6405067214419549), (11863888, 0.6405067214419549)]), (18318913, [(6958476, 0.6371520778890876), (7662310, 0.42314164504769564)]), (59084045, [(12484261, 0.9840773110380372), (11381088, 0.9797640757354296), (22560212, 0.9354032957118527)]), (1532685, [(9565472, 0.9566948114476137), (9565472, 0.9566948114476137), (8110000, 0.9408173550497586)]), (13083314, [(10533297, 0.9758423703255162), (16443023, 0.9651787094565843)]), (338449205, [(42078904, 0.6279760155110325), (26577038, 0.6261175446489284), (42417293, 0.6244159064405288)]), (28064995, [(5902912, 0.9110211540744216), (2118050, 0.8621571310139255)]), (3759810, [(9635192, 0.9464345803031476), (746929, 0.9270788034241481), (1981933, 0.775467621955064)]), (10644608, [(22745179, 0.9850728530001651), (35102472, 0.9626733322414722), (24294968, 0.8990203775983115)]), (73923360, [(6993627, 0.976416979351639), (6993627, 0.976416979351639), (37916346, 0.9733125921928574)]), (177433613, [(42078904, 0.45987382709935354), (42079535, 0.4424431651476826)]), (19256081, [(4616537, 0.965289988340593), (16413107, 0.9534029146337786), (33111278, 0.7714728018148139)]), (135435869, [(6685809, 0.8638850475230672), (19251396, 0.627694651444755), (6120794, 0.6272680503724828)]), (17857809, [(24979977, 0.7897206431633895), (24979977, 0.7897206431633895), (20084815, 0.6258256856515043)]), (16445704, [(27037488, 0.9817703016927678), (38417543, 0.980763656826956), (38417543, 0.980763656826956)]), (91219826, [(11971734, 0.7402211339069024), (16574207, 0.5113326332705281), (4008423, 0.15017077635904041)]), (268905699, [(38005895, 0.9203695175239861), (38140588, 0.4412223352210701), (38006302, 0.3747663788819349)]), (16351092, [(7282084, 0.8721545573944138), (4252548, 0.8503670525915201), (16412115, 0.8300384661548526)]), (75955446, [(25591117, 0.9924058227276316), (33025531, 0.9922120308363349), (21854697, 0.9694902749848918)]), (3650867, [(14223124, 0.9653720810148473), (16280294, 0.94138063043438), (7054222, 0.8382663018692544)]), (15250513, [(6147142, 0.9821463804395325), (4108447, 0.8847537378924422), (7827659, 0.8663054613633432)]), (104972359, [(18662873, 0.9198913952276211), (15159420, 0.87653431738764), (15159420, 0.87653431738764)]), (67504501, [(10641757, 0.7321957000376805), (10641757, 0.7321957000376805), (10641757, 0.7321957000376805)]), (64826047, [(42417293, 0.8512212634479133), (42417293, 0.8512212634479133), (43337094, 0.5832682212570852)]), (5176740, [(14397294, 0.8669656513458296), (19611990, 0.6819682452864888)]), (96841461, [(7843168, 0.9574287703643786), (7843168, 0.9574287703643786), (34049490, 0.8229564772365994)]), (69163595, [(6117032, 0.962577230182565), (4616523, 0.44683733343017523)]), (53834765, [(2156329, 0.9854866658540531), (8765476, 0.9815452763493523)]), (2043478, [(6405194, 0.9416665211654407), (8055914, 0.9140807393750096), (22051870, 0.7704836377448232)]), (114002560, [(19736086, 0.9682745848808909), (19736086, 0.9682745848808909), (19736086, 0.9682745848808909)]), (9653107, [(2484135, 0.9385399216708954), (879526, 0.9367267319726504), (21557075, 0.9216513553232838)]), (186263007, [(18998659, 0.9233182215886313), (18998659, 0.9233182215886313), (31886652, 0.9225608422828461)]), (68995550, [(5118006, 0.6708980466748099), (29763827, 0.4428026921433192)]), (91402577, [(20865016, 0.8591949160794341), (4768668, 0.6375018032423926), (9023549, 0.589024474654008)]), (13588897, [(241503, 0.9807921575010466), (30561871, 0.8509200137241298), (16443023, 0.6272521589145201)]), (37657352, [(14248210, 0.9478920009751335), (14161622, 0.9400661745592659), (34214140, 0.772766071794444)]), (1623840, [(35265440, 0.9807996556361323), (29572721, 0.8167951153627502), (30389028, 0.7900824700267958)]), (95327150, [(16231715, 0.8796486505656409), (16231715, 0.8796486505656409), (16231715, 0.8796486505656409)]), (108792470, [(4656316, 0.9587905545605775), (11411739, 0.9338867257369432), (17371927, 0.9115341693262666)]), (95283027, [(4022486, 0.7263226751844118), (6830660, 0.4252161911945621), (4484727, 0.4163570601461692)]), (55688569, [(21915252, 1), (6147142, 0.9560271456775783), (8180346, 0.9493183856609512)]), (21067785, [(17798496, 0.9590762166044414), (21927943, 0.9438119323448155), (12703293, 0.9251256759986798)]), (44660340, [(9459389, 0.8736232825785889), (11965790, 0.7438639756190807), (19286135, 0.7250072966242643)]), (152251759, [(20512779, 0.9539816114255264), (26397940, 0.6190643836962316)]), (11407145, [(2673027, 0.9814049704479894), (8277151, 0.7845533673497254), (4990392, 0.6092943996507225)]), (3945146, [(31527262, 0.9775343847084524), (7152364, 0.9476999654669107), (14524408, 0.9302988064240998)]), (6070930, [(10299900, 0.9336670666405441), (10299900, 0.9336670666405441), (10299900, 0.9336670666405441)]), (47148772, [(5117966, 0.9025286549698729), (8313460, 0.8572345683686239), (8313460, 0.8572345683686239)]), (86847105, [(21305609, 0.9500462587515208), (20610549, 0.8385545531343622), (4434265, 0.7895379239475425)]), (170712166, [(26464626, 0.9811822983736534), (26464626, 0.9811822983736534), (12299983, 0.9763963175653986)]), (344293600, [(42696868, 0.8522951591341309), (9901369, 0.4228511277088378), (9901369, 0.4228511277088378)]), (25386618, [(4535456, 0.9790116403591538), (35788850, 0.9708100716309942), (33112624, 0.9629262896738096)]), (2562437, [(13462899, 0.9604167373461128), (13462899, 0.9604167373461128), (12299983, 0.9550760644727555)]), (174125516, [(13286282, 0.8864178588862596), (19140847, 0.7568126848424583), (17863026, 0.6756745010356242)]), (27756140, [(7350502, 0.9753966218831173), (4576362, 0.9649731618077799), (4916186, 0.9469737918496166)]), (99582669, [(33025531, 0.9597338291683938), (37062341, 0.9222845058208319), (33232136, 0.8863022938189864)]), (9714279, [(29741816, 0.9337030801830164), (3347931, 0.8369260128306553), (23957921, 0.7429224104595574)]), (49973995, [(8180346, 0.9918928888768646), (5798211, 0.9900997923364132), (5798211, 0.9900997923364132)]), (128806268, [(7814843, 0.8504432740417893), (21546999, 0.6814357199035038), (16876341, 0.21349571510364235)]), (57278183, [(2488036, 0.9306613127062788), (2964315, 0.8312899254579321), (1991291, 0.5969692179750408)]), (109243776, [(6921649, 0.8796818467414672), (11971734, 0.5635486667026164), (11972403, 0.22148115565316973)]), (13141544, [(20005185, 0.9543232861353106), (37484436, 0.9477170471463953), (10444041, 0.7193846025117714)]), (35349680, [(8186452, 0.9763241115377672), (8186452, 0.9763241115377672), (8186452, 0.9763241115377672)]), (8149908, [(9828881, 0.984405259052068), (7138922, 0.9126285962524542), (7143817, 0.8751477014539731)]), (45773112, [(6993627, 0.9064187076814485), (7930906, 0.8946350577462108), (3671451, 0.7943180026872926)]), (11426653, [(9097877, 0.9888752552276532), (16460492, 0.7582036051321402)]), (275419130, [(28185207, 0.8738272144487654), (12219588, 0.8309428093770835), (28821061, 0.7093120829234578)]), (28292059, [(29993904, 0.9650685637757972), (33331298, 0.9596886179776819), (36857203, 0.8610085278306856)]), (37862360, [(18785678, 0.9162646004837889), (17351596, 0.8916403986447231), (17351596, 0.8916403986447231)]), (117371673, [(41604013, 0.5766668640080502), (41604013, 0.5766668640080502), (41604013, 0.5766668640080502)]), (92804710, [(16592588, 0.7704077347052465), (12906176, 0.6317391027897178), (12906176, 0.6317391027897178)]), (125154939, [(5214226, 0.4293689811757038), (5184871, 0.3680408078839779)]), (26816788, [(13175045, 0.7898116447452445), (13175045, 0.7898116447452445), (13175045, 0.7898116447452445)]), (22780202, [(7517671, 0.9688794260787642), (33111278, 0.9612700205289304), (20836943, 0.9222788749667117)]), (1423671, [(918880, 0.9730443379758755), (982909, 0.95267089167211), (11642282, 0.7580268092778094)]), (125890456, [(35634164, 0.7953986282037632), (25972498, 0.7026787539220426), (32837771, 0.6581747214016582)]), (14908243, [(17399550, 0.9767919480379397), (12906176, 0.9710045035917486), (8180676, 0.9417354032925527)]), (149387255, [(16231741, 0.9563928088098357), (16231781, 0.9520723771524309), (9872354, 0.925079739085925)]), (90791375, [(8525879, 0.9271531110854887), (6426551, 0.8434269554212686), (26553209, 0.7654761131997587)]), (137669466, [(39716900, 0.9826785518047525), (42696868, 0.9771416290417057), (5376182, 0.9484633597670606)]), (126673518, [(8372023, 0.9444518335316309), (24751008, 0.8697462508741305), (29859111, 0.6590760585248834)]), (299765178, [(22745179, 0.962734462100959), (34053192, 0.8780101806693213), (41603084, 0.624043942320758)]), (337648786, [(40909907, 0.8643564322584602), (41604013, 0.6657252360501529), (22114845, 0.571270947754263)]), (26588936, [(5584157, 0.960422802075894), (4360679, 0.9469735887249752), (21941085, 0.6051109129344998)]), (343833292, [(25793757, 0.9593933091814493), (12484261, 0.9476608070413388), (42078904, 0.8978881153686175)]), (1384249, [(11875596, 0.9668923795046829), (19009257, 0.9602753749542634), (19093302, 0.8488446091973129)]), (7538699, [(42417293, 0.9502320749888942), (4561484, 0.928443816809629), (42078904, 0.8631527320592967)]), (177293864, [(17376004, 0.9369918740546176), (17738062, 0.8174575575217806), (18755310, 0.7859858146085782)]), (30680396, [(16936661, 0.9441558048594881), (21631361, 0.803485183077889), (21631361, 0.803485183077889)]), (51304418, [(14223124, 0.8913874400796531), (14223124, 0.8913874400796531), (14377235, 0.743104422463565)]), (11194254, [(13703898, 0.9575221357274527), (9320962, 0.8940145891475741), (294281, 0.8681274826909106)]), (126878987, [(19164733, 0.8472654714324946), (18516282, -0.6146290190017735)]), (133658475, [(27754006, 0.9641732901348353), (8372113, 0.9249070908496977), (4541183, 0.8790845562866427)]), (10083081, [(5186205, 1), (5186205, 1), (8017511, 0.8266289123065588)]), (4946134, [(756267, 0.9690113800552781), (756267, 0.9690113800552781), (819044, 0.5746737388596359)]), (23481987, [(6178568, 0.9952494913701533), (11747584, 0.9918569845902367)]), (25284418, [(19163641, 0.9530563472856277), (10641757, 0.9305632193474379), (20703034, 0.9070792060239926)]), (138102164, [(14603307, 0.7703487905385737), (26398086, 0.7093408538016464), (16578060, 0.6271574313574181)]), (87212463, [(21509015, 0.9844678268799081), (11971734, 0.9650228760891767), (17376004, 0.3031436786384399)]), (210880425, [(27981551, 0.9562023196316649), (9104449, 0.49637661429701674)]), (3195629, [(3116909, 0.869984811933749), (15821020, 0.8437129871565856), (21854680, 0.5554501346899732)]), (65544851, [(33634552, 0.8342726440060908), (1024986, 0.8097786018407038)]), (7319670, [(21015876, 0.9653748985541374), (8038199, 0.9604806151847203), (21888290, 0.9551184488925544)]), (140081016, [(21855459, 0.9006069873966622), (21855459, 0.9006069873966622), (17399550, 0.6118677187660703)]), (21119984, [(24984672, 0.6804070661798984), (5376182, 0.6797778974433499), (23752565, 0.6249823290825535)]), (27335500, [(21376468, 0.9409248268991572), (5827998, 0.6056038660128217)]), (14360713, [(5214091, 0.9597418447367565), (24988864, 0.9271143933544956), (4541183, 0.9113738963610832)]), (274373396, [(35668639, 0.7087251328622252), (33388955, 0.6882148187171542), (39641568, 0.47650385406224444)]), (141238811, [(7830009, 0.8121274439578099), (1647014, 0.7885752400452937), (1647014, 0.7885752400452937)]), (149650309, [(26232923, 0.973400545201811), (26232923, 0.973400545201811), (27373877, 0.9193634257884717)]), (23406037, [(4144956, 0.8515034781164522), (22588808, 0.7574798990211162), (3990847, 0.2756099578102012)]), (186705536, [(23598410, 0.9401129483930931), (9023549, 0.9380483879531233), (19093302, 0.896182385690988)]), (10818291, [(16412994, 0.9774654670119625), (3987930, 0.9717821837751845), (23831806, 0.9520067847986718)]), (195298862, [(6581009, 0.9491753342159548), (25086316, 0.5121051869129014), (20769647, 0.5112983823087238)]), (159385849, [(21852940, 0.9801872158425556), (16562021, 0.9654432644484278), (16562021, 0.9654432644484278)]), (344259173, [(24659042, 0.8462449388414287), (24659042, 0.8462449388414287), (24979153, 0.6379647361650156)]), (31329962, [(26553209, 0.9426345561258357), (33536365, 0.8573426660299877), (3885720, 0.8312259546244193)]), (11927072, [(27754006, 0.9441507536795272), (33094336, 0.9318389071927238), (21820188, 0.8658618604353439)]), (155466576, [(11228389, 0.7865326850963652), (11228389, 0.7865326850963652)]), (23198614, [(26752806, 0.9601840651748403), (32454891, 0.8686229006858825), (20798153, 0.8317314833283032)]), (85514255, [(764599, 0.9605685963708879), (6685809, 0.8102802420589856), (12784439, 0.22976764661961835)]), (151862159, [(42078904, -0.2325991143190892), (41603861, -0.2608927187751664), (39619617, -0.28244528439723027)]), (24204666, [(14100301, 0.8609424370019618), (41314524, 0.8584753055065744), (3158949, 0.8259015682751527)]), (20732518, [(23507483, 0.9963724559704941), (23507483, 0.9963724559704941), (23507483, 0.9963724559704941)]), (49340683, [(4091059, 0.9727582559684906), (7628360, 0.9680377708986081), (11871765, 0.9455647992419398)]), (757923, [(1315867, 0.9798501168243807), (29597994, 0.9777333824684509), (24288828, 0.9683760888388125)]), (34043506, [(29614706, 0.9633081827781915), (29614706, 0.9633081827781915), (19164720, 0.9180486777866143)]), (17308702, [(35233390, 0.6247941191164829), (39617816, 0.6084618056850637), (39618567, 0.5057653153145489)]), (218991556, [(17093761, 0.6815026130035676), (9308923, 0.6255205199396325), (2964130, 0.5728674248713719)]), (88127045, [(10374732, 0.4736577629190353), (9239776, 0.31913872634533724)]), (60428644, [(7769781, 0.9391047979184338), (9567575, 0.8662315364005004), (369141, 0.8601644642779945)]), (29713732, [(25282863, 0.8999740323094387), (25282863, 0.8999740323094387), (25366424, 0.8949430892370516)]), (3682993, [(33436577, 0.981416474735385), (24294559, 0.9126898943572066), (33823127, 0.8348028849597063)]), (51428786, [(24276647, 0.9702816550760438), (6271100, 0.9357432342640344), (16007789, 0.8848700204529458)]), (43634550, [(30561871, 0.9388687474881598), (20805118, 0.9352607854147467), (19163641, 0.9231764080014226)]), (94442669, [(20216044, 0.8260171181154093), (14532126, 0.6900650952170889), (26381161, 0.42075869570530555)]), (47466936, [(7042831, 0.8306997362096344), (23002906, 0.7350129333169205), (3207194, 0.69023741866078)]), (65705070, [(5348037, 0.9011961161922533), (5186243, 0.8760347143884234), (5186243, 0.8760347143884234)]), (8763003, [(2121839, 0.9818495584799781), (5246432, 0.9785800042952711), (10367479, 0.8317534633740661)]), (2949745, [(19615310, 0.9467213842632398), (39612331, 0.7505801826434216)]), (134921611, [(1833950, 0.9217767676027798), (764599, 0.9197837358207132), (13809823, 0.7782562030630703)]), (121136325, [(6947366, 0.9428867450895563), (17928170, 0.9157363008388912), (16936558, 0.901548981399585)]), (49369521, [(22776112, 0.9636270571806387), (22776112, 0.9636270571806387), (15656782, 0.9586324943447647)]), (81020084, [(6718514, 0.9830252317620061), (6630341, 0.9751929271666964), (8196417, 0.8709383429025656)]), (83781950, [(6431505, 0.9658712287776576), (9118960, 0.9559830478589829), (7898449, 0.9529083183971248)]), (50244944, [(12240256, 0.9869895481225823), (13175045, 0.8436943486006533), (15722457, 0.8424560711367702)]), (165468628, [(25591117, 0.8587546281805535), (26854105, 0.8552501537755883), (20703034, 0.8416335858874141)]), (5036235, [(19184500, 0.9131833602420849), (19184500, 0.9131833602420849), (19184500, 0.9131833602420849)]), (69881545, [(29494102, 0.9818488379203798), (11635459, 0.9777534708140373), (33669171, 0.9677890090611344)]), (23045386, [(27129285, 0.9289674896430374), (1485189, 0.9140242168336614), (1485189, 0.9140242168336614)]), (69172237, [(14810638, 0.9793449280643941), (14506386, 0.967649302448285), (14600122, 0.9332337654930429)]), (21795174, [(3790364, 0.811861658108371), (6685809, 0.8068304230495067), (6685809, 0.8068304230495067)]), (357040532, [(39619120, 0.4423007534720591), (39619120, 0.4423007534720591), (39619543, 0.4264563185585392)]), (110113584, [(24682167, 0.7843284103324599), (20234954, 0.7339949283841661), (15154001, 0.6336883804672536)]), (28546589, [(7537301, 0.9861274424635937), (13325975, 0.9458162377160133), (5355795, 0.3331248805546985)]), (316660930, [(40855337, 0.4561617285809218), (25972498, 0.34313454546034017), (43393378, 0.34165780618566277)]), (43231447, [(5493930, 0.99108268785431), (5493930, 0.99108268785431), (7959059, 0.9817954984495473)]), (31766297, [(3987930, 0.9580082266494843), (6142880, 0.9379766928252151), (7662310, 0.8556597325219032)]), (2264795, [(12995321, 0.9765955089306958), (12995321, 0.9765955089306958), (5739284, 0.9115751804594683)]), (8145165, [(14191894, 0.993322586129408), (5494971, 0.9862643666314154), (5494971, 0.9862643666314154)]), (54973640, [(12924827, 0.7430638311027887), (9715442, 0.7198012762489308), (9715442, 0.7198012762489308)]), (71376776, [(14381353, 0.8596316551680434), (10001615, 0.8591752772211838), (6941608, 0.7707781481266565)]), (71287981, [(16326320, 0.8634467111850376), (16326320, 0.8634467111850376), (16326320, 0.8634467111850376)]), (103281759, [(28751408, 0.7904190031817615), (28791670, 0.7644307144512875), (24397979, 0.6988356921769443)]), (10149018, [(21927943, 0.9175093406615751), (29089948, 0.7500995890050236), (10641757, 0.7482561552900138)]), (121121654, [(29307578, 0.965966907689443), (35786906, 0.9119207592087061), (27129285, 0.902671185238499)]), (273284693, [(39716900, 0.9574395346264564), (39716900, 0.9574395346264564), (40909907, 0.6489802550843864)]), (181276037, [(26504288, 0.806160255866423), (29603152, 0.4947911640639628), (27890083, 0.40309464155887453)]), (114154522, [(16989989, 0.9797099559200197), (18517165, 0.9249943845365598), (7143817, 0.8319384775982583)]), (30281650, [(1678755, 0.9315851978756), (3639516, 0.6908173922011027), (3639516, 0.6908173922011027)]), (46595660, [(8347511, 1), (8347511, 1), (8347511, 1)]), (18600446, [(6426551, 0.9807249632711518), (6679887, 0.9710674007834071), (7381770, 0.9312587055771433)]), (343523917, [(42885911, 0.44439764178008556), (41603640, 0.40640730368147904), (42417293, 0.09089749850816609)]), (101775194, [(16546583, 0.5276204892645392), (13325753, 0.4232882571965718), (17896710, -0.1474087662279896)]), (22267872, [(8345350, 0.749478673645451), (3479493, 0.420680703668575), (3479493, 0.420680703668575)]), (26539852, [(10510548, 0.8577359604477843), (11863888, 0.627965848382515)]), (248311400, [(28468667, 0.9169879670867462), (26232923, 0.44267985303577506), (20548713, 0.4417043800355012)]), (42760661, [(5355703, 0.9446269040291888), (14740975, 0.9317604510851414), (28761398, -0.6154866733687934)]), (92751201, [(20263356, 0.7770629751088742), (10446567, 0.7718175305805405), (9980935, 0.7566286538438712)]), (33346267, [(6630341, 0.9695853179456176), (9786807, 0.9411840569672029), (4360679, 0.9352865884453541)]), (97681492, [(33604276, 0.6259252287312655), (1024986, 0.46528993728587786), (15774113, 0.4539571687988122)]), (2833707, [(13039550, 0.9888354157648931), (8348566, 0.8224699041224245), (5797755, 0.4566425823375586)]), (47707070, [(18349081, 0.980812875632046), (8525879, 0.9619570100926293), (21285979, 0.8584776670570471)]), (116650476, [(16571662, 0.4284509391986038), (16571662, 0.4284509391986038), (16571662, 0.4284509391986038)]), (29672582, [(19595322, 0.985127693418695), (19595322, 0.985127693418695), (20084815, 0.8765012388579708)]), (36797851, [(5348703, 0.9694804820681232), (4969307, 0.8674847718943499), (19831868, 0.6251038322892415)]), (226969979, [(8038199, 0.9417977972519441), (29253018, 0.726865427538777)]), (28996857, [(764599, 0.9921659681557734), (24078928, 0.9873297778532087), (24078928, 0.9873297778532087)]), (141905100, [(17016908, 0.9420016858608786), (17016908, 0.9420016858608786), (17016908, 0.9420016858608786)]), (25849567, [(12839857, 0.9782391563757892), (16742820, 0.895435299258077), (2090132, 0.8850325070553231)]), (51041213, [(21061528, 0.6592296646137494), (21061528, 0.6592296646137494), (21061528, 0.6592296646137494)]), (39894759, [(2868366, 0.978828956292475), (8533711, 0.9568758852289323), (4751362, 0.9292512509439412)]), (17684286, [(21509015, 0.9742124663937788), (20207839, 0.9568572196711684), (21758896, 0.2592494758121232)]), (8260484, [(12998449, 0.9599353443569663), (16443023, 0.932599913972767), (5355795, 0.8478347017581604)]), (4611071, [(22987507, 0.9837416950048232), (15835320, 0.9607971798425098), (9980935, 0.9050211283390808)]), (139374229, [(40909907, 0.7885952182566903), (16578060, 0.7635731684900423), (41603084, 0.740827599292762)]), (182779322, [(24659042, 0.873882603681301), (4499317, 0.7354928425641577), (18452331, 0.6808114650284024)]), (12914294, [(18666662, 0.978333901435323), (19901171, 0.9638658442684499), (18577624, 0.9320372205575138)]), (24576981, [(43336673, 0.8525067159904047), (27513348, 0.42477633944677673)]), (45171974, [(21314866, 0.9487082629049929), (22745179, 0.9349873807171786), (10531473, 0.8463049131492064)]), (648763, [(2357514, 0.9717414326614308), (5355795, 0.9022111365492895), (5186205, 0.7016723017054982)]), (4614024, [(241510, 0.943672375898367), (241510, 0.943672375898367), (4360902, 0.7363117162434178)]), (332690842, [(22745179, 0.8039071153535969), (40638890, 0.5128619988808171), (42079535, 0.4063822629175012)]), (35001198, [(10440979, 0.9216962304910344), (4008423, 0.8232226587686428), (4027867, 0.7898463674468963)]), (10793999, [(20146412, 0.99044716361003), (10367479, 0.9820084686167051), (19236258, 0.972671306322537)]), (14815711, [(5832741, 0.9958402041015266), (468782, 0.6922859746916246), (2142826, 0.5996708281479451)]), (162242897, [(8829303, 0.4582559829826249), (8829303, 0.4582559829826249), (8829303, 0.4582559829826249)]), (123704735, [(22588808, 0.8713958688413265), (36817766, 0.6801540073981605)]), (93430900, [(12299983, 0.9306141217095967), (29275864, 0.9179017062038286), (27970365, 0.8711422815599993)]), (111690171, [(39618567, 0.5355228749095904), (39618567, 0.5355228749095904), (39618567, 0.5355228749095904)]), (155345616, [(18184250, 0.9308163843326687), (21037446, 0.8498203803353366), (9980935, 0.7474648116551806)]), (149917276, [(2673027, 0.899403646245305), (4541072, 0.8623800369012082), (38417543, 0.743541433497108)]), (35679281, [(13325975, 0.9686249952852293), (5494971, 0.9246251626514854), (10419098, 0.8376389082257113)]), (110253073, [(35102472, 0.6573298857113454), (33634552, 0.5281660099734862), (39641568, 0.40269374275899894)]), (85037303, [(6147142, 0.9790362972503855), (6147142, 0.9790362972503855), (5827713, 0.9700545965360686)]), (46461439, [(21854679, 0.9907545872026914), (29020376, 0.8764452666525199), (29020376, 0.8764452666525199)]), (85640265, [(16741381, 0.9716292510648027), (18666776, 0.8680105699272095), (18332965, 0.8387110031573931)]), (11392953, [(3877859, 0.9105426636250784), (3877859, 0.9105426636250784), (3877859, 0.9105426636250784)]), (11351654, [(40168630, 0.964997396072925), (34579286, 0.8125327740335913), (29662678, 0.7720831344515767)]), (25523163, [(5827998, 0.9468510151275205), (14381353, 0.7790806327993838), (13107567, 0.45984760017108806)]), (191468543, [(43629592, 0.9236492654887095), (43629592, 0.9236492654887095)]), (1582649, [(15438033, 0.9281974402514152), (395191, 0.8867201011248803)]), (164772236, [(24984672, 0.949511606179405), (30219680, 0.8940533908119236), (11302386, 0.8923138905065121)]), (50730726, [(2357514, 0.9140165067841077), (21283656, 0.8917884061315745), (9023549, 0.8552430964724196)]), (58792172, [(43337094, 0.721523113575593), (43336673, 0.719184882195814), (18452331, 0.5938833222639723)]), (28658940, [(6023517, 0.6801281071958553), (42078904, 0.4262358203663607), (41604541, -0.02754555678926074)]), (47325944, [(7930906, 0.6703766851079417), (4434265, 0.6313421926861901), (4434265, 0.6313421926861901)]), (57693908, [(31527262, 0.9666068335968845), (21758153, 0.959289648380514)]), (46820001, [(24720902, 0.9644476573466668), (30969285, 0.826773085060523), (8848001, 0.18457299746785638)]), (81973747, [(12998449, 0.9821497195107507), (20610905, 0.9422369688233463), (19163641, 0.7437267249688607)]), (2024982, [(8508289, 0.8986515002918629), (15310627, 0.8895975706800409), (11863888, 0.6402619759521402)]), (119724587, [(22233862, 0.9677735381288619), (21937326, 0.965698743577289), (22214699, 0.20542464310970637)]), (22825733, [(11094655, 1), (11094655, 1), (22299308, 0.7609278202968237)]), (109210805, [(7537485, 0.9009666048314071), (9464059, 0.7408216243944097), (17410578, 0.613006760764284)]), (14917251, [(5377342, 0.9684296768673051), (6993627, 0.9529656946278893), (26931333, 0.6996345974412972)]), (9570629, [(2090132, 0.9794679026769605), (19231081, 0.9598121140578312), (8512566, 0.7011311500245822)]), (192949913, [(17093761, 0.6806929640508697), (18434466, 0.5130275469117419), (23133424, 0.4245411704238582)]), (268942168, [(31326007, 0.9071115094148807), (42078904, 0.8533348834887291), (37063111, 0.8272947653218344)]), (349563600, [(42696868, 0.9870409409364066), (39716900, 0.9226333935178969), (39619120, -0.6377058687492885)]), (841659, [(4541183, 0.9727199863489385), (6100964, 0.957814010014711), (5024661, 0.9561266740509214)]), (47366669, [(17949590, 0.9265419603872306), (20335984, 0.8745788571879837), (18755310, 0.7156711530719417)]), (2352170, [(2488036, 0.9130518570365833), (3207194, 0.6269376681009812), (2451003, 0.5757790355935746)]), (31841238, [(4584539, 0.8260811830607803), (4926634, 0.8257833975759644), (6888824, 0.8168163566394382)]), (3862678, [(7350811, 0.9839848291570484), (4990392, 0.9587890448342069), (4990392, 0.9587890448342069)]), (8065349, [(24290316, 0.9746161969854059), (24785585, 0.9543939518709714), (16207617, 0.9464043796083395)]), (5471934, [(39924114, 0.962204300897634), (20706151, 0.9471692628611412), (1647014, 0.7156392709915111)]), (5866218, [(24186942, 0.8898262051623611), (9513005, 0.726374747426394)]), (52065884, [(17049465, 0.9048889014821297), (17049465, 0.9048889014821297), (17049465, 0.9048889014821297)]), (3889625, [(5932439, 0.9483065360690003), (2387687, 0.9463970597819722), (16765018, 0.9440520635808158)]), (343831016, [(43336673, 0.9270112248303157), (43337094, 0.5338635053414241), (42079535, 0.28070620613987124)]), (28738514, [(20018299, 0.8627321599946111), (20040797, 0.7580405328288271), (28264364, 0.6241534896745372)]), (59302578, [(27368459, 0.96670109432611), (22144715, 0.9361141558598131), (22488997, 0.8341832829811362)]), (97941435, [(16428014, 0.980024913897022), (16502098, 0.9610907194589419), (12367388, 0.9582904834751949)]), (21675252, [(19831199, 0.980107458553327), (19901171, 0.9048565217865714), (18666776, 0.8742859222703476)]), (15157131, [(13998008, 0.9618492611773621), (3096385, 0.8997836886628888), (301247, 0.7962282152342899)]), (132171373, [(15413048, 0.44204610765773755), (6337983, 0.44183095301503694), (20706151, 0.23099794010107771)]), (27917298, [(8779986, 0.7824245964551868), (8779986, 0.7824245964551868), (8779986, 0.7824245964551868)]), (61000244, [(12687038, 1), (12687038, 1), (24958774, 0.9403466643763484)]), (207853182, [(25793757, 0.9625619211456258), (16989989, 0.8197222488356172), (9717005, 0.7332333642235379)]), (122593381, [(12703293, 0.9678580011246862), (19163641, 0.9592003429566394)]), (153893245, [(27618509, 0.9283834877338537), (21198261, 0.8760222556928663), (15774113, 0.6616666601762301)]), (31841971, [(14673023, 0.9005023580642562), (14524408, 0.8989658331896958), (4616537, 0.805727538023085)]), (16349880, [(14515500, 0.9821106061345742), (23815487, 0.7157026023683504), (23815487, 0.7157026023683504)]), (151042399, [(21198261, 0.8303821852830463), (9023549, 0.7999084778021158)]), (56463011, [(10598600, 0.9304441680346656), (10626652, 0.9181965189640261), (5494971, 0.9046226288801279)]), (86829185, [(25972498, 0.7189001516227417), (43407835, 0.5319184643325515), (43407835, 0.5319184643325515)]), (233814749, [(24738846, 0.7908252647526897), (24738846, 0.7908252647526897), (24738846, 0.7908252647526897)]), (343600609, [(41603084, 0.9596268522121192), (42246264, 0.5740281022381792), (41603861, 0.5157653301676608)]), (165791504, [(369141, 0.9867851441701105), (31627432, 0.8606504568993074), (20259295, 0.772206235798938)]), (170502580, [(16236835, 0.8057808209221998), (15792137, 0.6260580015715617), (4576362, 0.42455686138232795)]), (1612506, [(819044, 0.9769196184072493), (819044, 0.9769196184072493), (819034, 0.9535127672385215)]), (94030238, [(7879020, 0.9982765444315302), (7879020, 0.9982765444315302), (7879020, 0.9982765444315302)]), (150001012, [(27368459, 0.9181520998491779), (25793757, 0.9147216590908889), (14245740, 0.912818336388021)]), (15718953, [(17290584, 0.9646616726155356), (8349471, 0.9187437218790162), (21915252, 0.7778981593081044)]), (39889572, [(39807217, 0.5498180722841315), (31003554, 0.5237365541340762), (31003554, 0.5237365541340762)]), (64381008, [(17290584, 0.9503747592452756), (16407251, 0.8435071375636976), (16523058, 0.6995617718957214)]), (154702553, [(21372953, 0.9734046056818095), (21372953, 0.9734046056818095), (20990821, 0.857171780083678)]), (13786556, [(13266699, 0.9757391669535733), (15154001, 0.9046686623917353), (7517671, 0.8020614482840789)]), (16361545, [(25716782, 0.6257322330415257), (16167315, 0.5665010358570883), (16167315, 0.5665010358570883)]), (56053847, [(5750637, 0.9721043858991976), (18978263, 0.9089873992373154), (14524408, 0.8800974100645413)]), (15324032, [(41604013, 0.7773789170505976), (5376240, -0.8994714778609988)]), (19765943, [(23438702, 0.9675981717649623), (1024986, 0.9674522752102837), (27266929, 0.9493011590120815)]), (111878308, [(23548940, 0.9824021031445533), (22051870, 0.8676264192711127)]), (9570371, [(21612799, 0.9869074714365932), (25872180, 0.980353737208892), (982909, 0.6914709222454777)]), (151721911, [(15209784, 0.9124071722326357), (15209910, 0.9064842411989346), (21085918, 0.9045074066609029)]), (18383794, [(19416244, 0.9499148390595845), (16571624, 0.8465549814295512)]), (84825461, [(14095593, 0.9808378041269403), (14095593, 0.9808378041269403), (14095593, 0.9808378041269403)]), (54684008, [(5919270, 0.9507024773037956), (5827998, 0.9080106439649493), (6147142, 0.7585226197651405)]), (38839186, [(24707713, 0.9258028964494097), (43407835, 0.8351230986296396), (43407835, 0.8351230986296396)]), (353541202, [(3753251, 0.6381280903383552), (34318004, 0.10294262321175296)]), (41027133, [(19370670, 0.9577482617239129), (19370670, 0.9577482617239129), (21818868, 0.9328019428456779)]), (65587890, [(24581115, 0.9339852856848987), (10040419, 0.9334320143519301), (22110157, 0.8479030452764534)]), (2329477, [(7632462, 0.8165321415227217), (7632462, 0.8165321415227217), (7632462, 0.8165321415227217)]), (25287373, [(7912670, 0.9972798633850418), (7912670, 0.9972798633850418), (4561484, 0.9717807241466254)]), (44152668, [(1647014, 0.9847870798397149), (19115460, 0.7263498069071185), (19236258, 0.1384265576338446)]), (114606622, [(6431505, 0.9390021708202977), (7138922, 0.8583867640695163)]), (59342853, [(27405538, 0.9756141657292783), (4541183, 0.9479099299021121), (4541183, 0.9479099299021121)]), (32328186, [(2964130, 0.90649130113791), (4007891, 0.7229001022735333)]), (105491627, [(9980935, 0.8365688958897648), (16896151, 0.5722467233000181), (16896151, 0.5722467233000181)]), (193092675, [(42417293, 0.7403950682444069), (42078904, 0.4996860499055602), (42079535, 0.4448223030556875)]), (45048011, [(9485860, 0.8589832744769034), (4818187, 0.8588669615174837), (4818191, 0.8586620875007032)]), (102448021, [(9567575, 1), (6959987, 0.9819633961895665), (6959987, 0.9819633961895665)]), (93279523, [(33871416, 0.9843834456152964), (36001391, 0.7905097423830748), (39619617, 0.7779281107826418)]), (9660200, [(12366821, 0.6820446773047443), (9321841, 0.49439453164570624), (12367388, 0.3423009030009345)]), (38366370, [(2840554, 0.958319721894645), (3258894, 0.9098206100907545), (3863231, 0.885428513669418)]), (16089590, [(7868833, 0.8969223818291508), (7662310, 0.8304528903651646), (2840554, 0.6990634012422117)]), (127226139, [(22801581, 0.9470428430636499), (21951407, 0.8786799934419234), (23548801, 0.5240404775776233)]), (369269328, [(35818699, 0.9330528966725055), (35818699, 0.9330528966725055), (33634552, 0.6264630637036102)]), (45083535, [(21758896, 0.9292702951046986), (21758896, 0.9292702951046986), (13132703, 0.7306893856707468)]), (425958, [(6995482, 0.9679198863935932), (6141976, 0.8954380910638307), (4041554, 0.8057516926057184)]), (4171076, [(24834560, 0.9834339142064439), (24834560, 0.9834339142064439), (5276634, 0.9523858907395445)]), (36174788, [(20207839, 0.98269441130647), (19236258, 0.9805960916358468), (12703293, 0.9581774616322566)]), (35416885, [(4008423, 0.9805313872343057), (26633522, 0.9187526777205949), (16428014, 0.6281614135732413)]), (30691380, [(20706151, 0.5564963740566107), (21271068, 0.4234106134452289), (14332372, 0.4232297646466057)]), (3121030, [(12536372, 0.9721457140809493), (12998449, 0.9538049024571948), (7843168, 0.8758111903947992)]), (99994782, [(31003554, 0.8400920723542091), (31003554, 0.8400920723542091), (32113481, 0.5728237890065773)]), (176229266, [(27428758, 0.4469540154120046), (27428758, 0.4469540154120046)]), (24362833, [(7169214, 0.9629340469696349), (16231627, 0.9526711735871238), (16231661, 0.8474647923417239)]), (150635899, [(21461500, 0.7470239859746686), (21461500, 0.7470239859746686), (9715442, 0.614345873663632)]), (50328335, [(5739284, 0.9470074495788487), (16411839, 0.8177448630416206), (8180676, 0.4250742436250725)]), (1593506, [(5897641, 0.9940020628081669), (8872326, 0.9683262517227702), (31812483, 0.9056401019648133)]), (242844518, [(42417293, 0.9146038912510879), (42078904, 0.9008275583746006), (42078904, 0.9008275583746006)]), (369335503, [(42417293, 0.44492930731120234), (42417293, 0.44492930731120234), (42417293, 0.44492930731120234)]), (33731929, [(21758153, 0.9785736076149896), (18450908, 0.8798601982047614), (6099703, 0.8146082368209788)]), (79217314, [(5348703, 0.961267547761278), (14154862, 0.9542319687478444)]), (1395381, [(241510, 0.965955358530729), (241508, 0.9533813036324047), (344803, 0.1751779784821229)]), (49863961, [(14325761, 0.9149140300591319), (14325761, 0.9149140300591319), (9118960, 0.6417104632346758)]), (32541868, [(12960218, 0.9931388984185723), (5246432, 0.990355929141143), (5246432, 0.990355929141143)]), (13716992, [(6142181, 0.9727831504731201), (6686851, 0.6904950011516253), (7350502, 0.6889808597615705)]), (19450359, [(24302260, 0.928881480141399), (24302260, 0.928881480141399), (19009257, 0.9207712749925596)]), (2194220, [(4091059, 0.9722387107199836), (18382074, 0.9529374773809333), (17831037, 0.7832679130389536)]), (3809741, [(11839854, 0.9827906050986348), (344803, 0.9812252160924818), (9567575, 0.9602564107033035)]), (152362391, [(20706151, 0.4245885847994128), (21248718, 0.2257069188428742), (21283656, -0.6187768307001289)]), (47619923, [(7143817, 0.4084392134568689), (7143817, 0.4084392134568689)]), (37424275, [(13038831, 0.9426744357639091), (22575924, 0.9090492081114473), (9506967, 0.6258874183767978)]), (24969474, [(22185082, 0.9884759605541171), (25998215, 0.9770645358486987), (3859180, 0.9739848366833063)]), (141993321, [(17416854, 0.512142037025987), (17416854, 0.512142037025987)]), (267101084, [(14925664, 0.8203077129309252), (5186243, 0.7166747376240379), (29108574, 0.6259435980854281)]), (221669311, [(16711969, 0.79025051365385), (28983781, 0.4426702898277568), (24720145, 0.44137875507668517)]), (158404207, [(16571624, 0.7876567531125966), (1024986, 0.6317345829794918), (15750877, 0.4440790350223204)]), (18114141, [(14325761, 0.9707934805951595), (8038199, 0.9473863565099641), (4138944, 0.9418551696626088)]), (127978515, [(12805743, 0.6820971212342481), (19039775, 0.6245244491646322), (42079535, 0.44653715343026845)]), (236194465, [(21358634, 0.9064206397278619), (15243393, 0.8903858527274571), (28321986, 0.6807934183176284)]), (8691387, [(5897641, 0.9557927706195201), (5897641, 0.9557927706195201), (5897641, 0.9557927706195201)]), (29195284, [(20950425, 0.8404626780470006), (20950425, 0.8404626780470006), (20950425, 0.8404626780470006)]), (218408474, [(11228389, 0.8531854780172604), (13703898, 0.807662481344841), (344803, 0.7092103304405677)]), (61048791, [(24609883, 0.9786389722168571), (26957485, 0.9687092999795709), (16830539, 0.9682507883645568)]), (60180791, [(10021704, 0.9090958904433666), (32411075, 0.7204516991131548), (12366821, 0.34426182922805965)]), (6726013, [(7843168, 0.9549590293506575), (23815487, 0.8649090910483612), (20971236, 0.8124559799348781)]), (101038028, [(28570820, 0.9682792789796993), (18349081, 0.9525265486601135), (18349081, 0.9525265486601135)]), (101908285, [(35786305, 0.9217765432869717), (20263356, 0.7741705657192683), (20263356, 0.7741705657192683)]), (16843724, [(9118960, 0.9545485320386213), (6619955, 0.9061588435335619), (3617090, 0.8770720490570608)]), (1687629, [(21305609, 0.8770114138974235), (21305609, 0.8770114138974235)]), (168798525, [(23782119, 0.5714122777006647), (21128303, 0.4942128188638542), (17957370, 0.42222842893329265)]), (365913290, [(42885911, 0.9252150513455609), (42885911, 0.9252150513455609), (42078904, 0.775955246897861)]), (28723813, [(18755310, 0.9529981062363797), (19132856, 0.49489644104065067), (17856170, 0.3683284020027402)]), (23007584, [(19647017, 0.9701226807011484), (19647017, 0.9701226807011484), (19353251, 0.9029108925797624)]), (167159393, [(9716208, 0.9695377696547398)]), (114286250, [(43407835, 0.8861090393551346), (43407835, 0.8861090393551346), (43407835, 0.8861090393551346)]), (184020459, [(16823251, 0.9043919330219078), (16823251, 0.9043919330219078), (19838603, 0.5106377077527516)]), (144527952, [(17856170, 0.8220130301715931), (16428014, 0.8154152872369578), (18284913, 0.6608543314915998)]), (56403819, [(6720895, 0.9695167105261517), (9118960, 0.9623836746520187), (9118960, 0.9623836746520187)]), (6499065, [(6518372, 0.9807029279786138), (23947783, 0.9661480525863835), (13266699, 0.947579116172863)]), (132937940, [(20919336, 0.8736283507235171), (18954357, 0.7622143560831085), (24932028, -0.764391889112528)]), (1826881, [(8533711, 0.9712240966024542), (7912670, 0.9609718994089591), (6034863, 0.13275574816180669)]), (26937441, [(7811199, 0.9800730946759703), (7811199, 0.9800730946759703), (22534903, 0.974644911825837)]), (119604108, [(16571599, 0.9827358693860935), (16571576, 0.965443569844948), (16571624, 0.5341795393826462)]), (164518423, [(6147142, 0.9758788451633528), (18254294, 0.9574725823002184), (14100301, 0.9554323696049031)]), (7457093, [(8608710, 0.9642986576281302), (17481717, 0.9349819793446761), (12934345, 0.8811709543466273)]), (88276078, [(19901171, 0.9772220182562501), (1024986, 0.956309665171962), (19611990, 0.9418815699452703)]), (20643782, [(10478373, 0.9047319509406558), (21416331, 0.7487742438763771), (21629960, 0.7349522457054322)]), (331744, [(21758153, 0.9777691474617907), (24302260, 0.9720999141100161), (21509015, 0.9630558495142416)]), (31641175, [(4108447, 0.8825536508394471), (9260193, 0.7860738713843262), (9054629, 0.6255529983490691)]), (7857767, [(19651474, 0.9147056648007305), (19936126, 0.8394416069106554), (4616537, 0.7424630204936133)]), (227028460, [(33506058, 0.8475900675256702), (8779986, 0.8193864457799785), (30281851, 0.743110192228368)]), (311525299, [(43337094, 0.7595058138969194), (42417293, 0.42818143408022047), (42417293, 0.42818143408022047)]), (122154667, [(17863026, 0.9507046529730068), (17863026, 0.9507046529730068), (16571493, 0.9171377511312659)]), (10082253, [(7143817, 0.9918780502856193), (7143817, 0.9918780502856193), (8525879, 0.9853935428609014)]), (69599246, [(12995321, 0.9082497166724636), (20509542, 0.8616710551219977), (4309541, 0.6034374000302879)]), (65449682, [(5087569, 0.936120194728324), (3639516, 0.9085410345678298), (1981933, 0.7904523723944898)]), (63688956, [(21854679, 0.9427496624405267), (3460343, 0.898490586576987), (24659042, 0.7948764842412985)]), (27291443, [(5186205, 0.8367788561953253), (5186243, 0.7476003755008366), (5492177, 0.44254253043517633)]), (268902696, [(1678744, 0.872943942584112), (1678744, 0.872943942584112), (1678744, 0.872943942584112)]), (14452009, [(11971734, 0.9245738840267965), (7843168, 0.8524922293632036)]), (33597027, [(12998449, 0.9757186451907962), (12839857, 0.9527576901273562), (12805743, 0.9176378269696738)]), (13819900, [(4446102, 0.941870331688201), (6128096, 0.9004438346819318), (12600834, 0.8257886869002469)]), (31402819, [(21854678, 0.8123393097342821), (29579499, 0.7582251506261718), (21854687, 0.3214996948045411)]), (10461794, [(3258894, 0.9814603677210579), (14706427, 0.966548972860937), (4527878, 0.9512520562782387)]), (25669832, [(21403392, 0.9285060914242037), (19163641, 0.901283235180845), (30083183, 0.8826569079568725)]), (232105662, [(17928273, 0.6004460828277306), (5908083, 0.42664460363037404), (5908083, 0.42664460363037404)]), (113526637, [(10819460, 0.926670226947882), (2488036, 0.9182266744820492), (8195910, 0.7005277311964763)]), (4551362, [(24288828, 0.9279990905409418), (26056791, 0.9219911413904776), (20685372, 0.9110323208437671)]), (24045322, [(747813, 0.9596583099099933), (24682167, 0.9444280214313668), (4138944, 0.8995582161077511)]), (41339374, [(4768668, 0.6372938070994396), (20514799, 0.588659854596606), (14100301, 0.4456233034977105)]), (6535407, [(9901369, 0.8247669688509142), (9828881, 0.7712066585895225), (28574569, 0.08207068313164811)]), (44011450, [(5827713, 0.9912164690318332), (5919270, 0.9856571957299624), (24636842, 0.9483664208893295)]), (14170709, [(16701352, 0.9333287480587806), (13266699, 0.8741705271711947), (15438033, 0.8022824887834941)]), (218930, [(6685809, 0.9634931409831726), (3144267, 0.9600175716418442), (16562021, 0.9427262863367718)]), (205007951, [(22679150, 0.9578712142517581), (22679150, 0.9578712142517581), (22051870, 0.9275162681930693)]), (71051935, [(34235543, 0.8543531906434978), (33604718, 0.7168363360908335), (33604718, 0.7168363360908335)]), (24765557, [(14071413, 0.9570215337352052), (4535456, 0.95687987713693), (4535456, 0.95687987713693)]), (26571782, [(25793757, 0.9337184800859755), (26119678, 0.9198265271756003), (36857203, 0.8152695025814507)]), (6887756, [(13591536, 0.9903174728412002), (6959415, 0.9574259892708389), (10510548, 0.945550023346156)]), (258716997, [(33111200, 0.7894990418830036), (33111029, 0.7484712698369599), (33111029, 0.7484712698369599)]), (35393429, [(16571599, 0.9546943623407411), (16571599, 0.9546943623407411), (15438962, 0.47869699690289663)]), (122868556, [(11245263, -0.5661634888885755), (11245263, -0.5661634888885755), (11245263, -0.5661634888885755)]), (344916634, [(43379651, 0.9403712079974945), (42417293, 0.6480859033043369), (43407835, 0.4438523248770382)]), (1369617, [(241503, 0.9750990596185027), (241510, 0.9291892651412572), (241510, 0.9291892651412572)]), (3289968, [(7257461, 0.9284610929968103), (10533297, 0.7173592081120616), (3802621, 0.6598202387368077)]), (76484791, [(8779986, 0.8727544677588311), (10446567, 0.7646179941436532), (15197371, 0.659834522148118)]), (13881434, [(822413, 0.9176509930020966), (6850935, 0.8877354000323308), (11245360, 0.8683643474295725)]), (12744121, [(5623917, 0.9524641293710339), (9834743, 0.6827455215779084), (4656316, 0.32147839396759575)]), (29476762, [(5798211, 0.8332776308562732), (8180346, 0.49153341851815235)]), (12342894, [(16428014, 0.928177922152404), (5650675, 0.7257258531164243), (4008423, 0.4437266167633974)]), (8632113, [(7098960, 0.9586605311853587), (17831037, 0.9325345059548199)]), (343869371, [(41603861, 0.9034848527389041), (39619120, 0.6819852200314754), (39617816, 0.5336028119771926)]), (137445709, [(8156821, 0.8500422493564476), (21198261, 0.7569784946651908)]), (157433835, [(1229614, 0.8127361377158873), (1229614, 0.8127361377158873), (8038199, 0.263414457224004)]), (13452602, [(12614519, 0.9756906231706857), (6142880, 0.7713137394128351), (21765670, 0.6377498957011861)]), (214360362, [(15826584, 0.9767098878562261), (24545600, 0.8767850089441076)]), (22274940, [(7791384, 0.9499752803402108), (33148773, 0.9395433737981149), (18284913, 0.5275005356565827)]), (8580256, [(14655886, 0.9655480994462868), (19810810, 0.7269173623545292), (7891758, 0.4070129647821701)]), (19839575, [(29131936, 0.9457998105679459), (19009257, 0.8688243755418242), (22143968, 0.813083216638036)]), (7746940, [(23548940, 0.9187953679528349), (29108574, 0.9178159179891483), (16231661, 0.8581006211805279)]), (20746778, [(19164675, 0.7904197023417142), (22708831, 0.649484209238212)]), (346408465, [(25793757, 0.8998896368191932), (5623917, 0.8345213743570236), (25972498, 0.603422841691918)]), (2515064, [(23548940, 0.9637968481001287), (15413048, 0.9527427212564441), (4507632, 0.893548654285769)]), (141280862, [(18662873, 0.6269439436521563), (18662873, 0.6269439436521563), (18662873, 0.6269439436521563)]), (105910787, [(22973504, 0.8482518636245606), (21195180, 0.8118965547741238), (10030097, 0.576757121139001)]), (190519731, [(25086316, 0.952325216409625), (27887001, 0.9036371984742411), (15532644, 0.5076715749665182)]), (46365809, [(36812514, 0.9648844579405416), (36812514, 0.9648844579405416), (18452331, 0.9599810252019899)]), (23014250, [(15238567, 0.9908482257739843), (3753251, 0.9806905052662207), (3753251, 0.9806905052662207)]), (18065310, [(5584157, 0.9862983150105437), (3954113, 0.9849866887567459), (10996427, 0.9844162427033649)]), (30900385, [(7536368, 0.9139267523536669), (747813, 0.8108829148806761), (7655771, 0.7161365576101038)]), (13080559, [(1678755, 0.9189011843110163), (21605333, 0.8597337024422936), (19164733, 0.681885757360084)]), (83502210, [(5101196, 0.90383424044774), (26218347, 0.8810549654417048), (16748453, 0.7899971926213936)]), (104779826, [(6352827, 0.8689815473375417), (17142437, 0.8685528201417907), (18184250, 0.47679155652419847)]), (111144287, [(39716900, 0.9048263766674036), (16747836, 0.8060832049977609), (15533093, 0.6258741486924922)]), (306861662, [(4499317, 1), (22745179, 0.9100773518969276), (2868366, 0.7055057846445072)]), (95818071, [(38134989, 0.9566745176452995), (37999599, 0.9269232330521113)]), (12530916, [(1024986, 0.9498014655473512), (18609695, 0.8803401578455975), (38654505, 0.7109157355462012)]), (82768718, [(29165650, 0.8016045274976443), (14935293, 0.6269708902486755)]), (19336497, [(11875596, 0.9514794618500775), (301247, 0.8699735639208057), (5276634, 0.8268554714646381)]), (23093012, [(15209910, 0.9665423767210533), (15209910, 0.9665423767210533), (15209784, 0.9213882234035516)]), (167447390, [(4499317, 0.924262117452328), (15792137, 0.8787309626966859), (17928273, 0.8436138313434993)]), (165502, [(12475063, 0.9733143305006607), (12947194, 0.967077780402442), (26056791, 0.9538990649516741)]), (10011442, [(35922722, 0.9100059232126129), (29093864, 0.8952163978132753), (10214097, 0.8925192935809578)]), (13601908, [(20509769, 0.941392716164846), (4139205, 0.7938566539014246), (26879023, -0.12171260665084194)]), (3830857, [(12703293, 0.9802099207261491), (6339047, 0.9729469081616003), (5787221, 0.882595354973229)]), (35122680, [(5902912, 0.9660987127363178), (20732822, 0.7577849629543237)]), (84251402, [(16118606, 0.9568973935885403), (16118606, 0.9568973935885403), (32503862, 0.572244318992947)]), (44223252, [(42078904, 0.8284801441437728), (42079535, 0.4273816808135995), (3753251, -0.33984618933253874)]), (66461994, [(6619955, 0.5436538194876274), (6619955, 0.5436538194876274), (6619955, 0.5436538194876274)]), (5444154, [(7717118, 0.9467933921625333), (7537692, 0.9060497416365155), (7537301, 0.8439709158845384)]), (2439444, [(2156329, 0.9832829592429638), (11875596, 0.9574579273357864), (16523058, 0.9125921395441862)]), (4100884, [(241510, 0.9855818236933267), (241510, 0.9855818236933267), (241508, 0.9849462102387927)]), (174339932, [(20714009, 0.8640605620458199), (24068262, 0.7505963959897931), (29850199, 0.6591876140249989)]), (46901388, [(26803902, 0.9365391361871684), (2156329, 0.8947922321478385), (7843168, 0.8927408702972004)]), (12531555, [(16685688, 0.9570966076994251), (16701352, 0.9528279500756782), (3207194, 0.9214022455594989)]), (22304951, [(4309541, 0.9861734199571136), (8312028, 0.9808552008794087), (17798496, 0.8393415333736024)]), (298652556, [(35114618, 0.881168940972378), (42078904, 0.8509574718700736), (42078904, 0.8509574718700736)]), (7835978, [(369141, 0.9557694843120478), (6522074, 0.9371971987887588), (9464059, 0.8439247195220483)]), (40792278, [(18850989, 0.7181644384924872), (24984672, 0.42932283796020027), (24984672, 0.42932283796020027)]), (121646385, [(26915369, 0.9795621864503914), (23678562, 0.7712710710944833), (19370670, 0.5303710191974182)]), (2506808, [(241503, 0.9920981040511924), (241503, 0.9920981040511924), (241508, 0.9874404040089165)]), (61772698, [(18487688, 0.9379949756285937), (4412603, 0.6730950277268071)]), (220756712, [(27970365, 0.8339330054538118), (8038199, 0.6865863945528073), (8038199, 0.6865863945528073)]), (26328606, [(4507632, 0.948367744835046), (14925664, 0.886885843205862), (7010578, 0.7268526834413502)]), (37888877, [(13418425, 0.8864588036030816), (7959059, 0.49681875392795627), (3954113, 0.44325090939021283)]), (46459880, [(15906140, 0.9807422369276536), (10107535, 0.9690689923491866), (4541072, 0.9359676308779419)]), (67758296, [(18017622, 0.9644100495231798), (11263684, 0.8973027008185341), (5797755, 0.2569905926345765)]), (53570980, [(6619955, 0.9752245924291255), (11635459, 0.9460664355528368), (28813059, 0.8444122733745407)]), (39393461, [(6800684, 0.9580354248421192), (6800684, 0.9580354248421192), (6800684, 0.9580354248421192)]), (29735522, [(4484727, 0.9422208766105583), (5377342, 0.831481912885493), (2696834, 0.4520362561621277)]), (20237827, [(16429519, 0.9400733602486024), (9260193, 0.9075521398149812), (9260193, 0.9075521398149812)]), (45735223, [(17416854, 0.9331490817752041), (8364495, 0.920959630121323), (8364495, 0.920959630121323)]), (369320, [(9891697, 0.8853608234037158), (11576431, 0.864920068314026), (11576431, 0.864920068314026)]), (25053655, [(24276360, 0.9312781759177856), (25366424, 0.9008766560464616), (2696834, 0.895631383814004)]), (31182060, [(5932439, 0.9577659293850344), (9532788, 0.8303900305388064), (31854536, 0.5568232763366143)]), (115317502, [(16981748, 0.8371517594154039), (16981748, 0.8371517594154039), (23752565, 0.5888891874259472)]), (12439047, [(9260193, 0.9269785955071688), (468782, 0.8489487306231347), (8196417, 0.12964325933390963)]), (208586292, [(13926988, 0.7424975530657081), (21941085, 0.6483671970930717), (30255865, 0.4244714424458956)]), (132546686, [(18486921, 0.9881704786406904), (16936558, 0.9781576315653577), (17416854, 0.9646861400353802)]), (63729167, [(9866917, 0.9416232184818198), (9866904, 0.8764176198205587), (9866904, 0.8764176198205587)]), (372593062, [(43337094, 0.7780417520093904), (43337094, 0.7780417520093904), (43337094, 0.7780417520093904)]), (19334223, [(5186159, 0.8908782998342344), (5276634, 0.8680255089297823), (5186205, 0.6401448528072343)]), (7240050, [(4360902, 0.9003206770857035), (19687504, 0.8478434111873692), (3209752, 0.8006468033715946)]), (187226479, [(20598841, 0.7967501150208277), (9901369, 0.6155120629459532)]), (15570332, [(7511173, 0.9379862202228761), (16765018, 0.8888794932111049), (16765018, 0.8888794932111049)]), (3712441, [(12805743, 0.9888847613939964), (27562324, 0.9845206421860444), (17812922, 0.9121487491395426)]), (102846566, [(5584157, 0.9512091088470781), (10392455, 0.8018903024965574)]), (102057516, [(16411675, 0.8739167858313655), (4434265, 0.4979723986290132), (16411298, 0.4941810962739548)]), (359240799, [(8038199, 0.6590850791918456), (8038199, 0.6590850791918456), (42417293, 0.42798958488813044)]), (3803330, [(3617090, 0.9684010996370256), (4751362, 0.9555480821065507), (5376182, 0.8943282776524486)]), (24685785, [(4583694, 0.9701194798923874), (6712575, 0.9035095781731832), (5348881, 0.7217044716205042)]), (31283214, [(19831199, 0.9680248205833275), (20207839, 0.9037181039545255), (30337969, 0.8346426874964716)]), (120022718, [(11972403, 0.9609193645714521), (19140847, 0.9221933086413892), (11971734, 0.8184925614926318)]), (98774597, [(13141357, 0.7644957575422783), (12600834, 0.6815243507256029), (17850705, 0.4235001977150013)]), (72069332, [(6299510, 0.9745996898273666), (16850703, 0.8650769792713504), (6179573, 0.5741784290902)]), (15289113, [(17813332, 0.908712446589695), (29454180, 0.8777717084464284), (7683535, 0.8319664303054662)]), (45211, [(7930906, 0.9271041036077063), (7931127, 0.6265219007763589), (3863231, 0.6264204969619649)]), (4080371, [(5428153, 0.9814559803066149), (7282084, 0.9510906337435432), (10398488, 0.9489110420877876)]), (70745, [(30083183, 0.9601393620585192), (10244337, 0.9549313501865425), (14397294, 0.8259586626777501)]), (2737867, [(28266733, 0.9558074714688535), (22098450, 0.9219218085502112), (22143968, 0.8436346716388357)]), (227605861, [(21271068, 0.7840137405960369), (21271068, 0.7840137405960369), (21069270, 0.6487366161001279)]), (33342825, [(11515630, 0.9869394620527021), (23603274, 0.7709765291476645), (30430704, 0.7002089898232112)]), (62980725, [(6100964, 0.9756195257564151), (8372113, 0.9712652968992016), (17619960, 0.8816917105173377)]), (61730856, [(16231818, 0.7961468188914981), (16231818, 0.7961468188914981)]), (58120866, [(6023517, 0.9327372180818535), (24988864, 0.9268389409442747), (5129422, 0.585536205281906)]), (31443610, [(17850705, 0.881127653179564), (22937932, 0.8585976316818973), (29600789, 0.8579675160898267)]), (141832692, [(23549024, 0.6160625190760425), (23549024, 0.6160625190760425), (23549024, 0.6160625190760425)]), (85837608, [(12859055, 0.9756566733159457), (4916186, 0.5730782200248355), (6142880, 0.5132894596873444)]), (77663294, [(12299983, 0.9745041878884082), (12299983, 0.9745041878884082), (19369423, 0.865477844344847)]), (717736, [(4446102, 0.9543247887263863), (4115899, 0.935455504405887)]), (33879087, [(31368481, -0.18731360171414652), (20214359, -0.2809050117665119), (15154001, -0.5291361075082204)]), (184368966, [(31204753, 0.9876250256027927), (35991648, 0.9770044890620182), (24466705, 0.9616453606791938)]), (55467107, [(24288828, 0.9902639061295189), (26056791, 0.9492176375831892), (6941608, 0.9126198872296194)]), (222661648, [(1302185, 0.8265725787428695), (4434265, 0.6013285595049042), (4434265, 0.6013285595049042)]), (13086207, [(7930891, 0.5646195477284972), (7930891, 0.5646195477284972), (3752662, 0.45591618297451625)]), (35248082, [(15774113, 0.8762116601845751), (15774113, 0.8762116601845751)]), (8015766, [(8349859, 0.9841280789588174), (8349859, 0.9841280789588174), (5214226, 0.9074015641574501)]), (12830399, [(5543423, 0.9483303706027748), (9549885, 0.8174097312230799)]), (16077985, [(33926472, 0.4475277641581759), (36216542, 0.44135207784449026)]), (1448964, [(17812922, 0.9465170530796285), (17798438, 0.8613832622377104), (17798438, 0.8613832622377104)]), (96716246, [(24506647, 0.5403051345319264), (24506976, 0.49301067683176836), (24506976, 0.49301067683176836)]), (4756102, [(7683990, 0.9642059390336297), (21631361, 0.9329429070686048), (19364738, 0.8939913664749963)]), (3455132, [(746929, 0.9623614026345504), (19130300, 0.9202412698035904)]), (484199, [(3839469, 0.9893230234953854), (3839469, 0.9893230234953854), (30578016, 0.9556740892650486)]), (847201, [(8312028, 0.9266501593770551), (5481194, 0.9174092560536526)]), (41587546, [(4916186, 0.9920165985251059), (6889842, 0.989703584438937), (12614519, 0.9708652264864013)]), (111842660, [(6888824, 0.9017059941501148), (16571493, 0.894469008812818), (4008423, 0.8810988131062246)]), (14131730, [(20812149, 0.90988562141991), (4091059, 0.7317267484782296), (20794954, 0.7185904439766481)]), (221077670, [(24636842, 0.9899405493887377), (24636842, 0.9899405493887377), (8038199, 0.8573091748560885)]), (10836588, [(7152364, 0.9807855885206758), (8800763, 0.9138243999131094), (4108082, 0.896517530196447)]), (9933137, [(25435388, 0.977572682709005), (24057381, 0.743327888008853), (14100301, 0.6611356455269148)]), (47963273, [(4751362, 0.9640445671332903), (29763827, 0.8743737481753028), (16571493, 0.5136175517036559)]), (39403680, [(13282424, 0.9683782535047766), (4214834, 0.9271048451575132), (4360902, 0.908951696354871)]), (115427441, [(35759765, 0.9568700203788529), (35759765, 0.9568700203788529), (1024986, 0.8315771298046278)]), (145630515, [(7814843, 0.9596510803720701), (5827998, 0.8718046510720943), (7843168, 0.8577862964037803)]), (941179, [(819034, 0.9788545167128785), (1622505, 0.9445623268077575), (819044, 0.6727927548362944)]), (17939096, [(18131601, 0.4420066128787058), (16748453, 0.44187994768862754)]), (75109316, [(8393043, 0.9673170588883334), (16182554, 0.9127018759941374), (5853047, 0.8664431602834304)]), (25089355, [(10996427, 0.9653535660521327), (11971734, 0.8899849833210002), (11971734, 0.8899849833210002)]), (1411143, [(11541093, 0.8473837875189276), (17277763, 0.4951500508642305), (15532644, 0.3645860206363495)]), (344177337, [(34244551, 0.9229371962600952), (41603640, 0.7901667920298999), (41604541, 0.5512241119240903)]), (81029888, [(11642282, 0.952844903149812), (12947194, 0.9444913442667682), (9927724, 0.8223583956431474)]), (3969859, [(9097877, 0.9282563584371897), (5246432, 0.9263209261617602), (5246432, 0.9263209261617602)]), (31108545, [(43337094, 0.8608647515462098), (43336673, 0.8574918090515956), (42078904, 0.2479046848465168)]), (99030984, [(241508, 0.9811606521443852), (241503, 0.9557373404370801), (241510, 0.5806099499487438)]), (68177865, [(20685372, 0.8435305859797936), (16231781, 0.5115543066984918)]), (2056094, [(241508, 0.984440303943231), (819044, 0.9796927778438163), (241510, 0.9573882117039676)]), (12315727, [(2146015, 0.857269809899573), (14390525, 0.6493300036412712), (16391421, 0.6319689347905085)]), (6722853, [(11994037, 0.9265751083624275), (17813122, 0.8482177723805129), (22140480, 0.8146238409576756)]), (78769797, [(35049439, 0.7654411570850023), (39716900, 0.7102595869646731), (42078904, 0.38499979389937977)]), (346834814, [(29662678, 0.9386636530839092), (20207839, 0.7964473297037356), (37059139, 0.6901741971919716)]), (36309593, [(4434265, 0.9298304410342069), (3144267, 0.7471372464630562)]), (5080458, [(28211070, 0.9593549109703053), (29111770, 0.8638023625671313)]), (52621763, [(11365125, 0.9308697121240722), (9563744, 0.8963813400172905), (15393345, 0.13895908527838052)]), (19012749, [(20005185, 0.9465489439361916), (18509748, 0.7956781613389228), (24397979, -0.935749361128185)]), (90025473, [(4505008, 0.709225797994764), (4027867, 0.6902248255018173), (5424650, 0.6253722126406093)]), (101412217, [(12162272, 0.9610714984765426), (31197264, 0.880278663062877), (34288179, 0.8516771641158369)]), (27886539, [(12805743, 0.9272581373838644), (24682167, 0.9256043271999925), (6518372, 0.9027829753784884)]), (51579989, [(16231715, 0.9831949123270534), (16231715, 0.9831949123270534), (11094655, 0.9749362359704747)]), (22134946, [(19780831, 0.9960068914477221), (5348703, 0.9735829463605064), (4360679, 0.9710800292872284)]), (70853258, [(22193279, 0.9362843636562266), (17399550, 0.7903418295339819), (21855459, 0.7179041576024636)]), (49213141, [(17856170, 0.9929409305691999), (17856170, 0.9929409305691999), (17863026, 0.9246918736024484)]), (81850353, [(5376182, 0.62059278111341), (5376182, 0.62059278111341)]), (63571935, [(16502098, 0.9408900995046761), (16571576, 0.8710334292479587), (19132856, 0.8511221871686264)]), (76094164, [(22133055, 0.7900001082036426), (20126837, 0.6813061236676264), (13265702, 0.6362975459121482)]), (11330779, [(22051870, 0.8773134174174143), (21942515, 0.8671224598889107), (16680449, 0.8573311587461249)]), (3658988, [(9030732, 0.9713859439715208), (8133710, 0.9320088040699421), (648183, 0.9132003580069492)]), (50033141, [(19370670, 0.8508964574474887), (7940828, 0.7840068565003108), (16743909, -0.6535449166318037)]), (15725187, [(20146412, 0.9887937019786381), (15154001, 0.979595548075012), (15310627, 0.9759313999894996)]), (87375257, [(33536365, 0.9172442828296011), (36813787, 0.8499834152896703), (27089993, 0.8267461296461013)]), (230479661, [(19576036, 0.9865824073202176), (15243393, 0.9644484094476007), (22575924, -0.6611695495549892)]), (12746141, [(4484727, 0.7595906168410341), (20397202, 0.7426675295228601), (22636241, 0.638755318013489)]), (4942570, [(8156821, 0.6372182607031167), (8156821, 0.6372182607031167), (8156821, 0.6372182607031167)]), (6021736, [(468782, 0.9578855316734265), (20703034, 0.9475564400175911), (19236258, 0.8992276357053273)]), (99170509, [(5902912, 0.9918765078236885), (7843168, 0.8994068223174149), (14332372, -0.21120252242588045)]), (27719824, [(8180346, 0.9655292094839665), (8180346, 0.9655292094839665), (6147142, 0.9044966140890959)]), (129811461, [(20146412, 1), (20146412, 1), (22140480, 0.9933272143195631)]), (76090928, [(7717118, 0.9541470777541394), (2451003, 0.8997115445409041), (7811199, 0.8545427565367512)]), (34570901, [(15238567, 0.8716109238734528), (24070730, 0.7692361234425338)]), (264730341, [(22776112, 0.9452020498653055), (8721639, 0.5732026897212035), (19380133, 0.5595751285107324)]), (265958232, [(9416695, 0.8507936615651398), (10214097, 0.817031424092315), (11875596, 0.8067500422425556)]), (42305660, [(20005185, 0.8991476594384279), (21191824, 0.8477461481371183)]), (48058900, [(21063861, 0.8865382499334508), (16832754, 0.8598436400364006), (16832754, 0.8598436400364006)]), (35240654, [(1024986, 0.9058439252015356), (21758896, 0.9054641014416507), (5376182, 0.8678709592041178)]), (134968255, [(8664337, 0.8304073006763266), (21483560, 0.7269228714340034), (18850989, 0.6825435604806979)]), (67817877, [(35744548, 0.8609191019065251), (29599048, 0.8530973095975474), (25955418, 0.6425608745612387)]), (52845560, [(5897641, 0.9692161925408322), (14935293, 0.866481170216243), (14935293, 0.866481170216243)]), (191360072, [(17488732, 0.9301148450161338), (18202395, 0.7420588507719442), (15792808, -0.7410381769190073)]), (44632670, [(28417802, 0.8388793917440364), (19184503, 0.6274848842703714), (24290323, 0.6014860754358601)]), (149571913, [(24644690, 0.8948862396092261), (24644690, 0.8948862396092261), (18144507, 0.7347388399330463)]), (30104069, [(8765476, 0.9328522947345516), (9304468, 0.9277393294274752), (7088428, 0.8856132086422582)]), (15225883, [(5428153, 0.972507488776367), (15792137, 0.9684241847355932), (540039, 0.964104943195436)]), (135327000, [(21758896, 0.8524340762101861), (6034863, 0.7911206643539096), (13418425, 0.6608100568581063)]), (107647460, [(37907711, 0.9686697576756164), (15209910, 0.9337173322739287), (23052272, 0.8875195919144032)]), (32358997, [(18080682, 0.9828908995040029), (4412603, 0.980753340981736), (6242964, 0.9198476715517547)]), (24448896, [(15275982, 0.8863827519622661), (7931127, 0.8118198370595067), (6034462, 0.7583491145320713)]), (9083108, [(7143817, 0.8793599050133887), (16876341, 0.7848434554727333), (14524408, 0.670218768186347)]), (346067423, [(42078904, 0.8316517654372443), (42078904, 0.8316517654372443), (15792808, 0.8146093270080446)]), (237531895, [(39654440, 0.8121677007239146), (21044510, 0.4224095665357452)]), (31377957, [(9715442, 0.8934446057074314), (4271250, 0.8309967905985145)]), (61006060, [(13668845, 0.9523035687455277), (11472477, 0.8692446660435151), (9555530, 0.7593293676033283)]), (112425850, [(15835320, 0.9537689032255974), (25793757, 0.9164263953245295), (7614627, 0.8240172341460443)]), (9080289, [(4583694, 0.9563629749860202), (4583694, 0.9563629749860202), (4583694, 0.9563629749860202)]), (20461292, [(4751362, 0.6195969180560587), (12805743, 0.5684437487318424), (12805743, 0.5684437487318424)]), (34881214, [(37472011, 0.9833789681256844), (23603274, 0.9611814752148322), (23603274, 0.9611814752148322)]), (3337807, [(12703293, 0.9713469228411253), (14581356, 0.9667068973234765), (30369336, 0.9509369531311174)]), (4239600, [(4412603, 0.9699506409506305), (7683535, 0.8564410001333815), (7683535, 0.8564410001333815)]), (68556313, [(12211392, 0.44169378981640306), (21036301, 0.44164075791146046), (12366738, 0.4414159814669164)]), (96299515, [(1622505, 0.9453578635428901), (1622505, 0.9453578635428901), (756267, 0.933916052918701)]), (70174804, [(4973227, 0.4434647262113013), (8508289, 0.34108480690333004), (22745179, 0.20793815667813187)]), (105858768, [(22462927, 0.9675457530852942), (16428014, 0.9251846388027771), (15750877, 0.7017698215895787)]), (30634166, [(4360902, 0.8781991125201714), (4645834, 0.6124918994434263), (4027867, 0.49520978274971905)]), (49767073, [(23603274, 0.9768929117209715), (20890687, 0.9712136034023579), (17399550, 0.9491591412314484)]), (3696085, [(12805743, 0.9509490158871419), (4541183, 0.8983723013893514), (19163641, 0.8744032940420274)]), (154114229, [(24034891, 0.6251834594656741), (19576036, 0.4444169783323211), (15243393, 0.44261396411616105)]), (159562726, [(20874431, 0.9657243629300888), (15455547, 0.9563725861045508), (25634551, 0.9526294195401009)]), (61666997, [(9523661, 0.9690374727523019), (8848001, 0.9528981219885203)]), (1502754, [(5827998, 0.9805958554926228), (5827998, 0.9805958554926228), (8180346, 0.9767297225396365)]), (44225562, [(41120765, 0.9065091364594741), (33388955, 0.8575020982379431), (33669171, 0.8500404948171902)]), (8963411, [(1622505, 0.9725202941378286), (1024986, 0.9183335324969881), (19625924, 0.8088024742786923)]), (34089952, [(16006904, 0.9080419558854689), (16571662, -0.9490245730844832)]), (17360705, [(12839857, 0.9780440372415999), (5376240, 0.9156764204275567), (5348881, 0.9003381357719764)]), (17942409, [(12935757, 0.9559704293064474), (2451003, 0.895327953969265), (27470725, -0.5122104627285824)]), (157746225, [(24785585, 0.9632205525856672), (25200482, 0.9530231558477198), (12924764, 0.9184102037789973)]), (144633900, [(33110734, 0.5864931190304583), (36850168, 0.5356820571707347), (33828837, 0.44252382899479)]), (46211045, [(12600834, 0.9145641157080133), (20865905, 0.8881749310429289), (17595630, 0.861856228600787)]), (37743611, [(5494971, 0.9653433535396969), (5494971, 0.9653433535396969), (5494971, 0.9653433535396969)]), (86484944, [(5186159, 0.9056579033681207), (22557532, 0.6504494704616769)]), (55615185, [(23548940, 0.8905187677783655), (301247, 0.5294723508971038), (7827659, 0.4635636063290151)]), (6115661, [(19364738, 0.9139639168497277), (20039387, 0.5066152245830313)]), (6258977, [(6221711, 0.9873174459136659), (9635192, 0.9265159845778698), (22197284, 0.903935322609919)]), (46601454, [(5798211, 0.9467073365710337), (8180346, 0.9347150592870239), (1941719, 0.7843170240088664)]), (16515524, [(16429519, 0.9763114830000049), (4008423, 0.9499325762758979), (4008423, 0.9499325762758979)]), (339978864, [(25972498, 0.8749184108191436), (36680482, 0.6583929588744898), (15774113, 0.09089370828433052)]), (50697448, [(19184502, 0.8490315676107513), (8277151, 0.691925715479806), (19184500, 0.6122421231195606)]), (32746589, [(35021657, 0.9682095667795092), (41418166, 0.9519134530031204), (35114618, 0.9270656825271163)]), (3244644, [(5376182, 0.9481647307522277), (39924114, 0.9432287132648136), (23549024, 0.835305665947581)]), (37955542, [(7769781, 0.9149808102197532), (25591117, 0.9139314024003435), (33232136, 0.8349086364581709)]), (186168669, [(20700848, 0.6591986379597908), (4645834, 0.6121489236878221)]), (119114373, [(17410578, 0.9073969357625233), (4446102, 0.424239174745032), (16571576, 0.04618903969124177)]), (74751327, [(5827998, 0.9866083275652975), (6147142, 0.9820671783666397), (14524408, 0.9811060480297191)]), (72616337, [(17736530, 0.9707018038932342), (21061528, 0.9669009312533541), (29302695, 0.9546000757053481)]), (58842127, [(26755304, 0.993512930377833), (26755304, 0.993512930377833), (6921649, 0.9722797833645196)]), (77805511, [(26309079, 0.9884853740371218), (24276647, 0.8613608916232997), (23132022, 0.6891874529964601)]), (119069751, [(21555786, 0.9338208395422927), (24200231, 0.8934981864502932), (11671761, 0.866063468738454)]), (1855662, [(5246432, 0.9752105382788487), (5246432, 0.9752105382788487), (4664392, 0.9745506947244529)]), (27201570, [(13462899, 0.9204381125175557), (13462899, 0.9204381125175557)]), (155875049, [(17949590, 0.9146840621878713), (20647210, 0.6957505520050788), (34049490, -0.8343326155506147)]), (81628041, [(5117966, 0.9316840522603267), (5117966, 0.9316840522603267), (24700942, 0.917148819294075)]), (134841358, [(21509015, 0.8698009917113293), (37015563, 0.8313753696554939), (37015563, 0.8313753696554939)]), (18711534, [(7662314, 0.9301936065388401), (7015796, 0.9230836812002681), (13235212, 0.8968359222972756)]), (8408328, [(7231780, 0.9652772818375353), (5377342, 0.9325660403459649), (5827713, 0.8925454019376002)]), (55362081, [(22979219, 0.9774191277073678), (22979219, 0.9774191277073678), (5186205, 0.7285031461361874)]), (49377967, [(18164623, 0.9534201339287971), (14506386, 0.9382347325432983), (17481717, 0.5939450472475107)]), (1495085, [(8609449, 0.9568654855916541), (4526966, 0.9245206436895188), (3988536, 0.8829285676027643)]), (25077715, [(10460541, 0.9464336906980633), (5739284, 0.940267757832905), (4576362, 0.8519004116083557)]), (37238638, [(9281075, 0.9835249623753822), (16168152, 0.8639730595419425), (15997914, 0.7067634779402433)]), (92845, [(12995321, 0.9775362761157442), (12995321, 0.9775362761157442), (7054222, 0.9762506437094766)]), (143900416, [(10325057, 0.9766889331619051), (18331093, 0.9692420269524193), (19800389, 0.8311096420556486)]), (153613222, [(9980935, 0.9538275717196713), (25796874, 0.8766881156754678), (18235755, 0.7896842776114821)]), (34452511, [(4399550, 0.8768289919178323), (8277151, 0.7942351124305913), (17831115, 0.7906349213765934)]), (35303481, [(18737139, 0.9355026765834372), (24290323, 0.8576376852276244), (7517671, 0.8426718936455773)]), (74711386, [(4484727, 0.9859622483619723), (5186159, 0.9772085700975786), (14387136, 0.9352645156296423)]), (130896878, [(5186159, 0.6384693603747322), (5186205, 0.4967841018479734), (5186205, 0.4967841018479734)]), (38249327, [(42246264, 0.6494297641828627), (31202731, 0.4037665225464051), (39617816, -0.20842468720638785)]), (24254521, [(26933485, 0.8942164025028347), (14718255, 0.8176770493805675)]), (263982, [(1647014, 0.9704507101861836), (12934345, 0.9565433926304587)]), (181486316, [(32148763, 0.8918427784907712), (29599048, 0.8905316563939087), (16571493, 0.7881981934801783)]), (178537218, [(4499317, 0.9776207243749726), (18850989, 0.9753443042779038), (41604541, 0.9725183859548028)]), (30511418, [(33604276, 0.9338058742795956), (25793757, 0.7373741710303493), (19580455, 0.18179360698259295)]), (153259140, [(39619617, 0.7710864292799321), (39619543, 0.7005137657843878), (39619543, 0.7005137657843878)]), (42806029, [(3651408, 0.709251378695573), (12366821, 0.7026472440201089), (10030097, 0.7008691446924717)]), (1528512, [(6850935, 0.8959088062508755), (21820188, 0.8910012096838674), (21820188, 0.8910012096838674)]), (54573404, [(11228389, 0.5583921354721113), (11228389, 0.5583921354721113), (11228389, 0.5583921354721113)]), (1884338, [(21758153, 0.9814139702335314), (10510548, 0.9610521027752441), (24681823, 0.9477553335702932)]), (342467871, [(42417293, 0.9041829971360319), (39617816, 0.7849201618447774), (39618567, 0.7596166671086562)]), (54190972, [(16412556, 0.9606499020843207), (3340547, 0.9602673441348774), (7319075, 0.9301866599207909)]), (12870124, [(6337983, 0.98448613147665), (6405194, 0.9198819081469766)]), (12408352, [(15019776, 0.9908250770580027), (3839469, 0.9620891331565022), (11576431, 0.9328047297403887)]), (306473285, [(43379651, 0.4060074261826971), (43379651, 0.4060074261826971)]), (181024192, [(32663173, 0.8531271523713603), (25981045, 0.8218951736842425), (36359535, 0.4778483337731077)]), (27805044, [(16891958, 0.5946928229359241), (23507483, 0.5717393304740052), (16571437, 0.403571606471043)]), (17064187, [(7655771, 0.9122401687672639), (13325753, 0.8410055594653076), (8313545, 0.834770920071017)]), (5469059, [(5827380, 0.8875285148822327), (20812149, 0.817250861672235), (1678744, 0.7958145028890024)]), (28200072, [(7683535, 0.9862213516417788), (8186452, 0.9616243341660511), (7311328, 0.9481720043100023)]), (65697321, [(8038199, 0.8039363471890495), (18281394, 0.44147209122050607)]), (23549765, [(12658514, 0.8168615004023788), (10715448, 0.527877097072027), (4008423, 0.4468729504628582)]), (32418554, [(9866904, 0.6482502480337534), (9866904, 0.6482502480337534), (9866904, 0.6482502480337534)]), (344499857, [(27513348, 0.7240963064214425), (43337094, 0.5402817912397562), (43337094, 0.5402817912397562)]), (168222568, [(18846559, 0.7904980426411757), (13286282, 0.7712875020756976), (19714010, 0.5396930139294837)]), (47588109, [(24591317, 0.9030789911621582), (30561871, 0.7352605073691034), (8277151, 0.6387611778878888)]), (123877004, [(22987507, 0.8604899642934634), (22987507, 0.8604899642934634), (12762246, 0.774930722645104)]), (39611178, [(7143817, 0.9135974683752169), (7143817, 0.9135974683752169), (7143817, 0.9135974683752169)]), (4185064, [(28748380, 0.9775467281252541), (22462927, 0.796164083754275)]), (37395322, [(29131936, 0.9574581296555666), (9717005, 0.9177614954799596), (9717005, 0.9177614954799596)]), (185300310, [(8180346, 0.8709710701239616), (21915252, 0.8467572609174843), (21915252, 0.8467572609174843)]), (222006387, [(12839857, 0.9798981514288869), (12805743, 0.9776710402124873), (2451003, 0.9736611185247969)]), (14622266, [(5797755, 0.989050753763386), (7683990, 0.9838363237555671), (7143817, 0.9767355958666735)]), (18200714, [(16295158, 0.8878711552030044), (25366424, 0.6498030336353243), (21454566, 0.6361107175658423)]), (122563143, [(1024986, 0.9182414080172858), (1024986, 0.9182414080172858), (16182554, 0.8737498573157618)]), (188842185, [(19094235, 0.9688161023934516), (22098450, 0.9309998721045991), (22098450, 0.9309998721045991)]), (351815713, [(24659042, 0.6359994372805284), (40470586, 0.6142801851653887), (41803435, 0.5725893168858971)]), (40076664, [(30337969, 0.9568928646538375), (33232136, 0.9341650968387388), (15774113, 0.8750481970229236)]), (58535464, [(12536372, 0.9456413420583638), (16443023, 0.9375279722923361), (21818868, 0.7665408353380151)]), (12781005, [(3617090, 0.703877915803215), (3617090, 0.703877915803215), (15747017, 0.5505371964193835)]), (2896551, [(1887824, 0.940715197379608), (8800763, 0.8924265397148903)]), (118292989, [(27709128, 0.8400136813775807), (22560212, 0.8264215407384085)]), (130173700, [(33604718, 0.755693752541777), (28812814, 0.7255772282453841), (18755310, -0.07183170063885103)]), (26884571, [(3987930, 0.9687036488547872), (12614519, 0.9583249345664712)]), (52897090, [(28731998, 0.9891943238740509), (34530939, 0.8766512717975844), (29063078, 0.6143221938623791)]), (39706636, [(4507632, 0.9701629791469073), (17399550, 0.9439901895748077), (15501491, 0.9289527694166453)]), (56938815, [(9104449, 0.4236068040149359), (33912109, 0.42203400831189486), (42079535, 0.23598803445163447)]), (218250656, [(6889842, 0.9562478231068772), (29993904, 0.8702220686153033)]), (231921527, [(22694427, 0.7272545032137373), (4360811, 0.7008755344589382), (27272375, 0.6005061614420514)]), (3010676, [(15154001, 0.9721364506641044), (9802857, 0.9626875865587351)]), (253643883, [(29993904, 0.8639927406365498), (29993904, 0.8639927406365498), (8533711, 0.8124512827468697)]), (143626855, [(16422291, 0.9310574431115061), (24294873, 0.9036181463559424), (10641757, -0.2981445726839195)]), (64273167, [(25044951, 0.9867218644528971), (19236258, 0.9819880231327719), (28958329, 0.9409218917255309)]), (47913479, [(5609097, 0.9235879740897683), (5609097, 0.9235879740897683)]), (11615609, [(10848771, 0.9766930192225451), (17123698, 0.9568267514647046), (7605283, 0.946074522164222)]), (54490974, [(32353763, 0.8751561376409692), (2492539, 0.756568968897241), (16947051, -0.07399119890133021)]), (10165616, [(21370642, 0.968057927791529), (21305609, 0.9653693602685562)]), (108238729, [(25955418, 0.8707462595774694), (21192653, 0.8095576752993349), (21509015, 0.805914583126322)]), (14711565, [(6718219, 0.9762818207035474), (9513005, 0.8359267996702615), (7182042, 0.5281837012040648)]), (22070064, [(11865360, 0.710183909213028), (15267692, 0.6810368286203814)]), (343001179, [(41604541, -0.87661176102391), (41604541, -0.87661176102391)]), (21313264, [(7769781, 0.9237877526061247), (19220212, 0.6029947070765801), (19220212, 0.6029947070765801)]), (221630491, [(35902259, 0.9080253546905472), (11965790, 0.7263718184480292), (11965790, 0.7263718184480292)]), (36481652, [(21502138, 0.9709551096966442), (4616523, 0.8797966847310186), (32318920, 0.6266481082014802)]), (16304354, [(13591536, 0.9468006423546166), (20259295, 0.9273583112923497), (20950425, -0.19918047284406315)]), (15622209, [(11178283, 0.8203601195398204), (18607018, 0.571094433851649)]), (45259594, [(11972403, 0.8906704131275518), (17709076, 0.8282508402303177), (17709076, 0.8282508402303177)]), (159931966, [(29599789, 0.4334430515904188), (29600789, 0.43230850151922123)]), (37195302, [(13325753, 0.9717312359655625), (39369817, 0.9544374945937988), (21194823, 0.700032031185196)]), (19591953, [(12839857, 0.9749337550648388), (12703293, 0.8802131258728615), (12703293, 0.8802131258728615)]), (198574720, [(24070730, 0.9796782236559664), (11635459, 0.6259216606600922), (27754006, 0.6133675571538)]), (1998549, [(241510, 0.9771733868055723), (2488036, 0.9165031003778797), (11817134, 0.7697964091277099)]), (318323228, [(39618567, 0.8126794784397755), (43336673, 0.744961708219971), (42885911, 0.4917562318170816)]), (348240590, [(24664051, 0.5724329346077965), (24979153, 0.442692357043067), (24979153, 0.442692357043067)]), (150720719, [(22979766, 0.9182623045091727), (25972498, 0.9042000679043893), (21855459, 0.5716729243242332)]), (24816899, [(24927780, 0.870346802905663), (24571017, 0.7347541760394463), (14489603, -0.3000261540117858)]), (2416494, [(3479493, 0.8397959515315816), (3479493, 0.8397959515315816), (3479493, 0.8397959515315816)]), (11558676, [(2840554, 0.9632863176293631), (8393043, 0.9589079801215842), (16182554, 0.8193436502367439)]), (5416354, [(21557075, 0.9589454637316993), (2377875, 0.8945415986838962), (16571493, 0.7616496503914251)]), (216365833, [(28514483, 0.9947581813759808), (31090026, 0.9803721519312512), (33134391, 0.8113681495598033)]), (24603590, [(25993991, 0.9704188737098912), (21061528, 0.9597321136531477), (16547346, 0.9581838819481905)]), (21232807, [(2731054, 0.9206356764419), (19364738, 0.6065776274703987), (19364738, 0.6065776274703987)]), (175619442, [(32353763, 0.7500611510617148), (15389076, 0.7093714825616202), (20263356, 0.5828125759748193)]), (54565186, [(14655886, 0.8819986842641694), (14655886, 0.8819986842641694), (24586538, 0.6144941593964712)]), (235069380, [(26577038, 0.9109816569637749), (7814843, 0.8720016527408709), (29741816, 0.782675961319104)]), (16491329, [(4973227, 0.9957814442535815), (16685688, 0.9851363656252221), (16685688, 0.9851363656252221)]), (347949972, [(12839857, 0.7243428536360267), (24294968, 0.6120417926881796), (24294968, 0.6120417926881796)]), (127640475, [(30083183, 0.9919389618339131), (28731998, 0.9753046948489251), (21285979, 0.9662841513450933)]), (4980267, [(17812922, 0.869220708368683), (17812922, 0.869220708368683), (12299983, 0.8204787023580824)]), (5779317, [(37063111, 0.9011201947230854), (33025531, 0.7934926228874185), (31656915, 0.6913287922350249)]), (60854965, [(19251396, 0.9399283329121149), (18602770, 0.885484650647898), (17399550, 0.5818445831812915)]), (8557312, [(14100301, 0.9789217916799554), (35744548, 0.9531575047927243), (8180676, 0.8922040468587683)]), (53375317, [(7628360, 0.8406355277945561), (18316457, 0.8221409001026264), (16527216, 0.8006598261458643)]), (17290747, [(20717450, 0.7031817566812998), (28896892, 0.6162527765544346), (28896892, 0.6162527765544346)]), (25379921, [(34239125, 0.9561674113914909), (4541183, 0.942355009111854), (12960218, 0.89613817509952)]), (725741, [(26931333, 0.6243790537541469), (16412994, 0.5874809841177017), (2484135, 0.13092374758376024)]), (44660141, [(8765476, 0.9033199316175594), (7827659, 0.8506913449570875), (6968350, 0.5290895136410119)]), (66402093, [(28034527, 0.7880117202325307), (2964022, 0.7584879310380863), (4969304, 0.6810400182041898)]), (104849977, [(2488042, 0.9652681669263369), (10531473, 0.9647719583499333), (10531473, 0.9647719583499333)]), (146132144, [(20195421, 0.9031591675976504), (14161622, 0.7720882186049252)]), (2855922, [(21376471, 0.9817094011064655), (7843168, 0.9590341833275047), (301247, 0.9095140109155363)]), (73374625, [(39491185, 0.7693755477896392), (40267527, -0.41787076712296556)]), (341894819, [(42079535, 0.9724111499912558), (39329661, 0.9171053908531301), (12484261, 0.8888752349061315)]), (352642678, [(42078904, 0.660979223329375), (42078904, 0.660979223329375), (42078904, 0.660979223329375)]), (241867373, [(30430704, 0.7579047874080515), (32903519, 0.6256515439503701), (43379651, 0.4450312314154043)]), (52348626, [(18666776, 0.9621567808789737), (8817446, 0.9489258286990776), (16606463, 0.9386049023459188)]), (28885884, [(40470586, 0.795717068245227), (37655038, 0.6239748320329551), (25561906, 0.5954300364312308)]), (182846767, [(9872354, 0.8548760421770915), (27781949, 0.7581950487884752)]), (17826967, [(11714703, 0.8746190749682039), (16850703, 0.8395552103735815), (7614627, 0.7848895632483383)]), (70597728, [(8156821, 0.4518820090731931), (8156821, 0.4518820090731931)]), (40686901, [(7257461, 0.9736512994712123), (1315867, 0.9727617886239538), (14515500, 0.9463481605102886)]), (11436002, [(14245740, 0.9552278319622768), (11747584, 0.9494421429505762), (16876341, 0.9453711423610698)]), (124192086, [(13266699, 0.9584406352784645), (5493930, 0.9472202831276408), (21483560, 0.9373199088305073)]), (13747383, [(4271250, 0.9885610793314539), (8634722, 0.9838869718372176), (4434265, 0.9819230945400478)]), (112278623, [(2387687, 0.9021432294937094), (2387687, 0.9021432294937094), (16428014, 0.8771947574378185)]), (21179265, [(7868833, 0.9566546361296335), (22282038, 0.9227922199065891), (5739284, 0.858169529386214)]), (313085123, [(43407835, 0.8316918998223559), (43407835, 0.8316918998223559), (43336673, 0.44839449088306466)]), (48486386, [(15997914, 0.98373919385105), (16412556, 0.9696675220406057)]), (60670903, [(6993627, 0.9434276565992468), (6889842, 0.8485403707811207), (3144267, 0.8392257275650234)]), (6313385, [(6940054, 0.9218121663910618), (20714009, 0.6431360236597397)]), (85690778, [(20094056, 0.8035473271783695), (20094056, 0.8035473271783695), (20094056, 0.8035473271783695)]), (37579935, [(7039222, 0.9148769536094857), (7039222, 0.9148769536094857), (7511173, 0.7740706576618057)]), (4797634, [(4561484, 0.8957194087430644), (4561484, 0.8957194087430644), (4022486, 0.8786577670049012)]), (1401333, [(241503, 0.9591512871566475), (241510, 0.9582686989083138), (241508, 0.9577447755631151)]), (45457820, [(20647210, 0.8292393786745484), (20647210, 0.8292393786745484), (20647210, 0.8292393786745484)]), (5876997, [(8198598, 0.8291512449642243), (16527216, 0.6006765820677693), (4124908, -0.08145890108345377)]), (126999312, [(11750389, 0.4946056022627817), (26056791, 0.2978832046639836), (17769862, 0.1959786110283761)]), (11586252, [(5300431, 1), (5300431, 1), (4027867, 0.9740359283476588)]), (56168771, [(10107535, 0.9125544042089528), (10107535, 0.9125544042089528), (21915252, 0.7782650189276719)]), (322266840, [(40638890, 0.9756842698233786), (3460343, 0.7148464162180594), (3460343, 0.7148464162180594)]), (217178280, [(9828881, 0.7150580154350659), (9828881, 0.7150580154350659), (17928170, 0.6519802277164938)]), (10449823, [(29962235, 0.9490188023228906), (21929075, 0.888032478003334), (16578060, 0.7182061330304294)]), (3061687, [(9033647, 0.796344759080289), (10848771, 0.2307878707707875), (10848771, 0.2307878707707875)]), (22077831, [(25059951, 0.915619460218885), (4138944, 0.8554623017522182), (19681895, 0.8046707702085875)]), (182576039, [(23193720, 0.958087943111079), (17813122, 0.7422317087297154), (17813122, 0.7422317087297154)]), (220148373, [(26683920, 0.9872961622360155), (23760158, 0.9741299250052008), (21493991, 0.9402829962131859)]), (500839, [(6147142, 0.9680691877158635), (6147142, 0.9680691877158635), (8180346, 0.8878059047841291)]), (134845753, [(15389076, 0.9137898640917379), (22534903, 0.8911668885839595), (21061528, 0.8863601054797285)]), (65530339, [(15536743, 0.8692956306449745), (16686418, 0.7090130466399586)]), (8288173, [(28125905, 0.7572518713109021), (3651408, 0.4420002833997612)]), (27745404, [(27754006, 0.9346841001506891), (24290323, 0.9082566724869136), (15735824, 0.8515442176270828)]), (15246201, [(21430677, 0.9209632867502862), (23002906, 0.7568099736722685), (28417802, 0.7275786605127174)]), (58688579, [(5186205, 0.9330068864980937), (5186205, 0.9330068864980937), (7662314, 0.8313150669882281)]), (21021598, [(6718219, 0.9395958590970144), (6718514, 0.9349524053793218), (6147142, 0.848797882653151)]), (57307919, [(23947783, 0.9717749968249458), (24290323, 0.9404564149394904), (24681823, 0.659671879216436)]), (75375845, [(2752673, 0.9114607903114176), (14600122, 0.7511604591283728), (4008569, 0.6306000089482902)]), (60357098, [(15826584, 0.9925213334860398), (20335984, 0.9918514021072128), (15455547, 0.9766232506920298)]), (61719922, [(9802857, 0.9873245866046908), (6993627, 0.32329017689644335)]), (14868672, [(13943612, 0.9799091934842892), (4541183, 0.9735265295288462), (648183, 0.9629816981598467)]), (168034501, [(20672785, 0.8223753212896021), (6959415, 0.7969364007548316), (747816, -0.5571437038525427)]), (20452706, [(7311328, 0.9804214085970282), (7311328, 0.9804214085970282), (6100964, 0.9257832348701606)]), (29720876, [(5185612, 0.9844766786094918), (13462899, 0.9830597410814952), (5889741, 0.9827023644797589)]), (79202807, [(764599, 0.9641973082807127), (39716900, 0.9611971640494191), (7733844, 0.9580884778170932)]), (8041009, [(7311328, 0.9986987223667723), (7311328, 0.9986987223667723), (23848309, -0.9271878210153446)]), (348495457, [(43336673, 0.6266065222404398), (43337094, 0.6249636479708635), (42078904, 0.4350951937702807)]), (107389635, [(3617090, 0.7646650405973628), (3859180, 0.6151381407252015), (36817766, 0.5869118062298828)]), (20740176, [(12536372, 0.97113257770781), (12998449, 0.970598059525554)]), (11220411, [(3753251, 0.9919640658468293), (2090082, 0.991741342441451), (10084321, 0.9859897731248446)]), (23074029, [(14925664, 0.9567255606794153), (16715096, 0.7797760694339058), (16715096, 0.7797760694339058)]), (27632396, [(25099004, 0.9304877332600601), (11972403, 0.8905150403940041), (26232923, 0.8360046336997009)]), (65893667, [(21014924, 0.9798415250610873), (31152040, 0.971565024990116), (17881784, 0.8792446532858246)]), (1789855, [(5493930, 0.9889054372070758), (7138922, 0.9638875151120643), (2129215, 0.9512572727260129)]), (75827679, [(10848771, 0.9789399938507798), (17595630, 0.8176171314603742), (7814843, 0.6615613491072607)]), (1595389, [(19417657, 0.9764981142887605), (12299983, 0.9647070385089798), (27127693, 0.8369984443621581)]), (38424130, [(21820188, 0.9657200527329675), (12484261, 0.8761267289902495), (8156821, 0.8517874700396428)]), (2768055, [(12536372, 0.9919846500324501), (4183194, 0.9788239847641128), (33782992, 0.958302766367456)]), (344116508, [(8038199, 0.9760570279807772), (7399093, 0.7828542050030668)]), (69914192, [(16620711, 0.8176706803780392), (21305609, 0.8020238991346332), (21370642, 0.5480826731179034)]), (10923075, [(17812922, 0.9582000100226544), (17831305, 0.9468597683586347), (17813122, 0.9164715392720236)]), (18634070, [(2146015, 0.9051339574953899), (15532514, 0.8287186889422851), (4909244, 0.8113814840861605)]), (50163854, [(28514483, 0.9770674465637761), (29063078, 0.9497992741016866)]), (175750599, [(6850935, 0.8491924678833044), (6850935, 0.8491924678833044), (6023517, 0.5954792403903295)]), (343094219, [(43337094, 0.6604311838597513), (44380929, 0.42312429923751166)]), (61030250, [(5494971, 0.8771113975421633), (5494971, 0.8771113975421633), (14191894, 0.6809272927169719)]), (190588790, [(4507632, 0.9159196542249262), (25130085, 0.8479673389437415), (35805260, 0.8161957440916561)]), (72111876, [(21483560, 0.8694550245136223), (10977249, 0.6140650036013167), (10977249, 0.6140650036013167)]), (20472968, [(16571599, 0.870993760342195), (16571599, 0.870993760342195), (16571624, 0.8459279814928103)]), (95116712, [(12299983, 0.630454705208304), (12299983, 0.630454705208304), (12299983, 0.630454705208304)]), (21453171, [(20514799, 0.932241532886301), (23598682, 0.9177548156432841), (7843168, 0.8686048781442822)]), (35264588, [(4271250, 0.9845643173044636), (8664337, 0.9560247901670229)]), (14063018, [(12211392, 0.8515215991864183), (12367388, 0.8159656723419306), (12366958, 0.741903146517011)]), (249603564, [(42246264, 0.5903958647942454), (42519651, 0.38601427406599753), (42519651, 0.38601427406599753)]), (9461789, [(3140972, 0.8174615809247563), (3140972, 0.8174615809247563), (3140972, 0.8174615809247563)]), (70718502, [(18471415, 0.9582119987200326), (18471415, 0.9582119987200326), (15501491, 0.7832163165933622)]), (45871148, [(4139205, 0.625717989182897), (11671761, 0.4943707047342998)]), (60550133, [(14935293, 0.9059079600832812), (4446102, 0.8625861687244327), (11601706, 0.8402172363954883)]), (156132843, [(24586538, 0.700065115129018), (17595156, 0.656129532491073), (20698050, 0.4430030459652996)]), (25143378, [(8264717, 0.9874189825908337), (24979153, 0.512745931700548)]), (27780800, [(25366424, 0.9861114485783591), (24302260, 0.976466170569147), (33536365, 0.9748914814806448)]), (147491740, [(41257638, 0.9738441797116669), (33795262, 0.9460192504222242), (37484436, 0.5427244837976106)]), (2531721, [(28376148, 0.7237103530041568), (8779986, -0.6668534653042538)]), (16765532, [(16571576, 0.9472831269991491), (16571662, 0.9219808639089848), (15362541, 0.9133237680955131)]), (30134099, [(4561484, 0.7996550994048353), (4561484, 0.7996550994048353), (7662314, 0.7979876935357877)]), (15466065, [(19576036, 0.8324607671641968), (19576036, 0.8324607671641968), (17625819, 0.6126185407947676)]), (191817104, [(11971734, 0.6705557276850374), (22051870, 0.47886767245764283), (16947051, 0.44092660827660163)]), (16291286, [(20588444, 0.9506898835944749), (11994037, 0.8310267459108633), (28417802, 0.6285921324077882)]), (28719725, [(19361265, 0.9735874764285299), (18850989, 0.9208162972496778), (14492766, 0.8747749640555933)]), (2127114, [(5787221, 0.9562414736077526), (17831037, 0.8049057199891599), (17831037, 0.8049057199891599)]), (34413893, [(1081816, 0.9841753272840639), (12960218, 0.8922466762172477)]), (34795464, [(15581173, -0.5701743609450667), (33111200, -0.8790939380110177), (6113485, -0.8990475039980617)]), (39579960, [(22636241, 0.8847324822828703), (423875, 0.7886998685368447), (23209834, 0.7186546815379495)]), (3191102, [(23848309, 0.6828933837073168), (20794954, 0.6261246952358795), (4802295, 0.5964729558511851)]), (13561147, [(16207617, 0.963450510196313), (17798496, 0.9402156886456134), (28417802, 0.5530438484590602)]), (1584472, [(19184500, 0.8715333238516083), (17831305, 0.7824537452775722), (17831305, 0.7824537452775722)]), (11868516, [(16936661, 0.9600259429523659), (20000821, 0.6720379735511619), (16936558, 0.5975122892723793)]), (36201854, [(6630341, 0.9127370216346313), (10446567, 0.8712135798007405)]), (126183129, [(4616523, 0.9649762614005627), (5739284, 0.9091545790256129), (4616537, 0.806003353319936)]), (21322703, [(4583694, 0.982772001175972), (4583694, 0.982772001175972), (9260193, 0.9774959330344289)]), (110566981, [(17545739, 0.9754344454533941), (18376117, 0.9736501575212585), (5348881, 0.8311832015735736)]), (203984842, [(8765476, 0.9439747982860579), (17850705, 0.8463427725757255), (24707713, 0.8061457806960297)]), (105974570, [(11972403, 0.9236799772271251), (11971734, 0.2084200544558542), (11971734, 0.2084200544558542)]), (49596344, [(30449744, 0.9775415151193261), (14523829, 0.9772661748490457), (9104449, 0.92509374899258)]), (112214284, [(30433107, 0.29756860470529906), (7655771, 0.2301342525241819), (28239177, 0.018490461724409046)]), (106382747, [(4271250, 0.6375247092542756), (10814989, 0.6269475353703273), (10814989, 0.6269475353703273)]), (9652595, [(4730292, 0.902852961898575), (7959059, 0.8582658525720088), (11411739, 0.8542145493240536)]), (132502977, [(6431505, 0.8871925638207031), (3617090, 0.7509639177103669), (16291031, 0.6278279132333412)]), (77869445, [(20207839, 0.9805675604934042), (40470586, 0.9780132197371307), (29581373, 0.9424053671261822)]), (13799803, [(40168630, 0.9653263821248989), (24294968, 0.9532528538638438), (29323656, 0.8109355655153117)]), (38123846, [(13998008, 0.9541030481728222), (4108082, 0.9456350371127726), (8180346, 0.8997534460977281)]), (190587606, [(36760495, 0.7896844367427914), (17127812, 0.7857186958722666), (16876341, 0.47938481798013177)]), (62284537, [(8765476, 0.823370930159097), (11671761, 0.7583842427961855), (9563744, 0.6799105707084001)]), (74141093, [(4446102, 0.9827083456651724), (11875596, 0.9443823972031626), (16523058, 0.7647185866534966)]), (17579941, [(6826957, 0.974887740609557), (6826957, 0.974887740609557), (6826957, 0.974887740609557)]), (21024870, [(16412556, 0.9081233873272905), (3995441, 0.7944993012757389), (4041554, 0.6488838325080519)]), (48603187, [(10531473, 0.77767845081151), (10531473, 0.77767845081151), (10531473, 0.77767845081151)]), (24615372, [(9260193, 0.8871629541643946), (12345284, 0.8149069874552781), (3639516, 0.39482843960317127)]), (190680226, [(29579499, 0.9810762558206974), (3988536, 0.9627930268416012), (3988536, 0.9627930268416012)]), (3647210, [(11750389, 0.974069229478533), (19009257, 0.9706516206048279), (6221711, 0.948086867639894)]), (15308770, [(20888336, 0.9680089841041497), (12878592, 0.9469817812362101), (17856170, 0.8990142617190857)]), (22873510, [(7702277, 0.9426954463880904), (4656316, 0.9132533542577266)]), (20510955, [(17781759, 0.9558538900979994), (17781759, 0.9558538900979994), (14095593, 0.9186143174194136)]), (282823752, [(34049490, 0.9619803801684879), (2156372, 0.9003369510764729), (344803, 0.6122094525801537)]), (124331727, [(16411839, 0.9497808584471024), (4527878, 0.8744418909991291), (10659341, 0.74356438419101)]), (28851423, [(21915252, 0.5727295855583008), (21915252, 0.5727295855583008), (11971734, 0.5704244333916434)]), (102033903, [(43393378, 0.5468011566596591), (5623917, 0.203800175983885), (5623917, 0.203800175983885)]), (1829119, [(30687199, 1), (30687199, 1), (11863888, 0.9640386450209402)]), (37572955, [(1599599, 0.9156245630701043), (35788855, 0.9055188041247295), (14381353, 0.9013894018313311)]), (22076989, [(6906010, 0.8506087827196576), (7015796, 0.6262848939598553), (6299510, 0.4770857562908973)]), (2951333, [(982909, 0.9660064689488159), (5493930, 0.9578944550464445), (5493930, 0.9578944550464445)]), (8840505, [(16606463, 0.9375531855182444), (24357656, 0.8094357700672744), (6697057, -0.23510540647764844)]), (110537257, [(23848309, 0.9026640632204441), (23848309, 0.9026640632204441), (1024986, 0.8362588853233633)]), (1473780, [(30687199, 0.9593873014452158), (18164623, 0.8853473745564204), (24294873, 0.7958446046310429)]), (40382568, [(5101196, 0.9560063006842381), (9786807, 0.9541206560828788), (17488498, 0.9223507070330876)]), (14665259, [(16525305, 0.850859610745957), (14600122, 0.4423995582046348), (14600122, 0.4423995582046348)]), (276779811, [(42885911, 0.8318604033298254), (2868366, 0.8116276016362838), (42885763, 0.7185737602150218)]), (178247838, [(31201327, 0.72613757113168), (36285087, 0.6254666534437208), (22488997, 0.2758500383755684)]), (20889915, [(24294873, 0.7683344258686472), (24294525, 0.7353963645154163), (14810638, 0.4242773800164374)]), (39140264, [(7152364, 0.9828703310572438), (18109887, 0.9582832994079938), (35818699, 0.914962177993956)]), (8312623, [(3839469, 0.9825709280572987), (18420898, 0.9796756213595599), (7292727, 0.9749859237369166)]), (157453233, [(33511907, 0.42608991505672483), (33511907, 0.42608991505672483), (33511907, 0.42608991505672483)]), (137845757, [(9023549, 0.9611484578090714), (7088664, 0.9231396623121835), (15792808, 0.4065501083947453)]), (10226878, [(42417293, 0.7379975800264347), (42417293, 0.7379975800264347), (42519546, 0.6474169565313943)]), (133231182, [(16657859, 0.8589839110642337), (4990462, 0.7716228640845597), (14332372, 0.6917615003668197)]), (180141350, [(6720895, 0.9592572849491121), (6431505, 0.9586564661689028), (6128096, 0.9163123720792988)]), (38132337, [(7054234, 0.9696133465065935), (6941608, 0.8289463920225968), (7054163, 0.4940468252148992)]), (7069421, [(11381088, 0.9765329899756947), (22561162, 0.8936204435001477), (22561162, 0.8936204435001477)]), (180318225, [(10214097, 0.8064033992668207), (9288135, 0.44287406031020116)]), (16422135, [(7350811, 0.947639238357309), (10600920, 0.7891364980381053), (3752662, 0.6251067071805355)]), (57115099, [(24200231, 0.929912030217265), (2156329, 0.8334591261830864), (2156329, 0.8334591261830864)]), (1245996, [(241510, 0.976684410607138), (2964022, 0.8224392582074741)]), (185516068, [(22233862, 0.8617473602049611), (13717530, 0.821240698862125), (553229, 0.6469849792918428)]), (73193931, [(12935757, 0.9340178051059664), (22708831, 0.8664149013966588), (22708831, 0.8664149013966588)]), (29833597, [(20998924, 0.9227750866607624), (19799435, 0.9025881202029788), (35233390, -0.3593620060029019)]), (109832126, [(42519546, 0.9508882687296325), (42519546, 0.9508882687296325), (43336673, 0.8024329019835582)]), (240684322, [(16412556, 0.42432113310018704), (16412556, 0.42432113310018704), (7350502, 0.4239730208227084)]), (69754863, [(16620711, 0.9282957640716539), (21766071, 0.9040577785355667), (20214359, 0.8977628158991383)]), (118945406, [(29307578, 0.6254511398737949), (35983829, 0.5726558491322148), (24958774, 0.49558899792243605)]), (331760286, [(18202395, 0.9709359997708089), (41603861, 0.7592200900364665), (15792808, 0.42906211210380746)]), (45962660, [(2833984, 0.9574982424432129), (18382074, 0.8420381603917896), (18382074, 0.8420381603917896)]), (126852119, [(35856965, 0.8351202463496562), (6475373, 0.718917323484624), (6405194, 0.718811282937078)]), (70090605, [(15316856, 0.895395747216972), (18755310, 0.5760531667033941), (18755310, 0.5760531667033941)]), (25830023, [(36028778, 0.9439893277408782), (24644690, 0.9156107157622508), (21154795, 0.6361207972268252)]), (100761145, [(41604013, 0.7589297631886187), (41604013, 0.7589297631886187), (39619543, 0.4238367852506691)]), (24045961, [(7156419, 0.9730161725310201), (9552806, 0.9629817611741756), (19555519, 0.8967115049231814)]), (113224022, [(3863231, 0.8625011102509034), (3863231, 0.8625011102509034), (7282084, 0.7632146851540695)]), (113644693, [(33226481, 0.6584737624661525), (30433107, 0.625368551250499), (20706151, 0.4412784497241019)]), (1275262, [(7891758, 0.8426740708930051), (7614627, 0.6812334755945997), (7717118, 0.4250552318724349)]), (95513094, [(21085918, 0.805526638868453), (21085918, 0.805526638868453), (10399199, 0.7978558172284602)]), (25074345, [(21014924, 0.838388129972437), (2673027, 0.6124794030234879), (11865360, 0.4060192236821879)]), (209436530, [(29599789, 0.7124080449833546), (29597994, -0.03486563337210935), (29599522, -0.09774402030538198)]), (142608036, [(16584402, 0.6254176177651364), (11714703, 0.6237159837114743), (1024986, 0.25670266088556126)]), (23099509, [(14580396, 0.5230066525379323), (14580396, 0.5230066525379323), (14580396, 0.5230066525379323)]), (163018982, [(15533066, 0.8304661469642233), (26218347, 0.7560018175319384), (11541093, 0.7415863007490009)]), (170121081, [(41604541, 0.6230805523168527), (41603861, 0.4231856005907518), (8038199, -0.6237634392284985)]), (116801086, [(27781949, 0.9237511800687139), (24984672, 0.8200336054374918), (28813662, 0.2516264782720615)]), (29095905, [(9901369, 0.9620631085765884), (1024986, 0.9530594843601198), (3753251, 0.9503013070267494)]), (41329859, [(17595630, 0.9639979593714294), (4507632, 0.7191811347444603), (17277763, 0.6253687559849461)]), (66192380, [(25634551, 0.9840232190201833), (28813662, 0.973245219009305), (28813059, 0.9549602846517825)]), (350463121, [(43792252, 0.894482521613603), (30578016, 0.6808774255747129), (30687199, 0.5872968296675541)]), (139573408, [(25716782, 0.9588020739557124), (30033286, 0.806713662138749), (11249182, 0.7337777347032615)]), (226153816, [(19647017, 0.49414487277542385), (22694974, 0.4439753561235307), (21953139, 0.44187366939434314)]), (46316448, [(31960343, 0.9790484229999161), (30243920, 0.9749780795955512), (26925552, 0.9708256507112578)]), (19963032, [(9079545, 0.9603578255915671), (24526943, 0.9237552929965166), (1678755, 0.835889874516383)]), (355627049, [(42377979, 0.7388700527448643), (42377979, 0.7388700527448643), (42377979, 0.7388700527448643)]), (2059867, [(10084321, 0.8951658983657704), (4969304, 0.15614211480386497)]), (51537733, [(15906477, 0.9814213658232138)]), (258127407, [(28097937, 0.9745123443098188), (22051870, 0.8889284900155051), (4478773, 0.8350378910123468)]), (5909684, [(16620686, 0.964698141020972), (5919270, 0.7636285172793157), (5827998, 0.6600160089865325)]), (58624374, [(9802857, 0.9394170214829101), (27127693, 0.8586840608873124)]), (21672971, [(5540894, 1), (5540894, 1), (5540894, 1)]), (146229748, [(20207839, 0.9370360618444155), (4541183, 0.807700195421683), (16280294, 0.7906645262060719)]), (67581777, [(33490643, 0.8897532377253876), (24200482, 0.789052744519149), (35145503, 0.700554733654454)]), (230120301, [(11972403, 0.5164779501481404), (11972403, 0.5164779501481404), (11971734, 0.4427063796514532)]), (163650600, [(1024986, 0.6904237479764894), (20207839, 0.6282656179242883), (41603861, 0.6266089865127267)]), (348194447, [(20950425, 0.7643805569500403), (31326007, 0.5727504801762078), (43658074, 0.5274421653469102)]), (66282176, [(14791185, 0.9864250688758335), (24781937, 0.9797079928979062), (19780831, 0.9609834465273176)]), (36171080, [(35323438, 0.9573123268940309), (24804467, 0.9494749219802726), (21766071, 0.9362330654860487)]), (235375529, [(21854674, 0.8708889688055754), (9901369, 0.7495083941051539), (24002101, 0.42253135732577696)]), (22657593, [(12162272, 0.9268477183338073), (16989989, 0.9232629347628216), (3144267, 0.8960756710002793)]), (6283373, [(19218794, 0.9823002760415211), (17371927, 0.9041989492324745)]), (9945757, [(2731054, 0.13016775091580857)]), (18955999, [(14315372, 0.9809386696972828), (12935757, 0.9287839001961634), (14548711, 0.6603498367862232)]), (33762935, [(8200542, 0.9253121000380089), (21376468, 0.8848220123013869), (16391421, 0.7962470600987708)]), (5179193, [(6826957, 0.9497206853234852), (6826957, 0.9497206853234852), (3954113, 0.8473293760315326)]), (106789084, [(13418425, 0.8875253461480817), (16281437, 0.8074135031510884), (19199981, 0.7273724295922592)]), (49309957, [(15167230, 0.9035909958956526), (5253639, 0.6593131009953983)]), (79420591, [(24682167, 0.9401685950936614), (15735824, 0.8510885300861014), (19184500, 0.7710215250938306)]), (25281540, [(9464059, 0.9751758643074385), (12687038, 0.9415431417720582), (18452331, 0.30943765652091537)]), (17798553, [(4484727, 1), (4484727, 1), (5973183, 0.9843011556928842)]), (213924081, [(15774113, 0.8979624491666041), (30095775, 0.858774509262742), (41603861, 0.7571433152226119)]), (57332242, [(17488629, 0.8491981383119533), (17488629, 0.8491981383119533), (17488498, 0.6242581959858773)]), (364702529, [(42246264, 0.8670404213022649), (36820113, 0.8121399854630545), (41603640, 0.739954992095609)]), (104332626, [(33957968, 0.9672559911693044), (34082227, 0.9250846248447075), (5495447, 0.8394692705364993)]), (20400863, [(16685688, 0.9271139668843886), (16685688, 0.9271139668843886), (6826957, 0.909121003421244)]), (55653423, [(38539790, 0.6241961098672323), (18235755, 0.5114946119804253), (2868366, 0.4256780016809115)]), (82503278, [(9079545, 0.9507520204693294), (20214359, 0.9397422196820464), (10214097, 0.7009096297319406)]), (13772655, [(11994037, 0.9651275469662651), (6518372, 0.7908429677469432)]), (108367711, [(10718463, 0.9743783732208812), (12219588, 0.8317437957917643)]), (4948150, [(7959059, 0.8437197985325932), (8765476, 0.42424467003546734)]), (226285540, [(2963939, 0.7422061452257978), (8399159, 0.44207217087860995)]), (29716666, [(5214091, 0.9355141840217398), (7879020, 0.8671905683517313), (3863231, 0.8296563736066974)]), (186742615, [(35081515, 0.9258117811692481), (19094235, 0.8949358020282251), (22098450, 0.8061051672876036)]), (27346544, [(5214226, 0.9884423729998206), (21227203, 0.857503532911513)]), (1469790, [(18905203, 0.9881400496561602), (29766008, 0.9828195687000076), (1218463, 0.9762229011374425)]), (51025114, [(38141401, 0.8880728019562952), (7655771, 0.8613454966818814), (12600629, 0.8588853747234085)]), (25182922, [(14381353, 0.9192752055517751), (14381353, 0.9192752055517751), (14496725, 0.8804013514996328)]), (2226979, [(31527262, 0.9645529530491491), (33388955, 0.9449516196232889), (33388955, 0.9449516196232889)]), (45826069, [(33772739, 0.9537258199629122), (4008423, 0.9510221652606216), (36817233, 0.9368171673997467)]), (89066174, [(17781759, 0.9743556736745201), (41314524, 0.9079923707702896), (2451003, 0.8527705193491754)]), (197931141, [(19370670, 0.9757423320049293), (14509613, 0.973711157178323), (25793757, 0.9643226781932074)]), (46419994, [(3995441, 0.9810868357068241), (7015796, 0.9700369181152397), (6995482, 0.9396921810654522)]), (168828299, [(21283656, 0.9907952620440857), (21928496, 0.9576287614845762), (15826584, 0.8660504928967276)]), (4848541, [(71896, 0.9840965299503255), (10460541, 0.9715117688607416), (10460541, 0.9715117688607416)]), (104165099, [(26464626, 0.9256535686559139), (26464626, 0.9256535686559139), (32955521, 0.8708530014223119)]), (341844331, [(15902723, 0.6642912454967053), (15902723, 0.6642912454967053), (15902723, 0.6642912454967053)]), (3598224, [(3863231, 1), (3863231, 1), (16524568, 0.993098015271002)]), (53225566, [(24105506, 0.9735423615189098), (6968350, 0.7101375234161859), (20509542, 0.625705210333614)]), (140251313, [(1887824, 0.9107438893702857), (5377342, 0.9052648424017701), (14100301, 0.84985892014254)]), (41785239, [(7683990, 0.9720663518705331), (15310627, 0.8827017233753879), (5246432, 0.8362008128450091)]), (1598066, [(241503, 0.9371662371863247), (241508, 0.8955536013586147), (241508, 0.8955536013586147)]), (144117034, [(5185612, 0.8491196070885558), (5185612, 0.8491196070885558), (16571662, -0.7517549441038706)]), (159286192, [(22575924, 0.9490472022442827), (21629960, 0.2850133552190771), (14334230, -0.08304870497096517)]), (92755796, [(11817134, 0.913213036479503), (25561906, 0.22888463059520253)]), (34332091, [(19286135, 0.9519355229081723), (14078887, 0.8535481602324698), (14078887, 0.8535481602324698)]), (117325325, [(2129215, 0.9907704370034461), (20874431, 0.9646561496609445)]), (228220339, [(15792137, 0.9572587648893898), (16044788, 0.811025778591406), (15792808, 0.8091051853709469)]), (215527068, [(43337094, 0.9749961412559948), (41603861, 0.6609647369506666), (41603861, 0.6609647369506666)]), (68128901, [(24466705, 0.9902594823470986), (6968350, 0.9766600325944568), (2357514, 0.976495665474959)]), (30392301, [(15154001, 0.874288490965002), (16443023, 0.8586664719781241), (35289551, 0.6597606174978919)]), (4995462, [(6147142, 0.9931962312066778), (21915252, 0.9847036677975288), (5798211, 0.9833319476393505)]), (21942512, [(5889741, 0.9303746178435983), (14100301, 0.8917055454220724), (14095593, 0.8319527858922976)]), (67138955, [(25793757, 0.8699795475114025), (8829303, 0.6135715352386029)]), (2642559, [(6619955, 0.9928347963358422), (6889842, 0.9337278521717864), (5739284, 0.7787254300165287)]), (19337133, [(18486921, 0.8160749821371042), (4507632, 0.7877513143356327), (20263356, 0.4283975591983008)]), (11637848, [(20146412, 0.988442605930561), (10718463, 0.9636001888579295)]), (205241914, [(6531247, 0.8718292051678674), (11817134, 0.58763076730112), (11817134, 0.58763076730112)]), (40445489, [(16684473, 0.9723869607892113), (5282397, 0.929807372135453), (11750250, -0.7746545012311712)]), (20496005, [(17928170, 0.5733820194882571), (17928170, 0.5733820194882571), (41604013, 0.44994819193813174)]), (6985962, [(17454856, 0.8682849125397363), (22185082, 0.8241835819530309), (3479446, 0.8076662899045187)]), (74038009, [(19576036, 0.9734945678039194), (16525305, 0.9275484781198255), (22492649, 0.8951286589659355)]), (71317574, [(5186243, 0.9868542432585465), (16412115, 0.9226586937200438), (5186159, 0.9063853543155369)]), (128304492, [(15019776, 0.9605853251343979), (17742972, 0.913945021471083), (17944165, 0.8984975380966481)]), (50644760, [(22776112, 0.8274091729789295), (22745179, 0.7976991974769824), (12162272, 0.582162500472179)]), (67101952, [(1413962, 0.9768234270017134), (2036711, 0.8258478306039388), (19634599, 0.23689302002723656)]), (49239815, [(30429265, 0.629153719957388), (13556435, 0.49476443274311377)]), (191004003, [(5797755, 0.10647751744157352), (25086316, 0.08444205684413186), (25086316, 0.08444205684413186)]), (167114798, [(16526824, 0.9728775166838586), (7830009, 0.6782574179213346), (7830009, 0.6782574179213346)]), (126433038, [(29249890, 0.7481712000586358), (38654505, 0.7260394426296591), (20950425, 0.556300852064509)]), (6951060, [(6034462, 0.9274222562732376), (6034462, 0.9274222562732376), (5853047, 0.7187401853164332)]), (4053520, [(29962235, 0.9428189694004955), (20207839, 0.9307182923999742), (37063111, 0.9296353041907984)]), (55997999, [(21236579, 0.9715591129300425), (11863888, 0.8029148709736801), (8038199, 0.7704787175003859)]), (231220274, [(30969285, 0.8314829847742692), (35786312, 0.6594069090161236)]), (2195958, [(12998449, 0.8422526199806234), (19286135, 0.7271801729756135), (19286135, 0.7271801729756135)]), (31899866, [(14462406, 0.8101021674732083), (12484261, 0.8033842379698094), (16429519, 0.543236191584187)]), (16696444, [(2375063, 0.9667332989774768), (11541093, 0.9585083381699158), (3419511, 0.9074283134467509)]), (22970471, [(6915805, 0.9192905136032246), (11972403, 0.9173635534505798), (7827659, 0.7881470864728707)]), (150221171, [(12703293, 0.8905903645050675), (33123681, 0.6251162177102731)]), (130754189, [(4576362, 0.9093722713233191), (6850935, 0.9031128262246252), (12606032, 0.8263655704744645)]), (26782140, [(6034462, 0.9415239165070093), (6034462, 0.9415239165070093), (5609097, 0.8942109203714992)]), (147639874, [(5584157, 0.9329988781426188), (7321238, 0.9280990406464809), (23133424, 0.7656921344099592)]), (17244969, [(6685809, 0.9116714489869022), (4434265, 0.8469639986679798), (6605136, 0.6269988906063131)]), (134142277, [(8110000, 0.8527913428478543), (3839469, 0.8495825615664488), (27887001, 0.7487284983964676)]), (132623327, [(42417293, 0.47405037235713915), (42417293, 0.47405037235713915), (42417293, 0.47405037235713915)]), (21433338, [(4144956, 0.7714286871327426), (982909, 0.7436755120781974), (6221711, 0.586229417491593)]), (101783022, [(9980935, 0.9606427589008425), (22586423, 0.8227176189460305)]), (249231066, [(21493991, 0.953184794928888), (21415749, 0.8664030581643782), (21415749, 0.8664030581643782)]), (10578460, [(14740975, 0.5723752410950126), (14248210, 0.2049932654443909)]), (65313250, [(33111749, 0.9205376629880243), (24197770, 0.4418102090784165), (17277763, 0.44138639861208034)]), (21994627, [(5827380, 0.942235461415855), (14161622, 0.9249440037386338), (2121839, 0.896552551248486)]), (107719929, [(9980935, 0.4948924830202429), (9555530, 0.40321147120106066), (16502098, 0.2992320155420904)]), (10218908, [(16665548, 0.8745983690468049), (16398559, 0.8270527403430632), (14397294, 0.22957089245147366)]), (279967869, [(24979153, 0.6255957407611874), (39618567, 0.6245502710224513), (18450908, 0.5722944743781324)]), (42432838, [(11863888, 0.969728230055902), (20610905, 0.9592644598619207), (25044333, 0.9207525833916952)]), (326704678, [(34111493, 0.748625064246927), (11817134, 0.44447296693439386), (11817134, 0.44447296693439386)]), (108317995, [(13703898, 0.8829810796999167), (21461500, 0.8618057532242324), (24763826, 0.38381569167598395)]), (173677926, [(28417802, 0.9649098546174961), (24659042, 0.9096597298263112), (24979452, 0.6397687336346032)]), (37701728, [(23622570, 0.9514168874788469), (21372004, 0.894788438103225), (27462710, 0.8943534524191217)]), (24559673, [(3144267, 0.9017674588917272), (12906838, 0.8670947684655568), (2838555, 0.6788288587567584)]), (37386489, [(4979889, 0.9457238794160636), (5272363, 0.9022942272312614), (3844690, 0.5734250813804641)]), (62526029, [(20335984, 0.7032313816934694), (11972403, 0.6242843981157662), (18755310, 0.6124590567159346)]), (106885233, [(11263684, 0.9900982136672699), (8800763, 0.9853512748266232), (11249182, 0.9838216929616865)]), (5995749, [(22193170, 0.9769573733550762), (6959415, 0.9622269129799799), (756267, -0.9035261763604879)]), (50702250, [(26435923, 0.907787990816378), (30255901, 0.8561858757033144), (5214226, 0.8469613980994057)]), (7215848, [(7182042, 0.972462921345158), (4730292, 0.6258801188410297), (9513005, 0.31859294123610116)]), (2302404, [(241503, 0.9332467296866724), (241510, 0.9327925424378047), (241508, 0.9320352651581311)]), (188264652, [(19647017, 0.765191619320527), (22694974, 0.7006749908937492), (21953139, 0.4422098617627146)]), (68052867, [(7614627, 0.9642870293680331), (5184871, 0.8433021387409502), (14740975, 0.8421676271671502)]), (109978383, [(12703293, 0.983387956134252), (12839857, 0.9826151647464316), (12998449, 0.982465361922212)]), (50020303, [(12162272, 0.9194697551830663), (16385749, 0.749103990354949), (32976976, 0.5590022382018525)]), (1752403, [(13462899, 0.6413940890457834), (13462899, 0.6413940890457834)]), (265966440, [(28896892, 0.8671566544240252), (36359535, 0.8068809177772167)]), (154686734, [(19516846, -0.38100320459706327), (18632208, -0.412595754222275), (26218347, -0.7211105100651634)]), (86080923, [(9320962, 0.9845788006371696), (5186159, 0.9569151435767879), (22636241, 0.9466322985670366)]), (119342, [(31634142, 0.9643346383394507), (16412994, 0.9598861465810107), (294281, 0.7860523052794365)]), (787114, [(3990431, 0.9380548425937864), (3990431, 0.9380548425937864), (3802621, 0.9309584163395356)]), (15035633, [(11411739, 0.955341469847681), (7814843, 0.9471803177083808), (21416331, 0.764882289095454)]), (50118293, [(12836488, 0.9438242736666798), (24466705, 0.9011551708983078)]), (14457375, [(25793757, 0.9302359004149342), (25793757, 0.9302359004149342), (25793757, 0.9302359004149342)]), (18747478, [(747813, 0.9298453874358812), (747813, 0.9298453874358812), (747813, 0.9298453874358812)]), (681885, [(7891758, 0.9781026450446348), (7614627, 0.972332138915173), (14557631, 0.946337961787306)]), (15331801, [(9901369, 0.9854463330465154), (17416854, 0.985361297067947), (8523956, 0.9483562552589014)]), (205161859, [(42417293, 0.28320113603281427), (43337094, 0.28196524919202187)]), (6950754, [(12839857, 0.9621162280349984), (756267, 0.955169221891267), (12995321, 0.9186030863937644)]), (128102293, [(23831806, 0.955496181158946), (18662873, 0.6006695045369307), (18662873, 0.6006695045369307)]), (344786483, [(30687199, 0.9119532624665639), (30687199, 0.9119532624665639), (30594823, 0.7713236778719177)]), (819244, [(4616523, 0.8810057314922967), (5739284, 0.5020068432800247), (5739284, 0.5020068432800247)]), (116341766, [(11178283, 0.633916115578074), (7605283, 0.4231452019216473)]), (86602957, [(41604013, 0.44881474736027654), (41604013, 0.44881474736027654), (43337094, 0.4444591123337626)]), (175460487, [(5798211, 0.9227980696054208), (5919270, 0.9217864376398535)]), (77232136, [(747813, 0.9419505299116255), (17838889, 0.9023768794719486), (21805592, 0.8995991897353613)]), (59659896, [(21085918, 0.918759794196376), (21557075, 0.6909110907307238)]), (276010849, [(13038831, 0.9164666498303696), (5609097, 0.9015765220643671), (3893523, 0.7935542259446402)]), (28974071, [(7868833, 0.9148477229885889), (7486446, 0.9093661490719875), (20207839, 0.850128022046898)]), (149063577, [(42078904, 0.8211165225403059), (26577038, 0.8069299225026684), (11380963, 0.7422584836755162)]), (344365994, [(43337094, 0.9018656134180651), (19236258, 0.9017938285355229), (31527262, 0.718473756740703)]), (625141, [(17812922, 0.9255857195922265), (17831305, 0.9175354259036717), (17798496, 0.9110631274810398)]), (124377605, [(6686851, 0.7951073594522875), (26479278, 0.4463922718505865), (26479278, 0.4463922718505865)]), (53650851, [(19164675, 0.625291152016277), (19164741, 0.5782854472086529), (19164720, 0.5274573672978511)]), (228818347, [(16584402, 0.8741950741911798), (18662873, 0.7269363055599282), (2090082, 0.681763850877695)]), (8719137, [(34596041, 0.7646732447548591), (7054222, 0.6810291412237754), (22617283, 0.5733141971340718)]), (47554553, [(7054234, 0.9857839821592447), (14557631, 0.9342048995402354), (15532514, -0.23927923820198338)]), (24888902, [(20514799, 0.9459616548885809), (24751008, 0.9000114613229407), (2156372, 0.8227627968513541)]), (22320113, [(16863370, 0.9380962819117992), (10479544, 0.8614216882513511), (10479544, 0.8614216882513511)]), (22316886, [(5902912, 0.9618042738210891), (4583694, 0.6891359275554795), (4583694, 0.6891359275554795)]), (2972727, [(20610905, 0.8254455465245759), (24681823, 0.5722291196118142), (20703034, 0.5563029833148037)]), (29084250, [(4541183, 0.9643339205535042), (25328461, 0.9338630964650823), (37655038, 0.7505420382134861)]), (114124176, [(12947194, 0.5906346176508053), (12947194, 0.5906346176508053), (10819460, 0.4255621488648983)]), (4916856, [(10299900, 0.9892681620081868), (28063799, 0.9887887638644312), (28063799, 0.9887887638644312)]), (102073399, [(13462899, 0.9548851869882032), (12299983, 0.9537557435169536)]), (11345651, [(24751008, 0.7351331307406183), (24078928, 0.6237874164349285), (23132022, -0.1925579292313132)]), (10657554, [(4108082, 0.9768703492222373), (4108082, 0.9768703492222373), (4412603, 0.928460014851078)]), (177653800, [(36813787, 0.38251825322182514), (36817766, 0.09443563375472885), (36817766, 0.09443563375472885)]), (293746805, [(38772165, 0.7773656197255392), (1024986, 0.6203974488987785), (40470586, 0.5734074756568113)]), (78076691, [(2156329, 0.9703135367892287), (12906176, 0.7737922268084921), (17595156, 0.7049944041745044)]), (377042490, [(4499317, 0.42483356002867173), (5377148, 0.4233061255853559)]), (342130489, [(29249890, 0.797141865109874), (43629592, 0.7650641403703718), (33112624, 0.6810396379409258)]), (15080620, [(14580396, 0.9976882418731099), (14580396, 0.9976882418731099), (14580396, 0.9976882418731099)]), (3172070, [(29572721, 0.9868031024701832), (18395154, 0.9676494964708066)]), (109305706, [(29579499, 0.9787573515490071), (4499317, 0.9431791125733304), (39612331, 0.9360107356233575)]), (48153764, [(11245263, 0.9554931610435502), (6850935, 0.784211556462729)]), (58542978, [(11411739, 0.9672602680427143), (7843168, 0.904499041566718), (21854687, 0.7726230487760893)]), (77362071, [(17410029, 0.4421797229887688), (4751362, 0.44159768742144634), (21758896, 0.2057363397245583)]), (147278782, [(13038831, 0.9469603189398507), (11302386, 0.476874862025937), (11249182, 0.22893592072378438)]), (31902314, [(8393043, 0.7854158617542182), (8393043, 0.7854158617542182), (8393043, 0.7854158617542182)]), (64125195, [(42079535, 0.4765664099345306), (42079535, 0.4765664099345306)]), (148172617, [(10848771, 0.8510986264033661), (10848771, 0.8510986264033661)]), (66666030, [(3790364, 0.9379146263675435), (4434265, 0.4425511328920428)]), (53642018, [(16571624, 0.924864764472249), (16571662, 0.4962497616815791), (16571493, 0.45570349323636605)]), (1720522, [(5481194, 0.7850444908096478), (5481194, 0.7850444908096478), (5481194, 0.7850444908096478)]), (14180731, [(6518372, 0.9885219700185971), (13591536, 0.9810528790130533), (4183194, 0.9761905966487631)]), (15760446, [(3982855, 0.9006074557157249), (4360811, 0.877609130611548)]), (109090334, [(43407835, 0.6248784682439441), (41604013, 0.41555576818750434), (41604013, 0.41555576818750434)]), (46165974, [(10641757, 0.9748850689330221), (9523661, 0.727108117319097)]), (35450730, [(19220212, 0.9954388489667864), (17956150, 0.9948148489629483), (4271052, 0.9882561801918364)]), (29617510, [(25972498, 0.8989503426758165), (33634552, 0.8887973629048298), (5908083, 0.8272402435159968)]), (26637964, [(22051870, 0.988067867552251), (22051870, 0.988067867552251), (33226481, 0.35370048190712106)]), (214115466, [(7814843, 0.9375690084539177), (7814843, 0.9375690084539177)]), (8134383, [(11411739, 0.9877565668436892), (10598600, 0.8487406828749257), (10598600, 0.8487406828749257)]), (194087647, [(15282618, 0.9652404140964987), (17399550, 0.9646057484054), (16873551, 0.7896708900039962)]), (1670988, [(5889741, 0.9568792434326115), (18376117, 0.9530609003557511), (21370642, 0.9462711132211291)]), (20093847, [(5739284, 0.9815281571843308), (5024661, 0.9435689982995706), (6142880, 0.5705348341131968)]), (61775991, [(8533711, 0.8609837037575816), (10814989, 0.6266659958654682), (10814989, 0.6266659958654682)]), (112792972, [(36808814, 0.8682218533300697), (33634552, 0.693190948795587)]), (59939789, [(7486446, 0.6156730345642699), (7486446, 0.6156730345642699), (21831503, 0.2578386230698265)]), (159687378, [(29614706, 0.9304416808090737), (16571662, 0.8976111853001758), (16571624, 0.49708217608280336)]), (39820101, [(5739284, 0.8269818508037046), (14100301, 0.8056480984933109), (16744167, 0.7218640025270173)]), (24126439, [(17242369, 0.9587685130485077), (16443023, 0.9439897505770318), (12534865, 0.9252940762403116)]), (113161257, [(15750877, 0.9045326656513212), (15750877, 0.9045326656513212)]), (24387703, [(13038831, 0.9513284511698514), (13038831, 0.9513284511698514), (6947366, 0.9254466504124486)]), (64861261, [(10446567, 0.9721854396599412), (14524075, 0.8763452222139728)]), (23687072, [(15792137, 0.8551921272764337), (43379651, 0.828963594162699), (43336673, 0.3012474856778851)]), (6280596, [(8180676, 0.887805422478865), (14655886, 0.8309456010323792), (12859055, 0.6251227310139845)]), (150264365, [(16571599, 0.9511959954781699), (18114259, 0.948332045174347), (18434466, 0.9382264945207576)]), (149931094, [(24294525, 0.9758378022918809), (21370642, 0.969892614067958), (9504077, 0.6316920972832646)]), (77053563, [(24238015, 0.8359999444760322), (8399159, 0.2991828015751983), (21641329, 0.07894349284975766)]), (277072599, [(42417293, 0.4466369786866522), (42417293, 0.4466369786866522)]), (21997477, [(30578016, 0.8368984478906072), (12998449, 0.6596866865731894)]), (947890, [(16527216, 0.9496650443424137), (14397294, 0.5680935833860231)]), (45263768, [(9358969, 0.8777008092492702), (9288135, 0.8515093861355645), (19094235, 0.6123162652145479)]), (55660235, [(6529707, 0.4805014710889224), (6529707, 0.4805014710889224)]), (38406481, [(4973227, 0.9091255989085423), (26698814, 0.9080741861904937), (28924202, 0.8718942986047497)]), (12896161, [(3856693, 0.9301263905444452)]), (56784329, [(19107598, 0.9827396814320559), (27618712, 0.9588256248498599), (8038199, 0.9407870135189714)]), (69441693, [(4541183, 0.9757367616432158), (18017622, 0.9595335162079774), (16850703, 0.8454547276732207)]), (63968172, [(26464626, 0.975718369133905), (10510548, 0.9252302085970804), (9097877, 0.9197647970900737)]), (3299335, [(8508225, 0.5524984586775891), (8508225, 0.5524984586775891), (8508225, 0.5524984586775891)]), (146098990, [(33327052, 0.9938354630123019), (10440979, 0.985164270208184), (16231661, 0.9844508590063984)]), (31188027, [(4526966, 0.9502232757473208), (8195397, 0.7089329046469328), (8212422, 0.5733649840507313)]), (14252037, [(20874431, 0.9815831583195963), (26683920, 0.9811108705154026), (12906838, 0.9707963271105099)]), (2974325, [(24290323, 0.9227769802318777), (5919270, 0.8776803348999213)]), (27764146, [(30578016, 0.8932030672075115), (25793757, 0.8678469472864627)]), (229243540, [(35788857, 0.9809372755393532), (35788857, 0.9809372755393532), (19107598, 0.9641955482329048)]), (73161059, [(5348703, 0.9665439622134104), (8372113, 0.9586841290518486), (20598841, 0.9558073154729643)]), (31263021, [(3460343, 0.9652135103153706), (32730349, 0.9161111609876311), (8372113, 0.9073727940602596)]), (150924938, [(18062352, 0.9792903948057333), (18062352, 0.9792903948057333), (24664051, 0.8438700910575904)]), (95488184, [(7843168, 0.9482940566005116), (7843168, 0.9482940566005116), (7843168, 0.9482940566005116)]), (101707698, [(21037446, 0.8165272272638888), (28958329, 0.709481738538851), (17595630, 0.49534770649869997)]), (51112314, [(8560712, 0.9825154449177962), (22267308, 0.934404154511715)]), (14639272, [(20018299, 0.9540933029399559), (3140972, 0.9461832673440362), (11971734, -0.8995957341485993)]), (22882424, [(24682818, 0.9071615661945277), (11972403, 0.8728796363119017), (11971734, 0.7948525151871684)]), (44254338, [(23094003, 0.943526549655307), (17122972, 0.8986230507913805), (3116909, 0.7537236064781735)]), (79941767, [(16182554, 0.9830683339366236), (4541183, 0.92573092282165), (6178568, 0.922285676607716)]), (3280444, [(3954113, 0.9822402430525632), (1647014, 0.9582520229703059), (1060046, 0.956114514480434)]), (79396785, [(18052476, 0.9471821689726703), (11365125, 0.8304531051316755), (24984672, 0.5232040707777977)]), (37987920, [(24200231, 0.9434212110542676), (10848771, 0.7784667848770438), (10916250, 0.7275147030243946)]), (24246374, [(22555089, 0.8841483995919418), (15946383, 0.8109710562874418), (14984234, 0.6812740029105984)]), (200331401, [(40638890, 0.6799942553000294), (40638890, 0.6799942553000294), (11714703, 0.670632448072102)]), (1426826, [(21415749, 0.8002131532654113)]), (297808589, [(39619617, 0.8863388524194753), (1024986, 0.8488663846064638)]), (158621481, [(2090082, 0.8124820126380468), (21820188, 0.6344824374310092), (21820188, 0.6344824374310092)]), (3638228, [(1024986, 0.966587728682775), (22745179, 0.9394343647644944), (29993904, 0.8068977404905122)]), (23505580, [(5908083, 0.9055221890504644), (21554434, 0.8916213156504433), (9532788, 0.6251418962469362)]), (66532874, [(15209910, 0.8349174735422548), (15209784, 0.6255457848801538), (13541348, 0.4945533193536136)]), (39236961, [(15997914, 0.9243251564629004), (1678744, 0.8957788551786475), (16598021, 0.6485910336981382)]), (43271528, [(16876341, 0.92718793036686), (14417793, 0.8129383585718277), (20865016, 0.6493389992601389)]), (172417524, [(6712575, 0.9704946049899794), (16989989, 0.954493088294011), (1299316, 0.9540557320693146)]), (18116729, [(20647210, 0.8316569285242069), (17709076, 0.6811664966278037), (27089993, 0.681129039201025)]), (24798698, [(15722934, 0.4905641066007894), (14740975, 0.48743246585459643), (14682068, 0.459716628228513)]), (7511367, [(5902912, 0.6178389290076616), (5902912, 0.6178389290076616), (31520512, 0.5579178844351969)]), (32711630, [(37853876, 0.9569871245156962), (8036127, 0.7996672120714298), (8036127, 0.7996672120714298)]), (26564058, [(16546583, 0.968137555664515), (16429519, 0.9371913568610601), (11713539, 0.7933889729525662)]), (109195171, [(31390991, 0.8590941899414084), (29275864, 0.8156774939014635), (23934649, 0.4580882436215)]), (117544537, [(8513587, 0.8740913686260566), (5551665, 0.7718932913814706), (5551665, 0.7718932913814706)]), (46068970, [(7931127, 0.9597095857020015), (7931127, 0.9597095857020015), (16412556, 0.9052465421390203)]), (221500415, [(5348037, 0.8822632391259514), (22636241, 0.7979031257629088), (22636241, 0.7979031257629088)]), (85021076, [(41604013, 0.8800893148026152), (42417293, 0.6830630518464944), (42078904, 0.5368296101429068)]), (11473584, [(19163641, 0.9593902756799653), (20207839, 0.6269748425699501), (5376182, 0.5859167585318694)]), (9884655, [(3717196, 0.9347780025267375), (3651408, 0.9341609308599701), (3479446, 0.7892553304861966)]), (42221860, [(5282397, 0.9559703974424845), (10510548, 0.9497928855382369), (10374732, 0.9473035590621772)]), (186851103, [(16354124, 0.8155072146426746), (16354124, 0.8155072146426746), (12600629, 0.7090922375153499)]), (618901, [(8277151, 0.9888246795045499), (12805743, 0.9482105696797031), (8372113, 0.9478834402229112)]), (105304909, [(3987930, 0.8069381375176825), (3987930, 0.8069381375176825), (6142181, 0.7427675677065302)]), (118922299, [(37907711, 0.9724572528014082), (24958774, 0.9391484485364017), (38005895, 0.8802614140066873)]), (54561160, [(21128303, 0.9836933406763191), (6968350, 0.9801117119005044), (6147142, 0.8956522826536067)]), (6430302, [(13266699, 0.9586983123171096), (23193720, 0.9541979959643608), (11863888, 0.8392366788446793)]), (42948981, [(19366049, 0.9647625432031046), (19595322, 0.9564917326800165)]), (87464280, [(1024986, 0.7146521651341096), (1024986, 0.7146521651341096), (1024986, 0.7146521651341096)]), (178345731, [(39619120, 0.6378313516580103), (39619120, 0.6378313516580103), (39619120, 0.6378313516580103)]), (297865299, [(41604013, 0.7646590729873138), (42417293, 0.7338140899935519)]), (10101484, [(15087980, 0.8986462489371835), (20004744, 0.7614320962501894), (20004744, 0.7614320962501894)]), (49138740, [(14387136, 0.9490126517560282), (14506386, 0.5128214092830279)]), (74756230, [(21818868, 0.9327001948501761), (11612771, 0.02403895015742208), (5185612, -0.839270890985588)]), (32181061, [(3844690, 0.9602111566089746), (3116909, 0.8393103903908299), (2090132, 0.8015255569743543)]), (2591619, [(6147142, 0.9755939357646852), (8765476, 0.915873467703131), (7959059, 0.7907441843948709)]), (47701744, [(11972403, 0.9455105327766825), (25759073, 0.8553206099436471), (11980197, 0.6784945678785824)]), (271020109, [(11411739, 0.7718262694880677), (36837195, 0.2758275047011135), (36837195, 0.2758275047011135)]), (34893829, [(20263356, 0.9276224937875265), (12366821, 0.8784580293597437)]), (23474532, [(23209834, 0.845665562991364), (9786807, 0.792815999087955), (21509015, -0.4194689275085435)]), (25980784, [(19576036, 0.956161983354014), (19508635, 0.9157908044919114), (11612771, 0.822332499886378)]), (47376997, [(16519829, 0.9093860950450965), (17123698, 0.7752270767683512)]), (24250118, [(12935757, 0.9535777601557885), (5908083, 0.5337308232444377), (5908083, 0.5337308232444377)]), (2729853, [(7808030, 0.7010117106223136)]), (118050387, [(2868366, 0.9627819475761557), (2868366, 0.9627819475761557), (24528929, 0.8265217783058949)]), (21307689, [(4091059, 0.9477776119150203), (16502098, 0.8804156995620565), (872345, 0.6967456112713126)]), (243001981, [(18164623, 0.9707987999111045), (19115460, 0.5244106328539274), (17274946, -0.7796238936039815)]), (56122352, [(3460343, 0.5649666413775947), (3460343, 0.5649666413775947), (3885720, 0.40864781200841)]), (122366308, [(13338509, 0.8082782211631753), (15532644, 0.6682471966767494), (15532644, 0.6682471966767494)]), (16265571, [(4091059, 0.9849231701385098), (28417802, 0.9834315509975409), (3207194, 0.9819933210592492)]), (16069813, [(7054163, 0.821089862295239), (7054222, 0.5962563201078168), (7054222, 0.5962563201078168)]), (220031942, [(7078717, 0.8639482930202472), (7078717, 0.8639482930202472), (2838555, 0.8153474816035872)]), (1601218, [(27685631, 0.9822104570686038), (27685631, 0.9822104570686038)]), (4522375, [(1199033, 0.9861618205030326), (18978737, 0.9174008078502448), (21854687, 0.7268711811427198)]), (62756503, [(6605136, 0.9446185177392648), (16411839, 0.847102031874418), (9118960, 0.6964478593328487)]), (45144130, [(1647014, 0.9087376836715023), (8156821, 0.8826548317911457), (9567575, 0.49415684312749636)]), (34560321, [(20263356, 0.9403714971436047), (20263356, 0.9403714971436047), (22197284, 0.2744416957250703)]), (29771819, [(19093302, 0.9111985293926586), (18998659, 0.8884831386009865), (18443242, 0.8019955864883548)]), (30670611, [(19771133, 0.9454554582375433), (18024054, 0.9044218893851155), (10444041, 0.8581661084329067)]), (360804091, [(4499317, 0.9747314015300658), (33025531, 0.8695032405649132), (20207839, 0.6914385992954464)]), (18123103, [(4124908, 0.9882494144644522), (4124908, 0.9882494144644522), (5095636, 0.7318022591271514)]), (172480811, [(14334230, 0.9814700633527822), (16989989, 0.8045883042061065), (16989989, 0.8045883042061065)]), (5858551, [(6128096, 0.9633268555658073), (4434265, 0.9485542045608225), (6685809, 0.7272369453403125)]), (75598795, [(19231081, 0.9202435093232872), (19231081, 0.9202435093232872), (12687038, 0.7965357924196496)]), (254005733, [(35171311, 0.9879659146504439), (23436127, 0.9670100567459462), (6100964, 0.9449634585864364)]), (6247534, [(25878538, 0.8897296658985413), (17813332, 0.25019399846037993), (17813332, 0.25019399846037993)]), (57198029, [(29093864, 0.9423668293439926), (17995515, 0.9404437371092285), (9523661, 0.9367157192214604)]), (21853904, [(31003554, 0.7946854170291159), (1024986, 0.6259463785776024), (1229614, 0.6255979883546945)]), (163427314, [(16151348, 0.9687443349138932), (16151348, 0.9687443349138932), (14083824, 0.9559669337610605)]), (92088642, [(23130011, 0.9919204190949498), (12995321, 0.9863105742635493), (6518372, 0.9818059779113204)]), (66020036, [(8277151, 0.8176158817543047), (8277151, 0.8176158817543047), (8277151, 0.8176158817543047)]), (1224046, [(241508, 0.9703843442399088), (241508, 0.9703843442399088), (241508, 0.9703843442399088)]), (47292739, [(28238577, 0.957198384807356), (29763827, 0.9320979106489133), (14731717, 0.8548453729323746)]), (3594635, [(19651474, 0.9535125033026182), (3859180, 0.9407743983026995), (4252548, 0.8788982795925955)]), (50451247, [(33429817, 0.9545762452825041), (33499796, 0.9491665373544731), (27754006, 0.9016224527314611)]), (180835219, [(21605333, 0.8929846457683365), (21605333, 0.8929846457683365), (39612331, 0.7491256434713672)]), (8163300, [(982909, 0.9891430485032623), (23603274, 0.9816762962383871), (17371927, 0.7964536318574675)]), (32538061, [(19251396, 0.9523588352661085), (22000933, 0.8954143416580258), (3995441, -0.4775357908325446)]), (106752894, [(4138944, 0.8269280272007525), (1229614, 0.6258181309466136), (5272363, 0.6251905258864723)]), (69463252, [(10030323, 0.8945242544789535), (10040828, 0.7700518931161869), (10040828, 0.7700518931161869)]), (131110352, [(7257461, 0.8950932004825649)]), (29245204, [(22561162, 0.9822714682111122), (11642282, 0.965106686985961), (6034863, 0.8689801689693585)]), (356299009, [(2451003, 0.9207553653207494), (19107598, 0.8740253846916044), (6023517, 0.6967135364753774)]), (5743308, [(1101652, 0.9725866587910652), (11747584, 0.9415010944962291), (7486446, 0.8905186560894457)]), (38042160, [(9828881, 0.9880961159630995), (9928008, 0.9877854399757573), (14600122, 0.9308712369109705)]), (129792281, [(19231081, 0.980897535492768), (21461500, 0.625623323415067), (19107598, 0.5284382891597319)]), (16724514, [(10325057, 0.9753829795266864), (8022978, 0.9686892367437913), (20714009, 0.4837572416941805)]), (198052653, [(29552115, 0.9157076760356506), (28417802, 0.9098065934803716), (19184503, 0.8748371841416795)]), (18803545, [(6518372, 0.9391808422374841), (9565472, 0.7232565080491913), (9565472, 0.7232565080491913)]), (77186082, [(36760495, 0.9710669107199514), (20874042, 0.9638190638387485), (25972498, 0.9499192907014544)]), (6860287, [(34870345, 0.9701144216955704), (468782, 0.9588764631647618), (1315867, 0.8650355339399086)]), (44880400, [(301247, 0.9716116090261064), (301247, 0.9716116090261064), (35805260, 0.9017117279744858)]), (102782702, [(35818082, 0.9196921548030519), (29581373, 0.8690187068998492), (29581373, 0.8690187068998492)]), (77861166, [(18259421, 0.7500158889158771), (16846533, 0.6811533997996603), (6850935, 0.6255391612492476)]), (8738652, [(7350502, 0.9953545716484529), (14397294, 0.9920973798795031), (30219680, 0.9747814190908202)]), (45482234, [(30046922, 0.964232079078932), (10814989, 0.9361623565206371), (20950425, 0.9329436159500678)]), (243988741, [(982909, 0.9795471878479085), (21014924, 0.9539884285034004), (37853876, 0.8426380838524995)]), (7713647, [(241508, 0.9913219894985311), (241510, 0.9851235671329421)]), (106585964, [(12935757, 0.9342537356900814), (12302060, 0.8802775927804742), (15533093, 0.6999610090940366)]), (60709354, [(819034, 0.708923269712716), (819034, 0.708923269712716)]), (154536541, [(20816680, 0.9477739577530285), (22051870, 0.9409002380416057), (23548940, 0.8586041885066353)]), (22826088, [(20610905, 0.8433496374221852), (12536372, 0.7363964329675194)]), (7338308, [(23634852, 0.9183179786293741), (20610905, 0.8476167066887718), (16282278, 0.7094423408258511)]), (46372961, [(29020376, 0.8991748982807013), (17798496, 0.638370415857401), (17657915, 0.6235673775976651)]), (18031703, [(14603872, 0.9635657443585434), (5919270, 0.45860255983092013), (3140972, 0.44359661007088574)]), (48984858, [(4309836, 0.9554756807961495), (19469757, 0.672531191202216), (19469757, 0.672531191202216)]), (8717234, [(2532466, 0.9628766879874204), (28749189, 0.8434588617265946), (16950471, 0.8222649053361716)]), (63455701, [(7296138, 0.9505795661534397), (12687038, 0.9057383678787433), (12934345, 0.8312524616424412)]), (11879823, [(6128096, 0.9834957889815588), (6993627, 0.9703300068300643), (6686851, 0.9373379908652579)]), (151504839, [(22694974, 0.5524965617359889), (22694974, 0.5524965617359889)]), (44218809, [(13462899, 0.948114218498226), (12299983, 0.945499079287939), (4115899, 0.8810535675799763)]), (261332020, [(39716900, 0.9238993949257049), (37222469, 0.4934005795828116)]), (130618823, [(18316457, 0.9292426379495353), (14706427, 0.9229197446538732), (19611990, 0.8734560503373391)]), (17709890, [(50646, 0.9788528726428943), (13418996, 0.9303552946619945), (17856170, 0.8223731042837428)]), (2645348, [(16231661, 0.626069110109616), (369141, 0.6253967582533039), (16231781, 0.62439061905291)]), (8533306, [(11411739, 0.9319850388076261), (4616523, 0.7189978528035156), (5184871, 0.6607321194389264)]), (16404155, [(8180346, 0.9601374404819203), (36813787, 0.16303037883709565)]), (186191750, [(12219588, 0.8585826750080842), (5118006, 0.7777551786944725), (9901369, 0.511627435773506)]), (17849597, [(6120794, 0.9490631769082312), (3859180, 0.8806765687689547), (6685809, 0.6136085292099936)]), (1202880, [(16571599, 0.8585532046539208), (17917998, 0.8551159149802876), (21360845, 0.8218793154969799)]), (12145726, [(241510, 0.9643991071294218), (241510, 0.9643991071294218), (241508, 0.6737513821088503)]), (33355572, [(11817134, 0.9801061473965329), (31960343, 0.8569932203910388), (23947783, 0.6249948178804244)]), (9705553, [(13418425, 0.9695028182358371), (3859180, 0.8766260676170374), (6983613, 0.28198235739971445)]), (665101, [(17798496, 0.8583674386653782), (17798438, 0.7486907249155199), (23947783, 0.6811299758005624)]), (76052852, [(7843168, 0.982427953961049), (6959987, 0.8220175044251903)]), (766369, [(8525879, 0.9906381507040855), (7311328, 0.9340675481300379), (7879020, 0.4429021328090963)]), (16405722, [(2731054, 0.936640432413606), (8022978, 0.9059578313530272), (17798496, 0.8962557287774641)]), (59089076, [(8890247, 0.9310259032244046), (27530446, 0.8067560569146892), (17595630, 0.6254657353793702)]), (20526147, [(7898449, 0.9221931846614722), (7898449, 0.9221931846614722), (4561484, 0.8942803898187464)]), (69099073, [(37853876, 0.7952667562810393), (25793757, 0.7646576406067124), (35818082, 0.6933886480731224)]), (72578302, [(6128096, 0.9832686035219922), (6983613, 0.9157967531477194), (6142390, 0.7648971165519173)]), (48900257, [(7827659, 0.8627320734361025), (7827659, 0.8627320734361025), (7827659, 0.8627320734361025)]), (64073510, [(34049490, 0.9383576599105078), (34466955, 0.8589862265647001), (34466955, 0.8589862265647001)]), (94779280, [(18184250, 0.9208779793933457), (17595630, 0.8772791008412776), (4969307, 0.7905224374962823)]), (3787016, [(22282038, 0.9430579394505967), (25034490, 0.8828971009260626), (30848481, 0.8125258159983471)]), (46684529, [(9260193, 0.9087625982673943), (19093302, 0.637812764359938)]), (30975750, [(4616537, 0.4950604093140357), (4576362, 0.4763509883123009), (6117032, 0.42294599580037684)]), (108770500, [(12536372, 0.9272112088631626), (14304217, 0.7428907428346222)]), (37890370, [(16578060, 0.8889431665198406), (20141569, 0.6256592940161286), (19370670, 0.6252410169140855)]), (14269551, [(4584539, 0.9597420748463328), (4656221, 0.8990657780760833), (8313733, 0.6603724779993653)]), (3953276, [(20610905, 0.9788536154436518), (20703034, 0.978503993052982), (20836943, 0.9479252363901379)]), (251651140, [(36680482, 0.39625533643835803), (36680482, 0.39625533643835803), (36680482, 0.39625533643835803)]), (9512551, [(29993904, 0.9829777873961882), (6034462, 0.9603047853914441), (34239125, 0.9547947425023493)]), (5470996, [(5246432, 0.9386064401148442), (5897641, 0.8453559919193956), (5897641, 0.8453559919193956)]), (50811888, [(14245740, 0.9786834101141044), (18080682, 0.9757498328709558)]), (97237753, [(9635192, 0.7158434560450188), (7843168, 0.42556642741403927), (10021704, 0.3836565899610957)]), (190331952, [(4664392, 0.9064544360048128), (2868366, 0.8643698738171534), (11817134, 0.8621224427346686)]), (777172, [(1101652, 0.7470209852460122), (1101652, 0.7470209852460122)]), (13979227, [(10299900, 0.9488934555593532), (1024986, 0.9482492419344948), (16950471, 0.9253875672991572)]), (82183960, [(31527262, 0.9555342787708961), (16891958, 0.3840254619525346)]), (1546003, [(3158949, 0.9924612816864081), (11801190, 0.8686429379409213), (15393345, 0.6277921011022685)]), (25885391, [(14682068, 0.9896311124940247), (16007789, 0.9816985215864757)]), (9658463, [(9898367, 0.9645585272806685), (16680449, 0.9080691244233664), (16680449, 0.9080691244233664)]), (179124934, [(42078904, 0.8860935245938346), (15774113, 0.861991767292074), (39807217, 0.8068109616986072)]), (83478213, [(11817134, 0.8681325831508088), (21248885, 0.6258349131548511), (23735948, 0.5121284880895312)]), (45270066, [(5899156, 0.8945023905060305), (2451003, 0.8855038028720351), (3116909, 0.8314454923118515)]), (46262360, [(8608710, 0.8384138767171242), (5494971, 0.830606581201165), (5493930, 0.7884130991479004)]), (118986723, [(16182554, 0.9532019827487276), (7811199, 0.7621741323934357), (8393043, 0.7507006614508357)]), (20426063, [(32411075, 0.9938588802877721), (22051870, 0.9870106947953279), (11971734, 0.983820054500618)]), (83293766, [(18666776, 0.9157878504840995), (18259421, 0.6253635339772237)]), (42131839, [(19380133, 0.9848098678515225), (19380133, 0.9848098678515225), (14325761, 0.9676277179460011)]), (89493978, [(26816186, 0.8713796849844216), (21154795, 0.8679510735077568), (21154795, 0.8679510735077568)]), (18704397, [(21554434, 0.9518868308651903), (21376468, 0.9244782447360964), (24034891, 0.8580330023519521)]), (6203416, [(16398559, 0.9749992135849962), (7614627, 0.9701040035958265), (17712132, 0.8309900897347937)]), (68916470, [(20732822, 0.9571612970186786), (21554434, 0.9402667676928673), (7088428, 0.925713706950105)]), (267473990, [(42519546, 0.9580253368411094), (33772739, 0.942776921012658), (11875596, 0.8679608754967184)]), (48044627, [(17657314, 0.9727605931983863), (819044, 0.8790716159368201), (12805743, 0.5736443416093052)]), (17897897, [(6034863, 0.7500761544757041), (7350811, 0.7233769866836018), (6993627, -0.23699347701928097)]), (22136947, [(12162272, 0.9413221438119673), (7517671, 0.8701323970739835)]), (3958752, [(12805743, 0.8932075662268294), (5889741, 0.6596151629233631), (30369336, 0.5872584009175899)]), (344037915, [(15774113, 0.8444117334164127), (40470586, 0.6912020394783297), (1024986, 0.4472480899440929)]), (147459446, [(20039387, 0.9531904886901169), (20525209, 0.9450849239142043), (17798496, 0.9253759902707726)]), (66599486, [(34246279, 0.9291544804598171), (36813787, 0.9127156575279157), (3209752, 0.8772541872394722)]), (152133573, [(12596642, 0.8048522575033735), (21831503, 0.18057110598641118), (15275982, 0.054886232504934185)]), (34383920, [(9523661, 0.9609378819217832), (12995321, 0.8812531262097428), (12995321, 0.8812531262097428)]), (45818416, [(20609405, 0.9417129326081), (19286135, 0.9244491631280195), (19286135, 0.9244491631280195)]), (53770729, [(10027442, 0.9225912347080641), (24932028, 0.8357879961635593)]), (203594846, [(35021657, 1), (35021657, 1), (40733550, 0.862358073338003)]), (55690801, [(19286135, 0.9244608212982017), (819034, 0.8964677818227841), (14334230, 0.8195508342582691)]), (34319201, [(5797755, 0.7508232910634436), (4616537, 0.5585353026780566)]), (6073978, [(21192653, 0.9882837275417484), (20998924, 0.9531047361153726), (17595156, 0.31772677543223776)]), (103913116, [(11267014, 0.8562747788611909), (6142181, 0.4420867767957986), (13118109, 0.2977473677215448)]), (20387210, [(16620686, 0.9349648070857651), (7143817, 0.8393243432185483), (16231781, 0.2724017477917077)]), (15440771, [(28505075, 0.9856167808779366), (14673023, 0.9262342564244501)]), (57035485, [(14731717, 0.7846841333583651), (30255865, 0.6256859915889181), (2963939, 0.29061287194213375)]), (12621841, [(1485189, 0.9350006386698251), (17781759, 0.6371833160159325), (23603274, 0.05609327970212852)]), (349003085, [(25793757, 0.6911412783609558), (41604013, 0.5332595887634083), (41603861, 0.5295331846670122)]), (95333051, [(16876341, 0.951927647364283), (16876341, 0.951927647364283), (7311328, 0.6434259840292987)]), (51709366, [(17376004, 0.9785314106288314), (21493991, 0.6915807335663271)]), (20908276, [(8800763, 0.9105413988229468), (10460541, 0.8724529160863124), (6339047, 0.40628354714320325)]), (134056904, [(29661411, 0.9832221877580448)]), (154643482, [(34288604, 0.4415564605313236), (32903872, 0.44145046528387066), (21415749, 0.40302146912108494)]), (231300538, [(4527878, 0.9673191152570865), (6983613, 0.9597221995356382), (10659341, 0.8291904001942058)]), (203920910, [(24984672, 0.9476772669531328), (25998215, 0.9071886227723971), (764599, 0.7620624624559434)]), (53221490, [(12536372, 0.9170418596461909), (756267, 0.8831265082190815)]), (184374648, [(10848771, 0.8843936194173906), (24302260, 0.8510149720704474)]), (4780873, [(17657314, 0.9622931507575789), (29020376, 0.8698637305142853), (17831037, 0.5584971715735831)]), (116847172, [(10600920, 0.6366703309216742), (13418425, 0.4759346785842343), (14071413, 0.2519814837236707)]), (16580010, [(7814843, 0.9733107512672792), (16502098, 0.9708588258773074), (7843168, 0.9575473477739616)]), (10802451, [(14840872, 0.9578345022138807), (24586538, 0.780383823368837)]), (1290951, [(16231661, 0.9725011351173203), (24506236, 0.9553150112026625), (21283656, 0.9310047096043602)]), (49690671, [(9898367, 0.9757298750502787), (4360902, 0.7093518359892274)]), (140513263, [(4541183, 0.6813167199102744), (20234954, 0.6811188912085427), (4973227, 0.6261541787468792)]), (194432755, [(23848309, 0.7900030084577385), (23848309, 0.7900030084577385), (23848309, 0.7900030084577385)]), (249521326, [(21942515, 0.824684360994317), (21942515, 0.824684360994317), (29654617, -0.36436902372529023)]), (51142597, [(18850989, 0.9688756162612076), (14509613, 0.9440128415810984)]), (19446188, [(746929, 0.9905219991914226), (746929, 0.9905219991914226), (3874257, 0.9163925342671098)]), (159720159, [(21257966, 0.44166349846300357), (24738846, 0.4412705530088449)]), (16288141, [(23815487, 0.9834327764627778), (15792808, 0.9674341534110791), (27501982, -0.3199648037062496)]), (51115777, [(24034891, 0.9434989999094707), (5348037, 0.8015195241394572), (4499317, 0.7583245276502413)]), (177297675, [(21257843, 0.8479856317098633), (18582303, 0.5439274992521821)]), (31396535, [(22557532, 0.8997717691962123), (5494971, 0.7270998213781819)]), (42364454, [(42417293, 0.9353235913954514), (42078904, 0.7729751324438999), (43337094, 0.6265113060484062)]), (235769268, [(4990392, 0.988508705244947), (20263356, 0.9489186811500001)]), (345436988, [(42078904, 0.8394683225874435), (42078904, 0.8394683225874435), (42079535, 0.8027822456995786)]), (15847691, [(25044951, 0.9878999820314177), (33148773, 0.986316219732527), (34354375, 0.9642074614848954)]), (13365157, [(3639516, 0.8007066359306944), (10478373, 0.7650045181512766), (8195397, 0.40341572687341015)]), (9383128, [(6959987, 0.9769987908020418), (2673027, 0.9734636127163094), (696136, 0.9180936157920884)]), (121277686, [(15393345, 0.911957573659686), (4008423, 0.8934000889077155), (4008423, 0.8934000889077155)]), (2977208, [(2357514, 0.9129262969730464), (7054163, 0.8815129115761207), (7054163, 0.8815129115761207)]), (153242043, [(16571662, 0.7188783481189729), (16571624, 0.6562942062744003), (16571624, 0.6562942062744003)]), (686439, [(28789161, 0.958541656589849), (9716208, 0.8383590546874893), (17863026, 0.7264141314515021)]), (60023171, [(14557631, 0.9480743310321302), (7717118, 0.9383481035229603), (3140972, 0.7655324898752609)]), (1494077, [(6906010, 0.8397465633268166), (37916346, 0.7998943933608459), (14248210, 0.6257208540330166)]), (21039955, [(5797755, 0.9253454842867097), (16291031, 0.8269292757675775), (16607454, 0.46013915033789443)]), (7599024, [(14332372, 0.9490479970751142), (9459389, 0.9256202346933866)]), (46600325, [(14083824, 0.9257846116005549), (10214097, 0.7431126055741336), (10214097, 0.7431126055741336)]), (6976140, [(19184500, 0.8041059454170773), (29020376, 0.7839682820601052)]), (211813801, [(25044333, 0.9863889368150571), (27428758, 0.9295700174417107), (5185612, 0.46172583818431373)]), (16837209, [(4926634, 0.8203206307808835), (7250803, 0.5933986912636836), (7250803, 0.5933986912636836)]), (67206961, [(10479544, 0.9604978282458373), (22734583, 0.9510198921568178), (2964315, 0.9266809499561818)]), (354735043, [(36465054, 0.9811391615614469), (25972498, 0.7714652208817793), (44380929, 0.22942529899441205)]), (79980668, [(12762246, 0.9860117438772286), (43336673, 0.9207149921678881), (43337094, 0.8827914636205066)]), (181934934, [(19140847, 0.9841627384941953), (11971734, 0.9623020093498363), (11971734, 0.9623020093498363)]), (39561568, [(25328461, 0.7842842613840748), (15581173, 0.6589281025816578), (13418996, 0.586554665973484)]), (128778057, [(10659341, 0.9868621516884267), (19107598, 0.9817539771547881)]), (278753009, [(11750250, -0.17507720743005206), (6581009, -0.39674160278083526)]), (2029303, [(11642282, 0.8117232721666116), (5543423, 0.6998562221982205), (18281394, 0.2285398633680893)]), (42135977, [(7930891, 0.7778778094374101), (3863231, 0.5117823251753617), (6120794, -0.08580476212399313)]), (8064561, [(6381495, 0.9655053708196129), (16412994, 0.8860659060457978), (3790364, 0.6252367730205893)]), (11592861, [(16280294, 0.9772748275479429), (14506386, 0.9449626430245797), (5184871, 0.8879209908012564)]), (41633148, [(5495447, 0.9139506921120446), (37853876, 0.5576391713598003), (16578060, 0.5278901664036248)]), (76094187, [(6485145, 0.8213746144419322), (20918868, 0.49347109934402206), (20732822, 0.4769999240957766)]), (34407243, [(20207839, 0.9550916991206045), (20195421, 0.9179955878240993)]), (160161643, [(17142437, 0.8019110855911625), (21372953, 0.5275389518644404)]), (235898426, [(25972498, 0.9521816263132618), (36789378, 0.9487711937310614), (16747836, 0.9227781715542277)]), (28264468, [(12162272, 0.9600857360600291), (22071808, 0.9288217124877282), (39619120, 0.5112456741577474)]), (31983113, [(5827998, 0.977872286944317), (13703898, 0.9261669783771671), (14515500, -0.8899331657578063)]), (55378185, [(6959987, 0.9737660440125266), (31627432, 0.942925360657098), (23760158, 0.5665849826016739)]), (105708211, [(12600834, 0.9630428961182278), (16151194, 0.9625899521632815), (4535456, 0.9527047387538499)]), (339579197, [(39617816, 0.9624968797107998), (41603861, 0.8019051209518435), (41603861, 0.8019051209518435)]), (15799862, [(18284913, 0.9268315759080802), (10444041, 0.8990399512823208), (24302260, 0.7571976358357324)]), (33619170, [(21063861, 0.9574917387583914), (4309541, 0.8856195596552703), (6179573, 0.8854544057195833)]), (16420887, [(20207839, 0.9593940279793358), (12536372, 0.8924199649331364)]), (42553459, [(20509542, 0.9386352095948403), (6718514, 0.9157198944364182), (29307578, 0.888176332973656)]), (41031261, [(21854679, 0.7495822390116549), (18349081, 0.5405621169266072)]), (15272018, [(19353251, 0.5874233271634064), (7319075, 0.5728149445245465), (38595452, 0.49447876443672)]), (48437122, [(6826957, 0.9563128759382555), (4069940, 0.8390677495651044), (4108082, 0.6265835996665429)]), (155565558, [(16524568, 0.9740934058106552), (21283656, 0.854735370970719), (22051870, 0.44260351198223424)]), (16487710, [(625055, 0.9670224419806375), (12600834, 0.8990472277789304), (15547918, 0.6310107210661431)]), (65962824, [(15393345, 0.6484420011319635), (19140847, -0.7923990565732834)]), (20673768, [(14603307, 0.47705244663418334), (21953139, 0.3621842797138869), (15238567, -0.534160920917365)]), (43160653, [(34049490, 0.7002583578802829), (34049490, 0.7002583578802829), (21415749, 0.42294306048065256)]), (51009111, [(24261748, 0.9266397276201587), (369145, 0.906034408323113), (34246279, 0.864374408157645)]), (104903065, [(24614743, 0.9002522540038442), (11518055, 0.6492762825369041), (23751725, 0.3210776137942629)]), (50518129, [(15774113, 0.8463607127696113), (19353251, 0.7822460217179099), (3158949, 0.6252796095253037)]), (6563847, [(7791384, 0.8220670964741971), (395191, 0.5461596688471557), (395191, 0.5461596688471557)]), (240758338, [(11972403, 0.5754763063136056)]), (45439845, [(4309541, 0.9315897850815935), (4309541, 0.9315897850815935), (16280294, 0.9014594598828489)]), (49606665, [(14984234, 0.991152280104717), (5185612, 0.9821303843236119), (8372113, 0.9639236466468946)]), (17807055, [(7350502, 0.9856419170354743), (19163641, 0.9625925539967376)]), (359109954, [(40267527, 0.9104807223723614), (15393345, 0.871753270777855), (15393345, 0.871753270777855)]), (124654018, [(16411839, 0.8549892509684738), (25810330, 0.7911861618849172), (16607454, 0.7907139043604037)]), (170479952, [(21818868, 0.8775998060912056), (21854683, 0.7578749358007946), (21852940, 0.7271246259367576)]), (108513273, [(9142805, 0.9265048238692006), (1678744, 0.9154628530618103), (7843168, 0.7423042875091737)]), (175016870, [(26056791, 0.9444279299937717), (5797755, 0.8892000446945587), (26683920, 0.8876602466751967)]), (25547822, [(12614519, 0.9794785884697206), (5797755, 0.800417326509304), (5899156, 0.7267201302258235)]), (94414824, [(19163641, 0.8533139968994672), (21358206, 0.7837096912508231), (31812483, 0.6912799791078417)]), (28120021, [(8909347, 0.9779369359599659), (15735824, 0.9777253140430755), (19184503, 0.880594171025104)]), (105532281, [(22666446, 0.9753025885739575), (10106290, 0.9408691451399671), (3479446, 0.9308795641831976)]), (127335770, [(13809823, 0.9789568481612445), (15581193, 0.8188176080670106), (16571493, -0.9121182004383166)]), (165209, [(9097877, 0.991503261539629), (10367479, 0.9771585354718386), (3753251, 0.8994411762183661)]), (23636413, [(23951548, 0.978906504073516), (17944165, 0.9747541390119612), (18024054, 0.7718382394906512)]), (54055509, [(13539453, 0.9321043992696155), (10626378, 0.9058989248099834), (11971734, 0.8131792427020051)]), (105632603, [(5185612, 0.9765369275791349), (5665639, 0.9664247013775484), (5665639, 0.9664247013775484)]), (4490693, [(5184871, 0.9559865613880665), (24261748, 0.9131078285923349), (24868069, 0.7573472082237598)]), (22971175, [(6120794, 0.9791663844253841), (11817134, 0.8729751589778635), (15722934, 0.7843427616597355)]), (334412004, [(42885763, 0.527530912587207), (43336673, 0.4429772195458541), (41603084, -0.3983329068203795)]), (33702176, [(17831115, 0.9158651903258817), (22745179, 0.9013704036718595), (17831305, 0.8123655554760614)]), (9740935, [(24932028, 0.9273356297335962), (12367245, 0.4415321351580508)]), (8447578, [(16936558, 0.9649809728954712), (17033435, 0.9128177106117876)]), (192513824, [(20647210, 0.8716731290026872), (20921068, 0.7771751264650677), (24932028, 0.5408257107697574)]), (7813188, [(7534889, 0.9411176422707376), (7534889, 0.9411176422707376), (5809483, 0.7706271279344771)]), (94120052, [(16526824, 0.9993186744153938), (16526824, 0.9993186744153938), (16693418, 0.8695208444465015)]), (20916896, [(10819460, 0.9721427110970196), (9985237, 0.8777056020680617)]), (53854564, [(18759060, 0.7714702311052141), (2868366, 0.7096146668691825), (20060105, 0.5726841572752572)]), (5966796, [(24302260, 0.8829167492666915), (13129971, 0.6707338366751743)]), (45634920, [(14492766, 0.9272744057738687), (11863888, 0.7947716910013656)]), (195192747, [(24979153, 0.9578447567461396), (41604013, 0.9392142815783556), (9464059, 0.8836946409293269)]), (64738613, [(5276634, 0.9418493348968295), (4616537, 0.9417967784167762), (22577633, 0.941565327926289)]), (156851461, [(9716208, 0.4272106459746509), (32411075, 0.18716559251444675), (32411075, 0.18716559251444675)]), (1701429, [(540039, 0.9964733391913289), (1218463, 0.9371591514533638), (8765476, 0.803397744099662)]), (162768565, [(16007789, 0.8093875996711473), (14248210, 0.7845205598556698)]), (257270623, [(39618567, 0.6218817805046681), (39618567, 0.6218817805046681), (39618567, 0.6218817805046681)]), (15500452, [(5908083, 0.9585956520950671), (5424565, 0.8901459725034304), (16774180, 0.7198423382017856)]), (6170456, [(9872354, 0.6914310998396124), (16007789, 0.654532673284549), (16007789, 0.654532673284549)]), (48291812, [(22694427, 0.8214902846183549), (24664051, 0.7221813138407326), (18024054, 0.6819150690301157)]), (351463955, [(24659042, 0.5433400911394916), (24707713, 0.33938780231088517), (24707713, 0.33938780231088517)]), (65877814, [(9716208, 1), (9716208, 1), (9866917, 0.9604711901164531)]), (50787135, [(15774113, 0.8640651973517688), (17410029, 0.6604581113438058), (19580455, 0.6266139339825476)]), (63505380, [(4108082, 0.6255584939123349), (14083824, 0.6252540832210745), (10460541, 0.6247669272540022)]), (10285758, [(15438962, 0.8804082089786311), (16571493, 0.3623424812845865)]), (35355253, [(8508225, 0.7264905165869443), (24463811, 0.6810898126981613), (20794954, 0.6217016487536379)]), (14752368, [(13266699, 0.9824507607699271), (12960218, 0.9807506004214479), (8022978, 0.9790180263208689)]), (57461144, [(8609449, 0.8937708821153502), (16295158, 0.7230666360620579), (14462406, 0.7037843049112067)]), (156948737, [(19379474, 0.8837822037997731), (11971734, 0.6808636099572605), (27089120, -0.33240734825030493)]), (14421758, [(28924202, 0.9837893931894388), (16525305, 0.9574123846980662)]), (20256818, [(12366821, 0.9644506963688169), (10302153, -0.04869380006821811), (24506647, -0.8613102513564362)]), (15681980, [(22038733, 0.9775449404066271), (6830660, 0.9693929965356104), (25793757, 0.9365009456484275)]), (29187853, [(4108082, 0.9589693193860492), (25328461, 0.9198668448808178)]), (112152393, [(40909907, 0.44155646479441957), (40909907, 0.44155646479441957)]), (370280447, [(43337094, 0.6184884195769014), (43337094, 0.6184884195769014)]), (85581986, [(31420451, 0.940087270619695), (29042415, 0.8314784851080264), (1024986, 0.8055299354240806)]), (105629681, [(16291031, 0.9674902254009032), (29454180, 0.9290599662695849), (22745179, 0.9180556514899997)]), (180456441, [(21191824, 0.8235486422879889), (21191824, 0.8235486422879889), (22576423, 0.8122883620967252)]), (20353657, [(4412603, 0.47872599537022376), (4412603, 0.47872599537022376), (4412603, 0.47872599537022376)]), (210065212, [(6147142, 0.9755007823855709), (25353189, 0.9722537501493141)]), (8647834, [(33111749, 0.9251123194441944), (28673109, 0.817137510633162), (20812149, 0.6262019124912106)]), (29831235, [(20039387, 0.9849786373744907), (12998449, 0.9788547499230171), (5897641, 0.9617806663700816)]), (9844408, [(6339047, 0.9458248034975851), (5377148, 0.9134324824296596), (20509542, 0.658424807282145)]), (17744394, [(10398488, 0.9818311511314077), (7152364, 0.9533603676213359), (4309541, 0.9531074177895029)]), (4314979, [(23052272, 0.9695806157562101), (20005185, 0.9234403071161735)]), (97801066, [(18395154, 0.972106573233446), (4008423, 0.694723545074239)]), (156118946, [(606784, 0.9449769496677094), (606784, 0.9449769496677094), (606784, 0.9449769496677094)]), (79169282, [(11381088, 0.9549983637202552), (10819460, 0.9544987777890958), (12947194, 0.8993585728770254)]), (63096743, [(16816372, 0.9656083922602875), (4412603, 0.9164825904768691), (34354471, 0.8830492237835355)]), (6315404, [(5186159, 0.6362990316889564), (4484727, 0.5773868877322784), (4484727, 0.5773868877322784)]), (6245788, [(20040797, 0.7213294842321325), (20040797, 0.7213294842321325)]), (166113078, [(16483770, 0.9582289102499953), (22778183, 0.9181036834309545)]), (5341392, [(5024661, 0.9662736012496507), (20259295, 0.9302518359729788)]), (137653436, [(14731717, 0.9760007581779453), (4008423, 0.9748334222487831), (10479544, 0.9525253330509132)]), (23234381, [(10996427, 0.9782252769157536), (7959059, 0.9272820109162099), (7655771, 0.5432006941153279)]), (36503425, [(747813, 0.9358421704441807), (5472242, 0.9299681363981317), (5472242, 0.9299681363981317)]), (122764509, [(27618712, 0.939085698761756), (12998449, 0.8117666041126528), (16282278, 0.6245732550511506)]), (50402497, [(21244971, 0.812164960528862), (8345350, 0.7352788723142677), (21198261, 0.44424312672152505)]), (132129175, [(6983613, 0.8738358085392496), (7138922, 0.5723853444749653)]), (11773133, [(7054222, 0.8674471212447331), (23052272, 0.8223231386087624), (10814989, 0.7265780853202148)]), (50421712, [(10030097, 0.8658674002619724), (12366821, 0.8656668065096917)]), (3850988, [(20335984, 0.8315072280070573), (11972403, 0.7921187278818362), (28670854, 0.6259666284039533)]), (66110370, [(21305609, 0.9718994961054163), (21305609, 0.9718994961054163), (21305609, 0.9718994961054163)]), (52049436, [(21546999, 0.7353713725151814), (17488498, 0.6704777774720245), (24466269, 0.6255437484188238)]), (41713773, [(1024986, 0.547534619468987), (1024986, 0.547534619468987), (23132022, -0.31351192015818297)]), (431248, [(8264717, 0.8805075924614408), (8264717, 0.8805075924614408)]), (47704630, [(34237086, 0.9347066580586701), (16151194, 0.6605941846485492)]), (19566777, [(28359844, 0.9793443150237795), (3925851, 0.8411044446517001)]), (24212602, [(17856170, 0.9931823769382787), (16411839, 0.9549602167864786), (24984672, 0.953156173923319)]), (151377965, [(42246264, 0.9647354052616424), (27513348, 0.9464852648108406), (35744548, 0.8978814245252079)]), (95228917, [(41604013, 0.6245105108144036), (42885911, 0.624433169760232), (41603861, 0.4426536277957711)]), (16993633, [(8055914, 0.9756761678185739), (5376240, 0.9745248660102325), (3859180, 0.9646783550475228)]), (94360508, [(881683, 0.9236012368468968), (872345, 0.5714981785679727)]), (25237504, [(5809483, 0.9528056300557811), (8038199, 0.8802460431217335)]), (102144613, [(14673023, 0.8310246905125995), (7655771, 0.5725095953245123)]), (10822404, [(15747017, 0.9148803673520647), (35818082, 0.9008717764946413), (34318004, 0.8072016414629455)]), (94889676, [(20112645, 0.9902971594123715), (15536743, 0.9483098879560463)]), (44054194, [(20263356, 0.9821081222975186), (9532788, 0.8619304321036911), (37338933, 0.6250712488954473)]), (31184860, [(11871765, 0.9570654246245673), (15721063, 0.8615352969154094), (10460541, 0.1342806181251447)]), (108995866, [(3460343, 0.7959375667734911), (16773209, 0.6253210947513697)]), (104648363, [(31699339, 0.9472880209741196), (15346634, 0.403534866183755), (28354271, 0.13164587550477191)]), (74407856, [(19184502, 0.7325210928545046), (19184502, 0.7325210928545046)]), (343169583, [(1024986, 0.9150253855608736), (1024986, 0.9150253855608736), (41803435, 0.9038698452485145)]), (146143242, [(15275982, 0.9410954649116834), (9786807, 0.7641676234100196), (9260193, 0.700668870998278)]), (7541326, [(5386637, 0.9893030852604897), (5386637, 0.9893030852604897), (5386637, 0.9893030852604897)]), (120347967, [(17838889, 0.962726347167036), (14305795, 0.9128154145442594), (18998659, 0.909686482909244)]), (29839664, [(5184871, 0.9536049941188693), (5184871, 0.9536049941188693), (5214226, 0.9106867410560924)]), (10222713, [(5897641, 0.9597584261396149), (23052272, 0.7162467728105846), (4069940, 0.6804213669486849)]), (42345337, [(7931127, 0.9405400549622354), (7538532, 0.9162668874994694)]), (67410013, [(10510548, 0.9604826059924465), (10460541, 0.9115721161248761), (16385749, 0.08045190940417823)]), (7187622, [(7381770, 0.9566850902184402), (18450043, 0.8570026375790969), (18450043, 0.8570026375790969)]), (23007954, [(9079545, 0.9187087929210527), (9079545, 0.9187087929210527)]), (343254274, [(4973227, 0.901723439224822), (17928170, 0.7363708939741452), (17928170, 0.7363708939741452)]), (72103666, [(4616523, 0.9381283068364056), (6142880, 0.8221381371920654), (12614519, 0.747649986644355)]), (29351751, [(16989989, 0.8496410079302225), (7399093, 0.6108787115291824), (24000873, 0.44177608566799476)]), (140648665, [(9635192, 0.7776043520960271)]), (2159291, [(12536372, 0.954758647071102), (18881287, 0.9457073738351969), (40168630, 0.7053696553319512)]), (239040300, [(42417293, 0.6448674448225118), (42417293, 0.6448674448225118)]), (11315995, [(4535456, 0.99539233602101), (1991291, 0.9860930419310706), (11871765, 0.9712312529941636)]), (88629461, [(15167230, 0.9109425964472193), (2696834, 0.8550030872682874), (24034891, 0.7649889863521305)]), (38071130, [(7536368, 0.9608524007587445), (16280294, 0.8014585249494116), (15393345, 0.7312097819591509)]), (117574532, [(21941085, 0.557925968952317), (16428014, -0.02372697278486724)]), (34567198, [(3258894, 0.94550894768294), (6034863, 0.7177732309677899), (7350811, 0.6255821328068991)]), (92296775, [(42519651, 0.690786268071645), (43336673, 0.6799945403693347), (43336673, 0.6799945403693347)]), (32349813, [(35818917, 0.44118539661014666), (31201327, 0.44113294154376426)]), (103200615, [(13377049, 0.942318294054658)]), (33727886, [(6959987, 0.12975377495148344), (9563744, -0.3967068327009162)]), (9478087, [(3954113, 0.9643577727866695), (4069940, 0.7705735106167817), (14673023, 0.6460571081952844)]), (33327825, [(23133424, 0.9288253398116227), (21248718, 0.8710851374605235), (18969282, 0.6707108697635935)]), (32887998, [(8180676, 0.9554769433934782), (12614519, 0.8657796021814057), (7930891, 0.8164851311055217)]), (43554110, [(21376468, 0.9726330678401276), (12924827, 0.9497554590596885), (3140972, 0.9229820276021546)]), (133018595, [(18783955, 0.9609009701767747), (11972403, 0.948055560693611)]), (22086017, [(6142181, 0.9977340723839285), (5024661, 0.982984927654218), (7292727, 0.2046200865339569)]), (1103839, [(756267, 0.9874513643836051), (756267, 0.9874513643836051), (819034, 0.8014576087057507)]), (32587225, [(918880, 0.9858006027988697), (7054163, 0.9779662410034504), (9030732, 0.9410705330121785)]), (18953368, [(6068744, 0.9307916744627764), (12906838, 0.9002970238509649), (2085130, 0.7898484583733748)]), (15633568, [(3468326, 0.9672095733241112), (5902912, 0.9291706343976887), (16765018, 0.8946447790528128)]), (188474090, [(16231661, 0.945220268969909), (15895531, 0.8314343873794747), (28813662, 0.5863551816333602)]), (172113827, [(20514799, 0.9474210947889494), (35633646, 0.8845757287016286), (2357514, 0.8830678015020903)]), (37724720, [(11411739, 0.9771164338820019), (4499317, 0.9719367308273444), (30168978, 0.9716553822306774)]), (16326875, [(33499796, 0.91997608397039), (7628360, 0.9118572915313458)]), (7390892, [(16620711, 0.9903871143050176), (29572721, 0.8880044995762855)]), (44791875, [(10381460, 0.9858128148995284), (18131601, 0.9821911940450604)]), (156380908, [(30900595, 0.6812845272036938), (33772739, 0.4235067635816149), (36465054, 0.42295244104753715)]), (30565263, [(9320962, 0.9744075243437331), (27440211, 0.9575176848072212), (9513005, 0.5998667393945314)]), (30457155, [(6183734, 0.9211459684503995), (6117032, 0.7761489194122736), (21457284, 0.1311669973073002)]), (165783591, [(6099703, 0.9386792554919047), (19651474, 0.7484270734947321), (4616523, 0.6258198309197625)]), (27834521, [(7683990, 0.9746293728331752), (4616523, 0.9477529727198286)]), (71965991, [(15394784, 0.4600255101367828), (15394784, 0.4600255101367828), (15536743, 0.12937882501127834)]), (302433021, [(12536372, 0.8582205161389592), (38271051, 0.5871958224747256), (41604541, 0.2529546410569178)]), (86906678, [(21314866, 0.9753475715394297), (25980558, 0.9495024357528146), (11865360, 0.8930007001377497)]), (122905855, [(42078904, 0.8855876220708764), (24707713, 0.6800538600332366), (24707713, 0.6800538600332366)]), (131703666, [(15774113, 0.8767279566017324), (4909244, 0.5974270326114148), (4909244, 0.5974270326114148)]), (9352537, [(8800763, 0.9854117081889753), (21649410, 0.974406937775616), (8264717, 0.943375569890294)]), (5125575, [(241508, 0.996013438768728), (241508, 0.996013438768728), (241503, 0.9926823361745084)]), (153339454, [(19184503, 0.9158609219136132), (19184500, 0.4892658508063053)]), (63687589, [(22561162, 0.9271030580928524), (20207839, 0.79263580266759), (20207839, 0.79263580266759)]), (78780308, [(6475373, 0.9765969539088207), (6663906, 0.9746999762227582), (1271360, 0.9641151315881431)]), (343358833, [(41603861, 0.626178598888664), (39619617, 0.625197630835175)]), (24537361, [(15346634, 0.9858513283105537), (36212391, 0.9502990471621631)]), (134634401, [(11245028, 0.8253329460326227), (20514799, 0.535662663894553)]), (29837638, [(22623221, 0.9661190018357532), (21358206, 0.9415283622530719), (14603307, 0.8480148369649007)]), (130221734, [(23848309, 0.9778272540367174), (19580455, 0.9747679503569742), (27561736, 0.9499474297675138)]), (122949875, [(24644690, 0.9747623113834889)]), (2425605, [(8180676, 0.9368793880881144), (3988536, 0.8717852384280826), (13235212, 0.1310746523480062)]), (26971284, [(18484277, 0.9217864461176581), (23276338, 0.8878415487112706), (6619955, 0.8436947763007933)]), (1733595, [(9402064, 0.9833665123432881), (606784, 0.9616341115849126)]), (13428939, [(21765670, 0.949048051717807), (3863231, 0.8905493005233385), (1521198, 0.8646994211648197)]), (12628366, [(4022486, 0.9318443356195207), (4527878, 0.8544597592371572)]), (124154136, [(41604013, 0.6374798710008335)]), (30622757, [(8348566, 0.9537145662632905), (7039222, 0.9109412182398477), (12219588, 0.8227920843531327)]), (19422089, [(36812514, 0.9250289197184415), (10020663, 0.8679851640980828), (18184250, 0.8568546463005012)]), (60463737, [(8180346, 0.9149340596240075), (20703034, 0.9077022845184011), (24571017, 0.5122774526042034)]), (87916248, [(15848593, 0.631214239741971), (11894606, 0.6121324923987015)]), (51630224, [(17928273, 0.9576218171154407), (18759060, 0.9175483763303328), (15792808, 0.8862552880550596)]), (58406854, [(25918516, 0.9571754817930648), (6921649, 0.6492405877370977)]), (42960858, [(9563744, 0.7499887988886256), (20698050, 0.6859489916003881), (10444041, 0.6244934718543105)]), (444783, [(6983613, 0.8074557433874802), (3144267, 0.8014279013582073), (16412115, 0.7907401419949768)]), (38645709, [(7010048, 0.9927298585978207), (9567575, 0.9654806399252049)]), (8109490, [(5827713, 0.9525541785559466), (5186243, 0.9032032962966304), (5827380, 0.8168231206033857)]), (87839660, [(37655038, -0.22363185961422938)]), (58264439, [(15751335, 0.8711472075598075), (16571437, 0.8395262382263039), (9506967, 0.7240349598805011)]), (23994118, [(20874431, 0.9461002683606262)]), (31270601, [(12299983, 0.9135442422226477), (13462899, 0.45034260441643337), (13462899, 0.45034260441643337)]), (29348403, [(15792808, 0.8074372127366714), (12797883, 0.4941982856066395)]), (37433916, [(24979452, 0.9226511795154997), (16385749, 0.784364144902929), (21605333, 0.7578561769427419)]), (42195867, [(14332372, 0.93325584195821), (14332372, 0.93325584195821), (9915648, -0.511412968811512)]), (10526341, [(13039550, 0.9800144395292252), (19351097, 0.9589562023184586), (20775760, 0.9499102831913344)]), (53105662, [(15274648, 0.8711391552995928), (27078318, 0.8398306349917929), (31527262, 0.8219717009284626)]), (15807919, [(5932439, 0.9725171546100259), (1647014, 0.9504780821257723)]), (19204194, [(13325975, 0.9604571111036466), (17838889, 0.9481029191754171), (3885720, 0.9091749570084964)]), (19369008, [(25892078, 0.9712615825904007), (14397294, 0.7097683750088535), (14377235, 0.4939379969045797)]), (117755828, [(29741816, 0.9741600245225854), (40552643, 0.972799159640488), (25353189, 0.8250374359001352)]), (19869496, [(4990815, 0.9550179419261888), (2129215, 0.9439303692581292)]), (29032611, [(14211027, 0.9520646804326204), (14211027, 0.9520646804326204), (23848309, 0.906110207768355)]), (14728805, [(12299983, 0.9649421466954909), (13462899, 0.9584305119832874), (28417802, 0.8085377589858778)]), (26677040, [(6993627, 0.9633052502295181), (16291031, 0.916200686100842), (7534889, 0.8124898066770736)]), (183666108, [(11750389, 0.980567902863952), (12600629, 0.5700946970475969), (20990821, -0.8791460600167976)]), (495065, [(12463904, 0.9841352043465218), (23673101, 0.9693708562039335)]), (54540853, [(9980935, 0.44689056177667436), (9980935, 0.44689056177667436), (9980935, 0.44689056177667436)]), (22472591, [(6993627, 0.9807110126895061), (14131949, 0.9679602409060672), (14131949, 0.9679602409060672)]), (49153889, [(14492766, 0.8505567535787038), (16741251, 0.3147532413438259)]), (24563867, [(7717118, 0.45632324132344304), (7717118, 0.45632324132344304)]), (52498971, [(14489603, 0.9717151650547808)]), (36974479, [(4645834, 0.7171741515106876)]), (6505059, [(20514799, 0.85008147312904), (8313460, 0.6813191909265078), (25998215, 0.5735155267447442)]), (344154402, [(41603861, 0.7648141659456998), (42079535, 0.6252510182623638)]), (57181754, [(9872354, 0.9664409615796601), (16412115, 0.8715949376858166), (14810638, 0.7097923555847231)]), (28867741, [(982909, 0.8780498561853756), (14100301, 0.6649318676060108), (14100301, 0.6649318676060108)]), (101760737, [(11865360, 0.8015301981163834), (11817134, 0.7094020178501148)]), (49660049, [(6034462, 0.9346089117562222), (7891758, 0.7654391397879126)]), (121013465, [(5129422, 0.9801367768214001), (6242964, 0.9647258924266013), (5276634, 0.9419968287973197)]), (46307557, [(14581356, 0.8907888126408392), (14581356, 0.8907888126408392)]), (34572919, [(22694427, 0.8424492531772614)]), (17504389, [(6120794, 0.995873755937376), (18024054, 0.7720646414662073), (4584539, 0.6907290648584197)]), (10211108, [(15314758, 0.9314615288969963), (4016869, 0.8588826326806831), (14706427, 0.7839252805915874)]), (10267379, [(19651474, 0.636101160000919), (4252548, 0.15217800125263692), (4252548, 0.15217800125263692)]), (49270180, [(3209768, 0.960193707379957), (12762246, 0.7966060920054326), (9466660, 0.7864574152358361)]), (124829259, [(24200482, 0.9523171734348101), (29494102, 0.944904196864732), (2612906, 0.9307443520188791)]), (11569859, [(16412556, 0.984302049662861), (3995441, 0.9621630324769239)]), (74074683, [(17956150, 0.719315620923612), (17956150, 0.719315620923612)]), (42205278, [(17179470, 0.9684038868497844), (21266350, 0.9597137241761446)]), (125757820, [(37440161, 0.9526313835109785), (16863370, 0.8430167080842864), (1678744, 0.3980486481613808)]), (50339301, [(15750877, 0.8880888992286808), (3460343, 0.7180864556296944), (28400701, 0.6673066216939519)]), (20791609, [(15722457, 0.9768518651690813), (8180346, 0.9496014777174732)]), (76381502, [(31390991, 0.8990835365516204), (21854687, 0.8906819311026049), (8198598, 0.46050667225744996)]), (13872581, [(2492539, 1), (2492539, 1), (1302185, 0.9506212346178712)]), (228289951, [(27010290, 0.7268722235483078), (42417293, 0.7119621846897037), (25955418, 0.2740477688532532)]), (54460225, [(21854679, 0.9540002467402647), (21854683, 0.8164142549715937)]), (35259167, [(6888824, 0.9043717994737557)]), (21500879, [(5919270, 0.9904997029772821), (15547717, 0.9296934749783118), (6983613, 0.9219742747598672)]), (2791753, [(11411739, 0.623052735161911), (11411739, 0.623052735161911)]), (247459079, [(43336673, 0.9594911957651062), (21428446, 0.9322720144139462), (44380929, 0.7649505522143941)]), (31948037, [(12257654, 0.9419523800408192), (7808030, 0.8931460177029936), (5897641, 0.5734760166596438)]), (86777848, [(20874431, 0.8777718229790361), (31114726, 0.7445489777753829), (31114726, 0.7445489777753829)]), (172199505, [(16747836, 0.6809379459372724), (18684661, 0.5119243546037201), (5495447, 0.4411375162656918)]), (29429860, [(11865360, 0.9693647081547493), (15747017, 0.9074116008302124), (14682068, 0.8859711836027238)]), (29965776, [(6712575, 0.5681231023978424)]), (29850552, [(11994037, 0.8518163113053884), (20588444, 0.6913937018363525)]), (512992, [(540039, 0.9767793870067164), (540039, 0.9767793870067164), (29579499, 0.9692870516421471)]), (30069896, [(15154001, 0.9884409226115318), (1081816, 0.9837791213817952), (18382074, 0.8983978673285005)]), (226617509, [(11972403, 0.9374708428378491), (11972403, 0.9374708428378491), (11972403, 0.9374708428378491)]), (142921736, [(4431879, 0.9696690762507784), (22457479, 0.885735976106117), (11380721, 0.822238118828132)]), (219556476, [(43337094, 0.6894712987952862), (43336673, 0.6591478482206401), (43379651, 0.6258691479607765)]), (69619318, [(2090132, 0.9724562724151335), (13325975, 0.9584550742969034), (12484261, 0.9432164269906902)]), (3135543, [(21854679, 0.9801332473032653), (21854674, 0.8909175375302354), (21854674, 0.8909175375302354)]), (928947, [(747813, 0.9904001925714848), (747816, 0.9525664139058895), (6826957, 0.9488600820738059)]), (26524510, [(11228389, 0.9816341247783884), (11642766, 0.9679095344521814)]), (150379133, [(16231741, 0.7917380246470158), (16231741, 0.7917380246470158)]), (111277849, [(24506647, 0.9364961827050042), (8313660, 0.8957342074727518)]), (340802244, [(25793757, 0.6248466736300202), (1024986, 0.5141583573524589), (31326007, 0.5097831481898989)]), (4417706, [(13325975, 0.9752277132782878), (8004648, 0.9696042546416539)]), (23331104, [(17949590, 0.9729255283799915), (18114259, 0.9350895736143316), (7814843, 0.8677274435630666)]), (16189978, [(10020663, 0.4949131216941489), (9915648, 0.49481197085667095)]), (545406, [(17831037, 0.932016956188893)]), (133347392, [(2357514, 0.9106743465769346), (4833408, 0.6968476847686189), (4833408, 0.6968476847686189)]), (327611869, [(42417293, 0.618473780673071), (15774113, 0.19258446405047813)]), (52207457, [(16391421, 0.6482101627848496), (34295013, 0.62558379639311)]), (57109850, [(21063861, 0.9464522380824796), (17351596, 0.9443658948234542), (17488629, 0.8905343018919909)]), (125608024, [(25878538, 0.9768671776148792), (25878538, 0.9768671776148792), (11612771, 0.965366682156259)]), (2649695, [(6850935, 0.9557642864651419), (6271100, 0.8996275020673777), (5899156, 0.8119951158277153)]), (21617492, [(4139205, 0.9255605211023219), (15581193, 0.9255242127778407)]), (18251932, [(12805743, 0.9955493478015106), (19236258, 0.9952725420789144)]), (225993076, [(11965790, 0.9256823227773827), (23548801, 0.6493026477252262), (10814989, 0.4424887639472548)]), (38055355, [(16571624, 0.6977547051565979), (16571624, 0.6977547051565979), (8399159, 0.6250543224130114)]), (92546419, [(14095593, 0.8359792890742727)]), (17778129, [(31851838, 0.9962463546225648), (21248885, 0.9899305832921881), (19353251, 0.699816219639878)]), (183316463, [(25044333, 0.8076784865709387), (25044333, 0.8076784865709387), (21358206, 0.7184942121569029)]), (6112841, [(19417657, 0.9600194395931344), (19516846, 0.8759629580920187), (8174505, -0.3995319350508113)]), (150806727, [(16527216, 0.994386875754643), (16525305, 0.9658311446437534), (16525305, 0.9658311446437534)]), (28511590, [(21305609, 0.9693351337510089), (16832754, 0.9154057979313023)]), (243294264, [(29599789, 0.9648261692792319), (28554971, 0.3868782231658703)]), (7465360, [(7827659, 0.9322321780124062), (7827659, 0.9322321780124062), (7517671, 0.3223213008504528)]), (115305240, [(43379651, 0.621798285044092), (42078904, 0.619134337064358), (42417293, -0.09372494168248846)]), (225263042, [(344803, 0.7354141198888913)]), (85640853, [(4484727, 0.971841156982377), (5355703, 0.9492790526662607)]), (98082301, [(369141, 0.9196190123607619), (25012242, 0.8789309353812855), (16571437, 0.6812310167029523)]), (103402461, [(8004648, 0.9904839619414969), (4969309, 0.9288744895688442)]), (31384243, [(14639095, 0.7877159080099556), (14639095, 0.7877159080099556), (14603872, 0.10736010221544401)]), (191958565, [(18850989, 0.7415936047667986), (24659042, 0.3751744606001985)]), (35229980, [(15316856, 0.9396526103158935)]), (34730741, [(20610905, 0.9469704794393232), (19286135, 0.9469432597216115)]), (28492945, [(5186205, 0.934890729374506), (4926634, 0.3832630020897746)]), (153124085, [(28359844, 0.9904483556471482)]), (61572092, [(26232923, 0.9875432234611236), (11972403, 0.9768710219292369), (18755310, 0.9269672661278026)]), (72954058, [(19229162, 0.9376355778626047)]), (48022674, [(15581172, 0.8595702559078663), (19508635, 0.8197879967784462)]), (23711418, [(12906176, 0.936521116942471)]), (178119745, [(14731717, 0.9333216947293272), (25246986, 0.7266855974792622)]), (11715399, [(4271250, 0.9779801594870919), (9901369, 0.9420783444977822)]), (92546906, [(12219588, 0.8479443248960072)])])"
      ]
     },
     "execution_count": 87,
     "metadata": {
      "tags": []
     },
     "output_type": "execute_result"
    }
   ],
   "source": [
    "top3_recommendations.items()"
   ]
  },
  {
   "cell_type": "code",
   "execution_count": 88,
   "metadata": {
    "colab": {
     "base_uri": "https://localhost:8080/",
     "height": 142
    },
    "id": "6dJTwwHLGedl",
    "outputId": "d0a56243-db2f-42fb-a682-34eb46cccffa"
   },
   "outputs": [
    {
     "data": {
      "text/html": [
       "<div>\n",
       "<style scoped>\n",
       "    .dataframe tbody tr th:only-of-type {\n",
       "        vertical-align: middle;\n",
       "    }\n",
       "\n",
       "    .dataframe tbody tr th {\n",
       "        vertical-align: top;\n",
       "    }\n",
       "\n",
       "    .dataframe thead th {\n",
       "        text-align: right;\n",
       "    }\n",
       "</style>\n",
       "<table border=\"1\" class=\"dataframe\">\n",
       "  <thead>\n",
       "    <tr style=\"text-align: right;\">\n",
       "      <th></th>\n",
       "      <th>Recommended Listing Id</th>\n",
       "      <th>Score</th>\n",
       "    </tr>\n",
       "  </thead>\n",
       "  <tbody>\n",
       "    <tr>\n",
       "      <th>0</th>\n",
       "      <td>4541183</td>\n",
       "      <td>0.964334</td>\n",
       "    </tr>\n",
       "    <tr>\n",
       "      <th>1</th>\n",
       "      <td>25328461</td>\n",
       "      <td>0.933863</td>\n",
       "    </tr>\n",
       "    <tr>\n",
       "      <th>2</th>\n",
       "      <td>37655038</td>\n",
       "      <td>0.750542</td>\n",
       "    </tr>\n",
       "  </tbody>\n",
       "</table>\n",
       "</div>"
      ],
      "text/plain": [
       "   Recommended Listing Id     Score\n",
       "0                 4541183  0.964334\n",
       "1                25328461  0.933863\n",
       "2                37655038  0.750542"
      ]
     },
     "execution_count": 88,
     "metadata": {
      "tags": []
     },
     "output_type": "execute_result"
    }
   ],
   "source": [
    "pd.DataFrame(top3_recommendations[29084250], columns = [\"Recommended Listing Id\", \"Score\"])"
   ]
  },
  {
   "cell_type": "code",
   "execution_count": 89,
   "metadata": {
    "id": "ouSNBg-TG9j6"
   },
   "outputs": [],
   "source": [
    "def recommend(reviewer_id): \n",
    "  return pd.DataFrame(top3_recommendations[reviewer_id], columns = [\"Recommended Listing Id\", \"Score\"])"
   ]
  },
  {
   "cell_type": "code",
   "execution_count": 90,
   "metadata": {
    "colab": {
     "base_uri": "https://localhost:8080/",
     "height": 142
    },
    "id": "ybmr3xdBHJxC",
    "outputId": "3ea54897-df10-4d9c-9999-eb33c32baf17"
   },
   "outputs": [
    {
     "data": {
      "text/html": [
       "<div>\n",
       "<style scoped>\n",
       "    .dataframe tbody tr th:only-of-type {\n",
       "        vertical-align: middle;\n",
       "    }\n",
       "\n",
       "    .dataframe tbody tr th {\n",
       "        vertical-align: top;\n",
       "    }\n",
       "\n",
       "    .dataframe thead th {\n",
       "        text-align: right;\n",
       "    }\n",
       "</style>\n",
       "<table border=\"1\" class=\"dataframe\">\n",
       "  <thead>\n",
       "    <tr style=\"text-align: right;\">\n",
       "      <th></th>\n",
       "      <th>Recommended Listing Id</th>\n",
       "      <th>Score</th>\n",
       "    </tr>\n",
       "  </thead>\n",
       "  <tbody>\n",
       "    <tr>\n",
       "      <th>0</th>\n",
       "      <td>4541183</td>\n",
       "      <td>0.964334</td>\n",
       "    </tr>\n",
       "    <tr>\n",
       "      <th>1</th>\n",
       "      <td>25328461</td>\n",
       "      <td>0.933863</td>\n",
       "    </tr>\n",
       "    <tr>\n",
       "      <th>2</th>\n",
       "      <td>37655038</td>\n",
       "      <td>0.750542</td>\n",
       "    </tr>\n",
       "  </tbody>\n",
       "</table>\n",
       "</div>"
      ],
      "text/plain": [
       "   Recommended Listing Id     Score\n",
       "0                 4541183  0.964334\n",
       "1                25328461  0.933863\n",
       "2                37655038  0.750542"
      ]
     },
     "execution_count": 90,
     "metadata": {
      "tags": []
     },
     "output_type": "execute_result"
    }
   ],
   "source": [
    "recommend(29084250)"
   ]
  },
  {
   "cell_type": "code",
   "execution_count": 93,
   "metadata": {
    "id": "0mUbVxjXiDu5"
   },
   "outputs": [],
   "source": [
    "dfo = pd.DataFrame(columns=['UserId', 'Recommended Listing,Rating'])\n",
    "i=0;\n",
    "for uid, user_ratings in top3_recommendations.items():\n",
    "    row = [uid, top3_recommendations[uid]]\n",
    "    dfo.loc[i] = row\n",
    "    i=i+1\n",
    "dfo.to_csv('/content/drive/My Drive/BT4222_Project/submission.csv', index = False)"
   ]
  }
 ],
 "metadata": {
  "colab": {
   "name": "Recommendation_System.ipynb",
   "provenance": [],
   "toc_visible": true
  },
  "kernelspec": {
   "display_name": "Python 3",
   "language": "python",
   "name": "python3"
  },
  "language_info": {
   "codemirror_mode": {
    "name": "ipython",
    "version": 3
   },
   "file_extension": ".py",
   "mimetype": "text/x-python",
   "name": "python",
   "nbconvert_exporter": "python",
   "pygments_lexer": "ipython3",
   "version": "3.8.2"
  }
 },
 "nbformat": 4,
 "nbformat_minor": 1
}
